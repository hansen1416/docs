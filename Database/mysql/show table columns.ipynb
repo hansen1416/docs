{
 "cells": [
  {
   "cell_type": "markdown",
   "metadata": {},
   "source": [
    "get only column name\n",
    "```\n",
    "SELECT column_name\n",
    "FROM information_schema.columns\n",
    "WHERE  table_name = 'your_table'\n",
    "   AND table_schema = 'database_name'\n",
    "```\n",
    "\n",
    "get full column info\n",
    "```\n",
    "SHOW COLUMNS FROM database_name.table_name ;\n",
    "```"
   ]
  }
 ],
 "metadata": {
  "kernelspec": {
   "display_name": "Python 2",
   "language": "python",
   "name": "python2"
  },
  "language_info": {
   "codemirror_mode": {
    "name": "ipython",
    "version": 2
   },
   "file_extension": ".py",
   "mimetype": "text/x-python",
   "name": "python",
   "nbconvert_exporter": "python",
   "pygments_lexer": "ipython2",
   "version": "2.7.13"
  }
 },
 "nbformat": 4,
 "nbformat_minor": 2
}
