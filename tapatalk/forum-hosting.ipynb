{
 "cells": [
  {
   "cell_type": "raw",
   "metadata": {
    "collapsed": true
   },
   "source": [
    "[global_config]  \n",
    "  suppress_multiple_term_dialog = True  \n",
    "[keybindings]  \n",
    "[layouts]  \n",
    "  [[default]]  \n",
    "    [[[child1]]]  \n",
    "      parent = window0  \n",
    "      type = Terminal  \n",
    "    [[[window0]]]  \n",
    "      parent = \"\"  \n",
    "      type = Window  \n",
    "[plugins]  \n",
    "[profiles]  \n",
    "  [[default]]  \n",
    "    background_color = \"#300A24\"  \n",
    "    background_image = None  \n",
    "    foreground_color = \"#FFFFFF\"  \n"
   ]
  },
  {
   "cell_type": "code",
   "execution_count": null,
   "metadata": {
    "collapsed": true
   },
   "outputs": [],
   "source": [
    "prune_all_forums\n",
    "# delete old topics of all forums"
   ]
  },
  {
   "cell_type": "code",
   "execution_count": null,
   "metadata": {
    "collapsed": true
   },
   "outputs": [],
   "source": [
    "prune_forum\n",
    "# delete old topic of a single forum"
   ]
  },
  {
   "cell_type": "code",
   "execution_count": null,
   "metadata": {
    "collapsed": true
   },
   "outputs": [],
   "source": [
    "prune_notifications\n",
    "#Prune notifications cron task.\n",
    "\n",
    "# notifications_table is forum related\n",
    "$sql = 'DELETE FROM ' . $this->notifications_table . '\n",
    "\t\t\tWHERE notification_time < ' . (int) $timestamp .\n",
    "\t\t\t(($only_read) ? ' AND notification_read = 1' : '');"
   ]
  },
  {
   "cell_type": "code",
   "execution_count": null,
   "metadata": {
    "collapsed": true
   },
   "outputs": [],
   "source": [
    "prune_shadow_topics\n",
    "# Prune one forum of its shadow topics cron task.\n",
    "\n",
    "\n",
    "$sql = 'SELECT forum_name\n",
    "\t\t\tFROM ' . FORUMS_TABLE . \"\n",
    "\t\t\tWHERE forum_id = $forum_id\";\n",
    "$result = $this->db->sql_query($sql, 3600);\n",
    "$row = $this->db->sql_fetchrow($result);\n",
    "$this->db->sql_freeresult($result);\n",
    "\n",
    "if ($row)\n",
    "{\n",
    "    $prune_date = time() - ($prune_days * 86400);\n",
    "    $next_prune = time() + ($prune_freq * 86400);\n",
    "\n",
    "    prune($forum_id, $prune_mode, $prune_date, $prune_flags, true);\n",
    "\n",
    "    $sql = 'UPDATE ' . FORUMS_TABLE . \"\n",
    "        SET prune_shadow_next = $next_prune\n",
    "        WHERE forum_id = $forum_id\";\n",
    "    $this->db->sql_query($sql);\n",
    "\n",
    "    $user_id = (empty($this->user->data)) ? ANONYMOUS : $this->user->data['user_id'];\n",
    "    $user_ip = (empty($this->user->ip)) ? '' : $this->user->ip;\n",
    "\n",
    "    $this->log->add('admin', $user_id, $user_ip, 'LOG_PRUNE_SHADOW', false, array($row['forum_name']));\n",
    "}"
   ]
  },
  {
   "cell_type": "code",
   "execution_count": null,
   "metadata": {
    "collapsed": true
   },
   "outputs": [],
   "source": [
    "queue\n",
    "# email and jabber queue"
   ]
  },
  {
   "cell_type": "code",
   "execution_count": null,
   "metadata": {
    "collapsed": true
   },
   "outputs": [],
   "source": [
    "tidy_cache\n",
    "# have no idea what is auto GC, this is forum related.\n",
    "\n",
    "\n",
    "global $config;\n",
    "\n",
    "# cache has auto GC, no need to have any code here :)\n",
    "$config->set('cache_last_gc', time(), false);\n"
   ]
  },
  {
   "cell_type": "code",
   "execution_count": null,
   "metadata": {
    "collapsed": true
   },
   "outputs": [],
   "source": [
    "tidy_database\n",
    "# forum id related\n",
    "\n",
    "\n",
    "global $config, $db;\n",
    "\n",
    "# Here we check permission consistency\n",
    "\n",
    "# Sometimes, it can happen permission tables having forums listed which do not exist\n",
    "$sql = 'SELECT forum_id\n",
    "    FROM ' . FORUMS_TABLE;\n",
    "$result = $db->sql_query($sql);\n",
    "\n",
    "$forum_ids = array(0);\n",
    "while ($row = $db->sql_fetchrow($result))\n",
    "{\n",
    "    $forum_ids[] = $row['forum_id'];\n",
    "}\n",
    "$db->sql_freeresult($result);\n",
    "\n",
    "# Delete those rows from the acl tables not having listed the forums above\n",
    "$sql = 'DELETE FROM ' . ACL_GROUPS_TABLE . '\n",
    "    WHERE ' . $db->sql_in_set('forum_id', $forum_ids, true);\n",
    "$db->sql_query($sql);\n",
    "\n",
    "$sql = 'DELETE FROM ' . ACL_USERS_TABLE . '\n",
    "    WHERE ' . $db->sql_in_set('forum_id', $forum_ids, true);\n",
    "$db->sql_query($sql);\n",
    "\n",
    "$config->set('database_last_gc', time(), false);"
   ]
  },
  {
   "cell_type": "code",
   "execution_count": null,
   "metadata": {
    "collapsed": true
   },
   "outputs": [],
   "source": [
    "tidy_plupload\n",
    "# clear old upload images, dont really know what is this about"
   ]
  },
  {
   "cell_type": "code",
   "execution_count": null,
   "metadata": {
    "collapsed": true
   },
   "outputs": [],
   "source": [
    "tidy_search\n",
    "# empty"
   ]
  },
  {
   "cell_type": "code",
   "execution_count": null,
   "metadata": {
    "collapsed": true
   },
   "outputs": [],
   "source": [
    "tidy_sessions\n",
    "# forum and user related, not a good idea to use as system cron\n",
    "\n",
    "\n",
    "('session_gc','3600',0), \n",
    "\n",
    "\n",
    "function session_gc()\n",
    "\n",
    "$sql = 'DELETE FROM ' . SESSIONS_TABLE . '\n",
    "\t\t\tWHERE session_user_id = ' . ANONYMOUS . '\n",
    "\t\t\t\tAND session_time < ' . (int) ($this->time_now - $config['session_length']);\n",
    "        \n",
    "while\n",
    "$sql = 'DELETE FROM ' . SESSIONS_TABLE . '\n",
    "\t\t\t\tWHERE ' . $db->sql_in_set('session_user_id', $del_user_id) . '\n",
    "\t\t\t\t\tAND session_time < ' . ($this->time_now - $config['session_length']);\n",
    "        \n",
    "$sql = 'DELETE FROM ' . SESSIONS_KEYS_TABLE . '\n",
    "\t\t\t\t\tWHERE last_login < ' . (time() - (86400 * (int) $config['max_autologin_time']));\n",
    "\t\t\t\t$db->sql_query($sql);\n",
    "                \n",
    "$sql = 'DELETE FROM ' . LOGIN_ATTEMPT_TABLE . '\n",
    "\t\t\t\tWHERE attempt_time < ' . (time() - (int) $config['ip_login_limit_time']);"
   ]
  },
  {
   "cell_type": "code",
   "execution_count": null,
   "metadata": {
    "collapsed": true
   },
   "outputs": [],
   "source": [
    "tidy_warnings\n",
    "# delete warnings of current forum\n",
    "\n",
    "\n",
    "('warnings_gc','14400',0), \n",
    "\n",
    "\n",
    "global $db, $config;\n",
    "\n",
    "$expire_date = time() - ($config['warnings_expire_days'] * 86400);\n",
    "$warning_list = $user_list = array();\n",
    "\n",
    "$sql = 'SELECT * FROM ' . WARNINGS_TABLE . \"\n",
    "    WHERE warning_time < $expire_date\";\n",
    "$result = $db->sql_query($sql);\n",
    "\n",
    "while ($row = $db->sql_fetchrow($result))\n",
    "{\n",
    "    $warning_list[] = $row['warning_id'];\n",
    "    $user_list[$row['user_id']] = isset($user_list[$row['user_id']]) ? ++$user_list[$row['user_id']] : 1;\n",
    "}\n",
    "$db->sql_freeresult($result);\n",
    "\n",
    "if (sizeof($warning_list))\n",
    "{\n",
    "    $db->sql_transaction('begin');\n",
    "\n",
    "    $sql = 'DELETE FROM ' . WARNINGS_TABLE . '\n",
    "        WHERE ' . $db->sql_in_set('warning_id', $warning_list);\n",
    "    $db->sql_query($sql);\n",
    "\n",
    "    foreach ($user_list as $user_id => $value)\n",
    "    {\n",
    "        $sql = 'UPDATE ' . USERS_TABLE . \" SET user_warnings = user_warnings - $value\n",
    "            WHERE user_id = $user_id\";\n",
    "        $db->sql_query($sql);\n",
    "    }\n",
    "\n",
    "    $db->sql_transaction('commit');\n",
    "}\n",
    "\n",
    "$config->set('warnings_last_gc', time(), false);"
   ]
  }
 ],
 "metadata": {
  "kernelspec": {
   "display_name": "Python 2",
   "language": "python",
   "name": "python2"
  },
  "language_info": {
   "codemirror_mode": {
    "name": "ipython",
    "version": 2
   },
   "file_extension": ".py",
   "mimetype": "text/x-python",
   "name": "python",
   "nbconvert_exporter": "python",
   "pygments_lexer": "ipython2",
   "version": "2.7.13"
  }
 },
 "nbformat": 4,
 "nbformat_minor": 2
}
