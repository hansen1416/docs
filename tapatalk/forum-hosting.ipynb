{
 "cells": [
  {
   "cell_type": "markdown",
   "metadata": {},
   "source": [
    "## check mutiple subscription\n",
    "## check header color problem\n",
    "\n",
    "### fix header style, ucp->overview->front page style, header simple for acp\n",
    "\n",
    "### guest like\n",
    "### tapatalk.com CSRF fix\n",
    "\n",
    "逐步取消custom css on mobile (1/10)\n",
    "\n",
    "timezone on IE DST issue.\n",
    "\n",
    "for NSFW site, also hide custom option in acp\n",
    "\n",
    "未激活的的用户无法创建group，页面做限制，逻辑做限制\n",
    "\n",
    "加x到rules,recent join, remmber last close/view memberlist cookie time.\n",
    "share post, hilight the post postview 高亮边框\n",
    "signature links target=_blank\n",
    "\n",
    "fix search route\n",
    "\n",
    "146634 论坛连续两次购买了premium membership\n",
    "\n",
    "permission need to hide, \n",
    "- can send email\n",
    "- can change username\n",
    "\n",
    "\n",
    "?XDEBUG_SESSION_START=16902"
   ]
  },
  {
   "cell_type": "markdown",
   "metadata": {},
   "source": [
    "### filter atteachment comment\n",
    "<script>\n",
    "    $(function () {\n",
    "\n",
    "        (function () {\n",
    "\n",
    "            var target = document.getElementById('file-list');\n",
    "            var config = {childList: true};\n",
    "            var callback = function (mutationsList) {\n",
    "                for(var i in mutationsList) {\n",
    "                    if (mutationsList.hasOwnProperty(i) && mutationsList[i].type == 'childList')\n",
    "                    {\n",
    "                        var id = mutationsList[i].addedNodes[0].id;\n",
    "\n",
    "                        $('#' + id).find('.attach-comment-textarea').on('change keyup', function() {\n",
    "                            var val = $(this).val();\n",
    "                            var re = /\\[(\\w+)[^\\]]*](.*?)\\[\\/\\1]/g;\n",
    "                            $(this).val(val.replace(re, ''));\n",
    "                        });\n",
    "\n",
    "//                        $(mutationsList[i].addedNodes[0]).find('.attach-comment-textarea').on('change', function(){\n",
    "//                            console.log($(this));\n",
    "//                            return value.replace(/[^ -~]/g, '');\n",
    "//                        });\n",
    "                    }\n",
    "                }\n",
    "            };\n",
    "\n",
    "            var observer = new MutationObserver(callback);\n",
    "\n",
    "            observer.observe(target, config);\n",
    "\n",
    "        })();\n",
    "    });\n",
    "</script>"
   ]
  },
  {
   "cell_type": "markdown",
   "metadata": {},
   "source": [
    "ERROR id:14366 fid:115484\n",
    "ERROR id:14374 fid:115814\n",
    "ERROR id:14382 fid:116325\n",
    "ERROR id:14384 fid:116522\n",
    "ERROR id:14897 fid:116628\n",
    "ERROR id:14387 fid:116787\n",
    "ERROR id:14405 fid:117513\n",
    "ERROR id:14411 fid:117964\n",
    "ERROR id:14419 fid:118676\n",
    "ERROR id:14935 fid:118695\n",
    "ERROR id:14423 fid:118999\n",
    "ERROR id:14432 fid:119522\n",
    "ERROR id:14954 fid:119709\n",
    "ERROR id:14462 fid:123450\n",
    "ERROR id:14464 fid:125005\n",
    "ERROR id:14466 fid:125680\n",
    "ERROR id:14471 fid:127529\n",
    "ERROR id:14482 fid:1523474\n",
    "ERROR id:14492 fid:1540082\n",
    "ERROR id:14629 fid:1926113\n",
    "ERROR id:14645 fid:1932239\n",
    "ERROR id:15170 fid:1932686\n",
    "ERROR id:14648 fid:1933846\n",
    "ERROR id:14649 fid:1934168\n",
    "ERROR id:14650 fid:1934296\n",
    "ERROR id:14654 fid:1935338\n",
    "ERROR id:14655 fid:1935519\n",
    "ERROR id:14658 fid:1935538\n",
    "ERROR id:14659 fid:1935575\n",
    "ERROR id:14660 fid:1935606\n",
    "ERROR id:14661 fid:1935665\n",
    "ERROR id:14662 fid:1935724\n",
    "ERROR id:14665 fid:1935760\n",
    "ERROR id:14666 fid:1935774\n",
    "ERROR id:15692 fid:1935818\n",
    "ERROR id:14668 fid:1935851\n",
    "ERROR id:14669 fid:1935857\n",
    "ERROR id:14671 fid:1935893\n",
    "ERROR id:14673 fid:1935926\n",
    "ERROR id:14675 fid:1935978\n",
    "ERROR id:14676 fid:1936007\n",
    "ERROR id:14679 fid:1936078\n",
    "ERROR id:14680 fid:1936081\n",
    "ERROR id:15706 fid:1936112\n",
    "ERROR id:14681 fid:1936141\n",
    "ERROR id:14684 fid:1936245\n",
    "ERROR id:14687 fid:1936301\n",
    "ERROR id:14688 fid:1936305\n",
    "ERROR id:14689 fid:1936308\n",
    "ERROR id:14693 fid:1936446\n",
    "ERROR id:14694 fid:1936455\n",
    "ERROR id:14696 fid:1936467\n",
    "ERROR id:14705 fid:1940085\n",
    "ERROR id:14708 fid:1940688\n",
    "ERROR id:14709 fid:1941004\n",
    "ERROR id:14714 fid:1942069\n",
    "ERROR id:14715 fid:1942075\n",
    "ERROR id:14716 fid:1942076\n",
    "ERROR id:14717 fid:1942109\n",
    "ERROR id:65 fid:1942188\n",
    "ERROR id:10130 fid:1942188\n",
    "ERROR id:14721 fid:1942201\n",
    "ERROR id:14723 fid:1942278\n",
    "ERROR id:15781 fid:1966031\n",
    "ERROR id:11348 fid:1973232"
   ]
  },
  {
   "cell_type": "markdown",
   "metadata": {},
   "source": [
    "deleted Premium10 bug in ttg_goldpoint_history 11991-11995, subscribed premium tier 6 times."
   ]
  },
  {
   "cell_type": "markdown",
   "metadata": {},
   "source": [
    "recalculate gold point.\n",
    "use only ttg_gold_point_hitory\n",
    "\n",
    "\n",
    "[Response Body] => {\"result\":false,\"api_key\":\"86F75C37951B7A69A5175C3618008947\",\"forum_info\":{\"forum_id\":2028079,\"forum_logo\":\"\",\"banner_enable\":1,\"facebook_enable\":-1,\"twitter_enable\":-1,\"google_enable\":-1,\"twitter_account\":false,\"file_redirect\":0,\"image_redirect\":0,\"track_tag\":0,\"tag_id\":\"425016\",\"byo_info\":{\"app_ios_aid\":\"\",\"app_android_id\":\"com.quoord.tapatalkpro.activity\",\"app_android_aid\":\"\",\"app_alert_message\":\"Read forum faster on mobile. Get the Free Tapatalk app?\",\"app_banner_message_ios\":\"Read forum faster on mobile. Get the Free Tapatalk app?\",\"app_android_description\":\"Tapatalk connects to over 100,000 online forums worldwide. Post easily with unlimited Photo and Video sharing and instant push notifications. Tapatalk forever change the way you interact with online forums on mobile.\",\"forum_id\":\"2028079\",\"app_banner_message_android\":\"Read forum faster on mobile. Get the Free Tapatalk app?\",\"app_alert_status\":\"0\",\"app_name\":\"Tapatalk\",\"app_url_scheme\":\"tapatalk\",\"app_icon_url\":\"\",\"app_ios_description\":\"Tapatalk connects to over 100,000 online forums worldwide. Post easily with unlimited Photo and Video sharing and instant push notifications. Tapatalk forever change the way you interact with online forums on mobile.\",\"app_ios_id\":\"307880732\",\"app_rebranding_id\":\"90\"},\"group_info\":{\"name\":\"jaytest923\",\"description\":\"default style testing\",\"logo\":\"\",\"logo_display\":1,\"cover\":\"\",\"web_ads\":0,\"web_ads_guest\":1,\"language\":\"en\",\"country\":\"US\",\"color_1\":\"\",\"piwik_id\":0,\"custom_domain\":false,\"tier\":0,\"gold_point\":0,\"brand_nav\":1,\"brand_app_download\":1}}}\n"
   ]
  },
  {
   "cell_type": "markdown",
   "metadata": {},
   "source": [
    "# NOMOREQUICKCHANGE"
   ]
  },
  {
   "cell_type": "markdown",
   "metadata": {},
   "source": [
    "- tapatalk.com,  winter提的issue要修\n",
    "- ttg 默认头尾的颜色要改变"
   ]
  },
  {
   "cell_type": "markdown",
   "metadata": {},
   "source": [
    "define(\"PAYPAL_PREMIUM_PLAN1\", \"P-1CM50901UM855411S276YSDA\");\n",
    "define(\"PAYPAL_PREMIUM_PLAN2\", \"P-6BP24878HE2195525276ZWGY\");\n",
    "define(\"PAYPAL_PREMIUM_PLAN3\", \"P-15V33115YN784303N2762X5I\");\n",
    "define(\"PAYPAL_PREMIUM_PLAN5\", \"P-42175876WU482692C2764SWI\");\n",
    "define(\"PAYPAL_PREMIUM_PLAN10\", \"P-48H13679XE9721938277FMDY\");\n",
    "define(\"PAYPAL_PREMIUM_PLAN20\", \"P-0EP67098S7658322M277GQFQ\");\n",
    "define(\"PAYPAL_PREMIUM_PLAN50\", \"P-7KP61944PJ359484M277HTZQ\");\n",
    "define(\"PAYPAL_PREMIUM_PLAN100\", \"P-70W770302Y617983A277IWAI\");\n",
    "\n",
    "\n",
    "INSERT INTO `quoord_taptaptalk`.`forums_settings` (`fid`, `name`, `value`, `updated`) VALUES ('2020728', 'gold_point', '1000', '2017-12-18 12:55:09');\n",
    "\n",
    "\n",
    "eval:if(isset($hs_forum_data['forum_tier']) && $hs_forum_data['forum_tier'] == 1 && !empty($config['googleanalytics_id'])) { $value = $config['googleanalytics_id']; $allow_vars[] = $var; } else{ $value = 'UA-97701219-1'; if(isset($hs_forum_data['source_forum_network']) && !empty($hs_forum_data['source_forum_network'])) { switch ($hs_forum_data['source_forum_network']) { case 'prophpbb.com': $value = 'UA-97701219-4'; break; case 'freeforums.org': $value = 'UA-97701219-3'; break; case 'yuku.com': $value = 'UA-97701219-2'; break; case 'myfreeforum': $value = 'UA-97701219-5'; break; case 'invisionfree.com': $value = 'UA-97701219-7'; break;} }}\n",
    "\n",
    "\n",
    "eval:if(isset($hs_forum_data['forum_tier']) && $hs_forum_data['forum_tier'] == 1 && !empty($config['googleanalytics_id'])) { $value = $config['googleanalytics_id']; $allow_vars[] = $var; } else{ $value = 'UA-97701219-1'; if(isset($hs_forum_data['source_forum_network'])) { switch ($hs_forum_data['source_forum_network']) { case 'prophpbb.com': $value = 'UA-97701219-4'; break; case 'freeforums.org': $value = 'UA-97701219-3'; break; case 'yuku.com': $value = 'UA-97701219-2'; break; case 'myfreeforum': $value = 'UA-97701219-5'; break; case 'invisionfree.com': $value = 'UA-97701219-7'; break; case '': $value = 'UA-97701219-8'; break;} }}\n",
    "\n",
    "\n",
    "分类标题换行\n",
    "1. 头像改小\n",
    "3. 标题大一号\n",
    "5. 换行的标题间距缩小\n",
    "\n",
    "\n",
    ".com\n",
    "1. 导航没有垂直居中\n",
    "2. 右边图标和文字间距大了一点"
   ]
  },
  {
   "cell_type": "markdown",
   "metadata": {},
   "source": [
    "- 分类名 padding 不对  没有适配字体高度， 移动 DISCUSSION 页面的 Forum title  到  帖子名称下面\n",
    "- static page change, wechat yujia\n",
    "- premium membership/donation compatible light mode\n",
    "- welcome message, white background. if edited show it again\n",
    "- remove left icon from forum list, forum replay title 只显示一行，后面溢出部分用...替换\n",
    "- fix buckyville cover photo by js\n",
    "- TTID NEW USER EXPERIENCE 游客查看别人的 profile groups 没有出现\n",
    "\n",
    "---\n",
    "\n",
    "- follow up remove default logo issue\n",
    "- TTID NEW USER EXPERIENCE seems we don't use that position in the new home page\n",
    "- TTID NEW USER EXPERIENCE e.g. for our forum it should be \"tapatalksupport\"\n",
    "- TTID NEW USER EXPERIENCE 侧边栏文字修改，样式修复\n",
    "- add reset button to groups, remove hover underline\n",
    "- change phpbb logo in acp to tapatalk logo\n",
    "- paypal transaction id change. check sub status before cancel sub. paypal add forum name in subscribe description\n",
    "- move redis logic in PaymentComponent to TtgPaymentHistory model \n",
    "- offical website, IE11 issue\n",
    "- wechat change, remove default logo maybe difficult, try to do it on upload side.\n",
    "- remove .navbar_footer\n",
    "- update donatin paypal subscribe plan\n",
    "- paypal refund\n",
    "- https://github.com/tapatalk/tapatalk.com/issues/1873\n",
    "- https://github.com/tapatalk/tapatalk.com/issues/1872\n",
    "- https://github.com/tapatalk/tapatalk.com/issues/1866\n",
    "- hide default logo, if there is no custom logo given (message in wechat)\n",
    "- top nav bar mouse hover show dropdown.\n",
    "- notification check icon moving as mouse hover\n",
    "- user unexists in n54supporttest2\n",
    "- mail: Old link redirection and SEO\n",
    "- Add main donate button below stripe and paypal button\n",
    "- fix create forum mobile style on tapatalk.com\n",
    "- change update gold point loop, delete old ones before loop.\n",
    "- fix firefox anoymous user click issue, javascript:void(0) will open a new tab on firefox\n",
    "- add a tab to siteowners admin\n",
    "- fix header, theme color"
   ]
  },
  {
   "cell_type": "markdown",
   "metadata": {},
   "source": [
    "\n",
    "- 加字段 webhoook_id goods tapatalk_id\n",
    "- 加表 ttg_premium_members\n",
    "- 做退款，取消premium资格\n",
    "- V3 doantion 记录中加判断，看是否是donation\n",
    "- 取 redis 中的 Premium 记录，让用户可以subscribe 和 unsubscribe\n",
    "- 在user对象中加入 premium 状态，在升级到 Premium 之前判断用户是否已经是 Premium\n",
    "- 对于有 Premium 状态的用户  加徽章\n",
    "- fix v3 ads setting.\n",
    "- premium member badge\n",
    "- get notification from ajax\n",
    "- change premium members ads logic,\n",
    "- 修改 push goldpoint loop 判断 goods\n",
    "- 做push Premium loop 将过期的 Premium 移出用户组\n",
    "- premium member ads\n",
    "- upgrade block shwo to guests, if user is paied premium, hide it, if expired show it.\n",
    "- change donation email subject  https://mail.google.com/mail/u/0/?tab=wm#all/15fa19e42d51622e\n",
    "- payment history ajax, upgrade premium UI change\n",
    "- premium history ajax call\n",
    "- check edge cookie. https://mail.google.com/mail/u/0/?tab=wm#label/To+do+mail/15fa46ba21f2fe14\n",
    "- light mode fix\n",
    "- remove brand powered by\n",
    "- refund webhook, for both donation and premium\n",
    "- optimize shallUserNoAds, save is user no ads to redis, and isUserSupporterByUserId\n",
    "- remove donation less than 5 log\n",
    "- fix advertisement control user group select style.\n",
    "\n",
    "---\n",
    "\n",
    "- 分类名 padding 不对  没有适配字体高度， 移动 DISCUSSION 页面的 Forum title  到  帖子名称下面\n",
    "- static page change, wechat yujia\n",
    "- wechat change, remove default logo matbe difficult, try to do it on upload side.\n",
    "- remove .navbar_footer\n",
    "- update donatin paypal subscribe plan\n",
    "- paypal refund\n",
    "- https://github.com/tapatalk/tapatalk.com/issues/1873\n",
    "- https://github.com/tapatalk/tapatalk.com/issues/1872\n",
    "- https://github.com/tapatalk/tapatalk.com/issues/1866\n",
    "- hide default logo, if there is no custom logo given (message in wechat)\n",
    "- top nav bar mouse hover show dropdown.\n",
    "- notification check icon moving as mouse hover\n",
    "- user unexists in n54supporttest2\n",
    "- mail: Old link redirection and SEO\n",
    "- Add main donate button below stripe and paypal button\n",
    "- fix create forum mobile style on tapatalk.com\n",
    "- change update gold point loop, delete old ones before loop.\n",
    "- fix firefox anoymous user click issue, javascript:void(0) will open a new tab on firefox\n",
    "- add a tab to siteowners admin\n",
    "- fix header, theme color\n",
    "\n",
    "### premium\n",
    "*\n",
    "- TTG\n",
    "- 付款成功后将用户移动到 vip group\n",
    "- 在论坛和post处判断 Premium 权限，添加提示信息\n",
    "- V3\n",
    "- 再付款成功之后，存储/更新 Premium 的过期时间，新表\n",
    "- 在取消，退款操作之后，更新 Premium 的过期时间\n",
    "- cron\n",
    "- 每小时查看Premium的过期时间，通过 api 将用户从 Premium组里面移除\n",
    "*"
   ]
  },
  {
   "cell_type": "markdown",
   "metadata": {},
   "source": [
    "- 手动退款数据  doantion  quoord_taptaptalk.ttg_goldpoint_history  id:3468 "
   ]
  },
  {
   "cell_type": "markdown",
   "metadata": {},
   "source": [
    "- forum_id\n",
    "- user_id\n",
    "- created_at\n",
    "- updated_at\n",
    "- expire_at\n",
    "\n",
    "*\n",
    "create a table in hs core  \n",
    "use cron to monitor this table, and remove user from premium group\n",
    "*\n",
    "\n",
    "加字段 webhoook_id goods tapatalk_id\n",
    "加表 ttg_premium_members\n",
    "做退款，取消premium资格\n",
    "V3 doantion 记录中加判断，看是否是donation\n",
    "修改 push goldpoint loop 判断 goods\n",
    "做push Premium loop 将过期的 Premium 移出用户组\n",
    "ttg\n",
    "取 redis 中的 Premium 记录，让用户可以subscribe 和 unsubscribe\n",
    "在user对象中加入 premium 状态，在升级到 Premium 之前判断用户是否已经是 Premium\n",
    "对于有 Premium 状态的用户  加徽章"
   ]
  },
  {
   "cell_type": "markdown",
   "metadata": {},
   "source": [
    "### 1101\n",
    "\n",
    "- switch paypal and stripe button position\n",
    "- mail: Notification email doesn't open to the right post\n",
    "- mail: layout with subforum icon\n",
    "- combine css to one file.\n",
    "\n",
    "---\n",
    "\n",
    "- top nav bar mouse hover show dropdown.\n",
    "- notification check icon moving as mouse hover\n",
    "- user unexists in n54supporttest2\n",
    "- mail: Old link redirection and SEO\n",
    "- fix advertisement control user group select style.\n",
    "- remove donation less than 5 log\n",
    "- optimize shallUserNoAds, save is user no ads to redis, and isUserSupporterByUserId\n",
    "- Add main donate button below stripe and paypal button\n",
    "- fix create forum mobile style on tapatalk.com\n",
    "- change update gold point loop, delete old ones before loop.\n",
    "- fix firefox anoymous user click issue, javascript:void(0) will open a new tab on firefox\n",
    "- donation refund\n",
    "- add a tab to siteowners admin\n",
    "- fix header, theme color\n",
    "\n",
    "### premium\n",
    "*\n",
    "TTG\n",
    "付款成功后将用户移动到 vip group\n",
    "在论坛和post处判断 Premium 权限，添加提示信息\n",
    "V3\n",
    "再付款成功之后，存储/更新 Premium 的过期时间，新表\n",
    "在取消，退款操作之后，更新 Premium 的过期时间\n",
    "cron\n",
    "每小时查看Premium的过期时间，通过 api 将用户从 Premium组里面移除\n",
    "*"
   ]
  },
  {
   "cell_type": "markdown",
   "metadata": {},
   "source": [
    "## 1027\n",
    "\n",
    "---\n",
    "\n",
    "- switch paypal and stripe button position\n",
    "- fix advertisement control user group select style.\n",
    "- remove donation less than 5 log\n",
    "- optimize shallUserNoAds, save is user no ads to redis, and isUserSupporterByUserId\n",
    "- Add main donate button below stripe and paypal button\n",
    "- fix create forum mobile style on tapatalk.com\n",
    "- change update gold point loop, delete old ones before loop.\n",
    "- fix firefox anoymous user click issue, javascript:void(0) will open a new tab on firefox\n",
    "- donation refund\n",
    "- add a tab to siteowners admin\n",
    "- fix header, theme color"
   ]
  },
  {
   "cell_type": "markdown",
   "metadata": {},
   "source": [
    "## 1026\n",
    "\n",
    "- one time amount and per month amount sync.\n",
    "- mails until payment description\n",
    "- static page changes mentioned in wechat. a lot.\n",
    "\n",
    "---\n",
    "\n",
    "- fix advertisement control user group select style.\n",
    "- remove donation less than 5 log\n",
    "- optimize shallUserNoAds, save is user no ads to redis, and isUserSupporterByUserId\n",
    "- Add main donate button below stripe and paypal button\n",
    "- fix create forum mobile style on tapatalk.com\n",
    "- change update gold point loop, delete old ones before loop.\n",
    "- fix firefox anoymous user click issue, javascript:void(0) will open a new tab on firefox\n",
    "- donation refund\n",
    "- add a tab to siteowners admin\n",
    "- fix header, theme color"
   ]
  },
  {
   "cell_type": "markdown",
   "metadata": {},
   "source": [
    "## 1025\n",
    "- wording vertical align center and width to be 980px\n",
    "- image rotate when picture from ios.\n",
    "\n",
    "----\n",
    "- one time amount and per month amount sync.\n",
    "- fix advertisement control user group select style.\n",
    "- static page changes mentioned in wechat. a lot.\n",
    "- mails until payment description\n",
    "- remove donation less than 5 log\n",
    "- optimize shallUserNoAds, save is user no ads to redis, and isUserSupporterByUserId\n",
    "- Add main donate button below stripe and paypal button\n",
    "- fix create forum mobile style on tapatalk.com\n",
    "- change update gold point loop, delete old ones before loop.\n",
    "- fix firefox anoymous user click issue, javascript:void(0) will open a new tab on firefox\n",
    "- donation refund\n",
    "- add a tab to siteowners admin\n",
    "- fix header, theme color"
   ]
  },
  {
   "cell_type": "markdown",
   "metadata": {},
   "source": [
    "## 1020\n",
    "\n",
    "----\n",
    "- optimize shallUserNoAds, save is user no ads to redis, and isUserSupporterByUserId\n",
    "- Add main donate button below stripe and paypal button\n",
    "- fix create forum mobile style on tapatalk.com\n",
    "- change update gold point loop, delete old ones before loop.\n",
    "- fix firefox anoymous user click issue, javascript:void(0) will open a new tab on firefox\n",
    "- donation refund\n",
    "- add a tab to siteowners admin\n",
    "- fix header, theme color"
   ]
  },
  {
   "cell_type": "markdown",
   "metadata": {},
   "source": [
    "## 1019\n",
    "- fix .com/error page style\n",
    "- create forum button disable after created.\n",
    "\n",
    "----\n",
    "- optimize shallUserNoAds, save is user no ads to redis, and isUserSupporterByUserId\n",
    "- Add main donate button below stripe and paypal button\n",
    "- fix create forum mobile style on tapatalk.com\n",
    "- change update gold point loop, delete old ones before loop.\n",
    "- fix firefox anoymous user click issue, javascript:void(0) will open a new tab on firefox\n",
    "- donation refund\n",
    "- add a tab to siteowners admin\n",
    "- fix header, theme color"
   ]
  },
  {
   "cell_type": "markdown",
   "metadata": {},
   "source": [
    "## 1011\n",
    "  \n",
    "- IPB4.2 instruction\n",
    "- click postimage open two tabs on firefox, https://www.tapatalk.com/groups/tapatalksupport/more-image-problems-t37897-s10.html\n",
    "- profile links open new tab and goes to the link in the original tab, https://www.tapatalk.com/groups/tapatalksupport/viewtopic.php?t=37871\n",
    "- remove words below paypal button\n",
    "\n",
    "---\n",
    "\n",
    "- add forum url to transaction profile\n",
    "- change update gold point loop, delete old ones before loop.\n",
    "- fix firefox anoymous user click issue, javascript:void(0) will open a new tab on firefox\n",
    "- fix .com/error page style\n",
    "- add a tab to siteowners admin\n",
    "- forum name to short, overflow ecllipse\n",
    "- fix header, theme color\n",
    "- donation refund"
   ]
  },
  {
   "cell_type": "markdown",
   "metadata": {},
   "source": [
    "## 0930\n",
    "- nonexisting group and inactive group go to /error/page\n",
    "- ads control, show ads on ucp, memberlist, posting\n",
    "- gold point control tab, FO can withdraw Gold Points from system\n",
    "- profile badge, mobile click display, display left\n",
    "- add email after donation made.\n",
    "- change email logic in taptalk/push   EmailTransaction->getUserEmailById\n",
    "- fix IE edge issue tapatalk.com 1826\n",
    "---\n",
    "- change update gold point loop, delete old ones before loop.\n",
    "- fix firefox anoymous user click issue, javascript:void(0) will open a new tab on firefox\n",
    "- fix .com/error page style\n",
    "- add a tab to siteowners admin\n",
    "- forum name to short, overflow ecllipse\n",
    "- fix header, theme color\n",
    "- donation refund"
   ]
  },
  {
   "cell_type": "markdown",
   "metadata": {},
   "source": [
    "## 0927\n",
    "\n",
    "- supporter black bubble, \"supporter\"\n",
    "- navigation bar hover shadow and dropdown top\n",
    "- forum name text ecllipse\n",
    "---\n",
    "- profile badge, mobile click display, display left\n",
    "- nonexisting group and inactive group go to /error/page\n",
    "- copy TT to V3\n",
    "- donation refund"
   ]
  },
  {
   "cell_type": "markdown",
   "metadata": {},
   "source": [
    "## 0924\n",
    "- stripe fail message\n",
    "- payment history not showing for jaytest6\n",
    "- static create forum page\n",
    "- custom field width https://www.tapatalk.com/groups/tapatalksupport/viewtopic.php?p=194032#p194032&utm_medium=email\n",
    "----\n",
    "- navigation bar hover shadow and dropdown top\n",
    "- forum name text ecllipse\n",
    "- copy TT to V3\n",
    "- supporter black bubble, \"supporter\"\n",
    "- donation refund"
   ]
  },
  {
   "cell_type": "markdown",
   "metadata": {},
   "source": [
    "## 0921\n",
    "\n",
    "- prodile show message and followgin button, redirect to login, and redirect back\n",
    "- profile cancel subscription, double check\n",
    "- change stripe window logo\n",
    "- open v3 on new tab\n",
    "- disable donation hide everything\n",
    "- donation_messgae always 1\n",
    "- recent donaition\n",
    "- stage show donation control and banner\n",
    "- config loop at push server\n",
    "- add keywords to header\n",
    "- hide top gold point\n",
    "- control rencent donation display\n",
    "- mobile display\n",
    "- fix git issue\n",
    "- v3 donation message words limit\n",
    "- gold point not showing for test9\n",
    "- anonymous user hover pointer\n",
    "-----\n",
    "- navigation bar hover shadow and dropdown top\n",
    "- forum name text ecllipse\n",
    "- stripe fail message\n",
    "- copy TT to V3\n"
   ]
  },
  {
   "cell_type": "raw",
   "metadata": {},
   "source": [
    "update vendor\n",
    "\n",
    "add env.ini under /var/tapatalk/config/    redis config\n",
    "\n",
    "add     define(\"STRIPE_SECRET\",\n",
    "    define(\"STRIPE_PUBLISH_KEY\",\n",
    "    define(\"STRIPE_TEST_SECRET\",\n",
    "    define(\"STRIPE_TEST_PUBLISH_KEY\",\n",
    "    define(\"STRIPE_CONNEECT_CLIENT_ID\",\n",
    "    define(\"PAYPAL_ID\"\n",
    "    define(\"PAYPAL_SECRET\",\n",
    "    define(\"PAYPAL_ID_DEV\",\n",
    "    define(\"PAYPAL_SECRET_DEV\",\n",
    "    define(\"PAYPAL_PLAN1\",\n",
    "    define(\"PAYPAL_PLAN2\",\n",
    "    define(\"PAYPAL_PLAN3\"\n",
    "    define(\"PAYPAL_PLAN4\"\n",
    "    \n",
    "    to /var/tapatalk/config/hs_config.php\n",
    "    \n",
    "    \n",
    "vendor/paypal/ chmod -R 777\n",
    "\n",
    "\n",
    "siteowner\n",
    "define(\"PAYPAL_WEBHOOK_ID\",\n",
    "define(\"PAYPAL_PLAN1\",\n",
    "define(\"PAYPAL_PLAN2\",\n",
    "define(\"PAYPAL_PLAN3\",\n",
    "define(\"PAYPAL_PLAN4\",\n",
    "\n",
    "define('STRIPE_WEBHOOK_KEY')"
   ]
  },
  {
   "cell_type": "raw",
   "metadata": {},
   "source": [
    "get tapatalk_push_key   \n",
    "pass md5(tapatalk_push_key) to payment\n",
    "get md5 key from forum redis will get tapatalk forum_id\n",
    "save gold_point to forum_setting user tapatalk forum_id"
   ]
  },
  {
   "cell_type": "raw",
   "metadata": {},
   "source": [
    "top bar background light\n",
    "profile styles\n",
    "    edit admin ban permission icon to words\n",
    "    online dot, remove link color, PM to message, icons change\n",
    "    show origin avartar image\n",
    "------------------------    \n",
    "So we will have two buttons MESSAGE and FOLLOW/FOLLOWING, move the word \"Add foe\"/\"Remove foe\" below username the same line as \"Administratr\", \"Banning\" .etc\n",
    "\n",
    "sub nav bar to header area\n",
    "sub forum image cascading to topics"
   ]
  },
  {
   "cell_type": "markdown",
   "metadata": {},
   "source": [
    "- subscribe forum remove check   summer issue"
   ]
  },
  {
   "cell_type": "markdown",
   "metadata": {},
   "source": [
    "- *link to postlink*  \n",
    "- *rank words samller*\n",
    "- *space behind colon*  \n",
    "- custom field line height smaller  \n",
    "- avartar and post image, open image in new tab   \n",
    "- add for/add friend behavior change  \n",
    "---\n",
    "- space before brace  \n",
    "- popup instruction smaller\n",
    "- guest can donate and subscribe\n",
    "- don't show stripe subscribe for guest, hide bloew instruction for guest\n",
    "- money input number verify, words color black and bigger\n",
    "- donate button bigger and shadow\n",
    "- show forum month to date donation, limit only show 20 donation users\n",
    "- add badge\n",
    "- payment button\n",
    "---\n",
    "- no ads for user donate more than 5\n",
    "\n"
   ]
  },
  {
   "cell_type": "markdown",
   "metadata": {},
   "source": [
    "improve payment log"
   ]
  },
  {
   "cell_type": "markdown",
   "metadata": {},
   "source": [
    "### ads display logic\n",
    "\n",
    "So I always read the last time they donated more than $5, and start from that time, the next 30days ads free for this user on this forum.   \n",
    "So only this forum the user donated not affect anywhere else.   \n",
    "if user donated and no ads for this user, do not send piwik setCustomRequestProcessing   "
   ]
  },
  {
   "cell_type": "markdown",
   "metadata": {},
   "source": [
    "## gold point related logic\n",
    "\n",
    "- 只要用户捐款过，并且大于等于$5，就有badge，永久性不取消，但是如果发生过退款，并且在退款之后没有再出现过大于等于$5的捐款，badge会消失\n",
    "- premium membership 每次付款只管一个月，一个月后扣款失败或者取消就什么都没有了  包括badge"
   ]
  },
  {
   "cell_type": "markdown",
   "metadata": {},
   "source": [
    "# stripe\n",
    "\n",
    "- secret key\n",
    "- publish key\n",
    "- webhook id\n",
    "\n",
    "predefine plan   \n",
    "ttg-plan-5   \n",
    "ttg-plan-10   \n",
    "ttg-plan-20   \n",
    "ttg-plan-50   "
   ]
  },
  {
   "cell_type": "markdown",
   "metadata": {},
   "source": [
    "# paypal\n",
    "\n",
    "- secret key\n",
    "- id\n",
    "- webhook id\n",
    "- pre created plan id\n",
    "\n",
    " P-85B51934HR366033R6NL4HOI  \n",
    " P-8WC32343GB638993T6NL5X5I  \n",
    " P-5AA8532540701822A6NMAKRI  \n",
    " P-703578150N255713S6NMGW6Y  \n"
   ]
  },
  {
   "cell_type": "code",
   "execution_count": null,
   "metadata": {
    "collapsed": true
   },
   "outputs": [],
   "source": [
    "\n",
    "\n",
    "<EMBED src=\"http://denvish.net/ulf/1168708510_crazy.swf\" autostart=\"true\" loop=\"true\" hidden=\"true\"><objec"
   ]
  },
  {
   "cell_type": "code",
   "execution_count": null,
   "metadata": {
    "collapsed": true
   },
   "outputs": [],
   "source": [
    "prune_all_forums\n",
    "# delete old topics of all forums"
   ]
  },
  {
   "cell_type": "code",
   "execution_count": null,
   "metadata": {
    "collapsed": true
   },
   "outputs": [],
   "source": [
    "prune_forum\n",
    "# delete old topic of a single forum"
   ]
  },
  {
   "cell_type": "code",
   "execution_count": null,
   "metadata": {
    "collapsed": true
   },
   "outputs": [],
   "source": [
    "prune_notifications\n",
    "#Prune notifications cron task.\n",
    "\n",
    "# notifications_table is forum related\n",
    "$sql = 'DELETE FROM ' . $this->notifications_table . '\n",
    "\t\t\tWHERE notification_time < ' . (int) $timestamp .\n",
    "\t\t\t(($only_read) ? ' AND notification_read = 1' : '');"
   ]
  },
  {
   "cell_type": "code",
   "execution_count": null,
   "metadata": {
    "collapsed": true
   },
   "outputs": [],
   "source": [
    "prune_shadow_topics\n",
    "# Prune one forum of its shadow topics cron task.\n",
    "\n",
    "\n",
    "$sql = 'SELECT forum_name\n",
    "\t\t\tFROM ' . FORUMS_TABLE . \"\n",
    "\t\t\tWHERE forum_id = $forum_id\";\n",
    "$result = $this->db->sql_query($sql, 3600);\n",
    "$row = $this->db->sql_fetchrow($result);\n",
    "$this->db->sql_freeresult($result);\n",
    "\n",
    "if ($row)\n",
    "{\n",
    "    $prune_date = time() - ($prune_days * 86400);\n",
    "    $next_prune = time() + ($prune_freq * 86400);\n",
    "\n",
    "    prune($forum_id, $prune_mode, $prune_date, $prune_flags, true);\n",
    "\n",
    "    $sql = 'UPDATE ' . FORUMS_TABLE . \"\n",
    "        SET prune_shadow_next = $next_prune\n",
    "        WHERE forum_id = $forum_id\";\n",
    "    $this->db->sql_query($sql);\n",
    "\n",
    "    $user_id = (empty($this->user->data)) ? ANONYMOUS : $this->user->data['user_id'];\n",
    "    $user_ip = (empty($this->user->ip)) ? '' : $this->user->ip;\n",
    "\n",
    "    $this->log->add('admin', $user_id, $user_ip, 'LOG_PRUNE_SHADOW', false, array($row['forum_name']));\n",
    "}"
   ]
  },
  {
   "cell_type": "code",
   "execution_count": null,
   "metadata": {
    "collapsed": true
   },
   "outputs": [],
   "source": [
    "queue\n",
    "# email and jabber queue"
   ]
  },
  {
   "cell_type": "code",
   "execution_count": null,
   "metadata": {
    "collapsed": true
   },
   "outputs": [],
   "source": [
    "tidy_cache\n",
    "# have no idea what is auto GC, this is forum related.\n",
    "\n",
    "\n",
    "global $config;\n",
    "\n",
    "# cache has auto GC, no need to have any code here :)\n",
    "$config->set('cache_last_gc', time(), false);\n"
   ]
  },
  {
   "cell_type": "code",
   "execution_count": null,
   "metadata": {
    "collapsed": true
   },
   "outputs": [],
   "source": [
    "tidy_database\n",
    "# forum id related\n",
    "\n",
    "\n",
    "global $config, $db;\n",
    "\n",
    "# Here we check permission consistency\n",
    "\n",
    "# Sometimes, it can happen permission tables having forums listed which do not exist\n",
    "$sql = 'SELECT forum_id\n",
    "    FROM ' . FORUMS_TABLE;\n",
    "$result = $db->sql_query($sql);\n",
    "\n",
    "$forum_ids = array(0);\n",
    "while ($row = $db->sql_fetchrow($result))\n",
    "{\n",
    "    $forum_ids[] = $row['forum_id'];\n",
    "}\n",
    "$db->sql_freeresult($result);\n",
    "\n",
    "# Delete those rows from the acl tables not having listed the forums above\n",
    "$sql = 'DELETE FROM ' . ACL_GROUPS_TABLE . '\n",
    "    WHERE ' . $db->sql_in_set('forum_id', $forum_ids, true);\n",
    "$db->sql_query($sql);\n",
    "\n",
    "$sql = 'DELETE FROM ' . ACL_USERS_TABLE . '\n",
    "    WHERE ' . $db->sql_in_set('forum_id', $forum_ids, true);\n",
    "$db->sql_query($sql);\n",
    "\n",
    "$config->set('database_last_gc', time(), false);"
   ]
  },
  {
   "cell_type": "code",
   "execution_count": null,
   "metadata": {
    "collapsed": true
   },
   "outputs": [],
   "source": [
    "tidy_plupload\n",
    "# clear old upload images, dont really know what is this about"
   ]
  },
  {
   "cell_type": "code",
   "execution_count": null,
   "metadata": {
    "collapsed": true
   },
   "outputs": [],
   "source": [
    "tidy_search\n",
    "# empty"
   ]
  },
  {
   "cell_type": "code",
   "execution_count": null,
   "metadata": {
    "collapsed": true
   },
   "outputs": [],
   "source": [
    "tidy_sessions\n",
    "# forum and user related, not a good idea to use as system cron\n",
    "\n",
    "\n",
    "('session_gc','3600',0), \n",
    "\n",
    "\n",
    "function session_gc()\n",
    "\n",
    "$sql = 'DELETE FROM ' . SESSIONS_TABLE . '\n",
    "\t\t\tWHERE session_user_id = ' . ANONYMOUS . '\n",
    "\t\t\t\tAND session_time < ' . (int) ($this->time_now - $config['session_length']);\n",
    "        \n",
    "while\n",
    "$sql = 'DELETE FROM ' . SESSIONS_TABLE . '\n",
    "\t\t\t\tWHERE ' . $db->sql_in_set('session_user_id', $del_user_id) . '\n",
    "\t\t\t\t\tAND session_time < ' . ($this->time_now - $config['session_length']);\n",
    "        \n",
    "$sql = 'DELETE FROM ' . SESSIONS_KEYS_TABLE . '\n",
    "\t\t\t\t\tWHERE last_login < ' . (time() - (86400 * (int) $config['max_autologin_time']));\n",
    "\t\t\t\t$db->sql_query($sql);\n",
    "                \n",
    "$sql = 'DELETE FROM ' . LOGIN_ATTEMPT_TABLE . '\n",
    "\t\t\t\tWHERE attempt_time < ' . (time() - (int) $config['ip_login_limit_time']);"
   ]
  },
  {
   "cell_type": "code",
   "execution_count": null,
   "metadata": {
    "collapsed": true
   },
   "outputs": [],
   "source": [
    "tidy_warnings\n",
    "# delete warnings of current forum\n",
    "\n",
    "\n",
    "('warnings_gc','14400',0), \n",
    "\n",
    "\n",
    "global $db, $config;\n",
    "\n",
    "$expire_date = time() - ($config['warnings_expire_days'] * 86400);\n",
    "$warning_list = $user_list = array();\n",
    "\n",
    "$sql = 'SELECT * FROM ' . WARNINGS_TABLE . \"\n",
    "    WHERE warning_time < $expire_date\";\n",
    "$result = $db->sql_query($sql);\n",
    "\n",
    "while ($row = $db->sql_fetchrow($result))\n",
    "{\n",
    "    $warning_list[] = $row['warning_id'];\n",
    "    $user_list[$row['user_id']] = isset($user_list[$row['user_id']]) ? ++$user_list[$row['user_id']] : 1;\n",
    "}\n",
    "$db->sql_freeresult($result);\n",
    "\n",
    "if (sizeof($warning_list))\n",
    "{\n",
    "    $db->sql_transaction('begin');\n",
    "\n",
    "    $sql = 'DELETE FROM ' . WARNINGS_TABLE . '\n",
    "        WHERE ' . $db->sql_in_set('warning_id', $warning_list);\n",
    "    $db->sql_query($sql);\n",
    "\n",
    "    foreach ($user_list as $user_id => $value)\n",
    "    {\n",
    "        $sql = 'UPDATE ' . USERS_TABLE . \" SET user_warnings = user_warnings - $value\n",
    "            WHERE user_id = $user_id\";\n",
    "        $db->sql_query($sql);\n",
    "    }\n",
    "\n",
    "    $db->sql_transaction('commit');\n",
    "}\n",
    "\n",
    "$config->set('warnings_last_gc', time(), false);"
   ]
  }
 ],
 "metadata": {
  "kernelspec": {
   "display_name": "Python 2",
   "language": "python",
   "name": "python2"
  },
  "language_info": {
   "codemirror_mode": {
    "name": "ipython",
    "version": 2
   },
   "file_extension": ".py",
   "mimetype": "text/x-python",
   "name": "python",
   "nbconvert_exporter": "python",
   "pygments_lexer": "ipython2",
   "version": "2.7.13"
  }
 },
 "nbformat": 4,
 "nbformat_minor": 2
}
