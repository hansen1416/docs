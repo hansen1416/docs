{
 "cells": [
  {
   "cell_type": "markdown",
   "metadata": {},
   "source": [
    "## 0914\n",
    "\n",
    "- change forum control flag, flag from V3\n",
    "\n",
    "- fix tapatalk create forum bug \n",
    "- v3 donation control page    remove balance column\n",
    "- donatin amount minimum $5, change bottom instruction\n",
    "- ask yanjun what issue needs to fix before submit to WP server\n",
    "- submit gold point to WP server, use real account for paypal/stripe\n",
    "- Freeforums.org header change + Tapatalk.com/Groups landing page, use tapatalk header footer style.\n",
    "\n"
   ]
  },
  {
   "cell_type": "raw",
   "metadata": {},
   "source": [
    "forum_id\n",
    "user_id\n",
    "payment_id\n",
    "money\n",
    "platform(stripe/paypal)\n",
    "type(donate/subscribe)\n",
    "plan_id\n",
    "customer_id (stripe only)\n",
    "action\n",
    "created_at"
   ]
  },
  {
   "cell_type": "raw",
   "metadata": {},
   "source": [
    "update vendor\n",
    "\n",
    "add env.ini under /var/tapatalk/config/    redis config\n",
    "\n",
    "add     define(\"STRIPE_SECRET\",\n",
    "    define(\"STRIPE_PUBLISH_KEY\",\n",
    "    define(\"STRIPE_TEST_SECRET\",\n",
    "    define(\"STRIPE_TEST_PUBLISH_KEY\",\n",
    "    define(\"STRIPE_CONNEECT_CLIENT_ID\",\n",
    "    define(\"PAYPAL_ID\"\n",
    "    define(\"PAYPAL_SECRET\",\n",
    "    define(\"PAYPAL_ID_DEV\",\n",
    "    define(\"PAYPAL_SECRET_DEV\",\n",
    "    define(\"PAYPAL_PLAN1\",\n",
    "    define(\"PAYPAL_PLAN2\",\n",
    "    define(\"PAYPAL_PLAN3\"\n",
    "    define(\"PAYPAL_PLAN4\"\n",
    "    \n",
    "    to /var/tapatalk/config/hs_config.php\n",
    "    \n",
    "    \n",
    "\n",
    "\n",
    "\n",
    "siteowner\n",
    "define(\"PAYPAL_WEBHOOK_ID\",\n",
    "define(\"PAYPAL_PLAN1\",\n",
    "define(\"PAYPAL_PLAN2\",\n",
    "define(\"PAYPAL_PLAN3\",\n",
    "define(\"PAYPAL_PLAN4\",\n",
    "\n",
    "define('STRIPE_WEBHOOK_KEY')"
   ]
  },
  {
   "cell_type": "raw",
   "metadata": {},
   "source": [
    "get tapatalk_push_key   \n",
    "pass md5(tapatalk_push_key) to payment\n",
    "get md5 key from forum redis will get tapatalk forum_id\n",
    "save gold_point to forum_setting user tapatalk forum_id"
   ]
  },
  {
   "cell_type": "raw",
   "metadata": {},
   "source": [
    "top bar background light\n",
    "profile styles\n",
    "    edit admin ban permission icon to words\n",
    "    online dot, remove link color, PM to message, icons change\n",
    "    show origin avartar image\n",
    "------------------------    \n",
    "So we will have two buttons MESSAGE and FOLLOW/FOLLOWING, move the word \"Add foe\"/\"Remove foe\" below username the same line as \"Administratr\", \"Banning\" .etc\n",
    "\n",
    "sub nav bar to header area\n",
    "sub forum image cascading to topics"
   ]
  },
  {
   "cell_type": "markdown",
   "metadata": {},
   "source": [
    "- subscribe forum remove check   summer issue"
   ]
  },
  {
   "cell_type": "markdown",
   "metadata": {},
   "source": [
    "- *link to postlink*  \n",
    "- *rank words samller*\n",
    "- *space behind colon*  \n",
    "- custom field line height smaller  \n",
    "- avartar and post image, open image in new tab   \n",
    "- add for/add friend behavior change  \n",
    "---\n",
    "- space before brace  \n",
    "- popup instruction smaller\n",
    "- guest can donate and subscribe\n",
    "- don't show stripe subscribe for guest, hide bloew instruction for guest\n",
    "- money input number verify, words color black and bigger\n",
    "- donate button bigger and shadow\n",
    "- show forum month to date donation, limit only show 20 donation users\n",
    "- add badge\n",
    "- payment button\n",
    "---\n",
    "- no ads for user donate more than 5\n",
    "\n"
   ]
  },
  {
   "cell_type": "markdown",
   "metadata": {},
   "source": [
    "improve payment log"
   ]
  },
  {
   "cell_type": "markdown",
   "metadata": {},
   "source": [
    "### ads display logic\n",
    "\n",
    "So I always read the last time they donated more than $5, and start from that time, the next 30days ads free for this user on this forum.   \n",
    "So only this forum the user donated not affect anywhere else.   \n",
    "if user donated and no ads for this user, do not send piwik setCustomRequestProcessing   "
   ]
  },
  {
   "cell_type": "markdown",
   "metadata": {},
   "source": [
    "# stripe\n",
    "\n",
    "- secret key\n",
    "- publish key\n",
    "- webhook id\n",
    "\n",
    "predefine plan   \n",
    "ttg-plan-5   \n",
    "ttg-plan-10   \n",
    "ttg-plan-20   \n",
    "ttg-plan-50   "
   ]
  },
  {
   "cell_type": "markdown",
   "metadata": {},
   "source": [
    "# paypal\n",
    "\n",
    "- secret key\n",
    "- id\n",
    "- webhook id\n",
    "- pre created plan id\n",
    "\n",
    " P-85B51934HR366033R6NL4HOI  \n",
    " P-8WC32343GB638993T6NL5X5I  \n",
    " P-5AA8532540701822A6NMAKRI  \n",
    " P-703578150N255713S6NMGW6Y  \n"
   ]
  },
  {
   "cell_type": "code",
   "execution_count": null,
   "metadata": {
    "collapsed": true
   },
   "outputs": [],
   "source": [
    "\n",
    "\n",
    "<EMBED src=\"http://denvish.net/ulf/1168708510_crazy.swf\" autostart=\"true\" loop=\"true\" hidden=\"true\"><objec"
   ]
  },
  {
   "cell_type": "code",
   "execution_count": null,
   "metadata": {
    "collapsed": true
   },
   "outputs": [],
   "source": [
    "prune_all_forums\n",
    "# delete old topics of all forums"
   ]
  },
  {
   "cell_type": "code",
   "execution_count": null,
   "metadata": {
    "collapsed": true
   },
   "outputs": [],
   "source": [
    "prune_forum\n",
    "# delete old topic of a single forum"
   ]
  },
  {
   "cell_type": "code",
   "execution_count": null,
   "metadata": {
    "collapsed": true
   },
   "outputs": [],
   "source": [
    "prune_notifications\n",
    "#Prune notifications cron task.\n",
    "\n",
    "# notifications_table is forum related\n",
    "$sql = 'DELETE FROM ' . $this->notifications_table . '\n",
    "\t\t\tWHERE notification_time < ' . (int) $timestamp .\n",
    "\t\t\t(($only_read) ? ' AND notification_read = 1' : '');"
   ]
  },
  {
   "cell_type": "code",
   "execution_count": null,
   "metadata": {
    "collapsed": true
   },
   "outputs": [],
   "source": [
    "prune_shadow_topics\n",
    "# Prune one forum of its shadow topics cron task.\n",
    "\n",
    "\n",
    "$sql = 'SELECT forum_name\n",
    "\t\t\tFROM ' . FORUMS_TABLE . \"\n",
    "\t\t\tWHERE forum_id = $forum_id\";\n",
    "$result = $this->db->sql_query($sql, 3600);\n",
    "$row = $this->db->sql_fetchrow($result);\n",
    "$this->db->sql_freeresult($result);\n",
    "\n",
    "if ($row)\n",
    "{\n",
    "    $prune_date = time() - ($prune_days * 86400);\n",
    "    $next_prune = time() + ($prune_freq * 86400);\n",
    "\n",
    "    prune($forum_id, $prune_mode, $prune_date, $prune_flags, true);\n",
    "\n",
    "    $sql = 'UPDATE ' . FORUMS_TABLE . \"\n",
    "        SET prune_shadow_next = $next_prune\n",
    "        WHERE forum_id = $forum_id\";\n",
    "    $this->db->sql_query($sql);\n",
    "\n",
    "    $user_id = (empty($this->user->data)) ? ANONYMOUS : $this->user->data['user_id'];\n",
    "    $user_ip = (empty($this->user->ip)) ? '' : $this->user->ip;\n",
    "\n",
    "    $this->log->add('admin', $user_id, $user_ip, 'LOG_PRUNE_SHADOW', false, array($row['forum_name']));\n",
    "}"
   ]
  },
  {
   "cell_type": "code",
   "execution_count": null,
   "metadata": {
    "collapsed": true
   },
   "outputs": [],
   "source": [
    "queue\n",
    "# email and jabber queue"
   ]
  },
  {
   "cell_type": "code",
   "execution_count": null,
   "metadata": {
    "collapsed": true
   },
   "outputs": [],
   "source": [
    "tidy_cache\n",
    "# have no idea what is auto GC, this is forum related.\n",
    "\n",
    "\n",
    "global $config;\n",
    "\n",
    "# cache has auto GC, no need to have any code here :)\n",
    "$config->set('cache_last_gc', time(), false);\n"
   ]
  },
  {
   "cell_type": "code",
   "execution_count": null,
   "metadata": {
    "collapsed": true
   },
   "outputs": [],
   "source": [
    "tidy_database\n",
    "# forum id related\n",
    "\n",
    "\n",
    "global $config, $db;\n",
    "\n",
    "# Here we check permission consistency\n",
    "\n",
    "# Sometimes, it can happen permission tables having forums listed which do not exist\n",
    "$sql = 'SELECT forum_id\n",
    "    FROM ' . FORUMS_TABLE;\n",
    "$result = $db->sql_query($sql);\n",
    "\n",
    "$forum_ids = array(0);\n",
    "while ($row = $db->sql_fetchrow($result))\n",
    "{\n",
    "    $forum_ids[] = $row['forum_id'];\n",
    "}\n",
    "$db->sql_freeresult($result);\n",
    "\n",
    "# Delete those rows from the acl tables not having listed the forums above\n",
    "$sql = 'DELETE FROM ' . ACL_GROUPS_TABLE . '\n",
    "    WHERE ' . $db->sql_in_set('forum_id', $forum_ids, true);\n",
    "$db->sql_query($sql);\n",
    "\n",
    "$sql = 'DELETE FROM ' . ACL_USERS_TABLE . '\n",
    "    WHERE ' . $db->sql_in_set('forum_id', $forum_ids, true);\n",
    "$db->sql_query($sql);\n",
    "\n",
    "$config->set('database_last_gc', time(), false);"
   ]
  },
  {
   "cell_type": "code",
   "execution_count": null,
   "metadata": {
    "collapsed": true
   },
   "outputs": [],
   "source": [
    "tidy_plupload\n",
    "# clear old upload images, dont really know what is this about"
   ]
  },
  {
   "cell_type": "code",
   "execution_count": null,
   "metadata": {
    "collapsed": true
   },
   "outputs": [],
   "source": [
    "tidy_search\n",
    "# empty"
   ]
  },
  {
   "cell_type": "code",
   "execution_count": null,
   "metadata": {
    "collapsed": true
   },
   "outputs": [],
   "source": [
    "tidy_sessions\n",
    "# forum and user related, not a good idea to use as system cron\n",
    "\n",
    "\n",
    "('session_gc','3600',0), \n",
    "\n",
    "\n",
    "function session_gc()\n",
    "\n",
    "$sql = 'DELETE FROM ' . SESSIONS_TABLE . '\n",
    "\t\t\tWHERE session_user_id = ' . ANONYMOUS . '\n",
    "\t\t\t\tAND session_time < ' . (int) ($this->time_now - $config['session_length']);\n",
    "        \n",
    "while\n",
    "$sql = 'DELETE FROM ' . SESSIONS_TABLE . '\n",
    "\t\t\t\tWHERE ' . $db->sql_in_set('session_user_id', $del_user_id) . '\n",
    "\t\t\t\t\tAND session_time < ' . ($this->time_now - $config['session_length']);\n",
    "        \n",
    "$sql = 'DELETE FROM ' . SESSIONS_KEYS_TABLE . '\n",
    "\t\t\t\t\tWHERE last_login < ' . (time() - (86400 * (int) $config['max_autologin_time']));\n",
    "\t\t\t\t$db->sql_query($sql);\n",
    "                \n",
    "$sql = 'DELETE FROM ' . LOGIN_ATTEMPT_TABLE . '\n",
    "\t\t\t\tWHERE attempt_time < ' . (time() - (int) $config['ip_login_limit_time']);"
   ]
  },
  {
   "cell_type": "code",
   "execution_count": null,
   "metadata": {
    "collapsed": true
   },
   "outputs": [],
   "source": [
    "tidy_warnings\n",
    "# delete warnings of current forum\n",
    "\n",
    "\n",
    "('warnings_gc','14400',0), \n",
    "\n",
    "\n",
    "global $db, $config;\n",
    "\n",
    "$expire_date = time() - ($config['warnings_expire_days'] * 86400);\n",
    "$warning_list = $user_list = array();\n",
    "\n",
    "$sql = 'SELECT * FROM ' . WARNINGS_TABLE . \"\n",
    "    WHERE warning_time < $expire_date\";\n",
    "$result = $db->sql_query($sql);\n",
    "\n",
    "while ($row = $db->sql_fetchrow($result))\n",
    "{\n",
    "    $warning_list[] = $row['warning_id'];\n",
    "    $user_list[$row['user_id']] = isset($user_list[$row['user_id']]) ? ++$user_list[$row['user_id']] : 1;\n",
    "}\n",
    "$db->sql_freeresult($result);\n",
    "\n",
    "if (sizeof($warning_list))\n",
    "{\n",
    "    $db->sql_transaction('begin');\n",
    "\n",
    "    $sql = 'DELETE FROM ' . WARNINGS_TABLE . '\n",
    "        WHERE ' . $db->sql_in_set('warning_id', $warning_list);\n",
    "    $db->sql_query($sql);\n",
    "\n",
    "    foreach ($user_list as $user_id => $value)\n",
    "    {\n",
    "        $sql = 'UPDATE ' . USERS_TABLE . \" SET user_warnings = user_warnings - $value\n",
    "            WHERE user_id = $user_id\";\n",
    "        $db->sql_query($sql);\n",
    "    }\n",
    "\n",
    "    $db->sql_transaction('commit');\n",
    "}\n",
    "\n",
    "$config->set('warnings_last_gc', time(), false);"
   ]
  }
 ],
 "metadata": {
  "kernelspec": {
   "display_name": "Python 2",
   "language": "python",
   "name": "python2"
  },
  "language_info": {
   "codemirror_mode": {
    "name": "ipython",
    "version": 2
   },
   "file_extension": ".py",
   "mimetype": "text/x-python",
   "name": "python",
   "nbconvert_exporter": "python",
   "pygments_lexer": "ipython2",
   "version": "2.7.13"
  }
 },
 "nbformat": 4,
 "nbformat_minor": 2
}
