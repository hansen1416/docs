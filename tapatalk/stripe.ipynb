{
 "cells": [
  {
   "cell_type": "markdown",
   "metadata": {
    "collapsed": true
   },
   "source": [
    "stripe subscription period\n",
    "\n",
    "```\n",
    "echo date('Y-m-d H:i:s', 1506738227) . '<br>';  \n",
    "echo date('Y-m-d H:i:s', 1504146227) . '<br>';  \n",
    "echo date('Y-m-d H:i:s', 1505640975) . '<br>';  \n",
    "echo date('Y-m-d H:i:s', 1502962575) . '<br>';  \n",
    "\n",
    "2017-09-30 02:23:47\n",
    "2017-08-31 02:23:47\n",
    "2017-09-17 09:36:15\n",
    "2017-08-17 09:36:15\n",
    "\n",
    "```"
   ]
  }
 ],
 "metadata": {
  "kernelspec": {
   "display_name": "Python 2",
   "language": "python",
   "name": "python2"
  },
  "language_info": {
   "codemirror_mode": {
    "name": "ipython",
    "version": 2
   },
   "file_extension": ".py",
   "mimetype": "text/x-python",
   "name": "python",
   "nbconvert_exporter": "python",
   "pygments_lexer": "ipython2",
   "version": "2.7.13"
  }
 },
 "nbformat": 4,
 "nbformat_minor": 2
}
