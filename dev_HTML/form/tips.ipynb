{
 "cells": [
  {
   "cell_type": "markdown",
   "metadata": {},
   "source": [
    "- In the past, many developers would add autocomplete=\"off\" to their form fields to prevent the browser from performing any kind of autocomplete functionality. While Chrome will still respect this tag for autocomplete data, it will __NOT__ respect it for autofill data.\n",
    "  \n",
    "  \n",
    "- The importance of labels  \n",
    "The label element provides direction to the user, telling them what information is needed in a form element. Each label is associated with an input element by placing it inside the label element, or by using the \"for\" attribute. *Applying labels to form elements also helps to improve the touch target size: the user can touch either the label or the input in order to place focus on the input element.*\n",
    "\n",
    "- google doc: https://developers.google.com/web/fundamentals/design-and-ux/input/forms/"
   ]
  }
 ],
 "metadata": {
  "kernelspec": {
   "display_name": "Python 3",
   "language": "python",
   "name": "python3"
  },
  "language_info": {
   "codemirror_mode": {
    "name": "ipython",
    "version": 3
   },
   "file_extension": ".py",
   "mimetype": "text/x-python",
   "name": "python",
   "nbconvert_exporter": "python",
   "pygments_lexer": "ipython3",
   "version": "3.7.0"
  }
 },
 "nbformat": 4,
 "nbformat_minor": 2
}
