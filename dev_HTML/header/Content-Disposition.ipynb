{
 "cells": [
  {
   "cell_type": "markdown",
   "metadata": {},
   "source": [
    "https://developer.mozilla.org/en-US/docs/Web/HTTP/Headers/Content-Disposition\n",
    "\n",
    "## As a response header for the main body\n",
    "\n",
    "```\n",
    "Content-Disposition: inline\n",
    "Content-Disposition: attachment\n",
    "Content-Disposition: attachment; filename=\"filename.jpg\"\n",
    "```\n",
    "\n",
    "> \"inline\" default value, indicating it can be displayed inside the Web page, or as the Web page\n",
    "\n",
    "## As a header for a multipart body\n",
    "\n",
    "```\n",
    "Content-Disposition: form-data\n",
    "Content-Disposition: form-data; name=\"fieldName\"\n",
    "Content-Disposition: form-data; name=\"fieldName\"; filename=\"filename.jpg\"\n",
    "```\n",
    "\n",
    "## DirectivesSection\n",
    "\n",
    "- filename\n",
    "> When used in combination with Content-Disposition: attachment, it is used as the default filename for an eventual \"Save As\" dialog presented to the user."
   ]
  }
 ],
 "metadata": {
  "kernelspec": {
   "display_name": "Python 3",
   "language": "python",
   "name": "python3"
  },
  "language_info": {
   "codemirror_mode": {
    "name": "ipython",
    "version": 3
   },
   "file_extension": ".py",
   "mimetype": "text/x-python",
   "name": "python",
   "nbconvert_exporter": "python",
   "pygments_lexer": "ipython3",
   "version": "3.7.2"
  }
 },
 "nbformat": 4,
 "nbformat_minor": 2
}
