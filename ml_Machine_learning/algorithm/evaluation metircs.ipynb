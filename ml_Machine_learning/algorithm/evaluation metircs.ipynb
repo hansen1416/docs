{
 "cells": [
  {
   "cell_type": "markdown",
   "metadata": {},
   "source": [
    "$precision\\;=\\;\\frac{true\\,positive}{true\\,positive\\;+\\;false\\,positive}$  \n",
    "   \n",
    "$recall\\;=\\;\\frac{true\\,positive}{true\\,positive\\;+\\;false\\,negative}$\n",
    "\n",
    "\n",
    "F1 分数  \n",
    "既然我们已讨论了精确率和召回率，接下来可能要考虑的另一个指标是 F1 分数。F1 分数会同时考虑精确率和召回率，以便计算新的分数。\n",
    "\n",
    "可将 F1 分数理解为精确率和召回率的加权平均值，其中 F1 分数的最佳值为 1、最差值为 0：\n",
    "\n",
    "F1 = 2 * (精确率 * 召回率) / (精确率 + 召回率)"
   ]
  },
  {
   "cell_type": "raw",
   "metadata": {},
   "source": [
    "Making sense of metrics\n",
    "\n",
    "“My true positive rate is high, which means that when a POI is present in the test data, I am good at flagging him or her.”\n",
    "\n",
    "“My identifier doesn’t have great precision, but it does have good recall. That means that, nearly every time a POI shows up in my test set, I am able to identify him or her. The cost of this is that I sometimes get some false positives, where non-POIs get flagged.”\n",
    "\n",
    "“My identifier doesn’t have great recall, but it does have good precision. That means that whenever a POI gets flagged in my test set, I know with a lot of confidence that it’s very likely to be a real POI and not a false alarm. On the other hand, the price I pay for this is that I sometimes miss real POIs, since I’m effectively reluctant to pull the trigger on edge cases.”\n",
    "\n",
    "My identifier has a really great F1 score.\n",
    "\n",
    "This is the best of both worlds. Both my false positive and false negative rates are low, which means that I can identify POI’s reliably and accurately. If my identifier finds a POI then the person is almost certainly a POI, and if the identifier does not flag someone, then they are almost certainly not a POI.”\n",
    "\n",
    "There’s usually a tradeoff between precision and recall--which one do you think is more important in your POI identifier? There’s no right or wrong answer, there are good arguments either way, but you should be able to interpret both metrics and articulate which one you find most important and why."
   ]
  }
 ],
 "metadata": {
  "kernelspec": {
   "display_name": "Python 2",
   "language": "python",
   "name": "python2"
  },
  "language_info": {
   "codemirror_mode": {
    "name": "ipython",
    "version": 2
   },
   "file_extension": ".py",
   "mimetype": "text/x-python",
   "name": "python",
   "nbconvert_exporter": "python",
   "pygments_lexer": "ipython2",
   "version": "2.7.13"
  }
 },
 "nbformat": 4,
 "nbformat_minor": 2
}
