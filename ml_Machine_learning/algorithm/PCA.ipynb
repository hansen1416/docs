{
 "cells": [
  {
   "cell_type": "markdown",
   "metadata": {},
   "source": [
    "Definition of PCA\n",
    "\n",
    "- systematized way to transform input features into principal components\n",
    "- use principal components as new features\n",
    "- PCs are directions in data thar maximize variance (minimize information loss) when you project/comporess down onto them\n",
    "- more variance of data along a PC, higher that PC is ranked\n",
    "- most variance/most information -> first PC  \n",
    "  second-most variance (without overlapping with first PC) -> second PC\n",
    "- max no. of PCs = max of no. input features"
   ]
  }
 ],
 "metadata": {
  "kernelspec": {
   "display_name": "Python 2",
   "language": "python",
   "name": "python2"
  },
  "language_info": {
   "codemirror_mode": {
    "name": "ipython",
    "version": 2
   },
   "file_extension": ".py",
   "mimetype": "text/x-python",
   "name": "python",
   "nbconvert_exporter": "python",
   "pygments_lexer": "ipython2",
   "version": "2.7.13"
  }
 },
 "nbformat": 4,
 "nbformat_minor": 2
}
