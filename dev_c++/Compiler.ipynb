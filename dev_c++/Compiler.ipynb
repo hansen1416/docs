{
 "cells": [
  {
   "cell_type": "markdown",
   "metadata": {},
   "source": [
    "```\n",
    "sudo apt-get install eclipse eclipse-cdt g++\n",
    "```"
   ]
  },
  {
   "cell_type": "markdown",
   "metadata": {},
   "source": [
    "```\n",
    "$ sudo apt update\n",
    "$ sudo apt upgrade\n",
    "$ sudo apt install build-essential\n",
    "```\n",
    "\n",
    "or\n",
    "```\n",
    "$ sudo apt-get update\n",
    "$ sudo apt-get upgrade\n",
    "$ sudo apt-get install build-essential\n",
    "```\n",
    "\n",
    "verify installation\n",
    "```\n",
    "$ whereis gcc make\n",
    "$ gcc --version\n",
    "$ make -v\n",
    "```"
   ]
  }
 ],
 "metadata": {
  "kernelspec": {
   "display_name": "Python 3",
   "language": "python",
   "name": "python3"
  },
  "language_info": {
   "codemirror_mode": {
    "name": "ipython",
    "version": 3
   },
   "file_extension": ".py",
   "mimetype": "text/x-python",
   "name": "python",
   "nbconvert_exporter": "python",
   "pygments_lexer": "ipython3",
   "version": "3.6.8"
  }
 },
 "nbformat": 4,
 "nbformat_minor": 2
}
