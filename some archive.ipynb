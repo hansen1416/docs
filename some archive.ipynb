{
 "cells": [
  {
   "cell_type": "markdown",
   "metadata": {},
   "source": [
    "# user_id, provider, oauth_provider_id\n",
    "'2', 'auth.provider.ttid', '30122825'\n",
    "'49', 'auth.provider.ttid', '30160468'\n",
    "'50', 'auth.provider.ttid', '30163679'\n",
    "'51', 'auth.provider.ttid', '30163839'\n",
    "'52', 'auth.provider.ttid', '30173519'\n",
    "'53', 'auth.provider.ttid', '30173591'\n",
    "'54', 'auth.provider.ttid', '30173694'\n",
    "'55', 'auth.provider.ttid', '30173661'\n",
    "'56', 'auth.provider.ttid', '30173936'\n",
    "'57', 'auth.provider.ttid', '30174095'\n",
    "'58', 'auth.provider.ttid', '30174667'\n",
    "'59', 'auth.provider.ttid', '30174904'\n",
    "'60', 'auth.provider.ttid', '30175848'\n",
    "'61', 'auth.provider.ttid', '30176523'\n",
    "'62', 'auth.provider.ttid', '30176572'\n",
    "'63', 'auth.provider.ttid', '30180827'\n",
    "'64', 'auth.provider.ttid', '30181055'\n",
    "'65', 'auth.provider.ttid', '30181887'\n",
    "'66', 'auth.provider.ttid', '30182641'\n",
    "'67', 'auth.provider.ttid', '30183237'\n",
    "'68', 'auth.provider.ttid', '30184316'\n",
    "'69', 'auth.provider.ttid', '30184465'\n",
    "'70', 'auth.provider.ttid', '30185528'\n",
    "'71', 'auth.provider.ttid', '30185924'\n",
    "'72', 'auth.provider.ttid', '30185958'\n",
    "'74', 'auth.provider.ttid', '30186740'\n",
    "'75', 'auth.provider.ttid', '30186984'\n",
    "'76', 'auth.provider.ttid', '30187752'\n",
    "'77', 'auth.provider.ttid', '30188925'\n",
    "'78', 'auth.provider.ttid', '30199214'\n",
    "'79', 'auth.provider.ttid', '30199873'\n",
    "'80', 'auth.provider.ttid', '30214462'\n",
    "'81', 'auth.provider.ttid', '30216912'\n",
    "'82', 'auth.provider.ttid', '30221731'\n",
    "'83', 'auth.provider.ttid', '30238329'\n",
    "'84', 'auth.provider.ttid', '30238589'\n",
    "'85', 'auth.provider.ttid', '30245570'\n",
    "'86', 'auth.provider.ttid', '30250937'\n",
    "'87', 'auth.provider.ttid', '30283781'\n",
    "'88', 'auth.provider.ttid', '30286384'\n",
    "'89', 'auth.provider.ttid', '30305966'\n",
    "'90', 'auth.provider.ttid', '30324469'\n",
    "'91', 'auth.provider.ttid', '30324561'\n",
    "'92', 'auth.provider.ttid', '30358307'\n",
    "'93', 'auth.provider.ttid', '30403462'\n",
    "'94', 'auth.provider.ttid', '30294586'\n",
    "'95', 'auth.provider.ttid', '30433744'\n",
    "'97', 'auth.provider.ttid', '30498203'\n",
    "'98', 'auth.provider.ttid', '30498311'\n",
    "'100', 'auth.provider.ttid', '30538284'\n",
    "'101', 'auth.provider.ttid', '30546874'\n",
    "'102', 'auth.provider.ttid', '30670529'\n",
    "'103', 'auth.provider.ttid', '30772585'\n"
   ]
  },
  {
   "cell_type": "markdown",
   "metadata": {},
   "source": [
    "cut -d' ' -f4-15 log_2019-03-14-auto_migrate.log |grep 'CAN AUTO'|sort|uniq|wc -l\n",
    "cut -d' ' -f4-15 log_2019-03-14-auto_migrate.log |grep 'USERNAME TAKEN'|sort|uniq|wc -l\n",
    "cut -d' ' -f4-15 log_2019-03-14-auto_migrate.log |grep 'EMAIL TAKEN'|sort|uniq|wc -l\n"
   ]
  },
  {
   "cell_type": "markdown",
   "metadata": {},
   "source": [
    "'123', '1', '2', '', '0', '68.203.33.104', '1551366722', 'debbhrrsn', 'debbhrrsn', '$2y$10$qoVE1uGg2oncha7FBCR/uOIfqPogUKvn720pS1jHMnwOnH70xQBCm', '1551366722', 'debbhrrsn@yahoo.com', '28449464119', '21- 9-1954', '1552049525', '1551366722', '0', '', '', '0', '0', '0', '0', '5', '1551366722', '0', 'en_us', 'America/Chicago', 'g:i A - |M d, Y|', '3', '3', '', '0', '0', '0', '0', '-3', '0', '0', 't', 'd', '0', 't', 'a', '1', '1', '0', '1', '1', '1', '1', '230271', '', '', '0', '0', '', '', '', '', '3KN4MUN6', '', '9d2f92eb45bb9989', '0', '2', '1552620920'\n",
    "'134', '1', '2', '', '0', '174.206.31.12', '1552968705', 'Richard 73', 'richard 73', '$2y$10$04NYsbTcKqDT8rKmmD.1p.VHtxDsCu6gKmAUbmCN12Z1oKMZqWq3C', '1552968705', 'rjaynes73@gmail.com', '343736477019', '20- 3-1973', '0', '1552968705', '0', '', '', '0', '0', '0', '0', '5', '1552968704', '0', 'en_us', 'America/Chicago', 'g:i A - |M d, Y|', '3', '0', '', '0', '0', '0', '0', '-3', '0', '0', 't', 'd', '0', 't', 'a', '1', '1', '0', '1', '1', '1', '1', '230271', '', '', '0', '0', '', '', '', '', '2CPRQFLC1', '', 'b93703a493ece186', '0', '0', '0'\n",
    "'136', '1', '2', '', '0', '24.31.17.86', '1553135647', 'Trichardson1222', 'trichardson1222', '$2y$10$hQkKVNFJM3Q8kasCaePFvOGNCA8X808Sc0qLrSqWXObWJ46qNUUMu', '1553135647', 'trichardson1222@rockwaterenergy.com', '93258379835', '', '0', '1553135647', '0', '', '', '0', '0', '0', '0', '5', '1553135647', '0', 'en_us', 'America/Chicago', 'g:i A - |M d, Y|', '3', '0', '', '0', '0', '0', '0', '-3', '0', '0', 't', 'd', '0', 't', 'a', '1', '1', '0', '1', '1', '1', '1', '230271', '', '', '0', '0', '', '', '', '', '3O5D86Q', '', '5ad4780ce5886b60', '0', '0', '0'\n"
   ]
  },
  {
   "cell_type": "markdown",
   "metadata": {},
   "source": [
    "'1812', '1', '2', '', '0', '2600:1006:b166:4673:6465:345f:fd28:7285', '1553118735', 'LarryTwilley', 'larrytwilley', '$2y$10$abKg9uZaxrnDqTqNVNF0hePqFdn2cXV6bXJLuNDEc5vlP0wjbKMmW', '1553118735', 'wtwilley@hotmail.com', '321364757620', '', '0', '1553118735', '0', '', '', '0', '0', '0', '0', '5', '1553118735', '0', 'en_us', 'America/New_York', '|F jS, Y|, g:i a', '3', '0', '00CC00', '0', '0', '0', '0', '-3', '0', '0', 't', 'd', '0', 't', 'a', '1', '1', '0', '1', '1', '1', '1', '230271', '', '', '0', '0', '', '', '', '', '177H2G', '', '064be3cc79241be8', '0', '0', '0', NULL, NULL, NULL\n"
   ]
  }
 ],
 "metadata": {
  "kernelspec": {
   "display_name": "Python 3",
   "language": "python",
   "name": "python3"
  },
  "language_info": {
   "codemirror_mode": {
    "name": "ipython",
    "version": 3
   },
   "file_extension": ".py",
   "mimetype": "text/x-python",
   "name": "python",
   "nbconvert_exporter": "python",
   "pygments_lexer": "ipython3",
   "version": "3.7.2"
  }
 },
 "nbformat": 4,
 "nbformat_minor": 2
}
