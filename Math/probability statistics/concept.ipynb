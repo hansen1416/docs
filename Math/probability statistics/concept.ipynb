{
 "cells": [
  {
   "cell_type": "markdown",
   "metadata": {},
   "source": [
    "### Range\n",
    "\n",
    "we cut off the upper 25% and lower 25% to make ti more representative."
   ]
  },
  {
   "cell_type": "markdown",
   "metadata": {},
   "source": [
    "### IQR\n",
    "\n",
    "- About 50% of the data falls into the IQR.\n",
    "- Not all value in the dataset affedt IQR.\n",
    "- The IQR is not affedted by outlier."
   ]
  },
  {
   "cell_type": "markdown",
   "metadata": {},
   "source": [
    "### Outlier\n",
    "\n",
    "Outlier < Q<sub>1</sub> - 1.5 \\* IQR  ||  Outlier > Q<sub>3</sub> + 1.5 \\* IQR"
   ]
  },
  {
   "cell_type": "markdown",
   "metadata": {},
   "source": [
    "### Deviation\n",
    "$\\sigma = \\frac{\\displaystyle\\sum (x_i - \\overline{x})}{n}$"
   ]
  },
  {
   "cell_type": "markdown",
   "metadata": {},
   "source": [
    "### Absolute deviation\n",
    "Abs $\\sigma = \\frac{\\displaystyle\\sum | x_i - \\overline{x} |}{n}$"
   ]
  },
  {
   "cell_type": "markdown",
   "metadata": {},
   "source": [
    "### Variance\n",
    "$\\sigma^2 = \\frac{\\displaystyle\\sum (x_i - \\overline{x})^2}{n}$\n",
    "\n",
    "Bassel's correction for sample $\\sigma^2 = \\frac{\\displaystyle\\sum (x_i - \\overline{x})^2}{n-1}$"
   ]
  },
  {
   "cell_type": "markdown",
   "metadata": {},
   "source": [
    "### Standard Deviation\n",
    "$\\sigma = \\sqrt{\\frac{\\displaystyle\\sum (x_i - \\overline{x})^2}{n}}$\n",
    "\n",
    "Bassel's correction for sample $s = \\sqrt{\\frac{\\displaystyle\\sum (x_i - \\overline{x})^2}{n-1}}$"
   ]
  },
  {
   "attachments": {},
   "cell_type": "markdown",
   "metadata": {},
   "source": [
    "### Coefficient of determination\n",
    "\n",
    "*当R2越接近1时，表示相关的方程式参考价值越高；相反，越接近0时，表示参考价值越低。这是在一元回归分析中的情况。但从本质上说决定系数和回归系数没有关系，就像标准差和标准误差在本质上没有关系一样。*\n",
    "\n",
    "$ R^{2}\\;=\\;SSR/SST\\;=\\;1-SSE/SST $\n",
    "\n",
    "*其中：SST=SSR+SSE，SST (total sum of squares)为总平方和，SSR (regression sum of squares)为回归平方和，SSE (error sum of squares) 为残差平方和。\n",
    "*\n",
    "\n",
    "- 回归平方和：SSR(Sum of Squares for regression) = ESS (explained sum of squares)\n",
    "- 残差平方和：SSE（Sum of Squares for Error） = RSS (residual sum of squares)\n",
    "- 总离差平方和：SST(Sum of Squares for total) = TSS(total sum of squares)\n",
    "- SSE+SSR=SST RSS+ESS=TSS"
   ]
  }
 ],
 "metadata": {
  "kernelspec": {
   "display_name": "Python 2",
   "language": "python",
   "name": "python2"
  },
  "language_info": {
   "codemirror_mode": {
    "name": "ipython",
    "version": 2
   },
   "file_extension": ".py",
   "mimetype": "text/x-python",
   "name": "python",
   "nbconvert_exporter": "python",
   "pygments_lexer": "ipython2",
   "version": "2.7.13"
  }
 },
 "nbformat": 4,
 "nbformat_minor": 2
}
