{
 "cells": [
  {
   "cell_type": "markdown",
   "metadata": {},
   "source": [
    "- <strong>& (Bitwise AND)</strong> : This is a binary operator i.e. it works on two operand. Bitwise AND operator in PHP takes two numbers as operands and does AND on every bit of two numbers. The result of AND is 1 only if both bits are 1.\n",
    "\n",
    "\n",
    "> \\$First & $Second\n",
    "\n",
    "This will return another number whose bits are \n",
    "set if both the bit of first and second are set.\n",
    "\n",
    "\n",
    "> Input: $First = 5,  $Second = 3\n",
    "\n",
    "> Output: The bitwise & of both these value will be 1. \n",
    "\n",
    "Explanation:\n",
    "Binary representation of 5 is 0101 and 3 is 0011. \n",
    "Therefore their bitwise & will be 0001 (i.e. set \n",
    "if both first and second have their bit set.)\n",
    "\n",
    "> Input: $First = 86017,  $Second = 4\n",
    "\n",
    "> Output: The bitwise & of both these value will be 4. \n",
    "\n",
    "Explanation:\n",
    "Binary representation of 5 is 10101000000000001 and 4 is 0100. \n",
    "Therefore their bitwise & will be 0100, which is 4 in decimalism. \n"
   ]
  },
  {
   "cell_type": "markdown",
   "metadata": {},
   "source": [
    "- <strong>| (Bitwise OR)</strong> : This is also binary operator i.e. works on two operand. Bitwise OR operator takes two numbers as operands and does OR on every bit of two numbers. The result of OR is 1 any of the two bits is 1.\n",
    "\n",
    "> \\$First | $Second\n",
    "\n",
    "This will return another number whose bits are \n",
    "set if either the bit of first or second are set.\n",
    "\n",
    "> Input: First = 5, Second = 3\n",
    "\n",
    "> Output: The bitwise | of both these value will be 7. \n",
    "\n",
    "Explanation:\n",
    "Binary representation of 5 is 0101 and 3 is 0011.\n",
    "Therefore their bitwise | will be 0111 (i.e. set \n",
    "if either first or second have their bit set.)\n",
    "\n",
    "```\n",
    "$a |= $b\n",
    "```\n",
    "is the same as \n",
    "```\n",
    "$a = $a | $b\n",
    "```"
   ]
  }
 ],
 "metadata": {
  "kernelspec": {
   "display_name": "Python 2",
   "language": "python",
   "name": "python2"
  },
  "language_info": {
   "codemirror_mode": {
    "name": "ipython",
    "version": 2
   },
   "file_extension": ".py",
   "mimetype": "text/x-python",
   "name": "python",
   "nbconvert_exporter": "python",
   "pygments_lexer": "ipython2",
   "version": "2.7.13"
  }
 },
 "nbformat": 4,
 "nbformat_minor": 2
}
