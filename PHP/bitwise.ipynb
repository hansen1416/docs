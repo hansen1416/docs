{
 "cells": [
  {
   "cell_type": "markdown",
   "metadata": {},
   "source": [
    "- <strong>& (Bitwise AND)</strong> : This is a binary operator i.e. it works on two operand. Bitwise AND operator in PHP takes two numbers as operands and does AND on every bit of two numbers. The result of AND is 1 only if both bits are 1.\n",
    "\n",
    "\n",
    "> \\$First & $Second\n",
    "\n",
    "This will return another number whose bits are \n",
    "set if both the bit of first and second are set.\n",
    "\n",
    "\n",
    "> Input: $First = 5,  $Second = 3\n",
    "\n",
    "> Output: The bitwise & of both these value will be 1. \n",
    "\n",
    "Explanation:\n",
    "Binary representation of 5 is 0101 and 3 is 0011. \n",
    "Therefore their bitwise & will be 0001 (i.e. set \n",
    "if both first and second have their bit set.)\n",
    "\n",
    "> Input: $First = 86017,  $Second = 4\n",
    "\n",
    "> Output: The bitwise & of both these value will be 4. \n",
    "\n",
    "Explanation:\n",
    "Binary representation of 5 is 10101000000000001 and 4 is 0100. \n",
    "Therefore their bitwise & will be 0100, which is 4 in decimalism. \n"
   ]
  }
 ],
 "metadata": {
  "kernelspec": {
   "display_name": "Python 2",
   "language": "python",
   "name": "python2"
  },
  "language_info": {
   "codemirror_mode": {
    "name": "ipython",
    "version": 2
   },
   "file_extension": ".py",
   "mimetype": "text/x-python",
   "name": "python",
   "nbconvert_exporter": "python",
   "pygments_lexer": "ipython2",
   "version": "2.7.13"
  }
 },
 "nbformat": 4,
 "nbformat_minor": 2
}
