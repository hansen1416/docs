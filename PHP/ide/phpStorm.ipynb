{
 "cells": [
  {
   "cell_type": "markdown",
   "metadata": {},
   "source": [
    "deployment cant save username\n",
    "--\n",
    "Settings > Appearence & Behavior > System settings > Passwords > Selected In Keepass"
   ]
  },
  {
   "cell_type": "markdown",
   "metadata": {},
   "source": [
    "create a launcher\n",
    "--\n",
    "find the .desktop file\n",
    "- /usr/share/applications/APPNAME.desktop\n",
    "- ~/.local/share/applications/APPNAME.desktop\n",
    "- or somewhere else, use `locate .desktop|grep APPAME`\n",
    "  \n",
    "edit Exec=\n",
    "```\n",
    "Exec=gksudo -k -u root \"/opt/PhpStorm-181.4668.78/bin/phpstorm.sh\" %f\n",
    "\n",
    "```\n",
    "\n",
    "*for gksudo command, you have to install sudo apt-get install gksu*"
   ]
  }
 ],
 "metadata": {
  "kernelspec": {
   "display_name": "Python 2",
   "language": "python",
   "name": "python2"
  },
  "language_info": {
   "codemirror_mode": {
    "name": "ipython",
    "version": 2
   },
   "file_extension": ".py",
   "mimetype": "text/x-python",
   "name": "python",
   "nbconvert_exporter": "python",
   "pygments_lexer": "ipython2",
   "version": "2.7.13"
  }
 },
 "nbformat": 4,
 "nbformat_minor": 2
}
