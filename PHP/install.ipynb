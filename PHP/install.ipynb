{
 "cells": [
  {
   "cell_type": "markdown",
   "metadata": {},
   "source": [
    "### php7.1 install\n",
    "\n",
    "`sudo apt-get install ppa-purge`  \n",
    "`sudo apt-get purge php7.0-common`  \n",
    "\n",
    "\n",
    "*If you want to install PHP 7.1, the latest stable release of PHP at the time of writing this article, on Ubuntu 16.04, a convenient method is to use the PPA (Personal Package Archives) repository.*\n",
    "\n",
    "*First of all, you need to add specified PPA to the system apt repository:*\n",
    "\n",
    "`sudo apt-get install -y python-software-properties`  \n",
    "`sudo add-apt-repository -y ppa:ondrej/php`  \n",
    "\n",
    "*if add-apt-repository: command not found, run below install software-properties-common*\n",
    "`apt-get install software-properties-common`\n",
    "\n",
    "`sudo apt-get update -y`  \n",
    "\n",
    "*Then you can list all of the available PHP 7.1-related packages for review:*  \n",
    "\n",
    "`apt-cache pkgnames | grep php7.1`  \n",
    "\n",
    "*From now on, you can install and configure PHP 7.1 in the same fashion as mentioned in the chapter about PHP 7.0 above. Basically, replacing 7.0 with 7.1 in relevant commands will get your job done.*\n",
    "\n",
    "\n",
    "`cp 7.0/fpm/php.ini 7.1/fpm/`  \n",
    "`cp 7.0/fpm/php-fpm.conf 7.1/fpm/`  \n",
    "`cp 7.0/fpm/conf.d/20-xdebug.ini 7.1/fpm/conf.d/`  \n",
    "\n",
    "`vim /etc/supervisor/conf.d/php-fpm.conf` \n",
    "\n",
    "\n",
    "`phpdismod igbinary && phpenmod igbinary`  "
   ]
  }
 ],
 "metadata": {
  "kernelspec": {
   "display_name": "Python 2",
   "language": "python",
   "name": "python2"
  },
  "language_info": {
   "codemirror_mode": {
    "name": "ipython",
    "version": 2
   },
   "file_extension": ".py",
   "mimetype": "text/x-python",
   "name": "python",
   "nbconvert_exporter": "python",
   "pygments_lexer": "ipython2",
   "version": "2.7.13"
  }
 },
 "nbformat": 4,
 "nbformat_minor": 2
}
