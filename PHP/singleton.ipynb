{
 "cells": [
  {
   "cell_type": "markdown",
   "metadata": {},
   "source": [
    "## inheritance\n",
    "\n",
    "first make your Singleton class to abstract\n",
    "```\n",
    "abstract class Singleton {\n",
    "    private $instances = [];\n",
    "    \n",
    "    public static function getInstance() {\n",
    "      if (!isset(self::$instances[static::class])) {\n",
    "        self::$instances[static::class] = new static();\n",
    "      }\n",
    "\n",
    "      return self::$instances[static::class];\n",
    "    }\n",
    "}\n",
    "```\n",
    "\n",
    "inherit Singleton\n",
    "```\n",
    "class SingletonChild extends Singleton {\n",
    "}\n",
    "\n",
    "class SingletonChildTwo extends SingletonChild {\n",
    "}\n",
    "\n",
    "$obj = SingletonChild::getInstance();\n",
    "$obj_two = SingletonChildTwo::getInstance();\n",
    "var_dump($obj === SingletonChild::getInstance()); // true\n",
    "var_dump($obj === $obj_two); // will -> false\n",
    "```"
   ]
  }
 ],
 "metadata": {
  "kernelspec": {
   "display_name": "Python 2",
   "language": "python",
   "name": "python2"
  },
  "language_info": {
   "codemirror_mode": {
    "name": "ipython",
    "version": 2
   },
   "file_extension": ".py",
   "mimetype": "text/x-python",
   "name": "python",
   "nbconvert_exporter": "python",
   "pygments_lexer": "ipython2",
   "version": "2.7.13"
  }
 },
 "nbformat": 4,
 "nbformat_minor": 2
}
