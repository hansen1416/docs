{
 "cells": [
  {
   "cell_type": "markdown",
   "metadata": {},
   "source": [
    "# credential\n",
    "\n",
    "## git-credential-store\n",
    "\n",
    "`git config credential.helper 'store [options]'`\n",
    "\n",
    "eg.\n",
    "\n",
    "`git config credential.helper store`   \n",
    "`git push origin hanson`  \n",
    "- save multiple credential in each file  \n",
    "  \n",
    "`git config credential-helper 'store --file ~/.tapatalk-credential'`\n",
    "  \n",
    "## checkout\n",
    "\n",
    "- check out one file from remote branch  \n",
    "  \n",
    "`git fetch`   \n",
    "`git checkout origin/master -- path/to/file`\n",
    "  \n",
    "## reset  \n",
    "- cancel added files   \n",
    "  \n",
    "`git reset <filename>`\n",
    "\n",
    "## cherry-pick\n",
    "- Cherry picking in Git is designed to apply some commit from one branch into another branch. It can be done if you eg. made a mistake and committed a change into wrong branch, but do not want to merge the whole branch. You can just eg. revert the commit and cherry-pick it on another branch.\n",
    "  \n",
    "- To use it, you just need git cherry-pick hash, where hash is a commit hash from other branch.  \n",
    "  \n",
    "`git cherry-pick <commit-hash>`"
   ]
  }
 ],
 "metadata": {
  "kernelspec": {
   "display_name": "Python 2",
   "language": "python",
   "name": "python2"
  },
  "language_info": {
   "codemirror_mode": {
    "name": "ipython",
    "version": 2
   },
   "file_extension": ".py",
   "mimetype": "text/x-python",
   "name": "python",
   "nbconvert_exporter": "python",
   "pygments_lexer": "ipython2",
   "version": "2.7.13"
  }
 },
 "nbformat": 4,
 "nbformat_minor": 2
}
