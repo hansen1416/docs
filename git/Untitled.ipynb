{
 "cells": [
  {
   "cell_type": "markdown",
   "metadata": {},
   "source": [
    "# credential\n",
    "\n",
    "## git-credential-store\n",
    "\n",
    "`git config credential.helper 'store [options]'`\n",
    "\n",
    "eg.\n",
    "\n",
    "`git config credential.helper store`   \n",
    "`git push origin hanson`\n",
    "\n",
    "## checkout\n",
    "\n",
    "* check out one file from remote branch  \n",
    "`git fetch`   \n",
    "`git checkout origin/master -- path/to/file`\n",
    "\n",
    "## reset  \n",
    "* cancel added files   \n",
    "git reset <filename>\n"
   ]
  }
 ],
 "metadata": {
  "kernelspec": {
   "display_name": "Python 2",
   "language": "python",
   "name": "python2"
  },
  "language_info": {
   "codemirror_mode": {
    "name": "ipython",
    "version": 2
   },
   "file_extension": ".py",
   "mimetype": "text/x-python",
   "name": "python",
   "nbconvert_exporter": "python",
   "pygments_lexer": "ipython2",
   "version": "2.7.13"
  }
 },
 "nbformat": 4,
 "nbformat_minor": 2
}
