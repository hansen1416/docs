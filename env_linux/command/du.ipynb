{
 "cells": [
  {
   "cell_type": "code",
   "execution_count": 1,
   "metadata": {},
   "outputs": [
    {
     "name": "stdout",
     "output_type": "stream",
     "text": [
      "84K\t./.ipynb_checkpoints\n",
      "184K\t.\n",
      "184K\ttotal\n"
     ]
    }
   ],
   "source": [
    "%%bash\n",
    "#!/usr/bash\n",
    "\n",
    "du -chd 1 | sort -h"
   ]
  },
  {
   "cell_type": "code",
   "execution_count": 6,
   "metadata": {},
   "outputs": [
    {
     "name": "stdout",
     "output_type": "stream",
     "text": [
      "3.6G\t/home/hlz/anaconda3/envs/\n"
     ]
    }
   ],
   "source": [
    "%%bash\n",
    "#!/usr/bash\n",
    "\n",
    "du -hs ~/anaconda3/envs/"
   ]
  },
  {
   "cell_type": "code",
   "execution_count": 7,
   "metadata": {},
   "outputs": [
    {
     "name": "stdout",
     "output_type": "stream",
     "text": [
      "1.1G\t/home/hlz/anaconda3/envs/ml-style_transfer_3\n",
      "396M\t/home/hlz/anaconda3/envs/ml-style_transfer_1\n",
      "135M\t/home/hlz/anaconda3/envs/giter\n",
      "2.0G\t/home/hlz/anaconda3/envs/text-classification\n",
      "57M\t/home/hlz/anaconda3/envs/ml-style_transfer_2\n",
      "58M\t/home/hlz/anaconda3/envs/style_transfer\n",
      "3.6G\t/home/hlz/anaconda3/envs/\n"
     ]
    }
   ],
   "source": [
    "%%bash\n",
    "#!/usr/bash\n",
    "\n",
    "du -h --max-depth=1 ~/anaconda3/envs/"
   ]
  }
 ],
 "metadata": {
  "kernelspec": {
   "display_name": "Python 3",
   "language": "python",
   "name": "python3"
  },
  "language_info": {
   "codemirror_mode": {
    "name": "ipython",
    "version": 3
   },
   "file_extension": ".py",
   "mimetype": "text/x-python",
   "name": "python",
   "nbconvert_exporter": "python",
   "pygments_lexer": "ipython3",
   "version": "3.6.8"
  }
 },
 "nbformat": 4,
 "nbformat_minor": 2
}
