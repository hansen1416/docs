{
 "cells": [
  {
   "cell_type": "markdown",
   "metadata": {},
   "source": [
    "```\n",
    "dmesg\n",
    "```\n",
    "detect hard ware and boot message\n",
    "\n",
    "```\n",
    "cat /proc/cpuinfo\n",
    "\n",
    "cat /proc/meminfo\n",
    "\n",
    "cat /proc/interrupts\n",
    "\n",
    "lshw\n",
    "\n",
    "lsblk\n",
    "\n",
    "free -m\n",
    "\n",
    "lspci -tv\n",
    "```"
   ]
  }
 ],
 "metadata": {
  "kernelspec": {
   "display_name": "Python 2",
   "language": "python",
   "name": "python2"
  },
  "language_info": {
   "codemirror_mode": {
    "name": "ipython",
    "version": 2
   },
   "file_extension": ".py",
   "mimetype": "text/x-python",
   "name": "python",
   "nbconvert_exporter": "python",
   "pygments_lexer": "ipython2",
   "version": "2.7.13"
  }
 },
 "nbformat": 4,
 "nbformat_minor": 2
}
