{
 "cells": [
  {
   "cell_type": "markdown",
   "metadata": {},
   "source": [
    "export is a command in the Bash shell language. When used to set a variable, as in your example, the variable (PATH) will be visible (\"exported to\") any subprocesses started from that instance of Bash. Without the export command, the variable will not exist in the subprocess.\n",
    "\n",
    "---\n",
    "\n",
    "Environment variables set like this are only stored temporally. When you exit the running instance of bash by exiting the terminal, they get discarded. To save them permanentally, write the export x=y commands into /etc/profile (for all users) or ~/.profile (for yourself)"
   ]
  }
 ],
 "metadata": {
  "kernelspec": {
   "display_name": "Python 3",
   "language": "python",
   "name": "python3"
  },
  "language_info": {
   "codemirror_mode": {
    "name": "ipython",
    "version": 3
   },
   "file_extension": ".py",
   "mimetype": "text/x-python",
   "name": "python",
   "nbconvert_exporter": "python",
   "pygments_lexer": "ipython3",
   "version": "3.6.8"
  }
 },
 "nbformat": 4,
 "nbformat_minor": 2
}
