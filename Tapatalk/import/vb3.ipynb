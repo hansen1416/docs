{
 "cells": [
  {
   "cell_type": "markdown",
   "metadata": {},
   "source": [
    "# login\n",
    "verify_authentication at includes/functions_login.php\n",
    "\n",
    "logic is \n",
    "```\n",
    "$vbulletin->userinfo['password'] == iif($md5password, md5($md5password . $vbulletin->userinfo['salt']), '')\n",
    "```"
   ]
  }
 ],
 "metadata": {
  "kernelspec": {
   "display_name": "Python 2",
   "language": "python",
   "name": "python2"
  }
 },
 "nbformat": 4,
 "nbformat_minor": 2
}
