{
 "cells": [
  {
   "cell_type": "markdown",
   "metadata": {},
   "source": [
    "SELECT datediff(p1.created_at, p2.created_at) as ddiff, timediff(p1.created_at, p2.created_at) as tdiff, p1.*, p2.* FROM quoord_taptaptalk.ttg_payment_history p1 \n",
    "inner join quoord_taptaptalk.ttg_payment_history p2 on p1.payment_id=p2.payment_id and p1.id<>p2.id and p1.forum_id=p2.forum_id\n",
    "where p1.type='subscribe' and p1.target='donate' \n",
    "and ABS(datediff(p1.created_at, p2.created_at)) < 20 and timediff(p1.created_at, p2.created_at) > 0\n",
    "and p1.forum_id not in(22099,25606,25058,25302,26819,382,19, 0) \n",
    "and p1.action in('PAYMENT.SALE.COMPLETED') and p2.action in('PAYMENT.SALE.COMPLETED') \n",
    "order by p1.id asc;"
   ]
  }
 ],
 "metadata": {
  "kernelspec": {
   "display_name": "Python 3",
   "language": "python",
   "name": "python3"
  },
  "language_info": {
   "codemirror_mode": {
    "name": "ipython",
    "version": 3
   },
   "file_extension": ".py",
   "mimetype": "text/x-python",
   "name": "python",
   "nbconvert_exporter": "python",
   "pygments_lexer": "ipython3",
   "version": "3.7.0"
  }
 },
 "nbformat": 4,
 "nbformat_minor": 2
}
