{
 "cells": [
  {
   "cell_type": "markdown",
   "metadata": {},
   "source": [
    "## check mutiple subscription\n",
    "## check header color problem\n",
    "\n",
    "### fix header style, ucp->overview->front page style, header simple for acp\n",
    "\n",
    "### guest like\n",
    "### tapatalk.com CSRF fix\n",
    "\n",
    "\n",
    "- chat room, fix navbar\n",
    "\n",
    "- add piwik1 to ads logic\n",
    "- add user_id to piwik\n",
    "- fix Liz'issue, can not keep cookie for IE11, WIN7\n",
    "\n",
    "send username clean to piwik indtead of user_id\n",
    "\n",
    "逐步取消custom css on mobile (1/3)\n",
    "首页new topic jump box对于locked forum admin是可以发帖的\n",
    "写一个方法，获取用户是否可以在某一个论坛发帖，放在user对象中，在首页的jumpbox调用\n",
    "timezone  cookie记录了两遍，在论坛根目录和/discussion目录下\n",
    "\n",
    "检查官网首页 /home 的数据库链接和redis连接，不要重复取信息\n",
    "\n",
    "sce.js line 1210,对于posting页面  需要焦点，帖子页面不需要，加条件判断\n",
    "    \n",
    "修改automod 帖子的顺序\n",
    "\n",
    "share post, hilight the post postview 高亮边框\n",
    "signature links target=_blank\n",
    "\n",
    "fix search route\n",
    "\n",
    "146634 论坛连续两次购买了premium membership\n",
    "\n",
    "permission need to hide, \n",
    "- can send email\n",
    "- can change username\n",
    "- Can send instant messages"
   ]
  },
  {
   "cell_type": "markdown",
   "metadata": {},
   "source": [
    "?XDEBUG_SESSION_START=16902\n",
    "\n",
    "- tapatalk_market_enabled  1\n",
    "- tapatalk_market_forums   106\n",
    "- tapatalk_market_url   https://beta.panjo.com/\n",
    "\n",
    "tapatalk/tapatalk-phpbb31/upload/mobiquo/mbqFrame/mbqBaseAction/\n",
    "\n",
    "```\n",
    "const\\s(_\\w+)\\s=\\s(['\\w]+);\n",
    "\\['source' => Vb3User::$1, 'target' => $2\\],\n",
    "\n",
    "```"
   ]
  },
  {
   "cell_type": "markdown",
   "metadata": {},
   "source": [
    "array(7) { [\"dsn\"]=> string(66) \"mysql:host=localhost;dbname=vb_digishoptalk;port=3306;charset=utf8\" [\"host\"]=> string(9) \"localhost\" [\"port\"]=> string(4) \"3306\" [\"dbname\"]=> string(15) \"vb_digishoptalk\" [\"username\"]=> string(15) \"vb_digishoptalk\" [\"password\"]=> string(12) \"jQ8b4)H52qEg\" [\"charset\"]=> string(4) \"utf8\" }"
   ]
  },
  {
   "cell_type": "code",
   "execution_count": 1,
   "metadata": {},
   "outputs": [
    {
     "name": "stdout",
     "output_type": "stream",
     "text": [
      "MTIzNDU2\n",
      "a:2:{s:4:\"data\";a:100:{i:0;a:9:{s:6:\"userid\";s:1:\"1\";s:4:\"temp\";N;s:6:\"field1\";s:0:\"\";s:6:\"field2\";s:6:\"The OC\";s:6:\"field3\";s:0:\"\";s:6:\"field4\";s:21:\"Professional Shepherd\";s:6:\"field5\";s:0:\"\";s:6:\"field6\";s:0:\"\";s:6:\"field7\";s:0:\"\";}i:1;a:9:{s:6:\"userid\";s:1:\"2\";s:4:\"temp\";N;s:6:\"field1\";N;s:6:\"field2\";s:0:\"\";s:6:\"field3\";s:0:\"\";s:6:\"field4\";s:0:\"\";s:6:\"field5\";s:0:\"\";s:6:\"field6\";s:0:\"\";s:6:\"field7\";s:0:\"\";}i:2;a:9:{s:6:\"userid\";s:4:\"1426\";s:4:\"temp\";N;s:6:\"field1\";s:0:\"\";s:6:\"field2\";s:0:\"\";s:6:\"field3\";s:0:\"\";s:6:\"field4\";s:0:\"\";s:6:\"field5\";s:0:\"\";s:6:\"field6\";s:0:\"\";s:6:\"field7\";s:0:\"\";}i:3;a:9:{s:6:\"userid\";s:4:\"1427\";s:4:\"temp\";N;s:6:\"field1\";s:54:\"Former Meteorologist.  Mom to 5 kids, wife to another.\";s:6:\"field2\";s:9:\"Minnesota\";s:6:\"field3\";s:33:\"Fishing, Scrapping, and my family\";s:6:\"field4\";s:17:\"SAHM and designer\";s:6:\"field5\";s:0:\"\";s:6:\"field6\";s:0:\"\";s:6:\"field7\";s:0:\"\";}i:4;a:9:{s:6:\"userid\";s:1:\"4\";s:4:\"temp\";N;s:6:\"field1\";s:68:\"Wife to Erick, Mommy to McKenna, Kyla &amp; Katie, Co-Founder of DST\";s:6:\"field2\";s:17:\"Orange County, CA\";s:6:\"field3\";s:50:\"Digital Scrapping, Reading, Cooking, Dance, Crafts\";s:6:\"field4\";s:4:\"WAHM\";s:6:\"field5\";s:0:\"\";s:6:\"field6\";s:0:\"\";s:6:\"field7\";s:0:\"\";}i:5;a:9:{s:6:\"userid\";s:1:\"5\";s:4:\"temp\";N;s:6:\"field1\";s:0:\"\";s:6:\"field2\";s:8:\"New York\";s:6:\"field3\";s:0:\"\";s:6:\"field4\";s:14:\"designer, SAHM\";s:6:\"field5\";s:0:\"\";s:6:\"field6\";s:0:\"\";s:6:\"field7\";s:0:\"\";}i:6;a:9:{s:6:\"userid\";s:1:\"6\";s:4:\"temp\";N;s:6:\"field1\";s:99:\"woman-wife-mother-farm girl-graceloving-scrapbookartist-crafter-cookie baking-potato chip munching-\";s:6:\"field2\";s:7:\"Wyoming\";s:6:\"field3\";s:21:\"vanilla frapp addict.\";s:6:\"field4\";s:0:\"\";s:6:\"field5\";s:0:\"\";s:6:\"field6\";s:0:\"\";s:6:\"field7\";s:0:\"\";}i:7;a:9:{s:6:\"userid\";s:1:\"7\";s:4:\"temp\";N;s:6:\"field1\";s:0:\"\";s:6:\"field2\";s:23:\"Silver Spring, Maryland\";s:6:\"field3\";s:0:\"\";s:6:\"field4\";s:43:\"Health Science Administrator/Microbiologist\";s:6:\"field5\";s:0:\"\";s:6:\"field6\";s:0:\"\";s:6:\"field7\";s:0:\"\";}i:8;a:9:{s:6:\"userid\";s:1:\"8\";s:4:\"temp\";N;s:6:\"field1\";s:0:\"\";s:6:\"field2\";s:0:\"\";s:6:\"field3\";s:0:\"\";s:6:\"field4\";s:0:\"\";s:6:\"field5\";s:0:\"\";s:6:\"field6\";s:0:\"\";s:6:\"field7\";s:0:\"\";}i:9;a:9:{s:6:\"userid\";s:1:\"9\";s:4:\"temp\";N;s:6:\"field1\";s:0:\"\";s:6:\"field2\";s:20:\"Huntington Beach, CA\";s:6:\"field3\";s:0:\"\";s:6:\"field4\";s:4:\"SAHM\";s:6:\"field5\";s:0:\"\";s:6:\"field6\";s:0:\"\";s:6:\"field7\";s:0:\"\";}i:10;a:9:{s:6:\"userid\";s:2:\"10\";s:4:\"temp\";N;s:6:\"field1\";s:0:\"\";s:6:\"field2\";s:6:\"Kansas\";s:6:\"field3\";s:49:\"Scrapbooking, photography, reading &amp; shopping\";s:6:\"field4\";s:9:\"SAHM to 3\";s:6:\"field5\";s:0:\"\";s:6:\"field6\";s:0:\"\";s:6:\"field7\";s:0:\"\";}i:11;a:9:{s:6:\"userid\";s:2:\"11\";s:4:\"temp\";N;s:6:\"field1\";s:0:\"\";s:6:\"field2\";s:17:\"Pacific Northwest\";s:6:\"field3\";s:0:\"\";s:6:\"field4\";s:0:\"\";s:6:\"field5\";s:0:\"\";s:6:\"field6\";s:0:\"\";s:6:\"field7\";s:0:\"\";}i:12;a:9:{s:6:\"userid\";s:2:\"12\";s:4:\"temp\";N;s:6:\"field1\";s:0:\"\";s:6:\"field2\";s:2:\"IN\";s:6:\"field3\";s:27:\"Scrapping, Reading, Cooking\";s:6:\"field4\";s:18:\"Technology Trainer\";s:6:\"field5\";s:0:\"\";s:6:\"field6\";s:0:\"\";s:6:\"field7\";s:0:\"\";}i:13;a:9:{s:6:\"userid\";s:2:\"13\";s:4:\"temp\";N;s:6:\"field1\";s:0:\"\";s:6:\"field2\";s:0:\"\";s:6:\"field3\";s:0:\"\";s:6:\"field4\";s:0:\"\";s:6:\"field5\";s:0:\"\";s:6:\"field6\";s:0:\"\";s:6:\"field7\";s:0:\"\";}i:14;a:9:{s:6:\"userid\";s:2:\"14\";s:4:\"temp\";N;s:6:\"field1\";s:0:\"\";s:6:\"field2\";s:10:\"Central FL\";s:6:\"field3\";s:0:\"\";s:6:\"field4\";s:0:\"\";s:6:\"field5\";s:0:\"\";s:6:\"field6\";s:0:\"\";s:6:\"field7\";s:0:\"\";}i:15;a:9:{s:6:\"userid\";s:2:\"15\";s:4:\"temp\";N;s:6:\"field1\";s:0:\"\";s:6:\"field2\";s:8:\"Arkansas\";s:6:\"field3\";s:9:\"scrapping\";s:6:\"field4\";s:7:\"teacher\";s:6:\"field5\";s:0:\"\";s:6:\"field6\";s:0:\"\";s:6:\"field7\";s:0:\"\";}i:16;a:9:{s:6:\"userid\";s:2:\"16\";s:4:\"temp\";N;s:6:\"field1\";s:0:\"\";s:6:\"field2\";s:21:\"in a scrapbook layout\";s:6:\"field3\";s:0:\"\";s:6:\"field4\";s:17:\"homeschooling mom\";s:6:\"field5\";s:0:\"\";s:6:\"field6\";s:0:\"\";s:6:\"field7\";s:0:\"\";}i:17;a:9:{s:6:\"userid\";s:2:\"17\";s:4:\"temp\";N;s:6:\"field1\";s:0:\"\";s:6:\"field2\";s:7:\"Chicago\";s:6:\"field3\";s:64:\"Singing, Dancing, designing, watching anything with Jason Isaacs\";s:6:\"field4\";s:32:\"SAHM, Digital Scrapbook Designer\";s:6:\"field5\";s:0:\"\";s:6:\"field6\";s:0:\"\";s:6:\"field7\";s:0:\"\";}i:18;a:9:{s:6:\"userid\";s:2:\"18\";s:4:\"temp\";N;s:6:\"field1\";s:0:\"\";s:6:\"field2\";s:6:\"Oregon\";s:6:\"field3\";s:0:\"\";s:6:\"field4\";s:0:\"\";s:6:\"field5\";s:0:\"\";s:6:\"field6\";s:20:\"The Franklin Project\";s:6:\"field7\";s:22:\"thefranklinproject.net\";}i:19;a:9:{s:6:\"userid\";s:2:\"19\";s:4:\"temp\";N;s:6:\"field1\";s:0:\"\";s:6:\"field2\";s:12:\"Pennsylvania\";s:6:\"field3\";s:0:\"\";s:6:\"field4\";s:0:\"\";s:6:\"field5\";s:0:\"\";s:6:\"field6\";s:0:\"\";s:6:\"field7\";s:0:\"\";}i:20;a:9:{s:6:\"userid\";s:2:\"20\";s:4:\"temp\";N;s:6:\"field1\";s:0:\"\";s:6:\"field2\";s:35:\"land of cheese and beer---Wisconsin\";s:6:\"field3\";s:0:\"\";s:6:\"field4\";s:0:\"\";s:6:\"field5\";s:0:\"\";s:6:\"field6\";s:0:\"\";s:6:\"field7\";s:0:\"\";}i:21;a:9:{s:6:\"userid\";s:2:\"21\";s:4:\"temp\";N;s:6:\"field1\";N;s:6:\"field2\";s:25:\"Beautiful State of Oregon\";s:6:\"field3\";s:76:\"my family - including twin granddaughters, scrapping, gardening and quilting\";s:6:\"field4\";s:12:\"Tech Support\";s:6:\"field5\";s:0:\"\";s:6:\"field6\";s:0:\"\";s:6:\"field7\";s:0:\"\";}i:22;a:9:{s:6:\"userid\";s:2:\"22\";s:4:\"temp\";N;s:6:\"field1\";s:0:\"\";s:6:\"field2\";s:0:\"\";s:6:\"field3\";s:0:\"\";s:6:\"field4\";s:0:\"\";s:6:\"field5\";s:0:\"\";s:6:\"field6\";s:0:\"\";s:6:\"field7\";s:0:\"\";}i:23;a:9:{s:6:\"userid\";s:2:\"23\";s:4:\"temp\";N;s:6:\"field1\";s:0:\"\";s:6:\"field2\";s:10:\"Down Under\";s:6:\"field3\";s:0:\"\";s:6:\"field4\";s:0:\"\";s:6:\"field5\";s:0:\"\";s:6:\"field6\";s:0:\"\";s:6:\"field7\";s:0:\"\";}i:24;a:9:{s:6:\"userid\";s:2:\"24\";s:4:\"temp\";N;s:6:\"field1\";s:0:\"\";s:6:\"field2\";s:2:\"IL\";s:6:\"field3\";s:0:\"\";s:6:\"field4\";s:15:\"SAHM to 3 boys!\";s:6:\"field5\";s:0:\"\";s:6:\"field6\";s:0:\"\";s:6:\"field7\";s:0:\"\";}i:25;a:9:{s:6:\"userid\";s:2:\"25\";s:4:\"temp\";N;s:6:\"field1\";s:0:\"\";s:6:\"field2\";s:3:\"WNY\";s:6:\"field3\";s:0:\"\";s:6:\"field4\";s:0:\"\";s:6:\"field5\";s:0:\"\";s:6:\"field6\";s:0:\"\";s:6:\"field7\";s:0:\"\";}i:26;a:9:{s:6:\"userid\";s:2:\"26\";s:4:\"temp\";N;s:6:\"field1\";s:0:\"\";s:6:\"field2\";s:14:\"Fort Worth, TX\";s:6:\"field3\";s:11:\"SCRAPPING!!\";s:6:\"field4\";s:25:\"WAHM! www.TrendyFlair.com\";s:6:\"field5\";s:0:\"\";s:6:\"field6\";s:0:\"\";s:6:\"field7\";s:0:\"\";}i:27;a:9:{s:6:\"userid\";s:2:\"27\";s:4:\"temp\";N;s:6:\"field1\";s:100:\"Recently retired from medical transcription.  Looking forward to working seriously on my photography\";s:6:\"field2\";s:19:\"Southern California\";s:6:\"field3\";s:31:\"photography, reading, scrapping\";s:6:\"field4\";s:39:\"Fine Art Photography, Stock Photography\";s:6:\"field5\";s:0:\"\";s:6:\"field6\";s:0:\"\";s:6:\"field7\";s:0:\"\";}i:28;a:9:{s:6:\"userid\";s:2:\"28\";s:4:\"temp\";N;s:6:\"field1\";s:0:\"\";s:6:\"field2\";s:14:\"North Carolina\";s:6:\"field3\";s:54:\"Photography, scrapbooking, designing, home decorating.\";s:6:\"field4\";s:39:\"Medical Transcriptionist, Digi-designer\";s:6:\"field5\";s:0:\"\";s:6:\"field6\";s:0:\"\";s:6:\"field7\";s:0:\"\";}i:29;a:9:{s:6:\"userid\";s:2:\"29\";s:4:\"temp\";N;s:6:\"field1\";s:0:\"\";s:6:\"field2\";s:9:\"San Diego\";s:6:\"field3\";s:0:\"\";s:6:\"field4\";s:0:\"\";s:6:\"field5\";s:0:\"\";s:6:\"field6\";s:0:\"\";s:6:\"field7\";s:0:\"\";}i:30;a:9:{s:6:\"userid\";s:2:\"30\";s:4:\"temp\";N;s:6:\"field1\";s:0:\"\";s:6:\"field2\";s:0:\"\";s:6:\"field3\";s:0:\"\";s:6:\"field4\";s:0:\"\";s:6:\"field5\";s:0:\"\";s:6:\"field6\";s:0:\"\";s:6:\"field7\";s:0:\"\";}i:31;a:9:{s:6:\"userid\";s:2:\"31\";s:4:\"temp\";N;s:6:\"field1\";s:0:\"\";s:6:\"field2\";s:38:\"In front of the computer - where else?\";s:6:\"field3\";s:0:\"\";s:6:\"field4\";s:0:\"\";s:6:\"field5\";s:0:\"\";s:6:\"field6\";s:0:\"\";s:6:\"field7\";s:0:\"\";}i:32;a:9:{s:6:\"userid\";s:2:\"32\";s:4:\"temp\";N;s:6:\"field1\";s:36:\"Designer at www.designerdigitals.com\";s:6:\"field2\";s:11:\"New Zealand\";s:6:\"field3\";s:0:\"\";s:6:\"field4\";s:19:\"Designer/Researcher\";s:6:\"field5\";s:0:\"\";s:6:\"field6\";s:0:\"\";s:6:\"field7\";s:0:\"\";}i:33;a:9:{s:6:\"userid\";s:2:\"33\";s:4:\"temp\";N;s:6:\"field1\";s:0:\"\";s:6:\"field2\";s:9:\"Las Vegas\";s:6:\"field3\";s:12:\"Scrapbooking\";s:6:\"field4\";s:10:\"Accountant\";s:6:\"field5\";s:0:\"\";s:6:\"field6\";s:0:\"\";s:6:\"field7\";s:0:\"\";}i:34;a:9:{s:6:\"userid\";s:2:\"34\";s:4:\"temp\";N;s:6:\"field1\";s:0:\"\";s:6:\"field2\";s:19:\"Seattle, Washington\";s:6:\"field3\";s:0:\"\";s:6:\"field4\";s:4:\"SAHM\";s:6:\"field5\";s:0:\"\";s:6:\"field6\";s:0:\"\";s:6:\"field7\";s:0:\"\";}i:35;a:9:{s:6:\"userid\";s:2:\"35\";s:4:\"temp\";N;s:6:\"field1\";s:0:\"\";s:6:\"field2\";s:0:\"\";s:6:\"field3\";s:0:\"\";s:6:\"field4\";s:0:\"\";s:6:\"field5\";s:0:\"\";s:6:\"field6\";s:0:\"\";s:6:\"field7\";s:0:\"\";}i:36;a:9:{s:6:\"userid\";s:2:\"36\";s:4:\"temp\";N;s:6:\"field1\";s:0:\"\";s:6:\"field2\";s:8:\"Colorado\";s:6:\"field3\";s:0:\"\";s:6:\"field4\";s:0:\"\";s:6:\"field5\";s:0:\"\";s:6:\"field6\";s:0:\"\";s:6:\"field7\";s:0:\"\";}i:37;a:9:{s:6:\"userid\";s:2:\"37\";s:4:\"temp\";N;s:6:\"field1\";s:0:\"\";s:6:\"field2\";s:10:\"Manila, PI\";s:6:\"field3\";s:27:\"digiscrapping OF COURSE! :)\";s:6:\"field4\";s:24:\"techie non-practicing RN\";s:6:\"field5\";s:0:\"\";s:6:\"field6\";s:0:\"\";s:6:\"field7\";s:0:\"\";}i:38;a:9:{s:6:\"userid\";s:2:\"38\";s:4:\"temp\";N;s:6:\"field1\";s:0:\"\";s:6:\"field2\";s:17:\"The 'burbs of NYC\";s:6:\"field3\";s:0:\"\";s:6:\"field4\";s:0:\"\";s:6:\"field5\";s:0:\"\";s:6:\"field6\";s:0:\"\";s:6:\"field7\";s:0:\"\";}i:39;a:9:{s:6:\"userid\";s:2:\"39\";s:4:\"temp\";N;s:6:\"field1\";N;s:6:\"field2\";s:0:\"\";s:6:\"field3\";s:0:\"\";s:6:\"field4\";s:0:\"\";s:6:\"field5\";s:0:\"\";s:6:\"field6\";s:0:\"\";s:6:\"field7\";s:0:\"\";}i:40;a:9:{s:6:\"userid\";s:2:\"40\";s:4:\"temp\";N;s:6:\"field1\";s:0:\"\";s:6:\"field2\";s:11:\"Seattle, WA\";s:6:\"field3\";s:0:\"\";s:6:\"field4\";s:0:\"\";s:6:\"field5\";s:0:\"\";s:6:\"field6\";s:0:\"\";s:6:\"field7\";s:0:\"\";}i:41;a:9:{s:6:\"userid\";s:2:\"41\";s:4:\"temp\";N;s:6:\"field1\";s:0:\"\";s:6:\"field2\";s:4:\"Utah\";s:6:\"field3\";s:0:\"\";s:6:\"field4\";s:5:\"mommy\";s:6:\"field5\";s:0:\"\";s:6:\"field6\";s:0:\"\";s:6:\"field7\";s:0:\"\";}i:42;a:9:{s:6:\"userid\";s:2:\"42\";s:4:\"temp\";N;s:6:\"field1\";s:0:\"\";s:6:\"field2\";s:5:\"SoCal\";s:6:\"field3\";s:0:\"\";s:6:\"field4\";s:0:\"\";s:6:\"field5\";s:0:\"\";s:6:\"field6\";s:0:\"\";s:6:\"field7\";s:0:\"\";}i:43;a:9:{s:6:\"userid\";s:2:\"43\";s:4:\"temp\";N;s:6:\"field1\";s:0:\"\";s:6:\"field2\";s:12:\"Indianapolis\";s:6:\"field3\";s:0:\"\";s:6:\"field4\";s:0:\"\";s:6:\"field5\";s:0:\"\";s:6:\"field6\";s:0:\"\";s:6:\"field7\";s:0:\"\";}i:44;a:9:{s:6:\"userid\";s:2:\"44\";s:4:\"temp\";N;s:6:\"field1\";s:0:\"\";s:6:\"field2\";s:20:\"So.California Desert\";s:6:\"field3\";s:0:\"\";s:6:\"field4\";s:0:\"\";s:6:\"field5\";s:0:\"\";s:6:\"field6\";s:0:\"\";s:6:\"field7\";s:0:\"\";}i:45;a:9:{s:6:\"userid\";s:2:\"45\";s:4:\"temp\";N;s:6:\"field1\";s:100:\"Things I love...the Lord, my family, taking pictures, making layouts, buying kits, a bright blue sky\";s:6:\"field2\";s:23:\"The land below the wind\";s:6:\"field3\";s:46:\"What shop girl has a hobby...I have a disease!\";s:6:\"field4\";s:32:\"Preserver of Memories &amp; SAHM\";s:6:\"field5\";s:0:\"\";s:6:\"field6\";s:0:\"\";s:6:\"field7\";s:0:\"\";}i:46;a:9:{s:6:\"userid\";s:2:\"46\";s:4:\"temp\";N;s:6:\"field1\";s:0:\"\";s:6:\"field2\";s:2:\"Ca\";s:6:\"field3\";s:0:\"\";s:6:\"field4\";s:11:\"Hairstylist\";s:6:\"field5\";s:0:\"\";s:6:\"field6\";s:0:\"\";s:6:\"field7\";s:0:\"\";}i:47;a:9:{s:6:\"userid\";s:2:\"47\";s:4:\"temp\";N;s:6:\"field1\";s:0:\"\";s:6:\"field2\";s:13:\"Livermore, CA\";s:6:\"field3\";s:0:\"\";s:6:\"field4\";s:0:\"\";s:6:\"field5\";s:0:\"\";s:6:\"field6\";s:0:\"\";s:6:\"field7\";s:0:\"\";}i:48;a:9:{s:6:\"userid\";s:2:\"48\";s:4:\"temp\";N;s:6:\"field1\";s:62:\"Melanie, sister of Shannon, Auntie to cutest McKenna and Kyla!\";s:6:\"field2\";s:10:\"California\";s:6:\"field3\";s:0:\"\";s:6:\"field4\";s:16:\"Stay at home Mom\";s:6:\"field5\";s:0:\"\";s:6:\"field6\";s:0:\"\";s:6:\"field7\";s:0:\"\";}i:49;a:9:{s:6:\"userid\";s:2:\"49\";s:4:\"temp\";N;s:6:\"field1\";s:0:\"\";s:6:\"field2\";s:0:\"\";s:6:\"field3\";s:0:\"\";s:6:\"field4\";s:0:\"\";s:6:\"field5\";s:0:\"\";s:6:\"field6\";s:0:\"\";s:6:\"field7\";s:0:\"\";}i:50;a:9:{s:6:\"userid\";s:2:\"50\";s:4:\"temp\";N;s:6:\"field1\";s:0:\"\";s:6:\"field2\";s:0:\"\";s:6:\"field3\";s:0:\"\";s:6:\"field4\";s:0:\"\";s:6:\"field5\";s:0:\"\";s:6:\"field6\";s:0:\"\";s:6:\"field7\";s:0:\"\";}i:51;a:9:{s:6:\"userid\";s:2:\"51\";s:4:\"temp\";N;s:6:\"field1\";s:0:\"\";s:6:\"field2\";s:7:\"Indiana\";s:6:\"field3\";s:0:\"\";s:6:\"field4\";s:13:\"Music Teacher\";s:6:\"field5\";s:0:\"\";s:6:\"field6\";s:0:\"\";s:6:\"field7\";s:0:\"\";}i:52;a:9:{s:6:\"userid\";s:2:\"52\";s:4:\"temp\";N;s:6:\"field1\";N;s:6:\"field2\";s:0:\"\";s:6:\"field3\";s:0:\"\";s:6:\"field4\";s:0:\"\";s:6:\"field5\";s:0:\"\";s:6:\"field6\";s:0:\"\";s:6:\"field7\";s:0:\"\";}i:53;a:9:{s:6:\"userid\";s:2:\"53\";s:4:\"temp\";N;s:6:\"field1\";s:0:\"\";s:6:\"field2\";s:7:\"NE Ohio\";s:6:\"field3\";s:55:\"Digi-scrap design, photography, music, writing, reading\";s:6:\"field4\";s:16:\"Graphic Designer\";s:6:\"field5\";s:0:\"\";s:6:\"field6\";s:0:\"\";s:6:\"field7\";s:0:\"\";}i:54;a:9:{s:6:\"userid\";s:2:\"54\";s:4:\"temp\";N;s:6:\"field1\";s:0:\"\";s:6:\"field2\";s:16:\"Colorado Springs\";s:6:\"field3\";s:0:\"\";s:6:\"field4\";s:4:\"SAHM\";s:6:\"field5\";s:0:\"\";s:6:\"field6\";s:0:\"\";s:6:\"field7\";s:0:\"\";}i:55;a:9:{s:6:\"userid\";s:2:\"55\";s:4:\"temp\";N;s:6:\"field1\";s:47:\"Self-Employed Graphic Artist &amp; Photographer\";s:6:\"field2\";s:13:\"St. Louis, MO\";s:6:\"field3\";s:78:\"photography, dogs, maroon 5, zombies, storm chasing, drawing, vintage shopping\";s:6:\"field4\";s:107:\"Own &amp; Operate Holly McCaig Designs, LLC - while running 2 DBAs, Two Pear Designs &amp; Three Dog Pixels\";s:6:\"field5\";s:0:\"\";s:6:\"field6\";s:16:\"Three Dog Pixels\";s:6:\"field7\";s:29:\"http://www.threedogpixels.com\";}i:56;a:9:{s:6:\"userid\";s:2:\"56\";s:4:\"temp\";N;s:6:\"field1\";s:21:\"mommy to 3, wife to 1\";s:6:\"field2\";s:49:\"Latitude: 38° 53' North; Longitude 77° 20' West\";s:6:\"field3\";s:36:\"Photography and Digital Scrapbooking\";s:6:\"field4\";s:34:\"SAHM and Professional Photographer\";s:6:\"field5\";s:0:\"\";s:6:\"field6\";s:0:\"\";s:6:\"field7\";s:0:\"\";}i:57;a:9:{s:6:\"userid\";s:2:\"57\";s:4:\"temp\";N;s:6:\"field1\";s:0:\"\";s:6:\"field2\";s:23:\"Sunny Island, Singapore\";s:6:\"field3\";s:0:\"\";s:6:\"field4\";s:0:\"\";s:6:\"field5\";s:0:\"\";s:6:\"field6\";s:0:\"\";s:6:\"field7\";s:0:\"\";}i:58;a:9:{s:6:\"userid\";s:2:\"58\";s:4:\"temp\";N;s:6:\"field1\";s:0:\"\";s:6:\"field2\";s:10:\"California\";s:6:\"field3\";s:35:\"scrapbooking, photography, shopping\";s:6:\"field4\";s:0:\"\";s:6:\"field5\";s:0:\"\";s:6:\"field6\";s:0:\"\";s:6:\"field7\";s:0:\"\";}i:59;a:9:{s:6:\"userid\";s:2:\"59\";s:4:\"temp\";N;s:6:\"field1\";s:0:\"\";s:6:\"field2\";s:10:\"BC, Canada\";s:6:\"field3\";s:0:\"\";s:6:\"field4\";s:0:\"\";s:6:\"field5\";s:0:\"\";s:6:\"field6\";s:0:\"\";s:6:\"field7\";s:0:\"\";}i:60;a:9:{s:6:\"userid\";s:2:\"60\";s:4:\"temp\";N;s:6:\"field1\";s:0:\"\";s:6:\"field2\";s:5:\"SoCal\";s:6:\"field3\";s:18:\"Various and sundry\";s:6:\"field4\";s:17:\"5th grade teacher\";s:6:\"field5\";s:0:\"\";s:6:\"field6\";s:0:\"\";s:6:\"field7\";s:0:\"\";}i:61;a:9:{s:6:\"userid\";s:2:\"61\";s:4:\"temp\";N;s:6:\"field1\";s:0:\"\";s:6:\"field2\";s:0:\"\";s:6:\"field3\";s:0:\"\";s:6:\"field4\";s:0:\"\";s:6:\"field5\";s:0:\"\";s:6:\"field6\";s:0:\"\";s:6:\"field7\";s:0:\"\";}i:62;a:9:{s:6:\"userid\";s:2:\"62\";s:4:\"temp\";N;s:6:\"field1\";s:0:\"\";s:6:\"field2\";s:12:\"Good old USA\";s:6:\"field3\";s:0:\"\";s:6:\"field4\";s:0:\"\";s:6:\"field5\";s:0:\"\";s:6:\"field6\";s:0:\"\";s:6:\"field7\";s:0:\"\";}i:63;a:9:{s:6:\"userid\";s:2:\"63\";s:4:\"temp\";N;s:6:\"field1\";s:0:\"\";s:6:\"field2\";s:5:\"Japan\";s:6:\"field3\";s:0:\"\";s:6:\"field4\";s:0:\"\";s:6:\"field5\";s:0:\"\";s:6:\"field6\";s:0:\"\";s:6:\"field7\";s:0:\"\";}i:64;a:9:{s:6:\"userid\";s:2:\"64\";s:4:\"temp\";N;s:6:\"field1\";N;s:6:\"field2\";s:0:\"\";s:6:\"field3\";s:0:\"\";s:6:\"field4\";s:0:\"\";s:6:\"field5\";s:0:\"\";s:6:\"field6\";s:0:\"\";s:6:\"field7\";s:0:\"\";}i:65;a:9:{s:6:\"userid\";s:2:\"65\";s:4:\"temp\";N;s:6:\"field1\";s:0:\"\";s:6:\"field2\";s:10:\"California\";s:6:\"field3\";s:71:\"Digital Scrapbooking, Family, Homeschooling, PSP, Computer, Photography\";s:6:\"field4\";s:32:\"Office Manager, digital Designer\";s:6:\"field5\";s:0:\"\";s:6:\"field6\";s:0:\"\";s:6:\"field7\";s:0:\"\";}i:66;a:9:{s:6:\"userid\";s:2:\"66\";s:4:\"temp\";N;s:6:\"field1\";s:0:\"\";s:6:\"field2\";s:0:\"\";s:6:\"field3\";s:0:\"\";s:6:\"field4\";s:0:\"\";s:6:\"field5\";s:0:\"\";s:6:\"field6\";s:0:\"\";s:6:\"field7\";s:0:\"\";}i:67;a:9:{s:6:\"userid\";s:2:\"67\";s:4:\"temp\";N;s:6:\"field1\";s:0:\"\";s:6:\"field2\";s:17:\"Orange County, CA\";s:6:\"field3\";s:37:\"knitting and collecting digi-supplies\";s:6:\"field4\";s:0:\"\";s:6:\"field5\";s:0:\"\";s:6:\"field6\";s:0:\"\";s:6:\"field7\";s:0:\"\";}i:68;a:9:{s:6:\"userid\";s:2:\"68\";s:4:\"temp\";N;s:6:\"field1\";s:0:\"\";s:6:\"field2\";s:27:\"in my hammock by the sea ;)\";s:6:\"field3\";s:0:\"\";s:6:\"field4\";s:0:\"\";s:6:\"field5\";s:0:\"\";s:6:\"field6\";s:0:\"\";s:6:\"field7\";s:0:\"\";}i:69;a:9:{s:6:\"userid\";s:2:\"69\";s:4:\"temp\";N;s:6:\"field1\";s:0:\"\";s:6:\"field2\";s:8:\"Oklahoma\";s:6:\"field3\";s:24:\"Scrapbooking (All types)\";s:6:\"field4\";s:4:\"SAHM\";s:6:\"field5\";s:0:\"\";s:6:\"field6\";s:0:\"\";s:6:\"field7\";s:0:\"\";}i:70;a:9:{s:6:\"userid\";s:2:\"70\";s:4:\"temp\";N;s:6:\"field1\";s:0:\"\";s:6:\"field2\";s:5:\"Texas\";s:6:\"field3\";s:0:\"\";s:6:\"field4\";s:0:\"\";s:6:\"field5\";s:0:\"\";s:6:\"field6\";s:0:\"\";s:6:\"field7\";s:0:\"\";}i:71;a:9:{s:6:\"userid\";s:2:\"71\";s:4:\"temp\";N;s:6:\"field1\";s:0:\"\";s:6:\"field2\";s:0:\"\";s:6:\"field3\";s:0:\"\";s:6:\"field4\";s:0:\"\";s:6:\"field5\";s:0:\"\";s:6:\"field6\";s:0:\"\";s:6:\"field7\";s:0:\"\";}i:72;a:9:{s:6:\"userid\";s:2:\"72\";s:4:\"temp\";N;s:6:\"field1\";s:0:\"\";s:6:\"field2\";s:0:\"\";s:6:\"field3\";s:0:\"\";s:6:\"field4\";s:0:\"\";s:6:\"field5\";s:0:\"\";s:6:\"field6\";s:0:\"\";s:6:\"field7\";s:0:\"\";}i:73;a:9:{s:6:\"userid\";s:2:\"73\";s:4:\"temp\";N;s:6:\"field1\";s:0:\"\";s:6:\"field2\";s:0:\"\";s:6:\"field3\";s:0:\"\";s:6:\"field4\";s:0:\"\";s:6:\"field5\";s:0:\"\";s:6:\"field6\";s:0:\"\";s:6:\"field7\";s:0:\"\";}i:74;a:9:{s:6:\"userid\";s:2:\"74\";s:4:\"temp\";N;s:6:\"field1\";s:0:\"\";s:6:\"field2\";s:21:\"beautiful southern UT\";s:6:\"field3\";s:36:\"digi design, knitting, outdoor stuff\";s:6:\"field4\";s:23:\"Mommy, Digital Designer\";s:6:\"field5\";s:0:\"\";s:6:\"field6\";s:0:\"\";s:6:\"field7\";s:0:\"\";}i:75;a:9:{s:6:\"userid\";s:2:\"75\";s:4:\"temp\";N;s:6:\"field1\";s:0:\"\";s:6:\"field2\";s:8:\"Maryland\";s:6:\"field3\";s:0:\"\";s:6:\"field4\";s:0:\"\";s:6:\"field5\";s:0:\"\";s:6:\"field6\";s:0:\"\";s:6:\"field7\";s:0:\"\";}i:76;a:9:{s:6:\"userid\";s:2:\"76\";s:4:\"temp\";N;s:6:\"field1\";s:0:\"\";s:6:\"field2\";s:12:\"South Dakota\";s:6:\"field3\";s:0:\"\";s:6:\"field4\";s:0:\"\";s:6:\"field5\";s:0:\"\";s:6:\"field6\";s:0:\"\";s:6:\"field7\";s:0:\"\";}i:77;a:9:{s:6:\"userid\";s:2:\"77\";s:4:\"temp\";N;s:6:\"field1\";s:0:\"\";s:6:\"field2\";s:9:\"Louisiana\";s:6:\"field3\";s:46:\"The outdoors, old houses, history, photography\";s:6:\"field4\";s:17:\"Domestic Engineer\";s:6:\"field5\";s:0:\"\";s:6:\"field6\";s:0:\"\";s:6:\"field7\";s:0:\"\";}i:78;a:9:{s:6:\"userid\";s:2:\"78\";s:4:\"temp\";N;s:6:\"field1\";s:0:\"\";s:6:\"field2\";s:6:\"NorCal\";s:6:\"field3\";s:0:\"\";s:6:\"field4\";s:0:\"\";s:6:\"field5\";s:0:\"\";s:6:\"field6\";s:0:\"\";s:6:\"field7\";s:0:\"\";}i:79;a:9:{s:6:\"userid\";s:2:\"79\";s:4:\"temp\";N;s:6:\"field1\";s:0:\"\";s:6:\"field2\";s:0:\"\";s:6:\"field3\";s:0:\"\";s:6:\"field4\";s:0:\"\";s:6:\"field5\";s:0:\"\";s:6:\"field6\";s:0:\"\";s:6:\"field7\";s:0:\"\";}i:80;a:9:{s:6:\"userid\";s:2:\"80\";s:4:\"temp\";N;s:6:\"field1\";s:0:\"\";s:6:\"field2\";s:15:\"The Netherlands\";s:6:\"field3\";s:0:\"\";s:6:\"field4\";s:0:\"\";s:6:\"field5\";s:0:\"\";s:6:\"field6\";s:0:\"\";s:6:\"field7\";s:0:\"\";}i:81;a:9:{s:6:\"userid\";s:2:\"81\";s:4:\"temp\";N;s:6:\"field1\";s:0:\"\";s:6:\"field2\";s:6:\"NorCal\";s:6:\"field3\";s:52:\"art (i paint, murals and canvas)etc, cooking, design\";s:6:\"field4\";s:88:\"i make plastic food storage containers, and am a graphic designer and a few other things\";s:6:\"field5\";s:0:\"\";s:6:\"field6\";s:0:\"\";s:6:\"field7\";s:0:\"\";}i:82;a:9:{s:6:\"userid\";s:2:\"82\";s:4:\"temp\";N;s:6:\"field1\";s:0:\"\";s:6:\"field2\";s:0:\"\";s:6:\"field3\";s:0:\"\";s:6:\"field4\";s:0:\"\";s:6:\"field5\";s:0:\"\";s:6:\"field6\";s:0:\"\";s:6:\"field7\";s:0:\"\";}i:83;a:9:{s:6:\"userid\";s:2:\"83\";s:4:\"temp\";N;s:6:\"field1\";s:0:\"\";s:6:\"field2\";s:0:\"\";s:6:\"field3\";s:0:\"\";s:6:\"field4\";s:0:\"\";s:6:\"field5\";s:0:\"\";s:6:\"field6\";s:0:\"\";s:6:\"field7\";s:0:\"\";}i:84;a:9:{s:6:\"userid\";s:2:\"84\";s:4:\"temp\";N;s:6:\"field1\";s:0:\"\";s:6:\"field2\";s:13:\"Vancouver, WA\";s:6:\"field3\";s:0:\"\";s:6:\"field4\";s:4:\"SAHM\";s:6:\"field5\";s:0:\"\";s:6:\"field6\";s:0:\"\";s:6:\"field7\";s:0:\"\";}i:85;a:9:{s:6:\"userid\";s:2:\"85\";s:4:\"temp\";N;s:6:\"field1\";s:0:\"\";s:6:\"field2\";s:9:\"Australia\";s:6:\"field3\";s:0:\"\";s:6:\"field4\";s:0:\"\";s:6:\"field5\";s:0:\"\";s:6:\"field6\";s:0:\"\";s:6:\"field7\";s:0:\"\";}i:86;a:9:{s:6:\"userid\";s:2:\"86\";s:4:\"temp\";N;s:6:\"field1\";s:0:\"\";s:6:\"field2\";s:9:\"The BEACH\";s:6:\"field3\";s:48:\"Digital Scrapbooking, Photograpy, Jewelry Making\";s:6:\"field4\";s:17:\"Domestic Engineer\";s:6:\"field5\";s:0:\"\";s:6:\"field6\";s:0:\"\";s:6:\"field7\";s:0:\"\";}i:87;a:9:{s:6:\"userid\";s:2:\"87\";s:4:\"temp\";N;s:6:\"field1\";s:0:\"\";s:6:\"field2\";s:25:\"Back in the Flatlands....\";s:6:\"field3\";s:0:\"\";s:6:\"field4\";s:4:\"SAHM\";s:6:\"field5\";s:0:\"\";s:6:\"field6\";s:0:\"\";s:6:\"field7\";s:0:\"\";}i:88;a:9:{s:6:\"userid\";s:2:\"88\";s:4:\"temp\";N;s:6:\"field1\";s:0:\"\";s:6:\"field2\";s:8:\"Kentucky\";s:6:\"field3\";s:0:\"\";s:6:\"field4\";s:0:\"\";s:6:\"field5\";s:0:\"\";s:6:\"field6\";s:0:\"\";s:6:\"field7\";s:0:\"\";}i:89;a:9:{s:6:\"userid\";s:2:\"89\";s:4:\"temp\";N;s:6:\"field1\";N;s:6:\"field2\";s:0:\"\";s:6:\"field3\";s:0:\"\";s:6:\"field4\";s:0:\"\";s:6:\"field5\";s:0:\"\";s:6:\"field6\";s:0:\"\";s:6:\"field7\";s:0:\"\";}i:90;a:9:{s:6:\"userid\";s:4:\"4284\";s:4:\"temp\";N;s:6:\"field1\";N;s:6:\"field2\";N;s:6:\"field3\";N;s:6:\"field4\";N;s:6:\"field5\";s:0:\"\";s:6:\"field6\";s:0:\"\";s:6:\"field7\";s:0:\"\";}i:91;a:9:{s:6:\"userid\";s:2:\"91\";s:4:\"temp\";N;s:6:\"field1\";s:0:\"\";s:6:\"field2\";s:0:\"\";s:6:\"field3\";s:46:\"digi scrapping, reading, gardening, homeschool\";s:6:\"field4\";s:4:\"SAHM\";s:6:\"field5\";s:0:\"\";s:6:\"field6\";s:0:\"\";s:6:\"field7\";s:0:\"\";}i:92;a:9:{s:6:\"userid\";s:2:\"92\";s:4:\"temp\";N;s:6:\"field1\";s:0:\"\";s:6:\"field2\";s:18:\"San Antonio, Texas\";s:6:\"field3\";s:0:\"\";s:6:\"field4\";s:0:\"\";s:6:\"field5\";s:0:\"\";s:6:\"field6\";s:0:\"\";s:6:\"field7\";s:0:\"\";}i:93;a:9:{s:6:\"userid\";s:2:\"93\";s:4:\"temp\";N;s:6:\"field1\";s:0:\"\";s:6:\"field2\";s:18:\"Idaho Falls, Idaho\";s:6:\"field3\";s:100:\"Scap books of course, stamping, knitting, crochet, cross stich, beading, jewelry making, cooking, se\";s:6:\"field4\";s:14:\"Homeschool mom\";s:6:\"field5\";s:0:\"\";s:6:\"field6\";s:0:\"\";s:6:\"field7\";s:0:\"\";}i:94;a:9:{s:6:\"userid\";s:2:\"94\";s:4:\"temp\";N;s:6:\"field1\";N;s:6:\"field2\";s:0:\"\";s:6:\"field3\";s:0:\"\";s:6:\"field4\";s:4:\"SAHM\";s:6:\"field5\";s:0:\"\";s:6:\"field6\";s:0:\"\";s:6:\"field7\";s:0:\"\";}i:95;a:9:{s:6:\"userid\";s:2:\"95\";s:4:\"temp\";N;s:6:\"field1\";s:0:\"\";s:6:\"field2\";s:12:\"Indianapolis\";s:6:\"field3\";s:0:\"\";s:6:\"field4\";s:4:\"SAHM\";s:6:\"field5\";s:0:\"\";s:6:\"field6\";s:0:\"\";s:6:\"field7\";s:0:\"\";}i:96;a:9:{s:6:\"userid\";s:2:\"96\";s:4:\"temp\";N;s:6:\"field1\";s:0:\"\";s:6:\"field2\";s:5:\"Maine\";s:6:\"field3\";s:0:\"\";s:6:\"field4\";s:7:\"teacher\";s:6:\"field5\";s:0:\"\";s:6:\"field6\";s:0:\"\";s:6:\"field7\";s:0:\"\";}i:97;a:9:{s:6:\"userid\";s:2:\"97\";s:4:\"temp\";N;s:6:\"field1\";s:0:\"\";s:6:\"field2\";s:0:\"\";s:6:\"field3\";s:0:\"\";s:6:\"field4\";s:0:\"\";s:6:\"field5\";s:0:\"\";s:6:\"field6\";s:0:\"\";s:6:\"field7\";s:0:\"\";}i:98;a:9:{s:6:\"userid\";s:2:\"98\";s:4:\"temp\";N;s:6:\"field1\";s:0:\"\";s:6:\"field2\";s:8:\"Michigan\";s:6:\"field3\";s:0:\"\";s:6:\"field4\";s:4:\"SAHM\";s:6:\"field5\";s:0:\"\";s:6:\"field6\";s:0:\"\";s:6:\"field7\";s:0:\"\";}i:99;a:9:{s:6:\"userid\";s:2:\"99\";s:4:\"temp\";N;s:6:\"field1\";s:0:\"\";s:6:\"field2\";s:0:\"\";s:6:\"field3\";s:0:\"\";s:6:\"field4\";s:0:\"\";s:6:\"field5\";s:0:\"\";s:6:\"field6\";s:0:\"\";s:6:\"field7\";s:0:\"\";}}s:6:\"result\";b:1;}\n"
     ]
    }
   ],
   "source": [
    "import base64\n",
    "\n",
    "s = \"123456\"\n",
    "s1 = base64.b64encode(s)\n",
    "\n",
    "print(s1)\n",
    "\n",
    "b = \"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\"\n",
    "b1 = base64.b64decode(b)\n",
    "\n",
    "print(b1)"
   ]
  },
  {
   "cell_type": "code",
   "execution_count": 34,
   "metadata": {},
   "outputs": [
    {
     "name": "stdout",
     "output_type": "stream",
     "text": [
      "{}\n"
     ]
    }
   ],
   "source": [
    "import json\n",
    "from pprint import pprint\n",
    "\n",
    "string = r'{}'\n",
    "obj = json.loads(string, strict=False)\n",
    "\n",
    "pprint(obj)"
   ]
  },
  {
   "cell_type": "markdown",
   "metadata": {},
   "source": [
    "# custom css\n",
    "\n",
    "for NSFW site, also hide custom option in acp， it's in hs ->modules ->ACP->ACP EXTENTION->HS STYLE. BE very careful about it.\n",
    "在config初始化的地方修改\n",
    "\n",
    "custom css 选项受config中的 hs_customcss_enabled控制，1显示"
   ]
  },
  {
   "cell_type": "markdown",
   "metadata": {},
   "source": [
    "'2482', '3474', '0', 'daler177 minnra...', 'PAY-4HJ04435TH9875738LMBKYQA', '5.00', 'paypal', 'donate', 'donate', '', '', 'PAYMENT.SALE.COMPLETED', '1859631', '2018-05-21 11:24:43'\n",
    "'2367', '16889', '0', 'rodmac', 'PAY-3GL99230JJ206045SLLXA27A', '20.00', 'paypal', 'donate', 'donate', '', '', 'PAYMENT.SALE.COMPLETED', '1940139', '2018-05-05 20:02:57'\n",
    "'2362', '2523', '0', 'pavledj', 'ch_1CO5BYJNFwUMjrIjUe6Gr6A9', '10.00', 'stripe', 'donate', 'donate', '', '', 'charge.succeeded', '1922612', '2018-05-04 14:47:07'\n",
    "'2275', '455', '10762713', 'ranadd', 'ch_1CJ7WTJNFwUMjrIjziu52R7b', '20.00', 'stripe', 'donate', 'donate', '', '', 'charge.succeeded', '1924176', '2018-04-20 22:16:09'\n",
    "'2274', '721', '0', 'pr_guy_since_19...', 'PAY-0FH64707R18777902LLMY7QA', '5.00', 'paypal', 'donate', 'donate', '', '', 'PAYMENT.SALE.COMPLETED', '115269', '2018-04-20 06:59:56'\n",
    "'2268', '16889', '0', 'wanderinggael', 'PAY-25G667430B023621CLLLW5GA', '15.00', 'paypal', 'donate', 'donate', '', '', 'PAYMENT.SALE.COMPLETED', '1940139', '2018-04-18 16:13:47'\n",
    "'2231', '14812', '0', 'jim100', 'ch_1CH5SfJNFwUMjrIjWLEYatax', '5.00', 'stripe', 'donate', 'donate', '', '', 'charge.succeeded', '119248', '2018-04-15 07:39:49'\n",
    "'2220', '4839', '0', 'rmhf', 'PAY-78208812H07465218LLH77KA', '20.00', 'paypal', 'donate', 'donate', '', '', 'PAYMENT.SALE.COMPLETED', '1925279', '2018-04-13 00:54:47'\n",
    "'2068', '2229', '0', 'oldmanscotty', 'ch_1C7sTDJNFwUMjrIjGVrq8Vso', '10.00', 'stripe', 'donate', 'donate', '', '', 'charge.succeeded', '1922381', '2018-03-20 21:58:21'\n",
    "'2063', '455', '10762422', 'patrickfraser', 'PAY-9E686518EW199142LLKYHZ5Q', '5.00', 'paypal', 'donate', 'donate', '', '', 'PAYMENT.SALE.COMPLETED', '1924176', '2018-03-20 03:16:40'\n",
    "'1923', '2087', '0', 'greggforte', 'PAY-5XW67229UY410031ELKQIIDQ', '10.00', 'paypal', 'donate', 'donate', '', '', 'PAYMENT.SALE.COMPLETED', '1922169', '2018-03-08 00:30:36'\n",
    "'1907', '4576', '0', 'mikefrance', 'PAY-4KD77836WH922281YLKPFFTI', '5.00', 'paypal', 'donate', 'donate', '', '', 'PAYMENT.SALE.COMPLETED', '1925036', '2018-03-06 08:37:10'\n",
    "'1767', '1834', '0', 'benotdeceived', 'PAY-60L1842489639691PLJ6UFDA', '10.00', 'paypal', 'donate', 'donate', '', '', 'PAYMENT.SALE.COMPLETED', '1860082', '2018-02-09 06:42:23'\n",
    "'1714', '2163', '0', 'sgsg9999', 'PAY-3R135178SU290372FLJZGJMY', '5.00', 'paypal', 'donate', 'donate', '', '', 'PAYMENT.SALE.COMPLETED', '1922308', '2018-02-01 00:52:49'\n",
    "'1711', '14812', '0', 'intodeeep', 'ch_1BqFfLJNFwUMjrIjlG6e1wUy', '10.00', 'stripe', 'donate', 'donate', '', '', 'charge.succeeded', '119248', '2018-01-31 07:06:00'\n",
    "'1682', '4576', '0', 'tricksterdude', 'PAY-23K09466ET251201SLJWPLCQ', '5.00', 'paypal', 'donate', 'donate', '', '', 'PAYMENT.SALE.COMPLETED', '1925036', '2018-01-27 21:57:02'\n",
    "'1679', '1886', '0', 'trevorbull', 'ch_1BorZOJNFwUMjrIjK6yndRNX', '5.00', 'stripe', 'donate', 'donate', '', '', 'charge.succeeded', '1921742', '2018-01-27 11:10:08'\n",
    "'1662', '27945', '0', 'foreverjasam', 'ch_1BnyIqJNFwUMjrIjrN3VvQYu', '5.00', 'stripe', 'donate', 'donate', '', '', 'charge.succeeded', '2007153', '2018-01-25 00:09:19'\n",
    "'1649', '4576', '0', 'alex.koegel', 'PAY-59903487AC4399217LJTA7YQ', '5.00', 'paypal', 'donate', 'donate', '', '', 'PAYMENT.SALE.COMPLETED', '1925036', '2018-01-22 16:23:56'\n",
    "'1640', '2229', '0', 'jbummy43', 'ch_1BmOFrJNFwUMjrIj9tH1TaQ9', '10.00', 'stripe', 'donate', 'donate', '', '', 'charge.succeeded', '1922381', '2018-01-20 15:27:43'"
   ]
  },
  {
   "cell_type": "markdown",
   "metadata": {},
   "source": [
    "error_trigger.ERROR: SQL ERROR [ mysqli ]Field 'pf_phpbb_interests' doesn't have a default value [1364]An SQL error occurred while fetching this page. Please contact the Board Administrator if this problem persists. [SQL: INSERT INTO chanpochu_profile_fields_data  (pf_color, pf_nobots, pf_whatdateistoday, user_id, pf_location, pf_website, pf_interests, pf_occupation) VALUES (5, 3, 23, 124, '', '', '', '') ]  {\"host\":\"'ip-172-66-2-154'\",\"userInfos\":\"[ URL: https://www.tapatalk.com/groups/chanpochu/ucp.php?auth_provider=ttid&mode=register ], [ USER_ID: '0' ], [ USER_NAME: 'Anonymous' ], [ is_bot: false ], [ is_registered: false ], [ brower: 'Mozilla/5.0 (Windows NT 10.0; Win64; x64; rv:59.0) Gecko/20100101 Firefox/59.0' ], [ ip: '72.52.65.187' ], [ session_forum_id: '0' ], [ user_session_id: '94e4cced988f3b8e997188f592ab3994' ] \",\"file\":\"/efs/forum-hosting-new/code/phpbb/db/driver/driver.php\",\"line\":1009,\"backtrace\":\"FILE: (not given by php)LINE: (not given by php)CALL: msg_handler()FILE: [ROOT]/phpbb/db/driver/driver.phpLINE: 1009CALL: trigger_error()FILE: [ROOT]/phpbb/db/driver/mysqli.phpLINE: 208CALL: phpbb\\\\db\\\\driver\\\\driver-&gt;sql_error()FILE: [ROOT]/phpbb/db/driver/factory.phpLINE: 329CALL: phpbb\\\\db\\\\driver\\\\mysqli-&gt;sql_query()FILE: [ROOT]/includes/functions_user.phpLINE: 302CALL: phpbb\\\\db\\\\driver\\\\factory-&gt;sql_query()FILE: [ROOT]/includes/ucp/ucp_register.phpLINE: 437CALL: user_add()FILE: [ROOT]/includes/functions_module.phpLINE: 744CALL: ucp_register-&gt;main()FILE: [ROOT]/includes/functions_module.phpLINE: 1066CALL: p_master-&gt;load_active()FILE: [ROOT]/ucp.phpLINE: 93CALL: p_master-&gt;load()\",\"error_id\":\"58613618415244749350\"}"
   ]
  },
  {
   "cell_type": "markdown",
   "metadata": {},
   "source": [
    "### filter atteachment comment\n",
    "<script>\n",
    "    $(function () {\n",
    "\n",
    "        (function () {\n",
    "\n",
    "            var target = document.getElementById('file-list');\n",
    "            var config = {childList: true};\n",
    "            var callback = function (mutationsList) {\n",
    "                for(var i in mutationsList) {\n",
    "                    if (mutationsList.hasOwnProperty(i) && mutationsList[i].type == 'childList')\n",
    "                    {\n",
    "                        var id = mutationsList[i].addedNodes[0].id;\n",
    "\n",
    "                        $('#' + id).find('.attach-comment-textarea').on('change keyup', function() {\n",
    "                            var val = $(this).val();\n",
    "                            var re = /\\[(\\w+)[^\\]]*](.*?)\\[\\/\\1]/g;\n",
    "                            $(this).val(val.replace(re, ''));\n",
    "                        });\n",
    "\n",
    "//                        $(mutationsList[i].addedNodes[0]).find('.attach-comment-textarea').on('change', function(){\n",
    "//                            console.log($(this));\n",
    "//                            return value.replace(/[^ -~]/g, '');\n",
    "//                        });\n",
    "                    }\n",
    "                }\n",
    "            };\n",
    "\n",
    "            var observer = new MutationObserver(callback);\n",
    "\n",
    "            observer.observe(target, config);\n",
    "\n",
    "        })();\n",
    "    });\n",
    "</script>"
   ]
  },
  {
   "cell_type": "markdown",
   "metadata": {},
   "source": [
    "ERROR id:14366 fid:115484\n",
    "ERROR id:14374 fid:115814\n",
    "ERROR id:14382 fid:116325\n",
    "ERROR id:14384 fid:116522\n",
    "ERROR id:14897 fid:116628\n",
    "ERROR id:14387 fid:116787\n",
    "ERROR id:14405 fid:117513\n",
    "ERROR id:14411 fid:117964\n",
    "ERROR id:14419 fid:118676\n",
    "ERROR id:14935 fid:118695\n",
    "ERROR id:14423 fid:118999\n",
    "ERROR id:14432 fid:119522\n",
    "ERROR id:14954 fid:119709\n",
    "ERROR id:14462 fid:123450\n",
    "ERROR id:14464 fid:125005\n",
    "ERROR id:14466 fid:125680\n",
    "ERROR id:14471 fid:127529\n",
    "ERROR id:14482 fid:1523474\n",
    "ERROR id:14492 fid:1540082\n",
    "ERROR id:14629 fid:1926113\n",
    "ERROR id:14645 fid:1932239\n",
    "ERROR id:15170 fid:1932686\n",
    "ERROR id:14648 fid:1933846\n",
    "ERROR id:14649 fid:1934168\n",
    "ERROR id:14650 fid:1934296\n",
    "ERROR id:14654 fid:1935338\n",
    "ERROR id:14655 fid:1935519\n",
    "ERROR id:14658 fid:1935538\n",
    "ERROR id:14659 fid:1935575\n",
    "ERROR id:14660 fid:1935606\n",
    "ERROR id:14661 fid:1935665\n",
    "ERROR id:14662 fid:1935724\n",
    "ERROR id:14665 fid:1935760\n",
    "ERROR id:14666 fid:1935774\n",
    "ERROR id:15692 fid:1935818\n",
    "ERROR id:14668 fid:1935851\n",
    "ERROR id:14669 fid:1935857\n",
    "ERROR id:14671 fid:1935893\n",
    "ERROR id:14673 fid:1935926\n",
    "ERROR id:14675 fid:1935978\n",
    "ERROR id:14676 fid:1936007\n",
    "ERROR id:14679 fid:1936078\n",
    "ERROR id:14680 fid:1936081\n",
    "ERROR id:15706 fid:1936112\n",
    "ERROR id:14681 fid:1936141\n",
    "ERROR id:14684 fid:1936245\n",
    "ERROR id:14687 fid:1936301\n",
    "ERROR id:14688 fid:1936305\n",
    "ERROR id:14689 fid:1936308\n",
    "ERROR id:14693 fid:1936446\n",
    "ERROR id:14694 fid:1936455\n",
    "ERROR id:14696 fid:1936467\n",
    "ERROR id:14705 fid:1940085\n",
    "ERROR id:14708 fid:1940688\n",
    "ERROR id:14709 fid:1941004\n",
    "ERROR id:14714 fid:1942069\n",
    "ERROR id:14715 fid:1942075\n",
    "ERROR id:14716 fid:1942076\n",
    "ERROR id:14717 fid:1942109\n",
    "ERROR id:65 fid:1942188\n",
    "ERROR id:10130 fid:1942188\n",
    "ERROR id:14721 fid:1942201\n",
    "ERROR id:14723 fid:1942278\n",
    "ERROR id:15781 fid:1966031\n",
    "ERROR id:11348 fid:1973232"
   ]
  },
  {
   "cell_type": "markdown",
   "metadata": {},
   "source": [
    "deleted Premium10 bug in ttg_goldpoint_history 11991-11995, subscribed premium tier 6 times."
   ]
  },
  {
   "cell_type": "markdown",
   "metadata": {},
   "source": [
    "recalculate gold point.\n",
    "use only ttg_gold_point_hitory\n",
    "\n",
    "\n",
    "[Response Body] => {\"result\":false,\"api_key\":\"86F75C37951B7A69A5175C3618008947\",\"forum_info\":{\"forum_id\":2028079,\"forum_logo\":\"\",\"banner_enable\":1,\"facebook_enable\":-1,\"twitter_enable\":-1,\"google_enable\":-1,\"twitter_account\":false,\"file_redirect\":0,\"image_redirect\":0,\"track_tag\":0,\"tag_id\":\"425016\",\"byo_info\":{\"app_ios_aid\":\"\",\"app_android_id\":\"com.quoord.tapatalkpro.activity\",\"app_android_aid\":\"\",\"app_alert_message\":\"Read forum faster on mobile. Get the Free Tapatalk app?\",\"app_banner_message_ios\":\"Read forum faster on mobile. Get the Free Tapatalk app?\",\"app_android_description\":\"Tapatalk connects to over 100,000 online forums worldwide. Post easily with unlimited Photo and Video sharing and instant push notifications. Tapatalk forever change the way you interact with online forums on mobile.\",\"forum_id\":\"2028079\",\"app_banner_message_android\":\"Read forum faster on mobile. Get the Free Tapatalk app?\",\"app_alert_status\":\"0\",\"app_name\":\"Tapatalk\",\"app_url_scheme\":\"tapatalk\",\"app_icon_url\":\"\",\"app_ios_description\":\"Tapatalk connects to over 100,000 online forums worldwide. Post easily with unlimited Photo and Video sharing and instant push notifications. Tapatalk forever change the way you interact with online forums on mobile.\",\"app_ios_id\":\"307880732\",\"app_rebranding_id\":\"90\"},\"group_info\":{\"name\":\"jaytest923\",\"description\":\"default style testing\",\"logo\":\"\",\"logo_display\":1,\"cover\":\"\",\"web_ads\":0,\"web_ads_guest\":1,\"language\":\"en\",\"country\":\"US\",\"color_1\":\"\",\"piwik_id\":0,\"custom_domain\":false,\"tier\":0,\"gold_point\":0,\"brand_nav\":1,\"brand_app_download\":1}}}\n"
   ]
  },
  {
   "cell_type": "markdown",
   "metadata": {},
   "source": [
    "# NOMOREQUICKCHANGE"
   ]
  },
  {
   "cell_type": "markdown",
   "metadata": {},
   "source": [
    "- tapatalk.com,  winter提的issue要修\n",
    "- ttg 默认头尾的颜色要改变"
   ]
  },
  {
   "cell_type": "markdown",
   "metadata": {},
   "source": [
    "define(\"PAYPAL_PREMIUM_PLAN1\", \"P-1CM50901UM855411S276YSDA\");\n",
    "define(\"PAYPAL_PREMIUM_PLAN2\", \"P-6BP24878HE2195525276ZWGY\");\n",
    "define(\"PAYPAL_PREMIUM_PLAN3\", \"P-15V33115YN784303N2762X5I\");\n",
    "define(\"PAYPAL_PREMIUM_PLAN5\", \"P-42175876WU482692C2764SWI\");\n",
    "define(\"PAYPAL_PREMIUM_PLAN10\", \"P-48H13679XE9721938277FMDY\");\n",
    "define(\"PAYPAL_PREMIUM_PLAN20\", \"P-0EP67098S7658322M277GQFQ\");\n",
    "define(\"PAYPAL_PREMIUM_PLAN50\", \"P-7KP61944PJ359484M277HTZQ\");\n",
    "define(\"PAYPAL_PREMIUM_PLAN100\", \"P-70W770302Y617983A277IWAI\");\n",
    "\n",
    "\n",
    "INSERT INTO `quoord_taptaptalk`.`forums_settings` (`fid`, `name`, `value`, `updated`) VALUES ('2020728', 'gold_point', '1000', '2017-12-18 12:55:09');\n",
    "\n",
    "\n",
    "eval:if(isset($hs_forum_data['forum_tier']) && $hs_forum_data['forum_tier'] == 1 && !empty($config['googleanalytics_id'])) { $value = $config['googleanalytics_id']; $allow_vars[] = $var; } else{ $value = 'UA-97701219-1'; if(isset($hs_forum_data['source_forum_network']) && !empty($hs_forum_data['source_forum_network'])) { switch ($hs_forum_data['source_forum_network']) { case 'prophpbb.com': $value = 'UA-97701219-4'; break; case 'freeforums.org': $value = 'UA-97701219-3'; break; case 'yuku.com': $value = 'UA-97701219-2'; break; case 'myfreeforum': $value = 'UA-97701219-5'; break; case 'invisionfree.com': $value = 'UA-97701219-7'; break;} }}\n",
    "\n",
    "\n",
    "eval:if(isset($hs_forum_data['forum_tier']) && $hs_forum_data['forum_tier'] == 1 && !empty($config['googleanalytics_id'])) { $value = $config['googleanalytics_id']; $allow_vars[] = $var; } else{ $value = 'UA-97701219-1'; if(isset($hs_forum_data['source_forum_network'])) { switch ($hs_forum_data['source_forum_network']) { case 'prophpbb.com': $value = 'UA-97701219-4'; break; case 'freeforums.org': $value = 'UA-97701219-3'; break; case 'yuku.com': $value = 'UA-97701219-2'; break; case 'myfreeforum': $value = 'UA-97701219-5'; break; case 'invisionfree.com': $value = 'UA-97701219-7'; break; case '': $value = 'UA-97701219-8'; break;} }}\n",
    "\n",
    "\n",
    "分类标题换行\n",
    "1. 头像改小\n",
    "3. 标题大一号\n",
    "5. 换行的标题间距缩小\n",
    "\n",
    "\n",
    ".com\n",
    "1. 导航没有垂直居中\n",
    "2. 右边图标和文字间距大了一点"
   ]
  },
  {
   "cell_type": "markdown",
   "metadata": {},
   "source": [
    "- 分类名 padding 不对  没有适配字体高度， 移动 DISCUSSION 页面的 Forum title  到  帖子名称下面\n",
    "- static page change, wechat yujia\n",
    "- premium membership/donation compatible light mode\n",
    "- welcome message, white background. if edited show it again\n",
    "- remove left icon from forum list, forum replay title 只显示一行，后面溢出部分用...替换\n",
    "- fix buckyville cover photo by js\n",
    "- TTID NEW USER EXPERIENCE 游客查看别人的 profile groups 没有出现\n",
    "\n",
    "---\n",
    "\n",
    "- follow up remove default logo issue\n",
    "- TTID NEW USER EXPERIENCE seems we don't use that position in the new home page\n",
    "- TTID NEW USER EXPERIENCE e.g. for our forum it should be \"tapatalksupport\"\n",
    "- TTID NEW USER EXPERIENCE 侧边栏文字修改，样式修复\n",
    "- add reset button to groups, remove hover underline\n",
    "- change phpbb logo in acp to tapatalk logo\n",
    "- paypal transaction id change. check sub status before cancel sub. paypal add forum name in subscribe description\n",
    "- move redis logic in PaymentComponent to TtgPaymentHistory model \n",
    "- offical website, IE11 issue\n",
    "- wechat change, remove default logo maybe difficult, try to do it on upload side.\n",
    "- remove .navbar_footer\n",
    "- update donatin paypal subscribe plan\n",
    "- paypal refund\n",
    "- https://github.com/tapatalk/tapatalk.com/issues/1873\n",
    "- https://github.com/tapatalk/tapatalk.com/issues/1872\n",
    "- https://github.com/tapatalk/tapatalk.com/issues/1866\n",
    "- hide default logo, if there is no custom logo given (message in wechat)\n",
    "- top nav bar mouse hover show dropdown.\n",
    "- notification check icon moving as mouse hover\n",
    "- user unexists in n54supporttest2\n",
    "- mail: Old link redirection and SEO\n",
    "- Add main donate button below stripe and paypal button\n",
    "- fix create forum mobile style on tapatalk.com\n",
    "- change update gold point loop, delete old ones before loop.\n",
    "- fix firefox anoymous user click issue, javascript:void(0) will open a new tab on firefox\n",
    "- add a tab to siteowners admin\n",
    "- fix header, theme color"
   ]
  },
  {
   "cell_type": "markdown",
   "metadata": {},
   "source": [
    "\n",
    "- 加字段 webhoook_id goods tapatalk_id\n",
    "- 加表 ttg_premium_members\n",
    "- 做退款，取消premium资格\n",
    "- V3 doantion 记录中加判断，看是否是donation\n",
    "- 取 redis 中的 Premium 记录，让用户可以subscribe 和 unsubscribe\n",
    "- 在user对象中加入 premium 状态，在升级到 Premium 之前判断用户是否已经是 Premium\n",
    "- 对于有 Premium 状态的用户  加徽章\n",
    "- fix v3 ads setting.\n",
    "- premium member badge\n",
    "- get notification from ajax\n",
    "- change premium members ads logic,\n",
    "- 修改 push goldpoint loop 判断 goods\n",
    "- 做push Premium loop 将过期的 Premium 移出用户组\n",
    "- premium member ads\n",
    "- upgrade block shwo to guests, if user is paied premium, hide it, if expired show it.\n",
    "- change donation email subject  https://mail.google.com/mail/u/0/?tab=wm#all/15fa19e42d51622e\n",
    "- payment history ajax, upgrade premium UI change\n",
    "- premium history ajax call\n",
    "- check edge cookie. https://mail.google.com/mail/u/0/?tab=wm#label/To+do+mail/15fa46ba21f2fe14\n",
    "- light mode fix\n",
    "- remove brand powered by\n",
    "- refund webhook, for both donation and premium\n",
    "- optimize shallUserNoAds, save is user no ads to redis, and isUserSupporterByUserId\n",
    "- remove donation less than 5 log\n",
    "- fix advertisement control user group select style.\n",
    "\n",
    "---\n",
    "\n",
    "- 分类名 padding 不对  没有适配字体高度， 移动 DISCUSSION 页面的 Forum title  到  帖子名称下面\n",
    "- static page change, wechat yujia\n",
    "- wechat change, remove default logo matbe difficult, try to do it on upload side.\n",
    "- remove .navbar_footer\n",
    "- update donatin paypal subscribe plan\n",
    "- paypal refund\n",
    "- https://github.com/tapatalk/tapatalk.com/issues/1873\n",
    "- https://github.com/tapatalk/tapatalk.com/issues/1872\n",
    "- https://github.com/tapatalk/tapatalk.com/issues/1866\n",
    "- hide default logo, if there is no custom logo given (message in wechat)\n",
    "- top nav bar mouse hover show dropdown.\n",
    "- notification check icon moving as mouse hover\n",
    "- user unexists in n54supporttest2\n",
    "- mail: Old link redirection and SEO\n",
    "- Add main donate button below stripe and paypal button\n",
    "- fix create forum mobile style on tapatalk.com\n",
    "- change update gold point loop, delete old ones before loop.\n",
    "- fix firefox anoymous user click issue, javascript:void(0) will open a new tab on firefox\n",
    "- add a tab to siteowners admin\n",
    "- fix header, theme color\n",
    "\n",
    "### premium\n",
    "*\n",
    "- TTG\n",
    "- 付款成功后将用户移动到 vip group\n",
    "- 在论坛和post处判断 Premium 权限，添加提示信息\n",
    "- V3\n",
    "- 再付款成功之后，存储/更新 Premium 的过期时间，新表\n",
    "- 在取消，退款操作之后，更新 Premium 的过期时间\n",
    "- cron\n",
    "- 每小时查看Premium的过期时间，通过 api 将用户从 Premium组里面移除\n",
    "*"
   ]
  },
  {
   "cell_type": "markdown",
   "metadata": {},
   "source": [
    "- 手动退款数据  doantion  quoord_taptaptalk.ttg_goldpoint_history  id:3468 "
   ]
  },
  {
   "cell_type": "markdown",
   "metadata": {},
   "source": [
    "- forum_id\n",
    "- user_id\n",
    "- created_at\n",
    "- updated_at\n",
    "- expire_at\n",
    "\n",
    "*\n",
    "create a table in hs core  \n",
    "use cron to monitor this table, and remove user from premium group\n",
    "*\n",
    "\n",
    "加字段 webhoook_id goods tapatalk_id\n",
    "加表 ttg_premium_members\n",
    "做退款，取消premium资格\n",
    "V3 doantion 记录中加判断，看是否是donation\n",
    "修改 push goldpoint loop 判断 goods\n",
    "做push Premium loop 将过期的 Premium 移出用户组\n",
    "ttg\n",
    "取 redis 中的 Premium 记录，让用户可以subscribe 和 unsubscribe\n",
    "在user对象中加入 premium 状态，在升级到 Premium 之前判断用户是否已经是 Premium\n",
    "对于有 Premium 状态的用户  加徽章"
   ]
  },
  {
   "cell_type": "markdown",
   "metadata": {},
   "source": [
    "### 1101\n",
    "\n",
    "- switch paypal and stripe button position\n",
    "- mail: Notification email doesn't open to the right post\n",
    "- mail: layout with subforum icon\n",
    "- combine css to one file.\n",
    "\n",
    "---\n",
    "\n",
    "- top nav bar mouse hover show dropdown.\n",
    "- notification check icon moving as mouse hover\n",
    "- user unexists in n54supporttest2\n",
    "- mail: Old link redirection and SEO\n",
    "- fix advertisement control user group select style.\n",
    "- remove donation less than 5 log\n",
    "- optimize shallUserNoAds, save is user no ads to redis, and isUserSupporterByUserId\n",
    "- Add main donate button below stripe and paypal button\n",
    "- fix create forum mobile style on tapatalk.com\n",
    "- change update gold point loop, delete old ones before loop.\n",
    "- fix firefox anoymous user click issue, javascript:void(0) will open a new tab on firefox\n",
    "- donation refund\n",
    "- add a tab to siteowners admin\n",
    "- fix header, theme color\n",
    "\n",
    "### premium\n",
    "*\n",
    "TTG\n",
    "付款成功后将用户移动到 vip group\n",
    "在论坛和post处判断 Premium 权限，添加提示信息\n",
    "V3\n",
    "再付款成功之后，存储/更新 Premium 的过期时间，新表\n",
    "在取消，退款操作之后，更新 Premium 的过期时间\n",
    "cron\n",
    "每小时查看Premium的过期时间，通过 api 将用户从 Premium组里面移除\n",
    "*"
   ]
  },
  {
   "cell_type": "markdown",
   "metadata": {},
   "source": [
    "## 1027\n",
    "\n",
    "---\n",
    "\n",
    "- switch paypal and stripe button position\n",
    "- fix advertisement control user group select style.\n",
    "- remove donation less than 5 log\n",
    "- optimize shallUserNoAds, save is user no ads to redis, and isUserSupporterByUserId\n",
    "- Add main donate button below stripe and paypal button\n",
    "- fix create forum mobile style on tapatalk.com\n",
    "- change update gold point loop, delete old ones before loop.\n",
    "- fix firefox anoymous user click issue, javascript:void(0) will open a new tab on firefox\n",
    "- donation refund\n",
    "- add a tab to siteowners admin\n",
    "- fix header, theme color"
   ]
  },
  {
   "cell_type": "markdown",
   "metadata": {},
   "source": [
    "## 1026\n",
    "\n",
    "- one time amount and per month amount sync.\n",
    "- mails until payment description\n",
    "- static page changes mentioned in wechat. a lot.\n",
    "\n",
    "---\n",
    "\n",
    "- fix advertisement control user group select style.\n",
    "- remove donation less than 5 log\n",
    "- optimize shallUserNoAds, save is user no ads to redis, and isUserSupporterByUserId\n",
    "- Add main donate button below stripe and paypal button\n",
    "- fix create forum mobile style on tapatalk.com\n",
    "- change update gold point loop, delete old ones before loop.\n",
    "- fix firefox anoymous user click issue, javascript:void(0) will open a new tab on firefox\n",
    "- donation refund\n",
    "- add a tab to siteowners admin\n",
    "- fix header, theme color"
   ]
  },
  {
   "cell_type": "markdown",
   "metadata": {},
   "source": [
    "## 1025\n",
    "- wording vertical align center and width to be 980px\n",
    "- image rotate when picture from ios.\n",
    "\n",
    "----\n",
    "- one time amount and per month amount sync.\n",
    "- fix advertisement control user group select style.\n",
    "- static page changes mentioned in wechat. a lot.\n",
    "- mails until payment description\n",
    "- remove donation less than 5 log\n",
    "- optimize shallUserNoAds, save is user no ads to redis, and isUserSupporterByUserId\n",
    "- Add main donate button below stripe and paypal button\n",
    "- fix create forum mobile style on tapatalk.com\n",
    "- change update gold point loop, delete old ones before loop.\n",
    "- fix firefox anoymous user click issue, javascript:void(0) will open a new tab on firefox\n",
    "- donation refund\n",
    "- add a tab to siteowners admin\n",
    "- fix header, theme color"
   ]
  },
  {
   "cell_type": "markdown",
   "metadata": {},
   "source": [
    "## 1020\n",
    "\n",
    "----\n",
    "- optimize shallUserNoAds, save is user no ads to redis, and isUserSupporterByUserId\n",
    "- Add main donate button below stripe and paypal button\n",
    "- fix create forum mobile style on tapatalk.com\n",
    "- change update gold point loop, delete old ones before loop.\n",
    "- fix firefox anoymous user click issue, javascript:void(0) will open a new tab on firefox\n",
    "- donation refund\n",
    "- add a tab to siteowners admin\n",
    "- fix header, theme color"
   ]
  },
  {
   "cell_type": "markdown",
   "metadata": {},
   "source": [
    "## 1019\n",
    "- fix .com/error page style\n",
    "- create forum button disable after created.\n",
    "\n",
    "----\n",
    "- optimize shallUserNoAds, save is user no ads to redis, and isUserSupporterByUserId\n",
    "- Add main donate button below stripe and paypal button\n",
    "- fix create forum mobile style on tapatalk.com\n",
    "- change update gold point loop, delete old ones before loop.\n",
    "- fix firefox anoymous user click issue, javascript:void(0) will open a new tab on firefox\n",
    "- donation refund\n",
    "- add a tab to siteowners admin\n",
    "- fix header, theme color"
   ]
  },
  {
   "cell_type": "markdown",
   "metadata": {},
   "source": [
    "## 1011\n",
    "  \n",
    "- IPB4.2 instruction\n",
    "- click postimage open two tabs on firefox, https://www.tapatalk.com/groups/tapatalksupport/more-image-problems-t37897-s10.html\n",
    "- profile links open new tab and goes to the link in the original tab, https://www.tapatalk.com/groups/tapatalksupport/viewtopic.php?t=37871\n",
    "- remove words below paypal button\n",
    "\n",
    "---\n",
    "\n",
    "- add forum url to transaction profile\n",
    "- change update gold point loop, delete old ones before loop.\n",
    "- fix firefox anoymous user click issue, javascript:void(0) will open a new tab on firefox\n",
    "- fix .com/error page style\n",
    "- add a tab to siteowners admin\n",
    "- forum name to short, overflow ecllipse\n",
    "- fix header, theme color\n",
    "- donation refund"
   ]
  },
  {
   "cell_type": "markdown",
   "metadata": {},
   "source": [
    "## 0930\n",
    "- nonexisting group and inactive group go to /error/page\n",
    "- ads control, show ads on ucp, memberlist, posting\n",
    "- gold point control tab, FO can withdraw Gold Points from system\n",
    "- profile badge, mobile click display, display left\n",
    "- add email after donation made.\n",
    "- change email logic in taptalk/push   EmailTransaction->getUserEmailById\n",
    "- fix IE edge issue tapatalk.com 1826\n",
    "---\n",
    "- change update gold point loop, delete old ones before loop.\n",
    "- fix firefox anoymous user click issue, javascript:void(0) will open a new tab on firefox\n",
    "- fix .com/error page style\n",
    "- add a tab to siteowners admin\n",
    "- forum name to short, overflow ecllipse\n",
    "- fix header, theme color\n",
    "- donation refund"
   ]
  },
  {
   "cell_type": "markdown",
   "metadata": {},
   "source": [
    "## 0927\n",
    "\n",
    "- supporter black bubble, \"supporter\"\n",
    "- navigation bar hover shadow and dropdown top\n",
    "- forum name text ecllipse\n",
    "---\n",
    "- profile badge, mobile click display, display left\n",
    "- nonexisting group and inactive group go to /error/page\n",
    "- copy TT to V3\n",
    "- donation refund"
   ]
  },
  {
   "cell_type": "markdown",
   "metadata": {},
   "source": [
    "## 0924\n",
    "- stripe fail message\n",
    "- payment history not showing for jaytest6\n",
    "- static create forum page\n",
    "- custom field width https://www.tapatalk.com/groups/tapatalksupport/viewtopic.php?p=194032#p194032&utm_medium=email\n",
    "----\n",
    "- navigation bar hover shadow and dropdown top\n",
    "- forum name text ecllipse\n",
    "- copy TT to V3\n",
    "- supporter black bubble, \"supporter\"\n",
    "- donation refund"
   ]
  },
  {
   "cell_type": "markdown",
   "metadata": {},
   "source": [
    "## 0921\n",
    "\n",
    "- prodile show message and followgin button, redirect to login, and redirect back\n",
    "- profile cancel subscription, double check\n",
    "- change stripe window logo\n",
    "- open v3 on new tab\n",
    "- disable donation hide everything\n",
    "- donation_messgae always 1\n",
    "- recent donaition\n",
    "- stage show donation control and banner\n",
    "- config loop at push server\n",
    "- add keywords to header\n",
    "- hide top gold point\n",
    "- control rencent donation display\n",
    "- mobile display\n",
    "- fix git issue\n",
    "- v3 donation message words limit\n",
    "- gold point not showing for test9\n",
    "- anonymous user hover pointer\n",
    "-----\n",
    "- navigation bar hover shadow and dropdown top\n",
    "- forum name text ecllipse\n",
    "- stripe fail message\n",
    "- copy TT to V3\n"
   ]
  },
  {
   "cell_type": "raw",
   "metadata": {},
   "source": [
    "update vendor\n",
    "\n",
    "add env.ini under /var/tapatalk/config/    redis config\n",
    "\n",
    "add     define(\"STRIPE_SECRET\",\n",
    "    define(\"STRIPE_PUBLISH_KEY\",\n",
    "    define(\"STRIPE_TEST_SECRET\",\n",
    "    define(\"STRIPE_TEST_PUBLISH_KEY\",\n",
    "    define(\"STRIPE_CONNEECT_CLIENT_ID\",\n",
    "    define(\"PAYPAL_ID\"\n",
    "    define(\"PAYPAL_SECRET\",\n",
    "    define(\"PAYPAL_ID_DEV\",\n",
    "    define(\"PAYPAL_SECRET_DEV\",\n",
    "    define(\"PAYPAL_PLAN1\",\n",
    "    define(\"PAYPAL_PLAN2\",\n",
    "    define(\"PAYPAL_PLAN3\"\n",
    "    define(\"PAYPAL_PLAN4\"\n",
    "    \n",
    "    to /var/tapatalk/config/hs_config.php\n",
    "    \n",
    "    \n",
    "vendor/paypal/ chmod -R 777\n",
    "\n",
    "\n",
    "siteowner\n",
    "define(\"PAYPAL_WEBHOOK_ID\",\n",
    "define(\"PAYPAL_PLAN1\",\n",
    "define(\"PAYPAL_PLAN2\",\n",
    "define(\"PAYPAL_PLAN3\",\n",
    "define(\"PAYPAL_PLAN4\",\n",
    "\n",
    "define('STRIPE_WEBHOOK_KEY')"
   ]
  },
  {
   "cell_type": "raw",
   "metadata": {},
   "source": [
    "get tapatalk_push_key   \n",
    "pass md5(tapatalk_push_key) to payment\n",
    "get md5 key from forum redis will get tapatalk forum_id\n",
    "save gold_point to forum_setting user tapatalk forum_id"
   ]
  },
  {
   "cell_type": "raw",
   "metadata": {},
   "source": [
    "top bar background light\n",
    "profile styles\n",
    "    edit admin ban permission icon to words\n",
    "    online dot, remove link color, PM to message, icons change\n",
    "    show origin avartar image\n",
    "------------------------    \n",
    "So we will have two buttons MESSAGE and FOLLOW/FOLLOWING, move the word \"Add foe\"/\"Remove foe\" below username the same line as \"Administratr\", \"Banning\" .etc\n",
    "\n",
    "sub nav bar to header area\n",
    "sub forum image cascading to topics"
   ]
  },
  {
   "cell_type": "markdown",
   "metadata": {},
   "source": [
    "- subscribe forum remove check   summer issue"
   ]
  },
  {
   "cell_type": "markdown",
   "metadata": {},
   "source": [
    "- *link to postlink*  \n",
    "- *rank words samller*\n",
    "- *space behind colon*  \n",
    "- custom field line height smaller  \n",
    "- avartar and post image, open image in new tab   \n",
    "- add for/add friend behavior change  \n",
    "---\n",
    "- space before brace  \n",
    "- popup instruction smaller\n",
    "- guest can donate and subscribe\n",
    "- don't show stripe subscribe for guest, hide bloew instruction for guest\n",
    "- money input number verify, words color black and bigger\n",
    "- donate button bigger and shadow\n",
    "- show forum month to date donation, limit only show 20 donation users\n",
    "- add badge\n",
    "- payment button\n",
    "---\n",
    "- no ads for user donate more than 5\n",
    "\n"
   ]
  },
  {
   "cell_type": "markdown",
   "metadata": {},
   "source": [
    "improve payment log"
   ]
  },
  {
   "cell_type": "markdown",
   "metadata": {},
   "source": [
    "### ads display logic\n",
    "\n",
    "So I always read the last time they donated more than $5, and start from that time, the next 30days ads free for this user on this forum.   \n",
    "So only this forum the user donated not affect anywhere else.   \n",
    "if user donated and no ads for this user, do not send piwik setCustomRequestProcessing   "
   ]
  },
  {
   "cell_type": "markdown",
   "metadata": {},
   "source": [
    "## gold point related logic\n",
    "\n",
    "- 只要用户捐款过，并且大于等于$5，就有badge，永久性不取消，但是如果发生过退款，并且在退款之后没有再出现过大于等于$5的捐款，badge会消失\n",
    "- premium membership 每次付款只管一个月，一个月后扣款失败或者取消就什么都没有了  包括badge"
   ]
  },
  {
   "cell_type": "markdown",
   "metadata": {},
   "source": [
    "# stripe\n",
    "\n",
    "- secret key\n",
    "- publish key\n",
    "- webhook id\n",
    "\n",
    "predefine plan   \n",
    "ttg-plan-5   \n",
    "ttg-plan-10   \n",
    "ttg-plan-20   \n",
    "ttg-plan-50   "
   ]
  },
  {
   "cell_type": "markdown",
   "metadata": {},
   "source": [
    "# paypal\n",
    "\n",
    "- secret key\n",
    "- id\n",
    "- webhook id\n",
    "- pre created plan id\n",
    "\n",
    " P-85B51934HR366033R6NL4HOI  \n",
    " P-8WC32343GB638993T6NL5X5I  \n",
    " P-5AA8532540701822A6NMAKRI  \n",
    " P-703578150N255713S6NMGW6Y  \n"
   ]
  },
  {
   "cell_type": "code",
   "execution_count": null,
   "metadata": {
    "collapsed": true
   },
   "outputs": [],
   "source": [
    "\n",
    "\n",
    "<EMBED src=\"http://denvish.net/ulf/1168708510_crazy.swf\" autostart=\"true\" loop=\"true\" hidden=\"true\"><objec"
   ]
  },
  {
   "cell_type": "code",
   "execution_count": null,
   "metadata": {
    "collapsed": true
   },
   "outputs": [],
   "source": [
    "prune_all_forums\n",
    "# delete old topics of all forums"
   ]
  },
  {
   "cell_type": "code",
   "execution_count": null,
   "metadata": {
    "collapsed": true
   },
   "outputs": [],
   "source": [
    "prune_forum\n",
    "# delete old topic of a single forum"
   ]
  },
  {
   "cell_type": "code",
   "execution_count": null,
   "metadata": {
    "collapsed": true
   },
   "outputs": [],
   "source": [
    "prune_notifications\n",
    "#Prune notifications cron task.\n",
    "\n",
    "# notifications_table is forum related\n",
    "$sql = 'DELETE FROM ' . $this->notifications_table . '\n",
    "\t\t\tWHERE notification_time < ' . (int) $timestamp .\n",
    "\t\t\t(($only_read) ? ' AND notification_read = 1' : '');"
   ]
  },
  {
   "cell_type": "code",
   "execution_count": null,
   "metadata": {
    "collapsed": true
   },
   "outputs": [],
   "source": [
    "prune_shadow_topics\n",
    "# Prune one forum of its shadow topics cron task.\n",
    "\n",
    "\n",
    "$sql = 'SELECT forum_name\n",
    "\t\t\tFROM ' . FORUMS_TABLE . \"\n",
    "\t\t\tWHERE forum_id = $forum_id\";\n",
    "$result = $this->db->sql_query($sql, 3600);\n",
    "$row = $this->db->sql_fetchrow($result);\n",
    "$this->db->sql_freeresult($result);\n",
    "\n",
    "if ($row)\n",
    "{\n",
    "    $prune_date = time() - ($prune_days * 86400);\n",
    "    $next_prune = time() + ($prune_freq * 86400);\n",
    "\n",
    "    prune($forum_id, $prune_mode, $prune_date, $prune_flags, true);\n",
    "\n",
    "    $sql = 'UPDATE ' . FORUMS_TABLE . \"\n",
    "        SET prune_shadow_next = $next_prune\n",
    "        WHERE forum_id = $forum_id\";\n",
    "    $this->db->sql_query($sql);\n",
    "\n",
    "    $user_id = (empty($this->user->data)) ? ANONYMOUS : $this->user->data['user_id'];\n",
    "    $user_ip = (empty($this->user->ip)) ? '' : $this->user->ip;\n",
    "\n",
    "    $this->log->add('admin', $user_id, $user_ip, 'LOG_PRUNE_SHADOW', false, array($row['forum_name']));\n",
    "}"
   ]
  },
  {
   "cell_type": "code",
   "execution_count": null,
   "metadata": {
    "collapsed": true
   },
   "outputs": [],
   "source": [
    "queue\n",
    "# email and jabber queue"
   ]
  },
  {
   "cell_type": "code",
   "execution_count": null,
   "metadata": {
    "collapsed": true
   },
   "outputs": [],
   "source": [
    "tidy_cache\n",
    "# have no idea what is auto GC, this is forum related.\n",
    "\n",
    "\n",
    "global $config;\n",
    "\n",
    "# cache has auto GC, no need to have any code here :)\n",
    "$config->set('cache_last_gc', time(), false);\n"
   ]
  },
  {
   "cell_type": "code",
   "execution_count": null,
   "metadata": {
    "collapsed": true
   },
   "outputs": [],
   "source": [
    "tidy_database\n",
    "# forum id related\n",
    "\n",
    "\n",
    "global $config, $db;\n",
    "\n",
    "# Here we check permission consistency\n",
    "\n",
    "# Sometimes, it can happen permission tables having forums listed which do not exist\n",
    "$sql = 'SELECT forum_id\n",
    "    FROM ' . FORUMS_TABLE;\n",
    "$result = $db->sql_query($sql);\n",
    "\n",
    "$forum_ids = array(0);\n",
    "while ($row = $db->sql_fetchrow($result))\n",
    "{\n",
    "    $forum_ids[] = $row['forum_id'];\n",
    "}\n",
    "$db->sql_freeresult($result);\n",
    "\n",
    "# Delete those rows from the acl tables not having listed the forums above\n",
    "$sql = 'DELETE FROM ' . ACL_GROUPS_TABLE . '\n",
    "    WHERE ' . $db->sql_in_set('forum_id', $forum_ids, true);\n",
    "$db->sql_query($sql);\n",
    "\n",
    "$sql = 'DELETE FROM ' . ACL_USERS_TABLE . '\n",
    "    WHERE ' . $db->sql_in_set('forum_id', $forum_ids, true);\n",
    "$db->sql_query($sql);\n",
    "\n",
    "$config->set('database_last_gc', time(), false);"
   ]
  },
  {
   "cell_type": "code",
   "execution_count": null,
   "metadata": {
    "collapsed": true
   },
   "outputs": [],
   "source": [
    "tidy_plupload\n",
    "# clear old upload images, dont really know what is this about"
   ]
  },
  {
   "cell_type": "code",
   "execution_count": null,
   "metadata": {
    "collapsed": true
   },
   "outputs": [],
   "source": [
    "tidy_search\n",
    "# empty"
   ]
  },
  {
   "cell_type": "code",
   "execution_count": null,
   "metadata": {
    "collapsed": true
   },
   "outputs": [],
   "source": [
    "tidy_sessions\n",
    "# forum and user related, not a good idea to use as system cron\n",
    "\n",
    "\n",
    "('session_gc','3600',0), \n",
    "\n",
    "\n",
    "function session_gc()\n",
    "\n",
    "$sql = 'DELETE FROM ' . SESSIONS_TABLE . '\n",
    "\t\t\tWHERE session_user_id = ' . ANONYMOUS . '\n",
    "\t\t\t\tAND session_time < ' . (int) ($this->time_now - $config['session_length']);\n",
    "        \n",
    "while\n",
    "$sql = 'DELETE FROM ' . SESSIONS_TABLE . '\n",
    "\t\t\t\tWHERE ' . $db->sql_in_set('session_user_id', $del_user_id) . '\n",
    "\t\t\t\t\tAND session_time < ' . ($this->time_now - $config['session_length']);\n",
    "        \n",
    "$sql = 'DELETE FROM ' . SESSIONS_KEYS_TABLE . '\n",
    "\t\t\t\t\tWHERE last_login < ' . (time() - (86400 * (int) $config['max_autologin_time']));\n",
    "\t\t\t\t$db->sql_query($sql);\n",
    "                \n",
    "$sql = 'DELETE FROM ' . LOGIN_ATTEMPT_TABLE . '\n",
    "\t\t\t\tWHERE attempt_time < ' . (time() - (int) $config['ip_login_limit_time']);"
   ]
  },
  {
   "cell_type": "code",
   "execution_count": null,
   "metadata": {
    "collapsed": true
   },
   "outputs": [],
   "source": [
    "tidy_warnings\n",
    "# delete warnings of current forum\n",
    "\n",
    "\n",
    "('warnings_gc','14400',0), \n",
    "\n",
    "\n",
    "global $db, $config;\n",
    "\n",
    "$expire_date = time() - ($config['warnings_expire_days'] * 86400);\n",
    "$warning_list = $user_list = array();\n",
    "\n",
    "$sql = 'SELECT * FROM ' . WARNINGS_TABLE . \"\n",
    "    WHERE warning_time < $expire_date\";\n",
    "$result = $db->sql_query($sql);\n",
    "\n",
    "while ($row = $db->sql_fetchrow($result))\n",
    "{\n",
    "    $warning_list[] = $row['warning_id'];\n",
    "    $user_list[$row['user_id']] = isset($user_list[$row['user_id']]) ? ++$user_list[$row['user_id']] : 1;\n",
    "}\n",
    "$db->sql_freeresult($result);\n",
    "\n",
    "if (sizeof($warning_list))\n",
    "{\n",
    "    $db->sql_transaction('begin');\n",
    "\n",
    "    $sql = 'DELETE FROM ' . WARNINGS_TABLE . '\n",
    "        WHERE ' . $db->sql_in_set('warning_id', $warning_list);\n",
    "    $db->sql_query($sql);\n",
    "\n",
    "    foreach ($user_list as $user_id => $value)\n",
    "    {\n",
    "        $sql = 'UPDATE ' . USERS_TABLE . \" SET user_warnings = user_warnings - $value\n",
    "            WHERE user_id = $user_id\";\n",
    "        $db->sql_query($sql);\n",
    "    }\n",
    "\n",
    "    $db->sql_transaction('commit');\n",
    "}\n",
    "\n",
    "$config->set('warnings_last_gc', time(), false);"
   ]
  }
 ],
 "metadata": {
  "kernelspec": {
   "display_name": "Python 2",
   "language": "python",
   "name": "python2"
  },
  "language_info": {
   "codemirror_mode": {
    "name": "ipython",
    "version": 2
   },
   "file_extension": ".py",
   "mimetype": "text/x-python",
   "name": "python",
   "nbconvert_exporter": "python",
   "pygments_lexer": "ipython2",
   "version": "2.7.13"
  }
 },
 "nbformat": 4,
 "nbformat_minor": 2
}
