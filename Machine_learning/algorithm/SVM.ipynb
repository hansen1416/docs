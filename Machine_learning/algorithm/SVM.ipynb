{
 "cells": [
  {
   "cell_type": "markdown",
   "metadata": {
    "collapsed": true
   },
   "source": [
    "# Support Vector Machine"
   ]
  },
  {
   "cell_type": "markdown",
   "metadata": {
    "collapsed": true
   },
   "source": [
    "## parameters"
   ]
  },
  {
   "cell_type": "markdown",
   "metadata": {},
   "source": [
    "### kernel\n",
    "- linear: \\langle x, x'\\rangle.\n",
    "- polynomial: (\\gamma \\langle x, x'\\rangle + r)^d. d is specified by keyword degree, r by coef0.\n",
    "- rbf: \\exp(-\\gamma |x-x'|^2). \\gamma is specified by keyword gamma, must be greater than 0.\n",
    "- sigmoid (\\tanh(\\gamma \\langle x,x'\\rangle + r)), where r is specified by coef0.\n",
    "\n",
    "### gamma\n",
    "\n",
    "### c"
   ]
  }
 ],
 "metadata": {
  "kernelspec": {
   "display_name": "Python 2",
   "language": "python",
   "name": "python2"
  },
  "language_info": {
   "codemirror_mode": {
    "name": "ipython",
    "version": 2
   },
   "file_extension": ".py",
   "mimetype": "text/x-python",
   "name": "python",
   "nbconvert_exporter": "python",
   "pygments_lexer": "ipython2",
   "version": "2.7.13"
  }
 },
 "nbformat": 4,
 "nbformat_minor": 2
}
