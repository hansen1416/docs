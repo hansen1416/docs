{
 "cells": [
  {
   "cell_type": "markdown",
   "metadata": {},
   "source": [
    "### Enable Remote Access (Grant)\n",
    "\n",
    "*official doc. https://dev.mysql.com/doc/refman/8.0/en/can-not-connect-to-server.html*"
   ]
  },
  {
   "cell_type": "code",
   "execution_count": 4,
   "metadata": {},
   "outputs": [
    {
     "name": "stdout",
     "output_type": "stream",
     "text": [
      "Trying 192.168.1.10...\n"
     ]
    },
    {
     "name": "stderr",
     "output_type": "stream",
     "text": [
      "sudo: no tty present and no askpass program specified\n",
      "telnet: Unable to connect to remote host: No route to host\n",
      "bash: line 16: nmap: command not found\n"
     ]
    }
   ],
   "source": [
    "%%bash\n",
    "#!/bin/bash\n",
    "\n",
    "#To make sure that, MySQL server listens on all interfaces, run the netstat command as follows.\n",
    "\n",
    "sudo netstat -tulnp | grep mysql\n",
    "\n",
    "#The output should show that MySQL Server running on the socket 0 0.0.0.0:3306 instead of 127.0.0.1:3306.\n",
    "\n",
    "#You can also try to telnet to the MySQL port 3306 from a remote host. \n",
    "#For example, if the IP Address of your Ubuntu Server is 192.168.1.10, Then from the remote host execute,\n",
    "\n",
    "telnet 192.168.1.10 3306\n",
    "\n",
    "#You can also run the nmap command from a remote computer to check whether MySQL port 3306 is open to the remote host.\n",
    "\n",
    "nmap 192.168.1.10\n",
    "\n",
    "#The output should list MySQL port 3306 and the STATe should be open. \n",
    "#If the MySQL port 3306 not open, Then there is a firewall which blocks the port 3306."
   ]
  },
  {
   "cell_type": "markdown",
   "metadata": {},
   "source": [
    "If you try to connect to your mysql server from remote machine, and run into error like below, this article is for you.\n",
    "\n",
    "ERROR 1130 (HY000): Host ‘1.2.3.4’ is not allowed to connect to this MySQL server\n",
    "\n",
    "Change mysql config\n",
    "Start with editing mysql config file\n",
    "\n",
    "vim /etc/mysql/my.cnf\n",
    "Comment out following lines.\n",
    "\n",
    "#bind-address           = 127.0.0.1\n",
    "#skip-networking\n",
    "\n",
    "or midofy \n",
    "\n",
    "bind-address            = 0.0.0.0\n",
    "\n",
    "If you do not find skip-networking line, add it and comment out it.\n",
    "\n",
    "Restart mysql server.\n",
    "\n",
    "service mysql restart\n",
    "Change GRANT privilege\n",
    "You may be surprised to see even after above change you are not getting remote access or getting access but not able to all databases.\n",
    "\n",
    "By default, mysql username and password you are using is allowed to access mysql-server locally. So need to update privilege.\n",
    "\n",
    "Run a command like below to access from all machines.\n",
    "\n",
    "mysql> GRANT ALL PRIVILEGES ON *.* TO 'USERNAME'@'%' IDENTIFIED BY 'PASSWORD' WITH GRANT OPTION;\n",
    "Run a command like below to give access from specific IP.\n",
    "\n",
    "mysql> GRANT ALL PRIVILEGES ON *.* TO 'USERNAME'@'1.2.3.4' IDENTIFIED BY 'PASSWORD' WITH GRANT OPTION;\n",
    "You can replace 1.2.3.4 with your IP. You can run above command many times to GRANT access from multiple IPs.\n",
    "\n",
    "You can also specify a separate USERNAME & PASSWORD for remote access.\n",
    "\n",
    "You can check final outcome by:\n",
    "\n",
    "SELECT * from information_schema.user_privileges where grantee like \"'USERNAME'%\";\n",
    "Finally, you may also need to run:\n",
    "\n",
    "mysql> FLUSH PRIVILEGES;\n",
    "Test Connection\n",
    "From terminal/command-line:\n",
    "\n",
    "mysql -h HOST -u USERNAME -pPASSWORD\n",
    "If you get a mysql shell, don’t forget to run show databases; to check if you have right privileges from remote machines.\n",
    "\n",
    "Bonus-Tip: Revoke Access\n",
    "If you accidentally grant access to a user, then better have revoking option handy.\n",
    "\n",
    "Following will revoke all options for USERNAME from all machines:\n",
    "\n",
    "mysql> REVOKE ALL PRIVILEGES, GRANT OPTION FROM 'USERNAME'@'%';\n",
    "Following will revoke all options for USERNAME from particular IP:\n",
    "\n",
    "mysql> REVOKE ALL PRIVILEGES, GRANT OPTION FROM 'USERNAME'@'1.2.3.4';\n",
    "Its better to check information_schema.user_privileges table after running REVOKE command.\n",
    "\n",
    "If you see USAGE privilege after running REVOKE command, its fine. It is as good as no privilege at all. I am not sure if it can be revoked.\n",
    "\n",
    "+-------------------------+---------------+-------------------------+--------------+\n",
    "| GRANTEE                 | TABLE_CATALOG | PRIVILEGE_TYPE          | IS_GRANTABLE |\n",
    "+-------------------------+---------------+-------------------------+--------------+\n",
    "| 'USERNAME'@'%'          | def           | USAGE                   | NO           |\n",
    "+-------------------------+---------------+-------------------------+--------------+\n",
    "If we missed anything, feel free to let us know using comment form below."
   ]
  }
 ],
 "metadata": {
  "kernelspec": {
   "display_name": "Python 2",
   "language": "python",
   "name": "python2"
  },
  "language_info": {
   "codemirror_mode": {
    "name": "ipython",
    "version": 2
   },
   "file_extension": ".py",
   "mimetype": "text/x-python",
   "name": "python",
   "nbconvert_exporter": "python",
   "pygments_lexer": "ipython2",
   "version": "2.7.13"
  }
 },
 "nbformat": 4,
 "nbformat_minor": 2
}
