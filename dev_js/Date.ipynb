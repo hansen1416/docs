{
 "cells": [
  {
   "cell_type": "markdown",
   "metadata": {},
   "source": [
    "- current timestamp in milliseconds\n",
    "```\n",
    "new Date() * 1\n",
    "```\n",
    "output: 1531307926728\n",
    "\n",
    "\n",
    "- generate a date string 7 days later\n",
    "```\n",
    "var expires = new Date(new Date() * 1 + 7 * 864e+5);\n",
    "```\n",
    "output: Wed Jul 18 2018 19:18:46 GMT+0800 (China Standard Time)\n",
    "\n",
    "\n",
    "- to UTS string\n",
    "```\n",
    "expires = expires.toUTCString();\n",
    "```\n",
    "output: Wed, 18 Jul 2018 11:18:46 GMT"
   ]
  }
 ],
 "metadata": {
  "kernelspec": {
   "display_name": "Python 2",
   "language": "python",
   "name": "python2"
  }
 },
 "nbformat": 4,
 "nbformat_minor": 2
}
