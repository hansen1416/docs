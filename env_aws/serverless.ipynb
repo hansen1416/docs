{
 "cells": [
  {
   "cell_type": "markdown",
   "metadata": {},
   "source": [
    "### create project\n",
    "```\n",
    "mkdir /path/to/project\n",
    "\n",
    "cd /path/to/project\n",
    "\n",
    "serverless --template aws-python3\n",
    "\n",
    "```\n",
    "\n",
    "### deployment\n",
    "\n",
    "```\n",
    "export AWS_ACCESS_KEY_ID=\n",
    "export AWS_SECRET_ACCESS_KEY=\n",
    "\n",
    "serverless deploy -v\n",
    "\n",
    "```\n",
    "\n",
    "### invoke a function\n",
    "\n",
    "```\n",
    "serverless invoke -f hello_function\n",
    "```"
   ]
  }
 ],
 "metadata": {
  "kernelspec": {
   "display_name": "Python 3",
   "language": "python",
   "name": "python3"
  },
  "language_info": {
   "codemirror_mode": {
    "name": "ipython",
    "version": 3
   },
   "file_extension": ".py",
   "mimetype": "text/x-python",
   "name": "python",
   "nbconvert_exporter": "python",
   "pygments_lexer": "ipython3",
   "version": "3.6.8"
  }
 },
 "nbformat": 4,
 "nbformat_minor": 2
}
