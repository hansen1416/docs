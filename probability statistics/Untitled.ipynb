{
 "cells": [
  {
   "cell_type": "markdown",
   "metadata": {},
   "source": [
    "### Range\n",
    "\n",
    "we cut off the upper 25% and lower 25% to make ti more representative."
   ]
  },
  {
   "cell_type": "markdown",
   "metadata": {},
   "source": [
    "### IQR\n",
    "\n",
    "- About 50% of the data falls into the IQR.\n",
    "- Not all value in the dataset affedt IQR.\n",
    "- The IQR is not affedted by outlier."
   ]
  },
  {
   "cell_type": "markdown",
   "metadata": {},
   "source": [
    "### Outlier\n",
    "\n",
    "Outlier < Q<sub>1</sub> - 1.5 \\* IQR  ||  Outlier > Q<sub>3</sub> + 1.5 \\* IQR"
   ]
  },
  {
   "cell_type": "markdown",
   "metadata": {},
   "source": [
    "### Deviation\n",
    "$\\sigma = \\frac{\\displaystyle\\sum (x_i - \\overline{x})}{n}$"
   ]
  },
  {
   "cell_type": "markdown",
   "metadata": {},
   "source": [
    "### Absolute deviation\n",
    "Abs $\\sigma = \\frac{\\displaystyle\\sum | x_i - \\overline{x} |}{n}$"
   ]
  },
  {
   "cell_type": "markdown",
   "metadata": {},
   "source": [
    "### Variance\n",
    "$\\sigma^2 = \\frac{\\displaystyle\\sum (x_i - \\overline{x})^2}{n}$\n",
    "\n",
    "Bassel's correction for sample $\\sigma^2 = \\frac{\\displaystyle\\sum (x_i - \\overline{x})^2}{n-1}$"
   ]
  },
  {
   "cell_type": "markdown",
   "metadata": {},
   "source": [
    "### Standard Deviation\n",
    "$\\sigma = \\sqrt{\\frac{\\displaystyle\\sum (x_i - \\overline{x})^2}{n}}$\n",
    "\n",
    "Bassel's correction for sample $s = \\sqrt{\\frac{\\displaystyle\\sum (x_i - \\overline{x})^2}{n-1}}$"
   ]
  }
 ],
 "metadata": {
  "kernelspec": {
   "display_name": "Python 2",
   "language": "python",
   "name": "python2"
  },
  "language_info": {
   "codemirror_mode": {
    "name": "ipython",
    "version": 2
   },
   "file_extension": ".py",
   "mimetype": "text/x-python",
   "name": "python",
   "nbconvert_exporter": "python",
   "pygments_lexer": "ipython2",
   "version": "2.7.13"
  }
 },
 "nbformat": 4,
 "nbformat_minor": 2
}
