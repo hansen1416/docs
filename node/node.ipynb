{
 "cells": [
  {
   "cell_type": "markdown",
   "metadata": {},
   "source": [
    "- self update node & npm\n",
    "`sudo npm cache clean -f`  \n",
    "`sudo npm install -g n`  \n",
    "`sudo n stable`  \n",
    "<br>\n",
    "<br>\n",
    "- init This will ask you a bunch of questions, and then write a package.json for you.\n",
    "`npm init`  \n",
    "<br>\n",
    "<br>\n",
    "- ls\n",
    "`npm ls --depth=0`  \n",
    "`npm ls --depth=0 -g`  \n",
    "<br>\n",
    "<br>\n",
    "- remove packages  \n",
    "`npm uninstall gulp-uglify`  \n",
    "`npm uninstall gulp -g`\n",
    "\n",
    " "
   ]
  }
 ],
 "metadata": {
  "kernelspec": {
   "display_name": "Python 2",
   "language": "python",
   "name": "python2"
  },
  "language_info": {
   "codemirror_mode": {
    "name": "ipython",
    "version": 2
   },
   "file_extension": ".py",
   "mimetype": "text/x-python",
   "name": "python",
   "nbconvert_exporter": "python",
   "pygments_lexer": "ipython2",
   "version": "2.7.13"
  }
 },
 "nbformat": 4,
 "nbformat_minor": 2
}
