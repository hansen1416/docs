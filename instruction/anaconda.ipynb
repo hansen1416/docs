{
 "cells": [
  {
   "cell_type": "markdown",
   "metadata": {},
   "source": [
    "# Anaconda"
   ]
  },
  {
   "cell_type": "markdown",
   "metadata": {},
   "source": [
    "*# create environment, env will be at path_to_anaconda/envs/env_name/*  \n",
    "`conda create -n env_name python=2 package_name_list`\n",
    "\n",
    "*# go to the env*   \n",
    "`source activate env_name`\n",
    "\n",
    "*# leave env*\n",
    "`deactivate env_name`\n",
    "\n",
    "*# view package list inside env, go to env folder*\n",
    "`conda list`\n",
    "\n",
    "*# list all env*   \n",
    "`conda info --envs`  \n",
    "`conda env list`\n",
    "\n",
    "*# clone env*  \n",
    "`conda create --name env_name --clone old_env`\n",
    "\n",
    "*# remove env*  \n",
    "`conda remove --name old_env --all`\n",
    "\n",
    "*# export env*  \n",
    "`conda env export --name env_name > environment.yaml`\n",
    "\n",
    "*# create env throgh env file*  \n",
    "` conda env create -f environment.yaml`\n"
   ]
  },
  {
   "cell_type": "markdown",
   "metadata": {},
   "source": [
    "## pycharm"
   ]
  },
  {
   "cell_type": "markdown",
   "metadata": {},
   "source": [
    "The short answer\n",
    "\n",
    "Just manage Conda from the command line. PyCharm will automatically notice changes once they happen, just like it does with pip.\n",
    "\n",
    "The long answer\n",
    "\n",
    "Create a new Conda environment:\n",
    "\n",
    "`conda create --name foo pandas bokeh`\n",
    "\n",
    "This environment lives under conda_root/envs/foo. Your python interpreter is conda_root/envs/foo/bin/pythonX.X and your all your site-packages are in conda_root/envs/foo/lib/pythonX.X/site-packages. This is same directory structure as in a pip virtual environement. PyCharm sees no difference.\n",
    "\n",
    "*for remote interpreter it's the same after set the SSH setting. Additionally mapping the projects folders.*\n",
    "\n",
    "Now to activate your new environment from PyCharm go to file > settings > project > interpreter, select Add local in the project interpreter field (the little gear wheel) and hunt down your python interpreter. Congratulations! You now have a Conda environment with pandas and bokeh!\n",
    "\n",
    "Now install more packages:\n",
    "\n",
    "`conda install scikit-learn`\n",
    "\n",
    "OK... go back to your interpreter in settings. Magically, PyCharm now sees scikit-learn!\n",
    "\n",
    "And the reverse is also true, i.e. when you pip install another package in PyCharm, Conda will automatically notice. Say you've installed requests. Now list the Conda packages in your current environment:\n",
    "\n",
    "`conda list`\n",
    "\n",
    "The list now includes requests and Conda has correctly detected (3rd column) that it was installed with pip.\n",
    "\n",
    "Conclusion\n",
    "\n",
    "This is definitely good news for people like myself who are trying to get away from the pip/virtualenv installation problems when packages are not pure python.\n",
    "\n",
    "NB: I run PyCharm pro edition 4.5.3 on Linux. For Windows users, replace in command line with in the GUI (and forward slashes with backslashes). There's no reason it shouldn't work for you too.\n",
    "\n",
    "EDIT: PyCharm5 is out with Conda support! In the community edition too."
   ]
  }
 ],
 "metadata": {
  "kernelspec": {
   "display_name": "Python 2",
   "language": "python",
   "name": "python2"
  },
  "language_info": {
   "codemirror_mode": {
    "name": "ipython",
    "version": 2
   },
   "file_extension": ".py",
   "mimetype": "text/x-python",
   "name": "python",
   "nbconvert_exporter": "python",
   "pygments_lexer": "ipython2",
   "version": "2.7.13"
  }
 },
 "nbformat": 4,
 "nbformat_minor": 2
}
