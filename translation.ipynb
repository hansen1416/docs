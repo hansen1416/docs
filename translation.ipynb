{
 "cells": [
  {
   "cell_type": "code",
   "execution_count": 1,
   "metadata": {},
   "outputs": [
    {
     "data": {
      "text/html": [
       "<table>\n",
       "<thead>\n",
       "    <tr>\n",
       "        <td>bg</td>\n",
       "        <td>cs</td>\n",
       "        <td>da</td>\n",
       "        <td>de</td>\n",
       "        <td>de_x_sie</td>\n",
       "        <td>el</td>\n",
       "        <td>en</td>\n",
       "        <td>en_us</td>\n",
       "        <td>es</td>\n",
       "        <td>es_x_tu</td>\n",
       "        <td>fr</td>\n",
       "        <td>hr</td>\n",
       "        <td>it</td>\n",
       "        <td>nl</td>\n",
       "        <td>pl</td>\n",
       "        <td>pt</td>\n",
       "        <td>pt_br</td>\n",
       "        <td>ru</td>\n",
       "        <td>sk</td>\n",
       "        <td>tr</td>\n",
       "        <td>zh_cmn_hans</td>\n",
       "    </tr>\n",
       "    </thead>\n",
       "</table>"
      ],
      "text/plain": [
       "<IPython.core.display.HTML object>"
      ]
     },
     "metadata": {},
     "output_type": "display_data"
    }
   ],
   "source": [
    "%%HTML\n",
    "<table>\n",
    "<thead>\n",
    "    <tr>\n",
    "        <td>bg</td>\n",
    "        <td>cs</td>\n",
    "        <td>da</td>\n",
    "        <td>de</td>\n",
    "        <td>de_x_sie</td>\n",
    "        <td>el</td>\n",
    "        <td>en</td>\n",
    "        <td>en_us</td>\n",
    "        <td>es</td>\n",
    "        <td>es_x_tu</td>\n",
    "        <td>fr</td>\n",
    "        <td>hr</td>\n",
    "        <td>it</td>\n",
    "        <td>nl</td>\n",
    "        <td>pl</td>\n",
    "        <td>pt</td>\n",
    "        <td>pt_br</td>\n",
    "        <td>ru</td>\n",
    "        <td>sk</td>\n",
    "        <td>tr</td>\n",
    "        <td>zh_cmn_hans</td>\n",
    "    </tr>\n",
    "    </thead>\n",
    "</table>\n"
   ]
  }
 ],
 "metadata": {
  "kernelspec": {
   "display_name": "Python 2",
   "language": "python",
   "name": "python2"
  },
  "language_info": {
   "codemirror_mode": {
    "name": "ipython",
    "version": 2
   },
   "file_extension": ".py",
   "mimetype": "text/x-python",
   "name": "python",
   "nbconvert_exporter": "python",
   "pygments_lexer": "ipython2",
   "version": "2.7.13"
  }
 },
 "nbformat": 4,
 "nbformat_minor": 2
}
