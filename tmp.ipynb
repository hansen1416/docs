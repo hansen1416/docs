{
 "cells": [
  {
   "cell_type": "code",
   "execution_count": 4,
   "metadata": {},
   "outputs": [
    {
     "name": "stdout",
     "output_type": "stream",
     "text": [
      "[[], [], []]\n",
      "[[7], [7], [7]]\n",
      "[[], [], []]\n",
      "[[7], [], []]\n"
     ]
    }
   ],
   "source": [
    "a=[[]] * 3\n",
    "print a\n",
    "a[0].append(7)\n",
    "print a\n",
    "\n",
    "b = [[], [], []]\n",
    "print b\n",
    "b[0].append(7)\n",
    "print b"
   ]
  }
 ],
 "metadata": {
  "kernelspec": {
   "display_name": "Python 2",
   "language": "python",
   "name": "python2"
  },
  "language_info": {
   "codemirror_mode": {
    "name": "ipython",
    "version": 2
   },
   "file_extension": ".py",
   "mimetype": "text/x-python",
   "name": "python",
   "nbconvert_exporter": "python",
   "pygments_lexer": "ipython2",
   "version": "2.7.13"
  }
 },
 "nbformat": 4,
 "nbformat_minor": 2
}
