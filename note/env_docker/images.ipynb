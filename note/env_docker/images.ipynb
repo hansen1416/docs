{
 "cells": [
  {
   "cell_type": "markdown",
   "metadata": {},
   "source": [
    "list images\n",
    "```\n",
    "docker images -a\n",
    "```\n",
    "---\n",
    "remvoe images\n",
    "```\n",
    "docker rmi Image Image\n",
    "```\n",
    "---\n",
    "rename image\n",
    "```\n",
    "docker tag old/name:tag new/name:tag\n",
    "\n",
    "docker rmi old/name:tag\n",
    "```\n",
    "---\n",
    "save images to tar\n",
    "```\n",
    "docker save busybox > busybox.tar\n",
    "\n",
    "docker save --output busybox.tar busybox:1.0\n",
    "\n",
    "docker save -o busybox.tar busybox:1.0\n",
    "```"
   ]
  }
 ],
 "metadata": {
  "kernelspec": {
   "display_name": "Python 3",
   "language": "python",
   "name": "python3"
  },
  "language_info": {
   "codemirror_mode": {
    "name": "ipython",
    "version": 3
   },
   "file_extension": ".py",
   "mimetype": "text/x-python",
   "name": "python",
   "nbconvert_exporter": "python",
   "pygments_lexer": "ipython3",
   "version": "3.6.8"
  }
 },
 "nbformat": 4,
 "nbformat_minor": 2
}
