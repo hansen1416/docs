{
 "cells": [
  {
   "cell_type": "code",
   "execution_count": 6,
   "metadata": {},
   "outputs": [],
   "source": [
    "%%bash\n",
    "\n",
    "#! /bin/bash\n",
    "# run command in venv\n",
    "\n",
    "ENV VIRTIAL_ENV=/opt/qingyun_server\n",
    "RUN python3 -m venv $VIRTIAL_ENV\n",
    "ENV PATH=\"$VIRTIAL_ENV/bin:$PATH\"\n",
    "RUN python3 -m pip install imageio Pillow Flask"
   ]
  },
  {
   "cell_type": "code",
   "execution_count": null,
   "metadata": {},
   "outputs": [],
   "source": [
    "#! /bin/bash\n",
    "# run continer as www-data\n",
    "\n",
    "# user id and group id in the host system\n",
    "ARG USER_ID=1000\n",
    "ARG GROUP_ID=1000\n",
    "\n",
    "# you can not change and existing account's user/group ids, \n",
    "# so first delete the user and group \n",
    "# then generate the group and user with our own id, -l flag is to avoid huge log issue when UID is high\n",
    "# then chown of all the files/directories previous owned by www-data, map old id 33 to 1000\n",
    "RUN userdel -f www-data &&\\\n",
    "   if getent group www-data ; then groupdel www-data; fi &&\\\n",
    "   groupadd -g ${GROUP_ID} www-data &&\\\n",
    "   useradd -l -u ${USER_ID} -g www-data www-data &&\\\n",
    "   install -d -m 0755 -o www-data -g www-data /home/www-data &&\\\n",
    "   chown --changes --silent --no-dereference --recursive \\\n",
    "         --from=33:33 ${USER_ID}:${GROUP_ID} \\\n",
    "       /home/www-data\n",
    "        \n",
    "# grant user sudo prvilege\n",
    "RUN apt-get update && apt-get install -y sudo && \\\n",
    "   adduser ${USER} sudo\n",
    "\n",
    "USER www-data"
   ]
  }
 ],
 "metadata": {
  "kernelspec": {
   "display_name": "Python 3",
   "language": "python",
   "name": "python3"
  },
  "language_info": {
   "codemirror_mode": {
    "name": "ipython",
    "version": 3
   },
   "file_extension": ".py",
   "mimetype": "text/x-python",
   "name": "python",
   "nbconvert_exporter": "python",
   "pygments_lexer": "ipython3",
   "version": "3.6.8"
  }
 },
 "nbformat": 4,
 "nbformat_minor": 2
}
