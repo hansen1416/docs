{
 "cells": [
  {
   "cell_type": "markdown",
   "metadata": {},
   "source": [
    "display all\n",
    "```\n",
    "docker ps -a\n",
    "```\n",
    "---\n",
    "remvoe container\n",
    "```\n",
    "docker rm CONTAINER_ID/_NAME\n",
    "```\n",
    "---\n",
    "\n",
    "rename container\n",
    "```\n",
    "docker rename CONTAINER_ID/_NAME NEW_NAME\n",
    "```\n",
    "---\n",
    "publish port "
   ]
  }
 ],
 "metadata": {
  "kernelspec": {
   "display_name": "Python 3",
   "language": "python",
   "name": "python3"
  },
  "language_info": {
   "codemirror_mode": {
    "name": "ipython",
    "version": 3
   },
   "file_extension": ".py",
   "mimetype": "text/x-python",
   "name": "python",
   "nbconvert_exporter": "python",
   "pygments_lexer": "ipython3",
   "version": "3.6.8"
  }
 },
 "nbformat": 4,
 "nbformat_minor": 2
}
