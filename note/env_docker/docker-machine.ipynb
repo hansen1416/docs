{
 "cells": [
  {
   "cell_type": "markdown",
   "metadata": {},
   "source": [
    "boot2docker.iso\n",
    "--\n",
    "\n",
    "Boot2Docker is a minimalist Linux distribution with the sole purpose to run Docker containers. It was depreciated and is no longer recommended for use.\n",
    "\n",
    "The Boot2Docker distribution was based on Tiny Core Linux and runs completely from RAM. The ISO installation occupied 27 MB. Boot2Docker started up in around 5 seconds.\n",
    "\n",
    "Boot2Docker was designed for Docker development only; it lacked many of the capabilities of other Linux OS distributions, such as file sharing between the containers and the native host. Operating in production required a separate Linux host, or a third-party platform such as CoreOS, to manage and orchestrate containers."
   ]
  }
 ],
 "metadata": {
  "kernelspec": {
   "display_name": "Python 3",
   "language": "python",
   "name": "python3"
  },
  "language_info": {
   "codemirror_mode": {
    "name": "ipython",
    "version": 3
   },
   "file_extension": ".py",
   "mimetype": "text/x-python",
   "name": "python",
   "nbconvert_exporter": "python",
   "pygments_lexer": "ipython3",
   "version": "3.6.8"
  }
 },
 "nbformat": 4,
 "nbformat_minor": 2
}
