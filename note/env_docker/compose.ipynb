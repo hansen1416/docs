{
 "cells": [
  {
   "cell_type": "markdown",
   "metadata": {},
   "source": [
    "install docker compose\n",
    "--\n",
    "\n",
    "```\n",
    "curl -L https://github.com/docker/compose/releases/download/1.25.1/docker-compose-`uname -s`-`uname -m` >/tmp/docker-compose && \n",
    "chmod +x /tmp/docker-compose && \n",
    "sudo cp /tmp/docker-compose /usr/local/bin/docker-compose\n",
    "```"
   ]
  },
  {
   "cell_type": "markdown",
   "metadata": {},
   "source": [
    "keep a container running\n",
    "--\n",
    "\n",
    "```\n",
    "version: '3'\n",
    "services:\n",
    "  some-app:\n",
    "    command: tail -f /dev/null\n",
    "```"
   ]
  },
  {
   "cell_type": "markdown",
   "metadata": {},
   "source": [
    "pass variable from .env to dockerfile\n",
    "--\n",
    "\n",
    "in .env\n",
    "```\n",
    "AWS_ACCESS_KEY_ID=1717171717\n",
    "AWS_SECRET_ACCESS_KEY=2828282828\n",
    "```\n",
    "\n",
    "in docker-compose.yml\n",
    "```\n",
    "version: \"3\"\n",
    "services:\n",
    "  ecs-cli:\n",
    "    build:\n",
    "      context: .\n",
    "      args:\n",
    "        - AWS_ACCESS_KEY_ID=${AWS_ACCESS_KEY_ID}\n",
    "        - AWS_SECRET_ACCESS_KEY=${AWS_SECRET_ACCESS_KEY}\n",
    "      dockerfile: Dockerfile\n",
    "    restart: unless-stopped\n",
    "    command: tail -f /dev/null\n",
    "```\n",
    "\n",
    "in Dockerfile\n",
    "```\n",
    "ARG AWS_ACCESS_KEY_ID\n",
    "ARG AWS_SECRET_ACCESS_KEY\n",
    "```"
   ]
  }
 ],
 "metadata": {
  "kernelspec": {
   "display_name": "Python 3",
   "language": "python",
   "name": "python3"
  },
  "language_info": {
   "codemirror_mode": {
    "name": "ipython",
    "version": 3
   },
   "file_extension": ".py",
   "mimetype": "text/x-python",
   "name": "python",
   "nbconvert_exporter": "python",
   "pygments_lexer": "ipython3",
   "version": "3.7.7"
  }
 },
 "nbformat": 4,
 "nbformat_minor": 2
}
