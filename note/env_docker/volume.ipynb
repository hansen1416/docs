{
 "cells": [
  {
   "cell_type": "markdown",
   "metadata": {},
   "source": [
    "Dockerfile\n",
    "--\n",
    "\n",
    "```\n",
    "FROM node:boron\n",
    "\n",
    "# Create app directory\n",
    "RUN mkdir -p /usr/src/app\n",
    "\n",
    "# change working dir to /usr/src/app\n",
    "WORKDIR /usr/src/app\n",
    "\n",
    "VOLUME /usr/src/app\n",
    "\n",
    "RUN npm install\n",
    "\n",
    "EXPOSE 8080\n",
    "\n",
    "CMD [\"node\" , \"server\" ]\n",
    "```\n",
    "\n",
    "In Dockerfile you can specify only the destination of a volume inside a container. e.g. `/usr/src/app`.\n",
    "\n",
    "When you run a container, e.g. `docker run --volume=/opt:/usr/src/app my_image`, you may but do not have to specify its mounting point (`/opt`) on the host machine. If you do not specify `--volume` argument then the mount point will be chosen automatically, usually under `/var/lib/docker/volumes/`."
   ]
  }
 ],
 "metadata": {
  "kernelspec": {
   "display_name": "Python 3",
   "language": "python",
   "name": "python3"
  },
  "language_info": {
   "codemirror_mode": {
    "name": "ipython",
    "version": 3
   },
   "file_extension": ".py",
   "mimetype": "text/x-python",
   "name": "python",
   "nbconvert_exporter": "python",
   "pygments_lexer": "ipython3",
   "version": "3.6.8"
  }
 },
 "nbformat": 4,
 "nbformat_minor": 2
}
