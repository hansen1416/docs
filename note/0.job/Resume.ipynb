{
 "cells": [
  {
   "cell_type": "markdown",
   "metadata": {},
   "source": [
    "1. short 1 A4 page, PDF (Latex)\n",
    "2. Relevant experience\n",
    "3. Reverse Chronological order\n",
    "4. GPA (if good) or relevant course"
   ]
  },
  {
   "cell_type": "markdown",
   "metadata": {},
   "source": [
    "r/resume can help\n",
    "\n",
    "reduce personal stuff"
   ]
  },
  {
   "cell_type": "markdown",
   "metadata": {},
   "source": [
    "job experience, personal projects, link to github\n",
    "\n",
    "study experience\n",
    "\n",
    "publication\n",
    "\n",
    "skilles"
   ]
  }
 ],
 "metadata": {
  "kernelspec": {
   "display_name": "Python 3",
   "language": "python",
   "name": "python3"
  },
  "language_info": {
   "codemirror_mode": {
    "name": "ipython",
    "version": 3
   },
   "file_extension": ".py",
   "mimetype": "text/x-python",
   "name": "python",
   "nbconvert_exporter": "python",
   "pygments_lexer": "ipython3",
   "version": "3.7.7"
  }
 },
 "nbformat": 4,
 "nbformat_minor": 4
}
