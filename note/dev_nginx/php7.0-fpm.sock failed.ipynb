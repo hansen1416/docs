{
 "cells": [
  {
   "cell_type": "code",
   "execution_count": 3,
   "metadata": {},
   "outputs": [],
   "source": [
    "# connect() to unix:/var/run/php7.2-fpm.sock failed (2: No such file or directory)\n",
    "\n",
    "sudo service nginx restart\n",
    "sudo service php7.2-fpm restart\n",
    "# This will generate file /run/php/php7.2-fpm.sock\n",
    "\n",
    "\n",
    "# connect() to unix:/var/run/php/php7.0-fpm.sock failed (13: Permission denied)\n",
    "# check php fpm conf\n",
    "\n",
    "/etc/php/7.0/fpm/pool.d/www.conf\n",
    "\n",
    "# uncomment\n",
    "listen.owner = www-data\n",
    "listen.group = www-data\n",
    "listen.mode = 0660"
   ]
  }
 ],
 "metadata": {
  "kernelspec": {
   "display_name": "Python 3",
   "language": "python",
   "name": "python3"
  },
  "language_info": {
   "codemirror_mode": {
    "name": "ipython",
    "version": 3
   },
   "file_extension": ".py",
   "mimetype": "text/x-python",
   "name": "python",
   "nbconvert_exporter": "python",
   "pygments_lexer": "ipython3",
   "version": "3.6.8"
  }
 },
 "nbformat": 4,
 "nbformat_minor": 2
}
