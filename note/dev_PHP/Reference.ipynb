{
 "cells": [
  {
   "cell_type": "markdown",
   "metadata": {},
   "source": [
    "## Only variables should be passed by reference\n",
    "\n",
    "if you do \n",
    "```\n",
    "$file_extension = end(explode('.', $file_name));\n",
    "```\n",
    "PHP will throw a warning \"Only variables should be passed by reference\"  \n",
    "\n",
    "Assign the result of explode to a variable and pass that variable to end:\n",
    "```\n",
    "$tmp = explode('.', $file_name);\n",
    "$file_extension = end($tmp);\n",
    "```\n",
    "\n",
    "The problem is, that end requires a reference, because it modifies the internal representation of the array (i.e. it makes the current element pointer point to the last element).\n",
    "  \n",
    "The result of explode('.', $file_name) cannot be turned into a reference. This is a restriction in the PHP language, that probably exists for simplicity reasons."
   ]
  }
 ],
 "metadata": {
  "kernelspec": {
   "display_name": "Python 2",
   "language": "python",
   "name": "python2"
  },
  "language_info": {
   "codemirror_mode": {
    "name": "ipython",
    "version": 2
   },
   "file_extension": ".py",
   "mimetype": "text/x-python",
   "name": "python",
   "nbconvert_exporter": "python",
   "pygments_lexer": "ipython2",
   "version": "2.7.13"
  }
 },
 "nbformat": 4,
 "nbformat_minor": 2
}
