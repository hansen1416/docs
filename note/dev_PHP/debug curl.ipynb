{
 "cells": [
  {
   "cell_type": "code",
   "execution_count": 1,
   "metadata": {},
   "outputs": [
    {
     "ename": "SyntaxError",
     "evalue": "invalid syntax (<ipython-input-1-d070a922a0e5>, line 3)",
     "output_type": "error",
     "traceback": [
      "\u001b[0;36m  File \u001b[0;32m\"<ipython-input-1-d070a922a0e5>\"\u001b[0;36m, line \u001b[0;32m3\u001b[0m\n\u001b[0;31m    $out = fopen('php://output', 'w');\u001b[0m\n\u001b[0m    ^\u001b[0m\n\u001b[0;31mSyntaxError\u001b[0m\u001b[0;31m:\u001b[0m invalid syntax\n"
     ]
    }
   ],
   "source": [
    "ob_start();\n",
    "\n",
    "$out = fopen('php://output', 'w');\n",
    "$ch  = curl_init();\n",
    "\n",
    "curl_setopt($ch, CURLOPT_URL, $url);\n",
    "// don't download content\n",
    "curl_setopt($ch, CURLOPT_NOBODY, 1);\n",
    "curl_setopt($ch, CURLOPT_FAILONERROR, 1);\n",
    "curl_setopt($ch, CURLOPT_RETURNTRANSFER, 1);\n",
    "\n",
    "curl_setopt($ch, CURLOPT_VERBOSE, true);\n",
    "curl_setopt($ch, CURLOPT_STDERR, $out);\n",
    "\n",
    "$result = curl_exec($ch);\n",
    "curl_close($ch);\n",
    "\n",
    "fclose($out);\n",
    "$debug = ob_get_clean();"
   ]
  }
 ],
 "metadata": {
  "kernelspec": {
   "display_name": "Python 3",
   "language": "python",
   "name": "python3"
  },
  "language_info": {
   "codemirror_mode": {
    "name": "ipython",
    "version": 3
   },
   "file_extension": ".py",
   "mimetype": "text/x-python",
   "name": "python",
   "nbconvert_exporter": "python",
   "pygments_lexer": "ipython3",
   "version": "3.7.0"
  }
 },
 "nbformat": 4,
 "nbformat_minor": 2
}
