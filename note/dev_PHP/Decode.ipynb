{
 "cells": [
  {
   "cell_type": "markdown",
   "metadata": {},
   "source": [
    "- How do I detect non-ASCII characters in a string?\n",
    "\n",
    "> detect if any character falls out of the list\n",
    "\n",
    "```\n",
    "if(preg_match('/[^\\x20-\\x7f]/', $string))\n",
    "\n",
    "```\n",
    "> You can use mb_detect_encoding and check for ASCII:\n",
    "\n",
    "```\n",
    "mb_detect_encoding($str, 'ASCII', true)\n",
    "```"
   ]
  },
  {
   "cell_type": "markdown",
   "metadata": {},
   "source": [
    "> If you know for sure that your current encoding is pure ASCII, then you don't have to do anything because ASCII is already a valid UTF-8.\n",
    "\n",
    "> But if you still want to convert, just to be sure that its UTF-8, then you can use iconv\n",
    "\n",
    "```\n",
    "$string = iconv('ASC\n",
    "```\n",
    "\n",
    ">The IGNORE will discard any invalid characters just in case some were not valid ASCII.\n",
    "\n"
   ]
  }
 ],
 "metadata": {
  "kernelspec": {
   "display_name": "Python 2",
   "language": "python",
   "name": "python2"
  },
  "language_info": {
   "codemirror_mode": {
    "name": "ipython",
    "version": 2
   },
   "file_extension": ".py",
   "mimetype": "text/x-python",
   "name": "python",
   "nbconvert_exporter": "python",
   "pygments_lexer": "ipython2",
   "version": "2.7.13"
  }
 },
 "nbformat": 4,
 "nbformat_minor": 2
}
