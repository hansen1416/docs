{
 "cells": [
  {
   "cell_type": "markdown",
   "metadata": {},
   "source": [
    "> senders (publishers) are not programmed to send their messages to specific receivers (subscribers).\n",
    "\n",
    "> published messages are characterized into channels, without knowledge of what (if any) subscribers there may be.\n",
    "\n",
    "> Subscribers express interest in one or more channels, and only receive messages that are of interest, without knowledge of what (if any) publishers there are.\n",
    "\n",
    "> This decoupling of publishers and subscribers can allow for greater scalability and a more dynamic network topology."
   ]
  },
  {
   "cell_type": "markdown",
   "metadata": {},
   "source": [
    "`SUBSCRIBE channel1_name channel2_name`\n",
    "\n",
    "Messages sent by other clients to these channels will be pushed by Redis to all the subscribed clients."
   ]
  },
  {
   "cell_type": "markdown",
   "metadata": {},
   "source": [
    "`PUBLISH channel2_name what_ever_Message`"
   ]
  }
 ],
 "metadata": {
  "kernelspec": {
   "display_name": "Python 3",
   "language": "python",
   "name": "python3"
  },
  "language_info": {
   "codemirror_mode": {
    "name": "ipython",
    "version": 3
   },
   "file_extension": ".py",
   "mimetype": "text/x-python",
   "name": "python",
   "nbconvert_exporter": "python",
   "pygments_lexer": "ipython3",
   "version": "3.6.8"
  }
 },
 "nbformat": 4,
 "nbformat_minor": 2
}
