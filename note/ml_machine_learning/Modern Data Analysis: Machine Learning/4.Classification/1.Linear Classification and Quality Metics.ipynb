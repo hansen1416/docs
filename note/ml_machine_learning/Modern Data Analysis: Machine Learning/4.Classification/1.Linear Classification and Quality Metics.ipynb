{
 "cells": [
  {
   "cell_type": "markdown",
   "metadata": {},
   "source": [
    "## Training Linear Classifier\n",
    "\n",
    "### Loss function im classification\n",
    "\n",
    "Loss function - error rate\n",
    "\n",
    "$L(a,x) = \\frac{1}{N} \\sum^N_{i=1}[a(x_i) \\ne y_i]$\n",
    "\n",
    "sometimes accuracy is measured:\n",
    "\n",
    "$L(a,x) = \\frac{1}{N} \\sum^N_{i=1}[a(x_i) = y_i]$\n",
    "\n",
    "Indicator function\n",
    "\n",
    "$[A]=\\begin{cases} 1, \\text{if A is True} \\\\ 0, \\text{if A is False} \\end{cases}$\n",
    "\n",
    "---\n",
    "\n",
    "## Margin\n",
    "\n",
    "Loss function\n",
    "\n",
    "$L(w, X) = \\frac{1}{N} \\sum^{N}_{i=1}[sign(\\langle w, x_i \\rangle) \\ne y_i]$\n",
    "\n",
    "Alternative formulation \n",
    "\n",
    "$L(w, X) = \\frac{1}{N} \\sum^{N}_{i=1}[y_i\\langle w, x_i \\rangle < 0]$\n",
    "\n",
    "Indicator - non-differentiable function (can't use gradient decent to train)\n",
    "\n",
    "_for all values of margin that are smaller than 0, it is equal to 1, and for all values larger than 0, it is equal to 0._"
   ]
  }
 ],
 "metadata": {
  "kernelspec": {
   "display_name": "Python 3",
   "language": "python",
   "name": "python3"
  },
  "language_info": {
   "codemirror_mode": {
    "name": "ipython",
    "version": 3
   },
   "file_extension": ".py",
   "mimetype": "text/x-python",
   "name": "python",
   "nbconvert_exporter": "python",
   "pygments_lexer": "ipython3",
   "version": "3.7.9"
  }
 },
 "nbformat": 4,
 "nbformat_minor": 4
}
