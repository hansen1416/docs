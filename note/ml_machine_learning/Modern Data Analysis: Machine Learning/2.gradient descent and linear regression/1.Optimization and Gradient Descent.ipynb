{
 "cells": [
  {
   "cell_type": "markdown",
   "metadata": {},
   "source": [
    "# Loss minimization\n",
    "\n",
    "### Linear regression example:\n",
    "\n",
    "$L(w_1,\\dots,w_d) = min \\sum^{N}_{n=1}(w_1x_{n1} + \\cdots + w_dx_{nd} - y_n)^2$\n",
    "\n",
    "### Convex function:\n",
    "\n",
    "Strict convex function has one minimum.\n",
    "\n",
    "### Critical point condition\n",
    "\n",
    "If $w_0$ is a critial point and function is differentiable at $w_0$ then:\n",
    "\n",
    "$\\nabla L(w_0) = 0$\n",
    "\n",
    "For convex function there is only one critial point."
   ]
  },
  {
   "cell_type": "markdown",
   "metadata": {},
   "source": [
    "# Gradient\n",
    "\n",
    "vector of partial dirivatives\n",
    "\n",
    "$\\nabla f(x) = (\\frac{\\partial f}{\\partial x_1},\\cdots,\\frac{\\partial f}{\\partial x_d})$\n",
    "\n",
    "### Important quality of a gradient\n",
    "\n",
    "Let's fix a point $x_0$\n",
    "\n",
    "In what direction the function will increase faster? In the direction if the gradient!\n",
    "\n",
    "The fastest decrease will be in the __direction of anti-gradient__.\n",
    "\n",
    "### Gradient descent: first step\n",
    "\n",
    "Minimizing loss function\n",
    "\n",
    "$min L(w)$\n",
    "\n",
    "Anti-gradient shows us direction of the fastest decrease\n",
    "\n",
    "$-\\nabla L(w)$\n",
    "\n",
    "Makes steps:\n",
    "\n",
    "$w^t = w^{t-1} - \\eta \\nabla L(w^{t-1})$\n",
    "\n",
    "$w^t$ new point, $\\eta$ learning rate, $\\nabla L(w^{t-1})$ gradient in the previous point\n",
    "\n",
    "### Gradient descent: converge\n",
    "\n",
    "Stop at step $t$ if:\n",
    "\n",
    "$\\| w^t - w^{t-1} \\| < \\epsilon $ or $\\| \\nabla L(w^t) \\| < \\epsilon$\n",
    "\n",
    "### Local and global minima\n",
    "\n",
    "Gradient descent finds a __local minima__\n",
    "\n",
    "Possible solutions:\n",
    "\n",
    "- Multi-start try different initial points\n",
    "- Learning rate annealing"
   ]
  },
  {
   "cell_type": "markdown",
   "metadata": {},
   "source": [
    "# Modifications of Gradient descent\n",
    "\n",
    "### Learning rate $\\eta$\n",
    "\n",
    "$w^t = w^{t-1} - \\eta \\nabla L(w^{t-1})$\n",
    "\n",
    "We can make step size dependent on the step number\n",
    "\n",
    "$\\eta_t = \\frac{1}{t}$  \n",
    "$\\eta_t = \\lambda (\\frac{s}{s+t})^p$\n",
    "\n",
    "### other modifications\n",
    "\n",
    "- Momentum, new direction is only partly determined by the gradient\n",
    "\n",
    "- AdsGrad and RMSprop"
   ]
  }
 ],
 "metadata": {
  "kernelspec": {
   "display_name": "Python 3",
   "language": "python",
   "name": "python3"
  },
  "language_info": {
   "codemirror_mode": {
    "name": "ipython",
    "version": 3
   },
   "file_extension": ".py",
   "mimetype": "text/x-python",
   "name": "python",
   "nbconvert_exporter": "python",
   "pygments_lexer": "ipython3",
   "version": "3.7.9"
  }
 },
 "nbformat": 4,
 "nbformat_minor": 4
}
