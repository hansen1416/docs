{
 "cells": [
  {
   "cell_type": "code",
   "execution_count": null,
   "metadata": {},
   "outputs": [],
   "source": [
    "# if you don’t need the original list, list.sort() is slightly more efficient than sorted().\n",
    "# Another difference is that the list.sort() method is only defined for lists. \n",
    "# In contrast, the sorted() function accepts any iterable.\n",
    "\n",
    "# Key Functions\n",
    "# Both list.sort() and sorted() have a key parameter to specify a function \n",
    "# to be called on each list element prior to making comparisons.\n",
    "\n",
    "# The operator module has itemgetter() function.\n",
    "# The operator module function allow multiple levels of sorting.  \n",
    "# For example, to sort by grade then by age:\n",
    "\n",
    "sorted(student_tuples, key=itemgetter(1, 2))\n",
    "# [('john', 'A', 15), ('dave', 'B', 10), ('jane', 'B', 12)]\n",
    "\n",
    "# Sort Stability\n",
    "# Sorts are guaranteed to be stable. \n",
    "# That means that when multiple records have the same key, their original order is preserved."
   ]
  },
  {
   "cell_type": "code",
   "execution_count": 3,
   "metadata": {},
   "outputs": [
    {
     "name": "stdout",
     "output_type": "stream",
     "text": [
      "['111', '30', '40']\n",
      "[30, 40, 111]\n"
     ]
    }
   ],
   "source": [
    "# becareful with string to int\n",
    "print(sorted(['111','30', '40']))\n",
    "print(sorted(map(int, ['111','30', '40'])))"
   ]
  }
 ],
 "metadata": {
  "kernelspec": {
   "display_name": "Python 3",
   "language": "python",
   "name": "python3"
  },
  "language_info": {
   "codemirror_mode": {
    "name": "ipython",
    "version": 3
   },
   "file_extension": ".py",
   "mimetype": "text/x-python",
   "name": "python",
   "nbconvert_exporter": "python",
   "pygments_lexer": "ipython3",
   "version": "3.6.9"
  }
 },
 "nbformat": 4,
 "nbformat_minor": 2
}
