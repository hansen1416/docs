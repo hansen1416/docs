{
 "cells": [
  {
   "cell_type": "code",
   "execution_count": null,
   "metadata": {},
   "outputs": [],
   "source": [
    "# if you don’t need the original list, list.sort() is slightly more efficient than sorted().\n",
    "# Another difference is that the list.sort() method is only defined for lists. \n",
    "# In contrast, the sorted() function accepts any iterable.\n",
    "\n",
    "# Key Functions\n",
    "# Both list.sort() and sorted() have a key parameter to specify a function \n",
    "# to be called on each list element prior to making comparisons.\n",
    "\n",
    "# The operator module has itemgetter() function.\n",
    "# The operator module function allow multiple levels of sorting.  \n",
    "# For example, to sort by grade then by age:\n",
    "\n",
    "sorted(student_tuples, key=itemgetter(1, 2))\n",
    "# [('john', 'A', 15), ('dave', 'B', 10), ('jane', 'B', 12)]\n",
    "\n",
    "# Sort Stability\n",
    "# Sorts are guaranteed to be stable. \n",
    "# That means that when multiple records have the same key, their original order is preserved."
   ]
  },
  {
   "cell_type": "code",
   "execution_count": 3,
   "metadata": {
    "scrolled": true
   },
   "outputs": [
    {
     "name": "stdout",
     "output_type": "stream",
     "text": [
      "['111', '30', '40']\n",
      "[30, 40, 111]\n"
     ]
    }
   ],
   "source": [
    "# becareful with string to int\n",
    "print(sorted(['111','30', '40']))\n",
    "print(sorted(map(int, ['111','30', '40'])))"
   ]
  },
  {
   "cell_type": "code",
   "execution_count": 1,
   "metadata": {},
   "outputs": [
    {
     "data": {
      "text/plain": [
       "['sea', 'use', 'tax', 'yard', 'word', 'size', 'town', 'west', 'think']"
      ]
     },
     "execution_count": 1,
     "metadata": {},
     "output_type": "execute_result"
    }
   ],
   "source": [
    "# sorting first by length, then by reversed string lexicographically\n",
    "words = ['west','tax','size','sea','use','think','yard','word','town']\n",
    "sorted(words, key= lambda x: (len(x), x[::-1]))"
   ]
  },
  {
   "cell_type": "code",
   "execution_count": 3,
   "metadata": {},
   "outputs": [
    {
     "name": "stdout",
     "output_type": "stream",
     "text": [
      "4\n",
      "4109\n",
      "123123\n",
      "412341451\n",
      "41234\n"
     ]
    },
    {
     "data": {
      "text/plain": [
       "['4109', '41234', '412341451', '123123']"
      ]
     },
     "execution_count": 3,
     "metadata": {},
     "output_type": "execute_result"
    }
   ],
   "source": [
    "# For the number (a1,a2,…,an) comparison value is (a_1 - a_n) + (a_2 - a_{n-1}) + ... + (a_{n/2} - a_{n/2 + 1}) \n",
    "# If the number of digits in this number is odd, \n",
    "# the middle digit does not participate in the calculation. \n",
    "# Sort numbers according to comparison values in ascending order. \n",
    "# For numbers with the equal comparison value use they absolute values for additional sorting.\n",
    "import math\n",
    "\n",
    "def func(item):\n",
    "    l = len(item)\n",
    "    x = math.floor(l/2)\n",
    "    r = 0\n",
    "    for i in range(x):\n",
    "        j = l-i-1\n",
    "        r += int(item[i]) - int(item[j])\n",
    "    return r, abs(int(item))\n",
    "\n",
    "n = int(input())\n",
    "num = [input() for _ in range(n)]\n",
    "\n",
    "sorted(num, key=func)"
   ]
  }
 ],
 "metadata": {
  "kernelspec": {
   "display_name": "Python 3",
   "language": "python",
   "name": "python3"
  },
  "language_info": {
   "codemirror_mode": {
    "name": "ipython",
    "version": 3
   },
   "file_extension": ".py",
   "mimetype": "text/x-python",
   "name": "python",
   "nbconvert_exporter": "python",
   "pygments_lexer": "ipython3",
   "version": "3.6.9"
  }
 },
 "nbformat": 4,
 "nbformat_minor": 2
}
