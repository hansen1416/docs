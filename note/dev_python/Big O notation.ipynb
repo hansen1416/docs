{
 "cells": [
  {
   "cell_type": "markdown",
   "metadata": {},
   "source": [
    "$ f(n) = O(g(n)) $\n",
    "\n",
    "or\n",
    "\n",
    "$ f(n) \\preceq g(n) $ if there exists constants N and c so that for all \n",
    "\n",
    "$ n \\ge N, f(n) \\le c\\cdot g(n) $"
   ]
  },
  {
   "cell_type": "markdown",
   "metadata": {},
   "source": [
    "__example__\n",
    "\n",
    "$f(n) = n^3+4n^2-30n$\n",
    "\n",
    "$g(n)=n^3$\n",
    "\n",
    "$f(n)=O(g(n))$ with $N=0$ and $c=2$, \n",
    "\n",
    "for all $n\\ge 0, n^3+4n^2-30n \\le 2n^3$\n",
    "\n",
    "$f(n)=O(g(n))$ with $N=8$ and $c=1$, \n",
    "\n",
    "for all $n\\ge 8, n^3 \\le n^3+4n^2-30n$"
   ]
  },
  {
   "cell_type": "markdown",
   "metadata": {},
   "source": [
    "- Logarithmic algorithm – O(logn) – Binary Search.\n",
    "- Linear algorithm – O(n) – Linear Search.\n",
    "- Superlinear algorithm – O(nlogn) – Heap Sort, Merge Sort.\n",
    "- Polynomial algorithm – O(n^c) – Strassen’s Matrix Multiplication, Bubble Sort, Selection Sort, Insertion Sort, Bucket Sort.\n",
    "- Exponential algorithm – O(c^n) – Tower of Hanoi.\n",
    "- Factorial algorithm – O(n!) – Determinant Expansion by Minors, Brute force Search algorithm for Traveling Salesman Problem."
   ]
  },
  {
   "cell_type": "markdown",
   "metadata": {},
   "source": [
    "__product__\n",
    "\n",
    "$f_1=O(g_1), f_2=O(g_2) \\implies f_1f_2 = O(g_1g_2)$\n",
    "\n",
    "$f\\cdot O(g) = O(fg)$"
   ]
  },
  {
   "cell_type": "markdown",
   "metadata": {},
   "source": [
    "__sum__\n",
    "\n",
    "\n",
    "$f_1=O(g_1), f_2=O(g_2) \\implies f_1 + f_2 = O(max(g_1, g_2))$\n",
    "\n",
    "This implies\n",
    "\n",
    "$f_1=O(g), f_2=O(g) \\implies f_1 + f_2 \\in O(g)$\n",
    "\n",
    "which means that $O(g)$ is a convex cone."
   ]
  }
 ],
 "metadata": {
  "kernelspec": {
   "display_name": "Python 3",
   "language": "python",
   "name": "python3"
  },
  "language_info": {
   "codemirror_mode": {
    "name": "ipython",
    "version": 3
   },
   "file_extension": ".py",
   "mimetype": "text/x-python",
   "name": "python",
   "nbconvert_exporter": "python",
   "pygments_lexer": "ipython3",
   "version": "3.6.9"
  }
 },
 "nbformat": 4,
 "nbformat_minor": 2
}
