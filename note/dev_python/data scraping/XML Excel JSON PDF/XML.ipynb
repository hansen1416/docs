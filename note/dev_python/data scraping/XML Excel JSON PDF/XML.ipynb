{
 "cells": [
  {
   "cell_type": "code",
   "execution_count": 1,
   "metadata": {},
   "outputs": [],
   "source": [
    "import xml.etree.ElementTree as ET"
   ]
  },
  {
   "cell_type": "code",
   "execution_count": 2,
   "metadata": {},
   "outputs": [],
   "source": [
    "xml_file = ET.parse('example.xml')"
   ]
  },
  {
   "cell_type": "code",
   "execution_count": 3,
   "metadata": {},
   "outputs": [
    {
     "data": {
      "text/plain": [
       "xml.etree.ElementTree.ElementTree"
      ]
     },
     "execution_count": 3,
     "metadata": {},
     "output_type": "execute_result"
    }
   ],
   "source": [
    "type(xml_file)"
   ]
  },
  {
   "cell_type": "code",
   "execution_count": 5,
   "metadata": {},
   "outputs": [],
   "source": [
    "root = xml_file.getroot()\n",
    "# <Element 'catalog' at 0x7f1e482d16b0>"
   ]
  },
  {
   "cell_type": "code",
   "execution_count": 6,
   "metadata": {},
   "outputs": [],
   "source": [
    "xml_string = '''\n",
    "<note>\n",
    "<link type=\"text/css\" rel=\"stylesheet\" id=\"dark-mode-general-link\"/>\n",
    "<link type=\"text/css\" rel=\"stylesheet\" id=\"dark-mode-custom-link\"/>\n",
    "<style type=\"text/css\" id=\"dark-mode-custom-style\"/>\n",
    "<to>Tove</to>\n",
    "<from>Jani</from>\n",
    "<heading>Reminder</heading>\n",
    "<body>Don't forget me this weekend!</body>\n",
    "</note>\n",
    "'''"
   ]
  },
  {
   "cell_type": "code",
   "execution_count": 7,
   "metadata": {},
   "outputs": [
    {
     "data": {
      "text/plain": [
       "'\\n<note>\\n<link type=\"text/css\" rel=\"stylesheet\" id=\"dark-mode-general-link\"/>\\n<link type=\"text/css\" rel=\"stylesheet\" id=\"dark-mode-custom-link\"/>\\n<style type=\"text/css\" id=\"dark-mode-custom-style\"/>\\n<to>Tove</to>\\n<from>Jani</from>\\n<heading>Reminder</heading>\\n<body>Don\\'t forget me this weekend!</body>\\n</note>\\n'"
      ]
     },
     "execution_count": 7,
     "metadata": {},
     "output_type": "execute_result"
    }
   ],
   "source": [
    "xml_string"
   ]
  },
  {
   "cell_type": "code",
   "execution_count": 8,
   "metadata": {},
   "outputs": [
    {
     "data": {
      "text/plain": [
       "<Element 'note' at 0x7f1e482e4110>"
      ]
     },
     "execution_count": 8,
     "metadata": {},
     "output_type": "execute_result"
    }
   ],
   "source": [
    "ET.fromstring(xml_string)"
   ]
  },
  {
   "cell_type": "code",
   "execution_count": 9,
   "metadata": {},
   "outputs": [
    {
     "data": {
      "text/plain": [
       "{}"
      ]
     },
     "execution_count": 9,
     "metadata": {},
     "output_type": "execute_result"
    }
   ],
   "source": [
    "root.attrib"
   ]
  },
  {
   "cell_type": "code",
   "execution_count": 10,
   "metadata": {},
   "outputs": [
    {
     "data": {
      "text/plain": [
       "12"
      ]
     },
     "execution_count": 10,
     "metadata": {},
     "output_type": "execute_result"
    }
   ],
   "source": [
    "len(root)"
   ]
  },
  {
   "cell_type": "code",
   "execution_count": 11,
   "metadata": {},
   "outputs": [
    {
     "name": "stdout",
     "output_type": "stream",
     "text": [
      "<Element 'book' at 0x7f1e482d1770>\n",
      "<Element 'book' at 0x7f1e482d1ad0>\n",
      "<Element 'book' at 0x7f1e482d1dd0>\n",
      "<Element 'book' at 0x7f1e482d6170>\n",
      "<Element 'book' at 0x7f1e482d6470>\n",
      "<Element 'book' at 0x7f1e482d6770>\n",
      "<Element 'book' at 0x7f1e482d6a70>\n",
      "<Element 'book' at 0x7f1e482d6dd0>\n",
      "<Element 'book' at 0x7f1e482d8170>\n",
      "<Element 'book' at 0x7f1e482d8470>\n",
      "<Element 'book' at 0x7f1e482d87d0>\n",
      "<Element 'book' at 0x7f1e482d8ad0>\n"
     ]
    }
   ],
   "source": [
    "for child in root:\n",
    "    print(child)"
   ]
  },
  {
   "cell_type": "code",
   "execution_count": 18,
   "metadata": {},
   "outputs": [
    {
     "data": {
      "text/plain": [
       "'\\n      '"
      ]
     },
     "execution_count": 18,
     "metadata": {},
     "output_type": "execute_result"
    }
   ],
   "source": [
    "root[4].text"
   ]
  },
  {
   "cell_type": "code",
   "execution_count": 21,
   "metadata": {},
   "outputs": [],
   "source": [
    "import requests"
   ]
  },
  {
   "cell_type": "code",
   "execution_count": 28,
   "metadata": {},
   "outputs": [],
   "source": [
    "response = requests.get('http://iss.moex.com/iss/history/engines/stock/markets/shares/boards/tqbr/securities.xml')"
   ]
  },
  {
   "cell_type": "code",
   "execution_count": 29,
   "metadata": {},
   "outputs": [
    {
     "data": {
      "text/plain": [
       "<Response [200]>"
      ]
     },
     "execution_count": 29,
     "metadata": {},
     "output_type": "execute_result"
    }
   ],
   "source": [
    "response"
   ]
  },
  {
   "cell_type": "code",
   "execution_count": 34,
   "metadata": {},
   "outputs": [],
   "source": [
    "shares = ET.fromstring(response.content)"
   ]
  },
  {
   "cell_type": "code",
   "execution_count": 35,
   "metadata": {},
   "outputs": [
    {
     "data": {
      "text/plain": [
       "{'id': 'history'}"
      ]
     },
     "execution_count": 35,
     "metadata": {},
     "output_type": "execute_result"
    }
   ],
   "source": [
    "shares[0].attrib"
   ]
  },
  {
   "cell_type": "code",
   "execution_count": 36,
   "metadata": {},
   "outputs": [
    {
     "name": "stdout",
     "output_type": "stream",
     "text": [
      "column {'name': 'BOARDID', 'type': 'string', 'bytes': '12', 'max_size': '0'}\n",
      "column {'name': 'TRADEDATE', 'type': 'date', 'bytes': '10', 'max_size': '0'}\n",
      "column {'name': 'SHORTNAME', 'type': 'string', 'bytes': '189', 'max_size': '0'}\n",
      "column {'name': 'SECID', 'type': 'string', 'bytes': '36', 'max_size': '0'}\n",
      "column {'name': 'NUMTRADES', 'type': 'double'}\n",
      "column {'name': 'VALUE', 'type': 'double'}\n",
      "column {'name': 'OPEN', 'type': 'double'}\n",
      "column {'name': 'LOW', 'type': 'double'}\n",
      "column {'name': 'HIGH', 'type': 'double'}\n",
      "column {'name': 'LEGALCLOSEPRICE', 'type': 'double'}\n",
      "column {'name': 'WAPRICE', 'type': 'double'}\n",
      "column {'name': 'CLOSE', 'type': 'double'}\n",
      "column {'name': 'VOLUME', 'type': 'double'}\n",
      "column {'name': 'MARKETPRICE2', 'type': 'double'}\n",
      "column {'name': 'MARKETPRICE3', 'type': 'double'}\n",
      "column {'name': 'ADMITTEDQUOTE', 'type': 'double'}\n",
      "column {'name': 'MP2VALTRD', 'type': 'double'}\n",
      "column {'name': 'MARKETPRICE3TRADESVALUE', 'type': 'double'}\n",
      "column {'name': 'ADMITTEDVALUE', 'type': 'double'}\n",
      "column {'name': 'WAVAL', 'type': 'double'}\n",
      "column {'name': 'TRADINGSESSION', 'type': 'int32'}\n",
      "column {'name': 'INDEX', 'type': 'int64'}\n",
      "column {'name': 'TOTAL', 'type': 'int64'}\n",
      "column {'name': 'PAGESIZE', 'type': 'int64'}\n"
     ]
    }
   ],
   "source": [
    "for column in shares.iter('column'):\n",
    "    print(column.tag, column.attrib)"
   ]
  },
  {
   "cell_type": "code",
   "execution_count": 37,
   "metadata": {},
   "outputs": [
    {
     "data": {
      "text/plain": [
       "[<Element 'data' at 0x7f1e3aecf950>, <Element 'data' at 0x7f1e3aef12f0>]"
      ]
     },
     "execution_count": 37,
     "metadata": {},
     "output_type": "execute_result"
    }
   ],
   "source": [
    "shares.findall('data')"
   ]
  },
  {
   "cell_type": "code",
   "execution_count": 42,
   "metadata": {},
   "outputs": [
    {
     "data": {
      "text/plain": [
       "[<Element 'column' at 0x7f1e3aecfb30>,\n",
       " <Element 'column' at 0x7f1e3aecfb90>,\n",
       " <Element 'column' at 0x7f1e3aecfbf0>]"
      ]
     },
     "execution_count": 42,
     "metadata": {},
     "output_type": "execute_result"
    }
   ],
   "source": [
    "shares.findall('data/metadata/columns/column')[:3]"
   ]
  },
  {
   "cell_type": "code",
   "execution_count": 44,
   "metadata": {},
   "outputs": [
    {
     "name": "stdout",
     "output_type": "stream",
     "text": [
      "<Element 'row' at 0x7f1e3af30410>\n",
      "<Element 'row' at 0x7f1e3af30470>\n",
      "<Element 'row' at 0x7f1e3af304d0>\n",
      "<Element 'row' at 0x7f1e3af30590>\n"
     ]
    }
   ],
   "source": [
    "for el in shares.findall('data[1]/rows/row')[:4]:\n",
    "    print(el)"
   ]
  },
  {
   "cell_type": "code",
   "execution_count": null,
   "metadata": {},
   "outputs": [],
   "source": [
    "xml_string = '''\n",
    "<note>\n",
    "<link type=\"text/css\" rel=\"stylesheet\" id=\"dark-mode-general-link\"/>\n",
    "<link type=\"text/css\" rel=\"stylesheet\" id=\"dark-mode-custom-link\"/>\n",
    "<style type=\"text/css\" id=\"dark-mode-custom-style\"/>\n",
    "<to>Tove</to>\n",
    "<from>Jani</from>\n",
    "<heading>Reminder</heading>\n",
    "<body>Don't forget me this weekend!</body>\n",
    "'''"
   ]
  },
  {
   "cell_type": "code",
   "execution_count": 49,
   "metadata": {},
   "outputs": [],
   "source": [
    "import lxml.etree\n",
    "\n",
    "parser = lxml.etree.XMLParser(recover=True)\n",
    "\n",
    "xml_broken = lxml.etree.fromstring(xml_string, parser)\n",
    "\n",
    "xml"
   ]
  }
 ],
 "metadata": {
  "kernelspec": {
   "display_name": "Python 3",
   "language": "python",
   "name": "python3"
  },
  "language_info": {
   "codemirror_mode": {
    "name": "ipython",
    "version": 3
   },
   "file_extension": ".py",
   "mimetype": "text/x-python",
   "name": "python",
   "nbconvert_exporter": "python",
   "pygments_lexer": "ipython3",
   "version": "3.7.9"
  }
 },
 "nbformat": 4,
 "nbformat_minor": 4
}
