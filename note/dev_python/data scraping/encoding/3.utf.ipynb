{
 "cells": [
  {
   "cell_type": "markdown",
   "metadata": {},
   "source": [
    "Since Unicode is a table, how to encode Unicode characters?"
   ]
  },
  {
   "cell_type": "markdown",
   "metadata": {},
   "source": [
    "_UTF-32_\n",
    "\n",
    "- character encoding, encodes all unicode characters\n",
    "- every character occupies 4 bytes. (32 bits)\n",
    "\n",
    "it's simple, but occupy 4 times space as ASCII"
   ]
  },
  {
   "cell_type": "markdown",
   "metadata": {},
   "source": [
    "_UTF-8_\n",
    "\n",
    "| character number | code point | num. of bytes |\n",
    "|--|--|--|\n",
    "| #0 to #127 | U+0000 to U+007F | 1 |\n",
    "| #128 to #2047 | U+0080 to U+07FF | 2 |\n",
    "| #2048 to #65535 | U+0800 to U+FFFF | 3 |\n",
    "| #65536 to #1114111 | U+10000 to U+10FFFF | 4 |\n",
    "\n",
    "some bits used for character separation, some bits for an encoding\n",
    "\n",
    "__1 byte__ 0xxxxxxx  \n",
    "__2 bytes__ 110xxxxx 10xxxxxx  \n",
    "__3 bytes__ 1110xxxx 10xxxxxx 10xxxxxx  \n",
    "__4 bytes__ 11110xxx 10xxxxxx 10xxxxxx 10xxxxxx  \n",
    "\n",
    "- ASCII-compatible\n",
    "- Can encode any Unicode character\n",
    "- Fairly compact"
   ]
  },
  {
   "cell_type": "markdown",
   "metadata": {},
   "source": [
    "_UTF-16_\n",
    "\n",
    "- Another encoding for Unicode\n",
    "- 2 or 4 bytes per character\n",
    "- Sometimes text encoded by UTF-16 is more compact than UTF-8 (e.g. text in Chinese)"
   ]
  }
 ],
 "metadata": {
  "kernelspec": {
   "display_name": "Python 3",
   "language": "python",
   "name": "python3"
  },
  "language_info": {
   "codemirror_mode": {
    "name": "ipython",
    "version": 3
   },
   "file_extension": ".py",
   "mimetype": "text/x-python",
   "name": "python",
   "nbconvert_exporter": "python",
   "pygments_lexer": "ipython3",
   "version": "3.7.7"
  }
 },
 "nbformat": 4,
 "nbformat_minor": 4
}
