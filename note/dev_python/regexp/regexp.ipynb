{
 "cells": [
  {
   "cell_type": "markdown",
   "metadata": {},
   "source": [
    "\\d = [0-9]  \n",
    "\\D = [^0-9]  \n",
    "\\w = [a-zA-z0-9]  \n",
    "\\W = [^a-zA-z0-9]  \n",
    "others \\s \\S \\A \\Z \\b \\B  \n",
    "\n",
    "Metacharacter \"|\" combines serveral regular experssion. Works as logical 'or' operator"
   ]
  },
  {
   "cell_type": "code",
   "execution_count": 1,
   "metadata": {},
   "outputs": [],
   "source": [
    "import re"
   ]
  },
  {
   "cell_type": "code",
   "execution_count": 44,
   "metadata": {},
   "outputs": [
    {
     "data": {
      "text/plain": [
       "re.compile(r'19\\d{2}|20\\d{2}', re.UNICODE)"
      ]
     },
     "execution_count": 44,
     "metadata": {},
     "output_type": "execute_result"
    }
   ],
   "source": [
    "re.compile('19\\d{2}|20\\d{2}')"
   ]
  },
  {
   "cell_type": "code",
   "execution_count": 8,
   "metadata": {},
   "outputs": [
    {
     "data": {
      "text/plain": [
       "['1', '1', '1']"
      ]
     },
     "execution_count": 8,
     "metadata": {},
     "output_type": "execute_result"
    }
   ],
   "source": [
    "re.findall(re.compile('\\d'), '111')"
   ]
  },
  {
   "cell_type": "code",
   "execution_count": 9,
   "metadata": {},
   "outputs": [
    {
     "data": {
      "text/plain": [
       "<callable_iterator at 0x7fbc8c7cff50>"
      ]
     },
     "execution_count": 9,
     "metadata": {},
     "output_type": "execute_result"
    }
   ],
   "source": [
    "re.finditer(re.compile('\\d'), '111')"
   ]
  },
  {
   "cell_type": "code",
   "execution_count": 29,
   "metadata": {},
   "outputs": [
    {
     "name": "stdout",
     "output_type": "stream",
     "text": [
      "1\n",
      "<built-in method start of re.Match object at 0x7fbc8c7107a0>\n",
      "<built-in method end of re.Match object at 0x7fbc8c7107a0>\n",
      "<built-in method span of re.Match object at 0x7fbc8c7107a0>\n"
     ]
    }
   ],
   "source": [
    "matched = re.match(re.compile('\\d', re.MULTILINE), '111')\n",
    "\n",
    "print(matched.group())\n",
    "print(matched.start)\n",
    "print(matched.end)\n",
    "print(matched.span)"
   ]
  },
  {
   "cell_type": "code",
   "execution_count": 43,
   "metadata": {},
   "outputs": [
    {
     "name": "stdout",
     "output_type": "stream",
     "text": [
      "\\\n",
      "1\n",
      "2\n",
      "(1, 2)\n"
     ]
    }
   ],
   "source": [
    "match = re.search(re.compile('\\\\\\\\'), '1\\\\11')\n",
    "\n",
    "print(match.group())\n",
    "print(match.start())\n",
    "print(match.end())\n",
    "print(match.span())"
   ]
  },
  {
   "cell_type": "code",
   "execution_count": 21,
   "metadata": {},
   "outputs": [
    {
     "data": {
      "text/plain": [
       "['', '', '', '']"
      ]
     },
     "execution_count": 21,
     "metadata": {},
     "output_type": "execute_result"
    }
   ],
   "source": [
    "re.split(re.compile('\\d'), '111')"
   ]
  },
  {
   "cell_type": "code",
   "execution_count": 20,
   "metadata": {},
   "outputs": [
    {
     "ename": "TypeError",
     "evalue": "sub() missing 1 required positional argument: 'string'",
     "output_type": "error",
     "traceback": [
      "\u001b[0;31m\u001b[0m",
      "\u001b[0;31mTypeError\u001b[0mTraceback (most recent call last)",
      "\u001b[0;32m<ipython-input-20-99a608be86cf>\u001b[0m in \u001b[0;36m<module>\u001b[0;34m\u001b[0m\n\u001b[0;32m----> 1\u001b[0;31m \u001b[0mre\u001b[0m\u001b[0;34m.\u001b[0m\u001b[0msub\u001b[0m\u001b[0;34m(\u001b[0m\u001b[0mre\u001b[0m\u001b[0;34m.\u001b[0m\u001b[0mcompile\u001b[0m\u001b[0;34m(\u001b[0m\u001b[0;34m'\\d'\u001b[0m\u001b[0;34m)\u001b[0m\u001b[0;34m,\u001b[0m \u001b[0;34m'111'\u001b[0m\u001b[0;34m)\u001b[0m\u001b[0;34m\u001b[0m\u001b[0;34m\u001b[0m\u001b[0m\n\u001b[0m",
      "\u001b[0;31mTypeError\u001b[0m: sub() missing 1 required positional argument: 'string'"
     ]
    }
   ],
   "source": [
    "re.sub(re.compile('\\d'), '111')"
   ]
  },
  {
   "cell_type": "code",
   "execution_count": 22,
   "metadata": {
    "scrolled": true
   },
   "outputs": [
    {
     "ename": "TypeError",
     "evalue": "subn() missing 1 required positional argument: 'string'",
     "output_type": "error",
     "traceback": [
      "\u001b[0;31m\u001b[0m",
      "\u001b[0;31mTypeError\u001b[0mTraceback (most recent call last)",
      "\u001b[0;32m<ipython-input-22-5531068e9d94>\u001b[0m in \u001b[0;36m<module>\u001b[0;34m\u001b[0m\n\u001b[0;32m----> 1\u001b[0;31m \u001b[0mre\u001b[0m\u001b[0;34m.\u001b[0m\u001b[0msubn\u001b[0m\u001b[0;34m(\u001b[0m\u001b[0mre\u001b[0m\u001b[0;34m.\u001b[0m\u001b[0mcompile\u001b[0m\u001b[0;34m(\u001b[0m\u001b[0;34m'\\d'\u001b[0m\u001b[0;34m)\u001b[0m\u001b[0;34m,\u001b[0m \u001b[0;34m'111'\u001b[0m\u001b[0;34m)\u001b[0m\u001b[0;34m\u001b[0m\u001b[0;34m\u001b[0m\u001b[0m\n\u001b[0m",
      "\u001b[0;31mTypeError\u001b[0m: subn() missing 1 required positional argument: 'string'"
     ]
    }
   ],
   "source": [
    "re.subn(re.compile('\\d'), '111')"
   ]
  },
  {
   "cell_type": "code",
   "execution_count": 28,
   "metadata": {},
   "outputs": [
    {
     "data": {
      "text/plain": [
       "re.Pattern"
      ]
     },
     "execution_count": 28,
     "metadata": {},
     "output_type": "execute_result"
    }
   ],
   "source": [
    "# type(re.Pattern)\n",
    "type(re.compile('\\d'))"
   ]
  },
  {
   "cell_type": "code",
   "execution_count": 72,
   "metadata": {},
   "outputs": [],
   "source": [
    "import re\n",
    "\n",
    "def problem_1():\n",
    "    return re.compile('a')\n",
    "\n",
    "def problem_2():\n",
    "    return re.compile('[a-zA-z]*a[a-zA-z]*')\n",
    "\n",
    "def problem_3():\n",
    "    return re.compile('\\d+')\n",
    "\n",
    "def problem_4():\n",
    "    return re.compile('[Hh]ello')\n",
    "\n",
    "def problem_5():\n",
    "    return re.compile(r'\\b[Hh]ello\\b')"
   ]
  },
  {
   "cell_type": "code",
   "execution_count": 76,
   "metadata": {
    "scrolled": true
   },
   "outputs": [
    {
     "data": {
      "text/plain": [
       "['Hello', 'hello']"
      ]
     },
     "execution_count": 76,
     "metadata": {},
     "output_type": "execute_result"
    }
   ],
   "source": [
    "reg = problem_1()\n",
    "re.findall(reg, 'crow')\n",
    "re.findall(reg, 'Adult')\n",
    "re.findall(reg, 'this is an apple')\n",
    "\n",
    "reg = problem_2()\n",
    "re.findall(reg, 'crow')\n",
    "re.findall(reg, 'Adult')\n",
    "re.findall(reg, 'this is a an apple')\n",
    "\n",
    "reg = problem_5()\n",
    "re.findall(reg, 'Hello hello hellooo ahello')\n"
   ]
  },
  {
   "cell_type": "code",
   "execution_count": 42,
   "metadata": {},
   "outputs": [],
   "source": [
    "import re\n",
    "\n",
    "def problem_1():\n",
    "    return re.compile('-?\\d+')\n",
    "\n",
    "def problem_2():\n",
    "    \"\"\"\n",
    "    matches positive real numbers\n",
    "    \"\"\"\n",
    "    return re.compile('\\d+(\\.\\d+)?')\n",
    "\n",
    "def problem_3():\n",
    "    \"\"\"\n",
    "    matches time in 24-hour format: HH:MM.\n",
    "    \"\"\"\n",
    "    return re.compile('((2[0-3]|[01]?[0-9]):[0-5][0-9])')\n",
    "\n",
    "def problem_4():\n",
    "    \"\"\"\n",
    "    matches a date in format YYYY-MM-DD\n",
    "    \"\"\"\n",
    "    return re.compile('([12]\\d{3}-(0[1-9]|1[0-2])-(0[1-9]|[12]\\d|3[01]))')\n",
    "\n",
    "def problem_5():\n",
    "    \"\"\"\n",
    "    matches an appropriate username. By username here we mean a string of 3 to 16 alphanumeric characters. \n",
    "    A username can also contain symbols '-' or '_'.\n",
    "    \"\"\"\n",
    "    return re.compile(r'\\b[\\w-]{3,16}\\b')\n",
    "\n",
    "def problem_6():\n",
    "    \"\"\"\n",
    "    matches an e-mail address. In this problem an e-mail address is expected to have several properties:\n",
    "    - It has \"@\" symbol\n",
    "    - Local-part (before \"@\"-symbol) is alphanumeric, but also can contain symbols \"_\", \"-\" and \".\"\n",
    "    - It has a domain part (after \"@\"-symbol). \n",
    "    The domain part may consists of several literal dot-separated parts.\n",
    "    \"\"\"\n",
    "    return re.compile('([\\w\\-_]+@[a-z][\\w\\-]+\\.[\\w]+(\\.[\\w]+)?)')\n",
    "\n",
    "def problem_7():\n",
    "    \"\"\"\n",
    "    matches an IP address (of IPv4 form). IP address has several properties:\n",
    "    - There are 4 dot-separated numerical parts.\n",
    "    - Numerical part can be any number from 0 to 255\n",
    "    \"\"\"\n",
    "    return re.compile('((2[0-5][0-5]|1?\\d{2}|\\d)\\.(2[0-5][0-5]|1?\\d{2}|\\d)\\.(2[0-5][0-5]|1?\\d{2}|\\d)\\.(2[0-5][0-5]|1?\\d{2}|\\d))')\n",
    "\n",
    "def problem_8():\n",
    "    return re.compile('(https?:\\/\\/(www\\.)?[\\w\\-]+\\.[\\w\\-](\\.[a-z]+)?([\\/\\w\\-\\._]+)?)')"
   ]
  },
  {
   "cell_type": "code",
   "execution_count": 46,
   "metadata": {},
   "outputs": [
    {
     "data": {
      "text/plain": [
       "[('4:00', '4')]"
      ]
     },
     "execution_count": 46,
     "metadata": {},
     "output_type": "execute_result"
    }
   ],
   "source": [
    "reg = problem_3()\n",
    "re.findall(reg, '10:00')\n",
    "re.findall(reg, '24:55')\n",
    "re.findall(reg, '24:00')\n",
    "\n",
    "# reg = problem_6()\n",
    "# re.findall(reg, 'Hi! I am writing to you from example@example.com to hello@bye.com.org')\n",
    "\n",
    "# reg = problem_7()\n",
    "# re.findall(reg, 'These are 0.0.0.1, 169.255.0.0 and 256.256.0.0')\n",
    "\n",
    "# reg = problem_8()\n",
    "# re.findall(reg, 'Welcome to https://wel.com/e, stranger!')"
   ]
  }
 ],
 "metadata": {
  "kernelspec": {
   "display_name": "Python 3",
   "language": "python",
   "name": "python3"
  },
  "language_info": {
   "codemirror_mode": {
    "name": "ipython",
    "version": 3
   },
   "file_extension": ".py",
   "mimetype": "text/x-python",
   "name": "python",
   "nbconvert_exporter": "python",
   "pygments_lexer": "ipython3",
   "version": "3.7.9"
  }
 },
 "nbformat": 4,
 "nbformat_minor": 4
}
