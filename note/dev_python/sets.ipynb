{
 "cells": [
  {
   "cell_type": "markdown",
   "metadata": {},
   "source": [
    "pro\n",
    "--\n",
    "- fast search\n",
    "- remove duplicates\n",
    "\n",
    "con\n",
    "--\n",
    "- unordered container\n",
    "- no mutable objects"
   ]
  }
 ],
 "metadata": {
  "kernelspec": {
   "display_name": "Python 3",
   "language": "python",
   "name": "python3"
  },
  "language_info": {
   "codemirror_mode": {
    "name": "ipython",
    "version": 3
   },
   "file_extension": ".py",
   "mimetype": "text/x-python",
   "name": "python",
   "nbconvert_exporter": "python",
   "pygments_lexer": "ipython3",
   "version": "3.6.9"
  }
 },
 "nbformat": 4,
 "nbformat_minor": 2
}
