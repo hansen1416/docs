{
 "cells": [
  {
   "cell_type": "markdown",
   "metadata": {},
   "source": [
    "install pip first\n",
    "\n",
    "```\n",
    "sudo apt install python3-pip\n",
    "```\n",
    "\n",
    "install virtualenv, we are not install it via pip3, `pip3 install virtualenv`. because after pip3 install, we still need to add the command to path, and possible permission issue on unbuntu. instead, just get it via apt\n",
    "```\n",
    "sudo apt install python3-venv \n",
    "```\n",
    "\n",
    "then create a dir to be the location of all env\n",
    "```\n",
    "mkdir environments\n",
    "```\n",
    "\n",
    "then create one env\n",
    "\n",
    "```\n",
    "python3 -m venv aws-cli\n",
    "```\n",
    "\n",
    "activate it\n",
    "\n",
    "```\n",
    "source aws-cli/bin/activate\n",
    "```"
   ]
  }
 ],
 "metadata": {
  "kernelspec": {
   "display_name": "Python 3",
   "language": "python",
   "name": "python3"
  },
  "language_info": {
   "codemirror_mode": {
    "name": "ipython",
    "version": 3
   },
   "file_extension": ".py",
   "mimetype": "text/x-python",
   "name": "python",
   "nbconvert_exporter": "python",
   "pygments_lexer": "ipython3",
   "version": "3.6.8"
  }
 },
 "nbformat": 4,
 "nbformat_minor": 2
}
