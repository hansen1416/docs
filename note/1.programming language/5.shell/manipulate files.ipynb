{
 "cells": [
  {
   "cell_type": "code",
   "execution_count": 13,
   "metadata": {},
   "outputs": [
    {
     "name": "stdout",
     "output_type": "stream",
     "text": [
      "/home/docs/note/dev_shell/manipulate files.ipynb\n",
      "file /home/docs/note/dev_shell/manipulate files.ipynb exists\n"
     ]
    }
   ],
   "source": [
    "%%bash\n",
    "#!/bin/bash/\n",
    "\n",
    "dir_path=$(dirname $(realpath $0))\n",
    "file_path=\"$dir_path/manipulate files.ipynb\"\n",
    "\n",
    "echo $file_path\n",
    "\n",
    "if [ -f \"$file_path\" ]; then\n",
    "    echo \"file $file_path exists\"\n",
    "else\n",
    "    echo \"file $file_path not exists\"\n",
    "fi"
   ]
  }
 ],
 "metadata": {
  "kernelspec": {
   "display_name": "Python 3",
   "language": "python",
   "name": "python3"
  },
  "language_info": {
   "codemirror_mode": {
    "name": "ipython",
    "version": 3
   },
   "file_extension": ".py",
   "mimetype": "text/x-python",
   "name": "python",
   "nbconvert_exporter": "python",
   "pygments_lexer": "ipython3",
   "version": "3.6.8"
  }
 },
 "nbformat": 4,
 "nbformat_minor": 2
}
