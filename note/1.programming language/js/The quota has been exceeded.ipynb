{
 "cells": [
  {
   "cell_type": "markdown",
   "metadata": {},
   "source": [
    ">QuotaExceededError (DOM Exception 22): The quota has been exceeded.\n",
    "\n",
    "This can occur when Safari is in private mode browsing. While in private browsing, local storage is not available at all.\n",
    "\n",
    "One solution is to warn the user that the app needs non-private mode to work.\n",
    "\n",
    "UPDATE: This has been fixed in Safari 11, so the behaviour is now aligned with other browsers."
   ]
  }
 ],
 "metadata": {
  "kernelspec": {
   "display_name": "Python 3",
   "language": "python",
   "name": "python3"
  },
  "language_info": {
   "codemirror_mode": {
    "name": "ipython",
    "version": 3
   },
   "file_extension": ".py",
   "mimetype": "text/x-python",
   "name": "python",
   "nbconvert_exporter": "python",
   "pygments_lexer": "ipython3",
   "version": "3.7.0"
  }
 },
 "nbformat": 4,
 "nbformat_minor": 2
}
