{
 "cells": [
  {
   "cell_type": "code",
   "execution_count": 24,
   "metadata": {},
   "outputs": [
    {
     "name": "stdout",
     "output_type": "stream",
     "text": [
      "Something is happening before the function is called.\n",
      "let me think\n",
      "Something is happening after the function is called.\n"
     ]
    }
   ],
   "source": [
    "# simple function decorator\n",
    "def my_decorator(func):\n",
    "    def wrapper():\n",
    "        print(\"Something is happening before the function is called.\")\n",
    "        func()\n",
    "        print(\"Something is happening after the function is called.\")\n",
    "        \n",
    "#         if 7 <= datetime.now().hour < 22:\n",
    "#             func()\n",
    "#         else:\n",
    "#             pass  # Hush, the neighbors are asleep\n",
    "    return wrapper\n",
    "\n",
    "@my_decorator\n",
    "def do_something():\n",
    "    print('let me think')\n",
    "    \n",
    "# my_decorator(do_something)()\n",
    "\n",
    "do_something()"
   ]
  },
  {
   "cell_type": "code",
   "execution_count": 25,
   "metadata": {},
   "outputs": [
    {
     "name": "stdout",
     "output_type": "stream",
     "text": [
      "Something is happening before the function is called.\n",
      "let me think !!a\n",
      "Something is happening after the function is called.\n"
     ]
    }
   ],
   "source": [
    "# function decorator with arguments\n",
    "def my_decorator(func):\n",
    "    def wrapper(*args, **kwargs):\n",
    "        print(\"Something is happening before the function is called.\")\n",
    "        func(*args, **kwargs)\n",
    "        print(\"Something is happening after the function is called.\")\n",
    "        \n",
    "#         if 7 <= datetime.now().hour < 22:\n",
    "#             func()\n",
    "#         else:\n",
    "#             pass  # Hush, the neighbors are asleep\n",
    "    return wrapper\n",
    "\n",
    "@my_decorator\n",
    "def do_something(a):\n",
    "    print('let me think' + a)\n",
    "    \n",
    "# my_decorator(do_something)()\n",
    "\n",
    "do_something(' !!a')"
   ]
  },
  {
   "cell_type": "code",
   "execution_count": 30,
   "metadata": {},
   "outputs": [
    {
     "name": "stdout",
     "output_type": "stream",
     "text": [
      "Something is happening before the function is called.\n"
     ]
    },
    {
     "data": {
      "text/plain": [
       "13"
      ]
     },
     "execution_count": 30,
     "metadata": {},
     "output_type": "execute_result"
    }
   ],
   "source": [
    "# function decorator return value\n",
    "def my_decorator(func):\n",
    "    def wrapper(a):\n",
    "        print(\"Something is happening before the function is called.\")\n",
    "        return func(a+2)        \n",
    "#         if 7 <= datetime.now().hour < 22:\n",
    "#             func()\n",
    "#         else:\n",
    "#             pass  # Hush, the neighbors are asleep\n",
    "    return wrapper\n",
    "\n",
    "@my_decorator\n",
    "def do_something(a):\n",
    "    return a\n",
    "    \n",
    "# my_decorator(do_something)()\n",
    "\n",
    "do_something(11)"
   ]
  },
  {
   "cell_type": "code",
   "execution_count": 33,
   "metadata": {},
   "outputs": [
    {
     "name": "stdout",
     "output_type": "stream",
     "text": [
      "Something is happening before the function is called.\n",
      "Help on function do_something in module __main__:\n",
      "\n",
      "do_something(a)\n",
      "\n"
     ]
    }
   ],
   "source": [
    "# A great convenience when working with Python, especially in the interactive shell, \n",
    "# is its powerful introspection ability. \n",
    "# Introspection is the ability of an object to know about its own attributes at runtime.\n",
    "\n",
    "import functools\n",
    "\n",
    "# function decorator return value\n",
    "def my_decorator(func):\n",
    "    @functools.wraps(func)\n",
    "    def wrapper(a):\n",
    "        print(\"Something is happening before the function is called.\")\n",
    "        return func(a+2)        \n",
    "#         if 7 <= datetime.now().hour < 22:\n",
    "#             func()\n",
    "#         else:\n",
    "#             pass  # Hush, the neighbors are asleep\n",
    "    return wrapper\n",
    "\n",
    "@my_decorator\n",
    "def do_something(a):\n",
    "    return a\n",
    "    \n",
    "# my_decorator(do_something)()\n",
    "\n",
    "do_something(11)\n",
    "\n",
    "do_something.__name__\n",
    "\n",
    "help(do_something)"
   ]
  }
 ],
 "metadata": {
  "kernelspec": {
   "display_name": "Python 3",
   "language": "python",
   "name": "python3"
  },
  "language_info": {
   "codemirror_mode": {
    "name": "ipython",
    "version": 3
   },
   "file_extension": ".py",
   "mimetype": "text/x-python",
   "name": "python",
   "nbconvert_exporter": "python",
   "pygments_lexer": "ipython3",
   "version": "3.6.9"
  }
 },
 "nbformat": 4,
 "nbformat_minor": 2
}
