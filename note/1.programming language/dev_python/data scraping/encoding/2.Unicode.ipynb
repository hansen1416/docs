{
 "cells": [
  {
   "cell_type": "markdown",
   "metadata": {},
   "source": [
    "- it's not a character encoding, it's a table.\n",
    "- Try to contain all the characters\n",
    "- Enough room for 1114122 characters\n",
    "\n",
    "A character\n",
    "\n",
    "Description\n",
    "\n",
    "Code-point  U+03C0\n",
    "\n",
    "_you might want to use Hexdecimal/Decimal converter_"
   ]
  },
  {
   "cell_type": "markdown",
   "metadata": {},
   "source": [
    "How Unicode is enumerated?\n",
    "\n",
    "- #0 to #127 - ASCII characters\n",
    "- #128 to #2047 - e.g. European languages\n",
    "- #2048 to #65535 - e.g. Japanese and Chinese languages\n",
    "- #65536 to #1114111 - all other symbols"
   ]
  }
 ],
 "metadata": {
  "kernelspec": {
   "display_name": "Python 3",
   "language": "python",
   "name": "python3"
  },
  "language_info": {
   "codemirror_mode": {
    "name": "ipython",
    "version": 3
   },
   "file_extension": ".py",
   "mimetype": "text/x-python",
   "name": "python",
   "nbconvert_exporter": "python",
   "pygments_lexer": "ipython3",
   "version": "3.7.7"
  }
 },
 "nbformat": 4,
 "nbformat_minor": 4
}
