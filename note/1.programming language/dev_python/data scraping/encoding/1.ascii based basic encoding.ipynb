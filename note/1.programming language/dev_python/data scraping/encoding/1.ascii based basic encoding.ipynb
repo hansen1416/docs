{
 "cells": [
  {
   "cell_type": "markdown",
   "metadata": {},
   "source": [
    "- 128 symbols into binary sequences of length 7\n",
    "- 95 printable characters\n",
    "- 33 non-printing control codes (e.g. line endings, tabs)\n",
    "\n",
    "ASCII-based character encodings\n",
    "\n",
    "- ISO-8859 series\n",
    "- Windows-12x series\n",
    "- UTF-8, UTF-16, UTF-32  \n",
    "..."
   ]
  },
  {
   "cell_type": "markdown",
   "metadata": {},
   "source": [
    "_ISO-8859 series_\n",
    "\n",
    "- ISO-8859-1 - most popular in a series\n",
    "- Name: \"Latin-1 western european\"\n",
    "- Cover most western european languages"
   ]
  },
  {
   "cell_type": "markdown",
   "metadata": {},
   "source": [
    "_Windows-12x series_\n",
    "\n",
    "- Series of several 8-bit encodings\n",
    "- similar with ISO"
   ]
  },
  {
   "cell_type": "markdown",
   "metadata": {},
   "source": [
    "_Shift JIS_\n",
    "\n",
    "- Shift Japanese Industrial Standards\n",
    "- Almost ASCII-compatible: \"￥\" instead of '\\'\n",
    "- One or two bytes per symbol"
   ]
  }
 ],
 "metadata": {
  "kernelspec": {
   "display_name": "Python 3",
   "language": "python",
   "name": "python3"
  },
  "language_info": {
   "codemirror_mode": {
    "name": "ipython",
    "version": 3
   },
   "file_extension": ".py",
   "mimetype": "text/x-python",
   "name": "python",
   "nbconvert_exporter": "python",
   "pygments_lexer": "ipython3",
   "version": "3.7.9"
  }
 },
 "nbformat": 4,
 "nbformat_minor": 4
}
