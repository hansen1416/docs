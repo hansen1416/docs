{
 "cells": [
  {
   "cell_type": "markdown",
   "metadata": {},
   "source": [
    "Even though they achieve (in general) similar things, yes, they are really different. WebSockets typically run from browsers connecting to Application Server over a protocol that runs over TCP/IP. So they are primarily for Web Applications that require a permanent connection to its server.\n",
    "\n",
    "WebSockets are not similar to HTTP. They are normal sockets with some framing and an HTTP-compatible handshake. The HTTP-compatible handshake is just to allow WebSocket connection on the same port that a webserver is running on (so the webserver can forward them), but once the connection is established, the webserver is not in the loop. WebSockets is not limited to browser clients. See libwebsocket which has both a non-browser client and a server.\n",
    "\n",
    "On the other hand, plain sockets are more powerful and generic. They run over TCP/IP but they are not restricted to browsers or HTTP protocol. They could be used to implement any kind of communication."
   ]
  }
 ],
 "metadata": {
  "kernelspec": {
   "display_name": "Python 3",
   "language": "python",
   "name": "python3"
  },
  "language_info": {
   "codemirror_mode": {
    "name": "ipython",
    "version": 3
   },
   "file_extension": ".py",
   "mimetype": "text/x-python",
   "name": "python",
   "nbconvert_exporter": "python",
   "pygments_lexer": "ipython3",
   "version": "3.7.7"
  }
 },
 "nbformat": 4,
 "nbformat_minor": 4
}
