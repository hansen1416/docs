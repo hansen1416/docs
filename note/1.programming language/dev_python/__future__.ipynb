{
 "cells": [
  {
   "cell_type": "code",
   "execution_count": null,
   "metadata": {},
   "outputs": [],
   "source": [
    "from __future import absolute_import\n",
    "\n",
    "# from __future__ import absolute_import does not care about whether something is part of the standard library, \n",
    "# and import string will not always give you the standard-library module with absolute imports on.\n",
    "# from __future__ import absolute_import means that if you import string, \n",
    "# Python will always look for a top-level string module, rather than current_package.string. \n",
    "# However, it does not affect the logic Python uses to decide what file is the string module. When you do\n",
    "\n",
    "python pkg/script.py\n",
    "\n",
    "# pkg/script.py doesn't look like part of a package to Python. \n",
    "# Following the normal procedures, the pkg directory is added to the path, \n",
    "# and all .py files in the pkg directory look like top-level modules. \n",
    "# import string finds pkg/string.py not because it's doing a relative import, \n",
    "# but because pkg/string.py appears to be the top-level module string. \n",
    "# The fact that this isn't the standard-library string module doesn't come up.\n",
    "# To run the file as part of the pkg package, you could do\n",
    "\n",
    "python -m pkg.script\n",
    "\n",
    "# In this case, the pkg directory will not be added to the path. \n",
    "# However, the current directory will be added to the path.\n",
    "# You can also add some boilerplate to pkg/script.py to make Python treat it as part of the pkg package even when run as a file:\n",
    "\n",
    "if __name__ == '__main__' and __package__ is None:\n",
    "    __package__ = 'pkg'\n",
    "\n",
    "# However, this won't affect sys.path. \n",
    "# You'll need some additional handling to remove the pkg directory from the path, \n",
    "# and if pkg's parent directory isn't on the path, you'll need to stick that on the path too."
   ]
  },
  {
   "cell_type": "code",
   "execution_count": null,
   "metadata": {},
   "outputs": [],
   "source": [
    "from __future import division\n",
    "\n",
    "# normal division x/y works just as expected, with one caveat: remember\n",
    "# that if you divide two *integer* values, you will get an *integer*\n",
    "# division operation yielding an *integer* result.  So:\n",
    "\n",
    "1.0 / 2.0 --> 0.5\n",
    "1.0 / 2   --> 0.5\n",
    "1 / 2.0   --> 0.5\n",
    "1 / 2     --> 0\n",
    "\n",
    "# So if you make sure at least one operand is a real number you'll get\n",
    "# a real result.  This is now division works in many programming languages\n",
    "# including C and C++.\n",
    "# In the future, Python will switch to always yielding a real result,\n",
    "# and to force an integer division operation you use the special \"//\"\n",
    "# integer division operator.  If you want that behavior now, just\n",
    "# import that \"from the future\":\n",
    "\n",
    "from __future__ import division\n",
    "\n",
    "# now:\n",
    "    \n",
    "1 / 2 --> 0.5\n",
    "4 / 2 --> 2.0\n",
    "1 // 2 --> 0\n",
    "4 // 2 --> 2"
   ]
  },
  {
   "cell_type": "code",
   "execution_count": null,
   "metadata": {},
   "outputs": [],
   "source": [
    "from __future import print_function"
   ]
  }
 ],
 "metadata": {
  "kernelspec": {
   "display_name": "Python 3",
   "language": "python",
   "name": "python3"
  },
  "language_info": {
   "codemirror_mode": {
    "name": "ipython",
    "version": 3
   },
   "file_extension": ".py",
   "mimetype": "text/x-python",
   "name": "python",
   "nbconvert_exporter": "python",
   "pygments_lexer": "ipython3",
   "version": "3.6.8"
  }
 },
 "nbformat": 4,
 "nbformat_minor": 2
}
