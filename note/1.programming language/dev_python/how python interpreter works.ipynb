{
 "cells": [
  {
   "cell_type": "code",
   "execution_count": null,
   "metadata": {},
   "outputs": [],
   "source": [
    "\"\"\"\n",
    "Whenever the Python interpreter reads a source file, it does two things:\n",
    "it sets a few special variables like __name__, and then\n",
    "it executes all of the code found in the file.\n",
    "\"\"\"\n",
    "\n",
    "# When Your Module Is the Main Program\n",
    "#\n",
    "# If you are running your module (the source file) as the main program, e.g.\n",
    "# python foo.py\n",
    "# the interpreter will assign the hard-coded string \"__main__\" to the __name__ variable, i.e.\n",
    "\n",
    "# It's as if the interpreter inserts this at the top\n",
    "# of your module when run as the main program.\n",
    "\n",
    "__name__ = \"__main__\"\n",
    "\n",
    "# When Your Module Is Imported By Another\n",
    "#\n",
    "# On the other hand, suppose some other module is the main program and it imports your module. \n",
    "# This means there's a statement like this in the main program, or in some other module the main program imports:\n",
    "# Suppose this is in some other main program.\n",
    "\n",
    "import foo\n",
    "\n",
    "# In this case, the interpreter will look at the filename of your module, \n",
    "# foo.py, strip off the .py, and assign that string to your module's __name__ variable, i.e.\n",
    "# It's as if the interpreter inserts this at the top\n",
    "# of your module when it's imported from another module.\n",
    "\n",
    "__name__ = \"foo\"\n"
   ]
  }
 ],
 "metadata": {
  "kernelspec": {
   "display_name": "Python 3",
   "language": "python",
   "name": "python3"
  },
  "language_info": {
   "codemirror_mode": {
    "name": "ipython",
    "version": 3
   },
   "file_extension": ".py",
   "mimetype": "text/x-python",
   "name": "python",
   "nbconvert_exporter": "python",
   "pygments_lexer": "ipython3",
   "version": "3.6.8"
  }
 },
 "nbformat": 4,
 "nbformat_minor": 2
}
