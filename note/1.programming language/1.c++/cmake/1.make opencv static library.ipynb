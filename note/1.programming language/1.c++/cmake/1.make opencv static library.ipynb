{
 "cells": [
  {
   "cell_type": "markdown",
   "metadata": {},
   "source": [
    "```\n",
    "wget https://github.com/opencv/opencv/archive/4.5.1.zip\n",
    "unzip opencv.zip\n",
    "\n",
    "# Create build directory\n",
    "mkdir -p build && cd build\n",
    "\n",
    "# Configure\n",
    "cmake -D CMAKE_BUILD_TYPE=Release \\\n",
    "      -D CMAKE_INSTALL_PREFIX=/home/hlz/blackhighsea/torch/opencv \\\n",
    "      -D BUILD_SHARED_LIBS=OFF ../\n",
    "\n",
    "# Build, maybe this is not needed\n",
    "cmake --build .\n",
    "\n",
    "# -j flag tells make that it is allowed to spawn the provided amount of 'threads'\n",
    "# setting to total amount to <number of cores> + 1 is the most common.\n",
    "make -j4 \n",
    "\n",
    "# install\n",
    "make install\n",
    "```"
   ]
  },
  {
   "cell_type": "markdown",
   "metadata": {},
   "source": [
    "```\n",
    "# CMakeLists.txt\n",
    "\n",
    "# Older versions of CMake are likely to work just fine but, since\n",
    "# I don't know where to cut off I just use the version I'm using\n",
    "cmake_minimum_required(VERSION 3.0 FATAL_ERROR)\n",
    "\n",
    "# name of this example project\n",
    "project(cartoonGan)\n",
    "\n",
    "# set OpenCV_DIR variable equal to the path to the cmake\n",
    "# files within the previously installed opencv program\n",
    "set(OpenCV_DIR /home/hlz/blackhighsea/torch/opencv/lib/cmake/opencv4)\n",
    "\n",
    "# Tell compiler to use C++ 14 features which is needed because\n",
    "# Clang version is often behind in the XCode installation\n",
    "# do I need this?\n",
    "set(CMAKE_CXX_STANDARD 14)\n",
    "\n",
    "# configure the necessary common CMake environment variables\n",
    "# needed to include and link the OpenCV program into this\n",
    "# demo project, namely OpenCV_INCLUDE_DIRS and OpenCV_LIBS\n",
    "find_package( OpenCV REQUIRED )\n",
    "\n",
    "# tell the build to include the headers from OpenCV\n",
    "include_directories( ${OpenCV_INCLUDE_DIRS} )\n",
    "\n",
    "# specify the executable target to be built\n",
    "add_executable(${PROJECT_NAME} main.cpp)\n",
    "\n",
    "# tell it to link the executable target against OpenCV\n",
    "target_link_libraries(${PROJECT_NAME} ${OpenCV_LIBS})\n",
    "```"
   ]
  },
  {
   "cell_type": "markdown",
   "metadata": {},
   "source": [
    "```\n",
    "# To compile my program\n",
    "# ~/blackhighsea/torch/cartoonGan/\n",
    "cmake -S . -B build/\n",
    "\n",
    "or\n",
    "\n",
    "# ~/blackhighsea/torch/cartoonGan/build\n",
    "cmake -S .. -B .\n",
    "\n",
    "#~/blackhighsea/torch/cartoonGan/build\n",
    "make\n",
    "```"
   ]
  }
 ],
 "metadata": {
  "kernelspec": {
   "display_name": "Python 3",
   "language": "python",
   "name": "python3"
  },
  "language_info": {
   "codemirror_mode": {
    "name": "ipython",
    "version": 3
   },
   "file_extension": ".py",
   "mimetype": "text/x-python",
   "name": "python",
   "nbconvert_exporter": "python",
   "pygments_lexer": "ipython3",
   "version": "3.7.9"
  }
 },
 "nbformat": 4,
 "nbformat_minor": 4
}
