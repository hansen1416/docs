{
 "cells": [
  {
   "cell_type": "markdown",
   "metadata": {},
   "source": [
    "## variable and constant"
   ]
  },
  {
   "cell_type": "code",
   "execution_count": 32,
   "metadata": {},
   "outputs": [
    {
     "name": "stdout",
     "output_type": "stream",
     "text": [
      "2\n",
      "7\n",
      "3\n",
      "5\n"
     ]
    }
   ],
   "source": [
    "%%bash\n",
    "#!/bin/bash\n",
    "\n",
    "declare -r N=5\n",
    "\n",
    "n1=2\n",
    "n2=$((N+n1))\n",
    "n3=$((N-n1))\n",
    "\n",
    "echo \"$n1\"\n",
    "echo \"$n2\"\n",
    "echo \"$n3\"\n",
    "\n",
    "let n3+=2\n",
    "\n",
    "echo \"$n3\""
   ]
  },
  {
   "cell_type": "markdown",
   "metadata": {},
   "source": [
    "## use python"
   ]
  },
  {
   "cell_type": "code",
   "execution_count": 26,
   "metadata": {},
   "outputs": [
    {
     "name": "stdout",
     "output_type": "stream",
     "text": [
      "3\n"
     ]
    }
   ],
   "source": [
    "%%bash\n",
    "#!/bin/bash\n",
    "\n",
    "n2=1\n",
    "n3=2\n",
    "\n",
    "n4=$(python -c \"print $n2+$n3\")\n",
    "\n",
    "echo $n4"
   ]
  },
  {
   "cell_type": "markdown",
   "metadata": {},
   "source": [
    "## output"
   ]
  },
  {
   "cell_type": "code",
   "execution_count": 27,
   "metadata": {},
   "outputs": [
    {
     "name": "stdout",
     "output_type": "stream",
     "text": [
      "this is going\n",
      "to be \n",
      "print out\n"
     ]
    }
   ],
   "source": [
    "%%bash\n",
    "#!/bin/bash/\n",
    "\n",
    "cat<< END\n",
    "this is going\n",
    "to be \n",
    "print out\n",
    "END"
   ]
  },
  {
   "cell_type": "markdown",
   "metadata": {},
   "source": [
    "## function"
   ]
  },
  {
   "cell_type": "code",
   "execution_count": 31,
   "metadata": {},
   "outputs": [
    {
     "name": "stdout",
     "output_type": "stream",
     "text": [
      "2017年 07月 23日 星期日 17:55:05 CST\n",
      "2017年 07月 23日 星期日 17:55:05 CST\n"
     ]
    }
   ],
   "source": [
    "%%bash\n",
    "#!/bin/bash/\n",
    "\n",
    "getDate(){\n",
    "    date\n",
    "    return\n",
    "}\n",
    "\n",
    "getDate\n",
    "\n",
    "date"
   ]
  },
  {
   "cell_type": "markdown",
   "metadata": {},
   "source": [
    "## local variable"
   ]
  },
  {
   "cell_type": "code",
   "execution_count": 46,
   "metadata": {},
   "outputs": [
    {
     "name": "stdout",
     "output_type": "stream",
     "text": [
      "global variable\n",
      "11\n"
     ]
    }
   ],
   "source": [
    "%%bash\n",
    "#!/bin/bash/\n",
    "\n",
    "var=\"global variable\"\n",
    "\n",
    "getDate(){\n",
    "    local var=\"local variable\"\n",
    "    return\n",
    "}\n",
    "\n",
    "echo $var\n",
    "\n",
    "getSum(){\n",
    "    local num1=$1\n",
    "    local num2=$2\n",
    "    \n",
    "    sum=$(($num1+$num2))\n",
    "    \n",
    "    echo $sum\n",
    "}\n",
    "\n",
    "num1=5\n",
    "num2=6\n",
    "\n",
    "sum=$(getSum $num1 $num2)\n",
    "\n",
    "echo $sum"
   ]
  },
  {
   "cell_type": "markdown",
   "metadata": {},
   "source": [
    "## read user input"
   ]
  },
  {
   "cell_type": "code",
   "execution_count": 52,
   "metadata": {},
   "outputs": [
    {
     "name": "stdout",
     "output_type": "stream",
     "text": [
      "Hello \n"
     ]
    }
   ],
   "source": [
    "%%bash\n",
    "#!/bin/bash/\n",
    "\n",
    "read -p \"You can type something\" name\n",
    "\n",
    "echo \"Hello $name\""
   ]
  },
  {
   "cell_type": "markdown",
   "metadata": {},
   "source": [
    "## if statement"
   ]
  },
  {
   "cell_type": "code",
   "execution_count": 2,
   "metadata": {},
   "outputs": [
    {
     "name": "stdout",
     "output_type": "stream",
     "text": [
      "you are an adult\n",
      "One more year to go\n"
     ]
    },
    {
     "name": "stderr",
     "output_type": "stream",
     "text": [
      "bash: line 4: if[ -gt 18]: command not found\n",
      "bash: line 6: elif[ -eq 17]: command not found\n",
      "bash: line 8: syntax error near unexpected token `else'\n",
      "bash: line 8: `else'\n"
     ]
    }
   ],
   "source": [
    "%%bash\n",
    "#!/bin/bash\n",
    "\n",
    "read -p \"How old are you \" age\n",
    "\n",
    "if[$age -gt 18]\n",
    "    echo \"you are an adult\"\n",
    "elif[$age -eq 17]\n",
    "    echo \"One more year to go\"\n",
    "else\n",
    "    echo \"Not an adult\"\n",
    "fi"
   ]
  }
 ],
 "metadata": {
  "kernelspec": {
   "display_name": "Python 3",
   "language": "python",
   "name": "python3"
  },
  "language_info": {
   "codemirror_mode": {
    "name": "ipython",
    "version": 3
   },
   "file_extension": ".py",
   "mimetype": "text/x-python",
   "name": "python",
   "nbconvert_exporter": "python",
   "pygments_lexer": "ipython3",
   "version": "3.7.9"
  }
 },
 "nbformat": 4,
 "nbformat_minor": 2
}
