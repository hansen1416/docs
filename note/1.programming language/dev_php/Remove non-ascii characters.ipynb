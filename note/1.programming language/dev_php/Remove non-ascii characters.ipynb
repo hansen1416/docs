{
 "cells": [
  {
   "cell_type": "code",
   "execution_count": 2,
   "metadata": {},
   "outputs": [],
   "source": [
    "$str = 'aAÂ';\n",
    "$str = preg_replace('/[[:^print:]]/', '', $str); // should be aA\n",
    "\n",
    "# What `:print:` does is look for all printable characters. \n",
    "# The reverse, `:^print:`, looks for all non-printable characters. \n",
    "# Any characters that are not part of the current character set will be removed.\n",
    "\n",
    "# Note: Before using this method, you must ensure that your current character set is ASCII. \n",
    "# POSIX Character Classes support both ASCII and Unicode and will match only according to the current character set. \n",
    "# As of PHP 5.6, the default charset is UTF-8."
   ]
  },
  {
   "cell_type": "code",
   "execution_count": null,
   "metadata": {},
   "outputs": [],
   "source": [
    "<?php\n",
    "header('Content-Type: text/html; charset=UTF-8');\n",
    "$str = \"abqwrešđčžsff\";\n",
    "$res = preg_replace('/[^\\x20-\\x7E]/','', $str);\n",
    "echo \"($str)($res)\";"
   ]
  }
 ],
 "metadata": {
  "kernelspec": {
   "display_name": "Python 3",
   "language": "python",
   "name": "python3"
  },
  "language_info": {
   "codemirror_mode": {
    "name": "ipython",
    "version": 3
   },
   "file_extension": ".py",
   "mimetype": "text/x-python",
   "name": "python",
   "nbconvert_exporter": "python",
   "pygments_lexer": "ipython3",
   "version": "3.6.9"
  }
 },
 "nbformat": 4,
 "nbformat_minor": 2
}
