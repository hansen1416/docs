{
 "cells": [
  {
   "cell_type": "markdown",
   "metadata": {},
   "source": [
    "### php7.1 install\n",
    "\n",
    "`sudo apt-get install ppa-purge`  \n",
    "`sudo apt-get purge php7.0-common`  \n",
    "\n",
    "\n",
    "*If you want to install PHP 7.1, the latest stable release of PHP at the time of writing this article, on Ubuntu 16.04, a convenient method is to use the PPA (Personal Package Archives) repository.*\n",
    "\n",
    "*First of all, you need to add specified PPA to the system apt repository:*\n",
    "\n",
    "`sudo apt-get install -y python-software-properties`  \n",
    "`sudo add-apt-repository -y ppa:ondrej/php`  \n",
    "\n",
    "*if add-apt-repository: command not found, run below install software-properties-common*\n",
    "`apt-get install software-properties-common`\n",
    "\n",
    "`sudo apt-get update -y`  \n",
    "\n",
    "*Then you can list all of the available PHP 7.1-related packages for review:*  \n",
    "\n",
    "`apt-cache pkgnames | grep php7.1`  \n",
    "\n",
    "*From now on, you can install and configure PHP 7.1 in the same fashion as mentioned in the chapter about PHP 7.0 above. Basically, replacing 7.0 with 7.1 in relevant commands will get your job done.*\n",
    "\n",
    "\n",
    "`cp 7.0/fpm/php.ini 7.1/fpm/`  \n",
    "`cp 7.0/fpm/php-fpm.conf 7.1/fpm/`  \n",
    "`cp 7.0/fpm/conf.d/20-xdebug.ini 7.1/fpm/conf.d/`  \n",
    "\n",
    "`vim /etc/supervisor/conf.d/php-fpm.conf` \n",
    "\n",
    "\n",
    "`phpdismod igbinary && phpenmod igbinary`  "
   ]
  },
  {
   "cell_type": "markdown",
   "metadata": {},
   "source": [
    "### ini files\n",
    "\n",
    "- the number prefix. such as 10-, 20-. Basically it specifies the order in which the INI files are loaded when conf.d/*.ini is included.  "
   ]
  },
  {
   "cell_type": "markdown",
   "metadata": {},
   "source": [
    "### install php5.6-fpm\n",
    "```\n",
    "sudo add-apt-repository ppa:ondrej/php\n",
    "\n",
    "sudo apt-get update\n",
    "sudo apt-get install php5.6-fpm\n",
    "```\n",
    "\n",
    "### nginx error, not founr php5.6-fpm\n",
    "```\n",
    "sudo vim /etc/php5/fpm/pool.d/www.conf\n",
    "```\n",
    "change \n",
    "```\n",
    "listen = 127.0.0.1:9000\n",
    "```\n",
    "\n",
    "to \n",
    "```\n",
    "listen = /var/run/php5-fpm.sock\n",
    "\n",
    "```\n",
    "\n",
    "### nginx showing a blank page\n",
    "\n",
    "replace\n",
    "```\n",
    "include fastcgi_params;\n",
    "```\n",
    "\n",
    "with\n",
    "```\n",
    "include fastcgi.conf;\n",
    "```"
   ]
  }
 ],
 "metadata": {
  "kernelspec": {
   "display_name": "Python 3",
   "language": "python",
   "name": "python3"
  },
  "language_info": {
   "codemirror_mode": {
    "name": "ipython",
    "version": 3
   },
   "file_extension": ".py",
   "mimetype": "text/x-python",
   "name": "python",
   "nbconvert_exporter": "python",
   "pygments_lexer": "ipython3",
   "version": "3.6.8"
  }
 },
 "nbformat": 4,
 "nbformat_minor": 2
}
