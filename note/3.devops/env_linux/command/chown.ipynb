{
 "cells": [
  {
   "cell_type": "markdown",
   "metadata": {},
   "source": [
    "# syntax\n",
    "```\n",
    "chown [-c|--changes] [-v|--verbose] [-f|--silent|--quiet] [--dereference]\n",
    "      [-h|--no-dereference] [--preserve-root]\n",
    "      [--from=currentowner:currentgroup] [--no-preserve-root]\n",
    "      [-R|--recursive] [--preserve-root] [-H] [-L] [-P]\n",
    "      {new-owner|--reference=ref-file} file ...\n",
    "```"
   ]
  },
  {
   "cell_type": "markdown",
   "metadata": {},
   "source": [
    "```\n",
    "chown notme:notmygroup myfile.txt\n",
    "```"
   ]
  }
 ],
 "metadata": {
  "kernelspec": {
   "display_name": "Python 2",
   "language": "python",
   "name": "python2"
  },
  "language_info": {
   "codemirror_mode": {
    "name": "ipython",
    "version": 2
   },
   "file_extension": ".py",
   "mimetype": "text/x-python",
   "name": "python",
   "nbconvert_exporter": "python",
   "pygments_lexer": "ipython2",
   "version": "2.7.13"
  }
 },
 "nbformat": 4,
 "nbformat_minor": 2
}
