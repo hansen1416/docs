{
 "cells": [
  {
   "cell_type": "markdown",
   "metadata": {},
   "source": [
    "# terminator\n",
    "\n",
    "`sudo apt-get install terminator`  "
   ]
  },
  {
   "cell_type": "raw",
   "metadata": {},
   "source": [
    "[global_config]  \n",
    "  suppress_multiple_term_dialog = True  \n",
    "[keybindings]  \n",
    "[layouts]  \n",
    "  [[default]]  \n",
    "    [[[child1]]]  \n",
    "      parent = window0  \n",
    "      type = Terminal  \n",
    "    [[[window0]]]  \n",
    "      parent = \"\"  \n",
    "      type = Window  \n",
    "[plugins]  \n",
    "[profiles]  \n",
    "  [[default]]  \n",
    "    background_color = \"#300A24\"  \n",
    "    background_image = None  \n",
    "    foreground_color = \"#FFFFFF\" "
   ]
  }
 ],
 "metadata": {
  "kernelspec": {
   "display_name": "Python 2",
   "language": "python",
   "name": "python2"
  },
  "language_info": {
   "codemirror_mode": {
    "name": "ipython",
    "version": 2
   },
   "file_extension": ".py",
   "mimetype": "text/x-python",
   "name": "python",
   "nbconvert_exporter": "python",
   "pygments_lexer": "ipython2",
   "version": "2.7.13"
  }
 },
 "nbformat": 4,
 "nbformat_minor": 2
}
