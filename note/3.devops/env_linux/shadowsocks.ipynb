{
 "cells": [
  {
   "cell_type": "code",
   "execution_count": 2,
   "metadata": {},
   "outputs": [],
   "source": [
    "sudo apt install shadowsocks-libev privoxy\n",
    "\n",
    "# then uncomment the line \n",
    "\n",
    "# `forward-socks5t   /               127.0.0.1:1080 .` \n",
    "    \n",
    "# in /etc/privoxy/config\n",
    "\n",
    "# config ubuntu 20.04 network proxy,\n",
    "\n",
    "# socks host  127.0.0.1:1080\n",
    "\n",
    "# may need to add some local ip to \"Ignore hosts\"\n",
    "\n",
    "# avoid \"Failed to receive SOCKS4 connect request ack.\"\n",
    "\n",
    "# `git config --global http.proxy 'socks5://127.0.0.1:1080'`"
   ]
  },
  {
   "cell_type": "code",
   "execution_count": null,
   "metadata": {},
   "outputs": [],
   "source": [
    "%%bash\n",
    "\n",
    "# {\n",
    "#     \"server\":\"xg01.jiasudu.pw\",\n",
    "#     \"server_port\":18563,\n",
    "#     \"local_address\": \"127.0.0.1\",\n",
    "#     \"local_port\":1080,\n",
    "#     \"password\":\"xxxxxxx\",\n",
    "#     \"timeout\":300,\n",
    "#     \"method\":\"aes-256-cfb\",\n",
    "#     \"fast_open\": false\n",
    "# }\n",
    "\n",
    "ss-local -c shadowsocks-config.json -v"
   ]
  }
 ],
 "metadata": {
  "kernelspec": {
   "display_name": "Python 3",
   "language": "python",
   "name": "python3"
  },
  "language_info": {
   "codemirror_mode": {
    "name": "ipython",
    "version": 3
   },
   "file_extension": ".py",
   "mimetype": "text/x-python",
   "name": "python",
   "nbconvert_exporter": "python",
   "pygments_lexer": "ipython3",
   "version": "3.7.9"
  }
 },
 "nbformat": 4,
 "nbformat_minor": 2
}
