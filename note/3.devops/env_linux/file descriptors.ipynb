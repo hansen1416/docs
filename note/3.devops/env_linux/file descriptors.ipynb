{
 "cells": [
  {
   "cell_type": "markdown",
   "metadata": {},
   "source": [
    "When you open a file, OS creates a stream to that file and connect that stream to opened file, the descriptor in fact represents that stream. \n",
    "\n",
    "Similarly there are some default streams created by OS. These streams are connected to your terminal instead of files. So when you write something in terminal it goes to stdin stream and OS. And when you write \"ls\" command on terminal, the OS writes the output to stdout stream. stdout stream is connected to your monitor terminal so you can see the output there. "
   ]
  },
  {
   "cell_type": "markdown",
   "metadata": {},
   "source": [
    "In simple words, when you open a file, the operating system creates an entry to represent that file and store the information about that opened file. So if there are 100 files opened in your OS then there will be 100 entries in OS (somewhere in kernel). These entries are represented by integers like (...100, 101, 102....). This entry number is the file descriptor. So it is just an integer number that uniquely represents an opened file within a process. If your process opens 10 files then your Process table will have 10 entries for file descriptors.\n",
    "\n",
    "Similarly when you open a network socket, it is also represented by an integer and it is called Socket Descriptor. I hope you understand."
   ]
  },
  {
   "cell_type": "markdown",
   "metadata": {},
   "source": [
    "File descriptors 0, 1, and 2 are standard input, standard output, and standard error for each running process. A successful initial call to open() will give you file descriptor 3, even if another running process happens to have a file descriptor 3."
   ]
  }
 ],
 "metadata": {
  "kernelspec": {
   "display_name": "Python 3",
   "language": "python",
   "name": "python3"
  },
  "language_info": {
   "codemirror_mode": {
    "name": "ipython",
    "version": 3
   },
   "file_extension": ".py",
   "mimetype": "text/x-python",
   "name": "python",
   "nbconvert_exporter": "python",
   "pygments_lexer": "ipython3",
   "version": "3.7.9"
  }
 },
 "nbformat": 4,
 "nbformat_minor": 4
}
