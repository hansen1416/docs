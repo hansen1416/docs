{
 "cells": [
  {
   "cell_type": "markdown",
   "metadata": {},
   "source": [
    "Simple Storage Service (S3):\n",
    "--\n",
    "S3 is an object storage service. It can be used as shared storage via s3fs. It allows to mount a bucket via FUSE (Filesystem in Userspace interface). I have not tried it but the performance when you use S3 as a classic file system seems quite low and the read/write limitation quite high. On the other hand it's the cheapest solution."
   ]
  },
  {
   "cell_type": "markdown",
   "metadata": {},
   "source": [
    "Elastic Block Store (EBS):\n",
    "--\n",
    "EBS is a persistent block storage with a defined size (It is however possible to change it later). It is fully configurable and could be the most performant solution of Amazon. The major drawback is that it can be only mounted to one EC2 instance. This also means that it can't be shared between multiple pods."
   ]
  },
  {
   "cell_type": "markdown",
   "metadata": {},
   "source": [
    "Elastic File System (EFS):\n",
    "--\n",
    "EFS is a shared file storage with a dynamic elasticity and scalable performance. It's basically a network file system (NFS).\n",
    "\n",
    "Which means:\n",
    "\n",
    "Performance over 10 GB/sec and up to 500,000 IOPS.\n",
    "The file system storage scales up and down as you remove or add new files. According to the documentation, there is no capacity limit. Only a maximum size for a single file: 47.9 TiB. Most users should be good with theses limitations.\n",
    "400 mount targets for each Virtual Private Cloud."
   ]
  }
 ],
 "metadata": {
  "kernelspec": {
   "display_name": "Python 3",
   "language": "python",
   "name": "python3"
  },
  "language_info": {
   "codemirror_mode": {
    "name": "ipython",
    "version": 3
   },
   "file_extension": ".py",
   "mimetype": "text/x-python",
   "name": "python",
   "nbconvert_exporter": "python",
   "pygments_lexer": "ipython3",
   "version": "3.6.9"
  }
 },
 "nbformat": 4,
 "nbformat_minor": 2
}
