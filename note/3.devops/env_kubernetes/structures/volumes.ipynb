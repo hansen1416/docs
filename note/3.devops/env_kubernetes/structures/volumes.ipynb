{
 "cells": [
  {
   "cell_type": "markdown",
   "metadata": {},
   "source": [
    "- __Volumes__ are the mothods by which you attach storage to a pod\n",
    "\n",
    "- some Volumes are ephemeral\n",
    "\n",
    "- some Volumes are persistent\n",
    "\n",
    "_Regardless of type, volumes are attached to a pod, not containers, If a pod isn't mapped to a node anymore, the volume isn't either._"
   ]
  },
  {
   "cell_type": "markdown",
   "metadata": {},
   "source": [
    "Persistent storage options\n",
    "\n",
    "- Are block storage, or networked file systems. _On GKE, these volumes are typically backed by Compute Engine persistent disks._\n",
    "\n",
    "- Provide durable storage outside of Pod\n",
    "\n",
    "- Are independent of the Pod's lifecycle\n",
    "\n",
    "- May exist before Pod creation and be claimed"
   ]
  },
  {
   "cell_type": "markdown",
   "metadata": {},
   "source": [
    "Volumes allow containers withi a Pod to share data\n",
    "\n",
    "- Long-lived, persistent disk\n",
    "- Short-lived, emptyDir\n",
    "- Networked, NFS"
   ]
  },
  {
   "cell_type": "markdown",
   "metadata": {},
   "source": [
    "__emptyDir__: ephemeral, share Pod's lifecycle  \n",
    "__ConfigMap__: Object can be referenced in a volume, _set webserver's parameters_  \n",
    "__Secret__: Stores sensitive info, such as passwords, _backed by in-memory file systems_  \n",
    "__downwardAPI__: Makes data about Pods available to containers, _contaiener learn Pod's_"
   ]
  },
  {
   "cell_type": "markdown",
   "metadata": {},
   "source": [
    "__example__\n",
    "\n",
    "```\n",
    "apiVersion: v1\n",
    "kind: Pod\n",
    "matadata:\n",
    "    name: web\n",
    "spec:\n",
    "    containers:\n",
    "    - name: web\n",
    "      image: nginx\n",
    "      volumeMounts:\n",
    "      - mountPath: /mnt/vol\n",
    "        name: nfs\n",
    "    volumes:\n",
    "    - name: nfs\n",
    "      server: 10.1.1.2\n",
    "      path: \"/\"\n",
    "      readOnly: false\n",
    "```"
   ]
  },
  {
   "cell_type": "markdown",
   "metadata": {},
   "source": [
    "__Compute engine persistent disk__\n",
    "\n",
    "```\n",
    "gcloud compute disks create --size=100GB --zone=us-central1-a demo-disk\n",
    "```\n",
    "\n",
    "```\n",
    "apiVersion: v1\n",
    "kind: Pod\n",
    "matadata:\n",
    "    name: web\n",
    "spec:\n",
    "    containers:\n",
    "    - name: web\n",
    "      image: nginx\n",
    "      volumeMounts:\n",
    "      - mountPath: /mnt/vol\n",
    "        name: pd-volume\n",
    "    volumes:\n",
    "    - name: pd-volume\n",
    "      gcePersistentDisk:\n",
    "          pdName: demo-disk\n",
    "          fsType: ext4\n",
    "```"
   ]
  },
  {
   "cell_type": "markdown",
   "metadata": {},
   "source": [
    "__PersistentVolume__ independent of a Pod's lifecycle\n",
    "\n",
    "__PersistentVolume(PV)__ \n",
    "\n",
    "- Independent of a Pod's lifecycle\n",
    "\n",
    "- Managed by kubernets\n",
    "\n",
    "- manually or dynamically provisioned\n",
    "\n",
    "- persistent disks are used by GKE as PersistentVolumes\n",
    "\n",
    "```\n",
    "apiVersion: v1\n",
    "kind: PersistentVolume\n",
    "matadata:\n",
    "    name: pd-volume\n",
    "spec:\n",
    "    storageClassName: \"standard\" #ssd\n",
    "    capacity:\n",
    "        storage: 100G\n",
    "    accessModes:\n",
    "    - ReadWriteOnce\n",
    "    gcePersistentDisk:\n",
    "        pdName: demo-disk\n",
    "        fsType: ext4\n",
    "---\n",
    "apiVersion: storage.k8s.io/v1\n",
    "kind: StorageClass\n",
    "metadata:\n",
    "    name: standard\n",
    "provisioner: kubernets.io/gce-pd\n",
    "parameters:\n",
    "    type: pd-standard\n",
    "    replication-type: node\n",
    "---\n",
    "apiVersion: storage.k8s.io/v1\n",
    "kind: StorageClass\n",
    "metadata:\n",
    "    name: ssd\n",
    "provisioner: kubernets.io/gce-pd\n",
    "parameters:\n",
    "    type: pd-ssd\n",
    "    replication-type: regional-pd # high availability\n",
    "    zones: us-central1-a, us-central1-b\n",
    "```\n",
    "\n",
    "accessModes:\n",
    "- ReadWriteOnce # mount as read/write to one node\n",
    "- ReadOnlyMany # mount as read only to many nodes\n",
    "- ReadWriteMany # mount as read/write to many nodes, eg. NFS. But GCP persistent disks do not support ReadWriteMany\n",
    "\n",
    "__PersistentVolumeClaim(PVC)__\n",
    "\n",
    "- consume by pod\n",
    "\n",
    "```\n",
    "apiVersion: v1\n",
    "kind: PersistentVolumeClaim\n",
    "matadata:\n",
    "    name: pd-volume-claim\n",
    "spec:\n",
    "    storageClassName: \"standard\"\n",
    "    accessModes:\n",
    "    - ReadWriteOnce\n",
    "    resources:\n",
    "        requests:\n",
    "            storage: 100G\n",
    "    # By default, deleting the persistent volume claim will also delete the provisioned persistent volume. \n",
    "    # If you want to retain the persistent volume, set its persistent volume reclaim policy to retain\n",
    "    persistentVolumeReclaimPolicy: Retain \n",
    "```"
   ]
  }
 ],
 "metadata": {
  "kernelspec": {
   "display_name": "Python 3",
   "language": "python",
   "name": "python3"
  },
  "language_info": {
   "codemirror_mode": {
    "name": "ipython",
    "version": 3
   },
   "file_extension": ".py",
   "mimetype": "text/x-python",
   "name": "python",
   "nbconvert_exporter": "python",
   "pygments_lexer": "ipython3",
   "version": "3.7.7"
  }
 },
 "nbformat": 4,
 "nbformat_minor": 4
}
