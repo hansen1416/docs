{
 "cells": [
  {
   "cell_type": "markdown",
   "metadata": {},
   "source": [
    "purpose of enabling network policies in a Kubernetes cluster, is to restrict network access from a Pod to other Pods and Services inside the cluster\n",
    "\n",
    "By default, network policies are disabled in GKE. In order to enable them, you need at least two nodes of n1-standard-1 instance type or higher."
   ]
  },
  {
   "cell_type": "markdown",
   "metadata": {},
   "source": [
    "```\n",
    "# for new cluster\n",
    "gcloud container cluster create [NAME] --enable-network-policy\n",
    "\n",
    "# for existing cluster\n",
    "gcloud container cluster update [NAME] --enable-addons-NetworkPolicy=ENABLE\n",
    "\n",
    "gcloud container cluster update [NAME] --enable-network-policy\n",
    "\n",
    "# disable\n",
    "gcloud container cluster create [NAME] --no-enable-network-policy\n",
    "```"
   ]
  }
 ],
 "metadata": {
  "kernelspec": {
   "display_name": "Python 3",
   "language": "python",
   "name": "python3"
  },
  "language_info": {
   "codemirror_mode": {
    "name": "ipython",
    "version": 3
   },
   "file_extension": ".py",
   "mimetype": "text/x-python",
   "name": "python",
   "nbconvert_exporter": "python",
   "pygments_lexer": "ipython3",
   "version": "3.7.7"
  }
 },
 "nbformat": 4,
 "nbformat_minor": 4
}
