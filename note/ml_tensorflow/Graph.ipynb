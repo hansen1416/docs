{
 "cells": [
  {
   "cell_type": "code",
   "execution_count": null,
   "metadata": {},
   "outputs": [],
   "source": [
    "# A tensorflow computation, represented as a dataflow graph\n",
    "\n",
    "# Returns a context manager that makes this Graph the default graph.\n",
    "\n",
    "# This method should be used if you want to create multiple graphs in the same process. \n",
    "\n",
    "# For convenience, a global default graph is provided, \n",
    "# and all ops will be added to this graph if you do not create a new graph explicitly.\n",
    "\n",
    "# Use this method with the with keyword to specify that ops created within the scope of a block should be added to this graph. \n",
    "\n",
    "# In this case, once the scope of the with is exited, the previous default graph is set again as default. \n",
    "# There is a stack, so it's ok to have multiple nested levels of as_default calls.\n",
    "\n",
    "with tf.Graph().as_default() as g:\n",
    "    c = tf.constant(5.0)\n",
    "    assert c.graph is g\n",
    "    \n",
    "with tf.Graph().as_default, tf.Session() as sess:\n",
    "    pass"
   ]
  }
 ],
 "metadata": {
  "kernelspec": {
   "display_name": "Python 3",
   "language": "python",
   "name": "python3"
  },
  "language_info": {
   "codemirror_mode": {
    "name": "ipython",
    "version": 3
   },
   "file_extension": ".py",
   "mimetype": "text/x-python",
   "name": "python",
   "nbconvert_exporter": "python",
   "pygments_lexer": "ipython3",
   "version": "3.6.8"
  }
 },
 "nbformat": 4,
 "nbformat_minor": 2
}
