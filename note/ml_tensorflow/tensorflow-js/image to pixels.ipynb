{
 "cells": [
  {
   "cell_type": "code",
   "execution_count": null,
   "metadata": {},
   "outputs": [],
   "source": [
    "const ImageElement:HTMLImageElement;\n",
    "\n",
    "# Creates a tf.Tensor from an image.\n",
    "# @param pixels (PixelData|ImageData|HTMLImageElement|HTMLCanvasElement| HTMLVideoElement)\n",
    "# @param numChannels The number of channels of the output tensor.\n",
    "# Defaults to 3 (ignores alpha channel of input image).\n",
    "const inputData =  tf.browser.fromPixels(ImageElement).toFloat().div(tf.scalar(255)).expandDims();\n",
    "\n",
    "# inputData shape [1,imageWidth,imageHeight,3]\n"
   ]
  }
 ],
 "metadata": {
  "kernelspec": {
   "display_name": "Python 3",
   "language": "python",
   "name": "python3"
  },
  "language_info": {
   "codemirror_mode": {
    "name": "ipython",
    "version": 3
   },
   "file_extension": ".py",
   "mimetype": "text/x-python",
   "name": "python",
   "nbconvert_exporter": "python",
   "pygments_lexer": "ipython3",
   "version": "3.6.8"
  }
 },
 "nbformat": 4,
 "nbformat_minor": 2
}
