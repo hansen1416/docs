{
 "cells": [
  {
   "cell_type": "code",
   "execution_count": null,
   "metadata": {},
   "outputs": [],
   "source": [
    "# When using the WebGL backend, tf.Tensor memory must be managed explicitly\n",
    "# (it is not sufficient to let a tf.Tensor go out of scope for its memory to be released).\n",
    "# To destroy the memory of a tf.Tensor, you can use the dispose()method or tf.dispose():\n",
    "tf.memory();\n",
    "\n",
    "const a = tf.tensor([1,2], [3,4])\n",
    "a.dispose()\n",
    "\n",
    "# tf.tidy() method which cleans up all tf.Tensors that are not returned by a function after executing it,\n",
    "# similar to the way local variables are cleaned up when a function is executed\n",
    "const bottleneck = await tf.tidy(() => {\n",
    "    const result =  a.square().log().neg()\n",
    "    return result\n",
    "});"
   ]
  }
 ],
 "metadata": {
  "kernelspec": {
   "display_name": "Python 3",
   "language": "python",
   "name": "python3"
  },
  "language_info": {
   "codemirror_mode": {
    "name": "ipython",
    "version": 3
   },
   "file_extension": ".py",
   "mimetype": "text/x-python",
   "name": "python",
   "nbconvert_exporter": "python",
   "pygments_lexer": "ipython3",
   "version": "3.6.8"
  }
 },
 "nbformat": 4,
 "nbformat_minor": 2
}
