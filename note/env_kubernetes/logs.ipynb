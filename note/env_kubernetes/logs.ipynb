{
 "cells": [
  {
   "cell_type": "markdown",
   "metadata": {},
   "source": [
    "https://sematext.com/guides/kubernetes-logging/"
   ]
  },
  {
   "cell_type": "markdown",
   "metadata": {},
   "source": [
    "吉的堡\n",
    "--\n",
    "\n",
    "__高新附近__\n",
    "\n",
    "- 吉得堡锦都      已登记\n",
    "- 吉得堡英群      已登记\n",
    "- 吉得堡旺庭      未开园不登记\n",
    "- 吉的堡莱安星座   没电话\n",
    "- 吉得堡华洲城    没电话  地铁鱼化寨\n",
    "- 吉得堡鸿锦城    没电话  地铁鱼化寨\n",
    "\n",
    "__大雁塔，曲江附近__\n",
    "\n",
    "- 吉的堡乐和公馆\n",
    "- 卓亚教育吉的堡英语(西影路)\n",
    "- 吉的堡少儿英语(紫汀苑校)\n",
    "- 吉的堡金地翔悦天下幼儿园\n",
    "\n",
    "私立，非吉的堡\n",
    "--\n",
    "- 大唐西市牛津            已登记\n",
    "- 莲湖区爱稚双语幼儿园     外部图片糟糕\n",
    "- 爱贝尔幼儿园(团结东路)   是否双语未知   无电话\n",
    "- 思迈尔品格双语幼儿园     是否双语未知   无电话\n",
    "\n",
    "- 一代天骄幼儿园    非双语，离家近  电话没人接\n",
    "- 高新第一幼儿园    有双语班，可能需要高新附近住房   电话没人接"
   ]
  }
 ],
 "metadata": {
  "kernelspec": {
   "display_name": "Python 3",
   "language": "python",
   "name": "python3"
  },
  "language_info": {
   "codemirror_mode": {
    "name": "ipython",
    "version": 3
   },
   "file_extension": ".py",
   "mimetype": "text/x-python",
   "name": "python",
   "nbconvert_exporter": "python",
   "pygments_lexer": "ipython3",
   "version": "3.6.9"
  }
 },
 "nbformat": 4,
 "nbformat_minor": 2
}
