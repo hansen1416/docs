{
 "cells": [
  {
   "cell_type": "markdown",
   "metadata": {},
   "source": [
    "A job is a Kubernetes object like a deployment. A job creates one or more pods to run a specific task reliably.\n",
    "\n",
    "In its simplest form, a job will create one pod and track the task completion within that pod. When the task is completed, it will terminate the pod and then report that the job has successfully finished.\n",
    "\n",
    "The _job controller_ schedules a pod for the job on a node and the _job controller_ monitors the pod. If a node failure occurs and the pod is lost, the job controller is aware that the task has not been completed. The _job controller_ reschedules the job pod to run on a different node. The _job controller_ continues to monitor the pod until the task completes. When the task has completed, the _job controller_ removes the finished job and any pods associated with it.\n",
    "\n",
    "There are two main ways to define a job. Non-parallel and parallel.\n",
    "\n",
    "Kubernetes considers parallel jobs complete when the number of pods that had terminated successfully reaches the completion count. "
   ]
  },
  {
   "cell_type": "markdown",
   "metadata": {},
   "source": [
    "```\n",
    "kubectl describe job [JOB_NAME]\n",
    "\n",
    "kubectl get pod -l [job-name=my-app-job]\n",
    "```"
   ]
  },
  {
   "cell_type": "markdown",
   "metadata": {},
   "source": [
    "scale a job\n",
    "```\n",
    "kubectl scale job [JOB_NAME] --replicas [VALUE]\n",
    "```"
   ]
  },
  {
   "cell_type": "markdown",
   "metadata": {},
   "source": [
    "delete a job\n",
    "\n",
    "```\n",
    "kubectl delete -f [JOB_FILE]\n",
    "\n",
    "kubectl delete job [JOB_NAME]\n",
    "```\n",
    "\n",
    "retaining job pods  \n",
    "_you delete Job old but leave its pods running_\n",
    "```\n",
    "kubectl delete job [JOB_NAME] --cascade false\n",
    "```"
   ]
  },
  {
   "cell_type": "markdown",
   "metadata": {},
   "source": [
    "```\n",
    "apiVersion: batch/v1\n",
    "kind: Job\n",
    "metadata:\n",
    "  # Unique key of the Job instance\n",
    "  name: example-job\n",
    "spec:\n",
    "  template:\n",
    "    metadata:\n",
    "      name: example-job\n",
    "    spec:\n",
    "      containers:\n",
    "      - name: pi\n",
    "        image: perl\n",
    "        command: [\"perl\"]\n",
    "        args: [\"-Mbignum=bpi\", \"-wle\", \"print bpi(2000)\"]\n",
    "      # Do not restart containers after they exit\n",
    "      restartPolicy: Never\n",
    "```"
   ]
  },
  {
   "cell_type": "markdown",
   "metadata": {},
   "source": [
    "View job logs\n",
    "\n",
    "```\n",
    "kubectl logs [POD_NAME]\n",
    "```"
   ]
  },
  {
   "cell_type": "markdown",
   "metadata": {},
   "source": [
    "Cronjobs\n",
    "--\n",
    "\n",
    "```\n",
    "apiVersion: batch/v1beta1\n",
    "kind: CronJob\n",
    "metadata:\n",
    "  name: hello\n",
    "spec:\n",
    "  schedule: \"*/1 * * * *\"\n",
    "  jobTemplate:\n",
    "    spec:\n",
    "      template:\n",
    "        spec:\n",
    "          containers:\n",
    "          - name: hello\n",
    "            image: busybox\n",
    "            args:\n",
    "            - /bin/sh\n",
    "            - -c\n",
    "            - date; echo \"Hello, World!\"\n",
    "          restartPolicy: OnFailure\n",
    "```"
   ]
  },
  {
   "cell_type": "markdown",
   "metadata": {},
   "source": [
    "With a Kubernetes Job configured with a parallelism value of 3 and no completion count what happens to the status of the Job when one of the Pods successfully terminates?\n",
    "\n",
    "<p>The entire Job is considered complete and the remaining Pods are shut down.</p>"
   ]
  }
 ],
 "metadata": {
  "kernelspec": {
   "display_name": "Python 3",
   "language": "python",
   "name": "python3"
  },
  "language_info": {
   "codemirror_mode": {
    "name": "ipython",
    "version": 3
   },
   "file_extension": ".py",
   "mimetype": "text/x-python",
   "name": "python",
   "nbconvert_exporter": "python",
   "pygments_lexer": "ipython3",
   "version": "3.7.7"
  }
 },
 "nbformat": 4,
 "nbformat_minor": 4
}
