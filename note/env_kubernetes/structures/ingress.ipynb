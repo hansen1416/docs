{
 "cells": [
  {
   "cell_type": "markdown",
   "metadata": {},
   "source": [
    "The __Ingress__ resource, a service for Services\n",
    "\n",
    "__Ingress__ is a collection of rules that direct external inbound connections to a set of services within the cluster.  \n",
    "\n",
    "In GKE, an ingress resource exposes those services using s single public IP address bound to an HTTP or HTTPS load balancer provisioned with NGCP.  \n",
    "In GKE, k8s' ingress resources are implemented using Clound load balancing. When you create an ingress resource in your cluster, GKE creates an HTTP or HTTPS load balancer and configures it to route traffic to your app.\n",
    "\n",
    "Ingress can direct traffic to:\n",
    "- NodePort services\n",
    "- Load balancer services\n",
    "\n",
    "```\n",
    "apiVersion: extensions/v1beta1\n",
    "kind: Ingress\n",
    "metadata:\n",
    "    name: test-ingress\n",
    "spec:\n",
    "    rules:\n",
    "    - host: demo1.example.com\n",
    "      http:\n",
    "          paths:\n",
    "          - path: /demoexample1path\n",
    "            backend:\n",
    "                serviceName: demo1\n",
    "                servicePort: 80\n",
    "          - path: /demo2path # multiple paths\n",
    "            backend:\n",
    "                serviceName: demo2\n",
    "                servicePort: 80\n",
    "    - host: demo2.anotherdomain.com # multiple hosts\n",
    "      http:\n",
    "          paths:\n",
    "          - path: /labpath\n",
    "            backend:\n",
    "                serviceName: lab1\n",
    "                servicePort: 80\n",
    "```"
   ]
  },
  {
   "cell_type": "markdown",
   "metadata": {},
   "source": [
    "```\n",
    "kubectl edit ingress [NAME]\n",
    "```"
   ]
  }
 ],
 "metadata": {
  "kernelspec": {
   "display_name": "Python 3",
   "language": "python",
   "name": "python3"
  },
  "language_info": {
   "codemirror_mode": {
    "name": "ipython",
    "version": 3
   },
   "file_extension": ".py",
   "mimetype": "text/x-python",
   "name": "python",
   "nbconvert_exporter": "python",
   "pygments_lexer": "ipython3",
   "version": "3.7.7"
  }
 },
 "nbformat": 4,
 "nbformat_minor": 4
}
