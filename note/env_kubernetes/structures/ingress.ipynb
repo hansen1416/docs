{
 "cells": [
  {
   "cell_type": "markdown",
   "metadata": {},
   "source": [
    "The __Ingress__ resource, a service for Services\n",
    "\n",
    "__Ingress__ is a collection of rules that direct external inbound connections to a set of services within the cluster.  \n",
    "\n",
    "In GKE, an ingress resource exposes those services using s single public IP address bound to an HTTP or HTTPS load balancer provisioned with NGCP.  \n",
    "In GKE, k8s' ingress resources are implemented using Clound load balancing. When you create an ingress resource in your cluster, GKE creates an HTTP or HTTPS load balancer and configures it to route traffic to your app.\n",
    "\n",
    "Ingress can direct traffic to:\n",
    "- NodePort services\n",
    "- Load balancer services\n",
    "\n",
    "---\n",
    "\n",
    "```\n",
    "apiVersion: extensions/v1beta1\n",
    "kind: Ingress\n",
    "metadata:\n",
    "    name: test-ingress\n",
    "spec:\n",
    "    rules:\n",
    "    - host: demo1.example.com\n",
    "      http:\n",
    "          paths:\n",
    "          - path: /demoexample1path\n",
    "            backend:\n",
    "                serviceName: demo1\n",
    "                servicePort: 80\n",
    "          - path: /demo2path # multiple paths\n",
    "            backend:\n",
    "                serviceName: demo2\n",
    "                servicePort: 80\n",
    "    - host: demo2.anotherdomain.com # multiple hosts\n",
    "      http:\n",
    "          paths:\n",
    "          - path: /labpath\n",
    "            backend:\n",
    "                serviceName: lab1\n",
    "                servicePort: 80\n",
    "```"
   ]
  },
  {
   "cell_type": "markdown",
   "metadata": {},
   "source": [
    "```\n",
    "kubectl edit ingress [NAME]\n",
    "\n",
    "kubectl replace -f [FILE]\n",
    "```"
   ]
  },
  {
   "cell_type": "markdown",
   "metadata": {},
   "source": [
    "Cloud IAP (Cloud identity aware proxy) provides granular access control at the aplication level. With this, authenticated users can have HTTPS access to the application within a cluster withouit any VPN setup.\n",
    "\n",
    "Cloud Armor provides built-in protection against distributed denial of service and web attacks for the cluster using HTTP(S) load balancer. Can set up security rules to whitelist/blacklist IP address ranges. You can also use predefined rules to defend against cross-site scripting or SQL injection application aware attacks.\n",
    "\n",
    "Cloud CDN (Cloud content delivery network) allows you to bring your application's content closer to the users.\n",
    "\n",
    "Additional Ingress features\n",
    "\n",
    "- Ingress provides __TLS termination__ support at the load balancer at the edge of the network. From there, the load balancer creates another connection to the destination.   \n",
    "\n",
    "- Although the second connection isn't secure by default, but it can be secured. This allows you to manage all your SSL certificates in one place. __Multiple SSL certificate__.\n",
    "\n",
    "- you can use __GRPC along with HTTP/2__ to create performant low latency scalable micro-services within your cluster."
   ]
  },
  {
   "cell_type": "markdown",
   "metadata": {},
   "source": [
    "| Kubernetes object |\tHow implemented in GKE |\tTypical usage scenario |\n",
    "|--|--|--|\n",
    "| Service of type ClusterIP |\tGKE networking |\tCluster-internal applications and microservices |\n",
    "| Service of type LoadBalancer |\tGCP Network Load Balancer (regional) |\tApplication front ends |\n",
    "| Ingress object, backed by a Service of type NodePort |\tGCP HTTP(S) Load Balancer (global) |\tApplication front ends; gives access to advanced features like Cloud Armor, Identity-Aware Proxy (beta) |"
   ]
  }
 ],
 "metadata": {
  "kernelspec": {
   "display_name": "Python 3",
   "language": "python",
   "name": "python3"
  },
  "language_info": {
   "codemirror_mode": {
    "name": "ipython",
    "version": 3
   },
   "file_extension": ".py",
   "mimetype": "text/x-python",
   "name": "python",
   "nbconvert_exporter": "python",
   "pygments_lexer": "ipython3",
   "version": "3.7.7"
  }
 },
 "nbformat": 4,
 "nbformat_minor": 4
}
