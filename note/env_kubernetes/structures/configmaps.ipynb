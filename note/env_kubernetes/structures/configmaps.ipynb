{
 "cells": [
  {
   "cell_type": "markdown",
   "metadata": {},
   "source": [
    "- config files\n",
    "- command line arguments\n",
    "- env variables\n",
    "- port numbers"
   ]
  },
  {
   "cell_type": "markdown",
   "metadata": {},
   "source": [
    "```\n",
    "kubectl create configmap [NAME] [DATA]\n",
    "\n",
    "# using literal values\n",
    "kubectl create configmap demo --from-literal=lab.difficulty=easy \\\n",
    "--from-literal=lab.resolution=high\n",
    "\n",
    "# using from file\n",
    "kubectl create configmap demo --from-file=demo/colot.properties \\ \n",
    "--from-file=demo/ui.properties\n",
    "```\n",
    "\n",
    "```\n",
    "apiVersion: v1\n",
    "data:\n",
    "    color.properties |-\n",
    "        color.good=green\n",
    "        color.bad=red\n",
    "    ui.properties |-\n",
    "        resolution=high\n",
    "        AAO=enabled\n",
    "kind: ConfigMap\n",
    "metadata:\n",
    "    name: demo\n",
    "```"
   ]
  },
  {
   "cell_type": "markdown",
   "metadata": {},
   "source": [
    "using a configmap as a container environment variable\n",
    "\n",
    "```\n",
    "apiVersion: v1\n",
    "kind: Pod\n",
    "metadata:\n",
    "    name: name-pod\n",
    "spec:\n",
    "    containers:\n",
    "    - name: test-container\n",
    "      image: /busybox\n",
    "      env:\n",
    "      - name: VARIABLE_DEMO\n",
    "        valueFrom:\n",
    "            configMapKeyRef:\n",
    "                name: demo\n",
    "                key: lab.difficulty\n",
    "```"
   ]
  }
 ],
 "metadata": {
  "kernelspec": {
   "display_name": "Python 3",
   "language": "python",
   "name": "python3"
  },
  "language_info": {
   "codemirror_mode": {
    "name": "ipython",
    "version": 3
   },
   "file_extension": ".py",
   "mimetype": "text/x-python",
   "name": "python",
   "nbconvert_exporter": "python",
   "pygments_lexer": "ipython3",
   "version": "3.7.7"
  }
 },
 "nbformat": 4,
 "nbformat_minor": 4
}
