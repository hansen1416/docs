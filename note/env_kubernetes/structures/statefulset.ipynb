{
 "cells": [
  {
   "cell_type": "markdown",
   "metadata": {},
   "source": [
    "Each Pod in a StatefulSet maintains a persistent identity\n",
    "\n",
    "- Ordinal index, _it's just a unique sequential number that is assigned to each pod in the stateful set. This number defines the pods position in the sets sequence of pods. Deployment, scaling and updates are ordered using the ordinal index of the pods within a stateful set._\n",
    "- Stable hostname\n",
    "- Stable identified storage"
   ]
  }
 ],
 "metadata": {
  "kernelspec": {
   "display_name": "Python 3",
   "language": "python",
   "name": "python3"
  },
  "language_info": {
   "codemirror_mode": {
    "name": "ipython",
    "version": 3
   },
   "file_extension": ".py",
   "mimetype": "text/x-python",
   "name": "python",
   "nbconvert_exporter": "python",
   "pygments_lexer": "ipython3",
   "version": "3.7.7"
  }
 },
 "nbformat": 4,
 "nbformat_minor": 4
}
