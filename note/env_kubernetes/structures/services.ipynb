{
 "cells": [
  {
   "cell_type": "markdown",
   "metadata": {},
   "source": [
    "If we want to have connectivity to our pods, we will need to create a service. In Kubernetes, a service is a network abstraction over a set of pods. This allows for the traffic to be load balanced for failures. A service allows Kubernetes to set a single DNS record for the pods. As we mentioned earlier, each pod has a separate IP address."
   ]
  },
  {
   "cell_type": "markdown",
   "metadata": {},
   "source": [
    "Expose the Pod for testing\n",
    "--\n",
    "\n",
    "create a service to expose our nginx Pod externally\n",
    "```\n",
    "kubectl expose pod $my_nginx_pod --port 80 --type LoadBalancer\n",
    "```"
   ]
  },
  {
   "cell_type": "markdown",
   "metadata": {},
   "source": [
    "view details about services in the cluster\n",
    "```\n",
    "kubectl get services\n",
    "```"
   ]
  },
  {
   "cell_type": "markdown",
   "metadata": {},
   "source": [
    "verify that the nginx container is serving the static HTML file that you copied.\n",
    "\n",
    "You replace [EXTERNAL_IP] with the external IP address of your service that you obtained from the output of the previous step.\n",
    "```\n",
    "curl http://[EXTERNAL_IP]/test.html\n",
    "```"
   ]
  },
  {
   "cell_type": "markdown",
   "metadata": {},
   "source": [
    "view the resources being used by the nginx Pod\n",
    "```\n",
    "kubectl top pods\n",
    "```"
   ]
  }
 ],
 "metadata": {
  "kernelspec": {
   "display_name": "Python 3",
   "language": "python",
   "name": "python3"
  },
  "language_info": {
   "codemirror_mode": {
    "name": "ipython",
    "version": 3
   },
   "file_extension": ".py",
   "mimetype": "text/x-python",
   "name": "python",
   "nbconvert_exporter": "python",
   "pygments_lexer": "ipython3",
   "version": "3.7.7"
  }
 },
 "nbformat": 4,
 "nbformat_minor": 2
}
