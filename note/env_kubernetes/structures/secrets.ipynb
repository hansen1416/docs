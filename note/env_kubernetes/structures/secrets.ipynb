{
 "cells": [
  {
   "cell_type": "markdown",
   "metadata": {},
   "source": [
    "```\n",
    "kubectl create secret generic [NAME] \\\n",
    "--from-literal user=admin\n",
    "\n",
    "kubectl create secret generic [NAME] \\\n",
    "--from-file=./password.txt\n",
    "\n",
    "kubectl create secret generic [NAME] \\\n",
    "--from-file=Password=./password.txt\n",
    "```"
   ]
  },
  {
   "cell_type": "markdown",
   "metadata": {},
   "source": [
    "User a secret\n",
    "```\n",
    "[...] kind: Pod\n",
    "spec:\n",
    "    containers:\n",
    "    - name mycontainers\n",
    "      image: redis\n",
    "      env:\n",
    "          - name: SECRET_USERNAME\n",
    "            valueFrom:\n",
    "                secretKeyRef:\n",
    "                    name: demo-project\n",
    "                    key: username\n",
    "          - name: SECRET_PASSWORD\n",
    "            valueFrom:\n",
    "                secretKeyRef:\n",
    "                    name: demo-secret\n",
    "                    key: paddword\n",
    "```\n",
    "\n",
    "```\n",
    "[...] kind: Pod\n",
    "spec:\n",
    "    containers:\n",
    "    - name mycontainers\n",
    "      image: redis\n",
    "      volumeMounts:\n",
    "      - name: storagesecrets\n",
    "        mountPath: \"/etc/sup\"\n",
    "        readOnly: true\n",
    "    volumes:\n",
    "    - name: storagesecrets\n",
    "      secret:\n",
    "          secretName: demo-secret\n",
    "          # Secret keys can be projected to a specific path. \n",
    "          # In this case, a password key of secret will not be projected. \n",
    "          # If a password keys required, it must also be listed under the items field.\n",
    "          items:\n",
    "          - key: username\n",
    "            path: group/users\n",
    "```"
   ]
  }
 ],
 "metadata": {
  "kernelspec": {
   "display_name": "Python 3",
   "language": "python",
   "name": "python3"
  },
  "language_info": {
   "codemirror_mode": {
    "name": "ipython",
    "version": 3
   },
   "file_extension": ".py",
   "mimetype": "text/x-python",
   "name": "python",
   "nbconvert_exporter": "python",
   "pygments_lexer": "ipython3",
   "version": "3.7.9"
  }
 },
 "nbformat": 4,
 "nbformat_minor": 4
}
