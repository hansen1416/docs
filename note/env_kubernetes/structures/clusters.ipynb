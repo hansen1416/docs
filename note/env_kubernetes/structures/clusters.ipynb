{
 "cells": [
  {
   "cell_type": "markdown",
   "metadata": {},
   "source": [
    "Create a Kubernetes cluster. 17301622664\n",
    "--\n",
    "\n",
    "```\n",
    "export my_zone=us-central1-a\n",
    "export my_cluster=standard-cluster-1\n",
    "\n",
    "gcloud container clusters create $my_cluster --num-nodes 3 --zone $my_zone --enable-ip-alias\n",
    "```\n",
    "\n",
    "Modify GKE clusters\n",
    "--\n",
    "\n",
    "```\n",
    "gcloud container clusters resize $my_cluster --zone $my_zone --num-nodes=4\n",
    "```\n",
    "\n",
    "Connect to a GKE cluster\n",
    "--\n",
    "\n",
    "This command creates a .kube directory in your home directory if it doesn't already exist. In the .kube directory, the command creates a file named config if it doesn't already exist, which is used to store the authentication and configuration information.\n",
    "\n",
    "```\n",
    "gcloud container clusters get-credentials $my_cluster --zone $my_zone\n",
    "```\n",
    "\n",
    "You don't have to run the `gcloud container clusters get-credentials` command to populate the kubeconfig file for clusters that you created in the same context (the same user in the same environment), because those clusters already have their details populated when the cluster is created. But you have to run the command to connect to a cluster created by another user or in another environment. The command is also an easy way to switch the active context to a different cluster.\n",
    "\n",
    "Inspect a GKE cluster\n",
    "--\n",
    "\n",
    "print out the content of the kubeconfig file:\n",
    "```\n",
    "kubectl config view\n",
    "```\n",
    "\n",
    "print out the cluster information for the active context\n",
    "```\n",
    "kubectl cluster-info\n",
    "```\n",
    "\n",
    "print out the active context\n",
    "```\n",
    "kubectl config current-context\n",
    "```\n",
    "\n",
    "print out some details for all the cluster contexts in the kubeconfig file\n",
    "```\n",
    "kubectl config get-contexts\n",
    "```\n",
    "\n",
    "change the active context\n",
    "```\n",
    "kubectl config use-context gke_${GOOGLE_CLOUD_PROJECT}_us-central1-a_standard-cluster-1\n",
    "```"
   ]
  },
  {
   "cell_type": "markdown",
   "metadata": {},
   "source": [
    "Auto scaling\n",
    "--\n",
    "\n",
    "create a cluster with autoscaling enabled\n",
    "\n",
    "```\n",
    "gcloud container clusters create [CLUSTER_NAME] --num-nodes 30 --enable-autoscaling --min-nodes 15 --max-nodes 50 --zone [COMPUTE_ZONE]\n",
    "```\n",
    "\n",
    "add a node pool with autoscaling enabled\n",
    "\n",
    "```\n",
    "gcloud container node-pools create [POOL_NAME] --cluster [CLUSTER_NAME] --enable-autoscaling --min-nodes 15 --max-nodes 50 --zone [COMPUTE_ZONE]\n",
    "```\n",
    "\n",
    "enable autoscaling for an existing node pool\n",
    "\n",
    "```\n",
    "gcloud container clusters update [CLUSTER_NAME] --enable-autoscaling --min-nodes 1 --max-nodes 10 --zone [COMPUTE_ZONE] --node-pool [POOL_NAME]\n",
    "```\n",
    "\n",
    "disable autoscaling for an existing node pool\n",
    "```\n",
    "gcloud container clusters update [CLUSTER_NAME] --no-enable-autoscaling --node-pool [POOL_NAME] --zone [COMPUTE_ZONE] --project [PROJECT_NAME]\n",
    "```\n",
    "\n",
    "```\n",
    "gcloud container clusters resize PROJECTDEMO --node-pool default-pool --size 6\n",
    "```"
   ]
  },
  {
   "cell_type": "markdown",
   "metadata": {},
   "source": [
    "So you should think of cluster scaling as a coarse-grain operation that should happen infrequently in pods scaling with deployments as a fine-grain operation that should happen frequently. You can use both kinds of scaling together to balance your performance and your spending."
   ]
  },
  {
   "cell_type": "markdown",
   "metadata": {},
   "source": [
    "- Don't run Compute Engine autoscaling\n",
    "- Don't manually resize a node using the gcloud command\n",
    "- Don't manually modify a node"
   ]
  },
  {
   "cell_type": "markdown",
   "metadata": {},
   "source": [
    "- Specify correct resource requests for Pods\n",
    "- Use PodDistruptionBudget to maintain the app's availability"
   ]
  }
 ],
 "metadata": {
  "kernelspec": {
   "display_name": "Python 3",
   "language": "python",
   "name": "python3"
  },
  "language_info": {
   "codemirror_mode": {
    "name": "ipython",
    "version": 3
   },
   "file_extension": ".py",
   "mimetype": "text/x-python",
   "name": "python",
   "nbconvert_exporter": "python",
   "pygments_lexer": "ipython3",
   "version": "3.7.9"
  }
 },
 "nbformat": 4,
 "nbformat_minor": 4
}
