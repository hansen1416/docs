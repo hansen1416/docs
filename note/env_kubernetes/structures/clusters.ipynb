{
 "cells": [
  {
   "cell_type": "markdown",
   "metadata": {},
   "source": [
    "Create a Kubernetes cluster.\n",
    "--\n",
    "\n",
    "```\n",
    "export my_zone=us-central1-a\n",
    "export my_cluster=standard-cluster-1\n",
    "\n",
    "gcloud container clusters create $my_cluster --num-nodes 3 --zone $my_zone --enable-ip-alias\n",
    "```\n",
    "\n",
    "Modify GKE clusters\n",
    "--\n",
    "\n",
    "```\n",
    "gcloud container clusters resize $my_cluster --zone $my_zone --num-nodes=4\n",
    "```\n",
    "\n",
    "Connect to a GKE cluster\n",
    "--\n",
    "\n",
    "This command creates a .kube directory in your home directory if it doesn't already exist. In the .kube directory, the command creates a file named config if it doesn't already exist, which is used to store the authentication and configuration information.\n",
    "\n",
    "```\n",
    "gcloud container clusters get-credentials $my_cluster --zone $my_zone\n",
    "```\n",
    "\n",
    "You don't have to run the `gcloud container clusters get-credentials` command to populate the kubeconfig file for clusters that you created in the same context (the same user in the same environment), because those clusters already have their details populated when the cluster is created. But you have to run the command to connect to a cluster created by another user or in another environment. The command is also an easy way to switch the active context to a different cluster.\n",
    "\n",
    "Inspect a GKE cluster\n",
    "--\n",
    "\n",
    "print out the content of the kubeconfig file:\n",
    "```\n",
    "kubectl config view\n",
    "```\n",
    "\n",
    "print out the cluster information for the active context\n",
    "```\n",
    "kubectl cluster-info\n",
    "```\n",
    "\n",
    "print out the active context\n",
    "```\n",
    "kubectl config current-context\n",
    "```\n",
    "\n",
    "print out some details for all the cluster contexts in the kubeconfig file\n",
    "```\n",
    "kubectl config get-contexts\n",
    "```\n",
    "\n",
    "change the active context\n",
    "```\n",
    "kubectl config use-context gke_${GOOGLE_CLOUD_PROJECT}_us-central1-a_standard-cluster-1\n",
    "```"
   ]
  }
 ],
 "metadata": {
  "kernelspec": {
   "display_name": "Python 3",
   "language": "python",
   "name": "python3"
  },
  "language_info": {
   "codemirror_mode": {
    "name": "ipython",
    "version": 3
   },
   "file_extension": ".py",
   "mimetype": "text/x-python",
   "name": "python",
   "nbconvert_exporter": "python",
   "pygments_lexer": "ipython3",
   "version": "3.7.7"
  }
 },
 "nbformat": 4,
 "nbformat_minor": 4
}
