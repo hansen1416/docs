{
 "cells": [
  {
   "cell_type": "markdown",
   "metadata": {},
   "source": [
    "17301622664\n",
    "\n",
    "# Installing Minikube\n",
    "```\n",
    "curl -Lo minikube https://storage.googleapis.com/minikube/releases/latest/minikube-linux-amd64 && chmod +x minikube && sudo mv minikube /usr/local/bin/\n",
    "```\n",
    "   \n",
    "# Installing kubectl\n",
    "```\n",
    "curl -LO https://storage.googleapis.com/kubernetes-release/release/$(curl -s https://storage.googleapis.com/kubernetes-release/release/stable.txt)/bin/linux/amd64/kubectl\n",
    "chmod +x ./kubectl\n",
    "sudo mv ./kubectl /usr/local/bin/kubectl\n",
    "```"
   ]
  },
  {
   "cell_type": "code",
   "execution_count": 3,
   "metadata": {},
   "outputs": [],
   "source": [
    "# thanks to GFW,\n",
    "# start minikube\n",
    "\n",
    "$ minikube start --vm-driver=virtualbox \\\n",
    "--registry-mirror=https://registry.docker-cn.com \\\n",
    "--image-mirror-country=cn \\\n",
    "--image-repository=registry.cn-hangzhou.aliyuncs.com/google_containers\n",
    "\n",
    "    \n",
    "minikube start --vm-driver=virtualbox \\\n",
    "--docker-env http_proxy=http://127.0.0.1:8888 \\\n",
    "--docker-env https_proxy=http://127.0.0.1:8888"
   ]
  },
  {
   "cell_type": "code",
   "execution_count": 2,
   "metadata": {},
   "outputs": [],
   "source": [
    "#export http_proxy=\"127.0.0.1:8888\"\n",
    "#export https_proxy=\"127.0.0.1:8888\"\n",
    "#export NO_PROXY=localhost,127.0.0.1,10.96.0.0/12,192.168.99.0/24,192.168.39.0/24,192.168.99.100"
   ]
  },
  {
   "cell_type": "code",
   "execution_count": 5,
   "metadata": {},
   "outputs": [
    {
     "name": "stdout",
     "output_type": "stream",
     "text": [
      "yes\n"
     ]
    }
   ],
   "source": [
    "%%bash\n",
    "#!/bin/bash\n",
    "\n",
    "# Verify that your system has virtualization support enabled:\n",
    "# we need to have hardware virtualization enabled\n",
    "egrep -q 'vmx|svm' /proc/cpuinfo && echo yes || echo no"
   ]
  },
  {
   "cell_type": "code",
   "execution_count": null,
   "metadata": {},
   "outputs": [],
   "source": [
    "#!/bin/bash\n",
    "\n",
    "# install KVM and libvirt\n",
    "# The Kernel Virtual Machine, or KVM, \n",
    "# is a full virtualization solution for Linux on x86 (64-bit included) hardware containing virtualization extensions (Intel VT or AMD-V). \n",
    "# It consists of a loadable kernel module, kvm.ko, \n",
    "# which provides the core virtualization infrastructure and a processor specific module, \n",
    "# m-intel.ko or kvm-amd.ko.\n",
    "\n",
    "apt-get install --no-install-recommends qemu-kvm libvirt-clients libvirt-daemon-system"
   ]
  }
 ],
 "metadata": {
  "kernelspec": {
   "display_name": "Python 3",
   "language": "python",
   "name": "python3"
  },
  "language_info": {
   "codemirror_mode": {
    "name": "ipython",
    "version": 3
   },
   "file_extension": ".py",
   "mimetype": "text/x-python",
   "name": "python",
   "nbconvert_exporter": "python",
   "pygments_lexer": "ipython3",
   "version": "3.6.8"
  }
 },
 "nbformat": 4,
 "nbformat_minor": 2
}
