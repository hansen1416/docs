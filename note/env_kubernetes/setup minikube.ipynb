{
 "cells": [
  {
   "cell_type": "code",
   "execution_count": null,
   "metadata": {},
   "outputs": [],
   "source": [
    "#!/bin/bash\n",
    "\n",
    "curl -LO https://storage.googleapis.com/minikube/releases/latest/minikube_1.6.2.deb \\\n",
    "&& sudo dpkg -i minikube_1.6.2.deb"
   ]
  },
  {
   "cell_type": "code",
   "execution_count": 5,
   "metadata": {},
   "outputs": [
    {
     "name": "stdout",
     "output_type": "stream",
     "text": [
      "yes\n"
     ]
    }
   ],
   "source": [
    "%%bash\n",
    "#!/bin/bash\n",
    "\n",
    "# Verify that your system has virtualization support enabled:\n",
    "# we need to have hardware virtualization enabled\n",
    "egrep -q 'vmx|svm' /proc/cpuinfo && echo yes || echo no"
   ]
  },
  {
   "cell_type": "code",
   "execution_count": null,
   "metadata": {},
   "outputs": [],
   "source": [
    "#!/bin/bash\n",
    "\n",
    "# install KVM and libvirt\n",
    "# The Kernel Virtual Machine, or KVM, \n",
    "# is a full virtualization solution for Linux on x86 (64-bit included) hardware containing virtualization extensions (Intel VT or AMD-V). \n",
    "# It consists of a loadable kernel module, kvm.ko, \n",
    "# which provides the core virtualization infrastructure and a processor specific module, \n",
    "# m-intel.ko or kvm-amd.ko.\n",
    "\n",
    "apt-get install --no-install-recommends qemu-kvm libvirt-clients libvirt-daemon-system"
   ]
  }
 ],
 "metadata": {
  "kernelspec": {
   "display_name": "Python 3",
   "language": "python",
   "name": "python3"
  },
  "language_info": {
   "codemirror_mode": {
    "name": "ipython",
    "version": 3
   },
   "file_extension": ".py",
   "mimetype": "text/x-python",
   "name": "python",
   "nbconvert_exporter": "python",
   "pygments_lexer": "ipython3",
   "version": "3.6.8"
  }
 },
 "nbformat": 4,
 "nbformat_minor": 2
}
