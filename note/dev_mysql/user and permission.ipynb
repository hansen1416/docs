{
 "cells": [
  {
   "cell_type": "markdown",
   "metadata": {},
   "source": [
    "```\n",
    "CREATE USER 'user'@'localhost' IDENTIFIED BY 'password';\n",
    "```\n",
    "\n",
    "---\n",
    "\n",
    "```\n",
    "GRANT ALL PRIVILEGES ON *.* TO 'user'@'localhost';\n",
    "```\n",
    "---\n",
    "```\n",
    "REVOKE ALL PRIVILEGES, GRANT OPTION FROM 'bloguser'@'localhost';\n",
    "```\n",
    "---\n",
    "```\n",
    "DROP USER 'bloguser'@'localhost';\n",
    "```"
   ]
  }
 ],
 "metadata": {
  "kernelspec": {
   "display_name": "Python 3",
   "language": "python",
   "name": "python3"
  },
  "language_info": {
   "codemirror_mode": {
    "name": "ipython",
    "version": 3
   },
   "file_extension": ".py",
   "mimetype": "text/x-python",
   "name": "python",
   "nbconvert_exporter": "python",
   "pygments_lexer": "ipython3",
   "version": "3.6.8"
  }
 },
 "nbformat": 4,
 "nbformat_minor": 2
}
