{
 "cells": [
  {
   "cell_type": "markdown",
   "metadata": {},
   "source": [
    "In SQL, the __NULL value is never true in comparison to any other value, even NULL__. An expression that contains NULL always produces a NULL value unless otherwise indicated in the documentation for the operators and functions involved in the expression."
   ]
  },
  {
   "cell_type": "markdown",
   "metadata": {},
   "source": [
    "To search for column values that are `NULL`, you cannot use an expr = `NULL` test. The following statement returns no rows, because __`expr = NULL` is never true for any expression__"
   ]
  },
  {
   "cell_type": "markdown",
   "metadata": {},
   "source": [
    "If the field is fixed width storing NULL takes the same space as any other value - the width of the field.\n",
    "\n",
    "If the field is variable width the NULL value takes up no space.\n",
    "\n",
    "In addition to the space required to store a null value there is also an overhead for having a nullable column. For each row one bit is used per nullable column to mark whether the value for that column is null or not. This is true whether the column is fixed or variable length."
   ]
  }
 ],
 "metadata": {
  "kernelspec": {
   "display_name": "Python 3",
   "language": "python",
   "name": "python3"
  },
  "language_info": {
   "codemirror_mode": {
    "name": "ipython",
    "version": 3
   },
   "file_extension": ".py",
   "mimetype": "text/x-python",
   "name": "python",
   "nbconvert_exporter": "python",
   "pygments_lexer": "ipython3",
   "version": "3.6.9"
  }
 },
 "nbformat": 4,
 "nbformat_minor": 2
}
