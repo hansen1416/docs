{
 "cells": [
  {
   "cell_type": "markdown",
   "metadata": {},
   "source": [
    "For Schemas:\n",
    "```\n",
    "SELECT default_character_set_name FROM information_schema.SCHEMATA \n",
    "WHERE schema_name = \"schemaname\";\n",
    "```\n",
    "\n",
    "For Tables:\n",
    "```\n",
    "SELECT CCSA.character_set_name FROM information_schema.`TABLES` T,\n",
    "       information_schema.`COLLATION_CHARACTER_SET_APPLICABILITY` CCSA\n",
    "WHERE CCSA.collation_name = T.table_collation\n",
    "  AND T.table_schema = \"schemaname\"\n",
    "  AND T.table_name = \"tablename\";\n",
    "```\n",
    "For Columns:\n",
    "```\n",
    "SELECT character_set_name FROM information_schema.`COLUMNS` \n",
    "WHERE table_schema = \"schemaname\"\n",
    "  AND table_name = \"tablename\"\n",
    "  AND column_name = \"columnname\";\n",
    "```"
   ]
  }
 ],
 "metadata": {
  "kernelspec": {
   "display_name": "Python 3",
   "language": "python",
   "name": "python3"
  },
  "language_info": {
   "codemirror_mode": {
    "name": "ipython",
    "version": 3
   },
   "file_extension": ".py",
   "mimetype": "text/x-python",
   "name": "python",
   "nbconvert_exporter": "python",
   "pygments_lexer": "ipython3",
   "version": "3.7.2"
  }
 },
 "nbformat": 4,
 "nbformat_minor": 2
}
