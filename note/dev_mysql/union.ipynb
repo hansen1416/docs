{
 "cells": [
  {
   "cell_type": "markdown",
   "metadata": {},
   "source": [
    "UNIONs (UNION and UNION ALL) require that all the queries being UNION'd have:\n",
    "- The same number of columns in the SELECT clause\n",
    "- The column data type has to match at each position\n",
    "\n",
    "```\n",
    "SELECT * FROM (  \n",
    " SELECT * FROM (  \n",
    "  SELECT viewcount, b.isbn, booktitle, stock_status, price, description FROM book AS b \n",
    "  INNER JOIN bookvisit AS bv ON b.isbn = bv.isbn WHERE b.price <> 0 AND hcategoryid = '25' \n",
    "  ORDER BY viewcount DESC   \n",
    " ) AS t1   \n",
    " UNION   \n",
    " SELECT * FROM  \n",
    " (   \n",
    "  SELECT   viewcount, b.isbn, booktitle, stock_status, price, description FROM book AS b \n",
    "  LEFT JOIN bookvisit AS bv ON b.isbn = bv.isbn WHERE b.price <> 0 AND hcategoryid = '25' \n",
    "  AND viewcount IS NULL   \n",
    "  ORDER BY viewcount DESC   \n",
    " ) AS t2   \n",
    ")   \n",
    " AS qry  \n",
    "ORDER BY viewcount DESC   \n",
    "LIMIT 10, 10\n",
    "```"
   ]
  },
  {
   "cell_type": "markdown",
   "metadata": {},
   "source": [
    "### build “empty columns” for UNION?\n",
    "\n",
    "```\n",
    "SELECT \"City\", \"Country\", \"Continent\" from table1  \n",
    "UNION  \n",
    "SELECT \"City\", \"Country\", NULL AS \"Continent\" from table2\n",
    "```\n",
    "\n",
    "or \n",
    "```\n",
    "SELECT \"City\", \"Country\", \"Continent\" from table1  \n",
    "UNION  \n",
    "SELECT \"City\", \"Country\", ' ' as \"Continent\"  from table2\n",
    "```"
   ]
  }
 ],
 "metadata": {
  "kernelspec": {
   "display_name": "Python 2",
   "language": "python",
   "name": "python2"
  },
  "language_info": {
   "codemirror_mode": {
    "name": "ipython",
    "version": 2
   },
   "file_extension": ".py",
   "mimetype": "text/x-python",
   "name": "python",
   "nbconvert_exporter": "python",
   "pygments_lexer": "ipython2",
   "version": "2.7.13"
  }
 },
 "nbformat": 4,
 "nbformat_minor": 2
}
