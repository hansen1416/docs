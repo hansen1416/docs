{
 "cells": [
  {
   "cell_type": "markdown",
   "metadata": {},
   "source": [
    ">MySQL sub-queries tend to be a little slower. I prefer using joins in such cases. I am not exactly clear on your schema design - but you can try something like this \n",
    "\n",
    "```\n",
    "UPDATE vtable2 v1 SET v1.buddy = (\n",
    "    SELECT v2.id FROM vtable1 v2\n",
    "    WHERE\n",
    "    v2.group_id = v1.group_id AND\n",
    "    // 6 more basic comparisons\n",
    "    ORDER BY score DESC LIMIT 1\n",
    ")\n",
    "\n",
    "\n",
    "UPDATE vtable2 v1\n",
    "[INNER] JOIN vtable1 v2 \n",
    "ON v2.group_id = v1.group_id\n",
    "AND //OTHER JOIN CONDITIONS IF ANY\n",
    "WHERE\n",
    "//any other conditions\n",
    "SET\n",
    "v1.buddy = v2.id\n",
    "```\n"
   ]
  }
 ],
 "metadata": {
  "kernelspec": {
   "display_name": "Python 2",
   "language": "python",
   "name": "python2"
  },
  "language_info": {
   "codemirror_mode": {
    "name": "ipython",
    "version": 2
   },
   "file_extension": ".py",
   "mimetype": "text/x-python",
   "name": "python",
   "nbconvert_exporter": "python",
   "pygments_lexer": "ipython2",
   "version": "2.7.13"
  }
 },
 "nbformat": 4,
 "nbformat_minor": 2
}
