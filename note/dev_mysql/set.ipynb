{
 "cells": [
  {
   "cell_type": "markdown",
   "metadata": {},
   "source": [
    "- `SET` column values that consist of multiple set members are specified with members separated by commas (,). A consequence of this is that `SET` member values should not themselves contain commas.\n",
    "- A `SET` column can have a maximum of 64 distinct members.\n",
    "- Duplicate values in the definition cause a warning, or an error if strict SQL mode is enabled.\n",
    "- Trailing spaces are automatically deleted from SET member values in the table definition when a table is created.\n",
    "- When retrieved, values stored in a SET column are displayed using the lettercase that was used in the column definition. Note that SET columns can be assigned a character set and collation. For binary or case-sensitive collations, lettercase is taken into account when assigning values to the column.\n",
    "- When fequently select by `SET` value, Don't use SET because the \"select events by category\" query will be slow."
   ]
  }
 ],
 "metadata": {
  "kernelspec": {
   "display_name": "Python 3",
   "language": "python",
   "name": "python3"
  },
  "language_info": {
   "codemirror_mode": {
    "name": "ipython",
    "version": 3
   },
   "file_extension": ".py",
   "mimetype": "text/x-python",
   "name": "python",
   "nbconvert_exporter": "python",
   "pygments_lexer": "ipython3",
   "version": "3.6.9"
  }
 },
 "nbformat": 4,
 "nbformat_minor": 2
}
