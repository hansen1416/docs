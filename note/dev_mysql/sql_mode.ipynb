{
 "cells": [
  {
   "cell_type": "markdown",
   "metadata": {},
   "source": [
    "## sql_mode"
   ]
  },
  {
   "cell_type": "markdown",
   "metadata": {},
   "source": [
    "### ONLY_FULL_GROUP_BY\n",
    "\n",
    "https://dev.mysql.com/doc/refman/5.7/en/group-by-handling.html\n",
    "\n",
    "to view  \n",
    "```\n",
    "SELECT @@sql_mode;\n",
    "```\n",
    "\n",
    "to set  \n",
    "```\n",
    "SET [GLOBAL] sql_mode = 'ONLY_FULL_GROUP_BY';\n",
    "```\n",
    "\n",
    "to remvoe\n",
    "```\n",
    "SET GLOBAL sql_mode=(SELECT REPLACE(@@sql_mode,'ONLY_FULL_GROUP_BY',''));\n",
    "```"
   ]
  },
  {
   "cell_type": "markdown",
   "metadata": {},
   "source": [
    ">SQL92 and earlier does not permit queries for which the select list, HAVING condition, or ORDER BY list refer to nonaggregated columns that are neither named in the GROUP BY clause nor are functionally dependent on (uniquely determined by) GROUP BY columns. For example, this query is illegal in standard SQL92 because the nonaggregated name column in the select list does not appear in the GROUP BY:\n",
    "\n",
    "```\n",
    "SELECT o.custid, c.name, MAX(o.payment)\n",
    "FROM orders AS o, customers AS c\n",
    "WHERE o.custid = c.custid\n",
    "GROUP BY o.custid;\n",
    "```\n",
    ">For the query to be legal in SQL92, the name column must be omitted from the select list or named in the GROUP BY clause.\n",
    "\n",
    ">SQL99 and later permits such nonaggregates per optional feature T301 if they are functionally dependent on GROUP BY columns: If such a relationship exists between name and custid, the query is legal. This would be the case, for example, were custid a primary key of customers.\n",
    "\n",
    ">MySQL 5.7.5 and up implements detection of functional dependence. If the ONLY_FULL_GROUP_BY SQL mode is enabled (which it is by default), MySQL rejects queries for which the select list, HAVING condition, or ORDER BY list refer to nonaggregated columns that are neither named in the GROUP BY clause nor are functionally dependent on them. (Before 5.7.5, MySQL does not detect functional dependency and ONLY_FULL_GROUP_BY is not enabled by default. For a description of pre-5.7.5 behavior, see the MySQL 5.6 Reference Manual.)"
   ]
  }
 ],
 "metadata": {
  "kernelspec": {
   "display_name": "Python 3",
   "language": "python",
   "name": "python3"
  },
  "language_info": {
   "codemirror_mode": {
    "name": "ipython",
    "version": 3
   },
   "file_extension": ".py",
   "mimetype": "text/x-python",
   "name": "python",
   "nbconvert_exporter": "python",
   "pygments_lexer": "ipython3",
   "version": "3.6.8"
  }
 },
 "nbformat": 4,
 "nbformat_minor": 2
}
