{
 "cells": [
  {
   "cell_type": "markdown",
   "metadata": {},
   "source": [
    "__pull the image__\n",
    "\n",
    "```\n",
    "docker pull mysql/mysql-server:tag\n",
    "```\n",
    "\n",
    "__start a container__\n",
    "```\n",
    "docker run --name=mysql-server --restart unless-stopped -d mysql/mysql-server:tag\n",
    "```\n",
    "\n",
    "__check the container log for the generated root passowrd__\n",
    "```\n",
    "docker logs mysql\n",
    "```\n",
    "\n",
    "__access mysql command use the password above__\n",
    "```\n",
    "docker exec -it mysql-server mysql -uroot -p\n",
    "```\n",
    "\n",
    "__change the password to a simplier one__\n",
    "```\n",
    "ALTER USER 'root'@'localhost' IDENTIFIED BY 'password';\n",
    "```\n",
    "\n",
    "__import a sql file__\n",
    "\n",
    "```\n",
    "# copy sql file to docker volume\n",
    "cp /path/to/seed.sql /var/lib/docker/volumes/volum_hash/_data\n",
    "\n",
    "# bash in docker container\n",
    "docker exec -it mysql-server bash\n",
    "\n",
    "# import sql\n",
    "mysql -u root -p database_name < /var/lib/mysql/seed.sql\n",
    "\n",
    "```"
   ]
  }
 ],
 "metadata": {
  "kernelspec": {
   "display_name": "Python 3",
   "language": "python",
   "name": "python3"
  },
  "language_info": {
   "codemirror_mode": {
    "name": "ipython",
    "version": 3
   },
   "file_extension": ".py",
   "mimetype": "text/x-python",
   "name": "python",
   "nbconvert_exporter": "python",
   "pygments_lexer": "ipython3",
   "version": "3.6.8"
  }
 },
 "nbformat": 4,
 "nbformat_minor": 2
}
