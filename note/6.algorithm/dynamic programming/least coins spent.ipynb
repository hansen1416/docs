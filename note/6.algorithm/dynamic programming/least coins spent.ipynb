{
 "cells": [
  {
   "cell_type": "code",
   "execution_count": 1,
   "metadata": {},
   "outputs": [
    {
     "name": "stdout",
     "output_type": "stream",
     "text": [
      "3\n"
     ]
    }
   ],
   "source": [
    "import math\n",
    "\n",
    "def coins(n):\n",
    "    \"\"\"\n",
    "    in the Wonderland, there are only coins of value 1, 3, 7 or 8 cents. \n",
    "    Complete the code below to produce a function that, for given n, \n",
    "    computes the minimal number of coins needed to pay n cents. \n",
    "    Your algorithm should have the complexty O(n) (in particular, coins(10000) should be very fast).\n",
    "\n",
    "    Note that taking each time the coin of highest possible value (so-called greedy algorithm) \n",
    "    does not necessarily give you the solution. \n",
    "    For example, for n = 13, the best way to pay is 3 + 3 + 7, \n",
    "    and it is impossible to do it with just three coins if you use a coin of value 8.\n",
    "    \"\"\"\n",
    "    # tbl[i] is going to contain the minimal number of coins to pay n cents\n",
    "    tbl = [math.inf] * (n + 1)\n",
    "    # tbl[0] = 0 as it should\n",
    "    tbl[0] = 0\n",
    "    for i in range(1, n + 1):\n",
    "        # we always can take a one-cent coin and pay the remaining i - 1 cents\n",
    "        tbl[i] = tbl[i - 1] + 1\n",
    "        if i >= 3:\n",
    "            # what if we can take 3-cent coin?\n",
    "            tbl[i] = min(tbl[i], tbl[i-3]+1)\n",
    "        if i >= 7:\n",
    "            tbl[i] = min(tbl[i], tbl[i-7]+1)\n",
    "        if i >= 8:\n",
    "            tbl[i] = min(tbl[i], tbl[i-8]+1)\n",
    "    return tbl[n]\n",
    "    \n",
    "# should print 3\n",
    "print(coins(13))"
   ]
  },
  {
   "cell_type": "code",
   "execution_count": 2,
   "metadata": {},
   "outputs": [
    {
     "name": "stdout",
     "output_type": "stream",
     "text": [
      "(3, [3, 3, 7])\n"
     ]
    }
   ],
   "source": [
    "import math\n",
    "\n",
    "def coins(n):\n",
    "    \"\"\"\n",
    "    Improve the function coins(n) from the previous problem \n",
    "    so that it returns a pair of the minimum number of coins to pay n cents \n",
    "    and a list with the corresponding coin values. \n",
    "    The complexity of your function should be still O(n).\n",
    "\n",
    "    Notice that different lists of values are possible, your function should return just one of them.\n",
    "    \"\"\"\n",
    "    # tbl[i] as in the previous question - the minimal number of coins to pay i cents\n",
    "    tbl = [math.inf] * (n + 1)\n",
    "    tbl[0] = 0\n",
    "    # last_coin[i] - the last coin used in an optimal way of payment\n",
    "    last_coin = [0] * (n + 1)\n",
    "    COINS = [1, 3, 7, 8]\n",
    "    for i in range(1, n + 1):\n",
    "        for c in COINS:\n",
    "            # if, using coin c, we can get something better ...\n",
    "            if c <= i and tbl[i] > tbl[i-c]+1:\n",
    "                tbl[i] = min(tbl[i], tbl[i-c]+1)\n",
    "                # ... we remember the coin\n",
    "                last_coin[i] = c\n",
    "    # reconstruction an optimal list of coins by going backward\n",
    "    to_pay = n\n",
    "    coins = []\n",
    "    while to_pay > 0:\n",
    "        coins.append(last_coin[to_pay])\n",
    "        to_pay -= coins[-1]\n",
    "    return (tbl[n], coins)\n",
    "    \n",
    "# should print (3, [3, 3, 7])\n",
    "# the coins could be printed in a different order\n",
    "print(coins(13))"
   ]
  }
 ],
 "metadata": {
  "kernelspec": {
   "display_name": "Python 3",
   "language": "python",
   "name": "python3"
  },
  "language_info": {
   "codemirror_mode": {
    "name": "ipython",
    "version": 3
   },
   "file_extension": ".py",
   "mimetype": "text/x-python",
   "name": "python",
   "nbconvert_exporter": "python",
   "pygments_lexer": "ipython3",
   "version": "3.6.9"
  }
 },
 "nbformat": 4,
 "nbformat_minor": 2
}
