{
 "cells": [
  {
   "cell_type": "code",
   "execution_count": 4,
   "metadata": {},
   "outputs": [],
   "source": [
    "def merge(a,b):\n",
    "    \"\"\"\n",
    "    merge two ordered lists\n",
    "    \"\"\"\n",
    "    result = []\n",
    "    i, j = 0, 0\n",
    "    while i < len(a) and j < len(b):\n",
    "        if a[i] < b[j]:\n",
    "            result.append(a[i])\n",
    "            i += 1\n",
    "        else:\n",
    "            result.append(b[j])\n",
    "            j += 1\n",
    "    while i < len(a):\n",
    "        result.append(a[i])\n",
    "        i += 1\n",
    "    while j < len(b):\n",
    "        result.append(b[j])\n",
    "        j += 1\n",
    "    return result\n",
    "\n",
    "def mergesort(a):\n",
    "    \"\"\"\n",
    "    sort one array\n",
    "    \"\"\"\n",
    "    if len(a) <= 1: # O(1)\n",
    "        return a # O(1)\n",
    "    mid = len(a) // 2 # O(1)\n",
    "    left = mergesort(a[:mid])\n",
    "    right = mergesort(a[mid:])\n",
    "    print(left, right)\n",
    "    print('---')\n",
    "    return merge(left, right) # O(n)"
   ]
  },
  {
   "cell_type": "markdown",
   "metadata": {},
   "source": [
    "(ms for szie n) \n",
    "\n",
    "= O(1) + O(n) + 2(ms for size n/2)\n",
    "\n",
    "= O(n) + 2(ms for size n/2)\n",
    "\n",
    "O(n) -> 2 * O(n/2) -> 4 * O(n/4)\n",
    "\n",
    "O(n) bound by c*n\n",
    "\n",
    "so its c \\* n -> c \\* n -> c\\*n\n",
    "\n",
    "total: O(n $\\cdot$ #levels) = O(n $\\log n$)\n",
    "\n",
    "_Actually, if one doesn't know the type of items in a list, such is all integer, one can not do better than O(n log n)_\n",
    "\n",
    "In fact, some algorithms can be better on some inserts and merge sort. Even quadratic insertion sort can be faster than merge sort if the data is almost sorted. There's also quick sort that's in the worst case is quadratic, but on average becomes better than merge sort. So at each particular problem at hand depending on your data, the choice of the sorting algorithms might be different but in any case, merge sort is definitely a good candidate for this."
   ]
  },
  {
   "cell_type": "code",
   "execution_count": null,
   "metadata": {},
   "outputs": [],
   "source": [
    "# Sample application\n",
    "# when try to find two cluster in an array, and make the distance between two clusters as big as possible\n",
    "\n",
    "# 1.first sort it, (merge sort). O(n log n) \n",
    "# 2.then calculate the differences between beighbours, O(n)\n",
    "# 3.find the largest difference O(n)\n",
    "# 4.split at it O(n)\n",
    "\n",
    "# we have total O(n log n) "
   ]
  },
  {
   "cell_type": "code",
   "execution_count": 7,
   "metadata": {},
   "outputs": [
    {
     "name": "stdout",
     "output_type": "stream",
     "text": [
      "[7] [3]\n",
      "---\n",
      "[2] [1]\n",
      "---\n",
      "[3, 7] [1, 2]\n",
      "---\n",
      "[10] [5]\n",
      "---\n",
      "[6] [8]\n",
      "---\n",
      "[5, 10] [6, 8]\n",
      "---\n",
      "[1, 2, 3, 7] [5, 6, 8, 10]\n",
      "---\n"
     ]
    },
    {
     "data": {
      "text/plain": [
       "[1, 2, 3, 5, 6, 7, 8, 10]"
      ]
     },
     "execution_count": 7,
     "metadata": {},
     "output_type": "execute_result"
    }
   ],
   "source": [
    "a = [7, 3, 2, 1, 10, 5, 6, 8]\n",
    "\n",
    "mergesort(a)"
   ]
  }
 ],
 "metadata": {
  "kernelspec": {
   "display_name": "Python 3",
   "language": "python",
   "name": "python3"
  },
  "language_info": {
   "codemirror_mode": {
    "name": "ipython",
    "version": 3
   },
   "file_extension": ".py",
   "mimetype": "text/x-python",
   "name": "python",
   "nbconvert_exporter": "python",
   "pygments_lexer": "ipython3",
   "version": "3.6.9"
  }
 },
 "nbformat": 4,
 "nbformat_minor": 2
}
