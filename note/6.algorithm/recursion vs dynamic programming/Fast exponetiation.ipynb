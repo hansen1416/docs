{
 "cells": [
  {
   "cell_type": "code",
   "execution_count": 7,
   "metadata": {},
   "outputs": [
    {
     "data": {
      "text/plain": [
       "1024"
      ]
     },
     "execution_count": 7,
     "metadata": {},
     "output_type": "execute_result"
    }
   ],
   "source": [
    "def exp(a, b):\n",
    "    if b ==0:\n",
    "        return 1\n",
    "    if b % 2 == 0:\n",
    "        return exp(a, b//2)**2\n",
    "    return a * exp(a, (b-1)//2)**2\n",
    "\n",
    "exp(2,10)"
   ]
  },
  {
   "cell_type": "markdown",
   "metadata": {},
   "source": [
    "__Fast exponentiation complexity__\n",
    "\n",
    "$C(b) = \\begin{cases} 1+ C(\\frac{b}{2}) \\;\\;when\\; b\\; is\\; even \\\\ 1+ C(\\frac{b-1}{2}) \\;\\;when\\; b\\; is\\; odd \\end{cases}$\n",
    "\n",
    "$C(0) = 1$\n",
    "\n",
    "$C(1) = 2$\n",
    "\n",
    "Claim:\n",
    "\n",
    "For $ b > 0, C(b) < \\log_2 b + 2 $\n",
    "\n",
    "_Proof_\n",
    "\n",
    "when b is even\n",
    "\n",
    "$C(b) = 1+ C(\\frac{b}{2}) \\leq 1+2+\\log_2 \\frac{b}{2} = 2 + \\log_2 b$\n",
    "\n",
    "same when b is odd\n",
    "\n",
    "So\n",
    "\n",
    "$C(b) = O(\\log_2b)$"
   ]
  }
 ],
 "metadata": {
  "kernelspec": {
   "display_name": "Python 3",
   "language": "python",
   "name": "python3"
  },
  "language_info": {
   "codemirror_mode": {
    "name": "ipython",
    "version": 3
   },
   "file_extension": ".py",
   "mimetype": "text/x-python",
   "name": "python",
   "nbconvert_exporter": "python",
   "pygments_lexer": "ipython3",
   "version": "3.6.9"
  }
 },
 "nbformat": 4,
 "nbformat_minor": 2
}
