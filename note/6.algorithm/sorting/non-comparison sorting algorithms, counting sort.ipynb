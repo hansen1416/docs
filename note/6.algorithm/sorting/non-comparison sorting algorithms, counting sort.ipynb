{
 "cells": [
  {
   "cell_type": "code",
   "execution_count": 2,
   "metadata": {},
   "outputs": [
    {
     "name": "stdout",
     "output_type": "stream",
     "text": [
      "[1, 1, 1, 1, 2, 2]\n"
     ]
    }
   ],
   "source": [
    "def count_sort(arr):\n",
    "    \"\"\"\n",
    "    O(n+k), very useful when range of element is small\n",
    "    \"\"\"\n",
    "    l, r = min(arr), max(arr)\n",
    "    dict_count = dict()\n",
    "    for elem in arr: # O(n)\n",
    "        if not elem in dict_count:\n",
    "            dict_count[elem] = 0\n",
    "        dict_count[elem] += 1\n",
    "    sorted_arr = []\n",
    "    for elem in range(l, r+1): # O(k)\n",
    "        sorted_arr.extend([elem] * dict_count[elem])\n",
    "    return sorted_arr\n",
    "\n",
    "a = [1,2,2,1,1,1]\n",
    "# cdict_count = {1:3, 2: 2}\n",
    "r = count_sort(a)\n",
    "print(r)"
   ]
  },
  {
   "cell_type": "markdown",
   "metadata": {},
   "source": [
    "__example__\n",
    "\n",
    "Given an array of integers, and the bounds for values in the array, return the array sorted in an increasing order using the Counting Sort algorithm."
   ]
  },
  {
   "cell_type": "code",
   "execution_count": 1,
   "metadata": {},
   "outputs": [],
   "source": [
    "def countingsort(array, lowerbound, upperbound):\n",
    "    \"\"\"\n",
    "    Given an array of integers, and the bounds for values in the array, \n",
    "    return the array sorted in an increasing order using the Counting Sort algorithm.\n",
    "    \"\"\"\n",
    "    n = len(array)\n",
    "    sorted_array = []\n",
    "    count = [0 for i in range(lowerbound, upperbound + 1)]\n",
    "\n",
    "    # YOUR CODE GOES HERE\n",
    "    dict_count = dict()\n",
    "    for item in array:\n",
    "        if not item in dict_count:\n",
    "            dict_count[item] = 0\n",
    "        dict_count[item] += 1\n",
    "\n",
    "    for c in range(lowerbound, upperbound+1):\n",
    "        if c in dict_count:\n",
    "            sorted_array.extend([c] * dict_count[c])\n",
    "\n",
    "    return sorted_array\n",
    "\n",
    "\n",
    "arr = [3, 2, 1]\n",
    "lowerbound = 1\n",
    "upperbound = 3\n",
    "# check that your code works correctly on provided example\n",
    "assert countingsort(arr, lowerbound, upperbound) == [1, 2, 3], 'Wrong answer'"
   ]
  }
 ],
 "metadata": {
  "kernelspec": {
   "display_name": "Python 3",
   "language": "python",
   "name": "python3"
  },
  "language_info": {
   "codemirror_mode": {
    "name": "ipython",
    "version": 3
   },
   "file_extension": ".py",
   "mimetype": "text/x-python",
   "name": "python",
   "nbconvert_exporter": "python",
   "pygments_lexer": "ipython3",
   "version": "3.6.9"
  }
 },
 "nbformat": 4,
 "nbformat_minor": 2
}
