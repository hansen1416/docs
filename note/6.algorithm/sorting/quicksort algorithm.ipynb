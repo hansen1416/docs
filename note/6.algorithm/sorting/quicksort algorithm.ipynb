{
 "cells": [
  {
   "cell_type": "markdown",
   "metadata": {},
   "source": [
    "partitioning:\n",
    "\n",
    "select a pivot element, x   \n",
    "move all the element bigger than x to the right,    \n",
    "move all the element less than x to the left,   \n",
    "\n",
    "step1: choose a pivot element  \n",
    "step2: _partition_ the array according to the _pivot_\n",
    "step3: call _recurrsively_, from left to right parts, _until only one element or less remain_\n",
    "\n",
    "time complexity: O(n^2) in worst case, if choose pivot nearly perfect position, it's O(n log n)"
   ]
  },
  {
   "cell_type": "code",
   "execution_count": 9,
   "metadata": {},
   "outputs": [],
   "source": [
    "def partition(arr, l, r):\n",
    "    # i is pointing to where we would be putting the elements \n",
    "    # that we want to be to the left of our pivot element\n",
    "    i, pivot = l-1, arr[r]\n",
    "    \n",
    "    for j in range(l, r):\n",
    "#         if arr[j] <= pivot:\n",
    "        if arr[j] >= pivot:\n",
    "            i+=1\n",
    "            arr[i], arr[j] = arr[j], arr[i]\n",
    "#             print(arr)\n",
    "            \n",
    "    arr[i+1], arr[r] = arr[r], arr[i+1]\n",
    "#     print(arr)\n",
    "    \n",
    "    return i+1\n",
    "\n",
    "def quick_sort(arr, l, r):\n",
    "    if l >= r:\n",
    "        return\n",
    "    \n",
    "    p = partition(arr, l, r)\n",
    "    quick_sort(arr, l, p-1)\n",
    "    quick_sort(arr, p+1, r)"
   ]
  },
  {
   "cell_type": "code",
   "execution_count": 10,
   "metadata": {
    "scrolled": true
   },
   "outputs": [
    {
     "name": "stdout",
     "output_type": "stream",
     "text": [
      "[11, 9, 8, 7, 6, 5, 5, 4, 3, 2, 1]\n"
     ]
    }
   ],
   "source": [
    "arr = [2,1,3,4,5,6,9,7,8,11,5]\n",
    "n = len(arr)\n",
    "\n",
    "quick_sort(arr, 0, n-1)\n",
    "print(arr)"
   ]
  },
  {
   "cell_type": "markdown",
   "metadata": {},
   "source": [
    "__example__\n",
    "\n",
    "Given an array and a pivot element index, implement the partition function: move all the elements smaller than pivot element to the left of it and all the elements larger than it to the right. Return the array after partition."
   ]
  },
  {
   "cell_type": "code",
   "execution_count": null,
   "metadata": {},
   "outputs": [],
   "source": [
    "def partition(array, pivot_index):\n",
    "    n = len(array)\n",
    "    pivot = array[pivot_index]\n",
    "\n",
    "    # YOUR CODE GOES HERE\n",
    "\n",
    "    return array"
   ]
  },
  {
   "cell_type": "code",
   "execution_count": null,
   "metadata": {},
   "outputs": [],
   "source": [
    "arr = [3, 2, 1, 4]\n",
    "pivot_index = 0\n",
    "# check that your code works correctly on provided example\n",
    "assert partition(arr, pivot_index) in  [[1, 2, 3, 4], [2, 1, 3, 4]], 'Wrong answer'"
   ]
  }
 ],
 "metadata": {
  "kernelspec": {
   "display_name": "Python 3",
   "language": "python",
   "name": "python3"
  },
  "language_info": {
   "codemirror_mode": {
    "name": "ipython",
    "version": 3
   },
   "file_extension": ".py",
   "mimetype": "text/x-python",
   "name": "python",
   "nbconvert_exporter": "python",
   "pygments_lexer": "ipython3",
   "version": "3.6.9"
  }
 },
 "nbformat": 4,
 "nbformat_minor": 2
}
