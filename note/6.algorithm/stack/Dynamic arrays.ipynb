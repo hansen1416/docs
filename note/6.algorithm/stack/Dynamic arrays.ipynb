{
 "cells": [
  {
   "cell_type": "markdown",
   "metadata": {},
   "source": [
    "Arrays\n",
    "\n",
    "1. access by a[i]\n",
    "2. push_back operation"
   ]
  },
  {
   "cell_type": "markdown",
   "metadata": {},
   "source": [
    "Static array\n",
    "\n",
    "> maximum number of elements is know in advance\n",
    "\n",
    "- The elements of the array store in a contiuous block of memory with fixed size (given size of the array)\n",
    "- Access operation time complexity is $O(1)$. To access by its index just add the index multiplied by type size to the address of the first element of array"
   ]
  },
  {
   "cell_type": "markdown",
   "metadata": {},
   "source": [
    "Dynamic array\n",
    "\n",
    "> maximum number of elements is unknown, eg. python list\n",
    "\n",
    "Time complexity of `push_back`\n",
    "\n",
    "- The worst case complexity is $O(n)$\n",
    "\n",
    "- Time complexity for n operations is $O(n)$.\n",
    "Copies number: $1+2+4+8+ \\dotsm+2^{\\log n} = O(n)$\n",
    "\n",
    "- Average time complexity is $O(1)$"
   ]
  }
 ],
 "metadata": {
  "kernelspec": {
   "display_name": "Python 3",
   "language": "python",
   "name": "python3"
  },
  "language_info": {
   "codemirror_mode": {
    "name": "ipython",
    "version": 3
   },
   "file_extension": ".py",
   "mimetype": "text/x-python",
   "name": "python",
   "nbconvert_exporter": "python",
   "pygments_lexer": "ipython3",
   "version": "3.6.9"
  }
 },
 "nbformat": 4,
 "nbformat_minor": 2
}
