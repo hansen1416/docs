{
 "cells": [
  {
   "cell_type": "markdown",
   "metadata": {},
   "source": [
    "    A  \n",
    "  / | \\  \n",
    " D  C  B  \n",
    "  \\   /  \n",
    "    E   "
   ]
  },
  {
   "cell_type": "markdown",
   "metadata": {},
   "source": [
    "Graph          \n",
    "\n",
    "A -> B,C,D      \n",
    "B -> A,E       \n",
    "C -> A        \n",
    "D -> A,E       \n",
    "E -> B,D       \n",
    "\n",
    "Visisted  \n",
    "A   \n",
    "B   \n",
    "C  \n",
    "D  \n",
    "E  "
   ]
  },
  {
   "cell_type": "markdown",
   "metadata": {},
   "source": [
    "Traversal order \n",
    "\n",
    "A, mark A visited, go to B  \n",
    "B, mark B visited, go to A, A is visited, go to E  \n",
    "E, mark E visited, go to B, B is visited, go to D  \n",
    "D, mark D visited, go to A, A is visited, go to E, E is visited,  \n",
    "go back to the edges of E, go to B, D, they both visited  \n",
    "go back to the edges of B, go to A, E, they both visited  \n",
    "go back to the edges of A, go to B, visited, go to C  \n",
    "C, mark C visited, go to A, A is visited,  \n",
    "go back to the edges of A. B,C,D are all visited  "
   ]
  },
  {
   "cell_type": "markdown",
   "metadata": {},
   "source": [
    "Visit and explore, and go back, untill all visited"
   ]
  },
  {
   "cell_type": "markdown",
   "metadata": {},
   "source": [
    "Time complexity = Sum(Edges from each vertiecs) = 2E = O(E)"
   ]
  },
  {
   "cell_type": "code",
   "execution_count": 2,
   "metadata": {},
   "outputs": [],
   "source": [
    "def dfs(v):\n",
    "    visited[v] = True\n",
    "    \n",
    "    for u in graph[v]:\n",
    "        if not visited[u]:\n",
    "            dfs(u)"
   ]
  },
  {
   "cell_type": "markdown",
   "metadata": {},
   "source": [
    "__DFS Application__"
   ]
  },
  {
   "cell_type": "markdown",
   "metadata": {},
   "source": [
    "__Components search__\n",
    "\n",
    "__Problem__: divide vertices in subsets such that every subset is a graph component\n",
    "\n"
   ]
  },
  {
   "cell_type": "code",
   "execution_count": 3,
   "metadata": {},
   "outputs": [
    {
     "name": "stdout",
     "output_type": "stream",
     "text": [
      "3\n"
     ]
    }
   ],
   "source": [
    "graph = [[1,2], [0], [0], [], [5], [4],]\n",
    "\n",
    "\"\"\"\n",
    " 0<-->1\n",
    " |\n",
    " |\n",
    " 2    3\n",
    " \n",
    " 4<-->5\n",
    "\"\"\"\n",
    "\n",
    "\n",
    "n = len(graph)\n",
    "components = 0\n",
    "visited = [False for i in range(n)]\n",
    "\n",
    "for v in range(n):\n",
    "    if not visited[v]:\n",
    "        components += 1\n",
    "        dfs(v)\n",
    "        \n",
    "print(components)"
   ]
  },
  {
   "cell_type": "markdown",
   "metadata": {},
   "source": [
    "__Topological sorting__\n",
    "\n",
    "Problem: find an ordering of the DAG vertices such that if exists an edge from $v_i$ to $v_j$, then $v_i$ appears earlier than $v_j$\n",
    "\n",
    "_it has to be directed graph_  \n",
    "_there can be more than one solutions_"
   ]
  },
  {
   "cell_type": "code",
   "execution_count": 5,
   "metadata": {},
   "outputs": [
    {
     "name": "stdout",
     "output_type": "stream",
     "text": [
      "[4, 3, 5, 2, 0, 1]\n"
     ]
    }
   ],
   "source": [
    "def dfs_ts(v):\n",
    "    visited[v] = True\n",
    "    \n",
    "    for u in graph[v]:\n",
    "        if not visited[u]:\n",
    "            dfs_ts(u)\n",
    "    order.append(v)\n",
    "\n",
    "    \n",
    "graph = [[1], [], [0], [1,2,5], [5], []]\n",
    "\n",
    "\"\"\"\n",
    " 0--->1\n",
    "/|\\  /|\\\n",
    " |    |\n",
    " |    |\n",
    " 2<---3\n",
    "      |\n",
    "      |\n",
    "     \\|/\n",
    " 4--->5      \n",
    "\"\"\"\n",
    "\n",
    "\n",
    "n = len(graph)\n",
    "visited = [False for i in range(n)]\n",
    "order = []\n",
    "\n",
    "for v in range(n):\n",
    "    if not visited[v]:\n",
    "        dfs_ts(v)\n",
    "        \n",
    "# order: 1 0 2 5 3 4\n",
    "        \n",
    "order = order[::-1]\n",
    "print(order)"
   ]
  },
  {
   "cell_type": "markdown",
   "metadata": {},
   "source": [
    "__Mastering the DFS algorithm__"
   ]
  },
  {
   "cell_type": "markdown",
   "metadata": {},
   "source": [
    "__example__\n",
    "\n",
    "Given an adjacency matrix for an undirected graph and a vertex, modify the dfs algorithm to output the number of vertices in the same graph component as the given one (counting the given one)."
   ]
  },
  {
   "cell_type": "code",
   "execution_count": 53,
   "metadata": {},
   "outputs": [
    {
     "name": "stdout",
     "output_type": "stream",
     "text": [
      "1\n"
     ]
    }
   ],
   "source": [
    "graph = []\n",
    "visited = []\n",
    "\n",
    "def dfs(v):\n",
    "    \n",
    "    # MODIFY THIS FUNCTION\n",
    "    visited[v] = True\n",
    "    for u in range(len(graph[v])):\n",
    "        if graph[v][u] == 1 and not visited[u]:\n",
    "            dfs(u)\n",
    "\n",
    "\n",
    "def sameComponent(adj_list, vertex):\n",
    "    global graph, visited\n",
    "    graph = adj_list\n",
    "    n = len(graph)\n",
    "    visited = [False for i in range(n)]\n",
    "    vertex_count = 1\n",
    "    other_components = 0\n",
    "\n",
    "    #YOUR CODE GOES HERE\n",
    "    for v in range(n):\n",
    "        if not visited[v]:\n",
    "            dfs(v)\n",
    "            if visited[vertex]:\n",
    "                vertex_count = visited.count(True) - other_components\n",
    "#                 print(vertex_count, other_components)\n",
    "                break\n",
    "            else:\n",
    "                other_components = visited.count(True)\n",
    "\n",
    "    return vertex_count\n",
    "\n",
    "adj_list = [[0, 0, 0], \n",
    "            [0, 0, 0], \n",
    "            [0, 0, 0]]\n",
    "vertex = 2\n",
    "# check that your code works correctly on provided example\n",
    "# assert sameComponent(adj_list, vertex) == 3, 'Wrong answer'\n",
    "print(sameComponent(adj_list, vertex))"
   ]
  },
  {
   "cell_type": "markdown",
   "metadata": {},
   "source": [
    "__example__\n",
    "\n",
    "Given the adjacency list of a graph check if a graph is a tree.\n",
    "\n",
    "_A connected acyclic graph is called a tree. In other words, a connected graph with no cycles is called a tree._\n",
    "_A tree with ‘n’ vertices has ‘n-1’ edges. If it has one more edge extra than ‘n-1’, then the extra edge should obviously has to pair up with two vertices which leads to form a cycle. Then, it becomes a cyclic graph which is a violation for the tree graph._"
   ]
  },
  {
   "cell_type": "code",
   "execution_count": 81,
   "metadata": {},
   "outputs": [
    {
     "name": "stdout",
     "output_type": "stream",
     "text": [
      "[2, 1, 1, 1, 1, 0]\n",
      "False\n"
     ]
    }
   ],
   "source": [
    "graph = []\n",
    "visited = []\n",
    "edges = []\n",
    "\n",
    "# USE DFS\n",
    "def dfs(v):\n",
    "    visited[v] = True\n",
    "    edges[v] = len(graph[v])\n",
    "    for u in graph[v]:\n",
    "        if not visited[u]:\n",
    "            dfs(u)\n",
    "\n",
    "def isTree(adj_list):\n",
    "    global graph, visited, edges\n",
    "    n = len(adj_list)\n",
    "\n",
    "    graph = adj_list\n",
    "    visited = [False for i in range(n)]\n",
    "    edges = [0 for i in range(n)]\n",
    "\n",
    "    is_tree = True\n",
    "\n",
    "    # YOUR CODE GOES HERE\n",
    "    components = 0\n",
    "    for v in range(n):\n",
    "        if not visited[v]:\n",
    "            components += 1\n",
    "            dfs(v)\n",
    "        if components > 1:\n",
    "            return False\n",
    "\n",
    "    edges_count = sum(edges)\n",
    "    print(edges)\n",
    "    if(sum(edges)/2 != n - 1):\n",
    "#         print('has circle')\n",
    "        return False\n",
    "\n",
    "    return is_tree\n",
    "\n",
    "adj_list = [[1,5], [2], [3], [4], [5], []]\n",
    "\n",
    "print(isTree(adj_list))"
   ]
  },
  {
   "cell_type": "markdown",
   "metadata": {},
   "source": [
    "__example__\n",
    "\n",
    "Given a list of courses and a list of prerequisites for each course (in a form of a dict) output the list of courses sorted in such a way that each course appears in this list only after all it's prerequisites. If it is not possible, output -1.\n",
    "\n",
    "HINT: use the DFS algorithm"
   ]
  },
  {
   "cell_type": "code",
   "execution_count": 135,
   "metadata": {},
   "outputs": [
    {
     "name": "stdout",
     "output_type": "stream",
     "text": [
      "[[1], [], [0], [1, 2, 5], [5], [], []]\n",
      "0\n",
      "1\n",
      "2\n",
      "3\n",
      "5\n",
      "4\n",
      "6\n",
      "[6, 4, 3, 5, 2, 0, 1]\n"
     ]
    }
   ],
   "source": [
    "graph = []\n",
    "visited = []\n",
    "\n",
    "def dfs_ts(v, course_order):\n",
    "    visited[v] = True\n",
    "\n",
    "    for u in graph[v]:\n",
    "#         if v in graph[u]:\n",
    "#             course_order = []\n",
    "#             return\n",
    "        if not visited[u]:\n",
    "            dfs_ts(u, course_order)\n",
    "    course_order.append(v)\n",
    "\n",
    "def sortCourses(course_list, prerequisites_dict):\n",
    "    global visited, graph\n",
    "    \n",
    "    n = len(course_list)\n",
    "    course_order = []\n",
    "    graph = [[] for i in range(n)]\n",
    "    visited = [False for i in range(n)]\n",
    "    \n",
    "    # YOUR CODE GOES HERE\n",
    "    for x, y in prerequisites_dict.items():\n",
    "        for z in y:\n",
    "            graph[z].append(x)\n",
    "        \n",
    "    print(graph)\n",
    "    for v in range(n):\n",
    "        if not visited[v]:\n",
    "#             if v in graph[v]:\n",
    "#                 return -1\n",
    "            dfs_ts(v, course_order)\n",
    "            \n",
    "    if len(course_order) == 0 or len(course_order) < n:\n",
    "        return []\n",
    "    \n",
    "    course_order = course_order[::-1]\n",
    "    return course_order\n",
    "\n",
    "course_list = [0, 1, 2, 3, 4, 5, 6]\n",
    "# prerequisites_dict = {2 : [1,0], 1: [0]}\n",
    "# prerequisites_dict = {0: [2], 1: [0,3], 2: [3], 5: [3,4]}\n",
    "prerequisites_dict = {0: [2], 1: [0,3], 2: [3], 5: [3,4]}\n",
    "# course_list = []\n",
    "# prerequisites_dict = {}\n",
    "# graph = [[1], [], [0], [1,2,5], [5], []]\n",
    "\"\"\"\n",
    " 0--->1\n",
    "/|\\  /|\\\n",
    " |    |\n",
    " |    |\n",
    " 2<---3\n",
    "      |\n",
    "      |\n",
    "     \\|/\n",
    " 4--->5      \n",
    "\"\"\"\n",
    "\n",
    "print(sortCourses(course_list, prerequisites_dict))"
   ]
  },
  {
   "cell_type": "markdown",
   "metadata": {},
   "source": [
    "__example__\n",
    "\n",
    "Given the size of the chess board NxN and the coordinates of rooks, placed on the board, determine the minimum possible number of rooks left after performing the following operation:\n",
    "\n",
    "Select two rooks so that attack each other (they are on the same row or column of the board) and have one of them captures the other (remove one of them from the board)\n",
    "\n",
    "Repeat until there are no two rooks attacking each other."
   ]
  },
  {
   "cell_type": "code",
   "execution_count": 153,
   "metadata": {},
   "outputs": [
    {
     "name": "stdout",
     "output_type": "stream",
     "text": [
      "1\n"
     ]
    }
   ],
   "source": [
    "graph = []\n",
    "visited = []\n",
    "\n",
    "def dfs(v):\n",
    "    \n",
    "    # MODIFY THIS FUNCTION\n",
    "    visited[v] = True\n",
    "    for u in range(len(graph[v])):\n",
    "        if graph[v][u] == 1 and not visited[u]:\n",
    "            dfs(u)\n",
    "            \n",
    "            \n",
    "def minRooksLeft(board_size, coordinates):\n",
    "    #each entry in coordinates array looks like this: (x, y) - coordinates of the rook\n",
    "    n = len(coordinates)\n",
    "    rooks_left = 0\n",
    "    \n",
    "    # YOUR CODE GOES HERE\n",
    "    global graph, visited\n",
    "    graph = [[0] * board_size for _ in range(board_size)]\n",
    "    for coor in coordinates:\n",
    "        graph[coor[0]][coor[1]] = 1\n",
    "#     print(graph)\n",
    "    visited = [False for i in range(board_size)]\n",
    "#     print(visited)\n",
    "    \n",
    "    for v in range(board_size):\n",
    "        if not visited[v]:\n",
    "            dfs(v)\n",
    "            if graph[v].count(1):\n",
    "                rooks_left+=1\n",
    "        \n",
    "    return rooks_left\n",
    "\n",
    "\n",
    "board_size = 4\n",
    "coordinates = [[0, 0], [0, 3], [3, 0]]\n",
    "\n",
    "print(minRooksLeft(board_size, coordinates))"
   ]
  }
 ],
 "metadata": {
  "kernelspec": {
   "display_name": "Python 3",
   "language": "python",
   "name": "python3"
  },
  "language_info": {
   "codemirror_mode": {
    "name": "ipython",
    "version": 3
   },
   "file_extension": ".py",
   "mimetype": "text/x-python",
   "name": "python",
   "nbconvert_exporter": "python",
   "pygments_lexer": "ipython3",
   "version": "3.6.9"
  }
 },
 "nbformat": 4,
 "nbformat_minor": 2
}
