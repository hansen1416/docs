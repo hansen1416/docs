{
 "cells": [
  {
   "cell_type": "code",
   "execution_count": 2,
   "metadata": {},
   "outputs": [],
   "source": [
    "def naive_move_zeros(a):\n",
    "    \"\"\"\n",
    "    time complexity O(n)\n",
    "    space complexity O(n)\n",
    "    \"\"\"\n",
    "    result = []\n",
    "    num_zeros = 0\n",
    "    for x in a:\n",
    "        if x == 0:\n",
    "            num_zeros += 1\n",
    "        else:\n",
    "            result.append(x)\n",
    "    for i in range(num_zeros):\n",
    "        result.append(0)\n",
    "    return result\n",
    "\n",
    "\n",
    "def two_pointers_move_zeros(a):\n",
    "    \"\"\"\n",
    "    two pointer approach\n",
    "    time complexity O(n)\n",
    "    space complexity O(1)\n",
    "    \"\"\"\n",
    "    first_zero = 0\n",
    "    while first_zero < len(a) and a[first_zero] != 0:\n",
    "        first_zero += 1\n",
    "    for i in range(first_zero + 1, len(a)):\n",
    "        if a[i] != 0:\n",
    "            a[first_zero], a[i] = a[i], a[first_zero]\n",
    "            first_zero += 1\n",
    "    return a"
   ]
  },
  {
   "cell_type": "code",
   "execution_count": 3,
   "metadata": {},
   "outputs": [
    {
     "name": "stdout",
     "output_type": "stream",
     "text": [
      "[1, 2, 8, 6, 7, 0, 0, 0, 0]\n",
      "[1, 2, 8, 6, 7, 0, 0, 0, 0]\n",
      "[1, 2, 8, 6, 7]\n",
      "[1, 2, 8, 6, 7]\n",
      "[0, 0, 0, 0]\n",
      "[0, 0, 0, 0]\n"
     ]
    }
   ],
   "source": [
    "a = [0, 1, 2, 0, 0, 8, 6, 0, 7]\n",
    "print(naive_move_zeros(a))\n",
    "print(two_pointers_move_zeros(a))\n",
    "\n",
    "a = [1, 2, 8, 6, 7]\n",
    "print(naive_move_zeros(a))\n",
    "print(two_pointers_move_zeros(a))\n",
    "\n",
    "a = [0, 0, 0, 0]\n",
    "print(naive_move_zeros(a))\n",
    "print(two_pointers_move_zeros(a))"
   ]
  }
 ],
 "metadata": {
  "kernelspec": {
   "display_name": "Python 3",
   "language": "python",
   "name": "python3"
  },
  "language_info": {
   "codemirror_mode": {
    "name": "ipython",
    "version": 3
   },
   "file_extension": ".py",
   "mimetype": "text/x-python",
   "name": "python",
   "nbconvert_exporter": "python",
   "pygments_lexer": "ipython3",
   "version": "3.6.9"
  }
 },
 "nbformat": 4,
 "nbformat_minor": 2
}
