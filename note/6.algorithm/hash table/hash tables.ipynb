{
 "cells": [
  {
   "cell_type": "markdown",
   "metadata": {},
   "source": [
    "Hash tables\n",
    "\n",
    "Access: O(1),  \n",
    "Search: O(1),  \n",
    "Insertion: O(1),  \n",
    "Deletion: O(1)\n",
    "\n",
    "- Fast to compute\n",
    "\n",
    "- Uniformity: hash values are uniformly distributed means less collisions, more space utilization\n",
    "\n",
    "- Hard to reverse: If it's easy to get values for the given hash we can have effective attacks on our service "
   ]
  },
  {
   "cell_type": "markdown",
   "metadata": {},
   "source": [
    "__Collisions__\n",
    "\n",
    "Collisions, if they happen, that means that you have several entries from your input data stored at the same index in the array, so when you'll look for the elements that you're searching for, you'll have to iterate over them all or use some other technique which would cause the lookup times to get bigger and bigger and eventually, it would be no longer O(1), it would be big O(n) or something like that.\n",
    "\n",
    "Whey do they occur?\n",
    "\n",
    "- Store data > hash table size\n",
    "- Bad hash function\n",
    "\n",
    "Why are they bad?\n",
    "\n",
    "- Data clustering, which implies longer lookup\n",
    "\n",
    "__Collision resolution\n",
    "\n",
    "Separate chaining\n",
    "\n",
    "- separate chaining is when you, at each bucket of your array, where you store your data in the hash table, you have another data structure. 1. linked list. 2 .binary search tree. 3. other data structure\n",
    "\n",
    "- open addressing:  \n",
    "\n",
    "_linear probing_ when you want to insert an element into your hash table, if that space is already taken, you have some probe sequence in which you check the following elements, if there are free or not. If you find an empty space, you just put your elements there. So linear probing is when you have some fixed interval, usually, just one is used. So you tried to put the element into your hash table, if that space is taken, you check the next one, if it's taken, you check the next one and so on.  \n",
    "\n",
    "_Quadratic probing_ is when interval between probes increases quadratically. So first, you check the next one, then you check the element after four elements and so on.\n",
    "\n",
    "_Double hashing_ is when the interval of your lookup is computed using the second hash function. It's actually the best approach for those three.\n",
    "\n",
    "So what is the downside of this method of collision resolution? Well, when you want to delete an element, it becomes rather tricky, because you need to remember that there was an element here and you mark it deleted, so when you look up for the element that was inserted after this one, you just don't stop and say that it's not there, you keep going."
   ]
  }
 ],
 "metadata": {
  "kernelspec": {
   "display_name": "Python 3",
   "language": "python",
   "name": "python3"
  },
  "language_info": {
   "codemirror_mode": {
    "name": "ipython",
    "version": 3
   },
   "file_extension": ".py",
   "mimetype": "text/x-python",
   "name": "python",
   "nbconvert_exporter": "python",
   "pygments_lexer": "ipython3",
   "version": "3.6.9"
  }
 },
 "nbformat": 4,
 "nbformat_minor": 2
}
