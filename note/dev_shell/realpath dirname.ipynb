{
 "cells": [
  {
   "cell_type": "code",
   "execution_count": 14,
   "metadata": {},
   "outputs": [
    {
     "name": "stdout",
     "output_type": "stream",
     "text": [
      "/home/docs/note/dev_shell/bash\n",
      "/home/docs/note/dev_shell\n",
      "/home/docs/note\n",
      "/home/docs\n"
     ]
    }
   ],
   "source": [
    "%%bash\n",
    "#!/bin/bash/\n",
    "\n",
    "# real path\n",
    "full_path=$(realpath $0)\n",
    "echo $full_path\n",
    "\n",
    "# dir name\n",
    "dir_path=$(dirname $full_path)\n",
    "echo $dir_path\n",
    "\n",
    "# go one level up\n",
    "parent_dir=$(dirname $dir_path)\n",
    "echo $parent_dir\n",
    "\n",
    "# or this way\n",
    "p_dir=$(dirname $(dirname $(dirname $(realpath $0))))\n",
    "echo $p_dir"
   ]
  }
 ],
 "metadata": {
  "kernelspec": {
   "display_name": "Python 3",
   "language": "python",
   "name": "python3"
  },
  "language_info": {
   "codemirror_mode": {
    "name": "ipython",
    "version": 3
   },
   "file_extension": ".py",
   "mimetype": "text/x-python",
   "name": "python",
   "nbconvert_exporter": "python",
   "pygments_lexer": "ipython3",
   "version": "3.6.8"
  }
 },
 "nbformat": 4,
 "nbformat_minor": 2
}
