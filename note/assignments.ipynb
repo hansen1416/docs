{
 "cells": [
  {
   "cell_type": "code",
   "execution_count": 7,
   "metadata": {},
   "outputs": [
    {
     "name": "stdout",
     "output_type": "stream",
     "text": [
      "{(0, 0): 1, (1, 0): 1, (1, 1): 1, (2, 0): 1, (2, 2): 1, (2, 1): 2, (3, 0): 1, (3, 3): 1, (3, 1): 3, (3, 2): 3, (4, 0): 1, (4, 4): 1, (4, 1): 4, (4, 2): 6, (4, 3): 4, (5, 0): 1, (5, 5): 1, (5, 1): 5, (5, 2): 10, (5, 3): 10, (5, 4): 5, (6, 0): 1, (6, 6): 1, (6, 1): 6, (6, 2): 15, (6, 3): 20, (6, 4): 15, (6, 5): 6, (7, 0): 1, (7, 7): 1, (7, 1): 7, (7, 2): 21, (7, 3): 35, (7, 4): 35, (7, 5): 21, (7, 6): 7}\n"
     ]
    }
   ],
   "source": [
    "C = dict()\n",
    "\n",
    "for n in range(8):\n",
    "    C[n, 0] = 1\n",
    "    C[n, n] = 1\n",
    "    \n",
    "    for k in range(1, n):\n",
    "        C[n, k] = C[n-1, k - 1] + C[n-1, k]\n",
    "    \n",
    "print(C)"
   ]
  }
 ],
 "metadata": {
  "kernelspec": {
   "display_name": "Python 3",
   "language": "python",
   "name": "python3"
  },
  "language_info": {
   "codemirror_mode": {
    "name": "ipython",
    "version": 3
   },
   "file_extension": ".py",
   "mimetype": "text/x-python",
   "name": "python",
   "nbconvert_exporter": "python",
   "pygments_lexer": "ipython3",
   "version": "3.6.8"
  }
 },
 "nbformat": 4,
 "nbformat_minor": 2
}
