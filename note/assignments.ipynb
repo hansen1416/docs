{
 "cells": [
  {
   "cell_type": "code",
   "execution_count": 14,
   "metadata": {},
   "outputs": [
    {
     "name": "stdout",
     "output_type": "stream",
     "text": [
      "1\n",
      "1\n",
      "yes\n",
      "no\n",
      "Other\n",
      "Ticket price: 1.00$\n",
      "Number of transfers: 1\n",
      "Refund: yes\n",
      "Including of luggage in price: no\n"
     ]
    }
   ],
   "source": [
    "price=float(input())\n",
    "transfer=int(input())\n",
    "refund=bool(input() == 'yes')\n",
    "luggage=bool(input() == 'yes')\n",
    "\n",
    "\n",
    "if (price < 200 and transfer < 2 and refund and luggage):\n",
    "    print('Best offer')\n",
    "elif(price > 200 and price < 250 and transfer < 3 and refund):\n",
    "    print('Normal offer')\n",
    "elif(price > 250 and price < 300 and (transfer == 3 or transfer == 4) and refund):\n",
    "    print('Bad offer')\n",
    "else:\n",
    "    print('Other')\n",
    "\n",
    "\n",
    "print(f'Ticket price: {price:.2f}$')\n",
    "print(f'Number of transfers: {transfer}')\n",
    "print(f'Refund: ' + ('yes' if refund else 'no'))\n",
    "print(f'Including of luggage in price: ' + ('yes' if luggage else 'no'))"
   ]
  },
  {
   "cell_type": "markdown",
   "metadata": {},
   "source": [
    "__The above categorization flow is too narrow, a lot of cases did not cover.__\n",
    "\n",
    "\n",
    "I would assign a score to each condtion, eg, if price is below `200$`, plus `6`, if between `200$` and `250$`, plus `4`, if between `250$` and `300$`, plus `2`, if greater than `300$`, plus `1`. If refundable, plus `2`, if not, plus 0. And we categoriz by the score. See below code."
   ]
  },
  {
   "cell_type": "code",
   "execution_count": 23,
   "metadata": {},
   "outputs": [
    {
     "name": "stdout",
     "output_type": "stream",
     "text": [
      "210\n",
      "2\n",
      "yes\n",
      "a\n",
      "Normal offer\n",
      "Ticket price: 210.00$\n",
      "Number of transfers: 2\n",
      "Refund: yes\n",
      "Including of luggage in price: no\n"
     ]
    }
   ],
   "source": [
    "price=float(input())\n",
    "transfer=int(input())\n",
    "refund=bool(input() == 'yes')\n",
    "luggage=bool(input() == 'yes')\n",
    "\n",
    "score=0\n",
    "\n",
    "if (price < 200):\n",
    "    score = score + 6\n",
    "elif (price < 250):\n",
    "    score = score + 4\n",
    "elif (price < 300):\n",
    "    score = score + 2\n",
    "else:\n",
    "    score = score + 1\n",
    "\n",
    "if (transfer < 2):\n",
    "    score = score + 3\n",
    "elif (transfer < 3):\n",
    "    score = score + 2\n",
    "elif (transfer < 4):\n",
    "    score = score + 1\n",
    "\n",
    "if refund:\n",
    "    score = score + 2\n",
    "\n",
    "if luggage:\n",
    "    score = score + 1\n",
    "    \n",
    "if (score > 10):\n",
    "    print('Best offer')\n",
    "elif(score > 7):\n",
    "    print('Normal offer')\n",
    "else:\n",
    "    print('Bad offer')\n",
    "    \n",
    "print(f'Ticket price: {price:.2f}$')\n",
    "print(f'Number of transfers: {transfer}')\n",
    "print(f'Refund: ' + ('yes' if refund else 'no'))\n",
    "print(f'Including of luggage in price: ' + ('yes' if luggage else 'no'))"
   ]
  }
 ],
 "metadata": {
  "kernelspec": {
   "display_name": "Python 3",
   "language": "python",
   "name": "python3"
  },
  "language_info": {
   "codemirror_mode": {
    "name": "ipython",
    "version": 3
   },
   "file_extension": ".py",
   "mimetype": "text/x-python",
   "name": "python",
   "nbconvert_exporter": "python",
   "pygments_lexer": "ipython3",
   "version": "3.6.9"
  }
 },
 "nbformat": 4,
 "nbformat_minor": 2
}
