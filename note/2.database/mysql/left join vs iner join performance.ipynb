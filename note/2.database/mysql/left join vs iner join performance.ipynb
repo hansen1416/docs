{
 "cells": [
  {
   "cell_type": "markdown",
   "metadata": {},
   "source": [
    "https://stackoverflow.com/questions/2726657/inner-join-vs-left-join-performance-in-sql-server\n",
    "\n",
    "A `LEFT JOIN` is absolutely not faster than an `INNER JOIN`. In fact, it's slower; by definition, an outer join (`LEFT JOIN` or `RIGHT JOIN`) has to do all the work of an `INNER JOIN` plus the extra work of null-extending the results. It would also be expected to return more rows, further increasing the total execution time simply due to the larger size of the result set.\n",
    "\n",
    "Reflecting further on this, I could think of one circumstance under which a `LEFT JOIN` might be faster than an `INNER JOIN`, and that is when:\n",
    "\n",
    "- Some of the tables are very small (say, under 10 rows);\n",
    "\n",
    "- The tables do not have sufficient indexes to cover the query.\n",
    "\n",
    "\n",
    "\"indexes to cover the query\", encountered a case that the joined table does not have proper index"
   ]
  }
 ],
 "metadata": {
  "kernelspec": {
   "display_name": "Python 3",
   "language": "python",
   "name": "python3"
  },
  "language_info": {
   "codemirror_mode": {
    "name": "ipython",
    "version": 3
   },
   "file_extension": ".py",
   "mimetype": "text/x-python",
   "name": "python",
   "nbconvert_exporter": "python",
   "pygments_lexer": "ipython3",
   "version": "3.6.9"
  }
 },
 "nbformat": 4,
 "nbformat_minor": 2
}
