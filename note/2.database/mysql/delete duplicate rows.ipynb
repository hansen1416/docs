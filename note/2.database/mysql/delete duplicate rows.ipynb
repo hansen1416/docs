{
 "cells": [
  {
   "cell_type": "code",
   "execution_count": null,
   "metadata": {},
   "outputs": [],
   "source": [
    "# try to add unique index on a combined columns, but there was deplicate rows\n",
    "# the following query delete duplicate entries of (usre_id, group_id), \n",
    "# g1.id < g2.id means we keep the last one, g1.id < g2.id means keep the first one\n",
    "\n",
    "DELETE g1 FROM `everforo`.`group_follow` g1 inner join `everforo`.`group_follow` g2\n",
    "where g1.id < g2.id and g1.group_id=g2.group_id and g1.user_id=g2.user_id and g1.id>0;"
   ]
  }
 ],
 "metadata": {
  "kernelspec": {
   "display_name": "Python 3",
   "language": "python",
   "name": "python3"
  },
  "language_info": {
   "codemirror_mode": {
    "name": "ipython",
    "version": 3
   },
   "file_extension": ".py",
   "mimetype": "text/x-python",
   "name": "python",
   "nbconvert_exporter": "python",
   "pygments_lexer": "ipython3",
   "version": "3.6.9"
  }
 },
 "nbformat": 4,
 "nbformat_minor": 2
}
