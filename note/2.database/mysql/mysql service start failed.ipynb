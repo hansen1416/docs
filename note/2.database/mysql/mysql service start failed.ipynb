{
 "cells": [
  {
   "cell_type": "code",
   "execution_count": null,
   "metadata": {},
   "outputs": [],
   "source": [
    "%%bash\n",
    "\n",
    "# first of all, check error log\n",
    "\n",
    "/var/log/mysql/error.log\n",
    "\n",
    "# upgrade from mysql-5.7 to mariadb-10.1, you need to remove all previous tables\n",
    "\n",
    "rm -rf /var/lib/mysql\n",
    "\n",
    "# the above command will remove all tables, if want to initialize the database default tables agian, run\n",
    "\n",
    "mysql_install_db --user=mysql --basedir=/usr --datadir=/var/lib/mysql"
   ]
  }
 ],
 "metadata": {
  "kernelspec": {
   "display_name": "Python 3",
   "language": "python",
   "name": "python3"
  },
  "language_info": {
   "codemirror_mode": {
    "name": "ipython",
    "version": 3
   },
   "file_extension": ".py",
   "mimetype": "text/x-python",
   "name": "python",
   "nbconvert_exporter": "python",
   "pygments_lexer": "ipython3",
   "version": "3.6.8"
  }
 },
 "nbformat": 4,
 "nbformat_minor": 2
}
