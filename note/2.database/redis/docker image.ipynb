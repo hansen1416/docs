{
 "cells": [
  {
   "cell_type": "markdown",
   "metadata": {},
   "source": [
    "`\n",
    "docker pull redis\n",
    "`\n",
    "\n",
    "__run container__\n",
    "\n",
    "`\n",
    "docker run --name broadcast-redis -d redis:6.0-rc1-alpine\n",
    "`\n",
    "\n",
    "__connecting via `redis-cli`__\n",
    "\n",
    "`\n",
    "docker run -it --network some-network --rm redis redis-cli -h some-redis\n",
    "`"
   ]
  }
 ],
 "metadata": {
  "kernelspec": {
   "display_name": "Python 3",
   "language": "python",
   "name": "python3"
  },
  "language_info": {
   "codemirror_mode": {
    "name": "ipython",
    "version": 3
   },
   "file_extension": ".py",
   "mimetype": "text/x-python",
   "name": "python",
   "nbconvert_exporter": "python",
   "pygments_lexer": "ipython3",
   "version": "3.6.8"
  }
 },
 "nbformat": 4,
 "nbformat_minor": 2
}
