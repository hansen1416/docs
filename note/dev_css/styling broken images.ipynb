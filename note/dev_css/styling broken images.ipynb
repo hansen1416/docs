{
 "cells": [
  {
   "cell_type": "code",
   "execution_count": 1,
   "metadata": {},
   "outputs": [
    {
     "data": {
      "text/html": [
       "\n",
       "<style>\n",
       "img {  \n",
       "  position: relative;\n",
       "}\n",
       "\n",
       "/* style this to fit your needs */\n",
       "/* and remove [alt] to apply to all images*/\n",
       "img[alt]:after {  \n",
       "  display: block;\n",
       "  position: absolute;\n",
       "  top: 0;\n",
       "  left: 0;\n",
       "  width: 100%;\n",
       "  height: 100%;\n",
       "  background-color: #fff;\n",
       "  font-family: 'Helvetica';\n",
       "  font-weight: 300;\n",
       "  line-height: 2;  \n",
       "  text-align: center;\n",
       "  content: attr(alt);\n",
       "}\n",
       "</style>\n",
       "\n",
       "<img src=\"error\">\n",
       "<br>\n",
       "<img src=\"broken\" alt=\"A broken image\">\n",
       "<br>\n",
       "<img src=\"https://images-na.ssl-images-amazon.com/images/I/218eLEn0fuL.png\" alt=\"A bird\" style=\"width: 120px\">"
      ],
      "text/plain": [
       "<IPython.core.display.HTML object>"
      ]
     },
     "metadata": {},
     "output_type": "display_data"
    }
   ],
   "source": [
    "%%HTML\n",
    "\n",
    "<style>\n",
    "img {  \n",
    "  position: relative;\n",
    "}\n",
    "\n",
    "/* style this to fit your needs */\n",
    "/* and remove [alt] to apply to all images*/\n",
    "img[alt]:after {  \n",
    "  display: block;\n",
    "  position: absolute;\n",
    "  top: 0;\n",
    "  left: 0;\n",
    "  width: 100%;\n",
    "  height: 100%;\n",
    "  background-color: #fff;\n",
    "  font-family: 'Helvetica';\n",
    "  font-weight: 300;\n",
    "  line-height: 2;  \n",
    "  text-align: center;\n",
    "  content: attr(alt);\n",
    "}\n",
    "</style>\n",
    "\n",
    "<img src=\"error\">\n",
    "<br>\n",
    "<img src=\"broken\" alt=\"A broken image\">\n",
    "<br>\n",
    "<img src=\"https://images-na.ssl-images-amazon.com/images/I/218eLEn0fuL.png\" alt=\"A bird\" style=\"width: 120px\">"
   ]
  }
 ],
 "metadata": {
  "kernelspec": {
   "display_name": "Python 3",
   "language": "python",
   "name": "python3"
  },
  "language_info": {
   "codemirror_mode": {
    "name": "ipython",
    "version": 3
   },
   "file_extension": ".py",
   "mimetype": "text/x-python",
   "name": "python",
   "nbconvert_exporter": "python",
   "pygments_lexer": "ipython3",
   "version": "3.6.9"
  }
 },
 "nbformat": 4,
 "nbformat_minor": 2
}
