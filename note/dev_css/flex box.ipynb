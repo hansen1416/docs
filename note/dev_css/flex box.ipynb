{
 "cells": [
  {
   "cell_type": "markdown",
   "metadata": {},
   "source": [
    "ie 11 bugs\n",
    "\n",
    "https://stackoverflow.com/questions/43979702/display-flex-not-working-on-internet-explorer/43979973\n",
    "\n",
    "\n",
    "Workaround\n",
    "\n",
    "https://github.com/philipwalton/flexbugs#flexbug-1"
   ]
  }
 ],
 "metadata": {
  "kernelspec": {
   "display_name": "Python 3",
   "language": "python",
   "name": "python3"
  },
  "language_info": {
   "codemirror_mode": {
    "name": "ipython",
    "version": 3
   },
   "file_extension": ".py",
   "mimetype": "text/x-python",
   "name": "python",
   "nbconvert_exporter": "python",
   "pygments_lexer": "ipython3",
   "version": "3.6.8"
  }
 },
 "nbformat": 4,
 "nbformat_minor": 2
}
