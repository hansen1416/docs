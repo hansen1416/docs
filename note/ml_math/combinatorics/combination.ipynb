{
 "cells": [
  {
   "cell_type": "markdown",
   "metadata": {},
   "source": [
    "$\\binom nk = \\frac{n!}{k!(n-k)!}$"
   ]
  },
  {
   "cell_type": "markdown",
   "metadata": {},
   "source": [
    "$ \\binom nk = \\binom {n-1}{k} + \\binom {n-1}{k-1} $"
   ]
  },
  {
   "cell_type": "markdown",
   "metadata": {},
   "source": [
    "$ \\binom nk = \\frac{n}{k} \\binom {n-1}{k-1} $"
   ]
  },
  {
   "cell_type": "markdown",
   "metadata": {},
   "source": [
    "$ \\binom nk = \\binom {n}{n-k} $"
   ]
  },
  {
   "cell_type": "markdown",
   "metadata": {},
   "source": [
    "$ if \\;\\;  k \\leq \\frac{n}{2} $\n",
    "\n",
    "$ \\binom{n}{k-1} < \\binom{n}{k} $\n",
    "\n",
    "$ if \\;\\;  k \\geq \\frac{n}{2} $\n",
    "\n",
    "$ \\binom{n}{k} > \\binom{n}{k + 1} $\n",
    "\n",
    "in other word, k closer to n/2, the combination is larger"
   ]
  },
  {
   "cell_type": "markdown",
   "metadata": {},
   "source": [
    "Binomial Theorem\n",
    "--\n",
    "\n",
    "$ (a+b)^n = \\sum_{k=0}^{n} \\binom nk a^{n-k}b^k $"
   ]
  },
  {
   "cell_type": "markdown",
   "metadata": {},
   "source": [
    " Table | With repetitions | Without repetitions  \n",
    " --- |---| ---\n",
    " Ordered      | Tuples  $ {\\Large n^k} $ | k-permutations $ {\\Large\\frac{n!}{(n-k)!}} $  \n",
    " Unordered      | $ {\\Large \\frac{(r+n-1)!}{r!(n-1)!}} $ | Combinations $ {\\Large \\binom{n}{k}} $     "
   ]
  },
  {
   "cell_type": "markdown",
   "metadata": {},
   "source": [
    "Question 1\n",
    "\n",
    "We have 9 balls of colours red, green and blue, 3 balls of each color (balls of the same color are identical). We want to place them in the sequence in such a way that no two blue balls are next to each other. How many ways do we have to do it?\n",
    "\n",
    "\n",
    "This is correct! We can first place red and green balls in the sequence. For this in it enough to pick 3 positions for red balls out of 6 possibilities, we can do it in (63)\\binom{6}{3}(36​) ways. Next, we need to place blue balls between red and green. There are 7 possible locations and we need to pick 3 out of them for the blue balls. We can do it in (73)\\binom{7}{3}(37​) ways. By the rule of product we have (63)×(73)=700\\binom{6}{3}\\times \\binom{7}{3} = 700(36​)×(37​)=700 possibilities."
   ]
  },
  {
   "cell_type": "markdown",
   "metadata": {},
   "source": [
    "Suppose there are 4 mathematicians and 4 data scientists. We want to form a subset of them in such a way that there is equal number of mathematicians and data scientists in it (empty set is one of the valid options, there are zero mathematicians and zero data scientists in it). How many ways do we have to do it.\n",
    "\n",
    "This is correct! A simple way to see this is the following. For each set with the property in the formulation consider another set constructed as follows: include in the new set all mathematicians that were in our set and all data scientists that were not in our set. Observe that the new set is of size 4. Observe, that we can perform the reverse operation: start with the set of 4 people, remove all data scientists, include all data scientists that were not in the set. This way we obtain the subset with equal number of mathematicians and data scientists. So, the operation we performed is invertible and the sets we are interested in are in one to one correspondence with subsets of size 4. So, the number of subsets we are interested in is (84)=70\\binom{8}{4}=70(48​)=70."
   ]
  },
  {
   "cell_type": "markdown",
   "metadata": {},
   "source": [
    "Suppose we open the brackets in the expression (1+x+x2+x3+…+x10)3\\left( 1 + x + x^2 + x^3 + \\ldots + x^{10} \\right)^3(1+x+x2+x3+…+x10)3. What is the resulting coefficient of x10x^{10}x10?\n",
    "\n",
    "This is correct. Note that we are multiplying three brackets and to obtain x10x^{10}x10 we need to pick xpx^pxp from the first bracket, xqx^qxq from the second bracket and xrx^rxr from the third in such a way that p+q+r=10p+q+r=10p+q+r=10. So the coefficient of x10x^{10}x10 is equal to the number of solutions of this equation in non-negative integer numbers. As we have seen in one of the previous problems, the number of solutions is (122)=66\\binom{12}{2} = 66(212​)=66."
   ]
  }
 ],
 "metadata": {
  "kernelspec": {
   "display_name": "Python 3",
   "language": "python",
   "name": "python3"
  },
  "language_info": {
   "codemirror_mode": {
    "name": "ipython",
    "version": 3
   },
   "file_extension": ".py",
   "mimetype": "text/x-python",
   "name": "python",
   "nbconvert_exporter": "python",
   "pygments_lexer": "ipython3",
   "version": "3.6.9"
  }
 },
 "nbformat": 4,
 "nbformat_minor": 2
}
