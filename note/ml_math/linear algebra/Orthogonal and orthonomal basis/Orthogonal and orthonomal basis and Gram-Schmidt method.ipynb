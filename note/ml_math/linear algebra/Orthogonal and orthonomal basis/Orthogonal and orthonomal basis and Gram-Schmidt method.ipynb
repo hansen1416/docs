{
 "cells": [
  {
   "cell_type": "markdown",
   "metadata": {},
   "source": [
    "__Orthogonality__\n",
    "\n",
    "__Lemma__\n",
    "\n",
    "Let $\\{v_1,...,v+k\\}$ be an orthogonal system of vectors, and $\\forall i=1,k:v_i \\ne 0$, then this system is linearly independent"
   ]
  },
  {
   "cell_type": "markdown",
   "metadata": {},
   "source": [
    "__Remark__\n",
    "\n",
    "If $k=dim\\;V=n$, then $v_1,...,v_k$ will be an _orthogonal basis_. \n",
    "\n",
    "If we consider $e_1=\\frac{v_1}{\\parallel v_1 \\parallel},...,e_n=\\frac{v_n}{\\parallel v_n \\parallel}$, then we get __orthogonomal basis__"
   ]
  },
  {
   "cell_type": "markdown",
   "metadata": {},
   "source": [
    "__Remark__\n",
    "\n",
    "Let $a_1, \\dots , a_n$ be an _orthonormal basis_ in Euclidean space $\\varepsilon$. Then $\\langle x,y \\rangle=X^TY$, where $X,Y$ are the columns of the coordinates of vectors $x$ and $y$ respectively in the basis $a_1,\\dots,a_n$"
   ]
  },
  {
   "cell_type": "markdown",
   "metadata": {},
   "source": [
    "__Gram-Schmidt orthogonalization process__\n",
    "\n",
    "__Statement__\n",
    "\n",
    "If $\\varepsilon$ is a finite-dimensional Euclidean space, then there exists an orthonormal basis in it."
   ]
  },
  {
   "cell_type": "markdown",
   "metadata": {},
   "source": [
    "__proof__\n",
    "\n",
    "Suppose $a_1,\\dots,a_n$ are linearly independent\n",
    "\n",
    "Try to construct orthonormal basis $b_1,\\dots,b_n$ where $\\langle b_i, b_j\\rangle=0,i\\neq j$\n",
    "\n",
    "Since $a_i$ are linearly independent, so we couldn't find 0 vector in them\n",
    "\n",
    "Let $b_1 = a_1 \\neq 0$\n",
    "\n",
    "Try to find $b_2=a_2+\\alpha b_1$\n",
    "\n",
    "From $\\langle b_2,b_1 \\rangle=0 \\implies \\langle a_2+\\alpha b_1,b_1 \\rangle = \\langle a_2,b_1 \\rangle + \\alpha \\langle b_1,b_1 \\rangle=0$\n",
    "\n",
    "$\\implies \\alpha=-\\frac{\\langle a_2,b_1 \\rangle}{\\langle b_1,b_1 \\rangle} \\implies b_2=a_2-\\frac{\\langle a_2,b_1 \\rangle}{\\langle b_1,b_1 \\rangle}b_1$\n",
    "\n",
    "From geomatic point of view, the formula means We are subtracting from vector $a_2$ it's __orthogonal projection__ on the vector $b_1$. So we are taking $b_2$ as __orthogonal component__ of the vector $a_2$ with respect to the span of vector $b_1$\n",
    "\n",
    "Since both $b_1$ and $b_2$ are linearly expressed via vectors $a_1$ and $a_2$, and we could find an inverse linear foremost, since $a_1$ and $a_2$ linearly independent, this means that $b_1$ and $b_2$ are linearly independent.\n",
    "\n",
    "Suppose we constructed $b_1,\\dots,b_k$\n",
    "\n",
    "$b_{k+1}=a_{k+1}-\\frac{\\langle a_{k+1},b_1 \\rangle}{\\langle b_1,b_1 \\rangle} b_1 - \\dotsm - \\frac{\\langle a_{k+1},b_k \\rangle}{\\langle b_1,b_1 \\rangle} b_k$\n",
    "\n",
    "So $b_1,\\dots,b_k$ are orthogonal basis\n",
    "\n",
    "And $l_1,\\dots,l_k$ are orthonormal basis where $l_k=\\frac{b_k}{\\parallel b_k \\parallel}$"
   ]
  },
  {
   "cell_type": "markdown",
   "metadata": {},
   "source": [
    "__example__\n",
    "\n",
    "$a_1=\\begin{pmatrix} 1 \\\\ 1 \\\\ -1 \\\\ -2 \\end{pmatrix},\n",
    "a_2=\\begin{pmatrix} 5 \\\\ 8 \\\\ -2 \\\\ -3 \\end{pmatrix},\n",
    "a_3=\\begin{pmatrix} 3 \\\\ 9 \\\\ 3 \\\\ 8 \\end{pmatrix},\n",
    "$\n",
    "\n",
    "First vector $b_1=a_1$\n",
    "\n",
    "$b_2=a_2-\\frac{\\langle a_2,b_1 \\rangle}{\\langle b_1,b_1 \\rangle}b_1=a_2-3b_1=(2 \\; 5 \\; 1 \\; 3)^T$\n",
    "\n",
    "$b_3=a_3-\\frac{\\langle a_3,b_1 \\rangle}{\\langle b_1,b_1 \\rangle}b_1-\\frac{\\langle a_3,b_2 \\rangle}{\\langle b_2,b_2 \\rangle}b_2=a_3+b_1-2b_2=(0 \\; 0 \\; 0 \\; 0)^T$ which means that $a_3$ belongs to the span of vectors $b_1$ and $b_2$. This means that it also belongs to the span of vectors $a_1$ and $a_2$\n",
    "\n",
    "$e_1=\\frac{b_1}{\\parallel b_1 \\parallel}=\\begin{pmatrix} \\frac{\\sqrt{7}}{7} \\\\ \\frac{\\sqrt{7}}{7} \\\\ -\\frac{\\sqrt{7}}{7} \\\\ \\frac{2\\sqrt{7}}{7} \\end{pmatrix}$,\n",
    "\n",
    "$e_2=\\frac{b_2}{\\parallel b_2 \\parallel}=\\begin{pmatrix} \\frac{2\\sqrt{39}}{39} \\\\ \\frac{5\\sqrt{39}}{39} \\\\ -\\frac{\\sqrt{39}}{39} \\\\ \\frac{2\\sqrt{39}}{13} \\end{pmatrix}$"
   ]
  }
 ],
 "metadata": {
  "kernelspec": {
   "display_name": "Python 3",
   "language": "python",
   "name": "python3"
  },
  "language_info": {
   "codemirror_mode": {
    "name": "ipython",
    "version": 3
   },
   "file_extension": ".py",
   "mimetype": "text/x-python",
   "name": "python",
   "nbconvert_exporter": "python",
   "pygments_lexer": "ipython3",
   "version": "3.6.9"
  }
 },
 "nbformat": 4,
 "nbformat_minor": 2
}
