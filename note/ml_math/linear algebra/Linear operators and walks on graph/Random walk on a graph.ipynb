{
 "cells": [
  {
   "cell_type": "markdown",
   "metadata": {},
   "source": [
    "Starting from an arbitrary page, we choose at an random edge from the vertex at each step.  \n",
    "What will happen after $k$ steps?\n",
    "\n",
    "Let us consider a matrix where each __column__ represents the __departing page__ and each __row__ represents the __page where we arrive__.\n",
    "\n",
    "A matrix $P$ is called __Markov transition matrix__ if the sum of entries of any column of $P$ is equal to one and all entries are nonnegative."
   ]
  },
  {
   "cell_type": "markdown",
   "metadata": {},
   "source": [
    "$\n",
    "\\begin{pmatrix}\n",
    "0 & \\frac{1}{2} & \\frac{1}{3} & \\frac{1}{2} & 0 & 0 \\\\\n",
    "\\frac{1}{2} & 0 & 0 & 0 & \\frac{1}{4} & 0 \\\\\n",
    "\\frac{1}{2} & \\frac{1}{2} & 0 & 0 & \\frac{1}{4} & 0 \\\\\n",
    "0 & 0 & \\frac{1}{3} & 0 & \\frac{1}{4} & 1 \\\\\n",
    "0 & 0 & \\frac{1}{3} & 0 & 0 & 0 \\\\\n",
    "0 & 0 & 0 & \\frac{1}{2} & \\frac{1}{4} & 0 \\\\\n",
    "\\end{pmatrix}\n",
    "$"
   ]
  },
  {
   "cell_type": "markdown",
   "metadata": {},
   "source": [
    "The probabilities after $k$ steps can be summarized in the matrix $P^k$, because the formula for conditional probability coincides with formula for matrix multiplication"
   ]
  },
  {
   "cell_type": "markdown",
   "metadata": {},
   "source": [
    "__Frobenius Theorem__\n",
    "\n",
    "Let us consider a Markov transition matrix $P$. Then \n",
    "1. $\\lambda = 1$ is an eigenvalue of $P$\n",
    "2. Any eigenvalue $\\lambda$ of $P$ satisfies $|\\lambda| \\leq 1$\n",
    "3. There exists an eigenvector $g$ of the eigenvalue 1, all the coordinates of which are greater than or equal to zero."
   ]
  },
  {
   "cell_type": "markdown",
   "metadata": {},
   "source": [
    "__PageRank algorithm__\n",
    "\n",
    "If an eigenvalue 1 has algebraic multiplicity 1, and all other eigenvalues of $P$ have an absolute value less than 1,  \n",
    "then $P^kX \\to g$. Here $X$ is an arbitrary vector and $g$ is an eigenvactor for 1, i.e. $Pg = g$.  \n",
    "In other words $g$ is a stationary state of $P$.  \n",
    "The idea of PageRank is to use this vector to range web pages. Namely the site is more important if it has bigger component (probability) in $g$.\n",
    "\n",
    "\n"
   ]
  },
  {
   "cell_type": "markdown",
   "metadata": {},
   "source": [
    "A Markov transition matrix is called __regular__ if:\n",
    "1. The eigenvalue 1 has an algebraic multiplicity equal to 1.\n",
    "2. All other eigenvalues $\\lambda$ of $P$ have an absolute value less than 1"
   ]
  },
  {
   "cell_type": "markdown",
   "metadata": {},
   "source": [
    "We consider the $n \\times n$ matrix $Q$, with all entries euqal to $\\frac{1}{n}$. We replace the matrix $P$ of the internet by the matrix\n",
    "\n",
    "$P_\\alpha=(1-\\alpha)P+\\alpha Q$\n",
    "\n",
    "for some small $\\alpha \\in [0,1]$. The value $\\alpha=0.15$ was used by Google. The matrix $P_\\alpha$ still has nonnegative entries and the sum of the entries of each column is still equal to one, so it is still a Markov transition matrix."
   ]
  },
  {
   "cell_type": "markdown",
   "metadata": {},
   "source": [
    "For any markove transition matrix $P$, there always exists a positive $\\alpha$ such that the matrix $P_\\alpha$ is regular.  \n",
    "Let $g$ be the eigenvector for eigenvalue 1 for the matrix $P_\\alpha$, normalized so that the sum of its coordinates equals 1.  \n",
    "For the matrix $P_\\alpha$ and any nonzero vector $X$. where $X^T=(p_1,\\dots,p_n)$ with $p_i \\in [-,1]$ and $\\sum^{n}_{i=1}p_i=1$ we have\n",
    "\n",
    "$\\lim_{k \\to \\infty}(P_\\alpha)^kX=g$"
   ]
  },
  {
   "cell_type": "markdown",
   "metadata": {},
   "source": [
    "For matrix $P_{0.15}$ the eigenvector corresponding to $\\lambda = 1$ is:\n",
    "\n",
    "$\\begin{pmatrix} 0.54 \\\\ 0.33\\\\ 0.47\\\\0.5\\\\ 0.19\\\\0.31 \\end{pmatrix}$\n",
    "\n",
    "For matrix $P_{0.85}$ the eigenvector corresponding to $\\lambda = 1$ is:\n",
    "\n",
    "$\\begin{pmatrix} 0.43 \\\\ 0.39 \\\\ 0.42 \\\\ 0.44 \\\\ 0.37 \\\\0.39 \\end{pmatrix}$"
   ]
  }
 ],
 "metadata": {
  "kernelspec": {
   "display_name": "Python 3",
   "language": "python",
   "name": "python3"
  },
  "language_info": {
   "codemirror_mode": {
    "name": "ipython",
    "version": 3
   },
   "file_extension": ".py",
   "mimetype": "text/x-python",
   "name": "python",
   "nbconvert_exporter": "python",
   "pygments_lexer": "ipython3",
   "version": "3.6.9"
  }
 },
 "nbformat": 4,
 "nbformat_minor": 2
}
