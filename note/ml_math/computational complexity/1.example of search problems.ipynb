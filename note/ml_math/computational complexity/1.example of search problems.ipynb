{
 "cells": [
  {
   "cell_type": "markdown",
   "metadata": {},
   "source": [
    "# Eulerian path and circuit for undirected graph\n",
    "\n",
    "Eulerian Path is a path in graph that visits every edge exactly once. Eulerian Circuit is an Eulerian Path which starts and ends on the same vertex.\n",
    "\n",
    "## Eulerian Cycle\n",
    "\n",
    "An undirected graph has Eulerian cycle if following two conditions are true.\n",
    "- All vertices with non-zero degree are connected. We don’t care about vertices with zero degree because they don’t belong to Eulerian Cycle or Path (we only consider all edges).\n",
    "- All vertices have even degree.\n",
    "\n",
    "comlexity: $O(n^2)$, n=number of nodes\n",
    "\n",
    "## Eulerian Path\n",
    "\n",
    "An undirected graph has Eulerian Path if following two conditions are true.\n",
    "- Same as condition (a) for Eulerian Cycle\n",
    "- If zero or two vertices have odd degree and all other vertices have even degree. Note that only one vertex with odd degree is not possible in an undirected graph (sum of all degrees is always even in an undirected graph)\n",
    "\n",
    "Note that a graph with no edges is considered Eulerian because there are no edges to traverse."
   ]
  },
  {
   "cell_type": "markdown",
   "metadata": {},
   "source": [
    "# Hamiltonian cycle\n",
    "\n",
    "__closed__ walk that visits every node exactly once\n",
    "\n",
    "complexity:\n",
    "- brute force $O(n!) >> O(2^n)$\n",
    "- Dynamic prohramming $O(n^22^n)$\n",
    "- Not know if a subexponential time algorithm exists"
   ]
  },
  {
   "cell_type": "markdown",
   "metadata": {},
   "source": [
    "# Vertex cover problem\n",
    "\n",
    "### exhaustive search\n",
    "does the graph have a vertex cover of size at most $k$?\n",
    "- try all subset of size k\n",
    "- number of subsets = $\\binom{n}{k} ~ n^k$ for $k$ constant\n",
    "- worst case $k=n/2$, number of subsets ~ $2^n/\\sqrt{n}$\n",
    "\n",
    "complexity: $O(2^n \\cdot poly(n))$"
   ]
  },
  {
   "cell_type": "markdown",
   "metadata": {},
   "source": [
    "# The clique problem\n",
    "\n",
    "clique: all nodes are connected to each other\n",
    "\n",
    "## clique in a graph\n",
    "subset of nodes such that each pair of different nodes is connected.\n",
    "\n",
    "### exhaustive search\n",
    "does the graph have a clique of size at most $k$?\n",
    "- try all subset of size k\n",
    "- number of subsets = $\\binom{n}{k} ~ n^k$ for $k$ constant\n",
    "- worst case $k=n/2$, number of subsets ~ $2^n/\\sqrt{n}$\n",
    "\n",
    "complexity: $O(2^n \\cdot poly(n))$"
   ]
  },
  {
   "cell_type": "markdown",
   "metadata": {},
   "source": [
    "# The independent set problem\n",
    "\n",
    "## Independent set\n",
    "subset of nodes such that no pair of different nodes are connected\n",
    "\n",
    "The maximum size of independent set\n",
    "\n",
    "### exhaustive search\n",
    "complexity: $O(2^n \\cdot poly(n))$"
   ]
  },
  {
   "cell_type": "markdown",
   "metadata": {},
   "source": [
    "# examples\n",
    "\n",
    "1. How many edges are there in the inverse of a cycle of length $n$, for $n \\ge 3$?\n",
    "\n",
    ">$4:1+1;5:1+2+2;6:1+2+3+4;7:1+2+3+4+4$\n",
    "\n",
    ">$1+2+\\cdots+n = \\frac{n(n+1)}{2}$\n",
    "\n",
    ">$(n-3)(n-2)/2 + (n-3)$\n",
    "\n",
    "2. Let $G$ be a graph, the inverse of a cycle of length 6. What is the size of the largest clique in $G$?\n",
    "\n",
    "> It is the size of the largest independent set in a cycle of length 6. And we know that this is $\\lfloor n/2 \\rfloor = 3$.\n",
    "\n",
    "3. What is the size of the largest independent set in $G$?\n",
    "\n",
    "> A cycle of length 6 has no triangles, so this graph contains no 3 nodes that are pairwise disjoint. \n",
    "\n",
    "> 2\n",
    "\n",
    "4. What is the minimal size of a vertex cover of $G$?\n",
    "\n",
    "> Four nodes can cover all edges. Any two nodes that are not in the vertex cover must not be connected by an edge. Thus, by the previous result, we can not have more nodes outside the vertex cover.\n",
    "\n",
    "> 4\n",
    "\n",
    "5. What is the minimal size of a vertex cover of a cycle of length $n$, for $n \\ge 3$?\n",
    "\n",
    "> $\\lceil n/2 \\rceil$\n",
    "\n",
    "6. Suppose a graph contains a clique $C$ of size at least 2 and an independent set $I$ of size at least 2. What can you say about the number $|C \\cap I|$ of nodes that belong both to $C$ and $I$? \n",
    "\n",
    "> - The intersection contains at most 1 element. It is possible that the intersection is empty.\n",
    "\n",
    "7. Suppose that, some day, an algorithm is invented that, given a graph with $n$ nodes and an integer $k$, finds two disjoint cliques of size $k$ in the graph or reports that no such cliques exist. Moreover, it does this in time polynomial in $n$. Can you use this algorithm to solve the standard Clique problem in time polynomial in $n$: given a graph and $k$, find a clique of size $k$ or say that no such clique exists?\n",
    "\n",
    "Please select \"yes\" only if you can think of a way to solve the Clique problem using this algorithm.\n",
    "\n",
    "> Yes"
   ]
  }
 ],
 "metadata": {
  "kernelspec": {
   "display_name": "Python 3",
   "language": "python",
   "name": "python3"
  },
  "language_info": {
   "codemirror_mode": {
    "name": "ipython",
    "version": 3
   },
   "file_extension": ".py",
   "mimetype": "text/x-python",
   "name": "python",
   "nbconvert_exporter": "python",
   "pygments_lexer": "ipython3",
   "version": "3.7.9"
  }
 },
 "nbformat": 4,
 "nbformat_minor": 4
}
