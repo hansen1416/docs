{
 "cells": [
  {
   "cell_type": "markdown",
   "metadata": {},
   "source": [
    "$\\binom nk = \\frac{n!}{k!(n-k)!}$"
   ]
  },
  {
   "cell_type": "markdown",
   "metadata": {},
   "source": [
    "$ \\binom nk = \\binom {n-1}{k} + \\binom {n-1}{k-1} $"
   ]
  },
  {
   "cell_type": "markdown",
   "metadata": {},
   "source": [
    "$ \\binom nk = \\frac{n}{k} \\binom {n-1}{k-1} $"
   ]
  },
  {
   "cell_type": "markdown",
   "metadata": {},
   "source": [
    "$ \\binom nk = \\binom {n}{n-k} $"
   ]
  },
  {
   "cell_type": "markdown",
   "metadata": {},
   "source": [
    "$ if \\;\\;  k \\leq \\frac{n}{2} $\n",
    "\n",
    "$ \\binom{n}{k-1} < \\binom{n}{k} $\n",
    "\n",
    "$ if \\;\\;  k \\geq \\frac{n}{2} $\n",
    "\n",
    "$ \\binom{n}{k} > \\binom{n}{k + 1} $\n",
    "\n",
    "in other word, k closer to n/2, the combination is larger"
   ]
  },
  {
   "cell_type": "markdown",
   "metadata": {},
   "source": [
    "Binomial Theorem\n",
    "--\n",
    "\n",
    "$ (a+b)^n = \\sum_{k=0}^{n} \\binom nk a^{n-k}b^k $"
   ]
  },
  {
   "cell_type": "markdown",
   "metadata": {},
   "source": [
    " Table | With repetitions | Withour repetitions  \n",
    " --- |---| ---\n",
    " Ordered      | Tuples  $ {\\Large n^k} $ | k-permutations $ {\\Large\\frac{n!}{(n-k)!}} $  \n",
    " Unordered      | $ {\\Large \\frac{(r+n-1)!}{r!(n-1)!}} $ | Combinations $ {\\Large \\binom{n}{k}} $     "
   ]
  }
 ],
 "metadata": {
  "kernelspec": {
   "display_name": "Python 3",
   "language": "python",
   "name": "python3"
  },
  "language_info": {
   "codemirror_mode": {
    "name": "ipython",
    "version": 3
   },
   "file_extension": ".py",
   "mimetype": "text/x-python",
   "name": "python",
   "nbconvert_exporter": "python",
   "pygments_lexer": "ipython3",
   "version": "3.6.8"
  }
 },
 "nbformat": 4,
 "nbformat_minor": 2
}
