{
 "cells": [
  {
   "cell_type": "code",
   "execution_count": 1,
   "metadata": {},
   "outputs": [],
   "source": [
    "import numpy as np\n",
    "\n",
    "def getVariance(data, ddof=0):\n",
    "    \"\"\"\n",
    "    ddof, 0 population variance, 1 sample variance\n",
    "    \"\"\"\n",
    "    data = np.array(data)\n",
    "#     avg = np.mean(data)\n",
    "    s_var = np.var(data, ddof=ddof)\n",
    "    return s_var"
   ]
  },
  {
   "cell_type": "code",
   "execution_count": 2,
   "metadata": {},
   "outputs": [
    {
     "data": {
      "text/plain": [
       "7.2"
      ]
     },
     "execution_count": 2,
     "metadata": {},
     "output_type": "execute_result"
    }
   ],
   "source": [
    "data = [9,3,8,5,9]\n",
    "getVariance(data, ddof=1)"
   ]
  },
  {
   "cell_type": "code",
   "execution_count": 3,
   "metadata": {},
   "outputs": [
    {
     "name": "stdout",
     "output_type": "stream",
     "text": [
      "4.055555555555556 4.055555555555555\n"
     ]
    }
   ],
   "source": [
    "x1=[2,8,3,5,2,5,2,6,3,5,2,1]\n",
    "x2=[7,13,8,10,7,10,7,11,8,10,7,6]\n",
    "\n",
    "v1 = getVariance(x1)\n",
    "v2 = getVariance(x2)\n",
    "\n",
    "print(v1,v2)"
   ]
  },
  {
   "cell_type": "code",
   "execution_count": 11,
   "metadata": {},
   "outputs": [
    {
     "name": "stdout",
     "output_type": "stream",
     "text": [
      "0.816496580927726\n"
     ]
    }
   ],
   "source": [
    "data = [0,0,1,1,1,2,2]\n",
    "\n",
    "v1 = getVariance(data, ddof=1)\n",
    "\n",
    "print(np.sqrt(v1))"
   ]
  }
 ],
 "metadata": {
  "kernelspec": {
   "display_name": "Python 3",
   "language": "python",
   "name": "python3"
  },
  "language_info": {
   "codemirror_mode": {
    "name": "ipython",
    "version": 3
   },
   "file_extension": ".py",
   "mimetype": "text/x-python",
   "name": "python",
   "nbconvert_exporter": "python",
   "pygments_lexer": "ipython3",
   "version": "3.7.7"
  }
 },
 "nbformat": 4,
 "nbformat_minor": 4
}
