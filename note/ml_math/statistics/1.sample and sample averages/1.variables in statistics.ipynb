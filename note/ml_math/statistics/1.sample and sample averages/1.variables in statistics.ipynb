{
 "cells": [
  {
   "cell_type": "markdown",
   "metadata": {},
   "source": [
    "__Variable transformation__\n",
    "\n",
    "_Label encoder_\n",
    "\n",
    "eg. Moscow => 0, N.Y. => 1, London => 2\n",
    "\n",
    "_One hot encoding_\n",
    "\n",
    "eg. \n",
    "\n",
    "|  | HtMCW | HtNY | HtLD |\n",
    "|--|--|--|--|\n",
    "| MCW | 1 | 0 | 0 |\n",
    "| NY | 0 | 1 | 0 |\n",
    "| LD | 0 | 0 | 1 |\n",
    "\n",
    "_dummy encoding Sometimes we can remove one column, because it's redundant_"
   ]
  }
 ],
 "metadata": {
  "kernelspec": {
   "display_name": "Python 3",
   "language": "python",
   "name": "python3"
  },
  "language_info": {
   "codemirror_mode": {
    "name": "ipython",
    "version": 3
   },
   "file_extension": ".py",
   "mimetype": "text/x-python",
   "name": "python",
   "nbconvert_exporter": "python",
   "pygments_lexer": "ipython3",
   "version": "3.7.7"
  }
 },
 "nbformat": 4,
 "nbformat_minor": 4
}
