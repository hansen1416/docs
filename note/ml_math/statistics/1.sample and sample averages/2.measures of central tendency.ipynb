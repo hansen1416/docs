{
 "cells": [
  {
   "cell_type": "markdown",
   "metadata": {},
   "source": [
    "__Mean__\n",
    "\n",
    "$f = \\sum^{n}_{i=1} (a-x_i)^n$  \n",
    "when $a=\\bar{x} \\;\\; f$ is minimized."
   ]
  },
  {
   "cell_type": "markdown",
   "metadata": {},
   "source": [
    "__Median__\n",
    "\n",
    "$f = \\sum^{n}_{i=1} |a-x_i|$  \n",
    "when $a = \\tilde{x}\\;\\;f$ is minimized."
   ]
  },
  {
   "cell_type": "markdown",
   "metadata": {},
   "source": [
    "__Mode__\n",
    "\n",
    "$f = \\sum^{n}_{i=1}[x_i=a]$ Let $[x=a]$ be a value that is equal to 1 if $x$ equals $a$ and 0 otherwise.   \n",
    "when $a=\\hat{x}\\;\\;f$ is maximized. "
   ]
  }
 ],
 "metadata": {
  "kernelspec": {
   "display_name": "Python 3",
   "language": "python",
   "name": "python3"
  },
  "language_info": {
   "codemirror_mode": {
    "name": "ipython",
    "version": 3
   },
   "file_extension": ".py",
   "mimetype": "text/x-python",
   "name": "python",
   "nbconvert_exporter": "python",
   "pygments_lexer": "ipython3",
   "version": "3.7.7"
  }
 },
 "nbformat": 4,
 "nbformat_minor": 4
}
