{
 "cells": [
  {
   "cell_type": "markdown",
   "metadata": {},
   "source": [
    "__Comparing Averages__\n",
    "\n",
    "With old design average time spent = 3.2 minutes  \n",
    "\n",
    "With new design, time spent = 4,2,6,3,5, average = 4\n",
    "\n",
    "Another possible outcome, time spent = 4, 4.1, 3.9, 4.03, 3.97, average = 4\n",
    "\n",
    "---\n",
    "\n",
    "We have to take into account:\n",
    "\n",
    "1. statistical dispersion (e.g. variance)\n",
    "\n",
    "2. difference between averages\n",
    "\n",
    "3. sample size"
   ]
  },
  {
   "cell_type": "markdown",
   "metadata": {},
   "source": [
    "__One-sample Student's t-test__\n",
    "\n",
    "$ x_1, x_2, \\dots x_n $ i.i.d sample from $X \\;;\\; \\mathbb{E}X = \\mu \\;;\\; VarX < \\infty $\n",
    "\n",
    "$H_0:\\mu = \\mu_0$\n",
    "\n",
    "Stratergy: \n",
    "\n",
    "1. Assume $\\mu_0$ holds\n",
    "\n",
    "2. Find theoretical distribution of $\\bar{X}$\n",
    "\n",
    "according to central limited theorem, if n is large $\\bar{X} \\sim \\mathcal{N}(\\mu_0, \\frac{VarX}{n})$  \n",
    "$\\mathbb{E}X = \\mu_0, std \\bar{X} = \\frac{std X}{\\sqrt{n}}$\n",
    "\n",
    "\n",
    "Z score = $\\frac{\\bar{x}-\\mathbb{E}X}{std X} \\cdot \\sqrt{n} \\sim \\mathcal{N}(0,1)$\n",
    "\n",
    "t score, $t(x) = \\frac{\\bar{x}-\\mu_0}{std x} \\cdot \\sqrt{n} \\sim T- distribution$\n",
    "\n",
    "T- distribution is similar to normal distribution, but for small values of n there is some differnce."
   ]
  },
  {
   "cell_type": "code",
   "execution_count": 12,
   "metadata": {},
   "outputs": [
    {
     "name": "stdout",
     "output_type": "stream",
     "text": [
      "0.0 3.7027027027027017 nan inf\n"
     ]
    },
    {
     "data": {
      "text/plain": [
       "[<matplotlib.lines.Line2D at 0x7f39763a9d90>]"
      ]
     },
     "execution_count": 12,
     "metadata": {},
     "output_type": "execute_result"
    },
    {
     "data": {
      "image/png": "[encoded data removed]",
      "text/plain": [
       "<Figure size 432x288 with 1 Axes>"
      ]
     },
     "metadata": {
      "needs_background": "light"
     },
     "output_type": "display_data"
    }
   ],
   "source": [
    "from scipy.stats import t, norm\n",
    "import matplotlib.pyplot as plt\n",
    "import numpy as np\n",
    "\n",
    "fig, ax = plt.subplots(1, 1)\n",
    "\n",
    "df = 2.74\n",
    "mean, var, skew, kurt = t.stats(df, moments='mvsk')\n",
    "\n",
    "print(mean, var, skew, kurt)\n",
    "\n",
    "x = np.linspace(t.ppf(0.01, df),\n",
    "                t.ppf(0.99, df), 100)\n",
    "ax.plot(x, t.pdf(x, df),\n",
    "       'r-', lw=5, alpha=0.6, label='t pdf')\n",
    "\n",
    "mean, var, skew, kurt = norm.stats(moments='mvsk')\n",
    "\n",
    "x = np.linspace(norm.ppf(0.01),\n",
    "                norm.ppf(0.99), 100)\n",
    "ax.plot(x, norm.pdf(x),\n",
    "       'b-', lw=5, alpha=0.6, label='norm pdf')"
   ]
  },
  {
   "cell_type": "markdown",
   "metadata": {},
   "source": [
    "$P(t(x_{obs}) > t_{critical}) < \\alpha$ provided $H_0$\n",
    "\n",
    "If $t(x_{obs}) > t_{critical} \\implies $ reject $H_0$\n",
    "\n",
    "p-value$(x_{obs}) = P(t(x)>t(x_{obs}) | H_0)$\n",
    "\n",
    "\n",
    "t score, $t(x) = {\\large \\frac{\\bar{x}-\\mu_0}{std x}} \\cdot \\sqrt{n}$\n",
    "\n",
    "\n",
    "_First of all, we have this difference between the sample mean that we observed and this mean that is here in null hypothesis. The larger this difference, the larger t-score. And it means that the more chances to reject null hypothesis._ \n",
    "\n",
    "_Then we have this standard deviation of x in the denominator. The larger standard deviation, the smaller the t-score but the smaller standard deviation, the larger the t-score. So if we have small deviation in our data, it leads to larger t-scores._   \n",
    "\n",
    "_And again the larger t-score the more chances to reject null hypothesis. And finally it takes into account the number of elements in our sample due to this factor. Again the largest sample, the more chances to reject null hypothesis because we have the larger t-score. So this t- score takes into account all that we have to take into account._"
   ]
  },
  {
   "cell_type": "markdown",
   "metadata": {},
   "source": [
    "_example_\n",
    "\n",
    "Average weight of mature ear of corn is 175 grams. It's believed that the weight is normally distributed with standard deviation 8. The farmer picks an ear randomly. What is the probability that this corn weights more than 180 grams?\n",
    "\n",
    "You can use scipy.stats.norm function. Recall that it has two arguments that define parameters of distribution: expected value and standard deviation. The resulting object has .cdf method that allows to find cumulative distribution function.\n",
    "\n",
    "Enter numeric value with 4 digits after decimal point."
   ]
  },
  {
   "cell_type": "code",
   "execution_count": 26,
   "metadata": {},
   "outputs": [
    {
     "data": {
      "text/plain": [
       "0.26598552904870054"
      ]
     },
     "execution_count": 26,
     "metadata": {},
     "output_type": "execute_result"
    }
   ],
   "source": [
    "from scipy.stats import t, norm\n",
    "import matplotlib.pyplot as plt\n",
    "import numpy as np\n",
    "\n",
    "rv = norm(loc=175, scale=8)\n",
    "\n",
    "# x = np.linspace(125,\n",
    "#                 225, 100)\n",
    "# plt.plot(x, rv.pdf(x),\n",
    "#        'y-', label='norm pdf')\n",
    "1- rv.cdf(180)"
   ]
  },
  {
   "cell_type": "markdown",
   "metadata": {},
   "source": [
    "Find z-score that corresponds to the previous question. Recall that z-score is a transformation that allows us to obtain standard normal distribution from some other normal distribution. In this case we have to use formula\n",
    "\n",
    "$z=\\frac{x-\\mu_0}{\\sigma_X}$,\n",
    "\n",
    "where $\\mu_0$ is expected value of $X$ and $\\sigma_X$ is its standard deviation.\n",
    "\n",
    "(Here we consider distribution of x, ear's weights, and not some sample average, thus we don't have any 'sample size' terms in the formula.)"
   ]
  },
  {
   "cell_type": "code",
   "execution_count": 30,
   "metadata": {},
   "outputs": [
    {
     "data": {
      "text/plain": [
       "0.625"
      ]
     },
     "execution_count": 30,
     "metadata": {},
     "output_type": "execute_result"
    }
   ],
   "source": [
    "z = (180-175)/8\n",
    "z"
   ]
  },
  {
   "cell_type": "markdown",
   "metadata": {},
   "source": [
    "Find probability that standard normal random variable takes value larger than z-score found in previous question."
   ]
  },
  {
   "cell_type": "code",
   "execution_count": 36,
   "metadata": {},
   "outputs": [
    {
     "data": {
      "text/plain": [
       "0.26598552904870054"
      ]
     },
     "execution_count": 36,
     "metadata": {},
     "output_type": "execute_result"
    },
    {
     "data": {
      "image/png": "[encoded data removed]",
      "text/plain": [
       "<Figure size 432x288 with 1 Axes>"
      ]
     },
     "metadata": {
      "needs_background": "light"
     },
     "output_type": "display_data"
    }
   ],
   "source": [
    "std_norm = norm()\n",
    "\n",
    "x = np.linspace(-10,\n",
    "                10, 100)\n",
    "plt.plot(x, std_norm.pdf(x),\n",
    "       'y-', label='norm pdf')\n",
    "\n",
    "1-std_norm.cdf(0.625)"
   ]
  },
  {
   "cell_type": "markdown",
   "metadata": {},
   "source": [
    "Assume that the farmer selected nine random ears. (Assume that the overall number of ears is very large, so we may think about selection process as sampling with replacement.) Find standard deviation of their mean weight considered as a random variable. This value is also known as standard error of mean. Enter ordinary fraction.\n",
    "\n",
    "$\\sigma_{\\bar{x}} = \\frac{\\sigma}{\\sqrt{n}} = \\frac{8}{\\sqrt{9}} = \\frac{8}{3}$"
   ]
  },
  {
   "cell_type": "markdown",
   "metadata": {},
   "source": [
    "The weights of selected ears are 182, 184, 166, 160, 190, 175, 174, 183 and 170 grams. (Farmer's weighting machine has precision 1 gram and gives integer results.) Sample average is 176. Farmer asks, what is the probability to obtain sample average as large as 176 if he repeat this experiment? Enter numeric value with 3 digits after the decimal point."
   ]
  },
  {
   "cell_type": "code",
   "execution_count": 39,
   "metadata": {},
   "outputs": [
    {
     "data": {
      "text/plain": [
       "0.35383023332727626"
      ]
     },
     "execution_count": 39,
     "metadata": {},
     "output_type": "execute_result"
    }
   ],
   "source": [
    "rv_s = norm(loc=175, scale=8/3)\n",
    "\n",
    "1-rv_s.cdf(176)"
   ]
  },
  {
   "cell_type": "markdown",
   "metadata": {},
   "source": [
    "Find z-score that corresponds to the previous problem."
   ]
  },
  {
   "cell_type": "code",
   "execution_count": 40,
   "metadata": {},
   "outputs": [
    {
     "data": {
      "text/plain": [
       "0.375"
      ]
     },
     "execution_count": 40,
     "metadata": {},
     "output_type": "execute_result"
    }
   ],
   "source": [
    "z = (176-175)/8 * 3\n",
    "z"
   ]
  },
  {
   "cell_type": "markdown",
   "metadata": {},
   "source": [
    "Let us assume that we don't know standard deviation of corn's ear and try to estimate it from the sample. Enter sample standard deviation for the discussed sample. (Recall that sample standard deviation is a square root of unbiased sample variance.) Enter numeric value with 2 digits after decimal point."
   ]
  },
  {
   "cell_type": "code",
   "execution_count": 49,
   "metadata": {},
   "outputs": [
    {
     "data": {
      "text/plain": [
       "9.630680142129112"
      ]
     },
     "execution_count": 49,
     "metadata": {},
     "output_type": "execute_result"
    }
   ],
   "source": [
    "a = [182, 184, 166, 160, 190, 175, 174, 183, 170]\n",
    "\n",
    "np.std(a, ddof=1)"
   ]
  },
  {
   "cell_type": "markdown",
   "metadata": {},
   "source": [
    "F​ind t-score (also known as t-statistics or t-value) for given sample. Enter numeric value with two digits after the decimal point."
   ]
  },
  {
   "cell_type": "code",
   "execution_count": 54,
   "metadata": {},
   "outputs": [
    {
     "data": {
      "text/plain": [
       "0.33040039419645856"
      ]
     },
     "execution_count": 54,
     "metadata": {},
     "output_type": "execute_result"
    }
   ],
   "source": [
    "biased_v = np.std(a)\n",
    "t = (176-175)/biased_v * 3\n",
    "t"
   ]
  }
 ],
 "metadata": {
  "kernelspec": {
   "display_name": "Python 3",
   "language": "python",
   "name": "python3"
  },
  "language_info": {
   "codemirror_mode": {
    "name": "ipython",
    "version": 3
   },
   "file_extension": ".py",
   "mimetype": "text/x-python",
   "name": "python",
   "nbconvert_exporter": "python",
   "pygments_lexer": "ipython3",
   "version": "3.7.9"
  }
 },
 "nbformat": 4,
 "nbformat_minor": 4
}
