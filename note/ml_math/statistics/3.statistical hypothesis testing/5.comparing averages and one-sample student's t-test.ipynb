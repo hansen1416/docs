{
 "cells": [
  {
   "cell_type": "markdown",
   "metadata": {},
   "source": [
    "__Comparing Averages__\n",
    "\n",
    "With old design average time spent = 3.2 minutes  \n",
    "\n",
    "With new design, time spent = 4,2,6,3,5, average = 4\n",
    "\n",
    "Another possible outcome, time spent = 4, 4.1, 3.9, 4.03, 3.97, average = 4\n",
    "\n",
    "---\n",
    "\n",
    "We have to take into account:\n",
    "\n",
    "1. statistical dispersion (e.g. variance)\n",
    "\n",
    "2. difference between averages\n",
    "\n",
    "3. sample size"
   ]
  },
  {
   "cell_type": "markdown",
   "metadata": {},
   "source": [
    "__One-sample Student's t-test__\n",
    "\n",
    "$ x_1, x_2, \\dots x_n $ i.i.d sample from $X \\;;\\; \\mathbb{E}X = \\mu \\;;\\; VarX < \\infty $\n",
    "\n",
    "$H_0:\\mu = \\mu_0$\n",
    "\n",
    "Stratergy: \n",
    "\n",
    "1. Assume $\\mu_0$ holds\n",
    "\n",
    "2. Find theoretical distribution of $\\bar{X}$\n",
    "\n",
    "according to central limited theorem, if n is large $\\bar{X} \\sim \\mathcal{N}(\\mu_0, \\frac{VarX}{n})$  \n",
    "$\\mathbb{E}X = \\mu_0, std \\bar{X} = \\frac{std X}{\\sqrt{n}}$\n",
    "\n",
    "\n",
    "Z score = $\\frac{\\bar{x}-\\mathbb{E}X}{std X} \\cdot \\sqrt{n} \\sim \\mathcal{N}(0,1)$\n",
    "\n",
    "t score, $t(x) = \\frac{\\bar{x}-\\mu_0}{std x} \\cdot \\sqrt{n} \\sim T- distribution$\n",
    "\n",
    "T- distribution is similar to normal distribution, but for small values of n there is some differnce."
   ]
  },
  {
   "cell_type": "code",
   "execution_count": 12,
   "metadata": {},
   "outputs": [
    {
     "name": "stdout",
     "output_type": "stream",
     "text": [
      "0.0 3.7027027027027017 nan inf\n"
     ]
    },
    {
     "data": {
      "text/plain": [
       "[<matplotlib.lines.Line2D at 0x7f39763a9d90>]"
      ]
     },
     "execution_count": 12,
     "metadata": {},
     "output_type": "execute_result"
    },
    {
     "data": {
      "image/png": "[encoded data removed]",
      "text/plain": [
       "<Figure size 432x288 with 1 Axes>"
      ]
     },
     "metadata": {
      "needs_background": "light"
     },
     "output_type": "display_data"
    }
   ],
   "source": [
    "from scipy.stats import t, norm\n",
    "import matplotlib.pyplot as plt\n",
    "import numpy as np\n",
    "\n",
    "fig, ax = plt.subplots(1, 1)\n",
    "\n",
    "df = 2.74\n",
    "mean, var, skew, kurt = t.stats(df, moments='mvsk')\n",
    "\n",
    "print(mean, var, skew, kurt)\n",
    "\n",
    "x = np.linspace(t.ppf(0.01, df),\n",
    "                t.ppf(0.99, df), 100)\n",
    "ax.plot(x, t.pdf(x, df),\n",
    "       'r-', lw=5, alpha=0.6, label='t pdf')\n",
    "\n",
    "mean, var, skew, kurt = norm.stats(moments='mvsk')\n",
    "\n",
    "x = np.linspace(norm.ppf(0.01),\n",
    "                norm.ppf(0.99), 100)\n",
    "ax.plot(x, norm.pdf(x),\n",
    "       'b-', lw=5, alpha=0.6, label='norm pdf')"
   ]
  },
  {
   "cell_type": "markdown",
   "metadata": {},
   "source": [
    "$P(t(X_{obs}) > t_{critical}) < \\alpha$ provided $H_0$\n",
    "\n",
    "If $t(X_{obs}) > t_{critical} \\implies $ reject $H_0$"
   ]
  }
 ],
 "metadata": {
  "kernelspec": {
   "display_name": "Python 3",
   "language": "python",
   "name": "python3"
  },
  "language_info": {
   "codemirror_mode": {
    "name": "ipython",
    "version": 3
   },
   "file_extension": ".py",
   "mimetype": "text/x-python",
   "name": "python",
   "nbconvert_exporter": "python",
   "pygments_lexer": "ipython3",
   "version": "3.7.9"
  }
 },
 "nbformat": 4,
 "nbformat_minor": 4
}
