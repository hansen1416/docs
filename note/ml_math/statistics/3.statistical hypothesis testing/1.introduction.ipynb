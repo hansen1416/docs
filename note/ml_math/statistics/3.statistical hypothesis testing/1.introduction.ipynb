{
 "cells": [
  {
   "cell_type": "markdown",
   "metadata": {},
   "source": [
    "__Statistic Hypothesis testing__\n",
    "\n",
    "Coin with unknown prob. of head, $p$\n",
    "\n",
    "$H_0 : p = \\frac{1}{2}$\n",
    "\n",
    "$H_1 : p > \\frac{1}{2}$\n",
    "\n",
    "number of heads $X \\sim Bin(n,p)$\n",
    "\n",
    "---\n",
    "\n",
    "Assume $n=3$ and $H_0$ holds,\n",
    "\n",
    "Let $X_{obs} = 3,\\; P(X=3|H_0) = \\frac{1}{2}^3 = \\frac{1}{8}$\n",
    "\n",
    "_It doesn't necessarily imply the coin is biased in favor of heads, becasue 1/8 is large enough_  \n",
    "_no strong evidence against $H_0$ in favor of $H_1$_\n",
    "\n",
    "---\n",
    "\n",
    "Assume $n=30$ and $H_0$ holds,\n",
    "\n",
    "Let $X_{obs} = 30,\\; P(X=3|H_0) = \\frac{1}{2}^30 = \\frac{1}{1073741824} = 9.313225746154785e-10$\n",
    "\n",
    "_strong evidence against $H_0$ in favor of $H_1$_"
   ]
  }
 ],
 "metadata": {
  "kernelspec": {
   "display_name": "Python 3",
   "language": "python",
   "name": "python3"
  },
  "language_info": {
   "codemirror_mode": {
    "name": "ipython",
    "version": 3
   },
   "file_extension": ".py",
   "mimetype": "text/x-python",
   "name": "python",
   "nbconvert_exporter": "python",
   "pygments_lexer": "ipython3",
   "version": "3.7.9"
  }
 },
 "nbformat": 4,
 "nbformat_minor": 4
}
