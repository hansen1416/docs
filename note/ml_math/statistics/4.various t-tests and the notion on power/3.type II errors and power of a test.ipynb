{
 "cells": [
  {
   "cell_type": "markdown",
   "metadata": {},
   "source": [
    "__Type II errors and power of a test__\n",
    "\n",
    "|  | do not reject $H_0$ | reject $H_0$ in favor of $H_1$ |  |\n",
    "|--|--|--|--|\n",
    "| $H_0$ is true | correct | type I error | $\\alpha$ |\n",
    "| $H_0$ is false | type II error | correct |  |\n",
    "| | $\\beta$ | | |\n",
    "\n",
    "$\\alpha = P(\\mbox{reject}\\; H_0 | H_0 \\;\\mbox{is true})$\n",
    "\n",
    "$\\beta = P(\\mbox{not reject}\\; H_0 | H_0 \\;\\mbox{is false})$"
   ]
  },
  {
   "cell_type": "markdown",
   "metadata": {},
   "source": [
    "We have the following trade-off; if Alpha increases, then Beta decreases and vice versa.\n",
    "\n",
    "In scientific settings we usually just fix this Alpha and then analyze the design of our experiment to find this Beta and check if this Beta is on appropriate level."
   ]
  },
  {
   "cell_type": "markdown",
   "metadata": {},
   "source": [
    "1 sample t test\n",
    "\n",
    "$x_1, x_2, \\ldots, x_n \\sim i.i.d. \\sim X$\n",
    "\n",
    "$\\bar{x}$\n",
    "\n",
    "$H_0: \\mathbb{E}X = \\mu_0$\n",
    "\n",
    "$H_1: \\mathbb{E}X > \\mu_0$"
   ]
  },
  {
   "cell_type": "code",
   "execution_count": 4,
   "metadata": {},
   "outputs": [],
   "source": [
    "import matplotlib.pyplot as plt\n",
    "import numpy as np\n",
    "from scipy.stats import norm"
   ]
  },
  {
   "cell_type": "code",
   "execution_count": 35,
   "metadata": {},
   "outputs": [
    {
     "data": {
      "image/png": "[encoded data removed]",
      "text/plain": [
       "<Figure size 432x288 with 1 Axes>"
      ]
     },
     "metadata": {
      "needs_background": "light"
     },
     "output_type": "display_data"
    }
   ],
   "source": [
    "x = np.linspace(-5, 7, 200)\n",
    "\n",
    "d1 = norm()\n",
    "d2 = norm(loc=2)\n",
    "\n",
    "fig, ax = plt.subplots()\n",
    "\n",
    "mu0 = 0\n",
    "mu = 2\n",
    "alpha = 3.6\n",
    "\n",
    "plt.xticks([mu0, mu, alpha], ['mu_0', 'mu', 'x_critical'])\n",
    "plt.yticks([])\n",
    "\n",
    "ax.plot(x, d1.pdf(x))\n",
    "ax.plot(x, d2.pdf(x))\n",
    "\n",
    "beta = np.linspace(-5, alpha, 200)\n",
    "ax.fill_between(beta, d2.pdf(beta), alpha=0.2)\n",
    "\n",
    "plt.show()\n",
    "\n",
    "# the shadowed area is beta"
   ]
  },
  {
   "cell_type": "markdown",
   "metadata": {},
   "source": [
    "To find beta we have to know\n",
    "\n",
    "1. Type of a test\n",
    "2. VarX (approximated by Var x), (to draw the distribution)\n",
    "3. Sample size\n",
    "4. Magnitude of an effect ($\\delta = \\mu - \\mu_0$)\n",
    "5. Significant level $\\alpha$\n",
    "\n",
    "Power of a test = 1-$\\beta$"
   ]
  },
  {
   "cell_type": "markdown",
   "metadata": {},
   "source": [
    "Consider binomial test (like we discussed on the previous week). Let $X$ be binomially distributed random variable with $n$ trials and probability of succcess $p$. Null hypothesis is $p=1/2$, alternative is $p>1/2$. We perform a test with significance level 5%. Let $n=10$. For which values of $X_{obs}$ sampled from $X$ would you reject null hypothesis? (In other words: how many times a magician have to guess the result of coin tossing correctly if we toss a coin 10 times?) Mark all appropriate values."
   ]
  },
  {
   "cell_type": "code",
   "execution_count": 36,
   "metadata": {},
   "outputs": [
    {
     "name": "stdout",
     "output_type": "stream",
     "text": [
      "0.0009765625 0.0107421875 0.0556640625\n"
     ]
    }
   ],
   "source": [
    "p_ge10 = 0.5**10\n",
    "p_ge9 = 10 * 0.5**10 + p_ge10\n",
    "p_ge8 = (10 * 9/2) * 0.5**10 + p_ge9 + p_ge10\n",
    "\n",
    "print(p_ge10,p_ge9,p_ge8)"
   ]
  },
  {
   "cell_type": "code",
   "execution_count": 50,
   "metadata": {},
   "outputs": [
    {
     "data": {
      "text/plain": [
       "0.0107421875"
      ]
     },
     "execution_count": 50,
     "metadata": {},
     "output_type": "execute_result"
    }
   ],
   "source": [
    "from scipy.stats import binom\n",
    "\n",
    "rv = binom(10, 0.5)\n",
    "\n",
    "1-rv.cdf(8) # note this value does not include k=8"
   ]
  },
  {
   "cell_type": "markdown",
   "metadata": {},
   "source": [
    "magician have to guess the result of coin tossing correctly __9, 10__ times, significant level 5%"
   ]
  },
  {
   "cell_type": "markdown",
   "metadata": {},
   "source": [
    "Assume that correct value of $p$ equals to $2/3$ (but you don't know it). What is the probability to reject null hypothesis using the criteria you stated in the previous question? Enter numeric value with two digits after the decimal point."
   ]
  },
  {
   "cell_type": "code",
   "execution_count": 47,
   "metadata": {},
   "outputs": [
    {
     "data": {
      "text/plain": [
       "0.10404917949499559"
      ]
     },
     "execution_count": 47,
     "metadata": {},
     "output_type": "execute_result"
    }
   ],
   "source": [
    "rv = binom(10, 2/3)\n",
    "\n",
    "# rv.pmf(9) + rv.pmf(10)\n",
    "# 10 * (2/3)**9 * 1/3 + (2/3)**10\n",
    "1-rv.cdf(8) # note this value does not include k=8"
   ]
  },
  {
   "cell_type": "markdown",
   "metadata": {},
   "source": [
    "What is the probability to not reject null hypothesis in this case? Enter numeric value with 2 digits after the decimal point."
   ]
  },
  {
   "cell_type": "code",
   "execution_count": 48,
   "metadata": {},
   "outputs": [
    {
     "data": {
      "text/plain": [
       "0.8959508205050044"
      ]
     },
     "execution_count": 48,
     "metadata": {},
     "output_type": "execute_result"
    }
   ],
   "source": [
    "# this is type II error beta. probability of not reject null hypothesis when it's false\n",
    "rv.cdf(8)"
   ]
  },
  {
   "cell_type": "markdown",
   "metadata": {},
   "source": [
    "What is the power of our test under these conditions? Enter numeric value with 2 digits after the decimal point."
   ]
  },
  {
   "cell_type": "code",
   "execution_count": 52,
   "metadata": {},
   "outputs": [
    {
     "data": {
      "text/plain": [
       "0.0107421875"
      ]
     },
     "execution_count": 52,
     "metadata": {},
     "output_type": "execute_result"
    }
   ],
   "source": [
    "# power of a test is 1-beta\n",
    "1-rv.cdf(8)"
   ]
  },
  {
   "cell_type": "markdown",
   "metadata": {},
   "source": [
    "What is the power of our test if pp equals to $3/4$? Enter numeric value with 2 digits after the decimal point."
   ]
  },
  {
   "cell_type": "code",
   "execution_count": 53,
   "metadata": {},
   "outputs": [
    {
     "data": {
      "text/plain": [
       "0.24402523040771484"
      ]
     },
     "execution_count": 53,
     "metadata": {},
     "output_type": "execute_result"
    }
   ],
   "source": [
    "rv = binom(10, 3/4)\n",
    "\n",
    "1-rv.cdf(8)"
   ]
  },
  {
   "cell_type": "markdown",
   "metadata": {},
   "source": [
    "_example_\n",
    "\n",
    "Consider binomial test (like we discussed on the previous week). Let $X$ be binomially distributed random variable with nn trials and probability of succcess $p$. Null hypothesis is $p=1/2$, alternative is $p\\ne 1/2$. We perform a test with significance level 5%. Let $n=10$. For which values of $X_{obs}$ sampled from $X$ would you reject null hypothesis? (In other words: how many times a magician have to guess the result of coin tossing correctly if we toss a coin 10 times?) Mark all appropriate values."
   ]
  },
  {
   "cell_type": "code",
   "execution_count": 58,
   "metadata": {},
   "outputs": [
    {
     "data": {
      "text/plain": [
       "0.021484374999999997"
      ]
     },
     "execution_count": 58,
     "metadata": {},
     "output_type": "execute_result"
    }
   ],
   "source": [
    "from scipy.stats import binom\n",
    "\n",
    "rv = binom(10, 0.5)\n",
    "\n",
    "rv.cdf(1)*2  # 0, 1, 9, 10"
   ]
  },
  {
   "cell_type": "markdown",
   "metadata": {},
   "source": [
    "Assume that correct value of pp equals to $2/3$ (but you don't know it). What is the probability to reject null hypothesis using the criteria you stated in the previous question? Enter numeric value with 8 digits after the decimal point."
   ]
  },
  {
   "cell_type": "code",
   "execution_count": 69,
   "metadata": {},
   "outputs": [
    {
     "data": {
      "text/plain": [
       "0.10440481633897263"
      ]
     },
     "execution_count": 69,
     "metadata": {},
     "output_type": "execute_result"
    }
   ],
   "source": [
    "rv2 = binom(10, 2/3)\n",
    "\n",
    "(1-rv2.cdf(8)) + rv2.cdf(1)"
   ]
  },
  {
   "cell_type": "markdown",
   "metadata": {},
   "source": [
    "What is the power of our test under these conditions? Enter numeric value with 8 digits after the decimal point.\n",
    "\n",
    "same as above, which is $1-\\beta$"
   ]
  },
  {
   "cell_type": "markdown",
   "metadata": {},
   "source": [
    "What is the power of our test if pp equals to $3/4$? Enter numeric value with 6 digits after the decimal point."
   ]
  },
  {
   "cell_type": "code",
   "execution_count": 71,
   "metadata": {},
   "outputs": [
    {
     "data": {
      "text/plain": [
       "0.24405479431152344"
      ]
     },
     "execution_count": 71,
     "metadata": {},
     "output_type": "execute_result"
    }
   ],
   "source": [
    "rv3 = binom(10, 3/4)\n",
    "\n",
    "(1-rv3.cdf(8)) + rv3.cdf(1)"
   ]
  },
  {
   "cell_type": "markdown",
   "metadata": {},
   "source": [
    "_example_\n",
    "\n",
    "Question 1\n",
    "Assume that we want to perform one-sample t-test with null hypothesis $\\mathbb EX=0$ and an alternative $\\mathbb EX > 0$. We have an i.i.d. sample $x=(x_1, \\ldots, x_{n})$ from $X$. Let $n=100$. To simplify calculations, let us assume that we have large enough sample to reliably estimate variance of $X$ from the data and apply central limit theorem. In other words, we will assume that sample mean $\\bar x$ is distributed under normal law with expected value $\\mathbb EX$ and variance that is equal to $\\mathrm{\\mathop{Var}}_{+}(x)/n$, where $\\mathrm{\\mathop{Var}}_{+}(x)$ is unbiased sample variance of $x$. Assume that $\\mathrm{\\mathop{Var}}_{+}(x)=5$.\n",
    "\n",
    "Find value $x_{crit}$ such that probability to observe $\\bar x\\ge x_{crit}$ is equal to 0.05. (Use scipy.stats.norm.ppf.) Enter numeric value with 2 digits after the decimal point."
   ]
  },
  {
   "cell_type": "code",
   "execution_count": 80,
   "metadata": {},
   "outputs": [
    {
     "data": {
      "text/plain": [
       "0.3678004522900572"
      ]
     },
     "execution_count": 80,
     "metadata": {},
     "output_type": "execute_result"
    }
   ],
   "source": [
    "import numpy as np\n",
    "from scipy.stats import norm\n",
    "\n",
    "x = norm(loc=0, scale = np.sqrt(5/100))\n",
    "\n",
    "x.ppf(0.95)"
   ]
  },
  {
   "cell_type": "markdown",
   "metadata": {},
   "source": [
    "Assume that correct $\\mathbb EX=0.5$. Find probability to observe $\\bar x < x_{crit}$ in this case. (Use $x_{crit}$ found previously. Take into account correct distribution of $\\bar x$ Enter numeric value with two digits after the decimal point."
   ]
  },
  {
   "cell_type": "code",
   "execution_count": 86,
   "metadata": {},
   "outputs": [
    {
     "data": {
      "text/plain": [
       "0.27718772676070075"
      ]
     },
     "execution_count": 86,
     "metadata": {},
     "output_type": "execute_result"
    }
   ],
   "source": [
    "x1= norm(loc=0.5, scale = np.sqrt(5/100))\n",
    "\n",
    "x1.cdf(0.3678)"
   ]
  },
  {
   "cell_type": "markdown",
   "metadata": {},
   "source": [
    "Find probability to not reject null hypothesis under these conditions. Enter numeric value with two digits after the decimal point.\n",
    "\n",
    "same as above"
   ]
  },
  {
   "cell_type": "markdown",
   "metadata": {},
   "source": [
    "Find probability to make type II error under these conditions. (Provided that correct $\\mathbb EX=0.5$) Enter numeric value with two digits after the decimal point.\n",
    "\n",
    "same as above"
   ]
  },
  {
   "cell_type": "markdown",
   "metadata": {},
   "source": [
    "Find power of a test under these conditions. Enter numeric value with two digits after the decimal point.\n",
    "\n",
    "$1-\\beta = 1-0.27718772676070075 = 0.73$"
   ]
  },
  {
   "cell_type": "markdown",
   "metadata": {},
   "source": [
    "Find power of a test provided that correct $\\mathbb EX=1$. Enter numeric value with two digits after the decimal point."
   ]
  },
  {
   "cell_type": "code",
   "execution_count": 89,
   "metadata": {},
   "outputs": [
    {
     "data": {
      "text/plain": [
       "0.9976527688863148"
      ]
     },
     "execution_count": 89,
     "metadata": {},
     "output_type": "execute_result"
    }
   ],
   "source": [
    "x2 = norm(loc=1, scale = np.sqrt(5/100))\n",
    "\n",
    "1- x2.cdf(0.3678)"
   ]
  }
 ],
 "metadata": {
  "kernelspec": {
   "display_name": "Python 3",
   "language": "python",
   "name": "python3"
  },
  "language_info": {
   "codemirror_mode": {
    "name": "ipython",
    "version": 3
   },
   "file_extension": ".py",
   "mimetype": "text/x-python",
   "name": "python",
   "nbconvert_exporter": "python",
   "pygments_lexer": "ipython3",
   "version": "3.7.9"
  }
 },
 "nbformat": 4,
 "nbformat_minor": 4
}
