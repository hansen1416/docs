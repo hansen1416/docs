{
 "cells": [
  {
   "cell_type": "markdown",
   "metadata": {},
   "source": [
    "_caveats_\n",
    "\n",
    "- p-value is __not__ a probability that null hypothesis is false\n",
    "- if we do not reject null hypothesis, it does not mean we accept it.\n",
    "- if we do not reject null hypothesis, it is possible that we just need to collect more data to \"see\" the effect.\n",
    "- in any case, there is a change of error (type I or type II)"
   ]
  },
  {
   "cell_type": "markdown",
   "metadata": {},
   "source": [
    "__How to test a drug__\n",
    "\n",
    ">Describe this problem in terms of statistical hypothesis testing framework. How would you model your data in terms of random variables? \n",
    "\n",
    "I would model the sample data from random variables that is close enough to normal distributions. Because t-distribution is actually distributed under the law that samples are large enough or our data are close enough to normal distributions.\n",
    "\n",
    "---\n",
    "> State the null hypothesis and the alternative. Will your alternative be one-sided or two-sided? Why? \n",
    "\n",
    "$H_0:$ the drug is not effective. $\\mu_x = \\mu_y$\n",
    "\n",
    "$H_1:$ the drug is effective. $\\mu_x < \\mu_y$\n",
    "\n",
    "The alternative is one-sided. Because we are only interested in if the drug can help people recover faster. We are assuming that the drug will not make patients' condition worse, it's either effective or ineffective.\n",
    "\n",
    "---\n",
    "> What kind of statistical test will you use? Why this test? \n",
    "\n",
    "I will use two sample t-test. Because the two samples are independent. Control group and treatment group are not related, and one group takes drug another takes placebo.\n",
    "\n",
    "---\n",
    "> Use this test (apply Python if necessary and provide your code), analyse the results and provide a conclusion in mathematical and real-life terms. Would you invest into production of this drug?"
   ]
  },
  {
   "cell_type": "code",
   "execution_count": 1,
   "metadata": {},
   "outputs": [],
   "source": [
    "import numpy as np\n",
    "from scipy.stats import ttest_ind"
   ]
  },
  {
   "cell_type": "code",
   "execution_count": 2,
   "metadata": {},
   "outputs": [
    {
     "data": {
      "text/plain": [
       "(2.076923076923078, 0.026452854031349084)"
      ]
     },
     "execution_count": 2,
     "metadata": {},
     "output_type": "execute_result"
    }
   ],
   "source": [
    "sample1 = [6,7,7,5,7,8,8,7,7,7]\n",
    "sample2 = [7,6,6,5,5,6,7,5,5,8]\n",
    "\n",
    "t_stat, p_value = ttest_ind(sample1, sample2, equal_var=False)\n",
    "\n",
    "t_stat, p_value/2"
   ]
  },
  {
   "cell_type": "markdown",
   "metadata": {},
   "source": [
    "The p-value 0.026 provide strong evidence to reject the null hypothesis, if we choose significant level 5%. I would invest into production of this drug.    \n",
    "\n",
    "But in real-life, we would want to have very small type I error, becasue we don't want to give patients ineffective drugs. We could choose siginificant level 2%, and we look for another drug."
   ]
  }
 ],
 "metadata": {
  "kernelspec": {
   "display_name": "Python 3",
   "language": "python",
   "name": "python3"
  },
  "language_info": {
   "codemirror_mode": {
    "name": "ipython",
    "version": 3
   },
   "file_extension": ".py",
   "mimetype": "text/x-python",
   "name": "python",
   "nbconvert_exporter": "python",
   "pygments_lexer": "ipython3",
   "version": "3.7.9"
  }
 },
 "nbformat": 4,
 "nbformat_minor": 4
}
