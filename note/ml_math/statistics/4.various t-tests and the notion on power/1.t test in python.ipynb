{
 "cells": [
  {
   "cell_type": "code",
   "execution_count": 1,
   "metadata": {},
   "outputs": [],
   "source": [
    "import matplotlib.pyplot as plt\n",
    "import numpy as np\n",
    "from scipy.stats import ttest_1samp, t\n",
    "%matplotlib inline"
   ]
  },
  {
   "cell_type": "markdown",
   "metadata": {},
   "source": [
    "Two tailed t-test\n",
    "\n",
    "$$H_0: \\mu = \\mu_0$$\n",
    "$$H_1: \\mu \\ne \\mu_0$$"
   ]
  },
  {
   "cell_type": "code",
   "execution_count": 35,
   "metadata": {},
   "outputs": [
    {
     "data": {
      "text/plain": [
       "Ttest_1sampResult(statistic=2.04334474133925, pvalue=0.06826435765193688)"
      ]
     },
     "execution_count": 35,
     "metadata": {},
     "output_type": "execute_result"
    }
   ],
   "source": [
    "sample = [3,5,4,6,3,2,3,4,5,2,5]\n",
    "mu_0 = 3\n",
    "\n",
    "ttest_1samp(sample, mu_0)"
   ]
  },
  {
   "cell_type": "code",
   "execution_count": 32,
   "metadata": {},
   "outputs": [
    {
     "data": {
      "text/plain": [
       "2.04334474133925"
      ]
     },
     "execution_count": 32,
     "metadata": {},
     "output_type": "execute_result"
    }
   ],
   "source": [
    "# t score\n",
    "t_obs = (np.mean(sample) - mu_0) / np.std(sample,ddof=1) * np.sqrt(len(sample))\n",
    "t_obs"
   ]
  },
  {
   "cell_type": "code",
   "execution_count": 33,
   "metadata": {},
   "outputs": [
    {
     "data": {
      "text/plain": [
       "<matplotlib.collections.PolyCollection at 0x7fe69783dfd0>"
      ]
     },
     "execution_count": 33,
     "metadata": {},
     "output_type": "execute_result"
    },
    {
     "data": {
      "image/png": "[encoded data removed]",
      "text/plain": [
       "<Figure size 432x288 with 1 Axes>"
      ]
     },
     "metadata": {
      "needs_background": "light"
     },
     "output_type": "display_data"
    }
   ],
   "source": [
    "T = t(df=len(sample)-1)\n",
    "x = np.linspace(-5,5,200)\n",
    "plt.plot(x,T.pdf(x))\n",
    "x_left = np.linspace(-5, -t_obs, 200)\n",
    "x_right = np.linspace(t_obs, 5, 200)\n",
    "\n",
    "plt.fill_between(x_left, T.pdf(x_left))\n",
    "plt.fill_between(x_right, T.pdf(x_right))"
   ]
  },
  {
   "cell_type": "code",
   "execution_count": 34,
   "metadata": {},
   "outputs": [
    {
     "data": {
      "text/plain": [
       "0.06826435765193688"
      ]
     },
     "execution_count": 34,
     "metadata": {},
     "output_type": "execute_result"
    }
   ],
   "source": [
    "T.cdf(-t_obs)*2"
   ]
  },
  {
   "cell_type": "markdown",
   "metadata": {},
   "source": [
    "Use simulations to test t-test"
   ]
  },
  {
   "cell_type": "code",
   "execution_count": 55,
   "metadata": {},
   "outputs": [
    {
     "name": "stdout",
     "output_type": "stream",
     "text": [
      "0.05\n"
     ]
    }
   ],
   "source": [
    "sample_size = 3\n",
    "iterations = 10000\n",
    "significance_level = 0.05\n",
    "fp_counter = 0\n",
    "\n",
    "for i in range(iterations):\n",
    "    sample = np.random.normal(size=sample_size)\n",
    "    t_stat, pvalue = ttest_1samp(sample, 0) # expected value is 0\n",
    "    \n",
    "    if pvalue < significance_level:\n",
    "        fp_counter = fp_counter + 1\n",
    "        \n",
    "print(fp_counter / iterations)"
   ]
  },
  {
   "cell_type": "code",
   "execution_count": 89,
   "metadata": {},
   "outputs": [
    {
     "name": "stdout",
     "output_type": "stream",
     "text": [
      "0.048\n"
     ]
    }
   ],
   "source": [
    "\"\"\"\n",
    "Let me use from negative one to one just to preserve population mean, \n",
    "exact population mean, equals to zero \n",
    "and the other parts of this program they are the same as before. \n",
    "\n",
    "With sample size=3\n",
    "We see that false-positive rate in this case is larger than five percent. \n",
    "The difference is relatively large. we have large false positive rate. \n",
    "It means that if we apply this T test to some data that came from not normal \n",
    "but a uniform distribution and we have very small samples, \n",
    "the size of assemble is three elements, then it is possible \n",
    "that your T test is too optimistic that it allows you to reject new hypothesis more often than it should do. \n",
    "\"\"\"\n",
    "sample_size = 3\n",
    "\"\"\"\n",
    "With sample size=10\n",
    "it's much closer to significance_level\n",
    "\"\"\"\n",
    "sample_size = 10\n",
    "\"\"\"\n",
    "With sample size=50\n",
    "it's pretty in good correspondence to the significance level.\n",
    "\n",
    "This happens and this is due to central limit theorem \n",
    "that says that it does not depend on the distribution of initial random variable. \n",
    "\n",
    "The distribution of i is sample mean is approximately normal and the larger sample size, \n",
    "the better this approximation. \n",
    "\n",
    "Then we can say that the corresponding t-statistics is approximately distributed \n",
    "according to the corresponding t-distribution and everything works as expected. \n",
    "\"\"\"\n",
    "sample_size = 50\n",
    "\n",
    "iterations = 10000\n",
    "significance_level = 0.05\n",
    "fp_counter = 0\n",
    "\n",
    "for i in range(iterations):\n",
    "    sample = np.random.uniform(low=-1, high=1, size=sample_size)\n",
    "    t_stat, pvalue = ttest_1samp(sample, 0) # expected value is 0\n",
    "    \n",
    "    if pvalue < significance_level:\n",
    "        fp_counter = fp_counter + 1\n",
    "        \n",
    "print(fp_counter / iterations)"
   ]
  },
  {
   "cell_type": "code",
   "execution_count": 96,
   "metadata": {},
   "outputs": [
    {
     "name": "stdout",
     "output_type": "stream",
     "text": [
      "0.0533\n"
     ]
    }
   ],
   "source": [
    "sample_size = 50\n",
    "sample_size = 500 # larger sample size, lead to better outcome (closer to significance level)\n",
    "\n",
    "iterations = 10000\n",
    "significance_level = 0.05\n",
    "fp_counter = 0\n",
    "population = [2,3,4,1,2,4.4,3.2,5.1,6.3] # it's close to significance level\n",
    "population = [2,3,4,1,2,4.4,3.2,5.1,6.3,10000] # not close to significance level due to abnormal item in population\n",
    "\n",
    "for i in range(iterations):\n",
    "    sample = np.random.choice(population, size=sample_size)\n",
    "    t_stat, pvalue = ttest_1samp(sample, np.mean(population)) # expected value is 0\n",
    "    \n",
    "    if pvalue < significance_level:\n",
    "        fp_counter = fp_counter + 1\n",
    "        \n",
    "print(fp_counter / iterations)"
   ]
  },
  {
   "cell_type": "markdown",
   "metadata": {},
   "source": [
    "\n",
    "One tailed t-test\n",
    "\n",
    "$$H_0: \\mu = \\mu_0$$\n",
    "$$H_1: \\mu \\ge \\mu_0$$"
   ]
  },
  {
   "cell_type": "code",
   "execution_count": 58,
   "metadata": {},
   "outputs": [
    {
     "name": "stdout",
     "output_type": "stream",
     "text": [
      "0.0505\n"
     ]
    }
   ],
   "source": [
    "sample_size = 3\n",
    "iterations = 10000\n",
    "significance_level = 0.05\n",
    "fp_counter = 0\n",
    "\n",
    "for i in range(iterations):\n",
    "    sample = np.random.normal(size=sample_size)\n",
    "    t_stat, pvalue = ttest_1samp(sample, 0)\n",
    "    \n",
    "    pvalue = pvalue / 2 # one tailed\n",
    "    \n",
    "    if t_stat > 0 and pvalue < significance_level:\n",
    "        fp_counter = fp_counter + 1\n",
    "        \n",
    "# this number should be close to significance_level, due to randomness, and uniform distribution\n",
    "print(fp_counter / iterations)"
   ]
  },
  {
   "cell_type": "markdown",
   "metadata": {},
   "source": [
    "Assume that you perform 1-sample t-test with alternative $\\mu > \\mu_0$ and obtain t-statistics equal to 3. Sample size is 5. Find p-value. Use definition of p-value and function scipy.stats.t.cdf to find corresponding probability. Note that parameter df (degrees of freedom) has to be equal to sample size minus 1. Enter numeric value with 3 digits after the decimal point."
   ]
  },
  {
   "cell_type": "code",
   "execution_count": 106,
   "metadata": {},
   "outputs": [
    {
     "data": {
      "text/plain": [
       "0.019970984035859396"
      ]
     },
     "execution_count": 106,
     "metadata": {},
     "output_type": "execute_result"
    }
   ],
   "source": [
    "t_stat = 3\n",
    "1-t.cdf(t_stat, df=4)"
   ]
  },
  {
   "cell_type": "markdown",
   "metadata": {},
   "source": [
    "Assume that you perform 1-sample t-test with alternative $\\mu > \\mu_0$ and obtain t-statistics equal to -3. Sample size is 5. Find p-value. Enter numeric value with 2 digits after the decimal point.\n",
    "\n",
    "_note: -3 and test on one tail_"
   ]
  },
  {
   "cell_type": "code",
   "execution_count": 105,
   "metadata": {},
   "outputs": [
    {
     "data": {
      "text/plain": [
       "0.9800290159641406"
      ]
     },
     "execution_count": 105,
     "metadata": {},
     "output_type": "execute_result"
    }
   ],
   "source": [
    "t_stat = -3\n",
    "1-t.cdf(t_stat, df=4)"
   ]
  },
  {
   "cell_type": "markdown",
   "metadata": {},
   "source": [
    "Assume that you perform 1-sample t-test with alternative $\\mu \\ne \\mu_0$ and obtain t-statistics equal to -3. Find p-value. Enter numeric value with 3 digits after the decimal point."
   ]
  },
  {
   "cell_type": "code",
   "execution_count": 107,
   "metadata": {
    "scrolled": true
   },
   "outputs": [
    {
     "data": {
      "text/plain": [
       "0.03994196807171883"
      ]
     },
     "execution_count": 107,
     "metadata": {},
     "output_type": "execute_result"
    }
   ],
   "source": [
    "t_stat = -3\n",
    "t.cdf(t_stat, df=4)*2"
   ]
  },
  {
   "cell_type": "code",
   "execution_count": 112,
   "metadata": {},
   "outputs": [
    {
     "name": "stdout",
     "output_type": "stream",
     "text": [
      "185.5\n"
     ]
    },
    {
     "data": {
      "text/plain": [
       "(2.400108850942297, 0.039890766746082586)"
      ]
     },
     "execution_count": 112,
     "metadata": {},
     "output_type": "execute_result"
    }
   ],
   "source": [
    "sample = [165, 170, 175, 180, 185, 185, 190, 195, 200, 210]\n",
    "\n",
    "print(np.mean(sample))\n",
    "# return t statistic and two tailed p value\n",
    "t_stat, pvalue = ttest_1samp(sample, 175)\n",
    "\n",
    "t_stat, pvalue"
   ]
  },
  {
   "cell_type": "code",
   "execution_count": 4,
   "metadata": {},
   "outputs": [
    {
     "data": {
      "text/plain": [
       "0.026201003203565998"
      ]
     },
     "execution_count": 4,
     "metadata": {},
     "output_type": "execute_result"
    }
   ],
   "source": [
    "t_score = 2.076923076923078\n",
    "\n",
    "1-t.cdf(t_score, df = 18)"
   ]
  },
  {
   "cell_type": "code",
   "execution_count": 13,
   "metadata": {},
   "outputs": [
    {
     "data": {
      "text/plain": [
       "(-2.250000000000001, 0.9561774117483027)"
      ]
     },
     "execution_count": 13,
     "metadata": {},
     "output_type": "execute_result"
    }
   ],
   "source": [
    "sample = [11,14,15,14,14]\n",
    "sample = [8,12,10,12,9]\n",
    "\n",
    "t_stat, pvalue = ttest_1samp(sample, 12)\n",
    "\n",
    "t_stat, 1-pvalue/2"
   ]
  },
  {
   "cell_type": "markdown",
   "metadata": {},
   "source": [
    "we could say   \n",
    "\"(not) statistically siginificant\"  \n",
    "\"plausible explained by random fluke  \n",
    "\"reject null hypothesis\"  \n",
    "\"not enough data\"  \n",
    "\n",
    "could not say  \n",
    "\"definitely\"  \n",
    "\"must\"  \n",
    "\n",
    "when mean is less/greater than population mean,   \n",
    "we can conclude without calculating p-value   \n",
    "if we are only interested on the other side of the tail  "
   ]
  }
 ],
 "metadata": {
  "kernelspec": {
   "display_name": "Python 3",
   "language": "python",
   "name": "python3"
  },
  "language_info": {
   "codemirror_mode": {
    "name": "ipython",
    "version": 3
   },
   "file_extension": ".py",
   "mimetype": "text/x-python",
   "name": "python",
   "nbconvert_exporter": "python",
   "pygments_lexer": "ipython3",
   "version": "3.7.9"
  }
 },
 "nbformat": 4,
 "nbformat_minor": 4
}
