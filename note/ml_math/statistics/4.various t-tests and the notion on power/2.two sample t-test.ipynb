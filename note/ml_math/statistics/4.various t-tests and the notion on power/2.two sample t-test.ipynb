{
 "cells": [
  {
   "cell_type": "markdown",
   "metadata": {},
   "source": [
    "Design A: $x_1, x_2, \\ldots , x_n \\sim X\\;\\;\\mathbb{E}X = \\mu_x \\;\\; VarX < \\infty$  \n",
    "\n",
    "Design B: $y_1, y_2, \\ldots , y_n \\sim Y\\;\\;\\mathbb{E}Y = \\mu_y \\;\\; VarY < \\infty$   \n",
    "\n",
    "$H_0: \\mu_x = \\mu_y$\n",
    "\n",
    "$H_1: \\mu_x \\ne \\mu_y$\n",
    "\n",
    "$\\bar{x}, \\bar{y} - sample averages$\n",
    "\n",
    "T-statistics for 2 samples\n",
    "\n",
    "$t(x,y) ={\\large \\frac{\\bar{x} - \\bar{y}}{\\sqrt{\\frac{Var_{+}x}{n}+\\frac{Var_{+}y}{m}}} } \\sim $ T-distribution\n",
    "\n",
    "$P(|t| > t_{critical}) = \\alpha$\n",
    "\n",
    "If $|t(x_{obs}, y_{obs})| > t_{critical} \\implies $ reject $H_0$\n",
    "\n",
    "p-value$(x_{obs}, y_{obs}) = P(|t| \\ge |t(x_{obs}, y_{obs})|)$\n",
    "\n",
    "p-value $< \\alpha \\implies $ reject $H_0$\n",
    "\n",
    "If we reject $H_0$ we say that difference in means in our samples is __statistically significant__   \n",
    "\n",
    "If diff is not significant， probably we need more data to see it."
   ]
  },
  {
   "cell_type": "markdown",
   "metadata": {},
   "source": [
    "This is a general framework of statistical hypothesis testing applied to our problem of comparing of means for two samples. \n",
    "\n",
    "When we use this method, we assume that either our samples are large enough or our data, our x and y are close enough to normal distributions because in this case, this correspondence works. \n",
    "\n",
    "In this case our t-distribution is actually distributed under this law. When we do not have large enough samples and we expect that our random variables are far from normally distributed, then it is probably better to use different ways to compare the corresponding samples, not to use t-test, but to use alternative also called non-parametric test. "
   ]
  }
 ],
 "metadata": {
  "kernelspec": {
   "display_name": "Python 3",
   "language": "python",
   "name": "python3"
  },
  "language_info": {
   "codemirror_mode": {
    "name": "ipython",
    "version": 3
   },
   "file_extension": ".py",
   "mimetype": "text/x-python",
   "name": "python",
   "nbconvert_exporter": "python",
   "pygments_lexer": "ipython3",
   "version": "3.7.9"
  }
 },
 "nbformat": 4,
 "nbformat_minor": 4
}
