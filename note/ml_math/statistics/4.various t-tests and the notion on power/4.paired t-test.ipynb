{
 "cells": [
  {
   "cell_type": "markdown",
   "metadata": {},
   "source": [
    "Paired t-test\n",
    "\n",
    "| user id | how much like design A | how much like design B | B-A |\n",
    "|--|--|--|--|\n",
    "| 1 | 7 | 5 | -2 |\n",
    "| 2 | 4 | 7 | 3 |\n",
    "| 3 | 5 | 4 | -1 |\n",
    "\n",
    "$H_0:$ difference has zero mean\n",
    "\n",
    "$d_1, d_2, \\ldots, d_n \\sim X_d$\n",
    "\n",
    "$H_0: \\mathbb{E}X_d = 0$  \n",
    "$H_1: \\mathbb{E}X_d \\ne 0$\n",
    "\n",
    "Perform 1-sample t-test to $d_1,d_2,\\dots,d_n$"
   ]
  },
  {
   "cell_type": "code",
   "execution_count": 8,
   "metadata": {},
   "outputs": [],
   "source": [
    "from scipy.stats import ttest_1samp, ttest_ind, ttest_rel"
   ]
  },
  {
   "cell_type": "code",
   "execution_count": 6,
   "metadata": {},
   "outputs": [
    {
     "data": {
      "text/plain": [
       "Ttest_indResult(statistic=-0.3038412337952006, pvalue=0.771511604086447)"
      ]
     },
     "execution_count": 6,
     "metadata": {},
     "output_type": "execute_result"
    }
   ],
   "source": [
    "sample1 = [300, 320, 200, 700]\n",
    "sample2 = [350, 370, 240, 750]\n",
    "\n",
    "ttest_ind(sample1, sample2, equal_var=False)"
   ]
  },
  {
   "cell_type": "code",
   "execution_count": 7,
   "metadata": {},
   "outputs": [
    {
     "data": {
      "text/plain": [
       "Ttest_1sampResult(statistic=19.0, pvalue=0.00031834344007115753)"
      ]
     },
     "execution_count": 7,
     "metadata": {},
     "output_type": "execute_result"
    }
   ],
   "source": [
    "diff = [50,50,40,50]\n",
    "\n",
    "ttest_1samp(diff, 0)"
   ]
  },
  {
   "cell_type": "code",
   "execution_count": 10,
   "metadata": {},
   "outputs": [
    {
     "data": {
      "text/plain": [
       "Ttest_relResult(statistic=-19.0, pvalue=0.00031834344007115753)"
      ]
     },
     "execution_count": 10,
     "metadata": {},
     "output_type": "execute_result"
    }
   ],
   "source": [
    "ttest_rel(sample1,sample2)"
   ]
  },
  {
   "cell_type": "markdown",
   "metadata": {},
   "source": [
    "Provide an interpretation of this result. Use 5% significance level. Mark all correct statements.\n",
    "\n",
    ">We do not have enough data to detect difference between 2000 and 2020 with two-sample t-test.\n",
    "\n",
    "> Yes, that's correct interpetation of non-significant result\n",
    "\n",
    "Finally, we used two different statistical tests to answer the same question: are there any significant difference between 2020 and 2000, and obtained different results: with two-sample t-test we do not reject null hypothesis, with paired t-teset we reject null hypothesis. How can we explain this contradictions? Mark all correct statements.\n",
    "\n",
    ">Both tests can theoretically be applied. However, two-sample t-test ignores important information that values in our samples are related to each other (i.e. first elements of both samples are related to the the same city). It decreases its power, the ability to detect differences, as compared with paired t-test. And in this case due to limited power two-sample t-test didn't reject null hypothesis (and most probably made type II error) while paired t-test rejected null hypothesis. We can trust the results of paired t-test in this case."
   ]
  },
  {
   "cell_type": "code",
   "execution_count": 11,
   "metadata": {},
   "outputs": [
    {
     "data": {
      "text/plain": [
       "Ttest_1sampResult(statistic=6.1456129842323355, pvalue=0.00016961660786227512)"
      ]
     },
     "execution_count": 11,
     "metadata": {},
     "output_type": "execute_result"
    }
   ],
   "source": [
    "diff = [3,5,4,4,2,0,1,4,4,4]\n",
    "\n",
    "ttest_1samp(diff, 0)"
   ]
  }
 ],
 "metadata": {
  "kernelspec": {
   "display_name": "Python 3",
   "language": "python",
   "name": "python3"
  },
  "language_info": {
   "codemirror_mode": {
    "name": "ipython",
    "version": 3
   },
   "file_extension": ".py",
   "mimetype": "text/x-python",
   "name": "python",
   "nbconvert_exporter": "python",
   "pygments_lexer": "ipython3",
   "version": "3.7.9"
  }
 },
 "nbformat": 4,
 "nbformat_minor": 4
}
