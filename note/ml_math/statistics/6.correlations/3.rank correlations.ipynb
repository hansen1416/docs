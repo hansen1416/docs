{
 "cells": [
  {
   "cell_type": "markdown",
   "metadata": {},
   "source": [
    "- sometimes If x is larger than, y is also larger. But the relation between variables is not linear. And in this case the correlation coefficient persons correlation coefficient will be less than one.\n",
    "\n",
    "- sometimes there is outliers. coule be an error of measurement.\n",
    "\n",
    "Rank correlation can deal with above situations.\n",
    "\n",
    "For variable x, \n",
    "\n",
    "1. order it   \n",
    "2. enumerate it  \n",
    "3. restore the original order\n",
    "\n",
    "Then this sequence of numbers is called sequence of ranks of x.\n",
    "\n",
    "$(x_1, x_2, ... x_n) = x$  \n",
    "$(y_1, y_2, ... y_n) = y$\n",
    "\n",
    "$corr(rk(x), rk(y))$ which is __Spearman's correlation__ between x and y.\n",
    "\n",
    "If two variables are perfectly ordered at the beginning. And these are two variables are perfectly correlated and the Spearman's correlation for this set, which is the same as Pearson's correlation for this set, have to be equal to 1."
   ]
  },
  {
   "cell_type": "markdown",
   "metadata": {},
   "source": [
    "__Kendall's tau__\n",
    "\n",
    "- concrodant\n",
    "\n",
    "- discordant\n",
    "\n",
    "$\\tau = $(number of concordant pairs - number of discordant pairs) / number of all pairs\n",
    "\n",
    "if we have an element in a sample and then number of all pairs is just $\\frac{n(n-1)}{2}$\n",
    "\n",
    "_so when there is no discordant pairs, $\\tau = 1$_"
   ]
  }
 ],
 "metadata": {
  "kernelspec": {
   "display_name": "Python 3",
   "language": "python",
   "name": "python3"
  },
  "language_info": {
   "codemirror_mode": {
    "name": "ipython",
    "version": 3
   },
   "file_extension": ".py",
   "mimetype": "text/x-python",
   "name": "python",
   "nbconvert_exporter": "python",
   "pygments_lexer": "ipython3",
   "version": "3.7.9"
  }
 },
 "nbformat": 4,
 "nbformat_minor": 4
}
