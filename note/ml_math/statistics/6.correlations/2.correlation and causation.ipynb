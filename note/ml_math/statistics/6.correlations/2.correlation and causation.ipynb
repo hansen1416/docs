{
 "cells": [
  {
   "cell_type": "markdown",
   "metadata": {},
   "source": [
    "We can say that vegetable consumption, in this case, is just a proxy for healthy lifestyle, but it does not change the health itself, it just gives us information about the lifestyle. If some person do not have healthy lifestyle, for example, they do not visit doctors and they do not do other things that are usually do people with healthy lifestyle and we say them that they have to consume more vegetables. They will increase in the value of this variable but it will not increase their health index, because the reason of large health index of people who consume more vegetables are not vegetables themselves, but this healthy lifestyle. This is also possible explanation which is consistent with this data. \n",
    "\n",
    "No correlation can distinguish between these two possible explanations, so we cannot use correlation to make causal conclusions unless we are assured that there is a relation like this one, and this relations have to be obtained using different tools, not correlation itself.\n",
    "\n",
    "\n",
    "Anyway, correlation is a good measure of association between variables, but we have to understand and that this association is of observation nature. Then if we do some measure learning and we are interested only in predictions, we want to predict the health index and we use information about vegetable consumption and we know that there is a correlation, we can use correlation to make these predictions. \n",
    "\n",
    "But if we want to interfere, if we want to make a decisions like what our parameters should be changed to achieve a particular goal, we have to make a more complicated causal analysis. Anyway, correlations are important when we are interested in the association between two variables, but basic correlation that we discussed before is well-suited for linear relationship."
   ]
  },
  {
   "cell_type": "markdown",
   "metadata": {},
   "source": [
    "_example_\n",
    "\n",
    "A massive research in randomly selected school children of different ages showed that there’s a strong positive Pearson correlation between weight and math skills. What might it mean?\n",
    "\n",
    "- Apparently there’s another variable that has positive correlation and causal relationship with both weight and math skills of school children."
   ]
  },
  {
   "cell_type": "markdown",
   "metadata": {},
   "source": [
    "_example_\n",
    "\n",
    "It is known that in the priod 2000 — 2009, the divorce rate in Maine (USA) has large Pearson's correlation (r=0.99) with per capita consumption of margarine in the whole USA. How can you explain it?\n",
    "\n",
    "- There is a third factor that affects both. __False__\n",
    "\n",
    "_believe that's incorrect: even if this is theoretically possible, we cannot expect such an effect for data obtained from different regions._\n",
    "\n",
    "- That's a coincidence: if you have a lot of variables, you can find a couple that has good correlation purely due to chance.\n",
    "\n",
    "_That's correct. Actually, the whole site Spurious Correlations (http://tylervigen.com/) is devoted to finding such accidental correlations. You can find more of them._"
   ]
  },
  {
   "cell_type": "markdown",
   "metadata": {},
   "source": [
    "_example_\n",
    "\n",
    "- Positive Pearson correlation means that one variable monotonically increase with respect to another, i.e. for any pair of points, a point with larger 𝑥 will have larger 𝑦. __False__\n",
    "\n",
    "- The closer absolute value of Pearson's correlation to 1, the more intense is linear relation between their values.\n",
    "\n",
    "- Correlation takes values from -1 to 1."
   ]
  }
 ],
 "metadata": {
  "kernelspec": {
   "display_name": "Python 3",
   "language": "python",
   "name": "python3"
  },
  "language_info": {
   "codemirror_mode": {
    "name": "ipython",
    "version": 3
   },
   "file_extension": ".py",
   "mimetype": "text/x-python",
   "name": "python",
   "nbconvert_exporter": "python",
   "pygments_lexer": "ipython3",
   "version": "3.7.9"
  }
 },
 "nbformat": 4,
 "nbformat_minor": 4
}
