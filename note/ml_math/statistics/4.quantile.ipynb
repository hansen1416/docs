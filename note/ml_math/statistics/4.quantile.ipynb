{
 "cells": [
  {
   "cell_type": "code",
   "execution_count": 4,
   "metadata": {},
   "outputs": [
    {
     "data": {
      "text/plain": [
       "1.2000000000000002"
      ]
     },
     "execution_count": 4,
     "metadata": {},
     "output_type": "execute_result"
    }
   ],
   "source": [
    "import numpy as np\n",
    "\n",
    "data = [1,1,2,3,5,5,6]\n",
    "\"\"\"\n",
    "First, if the exact number that splits the sample in a given proportion is not equal to some element of a sample, \n",
    "numpy performs some kind of interpolation between nearest elements. \n",
    "(For example, try finding 0.19-quantile or 0.18-quantile of the given sample and see what changes. \n",
    "It can be useful to plot graph of p-quantile os a function of p.) \n",
    "Second, if you try to obtain first or third quartiles as 0.25 or 0.75 quantiles, \n",
    "you will get different result that we discussed in videos: in videos we excluded median from the halves, \n",
    "but numpy includes it into each half, then find median of these halves.\n",
    "\"\"\"\n",
    "np.quantile(data, 0.2)"
   ]
  },
  {
   "cell_type": "code",
   "execution_count": 2,
   "metadata": {},
   "outputs": [
    {
     "data": {
      "text/plain": [
       "1.1400000000000001"
      ]
     },
     "execution_count": 2,
     "metadata": {},
     "output_type": "execute_result"
    }
   ],
   "source": [
    "np.quantile(data, 0.19)"
   ]
  },
  {
   "cell_type": "code",
   "execution_count": 3,
   "metadata": {},
   "outputs": [
    {
     "data": {
      "text/plain": [
       "1.08"
      ]
     },
     "execution_count": 3,
     "metadata": {},
     "output_type": "execute_result"
    }
   ],
   "source": [
    "np.quantile(data, 0.18)"
   ]
  }
 ],
 "metadata": {
  "kernelspec": {
   "display_name": "Python 3",
   "language": "python",
   "name": "python3"
  },
  "language_info": {
   "codemirror_mode": {
    "name": "ipython",
    "version": 3
   },
   "file_extension": ".py",
   "mimetype": "text/x-python",
   "name": "python",
   "nbconvert_exporter": "python",
   "pygments_lexer": "ipython3",
   "version": "3.7.7"
  }
 },
 "nbformat": 4,
 "nbformat_minor": 4
}
