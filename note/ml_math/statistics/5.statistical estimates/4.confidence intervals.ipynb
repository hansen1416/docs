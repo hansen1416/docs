{
 "cells": [
  {
   "cell_type": "markdown",
   "metadata": {},
   "source": [
    "confidence intervals\n",
    "\n",
    "random variable $X$, i.i.d sample $(x_1, x_2, \\\\dots , x_n) = x$\n",
    "\n",
    "$\\mathbb{E}X = \\mu$ is not known\n",
    "\n",
    "Use $x$ to find interval of \"pausible\" values of $\\mu$\n",
    "\n",
    "_$\\bar{x}$ shoud normal distributed around $\\mu$, $\\mu-s \\to \\mu + s$_\n",
    "\n",
    "_and we want $\\mu-s \\to \\mu + s$ have 95% probability_"
   ]
  },
  {
   "cell_type": "code",
   "execution_count": 4,
   "metadata": {},
   "outputs": [],
   "source": [
    "import matplotlib.pyplot as plt\n",
    "import numpy as np\n",
    "import scipy.stats\n",
    "%matplotlib inline"
   ]
  },
  {
   "cell_type": "code",
   "execution_count": 28,
   "metadata": {},
   "outputs": [
    {
     "data": {
      "image/png": "[encoded data removed]",
      "text/plain": [
       "<Figure size 432x288 with 1 Axes>"
      ]
     },
     "metadata": {
      "needs_background": "light"
     },
     "output_type": "display_data"
    },
    {
     "data": {
      "text/plain": [
       "(-4.0, 4.0)"
      ]
     },
     "execution_count": 28,
     "metadata": {},
     "output_type": "execute_result"
    },
    {
     "data": {
      "image/png": "[encoded data removed]",
      "text/plain": [
       "<Figure size 432x288 with 1 Axes>"
      ]
     },
     "metadata": {
      "needs_background": "light"
     },
     "output_type": "display_data"
    }
   ],
   "source": [
    "fig, ax = plt.subplots(1,1)\n",
    "\n",
    "x = np.linspace(-4,4,100)\n",
    "mu = 0\n",
    "s = 2\n",
    "\n",
    "plt.xticks([mu-s, mu, mu+s], ['mu-s', 'mu', 'mu+s'])\n",
    "plt.yticks([])\n",
    "\n",
    "ax.plot(x, scipy.stats.norm.pdf(x))\n",
    "\n",
    "confidence_interval = np.linspace(mu-s,mu+s,100)\n",
    "ax.fill_between(confidence_interval, scipy.stats.norm.pdf(confidence_interval), alpha=0.2)\n",
    "\n",
    "plt.show()\n",
    "\n",
    "fig, ax = plt.subplots(1,1)\n",
    "\n",
    "plt.xticks([-1, 1, 3], ['bar_x_obs-s', 'bar_x_obs', 'bar_x_obs+s'])\n",
    "plt.xlim(-4, 4)"
   ]
  },
  {
   "cell_type": "markdown",
   "metadata": {},
   "source": [
    "$P(\\mu \\in (\\bar{x}_{pbs}-s, \\bar{x}+s)) \\iff P(|\\bar{x}_{obs}-\\mu| < s) \\iff P(\\bar{x}_{obs} \\in (\\mu-s, \\mu+s)) = 0.95$"
   ]
  },
  {
   "cell_type": "markdown",
   "metadata": {},
   "source": [
    "Let $I(x_{obs}) = (\\bar{x}_obs - s, \\bar{x}_obs + s)$\n",
    "\n",
    "As we have $P(\\mu \\in I(x_{obs})) = 0.95$,\n",
    "\n",
    "we say thay $I$ is a confidence interval for $\\mu$ with confidence level 0.95.\n",
    "\n",
    "$S = 1.96 \\times \\frac{std x}{\\sqrt{n}}$ holds for $n$ large enough"
   ]
  },
  {
   "cell_type": "markdown",
   "metadata": {},
   "source": [
    "_Confidence intervals and opinion polls_\n",
    "\n",
    "Pollsters usually ask respondents questions with two variants of answer (i.e. \"do you support this decision: yes or no?\") Let us assume that the answer of each respondent is coded as 0 (\"no\") or 1 (\"yes\"). If respondents are chosen randomly and the size of population from which we choose them is large enough, we may safely assume that their answers are independent and can be modelled with Bernoulli random variable: i.e. if we denote proportion of people who are going to answer \"yes\" by pp, then to choose respondent randomly is the same as to toss a coin that gives 11 with probability pp and 00 with probabilty 1-p1−p. Then a series of answers (coded as 0 and 1) is an i.i.d. sample $x_1, x_2, \\ldots, x_n$ from Bernoulli random variable with probability of success pp. Pollsters usually report the percentage of respondents who answered \"yes\". If nobody abstain from answering (this is impossible in practice, but we simplify things a little bit), this percentage is equal to sample mean $\\bar x$. Also pollsters usualy report \"margin of sampling error\" of their results. Let us find how this error is obtained.\n",
    "\n",
    "Find variance of random variable $\\bar x$ depending on $p$. Recall that $\\bar x = \\frac{x_1+\\ldots + x_n}{n}$, each $x_1,\\ldots, x_n$ is Bernoulli random variable and their are independent. Use properties of variance that were discussed in course of Probability. Enter formula that uses variables n and p.\n",
    "\n",
    "$Var(\\bar{x}) = Var(\\frac{x_1, x_2, \\ldots, x_n}{n}) = \\frac{1}{n^2} (npq) = \\frac{pq}{n}$\n",
    "\n",
    "---\n",
    "\n",
    "Assume that $n=1600$ (typical sample size for opinion polls).Find maximum possible variance of $\\bar x$ for all possible values of pp. (You have to find maximum of some quadratic function, use properties of parabolas.) Enter number as an ordinary fraction.\n",
    "\n",
    "$f^{\\prime} = 1-2p = 0 \\implies p = 1/2 \\implies argmax \\bar{x} = 1/2 \\times 1/2 / 1600 = 1/6400$\n",
    "\n",
    "---\n",
    "\n",
    "Find maximum possible standard error of mean for $(x_1, \\ldots, x_n)$, i.e. standard deviation of $\\bar x$. \n",
    "\n",
    "$std x = 1/80$\n",
    "\n",
    "---\n",
    "\n",
    "Assume that $\\bar x_{obs}=0.3$. In the video, the following formula was discussed for 95% confidence interval (applicable when number of elements in the sample is large and central limit theorem gives good approximation):\n",
    "\n",
    "$CI=[\\bar x_{obs}-1.96\\times s, \\bar x_{obs}+1.96 \\times s]$.\n",
    "\n",
    "where $s = \\frac{SD(x)}{n}$\n",
    "\n",
    "Note that $s$ is an estimate for standard error of mean (i.e. standard deviation of $\\bar x$), because sample standard deviation ${\\mathop{\\mathrm{SD}}(x)}$. is an estimate for standard deviation of our initial variable $X$ and standard deviation of mean $\\bar x$ is $n$ times smaller. So let us put the result of Question 3 as $s$. Enter the left endpoint of this confidence interval. Enter numeric value with 4 digits after the decimal point.\n",
    "\n",
    "$0.3 - 1.96 \\times 1/80 = 0.2755$\n",
    "\n",
    "---\n",
    "\n",
    "Find the right endpoint of the confidence interval. Enter numeric value with 4 digits after the decimal point.\n",
    "\n",
    "$0.3 + 1.96 \\times 1/80 = 0.3245$\n",
    "\n",
    "---\n",
    "\n",
    "Previously we used maximum possible variance of $\\bar x$ for all possible values of $p$. It provides upper estimate for length of confidence interval. More accurate approach is to use sample variance instead (as it was discussed in videos), or, which is equivalent, to put $\\bar x$ as $p$ in the formula for variance of $\\bar x$. (In this case we use biased estimate for population variance but due to large number of observations it doesn't matter.) Repeat previous steps for $p=0.3$ and find new value of $s$. Enter numeric value with 4 digits after the decimal point.\n",
    "\n",
    "0.0114\n",
    "\n",
    "---\n",
    "\n",
    "Find radius (half of length) of confidence interval. Use the result of Question 6. Enter numeric value with 3 digits after decimal point.\n",
    "\n",
    "$1.96 \\times 0.0114 = 0.022$\n",
    "\n",
    "---\n",
    "\n",
    "Great! Now when you read something like “35% of respondents answered 'yes', margin of sample error is 2.5 percent points”, you know what 2.5 percent points (i.e. 0.025) means and how this value was obtained. Another form to report confidence interval is to say something like \"35 ± 2.5 percents answered yes” (but in this case it is better to specify that you give 95% confidence interval; often in this notation people report standard error of mean instead of actual radius of confidence interval)."
   ]
  },
  {
   "cell_type": "markdown",
   "metadata": {},
   "source": [
    "_Tricky confidence intervals_\n",
    "\n",
    "Assume that $X$ is a random variable that takes value $0$ with probability $0.2$ and value $a > 1$ with probability $0.8$. Let $(x_1, x_2)$ be i.i.d. sample from this random variable. Consider interval $I=[\\max(x_1, x_2) - 1, \\max(x_1, x_2) + 1]$.\n",
    "\n",
    "We will study properties of this interval as confidence interval for $a$.\n",
    "\n",
    "First of all, let us find joint distribution of $(x_1, x_2)$. We have to find probability of all combinations that $x_1 and $x_2$ can take. I will ask about couple of them.\n",
    "\n",
    "What is $P(x_1=0, x_2=0)$?\n",
    "\n",
    "$0.2 \\times 0.2 = 0.04$\n",
    "\n",
    "---\n",
    "\n",
    "What is $P(x_1=0, x_2=a)$?\n",
    "\n",
    "$0.2 \\times 0.8 = 0.16$\n",
    "\n",
    "---\n",
    "\n",
    "Now please find distribution of random variable $\\max(x_1, x_2)$. Obviously, it can take only values $0$ and $a$. What is the probability to take value $0$?\n",
    "\n",
    "$0.2 \\times 0.2 = 0.04$\n",
    "\n",
    "---\n",
    "\n",
    "What is the probability to take value $a$?\n",
    "\n",
    "$1-0.04 = 0.96$ or $0.8\\times0.8 + 0.2 \\times 0.8 + 0.2 \\times 0.8 = 0.96$\n",
    "\n",
    "---\n",
    "\n",
    "Now let us return to $I=[\\max(x_1, x_2) - 1, \\max(x_1, x_2) + 1]$. Is it true that $I$ is 95% confidence interval for parameter $a$?\n",
    "\n",
    "_$I$ is a confidence interval for $a$ if for any value of $a$, probability that $I$ contains $a$ is equal to or larger than the confidence level, in this case 95%. What is the probability that $a$ lies inside $I$?_\n",
    "\n",
    "96%: I = [a-1, a+1], 4%: I = [-1, 1]. so the probability that $a$ lies inside $I$ is 96%.\n",
    "\n",
    "---\n",
    "\n",
    "Find the largest confidence level (in percents) such that II is confidence interval for parameter $a$ with that confidence level. Enter this confidence level (e.g. 99).\n",
    "\n",
    "_there are two possible cases. Either $\\max(x_1, x_2)=a$ and in this case $I$ contains $a$. Probability of this event is 0.96. Or $\\max(x_1, x_2)=0$ In this case $I=[-1, 1]$ does not contain $a$ because $a>1$. Therefore, probability that $I$ contains aa is 0.96 and 96 is the largest confidence level._\n",
    "\n",
    "96\n",
    "\n",
    "---\n",
    "\n",
    "What is the probability that $a$ lies in the right half of interval $I$, i.e. $\\max(x_1, x_2) < a \\le \\max(x_1, x_2) + 1$\n",
    "\n",
    "when $\\max(x_1, x_2) = 0$, $P(0 < a \\le 1) = 0$,  \n",
    "when $\\max(x_1, x_2) = a$, $P(a < a \\le a+1) = 0$,\n",
    "\n",
    "0\n",
    "\n",
    "---\n",
    "\n",
    "Assume that we obtained confidence interval $I=[-1, 1]$ (using the procedure descibed above). What is probability that $a$ belongs to this confidence interval?\n",
    "\n",
    "$a > 1 \\implies P=0$\n",
    "\n",
    "---\n",
    "\n",
    "Assume that we obtained confidence interval $I=[3, 5]$ (using the procedure descibed above). What is probability that $a$ belongs to this confidence interval?\n",
    "\n",
    "In this case $\\max(x_1, x_2) = 4 \\implies P = 100$\n",
    "\n",
    "1\n",
    "\n",
    "---\n",
    "\n",
    "Assume that we obtained some confidence interval $I$ (using the procedure described above) that is not $[-1, 1]$. What is probability that $a$ belongs to this confidence interval?\n",
    "\n",
    "1\n",
    "\n",
    "_The analysis above shows that if $\\max(x_1, x_2)\\ne 0$, then $a \\in I$. Therefore, any interval constructed with our procedure will contain aa provided that this interval is not $[-1, 1]$_.\n",
    "\n",
    "---\n",
    "\n",
    "The example above shows that interpretation of confidence interval is tricky. On one hand, its main property is that the probability that it contains the value we are interested in is large (not less than the confidence level). On the other hand, if we have some particular confidence interval with concrete numbers (for example, it is specified in some scientific paper), we cannot interpret it like \"probability that the value we are interested in lies inside of this particular interval equals to the confidence level\". Indeed, we saw in the examples above that if we have some particular confidence interval (e.g. [-1, 1]), the fact that it contains (or does not contain) our value has no relation to confidence level at all.\n",
    "\n",
    "In fact, if we consider a particular interval written in the paper, it is not a random variable anymore, and the actual value of the paremeter is also not random (at least, in classical, frequentist statistics we study now; in Bayesian statistics it's different). So the question \"does this interval contain this value\" is not probabilistic at all.\n",
    "\n",
    "Confidence level shows us some property of the procedure we use, but it says nothing about a particular result of this procedure.\n",
    "\n",
    "In the same way, it does not make sense to ask \"what is the probability that null hypothesis holds given this data\". It is not a matter of probability."
   ]
  }
 ],
 "metadata": {
  "kernelspec": {
   "display_name": "Python 3",
   "language": "python",
   "name": "python3"
  },
  "language_info": {
   "codemirror_mode": {
    "name": "ipython",
    "version": 3
   },
   "file_extension": ".py",
   "mimetype": "text/x-python",
   "name": "python",
   "nbconvert_exporter": "python",
   "pygments_lexer": "ipython3",
   "version": "3.7.9"
  }
 },
 "nbformat": 4,
 "nbformat_minor": 4
}
