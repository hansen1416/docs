{
 "cells": [
  {
   "cell_type": "code",
   "execution_count": 1,
   "metadata": {},
   "outputs": [],
   "source": [
    "import numpy as np"
   ]
  },
  {
   "cell_type": "code",
   "execution_count": 24,
   "metadata": {},
   "outputs": [
    {
     "data": {
      "text/plain": [
       "(1.7122441798662547, 4.884496457172969)"
      ]
     },
     "execution_count": 24,
     "metadata": {},
     "output_type": "execute_result"
    }
   ],
   "source": [
    "def get_confint(pop_mean, pop_range, sample_szie):\n",
    "    sample = np.random.uniform(pop_mean - pop_range,\n",
    "                          pop_mean + pop_range,\n",
    "                          size = sample_size)\n",
    "\n",
    "    stderr = np.std(sample, ddof=1) / np.sqrt(sample_size)\n",
    "\n",
    "    r = 1.96 * stderr\n",
    "    sample_mean = np.mean(sample)\n",
    "\n",
    "    return (sample_mean - r, sample_mean + r)\n",
    "\n",
    "get_confint(3, 4, 10)"
   ]
  },
  {
   "cell_type": "code",
   "execution_count": 72,
   "metadata": {},
   "outputs": [
    {
     "data": {
      "text/plain": [
       "0.9512"
      ]
     },
     "execution_count": 72,
     "metadata": {},
     "output_type": "execute_result"
    }
   ],
   "source": [
    "sample_size = 10 # 91% use t distribution instead of normal distribution\n",
    "sample_size = 50 # 94%\n",
    "sample_size = 500 # 95% usually several hundreds\n",
    "pop_mean = 3\n",
    "pop_range = 4\n",
    "\n",
    "catched = 0\n",
    "iterations = 10000\n",
    "\n",
    "for i in range(iterations):\n",
    "    confint = get_confint(pop_mean, pop_range, sample_size)\n",
    "    if confint[0] < pop_mean < confint[1]:\n",
    "        catched += 1\n",
    "\n",
    "catched / iterations # around 91%, but 1.96 should garantee us 95% probability, it's due to small sample size"
   ]
  },
  {
   "cell_type": "markdown",
   "metadata": {},
   "source": [
    "confidence interval: beyond 1.96"
   ]
  },
  {
   "cell_type": "code",
   "execution_count": 74,
   "metadata": {},
   "outputs": [],
   "source": [
    "import scipy.stats"
   ]
  },
  {
   "cell_type": "code",
   "execution_count": 75,
   "metadata": {},
   "outputs": [
    {
     "data": {
      "text/plain": [
       "(-1.959963984540054, 1.959963984540054)"
      ]
     },
     "execution_count": 75,
     "metadata": {},
     "output_type": "execute_result"
    }
   ],
   "source": [
    "scipy.stats.norm.interval(0.95)"
   ]
  },
  {
   "cell_type": "code",
   "execution_count": 76,
   "metadata": {},
   "outputs": [],
   "source": [
    "import matplotlib.pyplot as plt\n",
    "%matplotlib inline"
   ]
  },
  {
   "cell_type": "code",
   "execution_count": 97,
   "metadata": {},
   "outputs": [
    {
     "name": "stdout",
     "output_type": "stream",
     "text": [
      "-2.5705818366147395 2.5705818366147395\n"
     ]
    },
    {
     "data": {
      "image/png": "[encoded data removed]",
      "text/plain": [
       "<Figure size 432x288 with 1 Axes>"
      ]
     },
     "metadata": {
      "needs_background": "light"
     },
     "output_type": "display_data"
    }
   ],
   "source": [
    "conf_level = 0.95 # 1.959...,  2.57 for t distr\n",
    "# conf_level = 0.99 # 2.967\n",
    "\n",
    "df = 5\n",
    "\n",
    "left, right = scipy.stats.norm.interval(conf_level)\n",
    "left, right = scipy.stats.t.interval(conf_level, df=df)\n",
    "x = np.linspace(-7, 7, 200)\n",
    "plt.plot(x, scipy.stats.norm.pdf(x))\n",
    "plt.plot(x, scipy.stats.t.pdf(x, df = df))\n",
    "x_int = np.linspace(left, right, 200)\n",
    "plt.fill_between(x_int, scipy.stats.norm.pdf(x_int), alpha=0.5) # probability 95%\n",
    "plt.fill_between(x_int, scipy.stats.t.pdf(x_int, df=df), alpha=0.1, color='red') # probability 95%\n",
    "plt.plot(x, np.zeros_like(x))\n",
    "print(left, right)"
   ]
  },
  {
   "cell_type": "code",
   "execution_count": 126,
   "metadata": {},
   "outputs": [
    {
     "data": {
      "text/plain": [
       "9360"
      ]
     },
     "execution_count": 126,
     "metadata": {},
     "output_type": "execute_result"
    }
   ],
   "source": [
    "def get_confint_t(pop_mean, pop_range, sample_szie, conf_level):\n",
    "    sample = np.random.uniform(pop_mean - pop_range,\n",
    "                          pop_mean + pop_range,\n",
    "                          size = sample_size)\n",
    "\n",
    "    stderr = np.std(sample, ddof=1) / np.sqrt(sample_size)\n",
    "\n",
    "    df = sample_size - 1\n",
    "    \n",
    "    left, right = scipy.stats.t.interval(conf_level, df=df)\n",
    "    \n",
    "    r = right * stderr\n",
    "    \n",
    "    sample_mean = np.mean(sample)\n",
    "\n",
    "    return (sample_mean - r, sample_mean + r)\n",
    "\n",
    "pop_mean = 3\n",
    "pop_range = 4\n",
    "sample_size = 20 # 94.6..%\n",
    "sample_size = 5 # 93%, \n",
    "\"\"\"\n",
    "This is due to the fact that even t distribution is just an approximation. \n",
    "And for very small samples and arbitrary distribution of our population, in this case uniform distribution. \n",
    "The t distribution does not follow the actual distribution of the mean\n",
    "\"\"\"\n",
    "conf_level = 0.95\n",
    "\n",
    "catched = 0\n",
    "iterations = 10000\n",
    "\n",
    "for i in range(iterations):\n",
    "    confint = get_confint_t(pop_mean, pop_range, sample_szie, conf_level)\n",
    "\n",
    "    if confint[0] < pop_mean < confint[1]:\n",
    "        catched += 1\n",
    "    \n",
    "catched"
   ]
  },
  {
   "cell_type": "markdown",
   "metadata": {},
   "source": [
    "Consider a sample (1, 2, 2, 4, 3, 2, 5). Find 99% confidence interval for corresponding population mean using normal approximation. Enter the right endpoint of the interval as numeric value with 3 digits after the decimal point."
   ]
  },
  {
   "cell_type": "code",
   "execution_count": 136,
   "metadata": {},
   "outputs": [
    {
     "data": {
      "text/plain": [
       "4.057942679844338"
      ]
     },
     "execution_count": 136,
     "metadata": {},
     "output_type": "execute_result"
    }
   ],
   "source": [
    "sample = [1, 2, 2, 4, 3, 2, 5]\n",
    "sample_size = len(sample)\n",
    "stderr = np.std(sample, ddof=1) / np.sqrt(sample_size)\n",
    "\n",
    "sample_mean = np.mean(sample)\n",
    "\n",
    "left, right = scipy.stats.norm.interval(0.99)\n",
    "\n",
    "r = right * stderr\n",
    "\n",
    "sample_mean + r"
   ]
  },
  {
   "cell_type": "markdown",
   "metadata": {},
   "source": [
    "F​or the same sample, find 99% confidence interval using t-distribution instead of normal distribution. (Thus we take into account that number of samples is rather small and normal approximation may be incorrect and produce too small confidence intervals.) Enter the right endpoint of this interval with 3 digits after the decimal point."
   ]
  },
  {
   "cell_type": "code",
   "execution_count": 138,
   "metadata": {},
   "outputs": [
    {
     "data": {
      "text/plain": [
       "4.648230435815615"
      ]
     },
     "execution_count": 138,
     "metadata": {},
     "output_type": "execute_result"
    }
   ],
   "source": [
    "df = sample_size - 1\n",
    "left, right = scipy.stats.t.interval(0.99, df=df)\n",
    "\n",
    "r = right * stderr\n",
    "\n",
    "sample_mean + r"
   ]
  }
 ],
 "metadata": {
  "kernelspec": {
   "display_name": "Python 3",
   "language": "python",
   "name": "python3"
  },
  "language_info": {
   "codemirror_mode": {
    "name": "ipython",
    "version": 3
   },
   "file_extension": ".py",
   "mimetype": "text/x-python",
   "name": "python",
   "nbconvert_exporter": "python",
   "pygments_lexer": "ipython3",
   "version": "3.7.9"
  }
 },
 "nbformat": 4,
 "nbformat_minor": 4
}
