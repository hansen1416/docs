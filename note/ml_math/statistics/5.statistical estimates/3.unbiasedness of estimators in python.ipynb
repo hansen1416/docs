{
 "cells": [
  {
   "cell_type": "markdown",
   "metadata": {},
   "source": [
    "If expected value fo an estimator is equal to the correct value of the parameter, this estimator is _unbiased_"
   ]
  },
  {
   "cell_type": "markdown",
   "metadata": {},
   "source": [
    "Which of these estimators of an i.i.d sample from random variable $X$ are unbiased estimators of $\\mathbb EX$? Select all correct options.\n",
    "\n",
    "- arithmetic mean of a sample\n",
    "- arithmetic mean of a sample's first half (i.e. first n/2 elements in the order they are met in the sample)\n",
    "- arithmetic mean of first 10 elements of a sample "
   ]
  },
  {
   "cell_type": "markdown",
   "metadata": {},
   "source": [
    "Let $(x_1)$ be one-element sample from random variable $X$ distributed according to uniform law over segment $[0, a]$, $a>0$. Find such constant $c$ that $cx_1$ be unbiased estimator for $a$.\n",
    "\n",
    "$\\mathbb{E}cx_1 = c\\mathbb{E}x_1 = c\\mathbb{E}X = c\\frac{a}{2} \\implies c = 2$"
   ]
  },
  {
   "cell_type": "code",
   "execution_count": 1,
   "metadata": {},
   "outputs": [],
   "source": [
    "import matplotlib.pyplot as plt\n",
    "import numpy as np\n",
    "import scipy.stats"
   ]
  },
  {
   "cell_type": "code",
   "execution_count": 5,
   "metadata": {},
   "outputs": [],
   "source": [
    "def find_bias(population, \n",
    "              estimator, \n",
    "              sample_size, \n",
    "              iterations=100000):\n",
    "    \n",
    "    estimates = []\n",
    "    pop_mean = np.mean(population)\n",
    "    for i in range(iterations):\n",
    "        sample = np.random.choice(population, size=sample_size)\n",
    "        estimate = estimator(sample)\n",
    "        estimates.append(estimate)\n",
    "        \n",
    "    return np.abs(np.mean(estimates) - pop_mean)"
   ]
  },
  {
   "cell_type": "code",
   "execution_count": 6,
   "metadata": {},
   "outputs": [
    {
     "data": {
      "text/plain": [
       "0.0028766666666673046"
      ]
     },
     "execution_count": 6,
     "metadata": {},
     "output_type": "execute_result"
    }
   ],
   "source": [
    "population = [1,2,5,4,8,4]\n",
    "find_bias(population, np.mean, 3)"
   ]
  },
  {
   "cell_type": "code",
   "execution_count": 7,
   "metadata": {},
   "outputs": [
    {
     "data": {
      "text/plain": [
       "2.23606797749979"
      ]
     },
     "execution_count": 7,
     "metadata": {},
     "output_type": "execute_result"
    }
   ],
   "source": [
    "np.std(population)"
   ]
  },
  {
   "cell_type": "code",
   "execution_count": 9,
   "metadata": {},
   "outputs": [],
   "source": [
    "def mean_with_coeff(sample):\n",
    "    n = len(sample)\n",
    "    return np.mean(sample) * n/(n-1)"
   ]
  },
  {
   "cell_type": "code",
   "execution_count": 10,
   "metadata": {},
   "outputs": [
    {
     "data": {
      "text/plain": [
       "1.987965"
      ]
     },
     "execution_count": 10,
     "metadata": {},
     "output_type": "execute_result"
    }
   ],
   "source": [
    "find_bias(population, mean_with_coeff, 3)"
   ]
  },
  {
   "cell_type": "code",
   "execution_count": 11,
   "metadata": {},
   "outputs": [
    {
     "data": {
      "text/plain": [
       "0.44306444444444537"
      ]
     },
     "execution_count": 11,
     "metadata": {},
     "output_type": "execute_result"
    }
   ],
   "source": [
    "find_bias(population, mean_with_coeff, 10)"
   ]
  },
  {
   "cell_type": "code",
   "execution_count": 13,
   "metadata": {},
   "outputs": [],
   "source": [
    "def first_element(sample):\n",
    "    return sample[0]"
   ]
  },
  {
   "cell_type": "code",
   "execution_count": 15,
   "metadata": {},
   "outputs": [
    {
     "data": {
      "text/plain": [
       "0.003230000000000288"
      ]
     },
     "execution_count": 15,
     "metadata": {},
     "output_type": "execute_result"
    }
   ],
   "source": [
    "# unbiasedness is a good property, but not crucial.\n",
    "# in this case, unbiasedness is not very useful\n",
    "find_bias(population, first_element, 5)"
   ]
  }
 ],
 "metadata": {
  "kernelspec": {
   "display_name": "Python 3",
   "language": "python",
   "name": "python3"
  },
  "language_info": {
   "codemirror_mode": {
    "name": "ipython",
    "version": 3
   },
   "file_extension": ".py",
   "mimetype": "text/x-python",
   "name": "python",
   "nbconvert_exporter": "python",
   "pygments_lexer": "ipython3",
   "version": "3.7.9"
  }
 },
 "nbformat": 4,
 "nbformat_minor": 4
}
