{
 "cells": [
  {
   "cell_type": "markdown",
   "metadata": {},
   "source": [
    "random variable $X$, i.i.d sample $(x_1, x_2, \\dots , x_n) = x$\n",
    "\n",
    "$\\mathbb{E}X = \\mu$\n",
    "\n",
    "$CI(x) = (\\bar{x} - s, \\bar{x} + s)$\n",
    "\n",
    "$P(\\bar{x} \\in (\\mu -s, \\mu+s)) = conf. level$\n",
    "\n",
    "1. Confidence level\n",
    "\n",
    "when confidence level increase, $s$ increase\n",
    "\n",
    "$s$ depends on _sample size_ and _VarX_\n",
    "\n",
    "$Var \\bar{x} = \\frac{Var X}{n}$\n",
    "\n",
    "For fixed conf. level\n",
    "\n",
    "$S \\sim \\sqrt{Var \\bar{x}} = stderr \\bar{x}$\n",
    "\n",
    "size of your confidence interval, depends on variance of your data and sample size. \n",
    "\n",
    "If you have large sample size, you have small confidence intervals, because you have a lot of data to estimate the value you're interested in, with high precision. \n",
    "\n",
    "Again, a large variance of your data increases the length of the confidence interval, because your estimates of mu, will become less precise due to large variance in the data. \n",
    "\n",
    "So we can conclude that __variance of x, increase then length of confidence interval also increase, and if sample size increase, then length of confidence interval decrease__.\n",
    "\n",
    "We usually do not control variance of x, which is a property of the process that we are investigate, and we have some predefined confidence level like 95%. \n",
    "\n",
    "So if we want to decrease with the size of confidence interval, __the only thing that we can do is to collect more data and increase this sample size n. This is how statistics usually works__, if you want better answers, collect more data."
   ]
  },
  {
   "cell_type": "markdown",
   "metadata": {},
   "source": [
    "_example_\n",
    "\n",
    "Center of a confidence interval constructed using procedure that is discussed in videos coincides with\n",
    "\n",
    "__sample mean__\n",
    "\n",
    "---\n",
    "\n",
    "A sample of size 100 is taken from Gaussian random variable. Assume that the sample average is 10 and its standard deviation is 5. Find the left endpoint of 95% confidence interval for population mean. Use the formula discussed in videos. Enter numeric value with 2 digits after the decimal point.\n",
    "\n",
    "$10 - 1.96 \\times \\frac{5}{\\sqrt{100}} = 9.02$\n",
    "\n",
    "---\n",
    "\n",
    "Assume that you collected sample of size 30 and obtained confidence interval for the value you are interested in. The radius of confidence interval is 0.2. You want to collect more data to improve the precision of your estimate and obtain confidence interval with radius 0.02. How large sample do you need? Assume that standard deviation will not change. Enter number of elements as integer number.\n",
    "\n",
    "$s = 1.96 \\times \\frac{\\sigma}{\\sqrt{30}} = 0.2 \\implies \\sigma = 0.558900569$\n",
    "\n",
    "$0.02 = 1.96 \\times \\frac{0.558900569}{\\sqrt{n}} \\implies \\sqrt{n} = 54.772255751^2 = 3000$\n",
    "\n",
    "_to obtain 10 times better precision you need $10^2=100$ times more elements in the sample_"
   ]
  }
 ],
 "metadata": {
  "kernelspec": {
   "display_name": "Python 3",
   "language": "python",
   "name": "python3"
  },
  "language_info": {
   "codemirror_mode": {
    "name": "ipython",
    "version": 3
   },
   "file_extension": ".py",
   "mimetype": "text/x-python",
   "name": "python",
   "nbconvert_exporter": "python",
   "pygments_lexer": "ipython3",
   "version": "3.7.9"
  }
 },
 "nbformat": 4,
 "nbformat_minor": 4
}
