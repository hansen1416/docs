{
 "cells": [
  {
   "cell_type": "markdown",
   "metadata": {},
   "source": [
    "__Estimators__\n",
    "\n",
    "$X$ i.i.d. $(x_1, x_2, \\ldots, x_n) = x$\n",
    "\n",
    "Let $\\theta$ be a parameter of $x$, (e.g. $\\theta=\\mathbb{E}X$, or $\\theta=VarX$)\n",
    "\n",
    "Consider function $\\hat{\\theta}(x)$\n",
    "\n",
    "which values are estimates (point) for $\\theta$\n",
    "\n",
    "Example: \n",
    "\n",
    "1) $\\theta = \\mathbb{E}X, \\hat{\\theta}(x)=\\bar{x}$\n",
    "\n",
    "2) $\\theta = Var X, \\hat{\\theta}_1 = Var(X)$ sample variance, $\\hat{\\theta}_2(x) = Var_+(x)$\n"
   ]
  },
  {
   "cell_type": "markdown",
   "metadata": {},
   "source": [
    "__Properties of estimators__\n",
    "\n",
    "1. Consistency\n",
    "\n",
    "$\\hat{\\theta}(x) \\to \\theta$ as $n \\to 0$\n",
    "\n",
    "2. Unbiasedness\n",
    "\n",
    "$\\mathbb{E}\\hat{\\theta}(x) = \\theta$ for fixed $n$\n",
    "\n",
    "example: \n",
    "\n",
    "1)\n",
    "\n",
    "$\\bar{x} \\to \\mathbb{E}X$ as $n \\to \\infty$ law of large numbers\n",
    "\n",
    "$\\implies \\bar{x}$ is consistent estimator for $\\mathbb{E}X$  \n",
    "\n",
    "---\n",
    "\n",
    "$\\mathbb{E}\\bar{x} = \\mathbb{E}X$\n",
    "\n",
    "$\\implies \\bar{x}$ is unbiased estimator for $\\mathbb{E}X$  \n",
    " \n",
    "2)\n",
    "\n",
    "Consider $\\bar{\\theta}(x) = \\frac{n}{n+1}\\bar{x}$\n",
    "\n",
    "consistent but biased: $\\mathbb{E}\\frac{n}{n+1}\\bar{x} = \\frac{n}{n+1}\\mathbb{E}\\bar{x} = \\frac{n}{n+1}\\mathbb{E}X$"
   ]
  }
 ],
 "metadata": {
  "kernelspec": {
   "display_name": "Python 3",
   "language": "python",
   "name": "python3"
  },
  "language_info": {
   "codemirror_mode": {
    "name": "ipython",
    "version": 3
   },
   "file_extension": ".py",
   "mimetype": "text/x-python",
   "name": "python",
   "nbconvert_exporter": "python",
   "pygments_lexer": "ipython3",
   "version": "3.7.9"
  }
 },
 "nbformat": 4,
 "nbformat_minor": 4
}
