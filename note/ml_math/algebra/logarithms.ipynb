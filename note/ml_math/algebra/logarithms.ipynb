{
 "cells": [
  {
   "cell_type": "markdown",
   "metadata": {},
   "source": [
    "### Properies of Logarithms\n",
    "\n",
    "__the profuct rule__ $\\;\\;\\log_b(MN)=\\log_b(M)+\\log_b(N)$\n",
    "\n",
    "__the quotient rule__ $\\;\\;\\log_b(\\frac{M}{N})=\\log_b(M)-\\log_b(N)$\n",
    "\n",
    "__the power rule__ $\\;\\;\\log_b(M^p)=p\\times\\log_b(M)$\n",
    "\n",
    "__the change of base rule__ $\\;\\;\\log_b(a) = \\frac{\\log_z(a)}{\\log_z(b)}$"
   ]
  }
 ],
 "metadata": {
  "kernelspec": {
   "display_name": "Python 3",
   "language": "python",
   "name": "python3"
  },
  "language_info": {
   "codemirror_mode": {
    "name": "ipython",
    "version": 3
   },
   "file_extension": ".py",
   "mimetype": "text/x-python",
   "name": "python",
   "nbconvert_exporter": "python",
   "pygments_lexer": "ipython3",
   "version": "3.7.9"
  }
 },
 "nbformat": 4,
 "nbformat_minor": 2
}
