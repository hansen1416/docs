{
 "cells": [
  {
   "cell_type": "markdown",
   "metadata": {},
   "source": [
    "Assume there is not an airline route between A and B, in other word, vertices A and B are not connected. \n",
    "\n",
    "Denote $ \\mathcal{G} $ as the a graph contains all the airports, $ \\mathcal{S} $ is a connected component of $ \\mathcal{G} $, and $ A \\in \\mathcal{S} $. And as a graph $ \\mathcal{S} $ must contain an even number of vertices of odd degree. So we must have $ B \\in \\mathcal{S} $, thus, A and B are connected.\n",
    "\n",
    "So there must be an airline route between A and B"
   ]
  }
 ],
 "metadata": {
  "kernelspec": {
   "display_name": "Python 3",
   "language": "python",
   "name": "python3"
  },
  "language_info": {
   "codemirror_mode": {
    "name": "ipython",
    "version": 3
   },
   "file_extension": ".py",
   "mimetype": "text/x-python",
   "name": "python",
   "nbconvert_exporter": "python",
   "pygments_lexer": "ipython3",
   "version": "3.6.8"
  }
 },
 "nbformat": 4,
 "nbformat_minor": 2
}
