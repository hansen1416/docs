{
 "cells": [
  {
   "cell_type": "markdown",
   "metadata": {},
   "source": [
    "While connectedness ensures the *possibility* of gettting from one vertex to another, the circuit rank measures *reliability* of the system\n",
    "\n",
    "The circuit rank is the graph invariant counted as follows: it is the minimum number of edges which should be removed from the graph to break all its cycles"
   ]
  },
  {
   "cell_type": "markdown",
   "metadata": {},
   "source": [
    "compute circuit rank by\n",
    "\n",
    "$ r = m-n+c $, m is edges, n is vertices, c is connected components\n",
    "\n",
    "For a connected graph, we have to prove\n",
    "\n",
    "$ r=m-n+1 $\n",
    "\n",
    "If we remove $ m-n+1 $ edges, then the number of edges becomes $ n-1 $, which is the minimal possible for a connected graph.\n",
    "\n",
    "Thus, this graph is a tree, so $r \\leq m-n+1$\n",
    "\n",
    "On the other hand, if we remove less than $ m-n+1 $ edges, the graph could not become a tree or forest: in a forest, the number of edges is $\\leq n-1$\n",
    "\n",
    "Thus the grapsh could still contain cycles\n",
    "\n",
    "Therefore, $ r \\geq m-n+1 $"
   ]
  }
 ],
 "metadata": {
  "kernelspec": {
   "display_name": "Python 3",
   "language": "python",
   "name": "python3"
  },
  "language_info": {
   "codemirror_mode": {
    "name": "ipython",
    "version": 3
   },
   "file_extension": ".py",
   "mimetype": "text/x-python",
   "name": "python",
   "nbconvert_exporter": "python",
   "pygments_lexer": "ipython3",
   "version": "3.6.8"
  }
 },
 "nbformat": 4,
 "nbformat_minor": 2
}
