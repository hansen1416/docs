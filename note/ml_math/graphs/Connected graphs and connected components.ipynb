{
 "cells": [
  {
   "cell_type": "markdown",
   "metadata": {},
   "source": [
    "- Vertex $v$ belongs to the connected component of vertex $u$, if $v$ and $u$ are connected, $ d(u,v) < \\infty $\n",
    "\n",
    "- Denote the connected component of $u$ by $[u]$\n",
    "\n",
    "- if $ v \\in [u],\\;then\\;[v] = [u] $\n",
    "\n",
    "- and if $ v \\notin [u], \\;then\\; [v] \\cap [u] = \\emptyset $"
   ]
  },
  {
   "cell_type": "markdown",
   "metadata": {},
   "source": [
    "__The Minimum__\n",
    "\n",
    "\n",
    "A connected graph on $n$ vertices should have at least $n-1$ edges\n",
    "\n",
    "If $ m < n-1 $, then the graph has at least two connected components\n",
    "\n",
    "More generally, if a graph on $n$ vertices has $k$ connected components, it should have at least $n-k$ edges\n",
    "\n",
    "$ m \\geq n-k $\n",
    "\n",
    "$ k \\geq n-m $"
   ]
  },
  {
   "cell_type": "markdown",
   "metadata": {},
   "source": [
    "__The Maximum__\n",
    "\n",
    "However, even if $ m \\geq n -1 $, the graph could be disconnected.\n",
    "\n",
    "If a connected component includes $n_1$ vertices, then the number of edges is less or equal than $ n_1 \\times (n_1 - 1) / 2$\n",
    "\n",
    "Thus, if a graph has two or more connected components, $ n_1+n_2=n $ then\n",
    "\n",
    "$ m \\leq n_1 \\times (n_1 - 1) / 2 + n_2 \\times (n_2 - 1)/2 $\n",
    "\n",
    "If $m$ is greater, the graph should be connected\n",
    "\n",
    "The maximum value of $ n_1 \\times (n_1 - 1)/2 + n_2 \\times (n_2 - 1) /2 $ is one with $ n_1 = n - 1 $ and $ n_2=1 $ or symmetrically, $ n_1=1, n_2=n-1 $\n",
    "\n",
    "The inequation here should be strict: if m is exactly (n - 1)(n - 2)/2, the graph could be a complete graph on (n - 1) vertices plus one isolated vertex. If m > (n - 1)(n - 2)/2, then the graph is indeed guaranteed to be connected."
   ]
  },
  {
   "cell_type": "markdown",
   "metadata": {},
   "source": [
    "__Connectedness of Random Graph__\n",
    "\n",
    "$ G(n, \\frac{1}{2} $ is almost surely connected for $ n \\to \\infty $\n",
    "\n",
    "$ G(n, 2^{-n}) $ almost surely has an isolated vertex, thus it is disconnected\n",
    "\n",
    "The exact boundaries are as follows:\n",
    "    \n",
    "- if $ {\\large p < \\frac{(1-\\varepsilon) \\ln{n}}{n}} $, then $ G(n, p) $ is almost surely disconnected\n",
    "\n",
    "- if $ {\\large p > \\frac{(1-\\varepsilon) \\ln{n}}{n}} $, then $ G(n, p) $ is almost surely connected"
   ]
  }
 ],
 "metadata": {
  "kernelspec": {
   "display_name": "Python 3",
   "language": "python",
   "name": "python3"
  },
  "language_info": {
   "codemirror_mode": {
    "name": "ipython",
    "version": 3
   },
   "file_extension": ".py",
   "mimetype": "text/x-python",
   "name": "python",
   "nbconvert_exporter": "python",
   "pygments_lexer": "ipython3",
   "version": "3.6.9"
  }
 },
 "nbformat": 4,
 "nbformat_minor": 2
}
