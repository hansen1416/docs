{
 "cells": [
  {
   "cell_type": "markdown",
   "metadata": {},
   "source": [
    "If there exists a Euler path, then the graph has at most two odd vertices.\n",
    "\n",
    "The one on the right has 8 odd vertices. There is not a Euler path.\n",
    "\n",
    "The one on the left has 9 vertices of degree 2 and 6 vertices of degree 4, and it is connected. Because there is no odd vertices, so we will never get stuck. Thus. there is a Euler path. In other word, it can be drawn in one stroke of pen."
   ]
  }
 ],
 "metadata": {
  "kernelspec": {
   "display_name": "Python 3",
   "language": "python",
   "name": "python3"
  },
  "language_info": {
   "codemirror_mode": {
    "name": "ipython",
    "version": 3
   },
   "file_extension": ".py",
   "mimetype": "text/x-python",
   "name": "python",
   "nbconvert_exporter": "python",
   "pygments_lexer": "ipython3",
   "version": "3.6.8"
  }
 },
 "nbformat": 4,
 "nbformat_minor": 2
}
