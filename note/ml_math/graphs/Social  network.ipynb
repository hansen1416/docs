{
 "cells": [
  {
   "cell_type": "markdown",
   "metadata": {},
   "source": [
    "### Watts - Strogatz model\n",
    "\n",
    "__Parameters__\n",
    "\n",
    "$n$, number of vertices\n",
    "\n",
    "$k$, average degree; $k$ shoule be even\n",
    "\n",
    "$ \\beta \\in [0, 1] $ (constant)"
   ]
  },
  {
   "cell_type": "markdown",
   "metadata": {},
   "source": [
    "The neighborhood for a vertex is defined as its immediately connected neighbors.\n",
    "\n",
    "The local clustering coefficient for a vertex is then given by the proportion of links between the __vertices within its neighborhood__ divided by the number of links that could __possibly exist between its neighborhood__. \n",
    "\n",
    "The clustering coefficient for the whole network is the average of local clustering."
   ]
  }
 ],
 "metadata": {
  "kernelspec": {
   "display_name": "Python 3",
   "language": "python",
   "name": "python3"
  },
  "language_info": {
   "codemirror_mode": {
    "name": "ipython",
    "version": 3
   },
   "file_extension": ".py",
   "mimetype": "text/x-python",
   "name": "python",
   "nbconvert_exporter": "python",
   "pygments_lexer": "ipython3",
   "version": "3.6.9"
  }
 },
 "nbformat": 4,
 "nbformat_minor": 2
}
