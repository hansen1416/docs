{
 "cells": [
  {
   "cell_type": "markdown",
   "metadata": {},
   "source": [
    "Tree grashs\n",
    "--\n",
    "\n",
    "if a tree has `n` vertices and `m` edges, then `m = n-1` "
   ]
  },
  {
   "cell_type": "markdown",
   "metadata": {},
   "source": [
    "Four color theorem\n",
    "--\n",
    "\n",
    "If a graph can be drawn on a plane without intersections, then it is 4-colorable. (a map)\n",
    "\n",
    "Vertices=areas; edges connect adjacent areas."
   ]
  },
  {
   "cell_type": "markdown",
   "metadata": {},
   "source": [
    "Two colors, bupartite\n",
    "--\n",
    "\n",
    "A 2-coloring can be constructed by a greedy algorithm.\n",
    "\n",
    "However, if the greedy algorithm fails, there is a cycle with an odd number of vertices. \n",
    "\n",
    "Vertices in a bipartite graph can be split into two parts such that edges go only between parts."
   ]
  }
 ],
 "metadata": {
  "kernelspec": {
   "display_name": "Python 3",
   "language": "python",
   "name": "python3"
  },
  "language_info": {
   "codemirror_mode": {
    "name": "ipython",
    "version": 3
   },
   "file_extension": ".py",
   "mimetype": "text/x-python",
   "name": "python",
   "nbconvert_exporter": "python",
   "pygments_lexer": "ipython3",
   "version": "3.6.8"
  }
 },
 "nbformat": 4,
 "nbformat_minor": 2
}
