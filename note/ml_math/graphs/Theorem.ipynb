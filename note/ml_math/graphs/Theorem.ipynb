{
 "cells": [
  {
   "cell_type": "markdown",
   "metadata": {},
   "source": [
    "Tree grashs\n",
    "--\n",
    "\n",
    "if a tree has `n` vertices and `m` edges, then `m = n-1` "
   ]
  },
  {
   "cell_type": "markdown",
   "metadata": {},
   "source": [
    "Four color theorem\n",
    "--\n",
    "\n",
    "If a graph can be drawn on a plane without intersections, then it is 4-colorable. (a map)\n",
    "\n",
    "Vertices=areas; edges connect adjacent areas."
   ]
  },
  {
   "cell_type": "markdown",
   "metadata": {},
   "source": [
    "Two colors, bupartite\n",
    "--\n",
    "\n",
    "A 2-coloring can be constructed by a greedy algorithm.\n",
    "\n",
    "However, if the greedy algorithm fails, there is a cycle with an odd number of vertices. \n",
    "\n",
    "Vertices in a bipartite graph can be split into two parts such that edges go only between parts."
   ]
  },
  {
   "cell_type": "markdown",
   "metadata": {},
   "source": [
    "Erdos Renyi\n",
    "\n",
    "$ G(n, p) $ each edge is drawn with probability $p$, or not drawn with probability $1-p$, this is doen independently\n",
    "\n",
    "\n",
    "if a concret graph on $n$ vertices has $m$ edges, then its probability in \n",
    "\n",
    "$G(n, p)$ is $p^m (1-p)^{\\binom{n}{2}-m}$"
   ]
  },
  {
   "cell_type": "markdown",
   "metadata": {},
   "source": [
    "Asymptotic behaviour\n",
    "\n",
    "when $ n \\to \\infty$, this reflect big data situation, where we have many many vertices in the graph, \n",
    "\n",
    "the probability $p$ could depend on number of vertices $n$\n",
    "\n",
    "when $p = \\frac{1}{2}$ (fair coin)\n",
    "\n",
    "we calculate the upper bound\n",
    "\n",
    "Let $ {\\large V = {v_1, ... , v_n}} $\n",
    "\n",
    "$ {\\large P(G(n, \\frac{1}{2}) \\;\\;has\\;\\;an\\;\\;isolated\\;\\;vertex) \\leq n \\times P(v_i, is\\;\\;isolated)} $"
   ]
  }
 ],
 "metadata": {
  "kernelspec": {
   "display_name": "Python 3",
   "language": "python",
   "name": "python3"
  },
  "language_info": {
   "codemirror_mode": {
    "name": "ipython",
    "version": 3
   },
   "file_extension": ".py",
   "mimetype": "text/x-python",
   "name": "python",
   "nbconvert_exporter": "python",
   "pygments_lexer": "ipython3",
   "version": "3.6.8"
  }
 },
 "nbformat": 4,
 "nbformat_minor": 2
}
