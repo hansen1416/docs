{
 "cells": [
  {
   "cell_type": "markdown",
   "metadata": {},
   "source": [
    "Tree grashs\n",
    "--\n",
    "\n",
    "if a tree has `n` vertices and `m` edges, then `m = n-1` "
   ]
  },
  {
   "cell_type": "markdown",
   "metadata": {},
   "source": [
    "Four color theorem\n",
    "--\n",
    "\n",
    "If a graph can be drawn on a plane without intersections, then it is 4-colorable. (a map)\n",
    "\n",
    "Vertices=areas; edges connect adjacent areas."
   ]
  },
  {
   "cell_type": "markdown",
   "metadata": {},
   "source": [
    "Two colors, bipartite\n",
    "--\n",
    "\n",
    "A 2-coloring can be constructed by a greedy algorithm.\n",
    "\n",
    "However, if the greedy algorithm fails, there is a cycle with an odd number of vertices. \n",
    "\n",
    "Vertices in a bipartite graph can be split into two parts such that edges go only between parts."
   ]
  },
  {
   "cell_type": "markdown",
   "metadata": {},
   "source": [
    "__Erdos Renyi__\n",
    "\n",
    "$ G(n, p) $ each edge is drawn with probability $p$, or not drawn with probability $1-p$, this is done independently\n",
    "\n",
    "\n",
    "if a concret graph on $n$ vertices has $m$ edges, then its probability in \n",
    "\n",
    "$G(n, p)$ is $p^m (1-p)^{\\binom{n}{2}-m}$"
   ]
  },
  {
   "cell_type": "markdown",
   "metadata": {},
   "source": [
    "Asymptotic behaviour\n",
    "\n",
    "when $ n \\to \\infty$, this reflect big data situation, where we have many many vertices in the graph, \n",
    "\n",
    "the probability $p$ could depend on number of vertices $n$\n",
    "\n",
    "when $ {\\large p = \\frac{1}{2}}$ (fair coin)\n",
    "\n",
    "we calculate the upper bound\n",
    "\n",
    "Let $ {\\large V = {v_1, ... , v_n}} $\n",
    "\n",
    "$ {\\large P(G(n, \\frac{1}{2}) \\;\\;has\\;\\;an\\;\\;isolated\\;\\;vertex) \\leq n \\times P(v_i, is\\;\\;isolated)} $\n",
    "\n",
    "$ {\\large P(v_i\\;\\;is\\;\\;isolated) = \\frac{1}{2^{n-1}}  \\;that\\; is,\\; all\\; edges\\; going\\; from\\; v_i\\; shoud\\; not\\; drawn }$\n",
    "\n",
    "$ {\\large P(G(n, \\frac{1}{2}\\; has\\; an \\;isolated\\;vertex) \\leq \\frac{n}{2^{n-1}} \\to 0\\;when\\;n\\to \\infty)} $\n",
    "\n",
    "The same happens for any contant $p$: isolated vertices are rare"
   ]
  },
  {
   "cell_type": "markdown",
   "metadata": {},
   "source": [
    "When ${\\large p=\\frac{1}{n}}$\n",
    "\n",
    "$ {\\large P(G(n,\\frac{1}{n})\\;has\\;an\\;isolated\\;vertex)\\geq P(v_1\\;is\\;isolated)=(1-\\frac{1}{n})^{n-1} \\to e^{-1}  \\; when \\; n \\to \\infty  \\approx 0.37} $"
   ]
  },
  {
   "cell_type": "markdown",
   "metadata": {},
   "source": [
    "When $ {\\large p=2^{-n} } $\n",
    "\n",
    "$ {\\large P(G(n,\\frac{1}{n})\\;has\\;an\\;isolated\\;vertex)\\geq P(v_1\\;is\\;isolated)=(1-2^{-n})^{n-1} \\to 1 \\; when \\; n \\to \\infty } $"
   ]
  }
 ],
 "metadata": {
  "kernelspec": {
   "display_name": "Python 3",
   "language": "python",
   "name": "python3"
  },
  "language_info": {
   "codemirror_mode": {
    "name": "ipython",
    "version": 3
   },
   "file_extension": ".py",
   "mimetype": "text/x-python",
   "name": "python",
   "nbconvert_exporter": "python",
   "pygments_lexer": "ipython3",
   "version": "3.6.9"
  }
 },
 "nbformat": 4,
 "nbformat_minor": 2
}
