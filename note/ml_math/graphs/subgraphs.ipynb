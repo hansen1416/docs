{
 "cells": [
  {
   "cell_type": "markdown",
   "metadata": {},
   "source": [
    "An Induced subgraph icnludes all the egdes of the original graph, whose endpoints are in the vertex subsets.\n",
    "\n",
    "A spanning subgraph includes all verices of the original graph, but maybe not all egdes."
   ]
  },
  {
   "cell_type": "markdown",
   "metadata": {},
   "source": [
    "clique\n",
    "--\n",
    "\n",
    "A *clique* is a complete subgraph.\n",
    "\n",
    "A *clique* is always an induced subgraph.\n",
    "\n",
    "$ \\mathcal{C} $ is a clique *iff*, $ \\mathcal{C} $ is a subset of the vertex set of $ \\mathcal{G} $\n",
    "\n",
    "And every pair of disticted vertex in $ \\mathcal{C} $ is adjasent"
   ]
  },
  {
   "cell_type": "markdown",
   "metadata": {},
   "source": [
    "independent set\n",
    "--\n",
    "\n",
    "An independent set is an empty induced subgraph\n",
    "\n",
    "No pair of vertices from an independent set could be connected\n"
   ]
  },
  {
   "cell_type": "markdown",
   "metadata": {},
   "source": [
    "ramsey number\n",
    "--\n",
    "\n",
    "In any 6 people there must be 3 mutual friends or 3 mutual strangers\n",
    "\n",
    "In graph-theoretic terms: for any graph G on 6 vertices. either G or its complement $ \\overline{G} $ includes a triangle\n",
    "\n",
    "__proof__\n",
    "\n",
    "- Take and arbitrary vertex $v$\n",
    "- $v$ has either at least 3 blue or at least 3 red adjasent edges, otherwiese the total number is $ \\leq 2+2=4<5 $\n",
    "\n",
    "In general, $ R(m,k) $ is the minimal number $ n $ of vertices to guarantee that $ K_n $ with edges colored in blue and red includes a blue $ K_m $ or a red $ K_k $\n",
    "\n",
    "property\n",
    "\n",
    "Symmetry: $ R(m,k) = R(k,m) $\n",
    "\n",
    "Recursive inequation:\n",
    "\n",
    "$ R(m,k) \\leq R(m-1, k) + R(m, k-1) $\n",
    "\n",
    "In particular, $ R(m,k) < \\infty $ for any m, k, that is, if a graph is big enough, then either it incldes $K_m$ or its complement includes $K_k$ ($m$ and $k$ fixed). This is called __Ramsey's theorem__"
   ]
  },
  {
   "cell_type": "markdown",
   "metadata": {},
   "source": [
    "Vertex covers\n",
    "--\n",
    "\n",
    "A *vertex cover* is a subset C of vertices such that for any edge at least one its endpoint belongs to C.\n",
    "\n",
    "A *vertex cover* is optimal, if it contains the smallest possible number pf vertices.\n",
    "\n",
    "__Fact__\n",
    "\n",
    "A set C of vertices is a vertex cover if and only if its complement, V - C, is an independent set."
   ]
  },
  {
   "cell_type": "markdown",
   "metadata": {},
   "source": [
    "Matchings\n",
    "\n",
    "Suppose there is a set of $m$ edges in a graph, such that none of these edges are adjacent.\n",
    "\n",
    "Such a set is called a *matching*\n",
    "\n",
    "In this case, any vertex cover should include at least $m$ vertes.\n",
    "\n",
    "Once we have constructed out matching *M*, we take all endpoints of its edges and form a set of vertices *C*.\n",
    "\n",
    "Evidently $C = 2 \\times |M| $\n",
    "\n",
    "For any vertex cover $ C^{\\prime} $, we have $ |C^{\\prime}| \\geq |M| $\n",
    "\n",
    "$ |C| \\leq 2 \\times |C_{opt}| $"
   ]
  }
 ],
 "metadata": {
  "kernelspec": {
   "display_name": "Python 3",
   "language": "python",
   "name": "python3"
  },
  "language_info": {
   "codemirror_mode": {
    "name": "ipython",
    "version": 3
   },
   "file_extension": ".py",
   "mimetype": "text/x-python",
   "name": "python",
   "nbconvert_exporter": "python",
   "pygments_lexer": "ipython3",
   "version": "3.6.8"
  }
 },
 "nbformat": 4,
 "nbformat_minor": 2
}
