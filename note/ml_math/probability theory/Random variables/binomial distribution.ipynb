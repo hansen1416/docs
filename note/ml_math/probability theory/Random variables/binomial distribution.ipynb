{
 "cells": [
  {
   "cell_type": "markdown",
   "metadata": {},
   "source": [
    "Toss a non-fair coin n times $P(head) = p, P(tail)=1-p$. X is number of heads\n",
    "\n",
    "Let $n =5$\n",
    "\n",
    "$P(X=0) = P(\\{TTTTT\\}) = (1-p)^5$\n",
    "\n",
    "$P(X=1) = P(\\{HTTTT,THTTT,TTHTT,TTTHT,TTTTH\\}) = 5\\times p^1(1-p)^5$\n",
    "\n",
    "$P(X=2) = \\binom{5}{2}p^2(1-p)^3$\n",
    "\n",
    "__General case__\n",
    "\n",
    "$P(X=k)=\\binom{n}{k} \\cdot p^k \\cdot (1-p)^{n-k}$  \n",
    "\n",
    "$\\binom{n}{k}$ is the number of outcomes with exactly $k$ heads out of $n$ tossing.\n",
    "\n",
    "$k=1,2,\\dots,n$"
   ]
  }
 ],
 "metadata": {
  "kernelspec": {
   "display_name": "Python 3",
   "language": "python",
   "name": "python3"
  },
  "language_info": {
   "codemirror_mode": {
    "name": "ipython",
    "version": 3
   },
   "file_extension": ".py",
   "mimetype": "text/x-python",
   "name": "python",
   "nbconvert_exporter": "python",
   "pygments_lexer": "ipython3",
   "version": "3.6.9"
  }
 },
 "nbformat": 4,
 "nbformat_minor": 2
}
