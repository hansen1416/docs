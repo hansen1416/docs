{
 "cells": [
  {
   "cell_type": "markdown",
   "metadata": {},
   "source": [
    "Toss a non-fair coin n times $P(head) = p, P(tail)=1-p$. X is number of heads\n",
    "\n",
    "Let $n =5$\n",
    "\n",
    "$P(X=0) = P(\\{TTTTT\\}) = (1-p)^5$\n",
    "\n",
    "$P(X=1) = P(\\{HTTTT,THTTT,TTHTT,TTTHT,TTTTH\\}) = 5\\times p^1(1-p)^5$\n",
    "\n",
    "$P(X=2) = \\binom{5}{2}p^2(1-p)^3$\n",
    "\n",
    "__General case__\n",
    "\n",
    "$P(X=k)=\\binom{n}{k} \\cdot p^k \\cdot (1-p)^{n-k}$  \n",
    "\n",
    "$\\binom{n}{k}$ is the number of outcomes with exactly $k$ heads out of $n$ tossing.\n",
    "\n",
    "$k=1,2,\\dots,n$"
   ]
  },
  {
   "cell_type": "markdown",
   "metadata": {},
   "source": [
    "__example__\n",
    "\n",
    "Biathlonist hits the target in 90% of shots. Find the probability that he hits exactly 3 out of 5 targets. Give the answer up to 3rd decimal digit.\n",
    "\n",
    "$p = 90\\%; n = 5; k=3$\n",
    "\n",
    "$P(H=3)=\\binom{n}{k}p^{k}(1-p)^{n-k} = \\binom{5}{3}0.9^{3}(1-0.9)^{5-3}\n",
    "=10 \\times 0.9^3 \\times 0.1^2=0.0729$"
   ]
  },
  {
   "cell_type": "markdown",
   "metadata": {},
   "source": [
    "__example__\n",
    "\n",
    "Student knows answers to 75 out of 100 questions in the exam. He picks 3 random questions of the 100 and answers. Three correct answers yield grade A, two correct answers yield grade B, 1 correct answer yields C and 0 yields D.\n",
    "\n",
    "What's the probability of the student getting A grade. Give the answer up to 2nd decimal digit:\n",
    "\n",
    "$p=0.75; n=3;$\n",
    "\n",
    "$P(C=3)=\\binom{3}{3}p^{3}(1-p)^{0}=0.75^3=0.421875$\n",
    "\n",
    "\n",
    "Under the same conditions, what's the probability of the student getting B grade. Give the answer up to 2nd decimal digit:\n",
    "\n",
    "$P(C=3)=\\binom{3}{2}p^{2}(1-p)^{1}=3 \\times 0.75^2 \\times 0.25=0.421875$\n",
    "\n",
    "\n",
    "Under the same conditions, what's the probability of the student getting C grade. Give the answer up to 2nd decimal digit:\n",
    "\n",
    "\n",
    "$P(C=3)=\\binom{3}{1}p^{1}(1-p)^{2}=3 \\times 0.75 \\times 0.25^2=0.140625$\n",
    "\n",
    "\n",
    "Under the same conditions, what's the probability of the student getting D grade (provided that it's the lowest grade for the exam). Give the answer up to 2nd decimal digit:\n",
    "\n",
    "\n",
    "$P(C=3)=\\binom{3}{0}p^{0}(1-p)^{3}=\\times 0.25^3=0.015625$\n",
    "\n",
    "\n",
    "Under the same circumstances, What's the probability that 2 out of 5 students will get A, 2 will get B and 1 will get C? Give the answer up to 2nd decimal digit:\n",
    "\n",
    "__Multinomial Experiment__\n",
    "\n",
    ">A multinomial experiment is a statistical experiment that has the following properties:\n",
    "\n",
    "- The experiment consists of n repeated trials.\n",
    "- Each trial has a discrete number of possible outcomes.\n",
    "- On any given trial, the probability that a particular outcome will occur is constant.\n",
    "- The trials are independent; that is, the outcome on one trial does not affect the outcome on other trials.\n",
    "\n",
    "__Multinomial Distribution__\n",
    "\n",
    ">A multinomial distribution is the probability distribution of the outcomes from a multinomial experiment. The multinomial formula defines the probability of any outcome from a multinomial experiment.\n",
    "\n",
    "Multinomial Formula. Suppose a multinomial experiment consists of $n$ trials, and each trial can result in any of $k$ possible outcomes: $E_1, E_2, . . . , E_k$. Suppose, further, that each possible outcome can occur with probabilities $p_1, p_2, . . . , p_k$. Then, the probability $P$ that $E_1$ occurs $n_1$ times, $E_2$ occurs $n_2$ times, . . . , and $E_k$ occurs $n_k$ times is:\n",
    "\n",
    "$P = \\frac{n!}{n_1!  n_2! \\dots n_k!}  p_1^{n_1} p_2^{n_2} \\dots  p_k^{n_k}$\n",
    "\n",
    "where $n = n_1 + n_2 + . . . + n_k$.\n",
    "\n",
    "$n = 5, n_1=2, n_2 = 2, n_3 = 1; p_1 = 0.421875, p_2=0.421875, p_3=0.140625$ \n",
    "\n",
    "$P=\\frac{5!}{2!2!1!} 0.421875^2 \\times 0.421875^2 \\times 0.140625 = 30 \\times 0.004454487 = 0.13363461$"
   ]
  }
 ],
 "metadata": {
  "kernelspec": {
   "display_name": "Python 3",
   "language": "python",
   "name": "python3"
  },
  "language_info": {
   "codemirror_mode": {
    "name": "ipython",
    "version": 3
   },
   "file_extension": ".py",
   "mimetype": "text/x-python",
   "name": "python",
   "nbconvert_exporter": "python",
   "pygments_lexer": "ipython3",
   "version": "3.6.9"
  }
 },
 "nbformat": 4,
 "nbformat_minor": 2
}
