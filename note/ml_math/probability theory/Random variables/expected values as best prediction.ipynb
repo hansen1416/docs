{
 "cells": [
  {
   "cell_type": "markdown",
   "metadata": {},
   "source": [
    "Let $X$ be demand on pancakes, $\\hat{x}$ be predictions\n",
    "\n",
    "$\\mathbb{E}(X-\\hat{x})^2$ is squared error loss, denote as $l(\\hat{x})$\n",
    "\n",
    "$l(\\hat{x}) = \\mathbb{E}(X-\\hat{x})^2$"
   ]
  }
 ],
 "metadata": {
  "kernelspec": {
   "display_name": "Python 3",
   "language": "python",
   "name": "python3"
  },
  "language_info": {
   "codemirror_mode": {
    "name": "ipython",
    "version": 3
   },
   "file_extension": ".py",
   "mimetype": "text/x-python",
   "name": "python",
   "nbconvert_exporter": "python",
   "pygments_lexer": "ipython3",
   "version": "3.6.9"
  }
 },
 "nbformat": 4,
 "nbformat_minor": 2
}
