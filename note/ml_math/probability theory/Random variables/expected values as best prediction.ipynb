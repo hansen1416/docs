{
 "cells": [
  {
   "cell_type": "markdown",
   "metadata": {},
   "source": [
    "Let $X$ be demand on pancakes, $\\hat{x}$ be predictions\n",
    "\n",
    "$\\mathbb{E}(X-\\hat{x})^2$ is squared error loss, denote as $l(\\hat{x})$\n",
    "\n",
    "$l(\\hat{x}) = \\mathbb{E}(X-\\hat{x})^2 = \\sum^{n}_{i=1}(x_i-\\hat{x})^2 \\cdot p_i$\n",
    "\n",
    "To find the minimum of $l(\\hat{x})$, try to find its derivative\n",
    "\n",
    "$l^{\\prime}(\\hat{x}) = \\sum^{n}_{i=1}((x_i-\\hat{x})^2 \\cdot p_i)^{\\prime}=-\\sum^{n}_{i=1} 2 (x_i-\\hat{x}) \\cdot p_i$\n",
    "\n",
    "find its minimum, let $l^{\\prime}(\\hat{x})=0$\n",
    "\n",
    "$\\sum^{n}_{i=1} 2 (x_i-\\hat{x}) \\cdot p_i = 0\n",
    "\\implies\n",
    "\\sum^{n}_{i=1}x_ip_i-\\sum^{n}_{i=1}\\hat{x}p_i=0\n",
    "\\implies\n",
    "\\sum^{n}_{i=1}x_ip_i=\\hat{x}\\sum^{n}_{i=1}p_i\n",
    "$\n",
    "\n",
    "because $\\sum^{n}_{i=1}p_i=1$\n",
    "\n",
    "$\\sum^{n}_{i=1}x_ip_i=\\hat{x} \\implies \\hat{x}_{opt} = \\mathbb{E}X $"
   ]
  }
 ],
 "metadata": {
  "kernelspec": {
   "display_name": "Python 3",
   "language": "python",
   "name": "python3"
  },
  "language_info": {
   "codemirror_mode": {
    "name": "ipython",
    "version": 3
   },
   "file_extension": ".py",
   "mimetype": "text/x-python",
   "name": "python",
   "nbconvert_exporter": "python",
   "pygments_lexer": "ipython3",
   "version": "3.6.9"
  }
 },
 "nbformat": 4,
 "nbformat_minor": 2
}
