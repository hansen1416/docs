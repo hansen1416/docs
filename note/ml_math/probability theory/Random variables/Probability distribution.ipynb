{
 "cells": [
  {
   "cell_type": "markdown",
   "metadata": {},
   "source": [
    "__Probability distribution__\n",
    "\n",
    "$P(X \\geq 1) = P(X=1 \\cup X=2) = P(X=1) + P(X=2) = \\frac{3}{4}$"
   ]
  },
  {
   "cell_type": "markdown",
   "metadata": {},
   "source": [
    "__Definition__\n",
    "\n",
    "Let random variables $X$ take values $x_1, x_2, \\dots, x_n$ with probabilities $p_1, p_2, \\dots, p_n$  \n",
    "$P(X=x_j)=p_j,\\; j = 1,\\dots,n,\\; p_j \\geq 0,\\; \\sum^{n}_{i=1} p_i = 1$"
   ]
  },
  {
   "cell_type": "markdown",
   "metadata": {},
   "source": [
    "__Definition of probability mass function__\n",
    "\n",
    "$pmf_{X}(x)=P(X=x)$"
   ]
  }
 ],
 "metadata": {
  "kernelspec": {
   "display_name": "Python 3",
   "language": "python",
   "name": "python3"
  },
  "language_info": {
   "codemirror_mode": {
    "name": "ipython",
    "version": 3
   },
   "file_extension": ".py",
   "mimetype": "text/x-python",
   "name": "python",
   "nbconvert_exporter": "python",
   "pygments_lexer": "ipython3",
   "version": "3.6.9"
  }
 },
 "nbformat": 4,
 "nbformat_minor": 2
}
