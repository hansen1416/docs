{
 "cells": [
  {
   "cell_type": "markdown",
   "metadata": {},
   "source": [
    "__Saint-Petersberg paradox__\n",
    "\n",
    "$P(X=2^k) = \\frac{1}{2^{k+1}}$\n",
    "\n",
    "$\\mathbb{E}X=\\sum^{\\infty}_{k=0}2^k \\cdot \\frac{1}{2^{k+1}} = \\sum^{\\infty}_{k=0}\\frac{1}{2} = \\infty$"
   ]
  },
  {
   "cell_type": "markdown",
   "metadata": {},
   "source": [
    "__Geometric distribution__\n",
    "\n",
    "Exp: toss a non-fair coin until first head\n",
    "\n",
    "Let $X$ denote the number of tossings until first head (including head)\n",
    "\n",
    "If it's a fair coin, as follow\n",
    "\n",
    "| x      | 1   | 2   | 3   | $\\dotsm$ | k |\n",
    "|--------|-----|-----|-----|----------|---|\n",
    "| p(X=x) | 1/2 | 1/4 | 1/8 |          | $\\frac{1}{2^k}$ |\n",
    "\n",
    "$\\frac{1}{2}+\\frac{1}{4}+\\frac{1}{8}+ \\dotsm + \\frac{1}{2^k} = 1$\n",
    "\n",
    "If it's non-fair\n",
    "\n",
    "P(H) = p\n",
    "\n",
    "$P(X=k) = (1-p)^{k-1}p$"
   ]
  },
  {
   "cell_type": "markdown",
   "metadata": {},
   "source": [
    "__Possion distribution__\n",
    "\n",
    "$\\lambda > 0$\n",
    "\n",
    "$ P(X=k)=\\frac{\\lambda^k}{k!}e^{-\\lambda} $"
   ]
  },
  {
   "cell_type": "markdown",
   "metadata": {},
   "source": [
    "__example__\n",
    "\n",
    "Find Expectation of Geometric distribution with probability of success equal to 0.1. Enter the value:\n",
    "\n"
   ]
  }
 ],
 "metadata": {
  "kernelspec": {
   "display_name": "Python 3",
   "language": "python",
   "name": "python3"
  },
  "language_info": {
   "codemirror_mode": {
    "name": "ipython",
    "version": 3
   },
   "file_extension": ".py",
   "mimetype": "text/x-python",
   "name": "python",
   "nbconvert_exporter": "python",
   "pygments_lexer": "ipython3",
   "version": "3.6.9"
  }
 },
 "nbformat": 4,
 "nbformat_minor": 2
}
