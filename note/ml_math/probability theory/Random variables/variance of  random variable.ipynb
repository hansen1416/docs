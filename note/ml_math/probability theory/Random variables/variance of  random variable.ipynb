{
 "cells": [
  {
   "cell_type": "markdown",
   "metadata": {},
   "source": [
    "| p | 0.1 | 0.9 |\n",
    "|--|--|--|\n",
    "| $X$ | 5 | -1 |\n",
    "| $X-\\mathbb{E}X$ | 5.4 | -0.6 |\n",
    "| $(X-\\mathbb{E}X)^2$ | 29.16 | 0.36 |\n",
    "\n",
    "$\\mathbb{E}X=-0.4$\n",
    "\n",
    "$\\mathbb{E}(X-\\mathbb{E}X)=0$\n",
    "\n",
    "$\\mathbb{E}(X-\\mathbb{E}X)^2=VarX=20.16 \\times 0.4+0.36 \\times 0.9 = 3.24$"
   ]
  },
  {
   "cell_type": "markdown",
   "metadata": {},
   "source": [
    "__Definition__\n",
    "\n",
    "X is random variable\n",
    "\n",
    "$VarX = \\mathbb{E}(X-\\mathbb{E}X)^2$"
   ]
  },
  {
   "cell_type": "markdown",
   "metadata": {},
   "source": [
    "__example__\n",
    "\n",
    "What’s the variance of random variable that takes values from -3 to 3 with probabilities set by PMF:\n",
    "\n",
    "| X | -3 | -2 | -1 | 0 | 1 | 2 | 3 |\n",
    "|---|----|----|----|---|---|---|---|\n",
    "| P | 1/14 | 1/7 | 1/7 | 2/7 | 2/7 | 0 | 1/14\n",
    "\n",
    "$\\mathbb{E}X = 1/14\\times -3+1/7\\times -2+1/7\\times -1+2/7\\times0+2/7\\times1+0\\times2+1/14\\times3=-1/7$\n",
    "\n",
    "$Var X = (-3+1/7)^2+(-2+1/7)^2+(-1+1/7)^2+(0+1/7)^2+(1+1/7)^2+(2+1/7)^2+(3+1/7)^2=1379/49=28.14$"
   ]
  }
 ],
 "metadata": {
  "kernelspec": {
   "display_name": "Python 3",
   "language": "python",
   "name": "python3"
  },
  "language_info": {
   "codemirror_mode": {
    "name": "ipython",
    "version": 3
   },
   "file_extension": ".py",
   "mimetype": "text/x-python",
   "name": "python",
   "nbconvert_exporter": "python",
   "pygments_lexer": "ipython3",
   "version": "3.6.9"
  }
 },
 "nbformat": 4,
 "nbformat_minor": 2
}
