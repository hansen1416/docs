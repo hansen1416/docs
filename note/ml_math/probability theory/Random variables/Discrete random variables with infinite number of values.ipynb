{
 "cells": [
  {
   "cell_type": "markdown",
   "metadata": {},
   "source": [
    "Exp: toss a fair coin until first head\n",
    "\n",
    "Let $X$ denote the number of tossings until first head (including head)\n",
    "\n",
    "| x      | 1   | 2   | 3   | $\\dotsm$ | k |\n",
    "|--------|-----|-----|-----|----------|---|\n",
    "| p(X=x) | 1/2 | 1/4 | 1/8 |          | $\\frac{1}{2^k}$ |\n",
    "\n",
    "$\\frac{1}{2}+\\frac{1}{4}+\\frac{1}{8}+ \\dotsm + \\frac{1}{2^k} = 1$"
   ]
  },
  {
   "cell_type": "markdown",
   "metadata": {},
   "source": [
    "Let $X$ denote discrete random variable\n",
    "\n",
    "\n",
    "finite number of distinct values\n",
    "\n",
    "| x | $x_1$ | $x_2$ | $x_3$ | $\\dotsm$ | $x_n$ |\n",
    "|---|-------|-------|-------|----------|-------|\n",
    "| p | $p_1$ | $p_2$ | $p_3$ | $\\dotsm$ | $p_n$ |\n",
    "\n",
    "$\\sum^{n}_{i=1}p_i = 1; p_i \\leq 0; i= 1,\\dots,n$\n",
    "\n",
    "$\\mathbb{E}X=\\sum^{n}_{i=1}x_ip_i$\n",
    "\n",
    "---\n",
    "\n",
    "infinite (but countable) number of distinct values\n",
    "\n",
    "| x | $x_1$ | $x_2$ | $x_3$ | $\\dotsm$ | $x_n$ | $\\dotsm$ |\n",
    "|---|-------|-------|-------|----------|-------|----------|\n",
    "| p | $p_1$ | $p_2$ | $p_3$ | $\\dotsm$ | $p_n$ | $\\dotsm$ |\n",
    "\n",
    "$\\sum^{\\infty}_{i=1}p_i = 1; p_i \\leq 0; i= 1,\\dots,n$\n",
    "\n",
    "$\\mathbb{E}X=\\sum^{\\infty}_{i=1}x_ip_i$ __possibly non-existent__"
   ]
  },
  {
   "cell_type": "markdown",
   "metadata": {},
   "source": [
    "__example__\n",
    "\n",
    "Consider random variable $X$ which distribution is defined in the following way. Variable $X$ can take any non-negative integer value and $P(X=k)=1/2^{k+2}$ for any $k>0$. Find $P(X=0)$. Enter proper fraction.\n",
    "\n",
    "$\\sum^{\\infty}_{i=1}P_i = 1 - P(X=0)$ because $X$ can take any non-negative integer value and $k>0$.\n",
    "\n",
    "$\\sum^{\\infty}_{i=1}P_i = \\frac{1}{2^3} + \\frac{1}{2^4} + \\dotsm + \\frac{1}{2^{\\infty}} = 1 - \\frac{1}{2} - \\frac{1}{4} = \\frac{1}{4}$\n",
    "\n",
    "$P(X=0) = \\frac{3}{4}$"
   ]
  },
  {
   "cell_type": "markdown",
   "metadata": {},
   "source": [
    "__example__\n",
    "\n",
    "Consider the following random variable $Y$. It takes only values of the form $1/2^k$ for positive integer $k$ and $ P(Y=1/2^k)=1/2^k$ for each $k$. Find expected value of this random variable. Enter answer as a proper fraction.\n",
    "\n",
    "$\\mathbb{E}Y = \\sum^{\\infty}_{i=1}Y_iP_i = \\sum^{\\infty}_{i=1}\\frac{1}{2^k}\\frac{1}{2^k}\n",
    "= \\sum^{\\infty}_{i=1}\\frac{1}{2^{2k}} = \\frac{1}{2^2} + \\frac{1}{2^4} + \\frac{1}{2^6} + \\dotsm + \\frac{1}{2^{2n}} = \\frac{1}{3}$"
   ]
  },
  {
   "cell_type": "code",
   "execution_count": 3,
   "metadata": {},
   "outputs": [
    {
     "name": "stdout",
     "output_type": "stream",
     "text": [
      "0.3333333333333333 0.3333333333333333\n"
     ]
    }
   ],
   "source": [
    "s = 0\n",
    "for i in range(1,10000):\n",
    "    s+= 1/(2**(2*i))\n",
    "    \n",
    "print(s, 1/3)\n"
   ]
  },
  {
   "cell_type": "code",
   "execution_count": null,
   "metadata": {},
   "outputs": [],
   "source": [
    "from numpy.random import choice"
   ]
  },
  {
   "cell_type": "code",
   "execution_count": null,
   "metadata": {},
   "outputs": [],
   "source": [
    "choice([1,2,4], p=[0.2,0.5,0.3])"
   ]
  },
  {
   "cell_type": "code",
   "execution_count": null,
   "metadata": {},
   "outputs": [],
   "source": [
    "def count_frequencies(data, relative=False):\n",
    "    counter = {}\n",
    "    for element in data:\n",
    "        if element not in counter:\n",
    "            counter[element] = 1\n",
    "        else:\n",
    "            counter[element] += 1\n",
    "            \n",
    "    if relative:\n",
    "        for element in counter:\n",
    "            counter[element] /= len(data)\n",
    "    return counter"
   ]
  },
  {
   "cell_type": "code",
   "execution_count": null,
   "metadata": {},
   "outputs": [],
   "source": [
    "smaple = [choice([1,2,4], p=[0.2,0.5,0.3]) for _ in range(1000)]"
   ]
  },
  {
   "cell_type": "code",
   "execution_count": null,
   "metadata": {},
   "outputs": [],
   "source": [
    "count_frequencies(smaple, relative = True)"
   ]
  },
  {
   "cell_type": "code",
   "execution_count": null,
   "metadata": {},
   "outputs": [],
   "source": [
    "import matplotlib.pyplot as plt"
   ]
  },
  {
   "cell_type": "code",
   "execution_count": null,
   "metadata": {},
   "outputs": [],
   "source": [
    "freqs = count_frequencies(smaple, relative = True)"
   ]
  },
  {
   "cell_type": "code",
   "execution_count": null,
   "metadata": {},
   "outputs": [],
   "source": [
    "%matplotlib inline"
   ]
  },
  {
   "cell_type": "code",
   "execution_count": null,
   "metadata": {},
   "outputs": [],
   "source": [
    "plt.bar(list(freqs.keys()), list(freqs.values()))"
   ]
  },
  {
   "cell_type": "markdown",
   "metadata": {},
   "source": [
    "__example__\n",
    "\n",
    "__Saint-Petersberg paradox__\n",
    "\n",
    "$P(X=2^k) = \\frac{1}{2^{k+1}}$\n",
    "\n",
    "$\\mathbb{E}X=\\sum^{\\infty}_{k=0}2^k \\cdot \\frac{1}{2^{k+1}} = \\sum^{\\infty}_{k=0}\\frac{1}{2} = \\infty$"
   ]
  },
  {
   "cell_type": "markdown",
   "metadata": {},
   "source": [
    "__example__\n",
    "\n",
    "__Possion distribution__\n",
    "\n",
    "$\\lambda > 0$\n",
    "\n",
    "$ P(X=k)=\\frac{\\lambda^k}{k!}e^{-\\lambda} $"
   ]
  }
 ],
 "metadata": {
  "kernelspec": {
   "display_name": "Python 3",
   "language": "python",
   "name": "python3"
  },
  "language_info": {
   "codemirror_mode": {
    "name": "ipython",
    "version": 3
   },
   "file_extension": ".py",
   "mimetype": "text/x-python",
   "name": "python",
   "nbconvert_exporter": "python",
   "pygments_lexer": "ipython3",
   "version": "3.6.9"
  }
 },
 "nbformat": 4,
 "nbformat_minor": 2
}
