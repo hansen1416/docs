{
 "cells": [
  {
   "cell_type": "markdown",
   "metadata": {},
   "source": [
    "__Saint-Petersberg paradox__\n",
    "\n",
    "$P(X=2^k) = \\frac{1}{2^{k+1}}$\n",
    "\n",
    "$\\mathbb{E}X=\\sum^{\\infty}_{k=0}2^k \\cdot \\frac{1}{2^{k+1}} = \\sum^{\\infty}_{k=0}\\frac{1}{2} = \\infty$"
   ]
  },
  {
   "cell_type": "markdown",
   "metadata": {},
   "source": [
    "__Geometric distribution__\n",
    "\n",
    "Exp: toss a non-fair coin until first head\n",
    "\n",
    "Let $X$ denote the number of tossings until first head (including head)\n",
    "\n",
    "If it's a fair coin, as follow\n",
    "\n",
    "| x      | 1   | 2   | 3   | $\\dotsm$ | k |\n",
    "|--------|-----|-----|-----|----------|---|\n",
    "| p(X=x) | 1/2 | 1/4 | 1/8 |          | $\\frac{1}{2^k}$ |\n",
    "\n",
    "$\\frac{1}{2}+\\frac{1}{4}+\\frac{1}{8}+ \\dotsm + \\frac{1}{2^k} = 1$\n",
    "\n",
    "If it's non-fair\n",
    "\n",
    "P(H) = p\n",
    "\n",
    "$P(X=k) = (1-p)^{k-1}p$\n",
    "\n",
    "$\\mathbb{E}X= \\sum^{\\infty}_{k=1} k \\cdot (1-p)^{k-1}p$  \n",
    "$=p[\\sum^{\\infty}_{k=1} (1-p)^{k-1} + \\sum^{\\infty}_{k=2} (1-p)^{k-1} + \\sum^{\\infty}_{k=3} (1-p)^{k-1} + \\dotsm]$  \n",
    "$=p[(1/p) + (1-p)/p + (1-p)^2/p + \\dotsm]$  \n",
    "$=1+(1-p)+(1-p)^2$  \n",
    "$=\\frac{1}{p}$\n",
    "\n",
    "$Var X = \\frac{1-p}{p^2}$"
   ]
  },
  {
   "cell_type": "markdown",
   "metadata": {},
   "source": [
    "__example__\n",
    "\n",
    "Find Expectation of Geometric distribution with probability of success equal to 0.1. Enter the value:\n",
    "\n",
    "$\\mathbb{E}(X) = \\frac{1}{0.1} = 10$\n",
    "\n",
    "Find Variance of Geometric distribution with probability of success equal to 0.1. Enter the value:\n",
    "\n",
    "$Var X = \\frac{1-0.1}{0.1^2} = 90$"
   ]
  },
  {
   "cell_type": "markdown",
   "metadata": {},
   "source": [
    "__example__\n",
    "\n",
    "There are 4 black balls and 1 white ball in a box. The balls are taken out until the white ball occurs. Black balls return to the box. Find the probability that the experiment stops after 5 tries. Enter the exact value below (e.g., 13/28 or 0.12):\n",
    "\n",
    "$p=0.2$\n",
    "\n",
    "$P(X=5) = 0.8^4 \\times 0.2 = 0.08192$"
   ]
  },
  {
   "cell_type": "markdown",
   "metadata": {},
   "source": [
    "__Possion distribution__\n",
    "\n",
    "$\\lambda > 0$\n",
    "\n",
    "$ P(X=k)=\\frac{\\lambda^k}{k!}e^{-\\lambda} $"
   ]
  },
  {
   "cell_type": "markdown",
   "metadata": {},
   "source": [
    "__Conditions for Use__\n",
    "\n",
    "- An event can occur any number of times during a time period.\n",
    "- Events occur independently. In other words, if an event occurs, it does not affect the probability of another event occurring in the same time period.\n",
    "- The rate of occurrence is constant; that is, the rate does not change based on time.\n",
    "- The probability of an event occurring is proportional to the length of the time period. For example, it should be twice as likely for an event to occur in a 2 hour time period than it is for an event to occur in a 1 hour period.\n",
    "\n",
    "For example, the Poisson distribution is appropriate for modeling the number of phone calls an office would receive during the noon hour, if they know that they average 4 calls per hour during that time period.\n",
    "\n",
    "- Although the average is 4 calls, they could theoretically get any number of calls during that time period.\n",
    "- The events are effectively independent since there is no reason to expect a caller to affect the chances of another person calling.\n",
    "- The occurrence rate may be assumed to be constant.\n",
    "- It is reasonable to assume that (for example) the probability of getting a call in the first half hour is the same as the probability of getting a call in the final half hour."
   ]
  },
  {
   "cell_type": "markdown",
   "metadata": {},
   "source": [
    "__example__\n",
    "\n",
    "Assume that number of calls that some call center receives during one minute is Poisson random variable with parameter $\\lambda = 2$. Use Python to find probability that number of calls is larger than 5. Enter number with first 5 digits after the decimal point.\n",
    "\n",
    "Hint: Use scipy.stats.poisson object."
   ]
  },
  {
   "cell_type": "code",
   "execution_count": null,
   "metadata": {},
   "outputs": [],
   "source": [
    "from scipy.stats import poisson\n",
    "import numpy as np\n",
    "\n",
    "p = []\n",
    "s = 0\n",
    "\n",
    "for x in range(0,6):\n",
    "    p.append(poisson.pmf(x, 2))\n",
    "    s += poisson.pmf(x, 2)\n",
    "print(p)\n",
    "print(s, 1-s)\n",
    "\n",
    "# [0.1353352832366127, 0.2706705664732254, 0.2706705664732254, 0.18044704431548356, 0.09022352215774178, 0.03608940886309672]\n",
    "# 0.9834363915193856 0.016563608480614445"
   ]
  },
  {
   "cell_type": "markdown",
   "metadata": {},
   "source": [
    "This problem continues previous one. Assume now that one operator can handle one call in one minute. If call is not handled, it's missed. How many operators should I hire to be sure that probability to miss a call during one minute is not larger than 0.05? Of course I want to minimize number of operators hired.\n",
    "\n",
    "Hint: Denote number of calls by $X$ (it's a random variable) and number of operators hired by $q$ (it's integer number). If $X>q$, then call is lost. You need to find minimal value qq such that $P(X>q) \\le 0.05$. You can re-state this question in terms of CDF values, then answer it by investigating of CDF function in Python. However, there is more efficient way to do it: `scipy.stats` random variables have `.ppf` method that calculates percent point function (also known as quantile function) that is inverse function for CDF. For any value $p$ it finds a minimal value qq such that $CDF(q) \\ge p$."
   ]
  },
  {
   "cell_type": "code",
   "execution_count": null,
   "metadata": {},
   "outputs": [],
   "source": [
    "print(poisson.ppf(1-0.05, 2))"
   ]
  }
 ],
 "metadata": {
  "kernelspec": {
   "display_name": "Python 3",
   "language": "python",
   "name": "python3"
  },
  "language_info": {
   "codemirror_mode": {
    "name": "ipython",
    "version": 3
   },
   "file_extension": ".py",
   "mimetype": "text/x-python",
   "name": "python",
   "nbconvert_exporter": "python",
   "pygments_lexer": "ipython3",
   "version": "3.6.9"
  }
 },
 "nbformat": 4,
 "nbformat_minor": 2
}
