{
 "cells": [
  {
   "cell_type": "markdown",
   "metadata": {},
   "source": [
    "Expected value of X\n",
    "\n",
    "$\\mathbb{E}X = x_1 \\cdot p_1 + x_2 \\cdot p_2 + \\dots + x_n \\cdot p_n = \\sum^{n}_{k=1}x_kp_k$"
   ]
  },
  {
   "cell_type": "markdown",
   "metadata": {},
   "source": [
    "__example__\n",
    "\n",
    "What’s the expectation of random variable that accepts values from -3 to 3 with probabilities set by PMF:\n",
    "\n",
    "\n",
    "| X | -3 | -2 | -1 | 0 | 1 | 2 | 3 |\n",
    "|---|----|----|----|---|---|---|---|\n",
    "| P | 1/14 | 1/7 | 1/7 | 2/7 | 2/7 | 0 | 1/14\n",
    "\n",
    "$\\mathbb{E}X = 1/14\\times -3+1/7\\times -2+1/7\\times -1+2/7\\times0+2/7\\times1+0\\times2+1/14\\times3=-1/7$"
   ]
  },
  {
   "cell_type": "markdown",
   "metadata": {},
   "source": [
    "__example__\n",
    "\n",
    "Find expectation of the product of values on two independently rolled fair dice. Enter the number with at least 2 digits after dot (e.g. 0.23):"
   ]
  },
  {
   "cell_type": "code",
   "execution_count": 14,
   "metadata": {},
   "outputs": [
    {
     "name": "stdout",
     "output_type": "stream",
     "text": [
      "12.25\n"
     ]
    }
   ],
   "source": [
    "from itertools import product\n",
    "\n",
    "distribution = [x*y for x, y in (product([1,2,3,4,5,6], repeat=2))]\n",
    "omega = len(distribution)\n",
    "result = {}\n",
    "\n",
    "for d in distribution:\n",
    "    ex = result.get(d)\n",
    "    if ex is None:\n",
    "        result[d] = 1\n",
    "    else:\n",
    "        result[d] += 1\n",
    "        \n",
    "res = 0\n",
    "\n",
    "for i, r in result.items():\n",
    "    res += i * r / omega\n",
    "    \n",
    "print(res)"
   ]
  },
  {
   "cell_type": "markdown",
   "metadata": {},
   "source": [
    "__example__\n",
    "\n",
    "A player rolls a fair dice and gets \"\\$3 multiplied by the value on the dice\" in the case of even outcome and loses \"\\$4 multiplied by the value on the dice\" in the case of odd outcome. What's his average payout? Enter the value below:\n",
    "\n",
    "$(1\\times -4 + 2 \\times 3 + 3 \\times -4 + 4 \\times 3 + 5 \\times -4 + 6 \\times 3)/6 = 0$"
   ]
  },
  {
   "cell_type": "markdown",
   "metadata": {},
   "source": [
    "__example__\n",
    "\n",
    "A player is offered to play against croupier who rolls 6 dice simultaneously. If there's a \"street\" (all 6 digits are yield on different dice), the croupier wins. Otherwise, the player wins. The player is offered to bet \\$60 against croupier's \\$1 (that is, the player loses \\$60 if the “street” combination occur and wins \\$1 otherwise). Will this game be profitable to the player in the long run?\n",
    "\n",
    "total outcomes = $6^6=46656$\n",
    "\n",
    "outcomes of street = $6\\times5\\times4\\times3\\times2\\times1=720$\n",
    "\n",
    "$720/46656 \\times -60 + (1-720/46656) \\times 1=0.058641975$ profitable"
   ]
  }
 ],
 "metadata": {
  "kernelspec": {
   "display_name": "Python 3",
   "language": "python",
   "name": "python3"
  },
  "language_info": {
   "codemirror_mode": {
    "name": "ipython",
    "version": 3
   },
   "file_extension": ".py",
   "mimetype": "text/x-python",
   "name": "python",
   "nbconvert_exporter": "python",
   "pygments_lexer": "ipython3",
   "version": "3.6.9"
  }
 },
 "nbformat": 4,
 "nbformat_minor": 2
}
