{
 "cells": [
  {
   "cell_type": "markdown",
   "metadata": {},
   "source": [
    "Expected value of X\n",
    "\n",
    "$\\mathbb{E}X = x_1 \\cdot p_1 + x_2 \\cdot p_2 + \\dots + x_n \\cdot p_n = \\sum^{n}_{k=1}x_kp_k$"
   ]
  },
  {
   "cell_type": "markdown",
   "metadata": {},
   "source": [
    "__example__\n",
    "\n",
    "What’s the expectation of random variable that accepts values from -3 to 3 with probabilities set by PMF:\n",
    "\n",
    "\n",
    "| X | -2  | -1  |  0  |  1  |  3  |\n",
    "|---|-----|-----|-----|-----|-----|\n",
    "| P | 0.1 |  p  | 0.4 | 2p  | 0.2 |\n",
    "\n",
    "\n",
    "Find p. Enter the value:\n",
    "\n",
    "0.1+p+0.4+2p+0.2 = 1,  p = 0.1\n",
    "\n",
    "\n",
    "Under the same conditions, find $\\mathbb{E}X$\n",
    "\n",
    "$\\mathbb{E}X = -2\\times0.1-1\\times0.1+0\\times0.4+1\\times0.2+3\\times0.2 = 0.5$\n",
    "\n",
    "\n",
    "Find $\\mathbb E (X-\\mathbb E X)^2$\n",
    "\n",
    "$\\mathbb E (X-\\mathbb E X)^2 = (-2-0.5)^2 \\times 0.1 + (-1-0.5)^2 \\times 0.1 + (0-0.5)^2 \\times 0.4 + (1-0.5)^2 \\times 0.2 + (3-0.5)^2 \\times 0.2 = 2.25$"
   ]
  },
  {
   "cell_type": "markdown",
   "metadata": {},
   "source": [
    "__example__\n",
    "\n",
    "There are 6 white balls in a box and 4 black balls. One random ball is taken. Find expected value of the indicator of event \"the ball is black\", i.e. the random variable that equals 1 if the ball is black and 0 otherwise.\n",
    "\n",
    "p(black) = 0.4"
   ]
  },
  {
   "cell_type": "markdown",
   "metadata": {},
   "source": [
    "__example__\n",
    "\n",
    "What’s the expectation of random variable that accepts values from -3 to 3 with probabilities set by PMF:\n",
    "\n",
    "\n",
    "| X | -3 | -2 | -1 | 0 | 1 | 2 | 3 |\n",
    "|---|----|----|----|---|---|---|---|\n",
    "| P | 1/14 | 1/7 | 1/7 | 2/7 | 2/7 | 0 | 1/14\n",
    "\n",
    "$\\mathbb{E}X = 1/14\\times -3+1/7\\times -2+1/7\\times -1+2/7\\times0+2/7\\times1+0\\times2+1/14\\times3=-1/7$"
   ]
  },
  {
   "cell_type": "markdown",
   "metadata": {},
   "source": [
    "__example__\n",
    "\n",
    "Find expectation of the product of values on two independently rolled fair dice. Enter the number with at least 2 digits after dot (e.g. 0.23):"
   ]
  },
  {
   "cell_type": "code",
   "execution_count": 3,
   "metadata": {},
   "outputs": [
    {
     "name": "stdout",
     "output_type": "stream",
     "text": [
      "36\n",
      "12.25\n"
     ]
    }
   ],
   "source": [
    "from itertools import product\n",
    "\n",
    "distribution = [x*y for x, y in product([1,2,3,4,5,6], repeat=2)]\n",
    "# print(distribution)\n",
    "omega = len(distribution)\n",
    "# print(omega)\n",
    "result = {}\n",
    "\n",
    "for d in distribution:\n",
    "    ex = result.get(d)\n",
    "    if ex is None:\n",
    "        result[d] = 1\n",
    "    else:\n",
    "        result[d] += 1\n",
    "        \n",
    "res = 0\n",
    "\n",
    "for i, r in result.items():\n",
    "    res += i * r / omega\n",
    "    \n",
    "print(res)"
   ]
  },
  {
   "cell_type": "markdown",
   "metadata": {},
   "source": [
    "__example__\n",
    "\n",
    "A player rolls a fair dice and gets \"\\$3 multiplied by the value on the dice\" in the case of even outcome and loses \"\\$4 multiplied by the value on the dice\" in the case of odd outcome. What's his average payout? Enter the value below:\n",
    "\n",
    "$(1\\times -4 + 2 \\times 3 + 3 \\times -4 + 4 \\times 3 + 5 \\times -4 + 6 \\times 3)/6 = 0$"
   ]
  },
  {
   "cell_type": "markdown",
   "metadata": {},
   "source": [
    "__example__\n",
    "\n",
    "A player is offered to play against croupier who rolls 6 dice simultaneously. If there's a \"street\" (all 6 digits are yield on different dice), the croupier wins. Otherwise, the player wins. The player is offered to bet \\$60 against croupier's \\$1 (that is, the player loses \\$60 if the “street” combination occur and wins \\$1 otherwise). Will this game be profitable to the player in the long run?\n",
    "\n",
    "total outcomes = $6^6=46656$\n",
    "\n",
    "outcomes of street = $6\\times5\\times4\\times3\\times2\\times1=720$\n",
    "\n",
    "$720/46656 \\times -60 + (1-720/46656) \\times 1=0.058641975$ profitable"
   ]
  },
  {
   "cell_type": "markdown",
   "metadata": {},
   "source": [
    "__example__\n",
    "\n",
    "There are 100 lottery tickets in a box. 10 of them win \\$1 each, 5 win 5\\$ each, 3 win 10\\$ each and 2 win \\$100 each. Player takes one ticket from the box. What's expectation of the amount he wins? Enter the exact value below (e.g., 13/28 or 0.12):\n",
    "\n",
    "$1\\times 10% + 5 \\times 5% + 10 \\times 3% + 100 \\times 2% + 0 \\times  80% = 2.65$\n",
    "\n",
    "Under the same conditions lottery organizer charges $3 for attempt to pick a ticket. After each attempt ticket returns to the box. What's expectation of the organizer's profit? Enter the exact value below (e.g., 13/28 or 0.12)\n",
    "\n",
    "$profit = 3-2.65 = 0.35$"
   ]
  },
  {
   "cell_type": "markdown",
   "metadata": {},
   "source": [
    "__example__\n",
    "\n",
    "There are 6 white balls in a box and 4 black balls. Two random balls a taken. Find expected value of the number of black balls among them. Enter the exact value below (e.g., 13/28 or 0.12):\n",
    "\n",
    "0.8"
   ]
  },
  {
   "cell_type": "markdown",
   "metadata": {},
   "source": [
    "__example__\n",
    "\n",
    "Discrete random variable takes only 2 values $x$ and $y$, $x < y. P(X=x)=0.2,\\; \\mathbb E X = 2.6,\\; Var X = 0.64$\n",
    "\n",
    "Find $P(X=y)$. Enter the exact value below (e.g., 13/28 or 0.12):............\n",
    "\n",
    "$P(X=y)=1-P(X=x)=0.8$\n",
    "\n",
    "Under the same conditions find $x$\n",
    "\n",
    "$x\\times 0.2 + y \\times 0.8 = 2.6 \\implies y = \\frac{13-x}{4}$\n",
    "\n",
    "$(x-2.6)^2 \\times 0.2 + (y-2.6)^2 \\times 0.8 = 0.64$\n",
    "\n",
    "$\\implies (x-2.6)^2 \\times 0.2 + (\\frac{13-x}{4} - \\frac{26}{10})^2 \\times 0.8 = 0.64$\n",
    "\n",
    "$\\implies 2(x-2.6)^2 + 8( \\frac{13}{20} - \\frac{x}{4})^2 = 6.4$\n",
    "\n",
    "$\\implies 2(x-2.6)^2 + \\frac{1}{2}( \\frac{13}{5} - x)^2 = 6.4$\n",
    "\n",
    "$\\implies 4(x-2.6)^2 + (2.6 - x)^2 = 12.8$\n",
    "\n",
    "$\\implies 5(x-2.6)^2 = 12.8$\n",
    "\n",
    "$\\implies (x-2.6)^2 = 2.56 \\implies x=4.2;x=1$"
   ]
  },
  {
   "cell_type": "markdown",
   "metadata": {},
   "source": [
    "__example__\n",
    "\n",
    "I can buy one lottery ticket out of two available. In the first lottery I can win $\\$100$ with probability 0.1, and the price of ticket is $\\$10$. In the second lottery, I can win $\\$50$ with probability $0.1$ and $\\$500$ with probability $0.01$. The price of ticket is $\\$20$. To decide which ticket to buy I toss a fair coin once. I chose first ticket in case of head and second otherwise. Let $X$ be random variable that denotes my net payout (taking into account price of a ticket). Find probability mass function of $X$ (hint: use law of total probability). Show that expected value of $X$ is an average of expected values of net payouts for each of two lotteries. Explain, why. Will it still hold if lotteries has different payouts or probabilities? Prove it.\n",
    "\n",
    "\n",
    "\n",
    "$x_1$ denote win the fist lottery, $x_1 = 90$,   \n",
    "$x_2$ denote lose the fist lottery, $x_2 = -10$,   \n",
    "$x_3$ denote win \\$50 in the second lottery, $x_3 = 30$,   \n",
    "$x_4$ denote win \\$500 in the second lottery, $x_4 = 480$,   \n",
    "$x_5$ denote lose in the second lottery, $x_5 = -20$  \n",
    "\n",
    "$P(x_1|H) = 0.1$\n",
    "$P(x_2|H) = 0.9$\n",
    "$P(x_3|T) = 0.1$\n",
    "$P(x_4|T) = 0.01$\n",
    "$P(x_5|T) = 0.89$\n",
    "\n",
    "$P(H) = 1/2; P(T) = 1/2$\n",
    "\n",
    "$P(X=90) = P((x_1 \\cap H) \\cup (x_1 \\cap T)) = P(H) \\cdot P(x_1 \\mid H) = 0.05$\n",
    "$P(X=-10) = P((x_2 \\cap H) \\cup (x_2 \\cap T)) = P(H) \\cdot P(x_2 \\mid H) = 0.45$\n",
    "$P(X=30) = P((x_3 \\cap H) \\cup (x_3 \\cap T)) = P(T) \\cdot P(x_3 \\mid T) = 0.05$\n",
    "$P(X=480) = P((x_4 \\cap H) \\cup (x_4 \\cap T)) = P(T) \\cdot P(x_4 \\mid T) = 0.005$\n",
    "$P(X=-20) = P((x_5 \\cap H) \\cup (x_5 \\cap T)) = P(T) \\cdot P(x_5 \\mid T) = 0.445$\n",
    "\n",
    "$\\mathbb{E}(X) = x_1 \\times P(X=x_1) + x_2 \\times P(X=x_2) + x_3 \\times P(X=x_3) + x_4 \\times P(X=x_4) + x_5 \\times P(X=x_5) = 90 \\times 0.05 - 10 \\times 0.45 + 30 \\times 0.05 + 480 \\times 0.005 - 20 \\times 0.445 = −5$\n",
    "\n",
    "\n",
    "$\\mathbb{E}(A) = (100 - 10) \\times 0.1 -10 \\times 0.9 = 0$  \n",
    "$\\mathbb{E}(B) = (50-20) \\times 0.1 + (500-20) \\times 0.01 -20 \\times 0.89 = -10$\n",
    "\n",
    "The average of expected values of net payouts for each of two lotteries is $(0-10)/2 = -5$"
   ]
  }
 ],
 "metadata": {
  "kernelspec": {
   "display_name": "Python 3",
   "language": "python",
   "name": "python3"
  },
  "language_info": {
   "codemirror_mode": {
    "name": "ipython",
    "version": 3
   },
   "file_extension": ".py",
   "mimetype": "text/x-python",
   "name": "python",
   "nbconvert_exporter": "python",
   "pygments_lexer": "ipython3",
   "version": "3.6.9"
  }
 },
 "nbformat": 4,
 "nbformat_minor": 2
}
