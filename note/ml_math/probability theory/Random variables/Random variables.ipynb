{
 "cells": [
  {
   "cell_type": "markdown",
   "metadata": {},
   "source": [
    "__Defination__\n",
    "\n",
    "Let $\\Omega$ be sample space of same random experiment.\n",
    "\n",
    "$X: \\Omega \\to \\mathbb{R}$ is random variables.\n",
    "\n",
    "$\\omega$ denote result of random experiment. $\\omega \\in \\Omega$\n",
    "\n",
    "$X(\\omega)$ denote value of random variable"
   ]
  },
  {
   "cell_type": "markdown",
   "metadata": {},
   "source": [
    "X number of heads in two tossings"
   ]
  },
  {
   "cell_type": "code",
   "execution_count": 1,
   "metadata": {},
   "outputs": [],
   "source": [
    "from itertools import product\n",
    "\n",
    "omega = set(product(['H', 'T'], repeat=2))"
   ]
  },
  {
   "cell_type": "code",
   "execution_count": 2,
   "metadata": {},
   "outputs": [
    {
     "data": {
      "text/plain": [
       "{('H', 'H'), ('H', 'T'), ('T', 'H'), ('T', 'T')}"
      ]
     },
     "execution_count": 2,
     "metadata": {},
     "output_type": "execute_result"
    }
   ],
   "source": [
    "omega"
   ]
  },
  {
   "cell_type": "markdown",
   "metadata": {},
   "source": [
    "$P(X=0) = P({\\omega \\in \\Omega | X(\\omega) = 0}) = P({TT}) = \\frac{1}{4}$\n",
    "\n",
    "$P(X=1) = P({HT, TH}) = \\frac{2}{4}$\n",
    "\n",
    "$P(X=2) = \\frac{1}{4}$"
   ]
  }
 ],
 "metadata": {
  "kernelspec": {
   "display_name": "Python 3",
   "language": "python",
   "name": "python3"
  },
  "language_info": {
   "codemirror_mode": {
    "name": "ipython",
    "version": 3
   },
   "file_extension": ".py",
   "mimetype": "text/x-python",
   "name": "python",
   "nbconvert_exporter": "python",
   "pygments_lexer": "ipython3",
   "version": "3.6.9"
  }
 },
 "nbformat": 4,
 "nbformat_minor": 2
}
