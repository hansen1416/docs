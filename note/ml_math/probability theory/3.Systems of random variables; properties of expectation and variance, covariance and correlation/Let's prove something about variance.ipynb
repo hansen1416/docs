{
 "cells": [
  {
   "cell_type": "markdown",
   "metadata": {},
   "source": [
    "__example__\n",
    "\n",
    "Use definition of variance and properties of expected value to prove that for any discrete random variable $X$, $\\mathop{\\mathrm{Var}} X = \\mathbb E (X^2) - (\\mathbb E X)^2$"
   ]
  },
  {
   "cell_type": "markdown",
   "metadata": {},
   "source": [
    "$\\mathop{\\mathrm{Var}} X = \\mathbb{E}(X-\\mathbb{E}(X))^2 \\;\\;\\;\\;$  (by definition of variance)  \n",
    "$= \\mathbb{E}(X^2 - 2X\\mathbb{E}X+\\mathbb{E}(X)^2)\\;\\;\\;\\;$   \n",
    "$= \\mathbb{E}(X^2) - \\mathbb{E}(2X\\mathbb{E}X)+\\mathbb{E}(\\mathbb{E}(X)^2))\\;\\;\\;\\;$  (property of expected value  $\\mathbb{E}(X+Y) = \\mathbb{E}X + \\mathbb{E}Y$)  \n",
    "$=\\mathbb{E}(X^2) - 2\\mathbb{E}(X)\\mathbb{E}(X)+\\mathbb{E}(X)^2\\;\\;\\;\\;$  (property of expected value $\\mathbb{E}(cX) = c\\mathbb{E}(X)$. $\\;\\;\\mathbb{E}(X)^2$ and $\\mathbb{E}(X)$ are constant)  \n",
    "$=\\mathbb{E}(X^2)-2\\mathbb{E}(X)^2+\\mathbb{E}(X)^2$  \n",
    "$=\\mathbb{E}(X^2)-\\mathbb{E}(X)^2$"
   ]
  },
  {
   "cell_type": "markdown",
   "metadata": {},
   "source": [
    "__example__\n",
    "\n",
    "Consider Bernoulli random variable, i.e. random variable that takes value 1 with probability $p$ and value 0 with probability $1-p$. Find its variance. Then find variance of binomial random variable with probability of success (i.e. head) $p$ and number of trials (i.e. tosses) $n$.\n",
    "\n",
    "__Hint__. We discussed the relation between Bernoulli and binomial random variables in programming assignment on Week 2. Use properties of variance here; be careful with your explanations: do not forget all the conditions that you need."
   ]
  },
  {
   "cell_type": "markdown",
   "metadata": {},
   "source": [
    "Let $X$ denote Bernoulli random variable.\n",
    "\n",
    "$\\mathbb{E}X = 1 \\cdot p + 0 \\cdot (1-p) = p$  \n",
    "\n",
    "$\\mathbb{E}(X^2) = 1^2 \\cdot p + 0^2 \\cdot (1-p) = p$\n",
    "\n",
    "$\\mathop{\\mathrm{Var}} X = \\mathbb{E}(X-\\mathbb{E}(X))^2 = \\mathbb{E}(X^2)-\\mathbb{E}(X)^2 = p-p^2 = p(1-p)$\n",
    "\n",
    "Let $Y$ denote binomial random variable, which can be viewed as sum of $n$ independent Bernoulli random variable\n",
    "\n",
    "$\\mathop{\\mathrm{Var}} Y = \\mathop{\\mathrm{Var}} (X_1 + X_2 + \\dotsm + X_n)$ \n",
    "\n",
    "Because $X_1, X_2 \\dots X_n$ are independent.\n",
    "\n",
    "$\\mathop{\\mathrm{Var}} (X_1 + X_2 + \\dotsm + X_n) = \\mathop{\\mathrm{Var}}X_1 + \\mathop{\\mathrm{Var}}X_2 + \\dotsm + \\mathop{\\mathrm{Var}}X_n$\n",
    "\n",
    "$\\mathop{\\mathrm{Var}}Y = n\\cdot \\mathop{\\mathrm{Var}}X = np(1-p)$"
   ]
  },
  {
   "cell_type": "markdown",
   "metadata": {},
   "source": [
    "__example__\n",
    "\n",
    "Is it possible for random variable to have finite expected value and infinite variance? If yes, provide an example. If no, prove it.\n",
    "\n",
    "$P(X=(-1)^k2^k) = \\frac{1}{2^{k+1}}$\n",
    "\n",
    "---\n",
    "\n",
    "$P(X=1.5^k)=\\frac{1}{2^{k+1}}$\n",
    " \n",
    "\n",
    "$E[X] =\\sum_{n=0}^{\\infty} 1.5^k\\times\\frac{1}{2^{k+1}} =\\sum_{n=0}^{\\infty} \\frac{1}{2}(\\frac{3}{4})^k = 2$\n",
    "\n",
    "$E[X^2] =\\sum_{n=0}^{\\infty} 1.5^{2k}\\times\\frac{1}{2^{k+1}}=\\sum_{n=0}^{\\infty} \\frac{1}{2}(\\frac{3}{2})^{2k} = \\infty$\n",
    "\n",
    "Thus,\n",
    "\n",
    "$var(X) = E[X^2]-E[X] = \\infty$"
   ]
  }
 ],
 "metadata": {
  "kernelspec": {
   "display_name": "Python 3",
   "language": "python",
   "name": "python3"
  },
  "language_info": {
   "codemirror_mode": {
    "name": "ipython",
    "version": 3
   },
   "file_extension": ".py",
   "mimetype": "text/x-python",
   "name": "python",
   "nbconvert_exporter": "python",
   "pygments_lexer": "ipython3",
   "version": "3.6.9"
  }
 },
 "nbformat": 4,
 "nbformat_minor": 2
}
