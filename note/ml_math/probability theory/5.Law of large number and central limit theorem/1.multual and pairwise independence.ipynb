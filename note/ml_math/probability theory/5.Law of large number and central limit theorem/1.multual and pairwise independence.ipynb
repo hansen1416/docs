{
 "cells": [
  {
   "cell_type": "markdown",
   "metadata": {},
   "source": [
    "__Mutual and pairwise independence__\n",
    "\n",
    "Toss a fair coin 3 times\n",
    "\n",
    "$H_i = [\\mbox{On i's toss we get head}]$\n",
    "\n",
    "$X = [H_1 = H_2]$  \n",
    "$Y = [H_2 = H_3]$  \n",
    "$Z = [H_1 = H_3]$  \n",
    "\n",
    "---\n",
    "\n",
    "prove X and Y are independent\n",
    "\n",
    "$P(X=0 \\cap Y =0) = \\{HTH,THT\\} = \\frac{2}{8} = \\frac{1}{4}$  \n",
    "$P(X=0) = \\{HTH,THH,THT,THH\\} = \\frac{4}{8} =  = \\frac{1}{2}$  \n",
    "$P(Y=0) = \\frac{1}{2}$\n",
    "\n",
    "$P(X=0 \\cap Y =0) = P(X=0) \\cdot P(Y=0) \\implies $ X and Y are independent\n",
    "\n",
    "---\n",
    "\n",
    "Consider X, Y, Z\n",
    "\n",
    "$P(X=1 \\cap Y = 1 \\cap Z = 0) = 0$\n",
    "\n",
    "But $P(X=1) \\cdot P(Y = 1) \\cdot P(Z = 0) \\ne 0$\n",
    "\n",
    "So, X, Y and Z are pairwise independent but not multual independent\n",
    "\n",
    "---\n",
    "\n",
    "$X_1, \\dots, X_n$ are mutual independent\n",
    "\n",
    "if for any segment $[a_i, b_i], i=1,\\dots,n$  \n",
    "\n",
    "$P(X_1 \\in [a_1,b_1] \\cap \\dots \\cap X_n \\in [a_n, b_n]) = P(X_1 \\in [a_1,b_1]) \\cdot \\dots \\cdot P(X_n\\in [a_n, b_n])$"
   ]
  }
 ],
 "metadata": {
  "kernelspec": {
   "display_name": "Python 3",
   "language": "python",
   "name": "python3"
  },
  "language_info": {
   "codemirror_mode": {
    "name": "ipython",
    "version": 3
   },
   "file_extension": ".py",
   "mimetype": "text/x-python",
   "name": "python",
   "nbconvert_exporter": "python",
   "pygments_lexer": "ipython3",
   "version": "3.6.9"
  }
 },
 "nbformat": 4,
 "nbformat_minor": 2
}
