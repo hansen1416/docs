{
 "cells": [
  {
   "cell_type": "markdown",
   "metadata": {},
   "source": [
    "__Normal distribution__\n",
    "\n",
    "Shift a standard normal distrbituon, or scale standard normal distribution. The result is still normal distribution\n",
    "\n",
    "$X \\sim \\mathcal{N}(\\mu, \\sigma^2)$\n",
    "\n",
    "$\\mathbb{E}X = \\mu$\n",
    "\n",
    "$Var X = \\sigma^2$\n",
    "\n",
    "$\\sigma = \\sqrt{Var}$ - standard deviation\n",
    "\n",
    "$pdf_X = {\\large \\frac{1}{\\sqrt{2\\pi} \\cdot \\sigma} e^{-\\frac{(x-\\mu)^2}{2 \\sigma^2}} }$"
   ]
  },
  {
   "cell_type": "markdown",
   "metadata": {},
   "source": [
    "__Properties of normal distribution__\n",
    "\n",
    "1\\. $X \\sim \\mathcal{N}(\\mu, \\sigma^2)$, c is constant\n",
    "\n",
    "$\\implies cX \\sim \\mathcal{N}(c\\mu, c^2\\sigma^2)$  \n",
    "\n",
    "$\\implies X + c \\sim \\mathcal{N}(\\mu + c, \\sigma^2)$  \n",
    "\n",
    "All normal distributions are linear transformations of each other\n",
    "\n",
    "2\\. $X \\sim \\mathcal{N}(\\mu_1, \\sigma_1^2)$  \n",
    "\n",
    "$Y \\sim \\mathcal{N}(\\mu_2, \\sigma_2^2)$  X and Y are independent  \n",
    "\n",
    "$\\implies X+Y \\sim \\mathcal{N}(\\mu_1 + \\mu_2, \\sigma_1^2 + \\sigma_2^2)$ due to independence  \n",
    "\n",
    "3\\. The Three sigma law  \n",
    "\n",
    "$P(|X - \\mu| \\le \\sigma) \\approx 68\\%$  \n",
    "\n",
    "$P(|X - \\mu| \\le 2\\sigma) \\approx 95\\%$  \n",
    "\n",
    "$P(|X - \\mu| \\le 3\\sigma) \\approx 99.7\\%$  "
   ]
  }
 ],
 "metadata": {
  "kernelspec": {
   "display_name": "Python 3",
   "language": "python",
   "name": "python3"
  },
  "language_info": {
   "codemirror_mode": {
    "name": "ipython",
    "version": 3
   },
   "file_extension": ".py",
   "mimetype": "text/x-python",
   "name": "python",
   "nbconvert_exporter": "python",
   "pygments_lexer": "ipython3",
   "version": "3.7.7"
  }
 },
 "nbformat": 4,
 "nbformat_minor": 2
}
