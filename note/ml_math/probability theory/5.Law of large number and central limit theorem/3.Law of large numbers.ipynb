{
 "cells": [
  {
   "cell_type": "markdown",
   "metadata": {},
   "source": [
    "__Law of large numbers__\n",
    "\n",
    "$X_1, X_2, \\dots, X_n$ are mutually independent and identically distributed\n",
    "\n",
    "$X_1, X_2, \\dots, X_n \\sim X$ they all have the same distribution, denote it by $X$\n",
    "\n",
    "$\\overline{X}_n = \\frac{X_1 + X_2 + \\dots + X_n}{n} \\implies \\mathbb{E}X \\;\\mbox{as}\\; n \\to \\infty$"
   ]
  },
  {
   "cell_type": "markdown",
   "metadata": {},
   "source": [
    "$P(|\\overline{X_n} - \\mathbb{E}X| > \\epsilon) \\to 0$ as $n \\to \\infty$ for any $\\epsilon > 0$\n",
    "\n",
    "$\\mathbb{E}\\overline{X}_n = \\mathbb{E} \\frac{X_1, X_2, \\dots, X_n}{n}\n",
    "=\\frac{1}{n}(\\mathbb{E}X + \\dots + \\mathbb{E}X) = \\frac{n\\mathbb{E}X}{n} = \\mathbb{E}X$\n",
    "\n",
    "$Var \\overline{X}_n = Var (\\frac{1}{n}(X_1+ X_2+ \\dots+ X_n)) = \\frac{1}{n^2} Var (X_1+ X_2+ \\dots+ X_n)$\n",
    "\n",
    "We know $X_1, X_2, \\dots, X_n$ are mutually independent.\n",
    "\n",
    "$Var \\overline{X}_n = \\frac{1}{n^2} (Var(X_1) + \\dots + Var(X_n)) = {\\large \\frac{n Var X}{n^2} = \\frac{Var X}{n} }$\n",
    "\n",
    "_apply Chebyshev's inequality_\n",
    "\n",
    "$P(|\\overline{X_n} - \\mathbb{E}X| > \\epsilon) \\le {\\large \\frac{Var \\overline{X}_n}{\\epsilon^2}\n",
    "=\\frac{Var X}{n\\epsilon^2} }$\n",
    "\n",
    "$VarX$ is a constant, so $\\frac{Var X}{n\\epsilon^2} \\to 0$ as $n \\to \\infty$\n",
    "\n",
    "$P(|\\overline{X_n} - \\mathbb{E}X| > \\epsilon) \\le 0$ as $n \\to \\infty$"
   ]
  }
 ],
 "metadata": {
  "kernelspec": {
   "display_name": "Python 3",
   "language": "python",
   "name": "python3"
  },
  "language_info": {
   "codemirror_mode": {
    "name": "ipython",
    "version": 3
   },
   "file_extension": ".py",
   "mimetype": "text/x-python",
   "name": "python",
   "nbconvert_exporter": "python",
   "pygments_lexer": "ipython3",
   "version": "3.6.9"
  }
 },
 "nbformat": 4,
 "nbformat_minor": 2
}
