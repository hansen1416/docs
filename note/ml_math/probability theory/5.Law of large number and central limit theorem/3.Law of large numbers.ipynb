{
 "cells": [
  {
   "cell_type": "markdown",
   "metadata": {},
   "source": [
    "__Law of large numbers__\n",
    "\n",
    "$X_1, X_2, \\dots, X_n$ are mutually independent and identically distributed\n",
    "\n",
    "$X_1, X_2, \\dots, X_n \\sim X$\n",
    "\n",
    "$\\overline{X}_n = \\frac{X_1 + X_2 + \\dots + X_n}{n} \\implies \\mathbb{E}X \\;\\mbox{as}\\; n \\to \\infty$"
   ]
  }
 ],
 "metadata": {
  "kernelspec": {
   "display_name": "Python 3",
   "language": "python",
   "name": "python3"
  },
  "language_info": {
   "codemirror_mode": {
    "name": "ipython",
    "version": 3
   },
   "file_extension": ".py",
   "mimetype": "text/x-python",
   "name": "python",
   "nbconvert_exporter": "python",
   "pygments_lexer": "ipython3",
   "version": "3.6.9"
  }
 },
 "nbformat": 4,
 "nbformat_minor": 2
}
