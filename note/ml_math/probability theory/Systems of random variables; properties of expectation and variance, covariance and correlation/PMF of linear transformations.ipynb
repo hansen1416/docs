{
 "cells": [
  {
   "cell_type": "markdown",
   "metadata": {},
   "source": [
    "Discrete random variable X has PMF with the following graph:\n",
    "\n",
    "|   | 0.3 | 0.4 | 0.1 | 0.2 |\n",
    "|---|-----|-----|-----|-----|\n",
    "| X | -3  |  2  |  3  |  4  |\n",
    "| Z | -5  |  5  |  7  |  9  |\n",
    "| Q | -2.5|  0  | 0.5 |  1  |\n",
    "| W | -2  | 0.5 |  1  | 1.5 |\n",
    "| Y | -6  |  4  |  6  |  8  |\n",
    "\n",
    "Z = 2X+1\n",
    "Q = X/2-1\n",
    "W = (X-1)/2\n",
    "Y = 2X\n",
    "\n",
    "Y,Z,Q,W"
   ]
  }
 ],
 "metadata": {
  "kernelspec": {
   "display_name": "Python 3",
   "language": "python",
   "name": "python3"
  },
  "language_info": {
   "codemirror_mode": {
    "name": "ipython",
    "version": 3
   },
   "file_extension": ".py",
   "mimetype": "text/x-python",
   "name": "python",
   "nbconvert_exporter": "python",
   "pygments_lexer": "ipython3",
   "version": "3.6.9"
  }
 },
 "nbformat": 4,
 "nbformat_minor": 2
}
