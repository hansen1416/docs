{
 "cells": [
  {
   "cell_type": "markdown",
   "metadata": {},
   "source": [
    "$\\mathbb{E}X=x_0$ if exists, X is symmetric with respect to $x=x_0$\n",
    "\n",
    "Let's prove $\\mathbb{E}X=x_0$\n",
    "\n",
    "Let $Y=X-x_0$ so Y is symmetric with respect to $x=0$\n",
    "\n",
    "$\\mathbb{E}Y=\\mathbb{E}(-Y)=(-1)\\cdot \\mathbb{E}(Y)$\n",
    "\n",
    "$\\implies \\mathbb{E}Y=0$\n",
    "\n",
    "$\\mathbb{E}Y=\\mathbb{E}(X-x_0)=\\mathbb{E}X-x_0=0 \\implies \\mathbb{E}X=x_0$"
   ]
  }
 ],
 "metadata": {
  "kernelspec": {
   "display_name": "Python 3",
   "language": "python",
   "name": "python3"
  },
  "language_info": {
   "codemirror_mode": {
    "name": "ipython",
    "version": 3
   },
   "file_extension": ".py",
   "mimetype": "text/x-python",
   "name": "python",
   "nbconvert_exporter": "python",
   "pygments_lexer": "ipython3",
   "version": "3.6.9"
  }
 },
 "nbformat": 4,
 "nbformat_minor": 2
}
