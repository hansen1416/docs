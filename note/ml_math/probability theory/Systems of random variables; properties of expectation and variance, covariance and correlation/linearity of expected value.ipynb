{
 "cells": [
  {
   "cell_type": "markdown",
   "metadata": {},
   "source": [
    "Expected value\n",
    "\n",
    "$\\mathbb{E}X=\\sum^{n}_{i=1}p_ix_i$\n",
    "\n",
    "1. $\\mathbb{E}(X+c)=\\sum^{n}_{i=1}(x_i+c)p_i\n",
    "=\\sum^{n}_{i=1}(x_ip_i+cp_i)\n",
    "=\\sum^{n}_{i=1}x_ip_i+\\sum^{n}_{i=1}cp_i\n",
    "=\\mathbb{E}X+c\\sum^{n}_{i=1}p_i=\\mathbb{E}X+c$\n",
    "\n",
    "2. $\\mathbb{E}(cX)=\\sum^{n}_{i=1}cx_ip_i=c\\sum^{n}_{i=1}x_ip_i=c\\mathbb{E}(X)$\n",
    "\n"
   ]
  }
 ],
 "metadata": {
  "kernelspec": {
   "display_name": "Python 3",
   "language": "python",
   "name": "python3"
  },
  "language_info": {
   "codemirror_mode": {
    "name": "ipython",
    "version": 3
   },
   "file_extension": ".py",
   "mimetype": "text/x-python",
   "name": "python",
   "nbconvert_exporter": "python",
   "pygments_lexer": "ipython3",
   "version": "3.6.9"
  }
 },
 "nbformat": 4,
 "nbformat_minor": 2
}
