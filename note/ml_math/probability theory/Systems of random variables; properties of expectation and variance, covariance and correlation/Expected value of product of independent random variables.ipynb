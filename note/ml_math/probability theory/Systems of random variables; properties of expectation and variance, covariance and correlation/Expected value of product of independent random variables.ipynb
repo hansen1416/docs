{
 "cells": [
  {
   "cell_type": "markdown",
   "metadata": {},
   "source": [
    "X, Y are two independent variables\n",
    "\n",
    "$\\mathbb{E}(XY) = \\mathbb{E}(X) \\cdot \\mathbb{E}(Y)$\n",
    "\n",
    "_Proof_ \n",
    "\n",
    "supp X = {$x_1,\\dots,x_m$}  $P(X=x_i)=p_i$  \n",
    "supp Y = {$y_1,\\dots,y_n$}  $P(Y=y_j)=q_j$\n",
    "\n",
    "$P(X=x_i \\cap Y=y_j) = P(X=x_i) \\cdot P(Y=y_j) = p_iq_j$\n",
    "\n",
    "$\\mathbb{E}(X\\cdot Y)\n",
    "=\\sum^{m}_{i=1}\\sum^{n}_{j=1}P(X=x_i\\cap Y=y_i) \\cdot x_i \\cdot y_i\n",
    "=\\sum^{m}_{i=1}\\sum^{n}_{j=1}p_iq_jx_iy_j\n",
    "=\\sum^{m}_{i=1}p_ix_i \\cdot \\sum^{n}_{j=1}q_jy_j\n",
    "=\\mathbb{E}(X) \\cdot \\mathbb{E}(Y)\n",
    "$"
   ]
  }
 ],
 "metadata": {
  "kernelspec": {
   "display_name": "Python 3",
   "language": "python",
   "name": "python3"
  },
  "language_info": {
   "codemirror_mode": {
    "name": "ipython",
    "version": 3
   },
   "file_extension": ".py",
   "mimetype": "text/x-python",
   "name": "python",
   "nbconvert_exporter": "python",
   "pygments_lexer": "ipython3",
   "version": "3.6.9"
  }
 },
 "nbformat": 4,
 "nbformat_minor": 2
}
