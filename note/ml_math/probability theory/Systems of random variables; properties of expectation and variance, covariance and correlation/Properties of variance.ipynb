{
 "cells": [
  {
   "cell_type": "markdown",
   "metadata": {},
   "source": [
    "$Var X= \\mathbb{E}(X-\\mathbb{E}(X))^2$\n",
    "\n",
    "1\\. Z = Z+c, c is constant.\n",
    "\n",
    "$Var Z = \\mathbb{E}(X+c-\\mathbb{E}(X+c))^2\n",
    "=\\mathbb{E}(X+c-(\\mathbb{E}(X)+c))^2\n",
    "=\\mathbb{E}(X+\\mathbb{E}(X))^2\n",
    "=VarX$\n",
    "\n",
    "2\\. $Y=c\\cdot X$, c is constant\n",
    "\n",
    "$Var Y = \\mathbb{E}(cX-\\mathbb{E}(cX))^2\n",
    "=\\mathbb{E}(cX-c\\mathbb{E}(X))^2\n",
    "=\\mathbb{E}(c(X-\\mathbb{E}(X)))^2\n",
    "=c^2\\mathbb{E}(X-\\mathbb{E}(X))^2\n",
    "=c^2 Var X$"
   ]
  },
  {
   "cell_type": "markdown",
   "metadata": {},
   "source": [
    "__example__\n",
    "\n",
    "Two discrete random variables $X$ and $Y$ take values (0, 2, 5, 5, 7, 10, 11) and (3, 5, 8, 8, 10, 13, 14). All values have equal probability. How are their variances related? Try to use properties of variance to answer without precisely calculating the variances:\n",
    "\n",
    "$Y=X+3$\n",
    "\n",
    "$Var Y = Var X$"
   ]
  }
 ],
 "metadata": {
  "kernelspec": {
   "display_name": "Python 3",
   "language": "python",
   "name": "python3"
  },
  "language_info": {
   "codemirror_mode": {
    "name": "ipython",
    "version": 3
   },
   "file_extension": ".py",
   "mimetype": "text/x-python",
   "name": "python",
   "nbconvert_exporter": "python",
   "pygments_lexer": "ipython3",
   "version": "3.6.9"
  }
 },
 "nbformat": 4,
 "nbformat_minor": 2
}
