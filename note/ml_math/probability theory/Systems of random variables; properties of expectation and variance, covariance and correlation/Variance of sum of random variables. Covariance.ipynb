{
 "cells": [
  {
   "cell_type": "markdown",
   "metadata": {},
   "source": [
    "__Covariance__\n",
    "\n",
    "$ Var(X+Y) = \\mathbb{E}(X+Y-\\mathbb{E}(X+Y))^2 \n",
    "=\\mathbb{E}((X-\\mathbb{E}(X))+(Y-\\mathbb{E}(Y)))^2$\n",
    "\n",
    "$=\\mathbb{E}(X-\\mathbb{E}(X))^2+2\\mathbb{E}((X-\\mathbb{E}(X))(Y-\\mathbb{E}(Y)))+\\mathbb{E}(Y-\\mathbb{E}(Y))^2$\n",
    "\n",
    "$=Var X + 2\\mathbb{E}((X-\\mathbb{E}(X))(Y-\\mathbb{E}(Y))) + Var Y$\n",
    "\n",
    "$=Var X + 2\\cdot cov(X,Y) + Var Y$"
   ]
  },
  {
   "cell_type": "markdown",
   "metadata": {},
   "source": [
    "__Lemma__\n",
    "\n",
    "If X and Y are independent, then cov(X,Y)=0\n",
    "\n",
    "_Proof_\n",
    "\n",
    "A simple case, $\\mathbb{E}(X)=0; \\mathbb{E}(Y)=0$\n",
    "\n",
    "$cov(X,Y)=\\mathbb{E}(X-0)(Y-0)=\\mathbb{E}(XY) = \\mathbb{E}(X)\\mathbb{E}(Y)=0$\n",
    "\n",
    "General case\n",
    "\n",
    "$cov(X,Y) = \\mathbb{E}((X-\\mathbb{E}(X))(Y-\\mathbb{E}(Y)))$\n",
    "\n",
    "$=\\mathbb{E}(XY-Y\\mathbb{E}(X)-X\\mathbb{E}(Y)+\\mathbb{E}(X)\\mathbb{E}(Y))$\n",
    "\n",
    "$=\\mathbb{E}(XY)-\\mathbb{E}(Y\\mathbb{E}(X))-\\mathbb{E}(X\\mathbb{E}(Y))+\\mathbb{E}(\\mathbb{E}(X)\\mathbb{E}(Y)))$\n",
    "\n",
    "due to independence, and $\\mathbb{E}(X),\\mathbb{E}(Y)$ are constants\n",
    "\n",
    "$=\\mathbb{E}(X)\\mathbb{E}(Y)-\\mathbb{E}(X)\\mathbb{E}(Y)-\\mathbb{E}(Y)\\mathbb{E}(X)+\\mathbb{E}(X)\\mathbb{E}(Y)$\n",
    "\n",
    "$=0$"
   ]
  }
 ],
 "metadata": {
  "kernelspec": {
   "display_name": "Python 3",
   "language": "python",
   "name": "python3"
  },
  "language_info": {
   "codemirror_mode": {
    "name": "ipython",
    "version": 3
   },
   "file_extension": ".py",
   "mimetype": "text/x-python",
   "name": "python",
   "nbconvert_exporter": "python",
   "pygments_lexer": "ipython3",
   "version": "3.6.9"
  }
 },
 "nbformat": 4,
 "nbformat_minor": 2
}
