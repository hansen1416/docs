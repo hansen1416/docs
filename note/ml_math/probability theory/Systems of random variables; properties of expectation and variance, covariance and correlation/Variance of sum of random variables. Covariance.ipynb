{
 "cells": [
  {
   "cell_type": "markdown",
   "metadata": {},
   "source": [
    "__Covariance__\n",
    "\n",
    "$ Var(X+Y) = \\mathbb{E}(X+Y-\\mathbb{E}(X+Y))^2 \n",
    "=\\mathbb{E}((X-\\mathbb{E}(X))+(Y-\\mathbb{E}(Y)))^2$\n",
    "\n",
    "$=\\mathbb{E}(X-\\mathbb{E}(X))^2+2\\mathbb{E}((X-\\mathbb{E}(X))(Y-\\mathbb{E}(Y)))+\\mathbb{E}(Y-\\mathbb{E}(Y))^2$\n",
    "\n",
    "$=Var X + 2\\mathbb{E}((X-\\mathbb{E}(X))(Y-\\mathbb{E}(Y))) + Var Y$\n",
    "\n",
    "$=Var X + 2\\cdot cov(X,Y) + Var Y$\n",
    "\n",
    "$cov(X,Y) = \\mathbb{E}((X-\\mathbb{E}(X))(Y-\\mathbb{E}(Y)))$"
   ]
  },
  {
   "cell_type": "markdown",
   "metadata": {},
   "source": [
    "__Lemma__\n",
    "\n",
    "If X and Y are independent, then cov(X,Y)=0\n",
    "\n",
    "_Proof_\n",
    "\n",
    "A simple case, $\\mathbb{E}(X)=0; \\mathbb{E}(Y)=0$\n",
    "\n",
    "$cov(X,Y)=\\mathbb{E}(X-0)(Y-0)=\\mathbb{E}(XY) = \\mathbb{E}(X)\\mathbb{E}(Y)=0$\n",
    "\n",
    "General case\n",
    "\n",
    "$cov(X,Y) = \\mathbb{E}((X-\\mathbb{E}(X))(Y-\\mathbb{E}(Y)))$\n",
    "\n",
    "$=\\mathbb{E}(XY-Y\\mathbb{E}(X)-X\\mathbb{E}(Y)+\\mathbb{E}(X)\\mathbb{E}(Y))$\n",
    "\n",
    "$=\\mathbb{E}(XY)-\\mathbb{E}(Y\\mathbb{E}(X))-\\mathbb{E}(X\\mathbb{E}(Y))+\\mathbb{E}(\\mathbb{E}(X)\\mathbb{E}(Y)))$\n",
    "\n",
    "due to independence, and $\\mathbb{E}(X),\\mathbb{E}(Y)$ are constants\n",
    "\n",
    "$=\\mathbb{E}(X)\\mathbb{E}(Y)-\\mathbb{E}(X)\\mathbb{E}(Y)-\\mathbb{E}(Y)\\mathbb{E}(X)+\\mathbb{E}(X)\\mathbb{E}(Y)$\n",
    "\n",
    "$=0$"
   ]
  },
  {
   "cell_type": "markdown",
   "metadata": {},
   "source": [
    "__example__\n",
    "\n",
    "Let $X$ be the sum of values on 6 dice rolled. Find $Var X$. Enter the exact value below (e.g., 13/28 or 0.12):\n",
    "\n",
    "Let $A, B, C, D, E, F$ denote 6 dice rolled.\n",
    "\n",
    "$Var(X) = Var(A + B + C + D + E + F) = Var(A) + 2 \\cdot cov(A, B + C + D + E + F)$ + Var(B + C + D + E + F)$\n",
    "\n",
    "They are independent, $cov(A, B + C + D + E + F) = 0$\n",
    "\n",
    "$Var(X) = Var(A) + Var(B + C + D + E + F) = Var(A) + Var(B) + Var(C) + Var(D) + Var(E) + Var(F) = 6 \\times\n",
    "\\frac{35}{12} = \\frac{35}{2}$"
   ]
  },
  {
   "cell_type": "markdown",
   "metadata": {},
   "source": [
    "__example__\n",
    "\n",
    "Find variance of Binomial random variable. Use that it's a sum of n independent Bernoulli random variables with PMF:\n",
    "\n",
    "| X | 1 | 0 |\n",
    "|---|---|---|\n",
    "| P | p | 1-p |\n",
    "\n",
    "$\\mathbb{E}X=\\sum^{n}_{i=1} x_i p_i = np$\n",
    "\n",
    "$Var X = \\mathbb{E}(X^2)-\\mathbb{E}(X)^2 = np(1-p)$  "
   ]
  }
 ],
 "metadata": {
  "kernelspec": {
   "display_name": "Python 3",
   "language": "python",
   "name": "python3"
  },
  "language_info": {
   "codemirror_mode": {
    "name": "ipython",
    "version": 3
   },
   "file_extension": ".py",
   "mimetype": "text/x-python",
   "name": "python",
   "nbconvert_exporter": "python",
   "pygments_lexer": "ipython3",
   "version": "3.6.9"
  }
 },
 "nbformat": 4,
 "nbformat_minor": 2
}
