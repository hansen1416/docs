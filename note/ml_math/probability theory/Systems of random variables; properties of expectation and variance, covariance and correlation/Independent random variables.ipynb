{
 "cells": [
  {
   "cell_type": "markdown",
   "metadata": {},
   "source": [
    "exp: two tossing of fair coin\n",
    "\n",
    "$X=\n",
    "\\begin{cases}\n",
    "1 \\;if\\;first\\;tossing\\;gives\\;head \\\\\n",
    "0 \\; otherwise\n",
    "\\end{cases}$\n",
    "\n",
    "X = [first tossing gives head]  \n",
    "Y = 1-X  \n",
    "Z = [second tossing gives head]  \n",
    "\n",
    "\n",
    "| YX | 0 |  1  |\n",
    "|----|---|-----|\n",
    "| 0  | 0 | 1/2 |\n",
    "| 1  | 1/2 | 0 |\n",
    "\n",
    "\n",
    "| ZX |  0  |  1  |\n",
    "|----|-----|-----|\n",
    "| 0  | 1/4 | 1/4 |\n",
    "| 1  | 1/4 | 1/4 |\n",
    "\n",
    "\n",
    "X supp X = {$x_1,...,x_m$}  \n",
    "Y supp Y = {$y_1,...,y_n$}"
   ]
  },
  {
   "cell_type": "markdown",
   "metadata": {},
   "source": [
    "__Independent variables__\n",
    "\n",
    "$P(Y=y_i | X=x_i) = P(Y=y_i)$ for all $i=1,\\dots,m;j=1,\\dots,n$\n",
    "\n",
    "$\\implies$ X and Y are independent.\n",
    "\n",
    "Alternative, $P(Y=y_i \\cap X=x_i) = P(X=x_i) \\cdot P(Y=y_i)$ should be true for all $i=1,\\dots,m;j=1,\\dots,n$ if X and Y are independent variables."
   ]
  }
 ],
 "metadata": {
  "kernelspec": {
   "display_name": "Python 3",
   "language": "python",
   "name": "python3"
  },
  "language_info": {
   "codemirror_mode": {
    "name": "ipython",
    "version": 3
   },
   "file_extension": ".py",
   "mimetype": "text/x-python",
   "name": "python",
   "nbconvert_exporter": "python",
   "pygments_lexer": "ipython3",
   "version": "3.6.9"
  }
 },
 "nbformat": 4,
 "nbformat_minor": 2
}
