{
 "cells": [
  {
   "cell_type": "markdown",
   "metadata": {},
   "source": [
    "exp: two tossing of fair coin\n",
    "\n",
    "$X=\n",
    "\\begin{cases}\n",
    "1 \\;if\\;first\\;tossing\\;gives\\;head \\\\\n",
    "0 \\; otherwise\n",
    "\\end{cases}$\n",
    "\n",
    "X = [first tossing gives head]  \n",
    "Y = 1-X  \n",
    "Z = [second tossing gives head]  \n",
    "\n",
    "| P | $\\frac{1}{2}$ | $\\frac{1}{2}$ |\n",
    "|---|---------------|---------------|\n",
    "| X |       1       |       0       |\n",
    "\n",
    "| P | $\\frac{1}{2}$ | $\\frac{1}{2}$ |\n",
    "|---|---------------|---------------|\n",
    "| Y |       1       |       0       |\n",
    "\n",
    "| P | $\\frac{1}{2}$ | $\\frac{1}{2}$ |\n",
    "|---|---------------|---------------|\n",
    "| Z |       1       |       0       |\n",
    "\n",
    "$P(X=0 \\cap Y=0) = 0$\n",
    "\n",
    "$P(X=0 \\cap Z=0) = P(TT) = \\frac{1}{4}$"
   ]
  },
  {
   "cell_type": "markdown",
   "metadata": {},
   "source": [
    "X,Y is random variables\n",
    "\n",
    "supp X = {$x_1,x_2,\\dots,x_n$}  i = 1,...,m\n",
    "supp Y = {$y_1,y_2,\\dots,y_n$}  j = 1,...,n\n",
    "\n",
    "$P(X=x_i \\cap Y=y_i) = p_{ij} \\;\\;\\;\\; p_{ij} \\ge 0 \\;\\;\\;\\; \\sum^{m}_{i=1}\\sum^{n}_{j=1}p_{ij}=1$\n",
    "\n",
    "$P(X=0 \\cap Y=1)=P(X=0 \\cap X=0)= P(X=0) = 1/2$\n",
    "\n",
    "| YX | 0 |  1  |\n",
    "|----|---|-----|\n",
    "| 0  | 0 | 1/2 |\n",
    "| 1  | 1/2 | 0 |\n",
    "\n",
    "$P(X=1 \\cap Z=0)=P(HT) = 1/4$\n",
    "\n",
    "| ZX |  0  |  1  |\n",
    "|----|-----|-----|\n",
    "| 0  | 1/4 | 1/4 |\n",
    "| 1  | 1/4 | 1/4 |\n"
   ]
  }
 ],
 "metadata": {
  "kernelspec": {
   "display_name": "Python 3",
   "language": "python",
   "name": "python3"
  },
  "language_info": {
   "codemirror_mode": {
    "name": "ipython",
    "version": 3
   },
   "file_extension": ".py",
   "mimetype": "text/x-python",
   "name": "python",
   "nbconvert_exporter": "python",
   "pygments_lexer": "ipython3",
   "version": "3.6.9"
  }
 },
 "nbformat": 4,
 "nbformat_minor": 2
}
