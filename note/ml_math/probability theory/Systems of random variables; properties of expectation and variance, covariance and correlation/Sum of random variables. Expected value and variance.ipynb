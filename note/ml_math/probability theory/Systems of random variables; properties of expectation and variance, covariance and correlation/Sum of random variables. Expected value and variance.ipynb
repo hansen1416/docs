{
 "cells": [
  {
   "cell_type": "markdown",
   "metadata": {},
   "source": [
    "Sum of random variables\n",
    "\n",
    "$X: \\Omega \\to \\mathbb{R}; Y: \\Omega \\to \\mathbb{R}$\n",
    "\n",
    "$Z=X+Y$\n",
    "\n",
    "$\\mathbb{E}Z=\\mathbb{E}(X+Y)=\\mathbb{E}X+\\mathbb{E}Y$\n",
    "\n",
    "_Proof:_ Let $\\Omega=\\{\\omega_1,\\dots \\omega_n \\}$\n",
    "\n",
    "$\\mathbb{E}X=\\sum^{n}_{i=1}P(\\omega_i)X(\\omega_i)$\n",
    "\n",
    "$\\mathbb{E}Y=\\sum^{n}_{i=1}P(\\omega_i)Y(\\omega_i)$\n",
    "\n",
    "$\\mathbb{E}Z=\\sum^{n}_{i=1}P(\\omega_i)(X(\\omega_i)+Y(\\omega_i))\n",
    "=\\sum^{n}_{i=1}(P(\\omega_i)X(\\omega_i)+P(\\omega_i)Y(\\omega_i))\n",
    "=\\sum^{n}_{i=1}P(\\omega_i)X(\\omega_i)+\\sum^{n}_{i=1}P(\\omega_i)Y(\\omega_i)\n",
    "$"
   ]
  },
  {
   "cell_type": "markdown",
   "metadata": {},
   "source": [
    "X is random variable, VarX = v > 0\n",
    "\n",
    "Y = -X, VarY=$(-1)^2$VarX = VarX\n",
    "\n",
    "Z = X+Y, VarZ=Var(X-X)=0\n",
    "\n",
    "in genral cases $Var(X+Y) \\neq VarX + VarY$"
   ]
  },
  {
   "cell_type": "markdown",
   "metadata": {},
   "source": [
    "__example__\n",
    "\n",
    "Let $X$ and $Y$ be random variables on the same probability space, $\\mathbb{E}X = 1, \\mathbb{E}Y = 7$. Find expectation of $Z = X + 2Y - 5$. Enter the value below:\n",
    "\n",
    "$\\mathbb{E}Z=\\mathbb{E}(X+2Y-5)\n",
    "=\\mathbb{E}(X)+2\\mathbb{E}(Y)-5=1+2\\times7-5=10$"
   ]
  },
  {
   "cell_type": "markdown",
   "metadata": {},
   "source": [
    "__example__\n",
    "\n",
    "Find expectation of Binomial random variable. Use that it's a sum of n independent Bernoulli random variables with probability distribution:\n",
    "\n",
    "| X | 1 | 0 |\n",
    "|---|---|---|\n",
    "| P | p | 1-p |\n",
    "\n",
    "$\\mathbb{E}X=\\sum^{n}_{i=1} x_i p_i = np$"
   ]
  }
 ],
 "metadata": {
  "kernelspec": {
   "display_name": "Python 3",
   "language": "python",
   "name": "python3"
  },
  "language_info": {
   "codemirror_mode": {
    "name": "ipython",
    "version": 3
   },
   "file_extension": ".py",
   "mimetype": "text/x-python",
   "name": "python",
   "nbconvert_exporter": "python",
   "pygments_lexer": "ipython3",
   "version": "3.6.9"
  }
 },
 "nbformat": 4,
 "nbformat_minor": 2
}
