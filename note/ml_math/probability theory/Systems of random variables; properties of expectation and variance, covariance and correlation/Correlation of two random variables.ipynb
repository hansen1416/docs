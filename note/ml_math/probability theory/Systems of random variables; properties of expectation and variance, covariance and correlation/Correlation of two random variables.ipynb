{
 "cells": [
  {
   "cell_type": "markdown",
   "metadata": {},
   "source": [
    "__correlation__\n",
    "\n",
    "$corr(X, Y) = \\frac{cov(X,Y)}{\\sqrt{VarX \\cdot Var Y}}$\n",
    "\n",
    "Y = kX+b\n",
    "\n",
    "$corr(X, Y) = corr(X, kX+b) = \\frac{cov(X,kX+b)}{\\sqrt{VarX \\cdot Var(kX+b)}} = \\frac{k \\cdot Var X}{\\sqrt{Var X \\cdot Var(kX)}}$  \n",
    "$= \\frac{k \\cdot Var X}{\\sqrt{k^2(Var)^2}} = \\frac{k \\cdot Var X}{|k| \\cdot Var X} = \\frac{k}{|k|}$  \n",
    "$=\\begin{cases}\n",
    "1\\; \\mbox{if} \\; k>0 \\\\\n",
    "-1\\; \\mbox{if} \\; k<0\n",
    "\\end{cases}$\n",
    "\n",
    "__Properties:__\n",
    "\n",
    "1. $corr(k\\cdot X, Y) = corr(X, Y)$ if $k>0$\n",
    "\n",
    "2. $corr(X, Y) \\in [-1, 1]$   \n",
    "    $corr(X,Y) \\implies Y = kX+b$  \n",
    "    $corr(X,Y)=0 \\implies Cov(X,Y) = 0$ uncorrelated"
   ]
  },
  {
   "cell_type": "markdown",
   "metadata": {},
   "source": [
    "__example__\n",
    "\n",
    "- if X and Y are independent then $corr(X, Y) = 0$\n",
    "- the closer absolute value of correlation of random variables to 1, the more intense is linear dependence between them\n",
    "- $corr(X,-X) = \\frac{-1VarX}{\\sqrt{VarX \\cdot Var(-X)}} = \\frac{1}{-1} = -1$"
   ]
  }
 ],
 "metadata": {
  "kernelspec": {
   "display_name": "Python 3",
   "language": "python",
   "name": "python3"
  },
  "language_info": {
   "codemirror_mode": {
    "name": "ipython",
    "version": 3
   },
   "file_extension": ".py",
   "mimetype": "text/x-python",
   "name": "python",
   "nbconvert_exporter": "python",
   "pygments_lexer": "ipython3",
   "version": "3.6.9"
  }
 },
 "nbformat": 4,
 "nbformat_minor": 2
}
