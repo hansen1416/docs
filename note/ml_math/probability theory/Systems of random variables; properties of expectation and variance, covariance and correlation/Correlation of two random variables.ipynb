{
 "cells": [
  {
   "cell_type": "markdown",
   "metadata": {},
   "source": [
    "__correlation__\n",
    "\n",
    "$corr(X, Y) = \\frac{cov(X,Y)}{\\sqrt{VarX \\cdot Var Y}}$\n",
    "\n",
    "Y = kX+b\n",
    "\n",
    "$corr(X, Y) = corr(X, kX+b) = \\frac{cov(X,kX+b)}{\\sqrt{VarX \\cdot Var(kX+b)}} = \\frac{k \\cdot Var X}{\\sqrt{Var X \\cdot Var(kX)}}$  \n",
    "$= \\frac{k \\cdot Var X}{\\sqrt{k^2(Var)^2}} = \\frac{k \\cdot Var X}{|k| \\cdot Var X} = \\frac{k}{|k|}$  \n",
    "$=\\begin{cases}\n",
    "1\\; \\mbox{if} \\; k>0 \\\\\n",
    "-1\\; \\mbox{if} \\; k<0\n",
    "\\end{cases}$\n",
    "\n",
    "__Properties:__\n",
    "\n",
    "1. $corr(k\\cdot X, Y) = corr(X, Y)$ if $k>0$\n",
    "\n",
    "2. $corr(X, Y) \\in [-1, 1]$   \n",
    "    $corr(X,Y) \\implies Y = kX+b$  \n",
    "    $corr(X,Y)=0 \\implies Cov(X,Y) = 0$ uncorrelated"
   ]
  },
  {
   "cell_type": "markdown",
   "metadata": {},
   "source": [
    "__example__\n",
    "\n",
    "- if X and Y are independent then $corr(X, Y) = 0$\n",
    "- the closer absolute value of correlation of random variables to 1, the more intense is linear dependence between them\n",
    "- $corr(X,-X) = \\frac{-1VarX}{\\sqrt{VarX \\cdot Var(-X)}} = \\frac{1}{-1} = -1$"
   ]
  },
  {
   "cell_type": "markdown",
   "metadata": {},
   "source": [
    "__example__\n",
    "\n",
    "There are 2 yes/no questions in a questionnaire. Let X and Y be random variables that correspond to indicators of positive answer for the questions. Joint probability distribution of X and Y is given by the table:\n",
    "\n",
    "|     | X=0 | X=1 |\n",
    "|-----|-----|-----|\n",
    "| Y=0 | 0.8 | 0.1 |\n",
    "| Y=1 | 0.05| 0.05|\n",
    "\n",
    "\n",
    "$\\mathbb{E}X = (0.8 + 0.05) \\times 0 + (0.1+0.05) \\times 1 = 0.15$\n",
    "\n",
    "$\\mathbb{E}Y = (0.8 + 0.1) \\times 0 + (0.05+0.05) \\times 1 = 0.1$"
   ]
  },
  {
   "cell_type": "code",
   "execution_count": 10,
   "metadata": {},
   "outputs": [
    {
     "name": "stdout",
     "output_type": "stream",
     "text": [
      "0.12749999999999997 0.08910000000000001\n",
      "0.035\n",
      "0.32837803516058267\n"
     ]
    }
   ],
   "source": [
    "import math\n",
    "\n",
    "ex = 0.15\n",
    "ey = 0.1\n",
    "x = {0: 0.85, 1: 0.15}\n",
    "y = {0: 0.81, 1: 0.1}\n",
    "p = {(0,0):0.8, (1,0):0.1, (0,1):0.05, (1,1):0.05}\n",
    "\n",
    "varx = sum([(xv-ex)**2 * xp for xv, xp in x.items()])\n",
    "vary = sum([(yv-ey)**2 * yp for yv, yp in y.items()])\n",
    "\n",
    "print(varx, vary)\n",
    "\n",
    "cov = sum([(xy[0] - 0.15) * (xy[1] - 0.1) * prob for xy, prob in p.items()])\n",
    "\n",
    "print(cov)\n",
    "\n",
    "corr = cov/ math.sqrt(varx * vary)\n",
    "\n",
    "print(corr)"
   ]
  }
 ],
 "metadata": {
  "kernelspec": {
   "display_name": "Python 3",
   "language": "python",
   "name": "python3"
  },
  "language_info": {
   "codemirror_mode": {
    "name": "ipython",
    "version": 3
   },
   "file_extension": ".py",
   "mimetype": "text/x-python",
   "name": "python",
   "nbconvert_exporter": "python",
   "pygments_lexer": "ipython3",
   "version": "3.6.9"
  }
 },
 "nbformat": 4,
 "nbformat_minor": 2
}
