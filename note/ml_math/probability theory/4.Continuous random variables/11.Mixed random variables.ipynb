{
 "cells": [
  {
   "cell_type": "markdown",
   "metadata": {},
   "source": [
    "__Neither discrete nor continuous__\n",
    "\n",
    "X is standard normal\n",
    "\n",
    "$Y=max(0, X)$\n",
    "\n",
    "$P(Y=0) = P(X \\le 0) = \\frac{1}{2}$\n",
    "\n",
    "but $pdf_Y(0)$ is not defined\n",
    "\n",
    "$pdf_Y(0) = \\lim_{\\Delta y \\to 0}\\frac{P(Y \\in [0, \\Delta y])}{\\Delta y}$ we know $P(Y \\in [0, \\Delta y]) \\ge \\frac{1}{2}$, and $\\Delta y \\to 0$, Thus $pdf_Y(0)$ is an arbitrary large number"
   ]
  },
  {
   "cell_type": "markdown",
   "metadata": {},
   "source": [
    "$P(Y \\in [x_0, x_0 + \\Delta x]) = P(X \\in [x_0, x_0 + \\Delta x])$ if $x_0 > 0$\n",
    "\n",
    "__We see that, for example, probability of any point here that are greater than zero is zero as it goes for random variables with probability density function. We have a hybrid random variable that on one hand behaves like discrete random variable, and on the other hand, for different values, it behaves like a continuous random variable. We cannot define probability density function for random variable Y. However, we can define cumulative distribution function.__"
   ]
  },
  {
   "cell_type": "markdown",
   "metadata": {},
   "source": [
    "$CDF_Y(y) = P(Y \\le y)$\n",
    "\n",
    "$CDF_Y(0) = P(Y \\le 0) = P(Y = 0) = \\frac{1}{2}$\n",
    "\n",
    "$y_0 > 0$\n",
    "\n",
    "$CDF_Y(y_0) = P(Y \\le y_0) = P(Y = 0) + P(0 < Y \\le y_0)$\n",
    "\n",
    "$ P(0 < Y \\le y_0)$ can be calculated by integral"
   ]
  },
  {
   "cell_type": "markdown",
   "metadata": {},
   "source": [
    "__example__\n",
    "\n",
    "An observer observes cars passing by her on a highway and builds random model of this process. In the model that she builds, what can be said about the following random variable:\n",
    "\n",
    "The time moment of first car passing by her\n",
    "\n",
    "__the random variable is continuous__\n",
    "\n",
    "---\n",
    "\n",
    "An observer observes cars passing by her on a highway and builds random model of this process. In the model that she builds, what can be said about the following random variable:\n",
    "\n",
    "Number of cars that bypassed the observer within one hour\n",
    "\n",
    "__the random variable is discrete__\n",
    "\n",
    "---\n",
    "\n",
    "90% of clients of an insurance company didn’t report any insurance cases in 2019. Other 10% reported cases and got payouts. Considering insurance payout on a reported case being some continuous random variable, what can be said about the following random variable:\n",
    "\n",
    "Payout value of the insurance company to a client in 2019\n",
    "\n",
    "__the random variable is mixed (neither dicrete nor continuous)__"
   ]
  }
 ],
 "metadata": {
  "kernelspec": {
   "display_name": "Python 3",
   "language": "python",
   "name": "python3"
  },
  "language_info": {
   "codemirror_mode": {
    "name": "ipython",
    "version": 3
   },
   "file_extension": ".py",
   "mimetype": "text/x-python",
   "name": "python",
   "nbconvert_exporter": "python",
   "pygments_lexer": "ipython3",
   "version": "3.6.9"
  }
 },
 "nbformat": 4,
 "nbformat_minor": 2
}
