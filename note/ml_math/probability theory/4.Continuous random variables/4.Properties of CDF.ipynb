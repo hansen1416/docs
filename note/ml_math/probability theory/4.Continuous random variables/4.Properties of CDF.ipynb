{
 "cells": [
  {
   "cell_type": "markdown",
   "metadata": {},
   "source": [
    "1\\. CDF non-strictly increasing\n",
    "\n",
    "2\\. $lim_{x \\to -\\infty} CDF_X(x) = 0$  \n",
    "$lim_{x \\to +\\infty} CDF_X(x) = 1$\n",
    "\n",
    "3\\. $CDF_X(x) \\to [0, 1]$\n",
    "\n",
    "it is possible for CDF to never take value 0 and 1, but anyway, it's value have to be inside this segment. And they cannot be negative or greater than 1, because the meaning of the CDF is probability and probability cannot be negative or greater than 1.\n",
    "\n",
    "_Any function that satisfy this condition, defines a well defined random variable._"
   ]
  },
  {
   "cell_type": "markdown",
   "metadata": {},
   "source": [
    "__example__\n",
    "\n",
    "| X | -10 | -5  | -1  |  0  |  1  |  5  |  10 |\n",
    "|---|-----|-----|-----|-----|-----|-----|-----|\n",
    "| P | 0.05| 0.1 | 0.2 | 0.3 | 0.2 | 0.1 | 0.05|\n",
    "\n",
    "Find the value of $CDF_X(2)$. Enter the exact value below\n",
    "\n",
    "$CDF_X(2) = 0.05+0.1+0.2+0.3+0.2 = 0.85$"
   ]
  },
  {
   "cell_type": "markdown",
   "metadata": {},
   "source": [
    "__example__\n",
    "\n",
    "Distribution of discrete random variable is given by the table:\n",
    "\n",
    "| X | -10 | -5  | -1  |  0  |  1  |  5  |  10 |\n",
    "|---|-----|-----|-----|-----|-----|-----|-----|\n",
    "| P | 0.05| 0.1 | 0.2 | 0.3 | 0.2 | 0.1 | 0.05|\n",
    "\n",
    "Find the jump of $CDF_X$ at point 1. Enter the exact value below (e.g., 13/28 or 0.12):\n",
    "\n",
    "Jump is 0.2"
   ]
  }
 ],
 "metadata": {
  "kernelspec": {
   "display_name": "Python 3",
   "language": "python",
   "name": "python3"
  },
  "language_info": {
   "codemirror_mode": {
    "name": "ipython",
    "version": 3
   },
   "file_extension": ".py",
   "mimetype": "text/x-python",
   "name": "python",
   "nbconvert_exporter": "python",
   "pygments_lexer": "ipython3",
   "version": "3.6.9"
  }
 },
 "nbformat": 4,
 "nbformat_minor": 2
}
