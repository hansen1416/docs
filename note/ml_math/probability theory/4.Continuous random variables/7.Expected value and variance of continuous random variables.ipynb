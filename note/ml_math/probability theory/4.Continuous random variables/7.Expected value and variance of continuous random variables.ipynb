{
 "cells": [
  {
   "cell_type": "markdown",
   "metadata": {},
   "source": [
    "__Expected value of continuous random variables__\n",
    "\n",
    "\n",
    "X is continuous random variable  \n",
    "X has $pdf_X(x)=p(x)$  \n",
    "\n",
    "$\\mathbb{E}X = \\int^{\\infty}_{-\\infty}p(x)xdx$"
   ]
  },
  {
   "cell_type": "markdown",
   "metadata": {},
   "source": [
    "__example__\n",
    "\n",
    "X is uniform distribution on [0, 1]\n",
    "\n",
    "$\\mathbb{E}X = \\int^{\\infty}_{-\\infty}p(x)xdx = \\int^{1}_{0}p(x)xdx$\n",
    "\n",
    "and $x \\in [0,1], p(x)$ is 1\n",
    "\n",
    "$\\mathbb{E}X = \\int^{1}_{0}1\\cdot xdx = \\int^{1}_{0}1\\cdot xdx$\n",
    "\n",
    "It's the area of triangle formed by x, y and x=y\n",
    "\n",
    "__If probability density function is symmetric, then the axis of symmetry have to be equal to expected value if it exists.__\n",
    "\n",
    "$\\mathbb{E}X = \\frac{x^2}{2}|^1_0 = \\frac{1}{2}$"
   ]
  },
  {
   "cell_type": "markdown",
   "metadata": {},
   "source": [
    "__example__\n",
    "\n",
    "Find $\\mathbb{E}X$ for continuous random variable $X$ with the following PDF: $2-2x$ for $x \\in (0,1)$ and 0 otherwise. Enter the exact value below:\n",
    "\n",
    "$\\mathbb{E}X = \\int^{1}_{0}(2-2x)xdx = \\int^{1}_{0}2xdx-\\int^{1}_{0}2x^2dx\n",
    "=x^2|^1_0-\\frac{2}{3}x^3|^1_0 = \\frac{1}{3}\n",
    "$"
   ]
  },
  {
   "cell_type": "markdown",
   "metadata": {},
   "source": [
    "__Variance of continuous random variables__\n",
    "\n",
    "1.$\\mathbb{E}(X+Y) = \\mathbb{E}X + \\mathbb{E}Y$  \n",
    "2.$\\mathbb{E}(cX) = c\\mathbb{E}X$ c is constant  \n",
    "3.$\\mathbb{E}c = c$  \n",
    "4.$\\mathop{\\mathrm{Var}}c = 0$  \n",
    "5.Let $X$ be random variable and $Y=f(x); f:\\mathbb{R}\\to\\mathbb{R}$  \n",
    "$\\mathbb{E}Y=\\int^{\\infty}_{-\\infty}f(x)p(x)dx, p(x) \\mbox{ is } pdf_X$  "
   ]
  },
  {
   "cell_type": "markdown",
   "metadata": {},
   "source": [
    "__example__\n",
    "\n",
    "CDF of a random variable $X$ is given by table:\n",
    "\n",
    "| $x<1$ | $1\\leq x<2$ | $2\\leq x<3$ | $3\\leq x<4$ | $4\\leq x$ |\n",
    "| ----- | ----------- | ----------- | ----------- | --------- |\n",
    "|  0    |    0.2      |    0.35     |    0.9      |    1      |\n",
    "\n",
    "Find $P(2<x\\leq4)$\n",
    "\n",
    "$P(2<x\\leq4) = 1-0.35 = 0.65$\n",
    "\n",
    "---\n",
    "\n",
    "Under the same conditions, find $\\mathbb{E}X$. Enter the value:\n",
    "\n",
    "$4\\times 0.1 + 3 \\times 0.55 + 2\\times 0.15 + 1\\times0.2 = 2.55$\n",
    "\n",
    "---\n",
    "\n",
    "Under the same conditions, find $\\mathop{\\mathrm{Var}}X$. Enter the value up to 2nd digit after dot:\n",
    "\n",
    "$(4-2.55)^2 \\times 0.1 + (3-2.55) \\times 0.55 + (2-2.55) \\times 0.15 + (1-2.55) \\times 0.2\n",
    "=1.45^2 \\times 0.1 + 0.45^2 \\times 0.55 + 0.55^2 \\times 0.15 + 1.55^2 \\times 0.2\n",
    "=0.21025+0.111375+0.045375+0.4805=0.8475\n",
    "$"
   ]
  },
  {
   "cell_type": "markdown",
   "metadata": {},
   "source": [
    "__example__\n",
    "\n",
    "CDF of a continuous random variable X is given by the table:\n",
    "\n",
    "| $x < 0$ | $0 \\le x < 10 $ | $10 \\le x$ |\n",
    "|--|--|--|\n",
    "| 0 | Cx| 1 |\n",
    "\n",
    "find C:\n",
    "\n",
    "continuous random variable X, so\n",
    "\n",
    "y=1/10 x\n",
    "\n",
    "C = 1/10\n",
    "\n",
    "---\n",
    "\n",
    "Under the same conditions, find P(X = 2)\n",
    "\n",
    "$P(X = 2) = 0$\n",
    "\n",
    "---\n",
    "\n",
    "Under the same conditions, find P(X < 3)\n",
    "\n",
    "$P(X < 3) = 1/10 \\times 3 = 0.3$\n",
    "\n",
    "---\n",
    "\n",
    "Under the same conditions, find $\\mathbb{E} X$\n",
    "\n",
    "it's the area of the triangle\n",
    "\n",
    "$\\mathbb{E} X = 10 \\times 1 / 2 = 5$\n",
    "\n",
    "--- \n",
    "\n",
    "Under the same conditions, find $Var X$. Enter the exact value below (e.g., 13/28 or 0.12):\n",
    "\n",
    "$pdf_X = \\frac{1}{10-0} = 1/10$\n",
    "\n",
    "$Var X = \\mathbb{E} (X - \\mathbb{E} X)^2 = \\int^{10}_0 pdf_X (x-5)^2 = \\frac{x^3}{3}-5x^2+25x|^{10}_0 \\times \\frac{1}{10} = \\frac{25}{3}$"
   ]
  },
  {
   "cell_type": "markdown",
   "metadata": {},
   "source": [
    "__example__\n",
    "\n",
    "Let X be a continuous random variable without atoms, i.e. it takes no values with positive probability. Let F be its CDF given by the table:\n",
    "\n",
    "| x<0 | x>=0 |\n",
    "|--|--|\n",
    "| $C\\frac{ln(1-x)}{x}$ | 1 |\n",
    "\n",
    "find C:\n",
    "\n",
    "$lim_{x \\to 0}C\\frac{ln(1-x)}{x} - lim_{x \\to -\\infty}C\\frac{ln(1-x)}{x} = 1$\n",
    "\n",
    "$lim_{x \\to 0}\\frac{ln(1-x)}{x} = -1$\n",
    "\n",
    "$lim_{x \\to -\\infty}\\frac{ln(1-x)}{x} = 0$\n",
    "\n",
    "$-1C = 1 \\implies C = -1$\n",
    "\n",
    "---\n",
    "\n",
    "Under the same conditions, find probability of X having value in the segment [-1, 1]. Give the answer up to 2nd decimal digit:\n",
    "\n",
    "$ 1 - C\\frac{ln(1-(-1))}{-1} = 1 - ln(2) = 0.31$"
   ]
  },
  {
   "cell_type": "markdown",
   "metadata": {},
   "source": [
    "__example__\n",
    "\n",
    "PDF of a continuous random variable X is given by table:\n",
    "\n",
    "|x<0 |0=<x=<8 |x<8 |\n",
    "|--|--|--|\n",
    "|0 |x/32 | 0|\n",
    "\n",
    "Find the value of CDF of X in x = 4:\n",
    "\n",
    "$\\int^{4}_{0}pdf_X(x)dx = F(4)-F(0) = F(4)$\n",
    "\n",
    "$F(4) = \\frac{x^2}{64}|^4_0 = 0.25$\n",
    "\n",
    "---\n",
    "\n",
    "Under the same conditions, find $\\mathbb E X$. Enter the exact value below (e.g., 13/28 or 0.12):\n",
    "\n",
    "$\\mathbb{E}X = \\int^{8}_{0} \\frac{x}{32} x dx = \\frac{1}{32}\\frac{x^3}{3}|^8_0 = \\frac{16}{3}$\n",
    "\n",
    "---\n",
    "\n",
    "Under the same conditions, find $Var X$. Enter the exact value below (e.g., 13/28 or 0.12):\n",
    "\n",
    "$Var X = \\mathbb{E}(X-\\mathbb{E}X)^2 = \\int^8_0(x-\\frac{16}{3})^2\\frac{x}{32} \n",
    "= \\frac{1}{1152}(9x^4-128x^3+512x^2)|^8_0 = \\frac{4096}{1152} = \\frac{32}{9}$"
   ]
  },
  {
   "cell_type": "markdown",
   "metadata": {},
   "source": [
    "__example__\n",
    "\n",
    "Find $varX$ for continuous random variable $X$ with the following PDF:\n",
    "\n",
    "$2−2x \\;\\mbox{for}\\; x \\in (0,1)$ and $0$ otherwise.\n",
    "\n",
    "Enter the exact value below (e.g., 13/28 or 0.12):\n",
    "\n",
    "$\\mathbb{E}X = \\int^{1}_0 (2-2x)x dx = x^2-\\frac{2x^3}{3}|^{1}_{0} = \\frac{1}{3}$\n",
    "\n",
    "$VarX = \\mathbb{E}(x - \\mathbb{E}X)^2 = \\int^1_0 (x-\\frac{1}{3})^2 (2-2x)\n",
    "= - \\frac{x^4}{2} + \\frac{10x^3}{9} - \\frac{7x^2}{9} + \\frac{2x}{9}|^1_0\n",
    "= - \\frac{1}{2} + \\frac{10}{9} - \\frac{7}{9} + \\frac{2}{9}\n",
    "= \\frac{5}{9} - \\frac{1}{2} = \\frac{10}{18} - \\frac{9}{18} = \\frac{1}{18}$"
   ]
  },
  {
   "cell_type": "markdown",
   "metadata": {},
   "source": [
    "\n"
   ]
  }
 ],
 "metadata": {
  "kernelspec": {
   "display_name": "Python 3",
   "language": "python",
   "name": "python3"
  },
  "language_info": {
   "codemirror_mode": {
    "name": "ipython",
    "version": 3
   },
   "file_extension": ".py",
   "mimetype": "text/x-python",
   "name": "python",
   "nbconvert_exporter": "python",
   "pygments_lexer": "ipython3",
   "version": "3.6.9"
  }
 },
 "nbformat": 4,
 "nbformat_minor": 2
}
