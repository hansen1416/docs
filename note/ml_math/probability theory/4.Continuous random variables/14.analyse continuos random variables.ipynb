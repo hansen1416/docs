{
 "cells": [
  {
   "cell_type": "markdown",
   "metadata": {},
   "source": [
    "__example__\n",
    "\n",
    "Assume that continuous random variable $X$ has PDF that is non-zero only on segment $[a, b]$ and strictly positive on open interval $(a, b)$. Median of random variable $X$ is value $m \\in (a, b)$ such that $P(X < m) = P(X > m) = 1/2$.\n",
    "\n",
    "1. Prove that for symmetrical PDFs median is equal to expected value.  \n",
    "2. Provide an example of PDF such that median is larger than the expected value.  \n",
    "3. Let X be random variable, f be strictly increasing function and Y=f(X). What can you say about medians of X and Y?"
   ]
  },
  {
   "cell_type": "markdown",
   "metadata": {},
   "source": [
    "__example__\n",
    "\n",
    "Let $X$ be uniform random variable on a segment $[0, 2]$. Consider random variable $Y=X^2$. Find CDF and PDF of $Y$. Is PDF bounded function?"
   ]
  }
 ],
 "metadata": {
  "kernelspec": {
   "display_name": "Python 3",
   "language": "python",
   "name": "python3"
  },
  "language_info": {
   "codemirror_mode": {
    "name": "ipython",
    "version": 3
   },
   "file_extension": ".py",
   "mimetype": "text/x-python",
   "name": "python",
   "nbconvert_exporter": "python",
   "pygments_lexer": "ipython3",
   "version": "3.6.9"
  }
 },
 "nbformat": 4,
 "nbformat_minor": 2
}
