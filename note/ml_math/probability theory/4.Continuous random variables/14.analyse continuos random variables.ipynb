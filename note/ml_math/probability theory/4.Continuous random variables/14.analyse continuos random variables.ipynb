{
 "cells": [
  {
   "cell_type": "markdown",
   "metadata": {},
   "source": [
    "__example__\n",
    "\n",
    "Assume that continuous random variable $X$ has PDF that is non-zero only on segment $[a, b]$ and strictly positive on open interval $(a, b)$. Median of random variable $X$ is value $m \\in (a, b)$ such that $P(X < m) = P(X > m) = 1/2$.\n",
    "\n",
    "1. Prove that for symmetrical PDFs median is equal to expected value.  \n",
    "2. Provide an example of PDF such that median is larger than the expected value.  \n",
    "3. Let X be random variable, f be strictly increasing function and Y=f(X). What can you say about medians of X and Y?\n",
    "\n",
    "---\n",
    "\n",
    ">1. Prove that for symmetrical PDFs median is equal to expected value.  \n",
    "\n",
    "Let $X = m + Y$\n",
    "\n",
    "$\\implies \\mathbb{E}X = \\mathbb{E}(m+Y) = m + \\mathbb{E}Y$\n",
    "\n",
    "Since the axis of symmetry of $pdf_X$ is m, and $Y$ is equal to shift $X$ to the left by $m$, which means the axis of symmetry of $pdf_Y$ is 0. And $Y$ is symmetric about $y=0$. Thus\n",
    "\n",
    "$\\mathbb{E}Y = \\mathbb{E}(-Y) = -\\mathbb{E}Y = 0$\n",
    "\n",
    "$\\implies \\mathbb{E}X = m$\n",
    "\n"
   ]
  },
  {
   "cell_type": "markdown",
   "metadata": {},
   "source": [
    "__example__\n",
    "\n",
    "Let $X$ be uniform random variable on a segment $[0, 2]$. Consider random variable $Y=X^2$. Find CDF and PDF of $Y$. Is PDF bounded function?"
   ]
  }
 ],
 "metadata": {
  "kernelspec": {
   "display_name": "Python 3",
   "language": "python",
   "name": "python3"
  },
  "language_info": {
   "codemirror_mode": {
    "name": "ipython",
    "version": 3
   },
   "file_extension": ".py",
   "mimetype": "text/x-python",
   "name": "python",
   "nbconvert_exporter": "python",
   "pygments_lexer": "ipython3",
   "version": "3.6.9"
  }
 },
 "nbformat": 4,
 "nbformat_minor": 2
}
