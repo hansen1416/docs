{
 "cells": [
  {
   "cell_type": "code",
   "execution_count": null,
   "metadata": {},
   "outputs": [],
   "source": [
    "from numpy.random import uniform"
   ]
  },
  {
   "cell_type": "code",
   "execution_count": null,
   "metadata": {},
   "outputs": [],
   "source": [
    "# x \\in [-2, 2]\n",
    "uniform(low=-2, high=2, size=10)"
   ]
  },
  {
   "cell_type": "code",
   "execution_count": null,
   "metadata": {},
   "outputs": [],
   "source": [
    "import matplotlib.pyplot as plt\n",
    "%matplotlib inline"
   ]
  },
  {
   "cell_type": "code",
   "execution_count": null,
   "metadata": {},
   "outputs": [],
   "source": [
    "data = [1,1.2,4.1,4.2,4.3,5]"
   ]
  },
  {
   "cell_type": "code",
   "execution_count": null,
   "metadata": {},
   "outputs": [],
   "source": [
    "# y is values in this range\n",
    "# but if density=True, the sum of area of the histagram will be 1\n",
    "plt.hist(data,bins=3, density=True)"
   ]
  },
  {
   "cell_type": "code",
   "execution_count": null,
   "metadata": {},
   "outputs": [],
   "source": [
    "plt.plot(data, [0.1] * len(data), 'o')"
   ]
  },
  {
   "cell_type": "code",
   "execution_count": null,
   "metadata": {},
   "outputs": [],
   "source": [
    "sample = uniform(low=-2, high = 2, size=10000)\n",
    "plt.hist(sample, density=True)"
   ]
  },
  {
   "cell_type": "code",
   "execution_count": null,
   "metadata": {},
   "outputs": [],
   "source": [
    "import scipy.stats"
   ]
  },
  {
   "cell_type": "code",
   "execution_count": null,
   "metadata": {},
   "outputs": [],
   "source": [
    "# -2 is lower bound, 4 is the length\n",
    "X = scipy.stats.uniform(-2, 4)"
   ]
  },
  {
   "cell_type": "code",
   "execution_count": null,
   "metadata": {},
   "outputs": [],
   "source": [
    "X.pdf(1,2)\n",
    "# 0.25"
   ]
  },
  {
   "cell_type": "code",
   "execution_count": null,
   "metadata": {},
   "outputs": [],
   "source": [
    "import numpy as np"
   ]
  },
  {
   "cell_type": "code",
   "execution_count": null,
   "metadata": {},
   "outputs": [],
   "source": [
    "# 100 value from -3 to 3 \n",
    "x = np.linspace(-3, 3, 100)"
   ]
  },
  {
   "cell_type": "code",
   "execution_count": null,
   "metadata": {},
   "outputs": [],
   "source": [
    "plt.plot(x, X.pdf(x))\n",
    "sample = uniform(low=-2, high=2, size=100000)\n",
    "plt.hist(sample, density=True)\n",
    "# these two should coincide"
   ]
  },
  {
   "cell_type": "code",
   "execution_count": null,
   "metadata": {},
   "outputs": [],
   "source": [
    "# generate correlated random variables\n",
    "from numpy.random import multivariate_normal"
   ]
  },
  {
   "cell_type": "code",
   "execution_count": null,
   "metadata": {},
   "outputs": [],
   "source": [
    "import matplotlib.pyplot as plt\n",
    "%matplotlib inline\n",
    "import numpy as np"
   ]
  },
  {
   "cell_type": "code",
   "execution_count": null,
   "metadata": {},
   "outputs": [],
   "source": [
    "var1 = 1\n",
    "var2 = 1\n",
    "# cov=0.5\n",
    "# cov=-0.5\n",
    "# cov=-0.9\n",
    "# cov=-1\n",
    "cov=0.9\n",
    "\n",
    "# var2 = 4\n",
    "# cov=2\n",
    "\n",
    "# the larger the absolute value of cov, the more clear of the correlation, more clear linear relationship\n",
    "cov_matrix=[[var1, cov],\n",
    "            [cov, var2]]\n",
    "\n",
    "# [0,0] is the expected values of the two variables\n",
    "data = multivariate_normal([0,0], cov_matrix, size=1000)\n",
    "# it is basically a table, \n",
    "# and the first column of this table is the value of first random variable, \n",
    "# and the second column is the second random variable. "
   ]
  },
  {
   "cell_type": "code",
   "execution_count": null,
   "metadata": {},
   "outputs": [],
   "source": [
    "# get 0 column, and 1 column\n",
    "plt.scatter(data[:, 0], data[:, 1])"
   ]
  },
  {
   "cell_type": "code",
   "execution_count": null,
   "metadata": {},
   "outputs": [],
   "source": [
    "N = 1000\n",
    "x = np.random.normal(size=N)\n",
    "eps = np.random.normal(size=N)\n",
    "# y = x + eps\n",
    "y = x + 0.1 * eps\n",
    "# put a small number here, \n",
    "# the relation between y and x would become stronger because these random shifts will be of less magnitude\n",
    "\n",
    "y = x + 10 * eps\n",
    "# the correlation is very small\n",
    "\n",
    "plt.scatter(x,y)\n",
    "# x and y are correlated"
   ]
  }
 ],
 "metadata": {
  "kernelspec": {
   "display_name": "Python 3",
   "language": "python",
   "name": "python3"
  },
  "language_info": {
   "codemirror_mode": {
    "name": "ipython",
    "version": 3
   },
   "file_extension": ".py",
   "mimetype": "text/x-python",
   "name": "python",
   "nbconvert_exporter": "python",
   "pygments_lexer": "ipython3",
   "version": "3.6.9"
  }
 },
 "nbformat": 4,
 "nbformat_minor": 2
}
