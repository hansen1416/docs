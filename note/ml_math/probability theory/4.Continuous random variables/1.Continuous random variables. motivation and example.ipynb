{
 "cells": [
  {
   "cell_type": "markdown",
   "metadata": {},
   "source": [
    "$P(X \\in [0, 1]) = 1$\n",
    "\n",
    "$P(X \\in [0, \\frac{1}{2}]) = P(X \\in [\\frac{1}{2}, 1]) = \\frac{1}{2}$\n",
    "\n",
    "$P(X \\in [a, b]) = b-a$\n",
    "\n",
    "$P(X = x_0) \\leq P(X \\in [x_0 - \\epsilon, x_0 + \\epsilon]) \\leq 2\\epsilon \\;\\mbox{for any}\\; \\epsilon > 0$\n",
    "\n",
    "$P(X = x_0) = 0$"
   ]
  },
  {
   "cell_type": "markdown",
   "metadata": {},
   "source": [
    "__example__\n",
    "\n",
    "A random variable X is uniformly distributed on the segment [1, 5]. Find the probability $P(X \\in [2,3])$\n",
    "\n",
    "$P(X \\in [2,3]) = (3-2)/(5-1) = 1/4$"
   ]
  },
  {
   "cell_type": "markdown",
   "metadata": {},
   "source": [
    "__example__\n",
    "\n",
    "Let $X$ and $Y$ be continuous random variables uniformly distributed on the segment $[0,1]$. Let $A$ be the event $\\{|X-Y| \\ge 1/2\\}$. What's $P(A)$?\n",
    "\n",
    "$\\{X-Y \\ge 1/2\\}$ includes $X \\ge Y+0.5$ and $X \\le Y-0.5$\n",
    "\n",
    "Sketch a diagram, two lines X=Y+0.5 and X=Y-0.5. Calculate the area $A$ to the right of X=Y+0.5 and area $B$ to the left of X=Y-0.5. For $X \\in [0, 1]$ and $Y \\in [0,1]$.\n",
    "\n",
    "$A = B = 0.5\\times 0.5 \\times 0.5 = \\frac{1}{8}$\n",
    "\n",
    "Thus \n",
    "\n",
    "$P(A) = \\frac{1}{8} + \\frac{1}{8} = \\frac{1}{4}$"
   ]
  },
  {
   "cell_type": "markdown",
   "metadata": {},
   "source": [
    "__example__\n",
    "\n",
    "Let $X$ and $Y$ be continuous random variables uniformly distributed on the segment $[0,1]$. Let $A$ be the event $\\{|X-Y| \\ge 1/2\\}, B = \\{|X| > 1/2\\}, C = \\{|Y| \\ge 1/2\\}$. Are the events $A,B,C$ pairvise independent?\n",
    "\n",
    "Yes.\n",
    "\n",
    "$P(A) = 1/4; P(B) = 1/2; P(C) = 1/2$\n",
    "\n",
    "$P(A \\cap B) = 1/8$ as in the above diagram. $P(A \\cap B) = P(A) \\cdot P(B)$\n",
    "\n",
    "$P(A \\cap C) = P(A) \\cdot P(C) = 1/8$\n",
    "\n",
    "$P(B \\cap C) = P(B) \\cdot P(C) = 1/4$"
   ]
  },
  {
   "cell_type": "markdown",
   "metadata": {},
   "source": [
    "__example__\n",
    "\n",
    "Let $X$ and $Y$ be continuous random variables uniformly distributed on the segment $[0,1]$. Let $A$ be the event $\\{|X-Y| \\ge 1/2\\}, B = \\{|X| > 1/2\\}, C = \\{|Y| \\ge 1/2\\}$. Are the events $A,B,C$ mutually independent?\n",
    "\n",
    "No.\n",
    "\n",
    "$P(A \\cap B \\cap C) = 0 \\neq P(A) \\cdot P(B) \\cdot P(C)$"
   ]
  }
 ],
 "metadata": {
  "kernelspec": {
   "display_name": "Python 3",
   "language": "python",
   "name": "python3"
  },
  "language_info": {
   "codemirror_mode": {
    "name": "ipython",
    "version": 3
   },
   "file_extension": ".py",
   "mimetype": "text/x-python",
   "name": "python",
   "nbconvert_exporter": "python",
   "pygments_lexer": "ipython3",
   "version": "3.6.9"
  }
 },
 "nbformat": 4,
 "nbformat_minor": 2
}
