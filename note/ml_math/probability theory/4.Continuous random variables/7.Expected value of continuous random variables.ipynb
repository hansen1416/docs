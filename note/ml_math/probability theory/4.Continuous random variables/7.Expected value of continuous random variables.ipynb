{
 "cells": [
  {
   "cell_type": "markdown",
   "metadata": {},
   "source": [
    "__Expected value of continuous random variables__\n",
    "\n",
    "\n",
    "X is continuous random variable  \n",
    "X has $pdf_X(x)=p(x)$  \n",
    "\n",
    "$\\mathbb{E}X = \\int^{\\infty}_{-\\infty}p(x)xdx$"
   ]
  },
  {
   "cell_type": "markdown",
   "metadata": {},
   "source": [
    "__example__\n",
    "\n",
    "X is uniform distribution on [0, 1]\n",
    "\n",
    "$\\mathbb{E}X = \\int^{\\infty}_{-\\infty}p(x)xdx = \\int^{1}_{0}p(x)xdx$\n",
    "\n",
    "and $x \\in [0,1], p(x)$ is 1\n",
    "\n",
    "$\\mathbb{E}X = \\int^{1}_{0}1\\cdot xdx = \\int^{1}_{0}1\\cdot xdx$\n",
    "\n",
    "It's the area of triangle formed by x, y and x=y\n",
    "\n",
    "__If probability density function is symmetric, then the axis of symmetry have to be equal to expected value if it exists.__\n",
    "\n",
    "$\\mathbb{E}X = \\frac{x^2}{2}|^1_0 = \\frac{1}{2}$"
   ]
  },
  {
   "cell_type": "markdown",
   "metadata": {},
   "source": [
    "__example__\n",
    "\n",
    "Find $\\mathbb{E}X$ for continuous random variable $X$ with the following PDF: $2-2x$ for $x \\in (0,1)$ and 0 otherwise. Enter the exact value below:\n",
    "\n",
    "$\\mathbb{E}X = \\int^{1}_{0}(2-2x)xdx = \\int^{1}_{0}2xdx-\\int^{1}_{0}2x^2dx\n",
    "=x^2|^1_0-\\frac{2}{3}x^3|^1_0 = \\frac{1}{3}\n",
    "$"
   ]
  },
  {
   "cell_type": "markdown",
   "metadata": {},
   "source": [
    "__Variance of continuous random variables__\n",
    "\n",
    "1.$\\mathbb{E}(X+Y) = \\mathbb{E}X + \\mathbb{E}Y$  \n",
    "2.$\\mathbb{E}(cX) = c\\mathbb{E}X$ c is constant  \n",
    "3.$\\mathbb{E}c = c$  \n",
    "4.$\\mathop{\\mathrm{Var}}c = 0$  \n",
    "5.Let $X$ be random variable and $Y=f(x); f:\\mathbb{R}\\to\\mathbb{R}$  \n",
    "$\\mathbb{E}X=\\int^{\\infty}_{-\\infty}f(x)p(x)dx, p(x) \\mbox{ is } pdf_X$"
   ]
  },
  {
   "cell_type": "markdown",
   "metadata": {},
   "source": [
    "__example__\n",
    "\n",
    "CDF of a random variable $X$ is given by table:\n",
    "\n",
    "|$x<1$|$1\\leq x<2$|$2\\leq x<3$|$3\\leq x<4$|$4\\leq x$|\n",
    "|-----|-----------|-----------|-----------|---------|\n",
    "|  0  |    0.2    |    0.35   |    0.9    |    1    |\n",
    "\n",
    "Find $P(2<x\\leq4)$\n",
    "\n",
    "$P(2<x\\leq4) = 1-0.35 = 0.65$\n",
    "\n",
    "---\n",
    "\n",
    "Under the same conditions, find $\\mathbb{E}X$. Enter the value:\n",
    "\n",
    "$4\\times 0.1 + 3 \\times 0.55 + 2\\times 0.15 + 1\\times0.2 = 2.19$\n",
    "\n",
    "---\n",
    "\n",
    "Under the same conditions, find $\\mathop{\\mathrm{Var}}X$. Enter the value up to 2nd digit after dot:"
   ]
  }
 ],
 "metadata": {
  "kernelspec": {
   "display_name": "Python 3",
   "language": "python",
   "name": "python3"
  },
  "language_info": {
   "codemirror_mode": {
    "name": "ipython",
    "version": 3
   },
   "file_extension": ".py",
   "mimetype": "text/x-python",
   "name": "python",
   "nbconvert_exporter": "python",
   "pygments_lexer": "ipython3",
   "version": "3.6.9"
  }
 },
 "nbformat": 4,
 "nbformat_minor": 2
}
