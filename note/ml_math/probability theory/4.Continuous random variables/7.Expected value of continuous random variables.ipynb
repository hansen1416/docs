{
 "cells": [
  {
   "cell_type": "markdown",
   "metadata": {},
   "source": [
    "__Expected value and variable of continuous random variables__\n",
    "\n",
    "\n",
    "X is continuous random variable  \n",
    "X has $pdf_X(x)=p(x)$  \n",
    "\n",
    "$\\mathbb{E}X = \\int^{\\infty}_{-\\infty}p(x)xdx$"
   ]
  },
  {
   "cell_type": "markdown",
   "metadata": {},
   "source": [
    "__example__\n",
    "\n",
    "X is uniform distribution on [0, 1]\n",
    "\n",
    "$\\mathbb{E}X = \\int^{\\infty}_{-\\infty}p(x)xdx = \\int^{1}_{0}p(x)xdx$\n",
    "\n",
    "and $x \\in [0,1], p(x)$ is 1\n",
    "\n",
    "$\\mathbb{E}X = \\int^{1}_{0}1\\cdot xdx = \\int^{1}_{0}1\\cdot xdx$\n",
    "\n",
    "It's the area of triangle formed by x, y and x=y\n",
    "\n",
    "__If probability density function is symmetric, then the axis of symmetry have to be equal to expected value if it exists.__\n",
    "\n",
    "$\\mathbb{E}X = \\frac{x^2}{2}|^1_0 = \\frac{1}{2}$"
   ]
  },
  {
   "cell_type": "markdown",
   "metadata": {},
   "source": [
    "__example__\n",
    "\n",
    "Find $\\mathbb{E}X$ for continuous random variable $X$ with the following PDF: $2-2x$ for $x \\in (0,1)$ and 0 otherwise. Enter the exact value below:\n",
    "\n",
    "$\\mathbb{E}X = \\int^{1}_{0}(2-2x)xdx = \\int^{1}_{0}2xdx-\\int^{1}_{0}2x^2dx\n",
    "=x^2|^1_0-\\frac{2}{3}x^3|^1_0 = \\frac{1}{3}\n",
    "$"
   ]
  }
 ],
 "metadata": {
  "kernelspec": {
   "display_name": "Python 3",
   "language": "python",
   "name": "python3"
  },
  "language_info": {
   "codemirror_mode": {
    "name": "ipython",
    "version": 3
   },
   "file_extension": ".py",
   "mimetype": "text/x-python",
   "name": "python",
   "nbconvert_exporter": "python",
   "pygments_lexer": "ipython3",
   "version": "3.6.9"
  }
 },
 "nbformat": 4,
 "nbformat_minor": 2
}
