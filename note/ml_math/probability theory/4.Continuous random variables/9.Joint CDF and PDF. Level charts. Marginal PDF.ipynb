{
 "cells": [
  {
   "cell_type": "markdown",
   "metadata": {},
   "source": [
    "__Joint CDF and PDF__\n",
    "\n",
    "Let X, Y be random variables defined on common probobality space.\n",
    "\n",
    "Joint $CDF_{x, y} = P(X \\le x \\cap Y \\le y)$\n",
    "\n",
    "$X \\in [x_0, x_0 +\\Delta x]$\n",
    "\n",
    "$Y \\in [y_0, y_0 +\\Delta y]$\n",
    "\n",
    "$PDF_{X,Y}(x_0, y_0) = \\lim_{\\Delta x \\to 0, \\Delta y \\to 0} \n",
    "\\frac{P(X \\in [x_0, x_0+\\Delta x] \\cap Y \\in [y_0, y_0+\\Delta y])}{\\Delta x \\cdot \\Delta y}\n",
    "$"
   ]
  },
  {
   "cell_type": "markdown",
   "metadata": {},
   "source": [
    "__Marginal PDF__\n",
    "\n",
    "$PDF_X(x) = \\int^{\\infty}_{-\\infty} PDF_{X,Y}(x,y)dy $\n",
    "\n",
    "$PDF_Y(y) = \\int^{\\infty}_{-\\infty} PDF_{X,Y}(x,y)dx $\n",
    "\n",
    "__This is very close to what we did, in discrete random variables. We just only have to change probabilities to probability density functions and summation by integration.__"
   ]
  }
 ],
 "metadata": {
  "kernelspec": {
   "display_name": "Python 3",
   "language": "python",
   "name": "python3"
  },
  "language_info": {
   "codemirror_mode": {
    "name": "ipython",
    "version": 3
   },
   "file_extension": ".py",
   "mimetype": "text/x-python",
   "name": "python",
   "nbconvert_exporter": "python",
   "pygments_lexer": "ipython3",
   "version": "3.7.7"
  }
 },
 "nbformat": 4,
 "nbformat_minor": 2
}
