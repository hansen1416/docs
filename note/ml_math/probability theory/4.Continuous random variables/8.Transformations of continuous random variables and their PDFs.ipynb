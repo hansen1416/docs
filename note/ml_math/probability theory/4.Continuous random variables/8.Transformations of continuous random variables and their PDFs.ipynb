{
 "cells": [
  {
   "cell_type": "markdown",
   "metadata": {},
   "source": [
    "$Y=X+c$ c is constant\n",
    "\n",
    "if \n",
    "\n",
    "$X \\in [x, x+\\Delta x]$\n",
    "\n",
    "$Y \\in [x+c, x+c+\\Delta x]$\n",
    "\n",
    "So adding a constant shift the entrie $pdf_X$"
   ]
  },
  {
   "cell_type": "markdown",
   "metadata": {},
   "source": [
    "$Z=cX$ c is constant\n",
    "\n",
    "$X \\in [x, x+\\Delta x]$\n",
    "\n",
    "$Z \\in [cx, cx+c\\Delta x)]$\n",
    "\n",
    "$pdf_Z(cx) = \\lim_{\\Delta z \\to 0} \\frac{P(Z \\in [cx, cx+\\Delta z])}{\\Delta z}$;    $\\Delta z= c \\Delta x$  \n",
    "$=\\lim_{\\Delta x \\to 0} \\frac{P(Z \\in [cx, cx+c\\Delta x])}{c\\Delta x}$  \n",
    "$=\\frac{1}{c}\\lim_{\\Delta x \\to 0} \\frac{P(Z \\in [cx, cx+c\\Delta x])}{\\Delta x}$  \n",
    "$=\\frac{1}{c} pdf_X(x)$\n",
    "\n",
    "__First, we have to stretch the figure horizontally by multiplying x by c, and second, we have to squeeze the graph vertically by multiplying the value of the function by one over c.__\n",
    "\n",
    "__The fact that we have to compensate expanding in horizontal direction by contraction in vertical direction preserves the probability of getting somewhere, or in other sense, the area under this curve to be equal to one. So for this curve, area under the curve is equal to one because it is probability density function, and the same holds for the new curve because the expansions horizontal direction is compensated by contraction in the vertical direction.__"
   ]
  },
  {
   "cell_type": "markdown",
   "metadata": {},
   "source": [
    "__example__\n",
    "\n",
    "Find $\\mathbb E(\\pi \\cos\\pi x)$ for $X$ uniformly distributed on [0,1]. Enter the value below:\n",
    "\n",
    "$\\mathbb{E}X = \\int^1_0 pdf_X x dx = \\int^1_0 1 \\cdot x dx = \\frac{1}{2}$\n",
    "\n",
    "$\\mathbb{E}(\\pi \\cos\\pi x) = 0 $\n",
    "\n",
    "$cos \\pi$ is symmetry ar the axis x=0"
   ]
  }
 ],
 "metadata": {
  "kernelspec": {
   "display_name": "Python 3",
   "language": "python",
   "name": "python3"
  },
  "language_info": {
   "codemirror_mode": {
    "name": "ipython",
    "version": 3
   },
   "file_extension": ".py",
   "mimetype": "text/x-python",
   "name": "python",
   "nbconvert_exporter": "python",
   "pygments_lexer": "ipython3",
   "version": "3.6.9"
  }
 },
 "nbformat": 4,
 "nbformat_minor": 2
}
