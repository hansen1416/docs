{
 "cells": [
  {
   "cell_type": "markdown",
   "metadata": {},
   "source": [
    "__Formula of multinomial distribution__\n",
    "\n",
    "$(X_m1, \\dots, X_k) \\sim Multinomial (K,n,(p_1,\\dots,p_k))$\n",
    "\n",
    "$P(X_1=m_1 \\cap X_2=m_2 \\cap \\dots \\cap X_k=m_k) = ?$\n",
    "\n",
    "$\\Omega = \\{ (S_1, \\dots , S_n) | S_j \\in \\{1,\\dots,K\\}\\}$"
   ]
  },
  {
   "cell_type": "markdown",
   "metadata": {},
   "source": [
    "__example__\n",
    "\n",
    "$n=6, k=4$\n",
    "\n",
    "$\\omega = (1,2,2,3,1,2)$  \n",
    "\n",
    "$X_1(\\omega) = 2, X_2(\\omega) = 3, X_3(\\omega) = 1, X_4(\\omega) = 0$\n",
    "\n",
    "Assume each outcome is independent\n",
    "\n",
    "$P(\\omega) = p_1p_2p_2p_3p_1p_2 = p_1^2p_2^3p_3^1p_4^0 = p_1^{X_1(\\omega)}\\cdot \\dots \\cdot p_4^{X_4(\\omega)}$\n",
    "\n",
    "---\n",
    "\n",
    "$\\omega = (1,2,2,3,1,2)$  \n",
    "\n",
    "How many ways to rearrange $\\omega$ exist?\n",
    "\n",
    "assign different index to each of this value. This is done to distinguish between identical values\n",
    "\n",
    "$\\omega = (1_1,2_1,2_2,3_1,1_2,2_3)$  \n",
    "\n",
    "How many ways to rearrange cards with indexes? $n!$, $6!$\n",
    "\n",
    "Since if we swap the same cards with same value, the outcome is identical\n",
    "\n",
    "The result should be $\\frac{6!}{2!3!1!}$\n",
    "\n",
    "---\n",
    "\n",
    "$P(X_1=2 \\cap X_2=3 \\cap X_3=1 \\cap X_4 = 0) = \\frac{6!}{2!3!1!} \\cdot p_1^2p_2^3p_3^1p_4^0$\n",
    "\n",
    "---\n",
    "\n",
    "_General case_\n",
    "\n",
    "$P(X_1=m_1 \\cap \\dots \\cap X_k = m_k) = \\frac{n!}{m_1!\\dots m_k!} \\cdot p_1^{m_1} \\cdot \\dots p_k^{m_k}$"
   ]
  }
 ],
 "metadata": {
  "kernelspec": {
   "display_name": "Python 3",
   "language": "python",
   "name": "python3"
  },
  "language_info": {
   "codemirror_mode": {
    "name": "ipython",
    "version": 3
   },
   "file_extension": ".py",
   "mimetype": "text/x-python",
   "name": "python",
   "nbconvert_exporter": "python",
   "pygments_lexer": "ipython3",
   "version": "3.7.7"
  }
 },
 "nbformat": 4,
 "nbformat_minor": 4
}
