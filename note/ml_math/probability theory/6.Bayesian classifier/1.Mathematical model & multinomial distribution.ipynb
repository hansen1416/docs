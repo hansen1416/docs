{
 "cells": [
  {
   "cell_type": "markdown",
   "metadata": {},
   "source": [
    "__multinomial distribution__\n",
    "\n",
    "Dice with K faces enumerated by numbers from 1,...,k  \n",
    "\n",
    "$P(\\mbox{get face }j) = p_j, j = 1,\\dots,k$\n",
    "\n",
    "$p_1 + \\dotsm + p_j = 1, p_j \\ge 0$\n",
    "\n",
    "Roll dice n times, Let $Xj=\\mbox{count of face }j$\n",
    "\n",
    "$(X_1, \\dots, X_k) \\sim Multinomial(k, n, (p_1,\\dots,p_k))$"
   ]
  },
  {
   "cell_type": "markdown",
   "metadata": {},
   "source": [
    "__example__\n",
    "\n",
    "K =2 \n",
    "\n",
    "$(X_1, X_2) \\sim Multinomial(2, n, (p, 1-p))$\n",
    "\n",
    "$\\implies X_1 \\sim Binomial(n,p)$"
   ]
  },
  {
   "cell_type": "markdown",
   "metadata": {},
   "source": [
    "__example__\n",
    "\n",
    "$K =6, p_1,\\dots p_6 = \\frac{1}{6}$\n",
    "\n",
    "$(X_1,\\dots, X_6) \\sim Multinomial(6, n, (\\frac{1}{6},\\dots,\\frac{1}{6}))$\n",
    "\n",
    "$\\implies X_j = \\mbox{count of } j \\mbox{ points}$"
   ]
  },
  {
   "cell_type": "markdown",
   "metadata": {},
   "source": [
    "__example__\n",
    "\n",
    "$n=1$ k and p are arbitrary\n",
    "\n",
    "$(X_1,\\dots, X_6) \\sim Multinomial(k, 1, (p_1,\\dots,p_k))$\n",
    "\n",
    "there is noly one non-zero element among $(X_1,\\dots, X_6)$, and it's value is 1. A vector with only 1 all the other is 0.\n",
    "\n",
    "$Categorical(k, (p_1,\\dots,p_k))$"
   ]
  }
 ],
 "metadata": {
  "kernelspec": {
   "display_name": "Python 3",
   "language": "python",
   "name": "python3"
  },
  "language_info": {
   "codemirror_mode": {
    "name": "ipython",
    "version": 3
   },
   "file_extension": ".py",
   "mimetype": "text/x-python",
   "name": "python",
   "nbconvert_exporter": "python",
   "pygments_lexer": "ipython3",
   "version": "3.7.9"
  }
 },
 "nbformat": 4,
 "nbformat_minor": 4
}
