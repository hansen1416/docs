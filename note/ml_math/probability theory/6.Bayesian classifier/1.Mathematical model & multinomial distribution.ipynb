{
 "cells": [
  {
   "cell_type": "markdown",
   "metadata": {},
   "source": [
    "__multinomial distribution__\n",
    "\n",
    "Dice with K faces enumerated by numbers from 1,...,k  \n",
    "\n",
    "$P(\\mbox{get face }j) = p_j, j = 1,\\dots,k$\n",
    "\n",
    "$p_1 + \\dotsm + p_j = 1, p_j \\ge 0$\n",
    "\n",
    "Roll dice n times, Let $Xj=\\mbox{count of face }j$\n",
    "\n",
    "$(X_1, \\dots, X_k) \\sim Multinomial(k, n, (p_1,\\dots,p_k))$"
   ]
  }
 ],
 "metadata": {
  "kernelspec": {
   "display_name": "Python 3",
   "language": "python",
   "name": "python3"
  },
  "language_info": {
   "codemirror_mode": {
    "name": "ipython",
    "version": 3
   },
   "file_extension": ".py",
   "mimetype": "text/x-python",
   "name": "python",
   "nbconvert_exporter": "python",
   "pygments_lexer": "ipython3",
   "version": "3.7.7"
  }
 },
 "nbformat": 4,
 "nbformat_minor": 4
}
