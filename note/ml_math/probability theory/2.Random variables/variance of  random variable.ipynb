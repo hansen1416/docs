{
 "cells": [
  {
   "cell_type": "markdown",
   "metadata": {},
   "source": [
    "| p | 0.1 | 0.9 |\n",
    "|--|--|--|\n",
    "| $X$ | 5 | -1 |\n",
    "| $X-\\mathbb{E}X$ | 5.4 | -0.6 |\n",
    "| $(X-\\mathbb{E}X)^2$ | 29.16 | 0.36 |\n",
    "\n",
    "$\\mathbb{E}X=-0.4$\n",
    "\n",
    "$\\mathbb{E}(X-\\mathbb{E}X)=0$\n",
    "\n",
    "$\\mathbb{E}(X-\\mathbb{E}X)^2=VarX=29.16 \\times 0.1+0.36 \\times 0.9 = 3.24$"
   ]
  },
  {
   "cell_type": "markdown",
   "metadata": {},
   "source": [
    "__Definition__\n",
    "\n",
    "X is random variable\n",
    "\n",
    "$VarX = \\mathbb{E}(X-\\mathbb{E}X)^2$"
   ]
  },
  {
   "cell_type": "markdown",
   "metadata": {},
   "source": [
    "__example__\n",
    "\n",
    "What’s the variance of random variable that takes values from -3 to 3 with probabilities set by PMF:\n",
    "\n",
    "| X | -3 | -2 | -1 | 0 | 1 | 2 | 3 |\n",
    "|---|----|----|----|---|---|---|---|\n",
    "| P | 1/14 | 1/7 | 1/7 | 2/7 | 2/7 | 0 | 1/14\n",
    "\n",
    "$\\mathbb{E}X = 1/14\\times -3+1/7\\times -2+1/7\\times -1+2/7\\times0+2/7\\times1+0\\times2+1/14\\times3=-1/7$\n",
    "\n",
    "$Var X = (-3+1/7)^2\\times1/14+(-2+1/7)^2\\times1/7+(-1+1/7)^2\\times1/7+(0+1/7)^2\\times2/7+(1+1/7)^2\\times2/7+(2+1/7)^2\\times0+(3+1/7)^2\\times1/14$\n",
    "\n",
    "$= (20/7)^2\\times1/14+(13/7)^2\\times1/7+(6/7)^2\\times1/7+(1/7)^2\\times2/7+(8/7)^2\\times2/7+(22/7)^2\\times1/14$\n",
    "\n",
    "$= (400/49)\\times1/14+(169/49)\\times2/14+(36/49)\\times2/14+(1/49)\\times4/14+(64/49)\\times4/14+(484/49)\\times1/14$\n",
    "\n",
    "$= (400+169\\times2+36\\times2+4+64\\times4+484)/(49\\times14)=1554/686=111/49$"
   ]
  },
  {
   "cell_type": "code",
   "execution_count": 4,
   "metadata": {},
   "outputs": [
    {
     "name": "stdout",
     "output_type": "stream",
     "text": [
      "2.2653061224489797\n"
     ]
    }
   ],
   "source": [
    "v = (-3+1/7)**2*1/14+(-2+1/7)**2*1/7+(-1+1/7)**2*1/7+(1/7)**2*2/7+(1+1/7)**2*2/7+(3+1/7)**2*1/14\n",
    "print(v)"
   ]
  },
  {
   "cell_type": "markdown",
   "metadata": {},
   "source": [
    "__example__\n",
    "\n",
    "May there be a random variable $X$ with $\\mathbb{E}X=3$ and $\\mathbb{E}X^2=8$\n",
    "\n",
    "No"
   ]
  },
  {
   "cell_type": "markdown",
   "metadata": {},
   "source": [
    "__example__\n",
    "\n",
    "Variance of $X$ may also be represented as\n",
    "\n",
    "$VarX = \\mathbb{E}(X-\\mathbb{E}(X))^2 = \\mathbb{E}(X^2 - 2X\\mathbb{E}X+\\mathbb{E}(X)^2)\n",
    "=\\mathbb{E}(X^2) - 2\\mathbb{E}(X)\\mathbb{E}(X)+\\mathbb{E}(X)^2=\\mathbb{E}(X^2)-\\mathbb{E}(X)^2$"
   ]
  },
  {
   "cell_type": "markdown",
   "metadata": {},
   "source": [
    "__example__\n",
    "\n",
    "Find variance of the value on a fair dice rolled one time. Enter the irreducible fraction below (e.g., 13/28):\n",
    "\n",
    "$\\mathbb{E}X = \\frac{1+2+3+4+5+6}{6}=3.5$\n",
    "\n",
    "$VarX = \\frac{\\sum^{6}_{i=1}(X_i-\\mathbb{E}X)^2}{6}=\\frac{17.5}{6} = \\frac{35}{12}$"
   ]
  },
  {
   "cell_type": "markdown",
   "metadata": {},
   "source": [
    "__example__\n",
    "\n",
    "Two discrete random variables XX and YY take values (0, 2, 5, 5, 7, 10, 11) and (3, 5, 8, 8, 10, 13, 14). All values have equal probability. How are their variances related? Try to use properties of variance to answer without precisely calculating the variances:\n",
    "\n",
    "$Var Y = Var X$"
   ]
  },
  {
   "cell_type": "markdown",
   "metadata": {},
   "source": [
    "__example__\n",
    "\n",
    "Space Company Z is preparing to launch a spaceship. If the launch is successful, the company earns $\\$100$ million in profit. In case of failure, the company loses $\\$200$ million (i.e. negative profit). Probability of failure is $1/10$. The company can buy insurance for this launch. Cost of insurance is $\\$30$ million (paid before the launch). In case of failure the insurer will pay Space Company Z $\\$200$ million (thus compensating all the damages). Consider two cases: 1. Space Company Z decided not to buy insurance. 2. Space Company Z decided to buy insurance. Denote its profit in the first case by $X$ and in the second case by $Y$. (In the second case profit includes payments to/from the insurer taken with appropriate sign.) Find expected values and variances of $X$ and $Y$. Describe how buying of insurance affects the profit, its expected value and variance? Does buying insurance is cost-efficient in the long run? In which case Space Company Z can decide to buy insurance and why?\n",
    "\n",
    "$p=1/10$\n",
    "\n",
    "$X = \\{100, -200\\}$\n",
    "\n",
    "$\\mathbb{E}X = \\sum^{n}_{k=1}x_kp_k = 100 \\times 0.9 - 200 \\times 0.1 = 90 - 20 = 70$ million\n",
    "\n",
    "$Var X = \\mathbb{E}(X-\\mathbb{E}X)^2 = (100 - 70)^2 \\times 0.9 + (-200-70)^2 \\times 0.1 = 8100$\n",
    "\n",
    "$Y = \\{(100 - 30), (200+200-30)\\}$\n",
    "\n",
    "$\\mathbb{E}Y = \\sum^{n}_{k=1}y_kp_k = 70 \\times 0.9 - 30 \\times 0.1 = 63 - 3 = 60$ million\n",
    "\n",
    "$Var Y = \\mathbb{E}(Y-\\mathbb{E}Y)^2 = (70 - 60)^2 \\times 0.9 + (-30-60)^2 \\times 0.1 = 900$\n",
    "\n",
    "Buying of isurance decrease profit and therefore decrease the expected value of profit. But it also decrease variance considerably. \n",
    "\n",
    "If based solely on expected value, it is not cost-efficient in the long run. \n",
    "\n",
    "But if Space Company Z doesn't want its risk exposure to be very high, it can decide to buy the isurance. because there is a 1/10 chance of failure at the first launch, lead to a immediately loss of \\$200 millison. Which could cause bankruptcy or other serious concequences. Buying insurance will avoid a sudden big loss."
   ]
  }
 ],
 "metadata": {
  "kernelspec": {
   "display_name": "Python 3",
   "language": "python",
   "name": "python3"
  },
  "language_info": {
   "codemirror_mode": {
    "name": "ipython",
    "version": 3
   },
   "file_extension": ".py",
   "mimetype": "text/x-python",
   "name": "python",
   "nbconvert_exporter": "python",
   "pygments_lexer": "ipython3",
   "version": "3.6.9"
  }
 },
 "nbformat": 4,
 "nbformat_minor": 2
}
