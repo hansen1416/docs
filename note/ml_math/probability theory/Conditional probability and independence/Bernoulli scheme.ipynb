{
 "cells": [
  {
   "cell_type": "markdown",
   "metadata": {},
   "source": [
    "Sequence of coin tossing, n = 2\n",
    "\n",
    "$H_1$, first tossing gives head.\n",
    "\n",
    "$H_2$, second tossing gives head.\n",
    "\n",
    "$P(H_1) = P(H_2) = p$ $H_1$ and $H_2$ are independent.\n",
    "\n",
    "$P(HH) = P(H_1 \\cap H_2) = P(H_1) \\cdot P(H_2) = p\\cdot p = p^2$\n",
    "\n",
    "$P(\\bar{H_1} \\cap \\bar{H_2}) = P(\\bar{H_1}) \\cdot P(\\bar{H_2}) = (1-p) \\cdot (1-p) = (1-p)^2$\n",
    "\n",
    "$P(TT) = (1-p)^2$\n",
    "\n",
    "$P(HT) = p(1-p)$\n",
    "\n",
    "$P(TH) = p(1-p)$"
   ]
  },
  {
   "cell_type": "markdown",
   "metadata": {},
   "source": [
    "Arbitrary n\n",
    "\n",
    "$\\Omega = 2^n$\n",
    "\n",
    "using mutually independent assumption\n",
    "\n",
    "Consider outcome with m heads and n-m tails\n",
    "\n",
    "$P(O) = p^m(1-p)^{n-m}$"
   ]
  },
  {
   "cell_type": "markdown",
   "metadata": {},
   "source": [
    "__example__\n",
    "\n",
    "How many times (at least) a fair coin should be tossed to ensure that one or more heads are drawn with probability greater than 0.99?\n",
    "\n",
    "Let p = P(head), 1-p = P(tail)\n",
    "\n",
    "One or more heads is the opposite of all tails, which is $(1-p)^n$\n",
    "\n",
    "$\\implies (1-p)^n < 1-0.99 = 0.01$\n",
    "\n",
    "$\\implies 0.5^n < 0.01$\n",
    "\n",
    "$\\implies n \\times log 0.5 < log 0.01 $\n",
    "\n",
    "$\\implies -0.301 \\times n < -2 $\n",
    "\n",
    "$\\implies  n > 2/0.301 \\approx 6.64 $\n",
    "\n",
    "And n is an integer, $n = 7$"
   ]
  },
  {
   "cell_type": "markdown",
   "metadata": {},
   "source": [
    "__example__\n",
    "\n",
    "In a sequence of 4 independent experiments the probability of at least one success is 0.5904 . If the probability of success is equal in every experiment, what is its value?\n",
    "\n",
    "Let $s$ be the probability of success\n",
    "\n",
    "probability of 4 failure = $(1-s)^4 = (1-0.5904)$\n",
    "\n",
    "$\\implies 1-s = \\sqrt[4]{0.4096} = 0.8 \\implies s = 0.2$"
   ]
  },
  {
   "cell_type": "markdown",
   "metadata": {},
   "source": [
    "__example__\n",
    "\n",
    "Player picks a random ball from one of 3 boxes. It's known that for one box the probability of picking out white ball is 1/4, for another box it's 0 and for the last box it's 1/2. What's the probablity of player's picking a white ball if her choice of box is random. Enter the value:\n",
    "\n",
    "$1/3 \\times 1/4 + 1/3 \\times 1/2 = 1/4$"
   ]
  },
  {
   "cell_type": "markdown",
   "metadata": {},
   "source": [
    "__example__\n",
    "\n",
    "There are 5 white balls and 4 black balls in a box. Three random balls are taken out. What's the probability that out of the 3 balls the number of black balls is odd provided that the last taken ball was black? Enter the exact value below (e.g., 15/34 or 0.12):\n",
    "\n",
    "p = probability of the number of black balls is odd  \n",
    "q = probability of the last taken ball was black\n",
    "\n",
    "P({BBB,WWB})=$\\frac{4}{9}\\times\\frac{3}{8}\\times\\frac{2}{7} + \\frac{5}{9}\\times\\frac{4}{8}\\times\\frac{4}{7} \n",
    "= \\frac{13}{63} = p \\cap q$\n",
    "\n",
    "P({WWB,BWB,BBB,WBB}) = \n",
    "$\\frac{5}{9}\\times\\frac{4}{8}\\times\\frac{4}{7} + \\frac{4}{9}\\times\\frac{5}{8}\\times\\frac{3}{7} \n",
    "+ \\frac{4}{9}\\times\\frac{3}{8}\\times\\frac{2}{7} + \\frac{5}{9}\\times\\frac{4}{8}\\times\\frac{3}{7} \n",
    "= \\frac{28}{63} = q$\n",
    "\n",
    "$P(p|q) = P(p \\cap q)/q = 13/28$"
   ]
  }
 ],
 "metadata": {
  "kernelspec": {
   "display_name": "Python 3",
   "language": "python",
   "name": "python3"
  },
  "language_info": {
   "codemirror_mode": {
    "name": "ipython",
    "version": 3
   },
   "file_extension": ".py",
   "mimetype": "text/x-python",
   "name": "python",
   "nbconvert_exporter": "python",
   "pygments_lexer": "ipython3",
   "version": "3.6.9"
  }
 },
 "nbformat": 4,
 "nbformat_minor": 2
}
