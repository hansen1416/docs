{
 "cells": [
  {
   "cell_type": "markdown",
   "metadata": {},
   "source": [
    "__Definition of conditional prob.__\n",
    "\n",
    "A,B events, $A \\subset \\Omega, B \\subset \\Omega $, all outcomes have equal prob in $\\Omega$\n",
    "\n",
    "${\\large P(A|B) = \\frac{\\#A\\cap B}{\\#B} = \\frac{\\frac{\\#A \\cap B}{\\#\\Omega}}{\\frac{\\#B}{\\#\\Omega}} = \\frac{P(A\\cap B)}{P(B)} }$"
   ]
  },
  {
   "cell_type": "markdown",
   "metadata": {},
   "source": [
    "__Corollary:__\n",
    "\n",
    "$ P(A\\cap B) = P(A|B) \\cdot P(B)$"
   ]
  },
  {
   "cell_type": "markdown",
   "metadata": {},
   "source": [
    "__example__\n",
    "\n",
    ">A fair coin is tossed 4 times. Provided that at least 2 heads occurred within the 4 tossings, what's the probability that at least one tail also occurred? Enter the irreducible fraction below (e.g., 13/28):\n",
    "\n",
    "The probability of getting exactly 2 heads, which is $\\frac{\\binom{4}{2}}{2^4} = \\frac{3}{8}$\n",
    "\n",
    "The probability of getting exactly 3 heads, which is $\\frac{\\binom{4}{3}}{2^4} = \\frac{1}{4}$\n",
    "\n",
    "The probability of getting exactly 4 heads, which is $\\frac{\\binom{4}{4}}{2^4} = \\frac{1}{16}$\n",
    "\n",
    "Hence the probability of getting at least 2 heads is $\\frac{3}{8}+\\frac{1}{4}+\\frac{1}{16}=\\frac{11}{16}$\n",
    "\n",
    "At least 1 tail also occurred and at least 2 heads occurred, which is The probability of getting exactly 2 heads + \n",
    "The probability of getting exactly 3 heads = $\\frac{3}{8} + \\frac{1}{4} = \\frac{5}{8}$\n",
    "\n",
    "$P(A \\cap B) = \\frac{5}{8}, P(B) = \\frac{11}{16}$\n",
    "\n",
    "$P(A|B) = \\frac{P(A \\cap B)}{P(B)} = \\frac{10}{11}$"
   ]
  },
  {
   "cell_type": "markdown",
   "metadata": {},
   "source": [
    "__example__\n",
    "\n",
    ">Two fair dices are rolled simultaneously. Find the conditional probability of event \"both dice got equal values\" provided that the sum of values on dice is less than or equal to six. Enter the irreducible fraction below (e.g., 13/28):\n",
    "\n",
    "Two dices, sum is less or equal to 6, there are 15 possible combination  \n",
    "(5,1),(4,2),(4,1),...,(1,2),(1,1)  \n",
    "or  \n",
    "$1+2+3+4+5=15$\n",
    "\n",
    "$1+2+3+\\dots+n=\\sum^{n}_{k=1}\\frac{n(n+1)}{2}$\n",
    "\n",
    "two dices equal, (1,1),(2,2),(3,3). let all possible combinatin is $X$\n",
    "\n",
    "$P(A| B) = \\frac{P(A\\cap B)}{P(B)} = \\frac{\\frac{3}{X}}{\\frac{15}{X}} = \\frac{1}{5}$"
   ]
  },
  {
   "cell_type": "markdown",
   "metadata": {},
   "source": [
    "__example__\n",
    "\n",
    ">A coin is tossed until it gives either 10 heads or 10 tails. Player A bets on 10 heads and player B bets on 10 tails. The game is unexpectedly interrupted after 15 tossings with 8 heads and 7 tails observed. What would be the fair ratio to split the prize pool between player A and B? Consider it be the ratio of winning probabilities of the players.\n",
    "\n",
    "Maximum 19 tossing for the game to end, there are $2^4=16$ possible outcomes if they finish the maximum 4 tossing.\n",
    "\n",
    "Exactly 2 heads $\\binom{4}{2}=6$\n",
    "Exactly 2 heads $\\binom{4}{3}=4$\n",
    "Exactly 2 heads $\\binom{4}{4}=1$\n",
    "\n",
    "Possibility of having at least 2 heads are: 6+4+1\n",
    "\n",
    "Remaining are less than 2 heads\n",
    "($\\binom{4}{1}=4 \\; and \\; \\binom{4}{0}=1$)\n",
    "\n",
    "so it's 11:5"
   ]
  },
  {
   "cell_type": "markdown",
   "metadata": {},
   "source": [
    "__example__\n",
    "\n",
    "In blackjack there's a 52-cards deck (4 suits of 13 cards each: 2, 3, 4, 5, 6, 7, 8, 9, 10, Jack, Queen, King, Ace). Digits are count as their face value, Aces count for 11 and pictures count for 10. Player with maximum total value of cards wins, provided that the value doesn't exceed 21. Croupier has two pictures. Player has an ace. What's the probability that player wins as the next card is dealt?\n",
    "\n",
    "There are 49 cards remaining, the player can win only when he gets a 10 or picture. There are 16-2=14 10 or pictures remaining. It's 14/49 = 2/7."
   ]
  }
 ],
 "metadata": {
  "kernelspec": {
   "display_name": "Python 3",
   "language": "python",
   "name": "python3"
  },
  "language_info": {
   "codemirror_mode": {
    "name": "ipython",
    "version": 3
   },
   "file_extension": ".py",
   "mimetype": "text/x-python",
   "name": "python",
   "nbconvert_exporter": "python",
   "pygments_lexer": "ipython3",
   "version": "3.6.9"
  }
 },
 "nbformat": 4,
 "nbformat_minor": 2
}
