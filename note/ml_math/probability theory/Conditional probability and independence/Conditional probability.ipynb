{
 "cells": [
  {
   "cell_type": "markdown",
   "metadata": {},
   "source": [
    "__Definition of conditional prob.__\n",
    "\n",
    "A,B events, $A \\subset \\Omega, B \\subset \\Omega $, all outcomes have equal prob in $\\Omega$\n",
    "\n",
    "${\\large P(A|B) = \\frac{\\#A\\cap B}{\\#B} = \\frac{\\frac{\\#A \\cap B}{\\#\\Omega}}{\\frac{\\#B}{\\#\\Omega}} = \\frac{P(A\\cap B)}{P(B)} }$"
   ]
  },
  {
   "cell_type": "markdown",
   "metadata": {},
   "source": [
    "__Corollary:__\n",
    "\n",
    "$ P(A\\cap B) = P(A|B) \\cdot P(B)$"
   ]
  }
 ],
 "metadata": {
  "kernelspec": {
   "display_name": "Python 3",
   "language": "python",
   "name": "python3"
  },
  "language_info": {
   "codemirror_mode": {
    "name": "ipython",
    "version": 3
   },
   "file_extension": ".py",
   "mimetype": "text/x-python",
   "name": "python",
   "nbconvert_exporter": "python",
   "pygments_lexer": "ipython3",
   "version": "3.6.9"
  }
 },
 "nbformat": 4,
 "nbformat_minor": 2
}
