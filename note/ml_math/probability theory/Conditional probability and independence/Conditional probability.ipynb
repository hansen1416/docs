{
 "cells": [
  {
   "cell_type": "markdown",
   "metadata": {},
   "source": [
    "__Definition of conditional prob.__\n",
    "\n",
    "A,B events, $A \\subset \\Omega, B \\subset \\Omega $, all outcomes have equal prob in $\\Omega$\n",
    "\n",
    "${\\large P(A|B) = \\frac{\\#A\\cap B}{\\#B} = \\frac{\\frac{\\#A \\cap B}{\\#\\Omega}}{\\frac{\\#B}{\\#\\Omega}} = \\frac{P(A\\cap B)}{P(B)} }$"
   ]
  },
  {
   "cell_type": "markdown",
   "metadata": {},
   "source": [
    "__Corollary:__\n",
    "\n",
    "$ P(A\\cap B) = P(A|B) \\cdot P(B)$"
   ]
  },
  {
   "cell_type": "markdown",
   "metadata": {},
   "source": [
    "__example__\n",
    "\n",
    "A fair coin is tossed 4 times. Provided that at least 2 heads occurred within the 4 tossings, what's the probability that at least one tail also occurred? Enter the irreducible fraction below (e.g., 13/28):\n",
    "\n",
    "The probability of getting exactly 2 heads, which is $\\frac{\\binom{4}{2}}{2^4} = \\frac{3}{8}$\n",
    "\n",
    "The probability of getting exactly 3 heads, which is $\\frac{\\binom{4}{3}}{2^4} = \\frac{1}{4}$\n",
    "\n",
    "The probability of getting exactly 4 heads, which is $\\frac{\\binom{4}{4}}{2^4} = \\frac{1}{16}$\n",
    "\n",
    "Hence the probability of getting at least 2 heads is $\\frac{3}{8}+\\frac{1}{4}+\\frac{1}{16}=\\frac{11}{16}$\n",
    "\n",
    "At least 1 tail also occurred and at least 2 heads occurred, which is The probability of getting exactly 2 heads + \n",
    "The probability of getting exactly 3 heads = $\\frac{3}{8} + \\frac{1}{4} = \\frac{5}{8}$\n",
    "\n",
    "$P(A \\cap B) = \\frac{5}{8}, P(B) = \\frac{11}{16}$\n",
    "\n",
    "$P(A|B) = \\frac{P(A \\cap B)}{P(B)} = \\frac{10}{11}$"
   ]
  },
  {
   "cell_type": "markdown",
   "metadata": {},
   "source": [
    "Two fair dices are rolled simultaneously. Find the conditional probability of event \"both dice got equal values\" provided that the sum of values on dice is less than or equal to six. Enter the irreducible fraction below (e.g., 13/28):\n",
    "\n"
   ]
  }
 ],
 "metadata": {
  "kernelspec": {
   "display_name": "Python 3",
   "language": "python",
   "name": "python3"
  },
  "language_info": {
   "codemirror_mode": {
    "name": "ipython",
    "version": 3
   },
   "file_extension": ".py",
   "mimetype": "text/x-python",
   "name": "python",
   "nbconvert_exporter": "python",
   "pygments_lexer": "ipython3",
   "version": "3.6.9"
  }
 },
 "nbformat": 4,
 "nbformat_minor": 2
}
