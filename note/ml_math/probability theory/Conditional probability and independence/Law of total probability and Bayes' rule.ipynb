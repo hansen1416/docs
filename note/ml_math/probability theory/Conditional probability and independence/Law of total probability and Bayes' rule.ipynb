{
 "cells": [
  {
   "cell_type": "markdown",
   "metadata": {},
   "source": [
    "__Law of total probability__\n",
    "\n",
    "Random exp: pick random student\n",
    "    \n",
    "$H_1$ student on 1st year of edution\n",
    "\n",
    "$H_2$ student on 2nd year of edution\n",
    "\n",
    "$H_3$ student on 3rd year of edution\n",
    "\n",
    "$C$ student knows calculus\n",
    "\n",
    "Let $P(H_1)=0.5, P(H_2)=0.3, P(H_3)=0.2$,  \n",
    "\n",
    "$H_i \\cap H_j = 0, i\\neq j$,  $H_1\\cup H_2\\cup H_3=\\Omega$\n",
    "\n",
    "$P(C|H_1) = 0.1$, $P(C|H_2) = 0.8$, $P(C|H_3) = 0.7$"
   ]
  },
  {
   "cell_type": "markdown",
   "metadata": {},
   "source": [
    "$P(C) = 0.5 \\times 0.1 + 0.3 \\times 0.8 + 0.2 \\times 0.7 = 0.43$\n",
    "\n",
    "$P(C)=P((C\\cap H_1) \\cup (C\\cap H_2) \\cup (C\\cap H_3))$  \n",
    "$=P(C\\cap H_1) + P(C\\cap H_2) + P(C\\cap H_3)$  \n",
    "$=P(H_1) \\cdot P(C | H_1) + P(H_2) \\cdot P(C | H_2) + P(H_3) \\cdot P(C | H_3)$   \n",
    "$=\\sum^{3}_{i=1} P(H_i) \\cdot P(C|H_i)$"
   ]
  },
  {
   "cell_type": "markdown",
   "metadata": {},
   "source": [
    "__example__\n",
    "\n",
    "Provided that $P(B) \\ne 0$, what's the correct sign between these expressions: $P(A|B)$ and $1 - P(\\bar{A})/P(B)$? Here $\\bar{A}$ means complement to the event $A$.\n",
    "\n",
    "$P(A|B) = P(A\\cap B)/P(B) = (P(B) - P(\\bar{A} \\cap B))/P(B) = 1-P(\\bar{A} \\cap B)/P(B)$\n",
    "\n",
    "$P(\\bar{A} \\cap B) \\le P(\\bar{A}) \\implies 1-P(\\bar{A} \\cap B)/P(B) \\ge 1 - P(\\bar{A})/P(B)$"
   ]
  },
  {
   "cell_type": "markdown",
   "metadata": {},
   "source": [
    "__example__\n",
    "\n",
    "Support call center accepts calls and resolves clients' issues. There are 5 operators. Nina accepts half of all calls and successfully resolves 80% of issues, Tina and Dina accept 1/6 of calls each and resolve 75% and 90% of problems respectively. Mina and Lina accept 1/12 of calls each and resolve 50% and 25% of problems respectively. What's the probability that someone who calls to the call center will get their issue resolved? We suppose that the operators don't consult each other. Enter the number with at least 2 digits after dot (e.g. 0.23):\n",
    "\n",
    "$P(r)=0.8\\times 0.5+1/6\\times0.75+1/6\\times0.9+1/12\\times0.5+1/12\\times0.25=0.74$"
   ]
  }
 ],
 "metadata": {
  "kernelspec": {
   "display_name": "Python 3",
   "language": "python",
   "name": "python3"
  },
  "language_info": {
   "codemirror_mode": {
    "name": "ipython",
    "version": 3
   },
   "file_extension": ".py",
   "mimetype": "text/x-python",
   "name": "python",
   "nbconvert_exporter": "python",
   "pygments_lexer": "ipython3",
   "version": "3.6.9"
  }
 },
 "nbformat": 4,
 "nbformat_minor": 2
}
