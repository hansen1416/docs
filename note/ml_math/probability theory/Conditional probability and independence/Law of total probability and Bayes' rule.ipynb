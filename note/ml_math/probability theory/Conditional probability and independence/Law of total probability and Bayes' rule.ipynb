{
 "cells": [
  {
   "cell_type": "markdown",
   "metadata": {},
   "source": [
    "__Law of total probability__\n",
    "\n",
    "Random exp: pick random student\n",
    "    \n",
    "$H_1$ student on 1st year of edution\n",
    "\n",
    "$H_2$ student on 2nd year of edution\n",
    "\n",
    "$H_3$ student on 3rd year of edution\n",
    "\n",
    "$C$ student knows calculus\n",
    "\n",
    "Let $P(H_1)=0.5, P(H_2)=0.3, P(H_3)=0.2$,  \n",
    "\n",
    "$H_i \\cap H_j = 0, i\\neq j$,  $H_1\\cup H_2\\cup H_3=\\Omega$\n",
    "\n",
    "$P(C|H_1) = 0.1$, $P(C|H_2) = 0.8$, $P(C|H_3) = 0.7$"
   ]
  },
  {
   "cell_type": "markdown",
   "metadata": {},
   "source": [
    "$P(C) = 0.5 \\times 0.1 + 0.3 \\times 0.8 + 0.2 \\times 0.7 = 0.43$\n",
    "\n",
    "$P(C)=P((C\\cap H_1) \\cup (C\\cap H_2) \\cup (C\\cap H_3))$  \n",
    "$=P(C\\cap H_1) + P(C\\cap H_2) + P(C\\cap H_3)$  \n",
    "$=P(H_1) \\cdot P(C | H_1) + P(H_2) \\cdot P(C | H_2) + P(H_3) \\cdot P(C | H_3)$   \n",
    "$=\\sum^{3}_{i=1} P(H_i) \\cdot P(C|H_i)$"
   ]
  },
  {
   "cell_type": "markdown",
   "metadata": {},
   "source": [
    "__example__\n",
    "\n",
    "Support call center accepts calls and resolves clients' issues. There are 5 operators. Nina accepts half of all calls and successfully resolves 80% of issues, Tina and Dina accept 1/6 of calls each and resolve 75% and 90% of problems respectively. Mina and Lina accept 1/12 of calls each and resolve 50% and 25% of problems respectively. What's the probability that someone who calls to the call center will get their issue resolved? We suppose that the operators don't consult each other. Enter the number with at least 2 digits after dot (e.g. 0.23):\n",
    "\n",
    "P(r)=0.8*0.5+1/6*0.75+1/6*0.9+1/12*0.5+1/12*0.25=0.74"
   ]
  },
  {
   "cell_type": "markdown",
   "metadata": {},
   "source": [
    "__Bayes' rule__\n",
    "\n",
    "$P(H_1|C) = \\frac{P(H_1 \\cap C)}{P(C)} = \\frac{P(C|H_1) \\cdot P(H_1)}{P(C)} = \\frac{0.1 \\times 0.5}{0.43} = 0.12$"
   ]
  },
  {
   "cell_type": "markdown",
   "metadata": {},
   "source": [
    "There are 2 taxi companies. Company A has 40% of German cars and company B has 10% of German cars. All other cars are Korean. Taxi aggregator assigns orders to A or B with probabilities 1/3 and 2/3 respectively. If German car arrives, what's the probability that it's from company B? Enter the irreducible fraction below (e.g., 13/28):\n",
    "\n",
    "$P(G|A) = 0.4, P(K|A) = 0.6, P(G|B) = 0.1, P(K|B) = 0.9$\n",
    "\n",
    "$P(A) = \\frac{1}{3}, P(B) = \\frac{2}{3}$\n",
    "\n",
    "$P(B|G) = \\frac{P(B \\cap G)}{P(G)} = \\frac{P(G|B) \\cdot P(B)}{P(G|A) \\cdot P(A) + P(G|B) \\cdot P(B)} = \\frac{0.1 \\times 2/3}{0.4 \\times 1/3 + 0.1 \\times 2/3} = \\frac{0.2}{0.6}$"
   ]
  },
  {
   "cell_type": "markdown",
   "metadata": {},
   "source": [
    "__example__\n",
    "\n",
    "There's a rare disease that occurs in 1% of the population. There's a test that yields positive result on 99% of ill people, and false positive on 2% of healthy people. The test shows positive result on a patient. What's the probability that the patient does not have the disease? Enter the irreducible fraction below (e.g., 13/28):\n",
    "\n",
    "$P(Di) = 0.01,\\; P(Po|Di)=0.99,\\; P(Po|He)=0.02$\n",
    "\n",
    "$P(He|Po) = \\frac{P(He \\cap Po)}{P(Po)} = \\frac{P(Po | He) \\cdot P(He)}{P(Po)} \n",
    "= \\frac{P(Po | He) \\cdot P(He)}{P(Po|Di) \\cdot P(Di) + P(Po|He) \\cdot P(He)}\n",
    "= \\frac{0.02 \\times 0.99}{0.99 \\times 0.01 + 0.02 \\times 0.99} = \\frac{2}{3}$"
   ]
  }
 ],
 "metadata": {
  "kernelspec": {
   "display_name": "Python 3",
   "language": "python",
   "name": "python3"
  },
  "language_info": {
   "codemirror_mode": {
    "name": "ipython",
    "version": 3
   },
   "file_extension": ".py",
   "mimetype": "text/x-python",
   "name": "python",
   "nbconvert_exporter": "python",
   "pygments_lexer": "ipython3",
   "version": "3.6.9"
  }
 },
 "nbformat": 4,
 "nbformat_minor": 2
}
