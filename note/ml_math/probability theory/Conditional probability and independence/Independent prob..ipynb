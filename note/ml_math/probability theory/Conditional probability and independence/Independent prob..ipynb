{
 "cells": [
  {
   "cell_type": "markdown",
   "metadata": {},
   "source": [
    "A and B are independent if\n",
    "\n",
    "1. $P(A|B) = P(A)$\n",
    "2. $P(B|A) = P(B)$\n",
    "3. $P(A \\cap B)=P(A) \\cdot P(B)$\n",
    "\n",
    "$1\\implies 3$ $P(A|B)=\\frac{P(A \\cap B)}{P(B)} = P(A)$\n",
    "\n",
    "$3\\implies 1$, $2 \\iff 1$\n",
    "\n",
    "If two events have positive probability and are independent, then they: __intersect__"
   ]
  },
  {
   "cell_type": "markdown",
   "metadata": {},
   "source": [
    "__example__\n",
    "\n",
    "toss a fair dice\n",
    "\n",
    "A = \"number is even\" = {2,4,6}\n",
    "B = \"number $\\ge$ 4\" = {4,5,6}\n",
    "C = \"number $\\ge$ 5\" = {5,6}\n",
    "\n",
    "$P(A)=\\frac{1}{2}, P(B)=\\frac{1}{2}$\n",
    "\n",
    "$P(A\\cap B) = \\frac{2}{6} = \\frac{1}{3} \\neq \\frac{1}{2} \\cdot \\frac{1}{2} = P(A) \\cdot P(B) \\implies$ A and B are not independent\n",
    "\n",
    "$P(C)=\\frac{2}{6} = \\frac{1}{3}$\n",
    "\n",
    "$P(A\\cap C) = \\frac{1}{6} = P(A) \\cdot P(C)$"
   ]
  },
  {
   "cell_type": "markdown",
   "metadata": {},
   "source": [
    "__example__\n",
    "\n",
    "A fair coin is tossed twice. Are these events independent?\n",
    "\n",
    "- There's at least one head\n",
    "- There's at least one tail\n",
    "\n",
    "Total $2^2=4$ outcomes\n",
    "\n",
    "Exactly 1 head, $\\binom{2}{1}=2$\n",
    "Exactly 2 head, $\\binom{2}{2}=1$\n",
    "\n",
    "$P(H)=\\frac{3}{4}$\n",
    "\n",
    "So is \n",
    "\n",
    "$P(T)=\\frac{3}{4}$\n",
    "\n",
    "$P(H \\cap T)=\\binom{2}{1}=2$\n",
    "\n",
    "$P(H \\cap T) \\neq P(H) \\cdot P(T) \\implies$ not indenpendent."
   ]
  },
  {
   "cell_type": "markdown",
   "metadata": {},
   "source": [
    "__example__\n",
    "\n",
    "A fair coin is tossed twice. Are these events independent?\n",
    "\n",
    "- There's exactly one head \n",
    "- There's exactly one tail\n",
    "\n",
    "$P(H)=\\frac{1}{2},P(T)=\\frac{1}{2},P(H | T) = 1 \\neq P(H)=\\frac{1}{2}$\n",
    "\n",
    "not independent."
   ]
  },
  {
   "cell_type": "markdown",
   "metadata": {},
   "source": [
    "__example__\n",
    "\n",
    "A fair coin is tossed twice. Are these events independent?\n",
    "\n",
    "- The first tossing yields head\n",
    "- The second tossing yields tail\n",
    "\n",
    "$P(A) = \\frac{1}{2}, P(B) = \\frac{1}{2}, P(A|B) = \\frac{1}{4} = P(A) \\cdot P(B)$"
   ]
  }
 ],
 "metadata": {
  "kernelspec": {
   "display_name": "Python 3",
   "language": "python",
   "name": "python3"
  },
  "language_info": {
   "codemirror_mode": {
    "name": "ipython",
    "version": 3
   },
   "file_extension": ".py",
   "mimetype": "text/x-python",
   "name": "python",
   "nbconvert_exporter": "python",
   "pygments_lexer": "ipython3",
   "version": "3.6.9"
  }
 },
 "nbformat": 4,
 "nbformat_minor": 2
}
