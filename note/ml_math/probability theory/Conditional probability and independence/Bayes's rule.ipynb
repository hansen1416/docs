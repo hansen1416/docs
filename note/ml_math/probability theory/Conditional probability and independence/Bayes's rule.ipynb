{
 "cells": [
  {
   "cell_type": "markdown",
   "metadata": {},
   "source": [
    "__Bayes's rule__\n",
    "\n",
    "$P(H_1|C) = \\frac{P(H_1 \\cap C)}{P(C)} = \\frac{P(C|H_1) \\cdot P(H_1)}{P(C)} = \\frac{0.1 \\times 0.5}{0.43} = 0.12$"
   ]
  },
  {
   "cell_type": "markdown",
   "metadata": {},
   "source": [
    "__example__\n",
    "\n",
    "There are 2 taxi companies. Company A has 40% of German cars and company B has 10% of German cars. All other cars are Korean. Taxi aggregator assigns orders to A or B with probabilities 1/3 and 2/3 respectively. If German car arrives, what's the probability that it's from company B? Enter the irreducible fraction below (e.g., 13/28):\n",
    "\n",
    "$P(G|A) = 0.4, P(K|A) = 0.6, P(G|B) = 0.1, P(K|B) = 0.9$\n",
    "\n",
    "$P(A) = \\frac{1}{3}, P(B) = \\frac{2}{3}$\n",
    "\n",
    "$P(B|G) = \\frac{P(B \\cap G)}{P(G)} = \\frac{P(G|B) \\cdot P(B)}{P(G|A) \\cdot P(A) + P(G|B) \\cdot P(B)} = \\frac{0.1 \\times 2/3}{0.4 \\times 1/3 + 0.1 \\times 2/3} = \\frac{0.2}{0.6} = \\frac{1}{3}$"
   ]
  },
  {
   "cell_type": "markdown",
   "metadata": {},
   "source": [
    "__example__\n",
    "\n",
    "There's a rare disease that occurs in 1% of the population. There's a test that yields positive result on 99% of ill people, and false positive on 2% of healthy people. The test shows positive result on a patient. What's the probability that the patient does not have the disease? Enter the irreducible fraction below (e.g., 13/28):\n",
    "\n",
    "$P(Di) = 0.01,\\; P(Po|Di)=0.99,\\; P(Po|He)=0.02$\n",
    "\n",
    "$P(He|Po) = \\frac{P(He \\cap Po)}{P(Po)} = \\frac{P(Po | He) \\cdot P(He)}{P(Po)} \n",
    "= \\frac{P(Po | He) \\cdot P(He)}{P(Po|Di) \\cdot P(Di) + P(Po|He) \\cdot P(He)}\n",
    "= \\frac{0.02 \\times 0.99}{0.99 \\times 0.01 + 0.02 \\times 0.99} = \\frac{2}{3}$"
   ]
  },
  {
   "cell_type": "markdown",
   "metadata": {},
   "source": [
    "__example__\n",
    "\n",
    "Preliminary tests of students showed that 30% of them are very well prepared to the exam, 50% are prepared quite well and 20% are prepared somehow. For the first group of students probability of getting the highest grade is 90%, for the second group of students it's 70% and for the last one — only 30%. A random student got the highest grade.\n",
    "\n",
    "What's the probability that he was very well prepared? Enter the exact value below (e.g., 13/28 or 0.12):\n",
    "\n",
    "A = 30%  \n",
    "B = 50%  \n",
    "C = 20%\n",
    "\n",
    "P(H|A) = 90%  \n",
    "P(H|B) = 70%  \n",
    "P(H|C) = 30%\n",
    "\n",
    "P(A|H) = P(A$\\cap$H)/P(H)\n",
    "\n",
    "P(A$\\cap$H)=P(H|A)$\\cdot$P(A) = 90%$\\cdot$30% = 27%\n",
    "\n",
    "P(H)= P(H$\\cap$A)+P(H$\\cap$B)+P(H$\\cap$C) = P(H|A)$\\cdot$P(A)+P(H|B)$\\cdot$P(B)+P(H|C)$\\cdot$P(C)=\n",
    "90%$\\times$30%+70%$\\times$50%+30%$\\times$20% = 68%\n",
    "\n",
    "P(A|H) = 27%/68% = 27/68\n",
    "\n",
    "Under the same conditions, what's the probability that the student was quite well prepared? Enter the exact value below (e.g., 13/28 or 0.12):\n",
    "\n",
    "P(B|H) = P(B$\\cap$H)/P(H) = (P(H|B)$\\cdot$P(B))/P(H) = 70%$\\times$50% / 68% = 35/68\n",
    "\n",
    "Under the same conditions, what's the probability that the student was prepared just somehow? Enter the exact value below (e.g., 13/28 or 0.12):\n",
    "\n",
    "P(C|H) = P(C$\\cap$H)/P(H) = (P(H|C)$\\cdot$P(C))/P(H) = 30%$\\times$20% / 68% = 6/68 = 3/34"
   ]
  },
  {
   "cell_type": "markdown",
   "metadata": {},
   "source": [
    "__example__\n",
    "\n",
    "Player got 10 blue and 10 red chips, and he was offered a game where he should distribute those chips into 2 similar boxes. (All chips should be placed in one of the boxes.) Then, another person randomly choose a box and then takes out one random chip from this box (unless the box is empty). The player wins if a red chip is drawn and lose otherwise. What's the maximum probability of the player's winning outcome assuming that he distributes chips the right way?\n",
    "\n",
    "Note: This is a tough problem. It requires a general formula for winning probability and some analysis, brute force or insight. Don't worry if you cannot solve it on the first try.\n",
    "\n",
    "Enter the exact value below (e.g., 13/28 or 0.12):\n",
    "\n",
    "R1, B1, R2, B2\n",
    "\n",
    "R1 + R2 = 10\n",
    "B1 + B2 = 10\n",
    "\n",
    "P(R) = 1/2 * R1/(R1+B1) + 1/2 * R2/(R2+B2) = 1/2 * (R1(R2+B2) + R2(R1+B1))/(R1+B1)(R2+B2)\n",
    "\n",
    "= 1/2 * (R1R2+R1B2+R1R2+R2B1)/(R1+B1)(R2+B2)\n",
    "\n",
    "= 1/2 * (2R1(10-R1) + R1(10-B1) + B1(10-R1))/(R1+B1)(20-R1-B1)"
   ]
  },
  {
   "cell_type": "code",
   "execution_count": 10,
   "metadata": {},
   "outputs": [
    {
     "data": {
      "text/plain": [
       "(0.7368421052631579, 1, 0)"
      ]
     },
     "execution_count": 10,
     "metadata": {},
     "output_type": "execute_result"
    }
   ],
   "source": [
    "def prob(r,b):\n",
    "    if r == 0:\n",
    "        return 1/2 * (10-r) / (10-r+10 -b)\n",
    "    if r == 10:\n",
    "        return 1/2 * r/(r+b)\n",
    "    \n",
    "#     return 1/2 * r/(r+b) + 1/2 * (10-r) / (10-r+10 -b)\n",
    "    return 1/2 * (2*r*(10-r) + r*(10-b) + b*(10-r)) / ((r+b)*(20-r-b))\n",
    "\n",
    "max = (0,0,0)\n",
    "\n",
    "for x in range(0,11):\n",
    "    for y in range(0,11):\n",
    "        r = prob(x,y)\n",
    "        if r > max[0]:\n",
    "            max = (r, x, y)\n",
    "\n",
    "max"
   ]
  },
  {
   "cell_type": "markdown",
   "metadata": {},
   "source": [
    "1/2 + 1/2 * 9/19 = 19/38 + 9/38 = 28/38 = 14/19"
   ]
  },
  {
   "cell_type": "markdown",
   "metadata": {},
   "source": [
    "__example__\n",
    "\n",
    "Two competing clinics A and B treat one disease. After the treatment round in clinic A, 80% of patients recover. In clinic B, 70% of patients recover after one treatment round. Patients are directed for treatment by an insurance company to either clinic A or B, wherein clinic A is chosen twice as often as clinic B.\n",
    "\n",
    "What's the probability that a client of the insurance company, who needs treatment will get to clinic A and recover after the treatment round?\n",
    "\n",
    "Enter the exact value below (e.g., 13/28 or 0.12):\n",
    "\n",
    "R = recover\n",
    "\n",
    "P(R|A) = 80%  \n",
    "P(R|B) = 70%\n",
    "\n",
    "P(A) = 2/3  \n",
    "P(B) = 1/3\n",
    "\n",
    "$P(R\\cap A) = P(R|A) \\cdot P(A) = 80\\% \\times 2/3 = 8/15 $\n",
    "\n",
    "\n",
    "Under the same conditions, What's the probability that a client of the insurance company, who needs treatment will get to clinic A and __not__ recover after the treatment round?\n",
    "\n",
    "\n",
    "$P(\\bar{R} \\cap A) = P(A) - P(R \\cap A) = 2/3 - 8/15 = 2/15$\n",
    "\n",
    "\n",
    "Under the same conditions, what's the probability that a client of the insurance company, who needs treatment will get to clinic B and recover after the treatment round?\n",
    "\n",
    "\n",
    "$P(R\\cap B) = P(R|B) \\cdot P(B) = 1/3 \\times 70\\% = 7/30 $\n",
    "\n",
    "\n",
    "Under the same conditions, What's the probability that a client of the insurance company, who needs treatment will get to clinic B and __not__ recover after the treatment round?\n",
    "\n",
    "\n",
    "$P(\\bar{R} \\cap B) = P(B) - P(R \\cap B) = 1/3 - 7/30 = 1/10$\n",
    "\n",
    "\n",
    "Under the same conditions, what's the probability that a client of the insurance company, who needs treatment will get recovered after one treatment round?\n",
    "\n",
    "\n",
    "$P(R) = P(R\\cap A) + P(R\\cap B) = 8/15 + 7/30 = 23/30$\n",
    "\n",
    "\n",
    "Under the same conditions, what's the probability that a client of the insurance company, who recovered after one treatment round, was treated in clinic A?\n",
    "\n",
    "$P(A|R) = P(R\\cap A) / P(R) = (8/15) / (23/30) = 16/23$"
   ]
  },
  {
   "cell_type": "markdown",
   "metadata": {},
   "source": [
    "__example__\n",
    "\n",
    "A fair coin is tossed 20 times. Consider events $A$: number of heads is even and $B$: less than 4 tails occurred. Use Python to find $P(A \\mid B)$. Enter answer with 5 digits after decimal point."
   ]
  },
  {
   "cell_type": "code",
   "execution_count": 17,
   "metadata": {},
   "outputs": [
    {
     "data": {
      "text/plain": [
       "0.14137675795706883"
      ]
     },
     "execution_count": 17,
     "metadata": {},
     "output_type": "execute_result"
    }
   ],
   "source": [
    "from itertools import product\n",
    "\n",
    "omega = set(product(['H', 'T'], repeat=20))\n",
    "\n",
    "A = {om for om in omega if om.count('H') % 2 == 0}\n",
    "B = {om for om in omega if om.count('T') < 4}\n",
    "\n",
    "def prob(X,O):\n",
    "    return len(X)/len(O)\n",
    "\n",
    "def cond_prob(X, Y):\n",
    "    return len(X & Y) / len(Y)\n",
    "\n",
    "cond_prob(A, B)"
   ]
  },
  {
   "cell_type": "markdown",
   "metadata": {},
   "source": [
    "__example__\n",
    "\n",
    "A fair dice is rolled 5 times. Consider events $A$: sum of all points is divisible by 3 and $B$: product of all points is larger than 500. For example, if the result of rolling is (5, 3, 2, 6, 3), then event $A$ did not occur (because 5 + 3 + 2 + 6 + 3 = 195+3+2+6+3=19, not divisible by 3) and event $B$ occurred (because $5 \\times 3 \\times 2 \\times 6 \\times 3 = 540 > 500$). Use Python to find $P(B\\mid A)$. Enter answer with 3 digits after decimal point."
   ]
  },
  {
   "cell_type": "code",
   "execution_count": 15,
   "metadata": {},
   "outputs": [
    {
     "data": {
      "text/plain": [
       "0.30709876543209874"
      ]
     },
     "execution_count": 15,
     "metadata": {},
     "output_type": "execute_result"
    }
   ],
   "source": [
    "# getting Product  \n",
    "def prod(val) :  \n",
    "    res = 1 \n",
    "    for ele in val:  \n",
    "        res *= ele  \n",
    "    return res\n",
    "\n",
    "omega = set(product([1,2,3,4,5,6], repeat=5))\n",
    "\n",
    "A = {om for om in omega if sum(om) % 3 == 0}\n",
    "B = {om for om in omega if prod(om) > 500}\n",
    "\n",
    "cond_prob(B, A)"
   ]
  },
  {
   "cell_type": "markdown",
   "metadata": {},
   "source": [
    "__example__\n",
    "\n",
    "_Monty Hall paradox_\n",
    "\n",
    "The main prize at some TV show is a car. At the beginning the car is placed behind one door randomly chosen out of three (with equal probabilities). Participant has to guess the door with a car. If the guess is correct, the participant wins the car, otherwise she wins nothing.  \n",
    "\n",
    "After the participant picks the door and announces her choice, host opens one of the two remaining doors and shows that there are no car there. Then the participant can either switch her decision and pick the remaining closed door or keep the door she picked initially. After the final decision is made, the chosen door opens and the participant get her prize (if any).  \n",
    "\n",
    "__Assume that the host never opens a door that is picked by the participant initially and never opens a door with a car__.  \n",
    "__If the host can chose between several doors, the choice is random (with equal probabilities)__.  \n",
    "Let us enumerate doors in such a way that the door initially picked by the participant has number 1.\n",
    "\n",
    "Consider events $H_1$: the car is behind door number 1, $H_2$: the car is behind door number 2 and $H_3$: the car is behind door number 3. Consider also event $A$: the host opened door number 2.\n",
    "\n",
    "1. What can you say about probability of $H_3$ before any door is opened?\n",
    "2. Assume that the host opened door number 2. What would you say about probability of $H_3$ after you observe that?\n",
    "3. Are events $A$ and $H_1$ independent? $A$ and $H_2$? $A$ and $H_3$?\n",
    "4. Use Bayes' rule to find $P(H_1 \\mid A)$ and $P(H_3\\mid A)$ (find all necessary probabilities that are used in Bayes' rule first). Compare with your previous answers.\n",
    "5. Should the participant change the initial decision to increase probability of winning?\n",
    "\n",
    "Please, provide full explanations of your answers, with proper references to the facts that were discussed in the videos and all necessary calculations and derivations."
   ]
  },
  {
   "cell_type": "markdown",
   "metadata": {},
   "source": [
    "> 1\\. What can you say about probability of $H_3$ before any door is opened? \n",
    "\n",
    "$P(H_3) = \\frac{1}{3}$  since \"the car is placed behind one door randomly chosen out of three (with equal probabilities)\".  \n",
    "   \n",
    "---\n",
    "    \n",
    "> 2\\. Assume that the host opened door number 2. What would you say about probability of $H_3$ after you observe that?\n",
    "\n",
    "Initially the probability of $P(\\bar{H_1}) = 1- P(H_1) = \\frac{2}{3}$.  \n",
    "\n",
    "And \"the host never opens a door with a car.\" It means car is not behind door number 2. \n",
    "\n",
    "Thus probabily of $H_3$ is equal to $P(\\bar{H_1}) = \\frac{2}{3}$ when the host opened door number 2\n",
    "\n",
    "---\n",
    "\n",
    "> 3\\. Are events $A$ and $H_1$ independent? $A$ and $H_2$? $A$ and $H_3$?\n",
    "\n",
    "$A$ and $H_1$ are independent, because the participant picked door number 1, and \"the host never opens a door that is picked by the participant initially\".  \n",
    "$A$ and $H_2$ are not independent, becasue if the car is behind door number 2, the host can not open it since the host \"never opens a door with a car.\"  \n",
    "$A$ and $H_3$ are not independent, becasue if the car is behind door number 3, the host must open door number 2 since the host \"never opens a door with a car.\"\n",
    "\n",
    "---\n",
    "\n",
    "> 4\\. Use Bayes' rule to find $P(H_1 \\mid A)$ and $P(H_3\\mid A)$ (find all necessary probabilities that are used in Bayes' rule first). Compare with your previous answers.\n",
    "\n",
    "$P(H_1) = P(H_2) = P(H_3) = \\frac{1}{3}$  \n",
    "\n",
    "$P(A|H_1) = \\frac{1}{2}$ becasue the host can choose between door number 2 and 3.  \n",
    "$P(A|H_2) = 0$ becasue \"the host never opens a door that is picked by the participant initially and never opens a door with a car\".  \n",
    "$P(A|H_3) = 1$ becasue \"the host never opens a door that is picked by the participant initially and never opens a door with a car\".  \n",
    "\n",
    "$P(H_1 \\cap A) = P(A|H_1) \\cdot P(H_1) = \\frac{1}{2} \\times \\frac{1}{3} = \\frac{1}{6}$   \n",
    "$P(H_2 \\cap A) = P(A|H_2) \\cdot P(H_2) = 0$  \n",
    "$P(H_3 \\cap A) = P(A|H_3) \\cdot P(H_3) = \\frac{1}{3}$  \n",
    "\n",
    "$P(H_1 \\mid A) = \\frac{P(H_1 \\cap A)}{P(A)} = \\frac{1}{3}$\n",
    "\n",
    "$P(H_3 \\mid A) = \\frac{P(H_3 \\cap A)}{P(A)} = \\frac{2}{3}$  \n",
    "\n",
    "$P(H_1 \\mid A) =  \\frac{1}{3} = P(H_1) \\implies$ $A$ and $H_1$ are indenpendent\n",
    "\n",
    "$P(H_2 \\mid A) = 0 \\neq P(H_2) \\implies$ $A$ and $H_2$ are not indenpendent\n",
    "\n",
    "$P(H_3 \\mid A) = \\frac{2}{3} \\neq P(H_3) \\implies$ $A$ and $H_3$ are not indenpendent, and the probabily of $H_3$ is equal to $P(\\bar{H_1}) = \\frac{2}{3}$ when the host opened door number 2\n",
    "\n",
    "---\n",
    "\n",
    "> 5\\. Should the participant change the initial decision to increase probability of winning?\n",
    "\n",
    "The participant should change the initial decision, becasue $P(H_3 \\mid A) > P(H_1 \\mid A)$"
   ]
  }
 ],
 "metadata": {
  "kernelspec": {
   "display_name": "Python 3",
   "language": "python",
   "name": "python3"
  },
  "language_info": {
   "codemirror_mode": {
    "name": "ipython",
    "version": 3
   },
   "file_extension": ".py",
   "mimetype": "text/x-python",
   "name": "python",
   "nbconvert_exporter": "python",
   "pygments_lexer": "ipython3",
   "version": "3.6.9"
  }
 },
 "nbformat": 4,
 "nbformat_minor": 2
}
