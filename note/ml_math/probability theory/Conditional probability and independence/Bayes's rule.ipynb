{
 "cells": [
  {
   "cell_type": "markdown",
   "metadata": {},
   "source": [
    "__Bayes's rule__\n",
    "\n",
    "$P(H_1|C) = \\frac{P(H_1 \\cap C)}{P(C)} = \\frac{P(C|H_1) \\cdot P(H_1)}{P(C)} = \\frac{0.1 \\times 0.5}{0.43} = 0.12$"
   ]
  },
  {
   "cell_type": "markdown",
   "metadata": {},
   "source": [
    "__example__\n",
    "\n",
    "There are 2 taxi companies. Company A has 40% of German cars and company B has 10% of German cars. All other cars are Korean. Taxi aggregator assigns orders to A or B with probabilities 1/3 and 2/3 respectively. If German car arrives, what's the probability that it's from company B? Enter the irreducible fraction below (e.g., 13/28):\n",
    "\n",
    "$P(G|A) = 0.4, P(K|A) = 0.6, P(G|B) = 0.1, P(K|B) = 0.9$\n",
    "\n",
    "$P(A) = \\frac{1}{3}, P(B) = \\frac{2}{3}$\n",
    "\n",
    "$P(B|G) = \\frac{P(B \\cap G)}{P(G)} = \\frac{P(G|B) \\cdot P(B)}{P(G|A) \\cdot P(A) + P(G|B) \\cdot P(B)} = \\frac{0.1 \\times 2/3}{0.4 \\times 1/3 + 0.1 \\times 2/3} = \\frac{0.2}{0.6} = \\frac{1}{3}$"
   ]
  },
  {
   "cell_type": "markdown",
   "metadata": {},
   "source": [
    "__example__\n",
    "\n",
    "There's a rare disease that occurs in 1% of the population. There's a test that yields positive result on 99% of ill people, and false positive on 2% of healthy people. The test shows positive result on a patient. What's the probability that the patient does not have the disease? Enter the irreducible fraction below (e.g., 13/28):\n",
    "\n",
    "$P(Di) = 0.01,\\; P(Po|Di)=0.99,\\; P(Po|He)=0.02$\n",
    "\n",
    "$P(He|Po) = \\frac{P(He \\cap Po)}{P(Po)} = \\frac{P(Po | He) \\cdot P(He)}{P(Po)} \n",
    "= \\frac{P(Po | He) \\cdot P(He)}{P(Po|Di) \\cdot P(Di) + P(Po|He) \\cdot P(He)}\n",
    "= \\frac{0.02 \\times 0.99}{0.99 \\times 0.01 + 0.02 \\times 0.99} = \\frac{2}{3}$"
   ]
  },
  {
   "cell_type": "markdown",
   "metadata": {},
   "source": [
    "__example__\n",
    "\n",
    "Preliminary tests of students showed that 30% of them are very well prepared to the exam, 50% are prepared quite well and 20% are prepared somehow. For the first group of students probability of getting the highest grade is 90%, for the second group of students it's 70% and for the last one — only 30%. A random student got the highest grade.\n",
    "\n",
    "What's the probability that he was very well prepared? Enter the exact value below (e.g., 13/28 or 0.12):\n",
    "\n",
    "A = 30%  \n",
    "B = 50%  \n",
    "C = 20%\n",
    "\n",
    "P(H|A) = 90%  \n",
    "P(H|B) = 70%  \n",
    "P(H|C) = 30%\n",
    "\n",
    "P(A|H) = P(A$\\cap$H)/P(H)\n",
    "\n",
    "P(A$\\cap$H)=P(H|A)$\\cdot$P(A) = 90%$\\cdot$30% = 27%\n",
    "\n",
    "P(H)= P(H$\\cap$A)+P(H$\\cap$B)+P(H$\\cap$C) = P(H|A)$\\cdot$P(A)+P(H|B)$\\cdot$P(B)+P(H|C)$\\cdot$P(C)=\n",
    "90%$\\times$30%+70%$\\times$50%+30%$\\times$20% = 68%\n",
    "\n",
    "P(A|H) = 27%/68% = 27/68\n",
    "\n",
    "Under the same conditions, what's the probability that the student was quite well prepared? Enter the exact value below (e.g., 13/28 or 0.12):\n",
    "\n",
    "P(B|H) = P(B$\\cap$H)/P(H) = (P(H|B)$\\cdot$P(B))/P(H) = 70%$\\times$50% / 68% = 35/68\n",
    "\n",
    "Under the same conditions, what's the probability that the student was prepared just somehow? Enter the exact value below (e.g., 13/28 or 0.12):\n",
    "\n",
    "P(C|H) = P(C$\\cap$H)/P(H) = (P(H|C)$\\cdot$P(C))/P(H) = 30%$\\times$20% / 68% = 6/68 = 3/34"
   ]
  },
  {
   "cell_type": "markdown",
   "metadata": {},
   "source": [
    "__example__\n",
    "\n",
    "Player got 10 blue and 10 red chips, and he was offered a game where he should distribute those chips into 2 similar boxes. (All chips should be placed in one of the boxes.) Then, another person randomly choose a box and then takes out one random chip from this box (unless the box is empty). The player wins if a red chip is drawn and lose otherwise. What's the maximum probability of the player's winning outcome assuming that he distributes chips the right way?\n",
    "\n",
    "Note: This is a tough problem. It requires a general formula for winning probability and some analysis, brute force or insight. Don't worry if you cannot solve it on the first try.\n",
    "\n",
    "Enter the exact value below (e.g., 13/28 or 0.12):\n",
    "\n",
    "R1, B1, R2, B2\n",
    "\n",
    "R1 + R2 = 10\n",
    "B1 + B2 = 10\n",
    "\n",
    "P(R) = 1/2 * R1/(R1+B1) + 1/2 * R2/(R2+B2) = 1/2 * (R1(R2+B2) + R2(R1+B1))/(R1+B1)(R2+B2)\n",
    "\n",
    "= 1/2 * (R1R2+R1B2+R1R2+R2B1)/(R1+B1)(R2+B2)\n",
    "\n",
    "= 1/2 * (2R1(10-R1) + R1(10-B1) + B1(10-R1))/(R1+B1)(20-R1-B1)"
   ]
  },
  {
   "cell_type": "code",
   "execution_count": 10,
   "metadata": {},
   "outputs": [
    {
     "data": {
      "text/plain": [
       "(0.7368421052631579, 1, 0)"
      ]
     },
     "execution_count": 10,
     "metadata": {},
     "output_type": "execute_result"
    }
   ],
   "source": [
    "def prob(r,b):\n",
    "    if r == 0:\n",
    "        return 1/2 * (10-r) / (10-r+10 -b)\n",
    "    if r == 10:\n",
    "        return 1/2 * r/(r+b)\n",
    "    \n",
    "#     return 1/2 * r/(r+b) + 1/2 * (10-r) / (10-r+10 -b)\n",
    "    return 1/2 * (2*r*(10-r) + r*(10-b) + b*(10-r)) / ((r+b)*(20-r-b))\n",
    "\n",
    "max = (0,0,0)\n",
    "\n",
    "for x in range(0,11):\n",
    "    for y in range(0,11):\n",
    "        r = prob(x,y)\n",
    "        if r > max[0]:\n",
    "            max = (r, x, y)\n",
    "\n",
    "max"
   ]
  },
  {
   "cell_type": "markdown",
   "metadata": {},
   "source": [
    "1/2 + 1/2 * 9/19 = 19/38 + 9/38 = 28/38 = 14/19"
   ]
  },
  {
   "cell_type": "markdown",
   "metadata": {},
   "source": [
    "__example__\n",
    "\n",
    "Two competing clinics A and B treat one disease. After the treatment round in clinic A, 80% of patients recover. In clinic B, 70% of patients recover after one treatment round. Patients are directed for treatment by an insurance company to either clinic A or B, wherein clinic A is chosen twice as often as clinic B.\n",
    "\n",
    "What's the probability that a client of the insurance company, who needs treatment will get to clinic A and recover after the treatment round?\n",
    "\n",
    "Enter the exact value below (e.g., 13/28 or 0.12):\n",
    "\n",
    "R = recover\n",
    "\n",
    "P(R|A) = 80%  \n",
    "P(R|B) = 70%\n",
    "\n",
    "P(A) = 2/3  \n",
    "P(B) = 1/3\n",
    "\n",
    "$P(R\\cap A) = P(R|A) \\cdot P(A) = 80\\% \\times 2/3 = 8/15 $\n",
    "\n",
    "\n",
    "Under the same conditions, What's the probability that a client of the insurance company, who needs treatment will get to clinic A and __not__ recover after the treatment round?\n",
    "\n",
    "\n",
    "$P(\\bar{R} \\cap A) = P(A) - P(R \\cap A) = 2/3 - 8/15 = 2/15$\n",
    "\n",
    "\n",
    "Under the same conditions, what's the probability that a client of the insurance company, who needs treatment will get to clinic B and recover after the treatment round?\n",
    "\n",
    "\n",
    "$P(R\\cap B) = P(R|B) \\cdot P(B) = 1/3 \\times 70\\% = 7/30 $\n",
    "\n",
    "\n",
    "Under the same conditions, What's the probability that a client of the insurance company, who needs treatment will get to clinic B and __not__ recover after the treatment round?\n",
    "\n",
    "\n",
    "$P(\\bar{R} \\cap B) = P(B) - P(R \\cap B) = 1/3 - 7/30 = 1/10$\n",
    "\n",
    "\n",
    "Under the same conditions, what's the probability that a client of the insurance company, who needs treatment will get recovered after one treatment round?\n",
    "\n",
    "\n",
    "$P(R) = P(R\\cap A) + P(R\\cap B) = 8/15 + 7/30 = 23/30$\n",
    "\n",
    "\n",
    "Under the same conditions, what's the probability that a client of the insurance company, who recovered after one treatment round, was treated in clinic A?\n",
    "\n",
    "$P(A|R) = P(R\\cap A) / P(R) = (8/15) / (23/30) = 16/23$"
   ]
  },
  {
   "cell_type": "markdown",
   "metadata": {},
   "source": [
    "__example__\n",
    "\n",
    "A fair coin is tossed 20 times. Consider events $A$: number of heads is even and $B$: less than 4 tails occurred. Use Python to find $P(A \\mid B)$. Enter answer with 5 digits after decimal point."
   ]
  },
  {
   "cell_type": "code",
   "execution_count": 17,
   "metadata": {},
   "outputs": [
    {
     "data": {
      "text/plain": [
       "0.14137675795706883"
      ]
     },
     "execution_count": 17,
     "metadata": {},
     "output_type": "execute_result"
    }
   ],
   "source": [
    "from itertools import product\n",
    "\n",
    "omega = set(product(['H', 'T'], repeat=20))\n",
    "\n",
    "A = {om for om in omega if om.count('H') % 2 == 0}\n",
    "B = {om for om in omega if om.count('T') < 4}\n",
    "\n",
    "def prob(X,O):\n",
    "    return len(X)/len(O)\n",
    "\n",
    "def cond_prob(X, Y):\n",
    "    return len(X & Y) / len(Y)\n",
    "\n",
    "cond_prob(A, B)"
   ]
  },
  {
   "cell_type": "markdown",
   "metadata": {},
   "source": [
    "__example__\n",
    "\n",
    "A fair dice is rolled 5 times. Consider events $A$: sum of all points is divisible by 3 and $B$: product of all points is larger than 500. For example, if the result of rolling is (5, 3, 2, 6, 3), then event $A$ did not occur (because 5 + 3 + 2 + 6 + 3 = 195+3+2+6+3=19, not divisible by 3) and event $B$ occurred (because $5 \\times 3 \\times 2 \\times 6 \\times 3 = 540 > 500$). Use Python to find $P(B\\mid A)$. Enter answer with 3 digits after decimal point."
   ]
  },
  {
   "cell_type": "code",
   "execution_count": 15,
   "metadata": {},
   "outputs": [
    {
     "data": {
      "text/plain": [
       "0.30709876543209874"
      ]
     },
     "execution_count": 15,
     "metadata": {},
     "output_type": "execute_result"
    }
   ],
   "source": [
    "# getting Product  \n",
    "def prod(val) :  \n",
    "    res = 1 \n",
    "    for ele in val:  \n",
    "        res *= ele  \n",
    "    return res\n",
    "\n",
    "omega = set(product([1,2,3,4,5,6], repeat=5))\n",
    "\n",
    "A = {om for om in omega if sum(om) % 3 == 0}\n",
    "B = {om for om in omega if prod(om) > 500}\n",
    "\n",
    "cond_prob(B, A)"
   ]
  }
 ],
 "metadata": {
  "kernelspec": {
   "display_name": "Python 3",
   "language": "python",
   "name": "python3"
  },
  "language_info": {
   "codemirror_mode": {
    "name": "ipython",
    "version": 3
   },
   "file_extension": ".py",
   "mimetype": "text/x-python",
   "name": "python",
   "nbconvert_exporter": "python",
   "pygments_lexer": "ipython3",
   "version": "3.6.9"
  }
 },
 "nbformat": 4,
 "nbformat_minor": 2
}
