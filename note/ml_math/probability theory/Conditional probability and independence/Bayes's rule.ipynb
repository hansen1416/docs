{
 "cells": [
  {
   "cell_type": "markdown",
   "metadata": {},
   "source": [
    "__Bayes's rule__\n",
    "\n",
    "$P(H_1|C) = \\frac{P(H_1 \\cap C)}{P(C)} = \\frac{P(C|H_1) \\cdot P(H_1)}{P(C)} = \\frac{0.1 \\times 0.5}{0.43} = 0.12$"
   ]
  },
  {
   "cell_type": "markdown",
   "metadata": {},
   "source": [
    "__example__\n",
    "\n",
    "There are 2 taxi companies. Company A has 40% of German cars and company B has 10% of German cars. All other cars are Korean. Taxi aggregator assigns orders to A or B with probabilities 1/3 and 2/3 respectively. If German car arrives, what's the probability that it's from company B? Enter the irreducible fraction below (e.g., 13/28):\n",
    "\n",
    "$P(G|A) = 0.4, P(K|A) = 0.6, P(G|B) = 0.1, P(K|B) = 0.9$\n",
    "\n",
    "$P(A) = \\frac{1}{3}, P(B) = \\frac{2}{3}$\n",
    "\n",
    "$P(B|G) = \\frac{P(B \\cap G)}{P(G)} = \\frac{P(G|B) \\cdot P(B)}{P(G|A) \\cdot P(A) + P(G|B) \\cdot P(B)} = \\frac{0.1 \\times 2/3}{0.4 \\times 1/3 + 0.1 \\times 2/3} = \\frac{0.2}{0.6} = \\frac{1}{3}$"
   ]
  },
  {
   "cell_type": "markdown",
   "metadata": {},
   "source": [
    "__example__\n",
    "\n",
    "There's a rare disease that occurs in 1% of the population. There's a test that yields positive result on 99% of ill people, and false positive on 2% of healthy people. The test shows positive result on a patient. What's the probability that the patient does not have the disease? Enter the irreducible fraction below (e.g., 13/28):\n",
    "\n",
    "$P(Di) = 0.01,\\; P(Po|Di)=0.99,\\; P(Po|He)=0.02$\n",
    "\n",
    "$P(He|Po) = \\frac{P(He \\cap Po)}{P(Po)} = \\frac{P(Po | He) \\cdot P(He)}{P(Po)} \n",
    "= \\frac{P(Po | He) \\cdot P(He)}{P(Po|Di) \\cdot P(Di) + P(Po|He) \\cdot P(He)}\n",
    "= \\frac{0.02 \\times 0.99}{0.99 \\times 0.01 + 0.02 \\times 0.99} = \\frac{2}{3}$"
   ]
  },
  {
   "cell_type": "markdown",
   "metadata": {},
   "source": [
    "__example__\n",
    "\n",
    "Preliminary tests of students showed that 30% of them are very well prepared to the exam, 50% are prepared quite well and 20% are prepared somehow. For the first group of students probability of getting the highest grade is 90%, for the second group of students it's 70% and for the last one — only 30%. A random student got the highest grade.\n",
    "\n",
    "What's the probability that he was very well prepared? Enter the exact value below (e.g., 13/28 or 0.12):\n",
    "\n",
    "A = 30%  \n",
    "B = 50%  \n",
    "C = 20%\n",
    "\n",
    "P(H|A) = 90%  \n",
    "P(H|B) = 70%  \n",
    "P(H|C) = 30%\n",
    "\n",
    "P(A|H) = P(A$\\cap$H)/P(H)\n",
    "\n",
    "P(A$\\cap$H)=P(H|A)$\\cdot$P(A) = 90%$\\cdot$30% = 27%\n",
    "\n",
    "P(H)= P(H$\\cap$A)+P(H$\\cap$B)+P(H$\\cap$C) = P(H|A)$\\cdot$P(A)+P(H|B)$\\cdot$P(B)+P(H|C)$\\cdot$P(C)=\n",
    "90%$\\times$30%+70%$\\times$50%+30%$\\times$20% = 68%\n",
    "\n",
    "P(A|H) = 27%/68% = 27/68\n",
    "\n",
    "Under the same conditions, what's the probability that the student was quite well prepared? Enter the exact value below (e.g., 13/28 or 0.12):\n",
    "\n",
    "P(B|H) = P(B$\\cap$H)/P(H) = (P(H|B)$\\cdot$P(B))/P(H) = 70%$\\times$50% / 68% = 35/68\n",
    "\n",
    "Under the same conditions, what's the probability that the student was prepared just somehow? Enter the exact value below (e.g., 13/28 or 0.12):\n",
    "\n",
    "P(C|H) = P(C$\\cap$H)/P(H) = (P(H|C)$\\cdot$P(C))/P(H) = 30%$\\times$20% / 68% = 6/68 = 3/34"
   ]
  },
  {
   "cell_type": "markdown",
   "metadata": {},
   "source": [
    "__example__\n",
    "\n",
    "Player got 10 blue and 10 red chips, and he was offered a game where he should distribute those chips into 2 similar boxes. (All chips should be placed in one of the boxes.) Then, another person randomly choose a box and then takes out one random chip from this box (unless the box is empty). The player wins if a red chip is drawn and lose otherwise. What's the maximum probability of the player's winning outcome assuming that he distributes chips the right way?\n",
    "\n",
    "Note: This is a tough problem. It requires a general formula for winning probability and some analysis, brute force or insight. Don't worry if you cannot solve it on the first try.\n",
    "\n",
    "Enter the exact value below (e.g., 13/28 or 0.12):\n",
    "\n",
    "R1, B1, R2, B2\n",
    "\n",
    "R1 + R2 = 10\n",
    "B1 + B2 = 10\n",
    "\n",
    "P(R) = 1/2 * R1/(R1+B1) + 1/2 * R2/(R2+B2) = 1/2 * (R1(R2+B2) + R2(R1+B1))/(R1+B1)(R2+B2)\n",
    "\n",
    "= 1/2 * (R1R2+R1B2+R1R2+R2B1)/(R1+B1)(R2+B2)\n",
    "\n",
    "= 1/2 * (2R1(10-R1) + R1(10-B1) + B1(10-R1))/(R1+B1)(20-R1-B1)"
   ]
  },
  {
   "cell_type": "code",
   "execution_count": 10,
   "metadata": {},
   "outputs": [
    {
     "data": {
      "text/plain": [
       "(0.7368421052631579, 1, 0)"
      ]
     },
     "execution_count": 10,
     "metadata": {},
     "output_type": "execute_result"
    }
   ],
   "source": [
    "def prob(r,b):\n",
    "    if r == 0:\n",
    "        return 1/2 * (10-r) / (10-r+10 -b)\n",
    "    if r == 10:\n",
    "        return 1/2 * r/(r+b)\n",
    "    \n",
    "#     return 1/2 * r/(r+b) + 1/2 * (10-r) / (10-r+10 -b)\n",
    "    return 1/2 * (2*r*(10-r) + r*(10-b) + b*(10-r)) / ((r+b)*(20-r-b))\n",
    "\n",
    "max = (0,0,0)\n",
    "\n",
    "for x in range(0,11):\n",
    "    for y in range(0,11):\n",
    "        r = prob(x,y)\n",
    "        if r > max[0]:\n",
    "            max = (r, x, y)\n",
    "\n",
    "max"
   ]
  },
  {
   "cell_type": "markdown",
   "metadata": {},
   "source": [
    "1/2 + 1/2 * 9/19 = 19/38 + 9/38 = 28/38 = 14/19"
   ]
  }
 ],
 "metadata": {
  "kernelspec": {
   "display_name": "Python 3",
   "language": "python",
   "name": "python3"
  },
  "language_info": {
   "codemirror_mode": {
    "name": "ipython",
    "version": 3
   },
   "file_extension": ".py",
   "mimetype": "text/x-python",
   "name": "python",
   "nbconvert_exporter": "python",
   "pygments_lexer": "ipython3",
   "version": "3.6.9"
  }
 },
 "nbformat": 4,
 "nbformat_minor": 2
}
