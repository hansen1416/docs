{
 "cells": [
  {
   "cell_type": "markdown",
   "metadata": {},
   "source": [
    "Toss fair coin three times\n",
    "\n",
    "$\\Omega = 2^3 = 8$\n",
    "\n",
    "$R_j \\in \\{H,T\\}$, result of j's tossing\n",
    "\n",
    "$A=\"R_1=R_2\"$; $B=\"R_2=R_2\"$; $C=\"R_1=R_3\"$\n",
    "\n",
    "$P(A) = P(\\{HHH,HHT,TTT,TTH\\}) = \\frac{4}{8} = \\frac{1}{2}$\n",
    "\n",
    "$P(B) = \\frac{1}{2}$\n",
    "\n",
    "$P(A \\cap B) = P(\\{HHH,TTT\\}) = \\frac{2}{8} = \\frac{1}{4} = P(A) \\cdot P(B) \\implies$ A and B are independent.\n",
    "\n",
    "$P(A \\cap B \\cap C) = P(A \\cap B) = P(A) \\cdot P(B) = \\frac{1}{4} \\neq P(A) \\cdot P(B) \\cdot P(C)$\n",
    "\n",
    "A,B,C are pairwise independent, but not mutual independent."
   ]
  },
  {
   "cell_type": "markdown",
   "metadata": {},
   "source": [
    "__Defination__\n",
    "\n",
    "$A_1, A_2, A_3$ are mutually independent if \n",
    "\n",
    "1. $P(A_i \\cap A_j) = P(A_i) \\cdot P(A_j)$\n",
    "\n",
    "2. $P(A_1 \\cap A_2 \\cap A_3) = P(A_1) \\cdot P(A_2) \\cdot P(A_3)$"
   ]
  },
  {
   "cell_type": "markdown",
   "metadata": {},
   "source": [
    "_In the definition of 3 mutually independent events $A_1, A_2, A_3$, may the condition of pairwise independence of events be omitted?_  \n",
    "_no, events may be independent as a triplet, that is, $P(A_1 \\cap A_2 \\cap A_3) = P(A_1) \\cdot P(A_2) \\cdot P(A_3)$, and not pairwise independent._"
   ]
  }
 ],
 "metadata": {
  "kernelspec": {
   "display_name": "Python 3",
   "language": "python",
   "name": "python3"
  },
  "language_info": {
   "codemirror_mode": {
    "name": "ipython",
    "version": 3
   },
   "file_extension": ".py",
   "mimetype": "text/x-python",
   "name": "python",
   "nbconvert_exporter": "python",
   "pygments_lexer": "ipython3",
   "version": "3.6.9"
  }
 },
 "nbformat": 4,
 "nbformat_minor": 2
}
