{
 "cells": [
  {
   "cell_type": "markdown",
   "metadata": {},
   "source": [
    "Let $H$ denote health people, $M$ denote people who have a mild illness, $S$ denote people who have a seriously illness.\n",
    "\n",
    "So each day:  \n",
    "$15\\% \\; H \\to M$, $12\\% \\; H \\to S $  \n",
    "$12\\% \\; M \\to H$, $15\\% \\; M \\to S $  \n",
    "$20\\% \\; S \\to M$, $10\\% \\; S \\to H $\n",
    "\n",
    "We can represent it with a Markov transition matrix\n",
    "\n",
    "$P=\n",
    "\\begin{pmatrix}\n",
    "0.73 & 0.12 & 0.1 \\\\\n",
    "0.15 & 0.73 & 0.2 \\\\\n",
    "0.12 & 0.15 & 0.7 \\\\\n",
    "\\end{pmatrix}\n",
    "$"
   ]
  },
  {
   "cell_type": "markdown",
   "metadata": {},
   "source": [
    "We consider the $3 \\times 3$ matrix $Q$, with all entries euqal to $\\frac{1}{3}$\n",
    "\n",
    "Let $P_\\alpha = (1-\\alpha)P+\\alpha Q$, for some small $\\alpha\\in[0,1]$, $P_\\alpha$ is still a Markov transion matrix."
   ]
  },
  {
   "cell_type": "markdown",
   "metadata": {},
   "source": [
    "$\n",
    "P_{0.15}=(1-0.15)\n",
    "\\begin{pmatrix}\n",
    "0.73 & 0.12 & 0.1 \\\\\n",
    "0.15 & 0.73 & 0.2 \\\\\n",
    "0.12 & 0.15 & 0.7 \\\\\n",
    "\\end{pmatrix}\n",
    "+0.15\n",
    "\\begin{pmatrix}\n",
    "\\frac{1}{3} & \\frac{1}{3} & \\frac{1}{3} \\\\\n",
    "\\frac{1}{3} & \\frac{1}{3} & \\frac{1}{3} \\\\\n",
    "\\frac{1}{3} & \\frac{1}{3} & \\frac{1}{3} \\\\\n",
    "\\end{pmatrix}\n",
    "=\n",
    "\\begin{pmatrix}\n",
    "0.6705 & 0.152 & 0.135 \\\\\n",
    "0.1775 & 0.6705 & 0.22 \\\\\n",
    "0.152 & 0.1775 & 0.645\n",
    "\\end{pmatrix}\n",
    "$"
   ]
  },
  {
   "cell_type": "markdown",
   "metadata": {},
   "source": [
    "Caculate the eigenvalues and eigenvectors of $P_{0.15}$\n",
    "\n",
    "$\\lambda_1 = 1, \\lambda_2 = 0.52592036,  \\lambda_3 = 0.46007964$\n",
    "\n",
    "Transition matrix consists of eigenvectors:\n",
    "\n",
    "$T=\n",
    "\\begin{pmatrix}\n",
    "0.52497209 & 0.81430994 & 0.17543338\\\\\n",
    "0.64981065 & -0.45887043 & -0.77830872 \\\\\n",
    "0.54968211 & -0.35543951 & 0.60287534\n",
    "\\end{pmatrix}\n",
    "\\implies\n",
    "T^{-1}=\n",
    "\\begin{pmatrix}\n",
    "0.57989004 & 0.57989004 & 0.57989004 \\\\\n",
    "0.85898964 & -0.23064256 & -0.54771948 \\\\\n",
    "-0.02228707 & -0.66470568 & 0.80707178 \n",
    "\\end{pmatrix}\n",
    "$"
   ]
  },
  {
   "cell_type": "markdown",
   "metadata": {},
   "source": [
    "Let\n",
    "$\n",
    "\\Lambda=\\begin{pmatrix}\n",
    "\\lambda_1 & 0 & 0 \\\\\n",
    "0 & \\lambda_2 & 0 \\\\\n",
    "0 & 0 & \\lambda_3 \n",
    "\\end{pmatrix}\n",
    "$"
   ]
  },
  {
   "cell_type": "markdown",
   "metadata": {},
   "source": [
    "$\n",
    "P_{0.15} = T\\Lambda T^{-1}$\n",
    "\n",
    "$\n",
    "\\implies\n",
    "\\lim_{n \\to \\infty}P^{n}=\\lim_{n \\to \\infty}T\\Lambda^n T^{-1}\n",
    "=\n",
    "\\lim_{n \\to \\infty}T\n",
    "\\begin{pmatrix}\n",
    "\\lambda_1^n & 0 & 0 \\\\\n",
    "0 & \\lambda_2^n & 0 \\\\\n",
    "0 & 0 & \\lambda_3^n\n",
    "\\end{pmatrix}\n",
    "T^{-1}\n",
    "=\n",
    "T\n",
    "\\begin{pmatrix}\n",
    "1 & 0 & 0 \\\\\n",
    "0 & 0 & 0 \\\\\n",
    "0 & 0 & 0\n",
    "\\end{pmatrix}\n",
    "T^{-1}\n",
    "=\n",
    "\\begin{pmatrix}\n",
    "0.30442609 & 0.30442609 & 0.30442609 \\\\\n",
    "0.37681873 & 0.37681873 & 0.37681873 \\\\\n",
    "0.31875518 & 0.31875518 & 0.31875518\n",
    "\\end{pmatrix}\n",
    "$"
   ]
  },
  {
   "cell_type": "markdown",
   "metadata": {},
   "source": [
    "At the initial time on the island, there are population of 10,000, and 500 patients were identified in a mild form of the disease and 100 patients in a severe form.\n",
    "\n",
    "Let $x_0 = \\begin{pmatrix} 9400 \\\\ 500 \\\\ 100  \\end{pmatrix}$"
   ]
  },
  {
   "cell_type": "markdown",
   "metadata": {},
   "source": [
    "Thus\n",
    "\n",
    "$\n",
    "\\lim_{n \\to \\infty}P^{n}x_0 = \n",
    "\\begin{pmatrix}\n",
    "3044.26089088 \\\\\n",
    "3768.18728323 \\\\\n",
    "3187.55182588\n",
    "\\end{pmatrix}\n",
    "$\n",
    "\n",
    "So, from a mathematical point of view, the limits of the number of patients in mild form is approximately 3768, and severe form is approximately 3188"
   ]
  }
 ],
 "metadata": {
  "kernelspec": {
   "display_name": "Python 3",
   "language": "python",
   "name": "python3"
  },
  "language_info": {
   "codemirror_mode": {
    "name": "ipython",
    "version": 3
   },
   "file_extension": ".py",
   "mimetype": "text/x-python",
   "name": "python",
   "nbconvert_exporter": "python",
   "pygments_lexer": "ipython3",
   "version": "3.6.9"
  }
 },
 "nbformat": 4,
 "nbformat_minor": 2
}
