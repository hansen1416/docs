{
 "cells": [
  {
   "cell_type": "markdown",
   "metadata": {},
   "source": [
    "If you multiply two triangular matrices of the same kind (LU), for example, two upper triangular matrices, or\n",
    "two lower triangular matrices, then you get a triangular\n",
    "matrix of the same kind.\n",
    "\n",
    "Moreover, All the elements of the main diagonal are just products of the corresponding elements of the terms. "
   ]
  },
  {
   "cell_type": "markdown",
   "metadata": {},
   "source": [
    "suppose that matrix `i` is a little bit more than non degenerate. It is non degenerate and also all its upper, left upper corner square submatrices are non-degenerate as well.\n",
    "\n",
    "Then there is a decomposition of the matrix say by as a product of lower triangular matrix `l` and upper triangle matrix `u`.\n",
    "\n",
    "Moreover, there are some additional restriction. For example, you can also assume that the __matrix l has only unit elements on its main diagonal__. Or more over in this situation, you also can assume that __u is a row echelon form of the matrix A__."
   ]
  }
 ],
 "metadata": {
  "kernelspec": {
   "display_name": "Python 3",
   "language": "python",
   "name": "python3"
  },
  "language_info": {
   "codemirror_mode": {
    "name": "ipython",
    "version": 3
   },
   "file_extension": ".py",
   "mimetype": "text/x-python",
   "name": "python",
   "nbconvert_exporter": "python",
   "pygments_lexer": "ipython3",
   "version": "3.6.9"
  }
 },
 "nbformat": 4,
 "nbformat_minor": 2
}
