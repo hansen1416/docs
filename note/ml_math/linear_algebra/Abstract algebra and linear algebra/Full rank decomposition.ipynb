{
 "cells": [
  {
   "cell_type": "markdown",
   "metadata": {},
   "source": [
    "For an arbitrary matrix $A$ of the rank $r$ with $m$ rows and $n$ columns there exists two matrices $B$ (with $m$ rows and $r$ columns) and $C$ (with $r$ rows and $n$ columns) such that $A=BC$"
   ]
  },
  {
   "cell_type": "markdown",
   "metadata": {},
   "source": [
    "We could apply the Gaussian elimination process to matrix $A$ and obtain a reduced  row echelon form $\\tilde{C}$. Then we could take matrix $C$ as $\\tilde{C}$ without zero rows. The matrix $C$ will have exactly $r$ rows, where $r=rank(A)$. As matrix $B$ could take the columns frin the matrix A, corresponding to the leading coefficients in $\\tilde{C}$. It will have exactly $r$ columns.\n",
    "\n",
    "We select the basis of the span of the columns for the matrix $B$ and then $C$ is a matrix of the coefficients that we should take to reconstruct $A$. "
   ]
  },
  {
   "cell_type": "markdown",
   "metadata": {},
   "source": [
    "__Example__\n",
    "\n",
    "$\n",
    "A=\\begin{pmatrix}2 & 1& 1& 3\\\\ 1& 0& 1 &-1\\\\ 1& 1& 0& 4 \\end{pmatrix}\n",
    "=\\begin{pmatrix}1 & 0 & 1 & -1\\\\ 0 & 1 & -1 & 5\\\\ 0& 0& 0& 0 \\end{pmatrix}\n",
    "$\n",
    "\n",
    "$\n",
    "B=\\begin{pmatrix}2 & 1\\\\ 1& 0\\\\ 1& 1\\end{pmatrix}\n",
    "$ \n",
    "and\n",
    "$\n",
    "C=\\begin{pmatrix}1 & 0 & 1 & -1\\\\ 0 & 1 & -1 & 5 \\end{pmatrix}\n",
    "$\n",
    ",then\n",
    "$BC=A$"
   ]
  }
 ],
 "metadata": {
  "kernelspec": {
   "display_name": "Python 3",
   "language": "python",
   "name": "python3"
  },
  "language_info": {
   "codemirror_mode": {
    "name": "ipython",
    "version": 3
   },
   "file_extension": ".py",
   "mimetype": "text/x-python",
   "name": "python",
   "nbconvert_exporter": "python",
   "pygments_lexer": "ipython3",
   "version": "3.6.9"
  }
 },
 "nbformat": 4,
 "nbformat_minor": 2
}
