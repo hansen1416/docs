{
 "cells": [
  {
   "cell_type": "markdown",
   "metadata": {},
   "source": [
    "__Vector length formula for arbitrary dimensions vector__\n",
    "\n",
    "In the case of the n dimensional space problem the length of the vector $a = \\{a_1 , a_2, \\dots , a_n\\}$ can be found using the following formula:\n",
    "\n",
    "$|\\bar{a}| = (\\sum^n_{i=1} a^2_i)^{\\frac{1}{2}}$"
   ]
  },
  {
   "cell_type": "markdown",
   "metadata": {},
   "source": [
    "__Informal definition__: A vector space is a set of elements which can be added to each other and multiplied by numbers(scale)"
   ]
  },
  {
   "cell_type": "markdown",
   "metadata": {},
   "source": [
    "__Formal definition__. Consider some set V of elements x,y,z,... It is called a vector space (or linear space), if\n",
    "\n",
    "- for any two elements $x,y \\in V$ there exists their sum $z =x+y$ in $V$\n",
    "\n",
    "- for each $x \\in V$ and each real number $\\alpha$, there exists their product $\\lambda x \\in V$"
   ]
  },
  {
   "cell_type": "markdown",
   "metadata": {},
   "source": [
    "__Axionms of addition__\n",
    "\n",
    "The operations +(addition) and $\\cdot$ (product by a scalar) on $V$ must satisfy the following axioms\n",
    "\n",
    "1. $x+y=y+x$ (commutativity)\n",
    "2. $(x+y)+z=z+(y+z)$ (associativity)\n",
    "3. there exists a (null) element $0 in V$ such that $x+0=x$ for all x\n",
    "4. for all x, there exists the additive inverse, (-x), such taht $x+(-x)=0$"
   ]
  },
  {
   "cell_type": "markdown",
   "metadata": {},
   "source": [
    "axioms II\n",
    "\n",
    "5. $1(x)=x$\n",
    "6. $\\alpha(\\beta x) = (\\alpha\\beta x)$\n",
    "7. $(\\alpha+\\beta)x=\\alpha x+\\beta x$\n",
    "8. $\\alpha(x+y)=\\alpha x+ \\alpha y$"
   ]
  },
  {
   "cell_type": "markdown",
   "metadata": {},
   "source": [
    "Proposition\n",
    "\n",
    "$0\\cdot X = 0$\n",
    "\n",
    "$(-1)x = x$"
   ]
  },
  {
   "cell_type": "markdown",
   "metadata": {},
   "source": [
    "__Combinations and spans__"
   ]
  },
  {
   "cell_type": "markdown",
   "metadata": {},
   "source": [
    "Given a set (or a list) $X=\\{x_1,...,x_n\\};$ the set of all its linear combinations\n",
    "\n",
    "$span(X)=span(x_1,...,x_n) = \\{\\alpha_1 x_1,...,\\alpha_n x_n|\\alpha_1,...,\\alpha_n \\in \\mathbb{R}\\}$\n",
    "\n",
    "is called a (linear) span of $X$, it is convinient to say\n",
    "\n",
    "if $ X = \\emptyset $, then $span(\\emptyset)={0}$"
   ]
  },
  {
   "cell_type": "markdown",
   "metadata": {},
   "source": [
    "The span $span(X)$ is a subspace of $V$ which contains the set $X$.\n",
    "\n",
    "Moreover, every subspace which contains $X$ should also contain $span(X)$"
   ]
  },
  {
   "cell_type": "markdown",
   "metadata": {},
   "source": [
    "What properties does a subset of a vector space $L$ have to have in order to be a subspace:\n",
    "\n",
    "- $0 \\in L$\n",
    "\n",
    "- for any $x,y \\in L, \\; x+y$ also belongs to $L$\n",
    "\n",
    "- for any $x \\in L$ and any real number $\\alpha, \\; \\alpha x $ also belongs to $L$"
   ]
  },
  {
   "cell_type": "markdown",
   "metadata": {},
   "source": [
    "__linear dependence__"
   ]
  },
  {
   "cell_type": "markdown",
   "metadata": {},
   "source": [
    "Let $X=\\{x_1,...,x_n\\}$ be a set of vectors, The linear combination $0 x_1+ \\dotsm + 0 x_n $ which is equal to 0, is called __trivial__.\n",
    "\n",
    "All the other linear combinations of $X$ are called __non trivial__."
   ]
  },
  {
   "cell_type": "markdown",
   "metadata": {},
   "source": [
    "Matrix columns $A_1, \\cdots A_k$ are called __linearly dependent__ if there exists numbers \n",
    "$\\alpha_1 A_1 + \\dotsm + \\alpha_k A_k = 0$\n",
    "where not all $\\alpha_i$ are zero\n",
    "\n",
    "If \n",
    "\n",
    "$\\alpha_1 A_1 + \\dotsm + \\alpha_k A_k = 0$\n",
    "\n",
    "is true only for all $\\alpha_i = 0$, matrix columns $A_1, \\cdots A_k$ are called __linearly independent__ \n",
    "\n",
    "Maximum number of linearly independent rows in a matrix is called the __rank__ of the matrix. (find using Gaussian elimination)\n",
    "\n",
    "Maximum number of linearly independent columns also equals rank"
   ]
  },
  {
   "cell_type": "markdown",
   "metadata": {},
   "source": [
    "__Definition__\n",
    "\n",
    "A set $X$ of elements of a vector space is called linearly independent if all non-trivial linear combinations of X are non-zero vectors "
   ]
  },
  {
   "cell_type": "markdown",
   "metadata": {},
   "source": [
    "__Lemma__\n",
    "\n",
    "A set $X=\\{x_1,...,x_n\\}$ of elements of a vector space is linear dependent if any only if one of its elements is equal to a linear combination of the rest elements."
   ]
  },
  {
   "cell_type": "markdown",
   "metadata": {},
   "source": [
    "__Corollary__\n",
    "\n",
    "Suppose that a set $X$ of elements of a vector space $V$ is linearly dependent, let $L$ be the span of $X$. \n",
    "\n",
    "Then there is a small subset $X^{\\prime} \\subset X$ such that $L=span(X^{\\prime})$"
   ]
  },
  {
   "cell_type": "markdown",
   "metadata": {},
   "source": [
    "__Definition__\n",
    "\n",
    "A subset $B$ of a vector space $V$ is called a _basis_ of $V$, is $V = span(B)$ and $B$ is linearly indenpendent."
   ]
  },
  {
   "cell_type": "markdown",
   "metadata": {},
   "source": [
    "__Bases examples__"
   ]
  },
  {
   "cell_type": "markdown",
   "metadata": {},
   "source": [
    "line $\\mathbb{R}$\n",
    "\n",
    "$\\mathbb{R}, a = \\vec{a}, B = \\{\\vec{a}\\}$"
   ]
  },
  {
   "cell_type": "markdown",
   "metadata": {},
   "source": [
    "plane $\\mathbb{R}^2$\n",
    "\n",
    "$ B=\\{u,v\\} $ where $u \\nparallel v$\n",
    "\n",
    "$x=\\alpha u + \\beta v$"
   ]
  },
  {
   "cell_type": "markdown",
   "metadata": {},
   "source": [
    "$\\mathbb{R}^n$ \n",
    "\n",
    "Any linearly independent $\\vec{v_1},\\cdots,\\vec{v_n} \\in \\mathbb{R}^n$ Form a basis\n",
    "\n",
    "$\\vec{x_1} = x_1 \\vec{v_1}+ \\dotsm x_n \\vec{v_n} \\;\\;\\; \\iff \\;\\;\\; $ For $A=(\\vec{v_1} | \\cdots | \\vec{v_n})$\n",
    "\n",
    "$A\\begin{pmatrix}\n",
    "    x_1 \\\\\n",
    "    \\dotsm \\\\\n",
    "    x_n\n",
    "\\end{pmatrix}=\\vec{x}\n",
    "$"
   ]
  },
  {
   "cell_type": "markdown",
   "metadata": {},
   "source": [
    "Let $L$ be the set of solutions a homogeneous system of linear equations\n",
    "\n",
    "$AX = 0$\n",
    "\n",
    "where $A$ is an $n\\times m$ matrix, and let $Y$ be a fundamental system of solutions. Then $L$ is a subspace of $\\mathbb{R}^n$, and $Y$ is a basis of $L$. \n",
    "\n",
    "Notations: $L=N(A)$, the null space of $A$"
   ]
  },
  {
   "cell_type": "markdown",
   "metadata": {},
   "source": [
    "__dimension__\n",
    "\n",
    "All bases of a vector space have the same number of elements.\n",
    "\n",
    "This number is called the dimentions of $V$ and is denoted by $dim V$\n",
    "\n",
    "__Remark.__ The dimension of $V$ is equal to the minimal number of elements that span $V$. At the same time, it is equal to the maximal number of vectors that are linearly independent in $V$"
   ]
  },
  {
   "cell_type": "markdown",
   "metadata": {},
   "source": [
    "__examples__\n",
    "\n",
    "1. dim $dim\\mathbb{R}^2=2$ and, generally, $dim\\mathbb{R}^n=n$\n",
    "2. $dim{0}=0$\n",
    "3. Let $R(A)$ be the span of the columns of a $m\\times n$ matrix $A$, and let $R(A^T)$ be the span of the rows of $A$. Then\n",
    "\n",
    "$dim R(A) = dim R(A^T) = rank A$\n",
    "\n",
    "Moreover\n",
    "\n",
    "$dim N(A) = n- rank A = n - dim R(A)$"
   ]
  }
 ],
 "metadata": {
  "kernelspec": {
   "display_name": "Python 3",
   "language": "python",
   "name": "python3"
  },
  "language_info": {
   "codemirror_mode": {
    "name": "ipython",
    "version": 3
   },
   "file_extension": ".py",
   "mimetype": "text/x-python",
   "name": "python",
   "nbconvert_exporter": "python",
   "pygments_lexer": "ipython3",
   "version": "3.6.9"
  }
 },
 "nbformat": 4,
 "nbformat_minor": 2
}
