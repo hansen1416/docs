{
 "cells": [
  {
   "cell_type": "markdown",
   "metadata": {},
   "source": [
    "__Theorem__\n",
    "\n",
    "For any homogenous SLAE $Ax=0$ the set of solutions forms a vector subspace in $\\mathbb{R}^n$ of dimension $n-rank(A)$"
   ]
  },
  {
   "cell_type": "markdown",
   "metadata": {},
   "source": [
    "If $x_1$ and $x_2$ are solutions of homogenous SLAE $Ax=0$, then $\\lambda_1 x_1 + \\lambda_2 x_2$ is also a solution for all numbers $\\lambda_1,\\lambda_2$\n",
    "\n",
    "$A(\\lambda_1 x_1 + \\lambda_2 x_2) = \\lambda_1A(x_1) + \\lambda_2A(x_2) = \\lambda_1 0 + \\lambda_2 0 = 0$\n",
    "\n",
    "$ n-rank(A)$ is the number of 'free' variables. $n$ is column?"
   ]
  }
 ],
 "metadata": {
  "kernelspec": {
   "display_name": "Python 3",
   "language": "python",
   "name": "python3"
  },
  "language_info": {
   "codemirror_mode": {
    "name": "ipython",
    "version": 3
   },
   "file_extension": ".py",
   "mimetype": "text/x-python",
   "name": "python",
   "nbconvert_exporter": "python",
   "pygments_lexer": "ipython3",
   "version": "3.6.9"
  }
 },
 "nbformat": 4,
 "nbformat_minor": 2
}
