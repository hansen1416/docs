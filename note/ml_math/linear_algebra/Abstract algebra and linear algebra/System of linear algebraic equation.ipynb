{
 "cells": [
  {
   "cell_type": "markdown",
   "metadata": {},
   "source": [
    "__Theorem__\n",
    "\n",
    "For any homogenous SLAE $Ax=0$ the set of solutions forms a vector subspace in $\\mathbb{R}^n$ of dimension $n-rank(A)$"
   ]
  },
  {
   "cell_type": "markdown",
   "metadata": {},
   "source": [
    "If $x^1$ and $x^2$ are solutions of homogenous SLAE $Ax=0$, then $\\lambda_1 x^1 + \\lambda_2 x^2$ is also a solution for all numbers $\\lambda_1,\\lambda_2$\n",
    "\n",
    "$A(\\lambda_1 x^1 + \\lambda_2 x^2) = \\lambda_1A(x^1) + \\lambda_2A(x^2) = \\lambda_1 0 + \\lambda_2 0 = 0$\n",
    "\n",
    "$ n-rank(A)$ is the number of 'free' variables. $n$ is column?"
   ]
  },
  {
   "cell_type": "markdown",
   "metadata": {},
   "source": [
    "This means that we have a formula for solution of a homogeneous system of linear equations. We could express an arbitrary solution of a homogeneous SLAE as a linear combination of a basis of solution set _(this basis is called Fundamental System of Solutions)_:\n",
    "\n",
    "$x=\\alpha_1 x^1 + \\alpha_2 x^2 + \\cdots + \\alpha_k x^k$, where\n",
    "\n",
    "$k=n-rank(A)$"
   ]
  },
  {
   "cell_type": "markdown",
   "metadata": {},
   "source": [
    "Relationship between the solutions of a linear system and the solution of the corresponding homogeneous system:\n",
    "\n",
    "If $x^0$ is a solution of $Ax=b$ and $x^1$ is a different solution of the same system $Ax=b$, then $x^0-x^1$ is a solution of $Ax=0$\n",
    "\n",
    "$A(x^0-x^1) = A(x^0)-A(x^1) = b-b=0$"
   ]
  },
  {
   "cell_type": "markdown",
   "metadata": {},
   "source": [
    "__Theorem__\n",
    "\n",
    "An arbitrary solution of a general SLAE could be expressed as a sum of an arbitrary partial solution of this system and the solution of homogeneous SLAE.\n",
    "\n",
    "$x=x^0+x^{hom} = x^0+\\alpha_1 x^1 + \\alpha_2 x^2 + \\cdots + \\alpha_k x^k$, where $k=n-rank(A)$\n",
    "\n",
    "Let us note that for any solution $x^1$ the difference $x^1-x^0$ is a solution of the homogeneous system and apply previous theorem."
   ]
  },
  {
   "cell_type": "markdown",
   "metadata": {},
   "source": [
    "__Example__\n",
    "\n",
    "$\n",
    "\\begin{cases}\n",
    "    x_1= x_3-9x_4+1\\\\\n",
    "    x_2=-4x_4+1\n",
    "\\end{cases}\n",
    "$\n",
    "\n",
    "$\n",
    "x=\\begin{pmatrix}\n",
    "x_1 \\\\\n",
    "x_2 \\\\\n",
    "x_3 \\\\\n",
    "x_4 \\\\\n",
    "\\end{pmatrix}=\\begin{pmatrix}\n",
    "x_3-9x_4+1 \\\\\n",
    "-4x_4+1 \\\\\n",
    "x_3 \\\\\n",
    "x_4 \\\\\n",
    "\\end{pmatrix}=\\begin{pmatrix}1 \\\\1 \\\\0 \\\\0 \\\\\\end{pmatrix}+x_3\\begin{pmatrix}1 \\\\0 \\\\1 \\\\0 \\\\\\end{pmatrix}+x_4\\begin{pmatrix}-9 \\\\-4 \\\\0 \\\\1 \\\\\\end{pmatrix}\n",
    "$\n",
    "\n",
    "$x^0=\\begin{pmatrix}1 \\\\1 \\\\0 \\\\0 \\\\\\end{pmatrix}$\n",
    "\n",
    "$x^{hom}=x_3\\begin{pmatrix}1 \\\\0 \\\\1 \\\\0 \\\\\\end{pmatrix}+x_4\\begin{pmatrix}-9 \\\\-4 \\\\0 \\\\1 \\\\\\end{pmatrix}$\n",
    "\n",
    "$E_1=\\begin{pmatrix}1 \\\\0 \\\\1 \\\\0 \\\\\\end{pmatrix}$\n",
    "\n",
    "$E_2=\\begin{pmatrix}-9 \\\\-4 \\\\0 \\\\1 \\\\\\end{pmatrix}$\n",
    "\n",
    "$E_1$ and $E_2$, is a fundamental system of solution for our homogeneous system of linear algebraic equations."
   ]
  }
 ],
 "metadata": {
  "kernelspec": {
   "display_name": "Python 3",
   "language": "python",
   "name": "python3"
  },
  "language_info": {
   "codemirror_mode": {
    "name": "ipython",
    "version": 3
   },
   "file_extension": ".py",
   "mimetype": "text/x-python",
   "name": "python",
   "nbconvert_exporter": "python",
   "pygments_lexer": "ipython3",
   "version": "3.6.9"
  }
 },
 "nbformat": 4,
 "nbformat_minor": 2
}
