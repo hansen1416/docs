{
 "cells": [
  {
   "cell_type": "markdown",
   "metadata": {},
   "source": [
    "System of linear equations $Ax=b$ has solutions $\\iff rang(A)=rank(A|b)$"
   ]
  },
  {
   "cell_type": "markdown",
   "metadata": {},
   "source": [
    "We could write down our system as \n",
    "\n",
    "$x_1A_1+\\cdots+x_nA_n = b$\n",
    "\n",
    "This means that the system has solutions if and only if $b$ is express as a linear combination of columns $A_j$. So the maximal number of linear independent columns in $A$ and in $A|b$ are the same if and only if the system has  solutions"
   ]
  }
 ],
 "metadata": {
  "kernelspec": {
   "display_name": "Python 3",
   "language": "python",
   "name": "python3"
  },
  "language_info": {
   "codemirror_mode": {
    "name": "ipython",
    "version": 3
   },
   "file_extension": ".py",
   "mimetype": "text/x-python",
   "name": "python",
   "nbconvert_exporter": "python",
   "pygments_lexer": "ipython3",
   "version": "3.6.9"
  }
 },
 "nbformat": 4,
 "nbformat_minor": 2
}
