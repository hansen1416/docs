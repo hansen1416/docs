{
 "cells": [
  {
   "cell_type": "markdown",
   "metadata": {},
   "source": [
    "__Statement__\n",
    "\n",
    "Let $A \\in M_m(\\mathbb{R})$ and columns $A_1,\\dots,A_m$ of A be linear independent. Then there exist matrices $Q$ and $R$ such taht:\n",
    "\n",
    "$A=Q\\cdot R$\n",
    "\n",
    "where $Q$ is an __orthogonal matrix__, $R$ is and upper __triangular matrix__"
   ]
  },
  {
   "cell_type": "markdown",
   "metadata": {},
   "source": [
    "_Proof_\n",
    "\n",
    "Let us apply Gram-Schmidt orthogonalization process to $A_1, \\dots, A_m $. We obtain columns $Q_1,\\dots,Q_m$. They form an orthonormal basis in $I_m \\; A$\n",
    "\n",
    "Let us note that according to the Gram-Schmidt formulas $A_k$ are always in the span of $Q_1,\\dots,Q_k$\n",
    "\n",
    "$\\implies A_k = \\sum^{k}_{i=1} r_{ik}Q_i, k=\\overline{1,m}$\n",
    "\n",
    "Let us rewrite it in a matrix form: $A=Q\\cdot R$, where \n",
    "\n",
    "$Q=(Q_1,\\dots,Q_m)$\n",
    "\n",
    "$R=\n",
    "\\begin{pmatrix} \n",
    "r_{11} & \\dotsm & r_{1m} \\\\ \n",
    "\\vdots & \\ddots & \\vdots \\\\\n",
    "0 & \\dotsm & r_{mm}\n",
    "\\end{pmatrix}\n",
    "$\n",
    "\n",
    "Here $Q$ is orthogonal matrix since $Q_i$ form an orthonormal basis."
   ]
  },
  {
   "cell_type": "markdown",
   "metadata": {},
   "source": [
    "__example__\n",
    "\n",
    "$A=\\begin{pmatrix} 1 & 1 & 0 \\\\ 1 & 0 & 1 \\\\ 0 & 1 & 1 \\end{pmatrix}$\n",
    "\n",
    "Applying the Gram-Schmidt orthogonalization process we obtain\n",
    "\n",
    "$e_1=\\begin{pmatrix} \\frac{\\sqrt{2}}{2} \\\\ \\frac{\\sqrt{2}}{2} \\\\ 0 \\end{pmatrix},\n",
    "e_2=\\begin{pmatrix} \\frac{\\sqrt{6}}{6} \\\\ -\\frac{\\sqrt{6}}{6} \\\\ \\frac{\\sqrt{6}}{3} \\end{pmatrix},\n",
    "e_3=\\begin{pmatrix} -\\frac{\\sqrt{3}}{3} \\\\ \\frac{\\sqrt{3}}{3} \\\\ \\frac{\\sqrt{3}}{3} \\end{pmatrix}\n",
    "$\n",
    "\n",
    "$Q=(e_1 | e_2 | e_3) = \n",
    "\\begin{pmatrix} \\frac{\\sqrt{2}}{2} & \\frac{\\sqrt{6}}{6} & -\\frac{\\sqrt{3}}{3} \\\\\n",
    "\\frac{\\sqrt{2}}{2} & -\\frac{\\sqrt{6}}{6} & \\frac{\\sqrt{3}}{3} \\\\ \n",
    "0 & \\frac{\\sqrt{6}}{3} & \\frac{\\sqrt{3}}{3}\n",
    "\\end{pmatrix}$\n",
    "\n",
    "$R=\\begin{pmatrix} \n",
    "a_1 \\cdot e_1 & a_2 \\cdot e_1 & a_3 \\cdot e_1 \\\\ \n",
    "0 & a_2 \\cdot e_2 & a_3 \\cdot e_2 \\\\ \n",
    "0 & 0 & a_3 \\cdot e_3\n",
    "\\end{pmatrix}\n",
    "=\n",
    "\\begin{pmatrix} \n",
    "\\sqrt{2} & \\frac{\\sqrt{2}}{2} & \\frac{\\sqrt{2}}{2} \\\\ \n",
    "0 & \\frac{\\sqrt{6}}{2} & \\frac{\\sqrt{6}}{6} \\\\ \n",
    "0 & 0 & \\frac{2\\sqrt{3}}{3}\n",
    "\\end{pmatrix}\n",
    "$"
   ]
  }
 ],
 "metadata": {
  "kernelspec": {
   "display_name": "Python 3",
   "language": "python",
   "name": "python3"
  },
  "language_info": {
   "codemirror_mode": {
    "name": "ipython",
    "version": 3
   },
   "file_extension": ".py",
   "mimetype": "text/x-python",
   "name": "python",
   "nbconvert_exporter": "python",
   "pygments_lexer": "ipython3",
   "version": "3.6.9"
  }
 },
 "nbformat": 4,
 "nbformat_minor": 2
}
