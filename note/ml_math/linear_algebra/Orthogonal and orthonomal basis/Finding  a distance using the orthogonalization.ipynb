{
 "cells": [
  {
   "cell_type": "markdown",
   "metadata": {},
   "source": [
    "__Defination__\n",
    "\n",
    "The set of solutions of a system of linear algebraic equations $Ax=b$ is called __linear manifold__\n",
    "\n",
    "__Remark__\n",
    "\n",
    "$P$ is a linear manifold $\\iff P = x_0+L$, where $L$ is a subspace "
   ]
  },
  {
   "cell_type": "markdown",
   "metadata": {},
   "source": [
    "A distance from the vector $x$ to the linear manifold $P$, i.e. $\\rho(x, P)$ is equal to the length of the orthogonal component of the vector $x-x_0$ with respect to the subspace $L$, where \n",
    "\n",
    "$P=x_0+L \\;\\; \\rho(x, P)=min_{u\\in P}\\parallel x-u \\parallel = \\parallel (x-x_0)^{\\bot} \\parallel$\n",
    "\n",
    "This means that a distance between a linear manifold and a vector could be found using Gram-Schmidt algorithm."
   ]
  },
  {
   "cell_type": "markdown",
   "metadata": {},
   "source": [
    "__example__\n",
    "\n",
    "SLAE\n",
    "\n",
    "$-4x_1+7x_2+4x_3-8x_4=0$\n",
    "\n",
    "$-3x_1+5x_2+3x_3-7x_4=0$\n",
    "\n",
    "$2x_1-3x_2-2x_3+6x_4=0$\n",
    "\n",
    "$-5x_1+9x_2+5x_3-9x_4=0$\n",
    "\n",
    "and take a point $M=(2\\;-1\\;0\\;1)^T$\n",
    "\n",
    "Let us find $\\rho(L,M)$ where $L$ is a subspace defined by the solution of the above SLAE"
   ]
  },
  {
   "cell_type": "markdown",
   "metadata": {},
   "source": [
    "$A=\n",
    "\\begin{pmatrix} \n",
    "-4 & 7 & 4 & -8 \\\\ \n",
    "-3 & 5 & 3 & -7 \\\\ \n",
    "2 & -3 & -2 & 61 \\\\ \n",
    "-5 & 9 & 5 & -9 \\\\ \n",
    "\\end{pmatrix}~\n",
    "\\begin{pmatrix} \n",
    "-4 & 7 & 4 & -8 \\\\ \n",
    "0 & -1 & 0 & -4 \\\\ \n",
    "0 & 0 & 0 & 0 \\\\ \n",
    "0 & 0 & 0 & 0 \\\\ \n",
    "\\end{pmatrix}\n",
    "$\n",
    "\n",
    "The solution looks like $X=\\begin{pmatrix} 1 \\\\ 0 \\\\ 1 \\\\ 0 \\end{pmatrix}x_3+\\begin{pmatrix} -9 \\\\ -4 \\\\ 0 \\\\ 1 \\end{pmatrix}x_4$\n",
    "\n",
    "$a_1=\\begin{pmatrix} 1 \\\\ 0 \\\\ 1 \\\\ 0 \\end{pmatrix},\n",
    "a_2=\\begin{pmatrix} -9 \\\\ -4 \\\\ 0 \\\\ 1 \\end{pmatrix},\n",
    "x=\\begin{pmatrix} 2 \\\\ -1 \\\\ 0 \\\\ 1 \\end{pmatrix}\n",
    "$\n",
    "\n",
    "Applying the Gram-Schmidt algorithm to vectors \n",
    "\n",
    "$a_1,a_2,x$\n",
    "\n",
    "$b_1=a_1$\n",
    "\n",
    "$b_2=(-\\frac{9}{2}\\;-4\\;\\frac{9}{2}\\;1)^T$\n",
    "\n",
    "$b_3=\\begin{pmatrix} \\frac{79}{115} \\\\ -\\frac{147}{115} \\\\ -\\frac{79}{115} \\\\ \\frac{123}{115} \\end{pmatrix}$\n",
    "\n",
    "$b_3$ it an orthogonal component of vector $x$ with respect to the subspace $L$\n",
    "\n",
    "$\\rho=\\parallel b_3 \\parallel=\\sqrt{\\frac{9844}{2645}}\\approx 1.929$"
   ]
  }
 ],
 "metadata": {
  "kernelspec": {
   "display_name": "Python 3",
   "language": "python",
   "name": "python3"
  },
  "language_info": {
   "codemirror_mode": {
    "name": "ipython",
    "version": 3
   },
   "file_extension": ".py",
   "mimetype": "text/x-python",
   "name": "python",
   "nbconvert_exporter": "python",
   "pygments_lexer": "ipython3",
   "version": "3.6.9"
  }
 },
 "nbformat": 4,
 "nbformat_minor": 2
}
