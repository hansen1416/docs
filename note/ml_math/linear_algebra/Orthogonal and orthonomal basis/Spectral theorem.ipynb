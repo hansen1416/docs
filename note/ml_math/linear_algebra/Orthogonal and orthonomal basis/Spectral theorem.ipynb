{
 "cells": [
  {
   "cell_type": "markdown",
   "metadata": {},
   "source": [
    "__Spectral theorem for symmetric matrices__\n",
    "\n",
    "__For any symmetric matrix__ $M$, there exists and __orthogonal matrix__ $U$ such that $M=U\\Lambda U^T$,\n",
    "\n",
    "where $\\Lambda = \\begin{pmatrix} \\lambda_1 & 0 & 0 \\\\ 0 & \\ddots & 0 \\\\ 0 & 0 & \\lambda_n \\end{pmatrix}$, and \n",
    "$\\lambda_1,\\dots,\\lambda_n$ are the eigenvalues of the $M$ matrix, repeated according to their multiplicities.\n",
    "\n",
    "In other words: __any symmetric matrix could be reduced to a diagonal form by an orthogonal transformation__"
   ]
  },
  {
   "cell_type": "markdown",
   "metadata": {},
   "source": [
    "_Proof_\n",
    "\n",
    "Let us consider the matrix $M$ as a matrix of self-adjoint linear operator in some orthonormal basis\n",
    "\n",
    "$f=\\{f_1,\\dots,f_n\\}$. For a self-adjoint linear operator, there exists an orthonormal basis $e$ in which its matrix is diagonal, that is,\n",
    "\n",
    "$\\Lambda = T^{-1}_{f \\to e}MT_{f \\to e}$ Matrix $T_{f \\to e}$ is the transition matrix between two orthonormal bases $\\implies$ it is orthogonal and $T^{-1}_{f \\to e}=T^{T}_{f \\to e}$. Let us take it as $U$\n"
   ]
  },
  {
   "cell_type": "markdown",
   "metadata": {},
   "source": [
    "__example__\n",
    "\n",
    "$A=\\begin{pmatrix}\n",
    "11 & 2 & -8 \\\\\n",
    "2 & 2 & 10 \\\\\n",
    "-8 & 10 & 5 \\\\\n",
    "\\end{pmatrix}$\n",
    "\n",
    "It has 3 eigenvalues -9, 9, 18 and 3 eigenvectors\n",
    "\n",
    "$v_1=\\begin{pmatrix}1 \\\\ -2 \\\\ 2 \\end{pmatrix},\n",
    "v_2=\\begin{pmatrix}2 \\\\ 2 \\\\ 1 \\end{pmatrix},\n",
    "v_3=\\begin{pmatrix}2 \\\\ -1 \\\\ -2 \\end{pmatrix}\n",
    "$\n",
    "\n",
    "Eigenvectors are orthogonal\n",
    "\n",
    "$\\Lambda$ has eigenvalues on the diagonal:\n",
    "\n",
    "$\\Lambda = \\begin{pmatrix}\n",
    "-9 & 0 & 0 \\\\\n",
    "0 & 9 & 0 \\\\\n",
    "0 & 0 & 18 \\\\\n",
    "\\end{pmatrix}$\n",
    "\n",
    "$U$ consists of normalized eigenvectors:\n",
    "\n",
    "$U = \\begin{pmatrix}\n",
    "\\frac{1}{3} & \\frac{2}{3} & \\frac{2}{3} \\\\\n",
    "-\\frac{2}{3} & \\frac{2}{3} & -\\frac{1}{3} \\\\\n",
    "\\frac{2}{3} & \\frac{1}{3} & -\\frac{2}{3} \\\\\n",
    "\\end{pmatrix}$\n",
    "\n",
    "Then $A=U\\Lambda U^T$"
   ]
  }
 ],
 "metadata": {
  "kernelspec": {
   "display_name": "Python 3",
   "language": "python",
   "name": "python3"
  },
  "language_info": {
   "codemirror_mode": {
    "name": "ipython",
    "version": 3
   },
   "file_extension": ".py",
   "mimetype": "text/x-python",
   "name": "python",
   "nbconvert_exporter": "python",
   "pygments_lexer": "ipython3",
   "version": "3.6.9"
  }
 },
 "nbformat": 4,
 "nbformat_minor": 2
}
