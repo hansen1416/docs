{
 "cells": [
  {
   "cell_type": "markdown",
   "metadata": {},
   "source": [
    "__Definition__\n",
    "\n",
    "A linear operator $A^{*}:\\varepsilon \\to \\varepsilon$ is called __adjoint__ of the linear operator $A:\\varepsilon \\to \\varepsilon$ if $\\forall x,y \\in \\varepsilon: \\langle Ax, y \\rangle = \\langle x, A^{*}y \\rangle$"
   ]
  },
  {
   "cell_type": "markdown",
   "metadata": {},
   "source": [
    "__Definition__\n",
    "\n",
    "A linear operator $A$ is called $self-adjoint$ (symmetric) if $\\forall x,y \\in \\varepsilon: \\langle Ax, y \\rangle=\\langle x, Ay \\rangle$"
   ]
  },
  {
   "cell_type": "markdown",
   "metadata": {},
   "source": [
    "__Theorem__\n",
    "\n",
    "For any linear operator $A:\\varepsilon \\to \\varepsilon$ __exists__ a unique __adjoint operator__ $A^{*}:\\varepsilon \\to \\varepsilon$, and its matrix will be the matrix $(A^{*})_b=(A^T_b)$ in the orthogonormal basis $b$"
   ]
  },
  {
   "cell_type": "markdown",
   "metadata": {},
   "source": [
    "__Lemma__\n",
    "\n",
    "Let $M,N \\in M_n (\\mathbb{R})$ and $\\forall x,y \\in \\mathbb{R}^n$\n",
    "\n",
    "$x^TMy=x^TNy$ Then $M=N$"
   ]
  },
  {
   "cell_type": "markdown",
   "metadata": {},
   "source": [
    "_Proof of the Theorem_\n",
    "\n",
    "We will show that a linear operator with matrix $B=A^T$ is adjoint to this linear operator $A$. We should check the equality:\n",
    "\n",
    "$\\forall x,y \\in \\varepsilon, \\langle Ax, y \\rangle = \\langle x, By \\rangle$\n",
    "\n",
    "holds\n",
    "\n",
    "Let $x^b,y^b$ be the columns of coordinates of the vectors $x$ and $y$ in the basis $b$. \n",
    "\n",
    "Then $(Ax)^b=A_bx^b \\implies ((Ax)^b)^Ty^b = (x^b)^T(By)^b$ by\n",
    "\n",
    "matrix form of inner product\n",
    "\n",
    "$(x^b)^TA^T_by^b = (x^b)^TBy^b \\implies $ by the lemma $B=A^T_b$"
   ]
  },
  {
   "cell_type": "markdown",
   "metadata": {},
   "source": [
    "__Consequence__\n",
    "\n",
    "The matrix of a linear operator in an orthogonromal basis is symmetric $\\iff$ the linear operator is self-adjoint"
   ]
  },
  {
   "cell_type": "markdown",
   "metadata": {},
   "source": [
    "__Theorem__\n",
    "\n",
    "All roots of the characteristic polynomial of a self-adjoint operator __are real__ numbers\n",
    "\n",
    "_What is the property of eigenvalues of self-adjoint operators? They are real numbers_\n",
    "\n",
    "_proof_\n",
    "\n",
    "$\\lambda_i$ is an eigenvalue, if $\\exists x \\neq 0 \\;:\\; Ax=\\lambda_i x$\n",
    "\n",
    "$(A-\\lambda_i Id)x=0$ d is identical operator\n",
    "\n",
    "In coordinates:\n",
    "\n",
    "$(A-\\lambda_i I)x = 0$ (1)\n",
    "\n",
    "$\\bar{x}=\\begin{pmatrix} \\bar{x_1} \\\\ \\vdots \\\\ \\bar{x_n} \\end{pmatrix}$\n",
    "\n",
    "$\\bar{x}^T (A-\\lambda_i I)x = 0$\n",
    "\n",
    "$\\bar{x}^T Ax=\\lambda_i \\bar{x}^T x$\n",
    "\n",
    "where $\\bar{x}^Tx = |x_1|^2 + \\dots + |x_n|^2 > 0$ since $x\\neq 0$\n",
    "\n",
    "$\\implies \\lambda_i = \\frac{\\bar{x}^T A x}{\\bar{x}^Tx}$\n",
    "\n",
    "Since $\\bar{x}^Tx$ is a real number, we need to prove $\\bar{x}^T A x$ is a real number too\n",
    "\n",
    "let $w = \\bar{x}^T A x$\n",
    "\n",
    "$\\bar{w}=\\bar{\\bar{x}^T A x} = {x}^T \\bar{A} \\bar{x} = {x}^T A \\bar{x}$ since the matrix A is real matrix, $\\bar{A}=A$\n",
    "\n",
    "$w^T=(\\bar{x}^T A x)^T = x^T A^T (\\bar{x}^T)^T = x^T A \\bar{x}$ since $A$ is a self-adjoint operator and has a symmetric matrix. So, $A^T=A$\n",
    "\n",
    "Since $w$ is a number, $w=w^T$, and $w^T=\\bar{w}$\n",
    "\n",
    "so $w=w^T=\\bar{w} \\implies w \\in R$\n",
    "\n",
    "so $\\lambda \\in \\mathbb{R}$"
   ]
  },
  {
   "cell_type": "markdown",
   "metadata": {},
   "source": [
    "__Properties of self-joint operator__\n",
    "\n",
    "__Theorem__\n",
    "\n",
    "Let $\\lambda$ be the eigenvalue of the self-adjoint linear operator A. Then the __algebraic multiplicity of $\\lambda$ = geometric multiplicity__\n",
    "\n",
    "_And this means, the consequence of this theorem, is that for arbitrary self-adjoint operator there exists a basis consists of its eigenvectors. In this basis, its matrix has a diagonal form_\n",
    "\n",
    "__Statement__\n",
    "\n",
    "Eigenvectors of a self-adjoint linear operator corresponding to different eigenvalues are __orthogonal__"
   ]
  },
  {
   "cell_type": "markdown",
   "metadata": {},
   "source": [
    "_Proof_\n",
    "\n",
    "$Ax_1=\\lambda_1x_1, x_1\\neq0$\n",
    "\n",
    "$Ax_2=\\lambda_2x_2, x_2\\neq0$\n",
    "\n",
    "$\\langle Ax_1, x_2 \\rangle = \\langle \\lambda_1 x_1, x_2 \\rangle = \\lambda_1 \\langle x_1,x_2 \\rangle$\n",
    "\n",
    "Since $A$ is a self-joint operator\n",
    "\n",
    "$\\langle Ax_1, x_2 \\rangle = \\langle x_1, Ax_2 \\rangle = \\langle x_1, \\lambda_2 x_2 \\rangle = \\lambda_2 \\langle x_1, x_2 \\rangle$\n",
    "\n",
    "$\\implies (\\lambda_1 - \\lambda_2) \\cdot \\langle x_1, x_2 \\rangle = 0$\n",
    "\n",
    "Sine $\\lambda_1 - \\lambda_2 \\neq 0 $, then $\\langle x_1, x_2 \\rangle = 0$ which means the eigenvectors are orthogonal"
   ]
  },
  {
   "cell_type": "markdown",
   "metadata": {},
   "source": [
    "__Theorem__\n",
    "\n",
    "For any self-adjoint linear operator $A$ there exists an __orthonormal basis consisting of eigenvectors__ A, the matrix $A_e$ in this basis is __disgonal__, and on the disgonal are eigenvalues that repeat as much as their algebraic multiplicity"
   ]
  },
  {
   "cell_type": "markdown",
   "metadata": {},
   "source": [
    "__Theorem__\n",
    "\n",
    "If the eigenvalues $\\lambda_1,\\dots,\\lambda_n$ of the self-adjoint linear operator $A: \\varepsilon \\to \\varepsilon, dim \\, \\varepsilon = n$ are __pairwise distinct__, then in $\\varepsilon$ there is an orthogonormal basis in which the matrix $A$ has a diagonal form"
   ]
  },
  {
   "cell_type": "markdown",
   "metadata": {},
   "source": [
    "_Proof_\n",
    "\n",
    "Since $\\lambda_1,\\dots,\\lambda_n$ are pairwise distinct, by choosing the corresponding eigenvector for each $\\lambda_i$, we get a system of $n$ nonzero vetors.\n",
    "\n",
    "According to the fact that eigenvectors of a self-adjoint linear operator are orthogonal this vectors will form the orthogonal system \n",
    "\n",
    "$\\implies$ according to the previously proved statement, it is a basis. This basis is orthogonal. We obtain the orthonormal basis by dividing each vector $e_i$ by its length $\\parallel e_i \\parallel$\n",
    "\n",
    "_Eigenvectors of a self-adjoint linear operator always form a basis._"
   ]
  },
  {
   "cell_type": "code",
   "execution_count": null,
   "metadata": {},
   "outputs": [],
   "source": []
  }
 ],
 "metadata": {
  "kernelspec": {
   "display_name": "Python 3",
   "language": "python",
   "name": "python3"
  },
  "language_info": {
   "codemirror_mode": {
    "name": "ipython",
    "version": 3
   },
   "file_extension": ".py",
   "mimetype": "text/x-python",
   "name": "python",
   "nbconvert_exporter": "python",
   "pygments_lexer": "ipython3",
   "version": "3.6.9"
  }
 },
 "nbformat": 4,
 "nbformat_minor": 2
}
