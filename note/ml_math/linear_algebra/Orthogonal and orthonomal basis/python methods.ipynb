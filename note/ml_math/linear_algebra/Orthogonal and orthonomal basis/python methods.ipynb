{
 "cells": [
  {
   "cell_type": "markdown",
   "metadata": {},
   "source": [
    "This reading will illustrate how problems discussed this week can be solved using Python. Make sure you can replicate this code on your own since it replaces a lot of tedious calculations. Try running the examples from the lecture in this code, as well as obtaining QR decomposition without the library function as a practice coding exercise."
   ]
  },
  {
   "cell_type": "code",
   "execution_count": null,
   "metadata": {},
   "outputs": [],
   "source": [
    "# Finding QR decomposition.\n",
    "A = np.array([[1, 1, 0],\n",
    "                [1, 0, 1],\n",
    "                [0, 1, 1]])\n",
    "q, r = LA.qr(A)\n",
    "print(\"Q=\", q)\n",
    "print(\"R=\", r)\n",
    "is_equal = np.allclose(A, np.dot(q,r))\n",
    "print(\"Obtained the original matrix?\", is_equal)"
   ]
  },
  {
   "cell_type": "code",
   "execution_count": null,
   "metadata": {},
   "outputs": [],
   "source": [
    "# Finding orthogonal and orthonormal basis using the Gram-Schmidt orthogonalization process. \n",
    "# This one is implemented from scratch.\n",
    "\n",
    "# According to the formula\n",
    "\"\"\"\n",
    "So here in the code we iterate through our given vectors a and subtract the according b's \n",
    "with their respective coefficients. \n",
    "\n",
    "Please note that function gs_process takes in a matrix as an argument \n",
    "where rows are our initial vectors, \n",
    "and returns a matrix where rows are orthogonal vectors \n",
    "that form the new basis. \n",
    "\n",
    "How would you change this code to make it accept a matrix where columns are the initial vectors?\n",
    "\n",
    "The function normalize takes the array from gs_process \n",
    "and returns a new array where rows are orthonormal vectors.\n",
    "\"\"\"\n",
    "def gs_cofficient(a, b):\n",
    "    denominator = np.dot(b, b)\n",
    "    if denominator == 0:\n",
    "        return 0\n",
    "    return np.dot(a, b) / np.dot(b, b) # getting the coefficient for each b_i\n",
    "\n",
    "def gs_process(A):\n",
    "    B = []\n",
    "    for i in np.arange(A.shape[0]):\n",
    "        a_i = A[i]\n",
    "        for b in B :\n",
    "            proj_vec = gs_cofficient(a_i, b) * b\n",
    "            a_i = a_i - proj_vec\n",
    "        B.append(a_i)\n",
    "    return np.array(B)\n",
    "\n",
    "#example use\n",
    "a1 = np.array([6, 5, 1, 0])\n",
    "a2 = np.array([5, 8, 0, 1])\n",
    "a3 = np.array([1, 0, 1, -1])\n",
    "A = np.array([a1, a2, a3]) \n",
    "basis = gs_process(A)\n",
    "print(\"Orthogonal basis:\", basis)\n",
    "\n",
    "# to normalize the basis:\n",
    "def normalize(X):\n",
    "    return np.array([x / LA.norm(x) \n",
    "                     if LA.norm(x) != 0\n",
    "                     else np.zeros(len(x)) \n",
    "                     for x in X])\n",
    "                     \n",
    "normalized = normalize(basis)\n",
    "print(\"Orthonormal basis:\", normalized)"
   ]
  },
  {
   "cell_type": "code",
   "execution_count": null,
   "metadata": {},
   "outputs": [],
   "source": [
    "import numpy as np \n",
    "def is_orthogonal(A):\n",
    "    A = np.array(A)\n",
    "    AT = A.transpose()\n",
    "    result = np.matmul(AT, A)\n",
    "  \n",
    "    return np.allclose(result, np.identity(result.shape[0]))"
   ]
  }
 ],
 "metadata": {
  "kernelspec": {
   "display_name": "Python 3",
   "language": "python",
   "name": "python3"
  },
  "language_info": {
   "codemirror_mode": {
    "name": "ipython",
    "version": 3
   },
   "file_extension": ".py",
   "mimetype": "text/x-python",
   "name": "python",
   "nbconvert_exporter": "python",
   "pygments_lexer": "ipython3",
   "version": "3.6.9"
  }
 },
 "nbformat": 4,
 "nbformat_minor": 2
}
