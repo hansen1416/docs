{
 "cells": [
  {
   "cell_type": "markdown",
   "metadata": {},
   "source": [
    "__Definition__\n",
    "\n",
    "A square matrix $O$ is called orthogonal of $O^TO=I$, where $I$ is the identity matrix\n",
    "\n",
    "__example__\n",
    "\n",
    "$A_{\\varphi} = \\begin{pmatrix} cos \\varphi & -sin \\varphi \\\\ sin \\varphi & cos\\varphi \\end{pmatrix}$"
   ]
  },
  {
   "cell_type": "markdown",
   "metadata": {},
   "source": [
    "_Proof_\n",
    "\n",
    "$Q^TQ=I$\n",
    "\n",
    "1. $|det Q| = 1$\n",
    "\n",
    "$\\Box\\;\\; det(Q^TQ) = detQ^T\\cdot det Q = (det Q)^2 = det(I) = 1$\n",
    "\n",
    "2. $Q^T$ is also an orthogonal\n",
    "\n",
    "$\\Box\\;\\; (Q^T)^T \\cdot Q^T = I $\n",
    "\n",
    "$Q^TQ=(Q^TQ)^T=I$\n",
    "\n",
    "3. $Q^{-1}=Q^T$\n",
    "\n",
    "$\\Box\\;\\; det Q \\neq 0 \\implies Q^{-1}$\n",
    "\n",
    "$ Q^TQ = I \\implies Q^TQQ^{-1} = IQ^{-1} => Q^T = Q^{-1}$"
   ]
  },
  {
   "cell_type": "markdown",
   "metadata": {},
   "source": [
    "__Statement__\n",
    "\n",
    "In the Euclidean space, the transition matrix from one orthonorml basis to another orthonormal basis is orthogonal\n",
    "\n",
    "_Proof_\n",
    "\n",
    "Matrix $U$ is the transitin matrix from $e=(e_1,\\dots,e_n)$ to $b=(b_1,\\dots,b_n)$. And both basis are orthonormal.\n",
    "\n",
    "By definition of $U$ its columns are coordinates of the vectors of the new basis in the old one.\n",
    "\n",
    "Then $U^TU=I$ since the baiss is orthonormal"
   ]
  }
 ],
 "metadata": {
  "kernelspec": {
   "display_name": "Python 3",
   "language": "python",
   "name": "python3"
  },
  "language_info": {
   "codemirror_mode": {
    "name": "ipython",
    "version": 3
   },
   "file_extension": ".py",
   "mimetype": "text/x-python",
   "name": "python",
   "nbconvert_exporter": "python",
   "pygments_lexer": "ipython3",
   "version": "3.6.9"
  }
 },
 "nbformat": 4,
 "nbformat_minor": 2
}
