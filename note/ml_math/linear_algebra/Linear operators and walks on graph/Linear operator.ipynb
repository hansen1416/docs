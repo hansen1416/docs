{
 "cells": [
  {
   "cell_type": "markdown",
   "metadata": {},
   "source": [
    "A mappling $\\varphi: V_1 \\to V_2$ is called __linear__ if:\n",
    "\n",
    "1) $\\forall u,v \\in V_1, \\varphi(u+v) = \\varphi(u) + \\varphi(v)$\n",
    "\n",
    "1) $\\forall u \\in V_1, \\forall \\lambda \\in F \\;\\; \\varphi(\\lambda u) + \\varphi\\lambda(u)$\n",
    "\n",
    "Here $V_1$ and $V_2$ are two vector spaces.\n",
    "\n",
    "If $V_1=V_2=V$, we call the linear mapping a __linear operator__ on V\n",
    "\n",
    "__Matrices of linear operators__\n",
    "\n",
    "A __matrix of a linear mapping__ corresponding to bases $E_1$ in $V_1$ and $E_2$ in $v_2$ is a matrix\n",
    "\n",
    "$A_{E_1,E_2} = \\begin{pmatrix} \n",
    "a_11 & \\dots & a_{1n} \\\\ \n",
    "\\vdots & \\dots & \\vdots \\\\\n",
    "a_{m1} & \\dots & a_{mn}\n",
    "\\end{pmatrix}$,\n",
    "\n",
    "where the columns are the coordinates of the images of the vectors of the basis $E_1$ in the basis $E_2$\n",
    "\n",
    "__example__\n",
    "\n",
    "If a linear operator $A$ transforms\n",
    "\n",
    "$\\binom{-1}{0} \\to \\binom{a}{b}$ and $\\binom{0}{-1} \\to \\binom{c}{d}$\n",
    "\n",
    "what is the matrix of $A$\n",
    "\n",
    "$A \\binom{-1}{0} = \\binom{a}{b}, A \\binom{0}{-1} = \\binom{c}{d} \\implies A = -\\begin{pmatrix}a & b \\\\ c & d\\end{pmatrix}$"
   ]
  },
  {
   "cell_type": "markdown",
   "metadata": {},
   "source": [
    "__Change of the basis__\n",
    "\n",
    "Let $\\varphi$ be a linear mapping from the linear space $V_1$ to the linear space $V_2$. Let $A_{E_1E_2}$ be a linear mapping matrix in a pair of bases: $E_1$ in the space $V_1$ and $E_2$ in the space $V_2$ and let $T_1$ be the transition matrix from $E_1$ to $E^{\\prime}_1$ and $T_2$ be the transition matrix from $E_2$ to $E^{\\prime}_2$. Then:\n",
    "\n",
    "$A_{E^{\\prime}_1E^{\\prime}_2} = T^{-1}_2A_{E_1E_2}T_1$\n",
    "\n",
    "In the case of linear operator $T_1=T_2=T$ and therefore formula for linear operatiors:\n",
    "\n",
    "$A_{E^{\\prime}} = T^{-1}A_{E}T$"
   ]
  },
  {
   "cell_type": "markdown",
   "metadata": {},
   "source": [
    "__Example__\n",
    "\n",
    "Let matrix of a linear operator $B$ be $\\begin{pmatrix}1 & -2 \\\\ 3 & 1 \\end{pmatrix}$ and transformation matrix $T$ be $\\begin{pmatrix} 3 & 2 \\\\ 5 & 3 \\end{pmatrix}$\n",
    "\n",
    "The $B$ in a new basis will be\n",
    "\n",
    "$B^{\\prime} = T^{-1}BT = \\begin{pmatrix} 49 & 30 \\\\ -77 & -47 \\end{pmatrix}$"
   ]
  },
  {
   "cell_type": "markdown",
   "metadata": {},
   "source": [
    "Proof:\n",
    "\n",
    "$y=Ax$\n",
    "\n",
    "$x \\in V_1$\n",
    "\n",
    "$y \\in V_2$\n",
    "\n",
    "$y^{\\prime} = T^{-1}_2y \\implies y = T_2y^{\\prime}$\n",
    "\n",
    "$x= T_1x^{\\prime}$\n",
    "\n",
    "so $T_2y^{\\prime}=AT_1x^{\\prime} \\implies y^{\\prime}=T^{-1}_2AT_1x^{\\prime} $\n",
    "\n",
    "$A^{\\prime} = T^{-1}_2AT_1$"
   ]
  }
 ],
 "metadata": {
  "kernelspec": {
   "display_name": "Python 3",
   "language": "python",
   "name": "python3"
  },
  "language_info": {
   "codemirror_mode": {
    "name": "ipython",
    "version": 3
   },
   "file_extension": ".py",
   "mimetype": "text/x-python",
   "name": "python",
   "nbconvert_exporter": "python",
   "pygments_lexer": "ipython3",
   "version": "3.6.9"
  }
 },
 "nbformat": 4,
 "nbformat_minor": 2
}
