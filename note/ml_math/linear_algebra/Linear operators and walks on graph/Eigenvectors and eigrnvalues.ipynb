{
 "cells": [
  {
   "cell_type": "markdown",
   "metadata": {},
   "source": [
    "The number $\\lambda$ is called __eigenvalue__ of the linear operator $A: V \\to V$ if there exists a vector $v \\in V,v\\neq0$, such that $Av=\\lambda v$. Moreover, the vector $v$ is called __eigenvector__ corresponding to the eigenvalue of $\\lambda$"
   ]
  },
  {
   "cell_type": "markdown",
   "metadata": {},
   "source": [
    "__Example__\n",
    "\n",
    "For an operator with given matrix $A$ find eigenvalues and eigenvectors.\n",
    "\n",
    "$A = \\begin{pmatrix}0 & 1 \\\\ -2 & -3 \\end{pmatrix}$\n",
    "\n",
    "$\\lambda_1 = -1,\\lambda_2 = -2; v_1=\\binom{-1}{1},v_2=\\binom{-1}{2}$\n",
    "\n",
    "proof:\n",
    "\n",
    "$Av_1 = \\begin{pmatrix} 0 & 1 \\\\ -2 & -3 \\end{pmatrix}\\begin{pmatrix} -1 \\\\ 1 \\end{pmatrix} = \\begin{pmatrix} 1 \\\\ -1 \\end{pmatrix} = \\lambda_1 v_1$\n",
    "\n",
    "$Av_2 = \\begin{pmatrix} 0 & 1 \\\\ -2 & -3 \\end{pmatrix}\\begin{pmatrix} -1 \\\\ 2 \\end{pmatrix} = \\begin{pmatrix} 2 \\\\ -4 \\end{pmatrix} = \\lambda_2 v_2$"
   ]
  }
 ],
 "metadata": {
  "kernelspec": {
   "display_name": "Python 3",
   "language": "python",
   "name": "python3"
  },
  "language_info": {
   "codemirror_mode": {
    "name": "ipython",
    "version": 3
   },
   "file_extension": ".py",
   "mimetype": "text/x-python",
   "name": "python",
   "nbconvert_exporter": "python",
   "pygments_lexer": "ipython3",
   "version": "3.6.9"
  }
 },
 "nbformat": 4,
 "nbformat_minor": 2
}
