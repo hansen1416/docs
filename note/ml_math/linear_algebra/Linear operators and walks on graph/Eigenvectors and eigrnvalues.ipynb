{
 "cells": [
  {
   "cell_type": "markdown",
   "metadata": {},
   "source": [
    "The number $\\lambda$ is called __eigenvalue__ of the linear operator $A: V \\to V$ if there exists a vector $v \\in V,v\\neq0$, such that $Av=\\lambda v$. Moreover, the vector $v$ is called __eigenvector__ corresponding to the eigenvalue of $\\lambda$"
   ]
  },
  {
   "cell_type": "markdown",
   "metadata": {},
   "source": [
    "__Example__\n",
    "\n",
    "For an operator with given matrix $A$ find eigenvalues and eigenvectors.\n",
    "\n",
    "$A = \\begin{pmatrix}0 & 1 \\\\ -2 & -3 \\end{pmatrix}$\n",
    "\n",
    "$\\lambda_1 = -1,\\lambda_2 = -2; v_1=\\binom{-1}{1},v_2=\\binom{-1}{2}$\n",
    "\n",
    "proof:\n",
    "\n",
    "$Av_1 = \\begin{pmatrix} 0 & 1 \\\\ -2 & -3 \\end{pmatrix}\\begin{pmatrix} -1 \\\\ 1 \\end{pmatrix} = \\begin{pmatrix} 1 \\\\ -1 \\end{pmatrix} = \\lambda_1 v_1$\n",
    "\n",
    "$Av_2 = \\begin{pmatrix} 0 & 1 \\\\ -2 & -3 \\end{pmatrix}\\begin{pmatrix} -1 \\\\ 2 \\end{pmatrix} = \\begin{pmatrix} 2 \\\\ -4 \\end{pmatrix} = \\lambda_2 v_2$"
   ]
  },
  {
   "cell_type": "markdown",
   "metadata": {},
   "source": [
    "__Determinant__\n",
    "\n",
    "A __determinant__ is a function of columns of matrix that is linear in each argument, skew-symmetric and equals one on identity matrix\n",
    "\n",
    "A function $f$ is a determinant if it is:\n",
    "\n",
    "1. skew-symmetric:\n",
    "$f(\\dots,A_i,\\dots,A_j,\\dots) = -f(\\dots,A_j,\\dots,A_i,\\dots)$\n",
    "\n",
    "2. linear: $f(\\dots,\\alpha A^{\\prime}_i + A^{\\prime\\prime}_i, \\dots) = \\alpha f(\\dots, A^{\\prime}_i, \\dots) + f(\\dots, A^{\\prime\\prime}_i, \\dots)$ \n",
    "\n",
    "3. $f(I)=1$"
   ]
  },
  {
   "cell_type": "markdown",
   "metadata": {},
   "source": [
    "For the determinant, a recursion formula called Laplace expansion is useful. The determinant of the matrix A is equal to the following sum of the products of the elements of the $i$-th row($j$-th column) and the determinants of lower order"
   ]
  },
  {
   "cell_type": "markdown",
   "metadata": {},
   "source": [
    "$det A = \\sum^n_{j=1} a_{ij}\\cdot(-1)^{i+j} \\cdot M_{ij} = \\sum^n_{i=1} a_{ij}\\cdot(-1)^{i+j}\\cdot M_{ij}$\n",
    "\n",
    "Here determinant $M_{ij}$ is a __complementary minor__ of the element $a_{ij}$ i.e. determinant of the matrix of lower size, obtained from A by deleting $i$-th row and the $j$-th column.\n",
    "\n",
    "For $n=1$\n",
    "\n",
    "$det A = det a_{11} = a_{11}$"
   ]
  },
  {
   "cell_type": "markdown",
   "metadata": {},
   "source": [
    "$f \\begin{pmatrix} a_{11} & a_{12} \\\\ a_{21} & a_{22} \\end{pmatrix} = f \\Bigg( a_{11} \\cdot \\binom{1}{0} + a_{21} \\cdot \\binom{0}{1} , \\begin{matrix} a_{12} \\\\ a_{22} \\end{matrix} \\Bigg)$\n",
    "\n",
    "$ = a_{11} \\cdot f \\begin{pmatrix} 1 & a_{12} \\\\ 0 & a_{22} \\end{pmatrix} + a_{11} \\cdot f \\begin{pmatrix} 0 & a_{12} \\\\ 1 & a_{22} \\end{pmatrix}$\n",
    "\n",
    "$ = a_{11} \\cdot a_{22} \\cdot f \\begin{pmatrix} 1 & 0 \\\\ 0 & 1 \\end{pmatrix} + a_{21} \\cdot a_{12} \\cdot f \\begin{pmatrix} 0 & 1 \\\\ 1 & 0 \\end{pmatrix}$\n",
    "\n",
    "$ = (a_{11} \\cdot a_{22} - a_{21} \\cdot a_{12}) \\cdot f \\begin{pmatrix} 1 & 0 \\\\ 0 & 1 \\end{pmatrix} $\n",
    "\n",
    "$ = (a_{11} \\cdot a_{22} - a_{21} \\cdot a_{12}) = det A$"
   ]
  },
  {
   "cell_type": "markdown",
   "metadata": {},
   "source": [
    "The determinant could have an interpretation as an oriented volume. For example if we have two vectors given by coordinates in orthonomal basis:\n",
    "\n",
    "$v_1=\\binom{a}{b}$ and $v_2=\\binom{c}{d}$\n",
    "\n",
    "then the oriented area of parallelogram on $v_1$ abd $v_2$ is equal to $ad-bc$"
   ]
  },
  {
   "cell_type": "markdown",
   "metadata": {},
   "source": [
    "__Existence of a non-trivial solution for a SLAE__\n",
    "\n",
    "Criterion for the existence of a non-trivial solution for a homoheneous system of linear equations.\n",
    "\n",
    "The homogeneous SLAE $Ax=0$ has a nonzero solution $\\iff$ the matrix $A$ is degenerate, that is,\n",
    "\n",
    "$detA = 0$\n",
    "\n",
    "__example__\n",
    "\n",
    "Does $\\begin{pmatrix} 1 & 2 \\\\ 0 & -1 \\end{pmatrix}$ have a non-zero solution?\n",
    "\n",
    "No, $det\\, A = -1$"
   ]
  },
  {
   "cell_type": "markdown",
   "metadata": {},
   "source": [
    "__Characteristic polynomial__\n",
    "\n",
    "$det(A-\\lambda I) = 0$\n",
    "\n",
    "__example__\n",
    "\n",
    "What is the characteristic polynomial of $\\begin{pmatrix} 2 & -3  \\end{pmatrix}$\n",
    "\n",
    "__Theorem__\n",
    "\n",
    "$\\lambda$ is an eigenvalue of the liear operator $\\iff; \\lambda$ is the root of the characteristic equation (if all roots belong to the field that we consider)\n",
    "\n",
    "_Proof_ Since $Ax=\\lambda x$ could be rewritten as $(A-\\lambda I)x = 0$ and should have non-zero solution $x$, we could apply the criterion for the existence of a non-trivial solution for a homogenoeous system of linear equations"
   ]
  },
  {
   "cell_type": "markdown",
   "metadata": {},
   "source": [
    "__Algebraic and geometric multiplicities of and eigenvalue__\n",
    "\n",
    "__Algebraic multiplicity__ of an eigenvalue $\\lambda$ is the multiplicity of $\\lambda$ as the root of the characteristic equation. \n",
    "\n",
    "The number of linearly independent eigenvectors that have the eigenvalue $\\lambda$ is called __geometric multiplicity__ of $\\lambda$.\n",
    "\n",
    "The geometric multiplicity of the eigenvalues does not exceed its algebraic multiplicity.\n",
    "\n",
    "__example__\n",
    "\n",
    "Let $A = \\begin{pmatrix} -3 & -1 & -2 \\\\ 1 & -1 & 1 \\\\ 1 & 1 & 0 \\end{pmatrix}$\n",
    "\n",
    "$\\begin{vmatrix} -3-\\lambda & -1 & -2 \\\\ 1 & -1-\\lambda & 1 \\\\ 1 & 1 & -\\lambda \\end{vmatrix} = -(\\lambda+1)^2(\\lambda+2)$.\n",
    "\n",
    "$A$ has 2 distinct eigenvalues: $\\lambda_1 = -1$ of algebraic multiplicity two, and $\\lambda_2=-2$ of algebraic multiplicity one.\n"
   ]
  }
 ],
 "metadata": {
  "kernelspec": {
   "display_name": "Python 3",
   "language": "python",
   "name": "python3"
  },
  "language_info": {
   "codemirror_mode": {
    "name": "ipython",
    "version": 3
   },
   "file_extension": ".py",
   "mimetype": "text/x-python",
   "name": "python",
   "nbconvert_exporter": "python",
   "pygments_lexer": "ipython3",
   "version": "3.6.9"
  }
 },
 "nbformat": 4,
 "nbformat_minor": 2
}
