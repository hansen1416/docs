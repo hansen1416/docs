{
 "cells": [
  {
   "cell_type": "markdown",
   "metadata": {},
   "source": [
    "Starting from an arbitrary page, we choose at an random edge from the vertex at each step.  \n",
    "What will happen after $k$ steps?\n",
    "\n",
    "Let us consider a matrix where each __column__ represents the __departing page__ and each __row__ represents the __page where we arrive__.\n",
    "\n",
    "A matrix $P$ is called __Markov transition matrix__ if the sum of entries of any column of $P$ is equal to one and all entries are nonnegative."
   ]
  },
  {
   "cell_type": "markdown",
   "metadata": {},
   "source": [
    "$\n",
    "\\begin{pmatrix}\n",
    "0 & \\frac{1}{2} & \\frac{1}{3} & \\frac{1}{2} & 0 & 0 \\\\\n",
    "\\frac{1}{2} & 0 & 0 & 0 & \\frac{1}{4} & 0 \\\\\n",
    "\\frac{1}{2} & \\frac{1}{2} & 0 & 0 & \\frac{1}{4} & 0 \\\\\n",
    "0 & 0 & \\frac{1}{3} & 0 & \\frac{1}{4} & 1 \\\\\n",
    "0 & 0 & \\frac{1}{3} & 0 & 0 & 0 \\\\\n",
    "0 & 0 & 0 & \\frac{1}{2} & \\frac{1}{4} & 0 \\\\\n",
    "\\end{pmatrix}\n",
    "$"
   ]
  },
  {
   "cell_type": "markdown",
   "metadata": {},
   "source": [
    "The probabilities after $k$ steps can be summarized in the matrix $P^k$, because the formula for conditional probability coincides with formula for matrix multiplication"
   ]
  },
  {
   "cell_type": "markdown",
   "metadata": {},
   "source": [
    "__Frobenius Theorem__\n",
    "\n",
    "Let us consider a Markov transition matrix $P$. Then \n",
    "1. $\\lambda = 1$ is an eigenvalue of $P$\n",
    "2. Any eigenvalue $\\lambda$ of $P$ satisfies $|\\lambda| \\leq 1$\n",
    "3. There exists an eigenvector $g$ of the eigenvalue 1, all the coordinates of which are greater than or equal to zero."
   ]
  },
  {
   "cell_type": "markdown",
   "metadata": {},
   "source": [
    "__PageRank algorithm__\n",
    "\n"
   ]
  }
 ],
 "metadata": {
  "kernelspec": {
   "display_name": "Python 3",
   "language": "python",
   "name": "python3"
  },
  "language_info": {
   "codemirror_mode": {
    "name": "ipython",
    "version": 3
   },
   "file_extension": ".py",
   "mimetype": "text/x-python",
   "name": "python",
   "nbconvert_exporter": "python",
   "pygments_lexer": "ipython3",
   "version": "3.6.9"
  }
 },
 "nbformat": 4,
 "nbformat_minor": 2
}
