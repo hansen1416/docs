{
 "cells": [
  {
   "cell_type": "markdown",
   "metadata": {},
   "source": [
    "A __determinant__ is a function of columns of matrix that is linear in each argument, skew-symmetric and equals one on identity matrix\n",
    "\n",
    "A function $f$ is a determinant if it is:\n",
    "\n",
    "1. skew-symmetric:\n",
    "$f(\\dots,A_i,\\dots,A_j,\\dots) = -f(\\dots,A_j,\\dots,A_i,\\dots)$\n",
    "\n",
    "2. linear: $f(\\dots,\\alpha A^{\\prime}_i + A^{\\prime\\prime}_i, \\dots) = \\alpha f(\\dots, A^{\\prime}_i, \\dots) + f(\\dots, A^{\\prime\\prime}_i, \\dots)$ \n",
    "\n",
    "3. $f(I)=1$"
   ]
  },
  {
   "cell_type": "markdown",
   "metadata": {},
   "source": [
    "For the determinant, a recursion formula called Laplace expansion is useful. The determinant of the matrix A is equal to the following sum of the products of the elements of the $i$-th row($j$-th column) and the determinants of lower order"
   ]
  },
  {
   "cell_type": "markdown",
   "metadata": {},
   "source": [
    "$det A = \\sum^n_{j=1} a_{ij}\\cdot(-1)^{i+j} \\cdot M_{ij} = \\sum^n_{i=1} a_{ij}\\cdot(-1)^{i+j}\\cdot M_{ij}$\n",
    "\n",
    "Here determinant $M_{ij}$ is a __complementary minor__ of the element $a_{ij}$ i.e. determinant of the matrix of lower size, obtained from A by deleting $i$-th row and the $j$-th column.\n",
    "\n",
    "For $n=1$\n",
    "\n",
    "$det A = det a_{11} = a_{11}$"
   ]
  },
  {
   "cell_type": "markdown",
   "metadata": {},
   "source": [
    "$f \\begin{pmatrix} a_{11} & a_{12} \\\\ a_{21} & a_{22} \\end{pmatrix} = f \\Bigg( a_{11} \\cdot \\binom{1}{0} + a_{21} \\cdot \\binom{0}{1} , \\begin{matrix} a_{12} \\\\ a_{22} \\end{matrix} \\Bigg)$\n",
    "\n",
    "$ = a_{11} \\cdot f \\begin{pmatrix} 1 & a_{12} \\\\ 0 & a_{22} \\end{pmatrix} + a_{11} \\cdot f \\begin{pmatrix} 0 & a_{12} \\\\ 1 & a_{22} \\end{pmatrix}$\n",
    "\n",
    "$ = a_{11} \\cdot a_{22} \\cdot f \\begin{pmatrix} 1 & 0 \\\\ 0 & 1 \\end{pmatrix} + a_{21} \\cdot a_{12} \\cdot f \\begin{pmatrix} 0 & 1 \\\\ 1 & 0 \\end{pmatrix}$\n",
    "\n",
    "$ = (a_{11} \\cdot a_{22} - a_{21} \\cdot a_{12}) \\cdot f \\begin{pmatrix} 1 & 0 \\\\ 0 & 1 \\end{pmatrix} $\n",
    "\n",
    "$ = (a_{11} \\cdot a_{22} - a_{21} \\cdot a_{12}) = det A$"
   ]
  },
  {
   "cell_type": "markdown",
   "metadata": {},
   "source": [
    "The determinant could have an interpretation as an oriented volume. For example if we have two vectors given by coordinates in orthonomal basis:\n",
    "\n",
    "$v_1=\\binom{a}{b}$ and $v_2=\\binom{c}{d}$\n",
    "\n",
    "then the oriented area of parallelogram on $v_1$ abd $v_2$ is equal to $ad-bc$"
   ]
  }
 ],
 "metadata": {
  "kernelspec": {
   "display_name": "Python 3",
   "language": "python",
   "name": "python3"
  },
  "language_info": {
   "codemirror_mode": {
    "name": "ipython",
    "version": 3
   },
   "file_extension": ".py",
   "mimetype": "text/x-python",
   "name": "python",
   "nbconvert_exporter": "python",
   "pygments_lexer": "ipython3",
   "version": "3.6.9"
  }
 },
 "nbformat": 4,
 "nbformat_minor": 2
}
