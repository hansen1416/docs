{
 "cells": [
  {
   "cell_type": "markdown",
   "metadata": {},
   "source": [
    "$\n",
    "\\begin{pmatrix}\n",
    "0 & 0 & 1 & 1 \\\\\n",
    "0 & 1 & 0 & 1 \\\\\n",
    "1 & 0 & 0 & 0 \\\\\n",
    "1 & 0 & 1 & 1 \\\\\n",
    "\\end{pmatrix}\n",
    "$\n",
    "\n",
    "Let 4 vertexes $a, b, c, d$, each column in the adjacency matrix represent the path of corresponding vertex to the other vertexes. \n",
    "\n",
    "So we have a Markov transion matrix $P$\n",
    "\n",
    "$\n",
    "\\begin{pmatrix}\n",
    "0 & 0 & \\frac{1}{2} & \\frac{1}{3} \\\\\n",
    "0 & 1 & 0 & \\frac{1}{3} \\\\\n",
    "\\frac{1}{2} & 0 & 0 & 0 \\\\\n",
    "\\frac{1}{2} & 0 & \\frac{1}{2} & \\frac{1}{3} \\\\\n",
    "\\end{pmatrix}\n",
    "$\n",
    "\n",
    "We consider the $4 \\times 4$ matrix $Q$, with all entries euqal to $\\frac{1}{4}$\n",
    "\n",
    "Let $P_\\alpha = (1-\\alpha)P+\\alpha Q$, for some small $\\alpha\\in[0,1]$, $P_\\alpha$ is still a Markov transion matrix.\n",
    "\n",
    "For matrix $P_{0.5} = \n",
    "\\frac{1}{2}\\begin{pmatrix}0&0&\\frac{1}{2}&\\frac{1}{3}\\\\ 0&1&0&\\frac{1}{3}\\\\ \\frac{1}{2}&0&0&0\\\\ \\frac{1}{2}&0&\\frac{1}{2}&\\frac{1}{3}\\end{pmatrix}\n",
    "+\\frac{1}{2}\\begin{pmatrix}\\frac{1}{4}&\\frac{1}{4}&\\frac{1}{4}&\\frac{1}{4}\\\\ \\frac{1}{4}&\\frac{1}{4}&\\frac{1}{4}&\\frac{1}{4}\\\\ \\frac{1}{4}&\\frac{1}{4}&\\frac{1}{4}&\\frac{1}{4}\\\\ \\frac{1}{4}&\\frac{1}{4}&\\frac{1}{4}&\\frac{1}{4}\\end{pmatrix} \n",
    "= \\begin{pmatrix}\\frac{1}{8}&\\frac{1}{8}&\\frac{3}{8}&\\frac{7}{24}\\\\ \\frac{1}{8}&\\frac{5}{8}&\\frac{1}{8}&\\frac{7}{24}\\\\ \\frac{3}{8}&\\frac{1}{8}&\\frac{1}{8}&\\frac{1}{8}\\\\ \\frac{3}{8}&\\frac{1}{8}&\\frac{3}{8}&\\frac{7}{24}\\end{pmatrix}$\n",
    "\n",
    "Let $v_1$ be the eigenvector of eigenvalue $\\lambda_1=1$\n",
    "\n",
    "$(P_{0.5} - I)v_1=0$\n",
    "\n",
    "$\n",
    "\\begin{pmatrix}\n",
    "-\\frac{7}{8}&\\frac{1}{8}&\\frac{3}{8}&\\frac{7}{24}&0\\\\ \n",
    "\\frac{1}{8}&-\\frac{3}{8}&\\frac{1}{8}&\\frac{7}{24}&0\\\\ \n",
    "\\frac{3}{8}&\\frac{1}{8}&-\\frac{7}{8}&\\frac{1}{8}&0\\\\ \n",
    "\\frac{3}{8}&\\frac{1}{8}&\\frac{3}{8}&-\\frac{17}{24}&0\n",
    "\\end{pmatrix}\n",
    "\\overrightarrow{Gaussian Elimination}\n",
    "\\begin{pmatrix}\n",
    "1 & 0 & 0 & -\\frac{4}{5}&0 \\\\ \n",
    "0 & 1 & 0 & -\\frac{19}{15}&0 \\\\ \n",
    "0 & 0 & 1 & -\\frac{2}{3}&0 \\\\ \n",
    "0 & 0 & 0 & 0 &0\\\\ \n",
    "\\end{pmatrix}\n",
    "$"
   ]
  },
  {
   "cell_type": "markdown",
   "metadata": {},
   "source": [
    "$\n",
    "\\implies\n",
    "\\begin{cases}\n",
    "x_1=\\frac{4}{5}x_4 \\\\\n",
    "x_2=\\frac{19}{15}x_4 \\\\\n",
    "x_3=\\frac{2}{3}x_4 \\\\\n",
    "\\end{cases}\n",
    "\\implies\n",
    "X = x_4\n",
    "\\begin{pmatrix}\n",
    "\\frac{4}{5} \\\\\n",
    "\\frac{19}{15} \\\\\n",
    "\\frac{2}{3} \\\\\n",
    "1\n",
    "\\end{pmatrix}\n",
    "\\implies\n",
    "v_1=\\begin{pmatrix}\n",
    "\\frac{4}{5} \\\\\n",
    "\\frac{19}{15} \\\\\n",
    "\\frac{2}{3} \\\\\n",
    "1\n",
    "\\end{pmatrix}\n",
    "$"
   ]
  },
  {
   "cell_type": "markdown",
   "metadata": {},
   "source": [
    "Which means that the most influenced vertex is vertext $b$"
   ]
  }
 ],
 "metadata": {
  "kernelspec": {
   "display_name": "Python 3",
   "language": "python",
   "name": "python3"
  },
  "language_info": {
   "codemirror_mode": {
    "name": "ipython",
    "version": 3
   },
   "file_extension": ".py",
   "mimetype": "text/x-python",
   "name": "python",
   "nbconvert_exporter": "python",
   "pygments_lexer": "ipython3",
   "version": "3.6.9"
  }
 },
 "nbformat": 4,
 "nbformat_minor": 2
}
