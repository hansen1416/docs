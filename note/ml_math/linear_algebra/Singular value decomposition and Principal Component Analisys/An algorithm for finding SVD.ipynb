{
 "cells": [
  {
   "cell_type": "markdown",
   "metadata": {},
   "source": [
    "Let $A$ be an $m \\times n$ matrix. How to construct the matrices $\\Sigma, U, V$ such that\n",
    "\n",
    "$A = U \\Sigma V^T$\n",
    "\n",
    "1\\. Find the matrix $B=A^TA$ and all its eigenvalues $\\lambda_1 = \\lambda_1(B),\\dots,\\lambda_n=\\lambda_n(B)$.  \n",
    "Rearrange the eigenvalues in the descending order, so that $\\lambda_1 \\ge \\dots \\ge \\lambda_n$.  \n",
    "Find the singular values of $A$ as $\\sigma_1= \\sqrt{\\lambda_1},\\dots,\\sigma_n = \\sqrt{\\lambda_n}$  \n",
    "\n",
    "Construct the matrix $\\Sigma = \\begin{pmatrix} \\sigma_1 & \\dots & 0 \\\\ \\vdots & \\ddots & \\vdots \\\\ 0 & \\dots & \\sigma_n \\end{pmatrix}$\n",
    "\n",
    "2\\. Find a collection $b=\\{b_1,\\dots,b_n\\}$ of $n$ linearly independent eigenvectors of the matrix $B=A^TA$, where for each $i$ the eigenvector $b_i$ corresponds to $\\lambda_i$  \n",
    "Apply the Gram-Schmidt orthogonalization process to $b$ and obtain an orthonormal basis $\\{V^1,\\dots,V^n\\}$  \n",
    "Compose the matrix $V$ using these vectors $V^1,\\dots,V^n$ as columns:\n",
    "\n",
    "$V=(V^1,\\dots,V^n)$\n",
    "\n",
    "So, $V$ is the third multiplier in $A = U \\Sigma V^T$\n",
    "\n",
    "3\\. _ides._ In the case of non-degenerate sqaure $A$, we deduce from $A=U \\Sigma V^T$ that $U= A\\Sigma^-1 V$, or $U^i = \\sigma^{-1}_{i}AV^i$ (_The ith column of U is just the multiplication of the inverse the ith Sigma by the matrix A, by the ith column or columns of V_)  \n",
    "\n",
    "Suppose $r = rank A$. Then $\\sigma_1 > \\dotsm > \\sigma_r > 0$ and $\\sigma_{r+1} = \\dotsm = \\sigma_n = 0$.  \n",
    "For each $i = 1, \\dots, r $, put $U^i = \\sigma^{-1}_iAV^{i}$\n",
    "\n",
    "Choose any vectors $U^{r+1}, \\dots, U^{m}$ such that the set $U^{1}, \\dots , U^{m}$ form an orthonormal basis of $\\mathbb{R}^m$\n",
    "\n",
    "Compose the matrix $U$ using these vectors $U^{1}, \\dots , U^{m}$ as columns: $U=(U^1 \\dotsm U^m)$"
   ]
  },
  {
   "cell_type": "markdown",
   "metadata": {},
   "source": [
    "__example__\n",
    "\n",
    "Let's consider a matrix $A$ and find its SVD decomposition.\n",
    "\n",
    "$A = \\begin{pmatrix} -2 & -4 \\\\ 1 & -4 \\\\ -2 & 2 \\end{pmatrix}$\n",
    "\n",
    "First find $A^TA$\n",
    "\n",
    "$A^TA = \\begin{pmatrix} 9 & 0 \\\\ 0 & 36 \\end{pmatrix}$. and easy to see its two eigenvalues $\\lambda_1 = 36, \\lambda_2 = 9 $\n",
    "\n",
    "This way\n",
    "\n",
    "$\\Sigma = \\begin{pmatrix} \\sqrt{36} & 0 \\\\ 0 & \\sqrt{9} \\\\ 0 & 0 \\end{pmatrix}\n",
    "= \\begin{pmatrix} 6 & 0 \\\\ 0 & 3 \\\\ 0 & 0 \\end{pmatrix}$\n",
    "\n",
    "The corresponding eigenvectors are $V^1 = \\begin{pmatrix} 0 \\\\ 1 \\end{pmatrix}, V^2 = \\begin{pmatrix} 1 \\\\ 0 \\end{pmatrix}$ that already form an orthonormal basis, (ortherwise we need to apply Gram-Shmidt to find orthonormal basis)\n",
    "\n",
    "$V^T = V = \\begin{pmatrix}0 & 1 \\\\ 1 & 0\\end{pmatrix}$\n",
    "\n",
    "Then \n",
    "\n",
    "$U^1 = \\sigma^{-1}_1 AV^{1} = 6^{-1} \\begin{pmatrix} -2 & -4 \\\\ 1 & -4 \\\\ -2 & 2 \\end{pmatrix}\\begin{pmatrix} 0 \\\\ 1 \\end{pmatrix}=6^{-1}\\begin{pmatrix} -4 \\\\ -4 \\\\ 2 \\end{pmatrix}=\\begin{pmatrix} \\frac{-2}{3} \\\\ \\frac{-2}{3} \\\\ \\frac{1}{3} \\end{pmatrix}$\n",
    "\n",
    "\n",
    "$U^2 = \\sigma^{-1}_2 AV^{2} = 3^{-1} \\begin{pmatrix} -2 & -4 \\\\ 1 & -4 \\\\ -2 & 2 \\end{pmatrix}\\begin{pmatrix} 1 \\\\ 0 \\end{pmatrix}=3^{-1}\\begin{pmatrix} -2 \\\\ 1 \\\\ -2 \\end{pmatrix}=\\begin{pmatrix} \\frac{-2}{3} \\\\ \\frac{1}{3} \\\\ \\frac{-2}{3} \\end{pmatrix}$\n",
    "\n",
    "To get $U^3$, let us find the orthogonal complement to the span of the vectors $U^1, U^2$.\n",
    "\n",
    "If $U^3 = \\begin{pmatrix} x \\\\ y \\\\ z \\end{pmatrix}$, then we have $\\begin{cases} (U^1, U^3) = 0 \\\\ (U^2, U^3) = 0 \\end{cases}$ or $\\begin{cases} -2x-2y+z = 0 \\\\ -2x+y-2z = 0 \\end{cases}$\n",
    "\n",
    "We get $U^3 = \\alpha \\begin{pmatrix} -1 \\\\ 2 \\\\ 2 \\end{pmatrix}$\n",
    "\n",
    "Since $|U^3| = 1$, we deduce $\\alpha = \\pm \\frac{1}{3}$, (_we are free to choose any $\\alpha$_)\n",
    "\n",
    "Take $\\alpha = \\frac{1}{3}$ and $U^3 = \\begin{pmatrix} -\\frac{1}{3} \\\\ \\frac{2}{3} \\\\ \\frac{2}{3} \\end{pmatrix}$\n",
    "\n",
    "Thus we have \n",
    "\n",
    "$U = \\begin{pmatrix} \\frac{-2}{3} & \\frac{-2}{3} & -\\frac{1}{3} \\\\ \\frac{-2}{3} & \\frac{1}{3} & \\frac{2}{3} \\\\ \\frac{1}{3} & \\frac{-2}{3} & \\frac{2}{3} \\end{pmatrix}$, \n",
    "$\\Sigma = \\begin{pmatrix} 6 & 0 \\\\ 0 & 3 \\\\ 0 & 0 \\end{pmatrix}$, \n",
    "$V^T =\\begin{pmatrix}0 & 1 \\\\ 1 & 0\\end{pmatrix}$"
   ]
  },
  {
   "cell_type": "code",
   "execution_count": 2,
   "metadata": {},
   "outputs": [],
   "source": [
    "import numpy as np\n",
    "\n",
    "A = np.array([\n",
    "        [-2,-4],\n",
    "        [1,-4],\n",
    "        [-2,2],\n",
    "    ])\n",
    "\n",
    "U, Sigma, Vtransposed = np.linalg.svd(A)"
   ]
  }
 ],
 "metadata": {
  "kernelspec": {
   "display_name": "Python 3",
   "language": "python",
   "name": "python3"
  },
  "language_info": {
   "codemirror_mode": {
    "name": "ipython",
    "version": 3
   },
   "file_extension": ".py",
   "mimetype": "text/x-python",
   "name": "python",
   "nbconvert_exporter": "python",
   "pygments_lexer": "ipython3",
   "version": "3.6.9"
  }
 },
 "nbformat": 4,
 "nbformat_minor": 2
}
