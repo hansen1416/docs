{
 "cells": [
  {
   "cell_type": "markdown",
   "metadata": {},
   "source": [
    "__Singular value decomposition (SVD) for square matrices__\n",
    "\n",
    "Let $A$ be a sqaure matrix of size $n \\times n$. Then \n",
    "\n",
    "$A=U\\Sigma V^T$\n",
    "\n",
    "where $U$ and $V$ are two orthogonal matrices of the same size $n \\times n$ and \n",
    "\n",
    "$\\Sigma = \\begin{pmatrix} \\sigma_1 & 0 & 0 \\\\ 0 & \\ddots & 0 \\\\ 0 & 0 & \\sigma_n \\end{pmatrix}$\n",
    "\n",
    "is the diagonal matrix containing all singular values of $A$."
   ]
  },
  {
   "cell_type": "markdown",
   "metadata": {},
   "source": [
    "__SVD for rectangular matrices__\n",
    "\n",
    "Let $A$ be of size $m \\times n$, and let $\\Sigma$ be a rectangular disgonal matrix of size $m \\times n$, that is $\\Sigma$ is either \n",
    "\n",
    "$\\begin{pmatrix} \\sigma_1 & 0 & 0 \\\\ 0 & \\ddots & 0 \\\\ 0 & 0 & \\sigma_n \\\\ \\vdots & \\dots & \\vdots \\\\ 0 & \\dots & 0 \\end{pmatrix}$ or $\\begin{pmatrix} \\sigma_1 & 0 & 0 & \\dots & 0 \\\\ 0 & \\ddots & 0 & \\dots & \\vdots \\\\ 0 & 0 & \\sigma_n & \\dots & 0 \\end{pmatrix}$. Then\n",
    "\n",
    "$A=U\\Sigma V^T$\n",
    "\n",
    "where $U$ os size $m \\times m$ and $V$ of size $n \\times n$ are two orthogonal matrices"
   ]
  },
  {
   "cell_type": "markdown",
   "metadata": {},
   "source": [
    "__example__\n",
    "\n",
    "Let $A = (1\\;1\\;1)$. We have found that $\\sigma_1 = \\sqrt{3}, \\sigma_2=\\sigma_3=0$, so that\n",
    "\n",
    "$\\Sigma=(\\sqrt{3}\\;0\\;0)$\n",
    "\n",
    "Then $U$ is a $1\\times 1$ orthogonal matrix, so that $V$=(1)(op to a sign, or -1). Then one can deduce that SVD of the matrix $A$ is $A=U\\Sigma V^T$, where \n",
    "\n",
    "$V=\\begin{pmatrix} \n",
    "\\frac{1}{\\sqrt{3}} & \\frac{1}{\\sqrt{2}} & \\frac{1}{\\sqrt{6}} \\\\\n",
    "\\frac{1}{\\sqrt{3}} & \\frac{-1}{\\sqrt{2}} & \\frac{1}{\\sqrt{6}} \\\\\n",
    "\\frac{1}{\\sqrt{3}} & 0 & \\frac{-2}{\\sqrt{6}} \\\\\n",
    "\\end{pmatrix}$"
   ]
  },
  {
   "cell_type": "markdown",
   "metadata": {},
   "source": [
    "__Spectral theorem and SVD__\n",
    "\n",
    "Let $\\Sigma = \\begin{pmatrix} |\\lambda_1| & 0 & 0 \\\\ 0 & \\ddots & 0 \\\\ 0 & 0 & |\\lambda_n| \\end{pmatrix}$\n",
    "\n",
    "and $P=\\begin{pmatrix} \\pm1 & 0 & 0 \\\\ 0 & \\ddots & 0 \\\\ 0 & 0 & \\pm1 \\end{pmatrix}$ (minus sign in the i-th places if $\\lambda_i < 0$). Then $\\Lambda = \\Sigma P$ and\n",
    "\n",
    "$A=U\\Lambda U^T = U\\Sigma P U^T =  U\\Sigma V^T$\n",
    "\n",
    "where $U$ and $V=UP$ are orthogonal\n",
    "\n",
    "_Remark_. Given an SVD $A=U\\Sigma V^T$, we get a spectral decomposition of the matrix $A^TA$ as \n",
    "\n",
    "$A^TA = (U\\Sigma V^T)^T U\\Sigma V^T = V\\Sigma U^T U\\Sigma V^T = V\\Sigma^2 V^T $\n",
    "\n",
    "where $\\Sigma^2 = \\Lambda = \\begin{pmatrix} \\sigma_1^2 & 0 & 0 \\\\ 0 & \\ddots & 0 \\\\ 0 & 0 & \\sigma_n^2 \\end{pmatrix}$ . \n",
    "\n",
    "So the orthogonal matrix $V$ consists of the eigenvectors of $A^TA$\n",
    "\n",
    "Analogously, $U$ consists of the eigenvectors of $AA^T$"
   ]
  }
 ],
 "metadata": {
  "kernelspec": {
   "display_name": "Python 3",
   "language": "python",
   "name": "python3"
  },
  "language_info": {
   "codemirror_mode": {
    "name": "ipython",
    "version": 3
   },
   "file_extension": ".py",
   "mimetype": "text/x-python",
   "name": "python",
   "nbconvert_exporter": "python",
   "pygments_lexer": "ipython3",
   "version": "3.6.9"
  }
 },
 "nbformat": 4,
 "nbformat_minor": 2
}
