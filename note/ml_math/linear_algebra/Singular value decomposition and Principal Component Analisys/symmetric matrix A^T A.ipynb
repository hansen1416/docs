{
 "cells": [
  {
   "cell_type": "markdown",
   "metadata": {},
   "source": [
    "Recall spectral theorem \n",
    "\n",
    "__For any symmetric matrix__ $M$, there exists and __orthogonal matrix__ $U$ such that $M=U\\Lambda U^T$.\n",
    "\n",
    "Does there exist a similar decomposition for a non-symmetric quadratic matrix A?\n",
    "\n",
    "Does there exist a similar decomposition for a rectangular matrix A?"
   ]
  },
  {
   "cell_type": "markdown",
   "metadata": {},
   "source": [
    "__Proposition__. Let A be an arbitrary (rectangluar) matrix. Then the matrix $A^TA$ is square and symmetric\n",
    "\n",
    "$(A^TA)^T=A^T(A^T)^T=A^TA$\n",
    "\n",
    "This means that $A^TA$ is symmetric"
   ]
  },
  {
   "cell_type": "markdown",
   "metadata": {},
   "source": [
    "__Lemma__\n",
    "\n",
    "The eigenvalues $\\lambda_1,\\dots,\\lambda_n$ of the matrox $A^TA$ are non-negative\n",
    "\n",
    "_Proof_. Let $A^TAx=\\lambda_i x$ (where $x\\neq0$ is an eigenvector). Then\n",
    "\n",
    "$x^TA^TAx=\\lambda_i x^Tx$,\n",
    "\n",
    "$\\langle Ax,Ax \\rangle=\\lambda_i \\langle x,x \\rangle$,\n",
    "\n",
    "$\\parallel Ax \\parallel^2 = \\lambda_i \\parallel x\\parallel^2$\n",
    "\n",
    "so that $\\lambda_i = \\parallel Ax \\parallel^2 / \\parallel x \\parallel^2 \\geq 0 $"
   ]
  },
  {
   "cell_type": "markdown",
   "metadata": {},
   "source": [
    "__Singular values__\n",
    "\n",
    "__Definition__. The square roots $\\sigma_i = \\sqrt{\\lambda_i}$ of the eigenvalues $\\lambda_1, \\dots , \\lambda_n$ of the matrix $A^TA$ are called singular values of the matrix $A$.\n",
    "\n",
    "They are usually ordered as \n",
    "\n",
    "$\\sigma_1 \\geq \\sigma_2 \\geq \\dots \\geq \\sigma_n \\geq 0$\n",
    "\n",
    "_Remark_. if $A=A^T$ is a symmetrix square matrix, then the singular values are equal to the absolute values of the eigenvalues of $A$. $(AA^T=A^2)$"
   ]
  },
  {
   "cell_type": "markdown",
   "metadata": {},
   "source": [
    "__example__\n",
    "\n",
    "Let $A=(1\\; 1\\; 1)$. Then the matrix\n",
    "\n",
    "$A^TA = \\begin{pmatrix} 1\\\\ 1\\\\ 1 \\end{pmatrix}\\begin{pmatrix} 1 & 1 & 1 \\end{pmatrix} \n",
    "= \\begin{pmatrix} 1 & 1 & 1 \\\\ 1 & 1 & 1 \\\\ 1 & 1 & 1  \\end{pmatrix}$\n",
    "\n",
    "have eigenvalues 3,0,0, so that the singular values of $A$ are $\\sigma_1=\\sqrt{3}, \\sigma_2=0, \\sigma_3=0$"
   ]
  }
 ],
 "metadata": {
  "kernelspec": {
   "display_name": "Python 3",
   "language": "python",
   "name": "python3"
  },
  "language_info": {
   "codemirror_mode": {
    "name": "ipython",
    "version": 3
   },
   "file_extension": ".py",
   "mimetype": "text/x-python",
   "name": "python",
   "nbconvert_exporter": "python",
   "pygments_lexer": "ipython3",
   "version": "3.6.9"
  }
 },
 "nbformat": 4,
 "nbformat_minor": 2
}
