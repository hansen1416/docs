{
 "cells": [
  {
   "cell_type": "markdown",
   "metadata": {},
   "source": [
    "We know linear operator $f$ transforms\n",
    "\n",
    "$\\begin{pmatrix} 2 \\\\ -1 \\end{pmatrix} \\to \\begin{pmatrix} 2 \\\\ 4 \\end{pmatrix}$\n",
    "and\n",
    "$\\begin{pmatrix} -3 \\\\ 2 \\end{pmatrix} \\to \\begin{pmatrix} -1 \\\\ -2 \\end{pmatrix}$\n",
    "\n",
    "Let $\\;f = \\begin{pmatrix} x_1 & y_1 \\\\ x_2 & y_2 \\end{pmatrix} $\n",
    "\n",
    "Thus\n",
    "\n",
    "$\\begin{pmatrix} x_1 & y_1 \\\\ x_2 & y_2 \\end{pmatrix} \\cdot \\begin{pmatrix} 2 \\\\ -1 \\end{pmatrix} = \\begin{pmatrix} 2 \\\\ 4 \\end{pmatrix}$\n",
    "and\n",
    "$\\begin{pmatrix} x_1 & y_1 \\\\ x_2 & y_2 \\end{pmatrix} \\cdot \\begin{pmatrix} -3 \\\\ 2 \\end{pmatrix} = \\begin{pmatrix} -1 \\\\ -2 \\end{pmatrix}$\n",
    "\n",
    "$\\implies\n",
    "\\begin{cases}\n",
    "2x_1-y_1=2 \\\\\n",
    "2x_2-y_2=4 \\\\\n",
    "-3x_1+2y_1=-1 \\\\\n",
    "-3x_2+2y_2=-2 \\\\\n",
    "\\end{cases}\n",
    "\\implies\n",
    "\\begin{cases}\n",
    "x_1=3 \\\\\n",
    "x_2=6 \\\\\n",
    "y_1=4 \\\\\n",
    "y_2=8 \\\\\n",
    "\\end{cases}\n",
    "\\implies\n",
    "f = \\begin{pmatrix} 3 & 4 \\\\ 6 & 8 \\end{pmatrix}\n",
    "$\n",
    "\n",
    "To find the matrix of $f$ in the basis $\\{a,q\\}$\n",
    "\n",
    "the transformation matrix $T = \\begin{pmatrix} 2 & -1 \\\\ -1 & -2 \\end{pmatrix}$\n",
    "\n",
    "$T^{-1} = \\frac{1}{det(T)} \\cdot \\begin{pmatrix} -2 & 1 \\\\ 1 & 2 \\end{pmatrix} \n",
    "= \\begin{pmatrix} \\frac{2}{5} & -\\frac{1}{5} \\\\ -\\frac{1}{5} & -\\frac{2}{5} \\end{pmatrix}$\n",
    "\n",
    "$f^{\\prime}=T^{-1}fT=\\begin{pmatrix} \\frac{2}{5} & -\\frac{1}{5} \\\\ -\\frac{1}{5} & -\\frac{2}{5} \\end{pmatrix}\n",
    "\\begin{pmatrix} 3 & 4 \\\\ 6 & 8 \\end{pmatrix}\n",
    "\\begin{pmatrix} 2 & -1 \\\\ -1 & -2 \\end{pmatrix} = \\begin{pmatrix} 0 & 0 \\\\ -2 & 11 \\end{pmatrix}$\n",
    "\n",
    "So the matrix of $f$ in the basis $\\{a,q\\}$ is $\\begin{pmatrix} 0 & 0 \\\\ -2 & 11 \\end{pmatrix}$"
   ]
  }
 ],
 "metadata": {
  "kernelspec": {
   "display_name": "Python 3",
   "language": "python",
   "name": "python3"
  },
  "language_info": {
   "codemirror_mode": {
    "name": "ipython",
    "version": 3
   },
   "file_extension": ".py",
   "mimetype": "text/x-python",
   "name": "python",
   "nbconvert_exporter": "python",
   "pygments_lexer": "ipython3",
   "version": "3.6.9"
  }
 },
 "nbformat": 4,
 "nbformat_minor": 2
}
