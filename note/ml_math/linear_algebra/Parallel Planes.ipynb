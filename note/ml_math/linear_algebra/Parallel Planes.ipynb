{
 "cells": [
  {
   "cell_type": "markdown",
   "metadata": {},
   "source": [
    "two planes\n",
    "\n",
    "$\\alpha=a_1x+b_1y+c_1z+d_1=0$\n",
    "\n",
    "$\\beta=a_2x+b_2y+c_2z+d_2=0$"
   ]
  },
  {
   "cell_type": "markdown",
   "metadata": {},
   "source": [
    "$ \\vec{n_1} = (a_1,b_1,c_1) $\n",
    "\n",
    "$ \\vec{n_2} = (a_2,b_2,c_2) $"
   ]
  },
  {
   "cell_type": "markdown",
   "metadata": {},
   "source": [
    "$ \\vec{n_1} \\parallel \\vec{n_2} \\implies a_1:b_1:c_1 = a_2:b_2:c_2 $"
   ]
  },
  {
   "cell_type": "markdown",
   "metadata": {},
   "source": [
    "However when $\\frac{c_1}{c_2} = \\frac{d_1}{d_2}$ the two planes coincide"
   ]
  },
  {
   "cell_type": "markdown",
   "metadata": {},
   "source": [
    "Hence, the condition for the two planes to be parallel to each other is\n",
    "\n",
    "$ \\frac{a_1}{a_2} = \\frac{b_1}{b_2} = \\frac{c_1}{c_2}, \\frac{c_1}{c_2} \\ne \\frac{d_1}{d_2}$"
   ]
  }
 ],
 "metadata": {
  "kernelspec": {
   "display_name": "Python 3",
   "language": "python",
   "name": "python3"
  },
  "language_info": {
   "codemirror_mode": {
    "name": "ipython",
    "version": 3
   },
   "file_extension": ".py",
   "mimetype": "text/x-python",
   "name": "python",
   "nbconvert_exporter": "python",
   "pygments_lexer": "ipython3",
   "version": "3.6.9"
  }
 },
 "nbformat": 4,
 "nbformat_minor": 2
}
