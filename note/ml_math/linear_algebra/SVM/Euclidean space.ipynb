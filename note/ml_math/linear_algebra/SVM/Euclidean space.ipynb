{
 "cells": [
  {
   "cell_type": "markdown",
   "metadata": {},
   "source": [
    "Let $\\xi$ be a vector space, A function $\\langle x,y \\rangle$ which transforms a pair of vectors x and y to real numbers is called a _dot product_, if\n",
    "\n",
    "1. $\\langle x,y \\rangle = \\langle y, x \\rangle$ (symmetry)\n",
    "2. $\\langle \\alpha x + \\beta y, z \\rangle = \\alpha \\langle x, z \\rangle + \\beta \\langle y, z \\rangle $ (bilinearity)\n",
    "3. $\\langle x,x \\rangle > 0$ for all $x \\ne 0$ (positivity)\n",
    "\n",
    "A vector space with a dot product is called a _Euclidean space_"
   ]
  },
  {
   "cell_type": "markdown",
   "metadata": {},
   "source": [
    "A length of a vector x in a Euclidean space is $\\parallel x \\parallel = \\sqrt{\\langle x,x \\rangle}$\n",
    "Properties\n",
    "\n",
    "0. $\\parallel 0 \\parallel = 0$\n",
    "1. $\\parallel x \\parallel > 0 \\;for\\; x \\neq 0$\n",
    "2. $\\parallel \\alpha x \\parallel = \\parallel \\alpha \\parallel \\cdot \\parallel x \\parallel$\n",
    "3. $\\parallel x + y \\parallel \\leq \\parallel x \\parallel + \\parallel y \\parallel$"
   ]
  },
  {
   "cell_type": "markdown",
   "metadata": {},
   "source": [
    "An angle between two (nonzero) vectors x and y in a Euclidean space is \n",
    "\n",
    "$\\phi = arccos \\frac{\\langle x,y \\rangle}{\\parallel x\\parallel \\cdot \\parallel y\\parallel}$\n",
    "\n",
    "Two vectors x and y are orthogonal, or perpendicular to each other if $\\langle x,y \\rangle = 0$\n",
    "\n",
    "Notation: $ x \\bot y$\n",
    "\n",
    "Theorem. if $ x \\bot y$, then\n",
    "\n",
    "$|x+y|^2 = |x|^2+|y|^2$"
   ]
  },
  {
   "cell_type": "markdown",
   "metadata": {},
   "source": [
    "A basis $\\{e_1,\\cdots, e_n\\}$ of a Euclidean space $xi$ is called\n",
    "\n",
    "- _orthogonal_, if all its elements are orthogonal to each other, that is, $\\langle e_i, e_j \\rangle = 0$ for $i \\neq j$\n",
    "\n",
    "- _othonormal_, if it is othogonal and all its elements have unit length, that us $|e_i|=1$ for all $i=1,\\cdots,n$"
   ]
  },
  {
   "cell_type": "markdown",
   "metadata": {},
   "source": [
    "__Orthonormal basis and coordinates__\n",
    "\n",
    "Let $E = \\{e_1,\\dots,e_n\\}$ be an orthonormal basis of a Euclidean space $\\xi$.\n",
    "\n",
    "Let $x,y \\in \\xi$. Consider their coordinates\n",
    "\n",
    "$x_E = \\begin{pmatrix} x_1 \\\\ \\vdots \\\\ x_n \\end{pmatrix},\n",
    "y_E = \\begin{pmatrix} y_1 \\\\ \\vdots \\\\ y_n \\end{pmatrix}$\n",
    "\n",
    "Then $\\langle x,y \\rangle = x_1 y_1 + x_2 y_2 + \\dotsm + x_n y_n = x^T_E y_E$.\n",
    "\n",
    "in particular\n",
    "\n",
    "$|x|=\\sqrt{\\langle x,x\\rangle} = \\sqrt{x^2_1 + \\dotsm + x^2_n}$"
   ]
  },
  {
   "cell_type": "markdown",
   "metadata": {},
   "source": [
    "__Orthogonal projection__\n",
    "\n",
    "Let L be a subspace of a Euclidean space $\\xi$, and let $x \\in \\xi$.\n",
    "\n",
    "Suppose that $x=p+h$, where $p \\in L$ and $h$ is orthogonal to $L$, that is $h$ is orthogonal to any vector from $L$. Then $p$ is called _orthogonal projection_ of $x$ onto $L$.\n",
    "\n",
    "Notation: $p={pr}_{L}x, h= {ort}_{L}x$\n",
    "\n",
    "Proposition\n",
    "\n",
    "$d(x, L) = |ort_Lx| = |x-pr_Lx|$"
   ]
  },
  {
   "cell_type": "markdown",
   "metadata": {},
   "source": [
    "__A formula for orthogonal projection__\n",
    "\n",
    "Let $\\{a_1,\\cdots,a_m\\}$ ba a basis of $L \\subset \\xi$. Given $x \\in \\xi$, how to calculate $pr_Lx$\n",
    "\n",
    "Let $E={e_1,\\dots,e_n}$ be an orthogonal basis of $\\xi$.\n",
    "\n",
    "Let $A =((a_1)_E,\\cdots,(a_n)_E) \\in \\mathbb{R}^{n\\times m}$\n",
    "\n",
    "Note that $rank (A) = m$\n",
    "\n",
    "_Lemma_. The $m \\times m$ matrix $A^TA$ is non-degenerate.\n",
    "\n",
    "_Proposition_. $pr_Lx=A(A^TA)^{-1}A^Tx$\n",
    "\n",
    "_Corollary_ $d(x, L) = |x-pr_Lx| = |x - A(A^TA)^{-1}ATx| = |(I - A(A^TA)^{-1}AT)x|$"
   ]
  }
 ],
 "metadata": {
  "kernelspec": {
   "display_name": "Python 3",
   "language": "python",
   "name": "python3"
  },
  "language_info": {
   "codemirror_mode": {
    "name": "ipython",
    "version": 3
   },
   "file_extension": ".py",
   "mimetype": "text/x-python",
   "name": "python",
   "nbconvert_exporter": "python",
   "pygments_lexer": "ipython3",
   "version": "3.6.9"
  }
 },
 "nbformat": 4,
 "nbformat_minor": 2
}
