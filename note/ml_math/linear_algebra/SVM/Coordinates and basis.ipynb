{
 "cells": [
  {
   "cell_type": "markdown",
   "metadata": {},
   "source": [
    "__Bases and coordinates__\n",
    "\n",
    "Suppose $B={b_1,\\cdots,b_n}$ is a basis of a vector space $V$. Then for each $x \\in V$ there are numbers $x_1,cdots,x_n$ such that\n",
    "\n",
    "$x=x_1 b_1 + \\dotsm + x_n b_n$\n",
    "\n",
    "The numbers $x_1,\\cdots x_n$ are called coordinates of the vector $x$ in the basis $B$"
   ]
  },
  {
   "cell_type": "markdown",
   "metadata": {},
   "source": [
    "__Lemma__\n",
    "\n",
    "Given a basis $B={b_1,\\cdots,b_n}$ of a vector space $V$ and a vector $x\\in V$, the column of coordinates $x_B$ is unique\n",
    "\n",
    "_Proof_, suppose that there is another coordinate column of the same vector\n",
    "\n",
    "$x^{\\prime}_B = \\begin{pmatrix} x^{\\prime}_1 \\\\ \\vdots \\\\ x^{\\prime}_n \\end{pmatrix} \\in \\mathbb{R}^n$\n",
    "\n",
    "Then\n",
    "\n",
    "$ x = x_1 b_1 + \\dotsm + x_n b_n = x^{\\prime}_1 b_1 + \\dotsm + x^{\\prime}_n b_n $\n",
    "\n",
    "Substracting the RHS from the middle term, we get\n",
    "\n",
    "$ x_1 b_1 + \\dotsm x_n b_n - x^{\\prime}_1 b_1 - \\dotsm - x^{\\prime}_n b_n = 0 $\n",
    "\n",
    "So,\n",
    "\n",
    "$ (x_1 - x^{\\prime}_1 b_1) + \\dotsm + (x_n - x^{\\prime}_n) b_n = 0 $\n",
    "\n",
    "Since $ b_1 , \\dotsm, b_n$ are linearly independent, we get\n",
    "\n",
    "$x_1- x^{\\prime}_1 = \\dotsm = x_n- x^{\\prime}_n = 0$\n",
    "\n",
    "Thus, $x^{\\prime}_B = x_B$"
   ]
  },
  {
   "cell_type": "markdown",
   "metadata": {},
   "source": [
    "__Abstract vector space and $\\mathbb{R}^n$ __\n",
    "\n",
    "Let $V$ be an n-domensional vector space, and let $B={b_1,\\cdots,b_n}$ be its basis. Then we get a map (function)\n",
    "$\\phi_B : V \\to \\mathbb{R}^n $ such that for $x \\in V$\n",
    "\n",
    "$ \\phi_B(x) = x_B $\n",
    "\n",
    "Moreover, there is an inverse map $\\phi^{-1}_B : \\mathbb{R}^n \\to V$\n",
    "\n",
    "such that for \n",
    "\n",
    "$v=\\begin{pmatrix} x_1 \\\\ \\vdots \\\\ x_n \\end{pmatrix} \\in \\mathbb{R}^n $ \n",
    "\n",
    "we have\n",
    "\n",
    "$\\phi^{-1}_B(v)=(b_1,\\dots,b_n)v = x_1 b_1 + \\dotsm + x_n b_n $\n",
    "\n",
    "So, the basis B given us a one-to one correspondence $\\phi_B : V \\to \\mathbb{R}^n $:\n",
    "\n",
    "$\\phi_B:$ Abstract vectors $\\leftrightarrow$ Columns of coordinates\n",
    "\n",
    "__This is a very important point because it allows us to model each n-dimensional abstract vector space as an n-space, and n-space is a universal model for each n-dimensional vector space. __"
   ]
  },
  {
   "cell_type": "markdown",
   "metadata": {},
   "source": [
    "__Abstract vectors and columns vectors__\n",
    "\n",
    "Properties of $\\phi_B : V \\to \\mathbb{R}^n $\n",
    "\n",
    "1. $\\phi_B (\\alpha x) = \\alpha \\phi_B (x)$\n",
    "\n",
    "2. $\\phi_B (x+y) = \\phi_B (x) + \\phi_B (y)$\n",
    "\n",
    "3. $ \\phi_B $(linearly dependent vectors) = linearly dependent vectors.\n",
    "\n",
    "4. $\\phi_B$(a basis of V) = a basis of $\\mathbb{R}^n$. (Such maps are called isomorphisms)"
   ]
  },
  {
   "cell_type": "markdown",
   "metadata": {},
   "source": [
    "__Basis transformation matrix: properties__\n",
    "\n",
    "Suppose that $B={b_1,\\dots,b_n}$ and $B^{\\prime}={b^{\\prime}_1,\\dots,b^{\\prime}_n}$ are two bases of the same vector space $V$. Given $B$, each $b^{\\prime}_j$ is defined by the column vector\n",
    "\n",
    "$T^j = (b^{\\prime}_j)_B=\\begin{pmatrix} t_{1j} \\\\ \\vdots \\\\ t_{nj} \\end{pmatrix} \\in \\mathbb{R}^n$\n",
    "\n",
    "The matrix $T = [T^1 \\dots T^j \\dots T^n]$ is called a basis _transformation matrix_\n",
    "\n",
    "Notation: $T_{B \\to B^{\\prime}} = T$\n",
    "\n",
    "Properties:\n",
    "\n",
    "1. $T_{B \\to B} = I$\n",
    "\n",
    "2. $T_{B \\to B^{\\prime\\prime}} = T_{B \\to B^{\\prime}}T_{B^{\\prime} \\to B^{\\prime\\prime}}$\n",
    "\n",
    "3. $T_{B^{\\prime} \\to B} = T^{-1}_{B \\to B^{\\prime}}$. In particular, $T$ is non-degenerate"
   ]
  },
  {
   "cell_type": "markdown",
   "metadata": {},
   "source": [
    "__Coordinate change__\n",
    "\n",
    "Let $B={b_1, \\dots, b_n}$ and $B^{\\prime} = {b^{\\prime}_1, \\dots, b^{\\prime}_n}$ be two bases of the same vector space $V$, and left $T=T_{B \\to B^{\\prime}}$. Then each vector $x \\in V$ has two coordinate columns $x_B$ and $x_{B^{\\prime}}$"
   ]
  },
  {
   "cell_type": "markdown",
   "metadata": {},
   "source": [
    "two bases\n",
    "\n",
    "$a = \\{a_1=\\binom{1}{1}\\;\\; a_2=\\binom{1}{-1}\\}$\n",
    "\n",
    "$b = \\{b_1=\\binom{2}{1}\\;\\; b_2=\\binom{-1}{-1}\\}$\n",
    "\n",
    "standard\n",
    "\n",
    "$e=\\{e_1=\\binom{1}{0}\\;\\;e_2=\\binom{0}{1}\\}$\n",
    "\n",
    "vector\n",
    "\n",
    "$x_a=\\binom{2}{-1}$\n",
    "\n",
    "$ T_{e \\to a} = \\begin{pmatrix} 1 & 1 \\\\ 1 & -1 \\end{pmatrix}, \\;\n",
    "T_{e \\to b} = \\begin{pmatrix} 2 & -1 \\\\ 1 & -1 \\end{pmatrix}$\n",
    "\n",
    "$x_b=T_{b \\to a} x_a$, where $T_{b \\to a} = T_{b \\to e} \\cdot T_{e \\to a} = T^{-1}_{e \\to b} \\cdot T_{e \\to a} $\n",
    "\n",
    "Here $ T^{-1}_{e \\to b}=\\begin{pmatrix} 1 & -1 \\\\ 1 & -2 \\end{pmatrix}$, So\n",
    "\n",
    "$T_{b \\to a}=\\begin{pmatrix} 1 & -1 \\\\ 1 & -2 \\end{pmatrix} \\begin{pmatrix} 1 & 1 \\\\ 1 & -1 \\end{pmatrix}\n",
    "=\\begin{pmatrix} 0 & 2 \\\\ -1 & 3 \\end{pmatrix}$\n",
    "\n",
    "Then\n",
    "\n",
    "$x_b=\\begin{pmatrix} 0 & 2 \\\\ -1 & 3 \\end{pmatrix}\\binom{2}{-1} = \\binom{-2}{-5}$\n",
    "\n",
    "$x_e=T_{e \\to a} \\cdots x_a = \\binom{1}{3}$"
   ]
  },
  {
   "cell_type": "markdown",
   "metadata": {},
   "source": [
    "__Examples__\n",
    "\n",
    "$A_1 = \\begin{pmatrix} 2 & 2 \\\\ -1 & -1 \\end{pmatrix}$\n",
    "$A_2 = \\begin{pmatrix} 3 & -2 \\\\ -3 & 2 \\end{pmatrix}$\n",
    "$A_3 = \\begin{pmatrix} -3 & -3 \\\\ -3 & 0 \\end{pmatrix}$\n",
    "$A_4 = \\begin{pmatrix} 1 & -3 \\\\ 4 & 3 \\end{pmatrix}$\n",
    "\n",
    "form a basis. if\n",
    "\n",
    "$\n",
    "a \\begin{pmatrix} 2 & 2 \\\\ -1 & -1 \\end{pmatrix} +\n",
    "b \\begin{pmatrix} 3 & -2 \\\\ -3 & 2 \\end{pmatrix} +\n",
    "c \\begin{pmatrix} -3 & -3 \\\\ -3 & 0 \\end{pmatrix} +\n",
    "d \\begin{pmatrix} 1 & -3 \\\\ 4 & 3 \\end{pmatrix} = 0\n",
    "$ only when a = b = c = d =0. (linearly independent)\n",
    "\n",
    "a,b,c,d are the coordinates\n",
    "\n",
    "---\n",
    "\n",
    "$ f_1 =4+4x+2x^2 $\n",
    "\n",
    "$ f_2 =-3-2x^2 $\n",
    "\n",
    "$ f_3 =-1-x+x^2 $\n",
    "\n",
    "form a basis, if\n",
    "\n",
    "$ a(4+4x+2x^2)=0 $\n",
    "$ b(-3-2x^2)=0 $\n",
    "$ c(-1-x+x^2)=0 $ only when a = b = c = 0"
   ]
  },
  {
   "cell_type": "markdown",
   "metadata": {},
   "source": [
    "Finding the coordinate vector relative to a given basis\n",
    "\n",
    "https://math.stackexchange.com/questions/697590/finding-the-coordinate-vector-relative-to-a-given-basis"
   ]
  }
 ],
 "metadata": {
  "kernelspec": {
   "display_name": "Python 3",
   "language": "python",
   "name": "python3"
  },
  "language_info": {
   "codemirror_mode": {
    "name": "ipython",
    "version": 3
   },
   "file_extension": ".py",
   "mimetype": "text/x-python",
   "name": "python",
   "nbconvert_exporter": "python",
   "pygments_lexer": "ipython3",
   "version": "3.6.9"
  }
 },
 "nbformat": 4,
 "nbformat_minor": 2
}
