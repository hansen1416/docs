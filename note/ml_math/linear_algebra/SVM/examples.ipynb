{
 "cells": [
  {
   "cell_type": "markdown",
   "metadata": {},
   "source": [
    "Try to find its row echelon form\n",
    "\n",
    "$\n",
    "\\begin{pmatrix}\n",
    "5 & 1 & -2 & 6 \\\\\n",
    "1 & 3 & -2 & 4 \\\\\n",
    "3 & 2 & -2 & 5 \\\\\n",
    "4 & 5 & -4 & 9\n",
    "\\end{pmatrix}\n",
    "\\overrightarrow{R_4 - \\frac{4}{5}R_1,R_3 - \\frac{3}{5}R_1,R_2 - \\frac{1}{5}R_1}\n",
    "\\begin{pmatrix}\n",
    "5 & 1 & -2 & 6 \\\\\n",
    "0 & \\frac{14}{5} & -\\frac{8}{5} & \\frac{14}{5} \\\\\n",
    "0 & \\frac{7}{5} & -\\frac{4}{5} & \\frac{7}{5} \\\\\n",
    "0 & \\frac{21}{5} & -\\frac{12}{5} & \\frac{21}{5}\n",
    "\\end{pmatrix}\n",
    "\\overrightarrow{R_4 - \\frac{3}{2}R_2,R_3 - \\frac{1}{2}R_2,R_2\\times\\frac{5}{2}}\n",
    "\\begin{pmatrix}\n",
    "5 & 1 & -2 & 6 \\\\\n",
    "0 & 7 & -4 & 7 \\\\\n",
    "0 & 0 & 0 & 0 \\\\\n",
    "0 & 0 & 0 & 0\n",
    "\\end{pmatrix}\n",
    "$\n",
    "\n",
    "we have\n",
    "\n",
    "$5x_1+x_2-2x_3+6x_4=0$ and $7x_2-4x_3+7x_4=0$\n",
    "\n",
    "transform to \n",
    "\n",
    "$ x_1=\\frac{2}{7}x_3 - x_4,\\;\\; x_2= \\frac{4}{7}x_3 - x_4 $\n",
    "\n",
    "$\n",
    "x=\\begin{pmatrix}\n",
    "x_1 \\\\\n",
    "x_2 \\\\\n",
    "x_3 \\\\\n",
    "x_4 \\\\\n",
    "\\end{pmatrix}=\\begin{pmatrix}\n",
    "\\frac{2}{7}x_3 - x_4 \\\\\n",
    "\\frac{4}{7}x_3 - x_4 \\\\\n",
    "x_3 \\\\\n",
    "x_4 \\\\\n",
    "\\end{pmatrix}=\n",
    "\\begin{pmatrix}0 \\\\0 \\\\0 \\\\0 \\\\\\end{pmatrix}+x_3\\begin{pmatrix}\\frac{2}{7} \\\\ \\frac{4}{7} \\\\1 \\\\0 \\\\\\end{pmatrix}+x_4\\begin{pmatrix}-1 \\\\-1 \\\\0 \\\\1 \\\\\\end{pmatrix}\n",
    "$\n",
    "\n",
    "$x^{hom} = x_3\\begin{pmatrix}\\frac{2}{7} \\\\ \\frac{4}{7} \\\\1 \\\\0 \\\\\\end{pmatrix}+x_4\\begin{pmatrix}-1 \\\\-1 \\\\0 \\\\1 \\\\\\end{pmatrix}$\n",
    "\n",
    "$E_1 = \\begin{pmatrix}\\frac{2}{7} \\\\ \\frac{4}{7} \\\\1 \\\\0 \\\\\\end{pmatrix}\\;\\;E_2 = \\begin{pmatrix} -1 \\\\ -1 \\\\0 \\\\1 \\\\\\end{pmatrix}$\n",
    "\n",
    "So matrix $B$ form fundamental system of solution for our homogeneous system of linear algebraic equations "
   ]
  }
 ],
 "metadata": {
  "kernelspec": {
   "display_name": "Python 3",
   "language": "python",
   "name": "python3"
  },
  "language_info": {
   "codemirror_mode": {
    "name": "ipython",
    "version": 3
   },
   "file_extension": ".py",
   "mimetype": "text/x-python",
   "name": "python",
   "nbconvert_exporter": "python",
   "pygments_lexer": "ipython3",
   "version": "3.6.9"
  }
 },
 "nbformat": 4,
 "nbformat_minor": 2
}
