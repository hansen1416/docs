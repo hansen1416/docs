{
 "cells": [
  {
   "cell_type": "markdown",
   "metadata": {},
   "source": [
    "Min cut problem. Easy\n",
    "\n",
    "Max cut problem. It turns out that no polynomial time algorithm is known, and it's believed that this is a very difficult problem."
   ]
  },
  {
   "cell_type": "markdown",
   "metadata": {},
   "source": [
    "2-SAT, solvable in polynomial time\n",
    "\n",
    "max 2-SAT, not solvable in polynomial time\n",
    "\n",
    "3-SAT, not solvable in polynomial time"
   ]
  },
  {
   "cell_type": "markdown",
   "metadata": {},
   "source": [
    "Spanning tree. weight or unweight\n",
    "\n",
    "Finding a spanning tree, very easy\n",
    "\n",
    "Finding a spanning tree that is a simple path, Such a path exist if and only if the graph has a Hamiltonian path. NP-hard problem, a very difficult problem."
   ]
  }
 ],
 "metadata": {
  "kernelspec": {
   "display_name": "Python 3",
   "language": "python",
   "name": "python3"
  },
  "language_info": {
   "codemirror_mode": {
    "name": "ipython",
    "version": 3
   },
   "file_extension": ".py",
   "mimetype": "text/x-python",
   "name": "python",
   "nbconvert_exporter": "python",
   "pygments_lexer": "ipython3",
   "version": "3.7.9"
  }
 },
 "nbformat": 4,
 "nbformat_minor": 4
}
