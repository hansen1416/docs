{
 "cells": [
  {
   "cell_type": "markdown",
   "metadata": {},
   "source": [
    "## Vertex Cover for a tree\n",
    "\n",
    "Input: a tree $T = (V, E)$   \n",
    "Output: a vertex cover $V^{'}$ of $T$ with minimum $|V^{'}|$\n",
    "\n",
    "As a tree, it must have leaves, take one leave as example, it's always reasonable to choose its parent in vertex cover, to conver mode edges.\n",
    "\n",
    "So we inlcude the parent node in vertex cover, and remove it and all it's edges. It will result in several separated trees.\n",
    "\n",
    "We use the same trick (select a leave, include parent node in vertex cover) on the separated trees. finally we have a vertex cover.\n",
    "\n",
    "- A linear-time greedy algorithm for vertex cover of trees.\n",
    "- Also works on forests. (A collection of trees)\n",
    "- Can be used on a general graph with dangling vertices to make the graph smaller. (if graph has degree of one, then don't take it, take another end of the edge, and remove all edges that covered. It will result in a smaller graph)"
   ]
  },
  {
   "cell_type": "markdown",
   "metadata": {},
   "source": [
    "## Adding weights to vertices\n",
    "\n",
    "Input: a tree $T = (V, E), c:V \\to \\mathbb{R}^+$   \n",
    "Output: a vertex cover $V^{'}$ of $T$ with minimum $\\sum_{v\\in V^{'}}c(v)$ (minimum cost of vertices)\n",
    "\n",
    "Dynamic programming:\n",
    "\n",
    "$M[v]$ is the cost of a minimum vertex cover of the subtree rooted at $v$\n",
    "\n",
    "If $v$ is a leaf, $M[v]=0$. (no edges in the subtree, since there is no children)\n",
    "\n",
    "If $v$ is not a leaf:  \n",
    "we have two choicew, either we take it or take all it's child nodes.\n",
    "\n",
    "We take $v$, remove incident edges. each of its child be the root of some new trees. \n",
    "\n",
    "$M[v]=c(v) + \\sum_{u \\in child(v)} M[u] $\n",
    "\n",
    "or\n",
    "\n",
    "We take all children of $v$, then all of the grand children of $v$ be the root of some new trees.\n",
    "\n",
    "$M[v]= \\sum_{u \\in child(v)}c[v] + \\sum_{w \\in grandchild(v)}M[w]$\n",
    "\n",
    "We choose the minimum of these two.\n",
    "\n",
    "_The cost of the minimum cover is $M[r]$, where $r$ is the root of $T$_.\n",
    "\n",
    "$O(n^2)$, $n$ sub-problems, and for each $n$, calculate all its children and grand children."
   ]
  },
  {
   "cell_type": "markdown",
   "metadata": {},
   "source": [
    "## A polynomial-time algorithm for 2SAT\n",
    "\n",
    "Input: 2CNF $\\phi$  \n",
    "Output: Is $\\phi$ satisfiable\n",
    "\n",
    "Build a graph in such a way,  \n",
    "for each clause $A \\lor B$, An edge from $\\overline{A} \\to B$, and an edge from $\\overline{B} \\to A$.  \n",
    "It means if $A$ is False, $B$ must be True, and if $B$ is False $A$ must be True.\n",
    "\n",
    "__Claim:__ If $\\phi$ is satisfiable if and only if $x_i \\rightleftharpoons \\overline{x_i}$ for no $i$. (if there not exists variable $x_i$, such that, you can reach from $x_i \\to \\overline{x_i}$, and from $\\overline{x_i} \\to x_i$. there is no path go and back)\n",
    "\n",
    "$n$ variables $\\to 2n$ vertices.\n",
    "$m$ clauses $\\to 2m$ edges.\n",
    "\n",
    "What does these edges mean? it means if we set start of the edge to 1, we need to set end of the edge to 1 too. (to make the clause True), so for example, if we set $\\overline{x_i}$ to 1, and there is a path from $\\overline{x_i} \\to x_i$, we need to set $x_i$ to 1. which is not possible. therefore $\\overline{x_i}$ must be 0.\n",
    "\n",
    "- construct such graph takes liner time.\n",
    "\n",
    "- Solve $2n$ reachability problems using breadth first search or depth first search. (if you use a adjacency list representation for your graph, then each reachability problem can be solved in time O(m + n). And then because you have to solve 2n such problems, the complexity is O(n(m + n))\n",
    "\n",
    "- Or computes strongly connected components and check that $x$ and $\\overline{x}$ belong to the different component for all $x$. (if you use adjacency list representation for your graph, it take O(m+n)?)"
   ]
  }
 ],
 "metadata": {
  "kernelspec": {
   "display_name": "Python 3",
   "language": "python",
   "name": "python3"
  },
  "language_info": {
   "codemirror_mode": {
    "name": "ipython",
    "version": 3
   },
   "file_extension": ".py",
   "mimetype": "text/x-python",
   "name": "python",
   "nbconvert_exporter": "python",
   "pygments_lexer": "ipython3",
   "version": "3.7.9"
  }
 },
 "nbformat": 4,
 "nbformat_minor": 4
}
