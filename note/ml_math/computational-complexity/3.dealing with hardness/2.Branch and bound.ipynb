{
 "cells": [
  {
   "cell_type": "markdown",
   "metadata": {},
   "source": [
    "## Travelling Salesman: Pruning an exhaustive search tree\n",
    "\n",
    "We go through all possible solutions, remember the best solution so far (least weight of cycle), if in the middle of the next iteration, the weight already exceeds the best solution found, we can stop and backtrack (cut the branch completely), means go to next iteration."
   ]
  },
  {
   "cell_type": "markdown",
   "metadata": {},
   "source": [
    "## Better bounds for Travelling Salesman\n",
    "\n",
    "We __should__ cut a branch if it is __bound to be__ at least as expensive as the best we have found so far.\n",
    "\n",
    "The weight of the remaining part of the cycle can not be less than the __minimum spanning tree__.  \n",
    "So if:  \n",
    "\n",
    "__the weight already selected__ + __the weight of minimum spanning tree over remainning vertices__ $\\ge$ __minimum weight found so far__\n",
    "\n",
    "we can cut the branch completely.\n",
    "\n",
    "(calculate minimum spanning tree is quick, in poly-time)"
   ]
  },
  {
   "cell_type": "markdown",
   "metadata": {},
   "source": [
    "## Branch and Bound for Knapsack\n",
    "\n",
    "We have $n$ items, $x_1, x_2, \\dots, x_n$, each has some weight and value. And there is a weight limit W.\n",
    "\n",
    "For each item, we either take it or not. So $x_i \\in \\{0, 1\\}$\n",
    "\n",
    "In a brutal search, we try all possible combiations, it takes $2^n$, if we build the tree in a depth first manner.\n",
    "\n",
    "__Branch and bound__: Relax the integrality restriction. (allow take part of the item, $x_i \\in [0, 1]$)\n",
    "\n",
    "When this restriction is relexed, a simple greedy algorithm works. Sort $x_i$ by $\\frac{v_i}{w_i}$, and take as much the most expensive item as you can, and go to next, until all the weight is fullfilled.\n",
    "\n",
    "eg. $x_1=0$, so we don't take $x_1$. $w_2=9, v_2=9; w_3=5, v_3=10 \\implies \\frac{v_2}{w_2}=1, \\frac{v_3}{w_3}=2$, W limit is 10.   \n",
    "so we can take all of $x_3 \\implies x_3=1$, and take $x_2=\\frac{5}{9}$. so $V = 1 \\times 10 + \\frac{5}{9} \\times 9 = 15$   \n",
    "If 15 is already less than best solution found before, we can cut this branch."
   ]
  },
  {
   "cell_type": "markdown",
   "metadata": {},
   "source": [
    "## Improving exhaustive search"
   ]
  }
 ],
 "metadata": {
  "kernelspec": {
   "display_name": "Python 3",
   "language": "python",
   "name": "python3"
  },
  "language_info": {
   "codemirror_mode": {
    "name": "ipython",
    "version": 3
   },
   "file_extension": ".py",
   "mimetype": "text/x-python",
   "name": "python",
   "nbconvert_exporter": "python",
   "pygments_lexer": "ipython3",
   "version": "3.7.9"
  }
 },
 "nbformat": 4,
 "nbformat_minor": 4
}
