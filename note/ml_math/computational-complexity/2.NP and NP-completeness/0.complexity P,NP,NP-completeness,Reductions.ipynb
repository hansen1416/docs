{
 "cells": [
  {
   "cell_type": "markdown",
   "metadata": {},
   "source": [
    "P = {problmes (size n) solvable in polynomial($n^{O(1)}$) times}\n",
    "\n",
    "NP = {decison(answer is yes or no) pronlems solvable in nondeterministic(can guess one of out polynomially many options in O(1) time) polynomial time}\n",
    "    - if any guess leads to yes, then get such a guess."
   ]
  },
  {
   "cell_type": "markdown",
   "metadata": {},
   "source": [
    "_example_\n",
    "\n",
    "3SAT, given a boolean formula of the form $(x_1\\lor x_3 \\lor \\overline{x_6})\\land(\\overline{x_2} \\lor x_3 \\lor \\overline{x_7}) \\land \\dots$\n",
    "\n",
    "Can you set the variables $x_1, x_2, \\dots -> {T,F}$, s.t. formula = $T$\n",
    "\n",
    "$\\in NP$: \n",
    "\n",
    "guess $x_1 = T \\mbox{or} F$\n",
    "\n",
    "guess $x_1 = T \\mbox{or} F$\n",
    "\n",
    "$\\vdots$\n",
    "\n",
    "check formula: T: return yes. F: return no"
   ]
  },
  {
   "cell_type": "markdown",
   "metadata": {},
   "source": [
    "NP = {decision problems with poly-size certificates & poly-time verifier for YES inputs}"
   ]
  },
  {
   "cell_type": "markdown",
   "metadata": {},
   "source": [
    "X is NP-complete if $X \\in $ NP & X is NP-hard\n",
    "\n",
    "X is NP-hard if every problem  $Y \\in$ NP reduces to X\n",
    "\n",
    "P -> NP -> NP-completeness(boundary of NP) -> NP-hard"
   ]
  },
  {
   "cell_type": "markdown",
   "metadata": {},
   "source": [
    "__Reduction__ from problem A-> problem B = poly-time algorithm converting \n",
    "\n",
    "A inputs -> equivalent(same yes or no answer) B inputs\n",
    "\n",
    "- if B $\\in$ P, then A $\\in$ P\n",
    "\n",
    "- if B $\\in$ NP, then A $\\in$ NP (the reverse is not true)"
   ]
  }
 ],
 "metadata": {
  "kernelspec": {
   "display_name": "Python 3",
   "language": "python",
   "name": "python3"
  },
  "language_info": {
   "codemirror_mode": {
    "name": "ipython",
    "version": 3
   },
   "file_extension": ".py",
   "mimetype": "text/x-python",
   "name": "python",
   "nbconvert_exporter": "python",
   "pygments_lexer": "ipython3",
   "version": "3.7.9"
  }
 },
 "nbformat": 4,
 "nbformat_minor": 4
}
