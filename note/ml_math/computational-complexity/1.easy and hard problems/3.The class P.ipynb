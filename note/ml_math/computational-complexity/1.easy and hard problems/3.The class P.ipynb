{
 "cells": [
  {
   "cell_type": "markdown",
   "metadata": {},
   "source": [
    "### Definition\n",
    "\n",
    "P is the class of problems that can be solved in time polynomial in the input length.\n",
    "\n",
    "What is the input length?\n",
    "- Integer K presented binary, length = log K\n",
    "- List L of words over a fixed alphabet, length is the sum of lengths of the words.\n",
    "- A set of integer is represented as a list of integers in binary. The algorithm needs to work for any order.\n",
    "- Graph  \n",
    "    is it connected?  \n",
    "    O(m+n) for edges list representation  \n",
    "    O(n^2) for adjacency matrix representation  \n",
    "    where m is the number of edges, and $n$ the number of nodes.  \n",
    "    -> linear in the input length\n",
    "\n",
    "    It has an Eulerian cycle  \n",
    "    O(n^2)  \n",
    "    \n",
    "    Above problems can be solved in polynomial time  \n",
    "    \n",
    "    Exhaustive searches of size $(1.1)^n$ are not polynomial in input length  \n",
    "    \n",
    "Other encodings in the definition of P?\n",
    "\n",
    "As long as they can be mapped to each other in polynomial time in the length of the smallest encoding.\n",
    "\n",
    "Forbidden: unary encodings of integers\n",
    "\n",
    "K <-> K zeros: 000...000\n",
    "\n",
    "Length = K instead of log K\n",
    "\n",
    "-> it is not possible to map the binary encoding to the unary one in time poly(logK)"
   ]
  },
  {
   "cell_type": "markdown",
   "metadata": {},
   "source": [
    "# examples\n",
    "\n",
    "1. Which of the following functions are bounded by a polynomial in $n$?\n",
    "\n",
    "> __Yes__: $c \\log n,\\; 2^{10 \\log n},\\; 2^400,\\; 2^{5/n}$; __No__: $ 2^{(\\log n)^2},\\;2^{\\sqrt{n}},\\;1.0001^n$\n",
    "\n",
    "> essentialy: $2^{c\\log n}$ and $2^{\\frac{c}{n}}$ is bounded by a polynomial in $n$.\n",
    "\n",
    "2. Is it possible that the bitsize of the edge list representation of a graph is larger than the bitsize of the adjacency matrix representation? And if so, how large can be the ratio of the two representations?\n",
    "\n",
    "> It can be a factor $O(\\log n)$ larger.\n",
    "\n",
    "3.Let $K$ be large. Rank the following objects from small to large according to the sizes of their standard bitwise representations. \n",
    "\n",
    "$K$ in binary < $K$ in unary < $K$ integers between $\\sqrt{K}$ and $K$ < a graph containing $K$ nodes < a $K \\times K$ matrix of integers between $\\sqrt{K}$ and $K$."
   ]
  }
 ],
 "metadata": {
  "kernelspec": {
   "display_name": "Python 3",
   "language": "python",
   "name": "python3"
  },
  "language_info": {
   "codemirror_mode": {
    "name": "ipython",
    "version": 3
   },
   "file_extension": ".py",
   "mimetype": "text/x-python",
   "name": "python",
   "nbconvert_exporter": "python",
   "pygments_lexer": "ipython3",
   "version": "3.7.9"
  }
 },
 "nbformat": 4,
 "nbformat_minor": 4
}
