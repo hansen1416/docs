{
 "cells": [
  {
   "cell_type": "markdown",
   "metadata": {},
   "source": [
    "# Problems\n",
    "\n",
    "1. Given a graph and a integer $k$, does it have an independent set of size $k$.\n",
    "2. Given a graph and a integer $k$, produce an independent set of size $k$.\n",
    "3. Given a graph, find the maximum size of an indenpendent set.\n",
    "4. Given a graph, produce an indenpendent set of maximum size.\n",
    "\n",
    "3 => 1\n",
    "--\n",
    "If we're given a graph and a threshold, we can compute the optimal size and check whether the threshold is not above this optimal size.\n",
    "\n",
    "1 => 3\n",
    "--\n",
    "Use binary search between $0 \\le k \\le n$, $\\frac{n}{2}$, $\\frac{3n}{4}$ .... until find the maximum size. complexity is $O(log(n))$\n",
    "\n",
    "2 => 1\n",
    "-- \n",
    "If we can produce independent set of size $k$ then we have an independent set of size $k$\n",
    "\n",
    "1 => 2\n",
    "--\n",
    "Choose a random node, remove the node and all its neighbors. Clearly, if the remaining graph contains an independent set of size 3 then the original one has an independent set of size 4.\n",
    "If the remaining graph doesn't contain, we choose another node.\n",
    "If it does, we remove a node from the remaining graph and check if it there is a independent set of 2. and so on.\n",
    "complexity is $O(n^2)$"
   ]
  }
 ],
 "metadata": {
  "kernelspec": {
   "display_name": "Python 3",
   "language": "python",
   "name": "python3"
  },
  "language_info": {
   "codemirror_mode": {
    "name": "ipython",
    "version": 3
   },
   "file_extension": ".py",
   "mimetype": "text/x-python",
   "name": "python",
   "nbconvert_exporter": "python",
   "pygments_lexer": "ipython3",
   "version": "3.7.9"
  }
 },
 "nbformat": 4,
 "nbformat_minor": 4
}
