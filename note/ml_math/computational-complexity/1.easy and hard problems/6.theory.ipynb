{
 "cells": [
  {
   "cell_type": "markdown",
   "metadata": {},
   "source": [
    "The problem _logarithmic independent set_:\n",
    "\n",
    "Input: A graph with n nodes.\n",
    "Question: Does the graph have an independent set of size at least $\\log_2 n$\n",
    "\n",
    "What is the best bound on the runtime of an exhaustive search?\n",
    "\n",
    "$O(n^2 2^n), => O((\\log_2 n )^2 2^{\\log_2 n}), => O((\\log_2 n )^2 n) $\n",
    "\n",
    "$n^{O(\\log n)}$ why the answer is this?, not sure."
   ]
  },
  {
   "cell_type": "markdown",
   "metadata": {},
   "source": [
    "An acyclic graph is a graph that contains no nonempty cycles.\n",
    "\n",
    "Which of the following statements are always true?\n",
    "\n",
    "- Every clique in an acyclic graph has size at most 2.\n",
    "\n",
    "        Indeed, every clique of size at least 3 contains a cycle.\n",
    "\n",
    "- An acyclic graph with n nodes has at most n−1 edges. Hint: What is the number of edges in a tree with n nodes?\n",
    "\n",
    "        Indeed, an acyclic graph is a union of trees.\n",
    "    \n",
    "- Every acyclic graph has a node with 0 or 1 neighbors.\n",
    "\n",
    "        Indeed, you can pick a node v. If it has no neighbors, you are done. Otherwise, pick a neighbor. Then pick a neighbor of this neighbor, different from v. Repeat this until you get stuck. Note that you must get stuck, because the graph has finitely many nodes, and since it is acyclic you can not go in a loop. When you are stuck, you found a node of degree 1.\n",
    "        \n",
    "- A triangle in a graph is a set of three different nodes u, v, and w, such that $\\{u, v\\}, \\{v, w\\}, and \\{w, u\\}$ are edges. There exists an algorithm that, given a graph, checks in time polynomial in the number of nodes in the graph whether it contains a triangle.\n",
    "\n",
    "        Indeed, the algorithm iterates over all triples of nodes, and a graph of size $n$ has at most $n^3$ such triples.\n",
    "\n",
    "- Every acyclic graph has an independent set of size $\\lfloor n/2\\rfloor$. Hint: Solve this question last. Use induction. Select a node and add it to the independent set. Then remove the node and its neighbor(s) and apply induction.\n",
    "\n",
    "        Every acyclic graph has a node of degree at most 1. Select this node and its neighbor. Remove it from the graph. The inductive hypothesis provides you with an independent set of size ⌊n/2⌋−1. Together with the selected node, one obtains an independent set of size ⌊n/2⌋.\n",
    "        \n",
    "- The inverse of an acyclic graph is also acyclic.\n",
    "\n",
    "        The inverse of a graph with at most n edges has at least n(n-1)/2 - n edges, and this can be much larger than n. Thus, for large $n$, this can not be true.\n",
    "\n",
    "- Every node in an acyclic graph has at most $n/2$ neighbors.\n",
    "\n",
    "        at most n-1"
   ]
  },
  {
   "cell_type": "markdown",
   "metadata": {},
   "source": [
    "Let $a$ and $b$ be integers that are at least 2. Let $p$ and $q$ be polynomials such that $p(n) = O(n^a)$ and $q(n) = O(n^b)$. Which of the following are true?\n",
    "\n",
    "$p(n)+q(n)=O(n^{max(a,b)})$\n",
    "\n",
    "$p(n)+q(n)=O(n^{a+b})$\n",
    "\n",
    "$p(n)+q(n)=O(n^{ab})$\n",
    "\n",
    "$p(n)q(n)=O(n^{a+b})$\n",
    "\n",
    "$p(n)q(n)=O(n^{ab})$\n",
    "\n",
    "$p(q(n))=O(n^{ab})$"
   ]
  },
  {
   "cell_type": "markdown",
   "metadata": {},
   "source": [
    "Let $K > 8$ be an integer. Sort in the ascending order of the bitsize of the representation:\n",
    "\n",
    "  (a) K in binary\n",
    "\n",
    "  (b) K in unary\n",
    "\n",
    "  (c) K words of length K over an alphabet of size at least 2\n",
    "\n",
    "  (d) a graph with $K^{1/3}$ nodes (in the adjacency matrix representation)\n",
    "\n",
    "  (e) an integer of size at least $2^{K/2}$ and stictly less than $2^{K-1}$ (in binary)\n",
    "\n",
    "Give your answer as a string without blanks, for example: abcde.\n",
    "\n",
    "a: log K, d: $K^{2/3}$, e: ?, b: K, c: $K^2$\n",
    "\n",
    "$adebc$"
   ]
  },
  {
   "cell_type": "markdown",
   "metadata": {},
   "source": [
    "Question 9\n",
    "Give a simplified Boolean formula that is equivalent to\n",
    "\n",
    "$\\neg((\\neg x \\lor \\neg y) \\mathbin{\\&} \\neg z)$\n",
    "\n",
    "and that does not contain negations.\n",
    "\n",
    "$x \\& y \\lor z$"
   ]
  },
  {
   "cell_type": "markdown",
   "metadata": {},
   "source": [
    "What is the maximal number of clauses that can be simultaneously satisfied in the following 2CNF formula?\n",
    "\n",
    "$(x \\lor y) \\mathbin{\\&} (\\neg x \\lor \\neg y) \\mathbin{\\&} (x \\lor x) \\mathbin{\\&}  (y \\lor y)$\n",
    "\n",
    "3"
   ]
  },
  {
   "cell_type": "markdown",
   "metadata": {},
   "source": [
    "A graph can be divided in two cliques if its complement graph is Bipartitie."
   ]
  }
 ],
 "metadata": {
  "kernelspec": {
   "display_name": "Python 3",
   "language": "python",
   "name": "python3"
  },
  "language_info": {
   "codemirror_mode": {
    "name": "ipython",
    "version": 3
   },
   "file_extension": ".py",
   "mimetype": "text/x-python",
   "name": "python",
   "nbconvert_exporter": "python",
   "pygments_lexer": "ipython3",
   "version": "3.7.9"
  }
 },
 "nbformat": 4,
 "nbformat_minor": 4
}
