{
 "cells": [
  {
   "cell_type": "markdown",
   "metadata": {},
   "source": [
    "Functions is called __integrable in elementray functions__, if its indefinite integral can be written by the __finite number__ of arithmetic operation and compositions of elementray functions. __(first week!)__"
   ]
  },
  {
   "cell_type": "markdown",
   "metadata": {},
   "source": [
    "it does not mean such functions do not have indefinite integral! They actuablly do, but we can't write them in above form"
   ]
  },
  {
   "cell_type": "markdown",
   "metadata": {},
   "source": [
    "Function R(x) is called a __rational function__ if it satisfies:\n",
    "\n",
    "$ R(x) = \\frac{P(x)}{Q(x)} $\n",
    "\n",
    "where P(x) and Q(x) both are rational polynomials. They always can be factorized to the sum of simpler fractions"
   ]
  }
 ],
 "metadata": {
  "kernelspec": {
   "display_name": "Python 3",
   "language": "python",
   "name": "python3"
  },
  "language_info": {
   "codemirror_mode": {
    "name": "ipython",
    "version": 3
   },
   "file_extension": ".py",
   "mimetype": "text/x-python",
   "name": "python",
   "nbconvert_exporter": "python",
   "pygments_lexer": "ipython3",
   "version": "3.6.9"
  }
 },
 "nbformat": 4,
 "nbformat_minor": 2
}
