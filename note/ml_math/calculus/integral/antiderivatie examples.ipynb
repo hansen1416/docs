{
 "cells": [
  {
   "cell_type": "markdown",
   "metadata": {},
   "source": [
    "$ \\int |x| dx $\n",
    "\n",
    "$ \\int x dx, x \\ge 0; \\int -x dx, x < 0$"
   ]
  },
  {
   "cell_type": "markdown",
   "metadata": {},
   "source": [
    "$ \\frac{x^2}{2} + C_1, x \\ge 0; -\\frac{x^2}{2} + C_2, x < 0$\n",
    "\n",
    "but |x| is cotinuous differentialble at x=0, so $C_1 = C_2 = C $"
   ]
  },
  {
   "cell_type": "markdown",
   "metadata": {},
   "source": [
    "$ \\int |x| dx = \\frac{|x|x}{2} + C, C \\in R$"
   ]
  },
  {
   "cell_type": "markdown",
   "metadata": {},
   "source": [
    "$ \\int \\frac{dx}{x} = \\ln|x|+C $\n",
    "\n",
    "not exactly\n",
    "\n",
    "$ \\int \\frac{dx}{x} = \\ln x + C_1, x > 0; \\ln{-x} + C_2, x < 0$"
   ]
  }
 ],
 "metadata": {
  "kernelspec": {
   "display_name": "Python 3",
   "language": "python",
   "name": "python3"
  },
  "language_info": {
   "codemirror_mode": {
    "name": "ipython",
    "version": 3
   },
   "file_extension": ".py",
   "mimetype": "text/x-python",
   "name": "python",
   "nbconvert_exporter": "python",
   "pygments_lexer": "ipython3",
   "version": "3.6.9"
  }
 },
 "nbformat": 4,
 "nbformat_minor": 2
}
