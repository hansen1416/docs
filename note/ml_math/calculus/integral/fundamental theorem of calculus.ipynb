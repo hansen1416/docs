{
 "cells": [
  {
   "cell_type": "markdown",
   "metadata": {},
   "source": [
    "__FTCI__\n",
    "\n",
    "let f(t) be continuous on [a,b], and for x in the interval [a.b], define a function F(x) by the definite integral:\n",
    "\n",
    "$ F(x) = \\int_a^x f(t)df $\n",
    "\n",
    "then F(x) is differentiable on [a,b] and $F^{\\prime}(x)=f(x)$, for any x on [a,b]"
   ]
  },
  {
   "cell_type": "markdown",
   "metadata": {},
   "source": [
    "_proof:_\n",
    "\n",
    "since the integral over a interval [x,x] is always zero (given the integrand is continuous) then take the limit of the next expression:\n",
    "\n",
    "$ F(X+h) - F(x) = \\int_0^{x+h} f(x)dx - \\int_0^{x} f(x)dx = \\int_x^{x+h} f(x)dx = 0 \\;when\\; h \\to 0 $"
   ]
  },
  {
   "cell_type": "markdown",
   "metadata": {},
   "source": [
    "__FTCII__\n",
    "\n",
    "let f(t) be continuous on [a,b]\n",
    "\n",
    "let F(x) be any function such taht $F^{\\prime}(t)=f(t)$, for any t on [a,b]\n",
    "\n",
    "then we have:\n",
    "\n",
    "$ \\int_a^b f(t)dt= F(b) - F(a) $"
   ]
  },
  {
   "cell_type": "markdown",
   "metadata": {},
   "source": [
    "__FTCII__\n",
    "\n",
    "let g(t) have a continuous derivative on [a,b]\n",
    "\n",
    "let F(x) be any function such taht $F^{\\prime}(t)=f(t)$, for any t on [a,b]\n",
    "\n",
    "then we have the integral:\n",
    "\n",
    "$ \\int_a^b g^{\\prime}(t)dt= g(b) - g(a) $"
   ]
  },
  {
   "cell_type": "markdown",
   "metadata": {},
   "source": [
    "__FTCIV__\n",
    "\n",
    "For g(t) a differentiable function of t introduce its differentiable $dg = g^{\\prime}(t)dt$ \n",
    "\n",
    "then we have the integral, for g(t) a differentiable function with cotinuous derivative:\n",
    "\n",
    "$ \\int_a^b dg = g(b) - g(a) $"
   ]
  }
 ],
 "metadata": {
  "kernelspec": {
   "display_name": "Python 3",
   "language": "python",
   "name": "python3"
  },
  "language_info": {
   "codemirror_mode": {
    "name": "ipython",
    "version": 3
   },
   "file_extension": ".py",
   "mimetype": "text/x-python",
   "name": "python",
   "nbconvert_exporter": "python",
   "pygments_lexer": "ipython3",
   "version": "3.6.9"
  }
 },
 "nbformat": 4,
 "nbformat_minor": 2
}
