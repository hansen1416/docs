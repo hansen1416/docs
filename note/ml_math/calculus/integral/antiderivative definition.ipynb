{
 "cells": [
  {
   "cell_type": "markdown",
   "metadata": {},
   "source": [
    "$ \\int 0 dx = C $\n",
    "\n",
    "$ \\int 1 dx = x+C $\n",
    "\n",
    "$ \\int x^n dx = \\frac{1}{n+1}x^{n+1}+C $\n",
    "\n",
    "$ \\int e^x dx = e^x+C $\n",
    "\n",
    "$ \\int cos x dx = sin x+C $\n",
    "\n",
    "$ \\int  \\frac{dx}{1+x^2} = arctanx +C $\n",
    "\n",
    "$ \\int (f+g) dx = \\int f dx + \\int g dx $\n",
    "\n",
    "$ \\int (Kf) dx = K \\int f dx $"
   ]
  }
 ],
 "metadata": {
  "kernelspec": {
   "display_name": "Python 3",
   "language": "python",
   "name": "python3"
  },
  "language_info": {
   "codemirror_mode": {
    "name": "ipython",
    "version": 3
   },
   "file_extension": ".py",
   "mimetype": "text/x-python",
   "name": "python",
   "nbconvert_exporter": "python",
   "pygments_lexer": "ipython3",
   "version": "3.6.9"
  }
 },
 "nbformat": 4,
 "nbformat_minor": 2
}
