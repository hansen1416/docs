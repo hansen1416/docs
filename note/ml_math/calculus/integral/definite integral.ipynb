{
 "cells": [
  {
   "cell_type": "markdown",
   "metadata": {},
   "source": [
    "- F(x) has no discontinuities for all points in the domain of f(x), True\n",
    "\n",
    "- the domain of F(x) is included in the domain f(x), False\n",
    "\n",
    "- the domain of f(x) coincides with the domain F(x), False\n",
    "\n",
    "- the antiderivative for f(x+C) is F(x+C), True"
   ]
  },
  {
   "cell_type": "markdown",
   "metadata": {},
   "source": [
    "Consider the partition $\\tau$ of the segment $[a,b]$:\n",
    "\n",
    "$ a = x_0 < x_1 < \\cdots < x_n = b $\n",
    "\n",
    "The __diameter__ of the partition:\n",
    "\n",
    "$ d = max_i(x_i-x_{i-1})$ "
   ]
  },
  {
   "cell_type": "markdown",
   "metadata": {},
   "source": [
    "The partition is tagged: for all segments we chose arbitrary\n",
    "\n",
    "$ t_i \\in [x_{i-1};x_i] $\n",
    "\n",
    "Riemann sum:\n",
    "\n",
    "$ S(\\tau, f, t) = \\sum^{n}_{i=1}f(t_i)(x_i-x_{i-1})$"
   ]
  },
  {
   "cell_type": "markdown",
   "metadata": {},
   "source": [
    "Function is called integrable if the limit called __definite integral__\n",
    "\n",
    "$ \\lim\\limits_{d \\to 0}S(\\tau, f, t) = \\int_a^b f(x) dx $\n",
    "\n",
    "exists __independently from t and actual partition__"
   ]
  },
  {
   "cell_type": "markdown",
   "metadata": {},
   "source": [
    "__Existence__\n",
    "\n",
    "For any tagged partition one should consider two boundary taggings, called __Darboux sum__:\n",
    "\n",
    "lower sum $ S^* = \\sum^n_{i=1} m_i (x_i-x_{i-1}),\\;\\; where\\;\\; m_i= inf_{[x_{i-1},x_i]} f(t) $\n",
    "\n",
    "upper sum $ S_* = \\sum^n_{i=1} M_i (x_i-x_{i-1}),\\;\\; where\\;\\; M_i= sup_{[x_{i-1},x_i]} f(t) $\n",
    "\n",
    "Concequently, for any given $\\tau$\n",
    "\n",
    "$ S^*(\\tau, f) < S(\\tau, f ,t) < S_*(\\tau, f) $"
   ]
  },
  {
   "cell_type": "markdown",
   "metadata": {},
   "source": [
    "__Sufficient conditions__\n",
    "\n",
    "There are no criteria, but the function is integrable over [a,b], if:\n",
    "\n",
    "- the function monotonically rises or falls for all the segment;\n",
    "\n",
    "- the function has no discontinuations for all the segment\n",
    "\n",
    "__example__\n",
    "\n",
    "$ f(x) = x^2, [a,b] = [0,1] $\n",
    "\n",
    "divide to n segment, each segment is [1, 1/n, 2/n, ... n/n]\n",
    "\n",
    "so the area of each segment is $ \\frac{1}{n} \\cdot f(x) = \\frac{1}{n} \\cdot (\\frac{i}{n})^2 $\n",
    "\n",
    "the sum of each segment is $ \\frac{1}{n} \\cdot (\\frac{1}{n})^2 + \\frac{1}{n} \\cdot (\\frac{2}{n})^2 + \\cdots + \\frac{1}{n} \\cdot (\\frac{n}{n})^2 $\n",
    "\n",
    "$ \\frac{1^2+2^2+\\cdots+n^2}{n^3} = \\frac{n(n+1)(2n+1)}{6n^3} $\n",
    "\n",
    "$ n \\to +\\infty, \\frac{n(n+1)(2n+1)}{6n^3}= \\frac{(1+\\frac{1}{n})(2+\\frac{1}{n})}{6} = \\frac{1}{2} $"
   ]
  },
  {
   "cell_type": "markdown",
   "metadata": {},
   "source": [
    "If the function f(x) does not have discontinuaties on the segment [a,b] and F(x) is its antiderivative, then:\n",
    "\n",
    "$ \\int_a^b f(x) dx = F(b) - F(a) $"
   ]
  }
 ],
 "metadata": {
  "kernelspec": {
   "display_name": "Python 3",
   "language": "python",
   "name": "python3"
  },
  "language_info": {
   "codemirror_mode": {
    "name": "ipython",
    "version": 3
   },
   "file_extension": ".py",
   "mimetype": "text/x-python",
   "name": "python",
   "nbconvert_exporter": "python",
   "pygments_lexer": "ipython3",
   "version": "3.6.9"
  }
 },
 "nbformat": 4,
 "nbformat_minor": 2
}
