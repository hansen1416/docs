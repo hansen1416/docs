{
 "cells": [
  {
   "cell_type": "markdown",
   "metadata": {},
   "source": [
    "__Midpoint rule__\n",
    "\n",
    "$ \\int_a^b f(x) dx \\approx (b-a)f(\\frac{a+b}{2}) $\n",
    "\n",
    "__Error__\n",
    "\n",
    "$|Error| < \\frac{M(b-a)^3}{24n^2} $, where n is the number of segments in the uniform tagged partiton and M is maximal absolute value of the second derivative: $ M = sup_{[a,b]}f^{\\prime\\prime}(x) $"
   ]
  },
  {
   "cell_type": "markdown",
   "metadata": {},
   "source": [
    "__Trapezoidal rule__\n",
    "\n",
    "$ \\int_a^b f(x) dx \\approx (b-a)(\\frac{f(a)+f(b)}{2}) $\n",
    "\n",
    "__Error__\n",
    "\n",
    "$|Error| < \\frac{M(b-a)^3}{12n^2} $, where n is the number of segments in the uniform tagged partiton and M is maximal absolute value of the second derivative: $ M = sup_{[a,b]}f^{\\prime\\prime}(x) $"
   ]
  },
  {
   "cell_type": "markdown",
   "metadata": {},
   "source": [
    "__Simpson rule__\n",
    "\n",
    "$ \\int_a^b f(x) dx \\approx \\frac{b-a}{6}(f(a)+f(b)+4f(\\frac{a+b}{2})) $\n",
    "\n",
    "__Error__\n",
    "\n",
    "$|Error| < \\frac{M(b-a)^5}{180n^4} $, where n is the number of segments in the uniform tagged partiton and M is maximal absolute value of the second derivative: $ M = sup_{[a,b]}f^{\\prime\\prime\\prime\\prime}(x) $"
   ]
  }
 ],
 "metadata": {
  "kernelspec": {
   "display_name": "Python 3",
   "language": "python",
   "name": "python3"
  },
  "language_info": {
   "codemirror_mode": {
    "name": "ipython",
    "version": 3
   },
   "file_extension": ".py",
   "mimetype": "text/x-python",
   "name": "python",
   "nbconvert_exporter": "python",
   "pygments_lexer": "ipython3",
   "version": "3.6.9"
  }
 },
 "nbformat": 4,
 "nbformat_minor": 2
}
