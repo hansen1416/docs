{
 "cells": [
  {
   "cell_type": "markdown",
   "metadata": {},
   "source": [
    "We will consider integration over __open connected__ subsets of the real plane.\n",
    "\n",
    "A subset A considered open if each point of A included into the subset with some of its neighborhood."
   ]
  },
  {
   "cell_type": "markdown",
   "metadata": {},
   "source": [
    "Consider the same technique of __partition__ (into the same open connected subsets) into $\\{\\Delta x_i\\}_{i=1\\dots m}$\n",
    "\n",
    "The __diameter__ is defined in the same way: for each subset defined __most distant pair__ of points, and the maximal of those in chosen."
   ]
  },
  {
   "cell_type": "markdown",
   "metadata": {},
   "source": [
    "After tagging we get:\n",
    "\n",
    "$ S(\\tau, f, t) = \\sum^m_{i=1} f(u_i, v_i) S_{\\Delta x_i} $\n",
    "\n",
    "As a result:\n",
    "\n",
    "$ \\lim\\limits_{d \\to 0} S(\\tau, f, t) = \\iint_{A} f(x,y) dxdy $"
   ]
  },
  {
   "cell_type": "markdown",
   "metadata": {},
   "source": [
    "Assume we have a two variable function $f(x,y)$ over rectanglar subset\n",
    "\n",
    "$ \\Pi = [a,b] \\times [c,d] $"
   ]
  },
  {
   "cell_type": "markdown",
   "metadata": {},
   "source": [
    "The Fubini's theorem claims the following:\n",
    "\n",
    "$ \\iint_{\\Pi}f(x,y)dxdy=\\int_a^b(\\int_c^d f(x,y)dy)dx $"
   ]
  },
  {
   "cell_type": "markdown",
   "metadata": {},
   "source": [
    "Assume we have a two variable function f(x,y) over non-rectangular subset formed by lower and upper bounds $u(x)$ and $l(x)$"
   ]
  },
  {
   "cell_type": "markdown",
   "metadata": {},
   "source": [
    "The Fubini's theorem claims the following:\n",
    "\n",
    "$ \\iint_{A}f(x,y)dxdy=\\int_a^b(\\int_{l(x)}^{u(x)} f(x,y)dy)dx $"
   ]
  },
  {
   "cell_type": "markdown",
   "metadata": {},
   "source": [
    "$ \\iint_{[a,b]\\times[c,d]} f(x)g(y) dxdy = \\int_a^b f(x) dx \\cdot \\int_c^d g(y) dy $"
   ]
  }
 ],
 "metadata": {
  "kernelspec": {
   "display_name": "Python 3",
   "language": "python",
   "name": "python3"
  },
  "language_info": {
   "codemirror_mode": {
    "name": "ipython",
    "version": 3
   },
   "file_extension": ".py",
   "mimetype": "text/x-python",
   "name": "python",
   "nbconvert_exporter": "python",
   "pygments_lexer": "ipython3",
   "version": "3.6.9"
  }
 },
 "nbformat": 4,
 "nbformat_minor": 2
}
