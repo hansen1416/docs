{
 "cells": [
  {
   "cell_type": "markdown",
   "metadata": {},
   "source": [
    "The function of several (but of finite number of) real variables:\n",
    "\n",
    "$ f(x_1, x_2, \\dots, x_n): R^n \\to R $\n",
    "\n",
    "is called a __multivariate function__."
   ]
  },
  {
   "cell_type": "markdown",
   "metadata": {},
   "source": [
    "The concepts of __domain, range, support__ remains the same. The graph of the multivariate function exists in the $ R^{n+1} $ space (n variables + value) and is called a surface "
   ]
  },
  {
   "cell_type": "markdown",
   "metadata": {},
   "source": [
    "The set of plane point (x, y) that satisfies the equation f(x, y) = C for given C is called the function's __level__ or (C-level).\n",
    "\n",
    "- Different levels do not intersect\n",
    "- Each point in the function's domain belongs to some level"
   ]
  },
  {
   "cell_type": "markdown",
   "metadata": {},
   "source": [
    "limits\n",
    "--"
   ]
  },
  {
   "cell_type": "markdown",
   "metadata": {},
   "source": [
    "$ \\lim\\limits_{(x,y) \\to (a,b)} f(x,y) = C \\iff \\forall \\epsilon > 0 \\;\\; \\exists \\delta > 0 $ such as $ \\forall(x, y):0 < p((x,y),(a,b)) < \\delta \\implies |f(x,y) - C| < \\epsilon $"
   ]
  },
  {
   "cell_type": "markdown",
   "metadata": {},
   "source": [
    "distance between (a,b) and (x,y) = $ \\sqrt{(x-a)^2 + (y-b)^2} $"
   ]
  },
  {
   "cell_type": "markdown",
   "metadata": {},
   "source": [
    "Basic ideas to calculate multivariate limits:\n",
    "\n",
    "- to prove its absence: find a pair of approaches with different limits;\n",
    "- to calculate it: try to use only functons of single variables"
   ]
  },
  {
   "cell_type": "markdown",
   "metadata": {},
   "source": [
    "__example__\n",
    "\n",
    "$ \\lim\\limits_{(x,y) \\to (0, a)} \\frac{sin(xy)}{x} = a $\n",
    "\n",
    "$ \\lim\\limits_{(x,y) \\to (0,0)} \\frac{xy}{x^2+y^2} $"
   ]
  },
  {
   "cell_type": "markdown",
   "metadata": {},
   "source": [
    "$ \\lim\\limits_{(x,y) \\to (0,0)} \\frac{x^2 y}{x^2+y^2} \\leq \\frac{x^2 y}{x^2} \\to y \\to 0 $\n",
    "\n",
    "or $ x = r cos\\,\\varphi, y=r sin\\,\\varphi \\;\\;\\;\\; \\lim\\limits_{r \\to 0}\\frac{r^3 cos^2\\varphi sin\\varphi}{r^2} \\to r \\to 0 $"
   ]
  }
 ],
 "metadata": {
  "kernelspec": {
   "display_name": "Python 3",
   "language": "python",
   "name": "python3"
  },
  "language_info": {
   "codemirror_mode": {
    "name": "ipython",
    "version": 3
   },
   "file_extension": ".py",
   "mimetype": "text/x-python",
   "name": "python",
   "nbconvert_exporter": "python",
   "pygments_lexer": "ipython3",
   "version": "3.6.9"
  }
 },
 "nbformat": 4,
 "nbformat_minor": 2
}
