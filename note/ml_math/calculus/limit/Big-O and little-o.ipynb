{
 "cells": [
  {
   "cell_type": "markdown",
   "metadata": {},
   "source": [
    "https://stackoverflow.com/questions/1364444/difference-between-big-o-and-little-o-notation"
   ]
  },
  {
   "cell_type": "markdown",
   "metadata": {},
   "source": [
    "Big-O\n",
    "--"
   ]
  },
  {
   "cell_type": "markdown",
   "metadata": {},
   "source": [
    "As $ x \\to a, f(x) = O(g(x)) $ if for some neighborhood of the point $ x=a $ one could find a constant $ C > 0 $ that $ |f(x)| \\leq C \\cdot |g(x)| $\n",
    "\n",
    "Example: $ f(x) = x^n  \\;and\\;  g(x) = x^m, x \\to 0 \\;or\\; x \\to +\\infty $\n",
    "\n",
    "$ |x^n| \\leq C|x^m| \\implies 1 \\leq C \\cdot |x^{m-n}| $\n",
    "\n",
    "when $ x \\to 0 $, above is true when $ m \\leq n $\n",
    "\n",
    "when $ x \\to \\infty $, above is true when $ m \\geq n $\n",
    "\n",
    "Example: $ f(x) = sin\\,x $ and $ g(x) = x^m, x \\to 0 $ or $ x \\to +\\infty $\n",
    "\n",
    "when $ x \\to \\infty $, $ sinc\\,x \\leq C \\cdot x^m $ is true for $m \\geq 1$\n",
    "\n",
    "when $ x \\to 0 $, $ sinc\\,x \\leq C \\cdot x^m $ is true when m=1\n",
    "\n",
    "when $ x \\to 0, m = 2 $, we have $ |\\frac{sin\\,x}{x^2}| = |\\frac{1}{x}| = \\infty \\nleq C $"
   ]
  },
  {
   "cell_type": "markdown",
   "metadata": {},
   "source": [
    "$ f(n) = O(g(n)) $ if there exists a positive integer $ n_0 $ and a positive constant $c$, such that $ f(n) \\leq c \\cdot g(n) \\;\\forall\\; n \\leq n_0 $\n",
    "\n",
    "- Figure out what the input is and what n represents.\n",
    "- Express the maximum number of operations, the algorithm performs in terms of n.\n",
    "- Eliminate all excluding the highest order terms.\n",
    "- Remove all the constant factors."
   ]
  },
  {
   "cell_type": "markdown",
   "metadata": {},
   "source": [
    "Some of the useful properties on Big-O notation analysis are as follow:\n",
    "\n",
    "- Constant Multiplication:\n",
    "\n",
    "if $ f(n) = c \\cdot g(n) $, then $ O(f(n)) = O(g(n)) $; where c is a nonzero constant.\n",
    "\n",
    "- Polynomial Function:\n",
    "\n",
    "if $ f(n) = a_0 + a_1 \\cdot n^2 + a_2 \\cdot n^2 + \\dotsm + a_m \\cdot n^m $, then $ O(f(n))= O(n^m) $\n",
    "\n",
    "- Summation Function:\n",
    "\n",
    "if $ f(n) = f_1(n) + f_2(n) + \\dotsm + f_m(n) $ and $ f_i(n) \\leq f_{i+1}(n)\\;\\forall\\; i = 1,2, \\dotsm , m $, \n",
    "\n",
    "then $O(f(n)) = O(max(f_1(n), f_2(n), \\dotsm ,f_m(n)))$\n",
    "\n",
    "if $ f(n) = \\log_{a}n $ and $ g(n)=log_{b}n $, then $ O(f(n)) = O(g(n)) $\n",
    "\n",
    "all log function grow in the same manner in terms of Big-O"
   ]
  },
  {
   "cell_type": "markdown",
   "metadata": {},
   "source": [
    "Basically, this asymptotic notation is used to measure and compare the worst-case scenarios of algorithms theoretically. For any algorithm, the Big-O analysis should be straightforward as long as we correctly identify the operations that are dependent on n, the input size."
   ]
  },
  {
   "cell_type": "markdown",
   "metadata": {},
   "source": [
    "__Example__\n",
    "\n",
    "$ O(x^n)+O(x^m) = O(x^{max(n,m)}), x \\to +\\infty $\n",
    "\n",
    "Assume $ m \\geq n $\n",
    "\n",
    "$ |O(x^n)+O(x^m)| \\leq |O(x^n)| + |O(x^m)| \\leq C_1 x^n+C_2 x^m = (C_1 x^{n-m}+C_2)x^m $\n",
    "\n",
    "Because $ n \\leq m $, thus there is a neighbourhood of $ x \\to \\infty $ (x can be chosen large enough) such that $ |x^{n-m}| \\leq 1 $. Thus we can roll with $ C = C_1+C_2 $"
   ]
  },
  {
   "cell_type": "markdown",
   "metadata": {},
   "source": [
    "Little-o\n",
    "--"
   ]
  },
  {
   "cell_type": "markdown",
   "metadata": {},
   "source": [
    "Whilst both functions approach 0, one function does it __sufficient faster__ than the other. Or, in other words, one function growth much faster than the other.\n",
    "\n",
    "$ f(x) = \\bar{o}(g(x)) \\;as\\; x \\to a \\iff \\lim\\limits_{x \\to a} \\frac{f(x)}{g(x)} = 0 $ or $ f(x) = \\alpha(x) \\cdot g(x) $ where $ \\lim\\limits_{x \\to a} \\alpha(x) = 0 $"
   ]
  },
  {
   "cell_type": "markdown",
   "metadata": {},
   "source": [
    "Example: $ x^n = \\bar{o}(x^m) $, as $ x \\to 0, x \\to \\infty $"
   ]
  },
  {
   "cell_type": "markdown",
   "metadata": {},
   "source": [
    "$ \\frac{x^n}{x^m} = x^{n-m} $\n",
    "\n",
    "when $ x \\to 0, n > m $\n",
    "\n",
    "when $ x \\to \\infty, n < m $"
   ]
  },
  {
   "cell_type": "markdown",
   "metadata": {},
   "source": [
    "Example: $ sin\\,x = \\bar{o}(x) $, as $ x \\to 0, x \\to \\infty $\n",
    "\n",
    "$ \\lim\\limits_{x \\to 0} \\frac{sin\\,x}{x} = 1; \\lim\\limits_{x \\to \\infty} \\frac{sin \\, x}{x} = 0; $ thus $ sin\\,x = \\bar{o}(x) $"
   ]
  },
  {
   "cell_type": "markdown",
   "metadata": {},
   "source": [
    "if $ f(x) = \\bar{o}(1), \\;as\\; x \\to a \\iff \\lim\\limits_{x \\to a}f(x) = 0 $\n",
    "\n",
    "if $ \\lim\\limits_{x \\to a} f(x) = A \\implies f(x) - A \\to 0 \\implies f(x) = A + \\bar{o}(1), \\;as\\; x \\to a $"
   ]
  },
  {
   "cell_type": "markdown",
   "metadata": {},
   "source": [
    "Example: $ \\lim\\limits_{x \\to 0} \\frac{sin\\,x}{x} = 1 $\n",
    "\n",
    "$ \\frac{sin\\,x}{x} = 1 + \\bar{o}(1) $\n",
    "\n",
    "$ sin\\,x = x + \\bar{o}(x) $\n",
    "\n",
    "$ sin\\frac{x}{2} = \\frac{x}{2} + \\bar{o}(x) $\n",
    "\n",
    "$ 1- cos\\,x = 2sin^2\\frac{x}{2} $\n",
    "\n",
    "$ cos\\,x = 1-2(\\frac{x}{2}+\\bar{o}(x))^2  = 1 - \\frac{x^2}{2}-2x\\bar{o}(x) - 2(\\bar{o}(x))^2 = 1 - \\frac{x^2}{2}-\\bar{o}(x^2) - \\bar{o}(x^2) = 1 - \\frac{x^2}{2}+\\bar{o}(x^2) $"
   ]
  },
  {
   "cell_type": "markdown",
   "metadata": {},
   "source": [
    "__Example__\n",
    "\n",
    "assume $ m \\geq n, x \\to 0 $\n",
    "\n",
    "$ o(x^n) + o(x^m) = \\alpha(x)x^n + \\beta(x)x^m = (\\alpha(x) + \\beta(x)x^{m-n})x^n $\n",
    "\n",
    "since $ m \\geq n, x^{m-n} $ is either infinitesimal or 1. Acquiring $ \\alpha(x) \\to 0 $ and $ \\beta(x) \\to 0 $ we get $ \\alpha(x) + \\beta(x)x^{m-n} \\to 0 $\n",
    "\n",
    "thus \n",
    "\n",
    "$ o(x^n) + o(x^m) = o(x^{min(n,m)}) $"
   ]
  },
  {
   "cell_type": "markdown",
   "metadata": {},
   "source": [
    "__Example__\n",
    "\n",
    "$ o(x^n)o(x^m) = o(x^{m+n}) $\n",
    "\n",
    "$ o(x^n)o(x^m) = \\alpha(x)x^n\\beta(x)x^m = (\\alpha(x)\\cdot\\beta(x))x^{m+n} $\n",
    "\n",
    "$ \\alpha(x) \\to 0, \\beta(x) \\to 0 $, their product is infinitesimal."
   ]
  },
  {
   "cell_type": "markdown",
   "metadata": {},
   "source": [
    "Asymptopic and binomials\n",
    "--"
   ]
  },
  {
   "cell_type": "markdown",
   "metadata": {},
   "source": [
    "__stirling asymptotic rule__"
   ]
  },
  {
   "cell_type": "markdown",
   "metadata": {},
   "source": [
    "$ l < k < n $\n",
    "\n",
    "$ \\frac{n-l}{k-l} > \\frac{n}{k} $\n",
    "\n",
    "prove $ k(n-l) > n(k-l);\\; nk-kl > nk-nl;\\; -kl > -nl $\n",
    "\n",
    "Thus we get\n",
    "\n",
    "$ (\\frac{n}{k})^k \\leq \\binom{n}{k} $\n",
    "\n",
    "prove $ \\binom{n}{k} = \\frac{n!}{k!(n-k)!} = \\frac{n(n-1)(n-2) \\dots (n-k+1)}{k(k-1)(k-2)\\dots(k-k+1)} \\geq (\\frac{n}{k})^k $\n",
    "\n",
    "Easy to add here\n",
    "\n",
    "$ (\\frac{n}{k})^k \\leq \\binom{n}{k} \\leq \\frac{n^k}{k!} $\n",
    "\n",
    "prove $ \\frac{n(n-1)(n-2) \\dots (n-k+1)}{k!} \\leq \\frac{n^k}{k!} $"
   ]
  },
  {
   "cell_type": "markdown",
   "metadata": {},
   "source": [
    "the factorials grows as fast as n power n plus one half\n",
    "\n",
    "$ n! $ ~ $ \\sqrt{2 \\pi n}(\\frac{n}{e})^n \\implies \\frac{1}{n!} < (\\frac{e}{n})^n $\n",
    "\n",
    "prove $ \\frac{1}{n!} $ ~ $ \\frac{1}{\\sqrt{2 \\pi n}}\\cdot(\\frac{e}{n})^n \\;\\;\\;\\; \\frac{1}{n!} = \\bar{o}((\\frac{e}{n})^n) $"
   ]
  },
  {
   "cell_type": "markdown",
   "metadata": {},
   "source": [
    "$ (\\frac{n}{k})^k \\leq \\binom{n}{k} \\leq \\frac{n^k}{k!} \\leq (\\frac{e\\cdot n}{k})^k $\n",
    "\n",
    "prove $ \\frac{1}{k!} \\cdot n^k  \\leq (\\frac{e}{k})^k \\cdot n^k $"
   ]
  },
  {
   "cell_type": "markdown",
   "metadata": {},
   "source": [
    "To finalize our binomal asymptotic:"
   ]
  },
  {
   "cell_type": "markdown",
   "metadata": {},
   "source": [
    "$ (\\frac{2n}{n}) $ ~ $ \\frac{2^{2n}}{\\sqrt{\\pi n}} $\n",
    "\n",
    "prove $ (\\frac{2n}{n}) = \\frac{(2n)!}{(n!)^2} $ ~ $ \\frac{\\sqrt{2 \\pi 2n}(\\frac{2n}{e})^{2n}}{2 \\pi n \\cdot (\\frac{n}{e})^{2n}} = \\frac{2^{2n}}{\\sqrt{\\pi n}} $"
   ]
  },
  {
   "cell_type": "markdown",
   "metadata": {},
   "source": [
    "\n"
   ]
  }
 ],
 "metadata": {
  "kernelspec": {
   "display_name": "Python 3",
   "language": "python",
   "name": "python3"
  },
  "language_info": {
   "codemirror_mode": {
    "name": "ipython",
    "version": 3
   },
   "file_extension": ".py",
   "mimetype": "text/x-python",
   "name": "python",
   "nbconvert_exporter": "python",
   "pygments_lexer": "ipython3",
   "version": "3.6.9"
  }
 },
 "nbformat": 4,
 "nbformat_minor": 2
}
