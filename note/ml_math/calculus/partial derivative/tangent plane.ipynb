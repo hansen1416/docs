{
 "cells": [
  {
   "cell_type": "markdown",
   "metadata": {},
   "source": [
    "__Scalar equation of the plane__\n",
    "\n",
    "$ a(x-x_0) + b(y-y_0) + c(z-z_0) = 0 $\n",
    "\n",
    "where $(x_0,y_0,z_0)$ is a point of the plane, and $a,b,c$ is an __orthogonal__ vector (to the plane = to every vector in the plane) "
   ]
  },
  {
   "cell_type": "markdown",
   "metadata": {},
   "source": [
    "Scalar product of two vetor is a mapping to real numbers\n",
    "\n",
    "$ (\\vec{a},\\vec{b}) = a_x b_x + a_y b_y + a_z b_z = |a|\\cdot|b|\\cdot cos \\gamma $\n",
    "\n",
    "$ \\vec{a} \\perp \\vec{b} \\implies cos \\gamma = 0 \\implies (\\vec{a},\\vec{b}) = 0 $"
   ]
  },
  {
   "cell_type": "markdown",
   "metadata": {},
   "source": [
    "We know the point - it is $(a,b,f(a,b))$. The orthogonal should be orthogonal to both direction vector of tangent lines:\n",
    "\n",
    "$(1,0,f^{\\prime}_x(a,b))$ and $(0,1,f^{\\prime}_y(a,b))$"
   ]
  },
  {
   "cell_type": "markdown",
   "metadata": {},
   "source": [
    "It is easy to guess the answer here:\n",
    "\n",
    "$ \\vec{n} = (f^{\\prime}_x(a,b),f^{\\prime}_y(a,b),-1) $"
   ]
  },
  {
   "cell_type": "markdown",
   "metadata": {},
   "source": [
    "$ f^{\\prime}_x(a,b)(x-a) - f^{\\prime}_y(a,b)(y-b) - (z-f(a,b)) = 0 $"
   ]
  },
  {
   "cell_type": "markdown",
   "metadata": {},
   "source": [
    "$z = f(a,b)+f^{\\prime}_x\\cdot(x-a)+f^{\\prime}_y\\cdot(y-b)$"
   ]
  }
 ],
 "metadata": {
  "kernelspec": {
   "display_name": "Python 3",
   "language": "python",
   "name": "python3"
  },
  "language_info": {
   "codemirror_mode": {
    "name": "ipython",
    "version": 3
   },
   "file_extension": ".py",
   "mimetype": "text/x-python",
   "name": "python",
   "nbconvert_exporter": "python",
   "pygments_lexer": "ipython3",
   "version": "3.6.9"
  }
 },
 "nbformat": 4,
 "nbformat_minor": 2
}
