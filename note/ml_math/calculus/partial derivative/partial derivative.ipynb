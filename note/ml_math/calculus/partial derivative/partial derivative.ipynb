{
 "cells": [
  {
   "cell_type": "markdown",
   "metadata": {},
   "source": [
    "$ {\\large \\frac{\\partial f}{\\partial x} = \\lim\\limits_{x \\to a} \\frac{f(x,b) - f(a,b)}{x-a} = (f(x,a))^{\\prime}_x |_{x=a}  }$"
   ]
  },
  {
   "cell_type": "markdown",
   "metadata": {},
   "source": [
    "__Failure of Clairaut's theorem where both mixed partials are defined but not equal__\n",
    "\n",
    "$\n",
    "f(x,y) =\n",
    "\\begin{cases}\n",
    "\\frac{xy(x^2-y^2)}{x^2+y^2}, (x,y)\\ne(0,0) \\\\\n",
    "0, (x,y)=(0,0)\n",
    "\\end{cases}\n",
    "$"
   ]
  },
  {
   "cell_type": "markdown",
   "metadata": {},
   "source": [
    "$ f_x(x,y) \\;\\;for\\;\\; (x,y) \\ne (0,0) = \\frac{(x^2+y^2)(3x^2y-y^3)-2x^2y(x^2-y^2)}{(x^2+y^2)^2} = \\frac{x^4y+4x^2y^3-y^5}{(x^2+y^2)^2} $\n",
    "\n",
    "$ f_y(x,y) \\;\\;for\\;\\; (x,y) \\ne (0,0) = \\frac{(x^2+y^2)(x^3-3xy^2)-2xy^2(x^2-y^2)}{(x^2+y^2)^2} = \\frac{x^5-4x^3y^2-xy^4}{(x^2+y^2)^2} $"
   ]
  },
  {
   "cell_type": "markdown",
   "metadata": {},
   "source": [
    "$ f_x(0,y) \\;\\;for\\;\\; y\\ne0 = -y $\n",
    "\n",
    "$ f_y(x,0) \\;\\;for\\;\\; x\\ne0 = x $"
   ]
  },
  {
   "cell_type": "markdown",
   "metadata": {},
   "source": [
    "$ f_x(0,0) = \\lim\\limits_{x \\to 0}\\frac{f(x,0)-f(0,0)}{x-0} = 0$\n",
    "\n",
    "$ f_y(0,0) = \\lim\\limits_{y \\to 0}\\frac{f(0,y)-f(0,0)}{y-0} = 0$"
   ]
  },
  {
   "cell_type": "markdown",
   "metadata": {},
   "source": [
    "$ f_{xy}(0,0) = \\lim\\limits_{y \\to 0}\\frac{f_x(0,y)-f_x(0,0)}{y}=-1$\n",
    "\n",
    "$ f_{yx}(0,0) = \\lim\\limits_{x \\to 0}\\frac{f_y(x,0)-f_x(0,0)}{x}=1 $"
   ]
  }
 ],
 "metadata": {
  "kernelspec": {
   "display_name": "Python 3",
   "language": "python",
   "name": "python3"
  },
  "language_info": {
   "codemirror_mode": {
    "name": "ipython",
    "version": 3
   },
   "file_extension": ".py",
   "mimetype": "text/x-python",
   "name": "python",
   "nbconvert_exporter": "python",
   "pygments_lexer": "ipython3",
   "version": "3.6.9"
  }
 },
 "nbformat": 4,
 "nbformat_minor": 2
}
