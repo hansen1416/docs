{
 "cells": [
  {
   "cell_type": "markdown",
   "metadata": {},
   "source": [
    "Assume we have a multi variate function $f(x,y)$ where both variables dependent x=x(t) and y=y(t) on some other  independent variable t\n",
    "\n",
    "${\\large \\frac{df}{dt} = \\frac{\\partial{f}}{\\partial x}\\cdot \\frac{dx}{dt} + \\frac{\\partial{f}}{\\partial y}\\cdot \\frac{dy}{dt} }$"
   ]
  },
  {
   "cell_type": "markdown",
   "metadata": {},
   "source": [
    "The set of functions (x(t), y(t)) can be seen as a vector function $g(x)$\n",
    "\n",
    "$g(x)=\\binom{x(t)}{y(t)}: R \\to R^2$\n",
    "\n",
    "since both coordinates are directly independent, it derivative is $g^{\\prime}(t)=(x^{\\prime}(t),y^{\\prime}(t))$"
   ]
  },
  {
   "cell_type": "markdown",
   "metadata": {},
   "source": [
    "\n",
    "${\\large \\frac{df}{dt} = \\frac{\\partial{f}}{\\partial x}\\cdot \\frac{dx}{dt} + \\frac{\\partial{f}}{\\partial y}\\cdot \\frac{dy}{dt} } = (\\nabla f, g^{\\prime}(t))$"
   ]
  },
  {
   "cell_type": "markdown",
   "metadata": {},
   "source": [
    "__Implicit derivative__\n",
    "\n",
    "whilst there is a function itself is probably unobtainable, its derivative can always be written explicitly with the following trick: let the governing equation for the function $y(x)$ be\n",
    "\n",
    "$F(x,y)=0$\n",
    "\n",
    "We are interested in trajectories that solve this equation; thus we should get 00 at every point of the curve $(x,y(x))$\n",
    "\n",
    "$F(x,y(x))=0$\n",
    "\n",
    "Let us differentiate both parts of the identity with respect to $x$:\n",
    "\n",
    "$\\frac{d}{dx}F(x,y(x))=0$\n",
    "\n",
    "Here we got a standard setup for the chain rule in case of one independent variable (in given case — $x$). As a result we get:\n",
    "\n",
    "$F^{\\prime}_x(x,y)\\cdot x^{\\prime}_x + F^{\\prime}_y(x,y)\\cdot y^{\\prime}_x = 0$\n",
    "\n",
    "The value $y^{\\prime}_x=y^{\\prime}$ is our target derivative. So we get:\n",
    "\n",
    "$y^{\\prime} = -\\frac{F^{\\prime}_x}{F^{\\prime}_y}$\n",
    "\n",
    "Note: same idea can be properly generalised in case of implicit functions of more than one variable. The only thing you need to remember in such case is that that for partial derivatives you should consider all remaining variables *independent* and *constant*.\n",
    "\n",
    "Note: the general fact still seems rather surprising: it does not matter how hard it is to define function itself, but you can always get a derivative. The underlying reason here can be found in the following manner: assume your initial equation and take differential of both parts:"
   ]
  },
  {
   "cell_type": "markdown",
   "metadata": {},
   "source": [
    "__Example__\n",
    "\n",
    "$e^{yx} + sin y - x = 1$\n",
    "\n",
    "$F(x,y) = e^{yx} + sin y - x - 1=0$\n",
    "\n",
    "$F^{\\prime}_x(x,y) = ye^{yx} - 1$\n",
    "\n",
    "$F^{\\prime}_y(x,y) = xe^{yx} + cos y$\n",
    "\n",
    "$y^{\\prime} = \\frac{ye^{yx} - 1}{xe^{yx} + cos y}$\n",
    "\n",
    "Note: it is easy to understand the criteria where the implicit function is not well-defined: $F^{\\prime}_y(x,y) \\neq 0$, e.g. at such points the relation can lose functionality."
   ]
  }
 ],
 "metadata": {
  "kernelspec": {
   "display_name": "Python 3",
   "language": "python",
   "name": "python3"
  },
  "language_info": {
   "codemirror_mode": {
    "name": "ipython",
    "version": 3
   },
   "file_extension": ".py",
   "mimetype": "text/x-python",
   "name": "python",
   "nbconvert_exporter": "python",
   "pygments_lexer": "ipython3",
   "version": "3.6.9"
  }
 },
 "nbformat": 4,
 "nbformat_minor": 2
}
