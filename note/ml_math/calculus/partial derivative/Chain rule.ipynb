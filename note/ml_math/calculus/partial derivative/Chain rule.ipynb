{
 "cells": [
  {
   "cell_type": "markdown",
   "metadata": {},
   "source": [
    "__Plant's Eye View__\n",
    "\n",
    "assumes that you are a flower growing on the field. Thus you actually can see only your nearest neighbors and you do not understand that somewhere out there in two meters you have another flower and it's actually connected to you. So imagine that there is some wind blowing, then the flower which is two meters from you starts moving.\n",
    "\n",
    "But then as a chain of events happening the flower in two meters from you starts moving then it touches his neighbors, and then their neighbors and so on, so on, so on, and then the scent actually reaches you but you do not know that all these complicated thing happens, the only thing you know is that you've been touched by your neighbor. \n",
    "\n",
    "So we are going to understand how fast the function f changes, we do not know do not know the straightforward relation between f and t, right, but what we do know, we do know that f changes with the speed of partial derivative towards x, if x changes right? The same thing applies to y, if y changes and f changes with the speed partial derivative stops y. So the same thing applies for x and y respectively, right, so if x changes and it changes with the speed, x, the derivative of x towards t, and the same for y."
   ]
  },
  {
   "cell_type": "markdown",
   "metadata": {},
   "source": [
    "__differentiability is necessary for chain rule__\n",
    "\n",
    "For a multivariate function, differentiability is more powerful than having derivative. \n",
    "\n",
    "To check if f(x,y) is differentiable at (0,0). We need to check if f(x,y) is close to its tangent plane at (0,0), in this case the tangent plane is z=0. \n",
    "\n",
    "In other words we need to check if f(x,y) is infinitesimal towards the distance between (x,y) and (0.0), when (x,y) towards (0,0)\n",
    "\n",
    "$ \\lim\\limits_{x\\to0, y\\to0} \\frac{xy^2}{(x^2+y^2)\\sqrt{x^2+y^2}} = 1/2 $ when x=y\n",
    "\n",
    "so $ f(x,y) \\neq o(\\sqrt{x^2+y^2}) $ when (x,y) towards (0,0), so the fucntion f(x,y) is not differentiable at point (0,0). \n",
    "\n",
    "Thus differentiability is necessary for chain rule."
   ]
  },
  {
   "cell_type": "markdown",
   "metadata": {},
   "source": [
    "Assume we have a multi variate function $f(x,y)$ where both variables dependent x=x(t) and y=y(t) on some other  independent variable t\n",
    "\n",
    "${\\large \\frac{df}{dt} = \\frac{\\partial{f}}{\\partial x}\\cdot \\frac{dx}{dt} + \\frac{\\partial{f}}{\\partial y}\\cdot \\frac{dy}{dt} }$"
   ]
  },
  {
   "cell_type": "markdown",
   "metadata": {},
   "source": [
    "The set of functions (x(t), y(t)) can be seen as a vector function $g(x)$\n",
    "\n",
    "$g(x)=\\binom{x(t)}{y(t)}: R \\to R^2$\n",
    "\n",
    "since both coordinates are directly independent, it derivative is $g^{\\prime}(t)=(x^{\\prime}(t),y^{\\prime}(t))$"
   ]
  },
  {
   "cell_type": "markdown",
   "metadata": {},
   "source": [
    "\n",
    "${\\large \\frac{df}{dt} = \\frac{\\partial{f}}{\\partial x}\\cdot \\frac{dx}{dt} + \\frac{\\partial{f}}{\\partial y}\\cdot \\frac{dy}{dt} } = (\\nabla f, g^{\\prime}(t))$"
   ]
  },
  {
   "cell_type": "markdown",
   "metadata": {},
   "source": [
    "__Implicit derivative__\n",
    "\n",
    "whilst there is a function itself is probably unobtainable, its derivative can always be written explicitly with the following trick: let the governing equation for the function $y(x)$ be\n",
    "\n",
    "$F(x,y)=0$\n",
    "\n",
    "We are interested in trajectories that solve this equation; thus we should get 0 at every point of the curve $(x,y(x))$\n",
    "\n",
    "$F(x,y(x))=0$\n",
    "\n",
    "Let us differentiate both parts of the identity with respect to $x$:\n",
    "\n",
    "$\\frac{d}{dx}F(x,y(x))=0$\n",
    "\n",
    "Here we got a standard setup for the chain rule in case of one independent variable (in given case — $x$). As a result we get:\n",
    "\n",
    "$F^{\\prime}_x(x,y)\\cdot x^{\\prime}_x + F^{\\prime}_y(x,y)\\cdot y^{\\prime}_x = 0$\n",
    "\n",
    "The value $y^{\\prime}_x=y^{\\prime}$ is our target derivative. So we get:\n",
    "\n",
    "$y^{\\prime} = -\\frac{F^{\\prime}_x}{F^{\\prime}_y}$\n",
    "\n",
    "Note: same idea can be properly generalised in case of implicit functions of more than one variable. The only thing you need to remember in such case is that that for partial derivatives you should consider all remaining variables *independent* and *constant*.\n",
    "\n",
    "Note: the general fact still seems rather surprising: it does not matter how hard it is to define function itself, but you can always get a derivative. The underlying reason here can be found in the following manner: assume your initial equation and take differential of both parts:"
   ]
  },
  {
   "cell_type": "markdown",
   "metadata": {},
   "source": [
    "__Example__\n",
    "\n",
    "$e^{yx} + sin y - x = 1$\n",
    "\n",
    "$F(x,y) = e^{yx} + sin y - x - 1=0$\n",
    "\n",
    "$F^{\\prime}_x(x,y) = ye^{yx} - 1$\n",
    "\n",
    "$F^{\\prime}_y(x,y) = xe^{yx} + cos y$\n",
    "\n",
    "$y^{\\prime} = \\frac{ye^{yx} - 1}{xe^{yx} + cos y}$\n",
    "\n",
    "Note: it is easy to understand the criteria where the implicit function is not well-defined: $F^{\\prime}_y(x,y) \\neq 0$, e.g. at such points the relation can lose functionality."
   ]
  }
 ],
 "metadata": {
  "kernelspec": {
   "display_name": "Python 3",
   "language": "python",
   "name": "python3"
  },
  "language_info": {
   "codemirror_mode": {
    "name": "ipython",
    "version": 3
   },
   "file_extension": ".py",
   "mimetype": "text/x-python",
   "name": "python",
   "nbconvert_exporter": "python",
   "pygments_lexer": "ipython3",
   "version": "3.6.9"
  }
 },
 "nbformat": 4,
 "nbformat_minor": 2
}
