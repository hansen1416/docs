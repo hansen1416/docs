{
 "cells": [
  {
   "cell_type": "markdown",
   "metadata": {},
   "source": [
    "The function $f(x,y)$ is called differentiable at point $(x_0,y_0)$, if it is close to its tangent plane:\n",
    "\n",
    "$z=f(x_0,y_0)+f^{\\prime}_x(x_0,y_0)(x-x_0)+f^{\\prime}_y(x_0,y_0)(y-y_0)+R(x,y)$\n",
    "\n",
    "$R(x,y)=\\bar{o}(\\rho)=\\bar{o}(\\sqrt{(x-x_0)^2+(y-y_0)^2})$ the distance between two points"
   ]
  },
  {
   "cell_type": "markdown",
   "metadata": {},
   "source": [
    "__Note__\n",
    "\n",
    "Single variate functions:\n",
    "\n",
    "    differentialble = have derivative\n",
    "    \n",
    "Multi variate functions:\n",
    "\n",
    "    differentialble >> have derivative (more powerful)"
   ]
  },
  {
   "cell_type": "markdown",
   "metadata": {},
   "source": [
    "__Example__\n",
    "\n",
    "$f(x,y)=\\sqrt{|xy|}\\;at\\;(0,0)$\n",
    "\n",
    "$ \\lim\\limits_{x \\to 0,y \\to 0} \\frac{\\sqrt{|xy|}}{\\sqrt{x^2+y^2}} = \\lim\\limits_{x \\to 0,y \\to 0} \\sqrt{\\frac{|xy|}{x^2+y^2}} $\n",
    "\n",
    "Consider $x=y=t$\n",
    "\n",
    "$\\lim\\limits_{x \\to 0,y \\to 0} \\sqrt{\\frac{|xy|}{x^2+y^2}} = \\lim\\limits_{t \\to 0} \\sqrt{\\frac{1}{2}} \\neq 0$\n",
    "\n",
    "Not differntiable at (0,0)"
   ]
  },
  {
   "cell_type": "markdown",
   "metadata": {},
   "source": [
    "__Sufficient condition__\n",
    "\n",
    "If both partial derivatives $f^{\\prime}_x(x,y)$ and $f^{\\prime}_y(x,y)$ as functions of two variables are continuous at point (a,b), then function $f(x,y)$ is differentiable at this point"
   ]
  },
  {
   "cell_type": "markdown",
   "metadata": {},
   "source": [
    "To cover all the points of multivariate differentiability of the function $f(x,y)$ at the point $(a,b)$ we provide the following list:\n",
    "\n",
    "1. Check whether or not the function is bad enough already: does it have a discontinuity at the point of interest?\n",
    "\n",
    "    $\\lim\\limits_{(x,y)\\to(a,b)} f(x,y) \\neq f(a,b)$\n",
    "\n",
    "    If this inequality holds, then there is certainly no differentiability.\n",
    "    \n",
    "2. We need to compute partial derivatives at the point of interest\n",
    "\n",
    "    $f^{\\prime}_x(a,b) = (f(x,b))^{\\prime}|_{x=a}$\n",
    "    \n",
    "    $f^{\\prime}_y(a,b) = (f(a,y))^{\\prime}|_{y=a}$\n",
    "    \n",
    "    If any of them does not exist then there is no differentiability."
   ]
  },
  {
   "cell_type": "markdown",
   "metadata": {},
   "source": [
    "1. You are not obliged, but here you can try to use sufficient condition: instead of partial derivatives only at the point (a,b), you can find them at every point (x,y) and then check for discontinuities at the point (a,b). If both partial derivatives have no discontinuities at this point, then your function is differentiable at the point of interest.\n",
    "\n",
    "2. Another way (and the way if your previous attempt failed) is to check the definition:\n",
    "\n",
    "    $\\Delta f=df+o(\\rho)$\n",
    "    \n",
    "    In order to do it, you need to write down the differential\n",
    "    \n",
    "    $df=f^{\\prime}_x(a,b)(x-a)+f^{\\prime}_y(a,b)(y-b)$\n",
    "    \n",
    "    and check the definition of small $o$:\n",
    "    \n",
    "    $\\lim\\limits_{(x,y)\\to(a,b)} \\frac{z-f(a,b)-f^{\\prime}_x(a,b)(x-a)-f^{\\prime}_y(a,b)(y-b)}{\\sqrt{(x-a)^2+(y-b)^2}} = \\lim\\limits_{(x,y)\\to(a,b)} \\frac{f(x,y)-f(a,b)-df}{\\sqrt{(x-a)^2+(y-b)^2}} = 0$"
   ]
  }
 ],
 "metadata": {
  "kernelspec": {
   "display_name": "Python 3",
   "language": "python",
   "name": "python3"
  },
  "language_info": {
   "codemirror_mode": {
    "name": "ipython",
    "version": 3
   },
   "file_extension": ".py",
   "mimetype": "text/x-python",
   "name": "python",
   "nbconvert_exporter": "python",
   "pygments_lexer": "ipython3",
   "version": "3.6.9"
  }
 },
 "nbformat": 4,
 "nbformat_minor": 2
}
