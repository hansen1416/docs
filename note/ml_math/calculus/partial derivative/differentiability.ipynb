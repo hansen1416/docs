{
 "cells": [
  {
   "cell_type": "markdown",
   "metadata": {},
   "source": [
    "The function $f(x,y)$ is called differentiable at point $(x_0,y_0)$, if it is close to its tangent plane:\n",
    "\n",
    "$z=f(x_0,y_0)+f^{\\prime}_x(x_0,y_0)(x-x_0)+f^{\\prime}_y(x_0,y_0)(y-y_0)+R(x,y)$\n",
    "\n",
    "$R(x,y)=\\bar{o}(\\rho)=\\bar{o}(\\sqrt{(x-x_0)^2+(y-y_0)^2})$ the distance between two points"
   ]
  },
  {
   "cell_type": "markdown",
   "metadata": {},
   "source": [
    "__Note__\n",
    "\n",
    "Single variate functions:\n",
    "\n",
    "    differentialble = have derivative\n",
    "    \n",
    "Multi variate functions:\n",
    "\n",
    "    differentialble >> have derivative (more powerful)"
   ]
  }
 ],
 "metadata": {
  "kernelspec": {
   "display_name": "Python 3",
   "language": "python",
   "name": "python3"
  },
  "language_info": {
   "codemirror_mode": {
    "name": "ipython",
    "version": 3
   },
   "file_extension": ".py",
   "mimetype": "text/x-python",
   "name": "python",
   "nbconvert_exporter": "python",
   "pygments_lexer": "ipython3",
   "version": "3.6.9"
  }
 },
 "nbformat": 4,
 "nbformat_minor": 2
}
