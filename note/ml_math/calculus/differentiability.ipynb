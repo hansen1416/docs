{
 "cells": [
  {
   "cell_type": "markdown",
   "metadata": {},
   "source": [
    "The change of the function between $x$ and $a$ is denoted:\n",
    "\n",
    "$ \\Delta f = f(x)-f(a) $"
   ]
  },
  {
   "cell_type": "markdown",
   "metadata": {},
   "source": [
    "The change of the argument between $x$ and $a$ is denoted:\n",
    "\n",
    "$ \\Delta x = x -a $"
   ]
  },
  {
   "cell_type": "markdown",
   "metadata": {},
   "source": [
    "The linear (principal) part of the function's change is called __differential__ $df$,  \n",
    "The differential is not necessaryly coincides with real function change:\n",
    "\n",
    "$ df = f^{\\prime}dx $"
   ]
  },
  {
   "cell_type": "markdown",
   "metadata": {},
   "source": [
    "Function is called differentiable if $ \\Delta f \\approx df $ or excatly\n",
    "\n",
    "$ \\Delta f = df + o(x-a) $\n",
    "\n",
    "For singlevariate (and only) function it is the same as __having derivative__"
   ]
  }
 ],
 "metadata": {
  "kernelspec": {
   "display_name": "Python 3",
   "language": "python",
   "name": "python3"
  },
  "language_info": {
   "codemirror_mode": {
    "name": "ipython",
    "version": 3
   },
   "file_extension": ".py",
   "mimetype": "text/x-python",
   "name": "python",
   "nbconvert_exporter": "python",
   "pygments_lexer": "ipython3",
   "version": "3.6.9"
  }
 },
 "nbformat": 4,
 "nbformat_minor": 2
}
