{
 "cells": [
  {
   "cell_type": "markdown",
   "metadata": {},
   "source": [
    "$ \\frac{\\partial f}{\\partial l} = (\\nabla f, \\vec{l}) = |\\nabla f| \\cdot |\\vec{l}| \\cdot cos \\gamma$"
   ]
  },
  {
   "cell_type": "markdown",
   "metadata": {},
   "source": [
    "- For a given point (a,b) the gradient $\\nabla f$ is fixed (thus its length is also fixed)\n",
    "\n",
    "- The length of the direction is given by definition |l| = 1\n",
    "\n",
    "- Thus one should maximize cosine function: $\\gamma = 0$"
   ]
  },
  {
   "cell_type": "markdown",
   "metadata": {},
   "source": [
    "As a result for given point the __speed of maximal growth__:\n",
    "\n",
    "$ f^{\\prime}_{l_{max}} = |\\nabla f| $\n",
    "\n",
    "Where the direction of maximal growth $l_{max} = \\frac{\\nabla f}{|\\nabla f|}$"
   ]
  }
 ],
 "metadata": {
  "kernelspec": {
   "display_name": "Python 3",
   "language": "python",
   "name": "python3"
  },
  "language_info": {
   "codemirror_mode": {
    "name": "ipython",
    "version": 3
   },
   "file_extension": ".py",
   "mimetype": "text/x-python",
   "name": "python",
   "nbconvert_exporter": "python",
   "pygments_lexer": "ipython3",
   "version": "3.6.9"
  }
 },
 "nbformat": 4,
 "nbformat_minor": 2
}
