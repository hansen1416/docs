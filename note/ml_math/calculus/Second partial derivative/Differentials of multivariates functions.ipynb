{
 "cells": [
  {
   "cell_type": "markdown",
   "metadata": {},
   "source": [
    "concept of differential\n",
    "\n",
    "singlevariate functions: the change of function if it were its __tangent line__\n",
    "\n",
    "multivariate functions: the change of function if it were its __tangent (hyper) plane__\n",
    "\n",
    "$df = f^{\\prime}_x dx+f^{\\prime}_y dy = (\\nabla f(a,b),d\\vec{x})$"
   ]
  },
  {
   "cell_type": "markdown",
   "metadata": {},
   "source": [
    "operator notation:\n",
    "\n",
    "${\\large df=\\frac{\\partial f}{\\partial x}dx+\\frac{\\partial f}{\\partial y}dy=[\\frac{\\partial}{\\partial x}dx+\\frac{\\partial}{\\partial y}]f }$"
   ]
  },
  {
   "cell_type": "markdown",
   "metadata": {},
   "source": [
    "second differential:\n",
    "\n",
    "${\\large d^2f = d(df)= d[f^{\\prime}_x dx+f^{\\prime}_y dy]=[\\frac{\\partial}{\\partial x}dx+\\frac{\\partial}{\\partial y}]^2f }$\n",
    "\n",
    "if operator of differetiate is __commutative__, (as in Claraut's theorem), then we get:\n",
    "\n",
    "${\\large d^2f = \\frac{\\partial^2 f}{\\partial x^2} d x^2 + 2\\frac{\\partial^2 f}{\\partial x \\partial y} d x dy + \\frac{\\partial^2 f}{\\partial y2} d y^2}$"
   ]
  }
 ],
 "metadata": {
  "kernelspec": {
   "display_name": "Python 3",
   "language": "python",
   "name": "python3"
  },
  "language_info": {
   "codemirror_mode": {
    "name": "ipython",
    "version": 3
   },
   "file_extension": ".py",
   "mimetype": "text/x-python",
   "name": "python",
   "nbconvert_exporter": "python",
   "pygments_lexer": "ipython3",
   "version": "3.6.9"
  }
 },
 "nbformat": 4,
 "nbformat_minor": 2
}
