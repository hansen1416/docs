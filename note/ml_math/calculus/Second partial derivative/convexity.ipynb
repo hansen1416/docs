{
 "cells": [
  {
   "cell_type": "markdown",
   "metadata": {},
   "source": [
    "We extrapolate the definition of convex functions to multivariate case:\n",
    "\n",
    "$ \\forall \\vec{x},\\vec{y} \\in D, \\;\\; \\forall \\alpha \\in [0,1]: $\n",
    "\n",
    "$f(\\alpha \\vec{x}+(1-\\alpha)\\vec{y}) < \\alpha f(\\vec{x}) + (1-\\alpha)f(\\vec{y})$"
   ]
  },
  {
   "cell_type": "markdown",
   "metadata": {},
   "source": [
    "In case of single variable, the function is convex if $f^{\\prime\\prime}(x) > 0:$\n",
    "\n",
    "if $f^{\\prime\\prime}(x) > 0 \\implies f^{\\prime\\prime}(x) d x^2 > 0 \\implies d^2f>0$ for all $dx$"
   ]
  },
  {
   "cell_type": "markdown",
   "metadata": {},
   "source": [
    "Function $ f(\\vec{x}) $ is convex if $d^2f>0$ for all $d\\vec{x}$"
   ]
  },
  {
   "cell_type": "markdown",
   "metadata": {},
   "source": [
    "$d^2f=f^{\\prime\\prime}_{xx}dx^2+2f^{\\prime\\prime}_{xy}dxdy+f^{\\prime\\prime}_{yy}dy^2$"
   ]
  },
  {
   "cell_type": "markdown",
   "metadata": {},
   "source": [
    "$D = f^{\\prime\\prime}_{xx} \\cdot f^{\\prime\\prime}_{yy} - (f^{\\prime\\prime}_{xy})^2$"
   ]
  },
  {
   "cell_type": "markdown",
   "metadata": {},
   "source": [
    "Id D > 0 and "
   ]
  }
 ],
 "metadata": {
  "kernelspec": {
   "display_name": "Python 3",
   "language": "python",
   "name": "python3"
  },
  "language_info": {
   "codemirror_mode": {
    "name": "ipython",
    "version": 3
   },
   "file_extension": ".py",
   "mimetype": "text/x-python",
   "name": "python",
   "nbconvert_exporter": "python",
   "pygments_lexer": "ipython3",
   "version": "3.6.9"
  }
 },
 "nbformat": 4,
 "nbformat_minor": 2
}
