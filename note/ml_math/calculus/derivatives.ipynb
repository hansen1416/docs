{
 "cells": [
  {
   "cell_type": "markdown",
   "metadata": {},
   "source": [
    "$y=C\\;\\;\\;\\;y'=0$\n",
    "--"
   ]
  },
  {
   "cell_type": "markdown",
   "metadata": {},
   "source": [
    "$y=n^x\\;\\;\\;\\;y'=n^x\\ln_n$\n",
    "--"
   ]
  },
  {
   "cell_type": "markdown",
   "metadata": {},
   "source": [
    "$y=e^x\\;\\;\\;\\;y'=e^x$\n",
    "--"
   ]
  },
  {
   "cell_type": "markdown",
   "metadata": {},
   "source": [
    "$y=\\log_ax\\;\\;\\;\\;y'=\\frac{1}{x\\ln_a}$\n",
    "--"
   ]
  },
  {
   "cell_type": "markdown",
   "metadata": {},
   "source": [
    "$y=x^n\\;\\;\\;\\;y'=nx^{n-1}$\n",
    "--"
   ]
  },
  {
   "cell_type": "markdown",
   "metadata": {},
   "source": [
    "$y=\\sqrt[n]{x}\\;\\;\\;\\;y'=\\frac{x^{-\\frac{n-1}{n}}}{n}$\n",
    "--"
   ]
  },
  {
   "cell_type": "markdown",
   "metadata": {},
   "source": [
    "$y=\\frac{1}{x^n}\\;\\;\\;\\;y'=-\\frac{n}{x^{n+1}}$\n",
    "--"
   ]
  },
  {
   "cell_type": "markdown",
   "metadata": {},
   "source": [
    "$y=\\sin x\\;\\;\\;\\;y'=\\cos x$\n",
    "--"
   ]
  },
  {
   "cell_type": "markdown",
   "metadata": {},
   "source": [
    "$y=\\cos x\\;\\;\\;\\;y'=-\\sin x$\n",
    "--"
   ]
  },
  {
   "cell_type": "markdown",
   "metadata": {},
   "source": [
    "$y=\\tan x \\;\\;\\;\\;y'=\\frac{1}{\\cos^2 x}=\\sec^2 x$\n",
    "--"
   ]
  },
  {
   "cell_type": "markdown",
   "metadata": {},
   "source": [
    "$y=\\cot x\\;\\;\\;\\;y'=\\frac{-1}{\\sin^2 x} = -\\csc x$\n",
    "--"
   ]
  },
  {
   "cell_type": "markdown",
   "metadata": {},
   "source": [
    "$y=\\sec x\\;\\;\\;\\;y'=\\sec x \\tan x$\n",
    "--"
   ]
  },
  {
   "cell_type": "markdown",
   "metadata": {},
   "source": [
    "$y=\\csc x\\;\\;\\;\\;y'=-\\csc x \\cot x$\n",
    "--"
   ]
  },
  {
   "cell_type": "markdown",
   "metadata": {},
   "source": [
    "$y=\\arcsin x\\;\\;\\;\\;y'=\\frac{1}{\\sqrt{1-x^2}}$\n",
    "--"
   ]
  },
  {
   "cell_type": "markdown",
   "metadata": {},
   "source": [
    "$y=\\arccos x \\;\\;\\;\\;y'=-\\frac{1}{\\sqrt{1-x^2}}$\n",
    "--"
   ]
  },
  {
   "cell_type": "markdown",
   "metadata": {},
   "source": [
    "$y=\\arctan x\\;\\;\\;\\;y'=\\frac{1}{1+x^2}$\n",
    "--"
   ]
  },
  {
   "cell_type": "markdown",
   "metadata": {},
   "source": [
    "$y= arccot\\,x\\;\\;\\;\\;y'=-\\frac{1}{1+x^2}$\n",
    "--"
   ]
  },
  {
   "cell_type": "markdown",
   "metadata": {},
   "source": [
    "$y=\\sinh x\\;\\;\\;\\;y'=\\cosh x$\n",
    "--"
   ]
  }
 ],
 "metadata": {
  "kernelspec": {
   "display_name": "Python 3",
   "language": "python",
   "name": "python3"
  },
  "language_info": {
   "codemirror_mode": {
    "name": "ipython",
    "version": 3
   },
   "file_extension": ".py",
   "mimetype": "text/x-python",
   "name": "python",
   "nbconvert_exporter": "python",
   "pygments_lexer": "ipython3",
   "version": "3.6.8"
  }
 },
 "nbformat": 4,
 "nbformat_minor": 2
}
