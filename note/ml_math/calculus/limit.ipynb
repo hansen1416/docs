{
 "cells": [
  {
   "cell_type": "markdown",
   "metadata": {},
   "source": [
    "$ \\forall \\epsilon > 0:\\; \\exists N \\in \\mathbb{N} \\;\\; that \\;\\; \\forall n \\in \\mathbb{N} \\implies |a_n - C| < \\epsilon$\n",
    "\n",
    "For any deviation, there is a moment which is called capital N that afterwards, our sequence does not deviate from the limit's value more than this given deviation"
   ]
  },
  {
   "cell_type": "markdown",
   "metadata": {},
   "source": [
    "$ a=\\frac{1}{n}$\n",
    "\n",
    "Sequence has the limit equal to 0, it is called __infinitesimal__\n",
    "\n",
    "$ a_n=2n+1 $\n",
    "\n",
    "Sequence is __unbounded__ and __approaches__ $+\\infty$. this is not the same!\n",
    "\n",
    "$ a_n = sin\\, \\pi n $\n",
    "\n",
    "Sequence __has no limit__ or does not __converge__"
   ]
  },
  {
   "cell_type": "markdown",
   "metadata": {},
   "source": [
    "indeterminate forms\n",
    "--\n",
    "\n",
    "$ \\frac{\\infty}{\\infty},\\;\\frac{0}{0},\\;0\\times\\infty,\\;\\infty-\\infty,0^0,\\to1^\\infty $"
   ]
  },
  {
   "cell_type": "markdown",
   "metadata": {},
   "source": [
    "$ a>1 $\n",
    "\n",
    "$ \\lim\\limits_{x \\to \\infty} \\frac{n^k}{a^n} = 0 $\n",
    "\n",
    "$ \\lim\\limits_{x \\to \\infty} \\frac{\\ln^k{n}}{n^k} = 0 $"
   ]
  },
  {
   "cell_type": "markdown",
   "metadata": {},
   "source": [
    "If the series converges\n",
    "\n",
    "$ \\lim\\limits_{x \\to \\infty} \\sum_{n=1}^{x} a_n = \\lim\\limits_{x \\to \\infty}  (a_n + \\sum_{n=1}^{x-1} a_{n}) = \\lim\\limits_{x \\to \\infty} a_n + \\lim\\limits_{x \\to \\infty} \\sum_{n=1}^{x-1} a_{n}$\n",
    "\n",
    "\n",
    "$ \\lim\\limits_{x \\to \\infty} \\sum_{n=1}^{\\infty} a_n = \\lim\\limits_{x \\to \\infty} \\sum_{n=1}^{x-1} a_{n} \\implies \\lim\\limits_{x \\to \\infty} a_n = 0$"
   ]
  },
  {
   "cell_type": "markdown",
   "metadata": {},
   "source": [
    "Newton's binomial theorem\n",
    "--\n",
    "\n",
    "__binomial coefficient__ $ \\binom{n}{k} $\n",
    "\n",
    "\n",
    "The simplest idea to prove it is to subsequently consider the number of ways to choose each object: the first object can be chosen by $n$ ways; the second is chosen among the rest of the objects thus there is only $n-1$ possible option, the third – with $n−2$ possible options and so on until we choose the $k$th object amongst $n-k+1$. Since we do not care about objects' order, we should divide produced number by the number of all possible permutations of $k$ element set, which is similarly $k⋅(k−1)⋅(k−2)⋅…⋅1=k!$, thus we get:\n",
    "\n",
    "$ \\frac{n⋅(n-1)⋅...⋅(n-k+1)}{k!} = \\frac{n!}{k!(n-k)!} $\n",
    "\n",
    "__Newton's binomial theorem__, basically, states the relation between this binomial coefficients and $ (a+b)^n: $\n",
    "\n",
    "$ (a+b)^n = \\binom{n}{0} a^n + \\binom{n}{1} a^{n-1}b^1 + \\binom{n}{2} a^{n-2}b^{2} + ... + \\binom{n}{n-1} a^1 b^{n-1} + \\binom{n}{n} b^n $"
   ]
  },
  {
   "cell_type": "markdown",
   "metadata": {},
   "source": [
    "Definition of $e$\n",
    "--\n",
    "\n",
    "$ \\lim\\limits_{n \\to \\infty} (1+\\frac{1}{n})^n = e $\n",
    "\n",
    "denote the sequence as $e_n$\n",
    "\n",
    "To prove the existence of such limit, we decided to show two things: this sequence is __bounded__ and __monotonically__ growth. Let us start with upper boundary\n",
    "\n",
    "$ e_n = (1+\\frac{1}{n})^n = 1 + \\frac{n}{1!} \\frac{1}{n} + \\frac{n(n-1)}{2!} \\frac{1}{n^2} + \\frac{n(n-1)(n-2)}{3!} \\frac{1}{n^3} + ... + \\frac{1}{n^n} $\n",
    "\n",
    "we get that\n",
    "\n",
    "$ \\frac{n}{n} \\leq 1 \\;\\;\\;\\; \\frac{n(n-1)}{n^2} \\leq 1 \\;\\;\\;\\; \\frac{n(n-1)(n-2)}{n^3} \\leq 1$\n",
    "\n",
    "Thus\n",
    "\n",
    "$ e_n \\leq 1+\\frac{1}{1!} + \\frac{1}{2!} + \\frac{1}{3!} + ... + \\frac{1}{n!} \\leq 1+1+\\frac{1}{2} + \\frac{1}{2^2} + \\frac{1}{2^3} + ... + \\frac{1}{2^n} \\leq 3  $\n",
    "\n",
    "Thus it's bounded, then we need to prove $ \\frac{e_{n+1}}{e_n} > 1 $\n",
    "\n",
    "$ \\frac{e_n}{e_{n}} = \\frac{(\\frac{n+2}{n+1})^{n+1}}{(\\frac{n+1}{n})^n} =\\frac{n+2}{n+1} (\\frac{n^2+2n}{n^2+2n+1})^n \\geq \\frac{n+2}{n+1}(1-\\frac{n}{n^2+2n+1}) = \\frac{n^3+3n^2+3n+2}{n^3+3n^2+3n+1} \\geq 1 $\n",
    "\n",
    "The trick we used here is called Bernulli inequation and can be proven by the simple mathematical induction:\n",
    "\n",
    "$ (1+x)^n \\geq 1+nx, \\;\\; x > -1$"
   ]
  }
 ],
 "metadata": {
  "kernelspec": {
   "display_name": "Python 3",
   "language": "python",
   "name": "python3"
  },
  "language_info": {
   "codemirror_mode": {
    "name": "ipython",
    "version": 3
   },
   "file_extension": ".py",
   "mimetype": "text/x-python",
   "name": "python",
   "nbconvert_exporter": "python",
   "pygments_lexer": "ipython3",
   "version": "3.6.9"
  }
 },
 "nbformat": 4,
 "nbformat_minor": 2
}
