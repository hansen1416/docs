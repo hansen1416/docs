{
 "cells": [
  {
   "cell_type": "markdown",
   "metadata": {},
   "source": [
    "$ \\lim\\limits_{x \\to a} f(x) = C \\iff \\forall \\epsilon > 0 \\;\\; \\exists \\delta > 0 \\;\\; \\forall x: 0 < |x-a| < \\delta \\implies |f(x) - C| < \\epsilon  $\n",
    "\n",
    "$ x \\neq a $"
   ]
  },
  {
   "cell_type": "markdown",
   "metadata": {},
   "source": [
    "prove $ \\lim\\limits_{x \\to a} x^2 = a^2 $\n",
    "\n",
    "$ |x^2-a^2| = |(x-a)(x+a)| = |x-a||x+a| < \\delta \\cdot 2|a| < \\epsilon $\n",
    "\n",
    "$ \\delta = \\frac{\\epsilon}{2|a|} $"
   ]
  },
  {
   "cell_type": "markdown",
   "metadata": {},
   "source": [
    "$ \\nexists \\lim\\limits_{x \\to 0} sin\\frac{1}{x} $\n",
    "\n",
    "if $ \\frac{1}{x_n} = 2 \\pi n, x_n = \\frac{1}{2 \\pi n} \\to 0 $\n",
    "\n",
    "if $ \\frac{1}{y_n} = \\frac{\\pi}{2} + 2 \\pi n, y_n = \\frac{1}{\\frac{\\pi}{2} + 2 \\pi n} \\to 0 $\n",
    "\n",
    "but \n",
    "\n",
    "$ sin \\frac{1}{x_n} = 0 \\to 0 $\n",
    "\n",
    "$ sin \\frac{1}{y_n} = 1 \\to 1 $"
   ]
  },
  {
   "cell_type": "markdown",
   "metadata": {},
   "source": [
    "$ \\lim\\limits_{x \\to a}(f(x) + g(x)) = \\lim\\limits_{x \\to a} f(x) + \\lim\\limits_{x \\to a} g(x) $\n",
    "\n",
    "$ \\lim\\limits_{x \\to a}(f(x) - g(x)) = \\lim\\limits_{x \\to a} f(x) - \\lim\\limits_{x \\to a} g(x) $\n",
    "\n",
    "$ \\lim\\limits_{x \\to a}(f(x) \\cdot g(x)) = \\lim\\limits_{x \\to a} f(x) \\cdot \\lim\\limits_{x \\to a} g(x) $\n",
    "\n",
    "$ \\lim\\limits_{x \\to a}(f(x) / g(x)) = \\lim\\limits_{x \\to a} f(x) / \\lim\\limits_{x \\to a} g(x) \\;\\;\\;\\; \\lim\\limits_{x \\to a} g(x) \\neq 0 $\n",
    "\n",
    "It's only true if all the limits in the right hand side exist"
   ]
  },
  {
   "cell_type": "markdown",
   "metadata": {},
   "source": [
    "$ \\lim\\limits_{x \\to 1}\\frac{x^2-1}{x^3-1} = \\lim\\limits_{x \\to 1} \\frac{(x-1)(x+1)}{(x-1)(x^2+x+1)} = \\lim\\limits_{x \\to 1} \\frac{(x+1)}{(x^2+x+1)} = \\frac{2}{3} $"
   ]
  },
  {
   "cell_type": "markdown",
   "metadata": {},
   "source": [
    "indeterminate forms\n",
    "--\n",
    "\n",
    "$ \\frac{\\infty}{\\infty},\\;\\frac{0}{0},\\;0\\times\\infty,\\;\\infty-\\infty,0^0,\\to1^\\infty $\n",
    "\n",
    "$ \\frac{0}{0} = \\frac{\\frac{1}{\\infty}}{\\frac{1}{\\infty}} = \\frac{\\infty}{\\infty} $\n",
    "\n",
    "$ 1^{\\infty} = e^{\\ln 1^{\\infty}} = exp\\{\\infty \\cdot \\ln 1 \\} = exp\\{\\infty \\cdot 0 \\} $\n",
    "\n",
    "$ \\lim\\limits_{x \\to +\\infty} \\frac{a_0 + a_1 x + a_2 x^2 + \\dotsm + a_n x^n}{b_0 + b_1 x + b_2 x^2 + \\dotsm + b_m x^m} = \\lim\\limits_{x \\to +\\infty} \\frac{\\frac{a_0}{x^n} + \\frac{a_1}{x^{n-1}} + \\dotsm + \\frac{a_{n-1}}{x} + a_n}{\\frac{b_0}{x^n} + \\frac{b_1}{x^{n-1}} + \\dotsm + b_k + \\dotsm + b_m x^{m-n}} $\n",
    "\n",
    "$ \\lim\\limits_{x \\to +\\infty} \\frac{a_n}{b_k + \\dotsm + b_m x^{m-n}} $\n",
    "\n",
    "when $ m > n, \\frac{a_n}{\\infty} = 0 $\n",
    "\n",
    "when $ m < n, \\frac{a_n}{0} = \\infty $\n",
    "\n",
    "when $ m=n, \\frac{a_n}{b_m} $\n",
    "\n"
   ]
  },
  {
   "cell_type": "markdown",
   "metadata": {},
   "source": [
    "$ 1-cos\\,x = 2 sin^2\\,\\frac{x}{2} $"
   ]
  },
  {
   "cell_type": "markdown",
   "metadata": {},
   "source": [
    "$ \n",
    "\\lim\\limits_{x \\to \\infty}(sin\\frac{1}{x}+cos\\frac{1}{x})^x \n",
    "= \\lim\\limits_{t \\to 0}(1+sin\\,t+cos\\,t -1)^{\\frac{1}{t}}\n",
    "= e^{\\frac{sin\\,t+cos\\,t-1}{t}}\n",
    "= e^{\\frac{sin\\,t-2sin^2\\frac{t}{2}}{t}}\n",
    "= e^{\\frac{sin\\,t}{t}-\\frac{sin\\,\\frac{t}{2}}{\\frac{t}{2}} \\cdot sint\\frac{t}{2}}\n",
    "= e^{1-1\\cdot 0}\n",
    "= e\n",
    "$"
   ]
  },
  {
   "cell_type": "markdown",
   "metadata": {},
   "source": [
    "$ \n",
    "\\lim\\limits_{x \\to 0} \\frac{(1+x)^a - 1}{x} \n",
    "= \\lim\\limits_{x \\to 0} \\frac{e^{a \\ln(1+x)}-1}{x}\n",
    "= \\lim\\limits_{x \\to 0} \\frac{e^{a \\ln(1+x)}-1}{a \\ln(1+x)} \\cdot \\frac{a \\ln(1+x)}{x}\n",
    "$\n",
    "\n",
    "let $ a\\ln(1+x)=y $\n",
    "\n",
    "$ \\lim\\limits_{y \\to 0} \\frac{e^y-1}{y} $ and $ \\lim\\limits_{x \\to 0} \\frac{a \\ln(1+x)}{x} $\n",
    "\n",
    "$\n",
    "\\lim\\limits_{x \\to 0} \\frac{a \\ln(1+x)}{x} \n",
    "= a \\lim\\limits_{x \\to 0} \\ln(1+x)^{1/x}\n",
    "= a \\ln e = a\n",
    "$\n",
    "\n",
    "let $ t=e^y-1 $\n",
    "\n",
    "$\n",
    "\\lim\\limits_{y \\to 0} \\frac{e^y-1}{y}\n",
    "= \\lim\\limits_{t \\to 0} \\frac{t}{\\ln(1+t)}\n",
    "= \\lim\\limits_{t \\to 0} \\frac{1}{\\ln(1+t)^\\frac{1}{t}}\n",
    "= \\lim\\limits_{t \\to 0} \\frac{1}{\\ln e}\n",
    "= 1\n",
    "$"
   ]
  }
 ],
 "metadata": {
  "kernelspec": {
   "display_name": "Python 3",
   "language": "python",
   "name": "python3"
  },
  "language_info": {
   "codemirror_mode": {
    "name": "ipython",
    "version": 3
   },
   "file_extension": ".py",
   "mimetype": "text/x-python",
   "name": "python",
   "nbconvert_exporter": "python",
   "pygments_lexer": "ipython3",
   "version": "3.6.9"
  }
 },
 "nbformat": 4,
 "nbformat_minor": 2
}
