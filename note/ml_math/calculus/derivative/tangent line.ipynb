{
 "cells": [
  {
   "cell_type": "markdown",
   "metadata": {},
   "source": [
    "tangent line function at point $x=a$\n",
    "--\n",
    "\n",
    "$ f(x) = f(a) + f^{\\prime}(a)(x-a) - o(x-a) $\n",
    "\n",
    "$ y = f(a) + f^{\\prime}(a)(x-a) $"
   ]
  },
  {
   "cell_type": "markdown",
   "metadata": {},
   "source": [
    "Linear approximation\n",
    "--\n",
    "\n",
    "function: $ sin x $\n",
    "\n",
    "a: $ 30^{\\circ} $\n",
    "\n",
    "x: $ 29^{\\circ} $\n",
    "\n",
    "$ f(x) = f(a) + f^{\\prime}(a)(x-a) - o(x-a) \n",
    "= sin(30^{\\circ}) + sin^{\\prime}(30^{\\circ}) \\cdot -\\frac{\\pi}{180}\n",
    "= \\frac{1}{2} - \\frac{\\sqrt{3}}{2} \\cdot \\frac{\\pi}{180} $"
   ]
  },
  {
   "cell_type": "markdown",
   "metadata": {},
   "source": [
    "Mean value theorem\n",
    "--\n",
    "\n",
    "always exists point $ c \\in [a,b] $\n",
    "\n",
    "that\n",
    "\n",
    "$ f^{\\prime}(c) = \\frac{f(a)-f(b)}{a-b} $\n",
    "\n",
    "or\n",
    "\n",
    "$ f(a)-f(b) = f^{\\prime}(c)(a-b) $\n",
    "\n",
    "You knows that you're function change on every possible segments is proportional to arguments change with promotional coefficient bounded by two of numbers."
   ]
  }
 ],
 "metadata": {
  "kernelspec": {
   "display_name": "Python 3",
   "language": "python",
   "name": "python3"
  },
  "language_info": {
   "codemirror_mode": {
    "name": "ipython",
    "version": 3
   },
   "file_extension": ".py",
   "mimetype": "text/x-python",
   "name": "python",
   "nbconvert_exporter": "python",
   "pygments_lexer": "ipython3",
   "version": "3.6.9"
  }
 },
 "nbformat": 4,
 "nbformat_minor": 2
}
