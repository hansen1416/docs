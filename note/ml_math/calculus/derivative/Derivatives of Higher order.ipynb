{
 "cells": [
  {
   "cell_type": "markdown",
   "metadata": {},
   "source": [
    "Second derivative\n",
    "--\n",
    "\n",
    "$ f^{\\prime\\prime}(a) = \\lim\\limits_{x \\to a}\\frac{f^{\\prime}(x) - f^{\\prime}(a)}{x-a} $\n",
    "\n",
    "$ f^{\\prime\\prime}(a) = (f^{\\prime}(a))^{\\prime} $"
   ]
  },
  {
   "cell_type": "markdown",
   "metadata": {},
   "source": [
    "Convexity\n",
    "--\n",
    "\n",
    "Function $f(x)$ is called convex if a segment between two points of the graph lie (strictly) above the graph\n",
    "\n",
    "The opposite layout - a segment below the graph is called concave"
   ]
  },
  {
   "cell_type": "markdown",
   "metadata": {},
   "source": [
    "Point $ x = a $ is called local a local extremum of a function $ f(x) $, if $f(a)$ is the greatest or the lowest in some neighborhood of $ x=a $"
   ]
  },
  {
   "cell_type": "markdown",
   "metadata": {},
   "source": [
    "Since the first derivative positive or negative $f^{\\prime}(x)$ relates to monotonicity, then in the local extremum $ f^{\\prime}(a) = 0 $"
   ]
  },
  {
   "cell_type": "markdown",
   "metadata": {},
   "source": [
    "if $ f^{\\prime\\prime}(x) > 0 $ at every point of the segment, then the function is convex. (good smile)\n",
    "\n",
    "if $ f^{\\prime\\prime}(x) < 0 $ at every point of the segment, then the function is concave. (bad smile)"
   ]
  },
  {
   "cell_type": "markdown",
   "metadata": {},
   "source": [
    "Since convexity(concavity) indicates monotonicity rise(fall) of the first derivative, there can be only one extremum"
   ]
  },
  {
   "cell_type": "markdown",
   "metadata": {},
   "source": [
    "1. The __extremum__ is __locally__ greatest (or lowest value). The definition itself does not call for any differentiability.\n",
    "\n",
    "2. If the function is __differentiable__ in the __extremum__ point, then f′(a)=0.\n",
    "\n",
    "3. The inverse is not necessarily true: if the function has f′(a)=0 it __does not__ imply the extremum at this very point; example $ f(x)=x^3 $\n",
    "\n",
    "4. Similar thing applies for the differentiability: the differentiability is not a necessity for the extremum, example: f(x)=|x|\n",
    "\n",
    "5. You can come up with a workaround for the latter case: assume that you find an extremum not via the value of the derivative in the point, but via __changing the sign of the derivative__ as argument passes through given point (thus monotonic behaviour changes)\n",
    "\n",
    "6. It is still not enough: one can come up with a function with __no certain monotonicity__ in either left or right neighbourhoods (any). Think of the function exploiting sin1/x."
   ]
  },
  {
   "cell_type": "markdown",
   "metadata": {},
   "source": [
    "How to Find Local Extrema with the First Derivative Test\n",
    "\n",
    "https://www.dummies.com/education/math/calculus/how-to-find-local-extrema-with-the-first-derivative-test/"
   ]
  }
 ],
 "metadata": {
  "kernelspec": {
   "display_name": "Python 3",
   "language": "python",
   "name": "python3"
  },
  "language_info": {
   "codemirror_mode": {
    "name": "ipython",
    "version": 3
   },
   "file_extension": ".py",
   "mimetype": "text/x-python",
   "name": "python",
   "nbconvert_exporter": "python",
   "pygments_lexer": "ipython3",
   "version": "3.6.9"
  }
 },
 "nbformat": 4,
 "nbformat_minor": 2
}
