{
 "cells": [
  {
   "cell_type": "markdown",
   "metadata": {},
   "source": [
    "Derivative\n",
    "--\n",
    "\n",
    "$ f^{\\prime}(a) = \\lim\\limits_{x \\to a} \\frac{f(x) - f(a)}{x-a} $\n",
    "\n",
    "The linear (principal)part of the function's change is called __differential__ $df: $\n",
    "\n",
    "$ df = f^{\\prime}dx $"
   ]
  },
  {
   "cell_type": "markdown",
   "metadata": {},
   "source": [
    "$y=C\\;\\;\\;\\;y'=0$\n",
    "--"
   ]
  },
  {
   "cell_type": "markdown",
   "metadata": {},
   "source": [
    "$y=n^x\\;\\;\\;\\;y'=n^x\\ln_n$\n",
    "--"
   ]
  },
  {
   "cell_type": "markdown",
   "metadata": {},
   "source": [
    "$y=e^x\\;\\;\\;\\;y'=e^x$\n",
    "--"
   ]
  },
  {
   "cell_type": "markdown",
   "metadata": {},
   "source": [
    "$y=a^x\\;\\;\\;\\;y'=\\ln a \\cdot a^x$\n",
    "--"
   ]
  },
  {
   "cell_type": "markdown",
   "metadata": {},
   "source": [
    "$y=\\log_ax\\;\\;\\;\\;y'=\\frac{1}{x\\ln_a}$\n",
    "--"
   ]
  },
  {
   "cell_type": "markdown",
   "metadata": {},
   "source": [
    "$y=x^n\\;\\;\\;\\;y'=nx^{n-1}$\n",
    "--"
   ]
  },
  {
   "cell_type": "markdown",
   "metadata": {},
   "source": [
    "$y=\\sqrt[n]{x}\\;\\;\\;\\;y'=\\frac{x^{-\\frac{n-1}{n}}}{n}$\n",
    "--"
   ]
  },
  {
   "cell_type": "markdown",
   "metadata": {},
   "source": [
    "$y=\\frac{1}{x^n}\\;\\;\\;\\;y'=-\\frac{n}{x^{n+1}}$\n",
    "--"
   ]
  },
  {
   "cell_type": "markdown",
   "metadata": {},
   "source": [
    "$y=\\sin x\\;\\;\\;\\;y'=\\cos x$\n",
    "--"
   ]
  },
  {
   "cell_type": "markdown",
   "metadata": {},
   "source": [
    "$y=\\cos x\\;\\;\\;\\;y'=-\\sin x$\n",
    "--"
   ]
  },
  {
   "cell_type": "markdown",
   "metadata": {},
   "source": [
    "$y=\\tan x \\;\\;\\;\\;y'=\\frac{1}{\\cos^2 x}=\\sec^2 x$\n",
    "--"
   ]
  },
  {
   "cell_type": "markdown",
   "metadata": {},
   "source": [
    "$y=\\cot x\\;\\;\\;\\;y'=\\frac{-1}{\\sin^2 x} = -\\csc x$\n",
    "--"
   ]
  },
  {
   "cell_type": "markdown",
   "metadata": {},
   "source": [
    "$y=\\sec x\\;\\;\\;\\;y'=\\sec x \\tan x$\n",
    "--"
   ]
  },
  {
   "cell_type": "markdown",
   "metadata": {},
   "source": [
    "$y=\\csc x\\;\\;\\;\\;y'=-\\csc x \\cot x$\n",
    "--"
   ]
  },
  {
   "cell_type": "markdown",
   "metadata": {},
   "source": [
    "$y=\\arcsin x\\;\\;\\;\\;y'=\\frac{1}{\\sqrt{1-x^2}}$\n",
    "--"
   ]
  },
  {
   "cell_type": "markdown",
   "metadata": {},
   "source": [
    "$y=\\arccos x \\;\\;\\;\\;y'=-\\frac{1}{\\sqrt{1-x^2}}$\n",
    "--"
   ]
  },
  {
   "cell_type": "markdown",
   "metadata": {},
   "source": [
    "$y=\\arctan x\\;\\;\\;\\;y'=\\frac{1}{1+x^2}$\n",
    "--"
   ]
  },
  {
   "cell_type": "markdown",
   "metadata": {},
   "source": [
    "$y= arccot\\,x\\;\\;\\;\\;y'=-\\frac{1}{1+x^2}$\n",
    "--"
   ]
  },
  {
   "cell_type": "markdown",
   "metadata": {},
   "source": [
    "$y=\\sinh x\\;\\;\\;\\;y'=\\cosh x$\n",
    "--"
   ]
  },
  {
   "cell_type": "markdown",
   "metadata": {},
   "source": [
    "Arithmetic\n",
    "--"
   ]
  },
  {
   "cell_type": "markdown",
   "metadata": {},
   "source": [
    "$ (f+g)^{\\prime} = f^{\\prime} + g^{\\prime} $"
   ]
  },
  {
   "cell_type": "markdown",
   "metadata": {},
   "source": [
    "$ (f-g)^{\\prime} = f^{\\prime} - g^{\\prime} $"
   ]
  },
  {
   "cell_type": "markdown",
   "metadata": {},
   "source": [
    "$ (Cf)^{\\prime} = Cf^{\\prime} $"
   ]
  },
  {
   "cell_type": "markdown",
   "metadata": {},
   "source": [
    "$ (fg)^{\\prime} = f^{\\prime}g + fg^{\\prime} $"
   ]
  },
  {
   "cell_type": "markdown",
   "metadata": {},
   "source": [
    "$ (f/g)^{\\prime} = \\frac{f^{\\prime}g - fg^{\\prime}}{g^2} $"
   ]
  },
  {
   "cell_type": "markdown",
   "metadata": {},
   "source": [
    "Chain rule\n",
    "--"
   ]
  },
  {
   "cell_type": "markdown",
   "metadata": {},
   "source": [
    "$ f(g(x))^{\\prime} = f^{\\prime}(g(x)) \\cdot g^{\\prime}(x) $"
   ]
  },
  {
   "cell_type": "markdown",
   "metadata": {},
   "source": [
    "$ e^{-x^{2}} = e^{x} \\circ (-x^2) = (e^{-x^2}) \\cdot (-2x) = -2 e^{-x^2} x  $"
   ]
  },
  {
   "cell_type": "markdown",
   "metadata": {},
   "source": [
    "$ (x^x)^{\\prime} = (e^{x \\ln x})^{\\prime} = e^{x \\ln x} \\cdot (x \\ln x)^{\\prime} = x^x \\cdot (x^{\\prime} \\ln x + x\\cdot (\\ln x)^{\\prime}) = x^x (\\ln x + 1) $"
   ]
  },
  {
   "cell_type": "markdown",
   "metadata": {},
   "source": [
    "Derivative of the inverse function $f^{-1}$\n",
    "--"
   ]
  },
  {
   "cell_type": "markdown",
   "metadata": {},
   "source": [
    "$f^{-1} \\circ f = x$\n",
    "\n",
    "$ (f^{-1}(x))^{\\prime} = \\frac{1}{f^{\\prime}(f^{-1}(x))} $"
   ]
  },
  {
   "cell_type": "markdown",
   "metadata": {},
   "source": [
    "$ (arctan \\,x)^{\\prime} = \\frac{1}{(tan(arctan\\,x))^{\\prime}} = \\frac{1}{cos^{2}(arctan\\,x)} = \\frac{1}{1+tan^{2}(arctan\\,x)}$\n",
    "\n",
    "since $ y = arctan\\,x \\;\\; tan\\,y = tan\\;arctan\\,x = x$\n",
    "\n",
    "$ (arctan \\,x)^{\\prime} = \\frac{1}{1+x^2} $"
   ]
  }
 ],
 "metadata": {
  "kernelspec": {
   "display_name": "Python 3",
   "language": "python",
   "name": "python3"
  },
  "language_info": {
   "codemirror_mode": {
    "name": "ipython",
    "version": 3
   },
   "file_extension": ".py",
   "mimetype": "text/x-python",
   "name": "python",
   "nbconvert_exporter": "python",
   "pygments_lexer": "ipython3",
   "version": "3.6.9"
  }
 },
 "nbformat": 4,
 "nbformat_minor": 2
}
