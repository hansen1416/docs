{
 "cells": [
  {
   "cell_type": "markdown",
   "metadata": {},
   "source": [
    "The change of the function between $x$ and $a$ is denoted:\n",
    "\n",
    "$ \\Delta f = f(x)-f(a) $"
   ]
  },
  {
   "cell_type": "markdown",
   "metadata": {},
   "source": [
    "The change of the argument between $x$ and $a$ is denoted:\n",
    "\n",
    "$ \\Delta x = x -a $"
   ]
  },
  {
   "cell_type": "markdown",
   "metadata": {},
   "source": [
    "The linear (principal) part of the function's change is called __differential__ $df$,  \n",
    "The differential is not necessaryly coincides with real function change:\n",
    "\n",
    "$ df = f^{\\prime}dx $"
   ]
  },
  {
   "cell_type": "markdown",
   "metadata": {},
   "source": [
    "Function is called differentiable if $ \\Delta f \\approx df $ or excatly\n",
    "\n",
    "$ \\Delta f = df + o(x-a) $\n",
    "\n",
    "For singlevariate (and only) function it is the same as __having derivative__"
   ]
  },
  {
   "cell_type": "markdown",
   "metadata": {},
   "source": [
    "__Can the sum of 2 non-differentiable functions be differentiable?__\n",
    "\n",
    "You can construct trivial cases where they are differentiable:\n",
    "\n",
    "For example, if  f(x)  is a non-differentiable function, and  g(x)=x−f(x)  is another function, then  g(x)  must also be non-differntiable, since differentiation is a linear operator.\n",
    "\n",
    "However, the sum  f(x)+g(x)=x , which is definitely a differentiable function!\n",
    "\n",
    "Therefore we can show that the inverse of the statement is false - i.e. __the sum of 2 non-differentiable functions is not necessarily non-differentiable in and of itself.__\n",
    "\n",
    "However, there are obviously combinations which are not trivial in the same way as the above - for example if we had constructed  g(x)=x+f(x) , then that particular sum gives  f(x)+g(x)=x+2f(x).  Again, by using the argument that the differential operator is linear, we can again conclude that this is non-differentiable.\n",
    "\n",
    "So the answer is that is possible to construct both non-differentiable and differentiable functions from such a sum."
   ]
  }
 ],
 "metadata": {
  "kernelspec": {
   "display_name": "Python 3",
   "language": "python",
   "name": "python3"
  },
  "language_info": {
   "codemirror_mode": {
    "name": "ipython",
    "version": 3
   },
   "file_extension": ".py",
   "mimetype": "text/x-python",
   "name": "python",
   "nbconvert_exporter": "python",
   "pygments_lexer": "ipython3",
   "version": "3.6.9"
  }
 },
 "nbformat": 4,
 "nbformat_minor": 2
}
