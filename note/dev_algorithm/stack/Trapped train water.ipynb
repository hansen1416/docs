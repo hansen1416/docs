{
 "cells": [
  {
   "cell_type": "code",
   "execution_count": 1,
   "metadata": {},
   "outputs": [
    {
     "name": "stdout",
     "output_type": "stream",
     "text": [
      "15\n",
      "0\n",
      "18\n",
      "61\n"
     ]
    }
   ],
   "source": [
    "def calc_rain_water(h):\n",
    "\n",
    "    stack_pos = []\n",
    "    i = 0\n",
    "    volume = 0\n",
    "\n",
    "    while i < len(h):\n",
    "        \n",
    "        while len(stack_pos) and h[i] > h[stack_pos[-1]]:\n",
    "            last_one = stack_pos[-1]\n",
    "\n",
    "            stack_pos.pop()\n",
    "\n",
    "            if len(stack_pos) == 0:\n",
    "                break\n",
    "\n",
    "            width = i - stack_pos[-1] - 1\n",
    "            height = min(h[i], h[stack_pos[-1]]) - h[last_one]\n",
    "\n",
    "            volume += width * height\n",
    "\n",
    "        stack_pos.append(i)\n",
    "\n",
    "        i += 1\n",
    "    \n",
    "    return volume\n",
    "\n",
    "# some test code\n",
    "if __name__ == \"__main__\":\n",
    "    test_h = [2, 5, 2, 3, 6, 9, 1, 3, 4, 6, 1]\n",
    "    # should print 15\n",
    "    print(calc_rain_water(test_h))\n",
    "\n",
    "    test_h = [2, 4, 6, 8, 6, 4, 2]\n",
    "    # should print 0\n",
    "    print(calc_rain_water(test_h))\n",
    "\n",
    "    test_h = [8, 6, 4, 2, 4, 6, 8]\n",
    "    # should print 18\n",
    "    print(calc_rain_water(test_h))\n",
    "\n",
    "    test_h = [2,3,1,2,6,4,3,3,2,2,1,1,2,4,3,2,3,4,1,1,2,7,4,1]\n",
    "    # print(len(test_h))\n",
    "    print(calc_rain_water(test_h))"
   ]
  }
 ],
 "metadata": {
  "kernelspec": {
   "display_name": "Python 3",
   "language": "python",
   "name": "python3"
  },
  "language_info": {
   "codemirror_mode": {
    "name": "ipython",
    "version": 3
   },
   "file_extension": ".py",
   "mimetype": "text/x-python",
   "name": "python",
   "nbconvert_exporter": "python",
   "pygments_lexer": "ipython3",
   "version": "3.6.9"
  }
 },
 "nbformat": 4,
 "nbformat_minor": 2
}
