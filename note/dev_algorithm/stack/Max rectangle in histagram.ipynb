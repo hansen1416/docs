{
 "cells": [
  {
   "cell_type": "code",
   "execution_count": 5,
   "metadata": {},
   "outputs": [
    {
     "name": "stdout",
     "output_type": "stream",
     "text": [
      "max 24\n"
     ]
    }
   ],
   "source": [
    "def max_rectangle_histagram(a):\n",
    "    stack_height = []\n",
    "    stack_pos = []\n",
    "    i = 0\n",
    "    a_len = len(a)\n",
    "    max_rec = 0\n",
    "    \n",
    "    while i < a_len:\n",
    "\n",
    "        if len(stack_pos) == 0:\n",
    "            stack_height.append(a[i])\n",
    "            stack_pos.append(i)\n",
    "            if a[i] > max_rec:\n",
    "                max_rec = a[i]\n",
    "            i += 1\n",
    "            continue\n",
    "\n",
    "        if a[i] < stack_height[-1]:\n",
    "            while len(stack_height) and a[i] < stack_height[-1]:\n",
    "\n",
    "                h = stack_height.pop()\n",
    "                w = stack_pos.pop()\n",
    "\n",
    "                area = h * (i - w)\n",
    "\n",
    "#                 print('one', area, h, w)\n",
    "\n",
    "                if area > max_rec:\n",
    "                    max_rec = area\n",
    "\n",
    "        stack_height.append(a[i])\n",
    "        stack_pos.append(i)\n",
    "\n",
    "#         print(stack_height, stack_pos)\n",
    "            \n",
    "\n",
    "        if i == a_len-1:\n",
    "            # print(stack_height, stack_pos)\n",
    "            # while len(stack_height) and a[i] <= stack_height[-1]:\n",
    "            while len(stack_height):\n",
    "\n",
    "                h = stack_height.pop()\n",
    "                w = stack_pos.pop()\n",
    "\n",
    "                area = h * (w + 1)\n",
    "\n",
    "#                 print('two', area)\n",
    "\n",
    "                if area > max_rec:\n",
    "                    max_rec = area\n",
    "\n",
    "        i+=1\n",
    "\n",
    "    return max_rec\n",
    "\n",
    "if __name__ == \"__main__\":\n",
    "    a = [2,3,1,2,6,4,3,3,2,2,1,1,2,4,3,2,3,4,1,1,2,7,4,1]\n",
    "\n",
    "    res = max_rectangle_histagram(a)\n",
    "\n",
    "    print('max', res)"
   ]
  }
 ],
 "metadata": {
  "kernelspec": {
   "display_name": "Python 3",
   "language": "python",
   "name": "python3"
  },
  "language_info": {
   "codemirror_mode": {
    "name": "ipython",
    "version": 3
   },
   "file_extension": ".py",
   "mimetype": "text/x-python",
   "name": "python",
   "nbconvert_exporter": "python",
   "pygments_lexer": "ipython3",
   "version": "3.6.9"
  }
 },
 "nbformat": 4,
 "nbformat_minor": 2
}
