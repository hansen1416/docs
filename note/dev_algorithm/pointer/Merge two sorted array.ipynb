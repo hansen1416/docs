{
 "cells": [
  {
   "cell_type": "code",
   "execution_count": 1,
   "metadata": {},
   "outputs": [],
   "source": [
    "def merge(a, b):\n",
    "    \"\"\"\n",
    "    given two arrays A and B sortd in ascending order\n",
    "    merge them in one sorted array\n",
    "    \"\"\"\n",
    "    result = []\n",
    "    i, j = 0, 0\n",
    "    while i < len(a) and j < len(b): # time: O(n+m), space: O(n+m)\n",
    "        if a[i] < b[j]:\n",
    "            result.append(a[i])\n",
    "            i += 1\n",
    "        else:\n",
    "            result.append(b[j])\n",
    "            j += 1\n",
    "    while i < len(a): # time: O(n)\n",
    "        result.append(a[i])\n",
    "        i += 1\n",
    "    while j < len(b): # time: O(m)\n",
    "        result.append(b[j])\n",
    "        j += 1\n",
    "    return result"
   ]
  },
  {
   "cell_type": "code",
   "execution_count": 2,
   "metadata": {},
   "outputs": [
    {
     "name": "stdout",
     "output_type": "stream",
     "text": [
      "[1, 2, 2, 3, 5, 78]\n",
      "[]\n",
      "[1, 1, 2, 3, 3, 4, 4]\n"
     ]
    }
   ],
   "source": [
    "print(merge([2, 3, 5, 78], [1, 2]))\n",
    "print(merge([], []))\n",
    "print(merge([1, 3, 3, 4], [1, 2, 4]))"
   ]
  }
 ],
 "metadata": {
  "kernelspec": {
   "display_name": "Python 3",
   "language": "python",
   "name": "python3"
  },
  "language_info": {
   "codemirror_mode": {
    "name": "ipython",
    "version": 3
   },
   "file_extension": ".py",
   "mimetype": "text/x-python",
   "name": "python",
   "nbconvert_exporter": "python",
   "pygments_lexer": "ipython3",
   "version": "3.6.9"
  }
 },
 "nbformat": 4,
 "nbformat_minor": 2
}
