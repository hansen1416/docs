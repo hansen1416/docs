{
 "cells": [
  {
   "cell_type": "markdown",
   "metadata": {},
   "source": [
    "- Time and space complexity estimations are used to analyze the efficiency of algorithm.\n",
    "\n",
    "- The estimations are made with big O asymptotic notation.\n",
    "\n",
    "- The worst case complexity should always be considered.\n",
    "\n",
    "- Big O ignores information about constants. It doesn't affect asymptotic but can be significant in practice."
   ]
  }
 ],
 "metadata": {
  "kernelspec": {
   "display_name": "Python 3",
   "language": "python",
   "name": "python3"
  },
  "language_info": {
   "codemirror_mode": {
    "name": "ipython",
    "version": 3
   },
   "file_extension": ".py",
   "mimetype": "text/x-python",
   "name": "python",
   "nbconvert_exporter": "python",
   "pygments_lexer": "ipython3",
   "version": "3.6.9"
  }
 },
 "nbformat": 4,
 "nbformat_minor": 2
}
