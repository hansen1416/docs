{
 "cells": [
  {
   "cell_type": "markdown",
   "metadata": {},
   "source": [
    "One algorithm for finding the shortest path from a starting node to a target node in a weighted graph is Dijkstra’s algorithm. The algorithm creates a __tree of shortest paths__ from the starting vertex, the source, to all other points in the graph.\n",
    "\n",
    "The graph can either be __directed or undirected__. One stipulation to using the algorithm is that the graph needs to have a __nonnegative weight on every edge__.\n",
    "\n",
    "The __closer edges will be relaxed first__. As a result, the parent of each node is as follows:"
   ]
  },
  {
   "cell_type": "markdown",
   "metadata": {},
   "source": [
    "_Initializing three values_\n",
    "\n",
    "- `dist`, an array of distances from the source node ss to each node in the graph, initialized the following way: `distdist(s) = 0`; and for all other nodes `v`, `dist(v) = \\infty`. This is done at the beginning because as the algorithm proceeds, the distdist from the source to each node `v` in the graph will be recalculated and finalized when the shortest distance to `v` is found.\n",
    "- `Q`, a queue of all nodes in the graph. At the end of the algorithm's progress, `Q` will be empty.\n",
    "- `S`, an empty set, to indicate which nodes the algorithm has visited. At the end of the algorithm's run, `S` will contain all the nodes of the graph."
   ]
  },
  {
   "cell_type": "markdown",
   "metadata": {},
   "source": [
    "_The algorithm proceeds as follows_\n",
    "\n",
    "1. While `Q` is not empty, pop the node `v`, that is not already in `S`, from `Q` with the __smallest__ `dist(v)`. In the first run, source node `s` will be chosen because `dist(s)` was initialized to 0. In the next run, the next node with the smallest `dist` value is chosen.\n",
    "2. Add node `v` to `S`, to indicate that `v` has been visited.\n",
    "3. Update `dist` values of adjacent nodes of the current node `v` as follows: for each new adjacent node `u`,\n",
    "    - if `dist(v) + weight(u,v) < dist(u)`, there is a new minimal distance found for `u`, so update `dist(u)` to the new minimal distance value;\n",
    "    - otherwise, no updates are made to distdist (uu).\n",
    "    \n",
    "The algorithm has visited all nodes in the graph and found the smallest distance to each node. `dist` now contains the shortest path tree from source `s`."
   ]
  },
  {
   "cell_type": "markdown",
   "metadata": {},
   "source": [
    "_Implementation_\n",
    "\n",
    "```\n",
    "function Dijkstra(Graph, source):\n",
    "    dist[source]  := 0                     // Distance from source to source is set to 0\n",
    "    for each vertex v in Graph:            // Initializations\n",
    "        if v ≠ source\n",
    "           dist[v]  := infinity           // Unknown distance function from source to each node set to infinity\n",
    "        add v to Q                         // All nodes initially in Q\n",
    "\n",
    "    while Q is not empty:                  // The main loop\n",
    "        v := vertex in Q with min dist[v]  // In the first run-through, this vertex is the source node\n",
    "        remove v from Q \n",
    "\n",
    "        for each neighbor u of v:           // where neighbor u has not yet been removed from Q.\n",
    "            alt := dist[v] + length(v, u)\n",
    "            if alt < dist[u]:               // A shorter path to u has been found\n",
    "                dist[u]  := alt             // Update distance of u \n",
    "                add u to Q                  // Add u to heap\n",
    "\n",
    "    return dist[]\n",
    "end function\n",
    "```"
   ]
  },
  {
   "cell_type": "code",
   "execution_count": 3,
   "metadata": {},
   "outputs": [],
   "source": [
    "from heapq import heappop, heappush\n",
    "\n",
    "def dijkstra(start, graph):\n",
    "    n = len(graph)\n",
    "    dist = [float('inf') for _ in range(n)]\n",
    "    heap = []\n",
    "    visited = [False for _ in range(n)]\n",
    "    \n",
    "    heappush = (heap, (0, start))\n",
    "    dist[start] = 0\n",
    "    \n",
    "    while len(heap) > 0:\n",
    "        d,v = heappop(heap)\n",
    "        visited[v] = True\n",
    "        \n",
    "        if dist[v] < d:\n",
    "            continue\n",
    "            \n",
    "        for u, wieght_u_v in graph:\n",
    "            if not visited[u] and dist[u] > d + wieght_u_v:\n",
    "                dist[u] = d + wieght_u_v\n",
    "                heappush(heap, (dist[u], u))\n",
    "\n",
    "    return dist"
   ]
  }
 ],
 "metadata": {
  "kernelspec": {
   "display_name": "Python 3",
   "language": "python",
   "name": "python3"
  },
  "language_info": {
   "codemirror_mode": {
    "name": "ipython",
    "version": 3
   },
   "file_extension": ".py",
   "mimetype": "text/x-python",
   "name": "python",
   "nbconvert_exporter": "python",
   "pygments_lexer": "ipython3",
   "version": "3.6.9"
  }
 },
 "nbformat": 4,
 "nbformat_minor": 2
}
