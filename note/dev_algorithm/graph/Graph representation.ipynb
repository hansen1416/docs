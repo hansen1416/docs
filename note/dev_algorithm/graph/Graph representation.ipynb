{
 "cells": [
  {
   "cell_type": "code",
   "execution_count": null,
   "metadata": {},
   "outputs": [],
   "source": [
    "#Edge list\n",
    "\"\"\"\n",
    "Edge exists: O(|E|)\n",
    "Vertex degree: O(|E|)\n",
    "Memory: O(|E|)\n",
    "Add/delete edge: O(1) / O(|E|)\n",
    "\"\"\"\n",
    "\n",
    "n,m = list(map(int, input().split()))\n",
    "edges = []\n",
    "\n",
    "for i in range(m):\n",
    "    v_from, v_to = list(map(int, input().split()))\n",
    "    edges.append((v_from, v_to))\n",
    "    \n",
    "def get_neighbours(v, edges):\n",
    "\n",
    "    neighbours = []\n",
    "    for edge in edges:\n",
    "        if edge[0] == v:\n",
    "            neighbours.append(edge[1])\n",
    "    return neighbours"
   ]
  },
  {
   "cell_type": "code",
   "execution_count": null,
   "metadata": {},
   "outputs": [],
   "source": [
    "# Ajacency list\n",
    "\"\"\"\n",
    "Edge exists: O(|V|)\n",
    "Vertex degree: O(1)\n",
    "Memory: O(|E|)\n",
    "Add/delete edge: O(1) / O(|V|)\n",
    "\"\"\"\n",
    "\n",
    "n,m = list(map(int, input().split()))\n",
    "graph = {}\n",
    "\n",
    "for i in range(m):\n",
    "    v_from, v_to = list(map(int, input().split()))\n",
    "    if v_from in graph:\n",
    "        graph[v_from].append(v_to)\n",
    "    else:\n",
    "        graph[v_from] = [v_to]\n",
    "\n",
    "def get_neighbours(v, graph):\n",
    "    if v in graph:\n",
    "        return graph[v]\n",
    "    return []"
   ]
  },
  {
   "cell_type": "code",
   "execution_count": null,
   "metadata": {},
   "outputs": [],
   "source": [
    "# Ajacency matrix\n",
    "\"\"\"\n",
    "Edge exists: O(1)\n",
    "Vertex degree: O(|V|)\n",
    "Memory: O(|V|^2)\n",
    "Add/delete edge: O(1)\n",
    "\"\"\"\n",
    "\n",
    "n,m = list(map(int, input().split()))\n",
    "graph = [[0 for i in range(n)] for j in range(n)]\n",
    "\n",
    "for i in range(m):\n",
    "    v_from, v_to = list(map(int, input().split()))\n",
    "    graph[v_from][v_to] = 1\n",
    "    \n",
    "def get_neighbours(v, graph):\n",
    "    neighbours = []\n",
    "    for i in range(len(graph)):\n",
    "        if graph[v][i] == 1:\n",
    "            neighbours.append(i)\n",
    "    return neighbours"
   ]
  },
  {
   "cell_type": "markdown",
   "metadata": {},
   "source": [
    "So if you need to check for vertice neighbors, iterate over them several times in your program, I recommend using the adjacency list. But if you just need to check if an edge exists between several vertices, but many, many times and you really don't care about memory that much, or maybe your graph has many edges, almost v squared, then the adjacency matrix is a better approach. because to check if an edge exists is really fast. Or maybe if your graph changes during the execution of your program, the adjacency matrix is better because you can quickly delete an edge."
   ]
  },
  {
   "cell_type": "code",
   "execution_count": 11,
   "metadata": {},
   "outputs": [],
   "source": [
    "def hasLoops(adj_matrix):\n",
    "    \"\"\"\n",
    "    Given an adjacency matrix of a graph determine if the graph contains loops. \n",
    "    (A loop is an edge that connects the vertex to itself)\n",
    "    \"\"\"\n",
    "    n = len(adj_matrix)\n",
    "    has_loops = False\n",
    "\n",
    "    # YOUR CODE GOES HERE\n",
    "    for i in range(n):\n",
    "        if adj_matrix[i][i] > 0:\n",
    "            has_loops = True\n",
    "\n",
    "    return has_loops"
   ]
  },
  {
   "cell_type": "code",
   "execution_count": 13,
   "metadata": {},
   "outputs": [
    {
     "name": "stdout",
     "output_type": "stream",
     "text": [
      "1 0\n",
      "2 0\n",
      "2 1\n"
     ]
    },
    {
     "data": {
      "text/plain": [
       "True"
      ]
     },
     "execution_count": 13,
     "metadata": {},
     "output_type": "execute_result"
    }
   ],
   "source": [
    "def isUndirected(adj_matrix):\n",
    "    n = len(adj_matrix)\n",
    "    is_undirected = True\n",
    "\n",
    "    # YOUR CODE GOES HERE\n",
    "    for i in range(n):\n",
    "        for j in range(n):\n",
    "            if i == j:\n",
    "                if adj_matrix[i][j] > 0:\n",
    "                    return False\n",
    "            else:\n",
    "                if adj_matrix[i][j] == 1 and adj_matrix[j][i] != 1:\n",
    "                    return False\n",
    "\n",
    "    return is_undirected\n",
    "\n",
    "adj_matrix = [[1,1,1], [0,0,0], [1,0,1]]\n",
    "isUndirected(adj_matrix)"
   ]
  },
  {
   "cell_type": "code",
   "execution_count": null,
   "metadata": {},
   "outputs": [],
   "source": [
    "def countEdges(adj_matrix):\n",
    "    n = len(adj_matrix)\n",
    "    edges_count = 0\n",
    "  \n",
    "    # YOUR CODE GOES HERE\n",
    "    for i in range(n):\n",
    "        for j in range(i, n):\n",
    "            if i != j and adj_matrix[i][j] == 1:\n",
    "                edges_count += 1\n",
    "  \n",
    "  return edges_count"
   ]
  }
 ],
 "metadata": {
  "kernelspec": {
   "display_name": "Python 3",
   "language": "python",
   "name": "python3"
  },
  "language_info": {
   "codemirror_mode": {
    "name": "ipython",
    "version": 3
   },
   "file_extension": ".py",
   "mimetype": "text/x-python",
   "name": "python",
   "nbconvert_exporter": "python",
   "pygments_lexer": "ipython3",
   "version": "3.6.9"
  }
 },
 "nbformat": 4,
 "nbformat_minor": 2
}
