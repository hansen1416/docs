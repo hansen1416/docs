{
 "cells": [
  {
   "cell_type": "markdown",
   "metadata": {},
   "source": [
    "- All paires\n",
    "- Dynamic programming\n",
    "- Time complexity = O($|V|^3$)\n",
    "\n",
    "The Floyd-Warshall algorithm is best suited for dense graphs since it is not at all dependent on the number of edges. Performing Floyd-Warshall on a sparse graph erases its main benefit. For sparse graphs, Johnson's algorithm is more suitable.\n"
   ]
  },
  {
   "cell_type": "markdown",
   "metadata": {},
   "source": [
    "The base case is that the shortest path is simply the weight of the edge connecting `u` and `v`:\n",
    "```\n",
    "ShortestPath(i,j,0)=weight(i,j).\n",
    "```\n",
    "\n",
    "The recursive case is the shortest path from `u` to `v` using the vertices from 1 to k in the graph. The vertices are individually numbered 1,2,...,k.\n",
    "```\n",
    "ShortestPath(i,j,k)=min(ShortestPath(i,j,k−1),ShortestPath(i,k,k−1)+ShortestPath(k,j,k−1))\n",
    "```\n",
    "\n",
    "Basically, what this function setup is asking this: \"Is the vertex `k` an intermediate of our shortest path (any vertex in the path besides the first or the last)?\"\n",
    "\n",
    "If `k` is not an intermediate vertex, then the shortest path from `i` to `j` using the vertices in {1,2,...,k−1} is also the shortest path using the vertices in {1,2,...,k}.\n",
    "\n",
    "If `k` is an intermediate vertex, then the path can be broken down into two paths, each of which uses the vertices in {1,2,...,k−1} to make a path that uses all vertices in {1,2,...,k}. That is because the vertex `k` is the middle point. This is illustrated in the image below."
   ]
  },
  {
   "cell_type": "markdown",
   "metadata": {},
   "source": [
    "```\n",
    "Create a |V| x |V| matrix, M, that will describe the distances between vertices\n",
    "For each cell (i, j) in M:\n",
    "    if i == j:\n",
    "        M[i][j] = 0\n",
    "    if (i, j) is an edge in E:\n",
    "        M[i][j] = weight(i, j)\n",
    "    else:\n",
    "        M[i][j] = infinity\n",
    "for k from 1 to |V|:\n",
    "    for i from 1 to |V|:\n",
    "        for j from 1 to |V|:\n",
    "            if M[i][j] > M[i][k] + M[k][j]:\n",
    "                M[i][j] = M[i][k] + M[k][j]\n",
    "```"
   ]
  },
  {
   "cell_type": "markdown",
   "metadata": {},
   "source": [
    "__Path Reconstruction__"
   ]
  },
  {
   "cell_type": "code",
   "execution_count": 1,
   "metadata": {},
   "outputs": [],
   "source": [
    "def floyd_warshall(graph):\n",
    "    dist = [[graph[j][i] for i in range(n)] for j in range(n)]\n",
    "    \n",
    "    # after the first iteration, we would update all shortest path using only the first vertex as intermediate, \n",
    "    # after second iteration, only using vertices 0 and 1 as intermediate. \n",
    "    # And in the end, after the final iteration, \n",
    "    # we would have updated our distance matrix using the first n \n",
    "    # which is the total number of vertices as intermediate. \n",
    "    for k in range(n):\n",
    "        for i in range(n):\n",
    "            for j in range(n):\n",
    "                if dist[i][j] > dist[i][k] + dist[k][j]:\n",
    "                    dist[i][j] = dist[i][k] + dist[k][j]\n",
    "                \n",
    "    return dist"
   ]
  },
  {
   "cell_type": "markdown",
   "metadata": {},
   "source": [
    "__example__\n",
    "\n",
    "Given an adjacency matrix with weights of edges instead of 0 and 1 (if there is no edge between the vertices that value is replaced with float(\"inf\")), compute the matrix of shortest paths between all pairs of vertices using the Floyd-Warshall algorithm."
   ]
  },
  {
   "cell_type": "code",
   "execution_count": 2,
   "metadata": {},
   "outputs": [],
   "source": [
    "from copy import deepcopy\n",
    "\n",
    "def FloydWarshall(weight_matrix):\n",
    "    n = len(weight_matrix)\n",
    "    dist = deepcopy(weight_matrix)\n",
    "\n",
    "    # YOUR CODE GOES HERE\n",
    "    for k in range(n):\n",
    "        for i in range(n):\n",
    "            for j in range(n):\n",
    "                if i == j:\n",
    "                    dist[i][j] = 0\n",
    "                if dist[i][j] > dist[i][k] + dist[k][j]:\n",
    "                    dist[i][j] = dist[i][k] + dist[k][j]\n",
    "\n",
    "    return dist\n",
    "\n",
    "weight_matrix = [[float('inf'), 5, 2], \n",
    "                 [5, float('inf'), 1], \n",
    "                 [2, 1, float('inf')]]\n",
    "# check that your code works correctly on provided example\n",
    "assert FloydWarshall(weight_matrix) == [[0, 3, 2], [3, 0, 1], [2, 1, 0]], 'Wrong answer' "
   ]
  },
  {
   "cell_type": "markdown",
   "metadata": {},
   "source": [
    "__example__\n",
    "\n",
    "Given an adjacency matrix of a directed graph with weights of edges instead of 0 and 1 (if there is no edge between the vertices that value is replaced with float(\"inf\")), find the pair of vertices with the minimum shortest path among all pairs of vertices. If there are several such pairs, output any of them.\n",
    "\n",
    "If there is no such pair, output (-1, -1)."
   ]
  },
  {
   "cell_type": "code",
   "execution_count": 14,
   "metadata": {},
   "outputs": [],
   "source": [
    "def closestPair(weight_matrix):\n",
    "    n = len(weight_matrix)\n",
    "    closest_pair = (-1, -1)\n",
    "\n",
    "    # YOUR CODE GOES HERE\n",
    "    dist = deepcopy(weight_matrix)\n",
    "    shortest = float('inf')\n",
    "    for k in range(n):\n",
    "        for i in range(n):\n",
    "            for j in range(n):\n",
    "                if i == j:\n",
    "                    dist[i][j] = 0\n",
    "                if dist[i][j] > dist[i][k] + dist[k][j]:\n",
    "                    dist[i][j] = dist[i][k] + dist[k][j]\n",
    "#                     print(dist[i][j])\n",
    "                if i != j and shortest > dist[i][j]:\n",
    "#                     print(dist[i][j], i, j)\n",
    "                    shortest = dist[i][j]\n",
    "                    closest_pair = (i, j)\n",
    "                    \n",
    "#     print(closest_pair, dist)\n",
    "    return closest_pair\n",
    "\n",
    "weight_matrix = [[float('inf'), 5, 2], \n",
    "                 [5, float('inf'), 1], \n",
    "                 [2, 1, float('inf')]]\n",
    "# check that your code works correctly on provided example\n",
    "assert closestPair(weight_matrix) == (1, 2), 'Wrong answer'"
   ]
  }
 ],
 "metadata": {
  "kernelspec": {
   "display_name": "Python 3",
   "language": "python",
   "name": "python3"
  },
  "language_info": {
   "codemirror_mode": {
    "name": "ipython",
    "version": 3
   },
   "file_extension": ".py",
   "mimetype": "text/x-python",
   "name": "python",
   "nbconvert_exporter": "python",
   "pygments_lexer": "ipython3",
   "version": "3.6.9"
  }
 },
 "nbformat": 4,
 "nbformat_minor": 2
}
