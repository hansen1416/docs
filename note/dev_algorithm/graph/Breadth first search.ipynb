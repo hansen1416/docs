{
 "cells": [
  {
   "cell_type": "markdown",
   "metadata": {},
   "source": [
    "    A  \n",
    "  / | \\  \n",
    " D  C  B  \n",
    "  \\   /  \n",
    "    E   "
   ]
  },
  {
   "cell_type": "markdown",
   "metadata": {},
   "source": [
    "Graph          \n",
    "\n",
    "A -> B,C,D      \n",
    "B -> A,E       \n",
    "C -> A        \n",
    "D -> A,E       \n",
    "E -> B,D       \n",
    "\n",
    "\n",
    "Queue  \n",
    "A  \n",
    "B   \n",
    "C  \n",
    "D  \n",
    "E \n",
    "\n",
    "Visisted  \n",
    "A   \n",
    "B   \n",
    "C  \n",
    "D  \n",
    "E "
   ]
  },
  {
   "cell_type": "markdown",
   "metadata": {},
   "source": [
    "put A in queue, mark it as visited\n",
    "\n",
    "Traversal order \n",
    "\n",
    "A, remove top most element from Queue, check it's child, BCD they are all unvisited. Mark them visisted and put all of them in queue.  \n",
    "B, remove top most element from Queue, check it's child, A is visited, E is not, Mark E visited and put in queue.  \n",
    "C, remove top most element from Queue, check it's child, A is visited .  \n",
    "D, remove top most element from Queue, check it's child, A is visited, E is not.  \n",
    "E, remove top most element from Queue, check it's child, B,D is visited  \n",
    "\n",
    "queue is empty"
   ]
  },
  {
   "cell_type": "markdown",
   "metadata": {},
   "source": [
    "Time complexity = Sum(Edges from each vertiecs) = O(E)"
   ]
  },
  {
   "cell_type": "code",
   "execution_count": 12,
   "metadata": {},
   "outputs": [
    {
     "name": "stdout",
     "output_type": "stream",
     "text": [
      "distance to 4 from start 4 is 0\n",
      "distance to 2 from start 4 is 1\n",
      "distance to 5 from start 4 is 1\n",
      "distance to 0 from start 4 is 2\n",
      "distance to 3 from start 4 is 2\n",
      "distance to 1 from start 4 is 3\n"
     ]
    }
   ],
   "source": [
    "from queue import Queue\n",
    "\n",
    "def bfs(start):\n",
    "    q = Queue()\n",
    "#     q.put(start)\n",
    "    # here we can also put the number of edges from the starting vertex, (distance), q.put((0, start))\n",
    "    q.put((0, start))\n",
    "    visited[start] = True\n",
    "    \n",
    "    while not q.empty():\n",
    "#         v = q.get()\n",
    "        d,v = q.get()\n",
    "        # we can get both distance and vertex here, \n",
    "        # if we choose to put distance at the first place, d,v = q.get()\n",
    "        print(\"distance to\", v, \"from start\", start, \"is\", d)\n",
    "        \n",
    "        \n",
    "        # assume graph is an adjacency list\n",
    "        for u in graph[v]:\n",
    "            if not visited[u]:\n",
    "#                 q.put(u) \n",
    "                # we can put the distance, q.put((d+1, u))\n",
    "                q.put((d+1, u))\n",
    "                visited[u] = True\n",
    "#                 print(\"first time visit u\", u)\n",
    "                \n",
    "#         print(\"checked all the neighbours of vertice v\", v)\n",
    "    \n",
    "graph = [\n",
    "    [1,2],\n",
    "    [0],\n",
    "    [0,3,4],\n",
    "    [2],\n",
    "    [2,5],\n",
    "    [4],\n",
    "]\n",
    "\n",
    "\"\"\"\n",
    " 0<---->1\n",
    "/|\\\n",
    " |\n",
    "\\|/\n",
    " 2<---->3\n",
    "/|\\\n",
    " |\n",
    "\\|/\n",
    " 4<---->5\n",
    "\"\"\"\n",
    "\n",
    "n = len(graph)\n",
    "visited = [False for _ in range(n)]\n",
    "bfs(4)"
   ]
  },
  {
   "cell_type": "markdown",
   "metadata": {},
   "source": [
    "__Bipartite graph__\n",
    "\n",
    "_A 2-coloring can be constructed by a greedy algorithm._  \n",
    "_However, if the greedy algorithm fails, there is a cycle with an odd number of vertices. _  \n",
    "_Vertices in a bipartite graph can be split into two parts such that edges go only between parts._"
   ]
  },
  {
   "cell_type": "code",
   "execution_count": 18,
   "metadata": {},
   "outputs": [],
   "source": [
    "from queue import Queue\n",
    "\n",
    "def bfs(start):\n",
    "    \n",
    "    n = len(graph)\n",
    "    color = [0 for _ in graph]\n",
    "    \n",
    "    q = Queue()\n",
    "    \n",
    "    \n",
    "    for i in range(n):\n",
    "        if color[i] == 0:\n",
    "            q.put(i)\n",
    "            color[i] = 1\n",
    "            while not q.empty():\n",
    "                v = q.get()\n",
    "                for u in graph[v]:\n",
    "                    if color[u] == color[v]:\n",
    "                        return False\n",
    "                    if color[u] == 0:\n",
    "                        color[u] = color[v] % 2 + 1\n",
    "                        \n",
    "    return True"
   ]
  },
  {
   "cell_type": "markdown",
   "metadata": {},
   "source": [
    "__example__\n",
    "\n",
    "Given an undirected (and unweighted) graph and a pair of vertices find the shortest path between a pair of vertices."
   ]
  },
  {
   "cell_type": "code",
   "execution_count": 29,
   "metadata": {},
   "outputs": [
    {
     "data": {
      "text/plain": [
       "1"
      ]
     },
     "execution_count": 29,
     "metadata": {},
     "output_type": "execute_result"
    }
   ],
   "source": [
    "from collections import deque\n",
    "\n",
    "def distance(adj_list, v_from, v_to):\n",
    "    n = len(adj_list)\n",
    "    distance = -1#float(\"inf\")\n",
    "\n",
    "    visited = [False for i in range(n)]\n",
    "    Q = deque()\n",
    "\n",
    "    # YOUR CODE GOES HERE\n",
    "\n",
    "    Q.append((0, v_from))\n",
    "    visited[v_from] = True\n",
    "    \n",
    "    while len(Q):\n",
    "\n",
    "        d,v = Q.popleft()\n",
    "        \n",
    "        if v == v_to:\n",
    "            return d\n",
    "\n",
    "        for u in adj_list[v]:\n",
    "            if not visited[u]:\n",
    "                Q.append((d+1, u))\n",
    "                visited[u] = True\n",
    "    \n",
    "    return distance\n",
    "\n",
    "graph = [\n",
    "    [1,2],\n",
    "    [0],\n",
    "    [0,3,4],\n",
    "    [2],\n",
    "    [2,5],\n",
    "    [4],\n",
    "]\n",
    "\n",
    "distance(graph, 0, 1)"
   ]
  },
  {
   "cell_type": "markdown",
   "metadata": {},
   "source": [
    "__example__\n",
    "\n",
    "Given an adjacency list for a graph determine if a graph is bipartite. (A graph is bipartite if it's vertices can be divided in to two sets such that there is no edges between vertices that are in the different sets)."
   ]
  },
  {
   "cell_type": "code",
   "execution_count": 40,
   "metadata": {},
   "outputs": [
    {
     "name": "stdout",
     "output_type": "stream",
     "text": [
      "[0, 0, 0, 0, 0]\n",
      "0\n",
      "deque([0])\n",
      "deque([1, 2])\n",
      "deque([2, 3])\n",
      "deque([3])\n",
      "deque([4])\n",
      "1\n",
      "2\n",
      "3\n",
      "4\n"
     ]
    }
   ],
   "source": [
    "from collections import deque\n",
    "\n",
    "def isBipartite(adj_list):\n",
    "    n = len(adj_list)\n",
    "    is_bipartite = True\n",
    "\n",
    "    Q = deque()\n",
    "#     visited = [False for i in range(n)]\n",
    "\n",
    "    color = [0 for _ in adj_list]\n",
    "    print(color)\n",
    "    \n",
    "    for i in range(n):\n",
    "        print(i)\n",
    "        if color[i] == 0:\n",
    "            Q.append(i)\n",
    "            color[i] = 1\n",
    "            \n",
    "            while len(Q):\n",
    "                print(Q)\n",
    "                v = Q.popleft()\n",
    "                for u in adj_list[v]:\n",
    "                    if color[u] == color[v]:\n",
    "                        return False\n",
    "                    if color[u] == 0:\n",
    "                        color[u] = color[v] % 2 + 1\n",
    "                        Q.append(u)\n",
    "                        \n",
    "    return is_bipartite\n",
    "\n",
    "adj_list = [[1,2], [3], [3], [4], []]\n",
    "# check that your code works correctly on provided example\n",
    "assert isBipartite(adj_list), 'Wrong answer'"
   ]
  },
  {
   "cell_type": "markdown",
   "metadata": {},
   "source": [
    "__example__\n",
    "\n",
    "Given a maze, where empty cells are represented by a '.', walls are represented by '#' and the exit is represented by 'X', construct an adjacency list where the vertices are empty cells and the exit and the edges represent that one non-wall cell shares a side with the other one."
   ]
  },
  {
   "cell_type": "code",
   "execution_count": 50,
   "metadata": {},
   "outputs": [
    {
     "name": "stdout",
     "output_type": "stream",
     "text": [
      "{(0, 0): [(1, 0), (0, 1)], (1, 0): [(0, 0), (1, 1)], (0, 1): [(0, 0), (1, 1), (0, 2)], (1, 1): [(0, 1), (1, 0), (1, 2)], (0, 2): [(0, 1), (1, 2), (0, 3)], (1, 2): [(0, 2), (1, 1), (1, 3)], (0, 3): [(0, 2), (1, 3)], (1, 3): [(0, 3), (1, 2)], (0, 5): [(1, 5)], (1, 5): [(0, 5)]}\n"
     ]
    }
   ],
   "source": [
    "def maze2graph(maze):\n",
    "    height, width = len(maze), len(maze[0])\n",
    "    graph = {(x, y): [] for y in range(width) for x in range(height) if maze[x][y] != \"#\"}\n",
    "\n",
    "    # YOUR CODE GOES HERE\n",
    "    for x, _ in graph.items():\n",
    "        if (x[0]-1, x[1]) in graph:\n",
    "            graph[x].append((x[0]-1, x[1]))\n",
    "        if (x[0], x[1]-1) in graph:\n",
    "            graph[x].append((x[0], x[1]-1))\n",
    "        if (x[0]+1, x[1]) in graph:\n",
    "            graph[x].append((x[0]+1, x[1]))\n",
    "        if (x[0], x[1]+1) in graph:\n",
    "            graph[x].append((x[0], x[1]+1))\n",
    "\n",
    "    return graph\n",
    "\n",
    "maze = ['....#.']\n",
    "maze = ['....#.',\n",
    "        '....#.']\n",
    "# check that your code works correctly on provided example\n",
    "# assert maze2graph(maze) == {(0, 0): [(0, 1)], (0, 1): [(0, 0), (0, 2)], (0, 2): [(0, 1), (0, 3)], (0, 3): [(0, 2)], (0, 5): []}, 'Wrong answer'\n",
    "\n",
    "\n",
    "print(maze2graph(maze))"
   ]
  },
  {
   "cell_type": "markdown",
   "metadata": {},
   "source": [
    "Given a maze, where empty cells are represented by a '.', walls are represented by '#' and the exit is represented by 'X', and the coordinates of the agent in the maze, output the shortest path to the exit as a string containing 4 different letters: \"U\", \"D\", \"L\", \"R\" for going up, down, left and right respectively. If there is no such path, output -1."
   ]
  },
  {
   "cell_type": "code",
   "execution_count": 2,
   "metadata": {},
   "outputs": [
    {
     "name": "stdout",
     "output_type": "stream",
     "text": [
      "RRDDDDRR\n"
     ]
    }
   ],
   "source": [
    "from collections import deque\n",
    "\n",
    "def path2exit(maze, x, y):\n",
    "    height, width = len(maze), len(maze[0])\n",
    "    path = []\n",
    "\n",
    "    # YOUR CODE GOES HERE\n",
    "    graph = {(x, y): [] for y in range(width) for x in range(height) if maze[x][y] != \"#\"}\n",
    "    exits = (-1,-1)\n",
    "    path_tuple = []\n",
    "\n",
    "    for x, _ in graph.items():\n",
    "        if (x[0]-1, x[1]) in graph:\n",
    "            graph[x].append((x[0]-1, x[1]))\n",
    "        if (x[0], x[1]-1) in graph:\n",
    "            graph[x].append((x[0], x[1]-1))\n",
    "        if (x[0]+1, x[1]) in graph:\n",
    "            graph[x].append((x[0]+1, x[1]))\n",
    "        if (x[0], x[1]+1) in graph:\n",
    "            graph[x].append((x[0], x[1]+1))\n",
    "        if maze[x[0]][x[1]] == 'X':\n",
    "            exits = (x[0], x[1])\n",
    "    \n",
    "    # print(graph, exits)\n",
    "            \n",
    "    all_path = list(graph.keys())\n",
    "    visited = dict.fromkeys(all_path, False)\n",
    "    \n",
    "    # print(visited, all_path)\n",
    "    \n",
    "    Q = deque()\n",
    "    # start is all_path[0]\n",
    "    Q.append((0, all_path[0]))\n",
    "    visited[all_path[0]] = True\n",
    "\n",
    "    prev_pos = all_path[0]\n",
    "    prev_dis = 0\n",
    "    \n",
    "    while len(Q):\n",
    "        \n",
    "        d,v = Q.popleft()\n",
    "        # print(\"distance to\", v, \"from start\", start, \"is\", d)\n",
    "\n",
    "        if (d > prev_dis):\n",
    "            path_tuple.append(prev_pos)\n",
    "            prev_dis = d\n",
    "            prev_pos = v\n",
    "        else:\n",
    "            prev_pos = v\n",
    "\n",
    "        if v == exits:\n",
    "            path_tuple.append(exits)\n",
    "\n",
    "            for x in range(1, len(path_tuple)):\n",
    "                a = path_tuple[x-1]\n",
    "                b = path_tuple[x]\n",
    "                if a[0] == b[0] and a[1] + 1 == b[1]:\n",
    "                    path.append('R')\n",
    "                elif a[0] == b[0] and a[1] - 1 == b[1]:\n",
    "                    path.append('L')\n",
    "                elif a[0] + 1 == b[0] and a[1] == b[1]:\n",
    "                    path.append('D')\n",
    "                elif a[0] - 1 == b[0] and a[1] == b[1]:\n",
    "                    path.append('U')\n",
    "\n",
    "            break\n",
    "\n",
    "        for u in graph.get(v):\n",
    "            if not visited[u]:\n",
    "                Q.append((d+1, u))\n",
    "                visited[u] = True\n",
    "    \n",
    "    if len(path) == 0:\n",
    "        return -1\n",
    "    return ''.join(path)\n",
    "\n",
    "maze = [\n",
    "        '...#.',\n",
    "        '##.#.',\n",
    "        '...#.',\n",
    "        '.#.#.',\n",
    "        '....X',\n",
    "        ]\n",
    "\n",
    "# maze = ['.#.', '..X']\n",
    "\n",
    "# check that your code works correctly on provided example\n",
    "# assert path2exit(maze, x, y) == 'DRR', 'Wrong answer'\n",
    "\n",
    "print(path2exit(maze, 0, 0))"
   ]
  }
 ],
 "metadata": {
  "kernelspec": {
   "display_name": "Python 3",
   "language": "python",
   "name": "python3"
  },
  "language_info": {
   "codemirror_mode": {
    "name": "ipython",
    "version": 3
   },
   "file_extension": ".py",
   "mimetype": "text/x-python",
   "name": "python",
   "nbconvert_exporter": "python",
   "pygments_lexer": "ipython3",
   "version": "3.6.9"
  }
 },
 "nbformat": 4,
 "nbformat_minor": 2
}
