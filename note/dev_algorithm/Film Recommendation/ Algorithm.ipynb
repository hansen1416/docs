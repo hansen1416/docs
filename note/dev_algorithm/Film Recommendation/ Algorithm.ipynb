{
 "cells": [
  {
   "cell_type": "markdown",
   "metadata": {},
   "source": [
    "You are tasked with developing a movie recommendation system. You are given a list of movies (their names) and a list of similarities between movies (pairs of movies that are similar). You are also given a list of user's friends and for each friend a list of movies that he has already seen.\n",
    "\n",
    "Your system should recommend one movie with the highest discussability and uniqueness. Discussability is the number of friends of user, who have already seen that movie. Uniqueness is 1 divided by the mean number of similar movies that the user's friends have already seen. So you should return the film with the highest number: F / S, where F = number of friends who have seen this movie, and S = mean of the number of similar movies seen for each friend."
   ]
  },
  {
   "cell_type": "markdown",
   "metadata": {},
   "source": [
    "1. Assign each movie an unique id, have a list of movie id.\n",
    "\n",
    "2. Friends list is a dictionary, user's id as key, user's friends is a set of user id.\n",
    "\n",
    "3. Friends watched list is a dictionary, user's id as key, watched movie is a set of movie id.\n",
    "\n",
    "4. Transfer list of similar movies to a dictionary, each movie's id as key, similar movies are stored in a set as value.\n",
    "\n",
    "5. Calculate discussability, given a user's id, iterate the movie list, and a nested iteration of user's friend list, for each movie id, count occurrence of it in each friend's watch history, construct a dictionary, each movie's id as key, and occurrence as value of the movie.\n",
    "\n",
    "6. Calculate uniqueness, given a user's id, iterate the movie list, and a nested iteration of user's friend list, for each movie id, accumulate the length of the intersection of, set of the movie's similar movie and set of the user's friend's watch history, and divide the accumulation by the number of user's friends, to get the mean of the number of similar movies seen for each friend.\n",
    "\n",
    "This mean can be zero, when user has no friends of user's friends watched nothing similar.\n",
    "\n",
    "7. Since we have discussability list and uniqueness list for each movie, iterate over movie list, and calculate discussability/uniqueness for each movie, return the movie id of the highest score. When uniqueness is zero, return movie id with the highest discussability."
   ]
  },
  {
   "cell_type": "markdown",
   "metadata": {},
   "source": [
    "\n",
    "1. Discussability, iterate over entire movie list, and for each movie, iterate over user's friends, and find if the movie exists in friend's watch history, therefore, we find how many times a movie have been watched by the user's friends. Because watch history is a set, it's easy to search in it.\n",
    "\n",
    "2. Uniqueness, iterate over entire movie list, and for each movie, iterate over user's friends. Because both similar movie and watch history is a set, the length of their intersection is how many similar movies watched by user's friends. For each movie, accumulate such lengthh and divide by total friends number, to get the mean of the number of similar movies seen for each friend.\n",
    "\n",
    "3. F / S score, iterate over entire movie list, if Uniqueness is zero, we recommend the one with highest Discussability, otherwise calculate F / S score for each movie, and recommend the one with highest F / S score."
   ]
  },
  {
   "cell_type": "markdown",
   "metadata": {},
   "source": [
    "Let M denote the number of movies, N denote the number of users.\n",
    "\n",
    "1. Prepare similar movies list is O(M^2) in the worst case, becasue similarity is transitive, and using recursive calls to go over all movies and its existing smiliar movies. But once it's done, we can just use it to recommend movie for any user.\n",
    "\n",
    "2. Discussability, time comlexity is O(MN), because there is a loop of all movies and a nested loop of user's friends list. The watch history is a set, so searching is O(1).\n",
    "\n",
    "3. Uniqueness, time comlexity is O(MN * min(M, N)), because there is a loop of all movies and a nested loop of user's friends list, both watch history and similar movies are set, their intersection costs O(min(M, N)).\n",
    "\n",
    "4. Recommendation, time comlexity is O(M), iterate over movie list and calculate a score for each of them.\n",
    "\n",
    "The overall time complexity is bounded by O(MN * min(M, N))."
   ]
  },
  {
   "cell_type": "markdown",
   "metadata": {},
   "source": [
    "1. Prepare similar movies list cost O(M^2).\n",
    "\n",
    "2. Discussability, memory comlexity is O(M), an hash table contains discussability of each movie.\n",
    "\n",
    "3. Uniqueness, memory comlexity is O(M), an hash table contains uniqueness of each movie.\n",
    "\n",
    "The overall memory complexity is bounded by O(M^2)."
   ]
  }
 ],
 "metadata": {
  "kernelspec": {
   "display_name": "Python 3",
   "language": "python",
   "name": "python3"
  },
  "language_info": {
   "codemirror_mode": {
    "name": "ipython",
    "version": 3
   },
   "file_extension": ".py",
   "mimetype": "text/x-python",
   "name": "python",
   "nbconvert_exporter": "python",
   "pygments_lexer": "ipython3",
   "version": "3.7.7"
  }
 },
 "nbformat": 4,
 "nbformat_minor": 4
}
