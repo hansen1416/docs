{
 "cells": [
  {
   "cell_type": "markdown",
   "metadata": {},
   "source": [
    "You are tasked with developing a movie recommendation system. You are given a list of movies (their names) and a list of similarities between movies (pairs of movies that are similar). You are also given a list of user's friends and for each friend a list of movies that he has already seen.\n",
    "\n",
    "Your system should recommend one movie with the highest discussability and uniqueness. Discussability is the number of friends of user, who have already seen that movie. Uniqueness is 1 divided by the mean number of similar movies that the user's friends have already seen. So you should return the film with the highest number: F / S, where F = number of friends who have seen this movie, and S = mean of the number of similar movies seen for each friend."
   ]
  },
  {
   "cell_type": "code",
   "execution_count": null,
   "metadata": {},
   "outputs": [],
   "source": [
    "# discussability, number of friends watched\n",
    "# uniqueness, 1/ mean number of similar movies see for each friends\n",
    "\n",
    "movies_list = [1,2,3,4,5,6,7,8,9]\n",
    "movies_similiarities = [(1,2), (2,3), (3,4), (5,6), (7,8), (8,9)] # transitive, use graph?, distance matter?\n",
    "friends_list = {1: [2,3,4], 2: [1], 3: [], 4: [2,3], 5: [1]} # does friends two way\n",
    "friends_movies_list = {1: [1,2,3]: 2:[4,5,6], 4: [3,8,9]}\n",
    "\n",
    "# generate a similiarity list"
   ]
  }
 ],
 "metadata": {
  "kernelspec": {
   "display_name": "Python 3",
   "language": "python",
   "name": "python3"
  },
  "language_info": {
   "codemirror_mode": {
    "name": "ipython",
    "version": 3
   },
   "file_extension": ".py",
   "mimetype": "text/x-python",
   "name": "python",
   "nbconvert_exporter": "python",
   "pygments_lexer": "ipython3",
   "version": "3.7.7"
  }
 },
 "nbformat": 4,
 "nbformat_minor": 4
}
