{
 "cells": [
  {
   "cell_type": "code",
   "execution_count": null,
   "metadata": {},
   "outputs": [],
   "source": [
    "import random\n",
    "\n",
    "\"\"\"\n",
    "movies_list = []\n",
    "movies_similarity = []\n",
    "friends = {1:[]}\n",
    "friends_watched = {user_id: [movie_id, ...]}\n",
    "\"\"\"\n",
    "\n",
    "movies_list = range(1, 100)\n",
    "movies_similarity = []\n",
    "\n",
    "while len(movies_similarity) < 31:\n",
    "    random_movie = random.sample(movies_list, k=2)\n",
    "    if random_movie not in movies_similarity:\n",
    "        movies_similarity.append(tuple(random_movie))\n",
    "\n",
    "# print(movies_similarity)\n",
    "\n",
    "users = range(1,30)\n",
    "\n",
    "friends = dict()\n",
    "\n",
    "for user_id in users:\n",
    "    \n",
    "    friends_num = random.randint(0, 9)\n",
    "    friends_sample = random.sample(users, k=friends_num)\n",
    "\n",
    "    if user_id in friends_sample:\n",
    "        friends_sample.remove(user_id)\n",
    "\n",
    "    friends[user_id] = friends_sample\n",
    "\n",
    "# for i, j in friends.items():\n",
    "#     if i in j:\n",
    "#         print(False)\n",
    "#         break\n",
    "\n",
    "friends_watched = dict()\n",
    "\n",
    "for user_id in users:\n",
    "\n",
    "    watched_num = random.randint(0,20)\n",
    "    friends_watched[user_id] = random.sample(movies_list, k=watched_num)\n",
    "\n",
    "# print(friends_watched)\n",
    "\n",
    "def discussability(movies_list, movies_similarity, friends, friends_watched):\n",
    "    pass\n",
    "\n",
    "\n",
    "def uniqueness(movies_list, movies_similarity, friends, friends_watched):\n",
    "    pass"
   ]
  }
 ],
 "metadata": {
  "kernelspec": {
   "display_name": "Python 3",
   "language": "python",
   "name": "python3"
  },
  "language_info": {
   "codemirror_mode": {
    "name": "ipython",
    "version": 3
   },
   "file_extension": ".py",
   "mimetype": "text/x-python",
   "name": "python",
   "nbconvert_exporter": "python",
   "pygments_lexer": "ipython3",
   "version": "3.7.7"
  }
 },
 "nbformat": 4,
 "nbformat_minor": 4
}
