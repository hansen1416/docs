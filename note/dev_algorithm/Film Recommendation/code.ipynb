{
 "cells": [
  {
   "cell_type": "code",
   "execution_count": 1,
   "metadata": {},
   "outputs": [
    {
     "name": "stdout",
     "output_type": "stream",
     "text": [
      "(range(1, 100), [(72, 85), (31, 10), (11, 50), (11, 50), (30, 92), (89, 85), (19, 60), (82, 97), (75, 58), (37, 7), (60, 69), (43, 41), (22, 5), (69, 51), (63, 40), (10, 61), (45, 76), (50, 49), (16, 67), (97, 70), (28, 90), (14, 26), (1, 13), (46, 54), (83, 7), (9, 78), (80, 75), (67, 81), (35, 63), (25, 70), (31, 8)], {1: [23, 11, 10, 16, 13], 2: [24, 10, 11, 16, 8, 26, 4, 25], 3: [5], 4: [27, 25, 10, 2], 5: [18, 26], 6: [], 7: [21, 12, 2, 14, 1, 15, 24, 3], 8: [15, 16, 23, 13], 9: [5, 24, 7, 27, 18, 17, 21], 10: [6, 28, 19, 14, 18, 15], 11: [3], 12: [21, 18, 17, 19], 13: [5, 12, 17, 27, 22, 21], 14: [16, 6, 19, 25, 26, 17, 28, 8, 27], 15: [10, 19, 11, 13], 16: [2, 4, 20, 9, 6, 3, 10], 17: [29, 15, 1, 26, 27, 9], 18: [], 19: [25, 18, 26, 21, 11, 20, 24, 12], 20: [5, 22, 2, 10, 12, 28, 19, 26], 21: [5, 6, 18, 26, 14], 22: [14, 3, 20, 26, 16, 8, 19], 23: [25, 20, 3], 24: [29, 27], 25: [15, 4], 26: [6, 5], 27: [28, 21, 10, 24, 18], 28: [20, 21, 5, 14, 2, 7], 29: [12, 20, 3, 24, 7, 2, 16]}, {1: [48, 18, 53], 2: [20, 52, 28, 14], 3: [91, 63, 57, 41, 72, 26, 87, 60, 61, 32, 84, 42, 71, 97, 45, 40, 92, 70, 13, 79], 4: [36, 23, 11, 26, 29], 5: [92, 17, 9, 98, 32, 57, 49, 18, 72, 2, 20, 89, 28, 84, 7, 12, 27, 45], 6: [66, 47, 30, 7, 78, 18, 3, 86, 2, 17, 98], 7: [32, 51, 95, 46, 21], 8: [56, 1, 67, 11, 75, 41, 85, 6, 17, 52, 34, 60, 16, 47, 69], 9: [81, 98, 61], 10: [7, 96, 10, 12, 71, 48, 22, 99, 16, 69, 60, 23, 2, 97, 40], 11: [97, 74, 76, 36, 30, 63, 41, 85, 28, 61], 12: [79, 37, 8, 17, 46, 53, 5, 84, 9, 19, 80, 15, 35, 49, 89, 16, 47, 56, 75], 13: [9], 14: [76, 48, 50, 30, 98, 87, 3, 43, 16, 45, 69, 75, 65, 29, 24, 47], 15: [23, 49, 97, 26, 66, 12, 47, 42, 73, 29], 16: [65, 26, 63, 58, 57, 51, 77, 83, 31, 54, 21, 36], 17: [23, 7, 73, 90, 69, 54, 28, 45, 25, 3, 88, 56, 98, 61, 9], 18: [18, 46, 31, 39, 71, 6, 36, 45, 56, 96, 72, 13, 93], 19: [77], 20: [93, 92, 48, 55, 98, 13, 75, 54, 90, 10, 20, 15, 6, 63, 40, 41, 52, 30], 21: [8, 27, 55, 18, 19, 24, 59, 47, 35, 46, 25, 13, 87, 76], 22: [30, 25, 20, 35, 24], 23: [63, 62, 42, 82, 94], 24: [2, 55, 1, 85, 9, 31, 5, 13, 69, 89, 17, 71, 96, 16, 20, 34], 25: [27, 44, 34, 92, 37, 61, 16, 46, 84, 80], 26: [93, 62, 44], 27: [22, 95, 17, 5, 2, 3, 61, 8, 31, 77, 35, 92, 26, 45, 14, 63, 75], 28: [], 29: [76, 11, 4, 73, 9, 3]})\n"
     ]
    }
   ],
   "source": [
    "import random\n",
    "\n",
    "\"\"\"\n",
    "movies_list = []\n",
    "movies_similarity = []\n",
    "friends = {1:[]}\n",
    "friends_watched = {user_id: [movie_id, ...]}\n",
    "\"\"\"\n",
    "\n",
    "def generateRandomData():\n",
    "\n",
    "    movies_list = range(1, 100)\n",
    "    movies_similarity = []\n",
    "\n",
    "    while len(movies_similarity) < 31:\n",
    "        random_movie = random.sample(movies_list, k=2)\n",
    "        if random_movie not in movies_similarity:\n",
    "            movies_similarity.append(tuple(random_movie))\n",
    "\n",
    "    # print(movies_similarity)\n",
    "\n",
    "    users = range(1,30)\n",
    "\n",
    "    friends = dict()\n",
    "\n",
    "    for user_id in users:\n",
    "        \n",
    "        friends_num = random.randint(0, 9)\n",
    "        friends_sample = random.sample(users, k=friends_num)\n",
    "\n",
    "        if user_id in friends_sample:\n",
    "            friends_sample.remove(user_id)\n",
    "\n",
    "        friends[user_id] = friends_sample\n",
    "\n",
    "    # for i, j in friends.items():\n",
    "    #     if i in j:\n",
    "    #         print(False)\n",
    "    #         break\n",
    "\n",
    "    friends_watched = dict()\n",
    "\n",
    "    for user_id in users:\n",
    "\n",
    "        watched_num = random.randint(0,20)\n",
    "        friends_watched[user_id] = random.sample(movies_list, k=watched_num)\n",
    "\n",
    "    return movies_list, movies_similarity, friends, friends_watched\n",
    "\n",
    "# print(friends_watched)\n",
    "\n",
    "\"\"\"\n",
    "So you should return the film with the highest number: F / S, \n",
    "where F = number of friends who have seen this movie, \n",
    "and S = mean of the number of similar movies seen for each friend.\n",
    "\"\"\"\n",
    "\n",
    "class FilmFeed:\n",
    "\n",
    "    def __init__(self, movies, movie_similarity, friends, friends_watched):\n",
    "        self.movies = movies\n",
    "        self.friends = friends\n",
    "\n",
    "\n",
    "def discussability(movies_list, movies_similarity, friends, friends_watched):\n",
    "    pass\n",
    "\n",
    "\n",
    "def uniqueness(movies_list, movies_similarity, friends, friends_watched):\n",
    "    pass\n",
    "\n",
    "print(generateRandomData())"
   ]
  }
 ],
 "metadata": {
  "kernelspec": {
   "display_name": "Python 3",
   "language": "python",
   "name": "python3"
  },
  "language_info": {
   "codemirror_mode": {
    "name": "ipython",
    "version": 3
   },
   "file_extension": ".py",
   "mimetype": "text/x-python",
   "name": "python",
   "nbconvert_exporter": "python",
   "pygments_lexer": "ipython3",
   "version": "3.7.7"
  }
 },
 "nbformat": 4,
 "nbformat_minor": 4
}
