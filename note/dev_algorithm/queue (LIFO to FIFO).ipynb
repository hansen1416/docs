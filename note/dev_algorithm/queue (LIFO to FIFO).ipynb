{
 "cells": [
  {
   "cell_type": "code",
   "execution_count": 1,
   "metadata": {},
   "outputs": [],
   "source": [
    "# stacks implements LIFO contract\n",
    "# queue implements FIFO contract\n",
    "\n",
    "class Queue_Two_Stacks():\n",
    "\n",
    "    def __init__(self):\n",
    "        self.stack_1 = []\n",
    "        self.stack_2 = []\n",
    "\n",
    "    def enqueue(self, item):\n",
    "        self.stack_1.append(item)\n",
    "\n",
    "    def dequeue(self):\n",
    "        if len(self.stack_2) == 0:\n",
    "        # If stack_1 is empty, raise an error\n",
    "            if len(self.stack_1) == 0:\n",
    "                raise IndexError(\"Can't dequeue from empty queue!\")\n",
    "        \n",
    "        # while stack_1 is not empty, \n",
    "        # move items from stack_1 to stack_2, reversing order\n",
    "            while len(self.stack_1) > 0:\n",
    "                last_stack_1_item = self.stack_1.pop()\n",
    "                self.stack_2.append(last_stack_1_item)\n",
    "        # return the last item in stack_2, which is the first\n",
    "        # item that entered stack_1 (FIFO!)\n",
    "        return self.stack_2.pop()"
   ]
  },
  {
   "cell_type": "markdown",
   "metadata": {},
   "source": [
    "Time Complexity/Big O\n",
    "--\n",
    "\n",
    "So we have a full solution! But what about runtime? The easiest way to approach this is by thinking about the cost of time per element. The worst-case scenario in terms of cost for a single item is when it is first enqueued and then later dequeued. In this case, the item enters stack_1 (costing one push), then later moves to stack_2 (costing one pop and one push). Later the item is removed from stack_2 to get returned (costing one pop). Each of these four pushes and pops is $O(1)$, meaning that accessing a single element in the stack doesn’t change depending on the size of the data set. We just grab the last element and don’t have to iterate through the array. So our total cost per item is $O(1)$, while our entire algorithm has a run time of $O(n)$. As we add more elements, the algorithm will take longer to run, as the runtime is directly proportional to the number of elements in the data set."
   ]
  }
 ],
 "metadata": {
  "kernelspec": {
   "display_name": "Python 3",
   "language": "python",
   "name": "python3"
  },
  "language_info": {
   "codemirror_mode": {
    "name": "ipython",
    "version": 3
   },
   "file_extension": ".py",
   "mimetype": "text/x-python",
   "name": "python",
   "nbconvert_exporter": "python",
   "pygments_lexer": "ipython3",
   "version": "3.6.9"
  }
 },
 "nbformat": 4,
 "nbformat_minor": 2
}
