{
 "cells": [
  {
   "cell_type": "markdown",
   "metadata": {},
   "source": [
    "try to find recurrence relation, \n",
    "and try to find a base case\n",
    "\n",
    "1. Base Case (i.e., when to stop)\n",
    "\n",
    "2. Work toward Base Case\n",
    "\n",
    "3. Recursive Call (i.e., call ourselves)\n",
    "\n",
    "Why Recursion Works\n",
    "In a recursive algorithm, the computer \"remembers\" every previous state of the problem. \n",
    "This information is \"held\" by the computer on the \"activation stack\" (i.e., inside of each functions workspace).\n",
    "\n",
    "Every function has its own workspace PER CALL of the function."
   ]
  },
  {
   "cell_type": "markdown",
   "metadata": {},
   "source": [
    "__Performance issues__\n",
    "\n",
    "In languages (such as C and Java) that favor iterative looping constructs, there is usually significant time and space cost associated with recursive programs, due to the overhead required to manage the stack and the relative slowness of function calls; in functional languages, a function call (particularly a tail call) is typically a very fast operation, and the difference is usually less noticeable.\n",
    "\n",
    "__Stack space__\n",
    "\n",
    "In some programming languages, the maximum size of the call stack is much less than the space available in the heap, and recursive algorithms tend to require more stack space than iterative algorithms. Consequently, these languages sometimes place a limit on the depth of recursion to avoid stack overflows; Python is one such language._Note the caveat below regarding the special case of tail recursion._"
   ]
  },
  {
   "cell_type": "markdown",
   "metadata": {},
   "source": [
    "__Fast exponentiation complexity__\n",
    "\n",
    "$C(b) = \\begin{cases} 1+ C(\\frac{b}{2}) \\;\\;when\\; b\\; is\\; even \\\\ 1+ C(\\frac{b-1}{2}) \\;\\;when\\; b\\; is\\; odd \\end{cases}$\n",
    "\n",
    "$C(0) = 1$\n",
    "\n",
    "$C(1) = 2$\n",
    "\n",
    "Claim:\n",
    "\n",
    "For $ b > 0, C(b) < \\log_2 b + 2 $\n",
    "\n",
    "_Proof_\n",
    "\n",
    "when b is even\n",
    "\n",
    "$C(b) = 1+ C(\\frac{b}{2}) \\leq 1+2+\\log_2 \\frac{b}{2} = 2 + \\log_2 b$\n",
    "\n",
    "same when b is odd\n",
    "\n",
    "So\n",
    "\n",
    "$C(b) = O(\\log_2b)$"
   ]
  },
  {
   "cell_type": "markdown",
   "metadata": {},
   "source": [
    "__Maze Example:__\n",
    "\n",
    "\n",
    "Consider a rectangle grid of rooms, where each room may or may not have doors on the North, South, East, and West sides.\n",
    "\n",
    "How do you find your way out of a maze? Here is one possible \"algorithm\" for finding the answer:\n",
    "\n",
    "For every door in the current room, if the door leads to the exit, take that door.\n",
    "\n",
    "The \"trick\" here is of course, how do we know if the door leads to a room that leads to the exit? The answer is we don't but we can let the computer figure it out for us.\n",
    "\n",
    "What is the recursive part about the above algorithm? Its the \"door leads out of the maze\". How do we know if a door leads out of the maze? We know because inside the next room (going through the door), we ask the same question, how do we get out of the maze?\n",
    "\n",
    "What happens is the computer \"remembers\" all the \"what ifs\". What if I take the first door, what if I take the second door, what if I take the next door, etc. And for every possible door you can move through, the computer remembers those what ifs, and for every door after that, and after that, etc, until the end is found.\n",
    "\n",
    "Here is a close to actual code implementation."
   ]
  }
 ],
 "metadata": {
  "kernelspec": {
   "display_name": "Python 3",
   "language": "python",
   "name": "python3"
  },
  "language_info": {
   "codemirror_mode": {
    "name": "ipython",
    "version": 3
   },
   "file_extension": ".py",
   "mimetype": "text/x-python",
   "name": "python",
   "nbconvert_exporter": "python",
   "pygments_lexer": "ipython3",
   "version": "3.6.9"
  }
 },
 "nbformat": 4,
 "nbformat_minor": 2
}
