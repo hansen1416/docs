{
 "cells": [
  {
   "cell_type": "code",
   "execution_count": null,
   "metadata": {},
   "outputs": [],
   "source": [
    "# try to find recurrence relation, \n",
    "# and try to find a base case\n",
    "\n",
    "# 1. Base Case (i.e., when to stop)\n",
    "\n",
    "# 2. Work toward Base Case\n",
    "\n",
    "# 3. Recursive Call (i.e., call ourselves)\n",
    "\n",
    "# Why Recursion Works\n",
    "# In a recursive algorithm, the computer \"remembers\" every previous state of the problem. \n",
    "# This information is \"held\" by the computer on the \"activation stack\" (i.e., inside of each functions workspace).\n",
    "\n",
    "# Every function has its own workspace PER CALL of the function."
   ]
  },
  {
   "cell_type": "markdown",
   "metadata": {},
   "source": [
    "__Maze Example:__\n",
    "\n",
    "\n",
    "Consider a rectangle grid of rooms, where each room may or may not have doors on the North, South, East, and West sides.\n",
    "\n",
    "How do you find your way out of a maze? Here is one possible \"algorithm\" for finding the answer:\n",
    "\n",
    "For every door in the current room, if the door leads to the exit, take that door.\n",
    "\n",
    "The \"trick\" here is of course, how do we know if the door leads to a room that leads to the exit? The answer is we don't but we can let the computer figure it out for us.\n",
    "\n",
    "What is the recursive part about the above algorithm? Its the \"door leads out of the maze\". How do we know if a door leads out of the maze? We know because inside the next room (going through the door), we ask the same question, how do we get out of the maze?\n",
    "\n",
    "What happens is the computer \"remembers\" all the \"what ifs\". What if I take the first door, what if I take the second door, what if I take the next door, etc. And for every possible door you can move through, the computer remembers those what ifs, and for every door after that, and after that, etc, until the end is found.\n",
    "\n",
    "Here is a close to actual code implementation."
   ]
  }
 ],
 "metadata": {
  "kernelspec": {
   "display_name": "Python 3",
   "language": "python",
   "name": "python3"
  },
  "language_info": {
   "codemirror_mode": {
    "name": "ipython",
    "version": 3
   },
   "file_extension": ".py",
   "mimetype": "text/x-python",
   "name": "python",
   "nbconvert_exporter": "python",
   "pygments_lexer": "ipython3",
   "version": "3.6.9"
  }
 },
 "nbformat": 4,
 "nbformat_minor": 2
}
