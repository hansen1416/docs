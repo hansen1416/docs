{
 "cells": [
  {
   "cell_type": "markdown",
   "metadata": {},
   "source": [
    "To do this define __loop invariant__, and show the next three things about it\n",
    "\n",
    "- __Initiablization__: it is true prior for the first iteration of the loop\n",
    "\n",
    "- __Maintenance__: if it remains true after iteration of the loop\n",
    "\n",
    "- __Termination__: when the lopp terminates the invariant gives a useful peroperty that helps to proof correctness"
   ]
  },
  {
   "cell_type": "code",
   "execution_count": 9,
   "metadata": {},
   "outputs": [
    {
     "name": "stdout",
     "output_type": "stream",
     "text": [
      "[1, 2, 3, 40, 5, 6, 7, 8, 9, 9, 0, 0, 0, 0, 0]\n"
     ]
    }
   ],
   "source": [
    "# example, Move zeros\n",
    "\n",
    "def f(a):\n",
    "#     n, first_zero = 0, len(a)\n",
    "    first_zero, n = 0, len(a)\n",
    "\n",
    "    while a[first_zero] != 0:\n",
    "        first_zero += 1\n",
    "        print(first_zero)\n",
    "        \n",
    "    for current in range(first_zero+1, n):\n",
    "        if a[current] != 0:\n",
    "            a[first_zero], a[current] = a[current], a[first_zero]\n",
    "            first_zero += 1\n",
    "\n",
    "    return a\n",
    "\n",
    "a = [0,1,2,3,0,40,5,6,0,0,7,8,0,9,9]\n",
    "print(f(a))"
   ]
  },
  {
   "cell_type": "markdown",
   "metadata": {},
   "source": [
    "__Initialization__: The invariant is correct after while-loop execution\n",
    "\n",
    "__Maintenance__: On each iteration current element moves to the right block for it\n",
    "\n",
    "__Termination__: The algorithm terminates because loop terminates. After it terminates, array consists of nonzero elements block and zero elements block\n",
    "\n",
    "__Lopp invariant__\n",
    "\n",
    "On every loop iteration the array consists of three blocks\n",
    "\n",
    "1. Elements in range (0, first_zero) are nonzero elements in the relative order\n",
    "2. Elements in range (first_zero, current) are zeros\n",
    "3. Elements in range (current,n) aren't processed yet\n",
    "\n",
    "each block can be empty"
   ]
  },
  {
   "cell_type": "code",
   "execution_count": 16,
   "metadata": {},
   "outputs": [
    {
     "name": "stdout",
     "output_type": "stream",
     "text": [
      "10\n"
     ]
    }
   ],
   "source": [
    "# example, largest rectangle in histogram\n",
    "\n",
    "def refresh_max(height, pos, end, maximum):\n",
    "    cur_max = (end - pos[-1]) * height[-1]\n",
    "    maximum = cur_max if cur_max > maximum else maximum\n",
    "    \n",
    "    height.pop()\n",
    "    p=pos.pop()\n",
    "    \n",
    "    return maximum, p\n",
    "\n",
    "def largest_rectangle(a):\n",
    "    n = len(a)\n",
    "    height = []\n",
    "    pos = []\n",
    "    maximum = 0\n",
    "    for i in range(n):\n",
    "        if not height or a[i] > height[-1]:\n",
    "            height.append(a[i])\n",
    "            pos.append(i)\n",
    "        else:\n",
    "            while height and height[-1] >= a[i]:\n",
    "                maximum, p = refresh_max(height, pos, i, maximum)\n",
    "            height.append(a[i])\n",
    "            pos.append(p)\n",
    "        while height:\n",
    "            maximum, p = refresh_max(height, pos, n, maximum)\n",
    "        return maximum\n",
    "    \n",
    "a = [1,5,4,0,3,5,6,2,1,3]\n",
    "print(largest_rectangle(a))"
   ]
  },
  {
   "cell_type": "markdown",
   "metadata": {},
   "source": [
    "__Loop invariant__\n",
    "\n",
    "- In _height_ stack only elements for which the answer is unknown are stored\n",
    "\n",
    "- In _post_ stack the leftmost possible start position for corresponding height is stored\n",
    "\n",
    "- Elements in _height_ stack are in increasing order\n",
    "\n",
    "- Every column height will be added to stack"
   ]
  },
  {
   "cell_type": "markdown",
   "metadata": {},
   "source": [
    "__Initialization__: The invariant is correct after first element will be added to empty _height_ stack\n",
    "\n",
    "__Maintenance__: Carefully check that invariant doesn't break during execution\n",
    "\n",
    "__Termination__: Each element will be added into stack only once, and will removed from stack only once"
   ]
  },
  {
   "cell_type": "markdown",
   "metadata": {},
   "source": [
    "__Summary__\n",
    "\n",
    "- Loop invariants are used to prrof algorithms correctness\n",
    "- After defining loop invariant check initialization, maintenance, termination"
   ]
  },
  {
   "cell_type": "markdown",
   "metadata": {},
   "source": [
    "---\n",
    "\n",
    "To do this define __loop invariant__, and show the next three things about it\n",
    "\n",
    "- __Initiablization__: it is true prior for the first iteration of the loop\n",
    "\n",
    "- __Maintenance__: if it remains true after iteration of the loop\n",
    "\n",
    "- __Termination__: when the lopp terminates the invariant gives a useful peroperty that helps to proof correctness"
   ]
  },
  {
   "cell_type": "markdown",
   "metadata": {},
   "source": [
    "- __loop invariant__: two pointers are stored, the target must to the right of the pointer. increase the pointer by k//2 each time.\n",
    "\n",
    "- __Initiablization__: It's easy to calculate k = ceil(p/100*K), initialize two pointers p1 and p2 for two arrays, and we consider the pointer as the start of both arrays, which means our target must NOT to the left of the pointer.\n",
    "\n",
    "- __Maintenance__: Nomarlly, when the elements of the remaining of the array is more than k//2 for both arrays. try to divide arrays into two parts by k//2. Compare the elements at the position k//2 of both arrays, and our target must NOT in the left part of the array with a smaller element at the position k//2. So we can dump that part, namely move the pointer to the right by k//2, and pass k - k//2 as k for next recursion.  \n",
    "If k//2 is more than the elements to the right of the pointer for array 1, we compare the last element in array 1 with the element at k//2 in array 2. If the last element of array 1 is smaller, then our target must be in the remaining part of array 2, we can end recursion. If the last element of array 1 is bigger, move the pointer on array 2 by k//2, and pass k - k//2 as k for next recursion. \n",
    "And we do the same for array 1, if k//2 is more than the elements to the right of the pointer for array 2.\n",
    "\n",
    "- __Termination__: \n",
    "If k == 1, campare the first elements of array 1 and 2, return the smaller one.\n",
    "When one of the array is exhausted, the target is the pointer of the remaining array plus k. \n",
    "If k//2 is more than the remaining element of array 1 and the last element of array 1 is smaller than the (k//2)-th element of array 2, then our target must be in the remaining part of array 2, and it's position is k minus (the remaining elements of array 1) plus (the pointer on array 2); \n",
    "if k//2 is more than the remaining element of array 2 and the last element of array 2 is smaller than the (k//2)-th element of array 1, then our target must be in the remaining part of array 1, and it's position is k minus (the remaining elements of array 2) plus (the pointer on array 1)."
   ]
  }
 ],
 "metadata": {
  "kernelspec": {
   "display_name": "Python 3",
   "language": "python",
   "name": "python3"
  },
  "language_info": {
   "codemirror_mode": {
    "name": "ipython",
    "version": 3
   },
   "file_extension": ".py",
   "mimetype": "text/x-python",
   "name": "python",
   "nbconvert_exporter": "python",
   "pygments_lexer": "ipython3",
   "version": "3.6.9"
  }
 },
 "nbformat": 4,
 "nbformat_minor": 2
}
