{
 "cells": [
  {
   "cell_type": "markdown",
   "metadata": {},
   "source": [
    "__What is Activity Selection Problem?__\n",
    "\n",
    "Let's consider that you have n activities with their start and finish times, the objective is to find solution set having __maximum number of non-conflicting activities__ that can be executed in a single time frame, assuming that only one person or machine is available for execution.\n",
    "\n",
    "- It might not be possible to complete all the activities, since their timings can collapse.\n",
    "- Two activities, say `i` and `j`, are said to be non-conflicting if `si` >= `fj` or `sj` >= `fi` where `si` and `sj` denote the starting time of activities `i` and `j` respectively, and `fi` and `fj` refer to the finishing time of the activities `i` and `j` respectively.\n",
    "- __Greedy approach__ can be used to find the solution since we want to maximize the count of activities that can be executed. This approach will greedily choose an activity with earliest finish time at every step, thus yielding an optimal solution.\n",
    "\n",
    "__Input Data for the Algorithm:__\n",
    "\n",
    "- `act[]` array containing all the activities.\n",
    "- `s[]` array containing the starting time of all the activities.\n",
    "- `f[]` array containing the finishing time of all the activities.\n",
    "\n",
    "__Output Data from the Algorithm:__\n",
    "\n",
    "`sol[]` array refering to the solution set containing the maximum number of non-conflicting activities."
   ]
  },
  {
   "cell_type": "markdown",
   "metadata": {},
   "source": [
    "__Steps for Activity Selection Problem__\n",
    "\n",
    "Following are the steps we will be following to solve the activity selection problem,\n",
    "\n",
    "Step 1: Sort the given activities in ascending order according to their finishing time.\n",
    "\n",
    "Step 2: Select the first activity from sorted array `act[]` and add it to `sol[]` array.\n",
    "\n",
    "Step 3: Repeat steps 4 and 5 for the remaining activities in `act[]`.\n",
    "\n",
    "Step 4: If the start time of the currently selected activity is greater than or equal to the finish time of previously selected activity, then add it to the `sol[]` array.\n",
    "\n",
    "Step 5: Select the next activity in `act[]` array.\n",
    "\n",
    "Step 6: Return the `sol[]` array."
   ]
  },
  {
   "cell_type": "code",
   "execution_count": 2,
   "metadata": {},
   "outputs": [
    {
     "name": "stdout",
     "output_type": "stream",
     "text": [
      "Sorted activities\n",
      "1 2\n",
      "3 4\n",
      "0 6\n",
      "5 7\n",
      "5 9\n",
      "8 9\n",
      "\n",
      "Maximum Selected Activities\n",
      "1 2\n",
      "3 4\n",
      "5 7\n",
      "8 9\n"
     ]
    }
   ],
   "source": [
    "def activitySelection(s , f): \n",
    "    n = len(f) \n",
    "    temp_start = 0\n",
    "    temp_finish = 0\n",
    "    # Step 1\n",
    "    # Sort the activities in ascending order of finish times\n",
    "    for i in range(1,n):\n",
    "        for j in range(0,n-1):\n",
    "            if(f[j] > f[j+1]):\n",
    "                temp_start = s[j]\n",
    "                temp_finish = f[j]\n",
    "\n",
    "                f[j] = f[j+1]\n",
    "                s[j] = s[j+1]\n",
    "\n",
    "                f[j+1] = temp_finish\n",
    "                s[j+1] = temp_start\n",
    "\n",
    "    print(\"Sorted activities\")\n",
    "    for j in range(0,n):\n",
    "        print (s[j], f[j])\n",
    "\n",
    "    print(\"\\nMaximum Selected Activities\")\n",
    "    # Step 2\n",
    "    i = 0\n",
    "    print(s[i], f[i]), \n",
    "\n",
    "    # Step 3\n",
    "    for j in range(n): \n",
    "    # Select a new activity from the list if its `start` time\n",
    "    # is greater than or equal to the `finish` time of the \n",
    "    # previously selected activity.\n",
    "        if s[j] >= f[i]: \n",
    "            print(s[j], f[j]), \n",
    "            i = j \n",
    "\n",
    "# Driver code\n",
    "start = [5, 1, 0, 3, 5, 8] \n",
    "finish = [9, 2, 6, 4, 7, 9] \n",
    "\n",
    "activitySelection(start , finish) "
   ]
  }
 ],
 "metadata": {
  "kernelspec": {
   "display_name": "Python 3",
   "language": "python",
   "name": "python3"
  },
  "language_info": {
   "codemirror_mode": {
    "name": "ipython",
    "version": 3
   },
   "file_extension": ".py",
   "mimetype": "text/x-python",
   "name": "python",
   "nbconvert_exporter": "python",
   "pygments_lexer": "ipython3",
   "version": "3.6.9"
  }
 },
 "nbformat": 4,
 "nbformat_minor": 2
}
