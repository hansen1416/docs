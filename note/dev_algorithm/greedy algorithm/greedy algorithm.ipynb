{
 "cells": [
  {
   "cell_type": "markdown",
   "metadata": {},
   "source": [
    "__Structure of a Greedy Algorithm__\n",
    "\n",
    "Greedy algorithms take all of the data in a particular problem, and then set a rule for which elements to add to the solution at each step of the algorithm. "
   ]
  },
  {
   "cell_type": "markdown",
   "metadata": {},
   "source": [
    "If both of the properties below are true, a greedy algorithm can be used to solve the problem.\n",
    "\n",
    "- __Greedy choice property__: A global (overall) optimal solution can be reached by choosing the optimal choice at each step.\n",
    "- __Optimal substructure__: A problem has an optimal substructure if an optimal solution to the entire problem contains the optimal solutions to the sub-problems.\n",
    "\n",
    "In other words, greedy algorithms work on problems for which it is true that, at every step, there is a choice that is optimal for the problem up to that step, and after the last step, the algorithm produces the optimal solution of the complete problem."
   ]
  },
  {
   "cell_type": "markdown",
   "metadata": {},
   "source": [
    "__example__\n",
    "\n",
    "You are given a faulty server, that can work without restarting no longer than `t` minutes. restarting a server takes exactly `1 minute`.  \n",
    "Presented with a list of times (integers representing difference between no-request time and current time, sorted increasingly from the current moment) when there will be no requests to your service.  \n",
    "Output the minimum time of restarts needed for server to work for `m` minutes starting from now.   \n",
    "If the server would have to restart when there are requests sent to it, output -1 instead.  "
   ]
  },
  {
   "cell_type": "code",
   "execution_count": 1,
   "metadata": {},
   "outputs": [],
   "source": [
    "def minRestarts(m, t, no_request_times):\n",
    "    min_restarts = 0\n",
    "\n",
    "    # YOUR CODE GOES HERE\n",
    "    n = len(no_request_times)\n",
    "    \n",
    "    time_past = t\n",
    "    \n",
    "    for i in range(n):\n",
    "        if no_request_times[i] > m:\n",
    "            return min_restarts\n",
    "        if no_request_times[i] != time_past:\n",
    "            return -1\n",
    "        time_past = time_past + 1 + t\n",
    "        min_restarts += 1\n",
    "\n",
    "    return min_restarts\n",
    "\n",
    "m = 100\n",
    "t = 20\n",
    "no_request_times = [50]\n",
    "# check that your code works correctly on provided example\n",
    "assert minRestarts(m, t, no_request_times) == -1, 'Wrong answer'"
   ]
  }
 ],
 "metadata": {
  "kernelspec": {
   "display_name": "Python 3",
   "language": "python",
   "name": "python3"
  },
  "language_info": {
   "codemirror_mode": {
    "name": "ipython",
    "version": 3
   },
   "file_extension": ".py",
   "mimetype": "text/x-python",
   "name": "python",
   "nbconvert_exporter": "python",
   "pygments_lexer": "ipython3",
   "version": "3.6.9"
  }
 },
 "nbformat": 4,
 "nbformat_minor": 2
}
