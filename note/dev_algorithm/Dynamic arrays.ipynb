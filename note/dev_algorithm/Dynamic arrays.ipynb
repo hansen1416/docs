{
 "cells": [
  {
   "cell_type": "markdown",
   "metadata": {},
   "source": [
    "Arrays\n",
    "\n",
    "1. access by a[i]\n",
    "2. push_back operation"
   ]
  },
  {
   "cell_type": "markdown",
   "metadata": {},
   "source": [
    "Static array\n",
    "\n",
    "> maximum number of elements is know in advance\n",
    "\n",
    "- The elements of the array store in a contiuous block of memory with fixed size (given size of the array)\n",
    "- Access operation time complexity is $O(1)$. To access by its index just add the index multiplied by type size to the address of the first element of array"
   ]
  },
  {
   "cell_type": "markdown",
   "metadata": {},
   "source": [
    "Dynamic array\n",
    "\n",
    "> maximum number of elements is unknown, eg. python list\n",
    "\n",
    "Time complexity of `push_back`\n",
    "\n",
    "- The worst case complexity is $O(n)$\n",
    "\n",
    "- Time complexity for n operations is $O(n)$.\n",
    "Copies number: $1+2+4+8+ \\dotsm+2^{\\log n} = O(n)$\n",
    "\n",
    "- Average time complexity is $O(1)$"
   ]
  },
  {
   "cell_type": "code",
   "execution_count": 2,
   "metadata": {},
   "outputs": [],
   "source": [
    "def max_rectangle_histagram(a):\n",
    "    stack_height = []\n",
    "    stack_pos = []\n",
    "    i = 0\n",
    "    a_len = len(a)\n",
    "    max_rec = 0\n",
    "    \n",
    "    while i < a_len:\n",
    "\n",
    "        if len(stack_pos) == 0:\n",
    "            stack_height.append(a[i])\n",
    "            stack_pos.append(i)\n",
    "            if a[i] > max_rec:\n",
    "                max_rec = a[i]\n",
    "            i += 1\n",
    "            continue\n",
    "\n",
    "        if a[i] < stack_height[-1]:\n",
    "            while len(stack_height) and a[i] < stack_height[-1]:\n",
    "\n",
    "                h = stack_height.pop()\n",
    "                w = stack_pos.pop()\n",
    "\n",
    "                area = h * (i - w)\n",
    "\n",
    "                print('one', area, h, w)\n",
    "\n",
    "                if area > max_rec:\n",
    "                    max_rec = area\n",
    "\n",
    "        stack_height.append(a[i])\n",
    "        stack_pos.append(i)\n",
    "\n",
    "        print(stack_height, stack_pos)\n",
    "            \n",
    "\n",
    "        if i == a_len-1:\n",
    "            # print(stack_height, stack_pos)\n",
    "            # while len(stack_height) and a[i] <= stack_height[-1]:\n",
    "            while len(stack_height):\n",
    "\n",
    "                h = stack_height.pop()\n",
    "                w = stack_pos.pop()\n",
    "\n",
    "                area = h * (w + 1)\n",
    "\n",
    "                print('two', area)\n",
    "\n",
    "                if area > max_rec:\n",
    "                    max_rec = area\n",
    "\n",
    "        i+=1\n",
    "\n",
    "    return max_rec\n",
    "\n",
    "if __name__ == \"__main__\":\n",
    "    a = [2,3,1,2,6,4,3,3,2,2,1,1,2,4,3,2,3,4,1,1,2,7,4,1]\n",
    "\n",
    "    # res = max_rectangle_histagram(a)\n",
    "\n",
    "    # print('max', res)"
   ]
  },
  {
   "cell_type": "code",
   "execution_count": 3,
   "metadata": {},
   "outputs": [
    {
     "name": "stdout",
     "output_type": "stream",
     "text": [
      "15\n",
      "0\n",
      "18\n",
      "61\n"
     ]
    }
   ],
   "source": [
    "def calc_rain_water(h):\n",
    "\n",
    "    stack_pos = []\n",
    "    i = 0\n",
    "    volume = 0\n",
    "\n",
    "    while i < len(h):\n",
    "        \n",
    "        while len(stack_pos) and h[i] > h[stack_pos[-1]]:\n",
    "            last_one = stack_pos[-1]\n",
    "\n",
    "            stack_pos.pop()\n",
    "\n",
    "            if len(stack_pos) == 0:\n",
    "                break\n",
    "\n",
    "            width = i - stack_pos[-1] - 1\n",
    "            height = min(h[i], h[stack_pos[-1]]) - h[last_one]\n",
    "\n",
    "            volume += width * height\n",
    "\n",
    "        stack_pos.append(i)\n",
    "\n",
    "        i += 1\n",
    "    \n",
    "    return volume\n",
    "\n",
    "# some test code\n",
    "if __name__ == \"__main__\":\n",
    "    test_h = [2, 5, 2, 3, 6, 9, 1, 3, 4, 6, 1]\n",
    "    # should print 15\n",
    "    print(calc_rain_water(test_h))\n",
    "\n",
    "    test_h = [2, 4, 6, 8, 6, 4, 2]\n",
    "    # should print 0\n",
    "    print(calc_rain_water(test_h))\n",
    "\n",
    "    test_h = [8, 6, 4, 2, 4, 6, 8]\n",
    "    # should print 18\n",
    "    print(calc_rain_water(test_h))\n",
    "\n",
    "    test_h = [2,3,1,2,6,4,3,3,2,2,1,1,2,4,3,2,3,4,1,1,2,7,4,1]\n",
    "    # print(len(test_h))\n",
    "    print(calc_rain_water(test_h))"
   ]
  }
 ],
 "metadata": {
  "kernelspec": {
   "display_name": "Python 3",
   "language": "python",
   "name": "python3"
  },
  "language_info": {
   "codemirror_mode": {
    "name": "ipython",
    "version": 3
   },
   "file_extension": ".py",
   "mimetype": "text/x-python",
   "name": "python",
   "nbconvert_exporter": "python",
   "pygments_lexer": "ipython3",
   "version": "3.6.9"
  }
 },
 "nbformat": 4,
 "nbformat_minor": 2
}
