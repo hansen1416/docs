{
 "cells": [
  {
   "cell_type": "code",
   "execution_count": 3,
   "metadata": {},
   "outputs": [],
   "source": [
    "def bs(A, l, r, t):\n",
    "    if l >= r:\n",
    "        return -1\n",
    "    mid = (l + r) // 2\n",
    "    if A[mid] == t:\n",
    "        return mid\n",
    "    if A[mid] > t:\n",
    "        return bs(A, l, mid, t)\n",
    "    return bs(A, mid+1, r, t)"
   ]
  },
  {
   "cell_type": "markdown",
   "metadata": {},
   "source": [
    "For a tail recursion, we can always rewrite it with a single while loop whithout much trouble."
   ]
  },
  {
   "cell_type": "code",
   "execution_count": 6,
   "metadata": {},
   "outputs": [
    {
     "name": "stdout",
     "output_type": "stream",
     "text": [
      "11\n",
      "11\n"
     ]
    }
   ],
   "source": [
    "def bs_loop(A, t):\n",
    "    l=0\n",
    "    r=len(A)\n",
    "    while (l<r):\n",
    "        mid = (l+r)//2\n",
    "        if A[mid] == t:\n",
    "            return mid\n",
    "        if A[mid] > t:\n",
    "            r = mid\n",
    "        else:\n",
    "            l= mid+1\n",
    "            \n",
    "    return -1\n",
    "\n",
    "\n",
    "A = [1,2,4,5,6,7,8,10,11,14,15,18,20,21]\n",
    "t = 18\n",
    "\n",
    "print(bs_loop(A, t))\n",
    "print(bs(A, 0, len(A), t))"
   ]
  },
  {
   "cell_type": "code",
   "execution_count": 52,
   "metadata": {},
   "outputs": [
    {
     "name": "stdout",
     "output_type": "stream",
     "text": [
      "-1\n",
      "-1\n"
     ]
    }
   ],
   "source": [
    "# find the right most\n",
    "def bs_right(A, t):\n",
    "    l=0\n",
    "    r=len(A)\n",
    "    # the end of the loop could be empty list or list with one item\n",
    "    while (l+1<r):\n",
    "        mid = (l+r) // 2\n",
    "        # if A[mid] > t, then the target must in the left half\n",
    "        if A[mid] > t:\n",
    "            r = mid\n",
    "        # when A[mid] >= t, the target could be mid or in the right half, so A[mid]=t does not mean end of story\n",
    "        else:\n",
    "            l = mid\n",
    "    # l=r, means not found, when l+1=r, means we found the rightmost element \n",
    "    if (l<r) and A[l] == t:\n",
    "        return l\n",
    "    return -1\n",
    "\n",
    "A = [0,0,1,1,1,1,2,2,3,4,4,4]\n",
    "A = []\n",
    "t=1\n",
    "print(bs_right(A, t))\n",
    "print(bs_loop(A, t))"
   ]
  },
  {
   "cell_type": "code",
   "execution_count": 51,
   "metadata": {},
   "outputs": [
    {
     "name": "stdout",
     "output_type": "stream",
     "text": [
      "None\n"
     ]
    }
   ],
   "source": [
    "def bsearch2(arr, key, left=0, right=None):\n",
    "    if right is None:\n",
    "        right = len(arr)\n",
    "#     if right < left:\n",
    "    if right <= left:\n",
    "        return None\n",
    "    middle = (left + right) >> 1\n",
    "    if arr[middle] > key:\n",
    "        return bsearch2(arr, key, left, middle)\n",
    "    if arr[middle] < key:\n",
    "        return bsearch2(arr, key, middle + 1, right)\n",
    "    return middle\n",
    "\n",
    "\n",
    "A = [1,2,3] # it doesn't work, it must be high - low > 0\n",
    "# A = [0,0,1,1,1,1,2,2,3,4,4,4]\n",
    "# after change while high - low > 1 to while high - low > 0, \n",
    "# low = mid could cause a infinite loop if the target not in the list, \n",
    "# high is always 1+low.\n",
    "A = [1,2,4,5,6,7,8,10,11,14,15,18,20,21] \n",
    "A = range(10,100000000,2)\n",
    "A = []\n",
    "t=800001\n",
    "print(bsearch2(A ,t))\n",
    "# print(A[13])"
   ]
  },
  {
   "cell_type": "code",
   "execution_count": 61,
   "metadata": {},
   "outputs": [
    {
     "name": "stdout",
     "output_type": "stream",
     "text": [
      "13\n"
     ]
    }
   ],
   "source": [
    "def bsearch3(arr, key):\n",
    "    n = len(arr)\n",
    "    if n < 2:\n",
    "        return (0 if (n == 1 and arr[0] == key) else None)\n",
    "    m = int(0.5 * n)\n",
    "    if arr[m] > key:\n",
    "        return bsearch3(arr[:m], key)\n",
    "    result = bsearch3(arr[m:], key)\n",
    "    return (result + m if result != None else None)\n",
    "\n",
    "# maybe arr[m] == key ??\n",
    "\n",
    "A = [1,2,3] \n",
    "# A = [] \n",
    "A = [0,0,1,1,1,1,2,2,3,4,4,4]\n",
    "A = [1,2,4,5,6,7,8,10,11,14,15,18,20,21] \n",
    "# A = range(10,100000000,2)\n",
    "t=21\n",
    "print(bsearch3(A ,t))\n",
    "# print(A[1:])"
   ]
  }
 ],
 "metadata": {
  "kernelspec": {
   "display_name": "Python 3",
   "language": "python",
   "name": "python3"
  },
  "language_info": {
   "codemirror_mode": {
    "name": "ipython",
    "version": 3
   },
   "file_extension": ".py",
   "mimetype": "text/x-python",
   "name": "python",
   "nbconvert_exporter": "python",
   "pygments_lexer": "ipython3",
   "version": "3.6.9"
  }
 },
 "nbformat": 4,
 "nbformat_minor": 2
}
