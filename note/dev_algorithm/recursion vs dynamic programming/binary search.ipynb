{
 "cells": [
  {
   "cell_type": "code",
   "execution_count": 3,
   "metadata": {},
   "outputs": [],
   "source": [
    "def bs(A, l, r, t):\n",
    "    \"\"\"\n",
    "    complexity:\n",
    "    (bs for size n) = O(1) + (bs for size n/2)\n",
    "    O(#levels), \n",
    "    let k > 1+log_2(n) =< n/(2^{})\n",
    "    \"\"\"\n",
    "    if l >= r:\n",
    "        return -1\n",
    "    mid = (l + r) // 2\n",
    "    if A[mid] == t:\n",
    "        return mid\n",
    "    if A[mid] > t:\n",
    "        return bs(A, l, mid, t)\n",
    "    return bs(A, mid+1, r, t)"
   ]
  },
  {
   "cell_type": "markdown",
   "metadata": {},
   "source": [
    "Complexity of `bs`:\n",
    "\n",
    "(`bs` for size n) = O(1) + (`bs` for size n/2)\n",
    "\n",
    "So it's O(#levels), and how many levels?\n",
    "\n",
    "let $k > 1+\\log_2(n) \\leq \\frac{n}{2^{k-1}} < \\frac{n}{2^{\\log_2(n)}} = 1$\n",
    "\n",
    "$\\#levels \\leq [log_2(n)] + 2$\n",
    "\n",
    "$O(\\log(n))$"
   ]
  },
  {
   "cell_type": "markdown",
   "metadata": {},
   "source": [
    "For a tail recursion, we can always rewrite it with a single while loop whithout much trouble."
   ]
  },
  {
   "cell_type": "code",
   "execution_count": 6,
   "metadata": {},
   "outputs": [
    {
     "name": "stdout",
     "output_type": "stream",
     "text": [
      "11\n",
      "11\n"
     ]
    }
   ],
   "source": [
    "def bs_loop(A, t):\n",
    "    l=0\n",
    "    r=len(A)\n",
    "    while (l<r):\n",
    "        mid = (l+r)//2\n",
    "        if A[mid] == t:\n",
    "            return mid\n",
    "        if A[mid] > t:\n",
    "            r = mid\n",
    "        else:\n",
    "            l= mid+1\n",
    "            \n",
    "    return -1\n",
    "\n",
    "\n",
    "A = [1,2,4,5,6,7,8,10,11,14,15,18,20,21]\n",
    "t = 18\n",
    "\n",
    "print(bs_loop(A, t))\n",
    "print(bs(A, 0, len(A), t))"
   ]
  },
  {
   "cell_type": "code",
   "execution_count": 52,
   "metadata": {},
   "outputs": [
    {
     "name": "stdout",
     "output_type": "stream",
     "text": [
      "-1\n",
      "-1\n"
     ]
    }
   ],
   "source": [
    "# find the right most\n",
    "def bs_right(A, t):\n",
    "    l=0\n",
    "    r=len(A)\n",
    "    # the end of the loop could be empty list or list with one item\n",
    "    while (l+1<r):\n",
    "        mid = (l+r) // 2\n",
    "        # if A[mid] > t, then the target must in the left half\n",
    "        if A[mid] > t:\n",
    "            r = mid\n",
    "        # when A[mid] >= t, the target could be mid or in the right half, so A[mid]=t does not mean end of story\n",
    "        else:\n",
    "            l = mid\n",
    "    # l=r, means not found, when l+1=r, means we found the rightmost element \n",
    "    if (l<r) and A[l] == t:\n",
    "        return l\n",
    "    return -1\n",
    "\n",
    "A = [0,0,1,1,1,1,2,2,3,4,4,4]\n",
    "A = []\n",
    "t=1\n",
    "print(bs_right(A, t))\n",
    "print(bs_loop(A, t))"
   ]
  },
  {
   "cell_type": "code",
   "execution_count": 18,
   "metadata": {},
   "outputs": [],
   "source": [
    "# test cases\n",
    "A0 = ([1,2,3], 1)\n",
    "A1 = ([], 1) #shouldReturnFalseIfArrayIsEmpty\n",
    "A2 = ([0, 2, 4, 6, 8, 10, 12, 14, 16], 9) #shouldReturnFalseIfNotFoundInSortedOddArray\n",
    "A3 = ([0, 2, 4, 6, 8, 10, 12, 14, 16, 18], 9) #shouldReturnFalseIfNotFoundInSortedEvenArray\n",
    "A4 = ([0, 2, 4, 6, 8, 10, 12, 14, 16], 0) #shouldReturnTrueIfFoundAsFirstInSortedArray\n",
    "A5 = ([0, 2, 4, 6, 8, 10, 12, 14, 16], 16) #shouldReturnTrueIfFoundAtEndInSortedArray\n",
    "A6 = ([0, 2, 4, 6, 8, 10, 12, 14, 16], 8) #shouldReturnTrueIfFoundInMiddleInSortedArray\n",
    "A7 = ([1,2,4,5,6,7,8,10,11,14,15,18,20,21], 18) # shouldReturnTrueIfFoundAnywhereInSortedArray\n",
    "A8 = ([1,2,4,5,6,7,8,10,11,14,15,18,20,21], 99) #shouldReturnFalseIfNotFoundInSortedArray\n",
    "A9 = ([1,2,4,5,6,7,8,10,11,14,15,18,20,21], -99)\n",
    "A10 = (range(0,1000000000), 9000001)\n",
    "A11 = (range(0,1000000000,2), 9000002)\n",
    "A12 = ([1,2,3], 3)\n",
    "\n",
    "answer = [0, None, None, None, 0, 8, 4, 11, None, None, 9000001, 4500001, 2]"
   ]
  },
  {
   "cell_type": "code",
   "execution_count": 23,
   "metadata": {},
   "outputs": [],
   "source": [
    "c1=0\n",
    "def bsearch1(arr, key):\n",
    "    global c1\n",
    "    c1+=1\n",
    "    low, high = 0, len(arr)\n",
    "#     while high - low > 1:\n",
    "    while high - low > 0:\n",
    "        mid = (low + high) // 2\n",
    "        if arr[mid] == key:\n",
    "            return mid\n",
    "        elif arr[mid] < key:\n",
    "#             low = mid\n",
    "            low = mid+1\n",
    "        else:\n",
    "            high = mid\n",
    "    return None"
   ]
  },
  {
   "cell_type": "code",
   "execution_count": 24,
   "metadata": {},
   "outputs": [],
   "source": [
    "c2 = 0\n",
    "def bsearch2(arr, key, left=0, right=None):\n",
    "    global c2\n",
    "    c2+=1\n",
    "    if right is None:\n",
    "        right = len(arr)\n",
    "#     if right < left:\n",
    "    if right <= left:\n",
    "        return None\n",
    "    middle = (left + right) >> 1\n",
    "    if arr[middle] > key:\n",
    "        return bsearch2(arr, key, left, middle)\n",
    "    if arr[middle] < key:\n",
    "        return bsearch2(arr, key, middle + 1, right)\n",
    "    return middle"
   ]
  },
  {
   "cell_type": "code",
   "execution_count": 34,
   "metadata": {},
   "outputs": [],
   "source": [
    "c3=0\n",
    "def bsearch3(arr, key):\n",
    "    global c3\n",
    "    c3+=1\n",
    "    n = len(arr)\n",
    "    if n < 2:\n",
    "        return (0 if (n == 1 and arr[0] == key) else None)\n",
    "    m = int(0.5 * n)\n",
    "    \n",
    "    if arr[m] == key:\n",
    "        return m\n",
    "    \n",
    "    if arr[m] > key:\n",
    "        return bsearch3(arr[:m], key)\n",
    "    result = bsearch3(arr[m:], key)\n",
    "    return (result + m if result != None else None)"
   ]
  },
  {
   "cell_type": "code",
   "execution_count": 35,
   "metadata": {},
   "outputs": [
    {
     "name": "stdout",
     "output_type": "stream",
     "text": [
      "0 1 2 2\n",
      "1 1 1 1\n",
      "2 1 5 4\n",
      "3 1 4 5\n",
      "4 1 4 4\n",
      "5 1 3 4\n",
      "6 1 1 1\n",
      "7 1 2 4\n",
      "8 1 4 5\n",
      "9 1 5 4\n",
      "10 1 30 29\n",
      "11 1 29 28\n",
      "12 1 2 2\n"
     ]
    }
   ],
   "source": [
    "for x in range(13):\n",
    "    try:\n",
    "        c1=0\n",
    "        c2=0\n",
    "        c3=0\n",
    "        exec(\"result1 = bsearch1(*A\"+str(x)+\")\")\n",
    "        if(result1 != answer[x]):\n",
    "            print(x, result1, answer[x])\n",
    "        exec(\"result2 = bsearch2(*A\"+str(x)+\")\")\n",
    "        if(result2 != answer[x]):\n",
    "            print(x, result2, answer[x])\n",
    "        exec(\"result3 = bsearch3(*A\"+str(x)+\")\")\n",
    "        if(result3 != answer[x]):\n",
    "            print(x, result3, answer[x])\n",
    "        print(x, c1,c2,c3)\n",
    "    except:\n",
    "        print(x, result, answer[x])"
   ]
  },
  {
   "cell_type": "code",
   "execution_count": 15,
   "metadata": {},
   "outputs": [],
   "source": [
    "bsearch3([], 1)"
   ]
  }
 ],
 "metadata": {
  "kernelspec": {
   "display_name": "Python 3",
   "language": "python",
   "name": "python3"
  },
  "language_info": {
   "codemirror_mode": {
    "name": "ipython",
    "version": 3
   },
   "file_extension": ".py",
   "mimetype": "text/x-python",
   "name": "python",
   "nbconvert_exporter": "python",
   "pygments_lexer": "ipython3",
   "version": "3.6.9"
  }
 },
 "nbformat": 4,
 "nbformat_minor": 2
}
