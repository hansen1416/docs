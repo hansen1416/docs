{
 "cells": [
  {
   "cell_type": "markdown",
   "metadata": {},
   "source": [
    "|   | search | insert | delete(by red) |\n",
    "|---|---|---|---|\n",
    "| Array | O(n) | O(1) | O(1)\\* |\n",
    "| Linked list | O(n) | O(1) | O(1) |\n",
    "| Sorted array | O(log n) | O(n) | O(n) |\n",
    "| Wanted | O(log n) | O(log n) | O(log n) |\n",
    "\n",
    "\\* what you can do if you want to delete an element, you switch it with the very last element and then you can delete the last element, okay? Because you don't care about the order of elements in your array. "
   ]
  },
  {
   "cell_type": "markdown",
   "metadata": {},
   "source": [
    "__Binary Search Trees__\n",
    "\n",
    "root x, every children in the left subtree is $\\leq x$, and every children in the right subtree is $\\geq x$"
   ]
  },
  {
   "cell_type": "code",
   "execution_count": null,
   "metadata": {},
   "outputs": [],
   "source": [
    "class Node:\n",
    "    def __init__(self, key = 0, parent=None):\n",
    "        self.key = key\n",
    "        self.left = None\n",
    "        self.right = None\n",
    "        self.parent = parent"
   ]
  },
  {
   "cell_type": "code",
   "execution_count": null,
   "metadata": {},
   "outputs": [],
   "source": [
    "def bst_insert(root, node):\n",
    "    \"\"\"\n",
    "    complexity\n",
    "    #calls <= #levels = h\n",
    "    Total: O(h),\n",
    "    \"\"\"\n",
    "    if root.key > node.key:\n",
    "        if root.left == None:\n",
    "            root.left = node\n",
    "            node.parent = root\n",
    "        else:\n",
    "            bst_insert(root.left, node)\n",
    "    else:\n",
    "        if root.right == None:\n",
    "            root.right = node\n",
    "            node.parent = root\n",
    "        else:\n",
    "            bst_insert(root.right, node)"
   ]
  },
  {
   "cell_type": "code",
   "execution_count": null,
   "metadata": {},
   "outputs": [],
   "source": [
    "def bst_search(root, val):\n",
    "    \"\"\"\n",
    "    complexity\n",
    "    #calls <= #levels = h\n",
    "    Total: O(h), h is often log(n), (not always)\n",
    "    \"\"\"\n",
    "    if root == None or root.key == val: # O(1)\n",
    "        return root # O(1)\n",
    "    if val < root.key: # O(1)\n",
    "        return bst_search(root.left, val)\n",
    "#     if val > root.key:\n",
    "    return bst_search(root.right, val)"
   ]
  },
  {
   "cell_type": "code",
   "execution_count": null,
   "metadata": {},
   "outputs": [],
   "source": [
    "def bst_delete(root, val):\n",
    "    \"\"\"\n",
    "    1. find max in the left subtree               O(h)\n",
    "    2. delete it when key is none or left is none O(1)\n",
    "    3. or replace root with the deleted node      O(1)\n",
    "    total complexity O(h)\n",
    "    \"\"\""
   ]
  },
  {
   "cell_type": "markdown",
   "metadata": {},
   "source": [
    "Height of a tree pf size n:\n",
    "   \n",
    "worst case: n\n",
    "\n",
    "best case (perfectly balanced): $log_2(n+1)$ $ n \\le 1+2+4+\\dots+2^{h-1} = 2^{h}-1, h \\ge log_2(n+1)$\n",
    "\n",
    "\n",
    "_Good news_\n",
    "\n",
    "- random data => h~log_2(n) on average\n",
    "\n",
    "- self-balancing, implementation is complicated, RB-trees, AVL-trees, splay-trees; (not strictly binary: 2-3 trees, B-trees)"
   ]
  },
  {
   "cell_type": "markdown",
   "metadata": {},
   "source": [
    "__Summary__\n",
    "\n",
    "- Data structure for comparable items\n",
    "- search/insert/delete: O(h), where h is height\n",
    "- With good effort: h=O(log(n))\n",
    "- Extra structure => extra methods(e.g., order statistics, interval trees. etc)"
   ]
  }
 ],
 "metadata": {
  "kernelspec": {
   "display_name": "Python 3",
   "language": "python",
   "name": "python3"
  },
  "language_info": {
   "codemirror_mode": {
    "name": "ipython",
    "version": 3
   },
   "file_extension": ".py",
   "mimetype": "text/x-python",
   "name": "python",
   "nbconvert_exporter": "python",
   "pygments_lexer": "ipython3",
   "version": "3.6.9"
  }
 },
 "nbformat": 4,
 "nbformat_minor": 2
}
