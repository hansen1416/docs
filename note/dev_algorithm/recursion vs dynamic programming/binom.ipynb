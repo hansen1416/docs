{
 "cells": [
  {
   "cell_type": "markdown",
   "metadata": {},
   "source": [
    "$ \\binom{n}{k} = \\binom{n-1}{k} + \\binom{n-1}{k-1} $\n",
    "\n",
    "$ \\binom{n}{0} = \\binom{n}{n} = 1 $"
   ]
  },
  {
   "cell_type": "code",
   "execution_count": 1,
   "metadata": {},
   "outputs": [
    {
     "name": "stdout",
     "output_type": "stream",
     "text": [
      "20\n",
      "6\n"
     ]
    }
   ],
   "source": [
    "def binom(n, k):\n",
    "    if k == 0 or k == n:\n",
    "        return 1\n",
    "    return binom(n-1, k) + binom(n-1, k-1)\n",
    "  \n",
    "# should print 20\n",
    "print(binom(6, 3))\n",
    "# should print 21\n",
    "print(binom(4, 2))"
   ]
  },
  {
   "cell_type": "code",
   "execution_count": 6,
   "metadata": {},
   "outputs": [
    {
     "name": "stdout",
     "output_type": "stream",
     "text": [
      "20\n",
      "1\n",
      "100891344545564193334812497256\n"
     ]
    }
   ],
   "source": [
    "def binom(n, k):\n",
    "    # tbl[i][j] is going to contain binom(i, j)\n",
    "    tbl = [[1 for _ in range(k + 1)] for _ in range(n + 1)]\n",
    "    for i in range(n + 1):\n",
    "        for j in range(1, min(k + 1, i)):\n",
    "            tbl[i][j] = tbl[i-1][j] + tbl[i-1][j-1]\n",
    "    return tbl[n][k]\n",
    "# should print 20\n",
    "print(binom(6, 3))\n",
    "# should print 21\n",
    "print(binom(4, 4))\n",
    "\n",
    "print(binom(100, 50))"
   ]
  }
 ],
 "metadata": {
  "kernelspec": {
   "display_name": "Python 3",
   "language": "python",
   "name": "python3"
  },
  "language_info": {
   "codemirror_mode": {
    "name": "ipython",
    "version": 3
   },
   "file_extension": ".py",
   "mimetype": "text/x-python",
   "name": "python",
   "nbconvert_exporter": "python",
   "pygments_lexer": "ipython3",
   "version": "3.6.9"
  }
 },
 "nbformat": 4,
 "nbformat_minor": 2
}
