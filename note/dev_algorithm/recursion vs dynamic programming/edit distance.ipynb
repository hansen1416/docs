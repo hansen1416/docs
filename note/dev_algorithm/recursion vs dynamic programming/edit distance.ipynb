{
 "cells": [
  {
   "cell_type": "code",
   "execution_count": 1,
   "metadata": {},
   "outputs": [
    {
     "name": "stdout",
     "output_type": "stream",
     "text": [
      "None\n",
      "None\n"
     ]
    }
   ],
   "source": [
    "import math\n",
    "\n",
    "\"\"\"\n",
    "Input: string A and B\n",
    "Output: the smallest number of operations (insertion, deletion and substitution) needed to transform A to B\n",
    "\n",
    "This number is usually called the edit distance. eg, good->ood->bod->bad\n",
    "\n",
    "We will approach this problem using dynamic programming. \n",
    "Let |A|=n and |B|=m. We will fill a (n+1) x (m+1) table D, \n",
    "such that D[i][j] will be the edit distance between A[:i] and B[:j]. \n",
    "We will derive a recurrence to compute D[i][j].\n",
    "\n",
    "Consider two cases:\n",
    "\n",
    "1. A[i-1] = B[j-1]. Then we can focus on beginnings of both strings, \n",
    "so D[i][j] = D[i-1][j-1], \n",
    "then we can move to A[i-2] and B[j-2], if they are not equal, it fall in case 2\n",
    "\n",
    "2. A[i-1] <> B[j-1]. Since we want ultimately make the strings equal, there are three options\n",
    "\n",
    "- We delete A[i-1]. The remainning number of operations is D[i-1][j]\n",
    "- We delete B[j-1]. The remainning number of operations is D[i][j-1]\n",
    "- We substitute A[i-1] for B[j-1]. The remainning number of operations is D[i-1][j-1]\n",
    "\n",
    "Therefore, in this case D[i][j] = 1+min(D[i-1][j], D[i][j-1], D[i-1][j-1]). THIS IS OUR RECURRENCE LOGIC\n",
    "\"\"\"\n",
    "\n",
    "def edistance(A, B):\n",
    "    \"\"\"\n",
    "    using recursion, the complexity of the function should be O(|A||B|)\n",
    "    \"\"\"\n",
    "    pass\n",
    "\n",
    "def weighted_edistance(A, B, wdel, wins, wsub):\n",
    "    \"\"\"\n",
    "    Apply weight to each operation, compute the total weighted operation\n",
    "    \n",
    "    wdel: weight of deletion\n",
    "    wins: weight of insertion\n",
    "    wsub: weight of substitution\n",
    "    \n",
    "    \"\"\"\n",
    "    pass\n",
    "\n",
    "def edistance_substring(A, B):\n",
    "    pass\n",
    "\n",
    "if __name__ == \"__main__\":\n",
    "    # should print 3\n",
    "    print(edistance(\"good\", \"bad\"))\n",
    "    # should print 7\n",
    "    print(weighted_edistance(\"good\", \"bad\", 1, 2, 5))"
   ]
  }
 ],
 "metadata": {
  "kernelspec": {
   "display_name": "Python 3",
   "language": "python",
   "name": "python3"
  },
  "language_info": {
   "codemirror_mode": {
    "name": "ipython",
    "version": 3
   },
   "file_extension": ".py",
   "mimetype": "text/x-python",
   "name": "python",
   "nbconvert_exporter": "python",
   "pygments_lexer": "ipython3",
   "version": "3.6.9"
  }
 },
 "nbformat": 4,
 "nbformat_minor": 2
}
