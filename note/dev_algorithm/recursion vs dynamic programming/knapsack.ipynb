{
 "cells": [
  {
   "cell_type": "markdown",
   "metadata": {},
   "source": [
    "__Recursion__\n",
    "\n",
    "For w = [4,3,3] v = [5,3,3] c = 6\n",
    "\n",
    "two options, either take or not take the first item, it will become\n",
    "\n",
    "taken 5, w = [3,3] v = [3,3], c_remain=2\n",
    "no taken, w = [3,3] v = [3,3], c_remain=6\n",
    "\n",
    "$\\begin{cases} 0+5=5 \\\\ 6+0=6 \\end{cases}$\n",
    "\n",
    "K(W,V,C)\n",
    "\n",
    "Base case: len(w)=len(v)=0\n",
    "\n",
    "- $c\\le 0$ return 0\n",
    "\n",
    "- $c < 0$ return $-\\infty$\n",
    "\n",
    "K(W,V,C)\n",
    "\n",
    "= max $\\begin{cases}\n",
    "K(W[:-1], V[:-1], C) \\;\\; without\\;last \\;item \\\\\n",
    "K(W[:-1], V[:-1], C - W[-1]) + V[-1] \\;\\; with \\; last\\; item\n",
    "\\end{cases}$"
   ]
  },
  {
   "cell_type": "markdown",
   "metadata": {},
   "source": [
    "__Dynamic__\n",
    "\n",
    "Fix W and V\n",
    "\n",
    "K[i, j] = the value of the best knapsack from W[:i] and V[:i], and capacity j\n",
    "\n",
    "K[i, j] = max $\\begin{cases}\n",
    "K[i-1, j] \\;take \\;first \\\\\n",
    "K[i-1, j-w[i-1]] + V[i-1] \\; not\\;take\\;first\n",
    "\\end{cases}$\n",
    "\n",
    "K[0, j] = $\\begin{cases}\n",
    "0,\\; j \\ge 0 \\\\\n",
    "-\\infty,\\; j < 0\n",
    "\\end{cases}$"
   ]
  },
  {
   "cell_type": "markdown",
   "metadata": {},
   "source": [
    "|  $^i/$ | W | v |\n",
    "|---|---|---|\n",
    "| 0 | 4 | 5 |\n",
    "| 1 | 3 | 3 |\n",
    "| 2 | 3 | 3 |\n",
    "\n",
    "c=6\n",
    "\n",
    "|$^j/_i$| 0 | 1 | 2 | 3 |             \n",
    "|-------|---|---|---|---|\n",
    "| 0     | 0 | 0 | 0 | 0 |\n",
    "| 1     | 0 | 0 | 0 | 0 |\n",
    "| 2     | 0 | 0 | 0 | 0 |\n",
    "| 3     | 0 | 0 | 3 | 3 |\n",
    "| 4     | 0 | 5 | 5 | 5 |\n",
    "| 5     | 0 | 5 | 5 | 5 |\n",
    "| 6     | 0 | 5 | 5 | 6 |\n",
    "\n",
    "        K"
   ]
  },
  {
   "cell_type": "code",
   "execution_count": 24,
   "metadata": {},
   "outputs": [
    {
     "name": "stdout",
     "output_type": "stream",
     "text": [
      "[0, 0, 0, 0, 0, 0, 0, 0, 0, 0, 0, 0, 0]\n",
      "[0, 0, 16, 16, 16, 16, 16, 16, 16, 16, 16, 16, 16]\n",
      "[0, 0, 16, 16, 21, 21, 21, 21, 21, 21, 21, 21, 21]\n",
      "[0, 0, 16, 16, 21, 21, 21, 26, 26, 26, 26, 26, 26]\n",
      "[0, 0, 16, 16, 21, 21, 22, 26, 27, 27, 27, 32, 32]\n",
      "[0, 0, 16, 16, 22, 22, 27, 27, 28, 32, 33, 33, 33]\n",
      "33\n"
     ]
    }
   ],
   "source": [
    "import math\n",
    "\n",
    "def knapsack_recursive(W,V,C):\n",
    "    def K(i,j):\n",
    "        if i ==0:\n",
    "            return 0 if j>=0 else -math.inf\n",
    "        return max(\n",
    "            K(i-1, j),\n",
    "            K(i-1, j - W[i-1]) + V[i-1],\n",
    "        )\n",
    "    return K(len(W), C)\n",
    "\n",
    "W = [4,3,3]\n",
    "V = [5,3,3]\n",
    "C = 6\n",
    "\n",
    "# print(knapsack_recursive(W,V,C))\n",
    "\n",
    "def knapsack_dynamic(W,V,C):\n",
    "    n=len(W)\n",
    "    tbl=[[0] * (C+1) for _ in range(n+1)]\n",
    "    \n",
    "    for i in range(1, n+1):\n",
    "        for j in range(C+1):\n",
    "            tbl[i][j] = tbl[i-1][j]\n",
    "            if j >= W[i-1]:\n",
    "                tbl[i][j] = max(\n",
    "                    tbl[i][j],\n",
    "                    tbl[i-1][j-W[i-1]] + V[i-1]\n",
    "                )\n",
    "    print(\"\\n\".join([str(l) for l in tbl]))\n",
    "    return tbl[-1][-1]\n",
    "\n",
    "W = [2, 2, 3, 4, 2]\n",
    "V = [16,5, 5, 6, 6]\n",
    "C = 12\n",
    "\n",
    "print(knapsack_dynamic(W,V,C))"
   ]
  },
  {
   "cell_type": "code",
   "execution_count": 10,
   "metadata": {},
   "outputs": [],
   "source": [
    "def generate_knapsack(n, W_ratio, V_max, C):\n",
    "    W = [randint(1, int(W_ratio * C) + 1) for _ in range(n)]\n",
    "    V = [randint(1, V_max) for _ in range(n)]\n",
    "    return (M,V,C)"
   ]
  },
  {
   "cell_type": "markdown",
   "metadata": {},
   "source": [
    "_How to get the list of items?_\n",
    "\n",
    "Approach: Go backwards\n",
    "\n",
    "Go up ~ whether take the last item\n",
    "\n",
    "Time comlexity: O(n)"
   ]
  },
  {
   "cell_type": "markdown",
   "metadata": {},
   "source": [
    "__Takeaways__\n",
    "\n",
    "- Recursion first\n",
    "\n",
    "- Simplify problem, then improve\n",
    "\n",
    "- defferent parameters $\\implies$ different complexities\n",
    "\n",
    "- two-dimensional table"
   ]
  },
  {
   "cell_type": "code",
   "execution_count": 26,
   "metadata": {},
   "outputs": [],
   "source": [
    "def knapsack_full(W, V, C):\n",
    "    n = len(W)\n",
    "    tbl = [[0] * (C + 1) for _ in range(n + 1)]\n",
    "    for i in range(1, n + 1):\n",
    "        for j in range(C + 1):\n",
    "            tbl[i][j] = tbl[i - 1][j]\n",
    "            if j >= W[i - 1]:\n",
    "                tbl[i][j] = max(\n",
    "                    tbl[i][j],\n",
    "                    tbl[i - 1][j - W[i - 1]] + V[i - 1]\n",
    "                )\n",
    "    \n",
    "    knapsack = []\n",
    "    i = n\n",
    "    j = C\n",
    "    while i > 0:\n",
    "        if tbl[i][j] != tbl[i - 1][j]:\n",
    "            j -= W[i - 1]\n",
    "            knapsack.append(i - 1)\n",
    "        i -= 1\n",
    "    return (tbl[-1][-1], knapsack)"
   ]
  },
  {
   "cell_type": "code",
   "execution_count": 61,
   "metadata": {},
   "outputs": [
    {
     "name": "stdout",
     "output_type": "stream",
     "text": [
      "2240\n"
     ]
    }
   ],
   "source": [
    "W = [4,3,3]\n",
    "V = [5,3,3]\n",
    "C = 6\n",
    "\n",
    "def knapsack_dynamic_product(W,V,C):\n",
    "    n=len(W)\n",
    "    tbl=[[0] * (C+1) for _ in range(n+1)]\n",
    "    \n",
    "    for i in range(1, n+1):\n",
    "        for j in range(C+1):\n",
    "            tbl[i][j] = tbl[i-1][j]\n",
    "            if j >= W[i-1]:\n",
    "                if tbl[i][j] == 0 or (tbl[i-1][j-W[i-1]] == 0 and V[i-1] > tbl[i][j]):\n",
    "#                     print(99999999, V[i-1])\n",
    "                    tbl[i][j] = V[i-1]\n",
    "                tbl[i][j] = max(\n",
    "                    tbl[i][j],\n",
    "                    tbl[i-1][j-W[i-1]] * V[i-1]\n",
    "                )\n",
    "#     print(\"\\n\".join([str(l) for l in tbl]))\n",
    "    return tbl[-1][-1]\n",
    "\n",
    "# print(knapsack_dynamic_product(W,V,C))\n",
    "\n",
    "W = [5, 10, 1, 6, 2, 5, 4, 5, 2, 1, 9, 5, 10, 9, 3, 7, 4, 8, 9, 7, 10, 4, 10, 5, 2, 8, 9, 9, 4, 7, 3, 5, 7, 6, 9, 5, 8, 2, 10, 3, 9, 6, 2, 1, 4, 4, 4, 4, 1, 1] \n",
    "V = [2, 8, 1, 8, 10, 9, 4, 10, 9, 8, 6, 7, 9, 8, 5, 3, 7, 7, 10, 8, 4, 6, 4, 9, 5, 8, 10, 2, 1, 5, 10, 2, 10, 3, 9, 1, 9, 4, 7, 2, 1, 7, 3, 4, 2, 1, 4, 7, 3, 7] \n",
    "C = 5\n",
    "\n",
    "\n",
    "# Wf = [ind for ind, x in enumerate(W) if x <= 5]\n",
    "# Vf = [V[i] for i in Wf]\n",
    "\n",
    "\n",
    "Wf = [5, 1, 2, 5, 4, 5, 2, 1, 5, 3, 4, 4, 5, 2, 4, 3, 5, 5, 2, 3, 2, 1, 4, 4, 4, 4, 1, 1]\n",
    "Vf = [2, 1, 10, 9, 4, 10, 9, 8, 7, 5, 7, 6, 9, 5, 1, 10, 2, 1, 4, 2, 3, 4, 2, 1, 4, 7, 3, 7]\n",
    "\n",
    "# 2240\n",
    "print(knapsack_dynamic_product(Wf, Vf, C))"
   ]
  },
  {
   "cell_type": "code",
   "execution_count": 97,
   "metadata": {},
   "outputs": [
    {
     "name": "stdout",
     "output_type": "stream",
     "text": [
      "[0, 0, 0, 0, 0, 0, 0, 0, 0, 0, 0, 0, 0]\n",
      "[0, 0, 16, 16, 16, 16, 16, 16, 16, 16, 16, 16, 16]\n",
      "[0, 0, 16, 16, 21, 21, 21, 21, 21, 21, 21, 21, 21]\n",
      "[0, 0, 16, 16, 21, 21, 21, 26, 26, 26, 26, 26, 26]\n",
      "[0, 0, 16, 16, 21, 21, 22, 26, 27, 27, 27, 32, 32]\n",
      "[0, 0, 16, 16, 21, 21, 22, 26, 32, 32, 37, 37, 38]\n",
      "[0, 0, 16, 16, 21, 21, 22, 35, 35, 40, 40, 41, 45]\n",
      "[0, 0, 16, 16, 21, 21, 25, 35, 35, 40, 40, 44, 45]\n",
      "[0, 0, 16, 17, 21, 33, 33, 38, 38, 42, 52, 52, 57]\n"
     ]
    },
    {
     "data": {
      "text/plain": [
       "57"
      ]
     },
     "execution_count": 97,
     "metadata": {},
     "output_type": "execute_result"
    }
   ],
   "source": [
    "def knapsack_dynamic(W,V,C):\n",
    "    n=len(W)\n",
    "    tbl=[[0] * (C+1) for _ in range(n+1)]\n",
    "    \n",
    "    for i in range(1, n+1):\n",
    "        for j in range(C+1):\n",
    "            tbl[i][j] = tbl[i-1][j]\n",
    "            if j >= W[i-1]:\n",
    "                tbl[i][j] = max(\n",
    "                    tbl[i][j],\n",
    "                    tbl[i-1][j-W[i-1]] + V[i-1]\n",
    "                )\n",
    "    print(\"\\n\".join([str(l) for l in tbl]))\n",
    "    return tbl[-1][-1]\n",
    "W = [2, 2,3,4,6, 5, 2,3]\n",
    "V = [16,5,5,6,16,19,4,17]\n",
    "C = 12\n",
    "\n",
    "knapsack_dynamic(W, V, C)\n",
    "\n",
    "\"\"\"\n",
    "Guess W,V,C from the printed matrix\n",
    "\n",
    "First thing you can note is that the knapsack has a capacity of 12 and we are dealing with 8 items.\n",
    "\n",
    "As you can see from the second row, first item weights 2 and costs 16.\n",
    "\n",
    "Second item either weighs 2 and costs 5 or weighs 4 and costs 21. \n",
    "In both cases items 1 and two can fit into the knapsack, \n",
    "but you can see that the maximum value of the items in the knapsack is 21 and not 27, \n",
    "therefore second item weighs 2 and costs 5.\n",
    "\n",
    "Third item weighs no more than 7 and hence it fits in the knapsack with the first two items. \n",
    "It means that the price of the third item is 5, therefore the weight is 3.\n",
    "\n",
    "Fourth item has a weight of 1, 4 or 6 and a price of 1 or 6 or 22 respectively. \n",
    "Knapsack with capacity of 1 still has maximum value of 0, so it is down to the last two options. \n",
    "If fourth item weighs 6 and costs 22, then it fits in the knapsack with the first item, \n",
    "therefore maximum value of knapsack should be at least 38. \n",
    "This is not true, hence fourth item weighs 4 and costs 6.\n",
    "\n",
    "Fifth item, the first change occured at capacity 8, with value 32\n",
    "so just try weight 6, and costs 32 - 16 = 16, (16 is the biggest costs of any weight equal 2)\n",
    "and it printed the correct line, move on\n",
    "\n",
    "Sicth item, the first change occured at capacity 7, with value 35 \n",
    "so just try weight 5, and costs 35 - 16 = 19, (again 16 is the biggest costs of any weight equal 2)\n",
    "and it printed the correct line, move on\n",
    "\n",
    "Seventh item, the first change occured at capacity 6, with value 25\n",
    "Since we already have previous weights and values, it's reasonable to take two weights 2, \n",
    "because they have the biggest sum of costs, \n",
    "so the weight of seventh item should be 2, costs is 25-16-5=4\n",
    "and it printed the correct line, move on\n",
    "\n",
    "Eighth item, the first change occured at capacity 3, with value 17\n",
    "it must be weight 3, and value 17\n",
    "\"\"\""
   ]
  },
  {
   "cell_type": "code",
   "execution_count": 329,
   "metadata": {},
   "outputs": [
    {
     "name": "stdout",
     "output_type": "stream",
     "text": [
      "[0, 0, 0, 0, 0, 0, 0, 0, 0, 0, 0, 0, 0]\n",
      "[0, 0, 0, 0, 6, 6, 6, 6, 6, 6, 6, 6, 6]\n",
      "[0, 17, 17, 17, 17, 23, 23, 23, 23, 23, 23, 23, 23]\n",
      "[0, 17, 17, 17, 17, 23, 23, 26, 26, 26, 26, 32, 32]\n",
      "[0, 17, 17, 17, 17, 23, 23, 26, 26, 26, 27, 32, 32]\n"
     ]
    },
    {
     "data": {
      "text/plain": [
       "32"
      ]
     },
     "execution_count": 329,
     "metadata": {},
     "output_type": "execute_result"
    }
   ],
   "source": [
    "def knapsack_dynamic(W,V,C):\n",
    "    n=len(W)\n",
    "    tbl=[[0] * (C+1) for _ in range(n+1)]\n",
    "    \n",
    "    for i in range(1, n+1):\n",
    "        for j in range(C+1):\n",
    "            tbl[i][j] = tbl[i-1][j]\n",
    "            if j >= W[i-1]:\n",
    "                tbl[i][j] = max(\n",
    "                    tbl[i][j],\n",
    "                    tbl[i-1][j-W[i-1]] + V[i-1]\n",
    "                )\n",
    "    print(\"\\n\".join([str(l) for l in tbl]))\n",
    "    return tbl[-1][-1]\n",
    "\n",
    "\n",
    "\n",
    "\"\"\"\n",
    "0   0   0   0   0   0   0   0   0   0   0   0   0\n",
    "0   0   0   0   0   0   0   0   0   2   2   2   2\n",
    "0   0   0   0   0   0   0  17  17  17  17  17  17\n",
    "0  19  19  19  19  19  19  19  36  36  36  36  36\n",
    "0  19  38  38  38  38  38  38  38  55  55  55  55\n",
    "0  19  38  38  38  38  38  44  44  55  55  55  55\n",
    "0  19  38  38  38  38  38  55  55  55  55  55  61\n",
    "0  19  38  38  38  38  53  55  55  55  55  70  70\n",
    "0  19  38  38  40  40  53  55  55  57  57  70  70\n",
    "\"\"\"\n",
    "\n",
    "#         if last_row == [0,19,19,19,  19,  19,  19,  19,  36,  36,  36,  36,  36]:\n",
    "#         if last_row == [0,  19,  38,  38,  38,  38,  38,  38,  38,  55,  55,  55,  55]:\n",
    "# if last_row == [0,  19,  38,  38,  38,  38,  38,  44,  44,  55,  55  ,55,  55]:\n",
    "#         if last_row == [0  ,19,  38,  38,  38,  38,  38,  55,  55,  55,  55,  55,  61]:\n",
    "#         if last_row == [0,  19,  38,  38,  38,  38,  53,  55,  55,  55,  55,  70,  70]:\n",
    "#         if last_row == [0  ,19  ,38  ,38  ,40,  40,  53,55,55,57,57,70,70]:\n",
    "\n",
    "# W = [9, 7,  1, 1,  5,5, 4, 2]\n",
    "# V = [2, 17, 19, 19,6,17,15,2]\n",
    "\n",
    "W = [4,1,6,9]\n",
    "V = [6,17,9,10]\n",
    "C = 12\n",
    "\n",
    "ii = 8\n",
    "\n",
    "knapsack_dynamic(W,V,C)\n",
    "\n",
    "# while ii > 0:\n",
    "#     jj= 55\n",
    "#     while jj > 0:\n",
    "#         W[-1]=ii\n",
    "#         V[-1]=jj\n",
    "# #         print(ii, jj)\n",
    "#         last_row = knapsack_dynamic(W, V, C)\n",
    "\n",
    "#         if last_row == [0  ,19  ,38  ,38  ,40,  40,  53,55,55,57,57,70,70]:\n",
    "#             print(ii,jj, W, V)\n",
    "\n",
    "#         jj -= 1\n",
    "#     ii -= 1\n",
    "\n",
    "# print('DONE')"
   ]
  },
  {
   "cell_type": "code",
   "execution_count": 328,
   "metadata": {},
   "outputs": [
    {
     "name": "stdout",
     "output_type": "stream",
     "text": [
      "9,2;7,17;1,19;1,19;5,6;5,17;4,15;2,2\n"
     ]
    }
   ],
   "source": [
    "s = [str(x)+','+str(y) for x,y in zip(W,V)]\n",
    "print(';'.join(s))"
   ]
  }
 ],
 "metadata": {
  "kernelspec": {
   "display_name": "Python 3",
   "language": "python",
   "name": "python3"
  },
  "language_info": {
   "codemirror_mode": {
    "name": "ipython",
    "version": 3
   },
   "file_extension": ".py",
   "mimetype": "text/x-python",
   "name": "python",
   "nbconvert_exporter": "python",
   "pygments_lexer": "ipython3",
   "version": "3.7.9"
  }
 },
 "nbformat": 4,
 "nbformat_minor": 2
}
