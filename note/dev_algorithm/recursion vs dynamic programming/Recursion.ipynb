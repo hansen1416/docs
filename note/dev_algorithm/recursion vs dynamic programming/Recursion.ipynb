{
 "cells": [
  {
   "cell_type": "markdown",
   "metadata": {},
   "source": [
    "try to find recurrence relation, \n",
    "and try to find a base case\n",
    "\n",
    "1. Base Case (i.e., when to stop)\n",
    "\n",
    "2. Work toward Base Case\n",
    "\n",
    "3. Recursive Call (i.e., call ourselves)\n",
    "\n",
    "Why Recursion Works\n",
    "In a recursive algorithm, the computer \"remembers\" every previous state of the problem. \n",
    "This information is \"held\" by the computer on the \"activation stack\" (i.e., inside of each functions workspace).\n",
    "\n",
    "Every function has its own workspace PER CALL of the function."
   ]
  },
  {
   "cell_type": "markdown",
   "metadata": {},
   "source": [
    "__Performance issues__\n",
    "\n",
    "In languages (such as C and Java) that favor iterative looping constructs, there is usually significant time and space cost associated with recursive programs, due to the overhead required to manage the stack and the relative slowness of function calls; in functional languages, a function call (particularly a tail call) is typically a very fast operation, and the difference is usually less noticeable.\n",
    "\n",
    "__Stack space__\n",
    "\n",
    "In some programming languages, the maximum size of the call stack is much less than the space available in the heap, and recursive algorithms tend to require more stack space than iterative algorithms. Consequently, these languages sometimes place a limit on the depth of recursion to avoid stack overflows; Python is one such language._Note the caveat below regarding the special case of tail recursion._"
   ]
  },
  {
   "cell_type": "markdown",
   "metadata": {},
   "source": [
    "once you have a recursive solution, it is often, not always but often, just a matter of technique to turn this usually pretty slow recursive solution into a faster one. Using the method of the neck programming because what you do you replace recursive calls by lookups in the table. So instead of writing functions recursively, you just create a table and store the result. And this is how we achieved a pretty impressive speed up with Fibonacci numbers and the text justification. And we will see this in the next part also. \n",
    "\n",
    "And finally, this is not always the case in the neck programming questions, but it is often the case. Is that instead of tackling the general problem at once, you first simplify it. And usually the simplification is of the form, so assume you want to find the best object, right? So in the text justification problem, we had to find the best split. Before doing that, you want first find the best value of some objective function, in our case it was the best value of the penalty. And then, using this value and some intermediate results, reconstruct the object, okay? So because they're programming questions, so they're often of the form find an object that has minimal value X. So what you usually do with such problems is first find what is the smallest possible value of x and then reconstruct the object. We will see example of this in the next part also."
   ]
  }
 ],
 "metadata": {
  "kernelspec": {
   "display_name": "Python 3",
   "language": "python",
   "name": "python3"
  },
  "language_info": {
   "codemirror_mode": {
    "name": "ipython",
    "version": 3
   },
   "file_extension": ".py",
   "mimetype": "text/x-python",
   "name": "python",
   "nbconvert_exporter": "python",
   "pygments_lexer": "ipython3",
   "version": "3.6.9"
  }
 },
 "nbformat": 4,
 "nbformat_minor": 2
}
