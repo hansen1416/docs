{
 "cells": [
  {
   "cell_type": "code",
   "execution_count": null,
   "metadata": {},
   "outputs": [],
   "source": [
    "def tj_recursion(L, W):\n",
    "    \"\"\"\n",
    "    P(i, j) = penalty for the line W[i] .. W[j-1]\n",
    "    (P(i,j) = \\infty of longer than L)\n",
    "    TJP(i) = smallest penalty for splitting W[0]...W[i-1]\n",
    "    \n",
    "    TJP(i) = min_{j=0,...,i-1}(P(j,i)+TJP(j))\n",
    "    \"\"\"\n",
    "    def P(i ,j):\n",
    "        length = sum([len(W[k]) for k in range(i, j)])\n",
    "        length += j - i\n",
    "        if length > L:\n",
    "            return math.inf\n",
    "        return (L-length)**3\n",
    "    \n",
    "    def TJP(i):\n",
    "        if i == 0:\n",
    "            return 0\n",
    "        return min([TJP(j) + P(j, i) for j in range(i)])\n",
    "    \n",
    "    return TJP(len(W))"
   ]
  },
  {
   "cell_type": "code",
   "execution_count": null,
   "metadata": {},
   "outputs": [],
   "source": [
    "def tj_dynamic_obf(L, W):\n",
    "    def P(i ,j):\n",
    "        length = sum([len(W[k]) for k in range(i, j)])\n",
    "        length += j - i -1\n",
    "        if length > L:\n",
    "            return math.inf\n",
    "        return (L-length)**3\n",
    "    \n",
    "    def TJP(n):\n",
    "        tbl = [math.inf] * (n+1)\n",
    "        tbl[0] = 0\n",
    "        for i in range(1, n+1):\n",
    "            tbl[i] = min([tbl[j] + P(j, i) for j in range(i)])\n",
    "        return tbl[n]\n",
    "    \n",
    "    return TJP(len(W))"
   ]
  },
  {
   "cell_type": "code",
   "execution_count": null,
   "metadata": {},
   "outputs": [],
   "source": [
    "def tj_dynamic(L, W):\n",
    "    \"\"\"\n",
    "    time complexity is O(n^3)\n",
    "    \"\"\"\n",
    "    n = len(W)\n",
    "    tbl = [math.inf] * (n+1) # O(n)\n",
    "    tbl[0] = 0\n",
    "    \n",
    "    for i in range(1, n+1): #O(1^2 + 2^2 + ... + n^2) = O(i^3)\n",
    "        for j in range(i): #O(i + (i-1) + ... + 1) = O(i^2)\n",
    "            length = i - j -1\n",
    "            for k in range(j, i): #O(i - j)\n",
    "                length += len(W(k))\n",
    "            if length > L:\n",
    "                P = math.inf\n",
    "            else:\n",
    "                P = (L-length)**3\n",
    "            tbl[i] = min(tbl[i], tbl[j] + P)\n",
    "    \n",
    "    return tbl[n]"
   ]
  },
  {
   "cell_type": "markdown",
   "metadata": {},
   "source": [
    "W_example = [\"jars\", \"jaws\", \"joke\", \"jury\", \"juxtaposition\"]\n",
    "L_example = 15\n",
    "\n",
    "tbl = [0, 1331, 216, 1, 432, 440]\n",
    "split = [0,0,0,0,2,4]\n",
    "\n",
    "$440=2^3+432$ where 432=tbl[4], (tbl[split[-1]])\n",
    "\n",
    "$432=min\\begin{cases} 11^3 + 1 = 1332 \\\\ 6^3+216=432 \\\\ 1^3+1331=1332 \\end{cases}$\n",
    "\n",
    "so we have tbl[2] for split[-2], \n",
    "\n",
    "lines = [W[4:5], W[2:4], W[:2]]\n",
    "\n",
    "return lines[::-1]\n",
    "\n",
    "complexity: O(n)"
   ]
  },
  {
   "cell_type": "code",
   "execution_count": null,
   "metadata": {},
   "outputs": [],
   "source": [
    "def tj_dynamic_new(L, W):\n",
    "    \"\"\"\n",
    "    memorize the length, not compute each time\n",
    "    time complexity is O(n^2)\n",
    "    \"\"\"\n",
    "    n = len(W)\n",
    "    tbl = [math.inf] * (n+1)\n",
    "    tbl[0] = 0\n",
    "    \n",
    "    for i in range(1, n+1):\n",
    "        length = -1\n",
    "        for j in range(i - 1, -1, -1):\n",
    "            length += 1 + len(W[j])\n",
    "\n",
    "            if length > L:\n",
    "                P = math.inf\n",
    "            else:\n",
    "                P = (L-length)**3\n",
    "            tbl[i] = min(tbl[i], tbl[j] + P)\n",
    "    \n",
    "    return tbl[n]"
   ]
  }
 ],
 "metadata": {
  "kernelspec": {
   "display_name": "Python 3",
   "language": "python",
   "name": "python3"
  },
  "language_info": {
   "codemirror_mode": {
    "name": "ipython",
    "version": 3
   },
   "file_extension": ".py",
   "mimetype": "text/x-python",
   "name": "python",
   "nbconvert_exporter": "python",
   "pygments_lexer": "ipython3",
   "version": "3.6.9"
  }
 },
 "nbformat": 4,
 "nbformat_minor": 2
}
