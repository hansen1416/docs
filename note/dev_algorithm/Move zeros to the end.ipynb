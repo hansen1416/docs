{
 "cells": [
  {
   "cell_type": "code",
   "execution_count": 2,
   "metadata": {},
   "outputs": [],
   "source": [
    "def naive_move_zeros(a):\n",
    "    \"\"\"\n",
    "    time complexity O(n)\n",
    "    space complexity O(n)\n",
    "    \"\"\"\n",
    "    result = []\n",
    "    num_zeros = 0\n",
    "    for x in a:\n",
    "        if x == 0:\n",
    "            num_zeros += 1\n",
    "        else:\n",
    "            result.append(x)\n",
    "    for i in range(num_zeros):\n",
    "        result.append(0)\n",
    "    return result\n",
    "\n",
    "\n",
    "def two_pointers_move_zeros(a):\n",
    "    \"\"\"\n",
    "    two pointer approach\n",
    "    time complexity O(n)\n",
    "    space complexity O(1)\n",
    "    \"\"\"\n",
    "    first_zero = 0\n",
    "    while first_zero < len(a) and a[first_zero] != 0:\n",
    "        first_zero += 1\n",
    "    for i in range(first_zero + 1, len(a)):\n",
    "        if a[i] != 0:\n",
    "            a[first_zero], a[i] = a[i], a[first_zero]\n",
    "            first_zero += 1\n",
    "    return a"
   ]
  },
  {
   "cell_type": "code",
   "execution_count": 3,
   "metadata": {},
   "outputs": [
    {
     "name": "stdout",
     "output_type": "stream",
     "text": [
      "[1, 2, 8, 6, 7, 0, 0, 0, 0]\n",
      "[1, 2, 8, 6, 7, 0, 0, 0, 0]\n",
      "[1, 2, 8, 6, 7]\n",
      "[1, 2, 8, 6, 7]\n",
      "[0, 0, 0, 0]\n",
      "[0, 0, 0, 0]\n"
     ]
    }
   ],
   "source": [
    "a = [0, 1, 2, 0, 0, 8, 6, 0, 7]\n",
    "print(naive_move_zeros(a))\n",
    "print(two_pointers_move_zeros(a))\n",
    "\n",
    "a = [1, 2, 8, 6, 7]\n",
    "print(naive_move_zeros(a))\n",
    "print(two_pointers_move_zeros(a))\n",
    "\n",
    "a = [0, 0, 0, 0]\n",
    "print(naive_move_zeros(a))\n",
    "print(two_pointers_move_zeros(a))"
   ]
  },
  {
   "cell_type": "code",
   "execution_count": 180,
   "metadata": {},
   "outputs": [
    {
     "name": "stdout",
     "output_type": "stream",
     "text": [
      "24\n",
      "6\n",
      "0\n"
     ]
    }
   ],
   "source": [
    "def lines(a):\n",
    "    \"\"\"\n",
    "    In lines computer game, a player sets balls of different colors in a line. \n",
    "    When a continuous block of three or more balls of the same color is formed, it is removed from the line. \n",
    "    In this case, all the balls are shifted to each other, and the situation may be repeated.\n",
    "    \n",
    "    There can be at most one continuous block of three or more same-colored balls at the initial moment.\n",
    "    \n",
    "    The function takes a list a with initial balls disposition. \n",
    "    Balls number is less or equals 1000, balls colors can be from 0 to 9, each color has its own integer.\n",
    "    \n",
    "    The function has to return one number, the number of the balls that will be destroyed.\n",
    "    \"\"\"\n",
    "    color = 0\n",
    "    i = 0\n",
    "    left = 0\n",
    "    right = 0\n",
    "    result = 0\n",
    "    temp = 0\n",
    "    while i < len(a)-2:\n",
    "        if a[i] == a[i+1] and a[i] == a[i+2]:\n",
    "            color = a[i]\n",
    "            left = max(i-1, 0)\n",
    "            right = min(len(a)-1, i+3)\n",
    "            result += 3\n",
    "            break\n",
    "        i+=1\n",
    "    # if didn't find any continuous block initially, return 0\n",
    "    if result == 0:\n",
    "        return result\n",
    "            \n",
    "#     print(color, left, right)\n",
    "    while left >= 0 or right <= len(a)-1:\n",
    "        # if left has the same color as previous 2 or continuous block, move one step left\n",
    "        if left >= 0 and a[left] == color:\n",
    "            result += 1\n",
    "            # when there is a temp, it means we found a new continuous block, add two more\n",
    "            if temp:\n",
    "                result += temp\n",
    "                temp = 0\n",
    "            left -= 1\n",
    "        # if right has the same color as previous 2 or continuous block, move one step right\n",
    "        elif right <= len(a)-1 and a[right] == color:\n",
    "            result += 1\n",
    "            # when there is a temp, it means we found a new continuous block, add two more\n",
    "            if temp:\n",
    "                result += temp\n",
    "                temp = 0\n",
    "            right += 1\n",
    "        elif left < 0 or right > len(a)-1:\n",
    "            break\n",
    "#         print(color, left, right)\n",
    "        # we find two adjacent balls, continue to try one step to left/right, \n",
    "        # store a temp in case we found a 3 continuous block\n",
    "        elif a[left] == a[right]:\n",
    "            color = a[left]\n",
    "            temp = 2\n",
    "            left -= 1\n",
    "            right += 1\n",
    "        else:\n",
    "            break\n",
    "    return result\n",
    "        \n",
    "\n",
    "\n",
    "# some test code\n",
    "if __name__ == \"__main__\":\n",
    "    test_a = [3,3,5,3,4,3,3,2,2,1, 2, 2, 1, 1, 1, 2, 2,1,1,2,3,4,4,4,4,4,4,4,5,6,7,8,]\n",
    "    # should print 6\n",
    "    print(lines(test_a))\n",
    "\n",
    "    test_a = [0, 0, 0, 0, 0]\n",
    "    # should print 5\n",
    "    print(lines(test_a))\n",
    "\n",
    "    test_a = [2, 3, 1, 4]\n",
    "    # should print 0\n",
    "    print(lines(test_a))"
   ]
  },
  {
   "cell_type": "code",
   "execution_count": 182,
   "metadata": {},
   "outputs": [
    {
     "data": {
      "text/plain": [
       "6"
      ]
     },
     "execution_count": 182,
     "metadata": {},
     "output_type": "execute_result"
    }
   ],
   "source": [
    "a=[1, 1, 2, 2, 2, 1,3, 4, 5, 6, 7]\n",
    "\n",
    "lines(a)"
   ]
  }
 ],
 "metadata": {
  "kernelspec": {
   "display_name": "Python 3",
   "language": "python",
   "name": "python3"
  },
  "language_info": {
   "codemirror_mode": {
    "name": "ipython",
    "version": 3
   },
   "file_extension": ".py",
   "mimetype": "text/x-python",
   "name": "python",
   "nbconvert_exporter": "python",
   "pygments_lexer": "ipython3",
   "version": "3.6.9"
  }
 },
 "nbformat": 4,
 "nbformat_minor": 2
}
