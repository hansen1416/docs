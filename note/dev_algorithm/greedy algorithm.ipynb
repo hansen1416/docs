{
 "cells": [
  {
   "cell_type": "markdown",
   "metadata": {},
   "source": [
    "__Structure of a Greedy Algorithm__\n",
    "\n",
    "Greedy algorithms take all of the data in a particular problem, and then set a rule for which elements to add to the solution at each step of the algorithm. "
   ]
  },
  {
   "cell_type": "markdown",
   "metadata": {},
   "source": [
    "If both of the properties below are true, a greedy algorithm can be used to solve the problem.\n",
    "\n",
    "- __Greedy choice property__: A global (overall) optimal solution can be reached by choosing the optimal choice at each step.\n",
    "- __Optimal substructure__: A problem has an optimal substructure if an optimal solution to the entire problem contains the optimal solutions to the sub-problems.\n",
    "\n",
    "In other words, greedy algorithms work on problems for which it is true that, at every step, there is a choice that is optimal for the problem up to that step, and after the last step, the algorithm produces the optimal solution of the complete problem."
   ]
  }
 ],
 "metadata": {
  "kernelspec": {
   "display_name": "Python 3",
   "language": "python",
   "name": "python3"
  },
  "language_info": {
   "codemirror_mode": {
    "name": "ipython",
    "version": 3
   },
   "file_extension": ".py",
   "mimetype": "text/x-python",
   "name": "python",
   "nbconvert_exporter": "python",
   "pygments_lexer": "ipython3",
   "version": "3.6.9"
  }
 },
 "nbformat": 4,
 "nbformat_minor": 2
}
