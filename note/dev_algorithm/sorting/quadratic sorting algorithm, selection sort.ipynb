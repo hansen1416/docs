{
 "cells": [
  {
   "cell_type": "markdown",
   "metadata": {},
   "source": [
    "it's in some ways similar to the insertion sort, but while insertion sort maintaining the sorted prefix of the array inserts new elements as they arise, selection sort also maintains some prefix of the array sorted, but it goes straight for the minimum in the unsorted part and inserts it into the end of the sorted prefix. "
   ]
  },
  {
   "cell_type": "markdown",
   "metadata": {},
   "source": [
    "```\n",
    "arr:[]  2 1 4 5 3\n",
    "    [1] 2 4 5 3\n",
    "    [1 2] 4 5 3\n",
    "    [1 2 3] 4 5\n",
    "    [1 2 3 4] 5\n",
    "    [1 2 3 4 5]\n",
    "```"
   ]
  },
  {
   "cell_type": "code",
   "execution_count": 7,
   "metadata": {},
   "outputs": [],
   "source": [
    "def selection_sort(arr):\n",
    "    \"\"\"\n",
    "    O(n^2)\n",
    "    \"\"\"\n",
    "    n = len(arr)\n",
    "    # Traverse through all array elements \n",
    "    for i in range(n): \n",
    "\n",
    "        # Find the minimum element in remaining  \n",
    "        # unsorted array \n",
    "        min_idx = i \n",
    "        for j in range(i+1, n): \n",
    "            if arr[min_idx] > arr[j]: \n",
    "                min_idx = j \n",
    "\n",
    "        # Swap the found minimum element with  \n",
    "        # the first element         \n",
    "        arr[i], arr[min_idx] = arr[min_idx], arr[i] \n",
    "    return arr"
   ]
  },
  {
   "cell_type": "code",
   "execution_count": 9,
   "metadata": {},
   "outputs": [
    {
     "name": "stdout",
     "output_type": "stream",
     "text": [
      "[1, 2, 3, 4, 5, 6, 7, 8, 9, 10, 12]\n"
     ]
    }
   ],
   "source": [
    "a = [4,5,6,7,8,9,3,2,1,10,12]\n",
    "\n",
    "print(selection_sort(a))"
   ]
  }
 ],
 "metadata": {
  "kernelspec": {
   "display_name": "Python 3",
   "language": "python",
   "name": "python3"
  },
  "language_info": {
   "codemirror_mode": {
    "name": "ipython",
    "version": 3
   },
   "file_extension": ".py",
   "mimetype": "text/x-python",
   "name": "python",
   "nbconvert_exporter": "python",
   "pygments_lexer": "ipython3",
   "version": "3.6.9"
  }
 },
 "nbformat": 4,
 "nbformat_minor": 2
}
