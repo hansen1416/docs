{
 "cells": [
  {
   "cell_type": "markdown",
   "metadata": {},
   "source": [
    "Radix sort is an integer sorting algorithm that sorts data with integer keys by grouping the keys by individual digits that share the same significant position and value (place value).  \n",
    "Radix sort uses counting sort as a subroutine to sort an array of numbers.  \n",
    "Because integers can be used to represent strings (by hashing the strings to integers), radix sort works on data types other than just integers.   \n",
    "Because radix sort is not comparison based, it is not bounded by $\\Omega(n \\log n)$ for running time — in fact, radix sort can perform in linear time."
   ]
  },
  {
   "cell_type": "markdown",
   "metadata": {},
   "source": [
    "Counting Sort Subroutine\n",
    "\n",
    "Counting sort uses three lists: the input list, $A[0,1, \\dots, n]$, the output list, $B[0,1, \\dots, n]$, and a list that serves as temporary memory, $C[0,1, \\dots, k]$. Note that `A` and `B` have `n` slots (a slot for each element), while `C` contains `k` slots (a slot for each key value). `k` is the largest number in the list."
   ]
  },
  {
   "cell_type": "code",
   "execution_count": 12,
   "metadata": {},
   "outputs": [
    {
     "name": "stdout",
     "output_type": "stream",
     "text": [
      "[1, 2, 2, 3, 4, 5, 7, 7, 9]\n"
     ]
    }
   ],
   "source": [
    "import math \n",
    "\n",
    "def counting_sort(A, digit, radix):\n",
    "    #\"A\" is a list to be sorted, radix is the base of the number system, digit is the digit\n",
    "    #we want to sort by\n",
    "\n",
    "    #create a list B which will be the sorted list\n",
    "    B = [0]*len(A)\n",
    "    C = [0]*int(radix)\n",
    "    #counts the number of occurences of each digit in A \n",
    "    for i in range(0, len(A)):\n",
    "        digit_of_Ai = int((A[i]/radix**digit)%radix)\n",
    "        C[digit_of_Ai] = C[digit_of_Ai] +1 \n",
    "        #now C[i] is the value of the number of elements in A equal to i\n",
    "\n",
    "    #this FOR loop changes C to show the cumulative # of digits up to that index of C\n",
    "    for j in range(1,radix):\n",
    "        C[j] = C[j] + C[j-1]\n",
    "        #here C is modifed to have the number of elements <= i\n",
    "    for m in range(len(A)-1, -1, -1): #to count down (go through A backwards)\n",
    "        digit_of_Ai = int((A[m]/radix**digit)%radix)\n",
    "        C[digit_of_Ai] = C[digit_of_Ai] -1\n",
    "        B[C[digit_of_Ai]] = A[m]\n",
    "\n",
    "    return B\n",
    "\n",
    "alist = [9,3,1,4,5,7,7,2,2]\n",
    "print(counting_sort(alist,0,10))\n",
    "# [1, 2, 2, 3, 4, 5, 7, 7, 9]"
   ]
  },
  {
   "cell_type": "code",
   "execution_count": 14,
   "metadata": {},
   "outputs": [
    {
     "name": "stdout",
     "output_type": "stream",
     "text": [
      "[1, 8, 10, 100]\n"
     ]
    }
   ],
   "source": [
    "def radix_sort(A, radix):\n",
    "    #radix is the base of the number system\n",
    "    #k is the largest number in the list\n",
    "    k = max(A)\n",
    "    #output is the result list we will build\n",
    "    output = A\n",
    "    #compute the number of digits needed to represent k\n",
    "    digits = int(math.floor(math.log(k, radix)+1))\n",
    "    for i in range(digits):\n",
    "        output = counting_sort(output,i,radix)\n",
    "\n",
    "    return output\n",
    "\n",
    "A = [9,3,1,4,5,7,7,2,20,55]\n",
    "A = [10,1,100,8]\n",
    "print(radix_sort(A,10))"
   ]
  },
  {
   "cell_type": "markdown",
   "metadata": {},
   "source": [
    "It primarily uses to sort not too long integers but you can also sort strings with it really well.\n",
    "\n",
    "12783\n",
    "\n",
    "first sort by the last digit, and second last, and third last and so on."
   ]
  },
  {
   "cell_type": "markdown",
   "metadata": {},
   "source": [
    "```\n",
    "arr: [11, 213, 75, 69, 411, 28, 5, 710]\n",
    "   \n",
    "10^0 [710, 11, 411, 213, 75, 5, 28, 69]\n",
    "\n",
    "10^1 [5, 710, 11, 411, 213, 28, 69, 75]\n",
    "\n",
    "10^2 [5, 11, 28, 69, 75, 213, 411, 710]\n",
    "```"
   ]
  },
  {
   "cell_type": "code",
   "execution_count": 15,
   "metadata": {},
   "outputs": [],
   "source": [
    "def counting_sort(arr, power):\n",
    "    \"\"\"\n",
    "    O(n+k), very useful when range of element is small\n",
    "    \"\"\"\n",
    "    n = len(arr)\n",
    "    count_arr  = [[] for i in range(n)]\n",
    "    powered = 10**power\n",
    "    for elem in arr:\n",
    "        count_arr[(elem//powered) % 10].append(elem)\n",
    "        \n",
    "    result = []\n",
    "    for digit in range(10):\n",
    "        result.extend(count_arr[digit])\n",
    "    return result"
   ]
  },
  {
   "cell_type": "code",
   "execution_count": 16,
   "metadata": {},
   "outputs": [],
   "source": [
    "def radix_sort(arr):\n",
    "    largest = max(arr)\n",
    "    power = 0\n",
    "    while largest // 10 ** power > 0:\n",
    "        arr = counting_sort(arr, power)\n",
    "        power += 1\n",
    "    return arr"
   ]
  },
  {
   "cell_type": "code",
   "execution_count": 6,
   "metadata": {
    "scrolled": true
   },
   "outputs": [
    {
     "ename": "NameError",
     "evalue": "name 'math' is not defined",
     "output_type": "error",
     "traceback": [
      "\u001b[0;31m\u001b[0m",
      "\u001b[0;31mNameError\u001b[0mTraceback (most recent call last)",
      "\u001b[0;32m<ipython-input-6-5f2af4baca2b>\u001b[0m in \u001b[0;36m<module>\u001b[0;34m()\u001b[0m\n\u001b[1;32m      1\u001b[0m \u001b[0ma\u001b[0m \u001b[0;34m=\u001b[0m \u001b[0;34m[\u001b[0m\u001b[0;36m11\u001b[0m\u001b[0;34m,\u001b[0m \u001b[0;36m213\u001b[0m\u001b[0;34m,\u001b[0m \u001b[0;36m75\u001b[0m\u001b[0;34m,\u001b[0m \u001b[0;36m69\u001b[0m\u001b[0;34m,\u001b[0m \u001b[0;36m411\u001b[0m\u001b[0;34m,\u001b[0m \u001b[0;36m28\u001b[0m\u001b[0;34m,\u001b[0m \u001b[0;36m5\u001b[0m\u001b[0;34m,\u001b[0m \u001b[0;36m710\u001b[0m\u001b[0;34m]\u001b[0m\u001b[0;34m\u001b[0m\u001b[0;34m\u001b[0m\u001b[0m\n\u001b[0;32m----> 2\u001b[0;31m \u001b[0mprint\u001b[0m\u001b[0;34m(\u001b[0m\u001b[0mradix_sort\u001b[0m\u001b[0;34m(\u001b[0m\u001b[0ma\u001b[0m\u001b[0;34m,\u001b[0m \u001b[0;36m10\u001b[0m\u001b[0;34m)\u001b[0m\u001b[0;34m)\u001b[0m\u001b[0;34m\u001b[0m\u001b[0;34m\u001b[0m\u001b[0m\n\u001b[0m",
      "\u001b[0;32m<ipython-input-4-00fb0f97600a>\u001b[0m in \u001b[0;36mradix_sort\u001b[0;34m(A, radix)\u001b[0m\n\u001b[1;32m      6\u001b[0m     \u001b[0moutput\u001b[0m \u001b[0;34m=\u001b[0m \u001b[0mA\u001b[0m\u001b[0;34m\u001b[0m\u001b[0;34m\u001b[0m\u001b[0m\n\u001b[1;32m      7\u001b[0m     \u001b[0;31m#compute the number of digits needed to represent k\u001b[0m\u001b[0;34m\u001b[0m\u001b[0;34m\u001b[0m\u001b[0;34m\u001b[0m\u001b[0m\n\u001b[0;32m----> 8\u001b[0;31m     \u001b[0mdigits\u001b[0m \u001b[0;34m=\u001b[0m \u001b[0mint\u001b[0m\u001b[0;34m(\u001b[0m\u001b[0mmath\u001b[0m\u001b[0;34m.\u001b[0m\u001b[0mfloor\u001b[0m\u001b[0;34m(\u001b[0m\u001b[0mmath\u001b[0m\u001b[0;34m.\u001b[0m\u001b[0mlog\u001b[0m\u001b[0;34m(\u001b[0m\u001b[0mk\u001b[0m\u001b[0;34m,\u001b[0m \u001b[0mradix\u001b[0m\u001b[0;34m)\u001b[0m\u001b[0;34m+\u001b[0m\u001b[0;36m1\u001b[0m\u001b[0;34m)\u001b[0m\u001b[0;34m)\u001b[0m\u001b[0;34m\u001b[0m\u001b[0;34m\u001b[0m\u001b[0m\n\u001b[0m\u001b[1;32m      9\u001b[0m     \u001b[0;32mfor\u001b[0m \u001b[0mi\u001b[0m \u001b[0;32min\u001b[0m \u001b[0mrange\u001b[0m\u001b[0;34m(\u001b[0m\u001b[0mdigits\u001b[0m\u001b[0;34m)\u001b[0m\u001b[0;34m:\u001b[0m\u001b[0;34m\u001b[0m\u001b[0;34m\u001b[0m\u001b[0m\n\u001b[1;32m     10\u001b[0m         \u001b[0moutput\u001b[0m \u001b[0;34m=\u001b[0m \u001b[0mcounting_sort\u001b[0m\u001b[0;34m(\u001b[0m\u001b[0moutput\u001b[0m\u001b[0;34m,\u001b[0m\u001b[0mi\u001b[0m\u001b[0;34m,\u001b[0m\u001b[0mradix\u001b[0m\u001b[0;34m)\u001b[0m\u001b[0;34m\u001b[0m\u001b[0;34m\u001b[0m\u001b[0m\n",
      "\u001b[0;31mNameError\u001b[0m: name 'math' is not defined"
     ]
    }
   ],
   "source": [
    "a = [11, 213, 75, 69, 411, 28, 5, 710]\n",
    "print(radix_sort(a, 10))"
   ]
  },
  {
   "cell_type": "markdown",
   "metadata": {},
   "source": [
    "__example__\n",
    "\n",
    "You are given a list of names, each name is not longer than 20 characters. Return them sorted in an increasing order, using the Radix Sort algorithm."
   ]
  },
  {
   "cell_type": "code",
   "execution_count": 37,
   "metadata": {},
   "outputs": [
    {
     "name": "stdout",
     "output_type": "stream",
     "text": [
      "['aaa', 'av$', 'bb$', 'aa$', 'ca$']\n"
     ]
    }
   ],
   "source": [
    "def radixsort(l):\n",
    "    n = len(l)\n",
    "\n",
    "    # YOUR CODE GOES HERE\n",
    "    ans = [i for i in range(n)]\n",
    "    ml = max(len(s) for s in l)\n",
    "    # make all strinf the same length\n",
    "    l = [s+(ml - len(s)) * '$' for s in l]\n",
    "\n",
    "    # count every symbol\n",
    "    # after first iteration, sort by first character\n",
    "    for it in range(ml-1, -1, -1):\n",
    "        cnt = [0] * 256\n",
    "        \n",
    "        # iterate every string\n",
    "        for s in l:\n",
    "            cnt[ord(s[it])] += 1\n",
    "            \n",
    "        # count position where each symbol start\n",
    "        pos = [0] * 256\n",
    "        for i in range(1, len(cnt)):\n",
    "            pos[i] = pos[i-1] + cnt[i-1]\n",
    "            \n",
    "        # update positions of all strings\n",
    "        for i in range(len(l)):\n",
    "            ans[i] = pos[ord(l[i][it])]\n",
    "            pos[ord(l[i][it])] += 1\n",
    "            \n",
    "#         l=[l[ans[i]] for i in range(n)]\n",
    "\n",
    "#     print(ans)\n",
    "\n",
    "    return [l[ans[i]] for i in range(n)]\n",
    "\n",
    "# arr = ['ab', 'ba']\n",
    "arr = ['Ivan', 'John', 'Anna']\n",
    "arr = ['aaa', 'bb', 'aa', 'av', 'ca']\n",
    "# arr = ['aa', 'ba', 'ab']\n",
    "# arr = ['ab', 'ba', 'ac', 'bc', 'cd', 'de', 'ef']\n",
    "print(radixsort(arr))\n",
    "# arr = ['Ivan', 'John', 'Anna']\n",
    "# check that your code works correctly on provided example\n",
    "# assert radixsort(arr) == ['Anna', 'Ivan', 'John'], 'Wrong answer'\n"
   ]
  },
  {
   "cell_type": "code",
   "execution_count": null,
   "metadata": {},
   "outputs": [],
   "source": [
    "pos[ord('a')] == 0\n",
    "pos[ord('b')] == 3\n",
    "pos[ord('c')] == 3\n",
    "pos[ord('d')] == 4\n",
    "# on the zero position we will have \n",
    "\n",
    "print()\n"
   ]
  }
 ],
 "metadata": {
  "kernelspec": {
   "display_name": "Python 3",
   "language": "python",
   "name": "python3"
  },
  "language_info": {
   "codemirror_mode": {
    "name": "ipython",
    "version": 3
   },
   "file_extension": ".py",
   "mimetype": "text/x-python",
   "name": "python",
   "nbconvert_exporter": "python",
   "pygments_lexer": "ipython3",
   "version": "3.6.9"
  }
 },
 "nbformat": 4,
 "nbformat_minor": 2
}
