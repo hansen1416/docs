{
 "cells": [
  {
   "cell_type": "markdown",
   "metadata": {},
   "source": [
    "```\n",
    "arr: 1 3 5 4 2 -> 1 2 3 4 5\n",
    "    if a[i+1] < a[i]:\n",
    "        swap(a[i], a[i+1])\n",
    "        \n",
    "        \n",
    "arr: 3 5 1 2 4\n",
    "     3 1 5 2 4\n",
    "     3 1 2 5 4\n",
    "     3 1 2 5 5\n",
    "     so after on iteration, the largest one will be at the end\n",
    "     and the second iteration, the second largest one will be at the left of the end\n",
    "     and so on\n",
    "     \n",
    "arr: 3 4 1 5 2\n",
    "     3 1 4 5 2\n",
    "     3 1 4 2 5\n",
    "     one iteration, again the largest to the end\n",
    "     1 3 4 2 5\n",
    "     1 3 2 4 5\n",
    "     second iteration, the second the largest to its position\n",
    "```"
   ]
  },
  {
   "cell_type": "code",
   "execution_count": 2,
   "metadata": {},
   "outputs": [
    {
     "name": "stdout",
     "output_type": "stream",
     "text": [
      "[1, 2, 3, 4, 5, 6, 7, 8, 9, 10]\n"
     ]
    }
   ],
   "source": [
    "def bubble_sort(arr):\n",
    "    n = len(a)\n",
    "    for j in range(n): # O(n)\n",
    "        for j in range(n-1): # O(n)\n",
    "            if arr[j] > arr[j+1]:\n",
    "                arr[j], arr[j+1] = arr[j+1], arr[j]\n",
    "                \n",
    "    return arr\n",
    "\n",
    "a = [4,5,6,7,8,9,3,2,1,10]\n",
    "print(bubble_sort(a))"
   ]
  }
 ],
 "metadata": {
  "kernelspec": {
   "display_name": "Python 3",
   "language": "python",
   "name": "python3"
  },
  "language_info": {
   "codemirror_mode": {
    "name": "ipython",
    "version": 3
   },
   "file_extension": ".py",
   "mimetype": "text/x-python",
   "name": "python",
   "nbconvert_exporter": "python",
   "pygments_lexer": "ipython3",
   "version": "3.7.9"
  }
 },
 "nbformat": 4,
 "nbformat_minor": 2
}
