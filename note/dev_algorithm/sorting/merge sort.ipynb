{
 "cells": [
  {
   "cell_type": "code",
   "execution_count": 1,
   "metadata": {},
   "outputs": [],
   "source": [
    "def merge(a,b):\n",
    "    \"\"\"\n",
    "    merge two ordered lists\n",
    "    \"\"\"\n",
    "    result = []\n",
    "    i, j = 0, 0\n",
    "    while i < len(a) and j < len(b):\n",
    "        if a[i] < b[j]:\n",
    "            result.append(a[i])\n",
    "            i += 1\n",
    "        else:\n",
    "            result.append(b[j])\n",
    "            j += 1\n",
    "    while i < len(a):\n",
    "        result.append(a[i])\n",
    "        i += 1\n",
    "    while j < len(b):\n",
    "        result.append(b[j])\n",
    "        j += 1\n",
    "    return result\n",
    "\n",
    "def mergesort(a):\n",
    "    \"\"\"\n",
    "    sort one array\n",
    "    \"\"\"\n",
    "    if len(a) <= 1: # O(1)\n",
    "        return a # O(1)\n",
    "    mid = len(a) // 2 # O(1)\n",
    "    left = mergesort(a[:mid])\n",
    "    right = mergesort(a[mid:])\n",
    "    print(left, right)\n",
    "    print('---')\n",
    "    return merge(left, right) # O(n)"
   ]
  }
 ],
 "metadata": {
  "kernelspec": {
   "display_name": "Python 3",
   "language": "python",
   "name": "python3"
  },
  "language_info": {
   "codemirror_mode": {
    "name": "ipython",
    "version": 3
   },
   "file_extension": ".py",
   "mimetype": "text/x-python",
   "name": "python",
   "nbconvert_exporter": "python",
   "pygments_lexer": "ipython3",
   "version": "3.6.9"
  }
 },
 "nbformat": 4,
 "nbformat_minor": 2
}
