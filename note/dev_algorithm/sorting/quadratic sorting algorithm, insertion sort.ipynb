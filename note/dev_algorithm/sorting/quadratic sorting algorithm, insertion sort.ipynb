{
 "cells": [
  {
   "cell_type": "markdown",
   "metadata": {},
   "source": [
    "So the main idea behind the insertion sort is quite simple. So when you're sorting an array, you're keeping some prefix of it sorted. So you have an outer loop over all the elements. And in this loop, you keep the prefix of the array sorted, and when you reach a new element, you insert it into this prefix, so that the prefix is still sorted in ascending order"
   ]
  },
  {
   "cell_type": "markdown",
   "metadata": {},
   "source": [
    "arr: [3] 2 1 4 5 -> 1 2 3 4 5\n",
    "     [2 3] 1 4 5\n",
    "     [1 2 3] 4 5\n",
    "     and so on"
   ]
  },
  {
   "cell_type": "code",
   "execution_count": 2,
   "metadata": {},
   "outputs": [
    {
     "name": "stdout",
     "output_type": "stream",
     "text": [
      "[1, 2, 3, 4, 5, 6, 7, 8, 9, 10]\n"
     ]
    }
   ],
   "source": [
    "def insertion_sort(arr):\n",
    "    n = len(arr)\n",
    "    for i in range(1, n):  # O(n)\n",
    "        key = arr[i]\n",
    "        j = i - 1\n",
    "        while j >= 0 and key < arr[j]:  # O(n)\n",
    "            arr[j + 1] = arr[j] \n",
    "            j -= 1\n",
    "        arr[j+1] = key \n",
    "    return arr\n",
    "\n",
    "a = [4,5,6,7,8,9,3,2,1,10]\n",
    "print(insertion_sort(a))"
   ]
  }
 ],
 "metadata": {
  "kernelspec": {
   "display_name": "Python 3",
   "language": "python",
   "name": "python3"
  },
  "language_info": {
   "codemirror_mode": {
    "name": "ipython",
    "version": 3
   },
   "file_extension": ".py",
   "mimetype": "text/x-python",
   "name": "python",
   "nbconvert_exporter": "python",
   "pygments_lexer": "ipython3",
   "version": "3.6.9"
  }
 },
 "nbformat": 4,
 "nbformat_minor": 2
}
