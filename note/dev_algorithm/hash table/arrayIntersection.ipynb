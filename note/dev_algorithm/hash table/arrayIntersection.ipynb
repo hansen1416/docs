{
 "cells": [
  {
   "cell_type": "code",
   "execution_count": null,
   "metadata": {},
   "outputs": [],
   "source": [
    "def arrayIntersection(array1, array2):\n",
    "    intersection = []\n",
    "\n",
    "    # YOUR CODE GOES HERE\n",
    "    ht = dict()\n",
    "    \n",
    "    for i in array1:\n",
    "        if i not in ht:\n",
    "            ht[i] = 0\n",
    "        ht[i] += 1\n",
    "\n",
    "    for j in array2:\n",
    "        if j in ht and ht[j] > 0:\n",
    "            intersection.append(j)\n",
    "            ht[j] -= 1\n",
    "\n",
    "    return intersection\n",
    "\n",
    "test_cases = [\n",
    "    ([1,2,3], [2,3,4]),\n",
    "    ([1,2,2,3], [2,2,3,4]),\n",
    "    ([1,2,3], [2,2,3,4]),\n",
    "]\n",
    "\n",
    "for case in test_cases:\n",
    "    result = arrayIntersection(case[0], case[1])\n",
    "\n",
    "    print(result)"
   ]
  }
 ],
 "metadata": {
  "kernelspec": {
   "display_name": "Python 3",
   "language": "python",
   "name": "python3"
  },
  "language_info": {
   "codemirror_mode": {
    "name": "ipython",
    "version": 3
   },
   "file_extension": ".py",
   "mimetype": "text/x-python",
   "name": "python",
   "nbconvert_exporter": "python",
   "pygments_lexer": "ipython3",
   "version": "3.6.9"
  }
 },
 "nbformat": 4,
 "nbformat_minor": 2
}
