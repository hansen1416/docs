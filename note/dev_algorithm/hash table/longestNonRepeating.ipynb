{
 "cells": [
  {
   "cell_type": "code",
   "execution_count": null,
   "metadata": {},
   "outputs": [],
   "source": [
    "def longestNonRepeating(text):\n",
    "    n = len(text)\n",
    "    longest = 0\n",
    "    \n",
    "    existed = dict()\n",
    "    pos = dict()\n",
    "\n",
    "    start_pos = 0\n",
    "    dist = 0\n",
    "\n",
    "    # YOUR CODE GOES HERE\n",
    "    for i in range(n):\n",
    "        pos.setdefault(i, text[i])\n",
    "\n",
    "        if text[i] in existed:\n",
    "            start_pos = existed[pos[existed[text[i]] + 1]]\n",
    "\n",
    "        dist = i - start_pos + 1\n",
    "\n",
    "        if enable_debug:\n",
    "            print(dist, start_pos, pos, existed)\n",
    "\n",
    "        if dist > longest:\n",
    "            longest = dist\n",
    "\n",
    "        existed.update({text[i]: i})\n",
    "\n",
    "    # print(pos, existed)\n",
    "    \n",
    "    return longest\n",
    "\n",
    "# 0 1 2 3 4 5 6 7 8\n",
    "# a b c a e f g a c\n",
    "\n",
    "# 0 0 0 1 1 1 1 4 \n",
    "# 1 2 3 3 4 5 6 3 \n",
    "\n",
    "# a b c\n",
    "# 3 1 2 \n",
    "\n",
    "# a b c\n",
    "# 7 1 2 \n",
    "\n",
    "enable_debug = True\n",
    "\n",
    "test_cases = [\n",
    "    'abcaefgac',\n",
    "    # 'alsdfjlasdjflasdfjasdf',\n",
    "    # 'ldhfladsfasdfasfffasfasdf',\n",
    "    # 'wqeruiajsdfa',\n",
    "]\n",
    "\n",
    "for case in test_cases:\n",
    "    result = longestNonRepeating(case)\n",
    "\n",
    "    # print(result)"
   ]
  }
 ],
 "metadata": {
  "kernelspec": {
   "display_name": "Python 3",
   "language": "python",
   "name": "python3"
  },
  "language_info": {
   "codemirror_mode": {
    "name": "ipython",
    "version": 3
   },
   "file_extension": ".py",
   "mimetype": "text/x-python",
   "name": "python",
   "nbconvert_exporter": "python",
   "pygments_lexer": "ipython3",
   "version": "3.6.9"
  }
 },
 "nbformat": 4,
 "nbformat_minor": 2
}
