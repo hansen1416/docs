{
 "cells": [
  {
   "cell_type": "markdown",
   "metadata": {},
   "source": [
    "Problem: given an array of integers `A` and a number `X`, check if there is a pair of elemenets in `A` that sums to `X` \n",
    "\n",
    "Hash table solution:\n",
    "\n",
    "1. Iterate over the array. at each element\n",
    "2. Check if (X - current element) is in the hash table\n",
    "3. If not, add current element to the hash table and continue\n",
    "4. If we reach the end of the array, there is no such pair\n",
    "\n",
    "Time complexity: O(n)\n",
    "Space complexity: O(n) # an extra hash table"
   ]
  },
  {
   "cell_type": "code",
   "execution_count": 1,
   "metadata": {},
   "outputs": [],
   "source": [
    "def givenSumpair(arr, x):\n",
    "    hash_table = set()\n",
    "    for elem in arr:\n",
    "        if x-elem in hash_table:\n",
    "            return True\n",
    "        hash_table.add(elem)\n",
    "    \n",
    "    return False"
   ]
  }
 ],
 "metadata": {
  "kernelspec": {
   "display_name": "Python 3",
   "language": "python",
   "name": "python3"
  },
  "language_info": {
   "codemirror_mode": {
    "name": "ipython",
    "version": 3
   },
   "file_extension": ".py",
   "mimetype": "text/x-python",
   "name": "python",
   "nbconvert_exporter": "python",
   "pygments_lexer": "ipython3",
   "version": "3.6.9"
  }
 },
 "nbformat": 4,
 "nbformat_minor": 2
}
