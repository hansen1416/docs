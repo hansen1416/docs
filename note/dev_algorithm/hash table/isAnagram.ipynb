{
 "cells": [
  {
   "cell_type": "code",
   "execution_count": null,
   "metadata": {},
   "outputs": [],
   "source": [
    "def isAnagram(string1, string2):\n",
    "    is_anagram = True\n",
    "    \n",
    "    # YOUR CODE GOES HERE\n",
    "    n1 = len(string1)\n",
    "    n2 = len(string2)\n",
    "\n",
    "    if n1 != n2:\n",
    "        return False\n",
    "\n",
    "    ht =  dict()\n",
    "\n",
    "    for i in range(n1):\n",
    "        if string1[i] not in ht:\n",
    "            ht[string1[i]] = 0\n",
    "        ht[string1[i]] += 1\n",
    "\n",
    "    for j in range(n2):\n",
    "        if string2[j] in ht:\n",
    "            ht[string2[j]] -= 1\n",
    "            if ht[string2[j]] < 0:\n",
    "                return False\n",
    "\n",
    "    if sum(ht.values()) > 0:\n",
    "        return False\n",
    "    \n",
    "    return is_anagram\n",
    "\n",
    "\n",
    "test_cases = [\n",
    "    ('baa', 'aab'),\n",
    "    ('tar','rat'),\n",
    "    ('arc','car'),\n",
    "    ('elbow','below'),\n",
    "    ('state','taste'),\n",
    "    ('cider','cried'),\n",
    "    ('dusty','study'),\n",
    "    ('night','thing'),\n",
    "    ('inch','chin'),\n",
    "    ('brag','grab'),\n",
    "    ('cat','act'),\n",
    "    ('bored','robed'),\n",
    "    ('save','vase'),\n",
    "    ('angel','glean'),\n",
    "    ('stressed','desserts'),\n",
    "]\n",
    "\n",
    "for case in test_cases:\n",
    "    result = isAnagram(case[0], case[1])\n",
    "\n",
    "    print(result)\n"
   ]
  }
 ],
 "metadata": {
  "kernelspec": {
   "display_name": "Python 3",
   "language": "python",
   "name": "python3"
  },
  "language_info": {
   "codemirror_mode": {
    "name": "ipython",
    "version": 3
   },
   "file_extension": ".py",
   "mimetype": "text/x-python",
   "name": "python",
   "nbconvert_exporter": "python",
   "pygments_lexer": "ipython3",
   "version": "3.6.9"
  }
 },
 "nbformat": 4,
 "nbformat_minor": 2
}
