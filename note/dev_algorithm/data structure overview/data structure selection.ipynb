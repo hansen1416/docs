{
 "cells": [
  {
   "cell_type": "markdown",
   "metadata": {},
   "source": [
    "| DS | Indexing | Search | Insertion | Deletion |\n",
    "|--|--|--|--|--|\n",
    "| Array | O(1) | O(N) | O(N) | O(N) |\n",
    "| Linked List | O(N) | O(N) | O(1) | O(1) |\n",
    "| Binary Search Tree | O(logN) | O(logN) | O(logN) | O(logN) |\n",
    "| Hash Table | O(1) | O(1) | O(1) | O(1) |\n",
    "| Binary Heap | O(N) for any element, O(1) for max/min | O(N) for any element, O(1) for max/min | O(logN) | O(logN) |"
   ]
  },
  {
   "cell_type": "markdown",
   "metadata": {},
   "source": [
    "__Binary search tree__\n",
    "\n",
    "- When you can compare elements  O(logN)\n",
    "- When you need to search for the elements repeatedly  O(logN)\n",
    "- When the input can change, or when input is online  O(logN)"
   ]
  },
  {
   "cell_type": "markdown",
   "metadata": {},
   "source": [
    "__Binary Heap__\n",
    "- When you need to repeatedly get maximum/minimum element O(1)\n",
    "- When you change the input data O(logN)"
   ]
  },
  {
   "cell_type": "markdown",
   "metadata": {},
   "source": [
    "__Hash Table__\n",
    "- When you do not care about the order of elements O(1)\n",
    "- When you need to quick access/existence check O(1)\n",
    "\n",
    "_always keep in mind about the hash table, of the order doesn't matter, and don't need to find max/min. it's really fast_"
   ]
  }
 ],
 "metadata": {
  "kernelspec": {
   "display_name": "Python 3",
   "language": "python",
   "name": "python3"
  },
  "language_info": {
   "codemirror_mode": {
    "name": "ipython",
    "version": 3
   },
   "file_extension": ".py",
   "mimetype": "text/x-python",
   "name": "python",
   "nbconvert_exporter": "python",
   "pygments_lexer": "ipython3",
   "version": "3.7.7"
  }
 },
 "nbformat": 4,
 "nbformat_minor": 4
}
