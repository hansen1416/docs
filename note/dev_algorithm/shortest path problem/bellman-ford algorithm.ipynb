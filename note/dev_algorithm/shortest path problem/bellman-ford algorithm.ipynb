{
 "cells": [
  {
   "cell_type": "markdown",
   "metadata": {},
   "source": [
    "The Bellman-Ford algorithm operates on an input graph, $G$, with $|V|$ vertices and $∣E∣$ edges. A single source vertex, $s$, must be provided as well, as the Bellman-Ford algorithm is a single-source shortest path algorithm. No destination vertex needs to be supplied, however, because Bellman-Ford calculates the __shortest distance to all vertices__ in the graph from the source vertex.\n",
    "\n",
    "The Bellman-Ford algorithm, uses the principle of relaxation to find increasingly accurate path length. Bellman-Ford, though, tackles two main issues with this process:\n",
    "\n",
    "- If there are negative weight cycles, the search for a shortest path will go on forever.\n",
    "- Choosing a bad ordering for relaxations leads to exponential relaxations.\n",
    "\n",
    "\n",
    "Bellman-Ford labels the edges for a graph $G$ as \n",
    "\n",
    "$e_1, e_2, \\dots, e_m$\n",
    "\n",
    "and that set of edges is relaxed exactly $|V| - 1$ times, where $|V|$ is the number of vertices in the graph."
   ]
  },
  {
   "cell_type": "markdown",
   "metadata": {},
   "source": [
    "psuedo code\n",
    "\n",
    "```\n",
    "for v in V:\n",
    "    v.distance = infinity\n",
    "    v.p = None\n",
    "source.distance = 0\n",
    "for i from 1 to |V| - 1:\n",
    "    for (u, v) in E:\n",
    "        relax(u, v)\n",
    "```"
   ]
  },
  {
   "cell_type": "markdown",
   "metadata": {},
   "source": [
    "The first `for` loop sets the distance to each vertex in the graph to infinity. This is later changed for the source vertex to equal zero. Also in that first `for` loop, the `p` value for each vertex is set to nothing. This value is a pointer to a predecessor vertex so that we can create a path later.\n",
    "\n",
    "The next `for` loop simply goes through each edge `(u, v)` in `E` and relaxes it. This process is done `|V| - 1` times"
   ]
  },
  {
   "cell_type": "markdown",
   "metadata": {},
   "source": [
    "```\n",
    "relax(u, v):\n",
    "    if v.distance > u.distance + weight(u, v):\n",
    "        v.distance = u.distance + weight(u, v)\n",
    "        v.p = u\n",
    "```"
   ]
  },
  {
   "cell_type": "markdown",
   "metadata": {},
   "source": [
    "Remember that the distance to every vertex besides the source starts at infinity, so a __clear starting point for this algorithm is an edge out of the source vertex__. Imagine that there is an edge coming out of the source vertex, $S$, to another vertex, $A$. This edge has a weight of 5. So, the if statement in the relax function would look like this for the edge $(S, A)$:\n",
    "```\n",
    "if A.distance>S.distance+weight(S,A),\n",
    "```\n",
    "\n",
    "which is the same as\n",
    "\n",
    "```\n",
    "    if $\\infty$ > 0 + 5\n",
    "```\n",
    "\n",
    "Since this is of course true, the rest of the function is executed. `A.distance` is set to 5, and the predecessor of `A` is set to `S`, the source vertex.\n",
    "\n",
    "Relaxation is safe to do because it obeys the \"triangle inequality.\" Another way of saying that is \"the shortest distance to go from $A$ to $B$ to $C$ should be less than or equal to the shortest distance to go from $A$ to $B$ plus the shortest distance to go from $B$ to $C$\":\n",
    "\n",
    "```\n",
    "distance(A,C)≤distance(A,B)+distance(B,C)\n",
    "```"
   ]
  },
  {
   "cell_type": "markdown",
   "metadata": {},
   "source": [
    "__Detecting Negative Cycles__\n",
    "\n",
    "After the Bellman-Ford algorithm shown above has been run, one more short loop is required to check for negative weight cycles.\n",
    "\n",
    "```\n",
    "for v in V:\n",
    "    v.distance = infinity\n",
    "    v.p = None\n",
    "source.distance = 0\n",
    "for i from 1 to |V| - 1:\n",
    "    for (u, v) in E:\n",
    "        relax(u, v)\n",
    "for (u, v) in E:\n",
    "    if v.distance > u.distance + weight(u, v):\n",
    "        print \"A negative weight cycle exists\"\n",
    "```"
   ]
  },
  {
   "cell_type": "markdown",
   "metadata": {},
   "source": [
    "__Algorithm Proof__\n",
    "\n",
    "Step 1. The first step shows that each iteration of Bellman-Ford reduces the distance of each vertex in the appropriate way.\n",
    "\n",
    "Claim: __After interation `i`, for all `v` in `V`, `v.d` is at most the weight of every path from `s` to `v` using at most `i` edges.__\n",
    "\n",
    "Before iteration `i`, the value of `v.d` is constrained by the following equation\n",
    "\n",
    "```\n",
    "v.d≤minw(p):∣p∣≤i−1,\n",
    "```\n",
    "\n",
    "where `w(p)` is the weight of a given path and `|p|` is the number of edges in that path. Subsequent relaxation will only decrease `v.d`, so this will always remain true. The $i^\\text{th}$ iteration will consider all incoming edges to `v` for paths with $\\leq i$ edges.\n",
    "  \n",
    "---\n",
    "\n",
    "Step 2. The second step shows that, once the algorithm has terminated, if there are no negative weight cycles, the resulting distances are perfectly correct.\n",
    "\n",
    "Claim: __If the input graph does not have any negative weight cycles, then Bellman-Ford will accurately give the distance to every vertex `v` in the graph from the source.__\n",
    "\n",
    "An important thing to note is that without negative weight cycles, the shortest paths will always be simple. There will not be any repetition of edges. So, each shortest path has $|V^{*}|$ vertices and $|V^{*} - 1|∣$ edges (depending on which vertex we are calculating the distance for). More generally, $|V^{*}| \\leq |V|$, so each path has $\\leq |V|$ vertices and $\\leq |V^{*} - 1|$ edges.\n",
    "\n",
    "Consider the shortest path from $s$ to $u$, where $v$ is the predecessor of $u$. On the $(i - 1)^\\text{th}$\n",
    "  iteration, we've found the shortest path from $s$ to $v$ using at most $i - 1$ edges. $v.distance$ is at most the weight of this path. So, $v.distance + weight(u, v)$ is at most the distance from $s$ to $u$. On the $i^\\text{th}$\n",
    "  iteration, all we're doing is comparing $v.distance + weight(u, v)$ to $u.distance$e. All that can possibly happen is that $u.distance$ gets smaller. So, after the $i^\\text{th}$  iteration, $u.distance$ is at most the distance from $s$ to $u$. And because it can't actually be smaller than the shortest path from $s$ to $u$, it is exactly equal.\n",
    "  \n",
    "---\n",
    "\n",
    "Step 3. The final step shows that if that is not the case, then there is indeed a negative weight cycle, which proves the Bellman-Ford negative cycle detection.\n",
    "\n",
    "Claim: __Bellman-Ford can report negative weight cycles.__\n",
    "\n",
    "Using our Step 2, if we go back through all of the edges, we should see that for all $v$ in $V$, $v.distance = distance(s, v)$. Bellman-Ford will only report a negative cycle if $v.distance \\gt u.distance + weight(u, v)$, so there cannot be any false reporting of a negative weight cycle."
   ]
  },
  {
   "cell_type": "markdown",
   "metadata": {},
   "source": [
    "__Complexity__\n",
    "\n",
    "As described above, Bellman-Ford makes $|E|$ relaxations for every iteration, and there are $|V| - 1$ iterations. Therefore, the worst-case scenario is that Bellman-Ford runs in $O\\big(|V| \\cdot |E|\\big)$ time."
   ]
  },
  {
   "cell_type": "code",
   "execution_count": null,
   "metadata": {},
   "outputs": [],
   "source": [
    "def bellman_ford(start):\n",
    "    dist = [float('inf' for i in range(n))]\n",
    "    dist[start] = 0\n",
    "    \n",
    "    for i in range(1, n):\n",
    "        for u, v, c in edges:\n",
    "            dist[v] = min(dist[v], d[u] + c)\n",
    "            \n",
    "    return dist"
   ]
  },
  {
   "cell_type": "markdown",
   "metadata": {},
   "source": [
    "__example__\n",
    "\n",
    "Given an adjacency matrix with weights of edges instead of 0 and 1 (if there is no edge between the vertices that value is replaced with float(\"inf\")), and a source vertex v_from, return a distance array of shortest path distances from this vertex to all others."
   ]
  },
  {
   "cell_type": "code",
   "execution_count": null,
   "metadata": {},
   "outputs": [],
   "source": [
    "def BellmanFord(weight_matrix, v_from):\n",
    "    n, graph = len(weight_matrix), weight_matrix\n",
    "    dist = [float(\"inf\") for i in range(n)]\n",
    "\n",
    "    # YOUR CODE GOES HERE\n",
    "    dist[v_form] = 0\n",
    "    \n",
    "\n",
    "    return dist\n",
    "\n",
    "\n",
    "weight_matrix = [[float('inf'), 5, 2], \n",
    "                 [5, float('inf'), float('inf')], \n",
    "                 [2, float('inf'), float('inf')]]\n",
    "v_from = 0\n",
    "# check that your code works correctly on provided example\n",
    "assert BellmanFord(weight_matrix, v_from) == [0, 5, 2], 'Wrong answer'"
   ]
  }
 ],
 "metadata": {
  "kernelspec": {
   "display_name": "Python 3",
   "language": "python",
   "name": "python3"
  },
  "language_info": {
   "codemirror_mode": {
    "name": "ipython",
    "version": 3
   },
   "file_extension": ".py",
   "mimetype": "text/x-python",
   "name": "python",
   "nbconvert_exporter": "python",
   "pygments_lexer": "ipython3",
   "version": "3.6.9"
  }
 },
 "nbformat": 4,
 "nbformat_minor": 2
}
