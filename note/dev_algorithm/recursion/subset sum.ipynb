{
 "cells": [
  {
   "cell_type": "code",
   "execution_count": 2,
   "metadata": {},
   "outputs": [],
   "source": [
    "def subset_sum_bb(A, C, best):\n",
    "    \"\"\"\n",
    "    assume A is sorted\n",
    "    \"\"\"\n",
    "    # estimate the best we can get in this branch\n",
    "    s = 0\n",
    "    i = len(A) - 1\n",
    "    while s < C and i >= 0:\n",
    "        s += A[i]\n",
    "        i -= 1\n",
    "    if s == C:\n",
    "        return len(A) - i - 1\n",
    "    if s < C:\n",
    "        return math.inf\n",
    "    # can not out perform best => just stop\n",
    "    if len(A) - i + 1 >= best:\n",
    "        return math.inf\n",
    "    \n",
    "    # the same recursion as before\n",
    "    result = subset_sum_bb(A[:-1], C, best)\n",
    "    if C >= A[-1]:\n",
    "        result = min(\n",
    "            result,\n",
    "            subset_sum_bb(A[:-1], C - A[-1], min(best, result) - 1) + 1\n",
    "        )\n",
    "    return result"
   ]
  },
  {
   "cell_type": "code",
   "execution_count": 5,
   "metadata": {},
   "outputs": [
    {
     "name": "stdout",
     "output_type": "stream",
     "text": [
      "{(0, 1), (0,), (1,), (2,), ()}\n",
      "{(1, 3), (0, 1, 2), (0, 2), (0, 1, 3), (0, 1, 4), (0, 3), (2, 5), (0, 1, 5), (1, 2), (1,), (0, 2, 3), (3,), (1, 5), (5,), (0, 4), (0, 2, 4), (1, 4), (1, 2, 3), (2, 3), (0, 5), (0, 1), (0,), (2,), (4,), (), (3, 4), (2, 4)}\n"
     ]
    }
   ],
   "source": [
    "def take_to_space(mass, C):\n",
    "    if len(mass) == 0:\n",
    "        if C >= 0:\n",
    "            return { tuple() }\n",
    "        else:\n",
    "            return set()\n",
    "    without_last = take_to_space(mass[:-1], C)\n",
    "    with_last = take_to_space(mass[:-1], C - mass[-1])\n",
    "    result = without_last\n",
    "    for s in with_last:\n",
    "        # print(s+(mass[-1],))\n",
    "        result.add(s+(len(mass) - 1,))\n",
    "    return result\n",
    "  \n",
    "# should print {(), (0,), (1,), (2,), (0, 1)}\n",
    "# elements of the set can be printed in a different order\n",
    "print(take_to_space([1, 2, 3], 3))\n",
    "\n",
    "print(take_to_space([1, 2, 3,4,5,6], 9))"
   ]
  }
 ],
 "metadata": {
  "kernelspec": {
   "display_name": "Python 3",
   "language": "python",
   "name": "python3"
  },
  "language_info": {
   "codemirror_mode": {
    "name": "ipython",
    "version": 3
   },
   "file_extension": ".py",
   "mimetype": "text/x-python",
   "name": "python",
   "nbconvert_exporter": "python",
   "pygments_lexer": "ipython3",
   "version": "3.6.9"
  }
 },
 "nbformat": 4,
 "nbformat_minor": 2
}
