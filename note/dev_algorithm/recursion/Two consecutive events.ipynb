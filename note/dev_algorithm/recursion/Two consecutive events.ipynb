{
 "cells": [
  {
   "cell_type": "code",
   "execution_count": 2,
   "metadata": {},
   "outputs": [
    {
     "name": "stdout",
     "output_type": "stream",
     "text": [
      "0.5\n",
      "0.4375\n"
     ]
    }
   ],
   "source": [
    "def probability_not_angry(n, p):\n",
    "    \"\"\"\n",
    "    Every day, Petr Tort either catches his bus with probability 1 - p or misses it with probability p. \n",
    "    In the former case, he comes to the office on time, in the latter case he is late. \n",
    "    Petr knows that his boss gets angry if Petr is late two days in a row. \n",
    "    For a given number n of days and given p, \n",
    "    Petr wants to compute the probability that after n days his boss will not be angry. \n",
    "    \"\"\"\n",
    "    if n == 0:\n",
    "        return 1\n",
    "    if n == 1:\n",
    "        return 1\n",
    "    return (1 - p)*probability_not_angry(n-1, p) + p * (1-p) * probability_not_angry(n-2, p)\n",
    "  \n",
    "# should print 0.5\n",
    "print(probability_not_angry(4, 0.5))\n",
    "# should print 0.4375\n",
    "print(probability_not_angry(2, 0.75))"
   ]
  }
 ],
 "metadata": {
  "kernelspec": {
   "display_name": "Python 3",
   "language": "python",
   "name": "python3"
  },
  "language_info": {
   "codemirror_mode": {
    "name": "ipython",
    "version": 3
   },
   "file_extension": ".py",
   "mimetype": "text/x-python",
   "name": "python",
   "nbconvert_exporter": "python",
   "pygments_lexer": "ipython3",
   "version": "3.6.9"
  }
 },
 "nbformat": 4,
 "nbformat_minor": 2
}
