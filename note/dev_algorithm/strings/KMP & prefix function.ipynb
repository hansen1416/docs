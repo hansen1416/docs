{
 "cells": [
  {
   "cell_type": "markdown",
   "metadata": {},
   "source": [
    "prefix function (denoted $\\pi$ ) of the test string\n",
    "\n",
    "Given a pattern $p$ of length $m$, the function $\\pi$ maps $\\left \\{ 1, 2, \\ldots, m \\right \\} to \\left \\{ 0, 1, \\ldots, m-1 \\right \\}$ such that $\\pi(q)$ is the length of the longest prefix of $p$ that is a proper suffix of $p_q$\n",
    " \n",
    "$\\pi[q]=max\\{k: k<q \\;\\mbox{and}\\; p_k\\sqsupset p_q\\} $"
   ]
  },
  {
   "cell_type": "markdown",
   "metadata": {},
   "source": [
    "|    i   | 1 | 2 | 3 | 4 | 5 | 6 | 7 |\n",
    "|--------|---|---|---|---|---|---|---|\n",
    "|  P[i]  | a | b | a | b | a | c | a |\n",
    "|$\\pi[i]$| 0 | 0 | 1 | 2 | 3 | 0 | 1 |"
   ]
  },
  {
   "cell_type": "code",
   "execution_count": 8,
   "metadata": {},
   "outputs": [],
   "source": [
    "def prefix(p):\n",
    "    m=len(p)\n",
    "    pi=[0]*m\n",
    "    j=0 \n",
    "    for i in range(1,m):\n",
    "        while j>=0 and p[j]!=p[i]:\n",
    "            if j-1>=0:\n",
    "                j=pi[j-1]\n",
    "            else:\n",
    "                j=-1 \n",
    "        j+=1\n",
    "        pi[i]=j\n",
    "    return pi"
   ]
  },
  {
   "cell_type": "code",
   "execution_count": 10,
   "metadata": {},
   "outputs": [
    {
     "data": {
      "text/plain": [
       "[7]"
      ]
     },
     "execution_count": 10,
     "metadata": {},
     "output_type": "execute_result"
    }
   ],
   "source": [
    "def find_occurrences(S,p):\n",
    "    matches = []\n",
    "    f=prefix(p)\n",
    "    n,m=len(S),len(p)\n",
    "    j=0\n",
    "    for i in range(n):\n",
    "        while j>=0 and S[i]!=p[j]:\n",
    "            if j>0: \n",
    "                j=f[j-1]\n",
    "            else: \n",
    "                j=-1\n",
    "        j+=1  \n",
    "        if j==m:\n",
    "            j=f[m-1]\n",
    "            matches.append(i-m+1)\n",
    "    return matches\n",
    "\n",
    "\n",
    "W = \"acabacacd\"\n",
    "T = \"acfacabacabacacdk\"\n",
    "\n",
    "find_occurrences(T, W)"
   ]
  },
  {
   "cell_type": "code",
   "execution_count": 4,
   "metadata": {},
   "outputs": [],
   "source": [
    "def createAux(W):\n",
    "    # initializing the array aux with 0's\n",
    "    aux = [0] * len(W)\n",
    "\n",
    "    # for index 0, it will always be 0\n",
    "    # so starting from index 1\n",
    "    i = 1\n",
    "    # m can also be viewed as index of first mismatch\n",
    "    m = 0\n",
    "    while i < len(W):\n",
    "        # prefix = suffix till m-1\n",
    "        if W[i] == W[m]:\n",
    "            m += 1\n",
    "            aux[i] = m\n",
    "            i += 1\n",
    "        # this one is a little tricky,\n",
    "        # when there is a mismatch,\n",
    "        # we will check the index of previous\n",
    "        # possible prefix.\n",
    "        elif W[i] != W[m] and m != 0:\n",
    "            # Note that we do not increment i here.\n",
    "            m = aux[m-1]\n",
    "        else:\n",
    "            # m = 0, we move to the next letter,\n",
    "            # there was no any prefix found which \n",
    "            # is equal to the suffix for index i\n",
    "            aux[i] = 0\n",
    "            i += 1\n",
    "\n",
    "    return aux"
   ]
  },
  {
   "cell_type": "code",
   "execution_count": null,
   "metadata": {},
   "outputs": [],
   "source": [
    "def createAux_v2(text):\n",
    "    \n",
    "    n = len(text)\n",
    "    prefix_func = [o for i in range(n)]\n",
    "    # we start from \n",
    "    go_through_index= 1\n",
    "    # prefix_count\n",
    "    prefix_count = 1\n",
    "    \n",
    "    while \n",
    "    \n",
    "    return prefix_func    "
   ]
  },
  {
   "cell_type": "code",
   "execution_count": 6,
   "metadata": {},
   "outputs": [
    {
     "name": "stdout",
     "output_type": "stream",
     "text": [
      "found pattern at 7\n"
     ]
    }
   ],
   "source": [
    "W = \"acabacacd\"\n",
    "T = \"acfacabacabacacdk\"\n",
    "\n",
    "# this method is from above code snippet.\n",
    "aux = createAux(W)\n",
    "\n",
    "# counter for word W\n",
    "i = 0\n",
    "# counter for text T\n",
    "j = 0\n",
    "while j < len(T):\n",
    "    # We need to handle 2 conditions when there is a mismatch\n",
    "    if W[i] != T[j]:\n",
    "        # 1st condition\n",
    "        if i == 0:\n",
    "            # starting again from the next character in the text T\n",
    "            j += 1\n",
    "        else:\n",
    "            # aux[i-1] will tell from where to compare next\n",
    "            # and no need to match for W[0..aux[i-1] - 1],\n",
    "            # they will match anyway, that’s what kmp is about.\n",
    "            i = aux[i-1]\n",
    "    else:\n",
    "        i += 1\n",
    "        j += 1\n",
    "        # we found the pattern\n",
    "        if i == len(W):\n",
    "            # printing the index\n",
    "            print(\"found pattern at \" + str(j - i))\n",
    "            # if we want to find more patterns, we can \n",
    "            # continue as if no match was found at this point.\n",
    "            i = aux[i-1]"
   ]
  },
  {
   "cell_type": "code",
   "execution_count": 11,
   "metadata": {},
   "outputs": [],
   "source": [
    "def prefixFunction(text):\n",
    "    n = len(text)\n",
    "    prefix_func = [0 for i in range(n)]\n",
    "\n",
    "    # YOUR CODE GOES HERE\n",
    "    for i in range(1, n):\n",
    "        x = prefix_func[i-1]\n",
    "        while x > 0 and text[i] != text[x]:\n",
    "            x = prefix_func[x-1]\n",
    "\n",
    "        if text[i] == text[x]:\n",
    "            prefix_func[i] = x + 1\n",
    "\n",
    "    return prefix_func"
   ]
  },
  {
   "cell_type": "code",
   "execution_count": 16,
   "metadata": {},
   "outputs": [
    {
     "data": {
      "text/plain": [
       "[7]"
      ]
     },
     "execution_count": 16,
     "metadata": {},
     "output_type": "execute_result"
    }
   ],
   "source": [
    "def kmp(text, pattern):\n",
    "    s = pattern+'#'+text\n",
    "    n = len(pattern)\n",
    "    \n",
    "    prefix = prefix_func(s)\n",
    "    for i in range(n+1, len(prefix)):\n",
    "        if prefix[i] == n:\n",
    "            return i - (n+1) - n + 1 # i - 2*n\n",
    "        \n",
    "def KMP(text, pattern):\n",
    "    n, m = len(text), len(pattern)\n",
    "    special_symbol = \"#\"\n",
    "    indices = []\n",
    "\n",
    "    # YOUR CODE GOES HERE\n",
    "    s = pattern+special_symbol+text\n",
    "    lens = len(s)\n",
    "    prefix = [0 for i in range(lens)]\n",
    "    \n",
    "    for i in range(1, lens):\n",
    "        x = prefix[i-1]\n",
    "        while x > 0 and s[i] != s[x]:\n",
    "            x = prefix[x-1]\n",
    "\n",
    "        if s[i] == s[x]:\n",
    "            prefix[i] = x + 1\n",
    "\n",
    "    for i in range(m+1, len(prefix)):\n",
    "        if prefix[i] == m:\n",
    "              indices.append(i - (m+1) - m + 1) # i - 2*m\n",
    "\n",
    "    return indices        \n",
    "\n",
    "W = \"acabacacd\"\n",
    "T = \"acfacabacabacacdk\"\n",
    "\n",
    "KMP(T, W)"
   ]
  }
 ],
 "metadata": {
  "kernelspec": {
   "display_name": "Python 3",
   "language": "python",
   "name": "python3"
  },
  "language_info": {
   "codemirror_mode": {
    "name": "ipython",
    "version": 3
   },
   "file_extension": ".py",
   "mimetype": "text/x-python",
   "name": "python",
   "nbconvert_exporter": "python",
   "pygments_lexer": "ipython3",
   "version": "3.6.9"
  }
 },
 "nbformat": 4,
 "nbformat_minor": 2
}
