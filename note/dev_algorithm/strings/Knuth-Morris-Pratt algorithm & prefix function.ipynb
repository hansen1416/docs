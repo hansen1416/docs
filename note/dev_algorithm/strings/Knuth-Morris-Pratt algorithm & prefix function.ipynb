{
 "cells": [
  {
   "cell_type": "markdown",
   "metadata": {},
   "source": [
    "In the worst case of naive seach substring。\n",
    "\n",
    "Imagine that the string S[] consists of 1 million characters that are all A, and that the word W[] is 999 A characters terminating in a final B character. The simple string-matching algorithm will now examine 1000 characters at each trial position before rejecting the match and advancing the trial position. The simple string search example would now take about 1000 character comparisons times 1 million positions for 1 billion character comparisons. If the length of W[] is k, then the worst-case performance is O(k⋅n).\n",
    "\n",
    "\n",
    "The KMP algorithm has a better worst-case performance than the straightforward algorithm. KMP spends a little time precomputing a table (on the order of the size of W[], O(k)), and then it uses that table to do an efficient search of the string in O(n).\n",
    "\n",
    "\n",
    "The difference is that KMP makes use of previous match information that the straightforward algorithm does not. In the example above, when KMP sees a trial match fail on the 1000th character (i = 999) because S[m+999] ≠ W[999], it will increment m by 1, but it will know that the first 998 characters at the new position already match. KMP matched 999 A characters before discovering a mismatch at the 1000th character (position 999). Advancing the trial match position m by one throws away the first A, so KMP knows there are 998 A characters that match W[] and does not retest them; that is, KMP sets i to 998. KMP maintains its knowledge in the precomputed table and two state variables. When KMP discovers a mismatch, the table determines how much KMP will increase (variable m) and where it will resume testing (variable i)."
   ]
  },
  {
   "cell_type": "markdown",
   "metadata": {},
   "source": [
    "`W` = \"ABCDABD\" and `S` = \"ABC ABCDAB ABCDABCDABDE\". At any given time, the algorithm is in a state determined by two integers.\n",
    "\n",
    "`m`, denoting the position within `S` where the prospective match for `W` begins,\n",
    "`i`, denoting the index of the currently considered character in `W`.\n",
    "\n",
    "In each step the algorithm compares `S[m+i]` with `W[i]` and increments `i` if they are equal\n",
    "```\n",
    "m: 01234567890123456789012\n",
    "S: ABC ABCDAB ABCDABCDABDE\n",
    "W: ABCDABD\n",
    "i: 0123456\n",
    "```\n",
    "we note that no 'A' occurs between positions 1 and 2 in S; hence, having checked all those characters previously (and knowing they matched the corresponding characters in W), there is no chance of finding the beginning of a match. Therefore, the algorithm sets m = 3 and i = 0.\n",
    "\n",
    "---\n",
    "\n",
    "Then it fail again at the initial character, so the algorithm sets m = 4 and i = 0\n",
    "\n",
    "--- \n",
    "```\n",
    "             1         2  \n",
    "m: 01234567890123456789012\n",
    "S: ABC ABCDAB ABCDABCDABDE\n",
    "W:     ABCDABD\n",
    "i:     0123456\n",
    "```\n",
    "Here, `i` increments through a nearly complete match \"ABCDAB\" until `i = 6` giving a mismatch at `W[6]` and `S[10]`.  \n",
    "However, there was that substring \"AB\" at `m=8` that could be the beginning of a new match   \n",
    "the algorithm sets m = 8 (the start of the initial prefix) and i = 2 (signaling the first two characters match) and continues matching   \n",
    "_Thus the algorithm not only omits previously matched characters of S (the \"AB\"), but also previously matched characters of W (the prefix \"AB\")._\n",
    "\n",
    "---\n",
    "\n",
    "then it fail, until `m = 11` and `i = 0`, and then set  `m = 15` and `i = 0`, and we have a complelete match."
   ]
  },
  {
   "cell_type": "markdown",
   "metadata": {},
   "source": [
    "pseudo code\n",
    "\n",
    "For the moment, we assume the existence of a \"partial match\" table `T`, which indicates where we need to look for the start of a new match in the event that the current one ends in a mismatch.  \n",
    "\n",
    "when comparing `S[m + i]` to `W[i]` failes, then the next possible match will start at index `m + i - T[i]` in `S` (that is, `T[i]` is the amount of \"backtracking\" we need to do after a mismatch).\n",
    "\n",
    "first, T[0] = -1, which indicates that if W[0] is a mismatch. we need not actually check any of the T[i] characters after that, so that we continue searching from W[T[i]].\n",
    "\n",
    "```\n",
    "algorithm kmp_search:\n",
    "    input:\n",
    "        an array of characters, S (the text to be searched)\n",
    "        an array of characters, W (the word sought)\n",
    "    output:\n",
    "        an array of integers, P (positions in S at which W is found)\n",
    "        an integer, nP (number of positions)\n",
    "\n",
    "    define variables:\n",
    "        an integer, j ← 0 (the position of the current character in S)\n",
    "        an integer, k ← 0 (the position of the current character in W)\n",
    "        an array of integers, T (the table, computed elsewhere)\n",
    "\n",
    "    let nP ← 0\n",
    "\n",
    "    while j < length(S) do\n",
    "        if W[k] = S[j] then\n",
    "            let j ← j + 1\n",
    "            let k ← k + 1\n",
    "            if k = length(W) then\n",
    "                (occurrence found, if only first occurrence is needed, m ← j - k  may be returned here)\n",
    "                let P[nP] ← j - k, nP ← nP + 1\n",
    "                let k ← T[k] (T[length(W)] can't be -1)\n",
    "        else\n",
    "            let k ← T[k]\n",
    "            if k < 0 then\n",
    "                let j ← j + 1\n",
    "                let k ← k + 1\n",
    "```"
   ]
  },
  {
   "cell_type": "markdown",
   "metadata": {},
   "source": [
    "prefix function (denoted $\\pi$ ) of the test string\n",
    "\n",
    "Given a pattern $p$ of length $m$, the function $\\pi$ maps $\\left \\{ 1, 2, \\ldots, m \\right \\} to \\left \\{ 0, 1, \\ldots, m-1 \\right \\}$ such that $\\pi(q)$ is the length of the longest prefix of $p$ that is a proper suffix of $p_q$\n",
    " \n",
    "$\\pi[q]=max\\{k: k<q \\;\\mbox{and}\\; p_k\\sqsupset p_q\\} $"
   ]
  },
  {
   "cell_type": "markdown",
   "metadata": {},
   "source": [
    "|    i   | 1 | 2 | 3 | 4 | 5 | 6 | 7 |\n",
    "|--------|---|---|---|---|---|---|---|\n",
    "|  P[i]  | a | b | a | b | a | c | a |\n",
    "|$\\pi[i]$| 0 | 0 | 1 | 2 | 3 | 0 | 1 |"
   ]
  },
  {
   "cell_type": "code",
   "execution_count": 3,
   "metadata": {},
   "outputs": [],
   "source": [
    "def prefix(p):\n",
    "    m=len(p)\n",
    "    pi=[0]*m\n",
    "    j=0 \n",
    "    for i in range(1,m):\n",
    "        while j>=0 and p[j]!=p[i]:\n",
    "            if j-1>=0:\n",
    "                j=pi[j-1]\n",
    "            else:\n",
    "                j=-1 \n",
    "        j+=1\n",
    "        pi[i]=j\n",
    "    return pi"
   ]
  },
  {
   "cell_type": "code",
   "execution_count": 4,
   "metadata": {},
   "outputs": [
    {
     "data": {
      "text/plain": [
       "[7]"
      ]
     },
     "execution_count": 4,
     "metadata": {},
     "output_type": "execute_result"
    }
   ],
   "source": [
    "def find_occurrences(S,p):\n",
    "    matches = []\n",
    "    f=prefix(p)\n",
    "    n,m=len(S),len(p)\n",
    "    j=0\n",
    "    for i in range(n):\n",
    "        while j>=0 and S[i]!=p[j]:\n",
    "            if j>0: \n",
    "                j=f[j-1]\n",
    "            else: \n",
    "                j=-1\n",
    "        j+=1  \n",
    "        if j==m:\n",
    "            j=f[m-1]\n",
    "            matches.append(i-m+1)\n",
    "    return matches\n",
    "\n",
    "\n",
    "W = \"acabacacd\"\n",
    "T = \"acfacabacabacacdk\"\n",
    "\n",
    "find_occurrences(T, W)"
   ]
  },
  {
   "cell_type": "code",
   "execution_count": 6,
   "metadata": {},
   "outputs": [
    {
     "name": "stdout",
     "output_type": "stream",
     "text": [
      "[0, 0, 1, 0, 1, 2, 3, 2, 0]\n"
     ]
    }
   ],
   "source": [
    "def createAux(W):\n",
    "    # initializing the array aux with 0's\n",
    "    aux = [0] * len(W)\n",
    "\n",
    "    # for index 0, it will always be 0\n",
    "    # so starting from index 1\n",
    "    i = 1\n",
    "    # m can also be viewed as index of first mismatch\n",
    "    m = 0\n",
    "    while i < len(W):\n",
    "        # prefix = suffix till m-1\n",
    "        if W[i] == W[m]:\n",
    "            m += 1\n",
    "            aux[i] = m\n",
    "            i += 1\n",
    "        # this one is a little tricky,\n",
    "        # when there is a mismatch,\n",
    "        # we will check the index of previous\n",
    "        # possible prefix.\n",
    "        elif W[i] != W[m] and m != 0:\n",
    "            # Note that we do not increment i here.\n",
    "            m = aux[m-1]\n",
    "        else:\n",
    "            # m = 0, we move to the next letter,\n",
    "            # there was no any prefix found which \n",
    "            # is equal to the suffix for index i\n",
    "            aux[i] = 0\n",
    "            i += 1\n",
    "\n",
    "    return aux\n",
    "\n",
    "W = \"acabacacd\"\n",
    "print(createAux(W))"
   ]
  },
  {
   "cell_type": "code",
   "execution_count": null,
   "metadata": {},
   "outputs": [],
   "source": [
    "def createAux_v2(text):\n",
    "    \n",
    "    n = len(text)\n",
    "    prefix_func = [o for i in range(n)]\n",
    "    # we start from \n",
    "    go_through_index= 1\n",
    "    # prefix_count\n",
    "    prefix_count = 1\n",
    "    \n",
    "    while \n",
    "    \n",
    "    return prefix_func    "
   ]
  },
  {
   "cell_type": "code",
   "execution_count": 6,
   "metadata": {},
   "outputs": [
    {
     "name": "stdout",
     "output_type": "stream",
     "text": [
      "found pattern at 7\n"
     ]
    }
   ],
   "source": [
    "W = \"acabacacd\"\n",
    "T = \"acfacabacabacacdk\"\n",
    "\n",
    "# this method is from above code snippet.\n",
    "aux = createAux(W)\n",
    "\n",
    "# counter for word W\n",
    "i = 0\n",
    "# counter for text T\n",
    "j = 0\n",
    "while j < len(T):\n",
    "    # We need to handle 2 conditions when there is a mismatch\n",
    "    if W[i] != T[j]:\n",
    "        # 1st condition\n",
    "        if i == 0:\n",
    "            # starting again from the next character in the text T\n",
    "            j += 1\n",
    "        else:\n",
    "            # aux[i-1] will tell from where to compare next\n",
    "            # and no need to match for W[0..aux[i-1] - 1],\n",
    "            # they will match anyway, that’s what kmp is about.\n",
    "            i = aux[i-1]\n",
    "    else:\n",
    "        i += 1\n",
    "        j += 1\n",
    "        # we found the pattern\n",
    "        if i == len(W):\n",
    "            # printing the index\n",
    "            print(\"found pattern at \" + str(j - i))\n",
    "            # if we want to find more patterns, we can \n",
    "            # continue as if no match was found at this point.\n",
    "            i = aux[i-1]"
   ]
  },
  {
   "cell_type": "code",
   "execution_count": 11,
   "metadata": {},
   "outputs": [],
   "source": [
    "def prefixFunction(text):\n",
    "    n = len(text)\n",
    "    prefix_func = [0 for i in range(n)]\n",
    "\n",
    "    # YOUR CODE GOES HERE\n",
    "    for i in range(1, n):\n",
    "        x = prefix_func[i-1]\n",
    "        while x > 0 and text[i] != text[x]:\n",
    "            x = prefix_func[x-1]\n",
    "\n",
    "        if text[i] == text[x]:\n",
    "            prefix_func[i] = x + 1\n",
    "\n",
    "    return prefix_func"
   ]
  },
  {
   "cell_type": "code",
   "execution_count": 16,
   "metadata": {},
   "outputs": [
    {
     "data": {
      "text/plain": [
       "[7]"
      ]
     },
     "execution_count": 16,
     "metadata": {},
     "output_type": "execute_result"
    }
   ],
   "source": [
    "def kmp(text, pattern):\n",
    "    s = pattern+'#'+text\n",
    "    n = len(pattern)\n",
    "    \n",
    "    prefix = prefix_func(s)\n",
    "    for i in range(n+1, len(prefix)):\n",
    "        if prefix[i] == n:\n",
    "            return i - (n+1) - n + 1 # i - 2*n\n",
    "        \n",
    "def KMP(text, pattern):\n",
    "    n, m = len(text), len(pattern)\n",
    "    special_symbol = \"#\"\n",
    "    indices = []\n",
    "\n",
    "    # YOUR CODE GOES HERE\n",
    "    s = pattern+special_symbol+text\n",
    "    lens = len(s)\n",
    "    prefix = [0 for i in range(lens)]\n",
    "    \n",
    "    for i in range(1, lens):\n",
    "        x = prefix[i-1]\n",
    "        while x > 0 and s[i] != s[x]:\n",
    "            x = prefix[x-1]\n",
    "\n",
    "        if s[i] == s[x]:\n",
    "            prefix[i] = x + 1\n",
    "\n",
    "    for i in range(m+1, len(prefix)):\n",
    "        if prefix[i] == m:\n",
    "              indices.append(i - (m+1) - m + 1) # i - 2*m\n",
    "\n",
    "    return indices        \n",
    "\n",
    "W = \"acabacacd\"\n",
    "T = \"acfacabacabacacdk\"\n",
    "\n",
    "KMP(T, W)"
   ]
  },
  {
   "cell_type": "markdown",
   "metadata": {},
   "source": [
    "__Application__\n",
    "\n",
    "You are given two strings, where the second string is the first string that has been cyclically shifted (or has it?). Example of a cyclic shift: abcde -> deabc. Output the minimum possible cycle shift to obtain the second string from the first, or -1 if it's not possible."
   ]
  },
  {
   "cell_type": "code",
   "execution_count": null,
   "metadata": {},
   "outputs": [],
   "source": [
    "def minCyclicShift(original_string, shifted_string):\n",
    "    min_shift = float(\"inf\")\n",
    "\n",
    "    # YOUR CODE GOES HERE\n",
    "    if original_string == shifted_string:\n",
    "        return 0\n",
    "\n",
    "    return min_shift\n",
    "\n",
    "original_string = 'abcde'\n",
    "shifted_string = 'deabc'\n",
    "# check that your code works correctly on provided example\n",
    "assert minCyclicShift(original_string, shifted_string) == 2, 'Wrong answer'"
   ]
  }
 ],
 "metadata": {
  "kernelspec": {
   "display_name": "Python 3",
   "language": "python",
   "name": "python3"
  },
  "language_info": {
   "codemirror_mode": {
    "name": "ipython",
    "version": 3
   },
   "file_extension": ".py",
   "mimetype": "text/x-python",
   "name": "python",
   "nbconvert_exporter": "python",
   "pygments_lexer": "ipython3",
   "version": "3.6.9"
  }
 },
 "nbformat": 4,
 "nbformat_minor": 2
}
