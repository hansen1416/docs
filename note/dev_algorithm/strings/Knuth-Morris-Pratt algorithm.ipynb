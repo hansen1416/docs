{
 "cells": [
  {
   "cell_type": "markdown",
   "metadata": {},
   "source": [
    "In the worst case of naive seach substring。\n",
    "\n",
    "Imagine that the string S[] consists of 1 million characters that are all A, and that the word W[] is 999 A characters terminating in a final B character. The simple string-matching algorithm will now examine 1000 characters at each trial position before rejecting the match and advancing the trial position. The simple string search example would now take about 1000 character comparisons times 1 million positions for 1 billion character comparisons. If the length of W[] is k, then the worst-case performance is O(k⋅n).\n",
    "\n",
    "\n",
    "The KMP algorithm has a better worst-case performance than the straightforward algorithm. KMP spends a little time precomputing a table (on the order of the size of W[], O(k)), and then it uses that table to do an efficient search of the string in O(n).\n",
    "\n",
    "\n",
    "The difference is that KMP makes use of previous match information that the straightforward algorithm does not. In the example above, when KMP sees a trial match fail on the 1000th character (i = 999) because S[m+999] ≠ W[999], it will increment m by 1, but it will know that the first 998 characters at the new position already match. KMP matched 999 A characters before discovering a mismatch at the 1000th character (position 999). Advancing the trial match position m by one throws away the first A, so KMP knows there are 998 A characters that match W[] and does not retest them; that is, KMP sets i to 998. KMP maintains its knowledge in the precomputed table and two state variables. When KMP discovers a mismatch, the table determines how much KMP will increase (variable m) and where it will resume testing (variable i)."
   ]
  },
  {
   "cell_type": "markdown",
   "metadata": {},
   "source": [
    "`W` = \"ABCDABD\" and `S` = \"ABC ABCDAB ABCDABCDABDE\". At any given time, the algorithm is in a state determined by two integers.\n",
    "\n",
    "`m`, denoting the position within `S` where the prospective match for `W` begins,\n",
    "`i`, denoting the index of the currently considered character in `W`.\n",
    "\n",
    "In each step the algorithm compares `S[m+i]` with `W[i]` and increments `i` if they are equal\n",
    "\n",
    "m: 01234567890123456789012\n",
    "S: ABC ABCDAB ABCDABCDABDE\n",
    "W: ABCDABD\n",
    "i: 0123456\n",
    "\n",
    "we note that no 'A' occurs between positions 1 and 2 in S; hence, having checked all those characters previously (and knowing they matched the corresponding characters in W), there is no chance of finding the beginning of a match. Therefore, the algorithm sets m = 3 and i = 0.\n",
    "\n",
    "---\n",
    "\n",
    "Then it fail again at the initial character, so the algorithm sets m = 4 and i = 0\n",
    "\n",
    "--- \n",
    "\n"
   ]
  }
 ],
 "metadata": {
  "kernelspec": {
   "display_name": "Python 3",
   "language": "python",
   "name": "python3"
  },
  "language_info": {
   "codemirror_mode": {
    "name": "ipython",
    "version": 3
   },
   "file_extension": ".py",
   "mimetype": "text/x-python",
   "name": "python",
   "nbconvert_exporter": "python",
   "pygments_lexer": "ipython3",
   "version": "3.6.9"
  }
 },
 "nbformat": 4,
 "nbformat_minor": 2
}
