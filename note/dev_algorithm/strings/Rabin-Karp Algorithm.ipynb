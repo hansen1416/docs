{
 "cells": [
  {
   "cell_type": "markdown",
   "metadata": {},
   "source": [
    "The Rabin-Karp algorithm is a string-searching algorithm that uses hashing to find patterns in strings. A string is an abstract data type that consists of a sequence of characters. Letters, words, sentences, and more can be represented as strings.\n",
    "\n",
    "A rolling hash allows an algorithm to calculate a hash value without having to rehash the entire string. For example, when searching for a word in a text, as the algorithm shifts one letter to the right (as in the animation for brute force), instead of having to calculate the hash of the section of text[1:3] as it shifts from text[0:2], the algorithm can use a rolling hash to do an operation on the hash to get the new hash from the old hash.\n",
    "\n",
    "i.e \"abc\" has hash $prime_a \\times prime_b \\times prime_c$, and for \"bcd\" we don't have to calculate $prime_b \\times prime_c \\times prime_d$. we can calculate $\\frac{prime_a, prime_b, prime_c}{prime_a} \\times prime_d$ instead"
   ]
  },
  {
   "cell_type": "markdown",
   "metadata": {},
   "source": [
    "The Rabin-Karp Rolling Hash\n",
    "\n",
    "$H = c_1a^{k-1} + c_2a^{k-2} + c_3a^{k-3} + \\cdots + c_ka^{0} \\;\\;\\; \\mbox{mod} \\;\\;m$\n",
    "\n",
    "$H = \\sum^{n}_{i=0} c_i p ^i \\;\\;\\; \\mbox{mod} \\;\\;m$\n",
    "\n",
    "a is a constant, $c_1 \\ldots c_k$ are the input characters, and $k$ is the number of characters there are in the string we are comparing (this is the length of the word). m is some large prime number\n",
    "\n",
    "_usually for lower case of English alphabets, $a = 31$, consider upper cases $a=51, m = 10^9 + 7$\n",
    "\n",
    "\n",
    "Patter = Hash(Pattern)\n",
    "Text = Hash(prefix)\n",
    "\n",
    "k = len(pattern)\n",
    "\n",
    "$(hash(T[0:i]) + p^{i+1}T_{i+1}) \\;\\;\\; mod\\;\\; m$\n",
    "\n",
    "When we iterate on `Text`\n",
    "\n",
    "We calculate\n",
    "\n",
    "$(m + hash(T[0:i+k]) - hash(T[0:i]))\\;\\;\\; mod\\;\\; m$\n",
    "\n",
    "which is actually $hash(T[i:i+k] \\cdot (p^i \\;\\;\\; mod\\;\\; m)$"
   ]
  },
  {
   "cell_type": "code",
   "execution_count": 16,
   "metadata": {},
   "outputs": [],
   "source": [
    "def rabin_karp(text, pattern):\n",
    "    n, m = len(text), len(pattern)\n",
    "    p, q = 31, 10**9+7\n",
    "    \n",
    "    p_pow = 1\n",
    "    for i in range(m-1):\n",
    "        p_pow = (p_pow * p) % q\n",
    "        \n",
    "    pattern_hash = 0\n",
    "    window_hash = 0\n",
    "    for i in range(m):\n",
    "        pattern_hash = (pattern_hash * p + ord(pattern[i]) - ord('a') + 1) % q\n",
    "        window_hash = (window_hash * p + ord(text[i]) - ord('a') + 1) % q\n",
    "        \n",
    "    indices = []\n",
    "        \n",
    "    for i in range(n - m + 1):\n",
    "        if pattern_hash == window_hash:\n",
    "            match = True\n",
    "            for j in range(m):\n",
    "                if pattern[j] != text[i+j]:\n",
    "                    match = False\n",
    "                    break\n",
    "            if match:\n",
    "                indices.append(i)\n",
    "                \n",
    "        if i < n - m:\n",
    "            window_hash = (window_hash - (ord(text[i]) - ord('a') + 1) * p_pow) % q\n",
    "            window_hash = (window_hash * p + (ord(text[i+m]) - ord('a') + 1)) % q\n",
    "            window_hash = (window_hash + q) % q\n",
    "            \n",
    "    return indices"
   ]
  },
  {
   "cell_type": "code",
   "execution_count": 17,
   "metadata": {},
   "outputs": [
    {
     "data": {
      "text/plain": [
       "[33, 58]"
      ]
     },
     "execution_count": 17,
     "metadata": {},
     "output_type": "execute_result"
    }
   ],
   "source": [
    "text = \"a;lsdjfladj kashd fhalsdhf alsd fabc as;ldfja ljsdfa lksdfabc lsjdfl;aksjdfj ahsdkj sf\"\n",
    "pattern = \"abc\"\n",
    "\n",
    "rabin_karp(text, pattern)"
   ]
  }
 ],
 "metadata": {
  "kernelspec": {
   "display_name": "Python 3",
   "language": "python",
   "name": "python3"
  },
  "language_info": {
   "codemirror_mode": {
    "name": "ipython",
    "version": 3
   },
   "file_extension": ".py",
   "mimetype": "text/x-python",
   "name": "python",
   "nbconvert_exporter": "python",
   "pygments_lexer": "ipython3",
   "version": "3.6.9"
  }
 },
 "nbformat": 4,
 "nbformat_minor": 2
}
