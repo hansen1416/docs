{
 "cells": [
  {
   "cell_type": "markdown",
   "metadata": {},
   "source": [
    "Trivial graph Invariants\n",
    "--\n",
    "\n",
    "- number of vertices\n",
    "- number of edges\n",
    "- acyclicity (is there any cyclic path in the graph)\n",
    "- the number of isolated vertices"
   ]
  },
  {
   "cell_type": "markdown",
   "metadata": {},
   "source": [
    "Vertex Degree\n",
    "---\n",
    "\n",
    "The degree of a vertex is the number of edges connected to it"
   ]
  },
  {
   "cell_type": "markdown",
   "metadata": {},
   "source": [
    "Sum of degrees\n",
    "---\n",
    "\n",
    "number of edges = ${\\large \\frac{sum\\;of\\;vertex\\;degrees}{2}}$"
   ]
  },
  {
   "cell_type": "markdown",
   "metadata": {},
   "source": [
    "Global clustering Coefficient\n",
    "--\n",
    "\n",
    "GCC = ${\\large \\frac{3 \\times (number\\;of\\;triangles)}{number\\;of\\;triplets}}$\n",
    "\n",
    "Thus, the GCC is the probability for a random triplet A,B,C in a graph to be closed, that is, B and C connected."
   ]
  },
  {
   "cell_type": "markdown",
   "metadata": {},
   "source": [
    "Local Clustering Coefficient\n",
    "--\n",
    "\n",
    "In the local clustering coefficient, we count only triplets with a given A as the central vertex.\n",
    "\n",
    "Suppose, the degree of A is k.\n",
    "\n",
    "The total number of triplets with A as the central is \n",
    "\n",
    "$ {\\large \\frac{k \\times (k-1)}{2} } $\n",
    "\n",
    "$ LCC(A) \\;is\\; the\\; ratio $\n",
    "\n",
    "$ {\\large \\frac{2 \\times (number\\; of\\; pairs\\; (B,C)\\; which\\; form\\; a\\; triangle\\; with\\; A)}{k \\times (k-1)}} $"
   ]
  },
  {
   "cell_type": "markdown",
   "metadata": {},
   "source": [
    "Distance, Diameter, Eccentricity\n",
    "--\n",
    "\n",
    "The distance between two vertices is the length of the shortest path connecting them.\n",
    "\n",
    "$ d(s, t) $\n",
    "\n",
    "If there is no path, then $ d(s,t) = \\infty $\n",
    "\n",
    "$ d(s,s) = 0 $\n",
    "\n",
    "__Triangle ineuqality__\n",
    "\n",
    "$ d(s, t) \\leq d(s, q) + d(q, t) $ for any vertices s, t, q\n",
    "\n",
    "\n",
    "The eccentricity of a given vertex is the maximal distance from its vertext to another one:\n",
    "\n",
    "$ {\\large ecc(u)\\;=\\; max_{v \\in V} d(u, v)} $\n",
    "\n",
    "Eccentricity measures how far a given vertex is from the \"central part\" of the graph.\n",
    "\n",
    "The diameter of a graph is the maximal distance possible in this graph:\n",
    "\n",
    "$ {\\large diam(\\mathcal{G})\\;=\\; max_{u,v \\in V} d(u, v) }$\n",
    "\n",
    "The diameter is the maximal eccentricity:\n",
    "\n",
    "$ {\\large diam(\\mathcal{G})\\;=\\;max_{u \\in V} ecc(u) } $\n",
    "\n",
    "The radius is the minimal eccentricity:\n",
    "\n",
    "$ {\\large r(\\mathcal{G})\\;=\\;min_{u \\in V} ecc(u) } $\n",
    "\n",
    "$ {\\large r(\\mathcal{G})\\;\\leq \\; diam(\\mathcal{G})\\;\\leq\\;2\\times r(\\mathcal{G})} $"
   ]
  }
 ],
 "metadata": {
  "kernelspec": {
   "display_name": "Python 3",
   "language": "python",
   "name": "python3"
  },
  "language_info": {
   "codemirror_mode": {
    "name": "ipython",
    "version": 3
   },
   "file_extension": ".py",
   "mimetype": "text/x-python",
   "name": "python",
   "nbconvert_exporter": "python",
   "pygments_lexer": "ipython3",
   "version": "3.6.9"
  }
 },
 "nbformat": 4,
 "nbformat_minor": 2
}
