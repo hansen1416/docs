{
 "cells": [
  {
   "cell_type": "markdown",
   "metadata": {},
   "source": [
    "If a graph has a cycle with an odd number of vertices, such graph can not be bipartite.\n",
    "\n",
    "\"A graph on 10 vertices has 3 isdolated vertices and 7 vertices of degree 2.\"\n",
    "\n",
    "If the 7 vertices of degree 2 is connected. We have a cycle of 7 vertices. it can not be bipartite.\n",
    "\n",
    "There are 4 vertices in an optimal vertex cover for this graph. Because the 3 isolated vertices are independent sets, and there are 4 vertices in an optimal vertex cover of the cycle of 7 vertices.\n",
    "\n",
    "If it's not connected, it must be two connectd components, one is a cycle of 3 vertices, another one is a cycle of 4 vertices. Again there is a cycle with odd number of vertices.\n",
    "It can not be bipartite.\n",
    "\n",
    "There are 4 vertices in an optimal vertex cover for this graph."
   ]
  }
 ],
 "metadata": {
  "kernelspec": {
   "display_name": "Python 3",
   "language": "python",
   "name": "python3"
  },
  "language_info": {
   "codemirror_mode": {
    "name": "ipython",
    "version": 3
   },
   "file_extension": ".py",
   "mimetype": "text/x-python",
   "name": "python",
   "nbconvert_exporter": "python",
   "pygments_lexer": "ipython3",
   "version": "3.6.8"
  }
 },
 "nbformat": 4,
 "nbformat_minor": 2
}
