{
 "cells": [
  {
   "cell_type": "markdown",
   "metadata": {},
   "source": [
    "Assume this graph is not connected, it has two connected components, \n",
    "\n",
    "each has $n_1$ vertices and $n_2$ vertices, $n_1+n_2=n$\n",
    "\n",
    "The edges $m$ in this graph, $ m \\leq n_1 \\times (n_1 - 1) / 2 + n_2 \\times (n_2 - 1)/2 $, \n",
    "\n",
    "becasue $ n (n-1) / 2 $ is the number of edges in a complete graph\n",
    "\n",
    "And the maximum value of $ n_1 \\times (n_1 - 1) / 2 + n_2 \\times (n_2 - 1)/2 $ is when \n",
    "$ n_1 = n-1 \\;and\\; n_2=1 $ or $ n_2=n-1 \\;and\\; n_1=1 $\n",
    "\n",
    "Then $ m \\leq (n-1)(n-2)/2 $\n",
    "\n",
    "If $ m = (n-1)(n-2)/2 $, That is a completed graph on $n-1$ vertices plus an isolated vertex. If $ m > (n-1)(n-2)/2 $, then the graph is guaranteed to be a connected graph.\n",
    "\n",
    "In this case $ (6-1)(6-2)/2 = 10 $ vertics. And $ 11 > 10 $, Thus, the graph must be connected."
   ]
  }
 ],
 "metadata": {
  "kernelspec": {
   "display_name": "Python 3",
   "language": "python",
   "name": "python3"
  },
  "language_info": {
   "codemirror_mode": {
    "name": "ipython",
    "version": 3
   },
   "file_extension": ".py",
   "mimetype": "text/x-python",
   "name": "python",
   "nbconvert_exporter": "python",
   "pygments_lexer": "ipython3",
   "version": "3.6.8"
  }
 },
 "nbformat": 4,
 "nbformat_minor": 2
}
