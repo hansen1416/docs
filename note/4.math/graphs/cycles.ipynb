{
 "cells": [
  {
   "cell_type": "markdown",
   "metadata": {},
   "source": [
    "A Euler path is a path in the graph which visits each edge exactly once.\n",
    "\n",
    "A Euler cycle is a Euler path which starts and ends at the same vertex\n",
    "\n",
    "An odd vertex is a vertex which has an odd number of edges adjacent to it."
   ]
  },
  {
   "cell_type": "markdown",
   "metadata": {},
   "source": [
    "If there is exists a Euler path, then the graph has at most two odd verices.\n",
    "\n",
    "If there exists a Euler cycle, then the graph has no odd vertices."
   ]
  },
  {
   "cell_type": "markdown",
   "metadata": {},
   "source": [
    "Supppose out graph has no odd vertices, Does this guarantee existence of a Euler cyccle? No, the graph can be disconnected."
   ]
  }
 ],
 "metadata": {
  "kernelspec": {
   "display_name": "Python 3",
   "language": "python",
   "name": "python3"
  },
  "language_info": {
   "codemirror_mode": {
    "name": "ipython",
    "version": 3
   },
   "file_extension": ".py",
   "mimetype": "text/x-python",
   "name": "python",
   "nbconvert_exporter": "python",
   "pygments_lexer": "ipython3",
   "version": "3.6.8"
  }
 },
 "nbformat": 4,
 "nbformat_minor": 2
}
