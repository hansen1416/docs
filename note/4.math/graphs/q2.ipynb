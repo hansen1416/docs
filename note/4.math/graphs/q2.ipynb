{
 "cells": [
  {
   "cell_type": "markdown",
   "metadata": {},
   "source": [
    "The probability of a concreted vertex $v_i$ is connected to all other verices is $\\frac{1}{2^{4-1}}$, that is, all edges going from $v_i$ should be drawn.\n",
    "Thus, the probability that this graph is connected is $\\frac{1}{8}$"
   ]
  }
 ],
 "metadata": {
  "kernelspec": {
   "display_name": "Python 3",
   "language": "python",
   "name": "python3"
  },
  "language_info": {
   "codemirror_mode": {
    "name": "ipython",
    "version": 3
   },
   "file_extension": ".py",
   "mimetype": "text/x-python",
   "name": "python",
   "nbconvert_exporter": "python",
   "pygments_lexer": "ipython3",
   "version": "3.6.8"
  }
 },
 "nbformat": 4,
 "nbformat_minor": 2
}
