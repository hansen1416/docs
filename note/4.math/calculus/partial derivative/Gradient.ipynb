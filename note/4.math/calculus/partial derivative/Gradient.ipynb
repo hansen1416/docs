{
 "cells": [
  {
   "cell_type": "markdown",
   "metadata": {},
   "source": [
    "There is no derivative in case of multi-variate functions, only partial derivatives. Instead we introduce the functions __gradient__, a vector of partial derivatives:\n",
    "\n",
    "$grad \\,f=\\nabla f = \\binom{f_x}{f_y}$\n",
    "\n",
    "Gradient is a __point-wise__ concept"
   ]
  },
  {
   "cell_type": "markdown",
   "metadata": {},
   "source": [
    "__Gradient and the point-slope formula__\n",
    "\n",
    "$ \\nabla F \\cdot (\\vec{x} - \\vec{x_0}) = 0 $ they are orthogonal\n",
    "\n",
    "$ \\begin{pmatrix}\n",
    "  f_x \\\\\n",
    "  f_y \\\\\n",
    "  f_z\n",
    " \\end{pmatrix}_{(x_0,y_0,z_0)} \\cdot (x-x_0,y-y_0,z-z_0) = 0 $\n",
    " \n",
    " Above is the function of tangent plane to $f$ at point $ (x_0, y_0, z_0) $"
   ]
  }
 ],
 "metadata": {
  "kernelspec": {
   "display_name": "Python 3",
   "language": "python",
   "name": "python3"
  },
  "language_info": {
   "codemirror_mode": {
    "name": "ipython",
    "version": 3
   },
   "file_extension": ".py",
   "mimetype": "text/x-python",
   "name": "python",
   "nbconvert_exporter": "python",
   "pygments_lexer": "ipython3",
   "version": "3.6.9"
  }
 },
 "nbformat": 4,
 "nbformat_minor": 2
}
