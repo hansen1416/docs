{
 "cells": [
  {
   "cell_type": "markdown",
   "metadata": {},
   "source": [
    "If a function is not differentiable at a point, then tangent olane is not a good approximation of the function."
   ]
  },
  {
   "cell_type": "markdown",
   "metadata": {},
   "source": [
    "__Scalar equation of the plane__\n",
    "\n",
    "$ a(x-x_0) + b(y-y_0) + c(z-z_0) = 0 $\n",
    "\n",
    "where $(x_0,y_0,z_0)$ is a point of the plane, and $a,b,c$ is an __orthogonal__ vector (to the plane = to every vector in the plane) "
   ]
  },
  {
   "cell_type": "markdown",
   "metadata": {},
   "source": [
    "Scalar product of two vetor is a mapping to real numbers\n",
    "\n",
    "$ (\\vec{a},\\vec{b}) = a_x b_x + a_y b_y + a_z b_z = |a|\\cdot|b|\\cdot cos \\gamma $\n",
    "\n",
    "$ \\vec{a} \\perp \\vec{b} \\implies cos \\gamma = 0 \\implies (\\vec{a},\\vec{b}) = 0 $"
   ]
  },
  {
   "cell_type": "markdown",
   "metadata": {},
   "source": [
    "We know the point - it is $(a,b,f(a,b))$. The orthogonal should be orthogonal to both direction vector of tangent lines:\n",
    "\n",
    "$(1,0,f^{\\prime}_x(a,b))$ and $(0,1,f^{\\prime}_y(a,b))$"
   ]
  },
  {
   "cell_type": "markdown",
   "metadata": {},
   "source": [
    "It is easy to guess the answer here:\n",
    "\n",
    "$ \\vec{n} = (f^{\\prime}_x(a,b),f^{\\prime}_y(a,b),-1) $"
   ]
  },
  {
   "cell_type": "markdown",
   "metadata": {},
   "source": [
    "$ f^{\\prime}_x(a,b)(x-a) + f^{\\prime}_y(a,b)(y-b) - (z-f(a,b)) = 0 $"
   ]
  },
  {
   "cell_type": "markdown",
   "metadata": {},
   "source": [
    "$z = f(a,b)+f^{\\prime}_x\\cdot(x-a)+f^{\\prime}_y\\cdot(y-b)$"
   ]
  },
  {
   "cell_type": "markdown",
   "metadata": {},
   "source": [
    "The graph of the function $z=f(x,y)$ is a surface in $\\mathbb{R^3}$\n",
    "\n",
    "start with a point $(x_0, y_0)$\n",
    "\n",
    "$C_1$ represents the trace to $f(x,y)$ for the plane $y=y_0$\n",
    "\n",
    "$C_2$ represents the trace to $f(x,y)$ for the plane $x=x_0$\n",
    "\n",
    "$L_1$ be the tangent line to the trace $C_1$\n",
    "\n",
    "$L_2$ be the tangent line to the trace $C_2$\n",
    "\n",
    "$f^{\\prime}_x(x_0,y_0)$ is the slope of $L_1$\n",
    "\n",
    "$f^{\\prime}_y(x_0,y_0)$ is the slope of $L_2$\n",
    "\n",
    "The tangent plane will then be the plane that contains the two lines  $L_1$ and $L_2$\n",
    "\n",
    "Since the tangent plane and the surface touch at $(x_0,y_0)$ the following point will be on both the surface and the plane.\n",
    "\n",
    "$(x_0,y_0,z_0)=(x_0,y_0,f(x_0,y_0))$\n",
    "\n",
    "The general equation of a plane is given by\n",
    "\n",
    "$ a(x-x_0) + b(y-y_0) + c(z-z_0) = 0 $\n",
    "\n",
    "$z-z_0=-\\frac{a}{c}(x-x_0)-\\frac{b}{c}(y-y_0)$\n",
    "\n",
    "$z-z_0=A(x-x_0)+B(y-y_0)\\;\\;\\;\\;A=-\\frac{a}{c},\\;B=-\\frac{b}{c}$\n",
    "\n",
    "if we hold y fixed, i.e. if we assume that $y = y_0$. In this case the equation of the tangent plane becomes,\n",
    " \n",
    "$z-z_0=A(x-x_0)+B(y-y_0)$\n",
    "\n",
    "This is the equation of a line and this line must be tangent to the surface at $(x_0,y_0)$ (since it’s part of the tangent plane), assuming that $y = y_0$. So it is $L_1$, and the slope $A= f^{\\prime}_x(x_0,y_0)$.\n",
    "\n",
    "It's easy to know $B= f^{\\prime}_y(x_0,y_0)$. also $z_0=f(x_0,y_0)$, we have\n",
    "\n",
    "$z-f(x_0,y_0)=f^{\\prime}_x(x_0,y_0)(x-x_0)+f^{\\prime}_y(x_0,y_0)(y-y_0)$\n",
    "\n",
    "$z=f(x_0,y_0)+f^{\\prime}_x(x_0,y_0)(x-x_0)+f^{\\prime}_y(x_0,y_0)(y-y_0)$"
   ]
  },
  {
   "cell_type": "markdown",
   "metadata": {},
   "source": [
    "One nice use of tangent planes is they give us a way to approximate a surface near a point. As long as we are near to the point $(x_0,y_0)$ then the tangent plane should nearly approximate the function at that point. Because of this we define the linear approximation to be,\n",
    "\n",
    "$ L(x,y)=f(x_0,y_0)+f^{\\prime}_x(x_0,y_0)(x-x_0)+f^{\\prime}_y(x_0,y_0)(y-y_0) $\n",
    "\n",
    "and as long as we are “near” $(x_0,y_0)$ then we should have that,\n",
    "\n",
    "$ f(x,y) \\approx L(x,y)=f(x_0,y_0)+f^{\\prime}_x(x_0,y_0)(x-x_0)+f^{\\prime}_y(x_0,y_0)(y-y_0) $"
   ]
  }
 ],
 "metadata": {
  "kernelspec": {
   "display_name": "Python 3",
   "language": "python",
   "name": "python3"
  },
  "language_info": {
   "codemirror_mode": {
    "name": "ipython",
    "version": 3
   },
   "file_extension": ".py",
   "mimetype": "text/x-python",
   "name": "python",
   "nbconvert_exporter": "python",
   "pygments_lexer": "ipython3",
   "version": "3.6.9"
  }
 },
 "nbformat": 4,
 "nbformat_minor": 2
}
