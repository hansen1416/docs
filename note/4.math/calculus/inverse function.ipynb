{
 "cells": [
  {
   "cell_type": "markdown",
   "metadata": {},
   "source": [
    "Let f be a real function which is defined on I⊆R.\n",
    "\n",
    "Let f be strictly monotone on I.\n",
    "\n",
    "Let the image of f be J.\n",
    "\n",
    "\n",
    "Then f always has an inverse function $f^{−1}$ and:\n",
    "\n",
    "if f is strictly increasing then so is $f^{−1}$  \n",
    "if f is strictly decreasing then so is $f^{−1}$.\n",
    "\n",
    "\n",
    "__Proof__\n",
    "\n",
    "The function f is a bijection from Strictly Monotone Real Function is Bijective.\n",
    "\n",
    "Hence from Bijection iff Inverse is Bijection, $f^{−1}$ always exists and is also a bijection.\n",
    "\n",
    "From the definition of strictly increasing:\n",
    "\n",
    "x<y⟺f(x)<f(y)\n",
    "Hence:\n",
    "\n",
    "f−1(x)<f−1(y)⟺f−1(f(x))<f−1(f(y))\n",
    "and so:\n",
    "\n",
    "f−1(x)<f−1(y)⟺x<y\n",
    "\n",
    "Similarly, from the definition of strictly decreasing:\n",
    "\n",
    "x<y⟺f(x)>f(y)\n",
    "Hence:\n",
    "\n",
    "f−1(x)<f−1(y)⟺f−1(f(x))>f−1(f(y))\n",
    "and so:\n",
    "\n",
    "f−1(x)<f−1(y)⟺x>y"
   ]
  }
 ],
 "metadata": {
  "kernelspec": {
   "display_name": "Python 3",
   "language": "python",
   "name": "python3"
  },
  "language_info": {
   "codemirror_mode": {
    "name": "ipython",
    "version": 3
   },
   "file_extension": ".py",
   "mimetype": "text/x-python",
   "name": "python",
   "nbconvert_exporter": "python",
   "pygments_lexer": "ipython3",
   "version": "3.6.9"
  }
 },
 "nbformat": 4,
 "nbformat_minor": 2
}
