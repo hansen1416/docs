{
 "cells": [
  {
   "cell_type": "markdown",
   "metadata": {},
   "source": [
    "$\\int f(x) dx \\implies x = x(t), dt=x^{\\prime}(t)dt \\implies \\int f(x(t)) x^{\\prime} dx$"
   ]
  },
  {
   "cell_type": "markdown",
   "metadata": {},
   "source": [
    "__example__\n",
    "\n",
    "$ \\int \\frac{x}{1+x^2} dx $"
   ]
  },
  {
   "cell_type": "markdown",
   "metadata": {},
   "source": [
    "$ y=x^2, dy=2x dx $\n",
    "\n",
    "$ \\int \\frac{x}{1+x^2} dx = \\int \\frac{dy}{2(1+y)} $"
   ]
  },
  {
   "cell_type": "markdown",
   "metadata": {},
   "source": [
    "$ y+1=t, dy=dt $\n",
    "\n",
    "$ \\int \\frac{dy}{2(1+y)} = \\frac{1}{2} \\int \\frac{d(y+1)}{1+y} = \\frac{1}{2} \\int \\frac{dt}{t} \n",
    "= \\frac{1}{2} \\ln |t| + C  = \\frac{1}{2} \\ln |x^2+1| + C  $"
   ]
  },
  {
   "cell_type": "markdown",
   "metadata": {},
   "source": [
    "$ (fg)^{\\prime} = f^{\\prime}g + fg^{\\prime} \\implies fg = \\int f^{\\prime}g dx + \\int fg^{\\prime} dx $\n",
    "\n",
    "$ \\int f^{\\prime}g dx = f\\cdot g - \\int fg^{\\prime} dx $\n",
    "\n",
    "when g is a comles function, but $g^{\\prime}$ is a simple function"
   ]
  },
  {
   "cell_type": "markdown",
   "metadata": {},
   "source": [
    "__example__\n",
    "\n",
    "$ \\int acrtan \\,x \\,dx $\n",
    "\n",
    "$ f = x,f^{\\prime}=1,g=arctan\\,x,g^{\\prime}=\\frac{1}{1+x^2} $"
   ]
  },
  {
   "cell_type": "markdown",
   "metadata": {},
   "source": [
    "$ \\int acrtan \\,x \\,dx = x\\cdot arctan\\,x - \\int \\frac{x}{1+x^2} dx $"
   ]
  }
 ],
 "metadata": {
  "kernelspec": {
   "display_name": "Python 3",
   "language": "python",
   "name": "python3"
  },
  "language_info": {
   "codemirror_mode": {
    "name": "ipython",
    "version": 3
   },
   "file_extension": ".py",
   "mimetype": "text/x-python",
   "name": "python",
   "nbconvert_exporter": "python",
   "pygments_lexer": "ipython3",
   "version": "3.6.9"
  }
 },
 "nbformat": 4,
 "nbformat_minor": 2
}
