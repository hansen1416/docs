{
 "cells": [
  {
   "cell_type": "markdown",
   "metadata": {},
   "source": [
    "- if f(x) is integrable over any finite segment, then the convegence of improper integral is equivalent to the existence of the limit of its antidervative F(x)as $ x \\to +\\infty $. True\n",
    "\n",
    "- it is possible that one can compute $ \\int_a^{+\\infty} f(x) dx $, but the integral does not converge. Flase"
   ]
  },
  {
   "cell_type": "markdown",
   "metadata": {},
   "source": [
    "$ \\int_a^{+\\infty} f(x) dx = \\lim\\limits_{b \\to +\\infty}\\int_a^b f(x) dx $\n",
    "\n",
    "is called the __improper integral__. if this limit exists, the integral __converges__. (otherwise, either in case of non-existence or $+\\infty$, it does not converge)"
   ]
  },
  {
   "cell_type": "markdown",
   "metadata": {},
   "source": [
    "if $ 0 < f(x) < g(x) $ and $ \\int_a^{+\\infty} g(x) dx $ converges, then $ \\int_a^{+\\infty} f(x) dx $ converges too"
   ]
  }
 ],
 "metadata": {
  "kernelspec": {
   "display_name": "Python 3",
   "language": "python",
   "name": "python3"
  },
  "language_info": {
   "codemirror_mode": {
    "name": "ipython",
    "version": 3
   },
   "file_extension": ".py",
   "mimetype": "text/x-python",
   "name": "python",
   "nbconvert_exporter": "python",
   "pygments_lexer": "ipython3",
   "version": "3.6.9"
  }
 },
 "nbformat": 4,
 "nbformat_minor": 2
}
