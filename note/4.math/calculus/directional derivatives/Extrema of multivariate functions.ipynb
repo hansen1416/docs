{
 "cells": [
  {
   "cell_type": "markdown",
   "metadata": {},
   "source": [
    "The point $\\vec{x}$ is called stationary if\n",
    "\n",
    "$ \\nabla f(\\vec{x}) = \\vec{0} $\n",
    "\n",
    "or in other words, every first partial derivative is 0"
   ]
  },
  {
   "cell_type": "markdown",
   "metadata": {},
   "source": [
    "Stationary is necessary condition of extremum for the differentiable function."
   ]
  },
  {
   "cell_type": "markdown",
   "metadata": {},
   "source": [
    "If the function is __convex__ at the stationary point, it's minimum\n",
    "\n",
    "If the function is __concave__ at the stationary point, it's maximum"
   ]
  },
  {
   "cell_type": "markdown",
   "metadata": {},
   "source": [
    "$d^2f=f^{\\prime\\prime}_{xx}dx^2+2f^{\\prime\\prime}_{xy}dxdy+f^{\\prime\\prime}_{yy}dy^2$\n",
    "\n",
    "$D = f^{\\prime\\prime}_{xx} \\cdot f^{\\prime\\prime}_{yy} - (f^{\\prime\\prime}_{xy})^2$\n",
    "\n",
    "If D > 0 and $f^{\\prime\\prime}_{xx} > 0$, then f(x,y) is __convex__\n",
    "\n",
    "If D > 0 and $f^{\\prime\\prime}_{xx} < 0$, then f(x,y) is __concave__\n",
    "\n",
    "The usually referred as the second differential being __positive (negative) semidefined__"
   ]
  },
  {
   "cell_type": "markdown",
   "metadata": {},
   "source": [
    "__example__\n",
    "\n",
    "$f(x,y) = x^4+y^4-x^2-2xy-y^2$\n",
    "\n",
    "$f^{\\prime}_x = 4x^3-2x-2y$\n",
    "\n",
    "$f^{\\prime}_y = 4y^3-2x-2y$\n",
    "\n",
    "$f^{\\prime\\prime}_{xx} = 12x^2-2$\n",
    "\n",
    "$f^{\\prime\\prime}_{xy} = -2$\n",
    "\n",
    "$f^{\\prime\\prime}_{yy} = 12y^2-2$"
   ]
  },
  {
   "cell_type": "markdown",
   "metadata": {},
   "source": [
    "first find stationary point\n",
    "\n",
    "$f^{\\prime}_x = 4x^3-2x-2y=0$\n",
    "\n",
    "$f^{\\prime}_y = 4y^3-2x-2y=0$\n",
    "\n",
    "thus\n",
    "\n",
    "$ x=y=0; x=y=1; x=y=-1 $"
   ]
  },
  {
   "cell_type": "markdown",
   "metadata": {},
   "source": [
    "(0,0)\n",
    "\n",
    "$D = f^{\\prime\\prime}_{xx} \\cdot f^{\\prime\\prime}_{yy} - (f^{\\prime\\prime}_{xy})^2 = 0 $"
   ]
  },
  {
   "cell_type": "markdown",
   "metadata": {},
   "source": [
    "(1,1)\n",
    "\n",
    "$D = f^{\\prime\\prime}_{xx} \\cdot f^{\\prime\\prime}_{yy} - (f^{\\prime\\prime}_{xy})^2 = 96 > 0; f^{\\prime\\prime}_{xx} > 0$"
   ]
  },
  {
   "cell_type": "markdown",
   "metadata": {},
   "source": [
    "(-1,-1)\n",
    "\n",
    "$D = f^{\\prime\\prime}_{xx} \\cdot f^{\\prime\\prime}_{yy} - (f^{\\prime\\prime}_{xy})^2 = 96 > 0; f^{\\prime\\prime}_{xx} > 0$"
   ]
  }
 ],
 "metadata": {
  "kernelspec": {
   "display_name": "Python 3",
   "language": "python",
   "name": "python3"
  },
  "language_info": {
   "codemirror_mode": {
    "name": "ipython",
    "version": 3
   },
   "file_extension": ".py",
   "mimetype": "text/x-python",
   "name": "python",
   "nbconvert_exporter": "python",
   "pygments_lexer": "ipython3",
   "version": "3.6.9"
  }
 },
 "nbformat": 4,
 "nbformat_minor": 2
}
