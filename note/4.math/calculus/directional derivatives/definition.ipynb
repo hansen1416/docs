{
 "cells": [
  {
   "cell_type": "markdown",
   "metadata": {},
   "source": [
    "As we remember, partial derivatives are actually derivatives of the function's __restrictions__ on certain lines, in other words, on certain __directions__\n",
    "\n",
    "The direction is defined as __normalized__ vector l, |l| = 1. In two dimensional case the direction is characterized by the angle with $0x$ axes:\n",
    "\n",
    "$ \\vec{l} = (l_x, l_y) = (cos\\gamma, sin\\gamma) $"
   ]
  },
  {
   "cell_type": "markdown",
   "metadata": {},
   "source": [
    "$ f(x,y) $, at point $(a,b)$, on direction $ \\vec{l} = (l_x, l_y) $\n",
    "\n",
    "${\\large \\frac{\\partial f}{\\partial l} = \\lim\\limits_{\\Delta l \\to 0}\\frac{\\Delta f}{\\Delta l}}$"
   ]
  },
  {
   "cell_type": "markdown",
   "metadata": {},
   "source": [
    "$ \\Delta f = f(a+tl_x, b+tl_y) - f(a,b) $\n",
    "\n",
    "$ \\Delta l = |(tl_x,tl_y)| = t $ (normalized)"
   ]
  },
  {
   "cell_type": "markdown",
   "metadata": {},
   "source": [
    "$ {\\large \\frac{\\partial f}{\\partial l} = \\lim\\limits_{t \\to 0}\\frac{f(a+tl_x, b+tl_y) - f(a,b)}{t}}$\n",
    "\n",
    "only if $|\\vec{l}| = 1$"
   ]
  },
  {
   "cell_type": "markdown",
   "metadata": {},
   "source": [
    "__example__\n",
    "\n",
    "$ \n",
    " f(x,y) =\n",
    "  \\begin{cases}\n",
    "    \\frac{x^2y}{x^4+y^2}, x^2+y^2 > 0\\\\\n",
    "    0, x= y = 0\n",
    "  \\end{cases} \n",
    "$"
   ]
  },
  {
   "cell_type": "markdown",
   "metadata": {},
   "source": [
    "$ l=(cos\\alpha, sin\\alpha), (a,b)=(0,0) $\n",
    "\n",
    "${\\large \\lim\\limits_{t \\to 0} \\frac{\\frac{t^2cos^2\\alpha\\cdot tsin\\alpha}{t^4cos^4\\alpha+t^2sin^2\\alpha} - 0}{t}  =  \\lim\\limits_{t \\to 0} \\frac{sin\\alpha cos^2\\alpha}{t^2 cos^4\\alpha+sin^2\\alpha} = \\frac{cos^2\\alpha}{sin\\alpha} }$"
   ]
  },
  {
   "cell_type": "markdown",
   "metadata": {},
   "source": [
    "gradient\n",
    "\n",
    "$ \\nabla f = grad f = (f^{\\prime}_x, f^{\\prime}_y) $\n",
    "\n",
    "scalar product of two vetor is a mapping to real number\n",
    "\n",
    "$ (\\vec{a}, \\vec{b}) = a_x b_x + a_y b_y $\n",
    "\n",
    "$ (\\vec{a}, \\vec{b}) = |a|\\cdot|b|\\cdot cos\\gamma $"
   ]
  },
  {
   "cell_type": "markdown",
   "metadata": {},
   "source": [
    "Assume function $f(x,y)$ is differentiable at point (a,b)\n",
    "\n",
    "$ f(x,y) - f(a,b) = f^{\\prime}_x(a,b)(x-a)+f^{\\prime}_y(a,b)(y-b)+\\bar{o}(\\rho) $\n",
    "\n",
    "$ x-a = \\Delta x = tl_x $\n",
    "\n",
    "$ y-b = \\Delta y = tl_y $\n",
    "\n",
    "$ \\rho = \\sqrt{\\Delta x^2+\\Delta y^2} = t \\sqrt{l^2_x + l^2_y} = t $"
   ]
  },
  {
   "cell_type": "markdown",
   "metadata": {},
   "source": [
    "${\\large \n",
    "\\frac{\\partial f}{\\partial l} = \\lim\\limits_{t \\to 0}\\frac{f(a+tl_x, b+tl_y) - f(a,b)}{t} =\n",
    "\\lim\\limits_{t \\to 0}\\frac{f^{\\prime}_x(a, b)tl_x + f^{\\prime}_y(a, b)tl_y + \\bar{o}(t)}{t} = f^{\\prime}_x(a, b)l_x + f^{\\prime}_y(a, b)l_y = (\\nabla f, \\vec{l})\n",
    "}$"
   ]
  },
  {
   "cell_type": "markdown",
   "metadata": {},
   "source": [
    "$ \\frac{\\partial f}{\\partial l} = (\\nabla f, \\vec{l}) = |\\nabla f| \\cdot |\\vec{l}| \\cdot cos \\gamma$"
   ]
  }
 ],
 "metadata": {
  "kernelspec": {
   "display_name": "Python 3",
   "language": "python",
   "name": "python3"
  },
  "language_info": {
   "codemirror_mode": {
    "name": "ipython",
    "version": 3
   },
   "file_extension": ".py",
   "mimetype": "text/x-python",
   "name": "python",
   "nbconvert_exporter": "python",
   "pygments_lexer": "ipython3",
   "version": "3.6.9"
  }
 },
 "nbformat": 4,
 "nbformat_minor": 2
}
