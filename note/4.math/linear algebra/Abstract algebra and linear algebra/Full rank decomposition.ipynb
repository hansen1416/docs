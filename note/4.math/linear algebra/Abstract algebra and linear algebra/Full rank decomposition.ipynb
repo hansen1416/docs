{
 "cells": [
  {
   "cell_type": "markdown",
   "metadata": {},
   "source": [
    "For an arbitrary matrix $A$ of the rank $r$ with $m$ rows and $n$ columns there exists two matrices $B$ (with $m$ rows and $r$ columns) and $C$ (with $r$ rows and $n$ columns) such that $A=BC$"
   ]
  },
  {
   "cell_type": "markdown",
   "metadata": {},
   "source": [
    "We could apply the Gaussian elimination process to matrix $A$ and obtain a reduced row echelon form $\\tilde{C}$. Then we could take matrix $C$ as $\\tilde{C}$ without zero rows. The matrix $C$ will have exactly $r$ rows, where $r=rank(A)$. As matrix $B$ could take the columns from the matrix A, corresponding to the leading coefficients in $\\tilde{C}$. It will have exactly $r$ columns.\n",
    "\n",
    "We select the basis of the span of the columns for the matrix $B$ and then $C$ is a matrix of the coefficients that we should take to reconstruct $A$. "
   ]
  },
  {
   "cell_type": "markdown",
   "metadata": {},
   "source": [
    "__Example__\n",
    "\n",
    "$\n",
    "A=\\begin{pmatrix}2 & 1& 1& 3\\\\ 1& 0& 1 &-1\\\\ 1& 1& 0& 4 \\end{pmatrix}\n",
    "=\\begin{pmatrix}1 & 0 & 1 & -1\\\\ 0 & 1 & -1 & 5\\\\ 0& 0& 0& 0 \\end{pmatrix}\n",
    "$\n",
    "\n",
    "$\n",
    "B=\\begin{pmatrix}2 & 1\\\\ 1& 0\\\\ 1& 1\\end{pmatrix}\n",
    "$ \n",
    "and\n",
    "$\n",
    "C=\\begin{pmatrix}1 & 0 & 1 & -1\\\\ 0 & 1 & -1 & 5 \\end{pmatrix}\n",
    "$\n",
    ",then\n",
    "$BC=A$"
   ]
  },
  {
   "cell_type": "markdown",
   "metadata": {},
   "source": [
    "Why does it work? There are 3 key steps:\n",
    "\n",
    "1. Gaussian elimination preserves linear dependence between matrix columns.\n",
    "\n",
    "What does it mean? For example, if for initial matrix A we had “third column = second column - first column”, then for the RREF (Reduced Row Echelon Form) of $A$ we have the same equality: “third column = second column - first column”. You can check it for $A$ and for $C$. This statement is obvious since we apply only row operations (so, relations between columns will be the same).\n",
    "\n",
    "2. RREF shows us linear dependencies (or relations) between the columns of initial matrix.\n",
    "\n",
    "Denote columns of $A$ abd $C$ by $a_1,a_2,a_3,a_4 (c_1,c_2,c_3,c_4)$ respectively. We see that $c_1$ and $c_2$ are pivot columns and $c_3=c_1-c_2,c_4=-c_1+5c_2$. Matrix $C$ is row echelon form of $A$, thus for matrix $A$ we have the same: $a_1,a_2$ are pivot and $a_3=a_1-a_2,a_4=-a_1+5a_2$.\n",
    "\n",
    "3. Multiply matrix $B$ by $C$ from the right = apply to $B$ some column operations encoded in $C$.\n",
    "\n",
    "Namely, i-th column of the product matrix is just a linear combination of columns of $B$ with coefficients written in the i-th column of $C$. Let $D := BC$ and it has columns $d_1,d_2,d_3,d_4$\n",
    "\n",
    "Thus, we have $d_4=-b_1+5b_2$, since the 4-th column of $C$ is (-1,5) and $d_3=b_1-b_2$. So, $D=A$\n",
    "\n",
    "So at the first step we found linear dependencies between the columns of $A$ (using RREF). It means that for each column of $A$ we know how to obtain it as a linear combination of pivot columns (these coefficients are written in $C$). So, we can write it in a short form: we multiply matrix of pivot columns $B$ by a matrix of coefficients $C$."
   ]
  }
 ],
 "metadata": {
  "kernelspec": {
   "display_name": "Python 3",
   "language": "python",
   "name": "python3"
  },
  "language_info": {
   "codemirror_mode": {
    "name": "ipython",
    "version": 3
   },
   "file_extension": ".py",
   "mimetype": "text/x-python",
   "name": "python",
   "nbconvert_exporter": "python",
   "pygments_lexer": "ipython3",
   "version": "3.6.9"
  }
 },
 "nbformat": 4,
 "nbformat_minor": 2
}
