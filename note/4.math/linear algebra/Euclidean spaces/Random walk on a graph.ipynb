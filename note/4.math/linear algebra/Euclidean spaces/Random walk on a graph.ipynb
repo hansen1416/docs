{
 "cells": [
  {
   "cell_type": "markdown",
   "metadata": {},
   "source": [
    "__Matrix diagonalization__\n",
    "\n",
    "The matrix of linear operator $A$ is diagnoal in given bais $\\iff$ all vectors of this basis are eigenvectors for $A$\n",
    "\n",
    "A matrix is diagonalizable $\\iff$ for all eigenvalues their algebraic and geometric multiplicities conincide\n",
    "\n",
    "__Example__\n",
    "\n",
    "Matrix $A = \\begin{pmatrix} 5 & -8 & 1 \\\\ 0 & 0 & 7 \\\\ 0 & 0 & -2 \\end{pmatrix}$ has three eigenvalues:\n",
    "\n",
    "$\\lambda_1=-2, \\lambda_2=0, \\lambda_3=5$\n",
    "\n",
    "Transition matrix consists of eigenvectors:\n",
    "\n",
    "$T=\\begin{pmatrix} 8 & -\\frac{29}{7} & 1 \\\\ 5 & -\\frac{7}{2} & 0 \\\\ 0 & 1 & 0 \\end{pmatrix}$\n",
    "\n",
    "$D=T^{-1}AT = \\begin{pmatrix} 0 & 0 & 0 \\\\ 0 & -2 & 0 \\\\ 0 & 0 & 5 \\end{pmatrix}$ i.e. a diagonal matrix in the basis of eigenvectors."
   ]
  },
  {
   "cell_type": "markdown",
   "metadata": {},
   "source": [
    "If $A = TDT^{-1}$ then \n",
    "\n",
    "$A^n = TDT^{-1}TDT^{-1}\\dots TDT^{-1} = TD^{n}T^{-1}$. And if $D$ is diagonal matrix, then $D^{n}$ is also diagonal (with powers on the disgonal)\n",
    "\n",
    "__Example__\n",
    "\n",
    "$A^{n} = \\begin{pmatrix} 5 & -8 & 1 \\\\ 0 & 0 & 7 \\\\ 0 & 0 & -2 \\end{pmatrix}^{n} =$\n",
    "\n",
    "$\\begin{pmatrix} 8 & -\\frac{29}{7} & 1 \\\\ 5 & -\\frac{7}{2} & 0 \\\\ 0 & 1 & 0 \\end{pmatrix}\n",
    "\\begin{pmatrix} 0 & 0 & 0 \\\\ 0 & -2 & 0 \\\\ 0 & 0 & 5 \\end{pmatrix}\n",
    "\\begin{pmatrix} 8 & -\\frac{29}{7} & 1 \\\\ 5 & -\\frac{7}{2} & 0 \\\\ 0 & 1 & 0 \\end{pmatrix}^{-1}=\n",
    "$\n",
    "\n",
    "$\\begin{pmatrix} 8 & -\\frac{29}{7} & 1 \\\\ 5 & -\\frac{7}{2} & 0 \\\\ 0 & 1 & 0 \\end{pmatrix}\n",
    "\\begin{pmatrix} 0 & 0 & 0 \\\\ 0 & (-2)^{n} & 0 \\\\ 0 & 0 & 5^{n} \\end{pmatrix}\n",
    "\\begin{pmatrix} 8 & -\\frac{29}{7} & 1 \\\\ 5 & -\\frac{7}{2} & 0 \\\\ 0 & 1 & 0 \\end{pmatrix}^{-1}$"
   ]
  },
  {
   "cell_type": "markdown",
   "metadata": {},
   "source": [
    "__Random walk on a graph__\n",
    "\n",
    "A matrix $P$ is called __Markov transition matrix__ if the sum of entries of any column of $P$ is equal to one and all entries are nonnegative\n",
    "\n",
    "The probabilities after $k$ steps can be summarized in the matrix $P^k$, because the formula for conditional probability coincides with the formula for matrix multiplication\n",
    "\n",
    "__Theorem__\n",
    "\n",
    "Let us consider a Markov transition matrix $P$. Then \n",
    "\n",
    "1. $\\lambda=1$ is an eigenvalue of $P$\n",
    "2. Any eigenvalue $\\lambda$ of $P$ satisfies $|\\lambda| \\leq 1$\n",
    "3. There exists an eigenvector $g$ of the eigenvalue 1, all the coordinates of which are greater than or equal to zero"
   ]
  },
  {
   "cell_type": "markdown",
   "metadata": {},
   "source": [
    "__PageRank algorithm__\n",
    "\n",
    "If an eigenvalue 1 has algebraic multiplicity 1, and all other eigenvalues of P have an absolute value less than 1, then $P^{k}X \\to g$. Here $X$ is an arbitrary vector and $g$ is an eigenvector for 1, i.e. $Pg=g$. In other words $g$ is a stationary state of $P$. The idea of PageRank is to use this vector to range web pages. Namely the site is more important if it has bigger component (probability) in $g$\n",
    "\n",
    "A Markov transition matrix is called __regular__ if:\n",
    "\n",
    "1. The eignenvalue 1 has an algebraic multiplicity equal to 1\n",
    "\n",
    "2. All other eigenvalues $\\lambda$ of $P$ have an absolute value less than 1\n",
    "\n",
    "We consider the $n \\times n$ matrix $Q$, with all entries equal to $\\frac{1}{n}$. We replace the matrix $P$ of the internet by the matrix\n",
    "\n",
    "$P_{\\alpha} = (1-\\alpha)P+\\alpha Q$\n",
    "\n",
    "for some small $\\alpha \\in [0,1]$. The value $\\alpha=0.15$ was used by Google. The matrix $P_{\\alpha}$ still has nonnegative entries and the sum of the entries of each column is still equal to one, so it is still a Markov transition matrix\n",
    "\n",
    "__Theorem__\n",
    "\n",
    "For any Markov transition matrix $P$, there always exists a positive $\\alpha$ such that the matrix $P_{\\alpha}$ is regular. Let $g$ be the eigenvector for eigenvalue 1 for the matrix $P_{\\alpha^{\\prime}}$ normalized so that the sum of its coordinates equals 1. For the matrix $P_{\\alpha}$ and any nonzero vector $X$, where $X^{T} = (p_1,\\dots,p_{n})$ with $p_i \\in [0, 1]$ and $\\sum^{n}_{i=1}p_i = 1$ we have\n",
    "\n",
    "$\\lim_{k \\to \\infty}(P_{\\alpha})^kX=g$"
   ]
  }
 ],
 "metadata": {
  "kernelspec": {
   "display_name": "Python 3",
   "language": "python",
   "name": "python3"
  },
  "language_info": {
   "codemirror_mode": {
    "name": "ipython",
    "version": 3
   },
   "file_extension": ".py",
   "mimetype": "text/x-python",
   "name": "python",
   "nbconvert_exporter": "python",
   "pygments_lexer": "ipython3",
   "version": "3.6.9"
  }
 },
 "nbformat": 4,
 "nbformat_minor": 2
}
