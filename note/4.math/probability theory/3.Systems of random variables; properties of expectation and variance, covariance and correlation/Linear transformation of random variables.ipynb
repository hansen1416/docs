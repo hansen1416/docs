{
 "cells": [
  {
   "cell_type": "markdown",
   "metadata": {},
   "source": [
    "$\\Omega$ set of outcomes\n",
    "\n",
    "$P(\\omega) probability of outcomes \\omega in \\Omega$\n",
    "\n",
    "$X : \\Omega \\in \\mathbb{R}, Y : \\Omega \\in \\mathbb{R}$\n",
    "\n",
    "$(X, Y) \\to$ system of random variables, These two variables can interact with each other. It means, for example, that if we know something about X, we can say something about Y, and vice versa."
   ]
  },
  {
   "cell_type": "markdown",
   "metadata": {},
   "source": [
    "Transformation of random variables\n",
    "\n",
    "Let $X$ be random variable\n",
    "\n",
    "c is constant\n",
    "\n",
    "$Y=X+c$\n",
    "\n",
    "shift probability mass function to right (c > 0), or to left (c < 0)\n",
    "\n",
    "$Z=c \\cdot X$"
   ]
  },
  {
   "cell_type": "markdown",
   "metadata": {},
   "source": [
    "__PMF of linear transformations__\n",
    "\n",
    "__example__\n",
    "\n",
    "Discrete random variable X has PMF with the following graph:\n",
    "\n",
    "|   | 0.3 | 0.4 | 0.1 | 0.2 |\n",
    "|---|-----|-----|-----|-----|\n",
    "| X | -3  |  2  |  3  |  4  |\n",
    "| Z | -5  |  5  |  7  |  9  |\n",
    "| Q | -2.5|  0  | 0.5 |  1  |\n",
    "| W | -2  | 0.5 |  1  | 1.5 |\n",
    "| Y | -6  |  4  |  6  |  8  |\n",
    "\n",
    "Z = 2X+1\n",
    "Q = X/2-1\n",
    "W = (X-1)/2\n",
    "Y = 2X\n",
    "\n",
    "Y,Z,Q,W"
   ]
  },
  {
   "cell_type": "markdown",
   "metadata": {},
   "source": [
    "__linearity of expected value__\n",
    "\n",
    "Expected value\n",
    "\n",
    "$\\mathbb{E}X=\\sum^{n}_{i=1}p_ix_i$\n",
    "\n",
    "1. $\\mathbb{E}(X+c)=\\sum^{n}_{i=1}(x_i+c)p_i\n",
    "=\\sum^{n}_{i=1}(x_ip_i+cp_i)\n",
    "=\\sum^{n}_{i=1}x_ip_i+\\sum^{n}_{i=1}cp_i\n",
    "=\\mathbb{E}X+c\\sum^{n}_{i=1}p_i=\\mathbb{E}X+c$\n",
    "\n",
    "2. $\\mathbb{E}(cX)=\\sum^{n}_{i=1}cx_ip_i=c\\sum^{n}_{i=1}x_ip_i=c\\mathbb{E}(X)$"
   ]
  }
 ],
 "metadata": {
  "kernelspec": {
   "display_name": "Python 3",
   "language": "python",
   "name": "python3"
  },
  "language_info": {
   "codemirror_mode": {
    "name": "ipython",
    "version": 3
   },
   "file_extension": ".py",
   "mimetype": "text/x-python",
   "name": "python",
   "nbconvert_exporter": "python",
   "pygments_lexer": "ipython3",
   "version": "3.6.9"
  }
 },
 "nbformat": 4,
 "nbformat_minor": 2
}
