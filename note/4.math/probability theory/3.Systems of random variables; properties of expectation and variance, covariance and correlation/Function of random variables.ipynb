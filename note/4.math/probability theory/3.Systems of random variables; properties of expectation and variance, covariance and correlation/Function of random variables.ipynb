{
 "cells": [
  {
   "cell_type": "markdown",
   "metadata": {},
   "source": [
    "$X: \\Omega \\to \\mathbb{R}$\n",
    "\n",
    "$f: \\mathbb{R} \\to \\mathbb{R}$\n",
    "\n",
    "$Z=f(X)$\n",
    "\n",
    "| P | $p_1$ | $p_2$ | $\\dotsm$ | $p_n$ |\n",
    "|---|-----|-----|----------|-----|\n",
    "| X | $x_1$ | $p_2$ | $\\dotsm$ | $p_n$ |\n",
    "| Z | $f(x_1)$ | $f(x_2)$ | $\\dotsm$ | $f(x_n)$ |\n",
    "\n",
    "$Z=f \\circ X$\n",
    "\n",
    "$Z(\\omega)=f(x(\\omega))$\n",
    "\n",
    "$\\mathbb{E}Z=\\mathbb{E}f(X) = \\sum^{n}_{i=1}f(x_i)\\cdot p_i$"
   ]
  }
 ],
 "metadata": {
  "kernelspec": {
   "display_name": "Python 3",
   "language": "python",
   "name": "python3"
  },
  "language_info": {
   "codemirror_mode": {
    "name": "ipython",
    "version": 3
   },
   "file_extension": ".py",
   "mimetype": "text/x-python",
   "name": "python",
   "nbconvert_exporter": "python",
   "pygments_lexer": "ipython3",
   "version": "3.6.9"
  }
 },
 "nbformat": 4,
 "nbformat_minor": 2
}
