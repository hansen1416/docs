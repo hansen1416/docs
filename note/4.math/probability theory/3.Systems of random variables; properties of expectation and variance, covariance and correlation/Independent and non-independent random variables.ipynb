{
 "cells": [
  {
   "cell_type": "markdown",
   "metadata": {},
   "source": [
    "exp: two tossing of fair coin\n",
    "\n",
    "$X=\n",
    "\\begin{cases}\n",
    "1 \\;if\\;first\\;tossing\\;gives\\;head \\\\\n",
    "0 \\; otherwise\n",
    "\\end{cases}$\n",
    "\n",
    "X = [first tossing gives head]  \n",
    "Y = 1-X  \n",
    "Z = [second tossing gives head]  \n",
    "\n",
    "\n",
    "| YX | 0 |  1  |\n",
    "|----|---|-----|\n",
    "| 0  | 0 | 1/2 |\n",
    "| 1  | 1/2 | 0 |\n",
    "\n",
    "\n",
    "| ZX |  0  |  1  |\n",
    "|----|-----|-----|\n",
    "| 0  | 1/4 | 1/4 |\n",
    "| 1  | 1/4 | 1/4 |\n",
    "\n",
    "\n",
    "X supp X = {$x_1,...,x_m$}  \n",
    "Y supp Y = {$y_1,...,y_n$}"
   ]
  },
  {
   "cell_type": "markdown",
   "metadata": {},
   "source": [
    "__Independent variables__\n",
    "\n",
    "$P(Y=y_i | X=x_i) = P(Y=y_i)$ for all $i=1,\\dots,m;j=1,\\dots,n$\n",
    "\n",
    "$\\implies$ X and Y are independent.\n",
    "\n",
    "Alternative, $P(Y=y_i \\cap X=x_i) = P(X=x_i) \\cdot P(Y=y_i)$ should be true for all $i=1,\\dots,m;j=1,\\dots,n$ if X and Y are independent variables."
   ]
  },
  {
   "cell_type": "markdown",
   "metadata": {},
   "source": [
    "__non-indenpendent variables__\n",
    "\n",
    "Random: Three coin tossings of fair coin\n",
    "\n",
    "X = # of heads for first and second tossings\n",
    "\n",
    "Y = # of heads for second and third tossings\n",
    "\n",
    "\n",
    "$P(X=0 \\cap Y=0)=P(TTT)= 1/8$\n",
    "\n",
    "$P(X=1 \\cap Y=0)=P(HTT)= 1/8$\n",
    "\n",
    "$P(X=1 \\cap Y=1)=P(\\{HTT,THT\\})= 1/4$\n",
    "\n",
    "\n",
    "| YX | 0   |  1  |  2  |\n",
    "|----|-----|-----|-----|\n",
    "| 0  | 1/8 | 1/8 |  0  | 1/4 |\n",
    "| 1  | 1/8 | 1/4 | 1/8 | 1/2 |\n",
    "| 2  |  0  | 1/8 | 1/8 | 1/4 |\n",
    "|    | 1/4 | 1/2 | 1/4 |\n",
    "\n",
    "$P(X=0 \\cap Y=0) \\neq P(X=0) \\cdot P(Y=0) \\implies$ X and Y are not independent.\n",
    "\n",
    "if we know that X equals to 0, it doesn't give us precise information about the value of Y. We see that if X equals to 0, then Y cannot take value 2, but it can take values 0 and 1 with equal probabilities. It is different from the distribution of Y, but it doesn't give us exact value of Y. \n",
    "\n",
    "So this is an example of a situation when two variables are not independent, but they are not in deterministic dependence between each other. The dependence between them is a kind of probabilistic. It gives us some information about probabilities of Y depending on the value of X or vice versa."
   ]
  },
  {
   "cell_type": "markdown",
   "metadata": {},
   "source": [
    "__example__\n",
    "\n",
    "Two discrete random variables are independent if and only if the rows of their joint PMF are pairwise collinear as vectors (values in one row are multiples of corresponding values in another row with the same factor, which only depends on the chosen pair). Is that true?\n",
    "\n",
    "_True_"
   ]
  },
  {
   "cell_type": "markdown",
   "metadata": {},
   "source": [
    "__example__\n",
    "\n",
    "A fair dice rolls. Let X be the number on the dice and Y be 0 for even X and 1 for odd. Find the joint PMF of X and Y:\n",
    "\n",
    "|     | X=1 | X=2 | X=3 | X=4 | X=5 | X=6 |\n",
    "|-----|-----|-----|-----|-----|-----|-----|\n",
    "| Y=0 |  0  | 1/6 |  0  | 1/6 |  0  | 1/6 |\n",
    "| Y=1 | 1/6 |  0  | 1/6 |  0  | 1/6 |  0  |"
   ]
  }
 ],
 "metadata": {
  "kernelspec": {
   "display_name": "Python 3",
   "language": "python",
   "name": "python3"
  },
  "language_info": {
   "codemirror_mode": {
    "name": "ipython",
    "version": 3
   },
   "file_extension": ".py",
   "mimetype": "text/x-python",
   "name": "python",
   "nbconvert_exporter": "python",
   "pygments_lexer": "ipython3",
   "version": "3.6.9"
  }
 },
 "nbformat": 4,
 "nbformat_minor": 2
}
