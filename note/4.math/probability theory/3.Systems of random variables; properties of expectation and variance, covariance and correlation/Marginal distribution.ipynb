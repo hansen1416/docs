{
 "cells": [
  {
   "cell_type": "markdown",
   "metadata": {},
   "source": [
    "exp: two tossing of fair coin\n",
    "\n",
    "$X=\n",
    "\\begin{cases}\n",
    "1 \\;if\\;first\\;tossing\\;gives\\;head \\\\\n",
    "0 \\; otherwise\n",
    "\\end{cases}$\n",
    "\n",
    "X = [first tossing gives head]  \n",
    "Y = 1-X  \n",
    "Z = [second tossing gives head]  \n",
    "\n",
    "\n",
    "| YX | 0 |  1  |\n",
    "|----|---|-----|\n",
    "| 0  | 0 | 1/2 |\n",
    "| 1  | 1/2 | 0 |\n",
    "\n",
    "\n",
    "| ZX |  0  |  1  |\n",
    "|----|-----|-----|\n",
    "| 0  | 1/4 | 1/4 |\n",
    "| 1  | 1/4 | 1/4 |\n",
    "\n",
    "\n",
    "X supp X = {$x_1,...,x_m$}  \n",
    "Y supp Y = {$y_1,...,y_n$}\n",
    "\n",
    "$P_{ij}=P(X=x_1 \\cap Y=y_j);i=1,\\dots,m;j=1,\\dots,n$\n",
    "\n",
    "$P(X=x_i)=P_{i1}+\\dots+P_{in}=\\sum^{n}_{j=1}P_{ij}$\n",
    "\n",
    "_Proof_ \n",
    "\n",
    "$P(X=x_i)=P((X=x_i\\cap Y=y_1)\\cup \\dots \\cup(X=x_i\\cap Y=y_n))\n",
    "=P(X=x_i\\cap Y=y_1)+\\dots+P(X=x_i\\cap Y=y_n)\n",
    "=P_{i1}+\\dots+P_{in}\n",
    "=\\sum^{n}_{j=1}P_{ij}\n",
    "$"
   ]
  },
  {
   "cell_type": "markdown",
   "metadata": {},
   "source": [
    "__example__\n",
    "\n",
    "| YX | 0 |  1  |\n",
    "|----|---|-----|\n",
    "| 0  | 0 | 1/2 | 1/2 |\n",
    "| 1  | 1/2 | 0 | 1/2 |\n",
    "|    | 1/2 | 1/2 |\n",
    "\n",
    "| ZX |  0  |  1  |\n",
    "|----|-----|-----|\n",
    "| 0  | 1/4 | 1/4 | 1/2 |\n",
    "| 1  | 1/4 | 1/4 | 1/2 |\n",
    "|    | 1/2 | 1/2 |\n",
    "\n",
    "if you know marginal distribution, you cannot extract joint distribution of two variables, because you don't know how they interact with each other.  \n",
    "However, if you know that two variables are independent of each other. Meaning that if you know something about the value of one variable, you don't know anything new about the value of other variable. Then you can extract joint distribution just by looking at these marginal distributions."
   ]
  },
  {
   "cell_type": "markdown",
   "metadata": {},
   "source": [
    "__example__\n",
    "\n",
    "3\\. Consider 2 random variables X and Y with joint distribution given by the table:\n",
    "\n",
    "|     | Y=0 | Y=1 | Y=2 |\n",
    "|-----|-----|-----|-----|\n",
    "| X=0 | 1/4 | 1/6 | 1/12|\n",
    "| X=1 | 1/16| 1/8 | 5/16|\n",
    "\n",
    "What is the marginal PMF of Y?\n",
    "\n",
    "|     | Y=0 | Y=1 | Y=2 |\n",
    "|-----|-----|-----|-----|\n",
    "|  P  | 5/16| 7/24|19/48|"
   ]
  }
 ],
 "metadata": {
  "kernelspec": {
   "display_name": "Python 3",
   "language": "python",
   "name": "python3"
  },
  "language_info": {
   "codemirror_mode": {
    "name": "ipython",
    "version": 3
   },
   "file_extension": ".py",
   "mimetype": "text/x-python",
   "name": "python",
   "nbconvert_exporter": "python",
   "pygments_lexer": "ipython3",
   "version": "3.6.9"
  }
 },
 "nbformat": 4,
 "nbformat_minor": 2
}
