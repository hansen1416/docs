{
 "cells": [
  {
   "cell_type": "markdown",
   "metadata": {},
   "source": [
    "__Covariance__\n",
    "\n",
    "$ Var(X+Y) = \\mathbb{E}(X+Y-\\mathbb{E}(X+Y))^2 \n",
    "=\\mathbb{E}((X-\\mathbb{E}(X))+(Y-\\mathbb{E}(Y)))^2$\n",
    "\n",
    "$=\\mathbb{E}(X-\\mathbb{E}(X))^2+2\\mathbb{E}((X-\\mathbb{E}(X))(Y-\\mathbb{E}(Y)))+\\mathbb{E}(Y-\\mathbb{E}(Y))^2$\n",
    "\n",
    "$=Var X + 2\\mathbb{E}((X-\\mathbb{E}(X))(Y-\\mathbb{E}(Y))) + Var Y$\n",
    "\n",
    "$=Var X + 2\\cdot cov(X,Y) + Var Y$\n",
    "\n",
    "$cov(X,Y) = \\mathbb{E}((X-\\mathbb{E}(X))(Y-\\mathbb{E}(Y)))$"
   ]
  },
  {
   "cell_type": "markdown",
   "metadata": {},
   "source": [
    "__Lemma__\n",
    "\n",
    "If X and Y are independent, then cov(X,Y)=0\n",
    "\n",
    "_Proof_\n",
    "\n",
    "A simple case, $\\mathbb{E}(X)=0; \\mathbb{E}(Y)=0$\n",
    "\n",
    "$cov(X,Y)=\\mathbb{E}(X-0)(Y-0)=\\mathbb{E}(XY) = \\mathbb{E}(X)\\mathbb{E}(Y)=0$\n",
    "\n",
    "General case\n",
    "\n",
    "$cov(X,Y) = \\mathbb{E}((X-\\mathbb{E}(X))(Y-\\mathbb{E}(Y)))$\n",
    "\n",
    "$=\\mathbb{E}(XY-Y\\mathbb{E}(X)-X\\mathbb{E}(Y)+\\mathbb{E}(X)\\mathbb{E}(Y))$\n",
    "\n",
    "$=\\mathbb{E}(XY)-\\mathbb{E}(Y\\mathbb{E}(X))-\\mathbb{E}(X\\mathbb{E}(Y))+\\mathbb{E}(\\mathbb{E}(X)\\mathbb{E}(Y)))$\n",
    "\n",
    "due to independence, and $\\mathbb{E}(X),\\mathbb{E}(Y)$ are constants\n",
    "\n",
    "$=\\mathbb{E}(X)\\mathbb{E}(Y)-\\mathbb{E}(X)\\mathbb{E}(Y)-\\mathbb{E}(Y)\\mathbb{E}(X)+\\mathbb{E}(X)\\mathbb{E}(Y)$\n",
    "\n",
    "$=0$"
   ]
  },
  {
   "cell_type": "markdown",
   "metadata": {},
   "source": [
    "__example__\n",
    "\n",
    "Let $X$ be the sum of values on 6 dice rolled. Find $Var X$. Enter the exact value below (e.g., 13/28 or 0.12):\n",
    "\n",
    "Let $A, B, C, D, E, F$ denote 6 dice rolled.\n",
    "\n",
    "$Var(X) = Var(A + B + C + D + E + F) = Var(A) + 2 \\cdot cov(A, B + C + D + E + F)$ + Var(B + C + D + E + F)$\n",
    "\n",
    "They are independent, $cov(A, B + C + D + E + F) = 0$\n",
    "\n",
    "$Var(X) = Var(A) + Var(B + C + D + E + F) = Var(A) + Var(B) + Var(C) + Var(D) + Var(E) + Var(F) = 6 \\times\n",
    "\\frac{35}{12} = \\frac{35}{2}$"
   ]
  },
  {
   "cell_type": "markdown",
   "metadata": {},
   "source": [
    "__example__\n",
    "\n",
    "Find variance of Binomial random variable. Use that it's a sum of n independent Bernoulli random variables with PMF:\n",
    "\n",
    "| X | 1 | 0 |\n",
    "|---|---|---|\n",
    "| P | p | 1-p |\n",
    "\n",
    "$\\mathbb{E}X=\\sum^{n}_{i=1} x_i p_i = np$\n",
    "\n",
    "$Var X = \\mathbb{E}(X^2)-\\mathbb{E}(X)^2 = np(1-p)$  "
   ]
  },
  {
   "cell_type": "markdown",
   "metadata": {},
   "source": [
    "__Property of covariance__\n",
    "\n",
    "If X and Y are independent, then cov(X,Y)=0.\n",
    "\n",
    "1\\. But cov(X,Y)=0 doesn't imply X and Y are independent.\n",
    "\n",
    "Consider the following example\n",
    "\n",
    "| YX | -1  |  0  |  1  |\n",
    "|----|-----|-----|-----|\n",
    "| 1  | 1/3 |  0  | 1/3 | 2/3 |\n",
    "| -2 |  0  | 1/3 |  0  | 1/3 |\n",
    "|    | 1/3 | 1/3 | 1/3 |\n",
    "\n",
    "$\\mathbb{E}X = 0$\n",
    "$\\mathbb{E}Y = 0$\n",
    "\n",
    "$cov(X,Y) = \\mathbb{E}((X-\\mathbb{E}(X))(Y-\\mathbb{E}(Y))) = \\mathbb{E}(XY)\n",
    "= (-1) \\cdot 1 \\cdot \\frac{1}{3} + (-2) \\cdot 0 \\cdot \\frac{1}{3} + 1 \\cdot 1 \\cdot \\frac{1}{3} = 0$\n",
    "\n",
    "but they are not independent\n",
    "\n",
    "2\\. Cov(X,Y) = Cov(Y,X)\n",
    "\n",
    "$\\mathbb{E}((X-\\mathbb{E}(X))(Y-\\mathbb{E}(Y))) = \\mathbb{E}((Y-\\mathbb{E}(Y)(X-\\mathbb{E}(X)))$\n",
    "\n",
    "3\\. Cov(X+c,Y) = Cov(X,Y)\n",
    "\n",
    "$\\mathbb{E}((X+c-\\mathbb{E}(X+c))(Y-\\mathbb{E}(Y))) = \\mathbb{E}((X-\\mathbb{E}(X))(Y-\\mathbb{E}(Y)))$\n",
    "\n",
    "4\\. Cov(cX,Y) = Cov(X,Y)\n",
    "\n",
    "$\\mathbb{E}((cX-\\mathbb{E}(cX))(Y-\\mathbb{E}(Y))) = \\mathbb{E}((cX-c\\mathbb{E}(X))(Y-\\mathbb{E}(Y))) = c\\mathbb{E}((X-\\mathbb{E}(X))(Y-\\mathbb{E}(Y)))$\n",
    "\n",
    "5\\. Y=kX+b, K and b are constant\n",
    "\n",
    "$Cov(X, Y) = Cov(X, kX+b) = Cov(X, kX) = k \\cdot Cov(X, X) = k \\mathbb{E}((X-\\mathbb{E}(X))(X-\\mathbb{E}(X)))\n",
    "= k Var X$"
   ]
  },
  {
   "cell_type": "markdown",
   "metadata": {},
   "source": [
    "__example__\n",
    "\n",
    "A fair dice rolls. Let X be the number on the dice and Y be 0 for even X and 1 for odd. Find covariance of X and Y. Enter the exact value below (e.g., 13/28 or 0.12):\n",
    "\n",
    "| YX |  1  |  2  |  3  |  4  |  5  |  6  |\n",
    "|----|-----|-----|-----|-----|-----|-----|\n",
    "| 0  |  0  | 1/6 |  0  | 1/6 |  0  | 1/6 |\n",
    "| 1  | 1/6 |  0  | 1/6 |  0  | 1/6 |  0  |\n",
    "\n",
    "\n",
    "$\\mathbb{E}X= 3.5$  \n",
    "$\\mathbb{E}Y= 1\\times \\frac{1}{2} + 0 \\times \\frac{1}{2} = 0.5$\n",
    "\n",
    "$Cov(X, Y) = \\mathbb{E}((X - \\mathbb{E}X)(Y - \\mathbb{E}Y))$  \n",
    "$=(1-3.5)(1-0.5)\\times1/6 + (2-3.5)(0-0.5)\\times1/6 + (3-3.5)(1-0.5)\\times1/6 + (4-3.5)(0-0.5)\\times1/6 + (5-3.5)(1-0.5)\\times1/6 + (6-3.5)(0-0.5)\\times1/6$   \n",
    "$=-2.5\\times0.5\\times1/6 + 1.5\\times0.5\\times1/6 - 0.5\\times0.5\\times1/6 - 0.5\\times0.5\\times1/6 + 1.5\\times0.5\\times1/6 - 2.5\\times0.5\\times1/6$   \n",
    "$=-1\\times0.5\\times1/6 + 3\\times0.5\\times1/6 - 5\\times0.5\\times1/6$  \n",
    "$=-3\\times0.5\\times1/6 = -0.25$  "
   ]
  }
 ],
 "metadata": {
  "kernelspec": {
   "display_name": "Python 3",
   "language": "python",
   "name": "python3"
  },
  "language_info": {
   "codemirror_mode": {
    "name": "ipython",
    "version": 3
   },
   "file_extension": ".py",
   "mimetype": "text/x-python",
   "name": "python",
   "nbconvert_exporter": "python",
   "pygments_lexer": "ipython3",
   "version": "3.7.9"
  }
 },
 "nbformat": 4,
 "nbformat_minor": 2
}
