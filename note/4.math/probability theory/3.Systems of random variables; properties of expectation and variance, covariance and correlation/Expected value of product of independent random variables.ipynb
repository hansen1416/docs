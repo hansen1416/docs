{
 "cells": [
  {
   "cell_type": "markdown",
   "metadata": {},
   "source": [
    "X, Y are two independent variables\n",
    "\n",
    "$\\mathbb{E}(XY) = \\mathbb{E}(X) \\cdot \\mathbb{E}(Y)$\n",
    "\n",
    "_Proof_ \n",
    "\n",
    "supp X = {$x_1,\\dots,x_m$}  $P(X=x_i)=p_i$  \n",
    "supp Y = {$y_1,\\dots,y_n$}  $P(Y=y_j)=q_j$\n",
    "\n",
    "$P(X=x_i \\cap Y=y_j) = P(X=x_i) \\cdot P(Y=y_j) = p_iq_j$\n",
    "\n",
    "$\\mathbb{E}(X\\cdot Y)\n",
    "=\\sum^{m}_{i=1}\\sum^{n}_{j=1}P(X=x_i\\cap Y=y_i) \\cdot x_i \\cdot y_i\n",
    "=\\sum^{m}_{i=1}\\sum^{n}_{j=1}p_iq_jx_iy_j\n",
    "=\\sum^{m}_{i=1}p_ix_i \\cdot \\sum^{n}_{j=1}q_jy_j\n",
    "=\\mathbb{E}(X) \\cdot \\mathbb{E}(Y)\n",
    "$"
   ]
  },
  {
   "cell_type": "markdown",
   "metadata": {},
   "source": [
    "__example__\n",
    "\n",
    "There are 60 white balls in a box and 40 black balls. Twenty random balls are taken. Find expected value of the number of black balls among them.\n",
    "\n",
    "$\\mathbb{E}X = 20 \\times 0.4 = 8$"
   ]
  },
  {
   "cell_type": "markdown",
   "metadata": {},
   "source": [
    "__example__\n",
    "\n",
    "Two dice are thrown and a random variable $X$ is taken as a sum of the values on both dice plus a product of those values. What's $\\mathbb{E}X$? Enter the value:\n",
    "\n",
    "$\\mathbb{E}A = \\mathbb{E}B = \\frac{1+2+3+4+5+6}{6}=3.5$\n",
    "\n",
    "$\\mathbb{E}X = \\mathbb{E}((A+B) + (A \\cdot B)) = \\mathbb{E}A + \\mathbb{E}B + \\mathbb{E}(A \\cdot B)$\n",
    "\n",
    "because A, B are independnt\n",
    "\n",
    "$\\mathbb{E}X = \\mathbb{E}A + \\mathbb{E}B + \\mathbb{E}A \\cdot \\mathbb{E}B = 3.5+3.5+3.5 \\times 3.5 = 19.25$"
   ]
  },
  {
   "cell_type": "markdown",
   "metadata": {},
   "source": [
    "__example__\n",
    "\n",
    "Three players throw a dice and sum the values. Then 2 is raised to the obtained degree. What's the expected value of the obtained random variable? Enter the value:"
   ]
  },
  {
   "cell_type": "code",
   "execution_count": 14,
   "metadata": {},
   "outputs": [
    {
     "name": "stdout",
     "output_type": "stream",
     "text": [
      "[3, 4, 5, 6, 7, 8, 4, 5, 6, 7, 8, 9, 5, 6, 7, 8, 9, 10, 6, 7, 8, 9, 10, 11, 7, 8, 9, 10, 11, 12, 8, 9, 10, 11, 12, 13, 4, 5, 6, 7, 8, 9, 5, 6, 7, 8, 9, 10, 6, 7, 8, 9, 10, 11, 7, 8, 9, 10, 11, 12, 8, 9, 10, 11, 12, 13, 9, 10, 11, 12, 13, 14, 5, 6, 7, 8, 9, 10, 6, 7, 8, 9, 10, 11, 7, 8, 9, 10, 11, 12, 8, 9, 10, 11, 12, 13, 9, 10, 11, 12, 13, 14, 10, 11, 12, 13, 14, 15, 6, 7, 8, 9, 10, 11, 7, 8, 9, 10, 11, 12, 8, 9, 10, 11, 12, 13, 9, 10, 11, 12, 13, 14, 10, 11, 12, 13, 14, 15, 11, 12, 13, 14, 15, 16, 7, 8, 9, 10, 11, 12, 8, 9, 10, 11, 12, 13, 9, 10, 11, 12, 13, 14, 10, 11, 12, 13, 14, 15, 11, 12, 13, 14, 15, 16, 12, 13, 14, 15, 16, 17, 8, 9, 10, 11, 12, 13, 9, 10, 11, 12, 13, 14, 10, 11, 12, 13, 14, 15, 11, 12, 13, 14, 15, 16, 12, 13, 14, 15, 16, 17, 13, 14, 15, 16, 17, 18]\n",
      "{3: 1, 4: 3, 5: 6, 6: 10, 7: 15, 8: 21, 9: 25, 10: 27, 11: 27, 12: 25, 13: 21, 14: 15, 15: 10, 16: 6, 17: 3, 18: 1}\n",
      "9261.0\n"
     ]
    }
   ],
   "source": [
    "import random\n",
    "from itertools import product\n",
    "\n",
    "sample = list(product([1,2,3,4,5,6], repeat = 3))\n",
    "n = len(sample)\n",
    "data = [sum([x, y, z]) for x,y,z in sample]\n",
    "\n",
    "print(data)\n",
    "\n",
    "def count_frequencies(data, relative=False):\n",
    "    counter = {}\n",
    "    for element in data:\n",
    "        if element not in counter:\n",
    "            counter[element] = 1\n",
    "        else:\n",
    "            counter[element] += 1\n",
    "            \n",
    "    if relative:\n",
    "        for element in counter:\n",
    "            counter[element] /= len(data)\n",
    "    return counter\n",
    "\n",
    "counted = count_frequencies(data)\n",
    "print(counted)\n",
    "\n",
    "expected = sum([2**i * v/n for i,v in counted.items()])\n",
    "print(expected)"
   ]
  }
 ],
 "metadata": {
  "kernelspec": {
   "display_name": "Python 3",
   "language": "python",
   "name": "python3"
  },
  "language_info": {
   "codemirror_mode": {
    "name": "ipython",
    "version": 3
   },
   "file_extension": ".py",
   "mimetype": "text/x-python",
   "name": "python",
   "nbconvert_exporter": "python",
   "pygments_lexer": "ipython3",
   "version": "3.7.9"
  }
 },
 "nbformat": 4,
 "nbformat_minor": 2
}
