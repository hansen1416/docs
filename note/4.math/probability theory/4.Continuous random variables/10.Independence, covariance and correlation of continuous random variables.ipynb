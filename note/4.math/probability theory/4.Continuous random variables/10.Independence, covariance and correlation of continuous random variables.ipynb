{
 "cells": [
  {
   "cell_type": "markdown",
   "metadata": {},
   "source": [
    "__Indenpendent continuous random variables__\n",
    "\n",
    "1\\. X and Y are independent if \n",
    "\n",
    "$CDF_{X,Y}(x,y) = CDF_X(x) \\cdot CDF_Y(y)$\n",
    "\n",
    "$\\implies P(X \\le x \\cap Y \\le y) =  P(X \\le x) \\cdot P(Y \\le y)$\n",
    "\n",
    "for all $x,y \\in \\mathbb{R}$\n",
    "\n",
    "2\\. X and Y are independent if \n",
    "\n",
    "$pdf_{X, Y}(x,y) = pdf_X(x) \\cdot pdf_Y(y)$"
   ]
  },
  {
   "cell_type": "markdown",
   "metadata": {},
   "source": [
    "__covariance and correlation__\n",
    "\n",
    "$cov(X, Y) = \\mathbb{E}(X-\\mathbb{E}X)(Y-\\mathbb{E}Y)$\n",
    "\n",
    "$corr(X,Y) = \\frac{cov(X, Y)}{\\sqrt{VarX\\cdot VarY}}$\n",
    "\n",
    "X and Y are independent $\\implies cov(X, Y) = corr(X,Y) = 0$. but the inverse is not true"
   ]
  },
  {
   "cell_type": "markdown",
   "metadata": {},
   "source": [
    "$Var(X+Y) = VarX + VarY + 2 \\times cov(X,Y)$\n",
    "\n",
    "__It immediately follows that if two random variables are non correlated, meaning that their covariance equals to zero, then variance of sum equals to sum of variances.__  \n",
    "__This fact is very important and we will use it later when we will discuss law of large numbers and central limit theorem.__"
   ]
  },
  {
   "cell_type": "markdown",
   "metadata": {},
   "source": [
    "__example__\n",
    "\n",
    "Find the variance of the sum of two independent random variables with Gaussian distribution $N(0,\\sigma^2)$ with $\\sigma =2$. Enter the integer number:\n",
    "\n",
    "$\\sigma $ is deviation; $\\sigma^2$ is variance.\n",
    "\n",
    "They are independent.\n",
    "\n",
    "$Var(X+Y) = Var(X) + Var(Y) = 2^2 + 2^2 = 8$"
   ]
  }
 ],
 "metadata": {
  "kernelspec": {
   "display_name": "Python 3",
   "language": "python",
   "name": "python3"
  },
  "language_info": {
   "codemirror_mode": {
    "name": "ipython",
    "version": 3
   },
   "file_extension": ".py",
   "mimetype": "text/x-python",
   "name": "python",
   "nbconvert_exporter": "python",
   "pygments_lexer": "ipython3",
   "version": "3.6.9"
  }
 },
 "nbformat": 4,
 "nbformat_minor": 2
}
