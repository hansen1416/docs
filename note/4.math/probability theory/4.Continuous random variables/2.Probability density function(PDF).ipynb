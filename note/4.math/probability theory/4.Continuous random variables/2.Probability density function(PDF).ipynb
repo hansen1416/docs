{
 "cells": [
  {
   "cell_type": "markdown",
   "metadata": {},
   "source": [
    "${\\large \\lim_{\\Delta x \\to 0}\\frac{P(X \\in [x_0, x_0 + \\Delta x])}{\\Delta x} = pdf_x(x_0)}$"
   ]
  },
  {
   "cell_type": "markdown",
   "metadata": {},
   "source": [
    "__example__\n",
    "\n",
    "uniform distribution on [0, 1]\n",
    "\n",
    "1\\. $x_0 \\in (0,1)$\n",
    "\n",
    "$[x_0, x_0+\\Delta x] \\subseteq [0,1]$\n",
    "\n",
    "$P(X \\in [x_0, x_0+\\Delta x]) = \\Delta x$\n",
    "\n",
    "$\\lim_{\\Delta x \\to 0} \\frac{\\Delta x}{\\Delta x} = \\lim_{\\Delta x \\to 0} 1 = 1$\n",
    "\n",
    "$pdf_x(x_0) = 1$\n",
    "\n",
    "2\\. $x_0 \\notin [0,1]$\n",
    "\n",
    "$pdf_x(x_0) = \\lim_{\\Delta x \\to 0} \\frac{0}{\\Delta x} = 0$\n",
    "\n",
    "_pdf is not defined at X=0 and X=1_"
   ]
  }
 ],
 "metadata": {
  "kernelspec": {
   "display_name": "Python 3",
   "language": "python",
   "name": "python3"
  },
  "language_info": {
   "codemirror_mode": {
    "name": "ipython",
    "version": 3
   },
   "file_extension": ".py",
   "mimetype": "text/x-python",
   "name": "python",
   "nbconvert_exporter": "python",
   "pygments_lexer": "ipython3",
   "version": "3.7.9"
  }
 },
 "nbformat": 4,
 "nbformat_minor": 2
}
