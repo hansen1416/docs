{
 "cells": [
  {
   "cell_type": "markdown",
   "metadata": {},
   "source": [
    "$CDF_X(x) = P(X \\leq x)$"
   ]
  },
  {
   "cell_type": "markdown",
   "metadata": {},
   "source": [
    "__example__\n",
    "\n",
    "A uniform distribution on [0, 1]\n",
    "\n",
    "$CDF_X(x) = \n",
    "\\begin{cases}\n",
    "0 \\;\\mbox{if}\\; x < 0\\\\\n",
    "x \\;\\mbox{if}\\; x \\in [0, 1]\\\\\n",
    "1 \\;\\mbox{if}\\; x > 1\\\\\n",
    "\\end{cases}\n",
    "$"
   ]
  }
 ],
 "metadata": {
  "kernelspec": {
   "display_name": "Python 3",
   "language": "python",
   "name": "python3"
  },
  "language_info": {
   "codemirror_mode": {
    "name": "ipython",
    "version": 3
   },
   "file_extension": ".py",
   "mimetype": "text/x-python",
   "name": "python",
   "nbconvert_exporter": "python",
   "pygments_lexer": "ipython3",
   "version": "3.6.9"
  }
 },
 "nbformat": 4,
 "nbformat_minor": 2
}
