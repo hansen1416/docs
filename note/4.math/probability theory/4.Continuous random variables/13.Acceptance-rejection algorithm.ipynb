{
 "cells": [
  {
   "cell_type": "markdown",
   "metadata": {},
   "source": [
    "Assume that we need to generate random variable with the given PDF. One way to do it is the acceptance-rejection algorithm. \n",
    "\n",
    "Denote the desired PDF by $f$ . Assume it is non-zero only on some segment $[a,b]$ .   \n",
    "Let  $M$  be upper bound for  $f$  on  $[a,b]$  (i.e.  $f(x) \\le M$  for all $x \\in [a,b]$ ).  \n",
    "The algorithm works as follows. We generate so-called proposal: random number $ x_p \\in [a,b] $ from uniform distribution on [a,b].  \n",
    "Then we independently generate a random number $ y \\in [0, M] $ from uniform distribution on  $[0, M]$ .  \n",
    "If  $y \\le f(x_p)$ , then we accept proposal  $x_p$ : put  $x=x_p$  and return it.  \n",
    "Otherwise, we reject  $x_p$  and generate a new pair  $(x_p,y)$ . This process is continued until condition  $y\\le f(x_p)$  is satisfied.\n",
    "\n",
    ">_in short_:   \n",
    ">_M is upper bound of pdf_  \n",
    ">_generate a random variable $x_p \\in [a,b]$, uniform distribution_  \n",
    ">_independently generate a random variable $y \\in [0,M]$, uniform distribution_  \n",
    ">_accept $x=x_p$ if $y \\le f(x_p)$ otherwise reject and generate again_\n",
    "\n",
    "Now, for any point  $x_0$ , the probability to get a point near  $x_0$  from our algorithm is proportional to probability that pair  $(x,y)$  is accepted while  $x$  is near  $x_0$ . This probability is in turn proportional to value of  $f(x)$ .  If  $f(x)$  is small, it is less likely that  $y\\le f(x)$  and point is accepted, and vice versa.\n",
    "\n",
    ">_more likely to have $x_p$ near $x_0$ if $pdf(x_0)$ is large_\n",
    "\n",
    "\n",
    "Now if  $f$  is continuous and  $x$  is close to  $x_0$ ,  $f(x)$  is close to  $f(x_0)$ . So the probability to get a point  $x$  that is close to  $x_0$  is (approximately) proportional to  $f(x_0)$ . It follows that the marginal probability density function of  $x$  is proportional to  $f$ , i.e.  $pdf(x)=\\alpha f(x)$  for some constant  $\\alpha$ . \n",
    " \n",
    "However, due to condition  $\\int^{b}_{a}pdf(x)dx=1$ , constant  $\\alpha$  is determined uniquely: if  $f$  is itself PDF, then  $\\int^{b}_{a}pdf(x)dx=1$  and  $\\alpha$  should be equal to 1. Note that to use this algorithm we don't need to know actual desired PDF: it is sufficient to know any function that is proportional to PDF. (In this case  $\\alpha$  will be different from 1.) This is important property in problems of Bayesian inference, when we usually know PDF only up to multiplication by some constant.\n",
    "\n",
    ">_$pdf(x)=\\alpha f(x), \\alpha$ is some constant, becasue the chance of generate $x_p$ is propotional to PDF_  \n",
    ">_thus no need to know actual PDF, any function that is proportional to PDF is sufficient, in this case $\\alpha \\ne 1$_\n",
    "\n",
    "In this problem, you have to implement the function `accept_reject(f, a, b, M, return_y = False)` that generates a random number with the acceptance-rejection algorithm. Here `f` is a function that is proportional to the desired PDF, `a`, `b` and `M` are as in the description above. If `return_y` is True, we have to return tuple (x, y), otherwise, just return x."
   ]
  }
 ],
 "metadata": {
  "kernelspec": {
   "display_name": "Python 3",
   "language": "python",
   "name": "python3"
  },
  "language_info": {
   "codemirror_mode": {
    "name": "ipython",
    "version": 3
   },
   "file_extension": ".py",
   "mimetype": "text/x-python",
   "name": "python",
   "nbconvert_exporter": "python",
   "pygments_lexer": "ipython3",
   "version": "3.6.9"
  }
 },
 "nbformat": 4,
 "nbformat_minor": 2
}
