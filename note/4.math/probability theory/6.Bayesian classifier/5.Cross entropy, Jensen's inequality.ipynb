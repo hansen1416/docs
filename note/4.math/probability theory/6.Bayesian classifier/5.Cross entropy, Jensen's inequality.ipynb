{
 "cells": [
  {
   "cell_type": "markdown",
   "metadata": {},
   "source": [
    "_Proof_ \n",
    "\n",
    "$\\sum^{k}_{j=1} r_j \\log p_j - \\sum^{k}_{j=1} r_j \\log r_j = \\sum^{k}_{j=1} (r_j \\log p_j - r_j \\log r_j)\n",
    "=\\sum^{k}_{j=1} r_j \\log \\frac{p_j}{r_j}$\n",
    "\n",
    "And accordding to Jensen's inequality, and $\\sum^{k}_{j=1} r_j = 1, r_j > 0, p_j > 0$\n",
    "\n",
    "$\\sum^{k}_{j=1} r_j \\log \\frac{p_j}{r_j} \\le \\log \\sum^{k}_{j=1} r_j \\frac{p_j}{r_j} = \\log \\sum^{k}_{j=1} p_j $\n",
    "\n",
    "We also know $\\sum^{k}_{j=1} p_j \\le 1 \\implies \\log \\sum^{k}_{j=1} p_j \\le 0$\n",
    "\n",
    "Thus,\n",
    "\n",
    "$\\sum^{k}_{j=1} r_j \\log p_j - \\sum^{k}_{j=1} r_j \\log r_j \\le 0$\n",
    "\n",
    "--- \n",
    "\n",
    "We know $r_i = \\frac{f_j}{\\sum^{k}_{j=1} f_j}$, therefore\n",
    "\n",
    "$\\sum^{k}_{j=1} r_j \\log r_j \n",
    "= \\sum^{k}_{j=1} \\frac{f_j}{\\sum^{k}_{i=1} f_i} \\log r_j$\n",
    "\n",
    "And $\\sum^{k}_{i=1} f_i$ is a constant\n",
    "\n",
    "$\\sum^{k}_{j=1} \\frac{f_j}{\\sum^{k}_{i=1} f_i} \\log r_j \n",
    "= \\frac{1}{\\sum^{k}_{i=1} f_i} \\sum^{k}_{j=1} f_j \\log r_j$\n",
    "\n",
    "and the log likelihood without coefficient is\n",
    "\n",
    "$\\sum^{k}_{j=1} f_j \\log p_j$\n",
    "\n",
    "Thus we have to put $r_j=p_j$ to obtain maximum log-likelihood."
   ]
  }
 ],
 "metadata": {
  "kernelspec": {
   "display_name": "Python 3",
   "language": "python",
   "name": "python3"
  },
  "language_info": {
   "codemirror_mode": {
    "name": "ipython",
    "version": 3
   },
   "file_extension": ".py",
   "mimetype": "text/x-python",
   "name": "python",
   "nbconvert_exporter": "python",
   "pygments_lexer": "ipython3",
   "version": "3.7.7"
  }
 },
 "nbformat": 4,
 "nbformat_minor": 4
}
