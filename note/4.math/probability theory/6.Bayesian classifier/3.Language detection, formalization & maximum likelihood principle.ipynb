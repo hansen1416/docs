{
 "cells": [
  {
   "cell_type": "markdown",
   "metadata": {},
   "source": [
    "__Language detection: formalization__\n",
    "\n",
    "Alphabet = $\\{C_1,C_2,\\dots,C_k\\}$.  K - number of chars in alphabet.\n",
    "\n",
    "Languages $L_1,\\dots,L_l$.  l - number of languages\n",
    "\n",
    "$P_{ij}$ - relative frequency of character $C_j$ in language $L_i$\n",
    "\n",
    "Text = sequence of characters.\n",
    "\n",
    "_So we will use multinomial distribution to model number of characters in this text. It means that we basically assume that this text is just an outcome in their corresponding random experiment. So like we have a large dice with the number of faces equal to number of characters in the alphabet, and some probabilities of getting each face depends on the language used. We just throw this dice several times, number of times equals to length of this text, and just record this text as a result of this dice rollings. Of course, it is not correct model, but it is useful model._\n",
    "\n",
    "for text $T$, $f_j(T) = $ (number of occurance of $C_j$ in $T$)\n",
    "\n",
    "If $T$ is produced from language $i$ with \"dice-rolling\",  \n",
    "$f(T): \\;\\;\\;\\; (f_1(T),\\dots,f_k(T)) \\sim Multinomial(K,n,(p_{i1},\\dots,p_{ik})), K $ - size of $T$"
   ]
  },
  {
   "cell_type": "markdown",
   "metadata": {},
   "source": [
    "__Likelihood__\n",
    "\n",
    "$(X_{i1},\\dots,X_{ik}) \\sim Multinomial(n,k,(p_{i1},\\dots,p_{ik}))$  \n",
    "\n",
    "$P(f(T) | L_i) = P(X_{i1} = f_1(T) \\cap \\dots \\cap X_{ik} = f_k(T))$\n",
    "\n",
    "$i_{max} = argmax\\; P(f(T)|L_i), i = 1,\\dots,l$"
   ]
  }
 ],
 "metadata": {
  "kernelspec": {
   "display_name": "Python 3",
   "language": "python",
   "name": "python3"
  },
  "language_info": {
   "codemirror_mode": {
    "name": "ipython",
    "version": 3
   },
   "file_extension": ".py",
   "mimetype": "text/x-python",
   "name": "python",
   "nbconvert_exporter": "python",
   "pygments_lexer": "ipython3",
   "version": "3.7.7"
  }
 },
 "nbformat": 4,
 "nbformat_minor": 4
}
