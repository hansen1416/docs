{
 "cells": [
  {
   "cell_type": "markdown",
   "metadata": {},
   "source": [
    "In probability theory, two random events $A$ and $B$ are conditionally independent given a third event $C$ precisely if the occurrence of $A$ and the occurrence of $B$ are independent events in their conditional probability distribution given $C$. \n",
    "\n",
    "In other words, $A$ and $B$ are conditionally independent given $C$ if and only if, given knowledge that $C$ occurs, knowledge of whether $A$ occurs provides no information on the likelihood of $B$ occurring, and knowledge of whether $B$ occurs provides no information on the likelihood of $A$ occurring."
   ]
  },
  {
   "cell_type": "markdown",
   "metadata": {},
   "source": [
    "__Definition__\n",
    "\n",
    "$A$ and $B$ are conditionally independent given $C \\iff \\Pr(A\\cap B\\mid C)=\\Pr(A\\mid C)\\Pr(B\\mid C)$"
   ]
  },
  {
   "cell_type": "markdown",
   "metadata": {},
   "source": [
    "$p(x_1,x_2|x_4) = \\frac{1}{p(x_4)}\\sum_{x_3}p(x_1,x_2,x_3,x_4)= \\frac{1}{p(x_4)}\\sum_{x_3}p(x_1|x_4)p(x_2|x_3,x_4)p(x_3)p(x_4)\n",
    "=p(x_1|x_4)\\sum_{x_3}p(x_2|x_3,x_4)p(x_3)$\n",
    "\n",
    "$p(x_2|x_4) = \\frac{1}{p(x_4)}\\sum_{x_1,x_3}p(x_1,x_2,x_3,x_4)= \\frac{1}{p(x_4)}\\sum_{x_1,x_3}p(x_1|x_4)p(x_2|x_3,x_4)p(x_3)p(x_4)\n",
    "=\\sum_{x_3}p(x_2|x_3,x_4)p(x_3)$\n",
    "\n",
    "$\\implies p(x_1,x_2|x_4 = p(x_1|x_4)p(x_2|x_4)$ conditional independence $x \\bot y | z$"
   ]
  }
 ],
 "metadata": {
  "kernelspec": {
   "display_name": "Python 3",
   "language": "python",
   "name": "python3"
  },
  "language_info": {
   "codemirror_mode": {
    "name": "ipython",
    "version": 3
   },
   "file_extension": ".py",
   "mimetype": "text/x-python",
   "name": "python",
   "nbconvert_exporter": "python",
   "pygments_lexer": "ipython3",
   "version": "3.7.7"
  }
 },
 "nbformat": 4,
 "nbformat_minor": 4
}
