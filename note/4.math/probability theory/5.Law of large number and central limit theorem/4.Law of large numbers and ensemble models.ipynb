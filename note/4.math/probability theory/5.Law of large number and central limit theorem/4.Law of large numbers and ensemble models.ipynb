{
 "cells": [
  {
   "cell_type": "markdown",
   "metadata": {},
   "source": [
    "__Ensembles__\n",
    "\n",
    "Assume there are several experts. Goal: predict revenue $R$\n",
    "\n",
    "$X_1, \\dots , X_n$ - predictions of $R$ by several experts  \n",
    "\n",
    "$\\mathbb{E}X_j = R, j=1,\\dots ,n$\n",
    "\n",
    "Assume the predictions have the same variance\n",
    "\n",
    "$Var X_j = \\sigma^2, \\sigma = \\sqrt{Var X_j}$ - standard deviation\n",
    "\n",
    "Let $\\overline{X}_n = \\frac{X_1 + X_2 + \\dots X_n}{n}$\n",
    "\n",
    "1\\. $X_1,\\dots,X_n$ are mutually independent  \n",
    "\n",
    "$Var \\overline{X}_n = {\\large \\frac{\\sigma^2}{n} }$ (proved in previous chapter)\n",
    "\n",
    "$Var \\overline{X}_n = {\\large \\frac{\\sigma^2}{n} } < \\sigma^2$\n",
    "\n",
    "2\\. $X_1,\\dots,X_n$ are not independent  \n",
    "e.g. $X_1 = \\dots = X_n$  \n",
    "\n",
    "$Var \\overline{X}_n = Var \\frac{X_1 + X_2 + \\dots X_n}{n} = Var \\frac{n \\cdot X_1}{n} = Var X_1 = \\sigma^2$"
   ]
  },
  {
   "cell_type": "markdown",
   "metadata": {},
   "source": [
    "__conclusion__\n",
    "\n",
    "If each models work independently, it will reduce the variance, it is called in machine learning, ensemble of models, can reduce variance of the prediction and make the prediction better.  \n",
    "\n",
    "But if the predictions of several models are not independent, and if there are correlated to each other, then this variance will be not much less than the variance of individual model. In this case, it doesn't make sense to consider ensemble of models, we can just use one model. "
   ]
  }
 ],
 "metadata": {
  "kernelspec": {
   "display_name": "Python 3",
   "language": "python",
   "name": "python3"
  },
  "language_info": {
   "codemirror_mode": {
    "name": "ipython",
    "version": 3
   },
   "file_extension": ".py",
   "mimetype": "text/x-python",
   "name": "python",
   "nbconvert_exporter": "python",
   "pygments_lexer": "ipython3",
   "version": "3.7.7"
  }
 },
 "nbformat": 4,
 "nbformat_minor": 2
}
