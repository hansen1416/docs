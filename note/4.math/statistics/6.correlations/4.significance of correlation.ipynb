{
 "cells": [
  {
   "cell_type": "markdown",
   "metadata": {},
   "source": [
    "__Significance of correlation__\n",
    "\n",
    "$(x_1, y_1), \\ldots , (x_n, y_n) \\sim (X, Y)$\n",
    "\n",
    "For populaions\n",
    "\n",
    "$cov(X, Y) = \\mathbb{E}((X-\\mathbb{E}X) \\cdot (Y - \\mathbb{E}Y))$\n",
    "\n",
    "$corr(X, Y) = \\frac{cov(X,Y)}{stdX \\cdot std Y}$\n",
    "\n",
    "For samples\n",
    "\n",
    "$cov(X, Y) = \\frac{1}{n-1}\\sum^n_{i=1}((x_i-\\bar{x}) \\cdot (y_i - \\bar{y}))$\n",
    "\n",
    "$corr(X, Y) = \\frac{cov(x,y)}{std x \\cdot std y}$"
   ]
  },
  {
   "cell_type": "markdown",
   "metadata": {},
   "source": [
    "If $corr(x, y) > 0$, can we conclude $corr(X, Y) > 0$?\n",
    "\n",
    "No, for a sample of size 2, two dot is always on a same line, it's corr is 1/-1. But the population mean could be any number $\\in [-1, 1]$.\n",
    "\n",
    "If we need to conclude on sample, perform Correlation test\n",
    "\n",
    "$H_0: corr(X, Y) = 0$  \n",
    "$H_1: corr(X, Y) \\ne 0$\n",
    "\n",
    "consider two conditions,\n",
    "1. is corr close enough to 1/-1  \n",
    "2. sample size\n",
    "\n",
    "---\n",
    "\n",
    "Or construct confidence interval"
   ]
  }
 ],
 "metadata": {
  "kernelspec": {
   "display_name": "Python 3",
   "language": "python",
   "name": "python3"
  },
  "language_info": {
   "codemirror_mode": {
    "name": "ipython",
    "version": 3
   },
   "file_extension": ".py",
   "mimetype": "text/x-python",
   "name": "python",
   "nbconvert_exporter": "python",
   "pygments_lexer": "ipython3",
   "version": "3.7.9"
  }
 },
 "nbformat": 4,
 "nbformat_minor": 4
}
