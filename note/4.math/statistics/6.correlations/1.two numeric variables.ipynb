{
 "cells": [
  {
   "cell_type": "markdown",
   "metadata": {},
   "source": [
    "_sample covariance_\n",
    "\n",
    "$cov(x,y) = \\sum^{n}_{i=1}(x_i - \\bar{x})(y_i - \\bar{y})$\n",
    "\n",
    "The area where $(x_i > \\bar{x} \\;and\\; y_i > \\bar{y}) || (x_i < \\bar{x} \\;and\\; y_i < \\bar{y})$ is __positive__ contribution to covariance.\n",
    "\n",
    "The area where $(x_i > \\bar{x} \\;and\\; y_i < \\bar{y}) || (x_i < \\bar{x} \\;and\\; y_i > \\bar{y})$ is __negative__ contribution to covariance.\n",
    "\n",
    "$corr(x,y) = \\frac{cov(x,y)}{std x \\cdot std y}$\n",
    "\n",
    "it does not depends the unit the measure x,y. if the magnitude increase, they will cancel each other.\n",
    "\n",
    "$corr(x,y) \\in [-1, 1]$"
   ]
  },
  {
   "cell_type": "markdown",
   "metadata": {},
   "source": [
    "Consider two samples: x=(1, 2, 3) and y=(2, 4, a). Find the value of a parameter aa such that Pearson's correlation between x and y is maximized."
   ]
  },
  {
   "cell_type": "code",
   "execution_count": 1,
   "metadata": {},
   "outputs": [],
   "source": [
    "import numpy as np"
   ]
  },
  {
   "cell_type": "code",
   "execution_count": 18,
   "metadata": {},
   "outputs": [
    {
     "data": {
      "text/plain": [
       "array([[1., 1.],\n",
       "       [1., 1.]])"
      ]
     },
     "execution_count": 18,
     "metadata": {},
     "output_type": "execute_result"
    }
   ],
   "source": [
    "x = [1,2,3]\n",
    "y = [2,4,6]\n",
    "\n",
    "m = [x, y]\n",
    "\n",
    "cov = np.cov(m)\n",
    "stdx = np.std(x)\n",
    "stdy = np.std(y)\n",
    "\n",
    "cov / (stdx*stdy)\n",
    "\n",
    "np.corrcoef(x,y)\n",
    "\n",
    "# 6"
   ]
  },
  {
   "cell_type": "markdown",
   "metadata": {},
   "source": [
    "Find Pearson's correlation between samples x=(1, 5) and y=(4, 2)"
   ]
  },
  {
   "cell_type": "code",
   "execution_count": 19,
   "metadata": {},
   "outputs": [
    {
     "data": {
      "text/plain": [
       "array([[ 1., -1.],\n",
       "       [-1.,  1.]])"
      ]
     },
     "execution_count": 19,
     "metadata": {},
     "output_type": "execute_result"
    }
   ],
   "source": [
    "x = [1,5]\n",
    "y = [4,2]\n",
    "\n",
    "np.corrcoef(x,y)"
   ]
  }
 ],
 "metadata": {
  "kernelspec": {
   "display_name": "Python 3",
   "language": "python",
   "name": "python3"
  },
  "language_info": {
   "codemirror_mode": {
    "name": "ipython",
    "version": 3
   },
   "file_extension": ".py",
   "mimetype": "text/x-python",
   "name": "python",
   "nbconvert_exporter": "python",
   "pygments_lexer": "ipython3",
   "version": "3.7.9"
  }
 },
 "nbformat": 4,
 "nbformat_minor": 4
}
