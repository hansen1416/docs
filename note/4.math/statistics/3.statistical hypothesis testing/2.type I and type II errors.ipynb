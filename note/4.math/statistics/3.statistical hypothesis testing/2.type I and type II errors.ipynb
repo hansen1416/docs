{
 "cells": [
  {
   "cell_type": "markdown",
   "metadata": {},
   "source": [
    "|  | do not reject $H_0$ | reject $H_0$ in favor of $H_1$ |\n",
    "|--|--|--|\n",
    "| $H_0$ is true | correct | type I error |\n",
    "| $H_0$ is false | type II error | correct |"
   ]
  },
  {
   "cell_type": "markdown",
   "metadata": {},
   "source": [
    "type I error: false positive  \n",
    "type II error: false negative  "
   ]
  },
  {
   "cell_type": "markdown",
   "metadata": {},
   "source": [
    "$P(\\mbox{reject}\\; H_0 | H_0 \\;\\mbox{holds}) \\le \\alpha$,  $\\alpha$ is significance level, like 5%, 1%, an acceptable probability."
   ]
  },
  {
   "cell_type": "markdown",
   "metadata": {},
   "source": [
    "_example_\n",
    "\n",
    "$X \\sim Bin(n,p)$\n",
    "\n",
    "$H_0: p = \\frac{1}{2}$\n",
    "\n",
    "$H_1: p > \\frac{1}{2}$\n",
    "\n",
    "Let $n=30$, observed $X_{obs}$\n",
    "\n",
    "$P(X > x_{critical} | H_0) = \\alpha$\n",
    "\n",
    "theoretical distribution of $X$ provided $H_0$, $\\mathbb{E}X = 15$\n",
    "\n",
    "Critical region: $\\alpha \\implies x_{critical}$\n",
    "\n",
    "If $X_{obs}$ is in the Critical region. reject $H_0$\n",
    "\n",
    "---\n",
    "\n",
    "Decision making:\n",
    "\n",
    "If $X_{obs} > x_{critical} \\implies \\mbox{reject}\\; H_0$ otherwise $\\implies$ do not reject $H_0$"
   ]
  },
  {
   "cell_type": "markdown",
   "metadata": {},
   "source": [
    "_example_\n",
    "\n",
    "Consider a magician who claims he can predict future. Assume that he cannot predict future, thus $H_0$ holds true (but we don't know it). We conduct an experiment as follows. We toss a fair coin three times. If he guesses correctly results of all three tossings, we conclude he can predict future (reject $H_0$. Otherwise, we claim he cannot predict future. Find probability to make Type I error. Enter ordinary fraction (e.g. 2/3).\n",
    "\n",
    "$\\frac{1}{8}$\n",
    "\n",
    "_Type I error is that we reject null hypothesis provided that null hypothesis holds. If null hypothesis holds, the magician can guess only by chance. We reject null hypothesis if he guesses three times. The probability of this event is 1/8._\n",
    "\n",
    "---\n",
    "\n",
    "What is the probabiility to make type II error in the condition of previous question?\n",
    "\n",
    "We can not make type II error.\n",
    "\n",
    "_T​his is correct: type II error are possible if null hypothesis does not hold only, but in this question we assume null hypothesis holds._"
   ]
  },
  {
   "cell_type": "markdown",
   "metadata": {},
   "source": [
    "_example_\n",
    "\n",
    "Question 1\n",
    "Two students, Alice and Bob, sit at the same table. A teacher suspects that they communicate with each other during tests. The test consists of several multiple choice questions with single correct answer. If Alice don't know correct answer, she selects it randomly with equal probabilities. If Bob don't know correct answer and they communicate, he copies answer of Alice. If they do not communicate, he chooses answer randomly. (Student cannot believe he or she knows correct answer when it is not true.) Null hypothesis is that they do not cheat and act independently. There are 5 problems in the test for which correct answers are unknown to both students (and the teacher knows it), each problems has four possible answers. The teacher uses the following strategy: if all 5 answers to these questions coincide between students, she claims that students are cheating. Otherwise, she believes they are not cheating. Assume they are cheating in fact. What is the probability to make type I error?\n",
    "\n",
    "---\n",
    "\n",
    "> Null hypothesis is that they do not cheat and act independently\n",
    "\n",
    "__W'e cannot make type I error__\n",
    "\n",
    "_Indeed, type I error can be made if null hypothesis holds. But in this problem null hypothesis does not hold._\n",
    "\n",
    "---\n",
    "\n",
    "Question 2\n",
    "In the condition of previous question, what is probability to make type II error?\n",
    "\n",
    "__$1023/1024$__\n",
    "\n",
    "_That's correct. Probabililty to reject null hypothesis is (1/4)^5=1/1024. So probability to not reject is 1-1/1024=1023/10241. And null hypothesis is not true, so every time we not reject it, we make type II error._"
   ]
  }
 ],
 "metadata": {
  "kernelspec": {
   "display_name": "Python 3",
   "language": "python",
   "name": "python3"
  },
  "language_info": {
   "codemirror_mode": {
    "name": "ipython",
    "version": 3
   },
   "file_extension": ".py",
   "mimetype": "text/x-python",
   "name": "python",
   "nbconvert_exporter": "python",
   "pygments_lexer": "ipython3",
   "version": "3.7.9"
  }
 },
 "nbformat": 4,
 "nbformat_minor": 4
}
