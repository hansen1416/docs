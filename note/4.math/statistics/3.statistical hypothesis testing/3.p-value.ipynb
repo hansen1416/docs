{
 "cells": [
  {
   "cell_type": "markdown",
   "metadata": {},
   "source": [
    "$X \\sim Bin(n,p) $\n",
    "\n",
    "$H_0 : p = \\frac{1}{2}$\n",
    "\n",
    "$H_1 : p > \\frac{1}{2}$\n",
    "\n",
    "$X_{obs}$ is a sampled value from $X$"
   ]
  },
  {
   "cell_type": "code",
   "execution_count": 13,
   "metadata": {},
   "outputs": [
    {
     "data": {
      "text/plain": [
       "[<matplotlib.lines.Line2D at 0x7f1f5771cf50>]"
      ]
     },
     "execution_count": 13,
     "metadata": {},
     "output_type": "execute_result"
    },
    {
     "data": {
      "image/png": "[encoded data removed]",
      "text/plain": [
       "<Figure size 432x288 with 1 Axes>"
      ]
     },
     "metadata": {
      "needs_background": "light"
     },
     "output_type": "display_data"
    }
   ],
   "source": [
    "import matplotlib.pyplot as plt\n",
    "import numpy as np\n",
    "from scipy.stats import binom\n",
    "\n",
    "n=100\n",
    "p=0.5\n",
    "\n",
    "x = np.arange(0, 100, 0.1)\n",
    "y = binom.pmf(x, n, p)\n",
    "\n",
    "plt.plot(x, y)"
   ]
  },
  {
   "cell_type": "markdown",
   "metadata": {},
   "source": [
    "$P(X>x_{critical} | H_0) = \\alpha$\n",
    "\n",
    "reject if $X_{obs} > x_{critical}$\n",
    "\n",
    "p-value  $= P(X \\ge X_{obs} | H_0)$\n",
    "\n",
    "If p-value$(X_{obs}) \\ge \\alpha \\implies$ do not reject $H_0$\n",
    "\n",
    "If p-value$(X_{obs}) < \\alpha \\implies$ reject $H_0$"
   ]
  },
  {
   "cell_type": "markdown",
   "metadata": {},
   "source": [
    "_P-value is not the probability that H1 is correct or something like this._  \n",
    "_P-value is a probability to get the data that we obtained or, in a sense, more extreme, provided that null hypothesis holds._  \n",
    "_It is not the same as probability that $H_0$ is false._"
   ]
  },
  {
   "cell_type": "code",
   "execution_count": 2,
   "metadata": {},
   "outputs": [
    {
     "data": {
      "text/plain": [
       "array([0.0625, 0.25  , 0.375 , 0.25  , 0.0625, 0.    ])"
      ]
     },
     "execution_count": 2,
     "metadata": {},
     "output_type": "execute_result"
    }
   ],
   "source": [
    "import matplotlib.pyplot as plt\n",
    "import numpy as np\n",
    "from scipy.stats import binom\n",
    "\n",
    "n=4\n",
    "p=0.5\n",
    "\n",
    "x = np.arange(0, 6)\n",
    "y = binom.pmf(x, n, p)\n",
    "\n",
    "y"
   ]
  },
  {
   "cell_type": "code",
   "execution_count": 3,
   "metadata": {},
   "outputs": [
    {
     "data": {
      "text/plain": [
       "array([9.53674316e-07, 1.90734863e-05, 1.81198120e-04, 1.08718872e-03,\n",
       "       4.62055206e-03, 1.47857666e-02, 3.69644165e-02, 7.39288330e-02,\n",
       "       1.20134354e-01, 1.60179138e-01, 1.76197052e-01, 1.60179138e-01,\n",
       "       1.20134354e-01, 7.39288330e-02, 3.69644165e-02, 1.47857666e-02,\n",
       "       4.62055206e-03, 1.08718872e-03, 1.81198120e-04, 1.90734863e-05,\n",
       "       9.53674316e-07])"
      ]
     },
     "execution_count": 3,
     "metadata": {},
     "output_type": "execute_result"
    }
   ],
   "source": [
    "n=20\n",
    "p=0.5\n",
    "\n",
    "x = np.arange(0, 21)\n",
    "y = binom.pmf(x, n, p)\n",
    "\n",
    "y"
   ]
  },
  {
   "cell_type": "markdown",
   "metadata": {},
   "source": [
    "_example_\n",
    "\n",
    "Consider the magician who claims he can predict future. Our null hypothesis is that he actually cannot predict future and therefore probability to predict correctly the result of one coin tossing is 1/2. An alternative, according to magician's claim, is that this probability is larger than 1/2. (It's not 1 because magician can make mistakes from time to time (future-telling is hard after all). \n",
    "\n",
    "---\n",
    "\n",
    "Assume that we tossed a coin 4 times and the magician guessed all 4 results. Find p-value. Enter ordinary fraction.\n",
    "\n",
    "$H_0$ is the magician actually cannot predict future and therefore probability to predict correctly the result of one coin tossing is 1/2.\n",
    "\n",
    "$P(X = 4 | H_0) = \\frac{1}{2}^4 = \\frac{1}{16}$\n",
    "\n",
    "_Yeah, p-value is probability to obtain the result that we obtained or more extreme provided that null hypothesis holds. In this case 4 out of 4 is already the most extreme result._\n",
    "\n",
    "---\n",
    "\n",
    "Solve the same problem provided that the magician guessed 3 times out of 4.\n",
    "\n",
    "$P(X = 3 | H_0) = \\frac{1}{2}^2 = \\frac{1}{4}$  \n",
    "_because we assume magician can not predict future, and fair coin. so only guess right 2 times, and get an random result of the other two times_\n",
    "\n",
    "$P(X \\ge 3 | H_0) = \\frac{1}{4} + \\frac{1}{16} = \\frac{5}{16}$\n",
    "\n",
    "_Yeah, p-value is probability to obtain the result that we obtained or more extreme provided null hypothesis holds. In this case we need to find probability to guess 3 times (that we observed) or \"more extreme\". Due to alternative p>1/2, \"more extreme\" means 3 or more._\n",
    "\n",
    "---\n",
    "\n",
    "Solve the same problem provided that the magician guessed 0 times out of 4.\n",
    "\n",
    "$P(X = 2 | H_0) = \\binom{4}{2} \\times 0.5^2 \\times 0.5^2 = \\frac{4!}{2!2!} \\frac{1}{4} \\frac{1}{4} = \\frac{6}{16}$\n",
    "\n",
    "$P(X \\ge 0 | H_0) = 1$\n",
    "\n",
    "_That's correct. p-value is probability to obtain the result that we obtained or more extreme provided null hypothesis holds. Note that our alternative is p>1/2, so \"more extreme\" means \"to guess more times that we actually observed\". And we observed 0 times!_\n",
    "\n",
    "---\n",
    "\n",
    "Solve the same problem provided that the magician guessed 9 times out of 11. Enter ordinary fraction.\n",
    "\n",
    "$P(X=9 | H_0) = \\binom{11}{9} \\times \\frac{1}{2}^9 \\times \\frac{1}{2}^2 = 55 \\times \\frac{1}{512} \\times \\frac{1}{4} = \\frac{55}{2048}$\n",
    "\n",
    "$P(X=10 | H_0) = \\binom{11}{10} \\times \\frac{1}{2}^{10} \\times \\frac{1}{2} = 11 \\times \\frac{1}{2048} = \\frac{11}{2048}$\n",
    "\n",
    "$P(X=11 | H_0) = \\binom{11}{11} \\times \\frac{1}{2}^{11} \\times \\frac{1}{2}^0 = 1 \\times \\frac{1}{2048} = \\frac{1}{2048}$\n",
    "\n",
    "$P(X \\ge 9 | H_0) = \\frac{55}{2048} + \\frac{11}{2048} + \\frac{1}{2048} = \\frac{67}{2048}$\n",
    "\n",
    "---\n",
    "\n",
    "Would you reject null hypothesis on 5% significance level if the magician guessed 9 times out of 11?\n",
    "\n",
    "$\\frac{67}{2048} \\approx 0.0327 < 5\\%$ reject the null hypothesis"
   ]
  },
  {
   "cell_type": "markdown",
   "metadata": {},
   "source": [
    "_example_\n",
    "\n",
    "New magical competition opens. Instead of coin tossing, the organizers roll dice. The result of each rolling is number from 1 to 6 and the magician have to guess this number. The number of rollings is 5. The organizers will claim that a participant has magical abilities if null hypothesis will be rejected on 5% significance level. \n",
    "\n",
    "---\n",
    "\n",
    "How many times a participant should guess to win the competition? Enter the lowest number.\n",
    "\n",
    "$H_0$ is participant does not have magical abilities.\n",
    "\n",
    "$P(X = 5 | H_0) = \\binom{5}{5}\\frac{1}{6}^5 = \\frac{1}{7776}$\n",
    "\n",
    "$P(X = 4 | H_0) = \\binom{5}{4}\\frac{1}{6}^4 \\frac{5}{6} = \\frac{25}{7776}$\n",
    "\n",
    "$P(X = 3 | H_0) = \\binom{5}{3}\\frac{1}{6}^3 \\frac{5}{6}^2 = \\frac{250}{7776}$\n",
    "\n",
    "$\\frac{1}{7776} + \\frac{25}{7776} + \\frac{250}{7776} = \\frac{276}{7776} = 0.035$\n",
    "\n",
    "Thus, 3 times a participant should guess to win the competition.\n",
    "\n",
    "---\n",
    "\n",
    "What is the probability for the participant to win the competition provided he does not have claimed magical abilities? Enter number with three digits after decimal point.\n",
    "\n",
    "$0.035$"
   ]
  },
  {
   "cell_type": "markdown",
   "metadata": {},
   "source": [
    "_example_\n",
    "\n",
    "(New version of problem about cheating students.) Two students, Alice and Bob, sit at the same table. A teacher suspects that they communicate with each other during tests. The test consists of several multiple choice questions with single correct answer. If Alice don't know correct answer, she selects it randomly with equal probabilities. If Bob don't know correct answer and they communicate, he copies answer of Alice if he can. However, sometimes he cannot copy the answer: in this case, he chooses it randomly. If they do not communicate, he chooses answer randomly. (Student cannot believe he or she knows correct answer when it is not true.) Null hypothesis is that they do not cheat and act independently. There are 5 problems in the test for which correct answers are unknown to both students (and the teacher knows it), each problems has four possible answers.\n",
    "\n",
    "---\n",
    "\n",
    "Assume that 4 answers coincide. Find p-value. Enter ordinary fraction.\n",
    "\n",
    "$H_0$ is they do not cheat and act independently.\n",
    "\n",
    "$P(X=5 | H_0) = \\binom{5}{5} \\frac{1}{4}^5 = \\frac{1}{4^5}$\n",
    "\n",
    "$P(X=4 | H_0) = \\binom{5}{4} \\frac{1}{4}^4 \\frac{3}{4} = \\frac{15}{4^5}$\n",
    "\n",
    "$P(X \\ge 4 | H_0) = \\frac{16}{4^5} = 0.015625$\n",
    "\n",
    "---\n",
    "\n",
    "Would you claim that students are cheating if you see 4 coinciding answers and are comfortable with 1% probability to make false accusation if they are not cheating?\n",
    "\n",
    "No, 0.015625 > 1%\n",
    "\n",
    "---\n",
    "\n",
    "Assume that there are 10 students in the class, two students per table. Only students sitting on the same table can communicate with each other. Assume that in fact no students are cheating. What is the probability to falsely accuse at least one student in cheating if we will use the same procedure as in previous problem for all students? Enter numeric value with four digits after the decimal point.\n",
    "\n",
    "Nobody will be accuesed = $(1-0.015625)^{10}$\n",
    "\n",
    "At least on accused = 1-Nobody will be accuesed = $1 - (1-0.015625)^{10}$"
   ]
  },
  {
   "cell_type": "markdown",
   "metadata": {},
   "source": [
    "_example_\n",
    "\n",
    "Consider a competetion for magicians. The point of the competition is to prove to the general audience that there is no such thing as magical abilities at all, so the organizers hope that nobody wins simply due to luck. The procedure of the competition is as follows. A fair coin is tossed 11 times and the magician tries to guess the results of this tossings. The organizers of the competetion test null hypothesis that claims that probability to guess is 1/2 against an alternative that this probability is larger than 1/2. If null hypothesis is rejected on 5% significance level, then the organizers will claim that the magician has magical abilities and pay him his winning money. \n",
    "\n",
    "---\n",
    "\n",
    "How many times a magician should guess to win the competetion?\n",
    "\n",
    "$P(X=9 | H_0) = \\binom{11}{9} \\times \\frac{1}{2}^9 \\times \\frac{1}{2}^2 = 55 \\times \\frac{1}{512} \\times \\frac{1}{4} = \\frac{55}{2048}$\n",
    "\n",
    "$P(X=10 | H_0) = \\binom{11}{10} \\times \\frac{1}{2}^10 \\times \\frac{1}{2} = 11 \\times \\frac{1}{2048} = \\frac{11}{2048}$\n",
    "\n",
    "$P(X=11 | H_0) = \\binom{11}{11} \\times \\frac{1}{2}^11 \\times \\frac{1}{2}^0 = 1 \\times \\frac{1}{2048} = \\frac{1}{2048}$\n",
    "\n",
    "$P(X \\ge 9 | H_0) = \\frac{55}{2048} + \\frac{11}{2048} + \\frac{1}{2048} = \\frac{67}{2048}$\n",
    "\n",
    "$\\frac{67}{2048} \\approx 0.0327 < 5\\%$\n",
    "\n",
    "---\n",
    "\n",
    "What is the probability for the magician to win the competition provided that he does not have magical abilities? Enter value with 4 digits after decimal point.\n",
    "\n",
    "0.0327\n",
    "\n",
    "---\n",
    "\n",
    "Assume that 50 magicians participate in the competition and try to prove that they have magical abilities. All magicians are tested independently. What is the probability that at least one magician wins (and therefore the organisers have to conclude that people with magical abilities exist). Enter answer with 2 digits after decimal point.\n",
    "\n",
    "$1-(1-0.0327)^{50} = 0.81$\n",
    "\n",
    "_You see that this probability is large. It is much larger than the significance level that is used initially. If the organizers of the contest want to prove that there is no such thing as magic, they have to be more cautious._\n",
    "\n",
    "_In fact, it is very important problem. It shows that if you have several hypothesis to test, probability to make type I error increases and you have to make appropriate adjustements._\n",
    "\n",
    "---\n",
    "\n",
    "Assume that we want to make the probability in the previous question less than 5%. How many times should we demand for each magician to be guessed correctly to achieve this probability? Enter the minimum possible value.\n",
    "\n",
    "$1-(1-12/2048)^50 = 0.254597117$\n",
    "\n",
    "$1-(1-1/2048)^50 = 0.024124268$\n",
    "\n",
    "11"
   ]
  },
  {
   "cell_type": "markdown",
   "metadata": {},
   "source": [
    "_example_\n",
    "\n",
    "Journal Of Strange and Paranormal Research accepts papers that study paranormal phenomena. In each paper statistical methods should be used to guarantee that the results obtained are not due to chance. Only statistically significant results under 5% significance level are accepted. Assume that there are plenty of researchers who work in paranormal field and make experiments like discussed in problems about magicians. If an experiment gives non-significant result (i.e. null hypothesis is not rejected, there are no strong evidence in favor of paranormal phenomena), a researcher does not publish it (because journal will not accept it) and simply starts another experiment. In case of significant result (i.e. null hypothesis is rejected, there are strong evidence in favor of presence of paranormal phenomena), the research is published. Assume that there are no such thing as paranormal phenomena in reality. Which percent of works published in Journal of Strange and Paranormal Research will provide correct conclusions? Enter numeric value with 1 digit after decimal point.\n",
    "\n",
    "0.0\n",
    "\n",
    "_Yeah! It is stated that only papers that show existence of paranormal phenomena are accepted. But it is also stated that there is no such thing as paranormal pheonomena. Therefore, everything that is published in JSPR is false._\n",
    "\n",
    "_This shows that while statistical methods provide some guarantees about probability of false claims (particularly, type I errors), it does not mean that any particular reserach is true (or even \"true with probabilty 95%\")._"
   ]
  },
  {
   "cell_type": "markdown",
   "metadata": {},
   "source": [
    "_example_\n",
    "\n",
    "Choose all correct statements about p-value.\n",
    "\n",
    "- If p-value of a sample equals 0.95 then $H_0$ is true.\n",
    "\n",
    "No! We will not reject null hypothesis but it does not mean we claim that it is not true. We simply say that we don't have enough evidence to reject it.\n",
    "\n",
    "---\n",
    "\n",
    "- If significance level is 0.05 and p-value  is less than 0.05 then $H_1$ is certainly true.\n",
    "\n",
    "No, there's still a probability of mistake. In fact, our procedure rejects null hypothesis with probability 5% in case null hypothesis holds.\n",
    "\n",
    "---\n",
    "\n",
    "- p-value is the probability of obtaining the data that we obtained\n",
    "\n",
    "Not exactly: it is important that we consider not only the data we obtained but also \"more extreme\" data. Small probability to guess exactly 100000 times out of 200000 coin-tossings is not an evidence against null hypothesis that probability to guess is 1/2.\n",
    "\n",
    "---\n",
    "\n",
    "Suppose that in an investigation we consider the significance level be 0.05 and we obtain p-value that is equal to 0.04. Should you accept or reject null hypothesis?\n",
    "\n",
    "Reject null hypothesis\n",
    "\n",
    "_That's correct, p-value is less than significance level._\n",
    "\n",
    "---\n",
    "\n",
    "Consider that in some field type I errors leads to very serious risks. (For example, false accusation in crime can lead to imprisonment of innocent person.) Would you suggest to increase or decrease the significance level used in this field?\n",
    "\n",
    "Decrease significance level\n",
    "\n",
    "_Yes! Probability of type I error provided that null hypothesis holds is guaranteed to be smaller than significance level, so decreasing the significance level we will obtain less chance to falsely reject null hypothesis._"
   ]
  }
 ],
 "metadata": {
  "kernelspec": {
   "display_name": "Python 3",
   "language": "python",
   "name": "python3"
  },
  "language_info": {
   "codemirror_mode": {
    "name": "ipython",
    "version": 3
   },
   "file_extension": ".py",
   "mimetype": "text/x-python",
   "name": "python",
   "nbconvert_exporter": "python",
   "pygments_lexer": "ipython3",
   "version": "3.7.9"
  }
 },
 "nbformat": 4,
 "nbformat_minor": 4
}
