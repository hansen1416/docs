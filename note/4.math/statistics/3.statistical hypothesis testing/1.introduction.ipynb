{
 "cells": [
  {
   "cell_type": "markdown",
   "metadata": {},
   "source": [
    "__Statistic Hypothesis testing__\n",
    "\n",
    "Coin with unknown prob. of head, $p$\n",
    "\n",
    "$H_0 : p = \\frac{1}{2}$\n",
    "\n",
    "$H_1 : p > \\frac{1}{2}$\n",
    "\n",
    "number of heads $X \\sim Bin(n,p)$\n",
    "\n",
    "---\n",
    "\n",
    "Assume $n=3$ and $H_0$ holds,\n",
    "\n",
    "Let $X_{obs} = 3,\\; P(X=3|H_0) = \\frac{1}{2}^3 = \\frac{1}{8}$\n",
    "\n",
    "_It doesn't necessarily imply the coin is biased in favor of heads, becasue 1/8 is large enough_  \n",
    "_no strong evidence against $H_0$ in favor of $H_1$_\n",
    "\n",
    "---\n",
    "\n",
    "Assume $n=30$ and $H_0$ holds,\n",
    "\n",
    "Let $X_{obs} = 30,\\; P(X=30|H_0) = \\frac{1}{2}^30 = \\frac{1}{1073741824} = 9.313225746154785e-10$\n",
    "\n",
    "_strong evidence against $H_0$ in favor of $H_1$_\n",
    "\n",
    "---\n",
    "\n",
    "Assume $n=30$ and $H_0$ holds,\n",
    "\n",
    "Let $X_{obs} = 0,\\; P(X=0|H_0) = \\frac{1}{2}^30 = \\frac{1}{1073741824} = 9.313225746154785e-10$\n",
    "\n",
    "_not an evidence in favor of $H_1$_\n",
    "\n",
    "---\n",
    "\n",
    "Assume $n=1000000$ and $H_0$ holds,\n",
    "\n",
    "Let $X_{obs} = 500000,\\; P(X=500000|H_0) < 0.001$\n",
    "\n",
    "_not an evidence against $H_0$_\n",
    "\n",
    "__If probability to get the data that we really observed, provided that null hypothesis holds, is ridiculously small, like in this example2, then we have to reject null hypothesis.__"
   ]
  },
  {
   "cell_type": "markdown",
   "metadata": {},
   "source": [
    "_example_\n",
    "\n",
    "A magician claims that he can predict the future. To test his abilities, the following experiment is conducted. A fair coin is tossed several times, every time magician tries to guess the outcome before he can see it. Sometimes his guess is correct, sometimes it is not. We allow the magician to make mistakes from time to time (nobody is perfect, even magicians). Mark all claims with which you agree.\n",
    "\n",
    "- If we toss a coin 100 times and the magician guesses 100 times, it provide strong evidence for the abilities magician claim to have. \n",
    "\n",
    "- If we toss a coin 200,000 times and magician cannot predict the future, it is more likely for him to predict correctly 100,000 times out of 200,000 that any other number of times (i.e. probability to predict exactly 100,000 times is larger than probability to predict \n",
    "\n",
    "- If we toss a coin 200000 times and the magician cannot predict the future, probability that he predicts 100000 times correctly is less than 0.002\n"
   ]
  }
 ],
 "metadata": {
  "kernelspec": {
   "display_name": "Python 3",
   "language": "python",
   "name": "python3"
  },
  "language_info": {
   "codemirror_mode": {
    "name": "ipython",
    "version": 3
   },
   "file_extension": ".py",
   "mimetype": "text/x-python",
   "name": "python",
   "nbconvert_exporter": "python",
   "pygments_lexer": "ipython3",
   "version": "3.7.9"
  }
 },
 "nbformat": 4,
 "nbformat_minor": 4
}
