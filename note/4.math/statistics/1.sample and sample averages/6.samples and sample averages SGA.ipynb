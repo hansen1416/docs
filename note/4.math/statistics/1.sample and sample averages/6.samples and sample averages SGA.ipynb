{
 "cells": [
  {
   "cell_type": "markdown",
   "metadata": {},
   "source": [
    "1. Can we say that $x_1$ and $x_2$ can be considered as realizations of independent random variables?\n",
    "\n",
    "No. For a certain respondent, it's more likely his reaction is either fast or slow. It's less likely his reaction time is completely random on each picture. So if his reaction is fast on the first picture, it's more likely his reaction is also fast on the second picture. Thus x_1 and x_2 can not be considered as realizations of independent random variables.\n",
    "\n",
    "---\n",
    "\n",
    "2. Can we say that $x_1$ and $x_5$ can be considered as realizations of independent random variables?\n",
    "\n",
    "No. A picture could be more difficult to recognize than the other pictures. So if one respondent reacted fast on one picture, it's more likely another respondent also react fast on it, and vice versa. Thus $x_1$ and $x_5$ can be considered as realizations of independent random variables.\n",
    "\n",
    "---\n",
    "\n",
    "3. Can we say that $(x_1, \\ldots, x_n)$ can be considered as an i.i.d. sample from some random variable?\n",
    "\n",
    "No. As the conclusion in the above questions. $x_i$ depend on the respondents and on the picture. Thus $(x_1, \\ldots, x_n)$ can not be considered as an i.i.d. sample from some random variable."
   ]
  },
  {
   "cell_type": "markdown",
   "metadata": {},
   "source": [
    "Consider arbitrary sample $x=(x_1, \\ldots, x_n)$. Let us find such value $a$ that $\\sum_{i=1}^n (x_i - a)^2$ is minimized. Prove that $a$ is sample average $\\bar x$ of $x$.\n",
    "\n",
    "---\n",
    "\n",
    "Let $f(a) = \\sum_{i=1}^n (x_i - a)^2$. $f(a)$ is differentiable. And\n",
    "\n",
    "$f^{\\prime}(a) = \\sum_{i=1}^n -2 (x_i - a) $\n",
    "\n",
    "And when $a = \\bar{x} \\implies f^{\\prime}(a) = \\sum_{i=1}^n -2 (x_i - \\bar{x}) = 0 \\implies f(a)$ has a local extremum at $a = \\bar{x}$\n",
    "\n",
    "$f^{\\prime\\prime}(a) = 2n > 0 \\implies f(a) $ is convex.\n",
    "\n",
    "Therefor $a=\\bar{x}$ minimized $\\sum_{i=1}^n (x_i - a)^2$."
   ]
  },
  {
   "cell_type": "markdown",
   "metadata": {},
   "source": [
    "Assume that $(x_1, \\ldots, x_n)$ is i.i.d sample from some random variable $X$. Let us sort the values of this sample in ascending order. Denote the new series of numbers by $(y_1, \\ldots, y_n)$. Is $(y_1, \\ldots, y_n)$ i.i.d. sample from $X$? Explain your answer.\n",
    "\n",
    "---\n",
    "\n",
    "$(x_1, \\ldots, x_n)$ is i.i.d sample from some random variable $X$, $P(X = x_i)$ is same for all $x_i$.\n",
    "\n",
    "And for the new series, $P(Y=y_i) = P(X = x_i)$\n",
    "\n",
    "consider the conditional probabilty of $y_j$ given $y_1$ where $j > 1$\n",
    "\n",
    "$P(Y=y_j | Y=y_1) \\leq P(Y=y_j)$ since $Y$ is sorted and $y_j \\geq y_1$ \n",
    "\n",
    "Thus $(y_1, \\ldots, y_n)$ is not i.i.d. sample from $X$."
   ]
  }
 ],
 "metadata": {
  "kernelspec": {
   "display_name": "Python 3",
   "language": "python",
   "name": "python3"
  },
  "language_info": {
   "codemirror_mode": {
    "name": "ipython",
    "version": 3
   },
   "file_extension": ".py",
   "mimetype": "text/x-python",
   "name": "python",
   "nbconvert_exporter": "python",
   "pygments_lexer": "ipython3",
   "version": "3.7.7"
  }
 },
 "nbformat": 4,
 "nbformat_minor": 4
}
