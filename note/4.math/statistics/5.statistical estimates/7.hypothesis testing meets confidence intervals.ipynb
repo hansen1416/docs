{
 "cells": [
  {
   "cell_type": "markdown",
   "metadata": {},
   "source": [
    "There is a connection between confidence intervals and hypothesis testing. Assume that we have an i.i.d. sample $x=(x_1, \\ldots, x_n)$ from some random variable $X$ with finite variance. Consider one-sample t-test with null hypothesis $\\mathbb EX=\\mu_0$ and symmetric alternative. For simplicity, let us assume that $n$ is large enough and replace TT-distribution with standard normal distribution. Assume that one found confidence interval II for $\\mathbb EX$ with confidence level 95%. Prove that standard decision-making procedure of t-test is equivalent to the following: reject null hypothesis if and only if $\\mu_0$ does not belong to $I$. Follow the plan:\n",
    "\n",
    "1. Assume that null hypothesis holds. We believe that t-statistics in this case is distributed according to standard normal law (due to assumption that $n$ is large). Recall that t-statistics for sample $x$ is defined as $t\\approx \\frac{\\bar x - \\mu_0}{\\mathrm{\\mathop{SD}}(x)}\\sqrt{n}$\n",
    "\n",
    "$H_0: \\mathbb EX=\\mu_0$  \n",
    "$H_1: \\mathbb EX\\ne\\mu_0$\n",
    "\n",
    "---\n",
    "2. If $\\mu_0$ does not lie in $I$, either $\\mu_0$ is larger than the right endpoint of $I$ or $\\mu_0$ is smaller than the left endpoint of $I$. Let us consider the latter case.\n",
    "\n",
    "---\n",
    "3. Consider event “$\\mu_0$ is smaller than the left endpoint of $I$”. Write this condition as an inequality using $\\mu_0, \\bar x, \\mathrm{\\mathop{SD}}(x), n$ and a constant $1.96$. (Recall that we assume that null hypothesis holds.)\n",
    "\n",
    "$\\mu_0 < \\bar{x} - 1.96 \\times \\frac{\\mathrm{\\mathop{SD}}(x)}{\\sqrt{n}}$\n",
    "\n",
    "---\n",
    "4. Transform this inequality such that it becomes $(\\ldots)>1.96$. Does the left-hand part look similar to something?\n",
    "\n",
    "$\\frac{\\bar{x} - \\mu_0}{\\mathrm{\\mathop{SD}}(x)} \\cdot \\sqrt{n} > 1.96$\n",
    "\n",
    "left-hand part looks similar to t-statistics\n",
    "\n",
    "---\n",
    "\n",
    "5. Recall why we use number $1.96$, how it is connected to standard normal distribution.\n",
    "\n",
    "In probability and statistics, 1.96 is the approximate value of the 97.5 percentile point of the standard normal distribution. 95% of the area under a normal curve lies within roughly 1.96 standard deviations of the mean, and due to the central limit theorem, this number is therefore used in the construction of approximate 95% confidence intervals.\n",
    "\n",
    "---\n",
    "\n",
    "6. Find probability that $\\mu_0$ is smaller than the left endpoint of $I$ provided that null hypothesis holds."
   ]
  },
  {
   "cell_type": "code",
   "execution_count": 1,
   "metadata": {},
   "outputs": [],
   "source": [
    "import matplotlib.pyplot as plt\n",
    "import numpy as np\n",
    "import scipy.stats"
   ]
  },
  {
   "cell_type": "code",
   "execution_count": 8,
   "metadata": {},
   "outputs": [
    {
     "data": {
      "text/plain": [
       "0.024997895148220435"
      ]
     },
     "execution_count": 8,
     "metadata": {},
     "output_type": "execute_result"
    }
   ],
   "source": [
    "scipy.stats.norm.cdf(-1.96)"
   ]
  },
  {
   "cell_type": "markdown",
   "metadata": {},
   "source": [
    "approximately 2.5%"
   ]
  },
  {
   "cell_type": "markdown",
   "metadata": {},
   "source": [
    "7. Find probability that $\\mu_0$ does not lie in $I$ provided that null hypothesis holds."
   ]
  },
  {
   "cell_type": "code",
   "execution_count": 9,
   "metadata": {},
   "outputs": [
    {
     "data": {
      "text/plain": [
       "0.04999579029644087"
      ]
     },
     "execution_count": 9,
     "metadata": {},
     "output_type": "execute_result"
    }
   ],
   "source": [
    "scipy.stats.norm.cdf(-1.96) * 2"
   ]
  },
  {
   "cell_type": "markdown",
   "metadata": {},
   "source": [
    "approximately 5%"
   ]
  },
  {
   "cell_type": "markdown",
   "metadata": {},
   "source": [
    "8. Assume we are following rule \"reject null hypothesis if and only if $\\mu_0$ does not belong to $I$.\" Find probability that we falsely reject null hypothesis provided that it is true.\n",
    "\n",
    "\"falsely reject null hypothesis provided that it is true\" is type I error, it's 5%."
   ]
  },
  {
   "cell_type": "markdown",
   "metadata": {},
   "source": [
    "9. Explain in what cases (in terms of $\\bar x$ will we reject null hypothesis if we follow mentioned rule.\n",
    "\n",
    "$\\frac{\\bar{x} - 0}{\\mathrm{\\mathop{SD}}(x)} \\cdot \\sqrt{n} > 1.96 \\implies \\frac{\\bar{x}}{\\mathrm{\\mathop{SD}}(x)} \\cdot \\sqrt{n} > 1.96$\n",
    "\n"
   ]
  },
  {
   "cell_type": "markdown",
   "metadata": {},
   "source": [
    "10. Explain that this rule is equivalent to the rule used in ordinary two-sided one-sample t-test.\n",
    "\n",
    "formula of t-statistic  is $t\\approx \\frac{\\bar x - \\mu_0}{\\mathrm{\\mathop{SD}}(x)}\\sqrt{n}$\n",
    "\n",
    "formula of confidence interval radius is $s = 1.96 \\times \\frac{\\mathrm{\\mathop{SD}}(x)}{\\sqrt{n}}$  \n",
    "here 1.96 is the approximate value of the 97.5 percentile point of the standard normal distribution.  \n",
    "It can be another constant if we want to calculate a CI other than 95% of a different distribution (t-distribution).\n",
    "\n",
    "In two-sided one-sample t-test, the interval between two critical values is equivalent to the confidence interval of a t-distribution. If calculated t-statistic is in this confidence interval, we don't reject the null hypothesis.  \n",
    "If t-statistic is outside of the confidence interval, we reject the null hypothesis."
   ]
  }
 ],
 "metadata": {
  "kernelspec": {
   "display_name": "Python 3",
   "language": "python",
   "name": "python3"
  },
  "language_info": {
   "codemirror_mode": {
    "name": "ipython",
    "version": 3
   },
   "file_extension": ".py",
   "mimetype": "text/x-python",
   "name": "python",
   "nbconvert_exporter": "python",
   "pygments_lexer": "ipython3",
   "version": "3.7.9"
  }
 },
 "nbformat": 4,
 "nbformat_minor": 4
}
