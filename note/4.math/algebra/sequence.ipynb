{
 "cells": [
  {
   "cell_type": "markdown",
   "metadata": {},
   "source": [
    "### geometric progression\n",
    "\n",
    "$ r = \\frac{a_2}{a_1} = \\frac{a_3}{a_2}=\\;...\\;=\\frac{a_n}{a_{n-1}}$\n",
    "--\n",
    "$r\\;\\;\\;common\\;ratio$\n",
    "\n",
    "$a_1\\;\\;\\;first\\;term$\n",
    "\n",
    "$a_2\\;\\;\\;second\\;term$\n",
    "\n",
    "$a_n\\;\\;\\; n-th\\;term$\n",
    "\n",
    "n th term equal\n",
    "\n",
    "$a_n=a_1r^{n-1}$\n",
    "\n",
    "### sum of terms in geometric progression\n",
    "\n",
    "$S_n=\\frac{a_1(1-r^n)}{1-r}, \\;\\;\\; r\\neq1 $\n",
    "--"
   ]
  }
 ],
 "metadata": {
  "kernelspec": {
   "display_name": "Python 3",
   "language": "python",
   "name": "python3"
  },
  "language_info": {
   "codemirror_mode": {
    "name": "ipython",
    "version": 3
   },
   "file_extension": ".py",
   "mimetype": "text/x-python",
   "name": "python",
   "nbconvert_exporter": "python",
   "pygments_lexer": "ipython3",
   "version": "3.6.8"
  }
 },
 "nbformat": 4,
 "nbformat_minor": 2
}
