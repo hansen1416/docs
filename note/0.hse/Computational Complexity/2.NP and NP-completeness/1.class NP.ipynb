{
 "cells": [
  {
   "cell_type": "markdown",
   "metadata": {},
   "source": [
    "## Polynomial-time verifiers\n",
    "\n",
    "Def: A verifier $L \\subseteq \\Sigma^*$ is an algorithm \n",
    "\n",
    "- if $x \\in L \\implies \\exists$ cetrificate $V(x, c)=$ accept. \n",
    "\n",
    "- if $x \\notin L \\implies \\forall$ cetrificate $V(x, c)=$ reject.\n",
    "\n",
    "For instance, an algorithm check whether a certificate is Hamiltonian cycle.\n",
    "\n",
    "$\\mathcal{A}(G, c)$\n",
    "\n",
    "1. $|c|=n$ check vertices in $c$ is euqal to total vertices.\n",
    "\n",
    "2. create a list of length $n$. Go through all vertices in $c$, fill corresponding position in $n$ with 1, if found a vertex and it's already 1 in $n$. means duplicate vertices. \n",
    "\n",
    "3. is there m edges between adjacent vertices?\n",
    "\n",
    "4. If there is a edge between last vertex and first vertex.\n",
    "\n",
    "If all above question is yes. we have a Hamiltonian cycle."
   ]
  },
  {
   "cell_type": "markdown",
   "metadata": {},
   "source": [
    "---\n",
    "\n",
    "Input: G, k\n",
    "\n",
    "Question: G has clique k\n",
    "\n",
    "verifier complexity $O(n^2)$\n",
    "\n",
    "1. verify subset of size k, $O(n)$\n",
    "\n",
    "2. check connectioness, $O(k^2) \\le O(n^2)$. (adjacency matrix)\n",
    "\n",
    "Verifier $V(x, c)$ works in time polynomial.\n",
    "\n",
    "A similiar verifier can work on independent set.\n",
    "\n",
    "$L \\in NP \\iff L $ has a poly-time verifier."
   ]
  },
  {
   "cell_type": "markdown",
   "metadata": {},
   "source": [
    "---\n",
    "\n",
    "# Problems in NP\n",
    "\n",
    "Clique $\\in$ NP, IS $\\in$ NP, HC $\\in$ NP"
   ]
  },
  {
   "cell_type": "markdown",
   "metadata": {},
   "source": [
    "$L_1 \\in NP \\;\\;\\;\\;\\;\\; L_2 \\in NP$\n",
    "\n",
    "---\n",
    "__union of two NP__\n",
    "\n",
    "Clique problem work in poly-time, Independent set work in poly-time. Can their union also work in polynomial time.\n",
    "\n",
    "$L_1 \\cup L_2 \\in NP$?\n",
    "\n",
    "$V_1(x, c), O(n^k)\\;\\;\\;\\;\\;\\; V_2(x,c), O(n^l)\\;\\;\\;\\;\\;\\;k+l=n$\n",
    "\n",
    "$V(x, c) = V_1(x,c) \\vee V_2(x,c)$\n",
    "\n",
    "$x \\in L_1 \\cup L_2$\n",
    "\n",
    "$V(x, c), O(n^k + n^l) = O(n^{max(k,l)})$\n",
    "\n",
    "---\n",
    "__intersection of two NP__\n",
    "\n",
    "Clique problem work in poly-time, Independent set work in poly-time. Can their intersection also work in polynomial time.\n",
    "\n",
    "$L_1 \\cap L_2 \\in NP$?\n",
    "\n",
    "$V_{\\cap}(x, (c_1, c_2)) = V_1(x, c_1) \\& V_2(x, c_2)$\n",
    "\n",
    "$V_{\\cap}(x, c), O(n^k + n^l) = O(n^{max(k,l)})$"
   ]
  },
  {
   "cell_type": "markdown",
   "metadata": {},
   "source": [
    "---\n",
    "\n",
    "__Vertex cover__ problem\n",
    "\n",
    "Given a graph, Vertices $V$, edges $E$, interger $k$, does it has a set of vertices $S$ (certificate) such that for every edge, at least one of its vertex is in $S$\n",
    "\n",
    "$\\mathcal{A}(V, E, k, S)$\n",
    "\n",
    "1. $S \\subseteq V$\n",
    "\n",
    "2. $ |S| \\le k $\n",
    "\n",
    "3. $\\forall(u, v) \\in V: u \\in S \\lor v \\in S$\n",
    "\n",
    "$O_1(n) + O_2(n) + O_3(n^2) = O(n^2)$ when using adjacency matrix."
   ]
  },
  {
   "cell_type": "markdown",
   "metadata": {},
   "source": [
    "---\n",
    "\n",
    "__Min cut__ problem\n",
    "\n",
    "Given again a graph G and again a number k and the question is, can you split the set of vertices into two parts so that the number of edges that goes from one part to the other part is at most k.\n",
    "\n",
    "$\\mathcal{A}(V, E, k, S)$ \n",
    "\n",
    "1. $S \\subseteq V$\n",
    "\n",
    "2. The number of edges from $S$ to the other part of the graph, is $\\le k$\n",
    "\n",
    "$O(n)$"
   ]
  },
  {
   "cell_type": "markdown",
   "metadata": {},
   "source": [
    "---\n",
    "\n",
    "__Clustering__\n",
    "\n",
    "Given a group of items. Separate them into $k$ groups. the distance between items of different groups is at least $d$.\n",
    "\n",
    "Certificate is $k$ groups of items.\n",
    "\n",
    "Verifier: check \n",
    "\n",
    "1. groups $\\le k$\n",
    "\n",
    "2. distance of vertices in different groups is $\\ge d$ "
   ]
  },
  {
   "cell_type": "markdown",
   "metadata": {},
   "source": [
    "---\n",
    "\n",
    "Let A, B, and C be languages over $\\Sigma$. Assume that A and B are in NP and that C is in P. Which of the following problems can be shown to be in NP?\n",
    "\n",
    "- $A \\cup B, V_{\\cup}(x, c) = O(n^k + n^l) = O(n^{max(k,l)})$\n",
    "\n",
    "- $A \\backslash B$, not B not necessarly NP\n",
    "\n",
    "- $A \\backslash C$, not C is still poly-time\n",
    "\n",
    "- $C \\backslash A$, not A not necessarly NP\n",
    "\n",
    "- The language $A^*$ over $\\Sigma$ defined by concatenations of any number of strings in A.  \n",
    "${w_1⋯w_t:t∈Z≥0\\;\\; and\\;\\; w_1∈A,…,w_t∈A}$  \n",
    "Indeed, a certificate for a string $w = w_1 \\cdots w_t$ in $A^*$ constists of $t$, a list of $t-1$ break points, and a list of certificates for each of the parts.\n",
    "\n",
    "- $C, P \\subseteq NP$"
   ]
  },
  {
   "cell_type": "markdown",
   "metadata": {},
   "source": [
    "---\n",
    "We associate decision problems to languages by encoding inputs in binary in some standard way. Inputs for which the answer is \"yes\" are associated to strings in the language. \n",
    "\n",
    "Given a graph, a dominating set is a subset $S$ of vertices such that each vertex of the graph is either in $S$ or has a neighbor in $S$.\n",
    "\n",
    "The dominating set problem :\n",
    "\n",
    "    Input: A graph and an integer $k$.\n",
    "    Question: Does the graph have a dominating set of size at most $k$?\n",
    "\n",
    "> This problem is not known to be in P, but it is in NP, because the dominating set is a certificate that can be checked in polynomial time.\n",
    "\n",
    "1. $S \\subseteq V$\n",
    "\n",
    "2. Check every vertices in $V$, either in $S$ or has a neighbor in $S$, $O(n^2)$"
   ]
  },
  {
   "cell_type": "markdown",
   "metadata": {},
   "source": [
    "---\n",
    "Select a correct statement about the following problem:\n",
    "\n",
    "Input: A graph and an integer $k$.  \n",
    "Question: Does the graph have at least $k$ different Hamiltonian cycles?\n",
    "  \n",
    "> A list of k Hamiltonian cycles is not an appropriate certificate for proving that this problem is in NP.\n",
    "\n",
    "Such a list has size at least k, which can be exponential in the input length. Note that there exist graphs with an exponential number of Hamiltonian cycles.\n",
    "\n",
    "the input length is $O(\\log k + n^2)$ where $n$ is the number of nodes in the graph. A list of $k$ Hamiltonian cycles has length $\\Omega(kn\\log n)$. Since there exist graphs with $2^{\\Omega(n)}$ Hamiltonian cycles, $k$ can be exponential in both $\\log k$ and $n$. "
   ]
  },
  {
   "cell_type": "markdown",
   "metadata": {},
   "source": [
    "---\n",
    "\n",
    "Select a correct statement about the following problem.\n",
    "\n",
    "Input: A graph and a list of cycles.\n",
    "Question: Does the list contain every Hamiltonian cycle of the graph?\n",
    "\n",
    "> This problem is not known to be in NP. However, if we negate the question, then the problem is in NP."
   ]
  },
  {
   "cell_type": "markdown",
   "metadata": {},
   "source": [
    "---\n",
    "\n",
    "Let f be a function. Suppose that a language $L$ has a polynomial-time verifier $V$ for which all certificates $c$ such that $V(w,c) = 1$ have length $f(|w|)$. \n",
    "\n",
    "Which of the following are correct?\n",
    "\n",
    "> If the above statement is true for $f(n) = e$ for some constant $e$, then L is in P.\n",
    "\n",
    "> If the above statement is true for $f(n) = e\\log n$ for some constant $e$, then L is in P.\n",
    "\n",
    "> If the above statement is true for $f(n) = e\\sqrt{n}$ for some constant $e$, then L is in P. FALSE\n",
    "\n",
    "> If the above statement is true for $f(n) = b \\cdot n^e$ for some constants $b$ and $e$, then L is in P. FALSE"
   ]
  },
  {
   "cell_type": "markdown",
   "metadata": {},
   "source": [
    "# P vs NP vs EXPTIME\n",
    "\n",
    "$L \\in P \\implies L \\in NP$\n",
    "\n",
    "Assume an algorithm $B(x)$, $x$ is the certificate\n",
    "\n",
    "return 1, when $x \\in L$, and 0 otherwise\n",
    "\n",
    "$V(x,c)=B(x)$\n",
    "\n",
    "\n",
    "Let us check whether this works. So if X isn't the language, then we must come up with a certificate so that the verifier accepts. But that's easy because it always accept, so it doesn't matter what certificate we give an X, X is not in the language that always rejects. That's an easy one, so we have P as a subset of NP.\n",
    "\n",
    "$P \\subseteq NP$\n",
    "\n",
    "$P = NP$?"
   ]
  },
  {
   "cell_type": "markdown",
   "metadata": {},
   "source": [
    "---\n",
    "\n",
    "Let $L \\in NP, L \\subseteq \\Sigma^*$\n",
    "\n",
    "Let $\\mathcal{A}$ be a verifier for $L$, working in time $n^k$\n",
    "\n",
    "Define an algorithm $B(x)$, such that $B(x) = 1 \\iff x \\in L$\n",
    "\n",
    "$\\forall c \\in \\Sigma^*$ \n",
    "\n",
    "for all certificate, from length 1, more and more, s.t. $|c| \\le n^k$. _(The verifier works at most and time n to the power k, then it can only read at most n to the k bits in the certificate.)_\n",
    "\n",
    "$if\\;\\;\\mathcal{A}(x, c) = 1$\n",
    "\n",
    "    return 1 (accept)\n",
    "    \n",
    "return 0 _(if we tried all such certificates and haven't found one that really proves that x is in $L$, we conclude that x is not in $L$)_\n",
    "\n",
    "---\n",
    "\n",
    "How many iterations?\n",
    "\n",
    "$\\forall |c| \\le n^k$, $n^k$ bits, in each position, it's an element of $\\Sigma$. either have a symbol from Sigma or nothing\n",
    "\n",
    "$\\le (|\\Sigma| + 1)^{n^k}$, (all element in $\\Sigma$ and 1 nothing)\n",
    "\n",
    "\n",
    "in one iteration, we simply generate a new certificate. And this takes time proportional to the length of this certificate. So $O(n^k)$\n",
    "\n",
    "total time $O(2^{n^d})$ for some constant $d$\n",
    "\n",
    "---\n",
    "\n",
    "$EXP = U_d\\; TIME(2^{n^d})$\n",
    "\n",
    "$P \\subseteq NP \\subseteq EXP$\n",
    "\n",
    "$P \\neq EXP$, but $P = NP$?, $NP = EXP$?. assume they different, because we don't know if there is algorithm that make them equal."
   ]
  }
 ],
 "metadata": {
  "kernelspec": {
   "display_name": "Python 3",
   "language": "python",
   "name": "python3"
  },
  "language_info": {
   "codemirror_mode": {
    "name": "ipython",
    "version": 3
   },
   "file_extension": ".py",
   "mimetype": "text/x-python",
   "name": "python",
   "nbconvert_exporter": "python",
   "pygments_lexer": "ipython3",
   "version": "3.7.9"
  }
 },
 "nbformat": 4,
 "nbformat_minor": 4
}
