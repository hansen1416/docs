{
 "cells": [
  {
   "cell_type": "markdown",
   "metadata": {},
   "source": [
    "> Suppose that A(G, s, t) is a polynomial-time algorithm that checks if there exists a Hamiltonian path from vertex s to vertex t in a directed graph G. Show that, in this case, there is a polynomial-time algorithm B(G, s, t) that finds a Hamiltonian path from vertex s to vertex t in directed graph G if such a path exists and reports that there is no such a path otherwise.\n",
    "\n",
    "First let A check if there is a Ham. path in G, if no, return no. If yes, remove one edge each time, if A says no on the remaining graph, keep the edge in the graph, otherwise drop it. At the end we would have a Hamiltonian path. There are maximum n(n-1) edges in a directed graph, so this process takes polynomial time."
   ]
  },
  {
   "cell_type": "markdown",
   "metadata": {},
   "source": [
    "> A field is divided into n beds each of which is divided into m cells. Beds are separated by fences, so that, from a bed, it is not possible to see what happens in another bed. There are no fences between cells of the same bed. In some cells, there are saucers with milk; in some others, there are pieces of cheese; the remaining cells are empty. Is it possible to place cats in milk cells and mice in cheese cells so that, for each $i \\leq m$, the $i$th cell in at least one bed was occupied by a cat or a mouse, while no cat could see any mouse (i.e., there were no cat and mouse sharing a bed)? \n",
    ">\n",
    ">Prove that this problem is NP-complete or give a polynomial-time algorithm that solves it.\n",
    "\n",
    "Given a solution of this problem, one can verfiy it by check each bed, see if there are both cat and mouse. And if the i-th cell is occupied, mark it true. If all m cells are true, and no cat and mouse sharing a bed. Accept the certificate. Otherwise reject it, it takes polynomial time of input length n and m.\n",
    "\n",
    "Let i <= m, j <= n. x_{ij} represent i-th cell in j-th bed. \n",
    "\n",
    "Suppose in bed 1. The 1, 3 cells are milk, 2, 4 cells are cheese. We have a SAT \n",
    "\n",
    "((x_11 or x_31) and \\neg(x_21 and x_41)) or (\\neg(x_11 and x_31) and (x_21 or x_41))\n",
    "\n",
    "We can build a SAT for each bed. And for m cells, we have\n",
    "\n",
    "(x_11 or x_12 or ... or x_1n) and ... and (x_m1 or x_m2 or x_mn)\n",
    "\n",
    "Claim: the i-th cell in at least one bed was occupied by a cat or a mouse, while no cat could see any mouse. if and only if the above n+1 SAT are satisfied.\n",
    "\n",
    "If in bed 1 the 1, 3 cell are milk, 2, 4 cell are cheese, if either 1 or 3 has a cat. then there are no mice in 2 and 4. It means if x_11 or x_31 is 1, both x_21 and x_41 must be 0. Or mice take one or both of x_21 and x_41, while x_11 and x_31 are both 0.\n",
    "\n",
    "At least one cell is occupied by a cat or a mouse, then for i-th cell, at least one of (x_i1, ... x_in) must be 1.\n",
    "If the n+1 SAT can be satisfied, it means there is no bed have both cat and mouse. And the i-th cell is occupied in at least one bed.\n",
    "\n",
    "Since SAT is NP-complete, thus this problem is NP-complete."
   ]
  },
  {
   "cell_type": "markdown",
   "metadata": {},
   "source": [
    ">Consider the following version of the Travelling Salesman problem:\n",
    ">\n",
    ">Input: A complete undirected graph with at least four vertices and weighted edges.\n",
    ">\n",
    ">Output: A minimum-weight cycle that visits every vertex exactly once.\n",
    ">\n",
    ">In which of the following cases removing a vertex from the graph can lead to a solution of a greater cost (i.e., to a greater minimum weight of a cycle)?\n",
    ">\n",
    ">All weights are negative numbers.\n",
    ">Every vertex is a point on a plane, and the weight of an edge is the Euclidean distance between the points it connects.\n",
    ">Explain your answer by giving an example when the solution's cost increases or proving that this cannot happen.\n",
    "\n",
    "1. Suppose a complete graph with 4 vertices, One of its vertex a with 3 edges weighted -100, the rest of the edges are weighted -1. Clearly there is a minimum-weight cycle that visits every vertex exactly once, the total weight is -202. But if remove vertex a, the total weight of a minimum-weight cycle would be -3, which lead to a solution of a greater cost.\n",
    "\n",
    "2. If all vertices are on a Euclidean plane, because of triangle inequality D[a,b] + D[b,c] >= D[a,c], thus remove vertex b will not lead to a solution of a greater cost."
   ]
  },
  {
   "cell_type": "markdown",
   "metadata": {},
   "source": [
    ">Given $n$ items and their weights $w_1, w_2, \\dots, w_n$, we have to pack them into knapsacks each of which can carry items with the total weight of at most $W$. We have $w_i \\leq W$ for all $i$.\n",
    ">\n",
    ">Let us take a knapsack and start packing it with items in an arbitrary order until we come across an item that no longer fits in the knapsack. Then we take another knapsack and pack it in the same manner. We continue like this until we have packed all the items. (Assume that we have as many knapsacks as needed.)\n",
    ">\n",
    ">Show that this algorithm may sometimes use more knapsacks than it is necessary. Is it true that the number of knapsacks used by the algorithm is never more than twice the minimal number of knapsacks needed to pack all the given items? Prove that this is the case or give a counterexample.\n",
    "\n",
    "\n",
    "Suppose we randomly picked some items of small wieght, and then randomly picked a large weight item, which make the total weight just over W. \n",
    "\n",
    "\\sum w_s + w_l > W, w_s represents small weight items, w_l represents large weight items. \n",
    "To make the gap between the actually used knapsack and optimal number of knapsack as large as possible. It means each knapsack pack the smallest possible number of items. \n",
    "\n",
    "Consider a case that there are n/2 items w_s weighted (2*W/n)+\\epsilon and n/2 items w_l weighted W-(2*W/n). And we are extremly unlucky. First picked a w_s, and then picked a w_l, the total weight just over W, so the w_l packed in another knapsack. And again a samll item, followed by a big item. Finally, every item occupy a knapsack, this algorithm used n/2+n/2=n knapsacks.\n",
    "\n",
    "But the optimal solution would be packing the small items into two knapsacks, and n/2 big items take n/2 knapsacks. Totally n/2+2.\n",
    "\n",
    "Thus this algorithm may sometimes use more knapsacks than it is necessary. And since n approaches inifinity n/(n/2+2) approaches 2, the number of knapsacks used by the algorithm is never more than twice the minimal number of knapsacks needed to pack all the given items."
   ]
  },
  {
   "cell_type": "markdown",
   "metadata": {},
   "source": [
    ">Let A(G, k) be a polynomial-time algorithm that, for arbitrary graph G and natural number k, with probability at least 1/2, returns 1 if G has a clique of size k and, with probability 1, returns 0 if G has no such a clique.\n",
    ">\n",
    ">Let B(G, k) be a polynomial-time algorithm that, for arbitrary graph G and natural number k, with probability at least 1/2, returns 1 if G has an independent set of size k and, with probability 1, returns 0 if G has no such an independent set.\n",
    ">\n",
    ">Describe a polynomial-time algorithm C(G, k, m) that, for arbitrary graph G and natural numbers k and m, with probability at least 1/2, returns 1 if G has a clique of size k and an independent set of size m and, with probability 1, returns 0 otherwise.\n",
    "\n",
    "Construct a inverse graph of G, inv.G.\n",
    "\n",
    "1. Run A(G,k), if it returns 0, return 0. If it returns 1, run B(inv.G, k), if it returns 0, return 0, if it returns 1, Save the value 1 for step 1.\n",
    "\n",
    "2. Run B(G,m), if it returns 0, return 0. If it returns 1, run A(inv.G, m), if it returns 0, return 0, if it returns 1, Save the value 1 for step 2.\n",
    "\n",
    "If both of the two steps return 1, C return 1. otherwise return 0. When it returns 0, it's always correct. In step 1 and 2, the probability of both A and B to be wrong is 1/4.  So when it returns 1, the probability of G has a clique of size k and an independent set of size m is at least 1/2."
   ]
  }
 ],
 "metadata": {
  "kernelspec": {
   "display_name": "Python 3",
   "language": "python",
   "name": "python3"
  },
  "language_info": {
   "codemirror_mode": {
    "name": "ipython",
    "version": 3
   },
   "file_extension": ".py",
   "mimetype": "text/x-python",
   "name": "python",
   "nbconvert_exporter": "python",
   "pygments_lexer": "ipython3",
   "version": "3.7.9"
  }
 },
 "nbformat": 4,
 "nbformat_minor": 4
}
