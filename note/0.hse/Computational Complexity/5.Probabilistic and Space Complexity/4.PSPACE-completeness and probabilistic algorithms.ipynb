{
 "cells": [
  {
   "cell_type": "markdown",
   "metadata": {},
   "source": [
    ">Suppose that there is a polynomial-time randomized algorithm that, for any input graph $G$ and natural number $k$, with probability at least 2/3, correctly reports whether $G$ has a clique of size $k$. Assume that, on a graph with $n$ vertices, the algoirthm makes at most $\\log_2 n$ randomized steps, each time choosing uniformly at random between two options; all other steps are deterministic.\n",
    ">\n",
    ">Prove that, in this case, P = NP.\n",
    "\n",
    "Since _the algoirthm makes at most $\\log_2 n$ randomized steps, each time choosing uniformly at random between two options_, for a input $x$ size of $n$. The randomized algorithm $A$ would have $2^{log_2 n} = n$ branches.\n",
    "\n",
    "Let a deterministic $B$ to verify the $n$ certificates from $A$, Since clique decision problem is in NP, verify a certificate takes polynomial time. There are $n$ certificates, and $A$ is a polynomial-time algorithm, hence $B$ takes polynomial time. Which means the clique decision problem solvable in polynomial-time.\n",
    "\n",
    "And the clique decision problem is NP-complete, Thus NP=P."
   ]
  },
  {
   "cell_type": "markdown",
   "metadata": {},
   "source": [
    "> Let $\\phi$ be a formula in conjunctive normal form with an arbitrary non-zero number of literals in ever clause. Assume that all literals within one clause are different and, for every variable $x$, formula $\\phi$ contains at most one of the clauses $(x)$ and $(\\neg x)$.\n",
    ">\n",
    ">Describe an algorithm that, given such a formula $\\phi$ with $m$ clauses, computes an assignment that satisfies at least $0.6m$ clauses of $\\phi$ on average.\n",
    "\n",
    "\n"
   ]
  },
  {
   "cell_type": "markdown",
   "metadata": {},
   "source": [
    "> Recall that ZPP is the class of problems decidable by probabilistic algorithms that always return a corect answer and whose expected running time is polynomial in the size of the input.\n",
    ">\n",
    "> Prove that $ZPP = RP \\cap coRP$.\n",
    "\n",
    "Definition: A language is in ZPP if it can be decided by a Las Vegas algorithm with expected running time at most a polynomial in the input length.\n",
    "\n",
    "\n",
    "1. prove $ZPP \\subseteq RP \\cap coRP$\n",
    "\n",
    "Markov's inequality $P(X \\ge a) \\le \\frac{E(X)}{a}$. Let $a = 2E(X) \\implies P(X \\ge 2E(X)) \\le 1/2$\n",
    "\n",
    "Assume we have a Las Vegas algorithm $A$, an input $w$ and a language $L$. Let the algorithm run twice of its expected time. If it retuens an answer before the time is up. Return the answer.  \n",
    "If it doesn't return an answer, Return \"No\".  \n",
    "If $w \\in L$, The probability is, $w \\in L, Pr[A \\;\\text{reject}\\; w] \\le 1/2 \\implies w \\in L, Pr[A \\;\\text{accept}\\; w] \\ge 1/2$.  \n",
    "If $w \\notin L, $, we have $Pr[A \\;\\text{reject}\\; w] = 1$  \n",
    "Hence $A \\in RP$\n",
    "\n",
    "If we return \"Yes\" after the time is up. We have:  \n",
    "$w \\in L, Pr[A \\;\\text{accept}\\; w] = 1$  \n",
    "$w \\notin L, Pr[A \\;\\text{reject}\\; w] \\ge 1/2$ \n",
    "Hence $A \\in coRP$\n",
    "\n",
    "Thus $ZPP \\subseteq RP \\cap coRP$\n",
    "\n",
    "2. prove $RP \\cap coRP \\subseteq ZPP$\n",
    "\n",
    "Assume a language $L$ has a RP algorithm $A$, and a coRP algorithm $B$\n",
    "\n",
    "Given a input, run $A$ on the input, if it gives \"Yes\", the answer must be \"Yes\". otherwise run $B$ on the input, if it gives \"NO\", the answer must be \"NO\". If it doesn't return \"Yes\" on $A$, and \"NO\" on $B$. We repeat. Only one of $A$ or $B$ can be wrong, and it's bounded by 1/2. And the expected running time is polynomial.  \n",
    "Hence $RP \\cap coRP \\subseteq ZPP$\n",
    "\n",
    "Thus $ZPP = RP \\cap coRP$."
   ]
  },
  {
   "cell_type": "code",
   "execution_count": null,
   "metadata": {},
   "outputs": [],
   "source": [
    "4"
   ]
  }
 ],
 "metadata": {
  "kernelspec": {
   "display_name": "Python 3",
   "language": "python",
   "name": "python3"
  },
  "language_info": {
   "codemirror_mode": {
    "name": "ipython",
    "version": 3
   },
   "file_extension": ".py",
   "mimetype": "text/x-python",
   "name": "python",
   "nbconvert_exporter": "python",
   "pygments_lexer": "ipython3",
   "version": "3.7.9"
  }
 },
 "nbformat": 4,
 "nbformat_minor": 4
}
