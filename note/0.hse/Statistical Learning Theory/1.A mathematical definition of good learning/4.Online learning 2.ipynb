{
 "cells": [
  {
   "cell_type": "markdown",
   "metadata": {},
   "source": [
    "## The halving algorithm with decision trees\n",
    "\n",
    "- Apply the halving algorithm to decision trees, assuming there exists a correct tree of a given size.\n",
    "\n",
    "- Modify the algorithm for the case no good upperbound on the size known.\n",
    "\n",
    "$\\mathcal H_k = $ decision trees with at most $k$ nodes (leaves are included)\n",
    "\n",
    "__Fitting trees in $\\mathcal H_k$ with the halving algorithm__\n",
    "\n",
    "- Given a problem for which there exists a decision tree with $k$ nodes always predicts correct.\n",
    "\n",
    "- We run the having algorithm with the class $\\mathcal H_k$\n",
    "\n",
    "- How many mistaks? $\\log_2 |H_k|$\n",
    "\n",
    "$|H_k| \\le (p+|y|)^k \\implies |H_k| \\le (p+2)^k$\n",
    "\n",
    "If a decision tree with at most $k$ nodes classifies all pairs $(x_1, y_1), (x_2, y_2), \\dots$ correctly, then the number of mistakes made by the halving algorithm is at most\n",
    "\n",
    "$k \\log_2(p+2)$\n",
    "\n",
    "__What if $k$ is not known?__\n",
    "\n",
    "Subsequently run the halving algorithm for $\\mathcal H_1, \\mathcal H_2, \\mathcal H_3, \\dots$\n",
    "\n",
    "Start with $\\mathcal H_{j+1}$ when every tree in $\\mathcal H_j$ contradicts the data.\n",
    "\n",
    "If a tree in $\\mathcal H_k$ is consistent with all data, the number of mistakes is at most:\n",
    "\n",
    "$\\sum_{k^{'}\\le k}1+k^{'}\\log(p+2) = k+\\frac{1}{2} k(k+1) \\log(p+2) \\le \\frac{1}{2}k(k+3)\\log(p+2)$\n",
    "\n",
    "### Weighted halving algorithm\n",
    "\n",
    "__Thorem__\n",
    ">If some $f \\in \\mathcal H_k$ is true, then the number of mistakes of the weighted halving algorithm is at most\n",
    "\n",
    "$\\log_2|\\mathcal H_k| + \\log_2(2k^2)$"
   ]
  }
 ],
 "metadata": {
  "kernelspec": {
   "display_name": "Python 3",
   "language": "python",
   "name": "python3"
  },
  "language_info": {
   "codemirror_mode": {
    "name": "ipython",
    "version": 3
   },
   "file_extension": ".py",
   "mimetype": "text/x-python",
   "name": "python",
   "nbconvert_exporter": "python",
   "pygments_lexer": "ipython3",
   "version": "3.7.9"
  }
 },
 "nbformat": 4,
 "nbformat_minor": 4
}
