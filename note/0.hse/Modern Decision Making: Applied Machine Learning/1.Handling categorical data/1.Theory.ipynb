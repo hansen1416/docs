{
 "cells": [
  {
   "cell_type": "markdown",
   "metadata": {},
   "source": [
    "## Handling missing values\n",
    "\n",
    "Replacing using kNN (k nearest neighbors)\n",
    "- use similiar observations\n",
    "- predict missing values using known ones\n",
    "\n",
    "Pros: May be pretty accurate  \n",
    "Cons: Computational expensive"
   ]
  },
  {
   "cell_type": "markdown",
   "metadata": {},
   "source": [
    "## Basic encoding methods\n",
    "\n",
    "### Label encoding\n",
    "\n",
    "- Good for ordinal features.\n",
    "- Bad for nominal features. (Introduced order)\n",
    "\n",
    "### One-hot encoding\n",
    "\n",
    "- Bad for many nominal features with many categories. (result in too many columns)\n",
    "\n",
    "### Frequency encoding\n",
    "\n",
    "- Bad if frequecies are similar\n",
    "- Helps to merge rare categories into one"
   ]
  },
  {
   "cell_type": "markdown",
   "metadata": {},
   "source": [
    "## Target encoding\n",
    "\n",
    "Feature $x_j$ takes values $U_j=\\{u_1, \\dots, u_m\\}$\n",
    "\n",
    "For each category, estimate:\n",
    "\n",
    "$u_p \\to s_p \\cong \\mathbb{E}(y | x=u_p)$ (regression)\n",
    "\n",
    "$u_p \\to s_p \\cong \\mathbb{P}(y | x=u_p)$ (classification)\n",
    "\n",
    "For each category, compute count:\n",
    "\n",
    "$count(j, u_p) = \\sum^l_{i=1}[x_{ij}=u_p]$\n",
    "\n",
    "j index of attributes, $x_{ij}$ means that this is a value for observation $i$ and for attribute $j$ and this observation is a category $u_p$"
   ]
  }
 ],
 "metadata": {
  "kernelspec": {
   "display_name": "Python 3",
   "language": "python",
   "name": "python3"
  },
  "language_info": {
   "codemirror_mode": {
    "name": "ipython",
    "version": 3
   },
   "file_extension": ".py",
   "mimetype": "text/x-python",
   "name": "python",
   "nbconvert_exporter": "python",
   "pygments_lexer": "ipython3",
   "version": "3.7.9"
  }
 },
 "nbformat": 4,
 "nbformat_minor": 4
}
