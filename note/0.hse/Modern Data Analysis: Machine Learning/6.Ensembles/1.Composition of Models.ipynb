{
 "cells": [
  {
   "cell_type": "markdown",
   "metadata": {},
   "source": [
    "## General formulation: Classfification\n",
    "\n",
    "- Let us train $M$ models: $b_1(x), \\dots, b_M(x)$ (train M models separately)\n",
    "- composition through majority vote:\n",
    "\n",
    "$a_M(x) = argmax_{y \\in \\mathbb{Y}} \\sum^{M}_{m=1}[b_m(x)=y]$ (predict separately, choose the most popular result among all models)\n",
    "\n",
    "## General formulation: Regression\n",
    "\n",
    "- Let us train $M$ models: $b_1(x), \\dots, b_M(x)$ (train M models separately)\n",
    "- composition through averaging:\n",
    "\n",
    "$a_M(x) = \\frac{1}{M} \\sum^{M}_{m=1}b_m(x)$\n",
    "\n",
    "How to build M models, if we have only 1 training dataset? (there is no use if all models are the same)\n",
    "\n",
    "Two options:\n",
    "\n",
    "- Train independently on different subsamples\n",
    "    - Bagging\n",
    "    - Random subsapces\n",
    "    \n",
    "- Train successively to correct error of the previous algorithm\n",
    "    - Boosting\n",
    "    \n",
    "    \n",
    "### Bagging\n",
    "\n"
   ]
  }
 ],
 "metadata": {
  "kernelspec": {
   "display_name": "Python 3",
   "language": "python",
   "name": "python3"
  },
  "language_info": {
   "codemirror_mode": {
    "name": "ipython",
    "version": 3
   },
   "file_extension": ".py",
   "mimetype": "text/x-python",
   "name": "python",
   "nbconvert_exporter": "python",
   "pygments_lexer": "ipython3",
   "version": "3.7.9"
  }
 },
 "nbformat": 4,
 "nbformat_minor": 4
}
