{
 "cells": [
  {
   "cell_type": "markdown",
   "metadata": {},
   "source": [
    "##  Formalise the task and suggest the evaluation criterion\n",
    "\n",
    "- What is your target variable? Why is it a good measure of success and how the film-producing company can use it to make their decision?\n",
    "\n",
    "- Which task are you going to solve (is it a regression, classification or something else)?\n",
    "\n",
    "- Which metric will you use to evaluate the performance of the model? Do you have any idea, which values of the metrics can be considered good enough? \n",
    "\n",
    "\n",
    "__The goal is to demonstrate ability to:__\n",
    "\n",
    "- Formulate real-world task in a formal manner\n",
    "\n",
    "- Set evaluation criterion for the task that are being solved"
   ]
  },
  {
   "cell_type": "markdown",
   "metadata": {},
   "source": [
    "## Explore and preprocess the data \n",
    "- Split data into train and test\n",
    "\n",
    "- Fill missing values (if there are any)\n",
    "\n",
    "- Remove irrelevant feature (if there are any) and create new ones (explore which features you have, what is their distribution and connection to the target, explain why newly created features are reasonable)\n",
    "\n",
    "- Properly encode categorical features (if required)\n",
    "\n",
    "__The goal is to demonstrate ability to:__\n",
    "\n",
    "- Identify relevant and irrelevant information in the data"
   ]
  },
  {
   "cell_type": "markdown",
   "metadata": {},
   "source": [
    "## Train the models and present result of your work\n",
    "\n",
    "- Use the models introduced during the course, which are relevant for the task you are solving\n",
    "\n",
    "- You are supposed to compare at least 3 models\n",
    "\n",
    "- Tune (or explain why there is no need to tune) hyperparameters of each model\n",
    "\n",
    "- Use cross-validation to compare models and select hyperparameters\n",
    "\n",
    "- Which model and setup is the best? How does it perform on the test dataset? \n",
    "\n",
    "__The goal is to demonstrate ability to:__\n",
    "\n",
    "- Train and compare ML models"
   ]
  }
 ],
 "metadata": {
  "kernelspec": {
   "display_name": "Python 3",
   "language": "python",
   "name": "python3"
  },
  "language_info": {
   "codemirror_mode": {
    "name": "ipython",
    "version": 3
   },
   "file_extension": ".py",
   "mimetype": "text/x-python",
   "name": "python",
   "nbconvert_exporter": "python",
   "pygments_lexer": "ipython3",
   "version": "3.7.9"
  }
 },
 "nbformat": 4,
 "nbformat_minor": 4
}
