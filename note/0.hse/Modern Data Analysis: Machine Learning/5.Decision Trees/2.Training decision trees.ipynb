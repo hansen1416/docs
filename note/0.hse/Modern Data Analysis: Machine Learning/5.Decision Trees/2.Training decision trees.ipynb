{
 "cells": [
  {
   "cell_type": "markdown",
   "metadata": {},
   "source": [
    "## Entropy\n",
    "\n",
    "We consider entropy as a way to measure the uncertainty of an experiment's outcome."
   ]
  },
  {
   "cell_type": "code",
   "execution_count": 26,
   "metadata": {},
   "outputs": [
    {
     "data": {
      "text/plain": [
       "Text(0.5, 1.0, 'Low entropy')"
      ]
     },
     "execution_count": 26,
     "metadata": {},
     "output_type": "execute_result"
    },
    {
     "data": {
      "image/png": "[encoded data removed]",
      "text/plain": [
       "<Figure size 432x288 with 2 Axes>"
      ]
     },
     "metadata": {
      "needs_background": "light"
     },
     "output_type": "display_data"
    }
   ],
   "source": [
    "import matplotlib.pyplot as plt\n",
    "\n",
    "fig, (ax1, ax2) = plt.subplots(1, 2)\n",
    "\n",
    "ax1.bar([1,2,3,4,5], [3,3,3,3,3])\n",
    "ax1.set_title('High entropy')\n",
    "ax1.set_ylim([0,6])\n",
    "\n",
    "\n",
    "ax2.bar([1,2,3,4,5], [1,0,1,6,1])\n",
    "ax2.set_title('Low entropy')"
   ]
  },
  {
   "cell_type": "markdown",
   "metadata": {},
   "source": [
    "Assume we are given discrete distribution with $n$ possible outcomes.\n",
    "\n",
    "Probability of outcomes: $p_1,p_2,\\dots,p_n$\n",
    "\n",
    "Entropy of distribution: $H(p_1,\\dots,p_n) = -\\sum^{n}_{i=1}p_i \\log_2 p_i$\n",
    "\n",
    "---\n",
    "\n",
    "- In classification tasks, the number of possible outcomes is the number of classes $K$.\n",
    "\n",
    "- Probability to be at the class $k$ - fraction of objects of class $k$\n",
    "\n",
    "    $p_k=\\frac{1}{|R|} \\sum_{(x_i,y_i)\\in R}[y_i=k]$\n",
    "\n",
    "- Zero entropy, there are __only__ objects from __one class__ at the leaf\n",
    "\n",
    "- Max entropy, there are __equal proportion__ of objects from __each class__.\n",
    "\n",
    "---\n",
    "\n",
    "Choose split with lower total entropy.\n",
    "\n",
    "- Decision tree could be constructed in a greedy manner from the root node to the leaves.\n",
    "- For classification task we could choose a split, so that it minimize class diversity at resulting groups."
   ]
  },
  {
   "cell_type": "markdown",
   "metadata": {},
   "source": [
    "## Measures of Impurity\n",
    "\n",
    "### Gini index\n",
    "\n",
    "$H(p_1,\\dots,p_k) = \\sum^{K}_{i=1}p_i(1-p_i)$\n",
    "\n",
    "- Consider a classifier, which outputs class $k$ with probability $p_k$\n",
    "\n",
    "- Gini index is a probability that the object will be classfied __incorrectly__ if the class is assigned with probabilities $H(p_1,\\dots,p_k)$.\n",
    "\n",
    "### Impurity criterions\n",
    "\n",
    "- Compare the impurity before the split and in the two nodes after the split.\n",
    "\n",
    "$Q(R,j,t) = H(R)-\\frac{|R_j|}{|R|}H(R_j) - \\frac{|R_r|}{|R|}H(R_r) \\to max_{j,t}$ (decrease impurity as much as possible)\n",
    "\n",
    "- Entropy and gini for Classification tasks.\n",
    "- For regression tasks, $H(R)$ can also be variance"
   ]
  },
  {
   "cell_type": "markdown",
   "metadata": {},
   "source": [
    "$H(R) = min_c\\frac{1}{|R|}\\sum_{y\\in R}l(y,c)$ impurity cretirion\n",
    "\n",
    "__Impurity Criterion for Regression__\n",
    "\n",
    "$l(y,c) = (y-c)^2$ loss function\n",
    "\n",
    "$min_c\\frac{1}{|R|} \\sum_{y \\in R}(y-c)^2 \\implies c^* = \\bar{y} = \\frac{1}{|R|}\\sum_{y\\in R}y$ optimal value for constant prediction.\n",
    "\n",
    "$H(R) = \\frac{1}{|R|} \\sum_{y \\in R}(y-\\bar{y})^2$ formula for the variance\n",
    "\n",
    "__Impurity Criterion for Classification__\n",
    "\n",
    "$\\mathbb{Y} = \\{1,\\dots, K\\}$\n",
    "\n",
    "$P_k = \\frac{1}{|R|}\\sum_{y\\in R}[y=k]$ proportion of objects in this class.\n",
    "\n",
    "We have two options, A predict a class or B predict distribution of each class\n",
    "\n",
    "A. $c\\in \\{1,\\dots, K\\}$\n",
    "\n",
    "B. $c = (c_1, \\dots, c_K), \\sum^{K}_{k=1}c_k=1$\n",
    "\n",
    "A: \n",
    "\n",
    "$l(y,c) = [y\\neq c]$\n",
    "\n",
    "$min_c\\frac{1}{|R|} \\sum_{y\\in R}[y \\ne c] \\implies c^* = argmax_k P_k \\implies k^*$\n",
    "\n",
    "$H(R) = \\frac{1}{|R|} \\sum_{y\\in R} [y\\ne k^*]$ what is the proportion of objects which does not belong to the most popular class, $k^*$\n",
    "\n",
    "$=1-P_{k^*}$\n",
    "\n",
    "such measure of impurity is actually not a really good idea. e.g.  case 1 [0.7,0.3,0], case 2 [0.7,0.15,0.15], \n",
    "$1-P_{k^*}$ is the same for both cases, but case 1 is better in practice.\n",
    "\n",
    "B:\n",
    "\n",
    "$l(y,c) = - \\log(\\prod^K_{k=1}c^{[y=k]}_k) = -\\sum^K_{k=1} [y=k] \\log c_k$\n",
    "\n",
    "$min_c = \\frac{1}{|R|} \\sum^K_{k=1} [y=k] \\log c_k$, s.t. $\\sum^K_{k=1} c_k = 1$\n",
    "\n",
    "$c^* = (p_1, \\dots, p_k)$ optimal solution equal exactly to the proportion of observations that we have in our set.\n",
    "\n",
    "__$H(R) = -\\sum^K_{k=1} p_k(\\log p_k)$__"
   ]
  },
  {
   "cell_type": "markdown",
   "metadata": {},
   "source": [
    "## Greedy Tree Construction\n",
    "\n",
    "__Stop criterions__\n",
    "\n",
    "- Restrict the maximal depth\n",
    "- Restrict the number of leaves\n",
    "- Fix the minimal number of objects in the node\n",
    "- Set the minimal decrease in the diversity when splitting.\n",
    "\n",
    "__Greedy Algorithm__\n",
    "\n",
    "1. Put the whole dataset into the root: $R_1= X$\n",
    "\n",
    "2. Start the tree construction: SplitNode$(1,R_1)$\n",
    "\n",
    "SplitNode$(1,R_1)$:\n",
    "\n",
    "1. If stopping criterion is met, then quit\n",
    "\n",
    "2. Find the best split (feature and threshold): $j,t=argmax_{j,t}Q(R_m,j,t)$\n",
    "\n",
    "3. Split objects: $R_l = \\{ (x,y) \\in R_m | [x_j < t] \\}, R_r = \\{ (x,y) \\in R_m | [x_j \\ge t]\\} $\n",
    "\n",
    "4. Repeat for the child nodes: SplitNode$(l, R_l)$ and SplitNode$(r, R_r)$\n",
    "\n",
    "The algorithm is quite complex and requires brute force of all the split at each step"
   ]
  },
  {
   "cell_type": "markdown",
   "metadata": {},
   "source": [
    " ## High Variance of Decision Trees\n",
    " \n",
    " High variance and lack of smoothness"
   ]
  }
 ],
 "metadata": {
  "kernelspec": {
   "display_name": "Python 3",
   "language": "python",
   "name": "python3"
  },
  "language_info": {
   "codemirror_mode": {
    "name": "ipython",
    "version": 3
   },
   "file_extension": ".py",
   "mimetype": "text/x-python",
   "name": "python",
   "nbconvert_exporter": "python",
   "pygments_lexer": "ipython3",
   "version": "3.7.9"
  }
 },
 "nbformat": 4,
 "nbformat_minor": 4
}
