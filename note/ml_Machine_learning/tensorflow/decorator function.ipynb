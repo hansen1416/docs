{
 "cells": [
  {
   "cell_type": "code",
   "execution_count": 3,
   "metadata": {},
   "outputs": [],
   "source": [
    "\"\"\"\n",
    "In TensorFlow 2.0, users should refactor their code into smaller functions which are called as needed. \n",
    "In general, it's not necessary to decorate each of these smaller functions with tf.function; \n",
    "only use tf.function to decorate high-level computations \n",
    "- for example, one step of training, or the forward pass of your model.\n",
    "\n",
    "@tf.function converts a Python function to its graph representation.\n",
    "\n",
    "Tracing and polymorphism\n",
    "\n",
    "Python's dynamic typing means that you can call functions with a variety of argument types, \n",
    "and Python will do something different in each scenario.\n",
    "\n",
    "On the other hand, TensorFlow graphs require static dtypes and shape dimensions. \n",
    "tf.function bridges this gap by retracing the function when necessary to generate the correct graphs.\n",
    "\"\"\"\n",
    "\n",
    "@tf.function\n",
    "def double(a):\n",
    "    print(\"Tracing with\", a)\n",
    "    return a + a\n",
    "    print(double(tf.constant(1)))\n",
    "    # Tracing with Tensor(\"a:0\", shape=(), dtype=int32)\n",
    "    # tf.Tensor(2, shape=(), dtype=int32)\n",
    "\n",
    "    print(double(tf.constant(1.1)))\n",
    "    # Tracing with Tensor(\"a:0\", shape=(), dtype=float32)\n",
    "    # tf.Tensor(2.2, shape=(), dtype=float32)\n",
    "\n",
    "    print(double(tf.constant(\"a\")))\n",
    "    # Tracing with Tensor(\"a:0\", shape=(), dtype=string)\n",
    "    # tf.Tensor(b'aa', shape=(), dtype=string)"
   ]
  }
 ],
 "metadata": {
  "kernelspec": {
   "display_name": "Python 3",
   "language": "python",
   "name": "python3"
  },
  "language_info": {
   "codemirror_mode": {
    "name": "ipython",
    "version": 3
   },
   "file_extension": ".py",
   "mimetype": "text/x-python",
   "name": "python",
   "nbconvert_exporter": "python",
   "pygments_lexer": "ipython3",
   "version": "3.6.8"
  }
 },
 "nbformat": 4,
 "nbformat_minor": 2
}
