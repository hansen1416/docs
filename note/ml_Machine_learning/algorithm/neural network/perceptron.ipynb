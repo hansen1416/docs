{
 "cells": [
  {
   "cell_type": "markdown",
   "metadata": {},
   "source": [
    "# perceptron\n",
    "- A perceprtron models a neuron\n",
    "- It receives inputs(corresponding to features)\n",
    "- It sums those inputs, checks the result and produces an output\n",
    "- It used to classify linearly separateable classes\n",
    "- Often for binary classification\n",
    "\n",
    "## The role of weights and bias\n",
    "- The perceptron can have another input known as bias\n",
    "- It is normal practice is to treat the bias as just another input\n",
    "- The bias allow us to move the transfer function curve horizontally (left/right) along the input axis while leaving the shape/curvature unalterd\n",
    "- The weights determins the slope\n",
    "\n",
    "## Transfer (Activation) Functions\n",
    "- The transfer function translates the input signals to output signals\n",
    "- It uses a threshold to produce an output\n",
    "- Four types of transfer functions are commonly used, Unit step(threshold), Sigmoid, pircewise linear and Gaussian"
   ]
  },
  {
   "cell_type": "markdown",
   "metadata": {},
   "source": [
    "### Unit step\n",
    "\n",
    "$\n",
    " f(n) =\n",
    "  \\begin{cases}\n",
    "    0  & \\, \\text{if } \\sum_{j}w_{j}x_{j} \\leq threshold \\\\\n",
    "    1  & \\, \\text{if } \\sum_{j}w_{j}x_{j} \\gt threshold \\\\\n",
    "  \\end{cases}\n",
    "$\n",
    "\n",
    "### Sigmoid\n",
    "\n",
    "$\n",
    " f(x) = \\dfrac{1}{1+e^{-\\beta x}}\n",
    "$"
   ]
  },
  {
   "attachments": {
    "image.png": {
     "image/png": "[encoded data removed]"
    }
   },
   "cell_type": "markdown",
   "metadata": {},
   "source": [
    "![image.png](attachment:image.png)\n",
    "\n",
    "\n",
    "In this network, the first column of perceptrons - what we'll call the __first layer of perceptrons - is making three very simple decisions, by weighing the input evidence.__   \n",
    "What about the perceptrons in the __second layer? Each of those perceptrons is making a decision by weighing up the results from the first layer of decision-making__.   \n",
    "*In this way a perceptron in the second layer can make a decision at a more complex and more abstract level than perceptrons in the first layer. And even more complex decisions can be made by the perceptron in the third layer.*  \n",
    "In this way, a many-layer network of perceptrons can engage in sophisticated decision making."
   ]
  },
  {
   "cell_type": "markdown",
   "metadata": {},
   "source": [
    "simplify the way we describe perceptrons  \n",
    "\n",
    "__write $ \\sum_{j}w_{j}x_{j} $ as a dot procudct $ w \\cdot x \\equiv \\sum_{j}w_{j}x_{j} $__  \n",
    "__The second change is to move the threshold to the other side of the inequality__\n",
    "\n",
    "$\n",
    " output =\n",
    "  \\begin{cases}\n",
    "    0  & \\, \\text{if } w \\cdot x + b \\leq 0 \\\\\n",
    "    1  & \\, \\text{if } w \\cdot x + b \\gt 0 \\\\\n",
    "  \\end{cases}\n",
    "$"
   ]
  },
  {
   "cell_type": "code",
   "execution_count": 1,
   "metadata": {
    "collapsed": true
   },
   "outputs": [],
   "source": [
    "# ----------\n",
    "#\n",
    "# In this exercise, you will update the perceptron class so that it can update\n",
    "# its weights.\n",
    "#\n",
    "# Finish writing the update() method so that it updates the weights according\n",
    "# to the perceptron update rule. Updates should be performed online, revising\n",
    "# the weights after each data point.\n",
    "#\n",
    "# YOUR CODE WILL GO IN LINES 51 AND 59.\n",
    "# ----------\n",
    "\n",
    "import numpy as np\n",
    "\n",
    "\n",
    "class Perceptron:\n",
    "    \"\"\"\n",
    "    This class models an artificial neuron with step activation function.\n",
    "    \"\"\"\n",
    "\n",
    "    def __init__(self, weights = np.array([1]), threshold = 0):\n",
    "        \"\"\"\n",
    "        Initialize weights and threshold based on input arguments. Note that no\n",
    "        type-checking is being performed here for simplicity.\n",
    "        \"\"\"\n",
    "        self.weights = weights.astype(float)\n",
    "        self.threshold = threshold\n",
    "\n",
    "    def activate(self, values):\n",
    "        \"\"\"\n",
    "        Takes in @param values, a list of numbers equal to length of weights.\n",
    "        @return the output of a threshold perceptron with given inputs based on\n",
    "        perceptron weights and threshold.\n",
    "        \"\"\"\n",
    "        # First calculate the strength with which the perceptron fires\n",
    "        strength = np.dot(values, self.weights)\n",
    "        # Then return 0 or 1 depending on strength compared to threshold\n",
    "        return int(strength > self.threshold)\n",
    "\n",
    "    def update(self, values, train, eta = .1):\n",
    "        \"\"\"\n",
    "        Takes in a 2D array @param values consisting of a LIST of inputs and a\n",
    "        1D array @param train, consisting of a corresponding list of expected\n",
    "        outputs. Updates internal weights according to the perceptron training\n",
    "        rule using these values and an optional learning rate, @param eta.\n",
    "        \"\"\"\n",
    "        # For each data point:\n",
    "        for data_point in xrange(len(values)):\n",
    "            # TODO: Obtain the neuron's prediction for the data_point --> values[data_point]\n",
    "            prediction = self.activate(values[data_point])\n",
    "            # Get the prediction accuracy calculated as (expected value - predicted value)\n",
    "            # expected value = train[data_point], predicted value = prediction\n",
    "            error = train[data_point] - prediction\n",
    "            # TODO: update self.weights based on the multiplication of:\n",
    "            # - prediction accuracy(error)\n",
    "            # - learning rate(eta)\n",
    "            # - input value(values[data_point])\n",
    "            weight_update = (train[data_point] - prediction) * eta * values[data_point]\n",
    "            self.weights += weight_update\n",
    "\n",
    "\n",
    "def test():\n",
    "    \"\"\"\n",
    "    A few tests to make sure that the perceptron class performs as expected.\n",
    "    Nothing should show up in the output if all the assertions pass.\n",
    "    \"\"\"\n",
    "\n",
    "    def sum_almost_equal(array1, array2, tol = 1e-6):\n",
    "        return sum(abs(array1 - array2)) < tol\n",
    "\n",
    "    p1 = Perceptron(np.array([1, 1, 1]), 0)\n",
    "    p1.update(np.array([[2, 0, -3]]), np.array([1]))\n",
    "    assert sum_almost_equal(p1.weights, np.array([1.2, 1, 0.7]))\n",
    "\n",
    "    p2 = Perceptron(np.array([1, 2, 3]), 0)\n",
    "    p2.update(np.array([[3, 2, 1], [4, 0, -1]]), np.array([0, 0]))\n",
    "    assert sum_almost_equal(p2.weights, np.array([0.7, 1.8, 2.9]))\n",
    "\n",
    "    p3 = Perceptron(np.array([3, 0, 2]), 0)\n",
    "    p3.update(np.array([[2, -2, 4], [-1, -3, 2], [0, 2, 1]]), np.array([0, 1, 0]))\n",
    "    assert sum_almost_equal(p3.weights, np.array([2.7, -0.3, 1.7]))\n",
    "\n",
    "\n",
    "if __name__ == \"__main__\":\n",
    "    test()"
   ]
  },
  {
   "cell_type": "markdown",
   "metadata": {},
   "source": [
    "### Neural network are built out of components like perceptron units.  \n",
    "\n",
    "Inputs to networks of perceptron look like a matrix of numerical values with classification for each row.  \n",
    "\n",
    "A single perceptron is very much like linear regression. Therefore it should take the same kinds of inputs. However the outputs of perceptrons will generally be classifications, not numerical.  "
   ]
  },
  {
   "cell_type": "markdown",
   "metadata": {},
   "source": [
    "### What information can we get as the output of a neural network\n",
    "- A direct graph, the neural network itself  \n",
    "- A signle-scalar valued number  \n",
    "- The classification of a vector  \n",
    "- A vector valued ouput for any vector input  "
   ]
  }
 ],
 "metadata": {
  "kernelspec": {
   "display_name": "Python 2",
   "language": "python",
   "name": "python2"
  },
  "language_info": {
   "codemirror_mode": {
    "name": "ipython",
    "version": 2
   },
   "file_extension": ".py",
   "mimetype": "text/x-python",
   "name": "python",
   "nbconvert_exporter": "python",
   "pygments_lexer": "ipython2",
   "version": "2.7.13"
  }
 },
 "nbformat": 4,
 "nbformat_minor": 2
}
