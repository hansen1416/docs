{
 "cells": [
  {
   "cell_type": "markdown",
   "metadata": {},
   "source": [
    "# kernel / filter\n",
    "## Prewitt Operator\n",
    "https://www.tutorialspoint.com/dip/prewitt_operator.htm\n",
    "\n",
    "## Sobel Operator\n",
    "https://www.tutorialspoint.com/dip/sobel_operator.htm\n",
    "\n",
    "\n",
    "\n",
    "nxn pixels, with fxf kernel   shrink to   n-f+1 x n-f+1\n",
    "\n",
    "\n",
    "\n",
    "Padding, preserve the image content\n",
    "\n",
    "n+2p-f+1\n",
    "\n",
    "Valid convolutions and Same convolutions\n",
    "\n",
    "f is always odd\n",
    "\n",
    " had the same dimension all around rather than pad more on the left and pad less on the right, or something that asymmetric. And then second, when you have an odd dimension filter, such as three by three or five by five, then it has a central position and sometimes in computer vision its nice to have a distinguisher, it's nice to have a pixel, you can call the central pixel so you can talk about the position of the filter\n",
    " \n",
    " \n",
    " a valid convolution, which means p equals zero or you can say this is a same convolution, which means pad as much as you need to make sure the output has same dimension as the input.\n",
    " \n",
    " \n",
    " Stride\n",
    " \n",
    " [ (n+2p-f)/2 +1 ] x  [ (n+2p-f)/2 +1 ]\n",
    " \n",
    " round down in case not a integer \n",
    " \n",
    " \n",
    " On a RGB images\n",
    " \n",
    " 6x6x3   *    3x3x3   =     4x4\n",
    " the kernel is on 3 channels, 3 channels of filter\n",
    " \n",
    " \n",
    " to detect different edges, we can use 6x6x3   *    (3x3x3    3x3x3) different kernel  =  4x4x2"
   ]
  }
 ],
 "metadata": {
  "kernelspec": {
   "display_name": "Python 3",
   "language": "python",
   "name": "python3"
  },
  "language_info": {
   "codemirror_mode": {
    "name": "ipython",
    "version": 3
   },
   "file_extension": ".py",
   "mimetype": "text/x-python",
   "name": "python",
   "nbconvert_exporter": "python",
   "pygments_lexer": "ipython3",
   "version": "3.7.2"
  }
 },
 "nbformat": 4,
 "nbformat_minor": 2
}
