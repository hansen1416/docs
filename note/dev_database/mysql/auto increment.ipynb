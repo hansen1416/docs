{
 "cells": [
  {
   "cell_type": "markdown",
   "metadata": {},
   "source": [
    "show next auto increment number\n",
    "```\n",
    "SELECT `AUTO_INCREMENT`\n",
    "FROM  INFORMATION_SCHEMA.TABLES\n",
    "WHERE TABLE_SCHEMA = 'DatabaseName'\n",
    "AND   TABLE_NAME   = 'TableName';\n",
    "```\n",
    "---\n",
    "```\n",
    "SHOW TABLE STATUS FROM `DatabaseName` WHERE `name` LIKE 'TableName' ;\n",
    "```\n",
    "---\n",
    "```\n",
    "SHOW CREATE TABLE TableName;\n",
    "```"
   ]
  },
  {
   "cell_type": "markdown",
   "metadata": {},
   "source": [
    "alter auto increment number\n",
    "```\n",
    "ALTER TABLE users AUTO_INCREMENT=1001;\n",
    "```"
   ]
  }
 ],
 "metadata": {
  "kernelspec": {
   "display_name": "Python 3",
   "language": "python",
   "name": "python3"
  },
  "language_info": {
   "codemirror_mode": {
    "name": "ipython",
    "version": 3
   },
   "file_extension": ".py",
   "mimetype": "text/x-python",
   "name": "python",
   "nbconvert_exporter": "python",
   "pygments_lexer": "ipython3",
   "version": "3.6.8"
  }
 },
 "nbformat": 4,
 "nbformat_minor": 2
}
