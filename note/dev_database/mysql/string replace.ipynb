{
 "cells": [
  {
   "cell_type": "code",
   "execution_count": null,
   "metadata": {},
   "outputs": [],
   "source": [
    "UPDATE hs_db1.test1_posts \n",
    "SET \n",
    "    post_text = REPLACE(post_text,\n",
    "        'http://songofthepaddle.co.uk/reviews/',\n",
    "        'https://groups.tapatalk-cdn.com/forumimages/89204/')\n",
    "WHERE\n",
    "    post_id=29981;"
   ]
  }
 ],
 "metadata": {
  "kernelspec": {
   "display_name": "Python 3",
   "language": "python",
   "name": "python3"
  },
  "language_info": {
   "codemirror_mode": {
    "name": "ipython",
    "version": 3
   },
   "file_extension": ".py",
   "mimetype": "text/x-python",
   "name": "python",
   "nbconvert_exporter": "python",
   "pygments_lexer": "ipython3",
   "version": "3.6.8"
  }
 },
 "nbformat": 4,
 "nbformat_minor": 2
}
