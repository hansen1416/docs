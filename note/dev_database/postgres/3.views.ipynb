{
 "cells": [
  {
   "cell_type": "markdown",
   "metadata": {},
   "source": [
    "```\n",
    "create view used_cars as \n",
    "\tselect * from car where mileage > 50000\n",
    "\t\n",
    "\t\n",
    "select * from used_cars\n",
    "\n",
    "drop view used_cars;\n",
    "```\n",
    "\n",
    "view is editable if it has only one base table, although you have to choose custom key\n",
    "\n",
    "```\n",
    "create materialized view mused_cars as \n",
    "\tselect * from car where mileage > 50000\n",
    "with no data\n",
    "```\n",
    "\n",
    "materialized view can be created with no data.\n",
    "\n",
    "```\n",
    "refresh materialized view mused_cars\n",
    "```\n",
    "\n",
    "refresh materialized view, means update the data of it\n",
    "\n",
    "```\n",
    "select * from mused_cars\n",
    "\n",
    "drop materialized view mused_cars;\n",
    "```\n",
    "\n",
    "materialized view is physically stored"
   ]
  }
 ],
 "metadata": {
  "kernelspec": {
   "display_name": "Python 3",
   "language": "python",
   "name": "python3"
  },
  "language_info": {
   "codemirror_mode": {
    "name": "ipython",
    "version": 3
   },
   "file_extension": ".py",
   "mimetype": "text/x-python",
   "name": "python",
   "nbconvert_exporter": "python",
   "pygments_lexer": "ipython3",
   "version": "3.7.9"
  }
 },
 "nbformat": 4,
 "nbformat_minor": 4
}
