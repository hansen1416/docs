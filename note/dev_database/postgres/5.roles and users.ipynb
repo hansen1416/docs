{
 "cells": [
  {
   "cell_type": "markdown",
   "metadata": {},
   "source": [
    "```\n",
    "create role administrators;\n",
    "\n",
    "create role managers;\n",
    "\n",
    "create user admin1 with password '123'\n",
    "\n",
    "create user manager1 with password '123'\n",
    "create user manager2 with password '123'\n",
    "\n",
    "grant administrators to admin1;\n",
    "\n",
    "grant managers to manager1;\n",
    "grant managers to manager2;\n",
    "\n",
    "grant usage on schema public to administrators;\n",
    "grant select, update on plans to administrators;\n",
    "\n",
    "\n",
    "SELECT usename AS role_name,\n",
    "  CASE \n",
    "     WHEN usesuper AND usecreatedb THEN \n",
    "\t   CAST('superuser, create database' AS pg_catalog.text)\n",
    "     WHEN usesuper THEN \n",
    "\t    CAST('superuser' AS pg_catalog.text)\n",
    "     WHEN usecreatedb THEN \n",
    "\t    CAST('create database' AS pg_catalog.text)\n",
    "     ELSE \n",
    "\t    CAST('' AS pg_catalog.text)\n",
    "  END role_attributes\n",
    "FROM pg_catalog.pg_user\n",
    "ORDER BY role_name desc;\n",
    "```"
   ]
  }
 ],
 "metadata": {
  "kernelspec": {
   "display_name": "Python 3",
   "language": "python",
   "name": "python3"
  },
  "language_info": {
   "codemirror_mode": {
    "name": "ipython",
    "version": 3
   },
   "file_extension": ".py",
   "mimetype": "text/x-python",
   "name": "python",
   "nbconvert_exporter": "python",
   "pygments_lexer": "ipython3",
   "version": "3.7.9"
  }
 },
 "nbformat": 4,
 "nbformat_minor": 4
}
