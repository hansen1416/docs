{
 "cells": [
  {
   "cell_type": "markdown",
   "metadata": {},
   "source": [
    "force reload https://stackoverflow.com/questions/45867357/vuejs-browser-caching-production-builds"
   ]
  },
  {
   "cell_type": "markdown",
   "metadata": {},
   "source": [
    "`onRouteUpdate` run before `created`"
   ]
  },
  {
   "cell_type": "markdown",
   "metadata": {},
   "source": [
    "`Watch` might not work, if the prop in parent is not initialized with a value"
   ]
  }
 ],
 "metadata": {
  "kernelspec": {
   "display_name": "Python 3",
   "language": "python",
   "name": "python3"
  },
  "language_info": {
   "codemirror_mode": {
    "name": "ipython",
    "version": 3
   },
   "file_extension": ".py",
   "mimetype": "text/x-python",
   "name": "python",
   "nbconvert_exporter": "python",
   "pygments_lexer": "ipython3",
   "version": "3.7.7"
  }
 },
 "nbformat": 4,
 "nbformat_minor": 2
}
