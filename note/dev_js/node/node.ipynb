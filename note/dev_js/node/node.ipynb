{
 "cells": [
  {
   "cell_type": "markdown",
   "metadata": {},
   "source": [
    "### self update node & npm\n",
    "```\n",
    "// update npm\n",
    "sudo npm install -g npm\n",
    "// update node\n",
    "sudo npm cache clean -f\n",
    "sudo npm install -g n\n",
    "sudo n stable\n",
    "```\n",
    "\n",
    "### init This will ask you a bunch of questions, and then write a package.json for you.\n",
    "```\n",
    "npm init\n",
    "```  \n",
    "### ls\n",
    "```\n",
    "npm ls --depth=0 \n",
    "npm ls --depth=0 -g\n",
    "```\n",
    "\n",
    "### remove packages  \n",
    "```\n",
    "npm uninstall gulp-uglify  \n",
    "npm uninstall gulp -g\n",
    "```"
   ]
  },
  {
   "cell_type": "markdown",
   "metadata": {},
   "source": [
    "### Node Sass does not yet support your current environment: Linux 64-bit with false\n",
    "\n",
    "sudo npm rebuild node-sass"
   ]
  }
 ],
 "metadata": {
  "kernelspec": {
   "display_name": "Python 3",
   "language": "python",
   "name": "python3"
  },
  "language_info": {
   "codemirror_mode": {
    "name": "ipython",
    "version": 3
   },
   "file_extension": ".py",
   "mimetype": "text/x-python",
   "name": "python",
   "nbconvert_exporter": "python",
   "pygments_lexer": "ipython3",
   "version": "3.7.3"
  }
 },
 "nbformat": 4,
 "nbformat_minor": 2
}
