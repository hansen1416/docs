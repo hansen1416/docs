{
 "cells": [
  {
   "cell_type": "markdown",
   "metadata": {},
   "source": [
    "```\n",
    "var a = 13.6 | 0; //a == 13\n",
    "```\n",
    "\n",
    "> How does it work? Our theory was that using such an operator casts the number to an integer, thus removing the fractional part\n",
    "\n",
    "All bitwise operations except unsigned right shift, >>>, work on signed 32-bit integers. So using bitwise operations will convert a float to an integer.\n",
    "\n",
    "> Does it have any advantages over doing Math.floor? Maybe it's a bit faster? (pun not intended)\n",
    "\n",
    "http://jsperf.com/or-vs-floor/2 seems slightly faster\n",
    "\n",
    "> Does it have any disadvantages? Maybe it doesn't work in some cases? Clarity is an obvious one, since we had to figure it out, and well, I'm writting this question.\n",
    "\n",
    "- Will not pass jsLint.\n",
    "- 32-bit signed integers only\n",
    "- Odd Comparative behavior: Math.floor(NaN) === NaN, while (NaN | 0) === 0"
   ]
  }
 ],
 "metadata": {
  "kernelspec": {
   "display_name": "Python 2",
   "language": "python",
   "name": "python2"
  },
  "language_info": {
   "codemirror_mode": {
    "name": "ipython",
    "version": 2
   },
   "file_extension": ".py",
   "mimetype": "text/x-python",
   "name": "python",
   "nbconvert_exporter": "python",
   "pygments_lexer": "ipython2",
   "version": "2.7.13"
  }
 },
 "nbformat": 4,
 "nbformat_minor": 2
}
