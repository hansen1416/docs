{
 "cells": [
  {
   "cell_type": "markdown",
   "metadata": {},
   "source": [
    "### send FormData object throuh jquery ajax"
   ]
  },
  {
   "cell_type": "raw",
   "metadata": {},
   "source": [
    "var fd = new FormData();    \n",
    "fd.append( 'file', input.files[0] );\n",
    "\n",
    "$.ajax({\n",
    "  url: 'http://example.com/script.php',\n",
    "  data: fd,\n",
    "  processData: false,\n",
    "  contentType: false,\n",
    "  type: 'POST',\n",
    "  success: function(data){\n",
    "    alert(data);\n",
    "  }\n",
    "});\n",
    "\n",
    "\n",
    "Setting processData to false lets you prevent jQuery from automatically transforming the data into a query string. See the docs for more info.\n",
    "\n",
    "Setting the contentType to false is imperative, since otherwise jQuery will set it incorrectly.r"
   ]
  },
  {
   "cell_type": "markdown",
   "metadata": {},
   "source": [
    "### time out"
   ]
  },
  {
   "cell_type": "markdown",
   "metadata": {},
   "source": [
    "- Promise with jQuery 1.8+\n",
    "```\n",
    "Promise.resolve(\n",
    "  $.ajax({\n",
    "    url: '/getData',\n",
    "    timeout:3000 //3 second timeout\n",
    "  })\n",
    ").then(function(){\n",
    "  //do something\n",
    "}).catch(function(e) {\n",
    "  if(e.statusText == 'timeout')\n",
    "  {     \n",
    "    alert('Native Promise: Failed from timeout'); \n",
    "    //do something. Try again perhaps?\n",
    "  }\n",
    "});\n",
    "```"
   ]
  },
  {
   "cell_type": "markdown",
   "metadata": {},
   "source": [
    "- jQuery 1.8+\n",
    "```\n",
    "$.ajax({\n",
    "    url: '/getData',\n",
    "    timeout:3000 //3 second timeout\n",
    "}).done(function(){\n",
    "    //do something\n",
    "}).fail(function(jqXHR, textStatus){\n",
    "    if(textStatus === 'timeout')\n",
    "    {     \n",
    "        alert('Failed from timeout'); \n",
    "        //do something. Try again perhaps?\n",
    "    }\n",
    "});\n",
    "```"
   ]
  },
  {
   "cell_type": "markdown",
   "metadata": {},
   "source": [
    "- jQuery <= 1.7.2\n",
    "```\n",
    "$.ajax({\n",
    "    url: '/getData',\n",
    "    error: function(jqXHR, textStatus){\n",
    "        if(textStatus === 'timeout')\n",
    "        {     \n",
    "             alert('Failed from timeout');         \n",
    "            //do something. Try again perhaps?\n",
    "        }\n",
    "    },\n",
    "    success: function(){\n",
    "        //do something\n",
    "    },\n",
    "    timeout:3000 //3 second timeout\n",
    "});\n",
    "```"
   ]
  }
 ],
 "metadata": {
  "kernelspec": {
   "display_name": "Python 3",
   "language": "python",
   "name": "python3"
  },
  "language_info": {
   "codemirror_mode": {
    "name": "ipython",
    "version": 3
   },
   "file_extension": ".py",
   "mimetype": "text/x-python",
   "name": "python",
   "nbconvert_exporter": "python",
   "pygments_lexer": "ipython3",
   "version": "3.7.7"
  }
 },
 "nbformat": 4,
 "nbformat_minor": 2
}
