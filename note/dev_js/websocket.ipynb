{
 "cells": [
  {
   "cell_type": "markdown",
   "metadata": {},
   "source": [
    "channels\n",
    "--\n",
    "\n",
    "`public`, meaning anyone can subscribe; \n",
    "\n",
    "`private`, meaning the frontend has to authenticate the user against a backend and then assure that the user has permissions to subscribe to the given channel; \n",
    "\n",
    "`presence`, which doesn't allow for sending messages and instead just notifies that a user is \"present\" in the channel or not."
   ]
  }
 ],
 "metadata": {
  "kernelspec": {
   "display_name": "Python 3",
   "language": "python",
   "name": "python3"
  },
  "language_info": {
   "codemirror_mode": {
    "name": "ipython",
    "version": 3
   },
   "file_extension": ".py",
   "mimetype": "text/x-python",
   "name": "python",
   "nbconvert_exporter": "python",
   "pygments_lexer": "ipython3",
   "version": "3.6.8"
  }
 },
 "nbformat": 4,
 "nbformat_minor": 2
}
