{
 "cells": [
  {
   "cell_type": "code",
   "execution_count": 1,
   "metadata": {
    "executionInfo": {
     "elapsed": 1214,
     "status": "ok",
     "timestamp": 1606631114153,
     "user": {
      "displayName": "韩茏桢",
      "photoUrl": "",
      "userId": "01684388034859812320"
     },
     "user_tz": -480
    },
    "id": "WSsUJ-KKo1v6"
   },
   "outputs": [],
   "source": [
    "from datetime import datetime\n",
    "import os\n",
    "import re\n",
    "import requests\n",
    "import time\n",
    "import urllib\n",
    "\n",
    "from bs4 import BeautifulSoup\n",
    "import numpy as np\n",
    "import pandas as pd"
   ]
  },
  {
   "cell_type": "code",
   "execution_count": 2,
   "metadata": {
    "executionInfo": {
     "elapsed": 1050,
     "status": "ok",
     "timestamp": 1606631114956,
     "user": {
      "displayName": "韩茏桢",
      "photoUrl": "",
      "userId": "01684388034859812320"
     },
     "user_tz": -480
    },
    "id": "x7bzcpPm2l45"
   },
   "outputs": [],
   "source": [
    "top_actors = ['Dwayne Johnson',\n",
    "'Chris Hemsworth',\n",
    "'Robert Downey Jr.',\n",
    "'Akshay Kumar',\n",
    "'Jackie Chan',\n",
    "'Bradley Cooper',\n",
    "'Adam Sandler',\n",
    "'Scarlett Johansson',\n",
    "'Sofia Vergara',\n",
    "'Chris Evans']"
   ]
  },
  {
   "cell_type": "code",
   "execution_count": 3,
   "metadata": {
    "colab": {
     "base_uri": "https://localhost:8080/"
    },
    "executionInfo": {
     "elapsed": 1013,
     "status": "ok",
     "timestamp": 1606631142215,
     "user": {
      "displayName": "韩茏桢",
      "photoUrl": "",
      "userId": "01684388034859812320"
     },
     "user_tz": -480
    },
    "id": "W2LGBoD7clV9",
    "outputId": "f389ce71-7858-41c7-d806-0ed3004d195a"
   },
   "outputs": [
    {
     "data": {
      "text/plain": [
       "{'Dwayne Johnson': 'https://www.imdb.com/name/nm0425005/',\n",
       " 'Chris Hemsworth': 'https://www.imdb.com/name/nm1165110/',\n",
       " 'Robert Downey Jr.': 'https://www.imdb.com/name/nm0000375/',\n",
       " 'Akshay Kumar': 'https://www.imdb.com/name/nm0474774/',\n",
       " 'Jackie Chan': 'https://www.imdb.com/name/nm0000329/',\n",
       " 'Bradley Cooper': 'https://www.imdb.com/name/nm0177896/',\n",
       " 'Adam Sandler': 'https://www.imdb.com/name/nm0001191/',\n",
       " 'Scarlett Johansson': 'https://www.imdb.com/name/nm0424060/',\n",
       " 'Sofia Vergara': 'https://www.imdb.com/name/nm0005527/',\n",
       " 'Chris Evans': 'https://www.imdb.com/name/nm0262635/'}"
      ]
     },
     "execution_count": 3,
     "metadata": {},
     "output_type": "execute_result"
    }
   ],
   "source": [
    "from imdb_helper_functions import *\n",
    "from imdb_code import get_actors_by_movie_soup, get_movies_by_actor_soup, get_movie_distance\n",
    "\n",
    "actors_url_dict = get_actor_url_by_name(top_actors)\n",
    "actors_url_dict"
   ]
  },
  {
   "cell_type": "code",
   "execution_count": 4,
   "metadata": {
    "executionInfo": {
     "elapsed": 995,
     "status": "ok",
     "timestamp": 1606631146316,
     "user": {
      "displayName": "韩茏桢",
      "photoUrl": "",
      "userId": "01684388034859812320"
     },
     "user_tz": -480
    },
    "id": "QmJ8SkrPjTFr"
   },
   "outputs": [],
   "source": [
    "save_actors, saved_movies = check_saved_data()"
   ]
  },
  {
   "cell_type": "code",
   "execution_count": 5,
   "metadata": {
    "colab": {
     "base_uri": "https://localhost:8080/"
    },
    "executionInfo": {
     "elapsed": 1047,
     "status": "ok",
     "timestamp": 1606631517732,
     "user": {
      "displayName": "韩茏桢",
      "photoUrl": "",
      "userId": "01684388034859812320"
     },
     "user_tz": -480
    },
    "id": "PsqdmR-1jYFa",
    "outputId": "5ce6fdb5-c332-483a-93fa-e0fc1b11f073"
   },
   "outputs": [],
   "source": [
    "# print(get_movies_by_actor('https://www.imdb.com/name/nm0474774/'))\n",
    "# print(get_actors_by_movie('https://www.imdb.com/title/tt4799050/'))"
   ]
  },
  {
   "cell_type": "code",
   "execution_count": null,
   "metadata": {
    "colab": {
     "base_uri": "https://localhost:8080/",
     "height": 487
    },
    "executionInfo": {
     "elapsed": 1602,
     "status": "error",
     "timestamp": 1606631522456,
     "user": {
      "displayName": "韩茏桢",
      "photoUrl": "",
      "userId": "01684388034859812320"
     },
     "user_tz": -480
    },
    "id": "FAAqpUB4hdQh",
    "outputId": "b8c52f96-2ec3-4a8a-a5b5-213468259c9d"
   },
   "outputs": [
    {
     "name": "stdout",
     "output_type": "stream",
     "text": [
      "Dwayne Johnson, Dwayne Johnson, Dwayne Johnson|https://www.imdb.com/name/nm0425005/|The Scorpion King|https://www.imdb.com/title/tt13530704/::Dwayne Johnson|https://www.imdb.com/name/nm0425005/\n",
      "Dwayne Johnson, Chris Hemsworth, 2\n",
      "Dwayne Johnson, Robert Downey Jr., 2\n",
      "Dwayne Johnson, Akshay Kumar, None\n",
      "Dwayne Johnson, Jackie Chan, 2\n",
      "Dwayne Johnson, Bradley Cooper, 2\n",
      "Dwayne Johnson, Adam Sandler, 2\n",
      "Dwayne Johnson, Scarlett Johansson, 2\n",
      "Dwayne Johnson, Sofia Vergara, None\n",
      "Dwayne Johnson, Chris Evans, 2\n",
      "Chris Hemsworth, Dwayne Johnson, 2\n",
      "Chris Hemsworth, Chris Hemsworth, Chris Hemsworth|https://www.imdb.com/name/nm1165110/|Extraction|https://www.imdb.com/title/tt8936646/::Chris Hemsworth|https://www.imdb.com/name/nm1165110/\n",
      "Chris Hemsworth, Robert Downey Jr., Chris Hemsworth|https://www.imdb.com/name/nm1165110/|Avengers: Endgame|https://www.imdb.com/title/tt4154796/::Robert Downey Jr.|https://www.imdb.com/name/nm0000375/\n",
      "Chris Hemsworth, Akshay Kumar, 2\n",
      "Chris Hemsworth, Jackie Chan, 2\n",
      "Chris Hemsworth, Bradley Cooper, 2\n",
      "Chris Hemsworth, Adam Sandler, None\n",
      "Chris Hemsworth, Scarlett Johansson, Chris Hemsworth|https://www.imdb.com/name/nm1165110/|Avengers: Endgame|https://www.imdb.com/title/tt4154796/::Scarlett Johansson|https://www.imdb.com/name/nm0424060/\n",
      "Chris Hemsworth, Sofia Vergara, None\n",
      "Chris Hemsworth, Chris Evans, Chris Hemsworth|https://www.imdb.com/name/nm1165110/|Avengers: Endgame|https://www.imdb.com/title/tt4154796/::Chris Evans|https://www.imdb.com/name/nm0262635/\n",
      "Robert Downey Jr., Dwayne Johnson, 2\n",
      "Robert Downey Jr., Chris Hemsworth, Robert Downey Jr.|https://www.imdb.com/name/nm0000375/|Avengers: Endgame|https://www.imdb.com/title/tt4154796/::Chris Hemsworth|https://www.imdb.com/name/nm1165110/\n",
      "Robert Downey Jr., Robert Downey Jr., Robert Downey Jr.|https://www.imdb.com/name/nm0000375/|Dolittle|https://www.imdb.com/title/tt6673612/::Robert Downey Jr.|https://www.imdb.com/name/nm0000375/\n",
      "Robert Downey Jr., Akshay Kumar, None\n",
      "Robert Downey Jr., Jackie Chan, None\n",
      "Robert Downey Jr., Bradley Cooper, 2\n",
      "Robert Downey Jr., Adam Sandler, 2\n",
      "Robert Downey Jr., Scarlett Johansson, Robert Downey Jr.|https://www.imdb.com/name/nm0000375/|Avengers: Endgame|https://www.imdb.com/title/tt4154796/::Scarlett Johansson|https://www.imdb.com/name/nm0424060/\n",
      "Robert Downey Jr., Sofia Vergara, None\n",
      "Robert Downey Jr., Chris Evans, Robert Downey Jr.|https://www.imdb.com/name/nm0000375/|Avengers: Endgame|https://www.imdb.com/title/tt4154796/::Chris Evans|https://www.imdb.com/name/nm0262635/\n",
      "Akshay Kumar, Dwayne Johnson, None\n",
      "Akshay Kumar, Chris Hemsworth, 2\n",
      "Akshay Kumar, Robert Downey Jr., None\n",
      "Akshay Kumar, Akshay Kumar, Akshay Kumar|https://www.imdb.com/name/nm0474774/|Laxmii|https://www.imdb.com/title/tt10350922/::Akshay Kumar|https://www.imdb.com/name/nm0474774/\n",
      "Akshay Kumar, Jackie Chan, None\n",
      "Akshay Kumar, Bradley Cooper, None\n",
      "Akshay Kumar, Adam Sandler, None\n",
      "Akshay Kumar, Scarlett Johansson, None\n",
      "Akshay Kumar, Sofia Vergara, None\n",
      "Akshay Kumar, Chris Evans, None\n",
      "Jackie Chan, Dwayne Johnson, None\n",
      "Jackie Chan, Chris Hemsworth, None\n",
      "Jackie Chan, Robert Downey Jr., 2\n",
      "Jackie Chan, Akshay Kumar, None\n",
      "Jackie Chan, Jackie Chan, Jackie Chan|https://www.imdb.com/name/nm0000329/|Vanguard|https://www.imdb.com/title/tt9695722/::Jackie Chan|https://www.imdb.com/name/nm0000329/\n",
      "Jackie Chan, Bradley Cooper, None\n",
      "Jackie Chan, Adam Sandler, None\n",
      "Jackie Chan, Scarlett Johansson, 2\n",
      "Jackie Chan, Sofia Vergara, None\n",
      "Jackie Chan, Chris Evans, 2\n",
      "Bradley Cooper, Dwayne Johnson, 2\n",
      "Bradley Cooper, Chris Hemsworth, Bradley Cooper|https://www.imdb.com/name/nm0177896/|Avengers: Endgame|https://www.imdb.com/title/tt4154796/::Chris Hemsworth|https://www.imdb.com/name/nm1165110/\n",
      "Bradley Cooper, Robert Downey Jr., Bradley Cooper|https://www.imdb.com/name/nm0177896/|Avengers: Endgame|https://www.imdb.com/title/tt4154796/::Robert Downey Jr.|https://www.imdb.com/name/nm0000375/\n",
      "Bradley Cooper, Akshay Kumar, None\n",
      "Bradley Cooper, Jackie Chan, None\n",
      "Bradley Cooper, Bradley Cooper, Bradley Cooper|https://www.imdb.com/name/nm0177896/|A Star Is Born|https://www.imdb.com/title/tt1517451/::Bradley Cooper|https://www.imdb.com/name/nm0177896/\n"
     ]
    }
   ],
   "source": [
    "# actors_text[0][1], actors_text[1][1]\n",
    "\"\"\"\n",
    "{'Dwayne Johnson': 'https://www.imdb.com/name/nm0425005/',\n",
    " 'Chris Hemsworth': 'https://www.imdb.com/name/nm1165110/',\n",
    " 'Robert Downey Jr.': 'https://www.imdb.com/name/nm0000375/',\n",
    " 'Akshay Kumar': 'https://www.imdb.com/name/nm0474774/',\n",
    " 'Jackie Chan': 'https://www.imdb.com/name/nm0000329/',\n",
    " 'Bradley Cooper': 'https://www.imdb.com/name/nm0177896/',\n",
    " 'Adam Sandler': 'https://www.imdb.com/name/nm0001191/',\n",
    " 'Scarlett Johansson': 'https://www.imdb.com/name/nm0424060/',\n",
    " 'Sofia Vergara': 'https://www.imdb.com/name/nm0005527/',\n",
    " 'Chris Evans.': 'https://www.imdb.com/name/nm0262635/'}\n",
    "\"\"\"\n",
    "\n",
    "os.environ['IMDB_DEBUG'] = '1'\n",
    "del os.environ['IMDB_DEBUG']\n",
    "\n",
    "for name, url in actors_url_dict.items():\n",
    "    for name_t, url_t in actors_url_dict.items():\n",
    "#         print(name, url, name_t, url_t)\n",
    "        dis = get_movie_distance(url, url_t, 5, 5)\n",
    "        print(\"{0}, {1}, {2}\".format(name, name_t, dis))\n",
    "#     break"
   ]
  }
 ],
 "metadata": {
  "colab": {
   "authorship_tag": "ABX9TyNbbfPYQGPNG75gthUYpHWO",
   "collapsed_sections": [],
   "name": "scrapper.ipynb",
   "provenance": []
  },
  "kernelspec": {
   "display_name": "Python 3",
   "language": "python",
   "name": "python3"
  },
  "language_info": {
   "codemirror_mode": {
    "name": "ipython",
    "version": 3
   },
   "file_extension": ".py",
   "mimetype": "text/x-python",
   "name": "python",
   "nbconvert_exporter": "python",
   "pygments_lexer": "ipython3",
   "version": "3.7.9"
  }
 },
 "nbformat": 4,
 "nbformat_minor": 1
}
