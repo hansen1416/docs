{
 "cells": [
  {
   "cell_type": "code",
   "execution_count": 18,
   "metadata": {
    "executionInfo": {
     "elapsed": 1214,
     "status": "ok",
     "timestamp": 1606631114153,
     "user": {
      "displayName": "韩茏桢",
      "photoUrl": "",
      "userId": "01684388034859812320"
     },
     "user_tz": -480
    },
    "id": "WSsUJ-KKo1v6"
   },
   "outputs": [],
   "source": [
    "from datetime import datetime\n",
    "import os\n",
    "import re\n",
    "import requests\n",
    "import time\n",
    "import urllib\n",
    "\n",
    "from bs4 import BeautifulSoup\n",
    "import matplotlib.pyplot as plt\n",
    "import numpy as np\n",
    "import networkx as nx\n",
    "import pandas as pd\n",
    "import wordcloud as wc\n",
    "\n",
    "from imdb_helper_functions import *\n",
    "from imdb_code import get_actors_by_movie_soup, get_movies_by_actor_soup, \\\n",
    "get_movie_distance, get_movie_descriptions_by_actor_soup"
   ]
  },
  {
   "cell_type": "code",
   "execution_count": 12,
   "metadata": {
    "executionInfo": {
     "elapsed": 1050,
     "status": "ok",
     "timestamp": 1606631114956,
     "user": {
      "displayName": "韩茏桢",
      "photoUrl": "",
      "userId": "01684388034859812320"
     },
     "user_tz": -480
    },
    "id": "x7bzcpPm2l45"
   },
   "outputs": [],
   "source": [
    "top_actors = ['Dwayne Johnson',\n",
    "'Chris Hemsworth',\n",
    "'Robert Downey Jr.',\n",
    "'Akshay Kumar',\n",
    "'Jackie Chan',\n",
    "'Bradley Cooper',\n",
    "'Adam Sandler',\n",
    "'Scarlett Johansson',\n",
    "'Sofia Vergara',\n",
    "'Chris Evans']"
   ]
  },
  {
   "cell_type": "code",
   "execution_count": 62,
   "metadata": {},
   "outputs": [],
   "source": [
    "distance_pairs = pd.DataFrame()\n",
    "movie_distances_file = 'movie_distances.csv'\n",
    "\n",
    "if os.path.isfile(movie_distances_file):\n",
    "    distance_pairs = pd.read_csv(movie_distances_file)\n",
    "\n",
    "if distance_pairs.empty:\n",
    "    actors_url_dict = get_actor_url_by_name(top_actors)\n",
    "    actors_url_list = []\n",
    "    distance_pairs = {'actor_from': [], 'actor_to': [], 'distance': []}\n",
    "\n",
    "    for name, url in actors_url_dict.items():\n",
    "        actors_url_list.append((name, url))\n",
    "\n",
    "    for i in range(0, 10):\n",
    "        for j in range(i+1, 10):\n",
    "            distance = get_movie_distance(actors_url_list[i][1], actors_url_list[j][1], 5, 5)\n",
    "            distance_pairs['actor_from'].append(actors_url_list[i][0])\n",
    "            distance_pairs['actor_to'].append(actors_url_list[j][0])\n",
    "            distance_pairs['distance'].append(distance)\n",
    "\n",
    "    distance_pairs = pd.DataFrame(distance_pairs)\n",
    "    distance_pairs.to_csv('movie_distances.csv', index=False)"
   ]
  },
  {
   "cell_type": "code",
   "execution_count": 64,
   "metadata": {},
   "outputs": [],
   "source": [
    "node_list = set()\n",
    "edge_labels = {}\n",
    "\n",
    "G = nx.Graph()\n",
    "\n",
    "for index, row in distance_pairs.iterrows():\n",
    "    node_list.add(row['actor_from'])\n",
    "    node_list.add(row['actor_to'])\n",
    "    \n",
    "    if row['distance'] != float(\"inf\"):\n",
    "        edge_labels[(row['actor_from'], row['actor_to'])] = int(row['distance'])"
   ]
  },
  {
   "cell_type": "code",
   "execution_count": 70,
   "metadata": {},
   "outputs": [
    {
     "data": {
      "image/png": "[encoded data removed]",
      "text/plain": [
       "<Figure size 432x288 with 1 Axes>"
      ]
     },
     "metadata": {
      "needs_background": "light"
     },
     "output_type": "display_data"
    }
   ],
   "source": [
    "G = nx.Graph()\n",
    "# pos=nx.spring_layout(G)\n",
    "\n",
    "plt.subplot(121)\n",
    "\n",
    "G.add_nodes_from(list(node_list))\n",
    "G.add_edges_from(edge_labels.keys())\n",
    "\n",
    "plt.axis('off')\n",
    "plt.show()"
   ]
  },
  {
   "cell_type": "code",
   "execution_count": 10,
   "metadata": {},
   "outputs": [
    {
     "data": {
      "text/plain": [
       "['A detective investigates the death of a patriarch of an eccentric, combative family.',\n",
       " \"Israel's Mossad agents attempt to rescue Ethiopian Jewish refugees in Sudan in 1979.\",\n",
       " \"After the devastating events of Avengers: Infinity War (2018), the universe is in ruins. With the help of remaining allies, the Avengers assemble once more in order to reverse Thanos' actions and restore balance to the universe.\",\n",
       " \"Carol Danvers becomes one of the universe's most powerful heroes when Earth is caught in the middle of a galactic war between two alien races.\",\n",
       " 'The Avengers and their allies must be willing to sacrifice all in an attempt to defeat the powerful Thanos before his blitz of devastation and ruin puts an end to the universe.',\n",
       " 'Peter Parker balances his life as an ordinary high school student in Queens with his superhero alter-ego Spider-Man, and finds himself on the trail of a new menace prowling the skies of New York City.',\n",
       " 'Frank, a single man raising his child prodigy niece Mary, is drawn into a custody battle with his mother.',\n",
       " \"Political involvement in the Avengers' affairs causes a rift between Captain America and Iron Man.\",\n",
       " 'Armed with a super-suit with the astonishing ability to shrink in scale but increase in strength, cat burglar Scott Lang must embrace his inner hero and help his mentor, Dr. Hank Pym, plan and pull off a heist that will save the world.',\n",
       " \"When Tony Stark and Bruce Banner try to jump-start a dormant peacekeeping program called Ultron, things go horribly wrong and it's up to Earth's mightiest heroes to stop the villainous Ultron from enacting his terrible plan.\",\n",
       " 'Unrequited love motivates a guy to write about his experiences.',\n",
       " \"Two strangers stuck in Manhattan for the night grow into each other's most trusted confidants when an evening of unexpected adventure forces them to confront their fears and take control of their lives.\",\n",
       " 'As Steve Rogers struggles to embrace his role in the modern world, he teams up with a fellow Avenger and S.H.I.E.L.D agent, Black Widow, to battle a new threat from history: an assassin known as the Winter Soldier.',\n",
       " 'When the Dark Elves attempt to plunge the universe into darkness, Thor must embark on a perilous and personal journey that will reunite him with doctor Jane Foster.',\n",
       " 'In a future where a failed climate-change experiment has killed all life except for the lucky few who boarded the Snowpiercer, a train that travels around the globe, a new class system emerges.',\n",
       " 'The story of Richard Kuklinski, the notorious contract killer and family man. When finally arrested in 1986, neither his wife nor daughters had any clue about his real profession.',\n",
       " \"Earth's mightiest heroes must come together and learn to fight as a team if they are going to stop the mischievous Loki and his alien army from enslaving humanity.\",\n",
       " \"A woman looks back at the past nineteen men she's had relationships with in her life and wonders if one of them might be her one true love.\",\n",
       " 'Steve Rogers, a rejected military soldier, transforms into Captain America after taking a dose of a \"Super-Soldier serum\". But being Captain America comes at a price as he attempts to take down a war monger and a terrorist organization.',\n",
       " 'A David and Goliath law drama about a drug-addicted lawyer who takes on a health supply corporation while battling his own personal demons.',\n",
       " \"In a magically realistic version of Toronto, a young man must defeat his new girlfriend's seven evil exes one by one in order to win her heart.\",\n",
       " 'A CIA special forces team are betrayed and left for dead by their superiors, galvanizing them to mount an offensive on the CIA.',\n",
       " 'Two young Americans with special abilities must race to find a girl in Hong Kong before a shadowy government organization called Division does.',\n",
       " 'A rebellious socialite defies social conventions for a once-in-a-lifetime shot at true love, only to see her hopes shattered after a priceless diamond vanishes into thin air. Adapted from a long-lost Tennessee Williams screenplay.',\n",
       " 'An undercover cop, disillusioned by the death of his wife, is implicated in the murder of an officer and must struggle to clear himself.',\n",
       " 'A peaceful alien planet faces annihilation, as the homeless remainder of the human race sets its eyes on Terra. Mala, a rebellious Terrian teenager, will do everything she can to stop it.',\n",
       " 'A college graduate goes to work as a nanny for a rich New York family. Ensconced in their home, she has to juggle their dysfunction, a new romance, and the spoiled brat in her charge.',\n",
       " \"The Fantastic Four learn that they aren't the only super-powered beings in the universe when they square off against the powerful Silver Surfer and the planet-eating Galactus.\",\n",
       " 'A team of international astronauts are sent on a dangerous mission to reignite the dying Sun with a nuclear fission bomb in 2057.',\n",
       " 'When the world is threatened by an ancient evil, the four adolescent turtles must reunite and overcome their faults in order to stand against it.',\n",
       " 'London is a drug laden adventure that centers on a party in a New York loft where a young man is trying to win back his ex-girlfriend.',\n",
       " 'A group of astronauts gain superpowers after a cosmic radiation exposure and must use them to oppose the plans of their enemy, Doctor Victor Von Doom.',\n",
       " 'A massage therapist looking to overcome her addictions and reconnect with her son, whose father is an anthropologist in South America studying the Yanomani people, moves in with a wealthy ex-client in New Jersey.',\n",
       " 'A young man receives an emergency phone call on his cell phone from an older woman. The catch? The woman claims to have been kidnapped; and the kidnappers have targeted her husband and child next.',\n",
       " 'Six high school seniors decide to break into the Princeton Testing Center so they can steal the answers to their upcoming SAT tests and all get perfect scores.',\n",
       " 'A sendup of all the teen movies that have accumulated in the past two decades.',\n",
       " 'A 12-year-old boy and his family start life over in a new town.']"
      ]
     },
     "execution_count": 10,
     "metadata": {},
     "output_type": "execute_result"
    }
   ],
   "source": [
    "url = 'https://www.imdb.com/name/nm0262635/'\n",
    "    \n",
    "actor_soup = get_actor_movie_soup(url)\n",
    "\n",
    "result = get_movie_descriptions_by_actor_soup(actor_soup)"
   ]
  }
 ],
 "metadata": {
  "colab": {
   "authorship_tag": "ABX9TyNbbfPYQGPNG75gthUYpHWO",
   "collapsed_sections": [],
   "name": "scrapper.ipynb",
   "provenance": []
  },
  "kernelspec": {
   "display_name": "Python 3",
   "language": "python",
   "name": "python3"
  },
  "language_info": {
   "codemirror_mode": {
    "name": "ipython",
    "version": 3
   },
   "file_extension": ".py",
   "mimetype": "text/x-python",
   "name": "python",
   "nbconvert_exporter": "python",
   "pygments_lexer": "ipython3",
   "version": "3.7.9"
  }
 },
 "nbformat": 4,
 "nbformat_minor": 1
}
