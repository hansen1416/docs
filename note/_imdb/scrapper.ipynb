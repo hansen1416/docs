{
 "cells": [
  {
   "cell_type": "code",
   "execution_count": 4,
   "metadata": {
    "executionInfo": {
     "elapsed": 1214,
     "status": "ok",
     "timestamp": 1606631114153,
     "user": {
      "displayName": "韩茏桢",
      "photoUrl": "",
      "userId": "01684388034859812320"
     },
     "user_tz": -480
    },
    "id": "WSsUJ-KKo1v6"
   },
   "outputs": [],
   "source": [
    "from datetime import datetime\n",
    "import os\n",
    "import re\n",
    "import requests\n",
    "import time\n",
    "import urllib\n",
    "\n",
    "from bs4 import BeautifulSoup\n",
    "import numpy as np\n",
    "import pandas as pd"
   ]
  },
  {
   "cell_type": "code",
   "execution_count": 8,
   "metadata": {
    "executionInfo": {
     "elapsed": 1050,
     "status": "ok",
     "timestamp": 1606631114956,
     "user": {
      "displayName": "韩茏桢",
      "photoUrl": "",
      "userId": "01684388034859812320"
     },
     "user_tz": -480
    },
    "id": "x7bzcpPm2l45"
   },
   "outputs": [],
   "source": [
    "top_actors = ['Dwayne Johnson',\n",
    "'Chris Hemsworth',\n",
    "'Robert Downey Jr.',\n",
    "'Akshay Kumar',\n",
    "'Jackie Chan',\n",
    "'Bradley Cooper',\n",
    "'Adam Sandler',\n",
    "'Scarlett Johansson',\n",
    "'Sofia Vergara',\n",
    "'Chris Evans']"
   ]
  },
  {
   "cell_type": "code",
   "execution_count": 9,
   "metadata": {
    "colab": {
     "base_uri": "https://localhost:8080/"
    },
    "executionInfo": {
     "elapsed": 1013,
     "status": "ok",
     "timestamp": 1606631142215,
     "user": {
      "displayName": "韩茏桢",
      "photoUrl": "",
      "userId": "01684388034859812320"
     },
     "user_tz": -480
    },
    "id": "W2LGBoD7clV9",
    "outputId": "f389ce71-7858-41c7-d806-0ed3004d195a"
   },
   "outputs": [
    {
     "data": {
      "text/plain": [
       "{'Dwayne Johnson': 'https://www.imdb.com/name/nm0425005/',\n",
       " 'Chris Hemsworth': 'https://www.imdb.com/name/nm1165110/',\n",
       " 'Robert Downey Jr.': 'https://www.imdb.com/name/nm0000375/',\n",
       " 'Akshay Kumar': 'https://www.imdb.com/name/nm0474774/',\n",
       " 'Jackie Chan': 'https://www.imdb.com/name/nm0000329/',\n",
       " 'Bradley Cooper': 'https://www.imdb.com/name/nm0177896/',\n",
       " 'Adam Sandler': 'https://www.imdb.com/name/nm0001191/',\n",
       " 'Scarlett Johansson': 'https://www.imdb.com/name/nm0424060/',\n",
       " 'Sofia Vergara': 'https://www.imdb.com/name/nm0005527/',\n",
       " 'Chris Evans': 'https://www.imdb.com/name/nm0262635/'}"
      ]
     },
     "execution_count": 9,
     "metadata": {},
     "output_type": "execute_result"
    }
   ],
   "source": [
    "from imdb_helper_functions import *\n",
    "from imdb_code import get_actors_by_movie_soup, get_movies_by_actor_soup, get_movie_distance\n",
    "\n",
    "actors_url_dict = get_actor_url_by_name(top_actors)\n",
    "actors_url_dict"
   ]
  },
  {
   "cell_type": "code",
   "execution_count": null,
   "metadata": {
    "executionInfo": {
     "elapsed": 995,
     "status": "ok",
     "timestamp": 1606631146316,
     "user": {
      "displayName": "韩茏桢",
      "photoUrl": "",
      "userId": "01684388034859812320"
     },
     "user_tz": -480
    },
    "id": "QmJ8SkrPjTFr"
   },
   "outputs": [],
   "source": [
    "save_actors, saved_movies = check_saved_data()"
   ]
  },
  {
   "cell_type": "code",
   "execution_count": null,
   "metadata": {
    "colab": {
     "base_uri": "https://localhost:8080/"
    },
    "executionInfo": {
     "elapsed": 1047,
     "status": "ok",
     "timestamp": 1606631517732,
     "user": {
      "displayName": "韩茏桢",
      "photoUrl": "",
      "userId": "01684388034859812320"
     },
     "user_tz": -480
    },
    "id": "PsqdmR-1jYFa",
    "outputId": "5ce6fdb5-c332-483a-93fa-e0fc1b11f073"
   },
   "outputs": [],
   "source": [
    "# print(get_movies_by_actor('https://www.imdb.com/name/nm0474774/'))\n",
    "# print(get_actors_by_movie('https://www.imdb.com/title/tt4799050/'))"
   ]
  },
  {
   "cell_type": "code",
   "execution_count": null,
   "metadata": {
    "colab": {
     "base_uri": "https://localhost:8080/",
     "height": 487
    },
    "executionInfo": {
     "elapsed": 1602,
     "status": "error",
     "timestamp": 1606631522456,
     "user": {
      "displayName": "韩茏桢",
      "photoUrl": "",
      "userId": "01684388034859812320"
     },
     "user_tz": -480
    },
    "id": "FAAqpUB4hdQh",
    "outputId": "b8c52f96-2ec3-4a8a-a5b5-213468259c9d"
   },
   "outputs": [
    {
     "name": "stdout",
     "output_type": "stream",
     "text": [
      "Dwayne Johnson|https://www.imdb.com/name/nm0425005/|The Scorpion King|https://www.imdb.com/title/tt13530704/::Dwayne Johnson|https://www.imdb.com/name/nm0425005/\n",
      "Dwayne Johnson|https://www.imdb.com/name/nm0425005/|Jumanji: The Next Level|https://www.imdb.com/title/tt7975244/::Kevin Hart|https://www.imdb.com/name/nm0366389/|What Now?|https://www.imdb.com/title/tt4669186/::Don Cheadle|https://www.imdb.com/name/nm0000332/|Avengers: Endgame|https://www.imdb.com/title/tt4154796/::Chris Hemsworth|https://www.imdb.com/name/nm1165110/\n",
      "Dwayne Johnson|https://www.imdb.com/name/nm0425005/|Jumanji: The Next Level|https://www.imdb.com/title/tt7975244/::Kevin Hart|https://www.imdb.com/name/nm0366389/|What Now?|https://www.imdb.com/title/tt4669186/::Don Cheadle|https://www.imdb.com/name/nm0000332/|Avengers: Endgame|https://www.imdb.com/title/tt4154796/::Robert Downey Jr.|https://www.imdb.com/name/nm0000375/\n",
      "None\n",
      "Dwayne Johnson|https://www.imdb.com/name/nm0425005/|Fast & Furious Presents: Hobbs & Shaw|https://www.imdb.com/title/tt6806448/::Jason Statham|https://www.imdb.com/name/nm0005458/|The Meg|https://www.imdb.com/title/tt4779682/::Winston Chao|https://www.imdb.com/name/nm0152061/|Jue di tao wang|https://www.imdb.com/title/tt2238032/::Jackie Chan|https://www.imdb.com/name/nm0000329/\n",
      "Dwayne Johnson|https://www.imdb.com/name/nm0425005/|Fast & Furious Presents: Hobbs & Shaw|https://www.imdb.com/title/tt6806448/::Jason Statham|https://www.imdb.com/name/nm0005458/|Mechanic: Resurrection|https://www.imdb.com/title/tt3522806/::Michelle Yeoh|https://www.imdb.com/name/nm0000706/|Guardians of the Galaxy Vol. 2|https://www.imdb.com/title/tt3896198/::Bradley Cooper|https://www.imdb.com/name/nm0177896/\n",
      "Dwayne Johnson|https://www.imdb.com/name/nm0425005/|Fast & Furious Presents: Hobbs & Shaw|https://www.imdb.com/title/tt6806448/::Helen Mirren|https://www.imdb.com/name/nm0000545/|Anna|https://www.imdb.com/title/tt7456310/::Luke Evans|https://www.imdb.com/name/nm1812656/|Murder Mystery|https://www.imdb.com/title/tt1618434/::Adam Sandler|https://www.imdb.com/name/nm0001191/\n",
      "Dwayne Johnson|https://www.imdb.com/name/nm0425005/|Jumanji: The Next Level|https://www.imdb.com/title/tt7975244/::Kevin Hart|https://www.imdb.com/name/nm0366389/|What Now?|https://www.imdb.com/title/tt4669186/::Don Cheadle|https://www.imdb.com/name/nm0000332/|Avengers: Endgame|https://www.imdb.com/title/tt4154796/::Scarlett Johansson|https://www.imdb.com/name/nm0424060/\n",
      "None\n",
      "Dwayne Johnson|https://www.imdb.com/name/nm0425005/|Jumanji: The Next Level|https://www.imdb.com/title/tt7975244/::Kevin Hart|https://www.imdb.com/name/nm0366389/|What Now?|https://www.imdb.com/title/tt4669186/::Don Cheadle|https://www.imdb.com/name/nm0000332/|Avengers: Endgame|https://www.imdb.com/title/tt4154796/::Chris Evans|https://www.imdb.com/name/nm0262635/\n",
      "Chris Hemsworth|https://www.imdb.com/name/nm1165110/|Men in Black: International|https://www.imdb.com/title/tt2283336/::Rebecca Ferguson|https://www.imdb.com/name/nm0272581/|Doctor Sleep|https://www.imdb.com/title/tt5606664/::Cliff Curtis|https://www.imdb.com/name/nm0193295/|Fast & Furious Presents: Hobbs & Shaw|https://www.imdb.com/title/tt6806448/::Dwayne Johnson|https://www.imdb.com/name/nm0425005/\n",
      "Chris Hemsworth|https://www.imdb.com/name/nm1165110/|Extraction|https://www.imdb.com/title/tt8936646/::Chris Hemsworth|https://www.imdb.com/name/nm1165110/\n",
      "Chris Hemsworth|https://www.imdb.com/name/nm1165110/|Avengers: Endgame|https://www.imdb.com/title/tt4154796/::Robert Downey Jr.|https://www.imdb.com/name/nm0000375/\n",
      "Chris Hemsworth|https://www.imdb.com/name/nm1165110/|Extraction|https://www.imdb.com/title/tt8936646/::Rudhraksh Jaiswal|https://www.imdb.com/name/nm7287299/|Noor|https://www.imdb.com/title/tt5775220/::Sonakshi Sinha|https://www.imdb.com/name/nm3848064/|Mission Mangal|https://www.imdb.com/title/tt9248972/::Akshay Kumar|https://www.imdb.com/name/nm0474774/\n",
      "Chris Hemsworth|https://www.imdb.com/name/nm1165110/|Bad Times at the El Royale|https://www.imdb.com/title/tt6628394/::Jeff Bridges|https://www.imdb.com/name/nm0000313/|The Only Living Boy in New York|https://www.imdb.com/title/tt0460890/::Pierce Brosnan|https://www.imdb.com/name/nm0000112/|The Foreigner|https://www.imdb.com/title/tt1615160/::Jackie Chan|https://www.imdb.com/name/nm0000329/\n",
      "Chris Hemsworth|https://www.imdb.com/name/nm1165110/|Men in Black: International|https://www.imdb.com/title/tt2283336/::Tessa Thompson|https://www.imdb.com/name/nm1935086/|Lady and the Tramp|https://www.imdb.com/title/tt8096832/::Sam Elliott|https://www.imdb.com/name/nm0000385/|A Star Is Born|https://www.imdb.com/title/tt1517451/::Bradley Cooper|https://www.imdb.com/name/nm0177896/\n",
      "None\n",
      "Chris Hemsworth|https://www.imdb.com/name/nm1165110/|Avengers: Endgame|https://www.imdb.com/title/tt4154796/::Scarlett Johansson|https://www.imdb.com/name/nm0424060/\n",
      "None\n",
      "Chris Hemsworth|https://www.imdb.com/name/nm1165110/|Avengers: Endgame|https://www.imdb.com/title/tt4154796/::Chris Evans|https://www.imdb.com/name/nm0262635/\n",
      "Robert Downey Jr.|https://www.imdb.com/name/nm0000375/|Dolittle|https://www.imdb.com/title/tt6673612/::Jim Broadbent|https://www.imdb.com/name/nm0000980/|The Duke|https://www.imdb.com/title/tt11204094/::Helen Mirren|https://www.imdb.com/name/nm0000545/|Fast & Furious Presents: Hobbs & Shaw|https://www.imdb.com/title/tt6806448/::Dwayne Johnson|https://www.imdb.com/name/nm0425005/\n",
      "Robert Downey Jr.|https://www.imdb.com/name/nm0000375/|Avengers: Endgame|https://www.imdb.com/title/tt4154796/::Chris Hemsworth|https://www.imdb.com/name/nm1165110/\n",
      "Robert Downey Jr.|https://www.imdb.com/name/nm0000375/|Dolittle|https://www.imdb.com/title/tt6673612/::Robert Downey Jr.|https://www.imdb.com/name/nm0000375/\n",
      "None\n",
      "None\n",
      "Robert Downey Jr.|https://www.imdb.com/name/nm0000375/|Captain America: Civil War|https://www.imdb.com/title/tt3498820/::Anthony Mackie|https://www.imdb.com/name/nm1107001/|The Banker|https://www.imdb.com/title/tt6285944/::Scott Daniel Johnson|https://www.imdb.com/name/nm1713847/|Guardians of the Galaxy Vol. 2|https://www.imdb.com/title/tt3896198/::Bradley Cooper|https://www.imdb.com/name/nm0177896/\n",
      "Robert Downey Jr.|https://www.imdb.com/name/nm0000375/|Spider-Man: Homecoming|https://www.imdb.com/title/tt2250912/::Jon Favreau|https://www.imdb.com/name/nm0269463/|The Lion King|https://www.imdb.com/title/tt6105098/::John Kani|https://www.imdb.com/name/nm0434712/|Murder Mystery|https://www.imdb.com/title/tt1618434/::Adam Sandler|https://www.imdb.com/name/nm0001191/\n",
      "Robert Downey Jr.|https://www.imdb.com/name/nm0000375/|Avengers: Endgame|https://www.imdb.com/title/tt4154796/::Scarlett Johansson|https://www.imdb.com/name/nm0424060/\n",
      "None\n",
      "Robert Downey Jr.|https://www.imdb.com/name/nm0000375/|Avengers: Endgame|https://www.imdb.com/title/tt4154796/::Chris Evans|https://www.imdb.com/name/nm0262635/\n",
      "None\n",
      "Akshay Kumar|https://www.imdb.com/name/nm0474774/|Laxmii|https://www.imdb.com/title/tt10350922/::Ayesha Raza|https://www.imdb.com/name/nm2217498/|Gunjan Saxena: The Kargil Girl|https://www.imdb.com/title/tt10350626/::Pankaj Tripathi|https://www.imdb.com/name/nm2690647/|Extraction|https://www.imdb.com/title/tt8936646/::Chris Hemsworth|https://www.imdb.com/name/nm1165110/\n",
      "None\n",
      "Akshay Kumar|https://www.imdb.com/name/nm0474774/|Laxmii|https://www.imdb.com/title/tt10350922/::Akshay Kumar|https://www.imdb.com/name/nm0474774/\n",
      "None\n",
      "None\n",
      "None\n",
      "None\n",
      "None\n",
      "None\n",
      "None\n",
      "None\n",
      "Jackie Chan|https://www.imdb.com/name/nm0000329/|The Climbers|https://www.imdb.com/title/tt9635616/::Ziyi Zhang|https://www.imdb.com/name/nm0955471/|The Cloverfield Paradox|https://www.imdb.com/title/tt2548396/::Daniel Brühl|https://www.imdb.com/name/nm0117709/|Captain America: Civil War|https://www.imdb.com/title/tt3498820/::Robert Downey Jr.|https://www.imdb.com/name/nm0000375/\n",
      "None\n",
      "Jackie Chan|https://www.imdb.com/name/nm0000329/|Vanguard|https://www.imdb.com/title/tt9695722/::Jackie Chan|https://www.imdb.com/name/nm0000329/\n",
      "None\n",
      "None\n",
      "Jackie Chan|https://www.imdb.com/name/nm0000329/|The Climbers|https://www.imdb.com/title/tt9635616/::Ziyi Zhang|https://www.imdb.com/name/nm0955471/|The Cloverfield Paradox|https://www.imdb.com/title/tt2548396/::Daniel Brühl|https://www.imdb.com/name/nm0117709/|Captain America: Civil War|https://www.imdb.com/title/tt3498820/::Scarlett Johansson|https://www.imdb.com/name/nm0424060/\n"
     ]
    },
    {
     "name": "stdout",
     "output_type": "stream",
     "text": [
      "None\n",
      "Jackie Chan|https://www.imdb.com/name/nm0000329/|The Climbers|https://www.imdb.com/title/tt9635616/::Ziyi Zhang|https://www.imdb.com/name/nm0955471/|The Cloverfield Paradox|https://www.imdb.com/title/tt2548396/::Daniel Brühl|https://www.imdb.com/name/nm0117709/|Captain America: Civil War|https://www.imdb.com/title/tt3498820/::Chris Evans|https://www.imdb.com/name/nm0262635/\n",
      "Bradley Cooper|https://www.imdb.com/name/nm0177896/|Avengers: Endgame|https://www.imdb.com/title/tt4154796/::Mark Ruffalo|https://www.imdb.com/name/nm0749263/|Thor: Ragnarok|https://www.imdb.com/title/tt3501632/::Idris Elba|https://www.imdb.com/name/nm0252961/|Fast & Furious Presents: Hobbs & Shaw|https://www.imdb.com/title/tt6806448/::Dwayne Johnson|https://www.imdb.com/name/nm0425005/\n",
      "Bradley Cooper|https://www.imdb.com/name/nm0177896/|Avengers: Endgame|https://www.imdb.com/title/tt4154796/::Chris Hemsworth|https://www.imdb.com/name/nm1165110/\n",
      "Bradley Cooper|https://www.imdb.com/name/nm0177896/|Avengers: Endgame|https://www.imdb.com/title/tt4154796/::Robert Downey Jr.|https://www.imdb.com/name/nm0000375/\n",
      "None\n",
      "None\n",
      "Bradley Cooper|https://www.imdb.com/name/nm0177896/|A Star Is Born|https://www.imdb.com/title/tt1517451/::Bradley Cooper|https://www.imdb.com/name/nm0177896/\n",
      "Bradley Cooper|https://www.imdb.com/name/nm0177896/|The Mule|https://www.imdb.com/title/tt7959026/::Jackie Prucha|https://www.imdb.com/name/nm1836910/|The Way Home|https://www.imdb.com/title/tt1252507/::Matt Lintz|https://www.imdb.com/name/nm3292692/|Pixels|https://www.imdb.com/title/tt2120120/::Adam Sandler|https://www.imdb.com/name/nm0001191/\n",
      "Bradley Cooper|https://www.imdb.com/name/nm0177896/|Avengers: Endgame|https://www.imdb.com/title/tt4154796/::Scarlett Johansson|https://www.imdb.com/name/nm0424060/\n",
      "None\n",
      "Bradley Cooper|https://www.imdb.com/name/nm0177896/|Avengers: Endgame|https://www.imdb.com/title/tt4154796/::Chris Evans|https://www.imdb.com/name/nm0262635/\n",
      "Adam Sandler|https://www.imdb.com/name/nm0001191/|Hubie Halloween|https://www.imdb.com/title/tt10682266/::Julie Bowen|https://www.imdb.com/name/nm0100866/|Horrible Bosses|https://www.imdb.com/title/tt1499658/::Jason Bateman|https://www.imdb.com/name/nm0000867/|Central Intelligence|https://www.imdb.com/title/tt1489889/::Dwayne Johnson|https://www.imdb.com/name/nm0425005/\n",
      "Adam Sandler|https://www.imdb.com/name/nm0001191/|Hubie Halloween|https://www.imdb.com/title/tt10682266/::Julie Bowen|https://www.imdb.com/name/nm0100866/|Knife Fight|https://www.imdb.com/title/tt1931466/::David Harbour|https://www.imdb.com/name/nm1092086/|Extraction|https://www.imdb.com/title/tt8936646/::Chris Hemsworth|https://www.imdb.com/name/nm1165110/\n",
      "Adam Sandler|https://www.imdb.com/name/nm0001191/|Hubie Halloween|https://www.imdb.com/title/tt10682266/::Kevin James|https://www.imdb.com/name/nm0416673/|Hotel Transylvania 3: Summer Vacation|https://www.imdb.com/title/tt5220122/::Selena Gomez|https://www.imdb.com/name/nm1411125/|Dolittle|https://www.imdb.com/title/tt6673612/::Robert Downey Jr.|https://www.imdb.com/name/nm0000375/\n"
     ]
    }
   ],
   "source": [
    "# actors_text[0][1], actors_text[1][1]\n",
    "\"\"\"\n",
    "{'Dwayne Johnson': 'https://www.imdb.com/name/nm0425005/',\n",
    " 'Chris Hemsworth': 'https://www.imdb.com/name/nm1165110/',\n",
    " 'Robert Downey Jr.': 'https://www.imdb.com/name/nm0000375/',\n",
    " 'Akshay Kumar': 'https://www.imdb.com/name/nm0474774/',\n",
    " 'Jackie Chan': 'https://www.imdb.com/name/nm0000329/',\n",
    " 'Bradley Cooper': 'https://www.imdb.com/name/nm0177896/',\n",
    " 'Adam Sandler': 'https://www.imdb.com/name/nm0001191/',\n",
    " 'Scarlett Johansson': 'https://www.imdb.com/name/nm0424060/',\n",
    " 'Sofia Vergara': 'https://www.imdb.com/name/nm0005527/',\n",
    " 'Chris Evans.': 'https://www.imdb.com/name/nm0262635/'}\n",
    "\"\"\"\n",
    "\n",
    "os.environ['IMDB_DEBUG'] = '1'\n",
    "del os.environ['IMDB_DEBUG']\n",
    "\n",
    "for name, url in actors_url_dict.items():\n",
    "    for name_t, url_t in actors_url_dict.items():\n",
    "#         print(name, url, name_t, url_t)\n",
    "        dis = get_movie_distance(url, url_t, 5, 5)\n",
    "        print(dis)\n",
    "#     break"
   ]
  }
 ],
 "metadata": {
  "colab": {
   "authorship_tag": "ABX9TyNbbfPYQGPNG75gthUYpHWO",
   "collapsed_sections": [],
   "name": "scrapper.ipynb",
   "provenance": []
  },
  "kernelspec": {
   "display_name": "Python 3",
   "language": "python",
   "name": "python3"
  },
  "language_info": {
   "codemirror_mode": {
    "name": "ipython",
    "version": 3
   },
   "file_extension": ".py",
   "mimetype": "text/x-python",
   "name": "python",
   "nbconvert_exporter": "python",
   "pygments_lexer": "ipython3",
   "version": "3.7.9"
  }
 },
 "nbformat": 4,
 "nbformat_minor": 1
}
