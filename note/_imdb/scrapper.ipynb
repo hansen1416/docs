{
 "cells": [
  {
   "cell_type": "code",
   "execution_count": 1,
   "metadata": {
    "executionInfo": {
     "elapsed": 1214,
     "status": "ok",
     "timestamp": 1606631114153,
     "user": {
      "displayName": "韩茏桢",
      "photoUrl": "",
      "userId": "01684388034859812320"
     },
     "user_tz": -480
    },
    "id": "WSsUJ-KKo1v6"
   },
   "outputs": [],
   "source": [
    "from datetime import datetime\n",
    "import os\n",
    "import re\n",
    "import requests\n",
    "import time\n",
    "import urllib\n",
    "\n",
    "from bs4 import BeautifulSoup\n",
    "import numpy as np\n",
    "import pandas as pd"
   ]
  },
  {
   "cell_type": "code",
   "execution_count": 2,
   "metadata": {
    "executionInfo": {
     "elapsed": 1050,
     "status": "ok",
     "timestamp": 1606631114956,
     "user": {
      "displayName": "韩茏桢",
      "photoUrl": "",
      "userId": "01684388034859812320"
     },
     "user_tz": -480
    },
    "id": "x7bzcpPm2l45"
   },
   "outputs": [],
   "source": [
    "top_actors = ['Dwayne Johnson',\n",
    "'Chris Hemsworth',\n",
    "'Robert Downey Jr.',\n",
    "'Akshay Kumar',\n",
    "'Jackie Chan',\n",
    "'Bradley Cooper',\n",
    "'Adam Sandler',\n",
    "'Scarlett Johansson',\n",
    "'Sofia Vergara',\n",
    "'Chris Evans']"
   ]
  },
  {
   "cell_type": "code",
   "execution_count": 3,
   "metadata": {
    "colab": {
     "base_uri": "https://localhost:8080/"
    },
    "executionInfo": {
     "elapsed": 1013,
     "status": "ok",
     "timestamp": 1606631142215,
     "user": {
      "displayName": "韩茏桢",
      "photoUrl": "",
      "userId": "01684388034859812320"
     },
     "user_tz": -480
    },
    "id": "W2LGBoD7clV9",
    "outputId": "f389ce71-7858-41c7-d806-0ed3004d195a"
   },
   "outputs": [
    {
     "data": {
      "text/plain": [
       "{'Dwayne Johnson': 'https://www.imdb.com/name/nm0425005/',\n",
       " 'Chris Hemsworth': 'https://www.imdb.com/name/nm1165110/',\n",
       " 'Robert Downey Jr.': 'https://www.imdb.com/name/nm0000375/',\n",
       " 'Akshay Kumar': 'https://www.imdb.com/name/nm0474774/',\n",
       " 'Jackie Chan': 'https://www.imdb.com/name/nm0000329/',\n",
       " 'Bradley Cooper': 'https://www.imdb.com/name/nm0177896/',\n",
       " 'Adam Sandler': 'https://www.imdb.com/name/nm0001191/',\n",
       " 'Scarlett Johansson': 'https://www.imdb.com/name/nm0424060/',\n",
       " 'Sofia Vergara': 'https://www.imdb.com/name/nm0005527/',\n",
       " 'Chris Evans': 'https://www.imdb.com/name/nm0262635/'}"
      ]
     },
     "execution_count": 3,
     "metadata": {},
     "output_type": "execute_result"
    }
   ],
   "source": [
    "from imdb_helper_functions import *\n",
    "from imdb_code import get_actors_by_movie_soup, get_movies_by_actor_soup, get_movie_distance\n",
    "\n",
    "actors_url_dict = get_actor_url_by_name(top_actors)\n",
    "actors_url_dict"
   ]
  },
  {
   "cell_type": "code",
   "execution_count": 4,
   "metadata": {
    "executionInfo": {
     "elapsed": 995,
     "status": "ok",
     "timestamp": 1606631146316,
     "user": {
      "displayName": "韩茏桢",
      "photoUrl": "",
      "userId": "01684388034859812320"
     },
     "user_tz": -480
    },
    "id": "QmJ8SkrPjTFr"
   },
   "outputs": [],
   "source": [
    "save_actors, saved_movies = check_saved_data()"
   ]
  },
  {
   "cell_type": "code",
   "execution_count": 5,
   "metadata": {
    "colab": {
     "base_uri": "https://localhost:8080/"
    },
    "executionInfo": {
     "elapsed": 1047,
     "status": "ok",
     "timestamp": 1606631517732,
     "user": {
      "displayName": "韩茏桢",
      "photoUrl": "",
      "userId": "01684388034859812320"
     },
     "user_tz": -480
    },
    "id": "PsqdmR-1jYFa",
    "outputId": "5ce6fdb5-c332-483a-93fa-e0fc1b11f073"
   },
   "outputs": [],
   "source": [
    "# print(get_movies_by_actor('https://www.imdb.com/name/nm0474774/'))\n",
    "# print(get_actors_by_movie('https://www.imdb.com/title/tt4799050/'))"
   ]
  },
  {
   "cell_type": "code",
   "execution_count": 7,
   "metadata": {
    "colab": {
     "base_uri": "https://localhost:8080/",
     "height": 487
    },
    "executionInfo": {
     "elapsed": 1602,
     "status": "error",
     "timestamp": 1606631522456,
     "user": {
      "displayName": "韩茏桢",
      "photoUrl": "",
      "userId": "01684388034859812320"
     },
     "user_tz": -480
    },
    "id": "FAAqpUB4hdQh",
    "outputId": "b8c52f96-2ec3-4a8a-a5b5-213468259c9d"
   },
   "outputs": [
    {
     "name": "stdout",
     "output_type": "stream",
     "text": [
      "Dwayne Johnson, Dwayne Johnson, 1\n",
      "Dwayne Johnson, Chris Hemsworth, 2\n",
      "Dwayne Johnson, Robert Downey Jr., 2\n",
      "Dwayne Johnson, Akshay Kumar, inf\n",
      "Dwayne Johnson, Jackie Chan, 2\n",
      "Dwayne Johnson, Bradley Cooper, 2\n",
      "Dwayne Johnson, Adam Sandler, 2\n",
      "Dwayne Johnson, Scarlett Johansson, 2\n"
     ]
    },
    {
     "ename": "KeyboardInterrupt",
     "evalue": "",
     "output_type": "error",
     "traceback": [
      "\u001b[0;31m\u001b[0m",
      "\u001b[0;31mKeyboardInterrupt\u001b[0mTraceback (most recent call last)",
      "\u001b[0;32m<ipython-input-7-fc931c2689b7>\u001b[0m in \u001b[0;36m<module>\u001b[0;34m\u001b[0m\n\u001b[1;32m     19\u001b[0m     \u001b[0;32mfor\u001b[0m \u001b[0mname_t\u001b[0m\u001b[0;34m,\u001b[0m \u001b[0murl_t\u001b[0m \u001b[0;32min\u001b[0m \u001b[0mactors_url_dict\u001b[0m\u001b[0;34m.\u001b[0m\u001b[0mitems\u001b[0m\u001b[0;34m(\u001b[0m\u001b[0;34m)\u001b[0m\u001b[0;34m:\u001b[0m\u001b[0;34m\u001b[0m\u001b[0;34m\u001b[0m\u001b[0m\n\u001b[1;32m     20\u001b[0m \u001b[0;31m#         print(name, url, name_t, url_t)\u001b[0m\u001b[0;34m\u001b[0m\u001b[0;34m\u001b[0m\u001b[0;34m\u001b[0m\u001b[0m\n\u001b[0;32m---> 21\u001b[0;31m         \u001b[0mdis\u001b[0m \u001b[0;34m=\u001b[0m \u001b[0mget_movie_distance\u001b[0m\u001b[0;34m(\u001b[0m\u001b[0murl\u001b[0m\u001b[0;34m,\u001b[0m \u001b[0murl_t\u001b[0m\u001b[0;34m,\u001b[0m \u001b[0;36m5\u001b[0m\u001b[0;34m,\u001b[0m \u001b[0;36m5\u001b[0m\u001b[0;34m)\u001b[0m\u001b[0;34m\u001b[0m\u001b[0;34m\u001b[0m\u001b[0m\n\u001b[0m\u001b[1;32m     22\u001b[0m         \u001b[0mprint\u001b[0m\u001b[0;34m(\u001b[0m\u001b[0;34m\"{0}, {1}, {2}\"\u001b[0m\u001b[0;34m.\u001b[0m\u001b[0mformat\u001b[0m\u001b[0;34m(\u001b[0m\u001b[0mname\u001b[0m\u001b[0;34m,\u001b[0m \u001b[0mname_t\u001b[0m\u001b[0;34m,\u001b[0m \u001b[0mdis\u001b[0m\u001b[0;34m)\u001b[0m\u001b[0;34m)\u001b[0m\u001b[0;34m\u001b[0m\u001b[0;34m\u001b[0m\u001b[0m\n\u001b[1;32m     23\u001b[0m \u001b[0;31m#     break\u001b[0m\u001b[0;34m\u001b[0m\u001b[0;34m\u001b[0m\u001b[0;34m\u001b[0m\u001b[0m\n",
      "\u001b[0;32m/home/docs/note/_imdb/imdb_code.py\u001b[0m in \u001b[0;36mget_movie_distance\u001b[0;34m(actor_start_url, actor_end_url, num_of_actors_limit, num_of_movies_limit)\u001b[0m\n\u001b[1;32m    159\u001b[0m \u001b[0;34m\u001b[0m\u001b[0m\n\u001b[1;32m    160\u001b[0m   connection = helper.search_actor_connection(start_tuple, end_tuple, start_tuple[0] + '|' + start_tuple[1], saved_actors=seen_actors, saved_movies=seen_movies, \\\n\u001b[0;32m--> 161\u001b[0;31m                             max_depth=4, num_of_actors_limit=num_of_actors_limit, num_of_movies_limit=num_of_movies_limit)\n\u001b[0m\u001b[1;32m    162\u001b[0m \u001b[0;34m\u001b[0m\u001b[0m\n\u001b[1;32m    163\u001b[0m   \u001b[0;32mif\u001b[0m \u001b[0mconnection\u001b[0m\u001b[0;34m:\u001b[0m\u001b[0;34m\u001b[0m\u001b[0;34m\u001b[0m\u001b[0m\n",
      "\u001b[0;32m/home/docs/note/_imdb/imdb_helper_functions.py\u001b[0m in \u001b[0;36msearch_actor_connection\u001b[0;34m(start_actor_tuple, target_actor_tuple, path, saved_actors, saved_movies, max_depth, num_of_actors_limit, num_of_movies_limit)\u001b[0m\n\u001b[1;32m    254\u001b[0m                             \u001b[0mpath\u001b[0m \u001b[0;34m+\u001b[0m \u001b[0;34m'|'\u001b[0m \u001b[0;34m+\u001b[0m \u001b[0mmovie_tulpe\u001b[0m\u001b[0;34m[\u001b[0m\u001b[0;36m0\u001b[0m\u001b[0;34m]\u001b[0m \u001b[0;34m+\u001b[0m \u001b[0;34m'|'\u001b[0m \u001b[0;34m+\u001b[0m \u001b[0mmovie_tulpe\u001b[0m\u001b[0;34m[\u001b[0m\u001b[0;36m1\u001b[0m\u001b[0;34m]\u001b[0m \u001b[0;34m+\u001b[0m \u001b[0;34m'::'\u001b[0m \u001b[0;34m+\u001b[0m \u001b[0mactor_tuple\u001b[0m\u001b[0;34m[\u001b[0m\u001b[0;36m0\u001b[0m\u001b[0;34m]\u001b[0m \u001b[0;34m+\u001b[0m \u001b[0;34m'|'\u001b[0m \u001b[0;34m+\u001b[0m \u001b[0mactor_tuple\u001b[0m\u001b[0;34m[\u001b[0m\u001b[0;36m1\u001b[0m\u001b[0;34m]\u001b[0m\u001b[0;34m,\u001b[0m\u001b[0;31m \u001b[0m\u001b[0;31m\\\u001b[0m\u001b[0;34m\u001b[0m\u001b[0;34m\u001b[0m\u001b[0m\n\u001b[1;32m    255\u001b[0m                             \u001b[0msaved_actors\u001b[0m\u001b[0;34m=\u001b[0m\u001b[0msaved_actors\u001b[0m\u001b[0;34m,\u001b[0m \u001b[0msaved_movies\u001b[0m\u001b[0;34m=\u001b[0m\u001b[0msaved_movies\u001b[0m\u001b[0;34m,\u001b[0m\u001b[0;34m\u001b[0m\u001b[0;34m\u001b[0m\u001b[0m\n\u001b[0;32m--> 256\u001b[0;31m                             max_depth=max_depth, num_of_actors_limit=num_of_actors_limit, num_of_movies_limit=num_of_movies_limit)\n\u001b[0m\u001b[1;32m    257\u001b[0m \u001b[0;34m\u001b[0m\u001b[0m\n\u001b[1;32m    258\u001b[0m       \u001b[0;32mif\u001b[0m \u001b[0mresult\u001b[0m\u001b[0;34m:\u001b[0m\u001b[0;34m\u001b[0m\u001b[0;34m\u001b[0m\u001b[0m\n",
      "\u001b[0;32m/home/docs/note/_imdb/imdb_helper_functions.py\u001b[0m in \u001b[0;36msearch_actor_connection\u001b[0;34m(start_actor_tuple, target_actor_tuple, path, saved_actors, saved_movies, max_depth, num_of_actors_limit, num_of_movies_limit)\u001b[0m\n\u001b[1;32m    254\u001b[0m                             \u001b[0mpath\u001b[0m \u001b[0;34m+\u001b[0m \u001b[0;34m'|'\u001b[0m \u001b[0;34m+\u001b[0m \u001b[0mmovie_tulpe\u001b[0m\u001b[0;34m[\u001b[0m\u001b[0;36m0\u001b[0m\u001b[0;34m]\u001b[0m \u001b[0;34m+\u001b[0m \u001b[0;34m'|'\u001b[0m \u001b[0;34m+\u001b[0m \u001b[0mmovie_tulpe\u001b[0m\u001b[0;34m[\u001b[0m\u001b[0;36m1\u001b[0m\u001b[0;34m]\u001b[0m \u001b[0;34m+\u001b[0m \u001b[0;34m'::'\u001b[0m \u001b[0;34m+\u001b[0m \u001b[0mactor_tuple\u001b[0m\u001b[0;34m[\u001b[0m\u001b[0;36m0\u001b[0m\u001b[0;34m]\u001b[0m \u001b[0;34m+\u001b[0m \u001b[0;34m'|'\u001b[0m \u001b[0;34m+\u001b[0m \u001b[0mactor_tuple\u001b[0m\u001b[0;34m[\u001b[0m\u001b[0;36m1\u001b[0m\u001b[0;34m]\u001b[0m\u001b[0;34m,\u001b[0m\u001b[0;31m \u001b[0m\u001b[0;31m\\\u001b[0m\u001b[0;34m\u001b[0m\u001b[0;34m\u001b[0m\u001b[0m\n\u001b[1;32m    255\u001b[0m                             \u001b[0msaved_actors\u001b[0m\u001b[0;34m=\u001b[0m\u001b[0msaved_actors\u001b[0m\u001b[0;34m,\u001b[0m \u001b[0msaved_movies\u001b[0m\u001b[0;34m=\u001b[0m\u001b[0msaved_movies\u001b[0m\u001b[0;34m,\u001b[0m\u001b[0;34m\u001b[0m\u001b[0;34m\u001b[0m\u001b[0m\n\u001b[0;32m--> 256\u001b[0;31m                             max_depth=max_depth, num_of_actors_limit=num_of_actors_limit, num_of_movies_limit=num_of_movies_limit)\n\u001b[0m\u001b[1;32m    257\u001b[0m \u001b[0;34m\u001b[0m\u001b[0m\n\u001b[1;32m    258\u001b[0m       \u001b[0;32mif\u001b[0m \u001b[0mresult\u001b[0m\u001b[0;34m:\u001b[0m\u001b[0;34m\u001b[0m\u001b[0;34m\u001b[0m\u001b[0m\n",
      "\u001b[0;32m/home/docs/note/_imdb/imdb_helper_functions.py\u001b[0m in \u001b[0;36msearch_actor_connection\u001b[0;34m(start_actor_tuple, target_actor_tuple, path, saved_actors, saved_movies, max_depth, num_of_actors_limit, num_of_movies_limit)\u001b[0m\n\u001b[1;32m    254\u001b[0m                             \u001b[0mpath\u001b[0m \u001b[0;34m+\u001b[0m \u001b[0;34m'|'\u001b[0m \u001b[0;34m+\u001b[0m \u001b[0mmovie_tulpe\u001b[0m\u001b[0;34m[\u001b[0m\u001b[0;36m0\u001b[0m\u001b[0;34m]\u001b[0m \u001b[0;34m+\u001b[0m \u001b[0;34m'|'\u001b[0m \u001b[0;34m+\u001b[0m \u001b[0mmovie_tulpe\u001b[0m\u001b[0;34m[\u001b[0m\u001b[0;36m1\u001b[0m\u001b[0;34m]\u001b[0m \u001b[0;34m+\u001b[0m \u001b[0;34m'::'\u001b[0m \u001b[0;34m+\u001b[0m \u001b[0mactor_tuple\u001b[0m\u001b[0;34m[\u001b[0m\u001b[0;36m0\u001b[0m\u001b[0;34m]\u001b[0m \u001b[0;34m+\u001b[0m \u001b[0;34m'|'\u001b[0m \u001b[0;34m+\u001b[0m \u001b[0mactor_tuple\u001b[0m\u001b[0;34m[\u001b[0m\u001b[0;36m1\u001b[0m\u001b[0;34m]\u001b[0m\u001b[0;34m,\u001b[0m\u001b[0;31m \u001b[0m\u001b[0;31m\\\u001b[0m\u001b[0;34m\u001b[0m\u001b[0;34m\u001b[0m\u001b[0m\n\u001b[1;32m    255\u001b[0m                             \u001b[0msaved_actors\u001b[0m\u001b[0;34m=\u001b[0m\u001b[0msaved_actors\u001b[0m\u001b[0;34m,\u001b[0m \u001b[0msaved_movies\u001b[0m\u001b[0;34m=\u001b[0m\u001b[0msaved_movies\u001b[0m\u001b[0;34m,\u001b[0m\u001b[0;34m\u001b[0m\u001b[0;34m\u001b[0m\u001b[0m\n\u001b[0;32m--> 256\u001b[0;31m                             max_depth=max_depth, num_of_actors_limit=num_of_actors_limit, num_of_movies_limit=num_of_movies_limit)\n\u001b[0m\u001b[1;32m    257\u001b[0m \u001b[0;34m\u001b[0m\u001b[0m\n\u001b[1;32m    258\u001b[0m       \u001b[0;32mif\u001b[0m \u001b[0mresult\u001b[0m\u001b[0;34m:\u001b[0m\u001b[0;34m\u001b[0m\u001b[0;34m\u001b[0m\u001b[0m\n",
      "\u001b[0;32m/home/docs/note/_imdb/imdb_helper_functions.py\u001b[0m in \u001b[0;36msearch_actor_connection\u001b[0;34m(start_actor_tuple, target_actor_tuple, path, saved_actors, saved_movies, max_depth, num_of_actors_limit, num_of_movies_limit)\u001b[0m\n\u001b[1;32m    219\u001b[0m   \"\"\"\n\u001b[1;32m    220\u001b[0m   \u001b[0;32mif\u001b[0m \u001b[0mlen\u001b[0m\u001b[0;34m(\u001b[0m\u001b[0mpath\u001b[0m\u001b[0;34m.\u001b[0m\u001b[0msplit\u001b[0m\u001b[0;34m(\u001b[0m\u001b[0;34m'::'\u001b[0m\u001b[0;34m)\u001b[0m\u001b[0;34m)\u001b[0m \u001b[0;34m>=\u001b[0m \u001b[0mmax_depth\u001b[0m\u001b[0;34m:\u001b[0m\u001b[0;34m\u001b[0m\u001b[0;34m\u001b[0m\u001b[0m\n\u001b[0;32m--> 221\u001b[0;31m     \u001b[0mimdb_debug_log\u001b[0m\u001b[0;34m(\u001b[0m\u001b[0;34m'path {0} exceed max depth {1}'\u001b[0m\u001b[0;34m.\u001b[0m\u001b[0mformat\u001b[0m\u001b[0;34m(\u001b[0m\u001b[0mpath\u001b[0m\u001b[0;34m,\u001b[0m \u001b[0mmax_depth\u001b[0m\u001b[0;34m)\u001b[0m\u001b[0;34m)\u001b[0m\u001b[0;34m\u001b[0m\u001b[0;34m\u001b[0m\u001b[0m\n\u001b[0m\u001b[1;32m    222\u001b[0m     \u001b[0;32mreturn\u001b[0m \u001b[0;32mNone\u001b[0m\u001b[0;34m\u001b[0m\u001b[0;34m\u001b[0m\u001b[0m\n\u001b[1;32m    223\u001b[0m \u001b[0;34m\u001b[0m\u001b[0m\n",
      "\u001b[0;31mKeyboardInterrupt\u001b[0m: "
     ]
    }
   ],
   "source": [
    "# actors_text[0][1], actors_text[1][1]\n",
    "\"\"\"\n",
    "{'Dwayne Johnson': 'https://www.imdb.com/name/nm0425005/',\n",
    " 'Chris Hemsworth': 'https://www.imdb.com/name/nm1165110/',\n",
    " 'Robert Downey Jr.': 'https://www.imdb.com/name/nm0000375/',\n",
    " 'Akshay Kumar': 'https://www.imdb.com/name/nm0474774/',\n",
    " 'Jackie Chan': 'https://www.imdb.com/name/nm0000329/',\n",
    " 'Bradley Cooper': 'https://www.imdb.com/name/nm0177896/',\n",
    " 'Adam Sandler': 'https://www.imdb.com/name/nm0001191/',\n",
    " 'Scarlett Johansson': 'https://www.imdb.com/name/nm0424060/',\n",
    " 'Sofia Vergara': 'https://www.imdb.com/name/nm0005527/',\n",
    " 'Chris Evans.': 'https://www.imdb.com/name/nm0262635/'}\n",
    "\"\"\"\n",
    "\n",
    "os.environ['IMDB_DEBUG'] = '1'\n",
    "del os.environ['IMDB_DEBUG']\n",
    "\n",
    "for name, url in actors_url_dict.items():\n",
    "    for name_t, url_t in actors_url_dict.items():\n",
    "#         print(name, url, name_t, url_t)\n",
    "        dis = get_movie_distance(url, url_t, 5, 5)\n",
    "        print(\"{0}, {1}, {2}\".format(name, name_t, dis))\n",
    "#     break\n",
    "\n",
    "# get_movie_distance('https://imdb.com/name/nm0425005/', 'https://imdb.com/name/nm1165110/')"
   ]
  }
 ],
 "metadata": {
  "colab": {
   "authorship_tag": "ABX9TyNbbfPYQGPNG75gthUYpHWO",
   "collapsed_sections": [],
   "name": "scrapper.ipynb",
   "provenance": []
  },
  "kernelspec": {
   "display_name": "Python 3",
   "language": "python",
   "name": "python3"
  },
  "language_info": {
   "codemirror_mode": {
    "name": "ipython",
    "version": 3
   },
   "file_extension": ".py",
   "mimetype": "text/x-python",
   "name": "python",
   "nbconvert_exporter": "python",
   "pygments_lexer": "ipython3",
   "version": "3.7.9"
  }
 },
 "nbformat": 4,
 "nbformat_minor": 1
}
