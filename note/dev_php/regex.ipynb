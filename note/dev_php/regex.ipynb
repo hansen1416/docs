{
 "cells": [
  {
   "cell_type": "markdown",
   "metadata": {},
   "source": [
    "remvoe script tags\n",
    "```\n",
    "$html = preg_replace('#<script(.*?)>(.*?)</script>#is', '', $html);\n",
    "```"
   ]
  },
  {
   "cell_type": "markdown",
   "metadata": {},
   "source": [
    "remove thml special comments\n",
    "```\n",
    "preg_replace(\"/<!--.*?-->/ms\",\"\",$str);\n",
    "```"
   ]
  },
  {
   "cell_type": "markdown",
   "metadata": {},
   "source": [
    "e (PREG_REPLACE_EVAL)\n",
    "Warning\n",
    "This feature was DEPRECATED in PHP 5.5.0, and REMOVED as of PHP 7.0.0.\n",
    "\n",
    "PHP Deprecated: preg_replace(): The /e modifier is deprecated, use preg_replace_callback instead"
   ]
  }
 ],
 "metadata": {
  "kernelspec": {
   "display_name": "Python 3",
   "language": "python",
   "name": "python3"
  },
  "language_info": {
   "codemirror_mode": {
    "name": "ipython",
    "version": 3
   },
   "file_extension": ".py",
   "mimetype": "text/x-python",
   "name": "python",
   "nbconvert_exporter": "python",
   "pygments_lexer": "ipython3",
   "version": "3.7.9"
  }
 },
 "nbformat": 4,
 "nbformat_minor": 2
}
