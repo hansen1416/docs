{
 "cells": [
  {
   "cell_type": "code",
   "execution_count": null,
   "metadata": {},
   "outputs": [],
   "source": [
    "try {\n",
    "  // ...\n",
    "\n",
    "} catch (\\Illuminate\\Database\\QueryException $e) {\n",
    "    var_dump($e->errorInfo);\n",
    "}\n",
    "\n",
    "// Example output from MySQL\n",
    "# array (size=3)\n",
    "#    0 => string '23000' (length=5)\n",
    "#    1 => int 1452\n",
    "#    2 => string 'Cannot add or update a child row: a foreign key constraint fails (...)'"
   ]
  },
  {
   "cell_type": "markdown",
   "metadata": {},
   "source": [
    "To be more specific (Duplicate entry, not null, add/update child row, delete parent row...), it depends on each DBMS:\n",
    "\n",
    "- PostgreSQL and SQL server follow the SQL standard's conventions for SQLSTATE code, so you may return the first value from the array `$e->errorInfo[0]` or call `$e->getCode()` directly\n",
    "- MySQL, MariaDB and SQLite do not strictly obey the rules, so you need to return the second value from the array `$e->errorInfo[1]`"
   ]
  },
  {
   "cell_type": "markdown",
   "metadata": {},
   "source": [
    "For laravel, handling errors is easy, just add this code in your `\"app/start/global.php\"` file ( or create a service provider):\n",
    "\n",
    "```\n",
    "App::error(function(\\Illuminate\\Database\\QueryException $exception)\n",
    "{\n",
    "    $error = $exception->errorInfo;\n",
    "    // add your business logic\n",
    "});\n",
    "```"
   ]
  }
 ],
 "metadata": {
  "kernelspec": {
   "display_name": "Python 3",
   "language": "python",
   "name": "python3"
  },
  "language_info": {
   "codemirror_mode": {
    "name": "ipython",
    "version": 3
   },
   "file_extension": ".py",
   "mimetype": "text/x-python",
   "name": "python",
   "nbconvert_exporter": "python",
   "pygments_lexer": "ipython3",
   "version": "3.6.9"
  }
 },
 "nbformat": 4,
 "nbformat_minor": 2
}
