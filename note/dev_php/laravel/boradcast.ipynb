{
 "cells": [
  {
   "cell_type": "markdown",
   "metadata": {},
   "source": [
    "to use redis broadcaster\n",
    "\n",
    "you should either install the phpredis PHP extension via PECL or install the Predis library via Composer:\n",
    "    \n",
    "```\n",
    "composer require predis/predis\n",
    "```\n",
    "\n",
    "The Redis broadcaster will broadcast messages using Redis' pub / sub feature; however, you will need to pair this with a WebSocket server that can receive the messages from Redis and broadcast them to your WebSocket channels."
   ]
  },
  {
   "cell_type": "markdown",
   "metadata": {},
   "source": [
    "``BroadcastServiceProvider`\n",
    "--\n",
    "\n",
    "This provider will allow you to register the broadcast authorization routes and callbacks.\n",
    "\n",
    "`Broadcast::routes` This method will register the `/broadcasting/auth` route to handle authorization requests:`\n",
    "--\n",
    "\n",
    "This provider will allow you to register the broadcast authorization routes and callbacks.\n",
    "\n",
    "`Broadcast::routes` This method will register the `/broadcasting/auth` route to handle authorization requests:"
   ]
  },
  {
   "cell_type": "markdown",
   "metadata": {},
   "source": [
    "`routes/channels.php`\n",
    "--\n",
    "`routes/channels.php` define the logic that will actually perform the channel authorization, which is included with your application."
   ]
  },
  {
   "cell_type": "markdown",
   "metadata": {},
   "source": [
    "Customizing The Authorization Endpoint\n",
    "--\n",
    "\n",
    "By default, Echo will use the `/broadcasting/auth` endpoint to authorize channel access. However, you may specify your own authorization endpoint by passing the authEndpoint configuration option to your Echo instance:\n",
    "\n",
    "to do so, you don't need to register `BroadcastServiceProvider` or include `routes/channels.php`"
   ]
  }
 ],
 "metadata": {
  "kernelspec": {
   "display_name": "Python 3",
   "language": "python",
   "name": "python3"
  },
  "language_info": {
   "codemirror_mode": {
    "name": "ipython",
    "version": 3
   },
   "file_extension": ".py",
   "mimetype": "text/x-python",
   "name": "python",
   "nbconvert_exporter": "python",
   "pygments_lexer": "ipython3",
   "version": "3.6.8"
  }
 },
 "nbformat": 4,
 "nbformat_minor": 2
}
