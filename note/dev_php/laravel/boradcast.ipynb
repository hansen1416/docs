{
 "cells": [
  {
   "cell_type": "markdown",
   "metadata": {},
   "source": [
    "to use redis broadcaster\n",
    "\n",
    "you should either install the phpredis PHP extension via PECL or install the Predis library via Composer:\n",
    "    \n",
    "```\n",
    "composer require predis/predis\n",
    "```\n",
    "\n",
    "The Redis broadcaster will broadcast messages using Redis' pub / sub feature; however, you will need to pair this with a WebSocket server that can receive the messages from Redis and broadcast them to your WebSocket channels."
   ]
  }
 ],
 "metadata": {
  "kernelspec": {
   "display_name": "Python 3",
   "language": "python",
   "name": "python3"
  },
  "language_info": {
   "codemirror_mode": {
    "name": "ipython",
    "version": 3
   },
   "file_extension": ".py",
   "mimetype": "text/x-python",
   "name": "python",
   "nbconvert_exporter": "python",
   "pygments_lexer": "ipython3",
   "version": "3.6.8"
  }
 },
 "nbformat": 4,
 "nbformat_minor": 2
}
