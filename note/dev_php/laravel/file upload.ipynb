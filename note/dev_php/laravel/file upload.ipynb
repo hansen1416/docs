{
 "cells": [
  {
   "cell_type": "markdown",
   "metadata": {},
   "source": [
    "You may access uploaded files that are included with the `Illuminate\\Http\\Request` instance using the `file` method. The object returned by the `file` method is an instance of the `Symfony\\Component\\HttpFoundation\\File\\UploadedFile` class, which extends the PHP `SplFileInfo` class and provides a variety of methods for interacting with the `file`.\n",
    "\n",
    "https://github.com/symfony/symfony/blob/4.2/src/Symfony/Component/HttpFoundation/File/UploadedFile.php"
   ]
  }
 ],
 "metadata": {
  "kernelspec": {
   "display_name": "Python 3",
   "language": "python",
   "name": "python3"
  },
  "language_info": {
   "codemirror_mode": {
    "name": "ipython",
    "version": 3
   },
   "file_extension": ".py",
   "mimetype": "text/x-python",
   "name": "python",
   "nbconvert_exporter": "python",
   "pygments_lexer": "ipython3",
   "version": "3.6.9"
  }
 },
 "nbformat": 4,
 "nbformat_minor": 2
}
