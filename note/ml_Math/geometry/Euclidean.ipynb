{
 "cells": [
  {
   "cell_type": "markdown",
   "metadata": {},
   "source": [
    "# Euclidean distance\n",
    "\n",
    "- 2 dimension\n",
    "\n",
    "$ \\rho\\;=\\;\\sqrt{(x_2-x_1)^2+(y_2-y_1)^2} $\n",
    "\n",
    "- 3 dimension\n",
    "\n",
    "$ \\rho\\;=\\;\\sqrt{(x_2-x_1)^2+(y_2-y_1)^2+(z_2-z_1)^2} $\n",
    "\n",
    "- n dimension\n",
    "\n",
    "$ \\rho\\;=\\;\\sqrt{\\displaystyle\\sum_{i=1}^{n}(x_i-y_i)^2} $"
   ]
  }
 ],
 "metadata": {
  "kernelspec": {
   "display_name": "Python 3",
   "language": "python",
   "name": "python3"
  },
  "language_info": {
   "codemirror_mode": {
    "name": "ipython",
    "version": 3
   },
   "file_extension": ".py",
   "mimetype": "text/x-python",
   "name": "python",
   "nbconvert_exporter": "python",
   "pygments_lexer": "ipython3",
   "version": "3.7.2"
  }
 },
 "nbformat": 4,
 "nbformat_minor": 2
}
