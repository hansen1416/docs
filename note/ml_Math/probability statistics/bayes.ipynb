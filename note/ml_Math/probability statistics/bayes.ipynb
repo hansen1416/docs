{
 "cells": [
  {
   "cell_type": "markdown",
   "metadata": {},
   "source": [
    "# Bayes rule"
   ]
  },
  {
   "cell_type": "markdown",
   "metadata": {},
   "source": [
    "$ p(y|x) = \\frac{p(x|y)p(y)}{p(x)} $"
   ]
  },
  {
   "cell_type": "markdown",
   "metadata": {},
   "source": [
    "## naive bayes\n",
    "\n",
    "*ignore the order of the trait*"
   ]
  },
  {
   "cell_type": "markdown",
   "metadata": {},
   "source": [
    "p(c) prior\n",
    "\n",
    "p(pos|c) *sensitivity*\n",
    "\n",
    "p(neg|c) *specificity*\n",
    "\n",
    "$p(c) * p(pos\\,\\mid\\, c) = p(c,pos)$\n",
    "\n",
    "$p(c) * p(pos\\,\\mid\\,\\rceil c) = p(\\rceil c,pos)$\n",
    "\n",
    "$p(pos) =  p(c,pos) + p(\\rceil c,pos)$\n",
    "\n",
    "$p(c\\,\\mid\\,pos) = \\frac{p(c,pos)}{p(pos)}$\n",
    "\n",
    "$p(\\rceil c\\,\\mid\\,pos) = \\frac{p(\\rceil c,pos)}{p(pos)}$"
   ]
  }
 ],
 "metadata": {
  "kernelspec": {
   "display_name": "Python 2",
   "language": "python",
   "name": "python2"
  },
  "language_info": {
   "codemirror_mode": {
    "name": "ipython",
    "version": 2
   },
   "file_extension": ".py",
   "mimetype": "text/x-python",
   "name": "python",
   "nbconvert_exporter": "python",
   "pygments_lexer": "ipython2",
   "version": "2.7.13"
  }
 },
 "nbformat": 4,
 "nbformat_minor": 2
}
