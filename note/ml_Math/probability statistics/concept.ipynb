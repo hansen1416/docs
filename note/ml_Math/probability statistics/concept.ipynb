{
 "cells": [
  {
   "cell_type": "markdown",
   "metadata": {},
   "source": [
    "### Range\n",
    "\n",
    "we cut off the upper 25% and lower 25% to make ti more representative."
   ]
  },
  {
   "cell_type": "markdown",
   "metadata": {},
   "source": [
    "### IQR\n",
    "\n",
    "- About 50% of the data falls into the IQR.\n",
    "- Not all value in the dataset affedt IQR.\n",
    "- The IQR is not affedted by outlier."
   ]
  },
  {
   "cell_type": "markdown",
   "metadata": {},
   "source": [
    "### Outlier\n",
    "\n",
    "Outlier < Q<sub>1</sub> - 1.5 \\* IQR  ||  Outlier > Q<sub>3</sub> + 1.5 \\* IQR"
   ]
  },
  {
   "cell_type": "markdown",
   "metadata": {},
   "source": [
    "### Deviation\n",
    "$\\sigma = \\frac{\\displaystyle\\sum (x_i - \\overline{x})}{n}$"
   ]
  },
  {
   "cell_type": "markdown",
   "metadata": {},
   "source": [
    "### Absolute deviation\n",
    "Abs $\\sigma = \\frac{\\displaystyle\\sum | x_i - \\overline{x} |}{n}$"
   ]
  },
  {
   "cell_type": "markdown",
   "metadata": {},
   "source": [
    "### Variance\n",
    "$\\sigma^2 = \\frac{\\displaystyle\\sum (x_i - \\overline{x})^2}{n}$\n",
    "\n",
    "Bassel's correction for sample $\\sigma^2 = \\frac{\\displaystyle\\sum (x_i - \\overline{x})^2}{n-1}$"
   ]
  },
  {
   "cell_type": "markdown",
   "metadata": {},
   "source": [
    "### Standard Deviation\n",
    "$\\sigma = \\sqrt{\\frac{\\displaystyle\\sum (x_i - \\overline{x})^2}{n}}$\n",
    "\n",
    "Bassel's correction for sample $s = \\sqrt{\\frac{\\displaystyle\\sum (x_i - \\overline{x})^2}{n-1}}$"
   ]
  },
  {
   "cell_type": "markdown",
   "metadata": {},
   "source": [
    "### Coefficient of determination\n",
    "\n",
    "*当R2越接近1时，表示相关的方程式参考价值越高；相反，越接近0时，表示参考价值越低。这是在一元回归分析中的情况。但从本质上说决定系数和回归系数没有关系，就像标准差和标准误差在本质上没有关系一样。*\n",
    "\n",
    "$ R^{2}\\;=\\;SSR/SST\\;=\\;1-SSE/SST $\n",
    "\n",
    "*其中：SST=SSR+SSE，SST (total sum of squares)为总平方和，SSR (regression sum of squares)为回归平方和，SSE (error sum of squares) 为残差平方和。\n",
    "*\n",
    "\n",
    "- 回归平方和：SSR(Sum of Squares for regression) = ESS (explained sum of squares)\n",
    "- 残差平方和：SSE（Sum of Squares for Error） = RSS (residual sum of squares)\n",
    "- 总离差平方和：SST(Sum of Squares for total) = TSS(total sum of squares)\n",
    "- SSE+SSR=SST RSS+ESS=TSS"
   ]
  },
  {
   "cell_type": "markdown",
   "metadata": {},
   "source": [
    "### more on $R^{2}$\n",
    "A data set has n values marked y1,...,yn (collectively known as yi or as a vector y = [y1,...,yn]T), each associated with a predicted (or modeled) value f1,...,fn (known as fi, or sometimes ŷi, as a vector f).\n",
    "\n",
    "Define the residuals as ei = yi − fi (forming a vector e).\n",
    "\n",
    "If $ {\\displaystyle {\\bar {y}}} $ is the mean of the observed data:\n",
    "\n",
    "${\\hat {y}}={\\frac {1}{n}}\\sum _{i=1}^{n}y_{i}$\n",
    "\n",
    "- The total sum of squares (proportional to the variance of the data):\n",
    "\n",
    "$SS_{\\text{tot}}=\\sum _{i}(y_{i}-{\\hat {y}})^{2}$\n",
    "\n",
    "and \n",
    "\n",
    "$\\hat{y}\\;=\\;f\\big{(}\\sum_{i}w_{i}x_{i}^{\\mu}\\big{)}$\n",
    "\n",
    "then\n",
    "\n",
    "$SS_{\\text{tot}}=\\frac{1}{2}\\sum _{\\mu}^{\\mu}(y^{\\mu}-{f\\big{(}\\sum_{i}w_{i}x_{i}^{\\mu}\\big{)}})^{2}$\n",
    "\n",
    "- The regression sum of squares, also called the explained sum of squares:\n",
    "\n",
    "$SS_{\\text{reg}}=\\sum _{i}(f_{i}-{\\hat {y}})^{2}$\n",
    "\n",
    "- The sum of squares of residuals, also called the residual sum of squares:\n",
    "\n",
    "${\\displaystyle SS_{\\text{res}}=\\sum _{i}(y_{i}-f_{i})^{2}=\\sum _{i}e_{i}^{2}\\,}$\n",
    "\n",
    "- The most general definition of the coefficient of determination is\n",
    "\n",
    "$R^{2}\\equiv 1-{SS_{\\rm {res}} \\over SS_{\\rm {tot}}}$ \n",
    "\n",
    "${\\displaystyle SS_{\\text{res}}+SS_{\\text{reg}}=SS_{\\text{tot}}.\\,}$"
   ]
  }
 ],
 "metadata": {
  "kernelspec": {
   "display_name": "Python 3",
   "language": "python",
   "name": "python3"
  },
  "language_info": {
   "codemirror_mode": {
    "name": "ipython",
    "version": 3
   },
   "file_extension": ".py",
   "mimetype": "text/x-python",
   "name": "python",
   "nbconvert_exporter": "python",
   "pygments_lexer": "ipython3",
   "version": "3.7.2"
  }
 },
 "nbformat": 4,
 "nbformat_minor": 2
}
