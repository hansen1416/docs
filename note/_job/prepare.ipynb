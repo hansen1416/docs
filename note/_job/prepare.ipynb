{
 "cells": [
  {
   "cell_type": "markdown",
   "metadata": {},
   "source": [
    "Algorithm & data structures\n",
    "\n",
    "- sequences/arrays\n",
    "\n",
    "    - two pointers approach\n",
    "    - prefix sum technique\n",
    "    \n",
    "- graph\n",
    "    \n",
    "    - 3 ways to store a graph\n",
    "    - DFS and BFS\n",
    "    - shortest path, Dijkstra\n",
    "    \n",
    "- strings\n",
    "\n",
    "    - polynomial hashing\n",
    "    \n",
    "- dynamic programming vs greedy algorithm vs divid and conquer\n",
    "\n",
    "- sorting algorithm, \n",
    "\n",
    "    - O(n logn) sort, \n",
    "    - counting sort\n",
    "    - binary search\n",
    "\n",
    "- data structures, \n",
    "    \n",
    "    - stack, queue, deque\n",
    "    - hash tables, \n",
    "    - BST\n",
    "    - heap\n",
    "    - linked list"
   ]
  }
 ],
 "metadata": {
  "kernelspec": {
   "display_name": "Python 3",
   "language": "python",
   "name": "python3"
  },
  "language_info": {
   "codemirror_mode": {
    "name": "ipython",
    "version": 3
   },
   "file_extension": ".py",
   "mimetype": "text/x-python",
   "name": "python",
   "nbconvert_exporter": "python",
   "pygments_lexer": "ipython3",
   "version": "3.7.7"
  }
 },
 "nbformat": 4,
 "nbformat_minor": 4
}
