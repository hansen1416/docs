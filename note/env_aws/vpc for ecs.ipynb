{
 "cells": [
  {
   "cell_type": "markdown",
   "metadata": {},
   "source": [
    "- create a VPC 172.35.0.0/16\n",
    "- create two subnets 172.35.1.0/24 172.35.2.0/24\n",
    "- create and Internaet gateway\n",
    "- add Internaet gateway to route table of VPC"
   ]
  },
  {
   "cell_type": "markdown",
   "metadata": {},
   "source": [
    "If you're running a task using an Amazon Elastic Compute Cloud (Amazon EC2) launch type and your container instance is in a private subnet, or if you're running a task using the AWS Fargate launch type in a private subnet, then confirm that your subnet has a route to a NAT gateway in the route table."
   ]
  },
  {
   "cell_type": "markdown",
   "metadata": {},
   "source": [
    "To modify your public subnet's IPv4 addressing behavior\n",
    "\n",
    "- In the left navigation pane, choose Subnets.\n",
    "\n",
    "- Select the public subnet for your VPC. By default, the name created by the VPC wizard is Public subnet.\n",
    "\n",
    "- Choose Actions, Modify auto-assign IP settings.\n",
    "\n",
    "- Select the Enable auto-assign public IPv4 address check box, and then choose Save."
   ]
  },
  {
   "cell_type": "markdown",
   "metadata": {},
   "source": [
    "- in RDS, create a subnet groups, connected to ecs vpc\n",
    "- and add subnet groups to this RDS"
   ]
  }
 ],
 "metadata": {
  "kernelspec": {
   "display_name": "Python 3",
   "language": "python",
   "name": "python3"
  },
  "language_info": {
   "codemirror_mode": {
    "name": "ipython",
    "version": 3
   },
   "file_extension": ".py",
   "mimetype": "text/x-python",
   "name": "python",
   "nbconvert_exporter": "python",
   "pygments_lexer": "ipython3",
   "version": "3.7.9"
  }
 },
 "nbformat": 4,
 "nbformat_minor": 4
}
