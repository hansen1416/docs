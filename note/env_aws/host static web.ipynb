{
 "cells": [
  {
   "cell_type": "markdown",
   "metadata": {},
   "source": [
    "the basic procedure\n",
    "1. create a aws s3 bucket, set permission allow public read, go to property, config static website hosting, add bucket policy\n",
    "\n",
    "\n",
    "2. install aws-cli, configure IAM, this IAM only need privilege on one bucket. and upload static files to s3 bucket \n",
    "    - aws configure\n",
    "    - AWS Access Key ID: YOUR KEY\n",
    "    - AWS Secret Access Key: YOUR SECRET\n",
    "    - Default region name: us-east-1\n",
    "    - Default output format: ENTER\n",
    "    - aws s3 sync ./dist s3://your-bucket-name\n",
    "    \n",
    "    \n",
    "3. go to cloudfront, create a distribution. \n",
    "    - choose s3 bucket domain in \"Origin Domain Name\".\n",
    "    - Viewer Protocol Policy: “Redirect HTTP to HTTPS”.\n",
    "    - Object Caching: “Customize”. And set Minimum TTL and Default TTL both to “0”. You can adjust this later to maximize caching. But, having it at “0” allows us to deploy changes and quickly see them.\n",
    "    - Default Root Object: “index.html”\n",
    "    also need to configure your distribution to handle vue-router’s history mode. in the \"Error page\", handle 404/403 error, error cacheing minimum ttl:0, response page path: /index.html, http response code: 200\n",
    "\n",
    "---\n",
    "\n",
    "the above 1,2 can be done by \n",
    "```\n",
    "npm install vue-cli-plugin-s3-deploy\n",
    "```\n",
    "We only need to create a bucket, set up an IAM. and create a new cloudfront distribution"
   ]
  }
 ],
 "metadata": {
  "kernelspec": {
   "display_name": "Python 3",
   "language": "python",
   "name": "python3"
  },
  "language_info": {
   "codemirror_mode": {
    "name": "ipython",
    "version": 3
   },
   "file_extension": ".py",
   "mimetype": "text/x-python",
   "name": "python",
   "nbconvert_exporter": "python",
   "pygments_lexer": "ipython3",
   "version": "3.6.8"
  }
 },
 "nbformat": 4,
 "nbformat_minor": 2
}
