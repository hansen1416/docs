{
 "cells": [
  {
   "cell_type": "markdown",
   "metadata": {},
   "source": [
    "__node__\n",
    "\n",
    "https://github.com/nodejs/docker-node/issues/533\n",
    "\n",
    "According to the README, it looks like I should be able to just create a docker-compose file with the following contents to get an application running:\n",
    "```\n",
    "version: \"2\"\n",
    "services:\n",
    "  node:\n",
    "    image: \"node:8\"\n",
    "    environment:\n",
    "      - NODE_ENV=production\n",
    "    volumes:\n",
    "      - ./:/usr/src/app\n",
    "    expose:\n",
    "      - \"8080\"\n",
    "```\n",
    "The note underneath implies that simply performing a `docker-compose up` will start a container in which the dependencies will be installed via an `npm install` and that the application will be started by a `npm start` command. However, `docker-compose up` just starts a container, executes the node command in the root directory and instantly stops the container since nothing is being executed. This is normal, since the Dockerfile for the `node:8` image only contains `CMD[ \"node\" ]` and no working directory.\n",
    "\n",
    "If you want to run straight from the image you need to at least add a `working_dir: /usr/src/app` and an entrypoint to the `docker-compose.yml`. In the entrypoint you'll need to execute a bash script in which you first perform an `npm install` followed by an `npm start`."
   ]
  },
  {
   "cell_type": "markdown",
   "metadata": {},
   "source": [
    "Npm does not allow running as root by default for security reasons. When you run npm as root (this is the default user in Docker build) and install a global package, npm installs and executes binaries as user `nobody` instead, who doesn't have any permissions.\n",
    "\n",
    "You can avoid this by adding the `--unsafe-perm` flag:\n",
    "\n",
    "```\n",
    "RUN npm install --global --unsafe-perm exp\n",
    "```\n",
    "or by setting the global user explicitly to root:\n",
    "\n",
    "```\n",
    "RUN npm --global config set user root && \\\n",
    "    npm --global install exp\n",
    "```\n"
   ]
  }
 ],
 "metadata": {
  "kernelspec": {
   "display_name": "Python 3",
   "language": "python",
   "name": "python3"
  },
  "language_info": {
   "codemirror_mode": {
    "name": "ipython",
    "version": 3
   },
   "file_extension": ".py",
   "mimetype": "text/x-python",
   "name": "python",
   "nbconvert_exporter": "python",
   "pygments_lexer": "ipython3",
   "version": "3.6.8"
  }
 },
 "nbformat": 4,
 "nbformat_minor": 2
}
