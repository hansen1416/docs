{
 "cells": [
  {
   "cell_type": "code",
   "execution_count": 2,
   "metadata": {},
   "outputs": [],
   "source": [
    "%%bash\n",
    "\n",
    "#!/bin/bash\n",
    "\n",
    "# connect ssh through a shadow socks proxy\n",
    "ssh -i ~/Documents/shell/secret.pem -p 22 ubuntu@8.8.8.8 -o \"ProxyCommand /bin/nc -x 127.0.0.1:1080 %h %p\""
   ]
  },
  {
   "cell_type": "markdown",
   "metadata": {},
   "source": [
    "```\n",
    "scp [OPTION] [user@]SRC_HOST:]file1 [user@]DEST_HOST:]file2\n",
    "```\n",
    "\n",
    "-P - Specifies the remote host ssh port.  \n",
    "-p - Preserves files modification and access times. \n",
    "-q - Use this option if you want to suppress the progress meter and non-error messages.  \n",
    "-C - This option forces scp to compresses the data as it is sent to the destination machine.  \n",
    "-r - This option tells scp to copy directories recursively.  \n"
   ]
  }
 ],
 "metadata": {
  "kernelspec": {
   "display_name": "Python 3",
   "language": "python",
   "name": "python3"
  },
  "language_info": {
   "codemirror_mode": {
    "name": "ipython",
    "version": 3
   },
   "file_extension": ".py",
   "mimetype": "text/x-python",
   "name": "python",
   "nbconvert_exporter": "python",
   "pygments_lexer": "ipython3",
   "version": "3.7.9"
  }
 },
 "nbformat": 4,
 "nbformat_minor": 4
}
