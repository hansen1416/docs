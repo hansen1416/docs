{
 "cells": [
  {
   "cell_type": "code",
   "execution_count": null,
   "metadata": {},
   "outputs": [],
   "source": [
    "# generate key.pem and cert.pem files.\n",
    "\n",
    "\n",
    "openssl req -newkey rsa:2048 -new -nodes -x509 -days 3650 -keyout key.pem -out cert.pem\n",
    "\n",
    "\n",
    "# You will be prompted with a few questions after entering the command. \n",
    "# Use 127.0.0.1 as value for \"Common name\" \n",
    "# if you want to be able to install the certificate \n",
    "# in your OS's root certificate store or browser so that it is trusted.\n"
   ]
  }
 ],
 "metadata": {
  "kernelspec": {
   "display_name": "Python 3",
   "language": "python",
   "name": "python3"
  },
  "language_info": {
   "codemirror_mode": {
    "name": "ipython",
    "version": 3
   },
   "file_extension": ".py",
   "mimetype": "text/x-python",
   "name": "python",
   "nbconvert_exporter": "python",
   "pygments_lexer": "ipython3",
   "version": "3.7.7"
  }
 },
 "nbformat": 4,
 "nbformat_minor": 4
}
