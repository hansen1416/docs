{
 "cells": [
  {
   "cell_type": "code",
   "execution_count": null,
   "metadata": {},
   "outputs": [],
   "source": [
    "%%bash\n",
    "\n",
    "# https://engineering.giphy.com/how-to-make-gifs-with-ffmpeg/\n",
    "# convert mp4 to gif\n",
    "\"\"\"\n",
    "start from 1.7 second, end after 2.4 second\n",
    "this is the basic approach, it's generate a very large filesize and low quality\n",
    "\"\"\"\n",
    "ffmpeg -ss 1.7 -t 2.2 -i 145316251118f24265664845.mp4 -f gif 1.gif -hide_banner\n",
    "\n",
    "\"\"\"\n",
    "instead, we can generte a color palette first, and use it to generate a high quality gif\n",
    "\"\"\"\n",
    "ffmpeg -ss 1.7 -t 2.2 -i 145316251118f24265664845.mp4 -filter_complex \"[0:v] palettegen\" palette.png\n",
    "ffmpeg -ss 1.7 -t 2.2 -i 145316251118f24265664845.mp4 -i palette.png -filter_complex \"[0:v][1:v] paletteuse\" 2.gif\n",
    "\n",
    "\"\"\"\n",
    "\"\"\"\n",
    "ffmpeg -ss 1.7 -t 2.2 -i 145316251118f24265664845.mp4 -i palette.png \\\n",
    "-filter_complex \"[0:v] split [a][b];[a] palettegen [p];[b][p] paletteuse\" 2.gif\n",
    "\n",
    "\"\"\"\n",
    "framerate to 12, and width 480, height auto\n",
    "\"\"\"\n",
    "ffmpeg -ss 1.7 -t 2.2 -i 145316251118f24265664845.mp4 -i palette.png \\\n",
    "-filter_complex \"[0:v] fps=12,scale=400:-1,split [a][b];[a] palettegen [p];[b][p] paletteuse\" 2.gif"
   ]
  }
 ],
 "metadata": {
  "kernelspec": {
   "display_name": "Python 3",
   "language": "python",
   "name": "python3"
  },
  "language_info": {
   "codemirror_mode": {
    "name": "ipython",
    "version": 3
   },
   "file_extension": ".py",
   "mimetype": "text/x-python",
   "name": "python",
   "nbconvert_exporter": "python",
   "pygments_lexer": "ipython3",
   "version": "3.6.8"
  }
 },
 "nbformat": 4,
 "nbformat_minor": 2
}
