{
 "cells": [
  {
   "cell_type": "markdown",
   "metadata": {},
   "source": [
    "To find the most recently modified files, sorted in the reverse order of update time (i.e., the most recently updated files first):"
   ]
  },
  {
   "cell_type": "code",
   "execution_count": 5,
   "metadata": {},
   "outputs": [
    {
     "name": "stderr",
     "output_type": "stream",
     "text": [
      "find: ‘/target_directory’: No such file or directory\n"
     ]
    }
   ],
   "source": [
    "%%bash\n",
    "#!/bin/bash/\n",
    "\n",
    "find /target_directory -type f -printf '%TY-%Tm-%Td %TT %p\\n' | sort -r"
   ]
  },
  {
   "cell_type": "markdown",
   "metadata": {},
   "source": [
    "The above command sorts files in /etc (and all its subdirectories), in the reverse order of their update time, and prints out the sorted list, along with their location and update time. If you want to examine directories as well, you can omit \"-type f\" option in the command.\n",
    "\n",
    "To search for files in /target_directory and all its sub-directories, that have been modified in the last 60 minutes:"
   ]
  },
  {
   "cell_type": "code",
   "execution_count": 6,
   "metadata": {},
   "outputs": [
    {
     "name": "stderr",
     "output_type": "stream",
     "text": [
      "find: ‘/target_directory’: No such file or directory\n"
     ]
    }
   ],
   "source": [
    "%%bash\n",
    "#!/bin/bash/\n",
    "\n",
    "find /target_directory -type f -mmin -60"
   ]
  },
  {
   "cell_type": "markdown",
   "metadata": {},
   "source": [
    "To search for files in /target_directory and all its sub-directories, that have been modified in the last 2 days:"
   ]
  },
  {
   "cell_type": "code",
   "execution_count": 8,
   "metadata": {},
   "outputs": [
    {
     "name": "stderr",
     "output_type": "stream",
     "text": [
      "find: ‘/target_directory’: No such file or directory\n"
     ]
    }
   ],
   "source": [
    "%%bash\n",
    "#!/bin/bash/\n",
    "\n",
    "find /target_directory -type f -mtime -2"
   ]
  },
  {
   "cell_type": "markdown",
   "metadata": {},
   "source": [
    "To search for files in /target_directory and all its sub-directories no more than 3 levels deep, that have been modified in the last 2 days:"
   ]
  },
  {
   "cell_type": "code",
   "execution_count": 9,
   "metadata": {},
   "outputs": [
    {
     "name": "stderr",
     "output_type": "stream",
     "text": [
      "find: unknown predicate `-3'\n"
     ]
    }
   ],
   "source": [
    "%%bash\n",
    "#!/bin/bash/\n",
    "\n",
    "find /target_directory -type f -mtime -2 -depth -3"
   ]
  },
  {
   "cell_type": "markdown",
   "metadata": {},
   "source": [
    "You can also specify the range of update time. To search for files in /target_directory and all its sub-directories, that have been modified in the last 7 days, but not in the last 3 days:"
   ]
  },
  {
   "cell_type": "code",
   "execution_count": 10,
   "metadata": {},
   "outputs": [
    {
     "name": "stderr",
     "output_type": "stream",
     "text": [
      "find: ‘/target_directory’: No such file or directory\n"
     ]
    }
   ],
   "source": [
    "%%bash\n",
    "#!/bin/bash/\n",
    "\n",
    "find /target_directory -type f -mtime -7 ! -mtime -3"
   ]
  },
  {
   "cell_type": "markdown",
   "metadata": {},
   "source": [
    "All these commands so far only print out the locations of files that are matched. You can also get detailed file attributes of recently modified files, using \"-exec\" option as follows.\n",
    "\n",
    "To search for files in /target_directory (and all its sub-directories) that have been modified in the last 60 minutes, and print out their file attributes:"
   ]
  },
  {
   "cell_type": "code",
   "execution_count": 11,
   "metadata": {},
   "outputs": [
    {
     "name": "stderr",
     "output_type": "stream",
     "text": [
      "find: ‘/target_directory’: No such file or directory\n"
     ]
    }
   ],
   "source": [
    "%%bash\n",
    "#!/bin/bash/\n",
    "\n",
    "find /target_directory -type f -mmin -60 -exec ls -al {} \\;"
   ]
  },
  {
   "cell_type": "markdown",
   "metadata": {},
   "source": [
    "Alternatively, you can use xargs command to achieve the same thing:"
   ]
  },
  {
   "cell_type": "code",
   "execution_count": 13,
   "metadata": {},
   "outputs": [
    {
     "name": "stdout",
     "output_type": "stream",
     "text": [
      "total 40\n",
      "-rw-rw-r-- 1 hlz  hlz  9263 8月   2  2017 command.ipynb\n",
      "-rw-rw-r-- 1 hlz  hlz  1565 7月  24  2017 compare file floder.ipynb\n",
      "-rw-rw-r-- 1 hlz  hlz  1272 7月  24  2017 crontab.ipynb\n",
      "-rw-r--r-- 1 root root 1047 9月   8 13:25 dpkg.ipynb\n",
      "-rw-rw-r-- 1 hlz  hlz  3329 3月   7 14:47 recently modified files.ipynb\n",
      "-rw-rw-r-- 1 hlz  hlz   913 8月   9  2017 sed.ipynb\n",
      "-rw-rw-r-- 1 hlz  hlz  1192 7月  31  2017 terminator.ipynb\n",
      "-rw-rw-r-- 1 hlz  hlz  1061 7月  26  2017 vim.ipynb\n"
     ]
    },
    {
     "name": "stderr",
     "output_type": "stream",
     "text": [
      "find: ‘/target_directory’: No such file or directory\n"
     ]
    }
   ],
   "source": [
    "%%bash\n",
    "#!/bin/bash/\n",
    "\n",
    "find /target_directory -type f -mmin -60 | xargs ls -l"
   ]
  },
  {
   "cell_type": "markdown",
   "metadata": {},
   "source": [
    "Note that files that have been \"created\" within the specified time frame will also matched by these commands."
   ]
  }
 ],
 "metadata": {
  "kernelspec": {
   "display_name": "Python 2",
   "language": "python",
   "name": "python2"
  },
  "language_info": {
   "codemirror_mode": {
    "name": "ipython",
    "version": 2
   },
   "file_extension": ".py",
   "mimetype": "text/x-python",
   "name": "python",
   "nbconvert_exporter": "python",
   "pygments_lexer": "ipython2",
   "version": "2.7.13"
  }
 },
 "nbformat": 4,
 "nbformat_minor": 2
}
