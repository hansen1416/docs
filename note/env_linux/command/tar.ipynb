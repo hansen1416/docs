{
 "cells": [
  {
   "cell_type": "markdown",
   "metadata": {},
   "source": [
    "```\n",
    "-x, --extract, --get\n",
    "\n",
    "      extract files from an archive\n",
    "\n",
    "-v, --verbose\n",
    "\n",
    "      verbosely list files processed\n",
    "\n",
    "-z, --gzip, --gunzip, --ungzip\n",
    "\n",
    "      filter the archive through gzip\n",
    "\n",
    "-f, --file [HOSTNAME:]F\n",
    "\n",
    "      use archive file or device F (default \"-\", meaning stdin/stdout)\n",
    "```"
   ]
  },
  {
   "cell_type": "markdown",
   "metadata": {},
   "source": [
    "If it's tar.gz use \n",
    "```\n",
    "tar xvzf PACKAGENAME.tar.gz\n",
    "```\n",
    "if it's a tar.bz2 use \n",
    "```\n",
    "tar xvjf PACKAGENAME.tar.bz2\n",
    "```"
   ]
  },
  {
   "cell_type": "markdown",
   "metadata": {},
   "source": [
    "```\n",
    "tar xvjf /mnt/gentoo/portage-latest.tar.bz2 -C /mnt/gentoo/usr\n",
    "```\n",
    "\n",
    "-C tells it to change directory (so the package content will be unpacked there)"
   ]
  }
 ],
 "metadata": {
  "kernelspec": {
   "display_name": "Python 2",
   "language": "python",
   "name": "python2"
  },
  "language_info": {
   "codemirror_mode": {
    "name": "ipython",
    "version": 2
   },
   "file_extension": ".py",
   "mimetype": "text/x-python",
   "name": "python",
   "nbconvert_exporter": "python",
   "pygments_lexer": "ipython2",
   "version": "2.7.13"
  }
 },
 "nbformat": 4,
 "nbformat_minor": 2
}
