{
 "cells": [
  {
   "cell_type": "code",
   "execution_count": 4,
   "metadata": {},
   "outputs": [],
   "source": [
    "%%bash\n",
    "#!/usr/bash\n",
    "\n",
    "# that command will list you the application used by that port with PID. \n",
    "# (If no results run via sudo since your might have no permission to certain processes.)\n",
    "lsof -i :8000\n",
    "\n",
    "# list all post in use\n",
    "lsof -i -P -n\n",
    "\n",
    "lsof -i -P -n | grep LISTEN\n",
    "\n",
    "lsof -i -P -n | grep LISTEN ### [OpenBSD] ###\n"
   ]
  }
 ],
 "metadata": {
  "kernelspec": {
   "display_name": "Python 3",
   "language": "python",
   "name": "python3"
  },
  "language_info": {
   "codemirror_mode": {
    "name": "ipython",
    "version": 3
   },
   "file_extension": ".py",
   "mimetype": "text/x-python",
   "name": "python",
   "nbconvert_exporter": "python",
   "pygments_lexer": "ipython3",
   "version": "3.6.8"
  }
 },
 "nbformat": 4,
 "nbformat_minor": 2
}
