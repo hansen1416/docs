{
 "cells": [
  {
   "cell_type": "code",
   "execution_count": null,
   "metadata": {},
   "outputs": [],
   "source": [
    "%%bash\n",
    "\n",
    "sudo apt install shadowsocks-libev\n",
    "\n",
    "# {\n",
    "#     \"server\":\"xg01.jiasudu.pw\",\n",
    "#     \"server_port\":18563,\n",
    "#     \"local_address\": \"127.0.0.1\",\n",
    "#     \"local_port\":1080,\n",
    "#     \"password\":\"xxxxxxx\",\n",
    "#     \"timeout\":300,\n",
    "#     \"method\":\"aes-256-cfb\",\n",
    "#     \"fast_open\": false\n",
    "# }\n",
    "\n",
    "ss-local -c shadowsocks-config.json -v"
   ]
  },
  {
   "cell_type": "markdown",
   "metadata": {},
   "source": [
    "switchy omega\n",
    "---\n",
    "\n",
    "proxy servers\n",
    "\n",
    "\n",
    "Protocol|Server|Port \n",
    " ---|---|---\n",
    "socks5  | 127.0.0.1 | 1080 \n",
    "\n",
    "\n",
    "auto switch rule list\n",
    "\n",
    "https://raw.githubusercontent.com/gfwlist/gfwlist/master/gfwlist.txt"
   ]
  }
 ],
 "metadata": {
  "kernelspec": {
   "display_name": "Python 3",
   "language": "python",
   "name": "python3"
  },
  "language_info": {
   "codemirror_mode": {
    "name": "ipython",
    "version": 3
   },
   "file_extension": ".py",
   "mimetype": "text/x-python",
   "name": "python",
   "nbconvert_exporter": "python",
   "pygments_lexer": "ipython3",
   "version": "3.6.8"
  }
 },
 "nbformat": 4,
 "nbformat_minor": 2
}
