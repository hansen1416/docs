{
 "cells": [
  {
   "cell_type": "markdown",
   "metadata": {},
   "source": [
    "### Problem: apt-get-repository Command is Missing\n",
    "To get the add-apt-repository command, install the software-properties-common package. For my Ubuntu version (precise), I also had to install the python-software-properties package:\n",
    "```\n",
    "$ sudo apt-get install software-properties-common python-software-properties\n",
    "```"
   ]
  },
  {
   "cell_type": "markdown",
   "metadata": {},
   "source": [
    "### public key is not available\n",
    "\n",
    "Execute the following commands in terminal\n",
    "\n",
    "```\n",
    "sudo apt-key adv --keyserver keyserver.ubuntu.com --recv-keys <PUBKEY>\n",
    "```\n",
    "where PUBKEY is your missing public key for repository, e.g. 8BAF9A6F.  \n",
    "Then update\n",
    "\n",
    "```\n",
    "sudo apt-get update\n",
    "```"
   ]
  },
  {
   "cell_type": "code",
   "execution_count": 1,
   "metadata": {},
   "outputs": [
    {
     "name": "stdout",
     "output_type": "stream",
     "text": [
      "virtualbox:\n",
      "  Installed: (none)\n",
      "  Candidate: 5.2.32-dfsg-0~ubuntu18.04.1\n",
      "  Version table:\n",
      "     5.2.32-dfsg-0~ubuntu18.04.1 500\n",
      "        500 http://archive.ubuntu.com/ubuntu bionic-updates/multiverse amd64 Packages\n",
      "     5.2.18-dfsg-2~ubuntu18.04.5 500\n",
      "        500 http://security.ubuntu.com/ubuntu bionic-security/multiverse amd64 Packages\n",
      "     5.2.10-dfsg-6 500\n",
      "        500 http://archive.ubuntu.com/ubuntu bionic/multiverse amd64 Packages\n"
     ]
    },
    {
     "name": "stderr",
     "output_type": "stream",
     "text": [
      "\n",
      "WARNING: apt does not have a stable CLI interface. Use with caution in scripts.\n",
      "\n"
     ]
    }
   ],
   "source": [
    "%%bash\n",
    "#!/bin/bash\n",
    "\n",
    "# search for package version\n",
    "apt policy virtualbox"
   ]
  }
 ],
 "metadata": {
  "kernelspec": {
   "display_name": "Python 3",
   "language": "python",
   "name": "python3"
  },
  "language_info": {
   "codemirror_mode": {
    "name": "ipython",
    "version": 3
   },
   "file_extension": ".py",
   "mimetype": "text/x-python",
   "name": "python",
   "nbconvert_exporter": "python",
   "pygments_lexer": "ipython3",
   "version": "3.6.8"
  }
 },
 "nbformat": 4,
 "nbformat_minor": 2
}
