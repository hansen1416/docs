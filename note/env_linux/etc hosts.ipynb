{
 "cells": [
  {
   "cell_type": "markdown",
   "metadata": {},
   "source": [
    "> Can I map a IP address and a port with /etc/hosts\n",
    "\n",
    "No.\n",
    "\n",
    "The `/etc/hosts` file is part of your system's domain name resolver (it will check this file, then check DNS).\n",
    "\n",
    "The resolver's job is to convert text domain names to an IP address, not an IP address + port.\n",
    "\n",
    "Some applications like Minecraft support checking a DNS server's SRV record and can use a port number from that, but again, this is dependent on the program's behavior and can't be done from your `/etc/hosts` file.\n",
    "\n"
   ]
  }
 ],
 "metadata": {
  "kernelspec": {
   "display_name": "Python 3",
   "language": "python",
   "name": "python3"
  },
  "language_info": {
   "codemirror_mode": {
    "name": "ipython",
    "version": 3
   },
   "file_extension": ".py",
   "mimetype": "text/x-python",
   "name": "python",
   "nbconvert_exporter": "python",
   "pygments_lexer": "ipython3",
   "version": "3.6.8"
  }
 },
 "nbformat": 4,
 "nbformat_minor": 2
}
