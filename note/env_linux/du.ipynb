{
 "cells": [
  {
   "cell_type": "code",
   "execution_count": 1,
   "metadata": {},
   "outputs": [
    {
     "name": "stdout",
     "output_type": "stream",
     "text": [
      "16K\t./hardware\n",
      "96K\t./.ipynb_checkpoints\n",
      "228K\t.\n",
      "228K\ttotal\n"
     ]
    }
   ],
   "source": [
    "%%bash\n",
    "#!/usr/bash\n",
    "\n",
    "du -chd 1 | sort -h"
   ]
  },
  {
   "cell_type": "code",
   "execution_count": 6,
   "metadata": {},
   "outputs": [
    {
     "name": "stdout",
     "output_type": "stream",
     "text": [
      "3.6G\t/home/hlz/anaconda3/envs/\n"
     ]
    }
   ],
   "source": [
    "%%bash\n",
    "#!/usr/bash\n",
    "\n",
    "du -hs ~/anaconda3/envs/"
   ]
  },
  {
   "cell_type": "code",
   "execution_count": 4,
   "metadata": {},
   "outputs": [
    {
     "name": "stdout",
     "output_type": "stream",
     "text": [
      "8.0K\t/root/.jupyter\n",
      "7.5M\t/root/.ipython\n",
      "576K\t/root/.local\n",
      "22M\t/root/.cache\n",
      "30M\t/root/\n"
     ]
    }
   ],
   "source": [
    "%%bash\n",
    "#!/usr/bash\n",
    "\n",
    "du -h --max-depth=1 ~/"
   ]
  }
 ],
 "metadata": {
  "kernelspec": {
   "display_name": "Python 3",
   "language": "python",
   "name": "python3"
  },
  "language_info": {
   "codemirror_mode": {
    "name": "ipython",
    "version": 3
   },
   "file_extension": ".py",
   "mimetype": "text/x-python",
   "name": "python",
   "nbconvert_exporter": "python",
   "pygments_lexer": "ipython3",
   "version": "3.6.8"
  }
 },
 "nbformat": 4,
 "nbformat_minor": 2
}
