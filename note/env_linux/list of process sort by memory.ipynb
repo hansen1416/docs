{
 "cells": [
  {
   "cell_type": "code",
   "execution_count": 1,
   "metadata": {},
   "outputs": [
    {
     "name": "stdout",
     "output_type": "stream",
     "text": [
      "root        10  1.4  0.3 542232 49124 ?        Ssl  03:27   0:00 /usr/local/bin/python -m ipykernel_launcher -f /root/.local/share/jupyter/runtime/kernel-33fc7304-259a-4b98-9ff4-8d0e7926e34a.json\n",
      "root         6  0.0  0.3 244780 61912 pts/0    Sl+  01:52   0:01 /usr/local/bin/python /usr/local/bin/jupyter-notebook --ip 0.0.0.0 --port 8100 --allow-root\n",
      "root        27  0.0  0.0   4060   748 ?        S    03:28   0:00 head -5\n",
      "root        26  0.0  0.0  20784   796 ?        S    03:28   0:00 sort -rnk 4\n",
      "root        25  0.0  0.0   9392  3048 ?        R    03:28   0:00 ps aux\n"
     ]
    }
   ],
   "source": [
    "%%bash\n",
    "\n",
    "#!/bin/bash\n",
    "\n",
    "# sort is being used with the -r (reverse), the -n (numeric) and the -k (key) options\n",
    "\n",
    "ps aux | sort -rnk 4 | head -5"
   ]
  },
  {
   "cell_type": "code",
   "execution_count": 2,
   "metadata": {},
   "outputs": [
    {
     "name": "stdout",
     "output_type": "stream",
     "text": [
      "USER       PID %CPU %MEM    VSZ   RSS TTY      STAT START   TIME COMMAND\n",
      "root        10  0.2  0.3 542232 49228 ?        Ssl  03:27   0:00 /usr/local/bin/python -m ipykernel_launcher -f /root/.local/share/jupyter/runtime/kernel-33fc7304-259a-4b98-9ff4-8d0e7926e34a.json\n",
      "root         6  0.0  0.3 244780 62084 pts/0    Sl+  01:52   0:01 /usr/local/bin/python /usr/local/bin/jupyter-notebook --ip 0.0.0.0 --port 8100 --allow-root\n",
      "root        33  0.0  0.0   5488   256 ?        R    03:31   0:00 bash\n",
      "root        32  0.0  0.0  20784   792 ?        S    03:31   0:00 sort -rnk 4\n",
      "root        31  0.0  0.0   9392  3096 ?        R    03:31   0:00 ps aux\n"
     ]
    }
   ],
   "source": [
    "%%bash\n",
    "\n",
    "#!/bin/bash\n",
    "\n",
    "# If we first display the heading for the ps output, this is a little easier to see.\n",
    "\n",
    "ps aux | head -1; ps aux | sort -rnk 4 | head -5"
   ]
  }
 ],
 "metadata": {
  "kernelspec": {
   "display_name": "Python 3",
   "language": "python",
   "name": "python3"
  },
  "language_info": {
   "codemirror_mode": {
    "name": "ipython",
    "version": 3
   },
   "file_extension": ".py",
   "mimetype": "text/x-python",
   "name": "python",
   "nbconvert_exporter": "python",
   "pygments_lexer": "ipython3",
   "version": "3.7.7"
  }
 },
 "nbformat": 4,
 "nbformat_minor": 4
}
