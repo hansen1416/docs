{
 "cells": [
  {
   "cell_type": "markdown",
   "metadata": {},
   "source": [
    "```\n",
    "dmesg\n",
    "```\n",
    "detect hard ware and boot message\n",
    "\n",
    "```\n",
    "cat /proc/cpuinfo\n",
    "\n",
    "cat /proc/meminfo\n",
    "\n",
    "cat /proc/interrupts\n",
    "\n",
    "lshw\n",
    "\n",
    "lsblk\n",
    "\n",
    "free -m\n",
    "\n",
    "lspci -tv\n",
    "```"
   ]
  }
 ],
 "metadata": {
  "kernelspec": {
   "display_name": "Python 3",
   "language": "python",
   "name": "python3"
  },
  "language_info": {
   "codemirror_mode": {
    "name": "ipython",
    "version": 3
   },
   "file_extension": ".py",
   "mimetype": "text/x-python",
   "name": "python",
   "nbconvert_exporter": "python",
   "pygments_lexer": "ipython3",
   "version": "3.6.8"
  }
 },
 "nbformat": 4,
 "nbformat_minor": 2
}
