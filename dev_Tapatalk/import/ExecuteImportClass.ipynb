{
 "cells": [
  {
   "cell_type": "markdown",
   "metadata": {},
   "source": [
    "Remeber to retry DB connection before use them."
   ]
  },
  {
   "cell_type": "markdown",
   "metadata": {},
   "source": [
    "```\n",
    "ExecuteImportClass\n",
    "@property hsImportRow\n",
    "Array\n",
    "(\n",
    "    [id] => 2\n",
    "    [target_forum_name] => vb4_test1\n",
    "    [source_forum_url] => http://vbulletin4.cc/\n",
    "    [source_host] => 127.0.0.1\n",
    "    [source_username] => hsuser\n",
    "    [source_password] => 123321\n",
    "    [source_dbname] => vb4\n",
    "    [source_table_prefix] => vb4_\n",
    "    [source_forum_type] => vb4\n",
    "    [status] => 1\n",
    "    [start_timestamp] => 1525250082\n",
    "    [end_timestamp] => 1524814613\n",
    "    [incremental] => 0\n",
    "    [itemtypes] => [\"configuration\"]\n",
    "    [options] => []\n",
    "    [language] => \n",
    "    [country] => \n",
    "    [category] => \n",
    "    [source_forum_network] => vbulletin.org\n",
    "    [source_forum_regemail] => hansen_vb4@163.com\n",
    "    [production] => 0\n",
    "    [announce_email_sent] => \n",
    "    [source_forum_id] => \n",
    ")\n",
    "```"
   ]
  }
 ],
 "metadata": {
  "kernelspec": {
   "display_name": "Python 2",
   "language": "python",
   "name": "python2"
  },
  "language_info": {
   "codemirror_mode": {
    "name": "ipython",
    "version": 2
   },
   "file_extension": ".py",
   "mimetype": "text/x-python",
   "name": "python",
   "nbconvert_exporter": "python",
   "pygments_lexer": "ipython2",
   "version": "2.7.13"
  }
 },
 "nbformat": 4,
 "nbformat_minor": 2
}
