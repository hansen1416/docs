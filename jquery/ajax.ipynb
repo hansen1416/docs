{
 "cells": [
  {
   "cell_type": "markdown",
   "metadata": {},
   "source": [
    "### send FormData object throuh jquery ajax"
   ]
  },
  {
   "cell_type": "raw",
   "metadata": {},
   "source": [
    "var fd = new FormData();    \n",
    "fd.append( 'file', input.files[0] );\n",
    "\n",
    "$.ajax({\n",
    "  url: 'http://example.com/script.php',\n",
    "  data: fd,\n",
    "  processData: false,\n",
    "  contentType: false,\n",
    "  type: 'POST',\n",
    "  success: function(data){\n",
    "    alert(data);\n",
    "  }\n",
    "});\n",
    "\n",
    "\n",
    "Setting processData to false lets you prevent jQuery from automatically transforming the data into a query string. See the docs for more info.\n",
    "\n",
    "Setting the contentType to false is imperative, since otherwise jQuery will set it incorrectly.r"
   ]
  }
 ],
 "metadata": {
  "kernelspec": {
   "display_name": "Python 2",
   "language": "python",
   "name": "python2"
  },
  "language_info": {
   "codemirror_mode": {
    "name": "ipython",
    "version": 2
   },
   "file_extension": ".py",
   "mimetype": "text/x-python",
   "name": "python",
   "nbconvert_exporter": "python",
   "pygments_lexer": "ipython2",
   "version": "2.7.13"
  }
 },
 "nbformat": 4,
 "nbformat_minor": 2
}
