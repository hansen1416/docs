{
 "cells": [
  {
   "cell_type": "markdown",
   "metadata": {},
   "source": [
    "https://hackernoon.com/understanding-the-underscore-of-python-309d1a029edc\n",
    "\n",
    "There are 5 cases for using the underscore in Python.\n",
    "\n",
    "1. For storing the value of last expression in interpreter.\n",
    "2. For ignoring the specific values. (so-called “I don’t care”)\n",
    "3. To give special meanings and functions to name of vartiables or functions.\n",
    "4. To use as ‘Internationalization(i18n)’ or ‘Localization(l10n)’ functions.\n",
    "5. To separate the digits of number literal value.\n"
   ]
  }
 ],
 "metadata": {
  "kernelspec": {
   "display_name": "Python 3",
   "language": "python",
   "name": "python3"
  },
  "language_info": {
   "codemirror_mode": {
    "name": "ipython",
    "version": 3
   },
   "file_extension": ".py",
   "mimetype": "text/x-python",
   "name": "python",
   "nbconvert_exporter": "python",
   "pygments_lexer": "ipython3",
   "version": "3.7.2"
  }
 },
 "nbformat": 4,
 "nbformat_minor": 2
}
