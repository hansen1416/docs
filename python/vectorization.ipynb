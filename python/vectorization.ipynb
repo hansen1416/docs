{
 "cells": [
  {
   "cell_type": "code",
   "execution_count": null,
   "metadata": {},
   "outputs": [],
   "source": [
    "# Python for loops are inherently slower than their C counterpart.\n",
    "\n",
    "# This is why numpy offers vectorized actions on numpy arrays. \n",
    "# It pushes the for loop you would usually do in Python down to the C level, which is much faster. \n",
    "# numpy offers vectorized (\"C level for loop\") alternatives to things that otherwise would need to be done in an element-wise manner (\"Python level for loop).\n",
    "\n",
    "import numpy as np\n",
    "from timeit import Timer\n",
    "\n",
    "li = list(range(500000))\n",
    "nump_arr = np.array(li)\n",
    "\n",
    "def python_for():\n",
    "    return [num + 1 for num in li]\n",
    "\n",
    "def numpy_add():\n",
    "    return nump_arr + 1\n",
    "\n",
    "print(min(Timer(python_for).repeat(10, 10)))\n",
    "print(min(Timer(numpy_add).repeat(10, 10)))\n",
    "\n",
    "#  0.725692612368003\n",
    "#  0.01046598694200895"
   ]
  }
 ],
 "metadata": {
  "kernelspec": {
   "display_name": "Python 3",
   "language": "python",
   "name": "python3"
  },
  "language_info": {
   "codemirror_mode": {
    "name": "ipython",
    "version": 3
   },
   "file_extension": ".py",
   "mimetype": "text/x-python",
   "name": "python",
   "nbconvert_exporter": "python",
   "pygments_lexer": "ipython3",
   "version": "3.7.0"
  }
 },
 "nbformat": 4,
 "nbformat_minor": 2
}
