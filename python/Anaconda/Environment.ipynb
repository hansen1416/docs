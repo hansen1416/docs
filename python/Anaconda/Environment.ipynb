{
 "cells": [
  {
   "cell_type": "markdown",
   "metadata": {},
   "source": [
    "## Environment\n",
    "\n",
    "- create environment, env will be at path_to_anaconda/envs/env_name/\n",
    "```\n",
    "conda create -n env_name python=2 package_name_list\n",
    "```\n",
    "\n",
    "- go to the env\n",
    "```\n",
    "source activate env_name\n",
    "```\n",
    "\n",
    "- leave env\n",
    "```\n",
    "deactivate env_name\n",
    "```\n",
    "\n",
    "- view package list inside env, go to env folder\n",
    "```\n",
    "conda list\n",
    "```\n",
    "\n",
    "- list all env  \n",
    "```\n",
    "conda info --envs\n",
    "conda env list\n",
    "```\n",
    "\n",
    "- clone env\n",
    "```\n",
    "conda create --name env_name --clone old_env\n",
    "```\n",
    "\n",
    "- remove env \n",
    "```\n",
    "conda remove --name old_env --all\n",
    "conda env remove --name old_env\n",
    "```\n",
    "\n",
    "- export env\n",
    "```\n",
    "conda env export --name env_name > environment.yaml\n",
    "```\n",
    "\n",
    "- create env throgh env file\n",
    "``` \n",
    "conda env create -f environment.yaml\n",
    "```"
   ]
  }
 ],
 "metadata": {
  "kernelspec": {
   "display_name": "Python 3",
   "language": "python",
   "name": "python3"
  },
  "language_info": {
   "codemirror_mode": {
    "name": "ipython",
    "version": 3
   },
   "file_extension": ".py",
   "mimetype": "text/x-python",
   "name": "python",
   "nbconvert_exporter": "python",
   "pygments_lexer": "ipython3",
   "version": "3.6.8"
  }
 },
 "nbformat": 4,
 "nbformat_minor": 2
}
