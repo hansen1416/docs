{
 "cells": [
  {
   "cell_type": "markdown",
   "metadata": {},
   "source": [
    "## install and remove package \n",
    "- install a package to enviroment ud20\n",
    "```\n",
    "conda install --name ud20 matplotlib\n",
    "```  \n",
    "\n",
    "- remove a package from enviroment ud20\n",
    "```\n",
    "conda remove --name ud20 matplotlib\n",
    "```\n",
    "\n",
    "## Viewing a list of the packages in an environment\n",
    "To see a list of all packages installed in a specific environment:\n",
    "- If the environment is not activated, in your Terminal window or an Anaconda Prompt, run:\n",
    "```\n",
    "conda list -n myenv\n",
    "```\n",
    "\n",
    "- If the environment is activated, in your Terminal window or an Anaconda Prompt, run:\n",
    "```\n",
    "conda list\n",
    "```\n",
    "\n",
    "To see if a specific package is installed in an environment, in your Terminal window or an Anaconda Prompt, run:\n",
    "\n",
    "```\n",
    "conda list -n myenv scipy\n",
    "```"
   ]
  },
  {
   "cell_type": "markdown",
   "metadata": {},
   "source": [
    "pip install pygame\n",
    "pip install tensorflow\n",
    "git clone https://github.com/yenchenlin/DeepLearningFlappyBird.git\n",
    "cd DeepLearningFlappyBird\n",
    "python deep_q_network.py"
   ]
  }
 ],
 "metadata": {
  "kernelspec": {
   "display_name": "Python 3",
   "language": "python",
   "name": "python3"
  },
  "language_info": {
   "codemirror_mode": {
    "name": "ipython",
    "version": 3
   },
   "file_extension": ".py",
   "mimetype": "text/x-python",
   "name": "python",
   "nbconvert_exporter": "python",
   "pygments_lexer": "ipython3",
   "version": "3.6.8"
  }
 },
 "nbformat": 4,
 "nbformat_minor": 2
}
