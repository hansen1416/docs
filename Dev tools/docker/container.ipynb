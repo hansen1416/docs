{
 "cells": [
  {
   "cell_type": "markdown",
   "metadata": {},
   "source": [
    "```\n",
    "docker build -t friendlyhello .  # Create image using this directory's Dockerfile\n",
    "docker run -p 4000:80 friendlyhello  # Run \"friendlyname\" mapping port 4000 to 80\n",
    "docker run -d -p 4000:80 friendlyhello         # Same thing, but in detached mode\n",
    "docker container ls                                # List all running containers\n",
    "docker container ls -a             # List all containers, even those not running\n",
    "docker container stop <hash>           # Gracefully stop the specified container\n",
    "docker container kill <hash>         # Force shutdown of the specified container\n",
    "docker container rm <hash>        # Remove specified container from this machine\n",
    "docker container rm $(docker container ls -a -q)         # Remove all containers\n",
    "docker image ls -a                             # List all images on this machine\n",
    "docker image rm <image id>            # Remove specified image from this machine\n",
    "docker image rm $(docker image ls -a -q)   # Remove all images from this machine\n",
    "docker login             # Log in this CLI session using your Docker credentials\n",
    "docker tag <image> username/repository:tag  # Tag <image> for upload to registry\n",
    "docker push username/repository:tag            # Upload tagged image to registry\n",
    "docker run username/repository:tag                   # Run image from a registry\n",
    "```"
   ]
  },
  {
   "cell_type": "markdown",
   "metadata": {},
   "source": [
    "- get container ip\n",
    "```\n",
    "docker inspect -f '{{range .NetworkSettings.Networks}}{{.IPAddress}}{{end}}' container_name_or_id\n",
    "```\n",
    "```\n",
    "docker inspect <container id> | grep \"IPAddress\"\n",
    "```"
   ]
  },
  {
   "cell_type": "markdown",
   "metadata": {},
   "source": [
    "```\n",
    "docker run -idt --name php56 -v /home/hlz/tapatalk/forum-hosting:/var/www/forum-hosting -p 81:80 ubuntu:16.04\n",
    "```"
   ]
  }
 ],
 "metadata": {
  "kernelspec": {
   "display_name": "Python 2",
   "language": "python",
   "name": "python2"
  },
  "language_info": {
   "codemirror_mode": {
    "name": "ipython",
    "version": 2
   },
   "file_extension": ".py",
   "mimetype": "text/x-python",
   "name": "python",
   "nbconvert_exporter": "python",
   "pygments_lexer": "ipython2",
   "version": "2.7.13"
  }
 },
 "nbformat": 4,
 "nbformat_minor": 2
}
