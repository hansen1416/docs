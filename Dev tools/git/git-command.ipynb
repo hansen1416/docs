{
 "cells": [
  {
   "cell_type": "markdown",
   "metadata": {},
   "source": [
    "## git archive\n",
    "\n",
    "\n",
    "Probably the simplest way to achieve this is with git archive. If you really need just the expanded tree you can do something like this.\n",
    "```\n",
    "git archive master | tar -x -C /somewhere/else\n",
    "```\n",
    "Most of the time that I need to 'export' something from git, I want a compressed archive in any case so I do something like this.\n",
    "```\n",
    "git archive master | bzip2 >source-tree.tar.bz2\n",
    "```\n",
    "ZIP archive:\n",
    "```\n",
    "git archive --format zip --output /full/path/to/zipfile.zip master \n",
    "```\n",
    "git help archive for more details, it's quite flexible.\n",
    "\n",
    "Note: If you are interested in exporting the index, the command is\n",
    "```\n",
    "git checkout-index -a -f --prefix=/destination/path/\n",
    "```"
   ]
  },
  {
   "cell_type": "markdown",
   "metadata": {},
   "source": [
    "# credential\n",
    "\n",
    "## git-credential-store\n",
    "\n",
    "`git config credential.helper 'store [options]'`\n",
    "\n",
    "eg.\n",
    "\n",
    "Retype:\n",
    "\n",
    "```\n",
    "git config credential.helper store\n",
    "```\n",
    "And then you will be prompted to enter your credentials again\n",
    "`git push origin hanson`  \n",
    "- save multiple credential in each file  \n",
    "  \n",
    "`git config credential.helper 'store --file ~/.tapatalk-credential'`\n",
    "\n",
    "## git-credential-cache\n",
    "\n",
    "`git config credential.helper 'cache --timeout=36000'`"
   ]
  },
  {
   "cell_type": "markdown",
   "metadata": {},
   "source": [
    "## checkout\n",
    "\n",
    "- check out one file from remote branch  \n",
    "  \n",
    "`git fetch`   \n",
    "`git checkout origin/master -- path/to/file`\n",
    "  \n",
    "## reset  \n",
    "- cancel added files\n",
    "\n",
    "```\n",
    "git reset <filename>\n",
    "```\n",
    "- revert most recent commit\n",
    "\n",
    "```\n",
    "git reset --soft HEAD~1\n",
    "```"
   ]
  },
  {
   "cell_type": "markdown",
   "metadata": {},
   "source": [
    "## cherry-pick\n",
    "- Cherry picking in Git is designed to apply some commit from one branch into another branch. It can be done if you eg. made a mistake and committed a change into wrong branch, but do not want to merge the whole branch. You can just eg. revert the commit and cherry-pick it on another branch.\n",
    "  \n",
    "- To use it, you just need git cherry-pick hash, where hash is a commit hash from other branch.  \n",
    "  \n",
    "`git cherry-pick <commit-hash>`  \n",
    "\n",
    "## permission  \n",
    "- ignore file permission  \n",
    "`git config core.fileMode false`\n",
    "\n",
    "## branch  \n",
    "- Delete Local Branch  \n",
    "`git branch -d branch_name`  \n",
    "- If there are unmerged changes which you are confident of deleting:  \n",
    "`git branch -D <branch_name>`  \n",
    "\n",
    "- delete remote branch  \n",
    "`git push origin --delete <branch_name>`  \n",
    "\n",
    "- If you want to rename a branch while pointed to any branch, do:  \n",
    "`git branch -m <oldname> <newname>`  \n",
    "- If you want to rename the current branch, you can do:  \n",
    "`git branch -m <newname>`  \n",
    "\n",
    "## diff\n",
    "- compare file from two different branches\n",
    "`git diff mybranch master -- myfile.cs`\n",
    "`git diff mybranch..master -- myfile.cs`\n",
    "\n",
    "\n",
    "You may also be interested in mybranch...master (from git diff docs):  \n",
    "\n",
    "This form is to view the changes on the branch containing and up to the second <commit>, starting at a common ancestor of both <commit>. git diff A...B is equivalent to git diff $(git-merge-base A B) B.  \n",
    "In other words, this will give a diff of changes in master since it diverged from mybranch (but without new changes since then in mybranch).\n"
   ]
  },
  {
   "cell_type": "markdown",
   "metadata": {},
   "source": [
    "## remote\n",
    "```\n",
    "git remote prune origin\n",
    "```\n",
    "\n",
    "to remove any old, conflicting branches, when you get error \"unable to update local ref\" due to branch names like \"abcd\" and \"abcd/efg\""
   ]
  },
  {
   "cell_type": "markdown",
   "metadata": {},
   "source": [
    "## .gitignore\n",
    "\n",
    "if don't want to track a file or folder anymore, run\n",
    "\n",
    "```\n",
    "git rm -r --cached .ipynb-checkpoints\n",
    "```"
   ]
  },
  {
   "cell_type": "markdown",
   "metadata": {},
   "source": [
    "## rm\n",
    "\n",
    "remove tracked files from cache (untrack a file)\n",
    "```\n",
    "git rm -r --cached ./data/.DS_Store\n",
    "```\n",
    "to untrack all\n",
    "```\n",
    "git rm -r --cached .\n",
    "```"
   ]
  }
 ],
 "metadata": {
  "kernelspec": {
   "display_name": "Python 3",
   "language": "python",
   "name": "python3"
  },
  "language_info": {
   "codemirror_mode": {
    "name": "ipython",
    "version": 3
   },
   "file_extension": ".py",
   "mimetype": "text/x-python",
   "name": "python",
   "nbconvert_exporter": "python",
   "pygments_lexer": "ipython3",
   "version": "3.6.8"
  }
 },
 "nbformat": 4,
 "nbformat_minor": 2
}
