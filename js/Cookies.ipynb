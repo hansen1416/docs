{
 "cells": [
  {
   "cell_type": "markdown",
   "metadata": {},
   "source": [
    "### IE11 win7\n",
    "\n",
    "- max-age may not work on IE11 win7, must set expires, otherwise the cookie will be deleted after the session ends.\n",
    "- and expires=; will not work, the cookie will not be saved, must remove expires altogether."
   ]
  }
 ],
 "metadata": {
  "kernelspec": {
   "display_name": "Python 2",
   "language": "python",
   "name": "python2"
  }
 },
 "nbformat": 4,
 "nbformat_minor": 2
}
