{
 "cells": [
  {
   "cell_type": "markdown",
   "metadata": {},
   "source": [
    "### IE11 win7\n",
    "\n",
    "- max-age may not work on IE11 win7, must set expires, otherwise the cookie will be deleted after the session ends.\n",
    "- and expires=; will not work, the cookie will not be saved, must remove expires altogether."
   ]
  },
  {
   "cell_type": "markdown",
   "metadata": {},
   "source": [
    "> local.test.com will be used for the domain, while .local.test.com will be used for subdomains too.\n",
    "\n",
    "> To clarify based on another answer, the dot used to make a difference, but now it doesn't. The cookie will be sent to any subdomain of the specified domain, with or without the leading dot. What actually controls whether it's passed to subdomains is whether you set a domain on the cookie or not. If you set no domain at all, then the cookie will only be sent to the exact domain that issued it. It will never be sent to less-specific parent domains (e.g. \"local.test.com\" will not be included in requests to \"test.com\"), and it will only be sent to matching subdomains if you set a domain value.\n",
    "\n",
    "> @Triynko, the dot makes a difference when you are tying to update a cookie. I have not managed to isolate all the rules, but I have seen results vary based on the presence of the leading dot or not, and it not straight forward. How this works varies by browser and is not all intuitive. Controlling whether or not a cookiename has a leading dot on the browser is not the simplest programming task I ever did.\n",
    "\n",
    "> IE behavior is different in this regard. See https://github.com/js-cookie/js-cookie/tree/8b70250875f7e07445b6a457f9c2474ead4cba44#domain"
   ]
  }
 ],
 "metadata": {
  "kernelspec": {
   "display_name": "Python 2",
   "language": "python",
   "name": "python2"
  },
  "language_info": {
   "codemirror_mode": {
    "name": "ipython",
    "version": 2
   },
   "file_extension": ".py",
   "mimetype": "text/x-python",
   "name": "python",
   "nbconvert_exporter": "python",
   "pygments_lexer": "ipython2",
   "version": "2.7.13"
  }
 },
 "nbformat": 4,
 "nbformat_minor": 2
}
