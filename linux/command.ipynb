{
 "cells": [
  {
   "cell_type": "markdown",
   "metadata": {},
   "source": [
    "# command"
   ]
  },
  {
   "cell_type": "code",
   "execution_count": null,
   "metadata": {
    "collapsed": true
   },
   "outputs": [],
   "source": [
    "%%bash\n",
    "#!/bin/bash/\n",
    "\n",
    "# task must under your account\n",
    "killall"
   ]
  },
  {
   "cell_type": "code",
   "execution_count": null,
   "metadata": {
    "collapsed": true
   },
   "outputs": [],
   "source": [
    "%%bash\n",
    "#!/bin/bash/\n",
    "\n",
    "# touch create files\n",
    "# touch a existing file, change the access time\n",
    "# create flag file\n",
    "touch"
   ]
  },
  {
   "cell_type": "code",
   "execution_count": 6,
   "metadata": {
    "collapsed": true
   },
   "outputs": [],
   "source": [
    "%%bash\n",
    "#!/bin/bash/\n",
    "# find where is your program\n",
    "which"
   ]
  },
  {
   "cell_type": "code",
   "execution_count": null,
   "metadata": {
    "collapsed": true
   },
   "outputs": [],
   "source": [
    "%%bash\n",
    "#!/bin/bash/\n",
    "# test wensite connection, -c 3 means only 3 times\n",
    "ping www.google.com -c 3"
   ]
  },
  {
   "cell_type": "code",
   "execution_count": 15,
   "metadata": {
    "collapsed": true
   },
   "outputs": [],
   "source": [
    "%%bash\n",
    "#!/bin/bash/\n",
    "# read long file\n",
    "less"
   ]
  },
  {
   "cell_type": "code",
   "execution_count": null,
   "metadata": {
    "collapsed": true
   },
   "outputs": [],
   "source": [
    "%%bash\n",
    "#!/bin/bash/\n",
    "# show all the drivers\n",
    "sudo blkid"
   ]
  },
  {
   "cell_type": "code",
   "execution_count": null,
   "metadata": {
    "collapsed": true
   },
   "outputs": [],
   "source": [
    "%%bash\n",
    "#!/bin/bash/\n",
    "# show the menu page of a command\n",
    "man ls"
   ]
  },
  {
   "cell_type": "code",
   "execution_count": null,
   "metadata": {
    "collapsed": true
   },
   "outputs": [],
   "source": [
    "%%bash\n",
    "#!/bin/bash/\n",
    "# get the head of a file, -n 10 means show 10 lines\n",
    "head -n 10 /home/hlz/Downloads/Anaconda2-4.4.0-Linux-x86_64.sh"
   ]
  },
  {
   "cell_type": "code",
   "execution_count": null,
   "metadata": {
    "collapsed": true
   },
   "outputs": [],
   "source": [
    "%%bash\n",
    "#!/bin/bash/\n",
    "# \n",
    "tail -n +2 -f /var/log/nginx/access.log"
   ]
  },
  {
   "cell_type": "code",
   "execution_count": null,
   "metadata": {
    "collapsed": true
   },
   "outputs": [],
   "source": [
    "%%bash\n",
    "#!/bin/bash/\n",
    "# show the environment of current shell\n",
    "env"
   ]
  },
  {
   "cell_type": "code",
   "execution_count": null,
   "metadata": {
    "collapsed": true
   },
   "outputs": [],
   "source": [
    "%%bash\n",
    "#!/bin/bash/\n",
    "# show set of current sehll\n",
    "set"
   ]
  },
  {
   "cell_type": "code",
   "execution_count": null,
   "metadata": {
    "collapsed": true
   },
   "outputs": [],
   "source": [
    "%%bash\n",
    "#!/bin/bash/\n",
    "# show linux distribution information\n",
    "more /etc/*release"
   ]
  },
  {
   "cell_type": "code",
   "execution_count": null,
   "metadata": {
    "collapsed": true
   },
   "outputs": [],
   "source": [
    "%%bash\n",
    "#!/bin/bash/\n",
    "# show cpu information, grep proc show how much processors\n",
    "cat /proc/cpuinfo | grep proc"
   ]
  },
  {
   "cell_type": "code",
   "execution_count": null,
   "metadata": {
    "collapsed": true
   },
   "outputs": [],
   "source": [
    "%%bash\n",
    "#!/bin/bash/\n",
    "# shwo memory infornation\n",
    "cat /proc/meminfo | grep Mem\n",
    "# show free memeory information, -h gives human readable information\n",
    "free -h"
   ]
  },
  {
   "cell_type": "code",
   "execution_count": null,
   "metadata": {
    "collapsed": true
   },
   "outputs": [],
   "source": [
    "%%bash\n",
    "#!/bin/bash/\n",
    "# show user information\n",
    "uname -a"
   ]
  },
  {
   "cell_type": "code",
   "execution_count": null,
   "metadata": {
    "collapsed": true
   },
   "outputs": [],
   "source": [
    "%%bash\n",
    "#!/bin/bash/\n",
    "# show bootstrap of the conel\n",
    "dmesg -H"
   ]
  },
  {
   "cell_type": "code",
   "execution_count": null,
   "metadata": {
    "collapsed": true
   },
   "outputs": [],
   "source": [
    "%%bash\n",
    "#!/bin/bash/\n",
    "# The pushd command saves the current working directory in memory so it can be returned to at any time, \n",
    "# optionally changing to a new directory. \n",
    "# The popd command returns to the path at the top of the directory stack.\n",
    "pushd /etc; pushd ~/home\n",
    "popd; popd"
   ]
  },
  {
   "cell_type": "code",
   "execution_count": null,
   "metadata": {
    "collapsed": true
   },
   "outputs": [],
   "source": [
    "%%bash\n",
    "#!/bin/bash/\n",
    "# find\n",
    "find /etc/ -name *.conf -exec grep netmasks {} \\;"
   ]
  },
  {
   "cell_type": "code",
   "execution_count": null,
   "metadata": {
    "collapsed": true
   },
   "outputs": [],
   "source": [
    "%%bash\n",
    "#!/bin/bash\n",
    "\n",
    "# A single line is displayed on the monitor screen \n",
    "# for each man page that contains one or more of the keyword(s) in its NAME section. \n",
    "# The NAME section, which is the minimum required for every man page, \n",
    "# consists of a single line containing the page's title \n",
    "# (i.e., the name of the command or other topic) and a very brief description.\n",
    "apropos keywaords"
   ]
  },
  {
   "cell_type": "code",
   "execution_count": null,
   "metadata": {
    "collapsed": true
   },
   "outputs": [],
   "source": [
    "%%bash\n",
    "#!/bin/bash\n",
    "# show the space on varies monted device\n",
    "df -h"
   ]
  },
  {
   "cell_type": "code",
   "execution_count": null,
   "metadata": {
    "collapsed": true
   },
   "outputs": [],
   "source": [
    "%%bash\n",
    "#!/bin/bash\n",
    "#show size of folders\n",
    "du -hsBM /var/* | sort -n"
   ]
  },
  {
   "cell_type": "code",
   "execution_count": null,
   "metadata": {
    "collapsed": true
   },
   "outputs": [],
   "source": [
    "%%bash\n",
    "#!/bin/bash\n",
    "# create a tree of processes\n",
    "pstree -pa"
   ]
  },
  {
   "cell_type": "code",
   "execution_count": null,
   "metadata": {
    "collapsed": true
   },
   "outputs": [],
   "source": [
    "%%bash\n",
    "#!/bin/bash/\n",
    "# shwo ip information\n",
    "ifconfig\n",
    "#\n",
    "ip address\n",
    "#\n",
    "ip addr\n",
    "#\n",
    "ip maddr"
   ]
  },
  {
   "cell_type": "code",
   "execution_count": null,
   "metadata": {
    "collapsed": true
   },
   "outputs": [],
   "source": [
    "%%bash\n",
    "#!/bin/bash/\n",
    "# show everything that is open\n",
    "lsof -i"
   ]
  },
  {
   "cell_type": "code",
   "execution_count": null,
   "metadata": {
    "collapsed": true
   },
   "outputs": [],
   "source": [
    "%%bash\n",
    "#!/bin/bash/\n",
    "# tty\n",
    "tty\n",
    "stty"
   ]
  },
  {
   "cell_type": "code",
   "execution_count": null,
   "metadata": {
    "collapsed": true
   },
   "outputs": [],
   "source": [
    "%%bash\n",
    "#!/bin/bash/\n",
    "# trace system calls and signals\n",
    "strace -p <process_id> -e trace=fiel,network"
   ]
  },
  {
   "cell_type": "code",
   "execution_count": null,
   "metadata": {
    "collapsed": true
   },
   "outputs": [],
   "source": [
    "%%bash\n",
    "#!/bin/bash/\n",
    "# Report virtual memory statistics\n",
    "vmstat -S M"
   ]
  }
 ],
 "metadata": {
  "kernelspec": {
   "display_name": "Python 2",
   "language": "python",
   "name": "python2"
  },
  "language_info": {
   "codemirror_mode": {
    "name": "ipython",
    "version": 2
   },
   "file_extension": ".py",
   "mimetype": "text/x-python",
   "name": "python",
   "nbconvert_exporter": "python",
   "pygments_lexer": "ipython2",
   "version": "2.7.13"
  }
 },
 "nbformat": 4,
 "nbformat_minor": 2
}
