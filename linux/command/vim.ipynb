{
 "cells": [
  {
   "cell_type": "markdown",
   "metadata": {},
   "source": [
    "# vim\n",
    "\n",
    "- go to line  \n",
    "```\n",
    "1475gg  \n",
    "1475G\n",
    "```\n",
    "\n",
    "- To display line numbers:  \n",
    "```\n",
    ":set number \n",
    ":set nu\n",
    "```\n",
    "\n",
    "- This will turn off the line number display:  \n",
    "```\n",
    ":set nonumber \n",
    ":set nonu \n",
    "```\n",
    "\n",
    "- The following command is useful because it toggles the display of line numbers. Assuming no numbers are currently displayed, this command will display them. Entering the command again will hide them.\n",
    "```\n",
    ":set nu!\n",
    "```"
   ]
  },
  {
   "cell_type": "markdown",
   "metadata": {},
   "source": [
    "## Cut and paste:\n",
    "\n",
    "- Position the cursor where you want to begin cutting.\n",
    "- Press v to select characters, or uppercase V to select whole lines, or Ctrl-v to select rectangular blocks (use  Ctrl-q if Ctrl-v is mapped to paste).\n",
    "- Move the cursor to the end of what you want to cut.\n",
    "- Press d to cut (or y to copy).\n",
    "- Move to where you would like to paste.\n",
    "- Press P to paste before the cursor, or p to paste after.\n",
    "  \n",
    "### Copy and paste is performed with the same steps except for step 4 where you would press y instead of d:\n",
    "  \n",
    "- d stands for delete in Vim, which in other editors is usually called cut\n",
    "- y stands for yank in Vim, which in other editors is usually called copy"
   ]
  }
 ],
 "metadata": {
  "kernelspec": {
   "display_name": "Python 2",
   "language": "python",
   "name": "python2"
  },
  "language_info": {
   "codemirror_mode": {
    "name": "ipython",
    "version": 2
   },
   "file_extension": ".py",
   "mimetype": "text/x-python",
   "name": "python",
   "nbconvert_exporter": "python",
   "pygments_lexer": "ipython2",
   "version": "2.7.13"
  }
 },
 "nbformat": 4,
 "nbformat_minor": 2
}
