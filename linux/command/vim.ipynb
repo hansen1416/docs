{
 "cells": [
  {
   "cell_type": "markdown",
   "metadata": {},
   "source": [
    "# vim\n",
    "\n",
    "- go to line  \n",
    "```\n",
    "1475gg  \n",
    "1475G\n",
    "```\n",
    "\n",
    "- To display line numbers:  \n",
    "```\n",
    ":set number \n",
    ":set nu\n",
    "```\n",
    "\n",
    "- This will turn off the line number display:  \n",
    "```\n",
    ":set nonumber \n",
    ":set nonu \n",
    "```\n",
    "\n",
    "- The following command is useful because it toggles the display of line numbers. Assuming no numbers are currently displayed, this command will display them. Entering the command again will hide them.\n",
    "```\n",
    ":set nu!\n",
    "```"
   ]
  }
 ],
 "metadata": {
  "kernelspec": {
   "display_name": "Python 2",
   "language": "python",
   "name": "python2"
  },
  "language_info": {
   "codemirror_mode": {
    "name": "ipython",
    "version": 2
   },
   "file_extension": ".py",
   "mimetype": "text/x-python",
   "name": "python",
   "nbconvert_exporter": "python",
   "pygments_lexer": "ipython2",
   "version": "2.7.13"
  }
 },
 "nbformat": 4,
 "nbformat_minor": 2
}
