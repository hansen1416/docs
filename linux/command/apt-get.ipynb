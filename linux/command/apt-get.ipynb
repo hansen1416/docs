{
 "cells": [
  {
   "cell_type": "markdown",
   "metadata": {},
   "source": [
    "### Problem: apt-get-repository Command is Missing\n",
    "To get the add-apt-repository command, install the software-properties-common package. For my Ubuntu version (precise), I also had to install the python-software-properties package:\n",
    "```\n",
    "$ sudo apt-get install software-properties-common python-software-properties\n",
    "```"
   ]
  },
  {
   "cell_type": "markdown",
   "metadata": {},
   "source": [
    "### public key is not available\n",
    "\n",
    "Execute the following commands in terminal\n",
    "\n",
    "```\n",
    "sudo apt-key adv --keyserver keyserver.ubuntu.com --recv-keys <PUBKEY>\n",
    "```\n",
    "where PUBKEY is your missing public key for repository, e.g. 8BAF9A6F.  \n",
    "Then update\n",
    "\n",
    "```\n",
    "sudo apt-get update\n",
    "```"
   ]
  }
 ],
 "metadata": {
  "kernelspec": {
   "display_name": "Python 2",
   "language": "python",
   "name": "python2"
  },
  "language_info": {
   "codemirror_mode": {
    "name": "ipython",
    "version": 2
   },
   "file_extension": ".py",
   "mimetype": "text/x-python",
   "name": "python",
   "nbconvert_exporter": "python",
   "pygments_lexer": "ipython2",
   "version": "2.7.13"
  }
 },
 "nbformat": 4,
 "nbformat_minor": 2
}
