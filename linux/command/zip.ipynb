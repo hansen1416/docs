{
 "cells": [
  {
   "cell_type": "markdown",
   "metadata": {},
   "source": [
    "中文乱码\n",
    "```\n",
    "unzip -O cp936 filename.zip\n",
    "```\n",
    "\n",
    "unzip 到目标文件夹\n",
    "```\n",
    "unzip a.zip -d target/\n",
    "```\n",
    "\n",
    "first (or by a graphical pkg-manager).\n",
    "\n",
    "Then, for an entry it would be the easiest way to use zip/unzip:\n",
    "```\n",
    "zip -r my_arch.zip my_folder\n",
    "```\n",
    "where -r means \"recursive\".\n",
    "\n",
    "To unzip you simply use\n",
    "```\n",
    "unzip my_arch.zip\n",
    "```\n",
    "Zip stores relative path names by default. There are several parameter-options available for zip. For that read: the manual (man zip). For a starting this will do.\n",
    "\n",
    "Most often you will see .tar.gz endings in linux-world. That's the product of two tools: TAR (the tape archiver) and GZIP (the GNU-Zip). Tar has got the call option to automatically gzip/gunzip files after \"taring\".\n",
    "```\n",
    "tar -cvzf may_arch.tar.gz my_folder\n",
    "```\n",
    "where\n",
    "\n",
    "- -c means \"create\"\n",
    "- -v means \"verbose\" (sometimes bothersome and slowing down...)\n",
    "- -z means \"use (GNU)zip\"\n",
    "- -f XYZ declares the name of the output file. (You should chose a helping name like XYZ.tar.gz)\n",
    "There may also be .tar.bz2 endings. This is the product of the -j parameter instead of the -z parameter: you will choose compression with BZIP2 (-> man bzip2).\n",
    "\n",
    "To extract you simply use -x (eXtract) instead of -c (Create):\n",
    "```\n",
    "tar -xvzf may_arch.tar.gz\n",
    "```\n",
    "Happy \"zipping\"!"
   ]
  }
 ],
 "metadata": {
  "kernelspec": {
   "display_name": "Python 3",
   "language": "python",
   "name": "python3"
  },
  "language_info": {
   "codemirror_mode": {
    "name": "ipython",
    "version": 3
   },
   "file_extension": ".py",
   "mimetype": "text/x-python",
   "name": "python",
   "nbconvert_exporter": "python",
   "pygments_lexer": "ipython3",
   "version": "3.7.0"
  }
 },
 "nbformat": 4,
 "nbformat_minor": 2
}
