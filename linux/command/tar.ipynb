{
 "cells": [
  {
   "cell_type": "markdown",
   "metadata": {},
   "source": [
    "If it's tar.gz use \n",
    "```\n",
    "tar xvzf PACKAGENAME.tar.gz\n",
    "```\n",
    "if it's a tar.bz2 use \n",
    "```\n",
    "tar xvjf PACKAGENAME.tar.bz2\n",
    "```"
   ]
  }
 ],
 "metadata": {
  "kernelspec": {
   "display_name": "Python 2",
   "language": "python",
   "name": "python2"
  },
  "language_info": {
   "codemirror_mode": {
    "name": "ipython",
    "version": 2
   },
   "file_extension": ".py",
   "mimetype": "text/x-python",
   "name": "python",
   "nbconvert_exporter": "python",
   "pygments_lexer": "ipython2",
   "version": "2.7.13"
  }
 },
 "nbformat": 4,
 "nbformat_minor": 2
}
