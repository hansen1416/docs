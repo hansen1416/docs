{
 "cells": [
  {
   "cell_type": "markdown",
   "metadata": {},
   "source": [
    "\n",
    "dpkg -i package.deb\t安装包    \n",
    "dpkg -r package\t删除包   \n",
    "dpkg -P package\t删除包（包括配置文件）  \n",
    "dpkg -L package\t列出与该包关联的文件  \n",
    "dpkg -l package\t显示该包的版本  \n",
    "dpkg –unpack package.deb\t解开 deb 包的内容  \n",
    "dpkg -S keyword\t搜索所属的包内容  \n",
    "dpkg -l\t列出当前已安装的包  \n",
    "dpkg -c package.deb\t列出 deb 包的内容  \n",
    "dpkg –configure package\t配置包  "
   ]
  }
 ],
 "metadata": {
  "kernelspec": {
   "display_name": "Python 2",
   "language": "python",
   "name": "python2"
  },
  "language_info": {
   "codemirror_mode": {
    "name": "ipython",
    "version": 2
   },
   "file_extension": ".py",
   "mimetype": "text/x-python",
   "name": "python",
   "nbconvert_exporter": "python",
   "pygments_lexer": "ipython2",
   "version": "2.7.13"
  }
 },
 "nbformat": 4,
 "nbformat_minor": 2
}
