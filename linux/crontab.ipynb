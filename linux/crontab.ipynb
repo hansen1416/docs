{
 "cells": [
  {
   "cell_type": "code",
   "execution_count": null,
   "metadata": {
    "collapsed": true
   },
   "outputs": [],
   "source": [
    "crontab -l\n",
    "\n",
    "crontab -e\n",
    "\n",
    "(m) (h) (dom) (moy) (wd) (cmd)\n",
    "* * * * *  echo 'hi there' >> /var/log/mycheckin\n",
    "* * * * * /usr/bin/php /home/hlz/tapatalk/forum-hosting/cron/job.php\n",
    "\n",
    "#packages where you installed\n",
    "ls /etc/cron.d/\n",
    "# system cron job\n",
    "sudo nano /etc/crontab\n",
    "#system cron allow\n",
    "less /etc/scron.allow\n",
    "\n",
    "# cron log\n",
    "tail -f /var/log/syslog\n",
    "\n",
    "# back up crontab and remove everything\n",
    "crontab -l > my_cron_backup.txt\n",
    "crontab -r\n",
    "# to restore\n",
    "crontab my_cron_backup.txt\n",
    "crontab -l"
   ]
  }
 ],
 "metadata": {
  "kernelspec": {
   "display_name": "Python 2",
   "language": "python",
   "name": "python2"
  },
  "language_info": {
   "codemirror_mode": {
    "name": "ipython",
    "version": 2
   },
   "file_extension": ".py",
   "mimetype": "text/x-python",
   "name": "python",
   "nbconvert_exporter": "python",
   "pygments_lexer": "ipython2",
   "version": "2.7.13"
  }
 },
 "nbformat": 4,
 "nbformat_minor": 2
}
