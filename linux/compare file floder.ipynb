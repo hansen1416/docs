{
 "cells": [
  {
   "cell_type": "code",
   "execution_count": 2,
   "metadata": {},
   "outputs": [
    {
     "name": "stderr",
     "output_type": "stream",
     "text": [
      "diff: File_1.txt: No such file or directory\n",
      "diff: File_2.txt: No such file or directory\n"
     ]
    }
   ],
   "source": [
    "%%bash\n",
    "\n",
    "# compare two files\n",
    "diff File_1.txt File_2.txt\n",
    "\n",
    "# compare two folders\n",
    "# Use find to list all the files in the directory then calculate the md5 hash for each file and pipe it to a file:\n",
    "find /dir1/ -type f -exec md5sum {} \\; > dir1.txt\n",
    "# Do the same procedure to the another directory:\n",
    "find /dir2/ -type f -exec md5sum {} \\; > dir2.txt\n",
    "# Then compare the result two files with \"diff\":\n",
    "diff dir1.txt dir2.txt\n",
    "#This strategy is very useful when the two directories to be compared are not in the same machine and you need to make sure that the files are equal in both directories.\n",
    "\n",
    "#Another good way to do the job is using git\n",
    "git diff --no-index dir1/ dir2/"
   ]
  }
 ],
 "metadata": {
  "kernelspec": {
   "display_name": "Python 2",
   "language": "python",
   "name": "python2"
  },
  "language_info": {
   "codemirror_mode": {
    "name": "ipython",
    "version": 2
   },
   "file_extension": ".py",
   "mimetype": "text/x-python",
   "name": "python",
   "nbconvert_exporter": "python",
   "pygments_lexer": "ipython2",
   "version": "2.7.13"
  }
 },
 "nbformat": 4,
 "nbformat_minor": 2
}
