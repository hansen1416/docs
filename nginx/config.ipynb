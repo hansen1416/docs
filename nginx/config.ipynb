{
 "cells": [
  {
   "cell_type": "raw",
   "metadata": {},
   "source": [
    "server {\n",
    "    listen 80;\n",
    "    server_name test.com;\n",
    "    # redirect rest.com to www.test.com\n",
    "    return 301 $scheme://www.test.com$redirect_uri;\n",
    "}\n",
    "\n",
    "server {\n",
    "    listen 80;\n",
    "    server_name www.test.com;\n",
    "    access_log /var/log/nginx/access.log;\n",
    "    \n",
    "    root /var/www/html/;\n",
    "    index\n",
    "}"
   ]
  },
  {
   "cell_type": "markdown",
   "metadata": {},
   "source": [
    "### Nginx configuration\n",
    "\n",
    "The client_max_body_size directive assigns the maximum accepted body size of client request, indicated by the line Content-Length in the header of request. If size is greater the given one, then the client gets the error “Request Entity Too Large” (413). To fix this issue edit your nginx.conf. Open the Terminal or login to the remote server using ssh client. Type the following command to edit your nginx.conf using a text editor such as vi or joe or nano:  \n",
    "`vim /etc/nginx/nginx.conf`  \n",
    "\n",
    "Add the following line to http or server or location context to increase the size limit in nginx.conf, enter:   \n",
    "\n",
    "#set client body size to 2M#   \n",
    "`client_max_body_size 2M;`   \n"
   ]
  },
  {
   "cell_type": "markdown",
   "metadata": {},
   "source": [
    "### PHP configuration (optional)\n",
    "\n",
    ";This sets the maximum amount of memory in bytes that a script is allowed to allocate   \n",
    "memory_limit = 32M   \n",
    "\n",
    ";The maximum size of an uploaded file.   \n",
    "upload_max_filesize = 2M   \n",
    "\n",
    ";Sets max size of post data allowed. This setting also affects file upload. To upload large files, this value must be larger than upload_max_filesize   \n",
    "post_max_size = 3M   "
   ]
  }
 ],
 "metadata": {
  "kernelspec": {
   "display_name": "Python 2",
   "language": "python",
   "name": "python2"
  },
  "language_info": {
   "codemirror_mode": {
    "name": "ipython",
    "version": 2
   },
   "file_extension": ".py",
   "mimetype": "text/x-python",
   "name": "python",
   "nbconvert_exporter": "python",
   "pygments_lexer": "ipython2",
   "version": "2.7.13"
  }
 },
 "nbformat": 4,
 "nbformat_minor": 2
}
